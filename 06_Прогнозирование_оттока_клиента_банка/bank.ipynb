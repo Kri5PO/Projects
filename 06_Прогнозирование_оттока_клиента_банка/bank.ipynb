{
 "cells": [
  {
   "cell_type": "markdown",
   "metadata": {
    "toc": true
   },
   "source": [
    "<h1>Содержание<span class=\"tocSkip\"></span></h1>\n",
    "<div class=\"toc\"><ul class=\"toc-item\"><li><span><a href=\"#Подготовка-данных\" data-toc-modified-id=\"Подготовка-данных-1\"><span class=\"toc-item-num\">1&nbsp;&nbsp;</span>Подготовка данных</a></span><ul class=\"toc-item\"><li><span><a href=\"#Изучение-исходных-данных\" data-toc-modified-id=\"Изучение-исходных-данных-1.1\"><span class=\"toc-item-num\">1.1&nbsp;&nbsp;</span>Изучение исходных данных</a></span><ul class=\"toc-item\"><li><span><a href=\"#Вывод\" data-toc-modified-id=\"Вывод-1.1.1\"><span class=\"toc-item-num\">1.1.1&nbsp;&nbsp;</span>Вывод</a></span></li></ul></li><li><span><a href=\"#Предобработка-данных\" data-toc-modified-id=\"Предобработка-данных-1.2\"><span class=\"toc-item-num\">1.2&nbsp;&nbsp;</span>Предобработка данных</a></span><ul class=\"toc-item\"><li><span><a href=\"#Вывод\" data-toc-modified-id=\"Вывод-1.2.1\"><span class=\"toc-item-num\">1.2.1&nbsp;&nbsp;</span>Вывод</a></span></li></ul></li></ul></li><li><span><a href=\"#Исследование-задачи\" data-toc-modified-id=\"Исследование-задачи-2\"><span class=\"toc-item-num\">2&nbsp;&nbsp;</span>Исследование задачи</a></span><ul class=\"toc-item\"><li><span><a href=\"#Decision-Tree-(Дерево-решений)\" data-toc-modified-id=\"Decision-Tree-(Дерево-решений)-2.1\"><span class=\"toc-item-num\">2.1&nbsp;&nbsp;</span>Decision Tree (Дерево решений)</a></span></li><li><span><a href=\"#Random-Forest-(Случайный-лес)\" data-toc-modified-id=\"Random-Forest-(Случайный-лес)-2.2\"><span class=\"toc-item-num\">2.2&nbsp;&nbsp;</span>Random Forest (Случайный лес)</a></span></li><li><span><a href=\"#Logistic-Regression-(Логистическая-регрессия)\" data-toc-modified-id=\"Logistic-Regression-(Логистическая-регрессия)-2.3\"><span class=\"toc-item-num\">2.3&nbsp;&nbsp;</span>Logistic Regression (Логистическая регрессия)</a></span></li><li><span><a href=\"#Catboost-(Градиентный-бустинг)\" data-toc-modified-id=\"Catboost-(Градиентный-бустинг)-2.4\"><span class=\"toc-item-num\">2.4&nbsp;&nbsp;</span>Catboost (Градиентный бустинг)</a></span></li><li><span><a href=\"#Вывод\" data-toc-modified-id=\"Вывод-2.5\"><span class=\"toc-item-num\">2.5&nbsp;&nbsp;</span>Вывод</a></span></li></ul></li><li><span><a href=\"#Борьба-с-дисбалансом\" data-toc-modified-id=\"Борьба-с-дисбалансом-3\"><span class=\"toc-item-num\">3&nbsp;&nbsp;</span>Борьба с дисбалансом</a></span><ul class=\"toc-item\"><li><span><a href=\"#Class-weight-(взвешивание-классов)\" data-toc-modified-id=\"Class-weight-(взвешивание-классов)-3.1\"><span class=\"toc-item-num\">3.1&nbsp;&nbsp;</span>Class weight (взвешивание классов)</a></span></li><li><span><a href=\"#Upsampling-(увеличение-выборки)\" data-toc-modified-id=\"Upsampling-(увеличение-выборки)-3.2\"><span class=\"toc-item-num\">3.2&nbsp;&nbsp;</span>Upsampling (увеличение выборки)</a></span></li><li><span><a href=\"#Downsampling-(уменьшение-выборки)\" data-toc-modified-id=\"Downsampling-(уменьшение-выборки)-3.3\"><span class=\"toc-item-num\">3.3&nbsp;&nbsp;</span>Downsampling (уменьшение выборки)</a></span></li><li><span><a href=\"#Вывод\" data-toc-modified-id=\"Вывод-3.4\"><span class=\"toc-item-num\">3.4&nbsp;&nbsp;</span>Вывод</a></span></li></ul></li><li><span><a href=\"#Тестирование-модели\" data-toc-modified-id=\"Тестирование-модели-4\"><span class=\"toc-item-num\">4&nbsp;&nbsp;</span>Тестирование модели</a></span><ul class=\"toc-item\"><li><span><a href=\"#Вывод\" data-toc-modified-id=\"Вывод-4.1\"><span class=\"toc-item-num\">4.1&nbsp;&nbsp;</span>Вывод</a></span></li></ul></li><li><span><a href=\"#Общий-вывод\" data-toc-modified-id=\"Общий-вывод-5\"><span class=\"toc-item-num\">5&nbsp;&nbsp;</span>Общий вывод</a></span></li></ul></div>"
   ]
  },
  {
   "cell_type": "markdown",
   "metadata": {},
   "source": [
    "# Отток клиентов"
   ]
  },
  {
   "cell_type": "markdown",
   "metadata": {},
   "source": [
    "Из «Бета-Банка» стали уходить клиенты. Каждый месяц. Немного, но заметно. Банковские маркетологи посчитали: сохранять текущих клиентов дешевле, чем привлекать новых.\n",
    "\n",
    "Нужно спрогнозировать, уйдёт клиент из банка в ближайшее время или нет. Вам предоставлены исторические данные о поведении клиентов и расторжении договоров с банком. \n",
    "\n",
    "Постройте модель с предельно большим значением *F1*-меры. Чтобы сдать проект успешно, нужно довести метрику до 0.59. Проверьте *F1*-меру на тестовой выборке самостоятельно.\n",
    "\n",
    "Дополнительно измеряйте *AUC-ROC*, сравнивайте её значение с *F1*-мерой.\n",
    "\n",
    "Источник данных: [https://www.kaggle.com/barelydedicated/bank-customer-churn-modeling](https://www.kaggle.com/barelydedicated/bank-customer-churn-modeling)"
   ]
  },
  {
   "cell_type": "markdown",
   "metadata": {},
   "source": [
    "## Подготовка данных"
   ]
  },
  {
   "cell_type": "markdown",
   "metadata": {},
   "source": [
    "### Изучение исходных данных"
   ]
  },
  {
   "cell_type": "code",
   "execution_count": 1,
   "metadata": {},
   "outputs": [],
   "source": [
    "# загрузка библиотек\n",
    "import pandas as pd\n",
    "import matplotlib.pyplot as plt\n",
    "\n",
    "from catboost import CatBoostClassifier\n",
    "from sklearn.ensemble import RandomForestClassifier \n",
    "from sklearn.linear_model import LogisticRegression \n",
    "from sklearn.tree import DecisionTreeClassifier\n",
    "\n",
    "from sklearn.metrics import accuracy_score, f1_score, recall_score, precision_score, roc_auc_score, roc_curve\n",
    "from sklearn.model_selection import train_test_split, GridSearchCV\n",
    "from sklearn.preprocessing import OrdinalEncoder, StandardScaler\n",
    "from sklearn.utils import shuffle"
   ]
  },
  {
   "cell_type": "code",
   "execution_count": 2,
   "metadata": {},
   "outputs": [],
   "source": [
    "# чтение файла с данными и сохранение в переменную df\n",
    "try:\n",
    "    df = pd.read_csv('C:/Users/79853/Documents/datascience/yandex/g Спринт8/Churn.csv')\n",
    "except:\n",
    "    df = pd.read_csv('/datasets/Churn.csv') # загрузка онлайн"
   ]
  },
  {
   "cell_type": "code",
   "execution_count": 3,
   "metadata": {},
   "outputs": [
    {
     "name": "stdout",
     "output_type": "stream",
     "text": [
      "<class 'pandas.core.frame.DataFrame'>\n",
      "RangeIndex: 10000 entries, 0 to 9999\n",
      "Data columns (total 14 columns):\n",
      " #   Column           Non-Null Count  Dtype  \n",
      "---  ------           --------------  -----  \n",
      " 0   RowNumber        10000 non-null  int64  \n",
      " 1   CustomerId       10000 non-null  int64  \n",
      " 2   Surname          10000 non-null  object \n",
      " 3   CreditScore      10000 non-null  int64  \n",
      " 4   Geography        10000 non-null  object \n",
      " 5   Gender           10000 non-null  object \n",
      " 6   Age              10000 non-null  int64  \n",
      " 7   Tenure           9091 non-null   float64\n",
      " 8   Balance          10000 non-null  float64\n",
      " 9   NumOfProducts    10000 non-null  int64  \n",
      " 10  HasCrCard        10000 non-null  int64  \n",
      " 11  IsActiveMember   10000 non-null  int64  \n",
      " 12  EstimatedSalary  10000 non-null  float64\n",
      " 13  Exited           10000 non-null  int64  \n",
      "dtypes: float64(3), int64(8), object(3)\n",
      "memory usage: 1.1+ MB\n"
     ]
    }
   ],
   "source": [
    "# получение общей информации о данных в таблице df\n",
    "df.info()"
   ]
  },
  {
   "cell_type": "code",
   "execution_count": 4,
   "metadata": {},
   "outputs": [
    {
     "data": {
      "text/plain": [
       "RowNumber          0.00\n",
       "CustomerId         0.00\n",
       "Surname            0.00\n",
       "CreditScore        0.00\n",
       "Geography          0.00\n",
       "Gender             0.00\n",
       "Age                0.00\n",
       "Tenure             9.09\n",
       "Balance            0.00\n",
       "NumOfProducts      0.00\n",
       "HasCrCard          0.00\n",
       "IsActiveMember     0.00\n",
       "EstimatedSalary    0.00\n",
       "Exited             0.00\n",
       "dtype: float64"
      ]
     },
     "execution_count": 4,
     "metadata": {},
     "output_type": "execute_result"
    }
   ],
   "source": [
    "# процент пропущенных значений в датасете\n",
    "df.isnull().sum() / df.shape[0] * 100"
   ]
  },
  {
   "cell_type": "code",
   "execution_count": 5,
   "metadata": {},
   "outputs": [
    {
     "data": {
      "text/html": [
       "<div>\n",
       "<style scoped>\n",
       "    .dataframe tbody tr th:only-of-type {\n",
       "        vertical-align: middle;\n",
       "    }\n",
       "\n",
       "    .dataframe tbody tr th {\n",
       "        vertical-align: top;\n",
       "    }\n",
       "\n",
       "    .dataframe thead th {\n",
       "        text-align: right;\n",
       "    }\n",
       "</style>\n",
       "<table border=\"1\" class=\"dataframe\">\n",
       "  <thead>\n",
       "    <tr style=\"text-align: right;\">\n",
       "      <th></th>\n",
       "      <th>count</th>\n",
       "      <th>mean</th>\n",
       "      <th>std</th>\n",
       "      <th>min</th>\n",
       "      <th>25%</th>\n",
       "      <th>50%</th>\n",
       "      <th>75%</th>\n",
       "      <th>max</th>\n",
       "    </tr>\n",
       "  </thead>\n",
       "  <tbody>\n",
       "    <tr>\n",
       "      <th>RowNumber</th>\n",
       "      <td>10000.0</td>\n",
       "      <td>5.000500e+03</td>\n",
       "      <td>2886.895680</td>\n",
       "      <td>1.00</td>\n",
       "      <td>2500.75</td>\n",
       "      <td>5.000500e+03</td>\n",
       "      <td>7.500250e+03</td>\n",
       "      <td>10000.00</td>\n",
       "    </tr>\n",
       "    <tr>\n",
       "      <th>CustomerId</th>\n",
       "      <td>10000.0</td>\n",
       "      <td>1.569094e+07</td>\n",
       "      <td>71936.186123</td>\n",
       "      <td>15565701.00</td>\n",
       "      <td>15628528.25</td>\n",
       "      <td>1.569074e+07</td>\n",
       "      <td>1.575323e+07</td>\n",
       "      <td>15815690.00</td>\n",
       "    </tr>\n",
       "    <tr>\n",
       "      <th>CreditScore</th>\n",
       "      <td>10000.0</td>\n",
       "      <td>6.505288e+02</td>\n",
       "      <td>96.653299</td>\n",
       "      <td>350.00</td>\n",
       "      <td>584.00</td>\n",
       "      <td>6.520000e+02</td>\n",
       "      <td>7.180000e+02</td>\n",
       "      <td>850.00</td>\n",
       "    </tr>\n",
       "    <tr>\n",
       "      <th>Age</th>\n",
       "      <td>10000.0</td>\n",
       "      <td>3.892180e+01</td>\n",
       "      <td>10.487806</td>\n",
       "      <td>18.00</td>\n",
       "      <td>32.00</td>\n",
       "      <td>3.700000e+01</td>\n",
       "      <td>4.400000e+01</td>\n",
       "      <td>92.00</td>\n",
       "    </tr>\n",
       "    <tr>\n",
       "      <th>Tenure</th>\n",
       "      <td>9091.0</td>\n",
       "      <td>4.997690e+00</td>\n",
       "      <td>2.894723</td>\n",
       "      <td>0.00</td>\n",
       "      <td>2.00</td>\n",
       "      <td>5.000000e+00</td>\n",
       "      <td>7.000000e+00</td>\n",
       "      <td>10.00</td>\n",
       "    </tr>\n",
       "    <tr>\n",
       "      <th>Balance</th>\n",
       "      <td>10000.0</td>\n",
       "      <td>7.648589e+04</td>\n",
       "      <td>62397.405202</td>\n",
       "      <td>0.00</td>\n",
       "      <td>0.00</td>\n",
       "      <td>9.719854e+04</td>\n",
       "      <td>1.276442e+05</td>\n",
       "      <td>250898.09</td>\n",
       "    </tr>\n",
       "    <tr>\n",
       "      <th>NumOfProducts</th>\n",
       "      <td>10000.0</td>\n",
       "      <td>1.530200e+00</td>\n",
       "      <td>0.581654</td>\n",
       "      <td>1.00</td>\n",
       "      <td>1.00</td>\n",
       "      <td>1.000000e+00</td>\n",
       "      <td>2.000000e+00</td>\n",
       "      <td>4.00</td>\n",
       "    </tr>\n",
       "    <tr>\n",
       "      <th>HasCrCard</th>\n",
       "      <td>10000.0</td>\n",
       "      <td>7.055000e-01</td>\n",
       "      <td>0.455840</td>\n",
       "      <td>0.00</td>\n",
       "      <td>0.00</td>\n",
       "      <td>1.000000e+00</td>\n",
       "      <td>1.000000e+00</td>\n",
       "      <td>1.00</td>\n",
       "    </tr>\n",
       "    <tr>\n",
       "      <th>IsActiveMember</th>\n",
       "      <td>10000.0</td>\n",
       "      <td>5.151000e-01</td>\n",
       "      <td>0.499797</td>\n",
       "      <td>0.00</td>\n",
       "      <td>0.00</td>\n",
       "      <td>1.000000e+00</td>\n",
       "      <td>1.000000e+00</td>\n",
       "      <td>1.00</td>\n",
       "    </tr>\n",
       "    <tr>\n",
       "      <th>EstimatedSalary</th>\n",
       "      <td>10000.0</td>\n",
       "      <td>1.000902e+05</td>\n",
       "      <td>57510.492818</td>\n",
       "      <td>11.58</td>\n",
       "      <td>51002.11</td>\n",
       "      <td>1.001939e+05</td>\n",
       "      <td>1.493882e+05</td>\n",
       "      <td>199992.48</td>\n",
       "    </tr>\n",
       "    <tr>\n",
       "      <th>Exited</th>\n",
       "      <td>10000.0</td>\n",
       "      <td>2.037000e-01</td>\n",
       "      <td>0.402769</td>\n",
       "      <td>0.00</td>\n",
       "      <td>0.00</td>\n",
       "      <td>0.000000e+00</td>\n",
       "      <td>0.000000e+00</td>\n",
       "      <td>1.00</td>\n",
       "    </tr>\n",
       "  </tbody>\n",
       "</table>\n",
       "</div>"
      ],
      "text/plain": [
       "                   count          mean           std          min  \\\n",
       "RowNumber        10000.0  5.000500e+03   2886.895680         1.00   \n",
       "CustomerId       10000.0  1.569094e+07  71936.186123  15565701.00   \n",
       "CreditScore      10000.0  6.505288e+02     96.653299       350.00   \n",
       "Age              10000.0  3.892180e+01     10.487806        18.00   \n",
       "Tenure            9091.0  4.997690e+00      2.894723         0.00   \n",
       "Balance          10000.0  7.648589e+04  62397.405202         0.00   \n",
       "NumOfProducts    10000.0  1.530200e+00      0.581654         1.00   \n",
       "HasCrCard        10000.0  7.055000e-01      0.455840         0.00   \n",
       "IsActiveMember   10000.0  5.151000e-01      0.499797         0.00   \n",
       "EstimatedSalary  10000.0  1.000902e+05  57510.492818        11.58   \n",
       "Exited           10000.0  2.037000e-01      0.402769         0.00   \n",
       "\n",
       "                         25%           50%           75%          max  \n",
       "RowNumber            2500.75  5.000500e+03  7.500250e+03     10000.00  \n",
       "CustomerId       15628528.25  1.569074e+07  1.575323e+07  15815690.00  \n",
       "CreditScore           584.00  6.520000e+02  7.180000e+02       850.00  \n",
       "Age                    32.00  3.700000e+01  4.400000e+01        92.00  \n",
       "Tenure                  2.00  5.000000e+00  7.000000e+00        10.00  \n",
       "Balance                 0.00  9.719854e+04  1.276442e+05    250898.09  \n",
       "NumOfProducts           1.00  1.000000e+00  2.000000e+00         4.00  \n",
       "HasCrCard               0.00  1.000000e+00  1.000000e+00         1.00  \n",
       "IsActiveMember          0.00  1.000000e+00  1.000000e+00         1.00  \n",
       "EstimatedSalary     51002.11  1.001939e+05  1.493882e+05    199992.48  \n",
       "Exited                  0.00  0.000000e+00  0.000000e+00         1.00  "
      ]
     },
     "execution_count": 5,
     "metadata": {},
     "output_type": "execute_result"
    }
   ],
   "source": [
    "# описание переменных\n",
    "df.describe().T"
   ]
  },
  {
   "cell_type": "code",
   "execution_count": 6,
   "metadata": {},
   "outputs": [
    {
     "data": {
      "text/html": [
       "<div>\n",
       "<style scoped>\n",
       "    .dataframe tbody tr th:only-of-type {\n",
       "        vertical-align: middle;\n",
       "    }\n",
       "\n",
       "    .dataframe tbody tr th {\n",
       "        vertical-align: top;\n",
       "    }\n",
       "\n",
       "    .dataframe thead th {\n",
       "        text-align: right;\n",
       "    }\n",
       "</style>\n",
       "<table border=\"1\" class=\"dataframe\">\n",
       "  <thead>\n",
       "    <tr style=\"text-align: right;\">\n",
       "      <th></th>\n",
       "      <th>RowNumber</th>\n",
       "      <th>CustomerId</th>\n",
       "      <th>Surname</th>\n",
       "      <th>CreditScore</th>\n",
       "      <th>Geography</th>\n",
       "      <th>Gender</th>\n",
       "      <th>Age</th>\n",
       "      <th>Tenure</th>\n",
       "      <th>Balance</th>\n",
       "      <th>NumOfProducts</th>\n",
       "      <th>HasCrCard</th>\n",
       "      <th>IsActiveMember</th>\n",
       "      <th>EstimatedSalary</th>\n",
       "      <th>Exited</th>\n",
       "    </tr>\n",
       "  </thead>\n",
       "  <tbody>\n",
       "    <tr>\n",
       "      <th>0</th>\n",
       "      <td>1</td>\n",
       "      <td>15634602</td>\n",
       "      <td>Hargrave</td>\n",
       "      <td>619</td>\n",
       "      <td>France</td>\n",
       "      <td>Female</td>\n",
       "      <td>42</td>\n",
       "      <td>2.0</td>\n",
       "      <td>0.00</td>\n",
       "      <td>1</td>\n",
       "      <td>1</td>\n",
       "      <td>1</td>\n",
       "      <td>101348.88</td>\n",
       "      <td>1</td>\n",
       "    </tr>\n",
       "    <tr>\n",
       "      <th>1</th>\n",
       "      <td>2</td>\n",
       "      <td>15647311</td>\n",
       "      <td>Hill</td>\n",
       "      <td>608</td>\n",
       "      <td>Spain</td>\n",
       "      <td>Female</td>\n",
       "      <td>41</td>\n",
       "      <td>1.0</td>\n",
       "      <td>83807.86</td>\n",
       "      <td>1</td>\n",
       "      <td>0</td>\n",
       "      <td>1</td>\n",
       "      <td>112542.58</td>\n",
       "      <td>0</td>\n",
       "    </tr>\n",
       "    <tr>\n",
       "      <th>2</th>\n",
       "      <td>3</td>\n",
       "      <td>15619304</td>\n",
       "      <td>Onio</td>\n",
       "      <td>502</td>\n",
       "      <td>France</td>\n",
       "      <td>Female</td>\n",
       "      <td>42</td>\n",
       "      <td>8.0</td>\n",
       "      <td>159660.80</td>\n",
       "      <td>3</td>\n",
       "      <td>1</td>\n",
       "      <td>0</td>\n",
       "      <td>113931.57</td>\n",
       "      <td>1</td>\n",
       "    </tr>\n",
       "    <tr>\n",
       "      <th>3</th>\n",
       "      <td>4</td>\n",
       "      <td>15701354</td>\n",
       "      <td>Boni</td>\n",
       "      <td>699</td>\n",
       "      <td>France</td>\n",
       "      <td>Female</td>\n",
       "      <td>39</td>\n",
       "      <td>1.0</td>\n",
       "      <td>0.00</td>\n",
       "      <td>2</td>\n",
       "      <td>0</td>\n",
       "      <td>0</td>\n",
       "      <td>93826.63</td>\n",
       "      <td>0</td>\n",
       "    </tr>\n",
       "    <tr>\n",
       "      <th>4</th>\n",
       "      <td>5</td>\n",
       "      <td>15737888</td>\n",
       "      <td>Mitchell</td>\n",
       "      <td>850</td>\n",
       "      <td>Spain</td>\n",
       "      <td>Female</td>\n",
       "      <td>43</td>\n",
       "      <td>2.0</td>\n",
       "      <td>125510.82</td>\n",
       "      <td>1</td>\n",
       "      <td>1</td>\n",
       "      <td>1</td>\n",
       "      <td>79084.10</td>\n",
       "      <td>0</td>\n",
       "    </tr>\n",
       "  </tbody>\n",
       "</table>\n",
       "</div>"
      ],
      "text/plain": [
       "   RowNumber  CustomerId   Surname  CreditScore Geography  Gender  Age  \\\n",
       "0          1    15634602  Hargrave          619    France  Female   42   \n",
       "1          2    15647311      Hill          608     Spain  Female   41   \n",
       "2          3    15619304      Onio          502    France  Female   42   \n",
       "3          4    15701354      Boni          699    France  Female   39   \n",
       "4          5    15737888  Mitchell          850     Spain  Female   43   \n",
       "\n",
       "   Tenure    Balance  NumOfProducts  HasCrCard  IsActiveMember  \\\n",
       "0     2.0       0.00              1          1               1   \n",
       "1     1.0   83807.86              1          0               1   \n",
       "2     8.0  159660.80              3          1               0   \n",
       "3     1.0       0.00              2          0               0   \n",
       "4     2.0  125510.82              1          1               1   \n",
       "\n",
       "   EstimatedSalary  Exited  \n",
       "0        101348.88       1  \n",
       "1        112542.58       0  \n",
       "2        113931.57       1  \n",
       "3         93826.63       0  \n",
       "4         79084.10       0  "
      ]
     },
     "execution_count": 6,
     "metadata": {},
     "output_type": "execute_result"
    }
   ],
   "source": [
    "# получение первых 5 строк таблицы df\n",
    "df.head()"
   ]
  },
  {
   "cell_type": "markdown",
   "metadata": {},
   "source": [
    "**Признаки:**\n",
    "- RowNumber — индекс строки в данных\n",
    "- CustomerId — уникальный идентификатор клиента\n",
    "- Surname — фамилия\n",
    "- CreditScore — кредитный рейтинг\n",
    "- Geography — страна проживания\n",
    "- Gender — пол\n",
    "- Age — возраст\n",
    "- Tenure — сколько лет человек является клиентом банка\n",
    "- Balance — баланс на счёте\n",
    "- NumOfProducts — количество продуктов банка, используемых клиентом\n",
    "- HasCrCard — наличие кредитной карты\n",
    "- IsActiveMember — активность клиента\n",
    "- EstimatedSalary — предполагаемая зарплата\n",
    "\n",
    "**Целевой признак:**\n",
    "- Exited — факт ухода клиента"
   ]
  },
  {
   "cell_type": "code",
   "execution_count": 7,
   "metadata": {},
   "outputs": [
    {
     "data": {
      "text/plain": [
       "[0.0, 1.0, 2.0, 3.0, 4.0, 5.0, 6.0, 7.0, 8.0, 9.0, 10.0, nan]"
      ]
     },
     "execution_count": 7,
     "metadata": {},
     "output_type": "execute_result"
    }
   ],
   "source": [
    "# уникальные значения поля Tenure (сколько лет человек является клиентом банка)\n",
    "sorted(df.Tenure.unique())"
   ]
  },
  {
   "cell_type": "code",
   "execution_count": 8,
   "metadata": {},
   "outputs": [
    {
     "data": {
      "text/plain": [
       "['France', 'Germany', 'Spain']"
      ]
     },
     "execution_count": 8,
     "metadata": {},
     "output_type": "execute_result"
    }
   ],
   "source": [
    "# уникальные значения поля Geography (страна проживания)\n",
    "sorted(df.Geography.unique())"
   ]
  },
  {
   "cell_type": "code",
   "execution_count": 9,
   "metadata": {},
   "outputs": [
    {
     "data": {
      "text/plain": [
       "['Female', 'Male']"
      ]
     },
     "execution_count": 9,
     "metadata": {},
     "output_type": "execute_result"
    }
   ],
   "source": [
    "# уникальные значения поля Gender (пол)\n",
    "sorted(df.Gender.unique())"
   ]
  },
  {
   "cell_type": "markdown",
   "metadata": {},
   "source": [
    "#### Вывод"
   ]
  },
  {
   "cell_type": "markdown",
   "metadata": {},
   "source": [
    "В датасете присутствуют количественные и категориальные переменные. \n",
    "\n",
    "В названиях полей нарушен стиль написания - строчные буквы сочетаются с прописными. Необходимо привести названия полей к нижнему регистру и разделить слова символом нижнего подчеркивания.\n",
    "\n",
    "В поле `Tenure` (сколько лет человек является клиентом банка) есть пропуски, они составляют 9% от общего количества данных. На этапе предобработки данных их можно удалить.\n",
    "\n",
    "Тип поля `Tenure` (сколько лет человек является клиентом банка) необходимо изменить на int64, т.к. переменная принимает только целочисленные значения.\n",
    "\n",
    "Поля `RowNumber` (индекс строки в данных), `CustomerId` (уникальный идентификатор клиента), `Surname` (фамилия) не будут использоваться в исследовании, их можно удалить.\n",
    "\n",
    "Поля `Geography` (страна проживания) и `Gender` (пол) - это категориальные признаки, которые необходимо преобразовать в численные.\n",
    "\n",
    "Поля `CreditScore` (кредитный рейтинг), `Age` (возраст), `Tenure` (сколько лет человек является клиентом банка), `Balance` (баланс на счёте), `NumOfProducts` (количество продуктов банка, используемых клиентом), `EstimatedSalary` (предполагаемая зарплата) - это количественные признаки, которые имеют разный масштаб. Для проведения исследования их необходимо масштабировать (стандартизировать)."
   ]
  },
  {
   "cell_type": "markdown",
   "metadata": {},
   "source": [
    "### Предобработка данных"
   ]
  },
  {
   "cell_type": "code",
   "execution_count": 10,
   "metadata": {},
   "outputs": [
    {
     "data": {
      "text/plain": [
       "0"
      ]
     },
     "execution_count": 10,
     "metadata": {},
     "output_type": "execute_result"
    }
   ],
   "source": [
    "# подсчёт явных дубликатов\n",
    "df.duplicated().sum()"
   ]
  },
  {
   "cell_type": "code",
   "execution_count": 11,
   "metadata": {},
   "outputs": [],
   "source": [
    "# удаление пропусков \n",
    "df = df.dropna()"
   ]
  },
  {
   "cell_type": "code",
   "execution_count": 12,
   "metadata": {},
   "outputs": [],
   "source": [
    "# изменение типа поля Tenure на int64\n",
    "df['Tenure'] = df['Tenure'].astype('int64')"
   ]
  },
  {
   "cell_type": "code",
   "execution_count": 13,
   "metadata": {},
   "outputs": [],
   "source": [
    "# удаление полей RowNumber, CustomerId, Surname\n",
    "df = df.drop(['RowNumber', 'CustomerId', 'Surname'], axis=1)"
   ]
  },
  {
   "cell_type": "code",
   "execution_count": 14,
   "metadata": {},
   "outputs": [],
   "source": [
    "# приведение названий полей к правильному стилю написания\n",
    "df.set_axis(['credit_score', 'geography', 'gender', 'age', 'tenure', 'balance', 'num_of_products', 'has_cr_card',\n",
    "             'is_active_member', 'estimated_salary', 'exited'], axis='columns', inplace=True)"
   ]
  },
  {
   "cell_type": "code",
   "execution_count": 15,
   "metadata": {},
   "outputs": [
    {
     "data": {
      "text/html": [
       "<div>\n",
       "<style scoped>\n",
       "    .dataframe tbody tr th:only-of-type {\n",
       "        vertical-align: middle;\n",
       "    }\n",
       "\n",
       "    .dataframe tbody tr th {\n",
       "        vertical-align: top;\n",
       "    }\n",
       "\n",
       "    .dataframe thead th {\n",
       "        text-align: right;\n",
       "    }\n",
       "</style>\n",
       "<table border=\"1\" class=\"dataframe\">\n",
       "  <thead>\n",
       "    <tr style=\"text-align: right;\">\n",
       "      <th></th>\n",
       "      <th>credit_score</th>\n",
       "      <th>geography</th>\n",
       "      <th>gender</th>\n",
       "      <th>age</th>\n",
       "      <th>tenure</th>\n",
       "      <th>balance</th>\n",
       "      <th>num_of_products</th>\n",
       "      <th>has_cr_card</th>\n",
       "      <th>is_active_member</th>\n",
       "      <th>estimated_salary</th>\n",
       "      <th>exited</th>\n",
       "    </tr>\n",
       "  </thead>\n",
       "  <tbody>\n",
       "    <tr>\n",
       "      <th>0</th>\n",
       "      <td>619</td>\n",
       "      <td>France</td>\n",
       "      <td>Female</td>\n",
       "      <td>42</td>\n",
       "      <td>2</td>\n",
       "      <td>0.00</td>\n",
       "      <td>1</td>\n",
       "      <td>1</td>\n",
       "      <td>1</td>\n",
       "      <td>101348.88</td>\n",
       "      <td>1</td>\n",
       "    </tr>\n",
       "    <tr>\n",
       "      <th>1</th>\n",
       "      <td>608</td>\n",
       "      <td>Spain</td>\n",
       "      <td>Female</td>\n",
       "      <td>41</td>\n",
       "      <td>1</td>\n",
       "      <td>83807.86</td>\n",
       "      <td>1</td>\n",
       "      <td>0</td>\n",
       "      <td>1</td>\n",
       "      <td>112542.58</td>\n",
       "      <td>0</td>\n",
       "    </tr>\n",
       "    <tr>\n",
       "      <th>2</th>\n",
       "      <td>502</td>\n",
       "      <td>France</td>\n",
       "      <td>Female</td>\n",
       "      <td>42</td>\n",
       "      <td>8</td>\n",
       "      <td>159660.80</td>\n",
       "      <td>3</td>\n",
       "      <td>1</td>\n",
       "      <td>0</td>\n",
       "      <td>113931.57</td>\n",
       "      <td>1</td>\n",
       "    </tr>\n",
       "    <tr>\n",
       "      <th>3</th>\n",
       "      <td>699</td>\n",
       "      <td>France</td>\n",
       "      <td>Female</td>\n",
       "      <td>39</td>\n",
       "      <td>1</td>\n",
       "      <td>0.00</td>\n",
       "      <td>2</td>\n",
       "      <td>0</td>\n",
       "      <td>0</td>\n",
       "      <td>93826.63</td>\n",
       "      <td>0</td>\n",
       "    </tr>\n",
       "    <tr>\n",
       "      <th>4</th>\n",
       "      <td>850</td>\n",
       "      <td>Spain</td>\n",
       "      <td>Female</td>\n",
       "      <td>43</td>\n",
       "      <td>2</td>\n",
       "      <td>125510.82</td>\n",
       "      <td>1</td>\n",
       "      <td>1</td>\n",
       "      <td>1</td>\n",
       "      <td>79084.10</td>\n",
       "      <td>0</td>\n",
       "    </tr>\n",
       "  </tbody>\n",
       "</table>\n",
       "</div>"
      ],
      "text/plain": [
       "   credit_score geography  gender  age  tenure    balance  num_of_products  \\\n",
       "0           619    France  Female   42       2       0.00                1   \n",
       "1           608     Spain  Female   41       1   83807.86                1   \n",
       "2           502    France  Female   42       8  159660.80                3   \n",
       "3           699    France  Female   39       1       0.00                2   \n",
       "4           850     Spain  Female   43       2  125510.82                1   \n",
       "\n",
       "   has_cr_card  is_active_member  estimated_salary  exited  \n",
       "0            1                 1         101348.88       1  \n",
       "1            0                 1         112542.58       0  \n",
       "2            1                 0         113931.57       1  \n",
       "3            0                 0          93826.63       0  \n",
       "4            1                 1          79084.10       0  "
      ]
     },
     "execution_count": 15,
     "metadata": {},
     "output_type": "execute_result"
    }
   ],
   "source": [
    "df.head()"
   ]
  },
  {
   "cell_type": "markdown",
   "metadata": {},
   "source": [
    "Для обучения моделей категориальные признаки необходимо преобразовать в численные. Для этого используем специальные техники.\n",
    "\n",
    "Техника **прямого кодирования (OHE)** подходит для преобразования признаков в Logistic Regression.\n",
    "\n",
    "Техника **порядкового кодирования (OrdinalEncoder)** подходит для преобразования признаков в Decision Tree и Random Forest.\n",
    "\n",
    "Преобразуем данные с помощью двух техник и создадим соответственно два новых датасета - **df_ohe** и **df_ordinal**."
   ]
  },
  {
   "cell_type": "code",
   "execution_count": 16,
   "metadata": {},
   "outputs": [
    {
     "data": {
      "text/html": [
       "<div>\n",
       "<style scoped>\n",
       "    .dataframe tbody tr th:only-of-type {\n",
       "        vertical-align: middle;\n",
       "    }\n",
       "\n",
       "    .dataframe tbody tr th {\n",
       "        vertical-align: top;\n",
       "    }\n",
       "\n",
       "    .dataframe thead th {\n",
       "        text-align: right;\n",
       "    }\n",
       "</style>\n",
       "<table border=\"1\" class=\"dataframe\">\n",
       "  <thead>\n",
       "    <tr style=\"text-align: right;\">\n",
       "      <th></th>\n",
       "      <th>credit_score</th>\n",
       "      <th>age</th>\n",
       "      <th>tenure</th>\n",
       "      <th>balance</th>\n",
       "      <th>num_of_products</th>\n",
       "      <th>has_cr_card</th>\n",
       "      <th>is_active_member</th>\n",
       "      <th>estimated_salary</th>\n",
       "      <th>exited</th>\n",
       "      <th>geography_Germany</th>\n",
       "      <th>geography_Spain</th>\n",
       "      <th>gender_Male</th>\n",
       "    </tr>\n",
       "  </thead>\n",
       "  <tbody>\n",
       "    <tr>\n",
       "      <th>0</th>\n",
       "      <td>619</td>\n",
       "      <td>42</td>\n",
       "      <td>2</td>\n",
       "      <td>0.00</td>\n",
       "      <td>1</td>\n",
       "      <td>1</td>\n",
       "      <td>1</td>\n",
       "      <td>101348.88</td>\n",
       "      <td>1</td>\n",
       "      <td>0</td>\n",
       "      <td>0</td>\n",
       "      <td>0</td>\n",
       "    </tr>\n",
       "    <tr>\n",
       "      <th>1</th>\n",
       "      <td>608</td>\n",
       "      <td>41</td>\n",
       "      <td>1</td>\n",
       "      <td>83807.86</td>\n",
       "      <td>1</td>\n",
       "      <td>0</td>\n",
       "      <td>1</td>\n",
       "      <td>112542.58</td>\n",
       "      <td>0</td>\n",
       "      <td>0</td>\n",
       "      <td>1</td>\n",
       "      <td>0</td>\n",
       "    </tr>\n",
       "    <tr>\n",
       "      <th>2</th>\n",
       "      <td>502</td>\n",
       "      <td>42</td>\n",
       "      <td>8</td>\n",
       "      <td>159660.80</td>\n",
       "      <td>3</td>\n",
       "      <td>1</td>\n",
       "      <td>0</td>\n",
       "      <td>113931.57</td>\n",
       "      <td>1</td>\n",
       "      <td>0</td>\n",
       "      <td>0</td>\n",
       "      <td>0</td>\n",
       "    </tr>\n",
       "    <tr>\n",
       "      <th>3</th>\n",
       "      <td>699</td>\n",
       "      <td>39</td>\n",
       "      <td>1</td>\n",
       "      <td>0.00</td>\n",
       "      <td>2</td>\n",
       "      <td>0</td>\n",
       "      <td>0</td>\n",
       "      <td>93826.63</td>\n",
       "      <td>0</td>\n",
       "      <td>0</td>\n",
       "      <td>0</td>\n",
       "      <td>0</td>\n",
       "    </tr>\n",
       "    <tr>\n",
       "      <th>4</th>\n",
       "      <td>850</td>\n",
       "      <td>43</td>\n",
       "      <td>2</td>\n",
       "      <td>125510.82</td>\n",
       "      <td>1</td>\n",
       "      <td>1</td>\n",
       "      <td>1</td>\n",
       "      <td>79084.10</td>\n",
       "      <td>0</td>\n",
       "      <td>0</td>\n",
       "      <td>1</td>\n",
       "      <td>0</td>\n",
       "    </tr>\n",
       "    <tr>\n",
       "      <th>...</th>\n",
       "      <td>...</td>\n",
       "      <td>...</td>\n",
       "      <td>...</td>\n",
       "      <td>...</td>\n",
       "      <td>...</td>\n",
       "      <td>...</td>\n",
       "      <td>...</td>\n",
       "      <td>...</td>\n",
       "      <td>...</td>\n",
       "      <td>...</td>\n",
       "      <td>...</td>\n",
       "      <td>...</td>\n",
       "    </tr>\n",
       "    <tr>\n",
       "      <th>9994</th>\n",
       "      <td>800</td>\n",
       "      <td>29</td>\n",
       "      <td>2</td>\n",
       "      <td>0.00</td>\n",
       "      <td>2</td>\n",
       "      <td>0</td>\n",
       "      <td>0</td>\n",
       "      <td>167773.55</td>\n",
       "      <td>0</td>\n",
       "      <td>0</td>\n",
       "      <td>0</td>\n",
       "      <td>0</td>\n",
       "    </tr>\n",
       "    <tr>\n",
       "      <th>9995</th>\n",
       "      <td>771</td>\n",
       "      <td>39</td>\n",
       "      <td>5</td>\n",
       "      <td>0.00</td>\n",
       "      <td>2</td>\n",
       "      <td>1</td>\n",
       "      <td>0</td>\n",
       "      <td>96270.64</td>\n",
       "      <td>0</td>\n",
       "      <td>0</td>\n",
       "      <td>0</td>\n",
       "      <td>1</td>\n",
       "    </tr>\n",
       "    <tr>\n",
       "      <th>9996</th>\n",
       "      <td>516</td>\n",
       "      <td>35</td>\n",
       "      <td>10</td>\n",
       "      <td>57369.61</td>\n",
       "      <td>1</td>\n",
       "      <td>1</td>\n",
       "      <td>1</td>\n",
       "      <td>101699.77</td>\n",
       "      <td>0</td>\n",
       "      <td>0</td>\n",
       "      <td>0</td>\n",
       "      <td>1</td>\n",
       "    </tr>\n",
       "    <tr>\n",
       "      <th>9997</th>\n",
       "      <td>709</td>\n",
       "      <td>36</td>\n",
       "      <td>7</td>\n",
       "      <td>0.00</td>\n",
       "      <td>1</td>\n",
       "      <td>0</td>\n",
       "      <td>1</td>\n",
       "      <td>42085.58</td>\n",
       "      <td>1</td>\n",
       "      <td>0</td>\n",
       "      <td>0</td>\n",
       "      <td>0</td>\n",
       "    </tr>\n",
       "    <tr>\n",
       "      <th>9998</th>\n",
       "      <td>772</td>\n",
       "      <td>42</td>\n",
       "      <td>3</td>\n",
       "      <td>75075.31</td>\n",
       "      <td>2</td>\n",
       "      <td>1</td>\n",
       "      <td>0</td>\n",
       "      <td>92888.52</td>\n",
       "      <td>1</td>\n",
       "      <td>1</td>\n",
       "      <td>0</td>\n",
       "      <td>1</td>\n",
       "    </tr>\n",
       "  </tbody>\n",
       "</table>\n",
       "<p>9091 rows × 12 columns</p>\n",
       "</div>"
      ],
      "text/plain": [
       "      credit_score  age  tenure    balance  num_of_products  has_cr_card  \\\n",
       "0              619   42       2       0.00                1            1   \n",
       "1              608   41       1   83807.86                1            0   \n",
       "2              502   42       8  159660.80                3            1   \n",
       "3              699   39       1       0.00                2            0   \n",
       "4              850   43       2  125510.82                1            1   \n",
       "...            ...  ...     ...        ...              ...          ...   \n",
       "9994           800   29       2       0.00                2            0   \n",
       "9995           771   39       5       0.00                2            1   \n",
       "9996           516   35      10   57369.61                1            1   \n",
       "9997           709   36       7       0.00                1            0   \n",
       "9998           772   42       3   75075.31                2            1   \n",
       "\n",
       "      is_active_member  estimated_salary  exited  geography_Germany  \\\n",
       "0                    1         101348.88       1                  0   \n",
       "1                    1         112542.58       0                  0   \n",
       "2                    0         113931.57       1                  0   \n",
       "3                    0          93826.63       0                  0   \n",
       "4                    1          79084.10       0                  0   \n",
       "...                ...               ...     ...                ...   \n",
       "9994                 0         167773.55       0                  0   \n",
       "9995                 0          96270.64       0                  0   \n",
       "9996                 1         101699.77       0                  0   \n",
       "9997                 1          42085.58       1                  0   \n",
       "9998                 0          92888.52       1                  1   \n",
       "\n",
       "      geography_Spain  gender_Male  \n",
       "0                   0            0  \n",
       "1                   1            0  \n",
       "2                   0            0  \n",
       "3                   0            0  \n",
       "4                   1            0  \n",
       "...               ...          ...  \n",
       "9994                0            0  \n",
       "9995                0            1  \n",
       "9996                0            1  \n",
       "9997                0            0  \n",
       "9998                0            1  \n",
       "\n",
       "[9091 rows x 12 columns]"
      ]
     },
     "execution_count": 16,
     "metadata": {},
     "output_type": "execute_result"
    }
   ],
   "source": [
    "# преобразование с помощью техники OHE\n",
    "df_ohe = pd.get_dummies(df, columns=['geography', 'gender'], drop_first=True)\n",
    "df_ohe"
   ]
  },
  {
   "cell_type": "code",
   "execution_count": 17,
   "metadata": {},
   "outputs": [
    {
     "data": {
      "text/html": [
       "<div>\n",
       "<style scoped>\n",
       "    .dataframe tbody tr th:only-of-type {\n",
       "        vertical-align: middle;\n",
       "    }\n",
       "\n",
       "    .dataframe tbody tr th {\n",
       "        vertical-align: top;\n",
       "    }\n",
       "\n",
       "    .dataframe thead th {\n",
       "        text-align: right;\n",
       "    }\n",
       "</style>\n",
       "<table border=\"1\" class=\"dataframe\">\n",
       "  <thead>\n",
       "    <tr style=\"text-align: right;\">\n",
       "      <th></th>\n",
       "      <th>credit_score</th>\n",
       "      <th>geography</th>\n",
       "      <th>gender</th>\n",
       "      <th>age</th>\n",
       "      <th>tenure</th>\n",
       "      <th>balance</th>\n",
       "      <th>num_of_products</th>\n",
       "      <th>has_cr_card</th>\n",
       "      <th>is_active_member</th>\n",
       "      <th>estimated_salary</th>\n",
       "      <th>exited</th>\n",
       "    </tr>\n",
       "  </thead>\n",
       "  <tbody>\n",
       "    <tr>\n",
       "      <th>0</th>\n",
       "      <td>226.0</td>\n",
       "      <td>0.0</td>\n",
       "      <td>0.0</td>\n",
       "      <td>24.0</td>\n",
       "      <td>2.0</td>\n",
       "      <td>0.0</td>\n",
       "      <td>0.0</td>\n",
       "      <td>1.0</td>\n",
       "      <td>1.0</td>\n",
       "      <td>4609.0</td>\n",
       "      <td>1.0</td>\n",
       "    </tr>\n",
       "    <tr>\n",
       "      <th>1</th>\n",
       "      <td>215.0</td>\n",
       "      <td>2.0</td>\n",
       "      <td>0.0</td>\n",
       "      <td>23.0</td>\n",
       "      <td>1.0</td>\n",
       "      <td>679.0</td>\n",
       "      <td>0.0</td>\n",
       "      <td>0.0</td>\n",
       "      <td>1.0</td>\n",
       "      <td>5119.0</td>\n",
       "      <td>0.0</td>\n",
       "    </tr>\n",
       "    <tr>\n",
       "      <th>2</th>\n",
       "      <td>109.0</td>\n",
       "      <td>0.0</td>\n",
       "      <td>0.0</td>\n",
       "      <td>24.0</td>\n",
       "      <td>8.0</td>\n",
       "      <td>5277.0</td>\n",
       "      <td>2.0</td>\n",
       "      <td>1.0</td>\n",
       "      <td>0.0</td>\n",
       "      <td>5182.0</td>\n",
       "      <td>1.0</td>\n",
       "    </tr>\n",
       "    <tr>\n",
       "      <th>3</th>\n",
       "      <td>306.0</td>\n",
       "      <td>0.0</td>\n",
       "      <td>0.0</td>\n",
       "      <td>21.0</td>\n",
       "      <td>1.0</td>\n",
       "      <td>0.0</td>\n",
       "      <td>1.0</td>\n",
       "      <td>0.0</td>\n",
       "      <td>0.0</td>\n",
       "      <td>4274.0</td>\n",
       "      <td>0.0</td>\n",
       "    </tr>\n",
       "    <tr>\n",
       "      <th>4</th>\n",
       "      <td>457.0</td>\n",
       "      <td>2.0</td>\n",
       "      <td>0.0</td>\n",
       "      <td>25.0</td>\n",
       "      <td>2.0</td>\n",
       "      <td>3374.0</td>\n",
       "      <td>0.0</td>\n",
       "      <td>1.0</td>\n",
       "      <td>1.0</td>\n",
       "      <td>3559.0</td>\n",
       "      <td>0.0</td>\n",
       "    </tr>\n",
       "    <tr>\n",
       "      <th>...</th>\n",
       "      <td>...</td>\n",
       "      <td>...</td>\n",
       "      <td>...</td>\n",
       "      <td>...</td>\n",
       "      <td>...</td>\n",
       "      <td>...</td>\n",
       "      <td>...</td>\n",
       "      <td>...</td>\n",
       "      <td>...</td>\n",
       "      <td>...</td>\n",
       "      <td>...</td>\n",
       "    </tr>\n",
       "    <tr>\n",
       "      <th>9086</th>\n",
       "      <td>407.0</td>\n",
       "      <td>0.0</td>\n",
       "      <td>0.0</td>\n",
       "      <td>11.0</td>\n",
       "      <td>2.0</td>\n",
       "      <td>0.0</td>\n",
       "      <td>1.0</td>\n",
       "      <td>0.0</td>\n",
       "      <td>0.0</td>\n",
       "      <td>7599.0</td>\n",
       "      <td>0.0</td>\n",
       "    </tr>\n",
       "    <tr>\n",
       "      <th>9087</th>\n",
       "      <td>378.0</td>\n",
       "      <td>0.0</td>\n",
       "      <td>1.0</td>\n",
       "      <td>21.0</td>\n",
       "      <td>5.0</td>\n",
       "      <td>0.0</td>\n",
       "      <td>1.0</td>\n",
       "      <td>1.0</td>\n",
       "      <td>0.0</td>\n",
       "      <td>4385.0</td>\n",
       "      <td>0.0</td>\n",
       "    </tr>\n",
       "    <tr>\n",
       "      <th>9088</th>\n",
       "      <td>123.0</td>\n",
       "      <td>0.0</td>\n",
       "      <td>1.0</td>\n",
       "      <td>17.0</td>\n",
       "      <td>10.0</td>\n",
       "      <td>110.0</td>\n",
       "      <td>0.0</td>\n",
       "      <td>1.0</td>\n",
       "      <td>1.0</td>\n",
       "      <td>4627.0</td>\n",
       "      <td>0.0</td>\n",
       "    </tr>\n",
       "    <tr>\n",
       "      <th>9089</th>\n",
       "      <td>316.0</td>\n",
       "      <td>0.0</td>\n",
       "      <td>0.0</td>\n",
       "      <td>18.0</td>\n",
       "      <td>7.0</td>\n",
       "      <td>0.0</td>\n",
       "      <td>0.0</td>\n",
       "      <td>0.0</td>\n",
       "      <td>1.0</td>\n",
       "      <td>1882.0</td>\n",
       "      <td>1.0</td>\n",
       "    </tr>\n",
       "    <tr>\n",
       "      <th>9090</th>\n",
       "      <td>379.0</td>\n",
       "      <td>1.0</td>\n",
       "      <td>1.0</td>\n",
       "      <td>24.0</td>\n",
       "      <td>3.0</td>\n",
       "      <td>387.0</td>\n",
       "      <td>1.0</td>\n",
       "      <td>1.0</td>\n",
       "      <td>0.0</td>\n",
       "      <td>4214.0</td>\n",
       "      <td>1.0</td>\n",
       "    </tr>\n",
       "  </tbody>\n",
       "</table>\n",
       "<p>9091 rows × 11 columns</p>\n",
       "</div>"
      ],
      "text/plain": [
       "      credit_score  geography  gender   age  tenure  balance  num_of_products  \\\n",
       "0            226.0        0.0     0.0  24.0     2.0      0.0              0.0   \n",
       "1            215.0        2.0     0.0  23.0     1.0    679.0              0.0   \n",
       "2            109.0        0.0     0.0  24.0     8.0   5277.0              2.0   \n",
       "3            306.0        0.0     0.0  21.0     1.0      0.0              1.0   \n",
       "4            457.0        2.0     0.0  25.0     2.0   3374.0              0.0   \n",
       "...            ...        ...     ...   ...     ...      ...              ...   \n",
       "9086         407.0        0.0     0.0  11.0     2.0      0.0              1.0   \n",
       "9087         378.0        0.0     1.0  21.0     5.0      0.0              1.0   \n",
       "9088         123.0        0.0     1.0  17.0    10.0    110.0              0.0   \n",
       "9089         316.0        0.0     0.0  18.0     7.0      0.0              0.0   \n",
       "9090         379.0        1.0     1.0  24.0     3.0    387.0              1.0   \n",
       "\n",
       "      has_cr_card  is_active_member  estimated_salary  exited  \n",
       "0             1.0               1.0            4609.0     1.0  \n",
       "1             0.0               1.0            5119.0     0.0  \n",
       "2             1.0               0.0            5182.0     1.0  \n",
       "3             0.0               0.0            4274.0     0.0  \n",
       "4             1.0               1.0            3559.0     0.0  \n",
       "...           ...               ...               ...     ...  \n",
       "9086          0.0               0.0            7599.0     0.0  \n",
       "9087          1.0               0.0            4385.0     0.0  \n",
       "9088          1.0               1.0            4627.0     0.0  \n",
       "9089          0.0               1.0            1882.0     1.0  \n",
       "9090          1.0               0.0            4214.0     1.0  \n",
       "\n",
       "[9091 rows x 11 columns]"
      ]
     },
     "execution_count": 17,
     "metadata": {},
     "output_type": "execute_result"
    }
   ],
   "source": [
    "# преобразование с помощью техники OrdinalEncoder\n",
    "encoder = OrdinalEncoder()\n",
    "df_ordinal = pd.DataFrame(encoder.fit_transform(df), columns=df.columns)\n",
    "df_ordinal"
   ]
  },
  {
   "cell_type": "markdown",
   "metadata": {},
   "source": [
    "#### Вывод"
   ]
  },
  {
   "cell_type": "markdown",
   "metadata": {},
   "source": [
    "На этапе предобработки данных было выполнено следующее:\n",
    "- Удалены пропуски в датасете.\n",
    "- Удалены поля `RowNumber`, `CustomerId`, `Surname`.\n",
    "- Названия полей приведены к правильному стилю написания.\n",
    "- Категориальные признаки в датасете преобразованы в численные с помощью двух техник прямого кодирования (OHE) и порядкового кодирования (OrdinalEncoder).\n",
    "- Дубликаты не выявлены."
   ]
  },
  {
   "cell_type": "markdown",
   "metadata": {},
   "source": [
    "## Исследование задачи"
   ]
  },
  {
   "cell_type": "markdown",
   "metadata": {},
   "source": [
    "Посмотрим на баланс классов, т.к. дисбаланс классов плохо сказывается на обучении моделей."
   ]
  },
  {
   "cell_type": "code",
   "execution_count": 18,
   "metadata": {},
   "outputs": [
    {
     "data": {
      "text/plain": [
       "0    0.796062\n",
       "1    0.203938\n",
       "Name: exited, dtype: float64"
      ]
     },
     "execution_count": 18,
     "metadata": {},
     "output_type": "execute_result"
    }
   ],
   "source": [
    "df['exited'].value_counts(normalize=True)"
   ]
  },
  {
   "cell_type": "markdown",
   "metadata": {},
   "source": [
    "Соотношение классов 4:1 говорит о том, что они не сбалансированы. В следующем пункте постараемся избавиться от дисбаланса классов."
   ]
  },
  {
   "cell_type": "markdown",
   "metadata": {},
   "source": [
    "Для решения задачи классификации будем использовать следующие алгоритмы:\n",
    "1. Decision Tree (Дерево решений),\n",
    "2. Random Forest (Случайный лес),\n",
    "3. Logistic Regression (Логическая регрессия)\n",
    "4. Catboost (Градиентный бустинг)"
   ]
  },
  {
   "cell_type": "markdown",
   "metadata": {},
   "source": [
    "Для проверки моделей на правильность предсказаний нужно разбить данные на три части: **обучающую, валидационную и тестовую**. Размеры тестового и валидационного наборов обычно равны. Разобьем данные в соотношении 3:1:1.\n",
    "\n",
    "Процентное соотношение от исходного датасета:\n",
    "- обучающая выборка - 60%,\n",
    "- валидационная выборка - 20%,\n",
    "- тестовая выборка - 20%."
   ]
  },
  {
   "cell_type": "code",
   "execution_count": 19,
   "metadata": {},
   "outputs": [],
   "source": [
    "# функция для разделения датасета на обучающую, валидационную и тестовую выборки, на признаки и целевой признак\n",
    "# с масштабированием (стандартизацией) полей\n",
    "def split_data(data):\n",
    "    train_df, valid_df = train_test_split(data, test_size=0.4, random_state=123) # обучающая и валидационная - 0,6 и 0,4\n",
    "    valid_df, test_df = train_test_split(valid_df, test_size=0.5, random_state=123) # валидационная и тестовая - 0,5 и 0,5\n",
    "    \n",
    "    # разделение выборок на признаки (features) и целевой признак (target)\n",
    "    features_train = train_df.drop(['exited'], axis=1)\n",
    "    target_train = train_df['exited']\n",
    "\n",
    "    features_valid = valid_df.drop(['exited'], axis=1)\n",
    "    target_valid = valid_df['exited']\n",
    "\n",
    "    features_test = test_df.drop(['exited'], axis=1)\n",
    "    target_test = test_df['exited']\n",
    "    \n",
    "    # масштабирование (стандартизация) полей\n",
    "    numeric=['credit_score', 'age', 'tenure', 'balance', 'num_of_products', 'estimated_salary']\n",
    "    scaler = StandardScaler()\n",
    "    scaler.fit(features_train[numeric]) \n",
    "    features_train[numeric] = scaler.transform(features_train[numeric])\n",
    "    features_valid[numeric] = scaler.transform(features_valid[numeric])\n",
    "    features_test[numeric] = scaler.transform(features_test[numeric])\n",
    "\n",
    "    return features_train, target_train, features_valid, target_valid, features_test, target_test"
   ]
  },
  {
   "cell_type": "code",
   "execution_count": 20,
   "metadata": {},
   "outputs": [],
   "source": [
    "# функция для отрисовки ROC-кривой\n",
    "def roc_graph(model):\n",
    "    probabilities_valid = model.predict_proba(features_valid)\n",
    "    probabilities_one_valid = probabilities_valid[:, 1]\n",
    "    fpr, tpr, thresholds = roc_curve(target_valid, probabilities_one_valid)\n",
    "    \n",
    "    plt.figure()\n",
    "    plt.plot(fpr, tpr, linestyle='solid')\n",
    "    # ROC-кривая случайной модели (выглядит как прямая)\n",
    "    plt.plot([0, 1], [0, 1], linestyle='solid')\n",
    "    plt.xlim([0.0, 1.0])\n",
    "    plt.ylim([0.0, 1.0])\n",
    "    plt.xlabel('False Positive Rate')\n",
    "    plt.ylabel('True Positive Rate')\n",
    "    plt.title('ROC-кривая')\n",
    "\n",
    "    plt.show()"
   ]
  },
  {
   "cell_type": "markdown",
   "metadata": {},
   "source": [
    "### Decision Tree (Дерево решений)"
   ]
  },
  {
   "cell_type": "markdown",
   "metadata": {},
   "source": [
    "Для обучения моделей Decision Tree и Random Forest будет использоваться датасет **df_ordinal**."
   ]
  },
  {
   "cell_type": "code",
   "execution_count": 21,
   "metadata": {},
   "outputs": [],
   "source": [
    "features_train, target_train, features_valid, target_valid, features_test, target_test = split_data(data=df_ordinal)"
   ]
  },
  {
   "cell_type": "markdown",
   "metadata": {},
   "source": [
    "Попробуем подобрать гиперпараметр **max_depth** модели Decision Tree двумя способами:\n",
    "- с помощью цикла\n",
    "- с помощью инструмента GridSearchCV"
   ]
  },
  {
   "cell_type": "code",
   "execution_count": 22,
   "metadata": {},
   "outputs": [
    {
     "name": "stdout",
     "output_type": "stream",
     "text": [
      "depth = 5\n",
      "Accuracy = 0.8729372937293729\n",
      "F1-мера = 0.5633270321361058\n"
     ]
    }
   ],
   "source": [
    "# определим лучшее значение параметра max_depth\n",
    "best_model_dt = None\n",
    "best_result, best_depth, best_predictions, best_probabilities_one_valid = 0, 0, 0, 0\n",
    "for depth in range(1, 100, 2):\n",
    "    model = DecisionTreeClassifier(random_state=123, max_depth=depth) # модель решающее дерево\n",
    "    model.fit(features_train, target_train) # обучение модели\n",
    "    predictions = model.predict(features_valid) # предсказания модели\n",
    "    result = accuracy_score(target_valid, predictions) # качество модели\n",
    "    if result > best_result:\n",
    "        best_depth = depth\n",
    "        best_predictions = predictions\n",
    "        best_model_dt = model\n",
    "        best_result = result\n",
    "print('depth =', best_depth)\n",
    "print(\"Accuracy =\", best_result)\n",
    "print('F1-мера =', f1_score(target_valid, best_predictions))"
   ]
  },
  {
   "cell_type": "markdown",
   "metadata": {},
   "source": [
    "Для сравнения определим лучшее значение параметра **max_depth** при помощи GridSearchCV()."
   ]
  },
  {
   "cell_type": "code",
   "execution_count": 23,
   "metadata": {},
   "outputs": [
    {
     "name": "stdout",
     "output_type": "stream",
     "text": [
      "{'max_depth': 5}\n",
      "Accuracy = 0.8531365046796558\n"
     ]
    }
   ],
   "source": [
    "clf = DecisionTreeClassifier(random_state=123)\n",
    "parametrs = {'max_depth': range (1, 100, 2)}\n",
    "grid = GridSearchCV(clf, parametrs, cv=5, n_jobs=-1, scoring='accuracy')\n",
    "grid.fit(features_train, target_train)\n",
    "print(grid.best_params_)\n",
    "print(\"Accuracy =\", grid.best_score_)"
   ]
  },
  {
   "cell_type": "markdown",
   "metadata": {},
   "source": [
    "Оба способа подбора гиперпараметра max_depth дали одинаковый результат: **max_depth=5**."
   ]
  },
  {
   "cell_type": "code",
   "execution_count": 24,
   "metadata": {},
   "outputs": [
    {
     "name": "stdout",
     "output_type": "stream",
     "text": [
      "Accuracy = 0.8729372937293729\n",
      "F1-мера = 0.5633270321361058\n"
     ]
    }
   ],
   "source": [
    "# обучение модели и расчет параметров качества модели\n",
    "best_model_dt = DecisionTreeClassifier(random_state=123, max_depth=5)\n",
    "best_model_dt.fit(features_train, target_train) # обучение модели\n",
    "predictions = best_model_dt.predict(features_valid) # предсказания модели\n",
    "result = accuracy_score(target_valid, predictions) # качество модели\n",
    "print(\"Accuracy =\", result)\n",
    "print('F1-мера =', f1_score(target_valid, predictions))"
   ]
  },
  {
   "cell_type": "markdown",
   "metadata": {},
   "source": [
    "Создадим таблицу **result_tbl**, в которую будем добавлять рассчитанные показатели качества моделей - `Accuracy`, `F1-мера`, `Precision`, `Recall`. Также в таблице будет указано название модели в поле `Model` и состояние `State`.\n",
    "\n",
    "Значения поля `State`:\n",
    "- *disbalance* - дисбаланс\n",
    "- *class_weight* - взвешивание классов\n",
    "- *upsampling* - увеличение выборки\n",
    "- *downsampling* - уменьшение выборки"
   ]
  },
  {
   "cell_type": "code",
   "execution_count": 25,
   "metadata": {},
   "outputs": [
    {
     "data": {
      "text/html": [
       "<div>\n",
       "<style scoped>\n",
       "    .dataframe tbody tr th:only-of-type {\n",
       "        vertical-align: middle;\n",
       "    }\n",
       "\n",
       "    .dataframe tbody tr th {\n",
       "        vertical-align: top;\n",
       "    }\n",
       "\n",
       "    .dataframe thead th {\n",
       "        text-align: right;\n",
       "    }\n",
       "</style>\n",
       "<table border=\"1\" class=\"dataframe\">\n",
       "  <thead>\n",
       "    <tr style=\"text-align: right;\">\n",
       "      <th></th>\n",
       "      <th>Accuracy</th>\n",
       "      <th>F1-мера</th>\n",
       "      <th>Precision</th>\n",
       "      <th>Recall</th>\n",
       "      <th>Model</th>\n",
       "      <th>State</th>\n",
       "    </tr>\n",
       "  </thead>\n",
       "  <tbody>\n",
       "    <tr>\n",
       "      <th>0</th>\n",
       "      <td>0.872937</td>\n",
       "      <td>0.563327</td>\n",
       "      <td>0.827778</td>\n",
       "      <td>0.426934</td>\n",
       "      <td>Decision Tree</td>\n",
       "      <td>disbalance</td>\n",
       "    </tr>\n",
       "  </tbody>\n",
       "</table>\n",
       "</div>"
      ],
      "text/plain": [
       "   Accuracy   F1-мера  Precision    Recall          Model       State\n",
       "0  0.872937  0.563327   0.827778  0.426934  Decision Tree  disbalance"
      ]
     },
     "execution_count": 25,
     "metadata": {},
     "output_type": "execute_result"
    }
   ],
   "source": [
    "columns = ['Accuracy', 'F1-мера', 'Precision', 'Recall', 'Model', 'State']\n",
    "rows = [[result, f1_score(target_valid, predictions), precision_score(target_valid, predictions),\n",
    "         recall_score(target_valid, predictions), 'Decision Tree', 'disbalance']]\n",
    "result_tbl = pd.DataFrame(data=rows, columns=columns)\n",
    "result_tbl"
   ]
  },
  {
   "cell_type": "markdown",
   "metadata": {},
   "source": [
    "### Random Forest (Случайный лес)"
   ]
  },
  {
   "cell_type": "markdown",
   "metadata": {},
   "source": [
    "Попробуем подобрать гиперпараметры **max_depth** и **n_estimators** модели Random Forest двумя способами:\n",
    "- с помощью цикла\n",
    "- с помощью инструмента GridSearchCV"
   ]
  },
  {
   "cell_type": "code",
   "execution_count": 26,
   "metadata": {},
   "outputs": [
    {
     "name": "stdout",
     "output_type": "stream",
     "text": [
      "n_estimators = 15\n",
      "depth = 9\n",
      "Accuracy = 0.8800880088008801\n",
      "F1-мера = 0.5962962962962963\n"
     ]
    }
   ],
   "source": [
    "# определим лучшую модель с гиперпараметрами n_estimators и max_depth\n",
    "best_model_rf_2 = None\n",
    "best_result, best_est, best_depth, best_predictions = 0, 0, 0, 0\n",
    "for est in range(1, 20):\n",
    "    for depth in range(1, 10): \n",
    "        model = RandomForestClassifier(random_state=123, n_estimators=est, max_depth=depth) # модель\n",
    "        model.fit(features_train, target_train) # обучение модели на тренировочной выборке\n",
    "        predictions = model.predict(features_valid) # предсказания модели\n",
    "        result = model.score(features_valid, target_valid) # качество модели на валидационной выборке\n",
    "        if result > best_result:\n",
    "            best_depth = depth\n",
    "            best_est = est \n",
    "            best_predictions = predictions\n",
    "            best_model_rf_2 = model\n",
    "            best_result = result\n",
    "print('n_estimators =', best_est)\n",
    "print('depth =', best_depth)\n",
    "print(\"Accuracy =\", best_result)\n",
    "print('F1-мера =', f1_score(target_valid, best_predictions))"
   ]
  },
  {
   "cell_type": "code",
   "execution_count": 27,
   "metadata": {},
   "outputs": [
    {
     "data": {
      "text/html": [
       "<div>\n",
       "<style scoped>\n",
       "    .dataframe tbody tr th:only-of-type {\n",
       "        vertical-align: middle;\n",
       "    }\n",
       "\n",
       "    .dataframe tbody tr th {\n",
       "        vertical-align: top;\n",
       "    }\n",
       "\n",
       "    .dataframe thead th {\n",
       "        text-align: right;\n",
       "    }\n",
       "</style>\n",
       "<table border=\"1\" class=\"dataframe\">\n",
       "  <thead>\n",
       "    <tr style=\"text-align: right;\">\n",
       "      <th></th>\n",
       "      <th>Accuracy</th>\n",
       "      <th>F1-мера</th>\n",
       "      <th>Precision</th>\n",
       "      <th>Recall</th>\n",
       "      <th>Model</th>\n",
       "      <th>State</th>\n",
       "    </tr>\n",
       "  </thead>\n",
       "  <tbody>\n",
       "    <tr>\n",
       "      <th>0</th>\n",
       "      <td>0.872937</td>\n",
       "      <td>0.563327</td>\n",
       "      <td>0.827778</td>\n",
       "      <td>0.426934</td>\n",
       "      <td>Decision Tree</td>\n",
       "      <td>disbalance</td>\n",
       "    </tr>\n",
       "    <tr>\n",
       "      <th>1</th>\n",
       "      <td>0.880088</td>\n",
       "      <td>0.596296</td>\n",
       "      <td>0.842932</td>\n",
       "      <td>0.461318</td>\n",
       "      <td>Random Forest</td>\n",
       "      <td>disbalance</td>\n",
       "    </tr>\n",
       "  </tbody>\n",
       "</table>\n",
       "</div>"
      ],
      "text/plain": [
       "   Accuracy   F1-мера  Precision    Recall          Model       State\n",
       "0  0.872937  0.563327   0.827778  0.426934  Decision Tree  disbalance\n",
       "1  0.880088  0.596296   0.842932  0.461318  Random Forest  disbalance"
      ]
     },
     "execution_count": 27,
     "metadata": {},
     "output_type": "execute_result"
    }
   ],
   "source": [
    "row = {'Accuracy': best_result, 'F1-мера': f1_score(target_valid, best_predictions),\n",
    "       'Precision': precision_score(target_valid, best_predictions), 'Recall': recall_score(target_valid, best_predictions),\n",
    "       'Model': 'Random Forest', 'State': 'disbalance'}\n",
    "result_tbl = result_tbl.append(row, ignore_index=True)\n",
    "result_tbl"
   ]
  },
  {
   "cell_type": "markdown",
   "metadata": {},
   "source": [
    "Для сравнения определим еще раз значения гиперпараметров для модели Random Forest при помощи инструмента GridSearchCV"
   ]
  },
  {
   "cell_type": "code",
   "execution_count": 28,
   "metadata": {},
   "outputs": [
    {
     "name": "stdout",
     "output_type": "stream",
     "text": [
      "{'max_depth': 9, 'n_estimators': 13}\n",
      "Accuracy = 0.859735786543782\n"
     ]
    }
   ],
   "source": [
    "clf = RandomForestClassifier(random_state=123)\n",
    "parametrs = { 'n_estimators': range (1, 20),\n",
    "              'max_depth': range (1, 10) }\n",
    "grid = GridSearchCV(clf, parametrs, cv=5, n_jobs=-1, scoring='accuracy')\n",
    "grid.fit(features_train, target_train)\n",
    "print(grid.best_params_)\n",
    "print(\"Accuracy =\", grid.best_score_)"
   ]
  },
  {
   "cell_type": "code",
   "execution_count": 29,
   "metadata": {},
   "outputs": [
    {
     "name": "stdout",
     "output_type": "stream",
     "text": [
      "Accuracy = 0.8762376237623762\n",
      "F1-мера = 0.5794392523364487\n"
     ]
    }
   ],
   "source": [
    "best_model_rf = RandomForestClassifier(random_state=123, max_depth=9, n_estimators=13)\n",
    "best_model_rf.fit(features_train, target_train) # обучение модели на тренировочной выборке\n",
    "predictions = best_model_rf.predict(features_valid) # предсказания модели\n",
    "result = best_model_rf.score(features_valid, target_valid) # качество модели на валидационной выборке\n",
    "print(\"Accuracy =\", result)\n",
    "print('F1-мера =', f1_score(target_valid, predictions))"
   ]
  },
  {
   "cell_type": "markdown",
   "metadata": {},
   "source": [
    "Качество модели с параметрами, определенными с помощью инструмента GridSearchCV оказалось хуже.\n",
    "\n",
    "Далее в работе будет использоваться модель Random Forest с гиперпараметрами **'max_depth': 9, 'n_estimators': 15**"
   ]
  },
  {
   "cell_type": "markdown",
   "metadata": {},
   "source": [
    "### Logistic Regression (Логистическая регрессия)"
   ]
  },
  {
   "cell_type": "markdown",
   "metadata": {},
   "source": [
    "Для обучения модели Logistic Regression будет использоваться датасет **df_ohe**."
   ]
  },
  {
   "cell_type": "code",
   "execution_count": 30,
   "metadata": {},
   "outputs": [],
   "source": [
    "features_train, target_train, features_valid, target_valid, features_test, target_test = split_data(data=df_ohe)"
   ]
  },
  {
   "cell_type": "code",
   "execution_count": 31,
   "metadata": {},
   "outputs": [
    {
     "name": "stdout",
     "output_type": "stream",
     "text": [
      "Accuracy = 0.8217821782178217\n",
      "F1-мера = 0.3278008298755187\n"
     ]
    }
   ],
   "source": [
    "model_lr = LogisticRegression(solver='lbfgs', random_state=123) # модель логистической регрессии\n",
    "model_lr.fit(features_train, target_train) # обучение модели на тренировочной выборке\n",
    "predictions = model_lr.predict(features_valid) # предсказания модели\n",
    "result = model_lr.score(features_valid, target_valid) # качество модели на валидационной выборке\n",
    "print(\"Accuracy =\", result)\n",
    "print('F1-мера =', f1_score(target_valid, predictions))"
   ]
  },
  {
   "cell_type": "code",
   "execution_count": 32,
   "metadata": {},
   "outputs": [
    {
     "data": {
      "text/html": [
       "<div>\n",
       "<style scoped>\n",
       "    .dataframe tbody tr th:only-of-type {\n",
       "        vertical-align: middle;\n",
       "    }\n",
       "\n",
       "    .dataframe tbody tr th {\n",
       "        vertical-align: top;\n",
       "    }\n",
       "\n",
       "    .dataframe thead th {\n",
       "        text-align: right;\n",
       "    }\n",
       "</style>\n",
       "<table border=\"1\" class=\"dataframe\">\n",
       "  <thead>\n",
       "    <tr style=\"text-align: right;\">\n",
       "      <th></th>\n",
       "      <th>Accuracy</th>\n",
       "      <th>F1-мера</th>\n",
       "      <th>Precision</th>\n",
       "      <th>Recall</th>\n",
       "      <th>Model</th>\n",
       "      <th>State</th>\n",
       "    </tr>\n",
       "  </thead>\n",
       "  <tbody>\n",
       "    <tr>\n",
       "      <th>0</th>\n",
       "      <td>0.872937</td>\n",
       "      <td>0.563327</td>\n",
       "      <td>0.827778</td>\n",
       "      <td>0.426934</td>\n",
       "      <td>Decision Tree</td>\n",
       "      <td>disbalance</td>\n",
       "    </tr>\n",
       "    <tr>\n",
       "      <th>1</th>\n",
       "      <td>0.880088</td>\n",
       "      <td>0.596296</td>\n",
       "      <td>0.842932</td>\n",
       "      <td>0.461318</td>\n",
       "      <td>Random Forest</td>\n",
       "      <td>disbalance</td>\n",
       "    </tr>\n",
       "    <tr>\n",
       "      <th>2</th>\n",
       "      <td>0.821782</td>\n",
       "      <td>0.327801</td>\n",
       "      <td>0.593985</td>\n",
       "      <td>0.226361</td>\n",
       "      <td>Logistic Regression</td>\n",
       "      <td>disbalance</td>\n",
       "    </tr>\n",
       "  </tbody>\n",
       "</table>\n",
       "</div>"
      ],
      "text/plain": [
       "   Accuracy   F1-мера  Precision    Recall                Model       State\n",
       "0  0.872937  0.563327   0.827778  0.426934        Decision Tree  disbalance\n",
       "1  0.880088  0.596296   0.842932  0.461318        Random Forest  disbalance\n",
       "2  0.821782  0.327801   0.593985  0.226361  Logistic Regression  disbalance"
      ]
     },
     "execution_count": 32,
     "metadata": {},
     "output_type": "execute_result"
    }
   ],
   "source": [
    "row = {'Accuracy': result, 'F1-мера': f1_score(target_valid, predictions),\n",
    "       'Precision': precision_score(target_valid, predictions), 'Recall': recall_score(target_valid, predictions),\n",
    "       'Model': 'Logistic Regression', 'State': 'disbalance'}\n",
    "result_tbl = result_tbl.append(row, ignore_index=True)\n",
    "result_tbl"
   ]
  },
  {
   "cell_type": "markdown",
   "metadata": {},
   "source": [
    "### Catboost (Градиентный бустинг)"
   ]
  },
  {
   "cell_type": "code",
   "execution_count": 33,
   "metadata": {},
   "outputs": [],
   "source": [
    "features_train, target_train, features_valid, target_valid, features_test, target_test = split_data(data=df)"
   ]
  },
  {
   "cell_type": "code",
   "execution_count": 34,
   "metadata": {},
   "outputs": [
    {
     "name": "stdout",
     "output_type": "stream",
     "text": [
      "iterations = 51\n",
      "Accuracy = 0.8822882288228823\n",
      "F1-мера = 0.6335616438356165\n"
     ]
    }
   ],
   "source": [
    "best_model_cb = None\n",
    "best_result, best_iterations, best_predictions = 0, 0, 0\n",
    "for iteration in range(1, 100, 2):\n",
    "    model = CatBoostClassifier(random_state=123, iterations=iteration, cat_features=['geography', 'gender'], verbose=0) # модель\n",
    "    model.fit(features_train, target_train) # обучение модели\n",
    "    predictions = model.predict(features_valid) # предсказания модели\n",
    "    result = accuracy_score(target_valid, predictions) # качество модели\n",
    "    if result > best_result:\n",
    "        best_iterations = iteration\n",
    "        best_predictions = predictions\n",
    "        best_model_cb = model\n",
    "        best_result = result\n",
    "print('iterations =', best_iterations)\n",
    "print(\"Accuracy =\", best_result)\n",
    "print('F1-мера =', f1_score(target_valid, best_predictions))"
   ]
  },
  {
   "cell_type": "code",
   "execution_count": 35,
   "metadata": {},
   "outputs": [
    {
     "data": {
      "text/html": [
       "<div>\n",
       "<style scoped>\n",
       "    .dataframe tbody tr th:only-of-type {\n",
       "        vertical-align: middle;\n",
       "    }\n",
       "\n",
       "    .dataframe tbody tr th {\n",
       "        vertical-align: top;\n",
       "    }\n",
       "\n",
       "    .dataframe thead th {\n",
       "        text-align: right;\n",
       "    }\n",
       "</style>\n",
       "<table border=\"1\" class=\"dataframe\">\n",
       "  <thead>\n",
       "    <tr style=\"text-align: right;\">\n",
       "      <th></th>\n",
       "      <th>Accuracy</th>\n",
       "      <th>F1-мера</th>\n",
       "      <th>Precision</th>\n",
       "      <th>Recall</th>\n",
       "      <th>Model</th>\n",
       "      <th>State</th>\n",
       "    </tr>\n",
       "  </thead>\n",
       "  <tbody>\n",
       "    <tr>\n",
       "      <th>0</th>\n",
       "      <td>0.872937</td>\n",
       "      <td>0.563327</td>\n",
       "      <td>0.827778</td>\n",
       "      <td>0.426934</td>\n",
       "      <td>Decision Tree</td>\n",
       "      <td>disbalance</td>\n",
       "    </tr>\n",
       "    <tr>\n",
       "      <th>1</th>\n",
       "      <td>0.880088</td>\n",
       "      <td>0.596296</td>\n",
       "      <td>0.842932</td>\n",
       "      <td>0.461318</td>\n",
       "      <td>Random Forest</td>\n",
       "      <td>disbalance</td>\n",
       "    </tr>\n",
       "    <tr>\n",
       "      <th>2</th>\n",
       "      <td>0.821782</td>\n",
       "      <td>0.327801</td>\n",
       "      <td>0.593985</td>\n",
       "      <td>0.226361</td>\n",
       "      <td>Logistic Regression</td>\n",
       "      <td>disbalance</td>\n",
       "    </tr>\n",
       "    <tr>\n",
       "      <th>3</th>\n",
       "      <td>0.882288</td>\n",
       "      <td>0.633562</td>\n",
       "      <td>0.787234</td>\n",
       "      <td>0.530086</td>\n",
       "      <td>Catboost</td>\n",
       "      <td>disbalance</td>\n",
       "    </tr>\n",
       "  </tbody>\n",
       "</table>\n",
       "</div>"
      ],
      "text/plain": [
       "   Accuracy   F1-мера  Precision    Recall                Model       State\n",
       "0  0.872937  0.563327   0.827778  0.426934        Decision Tree  disbalance\n",
       "1  0.880088  0.596296   0.842932  0.461318        Random Forest  disbalance\n",
       "2  0.821782  0.327801   0.593985  0.226361  Logistic Regression  disbalance\n",
       "3  0.882288  0.633562   0.787234  0.530086             Catboost  disbalance"
      ]
     },
     "execution_count": 35,
     "metadata": {},
     "output_type": "execute_result"
    }
   ],
   "source": [
    "row = {'Accuracy': best_result, 'F1-мера': f1_score(target_valid, best_predictions),\n",
    "       'Precision': precision_score(target_valid, best_predictions), 'Recall': recall_score(target_valid, best_predictions),\n",
    "       'Model': 'Catboost', 'State': 'disbalance'}\n",
    "result_tbl = result_tbl.append(row, ignore_index=True)\n",
    "result_tbl"
   ]
  },
  {
   "cell_type": "markdown",
   "metadata": {},
   "source": [
    "### Вывод"
   ]
  },
  {
   "cell_type": "markdown",
   "metadata": {},
   "source": [
    "В ходе исследования задачи был выявлен дисбаланс классов.\n",
    "\n",
    "Определены гиперпараметры моделей DecisionTree, RandomForest и Catboost с самым высоким значением Accuracy:\n",
    "- DecisionTreeClassifier(random_state=123, max_depth=**5**)\n",
    "- RandomForestClassifier(random_state=123, n_estimators=**15**, max_depth=**9**)\n",
    "- CatBoostClassifier(random_state=123, iterations=**51**, cat_features=['geography', 'gender'])\n",
    "\n",
    "Рассчитаны показатели качества для моделей: **Accuracy, F1-мера, Precision, Recall**.\n",
    "\n",
    "Из-за дисбаланса классов прослеживается довольно низкое значение метрики Recall (полноты)."
   ]
  },
  {
   "cell_type": "markdown",
   "metadata": {},
   "source": [
    "## Борьба с дисбалансом"
   ]
  },
  {
   "cell_type": "markdown",
   "metadata": {},
   "source": [
    "Для борьбы с дисбалансом будем использовать следующие способы:\n",
    "- class weight (взвешивание классов)\n",
    "- upsampling (увеличение выборки)\n",
    "- downsampling (уменьшение выборки)"
   ]
  },
  {
   "cell_type": "code",
   "execution_count": 36,
   "metadata": {},
   "outputs": [],
   "source": [
    "# функция для обучения модели и расчета Accuracy, F1-меры\n",
    "def metrics(model, model_name, state):\n",
    "    model.fit(features_train, target_train) # обучение модели\n",
    "    predictions = model.predict(features_valid) # предсказания модели\n",
    "    accuracy = accuracy_score(target_valid, predictions) # качество модели\n",
    "    f1 = f1_score(target_valid, predictions)\n",
    "    precision = precision_score(target_valid, predictions)\n",
    "    recall = recall_score(target_valid, predictions)\n",
    "    print(\"Accuracy =\", accuracy)\n",
    "    print('F1-мера =', f1)\n",
    "    print('Precision =', precision)\n",
    "    print('Recall =', recall)\n",
    "    \n",
    "    # создадим глобальную переменную со значениями показателей качества модели\n",
    "    global a\n",
    "    columns = ['Accuracy', 'F1-мера', 'Precision', 'Recall', 'Model', 'State']\n",
    "    rows = [[accuracy, f1, precision, recall, model_name, state]]\n",
    "    a = pd.DataFrame(data=rows, columns=columns)"
   ]
  },
  {
   "cell_type": "markdown",
   "metadata": {},
   "source": [
    "### Class weight (взвешивание классов)"
   ]
  },
  {
   "cell_type": "code",
   "execution_count": 37,
   "metadata": {},
   "outputs": [
    {
     "name": "stdout",
     "output_type": "stream",
     "text": [
      "Accuracy = 0.8124312431243125\n",
      "F1-мера = 0.5826193390452876\n",
      "Precision = 0.5085470085470085\n",
      "Recall = 0.6819484240687679\n"
     ]
    }
   ],
   "source": [
    "# Decision Tree (Дерево решений)\n",
    "features_train, target_train, features_valid, target_valid, features_test, target_test = split_data(data=df_ordinal)\n",
    "model = DecisionTreeClassifier(random_state=123, max_depth=5, class_weight='balanced')\n",
    "metrics(model, model_name='Decision Tree', state='class_weight') # расчет показателей качества модели\n",
    "result_tbl = pd.concat([result_tbl, a], axis = 0) # добавление показателей в общую таблицу"
   ]
  },
  {
   "cell_type": "code",
   "execution_count": 38,
   "metadata": {},
   "outputs": [
    {
     "name": "stdout",
     "output_type": "stream",
     "text": [
      "Accuracy = 0.8514851485148515\n",
      "F1-мера = 0.6229050279329609\n",
      "Precision = 0.6076294277929155\n",
      "Recall = 0.6389684813753582\n"
     ]
    }
   ],
   "source": [
    "# Random Forest (Случайный лес) с гиперпараметрами n_estimators, max_depth\n",
    "model = RandomForestClassifier(random_state=123, n_estimators=15, max_depth=9, class_weight='balanced')\n",
    "metrics(model, model_name='Random Forest', state='class_weight')\n",
    "result_tbl = pd.concat([result_tbl, a], axis = 0)"
   ]
  },
  {
   "cell_type": "code",
   "execution_count": 39,
   "metadata": {},
   "outputs": [
    {
     "name": "stdout",
     "output_type": "stream",
     "text": [
      "Accuracy = 0.7194719471947195\n",
      "F1-мера = 0.48065173116089616\n",
      "Precision = 0.37282780410742494\n",
      "Recall = 0.6762177650429799\n"
     ]
    }
   ],
   "source": [
    "# Logistic Regression (Логическая регрессия)\n",
    "features_train, target_train, features_valid, target_valid, features_test, target_test = split_data(data=df_ohe)\n",
    "model = LogisticRegression(random_state=123, solver='liblinear', class_weight='balanced')\n",
    "metrics(model, model_name='Logistic Regression', state='class_weight')\n",
    "result_tbl = pd.concat([result_tbl, a], axis = 0)"
   ]
  },
  {
   "cell_type": "code",
   "execution_count": 40,
   "metadata": {},
   "outputs": [
    {
     "name": "stdout",
     "output_type": "stream",
     "text": [
      "Accuracy = 0.83003300330033\n",
      "F1-мера = 0.6334519572953737\n",
      "Precision = 0.5404858299595142\n",
      "Recall = 0.7650429799426934\n"
     ]
    }
   ],
   "source": [
    "# Catboost\n",
    "features_train, target_train, features_valid, target_valid, features_test, target_test = split_data(data=df)\n",
    "model = CatBoostClassifier(random_state=123, iterations=51, cat_features=['geography', 'gender'],\n",
    "                           auto_class_weights='Balanced', verbose=0)\n",
    "metrics(model, model_name='Catboost', state='class_weight')\n",
    "result_tbl = pd.concat([result_tbl, a], axis = 0)"
   ]
  },
  {
   "cell_type": "code",
   "execution_count": 41,
   "metadata": {},
   "outputs": [
    {
     "data": {
      "text/html": [
       "<div>\n",
       "<style scoped>\n",
       "    .dataframe tbody tr th:only-of-type {\n",
       "        vertical-align: middle;\n",
       "    }\n",
       "\n",
       "    .dataframe tbody tr th {\n",
       "        vertical-align: top;\n",
       "    }\n",
       "\n",
       "    .dataframe thead th {\n",
       "        text-align: right;\n",
       "    }\n",
       "</style>\n",
       "<table border=\"1\" class=\"dataframe\">\n",
       "  <thead>\n",
       "    <tr style=\"text-align: right;\">\n",
       "      <th></th>\n",
       "      <th>Accuracy</th>\n",
       "      <th>F1-мера</th>\n",
       "      <th>Precision</th>\n",
       "      <th>Recall</th>\n",
       "      <th>Model</th>\n",
       "      <th>State</th>\n",
       "    </tr>\n",
       "  </thead>\n",
       "  <tbody>\n",
       "    <tr>\n",
       "      <th>0</th>\n",
       "      <td>0.872937</td>\n",
       "      <td>0.563327</td>\n",
       "      <td>0.827778</td>\n",
       "      <td>0.426934</td>\n",
       "      <td>Decision Tree</td>\n",
       "      <td>disbalance</td>\n",
       "    </tr>\n",
       "    <tr>\n",
       "      <th>1</th>\n",
       "      <td>0.880088</td>\n",
       "      <td>0.596296</td>\n",
       "      <td>0.842932</td>\n",
       "      <td>0.461318</td>\n",
       "      <td>Random Forest</td>\n",
       "      <td>disbalance</td>\n",
       "    </tr>\n",
       "    <tr>\n",
       "      <th>2</th>\n",
       "      <td>0.821782</td>\n",
       "      <td>0.327801</td>\n",
       "      <td>0.593985</td>\n",
       "      <td>0.226361</td>\n",
       "      <td>Logistic Regression</td>\n",
       "      <td>disbalance</td>\n",
       "    </tr>\n",
       "    <tr>\n",
       "      <th>3</th>\n",
       "      <td>0.882288</td>\n",
       "      <td>0.633562</td>\n",
       "      <td>0.787234</td>\n",
       "      <td>0.530086</td>\n",
       "      <td>Catboost</td>\n",
       "      <td>disbalance</td>\n",
       "    </tr>\n",
       "    <tr>\n",
       "      <th>0</th>\n",
       "      <td>0.812431</td>\n",
       "      <td>0.582619</td>\n",
       "      <td>0.508547</td>\n",
       "      <td>0.681948</td>\n",
       "      <td>Decision Tree</td>\n",
       "      <td>class_weight</td>\n",
       "    </tr>\n",
       "    <tr>\n",
       "      <th>0</th>\n",
       "      <td>0.851485</td>\n",
       "      <td>0.622905</td>\n",
       "      <td>0.607629</td>\n",
       "      <td>0.638968</td>\n",
       "      <td>Random Forest</td>\n",
       "      <td>class_weight</td>\n",
       "    </tr>\n",
       "    <tr>\n",
       "      <th>0</th>\n",
       "      <td>0.719472</td>\n",
       "      <td>0.480652</td>\n",
       "      <td>0.372828</td>\n",
       "      <td>0.676218</td>\n",
       "      <td>Logistic Regression</td>\n",
       "      <td>class_weight</td>\n",
       "    </tr>\n",
       "    <tr>\n",
       "      <th>0</th>\n",
       "      <td>0.830033</td>\n",
       "      <td>0.633452</td>\n",
       "      <td>0.540486</td>\n",
       "      <td>0.765043</td>\n",
       "      <td>Catboost</td>\n",
       "      <td>class_weight</td>\n",
       "    </tr>\n",
       "  </tbody>\n",
       "</table>\n",
       "</div>"
      ],
      "text/plain": [
       "   Accuracy   F1-мера  Precision    Recall                Model         State\n",
       "0  0.872937  0.563327   0.827778  0.426934        Decision Tree    disbalance\n",
       "1  0.880088  0.596296   0.842932  0.461318        Random Forest    disbalance\n",
       "2  0.821782  0.327801   0.593985  0.226361  Logistic Regression    disbalance\n",
       "3  0.882288  0.633562   0.787234  0.530086             Catboost    disbalance\n",
       "0  0.812431  0.582619   0.508547  0.681948        Decision Tree  class_weight\n",
       "0  0.851485  0.622905   0.607629  0.638968        Random Forest  class_weight\n",
       "0  0.719472  0.480652   0.372828  0.676218  Logistic Regression  class_weight\n",
       "0  0.830033  0.633452   0.540486  0.765043             Catboost  class_weight"
      ]
     },
     "execution_count": 41,
     "metadata": {},
     "output_type": "execute_result"
    }
   ],
   "source": [
    "result_tbl"
   ]
  },
  {
   "cell_type": "markdown",
   "metadata": {},
   "source": [
    "### Upsampling (увеличение выборки)"
   ]
  },
  {
   "cell_type": "code",
   "execution_count": 42,
   "metadata": {},
   "outputs": [],
   "source": [
    "# функция для увеличения выборки\n",
    "def upsample(features, target, repeat):\n",
    "    features_zeros = features[target == 0]\n",
    "    features_ones = features[target == 1]\n",
    "    target_zeros = target[target == 0]\n",
    "    target_ones = target[target == 1]\n",
    "\n",
    "    features_upsampled = pd.concat([features_zeros] + [features_ones] * repeat)\n",
    "    target_upsampled = pd.concat([target_zeros] + [target_ones] * repeat)\n",
    "    \n",
    "    features_upsampled, target_upsampled = shuffle(features_upsampled, target_upsampled, random_state=123)\n",
    "    \n",
    "    return features_upsampled, target_upsampled"
   ]
  },
  {
   "cell_type": "markdown",
   "metadata": {},
   "source": [
    "Соотношение классов 4:1. Чтобы уравнять классы, установим параметр **repeat=4**"
   ]
  },
  {
   "cell_type": "code",
   "execution_count": 43,
   "metadata": {},
   "outputs": [
    {
     "name": "stdout",
     "output_type": "stream",
     "text": [
      "Accuracy = 0.8124312431243125\n",
      "F1-мера = 0.5826193390452876\n",
      "Precision = 0.5085470085470085\n",
      "Recall = 0.6819484240687679\n"
     ]
    }
   ],
   "source": [
    "# Decision Tree (Дерево решений)\n",
    "features_train, target_train, features_valid, target_valid, features_test, target_test = split_data(data=df_ordinal)\n",
    "features_train, target_train = upsample(features_train, target_train, 4)\n",
    "model = DecisionTreeClassifier(random_state=123, max_depth=5) # модель решающее дерево\n",
    "metrics(model, model_name='Decision Tree', state='upsampling')\n",
    "result_tbl = pd.concat([result_tbl, a], axis = 0)"
   ]
  },
  {
   "cell_type": "code",
   "execution_count": 44,
   "metadata": {},
   "outputs": [
    {
     "name": "stdout",
     "output_type": "stream",
     "text": [
      "Accuracy = 0.8261826182618262\n",
      "F1-мера = 0.6117936117936118\n",
      "Precision = 0.535483870967742\n",
      "Recall = 0.7134670487106017\n"
     ]
    }
   ],
   "source": [
    "# Random Forest (Случайный лес) с гиперпараметрами n_estimators, max_depth\n",
    "model = RandomForestClassifier(random_state=123, n_estimators=15, max_depth=9) # модель\n",
    "metrics(model, model_name='Random Forest', state='upsampling')\n",
    "result_tbl = pd.concat([result_tbl, a], axis = 0)"
   ]
  },
  {
   "cell_type": "code",
   "execution_count": 45,
   "metadata": {},
   "outputs": [
    {
     "name": "stdout",
     "output_type": "stream",
     "text": [
      "Accuracy = 0.713971397139714\n",
      "F1-мера = 0.4800000000000001\n",
      "Precision = 0.3686635944700461\n",
      "Recall = 0.6876790830945558\n"
     ]
    }
   ],
   "source": [
    "# Logistic Regression (Логическая регрессия)\n",
    "features_train, target_train, features_valid, target_valid, features_test, target_test = split_data(data=df_ohe)\n",
    "features_train, target_train = upsample(features_train, target_train, 4)\n",
    "model = LogisticRegression(random_state=123, solver='liblinear')\n",
    "metrics(model, model_name='Logistic Regression', state='upsampling')\n",
    "result_tbl = pd.concat([result_tbl, a], axis = 0)"
   ]
  },
  {
   "cell_type": "code",
   "execution_count": 46,
   "metadata": {},
   "outputs": [
    {
     "name": "stdout",
     "output_type": "stream",
     "text": [
      "Accuracy = 0.834983498349835\n",
      "F1-мера = 0.6411483253588517\n",
      "Precision = 0.5503080082135524\n",
      "Recall = 0.7679083094555874\n"
     ]
    }
   ],
   "source": [
    "# Catboost\n",
    "features_train, target_train, features_valid, target_valid, features_test, target_test = split_data(data=df)\n",
    "features_train, target_train = upsample(features_train, target_train, 4)\n",
    "model = CatBoostClassifier(random_state=123, iterations=51, cat_features=['geography', 'gender'], verbose=0)\n",
    "metrics(model, model_name='Catboost', state='upsampling')\n",
    "result_tbl = pd.concat([result_tbl, a], axis = 0)"
   ]
  },
  {
   "cell_type": "code",
   "execution_count": 47,
   "metadata": {},
   "outputs": [
    {
     "data": {
      "text/html": [
       "<div>\n",
       "<style scoped>\n",
       "    .dataframe tbody tr th:only-of-type {\n",
       "        vertical-align: middle;\n",
       "    }\n",
       "\n",
       "    .dataframe tbody tr th {\n",
       "        vertical-align: top;\n",
       "    }\n",
       "\n",
       "    .dataframe thead th {\n",
       "        text-align: right;\n",
       "    }\n",
       "</style>\n",
       "<table border=\"1\" class=\"dataframe\">\n",
       "  <thead>\n",
       "    <tr style=\"text-align: right;\">\n",
       "      <th></th>\n",
       "      <th>Accuracy</th>\n",
       "      <th>F1-мера</th>\n",
       "      <th>Precision</th>\n",
       "      <th>Recall</th>\n",
       "      <th>Model</th>\n",
       "      <th>State</th>\n",
       "    </tr>\n",
       "  </thead>\n",
       "  <tbody>\n",
       "    <tr>\n",
       "      <th>0</th>\n",
       "      <td>0.872937</td>\n",
       "      <td>0.563327</td>\n",
       "      <td>0.827778</td>\n",
       "      <td>0.426934</td>\n",
       "      <td>Decision Tree</td>\n",
       "      <td>disbalance</td>\n",
       "    </tr>\n",
       "    <tr>\n",
       "      <th>1</th>\n",
       "      <td>0.880088</td>\n",
       "      <td>0.596296</td>\n",
       "      <td>0.842932</td>\n",
       "      <td>0.461318</td>\n",
       "      <td>Random Forest</td>\n",
       "      <td>disbalance</td>\n",
       "    </tr>\n",
       "    <tr>\n",
       "      <th>2</th>\n",
       "      <td>0.821782</td>\n",
       "      <td>0.327801</td>\n",
       "      <td>0.593985</td>\n",
       "      <td>0.226361</td>\n",
       "      <td>Logistic Regression</td>\n",
       "      <td>disbalance</td>\n",
       "    </tr>\n",
       "    <tr>\n",
       "      <th>3</th>\n",
       "      <td>0.882288</td>\n",
       "      <td>0.633562</td>\n",
       "      <td>0.787234</td>\n",
       "      <td>0.530086</td>\n",
       "      <td>Catboost</td>\n",
       "      <td>disbalance</td>\n",
       "    </tr>\n",
       "    <tr>\n",
       "      <th>0</th>\n",
       "      <td>0.812431</td>\n",
       "      <td>0.582619</td>\n",
       "      <td>0.508547</td>\n",
       "      <td>0.681948</td>\n",
       "      <td>Decision Tree</td>\n",
       "      <td>class_weight</td>\n",
       "    </tr>\n",
       "    <tr>\n",
       "      <th>0</th>\n",
       "      <td>0.851485</td>\n",
       "      <td>0.622905</td>\n",
       "      <td>0.607629</td>\n",
       "      <td>0.638968</td>\n",
       "      <td>Random Forest</td>\n",
       "      <td>class_weight</td>\n",
       "    </tr>\n",
       "    <tr>\n",
       "      <th>0</th>\n",
       "      <td>0.719472</td>\n",
       "      <td>0.480652</td>\n",
       "      <td>0.372828</td>\n",
       "      <td>0.676218</td>\n",
       "      <td>Logistic Regression</td>\n",
       "      <td>class_weight</td>\n",
       "    </tr>\n",
       "    <tr>\n",
       "      <th>0</th>\n",
       "      <td>0.830033</td>\n",
       "      <td>0.633452</td>\n",
       "      <td>0.540486</td>\n",
       "      <td>0.765043</td>\n",
       "      <td>Catboost</td>\n",
       "      <td>class_weight</td>\n",
       "    </tr>\n",
       "    <tr>\n",
       "      <th>0</th>\n",
       "      <td>0.812431</td>\n",
       "      <td>0.582619</td>\n",
       "      <td>0.508547</td>\n",
       "      <td>0.681948</td>\n",
       "      <td>Decision Tree</td>\n",
       "      <td>upsampling</td>\n",
       "    </tr>\n",
       "    <tr>\n",
       "      <th>0</th>\n",
       "      <td>0.826183</td>\n",
       "      <td>0.611794</td>\n",
       "      <td>0.535484</td>\n",
       "      <td>0.713467</td>\n",
       "      <td>Random Forest</td>\n",
       "      <td>upsampling</td>\n",
       "    </tr>\n",
       "    <tr>\n",
       "      <th>0</th>\n",
       "      <td>0.713971</td>\n",
       "      <td>0.480000</td>\n",
       "      <td>0.368664</td>\n",
       "      <td>0.687679</td>\n",
       "      <td>Logistic Regression</td>\n",
       "      <td>upsampling</td>\n",
       "    </tr>\n",
       "    <tr>\n",
       "      <th>0</th>\n",
       "      <td>0.834983</td>\n",
       "      <td>0.641148</td>\n",
       "      <td>0.550308</td>\n",
       "      <td>0.767908</td>\n",
       "      <td>Catboost</td>\n",
       "      <td>upsampling</td>\n",
       "    </tr>\n",
       "  </tbody>\n",
       "</table>\n",
       "</div>"
      ],
      "text/plain": [
       "   Accuracy   F1-мера  Precision    Recall                Model         State\n",
       "0  0.872937  0.563327   0.827778  0.426934        Decision Tree    disbalance\n",
       "1  0.880088  0.596296   0.842932  0.461318        Random Forest    disbalance\n",
       "2  0.821782  0.327801   0.593985  0.226361  Logistic Regression    disbalance\n",
       "3  0.882288  0.633562   0.787234  0.530086             Catboost    disbalance\n",
       "0  0.812431  0.582619   0.508547  0.681948        Decision Tree  class_weight\n",
       "0  0.851485  0.622905   0.607629  0.638968        Random Forest  class_weight\n",
       "0  0.719472  0.480652   0.372828  0.676218  Logistic Regression  class_weight\n",
       "0  0.830033  0.633452   0.540486  0.765043             Catboost  class_weight\n",
       "0  0.812431  0.582619   0.508547  0.681948        Decision Tree    upsampling\n",
       "0  0.826183  0.611794   0.535484  0.713467        Random Forest    upsampling\n",
       "0  0.713971  0.480000   0.368664  0.687679  Logistic Regression    upsampling\n",
       "0  0.834983  0.641148   0.550308  0.767908             Catboost    upsampling"
      ]
     },
     "execution_count": 47,
     "metadata": {},
     "output_type": "execute_result"
    }
   ],
   "source": [
    "result_tbl"
   ]
  },
  {
   "cell_type": "markdown",
   "metadata": {},
   "source": [
    "### Downsampling (уменьшение выборки)"
   ]
  },
  {
   "cell_type": "code",
   "execution_count": 48,
   "metadata": {},
   "outputs": [],
   "source": [
    "# функция для уменьшения выборки\n",
    "def downsample(features, target, fraction):\n",
    "    features_zeros = features[target == 0]\n",
    "    features_ones = features[target == 1]\n",
    "    target_zeros = target[target == 0]\n",
    "    target_ones = target[target == 1]\n",
    "\n",
    "    features_downsampled = pd.concat([features_zeros.sample(frac=fraction, random_state=123)] + [features_ones])\n",
    "    target_downsampled = pd.concat([target_zeros.sample(frac=fraction, random_state=123)] + [target_ones])\n",
    "    \n",
    "    features_downsampled, target_downsampled = shuffle(features_downsampled, target_downsampled, random_state=123)\n",
    "    \n",
    "    return features_downsampled, target_downsampled"
   ]
  },
  {
   "cell_type": "code",
   "execution_count": 49,
   "metadata": {},
   "outputs": [
    {
     "name": "stdout",
     "output_type": "stream",
     "text": [
      "Accuracy = 0.8058305830583058\n",
      "F1-мера = 0.5928489042675894\n",
      "Precision = 0.49613899613899615\n",
      "Recall = 0.7363896848137536\n"
     ]
    }
   ],
   "source": [
    "# Decision Tree (Дерево решений)\n",
    "features_train, target_train, features_valid, target_valid, features_test, target_test = split_data(data=df_ordinal)\n",
    "features_train, target_train = downsample(features_train, target_train, 0.3)\n",
    "model = DecisionTreeClassifier(random_state=123, max_depth=5) \n",
    "metrics(model, model_name='Decision Tree', state='downsampling')\n",
    "result_tbl = pd.concat([result_tbl, a], axis=0)"
   ]
  },
  {
   "cell_type": "code",
   "execution_count": 50,
   "metadata": {},
   "outputs": [
    {
     "name": "stdout",
     "output_type": "stream",
     "text": [
      "Accuracy = 0.8135313531353136\n",
      "F1-мера = 0.6016451233842539\n",
      "Precision = 0.5099601593625498\n",
      "Recall = 0.7335243553008596\n"
     ]
    }
   ],
   "source": [
    "# Random Forest (Случайный лес) с гиперпараметрами n_estimators, max_depth\n",
    "model = RandomForestClassifier(random_state=123, n_estimators=15, max_depth=9)\n",
    "metrics(model, model_name='Random Forest', state='downsampling')\n",
    "result_tbl = pd.concat([result_tbl, a], axis=0)"
   ]
  },
  {
   "cell_type": "code",
   "execution_count": 51,
   "metadata": {},
   "outputs": [
    {
     "name": "stdout",
     "output_type": "stream",
     "text": [
      "Accuracy = 0.7458745874587459\n",
      "F1-мера = 0.4911894273127753\n",
      "Precision = 0.39892665474060823\n",
      "Recall = 0.6389684813753582\n"
     ]
    }
   ],
   "source": [
    "# Logistic Regression (Логическая регрессия)\n",
    "features_train, target_train, features_valid, target_valid, features_test, target_test = split_data(data=df_ohe)\n",
    "features_train, target_train = downsample(features_train, target_train, 0.3)\n",
    "model = LogisticRegression(random_state=12345, solver='liblinear')\n",
    "metrics(model, model_name='Logistic Regression', state='downsampling')\n",
    "result_tbl = pd.concat([result_tbl, a], axis=0)"
   ]
  },
  {
   "cell_type": "code",
   "execution_count": 52,
   "metadata": {},
   "outputs": [
    {
     "name": "stdout",
     "output_type": "stream",
     "text": [
      "Accuracy = 0.8283828382838284\n",
      "F1-мера = 0.6285714285714286\n",
      "Precision = 0.5376782077393075\n",
      "Recall = 0.7564469914040115\n"
     ]
    }
   ],
   "source": [
    "# Catboost\n",
    "features_train, target_train, features_valid, target_valid, features_test, target_test = split_data(data=df)\n",
    "features_train, target_train = downsample(features_train, target_train, 0.3)\n",
    "model = CatBoostClassifier(random_state=123, iterations=51, cat_features=['geography', 'gender'], verbose=0)\n",
    "metrics(model, model_name='Catboost', state='downsampling')\n",
    "result_tbl = pd.concat([result_tbl, a], axis = 0)"
   ]
  },
  {
   "cell_type": "code",
   "execution_count": 53,
   "metadata": {},
   "outputs": [
    {
     "data": {
      "text/html": [
       "<div>\n",
       "<style scoped>\n",
       "    .dataframe tbody tr th:only-of-type {\n",
       "        vertical-align: middle;\n",
       "    }\n",
       "\n",
       "    .dataframe tbody tr th {\n",
       "        vertical-align: top;\n",
       "    }\n",
       "\n",
       "    .dataframe thead th {\n",
       "        text-align: right;\n",
       "    }\n",
       "</style>\n",
       "<table border=\"1\" class=\"dataframe\">\n",
       "  <thead>\n",
       "    <tr style=\"text-align: right;\">\n",
       "      <th></th>\n",
       "      <th>Accuracy</th>\n",
       "      <th>F1-мера</th>\n",
       "      <th>Precision</th>\n",
       "      <th>Recall</th>\n",
       "      <th>Model</th>\n",
       "      <th>State</th>\n",
       "    </tr>\n",
       "  </thead>\n",
       "  <tbody>\n",
       "    <tr>\n",
       "      <th>0</th>\n",
       "      <td>0.834983</td>\n",
       "      <td>0.641148</td>\n",
       "      <td>0.550308</td>\n",
       "      <td>0.767908</td>\n",
       "      <td>Catboost</td>\n",
       "      <td>upsampling</td>\n",
       "    </tr>\n",
       "    <tr>\n",
       "      <th>3</th>\n",
       "      <td>0.882288</td>\n",
       "      <td>0.633562</td>\n",
       "      <td>0.787234</td>\n",
       "      <td>0.530086</td>\n",
       "      <td>Catboost</td>\n",
       "      <td>disbalance</td>\n",
       "    </tr>\n",
       "    <tr>\n",
       "      <th>0</th>\n",
       "      <td>0.830033</td>\n",
       "      <td>0.633452</td>\n",
       "      <td>0.540486</td>\n",
       "      <td>0.765043</td>\n",
       "      <td>Catboost</td>\n",
       "      <td>class_weight</td>\n",
       "    </tr>\n",
       "    <tr>\n",
       "      <th>0</th>\n",
       "      <td>0.828383</td>\n",
       "      <td>0.628571</td>\n",
       "      <td>0.537678</td>\n",
       "      <td>0.756447</td>\n",
       "      <td>Catboost</td>\n",
       "      <td>downsampling</td>\n",
       "    </tr>\n",
       "    <tr>\n",
       "      <th>0</th>\n",
       "      <td>0.851485</td>\n",
       "      <td>0.622905</td>\n",
       "      <td>0.607629</td>\n",
       "      <td>0.638968</td>\n",
       "      <td>Random Forest</td>\n",
       "      <td>class_weight</td>\n",
       "    </tr>\n",
       "    <tr>\n",
       "      <th>0</th>\n",
       "      <td>0.826183</td>\n",
       "      <td>0.611794</td>\n",
       "      <td>0.535484</td>\n",
       "      <td>0.713467</td>\n",
       "      <td>Random Forest</td>\n",
       "      <td>upsampling</td>\n",
       "    </tr>\n",
       "    <tr>\n",
       "      <th>0</th>\n",
       "      <td>0.813531</td>\n",
       "      <td>0.601645</td>\n",
       "      <td>0.509960</td>\n",
       "      <td>0.733524</td>\n",
       "      <td>Random Forest</td>\n",
       "      <td>downsampling</td>\n",
       "    </tr>\n",
       "    <tr>\n",
       "      <th>1</th>\n",
       "      <td>0.880088</td>\n",
       "      <td>0.596296</td>\n",
       "      <td>0.842932</td>\n",
       "      <td>0.461318</td>\n",
       "      <td>Random Forest</td>\n",
       "      <td>disbalance</td>\n",
       "    </tr>\n",
       "    <tr>\n",
       "      <th>0</th>\n",
       "      <td>0.805831</td>\n",
       "      <td>0.592849</td>\n",
       "      <td>0.496139</td>\n",
       "      <td>0.736390</td>\n",
       "      <td>Decision Tree</td>\n",
       "      <td>downsampling</td>\n",
       "    </tr>\n",
       "    <tr>\n",
       "      <th>0</th>\n",
       "      <td>0.812431</td>\n",
       "      <td>0.582619</td>\n",
       "      <td>0.508547</td>\n",
       "      <td>0.681948</td>\n",
       "      <td>Decision Tree</td>\n",
       "      <td>class_weight</td>\n",
       "    </tr>\n",
       "    <tr>\n",
       "      <th>0</th>\n",
       "      <td>0.812431</td>\n",
       "      <td>0.582619</td>\n",
       "      <td>0.508547</td>\n",
       "      <td>0.681948</td>\n",
       "      <td>Decision Tree</td>\n",
       "      <td>upsampling</td>\n",
       "    </tr>\n",
       "    <tr>\n",
       "      <th>0</th>\n",
       "      <td>0.872937</td>\n",
       "      <td>0.563327</td>\n",
       "      <td>0.827778</td>\n",
       "      <td>0.426934</td>\n",
       "      <td>Decision Tree</td>\n",
       "      <td>disbalance</td>\n",
       "    </tr>\n",
       "    <tr>\n",
       "      <th>0</th>\n",
       "      <td>0.745875</td>\n",
       "      <td>0.491189</td>\n",
       "      <td>0.398927</td>\n",
       "      <td>0.638968</td>\n",
       "      <td>Logistic Regression</td>\n",
       "      <td>downsampling</td>\n",
       "    </tr>\n",
       "    <tr>\n",
       "      <th>0</th>\n",
       "      <td>0.719472</td>\n",
       "      <td>0.480652</td>\n",
       "      <td>0.372828</td>\n",
       "      <td>0.676218</td>\n",
       "      <td>Logistic Regression</td>\n",
       "      <td>class_weight</td>\n",
       "    </tr>\n",
       "    <tr>\n",
       "      <th>0</th>\n",
       "      <td>0.713971</td>\n",
       "      <td>0.480000</td>\n",
       "      <td>0.368664</td>\n",
       "      <td>0.687679</td>\n",
       "      <td>Logistic Regression</td>\n",
       "      <td>upsampling</td>\n",
       "    </tr>\n",
       "    <tr>\n",
       "      <th>2</th>\n",
       "      <td>0.821782</td>\n",
       "      <td>0.327801</td>\n",
       "      <td>0.593985</td>\n",
       "      <td>0.226361</td>\n",
       "      <td>Logistic Regression</td>\n",
       "      <td>disbalance</td>\n",
       "    </tr>\n",
       "  </tbody>\n",
       "</table>\n",
       "</div>"
      ],
      "text/plain": [
       "   Accuracy   F1-мера  Precision    Recall                Model         State\n",
       "0  0.834983  0.641148   0.550308  0.767908             Catboost    upsampling\n",
       "3  0.882288  0.633562   0.787234  0.530086             Catboost    disbalance\n",
       "0  0.830033  0.633452   0.540486  0.765043             Catboost  class_weight\n",
       "0  0.828383  0.628571   0.537678  0.756447             Catboost  downsampling\n",
       "0  0.851485  0.622905   0.607629  0.638968        Random Forest  class_weight\n",
       "0  0.826183  0.611794   0.535484  0.713467        Random Forest    upsampling\n",
       "0  0.813531  0.601645   0.509960  0.733524        Random Forest  downsampling\n",
       "1  0.880088  0.596296   0.842932  0.461318        Random Forest    disbalance\n",
       "0  0.805831  0.592849   0.496139  0.736390        Decision Tree  downsampling\n",
       "0  0.812431  0.582619   0.508547  0.681948        Decision Tree  class_weight\n",
       "0  0.812431  0.582619   0.508547  0.681948        Decision Tree    upsampling\n",
       "0  0.872937  0.563327   0.827778  0.426934        Decision Tree    disbalance\n",
       "0  0.745875  0.491189   0.398927  0.638968  Logistic Regression  downsampling\n",
       "0  0.719472  0.480652   0.372828  0.676218  Logistic Regression  class_weight\n",
       "0  0.713971  0.480000   0.368664  0.687679  Logistic Regression    upsampling\n",
       "2  0.821782  0.327801   0.593985  0.226361  Logistic Regression    disbalance"
      ]
     },
     "execution_count": 53,
     "metadata": {},
     "output_type": "execute_result"
    }
   ],
   "source": [
    "# таблица с показателями качества моделей, отсортированная по убыванию F1-меры\n",
    "result_tbl.sort_values('F1-мера', ascending=False)"
   ]
  },
  {
   "cell_type": "markdown",
   "metadata": {},
   "source": [
    "### Вывод"
   ]
  },
  {
   "cell_type": "markdown",
   "metadata": {},
   "source": [
    "Применение методов борьбы с дисбалансом привело к увеличению показателя F1-меры, а также к значительному увеличению метрики Recall, метрика Precision, наоборот, уменьшилась.\n",
    "\n",
    "Лучший показатель **F1 = 0,64** на валидационной выборке у модели: **CatBoostClassifier(random_state=123, iterations=51, cat_features=['geography', 'gender'])** с upsampling.\n",
    "\n",
    "\n",
    "Обучим еще раз модель с лучшими показателями F1-меры и протестируем ее."
   ]
  },
  {
   "cell_type": "markdown",
   "metadata": {},
   "source": [
    "## Тестирование модели"
   ]
  },
  {
   "cell_type": "code",
   "execution_count": 54,
   "metadata": {},
   "outputs": [],
   "source": [
    "# функция для тестирования моделей\n",
    "def metrics_test(model):\n",
    "    test_predictions = model.predict(features_test)\n",
    "    accuracy_test = accuracy_score(target_test, test_predictions)\n",
    "    precision_test = precision_score(target_test, test_predictions)\n",
    "    recall_test = recall_score(target_test, test_predictions)\n",
    "    probabilities_valid = model.predict_proba(features_test)\n",
    "    probabilities_one_valid = probabilities_valid[:, 1]\n",
    "    print(\"Accuracy =\", accuracy_test)\n",
    "    print('F1-мера =', f1_score(target_test, test_predictions))\n",
    "    print('Precision =', precision_test)\n",
    "    print('Recall =', recall_test)\n",
    "    print('AUC_ROC =', roc_auc_score(target_test, probabilities_one_valid))"
   ]
  },
  {
   "cell_type": "code",
   "execution_count": 55,
   "metadata": {},
   "outputs": [
    {
     "name": "stdout",
     "output_type": "stream",
     "text": [
      "Модель обучена\n"
     ]
    }
   ],
   "source": [
    "features_train, target_train, features_valid, target_valid, features_test, target_test = split_data(data=df)\n",
    "\n",
    "# объединение тренировочной и валидационной выборок\n",
    "features_train = pd.concat([features_train, features_valid], axis = 0)\n",
    "target_train = pd.concat([target_train, target_valid], axis = 0)\n",
    "\n",
    "# upsampling\n",
    "features_train, target_train = upsample(features_train, target_train, 4)\n",
    "\n",
    "best_model = CatBoostClassifier(random_state=123, iterations=51,\n",
    "                                cat_features=['geography', 'gender'], verbose=0)\n",
    "best_model.fit(features_train, target_train)\n",
    "print('Модель обучена')"
   ]
  },
  {
   "cell_type": "code",
   "execution_count": 56,
   "metadata": {},
   "outputs": [
    {
     "name": "stdout",
     "output_type": "stream",
     "text": [
      "Accuracy = 0.7872457394172623\n",
      "F1-мера = 0.5972944849115506\n",
      "Precision = 0.5061728395061729\n",
      "Recall = 0.7284263959390863\n",
      "AUC_ROC = 0.8550235996081573\n"
     ]
    }
   ],
   "source": [
    "# тестирование модели\n",
    "metrics_test(model=best_model)"
   ]
  },
  {
   "cell_type": "code",
   "execution_count": 57,
   "metadata": {},
   "outputs": [
    {
     "data": {
      "image/png": "[encoded data removed]",
      "text/plain": [
       "<Figure size 432x288 with 1 Axes>"
      ]
     },
     "metadata": {
      "needs_background": "light"
     },
     "output_type": "display_data"
    }
   ],
   "source": [
    "roc_graph(best_model)"
   ]
  },
  {
   "cell_type": "markdown",
   "metadata": {},
   "source": [
    "### Вывод"
   ]
  },
  {
   "cell_type": "markdown",
   "metadata": {},
   "source": [
    "Итоговые метрики:\n",
    "- F1-мера = 0.597\n",
    "- AUC_ROC = 0.855\n",
    "\n",
    "В ходе тестирования модели удалось достичь необходимого значения F1-меры более 0,59. \n",
    "\n",
    "Метрика AUC-ROC рассчитывается как площадь под ROC-кривой, она показывает отличие модели от случайной. AUC-ROC случайной модели равна 0,5.\n",
    "\n",
    "По достаточно высоким значениям AUC-ROC и F1-меры можно сделать вывод, что **модель обладает хорошим качеством**."
   ]
  },
  {
   "cell_type": "markdown",
   "metadata": {},
   "source": [
    "## Общий вывод"
   ]
  },
  {
   "cell_type": "markdown",
   "metadata": {},
   "source": [
    "В ходе проекта были исследованы исторические данные о поведении клиентов и расторжении договоров с банком. \n",
    "\n",
    "В ходе исследования задачи был выявлен дисбаланс классов, а также были построены **модели для классификации**, которые предсказывают уйдёт клиент из банка в ближайшее время или нет. Для этого данные были разбиты на три выборки: **обучающую, валидационную и тестовую** в соотношении **3:1:1**. Были использованы следующие алгоритмы для построения моделей:\n",
    "1. Decision Tree (Дерево решений),\n",
    "2. Random Forest (Случайный лес) с двумя гиперпараметрами (n_estimators и max_depth),\n",
    "3. Logistic Regression (Логическая регрессия),\n",
    "4. CatBoost (Градиентный бустинг)\n",
    "\n",
    "Для каждой модели рассчитаны показатели качества - **Accuracy, F1-мера, Precision, Recall**.\n",
    "\n",
    "Для борьбы с дисбалансом было использовано три техники:\n",
    "1. class weight (взвешивание классов)\n",
    "2. upsampling (увеличение выборки)\n",
    "3. downsampling (уменьшение выборки)\n",
    "\n",
    "Использование перечисленных методов привело к увеличению **F1-меры**, а также к значительному увеличению метрики Recall, метрика Precision, наоборот, уменьшилась. Лучшей по значению **F1-меры** стала модель **CatBoost с upsampling**.\n",
    "\n",
    "В ходе тестирования модели CatBoost было получено значение F1-меры равное 0.597, что соответвует требованиям задания.\n",
    "\n",
    "Также была рассчитана метрика **AUC-ROC** и построена **ROC-кривая** для выбранной модели CatBoost. По достаточно высоким значениям AUC-ROC и F1-меры был сделан вывод о достаточно хорошем качестве выбранной модели."
   ]
  },
  {
   "cell_type": "code",
   "execution_count": null,
   "metadata": {},
   "outputs": [],
   "source": []
  }
 ],
 "metadata": {
  "ExecuteTimeLog": [
   {
    "duration": 519,
    "start_time": "2022-03-09T12:46:53.736Z"
   },
   {
    "duration": 236,
    "start_time": "2022-03-09T13:41:46.112Z"
   },
   {
    "duration": 15,
    "start_time": "2022-03-09T13:42:26.746Z"
   },
   {
    "duration": 40,
    "start_time": "2022-03-09T13:43:25.595Z"
   },
   {
    "duration": 235,
    "start_time": "2022-03-09T13:55:32.321Z"
   },
   {
    "duration": 9,
    "start_time": "2022-03-09T13:55:40.141Z"
   },
   {
    "duration": 15,
    "start_time": "2022-03-09T14:01:40.596Z"
   },
   {
    "duration": 10,
    "start_time": "2022-03-09T14:01:51.048Z"
   },
   {
    "duration": 7,
    "start_time": "2022-03-09T14:04:50.809Z"
   },
   {
    "duration": 12,
    "start_time": "2022-03-09T14:04:51.912Z"
   },
   {
    "duration": 9,
    "start_time": "2022-03-09T14:05:05.759Z"
   },
   {
    "duration": 339,
    "start_time": "2022-03-09T14:07:18.576Z"
   },
   {
    "duration": 5,
    "start_time": "2022-03-09T14:07:27.648Z"
   },
   {
    "duration": 5,
    "start_time": "2022-03-09T14:07:54.742Z"
   },
   {
    "duration": 171,
    "start_time": "2022-03-10T12:51:45.442Z"
   },
   {
    "duration": 629,
    "start_time": "2022-03-10T12:51:50.828Z"
   },
   {
    "duration": 102,
    "start_time": "2022-03-10T12:51:51.459Z"
   },
   {
    "duration": 9,
    "start_time": "2022-03-10T12:51:51.563Z"
   },
   {
    "duration": 47,
    "start_time": "2022-03-10T12:51:51.574Z"
   },
   {
    "duration": 22,
    "start_time": "2022-03-10T12:51:51.623Z"
   },
   {
    "duration": 16,
    "start_time": "2022-03-10T12:51:51.647Z"
   },
   {
    "duration": 5,
    "start_time": "2022-03-10T12:51:54.613Z"
   },
   {
    "duration": 5,
    "start_time": "2022-03-10T12:51:55.991Z"
   },
   {
    "duration": 7,
    "start_time": "2022-03-10T13:18:18.621Z"
   },
   {
    "duration": 4,
    "start_time": "2022-03-10T14:04:04.512Z"
   },
   {
    "duration": 5,
    "start_time": "2022-03-10T14:04:51.781Z"
   },
   {
    "duration": 235,
    "start_time": "2022-03-10T14:05:02.755Z"
   },
   {
    "duration": 131,
    "start_time": "2022-03-10T14:05:26.042Z"
   },
   {
    "duration": 209,
    "start_time": "2022-03-10T14:05:33.263Z"
   },
   {
    "duration": 3,
    "start_time": "2022-03-10T14:05:41.008Z"
   },
   {
    "duration": 118,
    "start_time": "2022-03-10T14:05:41.013Z"
   },
   {
    "duration": 7,
    "start_time": "2022-03-10T14:05:41.133Z"
   },
   {
    "duration": 40,
    "start_time": "2022-03-10T14:05:41.142Z"
   },
   {
    "duration": 11,
    "start_time": "2022-03-10T14:05:41.183Z"
   },
   {
    "duration": 7,
    "start_time": "2022-03-10T14:05:41.196Z"
   },
   {
    "duration": 9,
    "start_time": "2022-03-10T14:05:41.204Z"
   },
   {
    "duration": 24,
    "start_time": "2022-03-10T14:05:41.215Z"
   },
   {
    "duration": 8,
    "start_time": "2022-03-10T14:05:41.241Z"
   },
   {
    "duration": 6,
    "start_time": "2022-03-10T14:05:41.250Z"
   },
   {
    "duration": 5,
    "start_time": "2022-03-10T14:05:43.209Z"
   },
   {
    "duration": 11,
    "start_time": "2022-03-10T14:05:48.881Z"
   },
   {
    "duration": 3,
    "start_time": "2022-03-10T14:09:05.358Z"
   },
   {
    "duration": 8,
    "start_time": "2022-03-10T14:09:10.302Z"
   },
   {
    "duration": 171,
    "start_time": "2022-03-10T14:13:30.007Z"
   },
   {
    "duration": 9,
    "start_time": "2022-03-10T14:14:12.312Z"
   },
   {
    "duration": 8,
    "start_time": "2022-03-10T14:14:40.279Z"
   },
   {
    "duration": 12,
    "start_time": "2022-03-10T14:15:30.242Z"
   },
   {
    "duration": 5,
    "start_time": "2022-03-10T14:16:28.473Z"
   },
   {
    "duration": 9,
    "start_time": "2022-03-10T14:17:08.475Z"
   },
   {
    "duration": 12,
    "start_time": "2022-03-10T14:17:09.275Z"
   },
   {
    "duration": 9,
    "start_time": "2022-03-10T14:18:26.311Z"
   },
   {
    "duration": 12,
    "start_time": "2022-03-10T14:18:27.049Z"
   },
   {
    "duration": 444,
    "start_time": "2022-03-10T14:21:23.205Z"
   },
   {
    "duration": 18,
    "start_time": "2022-03-10T14:31:13.938Z"
   },
   {
    "duration": 10,
    "start_time": "2022-03-10T14:31:19.341Z"
   },
   {
    "duration": 6,
    "start_time": "2022-03-10T14:31:20.124Z"
   },
   {
    "duration": 8,
    "start_time": "2022-03-10T14:31:21.038Z"
   },
   {
    "duration": 166,
    "start_time": "2022-03-10T14:31:30.688Z"
   },
   {
    "duration": 8,
    "start_time": "2022-03-10T14:32:49.998Z"
   },
   {
    "duration": 3,
    "start_time": "2022-03-10T14:50:12.612Z"
   },
   {
    "duration": 7,
    "start_time": "2022-03-10T14:52:02.730Z"
   },
   {
    "duration": 27,
    "start_time": "2022-03-10T14:52:37.584Z"
   },
   {
    "duration": 1345,
    "start_time": "2022-03-15T16:04:48.738Z"
   },
   {
    "duration": 204,
    "start_time": "2022-03-15T16:04:50.086Z"
   },
   {
    "duration": 12,
    "start_time": "2022-03-15T16:04:50.293Z"
   },
   {
    "duration": 71,
    "start_time": "2022-03-15T16:04:50.308Z"
   },
   {
    "duration": 18,
    "start_time": "2022-03-15T16:04:50.382Z"
   },
   {
    "duration": 15,
    "start_time": "2022-03-15T16:04:50.402Z"
   },
   {
    "duration": 25,
    "start_time": "2022-03-15T16:04:50.420Z"
   },
   {
    "duration": 8,
    "start_time": "2022-03-15T16:04:50.448Z"
   },
   {
    "duration": 19,
    "start_time": "2022-03-15T16:04:50.461Z"
   },
   {
    "duration": 11,
    "start_time": "2022-03-15T16:04:50.484Z"
   },
   {
    "duration": 47,
    "start_time": "2022-03-15T16:04:50.498Z"
   },
   {
    "duration": 8,
    "start_time": "2022-03-15T16:04:50.548Z"
   },
   {
    "duration": 18,
    "start_time": "2022-03-15T16:04:50.558Z"
   },
   {
    "duration": 17,
    "start_time": "2022-03-15T16:04:50.579Z"
   },
   {
    "duration": 25,
    "start_time": "2022-03-15T16:04:50.598Z"
   },
   {
    "duration": 11,
    "start_time": "2022-03-15T16:04:54.973Z"
   },
   {
    "duration": 406,
    "start_time": "2022-03-15T16:04:57.000Z"
   },
   {
    "duration": 3,
    "start_time": "2022-03-15T16:06:18.111Z"
   },
   {
    "duration": 379,
    "start_time": "2022-03-15T16:06:29.476Z"
   },
   {
    "duration": 31,
    "start_time": "2022-03-15T16:07:27.168Z"
   },
   {
    "duration": 10,
    "start_time": "2022-03-15T16:07:49.684Z"
   },
   {
    "duration": 4,
    "start_time": "2022-03-15T16:13:34.575Z"
   },
   {
    "duration": 4,
    "start_time": "2022-03-15T16:14:06.054Z"
   },
   {
    "duration": 8,
    "start_time": "2022-03-15T17:23:19.465Z"
   },
   {
    "duration": 8,
    "start_time": "2022-03-15T17:25:51.108Z"
   },
   {
    "duration": 21,
    "start_time": "2022-03-15T17:27:14.904Z"
   },
   {
    "duration": 11,
    "start_time": "2022-03-15T17:27:28.320Z"
   },
   {
    "duration": 15,
    "start_time": "2022-03-15T17:42:53.656Z"
   },
   {
    "duration": 2529,
    "start_time": "2022-03-20T19:49:05.397Z"
   },
   {
    "duration": 109,
    "start_time": "2022-03-20T19:49:07.929Z"
   },
   {
    "duration": 21,
    "start_time": "2022-03-20T19:49:08.040Z"
   },
   {
    "duration": 18,
    "start_time": "2022-03-20T19:49:08.064Z"
   },
   {
    "duration": 62,
    "start_time": "2022-03-20T19:49:08.085Z"
   },
   {
    "duration": 19,
    "start_time": "2022-03-20T19:49:08.168Z"
   },
   {
    "duration": 6,
    "start_time": "2022-03-20T19:49:08.190Z"
   },
   {
    "duration": 12,
    "start_time": "2022-03-20T19:49:08.198Z"
   },
   {
    "duration": 8,
    "start_time": "2022-03-20T19:49:08.212Z"
   },
   {
    "duration": 57,
    "start_time": "2022-03-20T19:49:08.222Z"
   },
   {
    "duration": 10,
    "start_time": "2022-03-20T19:49:08.281Z"
   },
   {
    "duration": 17,
    "start_time": "2022-03-20T19:49:08.293Z"
   },
   {
    "duration": 15,
    "start_time": "2022-03-20T19:49:08.312Z"
   },
   {
    "duration": 17,
    "start_time": "2022-03-20T19:49:08.332Z"
   },
   {
    "duration": 4,
    "start_time": "2022-03-20T19:49:08.367Z"
   },
   {
    "duration": 39,
    "start_time": "2022-03-20T19:49:08.374Z"
   },
   {
    "duration": 77,
    "start_time": "2022-03-20T19:49:08.416Z"
   },
   {
    "duration": 8,
    "start_time": "2022-03-20T19:49:08.496Z"
   },
   {
    "duration": 12,
    "start_time": "2022-03-20T19:49:08.506Z"
   },
   {
    "duration": 14,
    "start_time": "2022-03-20T19:49:08.520Z"
   },
   {
    "duration": 54,
    "start_time": "2022-03-20T19:49:08.536Z"
   },
   {
    "duration": 1811,
    "start_time": "2022-03-20T19:49:08.593Z"
   },
   {
    "duration": 17,
    "start_time": "2022-03-20T19:49:10.406Z"
   },
   {
    "duration": 12908,
    "start_time": "2022-03-20T19:49:10.425Z"
   },
   {
    "duration": 40,
    "start_time": "2022-03-20T19:49:23.336Z"
   },
   {
    "duration": 54,
    "start_time": "2022-03-20T19:49:23.379Z"
   },
   {
    "duration": 342,
    "start_time": "2022-03-20T19:49:23.435Z"
   },
   {
    "duration": 189,
    "start_time": "2022-03-20T19:49:23.781Z"
   },
   {
    "duration": 9,
    "start_time": "2022-03-20T19:49:23.973Z"
   },
   {
    "duration": 64,
    "start_time": "2022-03-20T19:49:23.986Z"
   },
   {
    "duration": 157,
    "start_time": "2022-03-20T19:49:24.068Z"
   },
   {
    "duration": 245,
    "start_time": "2022-03-20T19:49:24.228Z"
   },
   {
    "duration": 13,
    "start_time": "2022-03-20T19:49:24.476Z"
   },
   {
    "duration": 9,
    "start_time": "2022-03-20T19:49:24.491Z"
   },
   {
    "duration": 139,
    "start_time": "2022-03-20T19:49:24.503Z"
   },
   {
    "duration": 189,
    "start_time": "2022-03-20T19:49:24.655Z"
   },
   {
    "duration": 321,
    "start_time": "2022-03-20T19:49:24.847Z"
   },
   {
    "duration": 20,
    "start_time": "2022-03-20T19:49:25.171Z"
   },
   {
    "duration": 73,
    "start_time": "2022-03-20T19:49:25.195Z"
   },
   {
    "duration": 59,
    "start_time": "2022-03-20T19:49:25.272Z"
   },
   {
    "duration": 109,
    "start_time": "2022-03-20T19:49:25.337Z"
   },
   {
    "duration": 130,
    "start_time": "2022-03-20T19:49:25.449Z"
   },
   {
    "duration": 186,
    "start_time": "2022-03-20T19:49:25.582Z"
   },
   {
    "duration": 6,
    "start_time": "2022-03-20T19:49:25.771Z"
   },
   {
    "duration": 418,
    "start_time": "2022-03-20T19:49:25.779Z"
   },
   {
    "duration": 302,
    "start_time": "2022-03-20T19:49:26.199Z"
   },
   {
    "duration": 209,
    "start_time": "2022-03-20T19:49:26.503Z"
   },
   {
    "duration": 220,
    "start_time": "2022-03-20T19:49:26.715Z"
   },
   {
    "duration": 112,
    "start_time": "2022-03-20T19:49:26.937Z"
   },
   {
    "duration": 231,
    "start_time": "2022-03-20T19:49:27.052Z"
   },
   {
    "duration": 146,
    "start_time": "2022-03-20T20:07:16.459Z"
   },
   {
    "duration": 238,
    "start_time": "2022-03-20T20:07:17.685Z"
   },
   {
    "duration": 339,
    "start_time": "2022-03-20T20:12:06.639Z"
   },
   {
    "duration": 233,
    "start_time": "2022-03-20T20:12:09.225Z"
   },
   {
    "duration": 459,
    "start_time": "2022-03-20T20:12:17.849Z"
   },
   {
    "duration": 265,
    "start_time": "2022-03-20T20:12:18.937Z"
   },
   {
    "duration": 254,
    "start_time": "2022-03-20T20:12:25.097Z"
   },
   {
    "duration": 322,
    "start_time": "2022-03-20T20:12:25.948Z"
   },
   {
    "duration": 346,
    "start_time": "2022-03-20T20:12:40.883Z"
   },
   {
    "duration": 241,
    "start_time": "2022-03-20T20:12:41.820Z"
   },
   {
    "duration": 187,
    "start_time": "2022-03-20T20:12:52.323Z"
   },
   {
    "duration": 233,
    "start_time": "2022-03-20T20:12:53.004Z"
   },
   {
    "duration": 245,
    "start_time": "2022-03-20T20:12:57.003Z"
   },
   {
    "duration": 231,
    "start_time": "2022-03-20T20:12:57.698Z"
   },
   {
    "duration": 327,
    "start_time": "2022-03-20T20:13:15.609Z"
   },
   {
    "duration": 255,
    "start_time": "2022-03-20T20:13:17.256Z"
   },
   {
    "duration": 386,
    "start_time": "2022-03-20T20:13:22.783Z"
   },
   {
    "duration": 256,
    "start_time": "2022-03-20T20:13:23.796Z"
   },
   {
    "duration": 139,
    "start_time": "2022-03-20T20:13:29.980Z"
   },
   {
    "duration": 214,
    "start_time": "2022-03-20T20:13:31.291Z"
   },
   {
    "duration": 285,
    "start_time": "2022-03-20T20:14:28.016Z"
   },
   {
    "duration": 224,
    "start_time": "2022-03-20T20:14:28.657Z"
   },
   {
    "duration": 6,
    "start_time": "2022-03-20T20:15:21.101Z"
   },
   {
    "duration": 154,
    "start_time": "2022-03-20T20:15:21.762Z"
   },
   {
    "duration": 33,
    "start_time": "2022-03-20T20:15:22.594Z"
   },
   {
    "duration": 194,
    "start_time": "2022-03-20T20:15:24.066Z"
   },
   {
    "duration": 31,
    "start_time": "2022-03-20T20:15:24.699Z"
   },
   {
    "duration": 98,
    "start_time": "2022-03-20T20:15:27.547Z"
   },
   {
    "duration": 33,
    "start_time": "2022-03-20T20:15:28.305Z"
   },
   {
    "duration": 355,
    "start_time": "2022-03-20T20:18:11.443Z"
   },
   {
    "duration": 44,
    "start_time": "2022-03-20T20:18:12.825Z"
   },
   {
    "duration": 166,
    "start_time": "2022-03-20T20:18:16.326Z"
   },
   {
    "duration": 195,
    "start_time": "2022-03-20T20:18:51.850Z"
   },
   {
    "duration": 555,
    "start_time": "2022-03-20T20:21:17.968Z"
   },
   {
    "duration": 62,
    "start_time": "2022-03-20T20:21:19.158Z"
   },
   {
    "duration": 489,
    "start_time": "2022-03-20T20:21:24.987Z"
   },
   {
    "duration": 45,
    "start_time": "2022-03-20T20:21:26.055Z"
   },
   {
    "duration": 1833,
    "start_time": "2022-03-20T21:24:21.096Z"
   },
   {
    "duration": 95,
    "start_time": "2022-03-20T21:24:22.932Z"
   },
   {
    "duration": 21,
    "start_time": "2022-03-20T21:24:23.029Z"
   },
   {
    "duration": 19,
    "start_time": "2022-03-20T21:24:23.055Z"
   },
   {
    "duration": 58,
    "start_time": "2022-03-20T21:24:23.077Z"
   },
   {
    "duration": 33,
    "start_time": "2022-03-20T21:24:23.137Z"
   },
   {
    "duration": 7,
    "start_time": "2022-03-20T21:24:23.172Z"
   },
   {
    "duration": 6,
    "start_time": "2022-03-20T21:24:23.181Z"
   },
   {
    "duration": 7,
    "start_time": "2022-03-20T21:24:23.189Z"
   },
   {
    "duration": 16,
    "start_time": "2022-03-20T21:24:23.201Z"
   },
   {
    "duration": 55,
    "start_time": "2022-03-20T21:24:23.219Z"
   },
   {
    "duration": 4,
    "start_time": "2022-03-20T21:24:23.277Z"
   },
   {
    "duration": 8,
    "start_time": "2022-03-20T21:24:23.284Z"
   },
   {
    "duration": 5,
    "start_time": "2022-03-20T21:24:23.294Z"
   },
   {
    "duration": 18,
    "start_time": "2022-03-20T21:24:23.301Z"
   },
   {
    "duration": 78,
    "start_time": "2022-03-20T21:24:23.322Z"
   },
   {
    "duration": 71,
    "start_time": "2022-03-20T21:24:23.402Z"
   },
   {
    "duration": 9,
    "start_time": "2022-03-20T21:24:23.477Z"
   },
   {
    "duration": 10,
    "start_time": "2022-03-20T21:24:23.489Z"
   },
   {
    "duration": 10,
    "start_time": "2022-03-20T21:24:23.501Z"
   },
   {
    "duration": 64,
    "start_time": "2022-03-20T21:24:23.513Z"
   },
   {
    "duration": 1718,
    "start_time": "2022-03-20T21:24:23.579Z"
   },
   {
    "duration": 18,
    "start_time": "2022-03-20T21:24:25.300Z"
   },
   {
    "duration": 10911,
    "start_time": "2022-03-20T21:24:25.321Z"
   },
   {
    "duration": 34,
    "start_time": "2022-03-20T21:24:36.235Z"
   },
   {
    "duration": 44,
    "start_time": "2022-03-20T21:24:36.271Z"
   },
   {
    "duration": 350,
    "start_time": "2022-03-20T21:24:36.318Z"
   },
   {
    "duration": 108,
    "start_time": "2022-03-20T21:24:36.677Z"
   },
   {
    "duration": 5,
    "start_time": "2022-03-20T21:24:36.788Z"
   },
   {
    "duration": 91,
    "start_time": "2022-03-20T21:24:36.796Z"
   },
   {
    "duration": 143,
    "start_time": "2022-03-20T21:24:36.889Z"
   },
   {
    "duration": 141,
    "start_time": "2022-03-20T21:24:37.034Z"
   },
   {
    "duration": 12,
    "start_time": "2022-03-20T21:24:37.268Z"
   },
   {
    "duration": 7,
    "start_time": "2022-03-20T21:24:37.282Z"
   },
   {
    "duration": 97,
    "start_time": "2022-03-20T21:24:37.291Z"
   },
   {
    "duration": 183,
    "start_time": "2022-03-20T21:24:37.390Z"
   },
   {
    "duration": 193,
    "start_time": "2022-03-20T21:24:37.575Z"
   },
   {
    "duration": 105,
    "start_time": "2022-03-20T21:24:37.772Z"
   },
   {
    "duration": 6,
    "start_time": "2022-03-20T21:24:37.879Z"
   },
   {
    "duration": 60,
    "start_time": "2022-03-20T21:24:37.887Z"
   },
   {
    "duration": 87,
    "start_time": "2022-03-20T21:24:37.967Z"
   },
   {
    "duration": 106,
    "start_time": "2022-03-20T21:24:38.068Z"
   },
   {
    "duration": 101,
    "start_time": "2022-03-20T21:24:38.178Z"
   },
   {
    "duration": 6,
    "start_time": "2022-03-20T21:24:38.282Z"
   },
   {
    "duration": 162,
    "start_time": "2022-03-20T21:24:38.291Z"
   },
   {
    "duration": 40,
    "start_time": "2022-03-20T21:24:38.455Z"
   },
   {
    "duration": 206,
    "start_time": "2022-03-20T21:24:38.497Z"
   },
   {
    "duration": 35,
    "start_time": "2022-03-20T21:24:38.705Z"
   },
   {
    "duration": 127,
    "start_time": "2022-03-20T21:24:38.744Z"
   },
   {
    "duration": 29,
    "start_time": "2022-03-20T21:24:38.874Z"
   },
   {
    "duration": 362,
    "start_time": "2022-03-20T21:24:38.905Z"
   },
   {
    "duration": 45,
    "start_time": "2022-03-20T21:24:39.270Z"
   },
   {
    "duration": 219,
    "start_time": "2022-03-20T21:24:39.317Z"
   },
   {
    "duration": 1886,
    "start_time": "2022-03-20T21:33:49.952Z"
   },
   {
    "duration": 85,
    "start_time": "2022-03-20T21:33:51.841Z"
   },
   {
    "duration": 19,
    "start_time": "2022-03-20T21:33:51.929Z"
   },
   {
    "duration": 16,
    "start_time": "2022-03-20T21:33:51.951Z"
   },
   {
    "duration": 60,
    "start_time": "2022-03-20T21:33:51.969Z"
   },
   {
    "duration": 19,
    "start_time": "2022-03-20T21:33:52.030Z"
   },
   {
    "duration": 20,
    "start_time": "2022-03-20T21:33:52.051Z"
   },
   {
    "duration": 8,
    "start_time": "2022-03-20T21:33:52.073Z"
   },
   {
    "duration": 9,
    "start_time": "2022-03-20T21:33:52.083Z"
   },
   {
    "duration": 16,
    "start_time": "2022-03-20T21:33:52.096Z"
   },
   {
    "duration": 53,
    "start_time": "2022-03-20T21:33:52.114Z"
   },
   {
    "duration": 5,
    "start_time": "2022-03-20T21:33:52.170Z"
   },
   {
    "duration": 8,
    "start_time": "2022-03-20T21:33:52.177Z"
   },
   {
    "duration": 6,
    "start_time": "2022-03-20T21:33:52.187Z"
   },
   {
    "duration": 18,
    "start_time": "2022-03-20T21:33:52.195Z"
   },
   {
    "duration": 72,
    "start_time": "2022-03-20T21:33:52.215Z"
   },
   {
    "duration": 50,
    "start_time": "2022-03-20T21:33:52.289Z"
   },
   {
    "duration": 32,
    "start_time": "2022-03-20T21:33:52.341Z"
   },
   {
    "duration": 8,
    "start_time": "2022-03-20T21:33:52.375Z"
   },
   {
    "duration": 8,
    "start_time": "2022-03-20T21:33:52.385Z"
   },
   {
    "duration": 33,
    "start_time": "2022-03-20T21:33:52.395Z"
   },
   {
    "duration": 1753,
    "start_time": "2022-03-20T21:33:52.430Z"
   },
   {
    "duration": 18,
    "start_time": "2022-03-20T21:33:54.185Z"
   },
   {
    "duration": 11129,
    "start_time": "2022-03-20T21:33:54.205Z"
   },
   {
    "duration": 32,
    "start_time": "2022-03-20T21:34:05.336Z"
   },
   {
    "duration": 42,
    "start_time": "2022-03-20T21:34:05.371Z"
   },
   {
    "duration": 354,
    "start_time": "2022-03-20T21:34:05.416Z"
   },
   {
    "duration": 106,
    "start_time": "2022-03-20T21:34:05.779Z"
   },
   {
    "duration": 6,
    "start_time": "2022-03-20T21:34:05.887Z"
   },
   {
    "duration": 77,
    "start_time": "2022-03-20T21:34:05.895Z"
   },
   {
    "duration": 147,
    "start_time": "2022-03-20T21:34:05.974Z"
   },
   {
    "duration": 147,
    "start_time": "2022-03-20T21:34:06.123Z"
   },
   {
    "duration": 98,
    "start_time": "2022-03-20T21:34:06.273Z"
   },
   {
    "duration": 6,
    "start_time": "2022-03-20T21:34:06.374Z"
   },
   {
    "duration": 94,
    "start_time": "2022-03-20T21:34:06.382Z"
   },
   {
    "duration": 181,
    "start_time": "2022-03-20T21:34:06.479Z"
   },
   {
    "duration": 105,
    "start_time": "2022-03-20T21:34:06.667Z"
   },
   {
    "duration": 102,
    "start_time": "2022-03-20T21:34:06.775Z"
   },
   {
    "duration": 7,
    "start_time": "2022-03-20T21:34:06.969Z"
   },
   {
    "duration": 53,
    "start_time": "2022-03-20T21:34:06.978Z"
   },
   {
    "duration": 111,
    "start_time": "2022-03-20T21:34:07.034Z"
   },
   {
    "duration": 123,
    "start_time": "2022-03-20T21:34:07.147Z"
   },
   {
    "duration": 103,
    "start_time": "2022-03-20T21:34:07.273Z"
   },
   {
    "duration": 6,
    "start_time": "2022-03-20T21:34:07.378Z"
   },
   {
    "duration": 153,
    "start_time": "2022-03-20T21:34:07.386Z"
   },
   {
    "duration": 44,
    "start_time": "2022-03-20T21:34:07.542Z"
   },
   {
    "duration": 204,
    "start_time": "2022-03-20T21:34:07.589Z"
   },
   {
    "duration": 30,
    "start_time": "2022-03-20T21:34:07.795Z"
   },
   {
    "duration": 116,
    "start_time": "2022-03-20T21:34:07.827Z"
   },
   {
    "duration": 42,
    "start_time": "2022-03-20T21:34:07.945Z"
   },
   {
    "duration": 351,
    "start_time": "2022-03-20T21:34:07.989Z"
   },
   {
    "duration": 56,
    "start_time": "2022-03-20T21:34:08.343Z"
   },
   {
    "duration": 220,
    "start_time": "2022-03-20T21:34:08.401Z"
   },
   {
    "duration": 2367,
    "start_time": "2022-03-22T19:29:59.543Z"
   },
   {
    "duration": 99,
    "start_time": "2022-03-22T19:30:07.603Z"
   },
   {
    "duration": 20,
    "start_time": "2022-03-22T19:30:08.361Z"
   },
   {
    "duration": 21,
    "start_time": "2022-03-22T19:30:09.456Z"
   },
   {
    "duration": 65,
    "start_time": "2022-03-22T19:30:12.442Z"
   },
   {
    "duration": 18,
    "start_time": "2022-03-22T19:30:16.574Z"
   },
   {
    "duration": 5,
    "start_time": "2022-03-22T19:30:18.713Z"
   },
   {
    "duration": 6,
    "start_time": "2022-03-22T19:30:19.061Z"
   },
   {
    "duration": 7,
    "start_time": "2022-03-22T19:30:19.580Z"
   },
   {
    "duration": 17,
    "start_time": "2022-03-22T19:30:34.649Z"
   },
   {
    "duration": 9,
    "start_time": "2022-03-22T19:30:35.174Z"
   },
   {
    "duration": 5,
    "start_time": "2022-03-22T19:30:35.441Z"
   },
   {
    "duration": 7,
    "start_time": "2022-03-22T19:30:35.773Z"
   },
   {
    "duration": 4,
    "start_time": "2022-03-22T19:30:36.069Z"
   },
   {
    "duration": 20,
    "start_time": "2022-03-22T19:30:36.559Z"
   },
   {
    "duration": 34,
    "start_time": "2022-03-22T19:30:54.613Z"
   },
   {
    "duration": 56,
    "start_time": "2022-03-22T19:34:47.888Z"
   },
   {
    "duration": 8,
    "start_time": "2022-03-22T19:34:54.001Z"
   },
   {
    "duration": 6,
    "start_time": "2022-03-22T19:53:54.286Z"
   },
   {
    "duration": 7,
    "start_time": "2022-03-22T20:15:05.355Z"
   },
   {
    "duration": 104,
    "start_time": "2022-03-22T20:15:05.365Z"
   },
   {
    "duration": 18,
    "start_time": "2022-03-22T20:15:05.473Z"
   },
   {
    "duration": 10,
    "start_time": "2022-03-22T20:15:05.494Z"
   },
   {
    "duration": 102,
    "start_time": "2022-03-22T20:15:05.506Z"
   },
   {
    "duration": 19,
    "start_time": "2022-03-22T20:15:05.610Z"
   },
   {
    "duration": 11,
    "start_time": "2022-03-22T20:15:05.632Z"
   },
   {
    "duration": 29,
    "start_time": "2022-03-22T20:15:05.646Z"
   },
   {
    "duration": 9,
    "start_time": "2022-03-22T20:15:05.678Z"
   },
   {
    "duration": 17,
    "start_time": "2022-03-22T20:15:05.693Z"
   },
   {
    "duration": 10,
    "start_time": "2022-03-22T20:15:05.711Z"
   },
   {
    "duration": 7,
    "start_time": "2022-03-22T20:15:05.723Z"
   },
   {
    "duration": 51,
    "start_time": "2022-03-22T20:15:05.732Z"
   },
   {
    "duration": 6,
    "start_time": "2022-03-22T20:15:05.786Z"
   },
   {
    "duration": 30,
    "start_time": "2022-03-22T20:15:05.794Z"
   },
   {
    "duration": 76,
    "start_time": "2022-03-22T20:15:05.827Z"
   },
   {
    "duration": 68,
    "start_time": "2022-03-22T20:15:05.907Z"
   },
   {
    "duration": 7,
    "start_time": "2022-03-22T20:15:05.977Z"
   },
   {
    "duration": 23,
    "start_time": "2022-03-22T20:15:05.987Z"
   },
   {
    "duration": 31,
    "start_time": "2022-03-22T20:15:06.013Z"
   },
   {
    "duration": 71,
    "start_time": "2022-03-22T20:15:06.047Z"
   },
   {
    "duration": 2258,
    "start_time": "2022-03-22T20:15:06.121Z"
   },
   {
    "duration": 29,
    "start_time": "2022-03-22T20:15:08.382Z"
   },
   {
    "duration": 11517,
    "start_time": "2022-03-22T20:15:08.414Z"
   },
   {
    "duration": 42,
    "start_time": "2022-03-22T20:15:19.933Z"
   },
   {
    "duration": 45,
    "start_time": "2022-03-22T20:15:19.977Z"
   },
   {
    "duration": 558,
    "start_time": "2022-03-22T20:15:20.024Z"
   },
   {
    "duration": 121,
    "start_time": "2022-03-22T20:15:20.679Z"
   },
   {
    "duration": 44,
    "start_time": "2022-03-22T20:15:20.803Z"
   },
   {
    "duration": 184,
    "start_time": "2022-03-22T20:15:20.850Z"
   },
   {
    "duration": 0,
    "start_time": "2022-03-22T20:15:21.037Z"
   },
   {
    "duration": 6,
    "start_time": "2022-03-22T20:17:22.935Z"
   },
   {
    "duration": 7,
    "start_time": "2022-03-22T20:17:33.192Z"
   },
   {
    "duration": 88,
    "start_time": "2022-03-22T20:17:33.201Z"
   },
   {
    "duration": 17,
    "start_time": "2022-03-22T20:17:33.291Z"
   },
   {
    "duration": 11,
    "start_time": "2022-03-22T20:17:33.311Z"
   },
   {
    "duration": 86,
    "start_time": "2022-03-22T20:17:33.325Z"
   },
   {
    "duration": 19,
    "start_time": "2022-03-22T20:17:33.413Z"
   },
   {
    "duration": 9,
    "start_time": "2022-03-22T20:17:33.434Z"
   },
   {
    "duration": 30,
    "start_time": "2022-03-22T20:17:33.445Z"
   },
   {
    "duration": 7,
    "start_time": "2022-03-22T20:17:33.477Z"
   },
   {
    "duration": 16,
    "start_time": "2022-03-22T20:17:33.488Z"
   },
   {
    "duration": 9,
    "start_time": "2022-03-22T20:17:33.506Z"
   },
   {
    "duration": 5,
    "start_time": "2022-03-22T20:17:33.517Z"
   },
   {
    "duration": 57,
    "start_time": "2022-03-22T20:17:33.523Z"
   },
   {
    "duration": 4,
    "start_time": "2022-03-22T20:17:33.582Z"
   },
   {
    "duration": 18,
    "start_time": "2022-03-22T20:17:33.588Z"
   },
   {
    "duration": 35,
    "start_time": "2022-03-22T20:17:33.608Z"
   },
   {
    "duration": 75,
    "start_time": "2022-03-22T20:17:33.645Z"
   },
   {
    "duration": 8,
    "start_time": "2022-03-22T20:17:33.722Z"
   },
   {
    "duration": 9,
    "start_time": "2022-03-22T20:17:33.733Z"
   },
   {
    "duration": 36,
    "start_time": "2022-03-22T20:17:33.744Z"
   },
   {
    "duration": 31,
    "start_time": "2022-03-22T20:17:33.783Z"
   },
   {
    "duration": 1813,
    "start_time": "2022-03-22T20:17:33.817Z"
   },
   {
    "duration": 23,
    "start_time": "2022-03-22T20:17:35.632Z"
   },
   {
    "duration": 11461,
    "start_time": "2022-03-22T20:17:35.657Z"
   },
   {
    "duration": 29,
    "start_time": "2022-03-22T20:17:47.120Z"
   },
   {
    "duration": 63,
    "start_time": "2022-03-22T20:17:47.151Z"
   },
   {
    "duration": 366,
    "start_time": "2022-03-22T20:17:47.216Z"
   },
   {
    "duration": 111,
    "start_time": "2022-03-22T20:17:47.680Z"
   },
   {
    "duration": 43,
    "start_time": "2022-03-22T20:17:47.793Z"
   },
   {
    "duration": 39,
    "start_time": "2022-03-22T20:17:47.838Z"
   },
   {
    "duration": 0,
    "start_time": "2022-03-22T20:17:47.880Z"
   },
   {
    "duration": 4546,
    "start_time": "2022-03-22T20:18:52.796Z"
   },
   {
    "duration": 56041,
    "start_time": "2022-03-22T20:22:38.455Z"
   },
   {
    "duration": 51674,
    "start_time": "2022-03-22T20:27:38.199Z"
   },
   {
    "duration": 1204,
    "start_time": "2022-03-22T20:29:43.650Z"
   },
   {
    "duration": 53710,
    "start_time": "2022-03-22T20:31:37.877Z"
   },
   {
    "duration": 28,
    "start_time": "2022-03-22T20:32:36.999Z"
   },
   {
    "duration": 32,
    "start_time": "2022-03-22T20:34:58.717Z"
   },
   {
    "duration": 7,
    "start_time": "2022-03-22T20:37:46.129Z"
   },
   {
    "duration": 1610730,
    "start_time": "2022-03-22T20:39:23.066Z"
   },
   {
    "duration": 3294,
    "start_time": "2022-03-23T10:16:02.222Z"
   },
   {
    "duration": 103,
    "start_time": "2022-03-23T10:16:05.519Z"
   },
   {
    "duration": 19,
    "start_time": "2022-03-23T10:16:05.624Z"
   },
   {
    "duration": 16,
    "start_time": "2022-03-23T10:16:05.645Z"
   },
   {
    "duration": 75,
    "start_time": "2022-03-23T10:16:05.664Z"
   },
   {
    "duration": 19,
    "start_time": "2022-03-23T10:16:05.742Z"
   },
   {
    "duration": 29,
    "start_time": "2022-03-23T10:16:05.763Z"
   },
   {
    "duration": 20,
    "start_time": "2022-03-23T10:16:05.795Z"
   },
   {
    "duration": 13,
    "start_time": "2022-03-23T10:16:05.817Z"
   },
   {
    "duration": 35,
    "start_time": "2022-03-23T10:16:05.832Z"
   },
   {
    "duration": 18,
    "start_time": "2022-03-23T10:16:05.869Z"
   },
   {
    "duration": 6,
    "start_time": "2022-03-23T10:16:05.890Z"
   },
   {
    "duration": 26,
    "start_time": "2022-03-23T10:16:05.899Z"
   },
   {
    "duration": 15,
    "start_time": "2022-03-23T10:16:05.929Z"
   },
   {
    "duration": 31,
    "start_time": "2022-03-23T10:16:05.946Z"
   },
   {
    "duration": 45,
    "start_time": "2022-03-23T10:16:05.979Z"
   },
   {
    "duration": 60,
    "start_time": "2022-03-23T10:16:06.027Z"
   },
   {
    "duration": 10,
    "start_time": "2022-03-23T10:16:06.090Z"
   },
   {
    "duration": 22,
    "start_time": "2022-03-23T10:16:06.102Z"
   },
   {
    "duration": 33,
    "start_time": "2022-03-23T10:16:06.127Z"
   },
   {
    "duration": 54,
    "start_time": "2022-03-23T10:16:06.163Z"
   },
   {
    "duration": 2299,
    "start_time": "2022-03-23T10:16:15.331Z"
   },
   {
    "duration": 14087,
    "start_time": "2022-03-23T10:17:31.365Z"
   },
   {
    "duration": 181,
    "start_time": "2022-03-23T10:21:02.505Z"
   },
   {
    "duration": 33,
    "start_time": "2022-03-23T10:21:14.961Z"
   },
   {
    "duration": 34,
    "start_time": "2022-03-23T10:21:24.433Z"
   },
   {
    "duration": 23,
    "start_time": "2022-03-23T10:21:53.025Z"
   },
   {
    "duration": 45692,
    "start_time": "2022-03-23T10:23:24.122Z"
   },
   {
    "duration": 43,
    "start_time": "2022-03-23T10:24:56.885Z"
   },
   {
    "duration": 7330,
    "start_time": "2022-03-23T10:24:59.458Z"
   },
   {
    "duration": 29,
    "start_time": "2022-03-23T10:25:16.351Z"
   },
   {
    "duration": 44486,
    "start_time": "2022-03-23T10:25:32.625Z"
   },
   {
    "duration": 138,
    "start_time": "2022-03-23T10:26:53.180Z"
   },
   {
    "duration": 136,
    "start_time": "2022-03-23T10:27:03.836Z"
   },
   {
    "duration": 127159,
    "start_time": "2022-03-23T10:27:21.958Z"
   },
   {
    "duration": 0,
    "start_time": "2022-03-23T10:29:29.119Z"
   },
   {
    "duration": 29,
    "start_time": "2022-03-23T10:29:39.087Z"
   },
   {
    "duration": 7143,
    "start_time": "2022-03-23T10:29:43.150Z"
   },
   {
    "duration": 29,
    "start_time": "2022-03-23T10:31:50.957Z"
   },
   {
    "duration": 22,
    "start_time": "2022-03-23T10:32:29.292Z"
   },
   {
    "duration": 28,
    "start_time": "2022-03-23T10:35:00.359Z"
   },
   {
    "duration": 7186,
    "start_time": "2022-03-23T10:35:01.678Z"
   },
   {
    "duration": 44903,
    "start_time": "2022-03-23T10:35:18.202Z"
   },
   {
    "duration": 121,
    "start_time": "2022-03-23T10:36:28.589Z"
   },
   {
    "duration": 151,
    "start_time": "2022-03-23T10:37:07.477Z"
   },
   {
    "duration": 131,
    "start_time": "2022-03-23T10:40:33.298Z"
   },
   {
    "duration": 137,
    "start_time": "2022-03-23T10:40:43.392Z"
   },
   {
    "duration": 134,
    "start_time": "2022-03-23T10:40:49.052Z"
   },
   {
    "duration": 135,
    "start_time": "2022-03-23T10:40:56.983Z"
   },
   {
    "duration": 135,
    "start_time": "2022-03-23T10:41:16.496Z"
   },
   {
    "duration": 132,
    "start_time": "2022-03-23T10:41:21.038Z"
   },
   {
    "duration": 136,
    "start_time": "2022-03-23T10:41:30.482Z"
   },
   {
    "duration": 45,
    "start_time": "2022-03-23T10:43:39.096Z"
   },
   {
    "duration": 29,
    "start_time": "2022-03-23T10:44:02.958Z"
   },
   {
    "duration": 331528,
    "start_time": "2022-03-23T10:46:14.373Z"
   },
   {
    "duration": 1373,
    "start_time": "2022-03-23T10:52:01.622Z"
   },
   {
    "duration": 27,
    "start_time": "2022-03-23T10:57:55.144Z"
   },
   {
    "duration": 119,
    "start_time": "2022-03-23T10:58:00.889Z"
   },
   {
    "duration": 1628,
    "start_time": "2022-03-23T14:11:29.093Z"
   },
   {
    "duration": 72,
    "start_time": "2022-03-23T14:11:30.724Z"
   },
   {
    "duration": 15,
    "start_time": "2022-03-23T14:11:30.797Z"
   },
   {
    "duration": 14,
    "start_time": "2022-03-23T14:11:30.814Z"
   },
   {
    "duration": 52,
    "start_time": "2022-03-23T14:11:30.830Z"
   },
   {
    "duration": 13,
    "start_time": "2022-03-23T14:11:30.883Z"
   },
   {
    "duration": 18,
    "start_time": "2022-03-23T14:11:30.897Z"
   },
   {
    "duration": 35,
    "start_time": "2022-03-23T14:11:30.917Z"
   },
   {
    "duration": 36,
    "start_time": "2022-03-23T14:11:30.953Z"
   },
   {
    "duration": 31,
    "start_time": "2022-03-23T14:11:30.992Z"
   },
   {
    "duration": 8,
    "start_time": "2022-03-23T14:11:31.024Z"
   },
   {
    "duration": 11,
    "start_time": "2022-03-23T14:11:31.033Z"
   },
   {
    "duration": 63,
    "start_time": "2022-03-23T14:11:31.046Z"
   },
   {
    "duration": 15,
    "start_time": "2022-03-23T14:11:31.110Z"
   },
   {
    "duration": 28,
    "start_time": "2022-03-23T14:11:31.127Z"
   },
   {
    "duration": 50,
    "start_time": "2022-03-23T14:11:31.157Z"
   },
   {
    "duration": 71,
    "start_time": "2022-03-23T14:11:31.209Z"
   },
   {
    "duration": 8,
    "start_time": "2022-03-23T14:11:31.282Z"
   },
   {
    "duration": 27,
    "start_time": "2022-03-23T14:11:31.292Z"
   },
   {
    "duration": 24,
    "start_time": "2022-03-23T14:11:31.321Z"
   },
   {
    "duration": 38,
    "start_time": "2022-03-23T14:11:31.349Z"
   },
   {
    "duration": 134,
    "start_time": "2022-03-23T14:11:31.389Z"
   },
   {
    "duration": 0,
    "start_time": "2022-03-23T14:11:31.525Z"
   },
   {
    "duration": 0,
    "start_time": "2022-03-23T14:11:31.526Z"
   },
   {
    "duration": 0,
    "start_time": "2022-03-23T14:11:31.533Z"
   },
   {
    "duration": 0,
    "start_time": "2022-03-23T14:11:31.534Z"
   },
   {
    "duration": 0,
    "start_time": "2022-03-23T14:11:31.535Z"
   },
   {
    "duration": 0,
    "start_time": "2022-03-23T14:11:31.537Z"
   },
   {
    "duration": 0,
    "start_time": "2022-03-23T14:11:31.538Z"
   },
   {
    "duration": 0,
    "start_time": "2022-03-23T14:11:31.539Z"
   },
   {
    "duration": 0,
    "start_time": "2022-03-23T14:11:31.541Z"
   },
   {
    "duration": 0,
    "start_time": "2022-03-23T14:11:31.542Z"
   },
   {
    "duration": 0,
    "start_time": "2022-03-23T14:11:31.543Z"
   },
   {
    "duration": 0,
    "start_time": "2022-03-23T14:11:31.544Z"
   },
   {
    "duration": 0,
    "start_time": "2022-03-23T14:11:31.546Z"
   },
   {
    "duration": 0,
    "start_time": "2022-03-23T14:11:31.547Z"
   },
   {
    "duration": 0,
    "start_time": "2022-03-23T14:11:31.548Z"
   },
   {
    "duration": 0,
    "start_time": "2022-03-23T14:11:31.550Z"
   },
   {
    "duration": 0,
    "start_time": "2022-03-23T14:11:31.551Z"
   },
   {
    "duration": 0,
    "start_time": "2022-03-23T14:11:31.552Z"
   },
   {
    "duration": 0,
    "start_time": "2022-03-23T14:11:31.553Z"
   },
   {
    "duration": 0,
    "start_time": "2022-03-23T14:11:31.555Z"
   },
   {
    "duration": 0,
    "start_time": "2022-03-23T14:11:31.557Z"
   },
   {
    "duration": 0,
    "start_time": "2022-03-23T14:11:31.558Z"
   },
   {
    "duration": 0,
    "start_time": "2022-03-23T14:11:31.560Z"
   },
   {
    "duration": 0,
    "start_time": "2022-03-23T14:11:31.561Z"
   },
   {
    "duration": 0,
    "start_time": "2022-03-23T14:11:31.562Z"
   },
   {
    "duration": 0,
    "start_time": "2022-03-23T14:11:31.563Z"
   },
   {
    "duration": 0,
    "start_time": "2022-03-23T14:11:31.565Z"
   },
   {
    "duration": 0,
    "start_time": "2022-03-23T14:11:31.566Z"
   },
   {
    "duration": 0,
    "start_time": "2022-03-23T14:11:31.567Z"
   },
   {
    "duration": 0,
    "start_time": "2022-03-23T14:11:31.569Z"
   },
   {
    "duration": 0,
    "start_time": "2022-03-23T14:11:31.570Z"
   },
   {
    "duration": 0,
    "start_time": "2022-03-23T14:11:31.571Z"
   },
   {
    "duration": 0,
    "start_time": "2022-03-23T14:11:31.571Z"
   },
   {
    "duration": 0,
    "start_time": "2022-03-23T14:11:31.633Z"
   },
   {
    "duration": 0,
    "start_time": "2022-03-23T14:11:31.634Z"
   },
   {
    "duration": 0,
    "start_time": "2022-03-23T14:11:31.635Z"
   },
   {
    "duration": 1,
    "start_time": "2022-03-23T14:11:31.636Z"
   },
   {
    "duration": 0,
    "start_time": "2022-03-23T14:11:31.637Z"
   },
   {
    "duration": 0,
    "start_time": "2022-03-23T14:11:31.638Z"
   },
   {
    "duration": 0,
    "start_time": "2022-03-23T14:11:31.639Z"
   },
   {
    "duration": 0,
    "start_time": "2022-03-23T14:11:31.641Z"
   },
   {
    "duration": 22,
    "start_time": "2022-03-23T14:12:31.975Z"
   },
   {
    "duration": 1281,
    "start_time": "2022-03-23T14:12:31.998Z"
   },
   {
    "duration": 6220,
    "start_time": "2022-03-23T14:12:33.281Z"
   },
   {
    "duration": 34,
    "start_time": "2022-03-23T14:12:39.504Z"
   },
   {
    "duration": 17,
    "start_time": "2022-03-23T14:12:39.539Z"
   },
   {
    "duration": 7512,
    "start_time": "2022-03-23T14:12:39.558Z"
   },
   {
    "duration": 19,
    "start_time": "2022-03-23T14:12:47.072Z"
   },
   {
    "duration": 30623,
    "start_time": "2022-03-23T14:12:47.093Z"
   },
   {
    "duration": 90,
    "start_time": "2022-03-23T14:13:17.718Z"
   },
   {
    "duration": 37,
    "start_time": "2022-03-23T14:13:17.810Z"
   },
   {
    "duration": 285,
    "start_time": "2022-03-23T14:13:17.849Z"
   },
   {
    "duration": 108,
    "start_time": "2022-03-23T14:13:18.137Z"
   },
   {
    "duration": 30,
    "start_time": "2022-03-23T14:13:18.247Z"
   },
   {
    "duration": 39285,
    "start_time": "2022-03-23T14:13:18.278Z"
   },
   {
    "duration": 20,
    "start_time": "2022-03-23T14:13:57.565Z"
   },
   {
    "duration": 5,
    "start_time": "2022-03-23T14:13:57.587Z"
   },
   {
    "duration": 45,
    "start_time": "2022-03-23T14:13:57.594Z"
   },
   {
    "duration": 101,
    "start_time": "2022-03-23T14:13:57.640Z"
   },
   {
    "duration": 95,
    "start_time": "2022-03-23T14:13:57.743Z"
   },
   {
    "duration": 135,
    "start_time": "2022-03-23T14:13:57.840Z"
   },
   {
    "duration": 0,
    "start_time": "2022-03-23T14:13:57.977Z"
   },
   {
    "duration": 0,
    "start_time": "2022-03-23T14:13:57.978Z"
   },
   {
    "duration": 0,
    "start_time": "2022-03-23T14:13:57.980Z"
   },
   {
    "duration": 0,
    "start_time": "2022-03-23T14:13:57.981Z"
   },
   {
    "duration": 1,
    "start_time": "2022-03-23T14:13:57.982Z"
   },
   {
    "duration": 0,
    "start_time": "2022-03-23T14:13:57.984Z"
   },
   {
    "duration": 0,
    "start_time": "2022-03-23T14:13:57.985Z"
   },
   {
    "duration": 0,
    "start_time": "2022-03-23T14:13:57.987Z"
   },
   {
    "duration": 0,
    "start_time": "2022-03-23T14:13:57.988Z"
   },
   {
    "duration": 0,
    "start_time": "2022-03-23T14:13:57.989Z"
   },
   {
    "duration": 0,
    "start_time": "2022-03-23T14:13:57.991Z"
   },
   {
    "duration": 0,
    "start_time": "2022-03-23T14:13:57.992Z"
   },
   {
    "duration": 0,
    "start_time": "2022-03-23T14:13:57.994Z"
   },
   {
    "duration": 0,
    "start_time": "2022-03-23T14:13:57.995Z"
   },
   {
    "duration": 0,
    "start_time": "2022-03-23T14:13:58.034Z"
   },
   {
    "duration": 0,
    "start_time": "2022-03-23T14:13:58.035Z"
   },
   {
    "duration": 0,
    "start_time": "2022-03-23T14:13:58.037Z"
   },
   {
    "duration": 0,
    "start_time": "2022-03-23T14:13:58.038Z"
   },
   {
    "duration": 0,
    "start_time": "2022-03-23T14:13:58.039Z"
   },
   {
    "duration": 0,
    "start_time": "2022-03-23T14:13:58.040Z"
   },
   {
    "duration": 0,
    "start_time": "2022-03-23T14:13:58.042Z"
   },
   {
    "duration": 0,
    "start_time": "2022-03-23T14:13:58.043Z"
   },
   {
    "duration": 0,
    "start_time": "2022-03-23T14:13:58.044Z"
   },
   {
    "duration": 749,
    "start_time": "2022-03-23T14:19:46.260Z"
   },
   {
    "duration": 1052,
    "start_time": "2022-03-23T14:26:43.549Z"
   },
   {
    "duration": 811,
    "start_time": "2022-03-23T14:26:58.839Z"
   },
   {
    "duration": 10,
    "start_time": "2022-03-23T14:28:11.101Z"
   },
   {
    "duration": 4,
    "start_time": "2022-03-23T14:28:16.857Z"
   },
   {
    "duration": 57,
    "start_time": "2022-03-23T14:28:16.863Z"
   },
   {
    "duration": 121,
    "start_time": "2022-03-23T14:28:16.921Z"
   },
   {
    "duration": 189,
    "start_time": "2022-03-23T14:28:17.044Z"
   },
   {
    "duration": 883,
    "start_time": "2022-03-23T14:28:17.235Z"
   },
   {
    "duration": 11,
    "start_time": "2022-03-23T14:28:18.120Z"
   },
   {
    "duration": 12,
    "start_time": "2022-03-23T14:28:18.133Z"
   },
   {
    "duration": 45,
    "start_time": "2022-03-23T14:28:18.147Z"
   },
   {
    "duration": 71,
    "start_time": "2022-03-23T14:28:18.195Z"
   },
   {
    "duration": 172,
    "start_time": "2022-03-23T14:28:18.268Z"
   },
   {
    "duration": 1340,
    "start_time": "2022-03-23T14:28:18.442Z"
   },
   {
    "duration": 11,
    "start_time": "2022-03-23T14:28:19.784Z"
   },
   {
    "duration": 22,
    "start_time": "2022-03-23T14:28:19.797Z"
   },
   {
    "duration": 129,
    "start_time": "2022-03-23T14:28:19.820Z"
   },
   {
    "duration": 27,
    "start_time": "2022-03-23T14:28:19.951Z"
   },
   {
    "duration": 166,
    "start_time": "2022-03-23T14:28:19.980Z"
   },
   {
    "duration": 22,
    "start_time": "2022-03-23T14:28:20.148Z"
   },
   {
    "duration": 95,
    "start_time": "2022-03-23T14:28:20.172Z"
   },
   {
    "duration": 21,
    "start_time": "2022-03-23T14:28:20.269Z"
   },
   {
    "duration": 302,
    "start_time": "2022-03-23T14:28:20.292Z"
   },
   {
    "duration": 43,
    "start_time": "2022-03-23T14:28:20.596Z"
   },
   {
    "duration": 135,
    "start_time": "2022-03-23T14:28:20.641Z"
   },
   {
    "duration": 3745,
    "start_time": "2022-03-23T14:32:51.356Z"
   },
   {
    "duration": 11,
    "start_time": "2022-03-23T14:32:59.725Z"
   },
   {
    "duration": 1118,
    "start_time": "2022-03-23T14:35:04.882Z"
   },
   {
    "duration": 11,
    "start_time": "2022-03-23T14:35:08.861Z"
   },
   {
    "duration": 106,
    "start_time": "2022-03-23T14:41:57.761Z"
   },
   {
    "duration": 1377,
    "start_time": "2022-03-23T15:03:25.992Z"
   },
   {
    "duration": 65,
    "start_time": "2022-03-23T15:03:27.371Z"
   },
   {
    "duration": 13,
    "start_time": "2022-03-23T15:03:27.438Z"
   },
   {
    "duration": 10,
    "start_time": "2022-03-23T15:03:27.453Z"
   },
   {
    "duration": 39,
    "start_time": "2022-03-23T15:03:27.464Z"
   },
   {
    "duration": 29,
    "start_time": "2022-03-23T15:03:27.505Z"
   },
   {
    "duration": 7,
    "start_time": "2022-03-23T15:03:27.536Z"
   },
   {
    "duration": 8,
    "start_time": "2022-03-23T15:03:27.544Z"
   },
   {
    "duration": 6,
    "start_time": "2022-03-23T15:03:27.553Z"
   },
   {
    "duration": 16,
    "start_time": "2022-03-23T15:03:27.561Z"
   },
   {
    "duration": 7,
    "start_time": "2022-03-23T15:03:27.578Z"
   },
   {
    "duration": 3,
    "start_time": "2022-03-23T15:03:27.587Z"
   },
   {
    "duration": 9,
    "start_time": "2022-03-23T15:03:27.592Z"
   },
   {
    "duration": 32,
    "start_time": "2022-03-23T15:03:27.603Z"
   },
   {
    "duration": 18,
    "start_time": "2022-03-23T15:03:27.637Z"
   },
   {
    "duration": 29,
    "start_time": "2022-03-23T15:03:27.657Z"
   },
   {
    "duration": 35,
    "start_time": "2022-03-23T15:03:27.688Z"
   },
   {
    "duration": 6,
    "start_time": "2022-03-23T15:03:27.734Z"
   },
   {
    "duration": 8,
    "start_time": "2022-03-23T15:03:27.742Z"
   },
   {
    "duration": 19,
    "start_time": "2022-03-23T15:03:27.751Z"
   },
   {
    "duration": 31,
    "start_time": "2022-03-23T15:03:27.772Z"
   },
   {
    "duration": 1239,
    "start_time": "2022-03-23T15:03:27.805Z"
   },
   {
    "duration": 5363,
    "start_time": "2022-03-23T15:03:29.046Z"
   },
   {
    "duration": 28,
    "start_time": "2022-03-23T15:03:34.411Z"
   },
   {
    "duration": 16,
    "start_time": "2022-03-23T15:03:34.440Z"
   },
   {
    "duration": 7237,
    "start_time": "2022-03-23T15:03:34.457Z"
   },
   {
    "duration": 17,
    "start_time": "2022-03-23T15:03:41.696Z"
   },
   {
    "duration": 30662,
    "start_time": "2022-03-23T15:03:41.716Z"
   },
   {
    "duration": 98,
    "start_time": "2022-03-23T15:04:12.380Z"
   },
   {
    "duration": 30,
    "start_time": "2022-03-23T15:04:12.480Z"
   },
   {
    "duration": 224,
    "start_time": "2022-03-23T15:04:12.512Z"
   },
   {
    "duration": 108,
    "start_time": "2022-03-23T15:04:12.739Z"
   },
   {
    "duration": 29,
    "start_time": "2022-03-23T15:04:12.849Z"
   },
   {
    "duration": 40395,
    "start_time": "2022-03-23T15:04:12.880Z"
   },
   {
    "duration": 16,
    "start_time": "2022-03-23T15:04:53.277Z"
   },
   {
    "duration": 5,
    "start_time": "2022-03-23T15:04:53.294Z"
   },
   {
    "duration": 54,
    "start_time": "2022-03-23T15:04:53.301Z"
   },
   {
    "duration": 136,
    "start_time": "2022-03-23T15:04:53.356Z"
   },
   {
    "duration": 142,
    "start_time": "2022-03-23T15:04:53.494Z"
   },
   {
    "duration": 881,
    "start_time": "2022-03-23T15:04:53.639Z"
   },
   {
    "duration": 11,
    "start_time": "2022-03-23T15:04:54.521Z"
   },
   {
    "duration": 5,
    "start_time": "2022-03-23T15:04:54.534Z"
   },
   {
    "duration": 52,
    "start_time": "2022-03-23T15:04:54.542Z"
   },
   {
    "duration": 137,
    "start_time": "2022-03-23T15:04:54.596Z"
   },
   {
    "duration": 111,
    "start_time": "2022-03-23T15:04:54.734Z"
   },
   {
    "duration": 906,
    "start_time": "2022-03-23T15:04:54.933Z"
   },
   {
    "duration": 12,
    "start_time": "2022-03-23T15:04:55.841Z"
   },
   {
    "duration": 11,
    "start_time": "2022-03-23T15:04:55.855Z"
   },
   {
    "duration": 42,
    "start_time": "2022-03-23T15:04:55.868Z"
   },
   {
    "duration": 81,
    "start_time": "2022-03-23T15:04:55.912Z"
   },
   {
    "duration": 139,
    "start_time": "2022-03-23T15:04:55.995Z"
   },
   {
    "duration": 931,
    "start_time": "2022-03-23T15:04:56.136Z"
   },
   {
    "duration": 11,
    "start_time": "2022-03-23T15:04:57.069Z"
   },
   {
    "duration": 14,
    "start_time": "2022-03-23T15:04:57.082Z"
   },
   {
    "duration": 855,
    "start_time": "2022-03-23T15:04:57.098Z"
   },
   {
    "duration": 11,
    "start_time": "2022-03-23T15:04:57.955Z"
   },
   {
    "duration": 110,
    "start_time": "2022-03-23T15:04:57.968Z"
   },
   {
    "duration": 5,
    "start_time": "2022-03-23T16:24:48.756Z"
   },
   {
    "duration": 13,
    "start_time": "2022-03-23T16:24:53.556Z"
   },
   {
    "duration": 1582,
    "start_time": "2022-03-23T17:15:08.806Z"
   },
   {
    "duration": 71,
    "start_time": "2022-03-23T17:15:10.390Z"
   },
   {
    "duration": 14,
    "start_time": "2022-03-23T17:15:10.462Z"
   },
   {
    "duration": 19,
    "start_time": "2022-03-23T17:15:10.478Z"
   },
   {
    "duration": 46,
    "start_time": "2022-03-23T17:15:10.499Z"
   },
   {
    "duration": 13,
    "start_time": "2022-03-23T17:15:10.546Z"
   },
   {
    "duration": 8,
    "start_time": "2022-03-23T17:15:10.561Z"
   },
   {
    "duration": 7,
    "start_time": "2022-03-23T17:15:10.571Z"
   },
   {
    "duration": 10,
    "start_time": "2022-03-23T17:15:10.580Z"
   },
   {
    "duration": 19,
    "start_time": "2022-03-23T17:15:10.594Z"
   },
   {
    "duration": 8,
    "start_time": "2022-03-23T17:15:10.633Z"
   },
   {
    "duration": 15,
    "start_time": "2022-03-23T17:15:10.642Z"
   },
   {
    "duration": 22,
    "start_time": "2022-03-23T17:15:10.658Z"
   },
   {
    "duration": 6,
    "start_time": "2022-03-23T17:15:10.682Z"
   },
   {
    "duration": 18,
    "start_time": "2022-03-23T17:15:10.690Z"
   },
   {
    "duration": 31,
    "start_time": "2022-03-23T17:15:10.709Z"
   },
   {
    "duration": 35,
    "start_time": "2022-03-23T17:15:10.742Z"
   },
   {
    "duration": 6,
    "start_time": "2022-03-23T17:15:10.779Z"
   },
   {
    "duration": 10,
    "start_time": "2022-03-23T17:15:10.786Z"
   },
   {
    "duration": 13,
    "start_time": "2022-03-23T17:15:10.797Z"
   },
   {
    "duration": 36,
    "start_time": "2022-03-23T17:15:10.811Z"
   },
   {
    "duration": 1210,
    "start_time": "2022-03-23T17:15:10.849Z"
   },
   {
    "duration": 5126,
    "start_time": "2022-03-23T17:15:12.061Z"
   },
   {
    "duration": 20,
    "start_time": "2022-03-23T17:15:17.189Z"
   },
   {
    "duration": 31,
    "start_time": "2022-03-23T17:15:17.211Z"
   },
   {
    "duration": 7212,
    "start_time": "2022-03-23T17:15:17.244Z"
   },
   {
    "duration": 17,
    "start_time": "2022-03-23T17:15:24.458Z"
   },
   {
    "duration": 29712,
    "start_time": "2022-03-23T17:15:24.479Z"
   },
   {
    "duration": 90,
    "start_time": "2022-03-23T17:15:54.193Z"
   },
   {
    "duration": 30,
    "start_time": "2022-03-23T17:15:54.285Z"
   },
   {
    "duration": 217,
    "start_time": "2022-03-23T17:15:54.317Z"
   },
   {
    "duration": 108,
    "start_time": "2022-03-23T17:15:54.537Z"
   },
   {
    "duration": 27,
    "start_time": "2022-03-23T17:15:54.647Z"
   },
   {
    "duration": 20528,
    "start_time": "2022-03-23T17:15:54.675Z"
   },
   {
    "duration": 16,
    "start_time": "2022-03-23T17:16:15.205Z"
   },
   {
    "duration": 4,
    "start_time": "2022-03-23T17:16:15.223Z"
   },
   {
    "duration": 58,
    "start_time": "2022-03-23T17:16:15.229Z"
   },
   {
    "duration": 88,
    "start_time": "2022-03-23T17:16:15.289Z"
   },
   {
    "duration": 62,
    "start_time": "2022-03-23T17:16:15.378Z"
   },
   {
    "duration": 971,
    "start_time": "2022-03-23T17:16:15.442Z"
   },
   {
    "duration": 10,
    "start_time": "2022-03-23T17:16:16.414Z"
   },
   {
    "duration": 9,
    "start_time": "2022-03-23T17:16:16.426Z"
   },
   {
    "duration": 52,
    "start_time": "2022-03-23T17:16:16.437Z"
   },
   {
    "duration": 118,
    "start_time": "2022-03-23T17:16:16.490Z"
   },
   {
    "duration": 129,
    "start_time": "2022-03-23T17:16:16.609Z"
   },
   {
    "duration": 1039,
    "start_time": "2022-03-23T17:16:16.741Z"
   },
   {
    "duration": 9,
    "start_time": "2022-03-23T17:16:17.782Z"
   },
   {
    "duration": 8,
    "start_time": "2022-03-23T17:16:17.793Z"
   },
   {
    "duration": 42,
    "start_time": "2022-03-23T17:16:17.803Z"
   },
   {
    "duration": 60,
    "start_time": "2022-03-23T17:16:17.847Z"
   },
   {
    "duration": 132,
    "start_time": "2022-03-23T17:16:17.909Z"
   },
   {
    "duration": 751,
    "start_time": "2022-03-23T17:16:18.133Z"
   },
   {
    "duration": 14,
    "start_time": "2022-03-23T17:16:18.885Z"
   },
   {
    "duration": 7,
    "start_time": "2022-03-23T17:16:18.900Z"
   },
   {
    "duration": 863,
    "start_time": "2022-03-23T17:16:18.908Z"
   },
   {
    "duration": 15,
    "start_time": "2022-03-23T17:16:19.773Z"
   },
   {
    "duration": 113,
    "start_time": "2022-03-23T17:16:19.790Z"
   },
   {
    "duration": 1369,
    "start_time": "2022-03-23T17:25:51.193Z"
   },
   {
    "duration": 59,
    "start_time": "2022-03-23T17:25:52.564Z"
   },
   {
    "duration": 13,
    "start_time": "2022-03-23T17:25:52.625Z"
   },
   {
    "duration": 10,
    "start_time": "2022-03-23T17:25:52.639Z"
   },
   {
    "duration": 39,
    "start_time": "2022-03-23T17:25:52.651Z"
   },
   {
    "duration": 11,
    "start_time": "2022-03-23T17:25:52.691Z"
   },
   {
    "duration": 31,
    "start_time": "2022-03-23T17:25:52.703Z"
   },
   {
    "duration": 8,
    "start_time": "2022-03-23T17:25:52.735Z"
   },
   {
    "duration": 6,
    "start_time": "2022-03-23T17:25:52.745Z"
   },
   {
    "duration": 13,
    "start_time": "2022-03-23T17:25:52.753Z"
   },
   {
    "duration": 7,
    "start_time": "2022-03-23T17:25:52.768Z"
   },
   {
    "duration": 6,
    "start_time": "2022-03-23T17:25:52.777Z"
   },
   {
    "duration": 11,
    "start_time": "2022-03-23T17:25:52.785Z"
   },
   {
    "duration": 4,
    "start_time": "2022-03-23T17:25:52.800Z"
   },
   {
    "duration": 37,
    "start_time": "2022-03-23T17:25:52.805Z"
   },
   {
    "duration": 23,
    "start_time": "2022-03-23T17:25:52.843Z"
   },
   {
    "duration": 33,
    "start_time": "2022-03-23T17:25:52.867Z"
   },
   {
    "duration": 6,
    "start_time": "2022-03-23T17:25:52.901Z"
   },
   {
    "duration": 5,
    "start_time": "2022-03-23T17:25:52.933Z"
   },
   {
    "duration": 8,
    "start_time": "2022-03-23T17:25:52.940Z"
   },
   {
    "duration": 22,
    "start_time": "2022-03-23T17:25:52.950Z"
   },
   {
    "duration": 1215,
    "start_time": "2022-03-23T17:25:52.973Z"
   },
   {
    "duration": 5203,
    "start_time": "2022-03-23T17:25:54.190Z"
   },
   {
    "duration": 22,
    "start_time": "2022-03-23T17:25:59.394Z"
   },
   {
    "duration": 29,
    "start_time": "2022-03-23T17:25:59.417Z"
   },
   {
    "duration": 7211,
    "start_time": "2022-03-23T17:25:59.447Z"
   },
   {
    "duration": 17,
    "start_time": "2022-03-23T17:26:06.659Z"
   },
   {
    "duration": 29899,
    "start_time": "2022-03-23T17:26:06.678Z"
   },
   {
    "duration": 90,
    "start_time": "2022-03-23T17:26:36.579Z"
   },
   {
    "duration": 29,
    "start_time": "2022-03-23T17:26:36.670Z"
   },
   {
    "duration": 238,
    "start_time": "2022-03-23T17:26:36.701Z"
   },
   {
    "duration": 109,
    "start_time": "2022-03-23T17:26:36.941Z"
   },
   {
    "duration": 101,
    "start_time": "2022-03-23T17:26:37.051Z"
   },
   {
    "duration": 19659,
    "start_time": "2022-03-23T17:26:37.154Z"
   },
   {
    "duration": 17,
    "start_time": "2022-03-23T17:26:56.815Z"
   },
   {
    "duration": 4,
    "start_time": "2022-03-23T17:26:56.834Z"
   },
   {
    "duration": 46,
    "start_time": "2022-03-23T17:26:56.839Z"
   },
   {
    "duration": 96,
    "start_time": "2022-03-23T17:26:56.886Z"
   },
   {
    "duration": 150,
    "start_time": "2022-03-23T17:26:56.984Z"
   },
   {
    "duration": 796,
    "start_time": "2022-03-23T17:26:57.137Z"
   },
   {
    "duration": 9,
    "start_time": "2022-03-23T17:26:57.937Z"
   },
   {
    "duration": 9,
    "start_time": "2022-03-23T17:26:57.948Z"
   },
   {
    "duration": 51,
    "start_time": "2022-03-23T17:26:57.958Z"
   },
   {
    "duration": 137,
    "start_time": "2022-03-23T17:26:58.011Z"
   },
   {
    "duration": 84,
    "start_time": "2022-03-23T17:26:58.150Z"
   },
   {
    "duration": 882,
    "start_time": "2022-03-23T17:26:58.236Z"
   },
   {
    "duration": 11,
    "start_time": "2022-03-23T17:26:59.120Z"
   },
   {
    "duration": 12,
    "start_time": "2022-03-23T17:26:59.132Z"
   },
   {
    "duration": 43,
    "start_time": "2022-03-23T17:26:59.146Z"
   },
   {
    "duration": 60,
    "start_time": "2022-03-23T17:26:59.190Z"
   },
   {
    "duration": 182,
    "start_time": "2022-03-23T17:26:59.252Z"
   },
   {
    "duration": 727,
    "start_time": "2022-03-23T17:26:59.436Z"
   },
   {
    "duration": 13,
    "start_time": "2022-03-23T17:27:00.164Z"
   },
   {
    "duration": 20,
    "start_time": "2022-03-23T17:27:00.178Z"
   },
   {
    "duration": 1011,
    "start_time": "2022-03-23T17:27:00.200Z"
   },
   {
    "duration": 13,
    "start_time": "2022-03-23T17:27:01.213Z"
   },
   {
    "duration": 128,
    "start_time": "2022-03-23T17:27:01.228Z"
   }
  ],
  "kernelspec": {
   "display_name": "Python 3 (ipykernel)",
   "language": "python",
   "name": "python3"
  },
  "language_info": {
   "codemirror_mode": {
    "name": "ipython",
    "version": 3
   },
   "file_extension": ".py",
   "mimetype": "text/x-python",
   "name": "python",
   "nbconvert_exporter": "python",
   "pygments_lexer": "ipython3",
   "version": "3.9.5"
  },
  "toc": {
   "base_numbering": 1,
   "nav_menu": {},
   "number_sections": true,
   "sideBar": true,
   "skip_h1_title": true,
   "title_cell": "Содержание",
   "title_sidebar": "Contents",
   "toc_cell": true,
   "toc_position": {
    "height": "calc(100% - 180px)",
    "left": "10px",
    "top": "150px",
    "width": "340px"
   },
   "toc_section_display": true,
   "toc_window_display": true
  }
 },
 "nbformat": 4,
 "nbformat_minor": 2
}
