{
 "cells": [
  {
   "cell_type": "markdown",
   "metadata": {},
   "source": [
    "# Определение стоимости автомобилей"
   ]
  },
  {
   "cell_type": "markdown",
   "metadata": {},
   "source": [
    "Сервис по продаже автомобилей с пробегом «Не бит, не крашен» разрабатывает приложение для привлечения новых клиентов. В нём можно быстро узнать рыночную стоимость своего автомобиля. В вашем распоряжении исторические данные: технические характеристики, комплектации и цены автомобилей. Вам нужно построить модель для определения стоимости. \n",
    "\n",
    "Заказчику важны:\n",
    "\n",
    "- качество предсказания;\n",
    "- скорость предсказания;\n",
    "- время обучения."
   ]
  },
  {
   "cell_type": "markdown",
   "metadata": {},
   "source": [
    "## Подготовка данных"
   ]
  },
  {
   "cell_type": "markdown",
   "metadata": {},
   "source": [
    "### Загрузка данных"
   ]
  },
  {
   "cell_type": "code",
   "execution_count": 1,
   "metadata": {},
   "outputs": [],
   "source": [
    "# загрузка библиотек\n",
    "import pandas as pd\n",
    "import numpy as np\n",
    "import matplotlib.pyplot as plt\n",
    "import time\n",
    "import lightgbm as lgb\n",
    "import xgboost as xgb\n",
    "import category_encoders as ce\n",
    "\n",
    "from catboost import CatBoostRegressor, Pool\n",
    "from lightgbm import LGBMRegressor\n",
    "from sklearn.linear_model import LinearRegression\n",
    "from xgboost import XGBRegressor\n",
    "\n",
    "from sklearn.metrics import make_scorer, mean_squared_error\n",
    "from sklearn.model_selection import train_test_split, GridSearchCV\n",
    "from sklearn.preprocessing import OrdinalEncoder, StandardScaler"
   ]
  },
  {
   "cell_type": "code",
   "execution_count": 2,
   "metadata": {},
   "outputs": [],
   "source": [
    "# чтение файла с данными и сохранение в переменную df\n",
    "try:\n",
    "    df = pd.read_csv('C:/Users/79853/Documents/datascience/yandex/Спринт12/autos.csv')\n",
    "except:\n",
    "    df = pd.read_csv('/datasets/autos.csv') # загрузка онлайн"
   ]
  },
  {
   "cell_type": "code",
   "execution_count": 3,
   "metadata": {},
   "outputs": [
    {
     "name": "stdout",
     "output_type": "stream",
     "text": [
      "<class 'pandas.core.frame.DataFrame'>\n",
      "RangeIndex: 354369 entries, 0 to 354368\n",
      "Data columns (total 16 columns):\n",
      " #   Column             Non-Null Count   Dtype \n",
      "---  ------             --------------   ----- \n",
      " 0   DateCrawled        354369 non-null  object\n",
      " 1   Price              354369 non-null  int64 \n",
      " 2   VehicleType        316879 non-null  object\n",
      " 3   RegistrationYear   354369 non-null  int64 \n",
      " 4   Gearbox            334536 non-null  object\n",
      " 5   Power              354369 non-null  int64 \n",
      " 6   Model              334664 non-null  object\n",
      " 7   Kilometer          354369 non-null  int64 \n",
      " 8   RegistrationMonth  354369 non-null  int64 \n",
      " 9   FuelType           321474 non-null  object\n",
      " 10  Brand              354369 non-null  object\n",
      " 11  NotRepaired        283215 non-null  object\n",
      " 12  DateCreated        354369 non-null  object\n",
      " 13  NumberOfPictures   354369 non-null  int64 \n",
      " 14  PostalCode         354369 non-null  int64 \n",
      " 15  LastSeen           354369 non-null  object\n",
      "dtypes: int64(7), object(9)\n",
      "memory usage: 43.3+ MB\n"
     ]
    }
   ],
   "source": [
    "df.info()"
   ]
  },
  {
   "cell_type": "code",
   "execution_count": 4,
   "metadata": {},
   "outputs": [
    {
     "data": {
      "text/html": [
       "<div>\n",
       "<style scoped>\n",
       "    .dataframe tbody tr th:only-of-type {\n",
       "        vertical-align: middle;\n",
       "    }\n",
       "\n",
       "    .dataframe tbody tr th {\n",
       "        vertical-align: top;\n",
       "    }\n",
       "\n",
       "    .dataframe thead th {\n",
       "        text-align: right;\n",
       "    }\n",
       "</style>\n",
       "<table border=\"1\" class=\"dataframe\">\n",
       "  <thead>\n",
       "    <tr style=\"text-align: right;\">\n",
       "      <th></th>\n",
       "      <th>count</th>\n",
       "      <th>mean</th>\n",
       "      <th>std</th>\n",
       "      <th>min</th>\n",
       "      <th>25%</th>\n",
       "      <th>50%</th>\n",
       "      <th>75%</th>\n",
       "      <th>max</th>\n",
       "    </tr>\n",
       "  </thead>\n",
       "  <tbody>\n",
       "    <tr>\n",
       "      <th>Price</th>\n",
       "      <td>354369.0</td>\n",
       "      <td>4416.656776</td>\n",
       "      <td>4514.158514</td>\n",
       "      <td>0.0</td>\n",
       "      <td>1050.0</td>\n",
       "      <td>2700.0</td>\n",
       "      <td>6400.0</td>\n",
       "      <td>20000.0</td>\n",
       "    </tr>\n",
       "    <tr>\n",
       "      <th>RegistrationYear</th>\n",
       "      <td>354369.0</td>\n",
       "      <td>2004.234448</td>\n",
       "      <td>90.227958</td>\n",
       "      <td>1000.0</td>\n",
       "      <td>1999.0</td>\n",
       "      <td>2003.0</td>\n",
       "      <td>2008.0</td>\n",
       "      <td>9999.0</td>\n",
       "    </tr>\n",
       "    <tr>\n",
       "      <th>Power</th>\n",
       "      <td>354369.0</td>\n",
       "      <td>110.094337</td>\n",
       "      <td>189.850405</td>\n",
       "      <td>0.0</td>\n",
       "      <td>69.0</td>\n",
       "      <td>105.0</td>\n",
       "      <td>143.0</td>\n",
       "      <td>20000.0</td>\n",
       "    </tr>\n",
       "    <tr>\n",
       "      <th>Kilometer</th>\n",
       "      <td>354369.0</td>\n",
       "      <td>128211.172535</td>\n",
       "      <td>37905.341530</td>\n",
       "      <td>5000.0</td>\n",
       "      <td>125000.0</td>\n",
       "      <td>150000.0</td>\n",
       "      <td>150000.0</td>\n",
       "      <td>150000.0</td>\n",
       "    </tr>\n",
       "    <tr>\n",
       "      <th>RegistrationMonth</th>\n",
       "      <td>354369.0</td>\n",
       "      <td>5.714645</td>\n",
       "      <td>3.726421</td>\n",
       "      <td>0.0</td>\n",
       "      <td>3.0</td>\n",
       "      <td>6.0</td>\n",
       "      <td>9.0</td>\n",
       "      <td>12.0</td>\n",
       "    </tr>\n",
       "    <tr>\n",
       "      <th>NumberOfPictures</th>\n",
       "      <td>354369.0</td>\n",
       "      <td>0.000000</td>\n",
       "      <td>0.000000</td>\n",
       "      <td>0.0</td>\n",
       "      <td>0.0</td>\n",
       "      <td>0.0</td>\n",
       "      <td>0.0</td>\n",
       "      <td>0.0</td>\n",
       "    </tr>\n",
       "    <tr>\n",
       "      <th>PostalCode</th>\n",
       "      <td>354369.0</td>\n",
       "      <td>50508.689087</td>\n",
       "      <td>25783.096248</td>\n",
       "      <td>1067.0</td>\n",
       "      <td>30165.0</td>\n",
       "      <td>49413.0</td>\n",
       "      <td>71083.0</td>\n",
       "      <td>99998.0</td>\n",
       "    </tr>\n",
       "  </tbody>\n",
       "</table>\n",
       "</div>"
      ],
      "text/plain": [
       "                      count           mean           std     min       25%  \\\n",
       "Price              354369.0    4416.656776   4514.158514     0.0    1050.0   \n",
       "RegistrationYear   354369.0    2004.234448     90.227958  1000.0    1999.0   \n",
       "Power              354369.0     110.094337    189.850405     0.0      69.0   \n",
       "Kilometer          354369.0  128211.172535  37905.341530  5000.0  125000.0   \n",
       "RegistrationMonth  354369.0       5.714645      3.726421     0.0       3.0   \n",
       "NumberOfPictures   354369.0       0.000000      0.000000     0.0       0.0   \n",
       "PostalCode         354369.0   50508.689087  25783.096248  1067.0   30165.0   \n",
       "\n",
       "                        50%       75%       max  \n",
       "Price                2700.0    6400.0   20000.0  \n",
       "RegistrationYear     2003.0    2008.0    9999.0  \n",
       "Power                 105.0     143.0   20000.0  \n",
       "Kilometer          150000.0  150000.0  150000.0  \n",
       "RegistrationMonth       6.0       9.0      12.0  \n",
       "NumberOfPictures        0.0       0.0       0.0  \n",
       "PostalCode          49413.0   71083.0   99998.0  "
      ]
     },
     "execution_count": 4,
     "metadata": {},
     "output_type": "execute_result"
    }
   ],
   "source": [
    "df.describe().T"
   ]
  },
  {
   "cell_type": "code",
   "execution_count": 5,
   "metadata": {},
   "outputs": [
    {
     "name": "stdout",
     "output_type": "stream",
     "text": [
      "\u001b[1mVehicleType\u001b[0;0m\n",
      "['bus', 'convertible', 'coupe', 'other', 'sedan', 'small', 'suv', 'wagon']\n",
      "\n",
      "\u001b[1mGearbox\u001b[0;0m\n",
      "['auto', 'manual']\n",
      "\n",
      "\u001b[1mModel\u001b[0;0m\n",
      "['100', '145', '147', '156', '159', '1_reihe', '1er', '200', '2_reihe', '300c', '3_reihe', '3er', '4_reihe', '500', '5_reihe', '5er', '601', '6_reihe', '6er', '7er', '80', '850', '90', '900', '9000', '911', 'a1', 'a2', 'a3', 'a4', 'a5', 'a6', 'a8', 'a_klasse', 'accord', 'agila', 'alhambra', 'almera', 'altea', 'amarok', 'antara', 'arosa', 'astra', 'auris', 'avensis', 'aveo', 'aygo', 'b_klasse', 'b_max', 'beetle', 'berlingo', 'bora', 'boxster', 'bravo', 'c1', 'c2', 'c3', 'c4', 'c5', 'c_klasse', 'c_max', 'c_reihe', 'caddy', 'calibra', 'captiva', 'carisma', 'carnival', 'cayenne', 'cc', 'ceed', 'charade', 'cherokee', 'citigo', 'civic', 'cl', 'clio', 'clk', 'clubman', 'colt', 'combo', 'cooper', 'cordoba', 'corolla', 'corsa', 'cr_reihe', 'croma', 'crossfire', 'cuore', 'cx_reihe', 'defender', 'delta', 'discovery', 'doblo', 'ducato', 'duster', 'e_klasse', 'elefantino', 'eos', 'escort', 'espace', 'exeo', 'fabia', 'fiesta', 'focus', 'forester', 'forfour', 'fortwo', 'fox', 'freelander', 'fusion', 'g_klasse', 'galant', 'galaxy', 'getz', 'gl', 'glk', 'golf', 'grand', 'i3', 'i_reihe', 'ibiza', 'impreza', 'insignia', 'jazz', 'jetta', 'jimny', 'juke', 'justy', 'ka', 'kadett', 'kaefer', 'kalina', 'kalos', 'kangoo', 'kappa', 'kuga', 'laguna', 'lancer', 'lanos', 'legacy', 'leon', 'lodgy', 'logan', 'lupo', 'lybra', 'm_klasse', 'm_reihe', 'materia', 'matiz', 'megane', 'meriva', 'micra', 'mii', 'modus', 'mondeo', 'move', 'musa', 'mustang', 'mx_reihe', 'navara', 'niva', 'note', 'nubira', 'octavia', 'omega', 'one', 'other', 'outlander', 'pajero', 'panda', 'passat', 'phaeton', 'picanto', 'polo', 'primera', 'ptcruiser', 'punto', 'q3', 'q5', 'q7', 'qashqai', 'r19', 'range_rover', 'range_rover_evoque', 'range_rover_sport', 'rangerover', 'rav', 'rio', 'roadster', 'roomster', 'rx_reihe', 's60', 's_klasse', 's_max', 's_type', 'samara', 'sandero', 'santa', 'scenic', 'scirocco', 'seicento', 'serie_1', 'serie_2', 'serie_3', 'sharan', 'signum', 'sirion', 'sl', 'slk', 'sorento', 'spark', 'spider', 'sportage', 'sprinter', 'stilo', 'superb', 'swift', 'terios', 'tigra', 'tiguan', 'toledo', 'touareg', 'touran', 'transit', 'transporter', 'tt', 'tucson', 'twingo', 'up', 'v40', 'v50', 'v60', 'v70', 'v_klasse', 'vectra', 'verso', 'viano', 'vito', 'vivaro', 'voyager', 'wrangler', 'x_reihe', 'x_trail', 'x_type', 'xc_reihe', 'yaris', 'yeti', 'ypsilon', 'z_reihe', 'zafira']\n",
      "\n",
      "\u001b[1mFuelType\u001b[0;0m\n",
      "['cng', 'electric', 'gasoline', 'hybrid', 'lpg', 'other', 'petrol']\n",
      "\n",
      "\u001b[1mBrand\u001b[0;0m\n",
      "['alfa_romeo', 'audi', 'bmw', 'chevrolet', 'chrysler', 'citroen', 'dacia', 'daewoo', 'daihatsu', 'fiat', 'ford', 'honda', 'hyundai', 'jaguar', 'jeep', 'kia', 'lada', 'lancia', 'land_rover', 'mazda', 'mercedes_benz', 'mini', 'mitsubishi', 'nissan', 'opel', 'peugeot', 'porsche', 'renault', 'rover', 'saab', 'seat', 'skoda', 'smart', 'sonstige_autos', 'subaru', 'suzuki', 'toyota', 'trabant', 'volkswagen', 'volvo']\n",
      "\n",
      "\u001b[1mNotRepaired\u001b[0;0m\n",
      "['no', 'yes']\n",
      "\n",
      "\u001b[1mDateCreated\u001b[0;0m\n",
      "['2014-03-10 00:00:00', '2015-03-20 00:00:00', '2015-06-18 00:00:00', '2015-08-07 00:00:00', '2015-08-10 00:00:00', '2015-09-04 00:00:00', '2015-09-09 00:00:00', '2015-11-02 00:00:00', '2015-11-08 00:00:00', '2015-11-10 00:00:00', '2015-11-12 00:00:00', '2015-11-17 00:00:00', '2015-11-23 00:00:00', '2015-11-24 00:00:00', '2015-12-05 00:00:00', '2015-12-06 00:00:00', '2015-12-17 00:00:00', '2015-12-27 00:00:00', '2015-12-30 00:00:00', '2016-01-02 00:00:00', '2016-01-03 00:00:00', '2016-01-06 00:00:00', '2016-01-07 00:00:00', '2016-01-08 00:00:00', '2016-01-10 00:00:00', '2016-01-13 00:00:00', '2016-01-15 00:00:00', '2016-01-16 00:00:00', '2016-01-17 00:00:00', '2016-01-18 00:00:00', '2016-01-19 00:00:00', '2016-01-20 00:00:00', '2016-01-22 00:00:00', '2016-01-23 00:00:00', '2016-01-24 00:00:00', '2016-01-25 00:00:00', '2016-01-26 00:00:00', '2016-01-27 00:00:00', '2016-01-28 00:00:00', '2016-01-29 00:00:00', '2016-01-30 00:00:00', '2016-01-31 00:00:00', '2016-02-01 00:00:00', '2016-02-02 00:00:00', '2016-02-03 00:00:00', '2016-02-04 00:00:00', '2016-02-05 00:00:00', '2016-02-06 00:00:00', '2016-02-07 00:00:00', '2016-02-08 00:00:00', '2016-02-09 00:00:00', '2016-02-10 00:00:00', '2016-02-11 00:00:00', '2016-02-12 00:00:00', '2016-02-13 00:00:00', '2016-02-14 00:00:00', '2016-02-15 00:00:00', '2016-02-16 00:00:00', '2016-02-17 00:00:00', '2016-02-18 00:00:00', '2016-02-19 00:00:00', '2016-02-20 00:00:00', '2016-02-21 00:00:00', '2016-02-22 00:00:00', '2016-02-23 00:00:00', '2016-02-24 00:00:00', '2016-02-25 00:00:00', '2016-02-26 00:00:00', '2016-02-27 00:00:00', '2016-02-28 00:00:00', '2016-02-29 00:00:00', '2016-03-01 00:00:00', '2016-03-02 00:00:00', '2016-03-03 00:00:00', '2016-03-04 00:00:00', '2016-03-05 00:00:00', '2016-03-06 00:00:00', '2016-03-07 00:00:00', '2016-03-08 00:00:00', '2016-03-09 00:00:00', '2016-03-10 00:00:00', '2016-03-11 00:00:00', '2016-03-12 00:00:00', '2016-03-13 00:00:00', '2016-03-14 00:00:00', '2016-03-15 00:00:00', '2016-03-16 00:00:00', '2016-03-17 00:00:00', '2016-03-18 00:00:00', '2016-03-19 00:00:00', '2016-03-20 00:00:00', '2016-03-21 00:00:00', '2016-03-22 00:00:00', '2016-03-23 00:00:00', '2016-03-24 00:00:00', '2016-03-25 00:00:00', '2016-03-26 00:00:00', '2016-03-27 00:00:00', '2016-03-28 00:00:00', '2016-03-29 00:00:00', '2016-03-30 00:00:00', '2016-03-31 00:00:00', '2016-04-01 00:00:00', '2016-04-02 00:00:00', '2016-04-03 00:00:00', '2016-04-04 00:00:00', '2016-04-05 00:00:00', '2016-04-06 00:00:00', '2016-04-07 00:00:00']\n",
      "\n"
     ]
    }
   ],
   "source": [
    "columns = ['VehicleType', 'Gearbox', 'Model', 'FuelType', 'Brand', 'NotRepaired', 'DateCreated']\n",
    "for column in columns:\n",
    "    print(\"\\033[1m\" + column + \"\\033[0;0m\")\n",
    "    print(sorted(df.loc[df[column].notnull(), column].unique()))\n",
    "    print()"
   ]
  },
  {
   "cell_type": "code",
   "execution_count": 6,
   "metadata": {},
   "outputs": [
    {
     "data": {
      "text/html": [
       "<div>\n",
       "<style scoped>\n",
       "    .dataframe tbody tr th:only-of-type {\n",
       "        vertical-align: middle;\n",
       "    }\n",
       "\n",
       "    .dataframe tbody tr th {\n",
       "        vertical-align: top;\n",
       "    }\n",
       "\n",
       "    .dataframe thead th {\n",
       "        text-align: right;\n",
       "    }\n",
       "</style>\n",
       "<table border=\"1\" class=\"dataframe\">\n",
       "  <thead>\n",
       "    <tr style=\"text-align: right;\">\n",
       "      <th></th>\n",
       "      <th>DateCrawled</th>\n",
       "      <th>Price</th>\n",
       "      <th>VehicleType</th>\n",
       "      <th>RegistrationYear</th>\n",
       "      <th>Gearbox</th>\n",
       "      <th>Power</th>\n",
       "      <th>Model</th>\n",
       "      <th>Kilometer</th>\n",
       "      <th>RegistrationMonth</th>\n",
       "      <th>FuelType</th>\n",
       "      <th>Brand</th>\n",
       "      <th>NotRepaired</th>\n",
       "      <th>DateCreated</th>\n",
       "      <th>NumberOfPictures</th>\n",
       "      <th>PostalCode</th>\n",
       "      <th>LastSeen</th>\n",
       "    </tr>\n",
       "  </thead>\n",
       "  <tbody>\n",
       "    <tr>\n",
       "      <th>0</th>\n",
       "      <td>2016-03-24 11:52:17</td>\n",
       "      <td>480</td>\n",
       "      <td>NaN</td>\n",
       "      <td>1993</td>\n",
       "      <td>manual</td>\n",
       "      <td>0</td>\n",
       "      <td>golf</td>\n",
       "      <td>150000</td>\n",
       "      <td>0</td>\n",
       "      <td>petrol</td>\n",
       "      <td>volkswagen</td>\n",
       "      <td>NaN</td>\n",
       "      <td>2016-03-24 00:00:00</td>\n",
       "      <td>0</td>\n",
       "      <td>70435</td>\n",
       "      <td>2016-04-07 03:16:57</td>\n",
       "    </tr>\n",
       "    <tr>\n",
       "      <th>1</th>\n",
       "      <td>2016-03-24 10:58:45</td>\n",
       "      <td>18300</td>\n",
       "      <td>coupe</td>\n",
       "      <td>2011</td>\n",
       "      <td>manual</td>\n",
       "      <td>190</td>\n",
       "      <td>NaN</td>\n",
       "      <td>125000</td>\n",
       "      <td>5</td>\n",
       "      <td>gasoline</td>\n",
       "      <td>audi</td>\n",
       "      <td>yes</td>\n",
       "      <td>2016-03-24 00:00:00</td>\n",
       "      <td>0</td>\n",
       "      <td>66954</td>\n",
       "      <td>2016-04-07 01:46:50</td>\n",
       "    </tr>\n",
       "    <tr>\n",
       "      <th>2</th>\n",
       "      <td>2016-03-14 12:52:21</td>\n",
       "      <td>9800</td>\n",
       "      <td>suv</td>\n",
       "      <td>2004</td>\n",
       "      <td>auto</td>\n",
       "      <td>163</td>\n",
       "      <td>grand</td>\n",
       "      <td>125000</td>\n",
       "      <td>8</td>\n",
       "      <td>gasoline</td>\n",
       "      <td>jeep</td>\n",
       "      <td>NaN</td>\n",
       "      <td>2016-03-14 00:00:00</td>\n",
       "      <td>0</td>\n",
       "      <td>90480</td>\n",
       "      <td>2016-04-05 12:47:46</td>\n",
       "    </tr>\n",
       "    <tr>\n",
       "      <th>3</th>\n",
       "      <td>2016-03-17 16:54:04</td>\n",
       "      <td>1500</td>\n",
       "      <td>small</td>\n",
       "      <td>2001</td>\n",
       "      <td>manual</td>\n",
       "      <td>75</td>\n",
       "      <td>golf</td>\n",
       "      <td>150000</td>\n",
       "      <td>6</td>\n",
       "      <td>petrol</td>\n",
       "      <td>volkswagen</td>\n",
       "      <td>no</td>\n",
       "      <td>2016-03-17 00:00:00</td>\n",
       "      <td>0</td>\n",
       "      <td>91074</td>\n",
       "      <td>2016-03-17 17:40:17</td>\n",
       "    </tr>\n",
       "    <tr>\n",
       "      <th>4</th>\n",
       "      <td>2016-03-31 17:25:20</td>\n",
       "      <td>3600</td>\n",
       "      <td>small</td>\n",
       "      <td>2008</td>\n",
       "      <td>manual</td>\n",
       "      <td>69</td>\n",
       "      <td>fabia</td>\n",
       "      <td>90000</td>\n",
       "      <td>7</td>\n",
       "      <td>gasoline</td>\n",
       "      <td>skoda</td>\n",
       "      <td>no</td>\n",
       "      <td>2016-03-31 00:00:00</td>\n",
       "      <td>0</td>\n",
       "      <td>60437</td>\n",
       "      <td>2016-04-06 10:17:21</td>\n",
       "    </tr>\n",
       "  </tbody>\n",
       "</table>\n",
       "</div>"
      ],
      "text/plain": [
       "           DateCrawled  Price VehicleType  RegistrationYear Gearbox  Power  \\\n",
       "0  2016-03-24 11:52:17    480         NaN              1993  manual      0   \n",
       "1  2016-03-24 10:58:45  18300       coupe              2011  manual    190   \n",
       "2  2016-03-14 12:52:21   9800         suv              2004    auto    163   \n",
       "3  2016-03-17 16:54:04   1500       small              2001  manual     75   \n",
       "4  2016-03-31 17:25:20   3600       small              2008  manual     69   \n",
       "\n",
       "   Model  Kilometer  RegistrationMonth  FuelType       Brand NotRepaired  \\\n",
       "0   golf     150000                  0    petrol  volkswagen         NaN   \n",
       "1    NaN     125000                  5  gasoline        audi         yes   \n",
       "2  grand     125000                  8  gasoline        jeep         NaN   \n",
       "3   golf     150000                  6    petrol  volkswagen          no   \n",
       "4  fabia      90000                  7  gasoline       skoda          no   \n",
       "\n",
       "           DateCreated  NumberOfPictures  PostalCode             LastSeen  \n",
       "0  2016-03-24 00:00:00                 0       70435  2016-04-07 03:16:57  \n",
       "1  2016-03-24 00:00:00                 0       66954  2016-04-07 01:46:50  \n",
       "2  2016-03-14 00:00:00                 0       90480  2016-04-05 12:47:46  \n",
       "3  2016-03-17 00:00:00                 0       91074  2016-03-17 17:40:17  \n",
       "4  2016-03-31 00:00:00                 0       60437  2016-04-06 10:17:21  "
      ]
     },
     "execution_count": 6,
     "metadata": {},
     "output_type": "execute_result"
    }
   ],
   "source": [
    "df.head()"
   ]
  },
  {
   "cell_type": "markdown",
   "metadata": {},
   "source": [
    "**Признаки**\n",
    "- **DateCrawled** — дата скачивания анкеты из базы\n",
    "- **VehicleType** — тип автомобильного кузова\n",
    "- **RegistrationYear** — год регистрации автомобиля\n",
    "- **Gearbox** — тип коробки передач\n",
    "- **Power** — мощность (л. с.)\n",
    "- **Model** — модель автомобиля\n",
    "- **Kilometer** — пробег (км)\n",
    "- **RegistrationMonth** — месяц регистрации автомобиля\n",
    "- **FuelType** — тип топлива\n",
    "- **Brand** — марка автомобиля\n",
    "- **NotRepaired** — была машина в ремонте или нет\n",
    "- **DateCreated** — дата создания анкеты\n",
    "- **NumberOfPictures** — количество фотографий автомобиля\n",
    "- **PostalCode** — почтовый индекс владельца анкеты (пользователя)\n",
    "- **LastSeen** — дата последней активности пользователя\n",
    "\n",
    "**Целевой признак**\n",
    "- **Price** — цена (евро)"
   ]
  },
  {
   "cell_type": "code",
   "execution_count": 7,
   "metadata": {
    "scrolled": false
   },
   "outputs": [
    {
     "data": {
      "text/plain": [
       "4"
      ]
     },
     "execution_count": 7,
     "metadata": {},
     "output_type": "execute_result"
    }
   ],
   "source": [
    "# подсчёт явных дубликатов\n",
    "df.duplicated().sum()"
   ]
  },
  {
   "cell_type": "code",
   "execution_count": 8,
   "metadata": {
    "scrolled": false
   },
   "outputs": [
    {
     "data": {
      "text/plain": [
       "DateCrawled           0.000000\n",
       "Price                 0.000000\n",
       "VehicleType          10.579368\n",
       "RegistrationYear      0.000000\n",
       "Gearbox               5.596709\n",
       "Power                 0.000000\n",
       "Model                 5.560588\n",
       "Kilometer             0.000000\n",
       "RegistrationMonth     0.000000\n",
       "FuelType              9.282697\n",
       "Brand                 0.000000\n",
       "NotRepaired          20.079070\n",
       "DateCreated           0.000000\n",
       "NumberOfPictures      0.000000\n",
       "PostalCode            0.000000\n",
       "LastSeen              0.000000\n",
       "dtype: float64"
      ]
     },
     "execution_count": 8,
     "metadata": {},
     "output_type": "execute_result"
    }
   ],
   "source": [
    "# процент пропущенных значений в датасете\n",
    "df.isnull().sum() / df.shape[0] * 100"
   ]
  },
  {
   "cell_type": "code",
   "execution_count": 9,
   "metadata": {},
   "outputs": [
    {
     "data": {
      "text/plain": [
       "[1000,\n",
       " 1001,\n",
       " 1039,\n",
       " 1111,\n",
       " 1200,\n",
       " 1234,\n",
       " 1253,\n",
       " 1255,\n",
       " 1300,\n",
       " 1400,\n",
       " 1500,\n",
       " 1600,\n",
       " 1602,\n",
       " 1688,\n",
       " 1800,\n",
       " 1910,\n",
       " 1915,\n",
       " 1919,\n",
       " 1920,\n",
       " 1923,\n",
       " 1925,\n",
       " 1927,\n",
       " 1928,\n",
       " 1929,\n",
       " 1930,\n",
       " 1931,\n",
       " 1932,\n",
       " 1933,\n",
       " 1934,\n",
       " 1935,\n",
       " 1936,\n",
       " 1937,\n",
       " 1938,\n",
       " 1940,\n",
       " 1941,\n",
       " 1942,\n",
       " 1943,\n",
       " 1944,\n",
       " 1945,\n",
       " 1946,\n",
       " 1947,\n",
       " 1948,\n",
       " 1949,\n",
       " 1950,\n",
       " 1951,\n",
       " 1952,\n",
       " 1953,\n",
       " 1954,\n",
       " 1955,\n",
       " 1956,\n",
       " 1957,\n",
       " 1958,\n",
       " 1959,\n",
       " 1960,\n",
       " 1961,\n",
       " 1962,\n",
       " 1963,\n",
       " 1964,\n",
       " 1965,\n",
       " 1966,\n",
       " 1967,\n",
       " 1968,\n",
       " 1969,\n",
       " 1970,\n",
       " 1971,\n",
       " 1972,\n",
       " 1973,\n",
       " 1974,\n",
       " 1975,\n",
       " 1976,\n",
       " 1977,\n",
       " 1978,\n",
       " 1979,\n",
       " 1980,\n",
       " 1981,\n",
       " 1982,\n",
       " 1983,\n",
       " 1984,\n",
       " 1985,\n",
       " 1986,\n",
       " 1987,\n",
       " 1988,\n",
       " 1989,\n",
       " 1990,\n",
       " 1991,\n",
       " 1992,\n",
       " 1993,\n",
       " 1994,\n",
       " 1995,\n",
       " 1996,\n",
       " 1997,\n",
       " 1998,\n",
       " 1999,\n",
       " 2000,\n",
       " 2001,\n",
       " 2002,\n",
       " 2003,\n",
       " 2004,\n",
       " 2005,\n",
       " 2006,\n",
       " 2007,\n",
       " 2008,\n",
       " 2009,\n",
       " 2010,\n",
       " 2011,\n",
       " 2012,\n",
       " 2013,\n",
       " 2014,\n",
       " 2015,\n",
       " 2016,\n",
       " 2017,\n",
       " 2018,\n",
       " 2019,\n",
       " 2066,\n",
       " 2200,\n",
       " 2222,\n",
       " 2290,\n",
       " 2500,\n",
       " 2800,\n",
       " 2900,\n",
       " 3000,\n",
       " 3200,\n",
       " 3500,\n",
       " 3700,\n",
       " 3800,\n",
       " 4000,\n",
       " 4100,\n",
       " 4500,\n",
       " 4800,\n",
       " 5000,\n",
       " 5300,\n",
       " 5555,\n",
       " 5600,\n",
       " 5900,\n",
       " 5911,\n",
       " 6000,\n",
       " 6500,\n",
       " 7000,\n",
       " 7100,\n",
       " 7500,\n",
       " 7800,\n",
       " 8000,\n",
       " 8200,\n",
       " 8455,\n",
       " 8500,\n",
       " 8888,\n",
       " 9000,\n",
       " 9229,\n",
       " 9450,\n",
       " 9996,\n",
       " 9999]"
      ]
     },
     "execution_count": 9,
     "metadata": {},
     "output_type": "execute_result"
    }
   ],
   "source": [
    "sorted(df.loc[df['RegistrationYear'].notnull(), 'RegistrationYear'].unique())"
   ]
  },
  {
   "cell_type": "code",
   "execution_count": 10,
   "metadata": {},
   "outputs": [
    {
     "data": {
      "text/plain": [
       "[0,\n",
       " 1,\n",
       " 2,\n",
       " 3,\n",
       " 4,\n",
       " 5,\n",
       " 6,\n",
       " 7,\n",
       " 8,\n",
       " 9,\n",
       " 10,\n",
       " 11,\n",
       " 12,\n",
       " 13,\n",
       " 14,\n",
       " 15,\n",
       " 16,\n",
       " 17,\n",
       " 18,\n",
       " 19,\n",
       " 20,\n",
       " 21,\n",
       " 22,\n",
       " 23,\n",
       " 24,\n",
       " 25,\n",
       " 26,\n",
       " 27,\n",
       " 28,\n",
       " 29,\n",
       " 30,\n",
       " 31,\n",
       " 32,\n",
       " 33,\n",
       " 34,\n",
       " 35,\n",
       " 36,\n",
       " 37,\n",
       " 38,\n",
       " 39,\n",
       " 40,\n",
       " 41,\n",
       " 42,\n",
       " 43,\n",
       " 44,\n",
       " 45,\n",
       " 46,\n",
       " 47,\n",
       " 48,\n",
       " 49,\n",
       " 50,\n",
       " 51,\n",
       " 52,\n",
       " 53,\n",
       " 54,\n",
       " 55,\n",
       " 56,\n",
       " 57,\n",
       " 58,\n",
       " 59,\n",
       " 60,\n",
       " 61,\n",
       " 62,\n",
       " 63,\n",
       " 64,\n",
       " 65,\n",
       " 66,\n",
       " 67,\n",
       " 68,\n",
       " 69,\n",
       " 70,\n",
       " 71,\n",
       " 72,\n",
       " 73,\n",
       " 74,\n",
       " 75,\n",
       " 76,\n",
       " 77,\n",
       " 78,\n",
       " 79,\n",
       " 80,\n",
       " 81,\n",
       " 82,\n",
       " 83,\n",
       " 84,\n",
       " 85,\n",
       " 86,\n",
       " 87,\n",
       " 88,\n",
       " 89,\n",
       " 90,\n",
       " 91,\n",
       " 92,\n",
       " 93,\n",
       " 94,\n",
       " 95,\n",
       " 96,\n",
       " 97,\n",
       " 98,\n",
       " 99,\n",
       " 100,\n",
       " 101,\n",
       " 102,\n",
       " 103,\n",
       " 104,\n",
       " 105,\n",
       " 106,\n",
       " 107,\n",
       " 108,\n",
       " 109,\n",
       " 110,\n",
       " 111,\n",
       " 112,\n",
       " 113,\n",
       " 114,\n",
       " 115,\n",
       " 116,\n",
       " 117,\n",
       " 118,\n",
       " 119,\n",
       " 120,\n",
       " 121,\n",
       " 122,\n",
       " 123,\n",
       " 124,\n",
       " 125,\n",
       " 126,\n",
       " 127,\n",
       " 128,\n",
       " 129,\n",
       " 130,\n",
       " 131,\n",
       " 132,\n",
       " 133,\n",
       " 134,\n",
       " 135,\n",
       " 136,\n",
       " 137,\n",
       " 138,\n",
       " 139,\n",
       " 140,\n",
       " 141,\n",
       " 142,\n",
       " 143,\n",
       " 144,\n",
       " 145,\n",
       " 146,\n",
       " 147,\n",
       " 148,\n",
       " 149,\n",
       " 150,\n",
       " 151,\n",
       " 152,\n",
       " 153,\n",
       " 154,\n",
       " 155,\n",
       " 156,\n",
       " 157,\n",
       " 158,\n",
       " 159,\n",
       " 160,\n",
       " 161,\n",
       " 162,\n",
       " 163,\n",
       " 164,\n",
       " 165,\n",
       " 166,\n",
       " 167,\n",
       " 168,\n",
       " 169,\n",
       " 170,\n",
       " 171,\n",
       " 172,\n",
       " 173,\n",
       " 174,\n",
       " 175,\n",
       " 176,\n",
       " 177,\n",
       " 178,\n",
       " 179,\n",
       " 180,\n",
       " 181,\n",
       " 182,\n",
       " 183,\n",
       " 184,\n",
       " 185,\n",
       " 186,\n",
       " 187,\n",
       " 188,\n",
       " 189,\n",
       " 190,\n",
       " 191,\n",
       " 192,\n",
       " 193,\n",
       " 194,\n",
       " 195,\n",
       " 196,\n",
       " 197,\n",
       " 198,\n",
       " 199,\n",
       " 200,\n",
       " 201,\n",
       " 202,\n",
       " 203,\n",
       " 204,\n",
       " 205,\n",
       " 206,\n",
       " 207,\n",
       " 208,\n",
       " 209,\n",
       " 210,\n",
       " 211,\n",
       " 212,\n",
       " 213,\n",
       " 214,\n",
       " 215,\n",
       " 216,\n",
       " 217,\n",
       " 218,\n",
       " 219,\n",
       " 220,\n",
       " 221,\n",
       " 222,\n",
       " 223,\n",
       " 224,\n",
       " 225,\n",
       " 226,\n",
       " 227,\n",
       " 228,\n",
       " 229,\n",
       " 230,\n",
       " 231,\n",
       " 232,\n",
       " 233,\n",
       " 234,\n",
       " 235,\n",
       " 236,\n",
       " 237,\n",
       " 238,\n",
       " 239,\n",
       " 240,\n",
       " 241,\n",
       " 242,\n",
       " 243,\n",
       " 244,\n",
       " 245,\n",
       " 246,\n",
       " 247,\n",
       " 248,\n",
       " 249,\n",
       " 250,\n",
       " 251,\n",
       " 252,\n",
       " 253,\n",
       " 254,\n",
       " 255,\n",
       " 256,\n",
       " 257,\n",
       " 258,\n",
       " 259,\n",
       " 260,\n",
       " 261,\n",
       " 262,\n",
       " 264,\n",
       " 265,\n",
       " 266,\n",
       " 267,\n",
       " 268,\n",
       " 269,\n",
       " 270,\n",
       " 271,\n",
       " 272,\n",
       " 273,\n",
       " 274,\n",
       " 275,\n",
       " 276,\n",
       " 277,\n",
       " 278,\n",
       " 279,\n",
       " 280,\n",
       " 281,\n",
       " 282,\n",
       " 283,\n",
       " 284,\n",
       " 285,\n",
       " 286,\n",
       " 287,\n",
       " 288,\n",
       " 289,\n",
       " 290,\n",
       " 292,\n",
       " 293,\n",
       " 294,\n",
       " 295,\n",
       " 296,\n",
       " 297,\n",
       " 298,\n",
       " 299,\n",
       " 300,\n",
       " 301,\n",
       " 303,\n",
       " 304,\n",
       " 305,\n",
       " 306,\n",
       " 307,\n",
       " 308,\n",
       " 309,\n",
       " 310,\n",
       " 311,\n",
       " 313,\n",
       " 314,\n",
       " 315,\n",
       " 316,\n",
       " 317,\n",
       " 318,\n",
       " 320,\n",
       " 321,\n",
       " 322,\n",
       " 323,\n",
       " 324,\n",
       " 325,\n",
       " 326,\n",
       " 327,\n",
       " 328,\n",
       " 329,\n",
       " 330,\n",
       " 331,\n",
       " 332,\n",
       " 333,\n",
       " 334,\n",
       " 335,\n",
       " 336,\n",
       " 337,\n",
       " 338,\n",
       " 339,\n",
       " 340,\n",
       " 341,\n",
       " 343,\n",
       " 344,\n",
       " 345,\n",
       " 346,\n",
       " 347,\n",
       " 348,\n",
       " 349,\n",
       " 350,\n",
       " 351,\n",
       " 352,\n",
       " 353,\n",
       " 354,\n",
       " 355,\n",
       " 356,\n",
       " 357,\n",
       " 358,\n",
       " 360,\n",
       " 361,\n",
       " 362,\n",
       " 363,\n",
       " 364,\n",
       " 365,\n",
       " 367,\n",
       " 368,\n",
       " 370,\n",
       " 371,\n",
       " 374,\n",
       " 375,\n",
       " 376,\n",
       " 377,\n",
       " 379,\n",
       " 380,\n",
       " 381,\n",
       " 382,\n",
       " 385,\n",
       " 386,\n",
       " 387,\n",
       " 388,\n",
       " 390,\n",
       " 392,\n",
       " 394,\n",
       " 396,\n",
       " 398,\n",
       " 399,\n",
       " 400,\n",
       " 401,\n",
       " 402,\n",
       " 405,\n",
       " 408,\n",
       " 409,\n",
       " 411,\n",
       " 416,\n",
       " 420,\n",
       " 421,\n",
       " 425,\n",
       " 426,\n",
       " 428,\n",
       " 430,\n",
       " 431,\n",
       " 435,\n",
       " 440,\n",
       " 442,\n",
       " 445,\n",
       " 449,\n",
       " 450,\n",
       " 454,\n",
       " 457,\n",
       " 459,\n",
       " 460,\n",
       " 475,\n",
       " 476,\n",
       " 485,\n",
       " 487,\n",
       " 489,\n",
       " 490,\n",
       " 500,\n",
       " 504,\n",
       " 505,\n",
       " 507,\n",
       " 508,\n",
       " 510,\n",
       " 514,\n",
       " 515,\n",
       " 517,\n",
       " 519,\n",
       " 520,\n",
       " 521,\n",
       " 525,\n",
       " 530,\n",
       " 540,\n",
       " 541,\n",
       " 544,\n",
       " 550,\n",
       " 551,\n",
       " 553,\n",
       " 560,\n",
       " 572,\n",
       " 574,\n",
       " 579,\n",
       " 580,\n",
       " 584,\n",
       " 585,\n",
       " 599,\n",
       " 600,\n",
       " 601,\n",
       " 602,\n",
       " 603,\n",
       " 604,\n",
       " 606,\n",
       " 607,\n",
       " 610,\n",
       " 612,\n",
       " 620,\n",
       " 640,\n",
       " 645,\n",
       " 650,\n",
       " 651,\n",
       " 671,\n",
       " 678,\n",
       " 682,\n",
       " 685,\n",
       " 696,\n",
       " 700,\n",
       " 702,\n",
       " 703,\n",
       " 732,\n",
       " 743,\n",
       " 750,\n",
       " 751,\n",
       " 754,\n",
       " 771,\n",
       " 776,\n",
       " 800,\n",
       " 805,\n",
       " 808,\n",
       " 850,\n",
       " 851,\n",
       " 871,\n",
       " 900,\n",
       " 901,\n",
       " 902,\n",
       " 903,\n",
       " 907,\n",
       " 909,\n",
       " 923,\n",
       " 950,\n",
       " 952,\n",
       " 953,\n",
       " 960,\n",
       " 998,\n",
       " 999,\n",
       " 1000,\n",
       " 1001,\n",
       " 1002,\n",
       " 1003,\n",
       " 1004,\n",
       " 1005,\n",
       " 1011,\n",
       " 1012,\n",
       " 1016,\n",
       " 1017,\n",
       " 1021,\n",
       " 1024,\n",
       " 1054,\n",
       " 1055,\n",
       " 1056,\n",
       " 1062,\n",
       " 1079,\n",
       " 1082,\n",
       " 1090,\n",
       " 1100,\n",
       " 1102,\n",
       " 1103,\n",
       " 1105,\n",
       " 1111,\n",
       " 1115,\n",
       " 1120,\n",
       " 1149,\n",
       " 1151,\n",
       " 1158,\n",
       " 1160,\n",
       " 1162,\n",
       " 1164,\n",
       " 1199,\n",
       " 1200,\n",
       " 1202,\n",
       " 1221,\n",
       " 1223,\n",
       " 1230,\n",
       " 1239,\n",
       " 1240,\n",
       " 1241,\n",
       " 1250,\n",
       " 1252,\n",
       " 1256,\n",
       " 1275,\n",
       " 1288,\n",
       " 1299,\n",
       " 1300,\n",
       " 1312,\n",
       " 1317,\n",
       " 1324,\n",
       " 1339,\n",
       " 1351,\n",
       " 1360,\n",
       " 1362,\n",
       " 1363,\n",
       " 1367,\n",
       " 1390,\n",
       " 1394,\n",
       " 1398,\n",
       " 1399,\n",
       " 1400,\n",
       " 1401,\n",
       " 1403,\n",
       " 1405,\n",
       " 1416,\n",
       " 1432,\n",
       " 1433,\n",
       " 1436,\n",
       " 1500,\n",
       " 1501,\n",
       " 1502,\n",
       " 1503,\n",
       " 1506,\n",
       " 1521,\n",
       " 1548,\n",
       " 1595,\n",
       " 1596,\n",
       " 1597,\n",
       " 1598,\n",
       " 1600,\n",
       " 1625,\n",
       " 1631,\n",
       " 1653,\n",
       " 1659,\n",
       " 1689,\n",
       " 1700,\n",
       " 1701,\n",
       " 1703,\n",
       " 1704,\n",
       " 1707,\n",
       " 1753,\n",
       " 1771,\n",
       " 1779,\n",
       " 1780,\n",
       " 1781,\n",
       " 1783,\n",
       " 1793,\n",
       " 1796,\n",
       " 1799,\n",
       " 1800,\n",
       " 1801,\n",
       " 1870,\n",
       " 1895,\n",
       " 1896,\n",
       " 1900,\n",
       " 1910,\n",
       " 1920,\n",
       " 1922,\n",
       " 1933,\n",
       " 1937,\n",
       " 1968,\n",
       " 1986,\n",
       " 1988,\n",
       " 1992,\n",
       " 1993,\n",
       " 1995,\n",
       " 1998,\n",
       " 1999,\n",
       " 2000,\n",
       " 2004,\n",
       " 2005,\n",
       " 2007,\n",
       " 2009,\n",
       " 2016,\n",
       " 2017,\n",
       " 2018,\n",
       " 2172,\n",
       " 2200,\n",
       " 2201,\n",
       " 2331,\n",
       " 2340,\n",
       " 2389,\n",
       " 2402,\n",
       " 2461,\n",
       " 2598,\n",
       " 2729,\n",
       " 2789,\n",
       " 2792,\n",
       " 2799,\n",
       " 3000,\n",
       " 3199,\n",
       " 3454,\n",
       " 3500,\n",
       " 3750,\n",
       " 4400,\n",
       " 4507,\n",
       " 4700,\n",
       " 5000,\n",
       " 5411,\n",
       " 5420,\n",
       " 5575,\n",
       " 5809,\n",
       " 5815,\n",
       " 5867,\n",
       " 6006,\n",
       " 6010,\n",
       " 6011,\n",
       " 6012,\n",
       " 6018,\n",
       " 6045,\n",
       " 6062,\n",
       " 6226,\n",
       " 6512,\n",
       " 6920,\n",
       " 7508,\n",
       " 7511,\n",
       " 7512,\n",
       " 7515,\n",
       " 7518,\n",
       " 7529,\n",
       " 7544,\n",
       " 8011,\n",
       " 8259,\n",
       " 8404,\n",
       " 8500,\n",
       " 9000,\n",
       " 9007,\n",
       " 9010,\n",
       " 9011,\n",
       " 9012,\n",
       " 9013,\n",
       " 9710,\n",
       " 10000,\n",
       " 10110,\n",
       " 10218,\n",
       " 10311,\n",
       " 10317,\n",
       " 10520,\n",
       " 10522,\n",
       " 10710,\n",
       " 10910,\n",
       " 10912,\n",
       " 11011,\n",
       " 11025,\n",
       " 11111,\n",
       " 11509,\n",
       " 11530,\n",
       " 11635,\n",
       " 12012,\n",
       " 12510,\n",
       " 12512,\n",
       " 12684,\n",
       " 13616,\n",
       " 13636,\n",
       " 14009,\n",
       " 15001,\n",
       " 15016,\n",
       " 15017,\n",
       " 15020,\n",
       " 15033,\n",
       " 16011,\n",
       " 16051,\n",
       " 16311,\n",
       " 16312,\n",
       " 17011,\n",
       " 17019,\n",
       " 17410,\n",
       " 17700,\n",
       " 17932,\n",
       " 19208,\n",
       " 19211,\n",
       " 19312,\n",
       " 20000]"
      ]
     },
     "execution_count": 10,
     "metadata": {},
     "output_type": "execute_result"
    }
   ],
   "source": [
    "sorted(df.loc[df['Power'].notnull(), 'Power'].unique())"
   ]
  },
  {
   "cell_type": "markdown",
   "metadata": {},
   "source": [
    "В датасете представлены анкеты за период 2014-2016 гг.\n",
    "\n",
    "В датасете присутствуют количественные и категориальные переменные. \n",
    "\n",
    "В названиях полей нарушен стиль написания - строчные буквы сочетаются с прописными. Необходимо привести названия полей к нижнему регистру и к \"змеиному стилю\".\n",
    "\n",
    "Выявлены некорректные значения в следующих полях:\n",
    "\n",
    "- поле `RegistrationYear` (год регистрации автомобиля) - диапазон [1000, 1800] (верхняя граница интервала взята условно, выделены значения до XX века),  [2066, 9999].\n",
    "- поле `RegistrationMonth` (месяц регистрации автомобиля) - значение 0.\n",
    "- поле `Power` (мощность (л. с.)) - значение 0, диапазон [2000, 20000] (нижняя граница интервала взята условно, 2000 л.с. - наивысшая известная мощность автомобиля). \n",
    "- поле `Price` (цена (евро)) - значение 0.\n",
    "\n",
    "Для перечисленных полей необходимо убрать выбросы, т.о., возможно, получится избавиться от некорректных значений.\n",
    "\n",
    "В полях `VehicleType`, `Gearbox`, `Model`, `FuelType`, `NotRepaired` есть пропуски:\n",
    "- пропуски в поле `Model` (модель автомобиля) и в поле `NotRepaired` (была машина в ремонте или нет) заполним значением **'unknown'**.\n",
    "- пропуски в поле `VehicleType` (тип автомобильного кузова) и `Gearbox` (тип коробки передач), `FuelType` (тип топлива) заполним самым часто встречающимся значением (модой) для определенной модели автомобиля.\n",
    "\n",
    "Выявлено 4 случая явных дубликатов. Их необходимо удалить.\n",
    "\n",
    "Неявные дубликаты не выявлены.\n",
    "\n",
    "Поле `DateCreated` (дата создания анкеты) необходимо перевести в формат **datetime**.\n",
    "\n",
    "Поле `NumberOfPictures` заполнено нулями, его можно удалить. Признаки `PostalCode` (почтовый индекс владельца анкеты (пользователя)), `LastSeen` (дата последней активности пользователя), `DateCrawled` (дата скачивания анкеты из базы), `RegistrationMonth` (месяц регистрации автомобиля) не влияют на целевой признак, их можно удалить.\n",
    "\n",
    "Для обучения моделей категориальные признаки необходимо преобразовать в численные."
   ]
  },
  {
   "cell_type": "markdown",
   "metadata": {},
   "source": [
    "### Предобработка данных"
   ]
  },
  {
   "cell_type": "code",
   "execution_count": 11,
   "metadata": {},
   "outputs": [],
   "source": [
    "# удаление полей\n",
    "df = df.drop(['NumberOfPictures', 'PostalCode', 'LastSeen', 'DateCrawled', 'RegistrationMonth'], axis=1)"
   ]
  },
  {
   "cell_type": "code",
   "execution_count": 12,
   "metadata": {},
   "outputs": [],
   "source": [
    "# приведение названий полей к правильному стилю\n",
    "df.columns = ['price', 'vehicle_type', 'registration_year', 'gearbox', 'power', 'model', 'kilometer',\n",
    "              'fuel_type', 'brand', 'not_repaired', 'date_created']"
   ]
  },
  {
   "cell_type": "code",
   "execution_count": 13,
   "metadata": {},
   "outputs": [],
   "source": [
    "# изменение типа данных c object на datetime64 для поля date_created (дата создания анкеты)\n",
    "df['date_created'] = pd.to_datetime(df['date_created'], format='%Y-%m-%dT%H:%M:%S')\n",
    "df['date_created'] = pd.DatetimeIndex(df['date_created']).year  # оставим только год публикации"
   ]
  },
  {
   "cell_type": "markdown",
   "metadata": {},
   "source": [
    "Оставили только год создания анкеты, т.к. можно предположить, что цены на авто менялись в разные годы: росли или снижались.\n",
    "\n",
    "Добавим в датасет поле `age` (возраст автомобиля), предположительно, этот признак должен влиять на цену авто."
   ]
  },
  {
   "cell_type": "code",
   "execution_count": 14,
   "metadata": {},
   "outputs": [],
   "source": [
    "df['age'] = df['date_created'] - df['registration_year']"
   ]
  },
  {
   "cell_type": "code",
   "execution_count": 15,
   "metadata": {},
   "outputs": [
    {
     "data": {
      "text/html": [
       "<div>\n",
       "<style scoped>\n",
       "    .dataframe tbody tr th:only-of-type {\n",
       "        vertical-align: middle;\n",
       "    }\n",
       "\n",
       "    .dataframe tbody tr th {\n",
       "        vertical-align: top;\n",
       "    }\n",
       "\n",
       "    .dataframe thead th {\n",
       "        text-align: right;\n",
       "    }\n",
       "</style>\n",
       "<table border=\"1\" class=\"dataframe\">\n",
       "  <thead>\n",
       "    <tr style=\"text-align: right;\">\n",
       "      <th></th>\n",
       "      <th>price</th>\n",
       "      <th>vehicle_type</th>\n",
       "      <th>registration_year</th>\n",
       "      <th>gearbox</th>\n",
       "      <th>power</th>\n",
       "      <th>model</th>\n",
       "      <th>kilometer</th>\n",
       "      <th>fuel_type</th>\n",
       "      <th>brand</th>\n",
       "      <th>not_repaired</th>\n",
       "      <th>date_created</th>\n",
       "      <th>age</th>\n",
       "    </tr>\n",
       "  </thead>\n",
       "  <tbody>\n",
       "    <tr>\n",
       "      <th>0</th>\n",
       "      <td>480</td>\n",
       "      <td>NaN</td>\n",
       "      <td>1993</td>\n",
       "      <td>manual</td>\n",
       "      <td>0</td>\n",
       "      <td>golf</td>\n",
       "      <td>150000</td>\n",
       "      <td>petrol</td>\n",
       "      <td>volkswagen</td>\n",
       "      <td>NaN</td>\n",
       "      <td>2016</td>\n",
       "      <td>23</td>\n",
       "    </tr>\n",
       "    <tr>\n",
       "      <th>1</th>\n",
       "      <td>18300</td>\n",
       "      <td>coupe</td>\n",
       "      <td>2011</td>\n",
       "      <td>manual</td>\n",
       "      <td>190</td>\n",
       "      <td>NaN</td>\n",
       "      <td>125000</td>\n",
       "      <td>gasoline</td>\n",
       "      <td>audi</td>\n",
       "      <td>yes</td>\n",
       "      <td>2016</td>\n",
       "      <td>5</td>\n",
       "    </tr>\n",
       "    <tr>\n",
       "      <th>2</th>\n",
       "      <td>9800</td>\n",
       "      <td>suv</td>\n",
       "      <td>2004</td>\n",
       "      <td>auto</td>\n",
       "      <td>163</td>\n",
       "      <td>grand</td>\n",
       "      <td>125000</td>\n",
       "      <td>gasoline</td>\n",
       "      <td>jeep</td>\n",
       "      <td>NaN</td>\n",
       "      <td>2016</td>\n",
       "      <td>12</td>\n",
       "    </tr>\n",
       "    <tr>\n",
       "      <th>3</th>\n",
       "      <td>1500</td>\n",
       "      <td>small</td>\n",
       "      <td>2001</td>\n",
       "      <td>manual</td>\n",
       "      <td>75</td>\n",
       "      <td>golf</td>\n",
       "      <td>150000</td>\n",
       "      <td>petrol</td>\n",
       "      <td>volkswagen</td>\n",
       "      <td>no</td>\n",
       "      <td>2016</td>\n",
       "      <td>15</td>\n",
       "    </tr>\n",
       "    <tr>\n",
       "      <th>4</th>\n",
       "      <td>3600</td>\n",
       "      <td>small</td>\n",
       "      <td>2008</td>\n",
       "      <td>manual</td>\n",
       "      <td>69</td>\n",
       "      <td>fabia</td>\n",
       "      <td>90000</td>\n",
       "      <td>gasoline</td>\n",
       "      <td>skoda</td>\n",
       "      <td>no</td>\n",
       "      <td>2016</td>\n",
       "      <td>8</td>\n",
       "    </tr>\n",
       "  </tbody>\n",
       "</table>\n",
       "</div>"
      ],
      "text/plain": [
       "   price vehicle_type  registration_year gearbox  power  model  kilometer  \\\n",
       "0    480          NaN               1993  manual      0   golf     150000   \n",
       "1  18300        coupe               2011  manual    190    NaN     125000   \n",
       "2   9800          suv               2004    auto    163  grand     125000   \n",
       "3   1500        small               2001  manual     75   golf     150000   \n",
       "4   3600        small               2008  manual     69  fabia      90000   \n",
       "\n",
       "  fuel_type       brand not_repaired  date_created  age  \n",
       "0    petrol  volkswagen          NaN          2016   23  \n",
       "1  gasoline        audi          yes          2016    5  \n",
       "2  gasoline        jeep          NaN          2016   12  \n",
       "3    petrol  volkswagen           no          2016   15  \n",
       "4  gasoline       skoda           no          2016    8  "
      ]
     },
     "execution_count": 15,
     "metadata": {},
     "output_type": "execute_result"
    }
   ],
   "source": [
    "df.head()"
   ]
  },
  {
   "cell_type": "markdown",
   "metadata": {},
   "source": [
    "#### Обработка явных дубликатов"
   ]
  },
  {
   "cell_type": "code",
   "execution_count": 16,
   "metadata": {},
   "outputs": [
    {
     "data": {
      "text/plain": [
       "45037"
      ]
     },
     "execution_count": 16,
     "metadata": {},
     "output_type": "execute_result"
    }
   ],
   "source": [
    "# подсчёт явных дубликатов\n",
    "df.duplicated().sum()"
   ]
  },
  {
   "cell_type": "markdown",
   "metadata": {},
   "source": [
    "После исключения нескольких полей, не влияющих на целевой признак, число дубликатов значительно выросло. Этому может быть несколько причин:\n",
    "- одни и те же анкеты добавлялись на сервис несколько раз (разные значения `DateCreated` (дата создания анкеты)), \n",
    "- одни и те же анкеты были скачаны из базы несколько раз (разные значения `DateCrawled` (дата скачивания анкеты из базы)).\n",
    "\n",
    "Удалим дубликаты из датасета."
   ]
  },
  {
   "cell_type": "code",
   "execution_count": 17,
   "metadata": {},
   "outputs": [],
   "source": [
    "# удаление явных дубликатов\n",
    "df = df.drop_duplicates().reset_index(drop=True)"
   ]
  },
  {
   "cell_type": "code",
   "execution_count": 18,
   "metadata": {},
   "outputs": [
    {
     "data": {
      "text/plain": [
       "0"
      ]
     },
     "execution_count": 18,
     "metadata": {},
     "output_type": "execute_result"
    }
   ],
   "source": [
    "# проверка на отсутствие дубликатов\n",
    "df.duplicated().sum()"
   ]
  },
  {
   "cell_type": "markdown",
   "metadata": {},
   "source": [
    "#### Обработка некорректных значений"
   ]
  },
  {
   "cell_type": "code",
   "execution_count": 19,
   "metadata": {
    "scrolled": true
   },
   "outputs": [
    {
     "data": {
      "image/png": "[encoded data removed]",
      "text/plain": [
       "<Figure size 432x288 with 1 Axes>"
      ]
     },
     "metadata": {
      "needs_background": "light"
     },
     "output_type": "display_data"
    }
   ],
   "source": [
    "# диаграмма размаха registration_year (год регистрации)\n",
    "df.boxplot(column='registration_year')\n",
    "plt.ylim(1970, 2030)\n",
    "plt.show()"
   ]
  },
  {
   "cell_type": "markdown",
   "metadata": {},
   "source": [
    "Оставим значения в интервале 1985-2016 гг. (т.к. в датасете представлены анкеты до апреля 2016 года)"
   ]
  },
  {
   "cell_type": "code",
   "execution_count": 20,
   "metadata": {},
   "outputs": [],
   "source": [
    "df = df.loc[(df.registration_year > 1984) & (df.registration_year < 2017), :]"
   ]
  },
  {
   "cell_type": "code",
   "execution_count": 21,
   "metadata": {},
   "outputs": [
    {
     "data": {
      "image/png": "[encoded data removed]",
      "text/plain": [
       "<Figure size 432x288 with 1 Axes>"
      ]
     },
     "metadata": {
      "needs_background": "light"
     },
     "output_type": "display_data"
    }
   ],
   "source": [
    "# диаграмма размаха power (мощность (л. с.))\n",
    "df.boxplot(column='power')\n",
    "plt.ylim(0, 350)\n",
    "plt.show()"
   ]
  },
  {
   "cell_type": "markdown",
   "metadata": {},
   "source": [
    "В поле `power` (мощность (л. с.)) уберем значения выше 250. Также уберем значение 0."
   ]
  },
  {
   "cell_type": "code",
   "execution_count": 22,
   "metadata": {},
   "outputs": [],
   "source": [
    "df = df.loc[(df.power < 251) & (df.power > 0), :]"
   ]
  },
  {
   "cell_type": "code",
   "execution_count": 23,
   "metadata": {},
   "outputs": [
    {
     "data": {
      "text/plain": [
       "<AxesSubplot:>"
      ]
     },
     "execution_count": 23,
     "metadata": {},
     "output_type": "execute_result"
    },
    {
     "data": {
      "image/png": "[encoded data removed]",
      "text/plain": [
       "<Figure size 432x288 with 1 Axes>"
      ]
     },
     "metadata": {
      "needs_background": "light"
     },
     "output_type": "display_data"
    }
   ],
   "source": [
    "# диаграмма размаха price (цена (евро))\n",
    "df.boxplot(column='price')"
   ]
  },
  {
   "cell_type": "markdown",
   "metadata": {},
   "source": [
    "В поле `price` (цена (евро)) уберем значения выше 16000. Также уберем значение 0."
   ]
  },
  {
   "cell_type": "code",
   "execution_count": 24,
   "metadata": {},
   "outputs": [],
   "source": [
    "df = df.loc[(df.price < 16001) & (df.price > 0), :]"
   ]
  },
  {
   "cell_type": "markdown",
   "metadata": {},
   "source": [
    "#### Обработка пропусков"
   ]
  },
  {
   "cell_type": "code",
   "execution_count": 25,
   "metadata": {},
   "outputs": [],
   "source": [
    "# заполнение пропусков в полях model и not_repaired значением 'unknown'\n",
    "df.loc[df.model.isnull(), 'model'] = 'unknown'\n",
    "df.loc[df.not_repaired.isnull(), 'not_repaired'] = 'unknown'"
   ]
  },
  {
   "cell_type": "code",
   "execution_count": 26,
   "metadata": {},
   "outputs": [
    {
     "data": {
      "text/plain": [
       "price                    0\n",
       "vehicle_type         10205\n",
       "registration_year        0\n",
       "gearbox               4947\n",
       "power                    0\n",
       "model                    0\n",
       "kilometer                0\n",
       "fuel_type            14462\n",
       "brand                    0\n",
       "not_repaired             0\n",
       "date_created             0\n",
       "age                      0\n",
       "dtype: int64"
      ]
     },
     "execution_count": 26,
     "metadata": {},
     "output_type": "execute_result"
    }
   ],
   "source": [
    "# пропущенные значения\n",
    "df.isnull().sum()"
   ]
  },
  {
   "cell_type": "markdown",
   "metadata": {},
   "source": [
    "Заполним пропуски в поле `vehicle_type` (тип автомобильного кузова) и `gearbox` (тип коробки передач), `fuel_type` (тип топлива) самым часто встречающимся значением для определенной модели автомобиля."
   ]
  },
  {
   "cell_type": "code",
   "execution_count": 27,
   "metadata": {},
   "outputs": [],
   "source": [
    "df['gearbox'] = df.groupby(['brand','model'])['gearbox'].transform(lambda x: x.fillna(x.mode()[0]))"
   ]
  },
  {
   "cell_type": "code",
   "execution_count": 28,
   "metadata": {},
   "outputs": [],
   "source": [
    "df['fuel_type'] = df.groupby(['brand','model'])['fuel_type'].transform(lambda x: x.fillna(x.mode()[0]))"
   ]
  },
  {
   "cell_type": "code",
   "execution_count": 29,
   "metadata": {},
   "outputs": [],
   "source": [
    "df['vehicle_type'] = df.groupby(['brand','model'])['vehicle_type']\\\n",
    "                       .transform(lambda x: x.fillna(x.mode()[0] if not x.mode().empty else \"unknown\"))"
   ]
  },
  {
   "cell_type": "code",
   "execution_count": 30,
   "metadata": {
    "scrolled": true
   },
   "outputs": [
    {
     "data": {
      "text/plain": [
       "price                0\n",
       "vehicle_type         0\n",
       "registration_year    0\n",
       "gearbox              0\n",
       "power                0\n",
       "model                0\n",
       "kilometer            0\n",
       "fuel_type            0\n",
       "brand                0\n",
       "not_repaired         0\n",
       "date_created         0\n",
       "age                  0\n",
       "dtype: int64"
      ]
     },
     "execution_count": 30,
     "metadata": {},
     "output_type": "execute_result"
    }
   ],
   "source": [
    "df.isnull().sum()"
   ]
  },
  {
   "cell_type": "code",
   "execution_count": 31,
   "metadata": {
    "scrolled": true
   },
   "outputs": [
    {
     "data": {
      "text/html": [
       "<div>\n",
       "<style scoped>\n",
       "    .dataframe tbody tr th:only-of-type {\n",
       "        vertical-align: middle;\n",
       "    }\n",
       "\n",
       "    .dataframe tbody tr th {\n",
       "        vertical-align: top;\n",
       "    }\n",
       "\n",
       "    .dataframe thead th {\n",
       "        text-align: right;\n",
       "    }\n",
       "</style>\n",
       "<table border=\"1\" class=\"dataframe\">\n",
       "  <thead>\n",
       "    <tr style=\"text-align: right;\">\n",
       "      <th></th>\n",
       "      <th>count</th>\n",
       "      <th>mean</th>\n",
       "      <th>std</th>\n",
       "      <th>min</th>\n",
       "      <th>25%</th>\n",
       "      <th>50%</th>\n",
       "      <th>75%</th>\n",
       "      <th>max</th>\n",
       "    </tr>\n",
       "  </thead>\n",
       "  <tbody>\n",
       "    <tr>\n",
       "      <th>price</th>\n",
       "      <td>239800.0</td>\n",
       "      <td>4305.175992</td>\n",
       "      <td>3861.333969</td>\n",
       "      <td>1.0</td>\n",
       "      <td>1299.0</td>\n",
       "      <td>2990.0</td>\n",
       "      <td>6390.0</td>\n",
       "      <td>16000.0</td>\n",
       "    </tr>\n",
       "    <tr>\n",
       "      <th>registration_year</th>\n",
       "      <td>239800.0</td>\n",
       "      <td>2002.985271</td>\n",
       "      <td>5.755705</td>\n",
       "      <td>1985.0</td>\n",
       "      <td>1999.0</td>\n",
       "      <td>2003.0</td>\n",
       "      <td>2007.0</td>\n",
       "      <td>2016.0</td>\n",
       "    </tr>\n",
       "    <tr>\n",
       "      <th>power</th>\n",
       "      <td>239800.0</td>\n",
       "      <td>115.527911</td>\n",
       "      <td>44.708417</td>\n",
       "      <td>1.0</td>\n",
       "      <td>75.0</td>\n",
       "      <td>109.0</td>\n",
       "      <td>143.0</td>\n",
       "      <td>250.0</td>\n",
       "    </tr>\n",
       "    <tr>\n",
       "      <th>kilometer</th>\n",
       "      <td>239800.0</td>\n",
       "      <td>128904.065888</td>\n",
       "      <td>36025.649159</td>\n",
       "      <td>5000.0</td>\n",
       "      <td>125000.0</td>\n",
       "      <td>150000.0</td>\n",
       "      <td>150000.0</td>\n",
       "      <td>150000.0</td>\n",
       "    </tr>\n",
       "    <tr>\n",
       "      <th>date_created</th>\n",
       "      <td>239800.0</td>\n",
       "      <td>2015.999929</td>\n",
       "      <td>0.008419</td>\n",
       "      <td>2015.0</td>\n",
       "      <td>2016.0</td>\n",
       "      <td>2016.0</td>\n",
       "      <td>2016.0</td>\n",
       "      <td>2016.0</td>\n",
       "    </tr>\n",
       "    <tr>\n",
       "      <th>age</th>\n",
       "      <td>239800.0</td>\n",
       "      <td>13.014658</td>\n",
       "      <td>5.755733</td>\n",
       "      <td>0.0</td>\n",
       "      <td>9.0</td>\n",
       "      <td>13.0</td>\n",
       "      <td>17.0</td>\n",
       "      <td>31.0</td>\n",
       "    </tr>\n",
       "  </tbody>\n",
       "</table>\n",
       "</div>"
      ],
      "text/plain": [
       "                      count           mean           std     min       25%  \\\n",
       "price              239800.0    4305.175992   3861.333969     1.0    1299.0   \n",
       "registration_year  239800.0    2002.985271      5.755705  1985.0    1999.0   \n",
       "power              239800.0     115.527911     44.708417     1.0      75.0   \n",
       "kilometer          239800.0  128904.065888  36025.649159  5000.0  125000.0   \n",
       "date_created       239800.0    2015.999929      0.008419  2015.0    2016.0   \n",
       "age                239800.0      13.014658      5.755733     0.0       9.0   \n",
       "\n",
       "                        50%       75%       max  \n",
       "price                2990.0    6390.0   16000.0  \n",
       "registration_year    2003.0    2007.0    2016.0  \n",
       "power                 109.0     143.0     250.0  \n",
       "kilometer          150000.0  150000.0  150000.0  \n",
       "date_created         2016.0    2016.0    2016.0  \n",
       "age                    13.0      17.0      31.0  "
      ]
     },
     "execution_count": 31,
     "metadata": {},
     "output_type": "execute_result"
    }
   ],
   "source": [
    "df.describe().T"
   ]
  },
  {
   "cell_type": "code",
   "execution_count": 32,
   "metadata": {},
   "outputs": [
    {
     "name": "stdout",
     "output_type": "stream",
     "text": [
      "\u001b[1mvehicle_type\u001b[0;0m\n",
      "['bus', 'convertible', 'coupe', 'other', 'sedan', 'small', 'suv', 'wagon']\n",
      "\n",
      "\u001b[1mgearbox\u001b[0;0m\n",
      "['auto', 'manual']\n",
      "\n",
      "\u001b[1mfuel_type\u001b[0;0m\n",
      "['cng', 'electric', 'gasoline', 'hybrid', 'lpg', 'other', 'petrol']\n",
      "\n",
      "\u001b[1mnot_repaired\u001b[0;0m\n",
      "['no', 'unknown', 'yes']\n",
      "\n"
     ]
    }
   ],
   "source": [
    "columns = ['vehicle_type', 'gearbox', 'fuel_type', 'not_repaired']\n",
    "for column in columns:\n",
    "    print(\"\\033[1m\" + column + \"\\033[0;0m\")\n",
    "    print(sorted(df.loc[df[column].notnull(), column].unique()))\n",
    "    print()"
   ]
  },
  {
   "cell_type": "markdown",
   "metadata": {},
   "source": [
    "#### Преобразование категориальных признаков"
   ]
  },
  {
   "cell_type": "markdown",
   "metadata": {},
   "source": [
    "Для обучения моделей категориальные признаки необходимо преобразовать в численные. Для этого используем специальные техники.\n",
    "\n",
    "Техника **прямого кодирования (OHE)** подходит для преобразования признаков в LinearRegression.\n",
    "\n",
    "Техника **порядкового кодирования (OrdinalEncoder)** подходит для преобразования признаков в DecisionTree и RandomForest, т.о. эта техника подойдет для моделей градиентного бустинга, которые используют деревья решений в качестве базовых алгоритмов.\n",
    "\n",
    "Преобразуем данные с помощью двух техник и создадим, соответственно, два новых датасета - **df_ohe** и **df_ordinal**."
   ]
  },
  {
   "cell_type": "code",
   "execution_count": 33,
   "metadata": {},
   "outputs": [
    {
     "data": {
      "text/plain": [
       "['vehicle_type', 'gearbox', 'model', 'fuel_type', 'brand', 'not_repaired']"
      ]
     },
     "execution_count": 33,
     "metadata": {},
     "output_type": "execute_result"
    }
   ],
   "source": [
    "# список категориальных переменных в датасете\n",
    "cat_features = list(df.select_dtypes(include=['object']).columns)\n",
    "cat_features"
   ]
  },
  {
   "cell_type": "code",
   "execution_count": 34,
   "metadata": {},
   "outputs": [
    {
     "data": {
      "text/html": [
       "<div>\n",
       "<style scoped>\n",
       "    .dataframe tbody tr th:only-of-type {\n",
       "        vertical-align: middle;\n",
       "    }\n",
       "\n",
       "    .dataframe tbody tr th {\n",
       "        vertical-align: top;\n",
       "    }\n",
       "\n",
       "    .dataframe thead th {\n",
       "        text-align: right;\n",
       "    }\n",
       "</style>\n",
       "<table border=\"1\" class=\"dataframe\">\n",
       "  <thead>\n",
       "    <tr style=\"text-align: right;\">\n",
       "      <th></th>\n",
       "      <th>price</th>\n",
       "      <th>registration_year</th>\n",
       "      <th>power</th>\n",
       "      <th>kilometer</th>\n",
       "      <th>date_created</th>\n",
       "      <th>age</th>\n",
       "      <th>vehicle_type_convertible</th>\n",
       "      <th>vehicle_type_coupe</th>\n",
       "      <th>vehicle_type_other</th>\n",
       "      <th>vehicle_type_sedan</th>\n",
       "      <th>...</th>\n",
       "      <th>brand_smart</th>\n",
       "      <th>brand_sonstige_autos</th>\n",
       "      <th>brand_subaru</th>\n",
       "      <th>brand_suzuki</th>\n",
       "      <th>brand_toyota</th>\n",
       "      <th>brand_trabant</th>\n",
       "      <th>brand_volkswagen</th>\n",
       "      <th>brand_volvo</th>\n",
       "      <th>not_repaired_unknown</th>\n",
       "      <th>not_repaired_yes</th>\n",
       "    </tr>\n",
       "  </thead>\n",
       "  <tbody>\n",
       "    <tr>\n",
       "      <th>2</th>\n",
       "      <td>9800</td>\n",
       "      <td>2004</td>\n",
       "      <td>163</td>\n",
       "      <td>125000</td>\n",
       "      <td>2016</td>\n",
       "      <td>12</td>\n",
       "      <td>0</td>\n",
       "      <td>0</td>\n",
       "      <td>0</td>\n",
       "      <td>0</td>\n",
       "      <td>...</td>\n",
       "      <td>0</td>\n",
       "      <td>0</td>\n",
       "      <td>0</td>\n",
       "      <td>0</td>\n",
       "      <td>0</td>\n",
       "      <td>0</td>\n",
       "      <td>0</td>\n",
       "      <td>0</td>\n",
       "      <td>1</td>\n",
       "      <td>0</td>\n",
       "    </tr>\n",
       "    <tr>\n",
       "      <th>3</th>\n",
       "      <td>1500</td>\n",
       "      <td>2001</td>\n",
       "      <td>75</td>\n",
       "      <td>150000</td>\n",
       "      <td>2016</td>\n",
       "      <td>15</td>\n",
       "      <td>0</td>\n",
       "      <td>0</td>\n",
       "      <td>0</td>\n",
       "      <td>0</td>\n",
       "      <td>...</td>\n",
       "      <td>0</td>\n",
       "      <td>0</td>\n",
       "      <td>0</td>\n",
       "      <td>0</td>\n",
       "      <td>0</td>\n",
       "      <td>0</td>\n",
       "      <td>1</td>\n",
       "      <td>0</td>\n",
       "      <td>0</td>\n",
       "      <td>0</td>\n",
       "    </tr>\n",
       "    <tr>\n",
       "      <th>4</th>\n",
       "      <td>3600</td>\n",
       "      <td>2008</td>\n",
       "      <td>69</td>\n",
       "      <td>90000</td>\n",
       "      <td>2016</td>\n",
       "      <td>8</td>\n",
       "      <td>0</td>\n",
       "      <td>0</td>\n",
       "      <td>0</td>\n",
       "      <td>0</td>\n",
       "      <td>...</td>\n",
       "      <td>0</td>\n",
       "      <td>0</td>\n",
       "      <td>0</td>\n",
       "      <td>0</td>\n",
       "      <td>0</td>\n",
       "      <td>0</td>\n",
       "      <td>0</td>\n",
       "      <td>0</td>\n",
       "      <td>0</td>\n",
       "      <td>0</td>\n",
       "    </tr>\n",
       "    <tr>\n",
       "      <th>5</th>\n",
       "      <td>650</td>\n",
       "      <td>1995</td>\n",
       "      <td>102</td>\n",
       "      <td>150000</td>\n",
       "      <td>2016</td>\n",
       "      <td>21</td>\n",
       "      <td>0</td>\n",
       "      <td>0</td>\n",
       "      <td>0</td>\n",
       "      <td>1</td>\n",
       "      <td>...</td>\n",
       "      <td>0</td>\n",
       "      <td>0</td>\n",
       "      <td>0</td>\n",
       "      <td>0</td>\n",
       "      <td>0</td>\n",
       "      <td>0</td>\n",
       "      <td>0</td>\n",
       "      <td>0</td>\n",
       "      <td>0</td>\n",
       "      <td>1</td>\n",
       "    </tr>\n",
       "    <tr>\n",
       "      <th>6</th>\n",
       "      <td>2200</td>\n",
       "      <td>2004</td>\n",
       "      <td>109</td>\n",
       "      <td>150000</td>\n",
       "      <td>2016</td>\n",
       "      <td>12</td>\n",
       "      <td>1</td>\n",
       "      <td>0</td>\n",
       "      <td>0</td>\n",
       "      <td>0</td>\n",
       "      <td>...</td>\n",
       "      <td>0</td>\n",
       "      <td>0</td>\n",
       "      <td>0</td>\n",
       "      <td>0</td>\n",
       "      <td>0</td>\n",
       "      <td>0</td>\n",
       "      <td>0</td>\n",
       "      <td>0</td>\n",
       "      <td>0</td>\n",
       "      <td>0</td>\n",
       "    </tr>\n",
       "  </tbody>\n",
       "</table>\n",
       "<p>5 rows × 307 columns</p>\n",
       "</div>"
      ],
      "text/plain": [
       "   price  registration_year  power  kilometer  date_created  age  \\\n",
       "2   9800               2004    163     125000          2016   12   \n",
       "3   1500               2001     75     150000          2016   15   \n",
       "4   3600               2008     69      90000          2016    8   \n",
       "5    650               1995    102     150000          2016   21   \n",
       "6   2200               2004    109     150000          2016   12   \n",
       "\n",
       "   vehicle_type_convertible  vehicle_type_coupe  vehicle_type_other  \\\n",
       "2                         0                   0                   0   \n",
       "3                         0                   0                   0   \n",
       "4                         0                   0                   0   \n",
       "5                         0                   0                   0   \n",
       "6                         1                   0                   0   \n",
       "\n",
       "   vehicle_type_sedan  ...  brand_smart  brand_sonstige_autos  brand_subaru  \\\n",
       "2                   0  ...            0                     0             0   \n",
       "3                   0  ...            0                     0             0   \n",
       "4                   0  ...            0                     0             0   \n",
       "5                   1  ...            0                     0             0   \n",
       "6                   0  ...            0                     0             0   \n",
       "\n",
       "   brand_suzuki  brand_toyota  brand_trabant  brand_volkswagen  brand_volvo  \\\n",
       "2             0             0              0                 0            0   \n",
       "3             0             0              0                 1            0   \n",
       "4             0             0              0                 0            0   \n",
       "5             0             0              0                 0            0   \n",
       "6             0             0              0                 0            0   \n",
       "\n",
       "   not_repaired_unknown  not_repaired_yes  \n",
       "2                     1                 0  \n",
       "3                     0                 0  \n",
       "4                     0                 0  \n",
       "5                     0                 1  \n",
       "6                     0                 0  \n",
       "\n",
       "[5 rows x 307 columns]"
      ]
     },
     "execution_count": 34,
     "metadata": {},
     "output_type": "execute_result"
    }
   ],
   "source": [
    "# преобразование с помощью техники OHE\n",
    "df_ohe = pd.get_dummies(df, columns=cat_features, drop_first=True)\n",
    "df_ohe.head()"
   ]
  },
  {
   "cell_type": "code",
   "execution_count": 35,
   "metadata": {},
   "outputs": [
    {
     "data": {
      "text/html": [
       "<div>\n",
       "<style scoped>\n",
       "    .dataframe tbody tr th:only-of-type {\n",
       "        vertical-align: middle;\n",
       "    }\n",
       "\n",
       "    .dataframe tbody tr th {\n",
       "        vertical-align: top;\n",
       "    }\n",
       "\n",
       "    .dataframe thead th {\n",
       "        text-align: right;\n",
       "    }\n",
       "</style>\n",
       "<table border=\"1\" class=\"dataframe\">\n",
       "  <thead>\n",
       "    <tr style=\"text-align: right;\">\n",
       "      <th></th>\n",
       "      <th>price</th>\n",
       "      <th>vehicle_type</th>\n",
       "      <th>registration_year</th>\n",
       "      <th>gearbox</th>\n",
       "      <th>power</th>\n",
       "      <th>model</th>\n",
       "      <th>kilometer</th>\n",
       "      <th>fuel_type</th>\n",
       "      <th>brand</th>\n",
       "      <th>not_repaired</th>\n",
       "      <th>date_created</th>\n",
       "      <th>age</th>\n",
       "    </tr>\n",
       "  </thead>\n",
       "  <tbody>\n",
       "    <tr>\n",
       "      <th>2</th>\n",
       "      <td>9800</td>\n",
       "      <td>6.0</td>\n",
       "      <td>2004</td>\n",
       "      <td>0.0</td>\n",
       "      <td>163</td>\n",
       "      <td>117.0</td>\n",
       "      <td>125000</td>\n",
       "      <td>2.0</td>\n",
       "      <td>14.0</td>\n",
       "      <td>1.0</td>\n",
       "      <td>2016</td>\n",
       "      <td>12</td>\n",
       "    </tr>\n",
       "    <tr>\n",
       "      <th>3</th>\n",
       "      <td>1500</td>\n",
       "      <td>5.0</td>\n",
       "      <td>2001</td>\n",
       "      <td>1.0</td>\n",
       "      <td>75</td>\n",
       "      <td>116.0</td>\n",
       "      <td>150000</td>\n",
       "      <td>6.0</td>\n",
       "      <td>38.0</td>\n",
       "      <td>0.0</td>\n",
       "      <td>2016</td>\n",
       "      <td>15</td>\n",
       "    </tr>\n",
       "    <tr>\n",
       "      <th>4</th>\n",
       "      <td>3600</td>\n",
       "      <td>5.0</td>\n",
       "      <td>2008</td>\n",
       "      <td>1.0</td>\n",
       "      <td>69</td>\n",
       "      <td>101.0</td>\n",
       "      <td>90000</td>\n",
       "      <td>2.0</td>\n",
       "      <td>31.0</td>\n",
       "      <td>0.0</td>\n",
       "      <td>2016</td>\n",
       "      <td>8</td>\n",
       "    </tr>\n",
       "    <tr>\n",
       "      <th>5</th>\n",
       "      <td>650</td>\n",
       "      <td>4.0</td>\n",
       "      <td>1995</td>\n",
       "      <td>1.0</td>\n",
       "      <td>102</td>\n",
       "      <td>11.0</td>\n",
       "      <td>150000</td>\n",
       "      <td>6.0</td>\n",
       "      <td>2.0</td>\n",
       "      <td>2.0</td>\n",
       "      <td>2016</td>\n",
       "      <td>21</td>\n",
       "    </tr>\n",
       "    <tr>\n",
       "      <th>6</th>\n",
       "      <td>2200</td>\n",
       "      <td>1.0</td>\n",
       "      <td>2004</td>\n",
       "      <td>1.0</td>\n",
       "      <td>109</td>\n",
       "      <td>8.0</td>\n",
       "      <td>150000</td>\n",
       "      <td>6.0</td>\n",
       "      <td>25.0</td>\n",
       "      <td>0.0</td>\n",
       "      <td>2016</td>\n",
       "      <td>12</td>\n",
       "    </tr>\n",
       "  </tbody>\n",
       "</table>\n",
       "</div>"
      ],
      "text/plain": [
       "   price  vehicle_type  registration_year  gearbox  power  model  kilometer  \\\n",
       "2   9800           6.0               2004      0.0    163  117.0     125000   \n",
       "3   1500           5.0               2001      1.0     75  116.0     150000   \n",
       "4   3600           5.0               2008      1.0     69  101.0      90000   \n",
       "5    650           4.0               1995      1.0    102   11.0     150000   \n",
       "6   2200           1.0               2004      1.0    109    8.0     150000   \n",
       "\n",
       "   fuel_type  brand  not_repaired  date_created  age  \n",
       "2        2.0   14.0           1.0          2016   12  \n",
       "3        6.0   38.0           0.0          2016   15  \n",
       "4        2.0   31.0           0.0          2016    8  \n",
       "5        6.0    2.0           2.0          2016   21  \n",
       "6        6.0   25.0           0.0          2016   12  "
      ]
     },
     "execution_count": 35,
     "metadata": {},
     "output_type": "execute_result"
    }
   ],
   "source": [
    "# преобразование с помощью техник OrdinalEncoder \n",
    "ordinal = OrdinalEncoder()\n",
    "\n",
    "df_ordinal = pd.DataFrame(columns=df.columns)\n",
    "for column in df.columns:\n",
    "    if column not in cat_features:\n",
    "        df_ordinal[column] = df[column]\n",
    "\n",
    "        \n",
    "df_ordinal[cat_features] = ordinal.fit_transform(df[cat_features])\n",
    "\n",
    "\n",
    "df_ordinal.head()"
   ]
  },
  {
   "cell_type": "markdown",
   "metadata": {},
   "source": [
    "## Обучение моделей"
   ]
  },
  {
   "cell_type": "markdown",
   "metadata": {},
   "source": [
    "Обучим несколько моделей градиентного бустинга:\n",
    "- **LGBMRegressor()**,\n",
    "- **CatBoostRegressor()**,\n",
    "- **XGBRegressor()**.\n",
    "\n",
    "Рассмотрим качество и скорость работы моделей градиентного бустинга по следующему алгоритму:\n",
    "- обучим модель со значениями гиперпараметров по умолчанию;\n",
    "- подберем значения нескольких гиперпараметров, которые влияют как на качество, так и на скорость обучения, с помощью GridSearchCV();\n",
    "- обучим модель с подобранными гиперпараметрами;\n",
    "- попробуем увеличить скорость работы модели корректировкой гиперпараметров;\n",
    "- попробуем увеличить скорость работы модели отбором признаков.\n",
    "\n",
    "Для сравнения также посмотрим на результаты линейной модели **LinearRegression()**."
   ]
  },
  {
   "cell_type": "code",
   "execution_count": 36,
   "metadata": {},
   "outputs": [],
   "source": [
    "# функция для разделения датасета на обучающую и тестовую выборки, на признаки (features) и целевой признак (target)\n",
    "def split_df(data, target):\n",
    "    # разделение в соотношении 3:1\n",
    "    df_train, df_test = train_test_split(data, test_size=0.25, random_state=123) \n",
    "\n",
    "    train_features = df_train.drop([target], axis=1)\n",
    "    train_target = df_train[target]\n",
    "\n",
    "    test_features = df_test.drop([target], axis=1)\n",
    "    test_target = df_test[target]\n",
    "    \n",
    "    \n",
    "    return train_features, train_target, test_features, test_target"
   ]
  },
  {
   "cell_type": "code",
   "execution_count": 37,
   "metadata": {},
   "outputs": [],
   "source": [
    "# функция для определения гиперпараметров модели\n",
    "def grid_search(model, params):\n",
    "    grid_cv = GridSearchCV(estimator=model, param_grid=params, cv=3, n_jobs=-1, scoring=scorer)\n",
    "    grid_cv.fit(train_features, train_target)\n",
    "    print('Гиперпараметры: ', grid_cv.best_params_)\n",
    "    print('RMSE:', int(-grid_cv.best_score_))\n",
    "    return grid_cv.best_params_"
   ]
  },
  {
   "cell_type": "code",
   "execution_count": 38,
   "metadata": {},
   "outputs": [],
   "source": [
    "# функция для обучения модели и определения времени обучения\n",
    "def fit_predict(model, name, importance_features='all'):\n",
    "    start_fit_time = time.time()\n",
    "    model.fit(train_features, train_target)\n",
    "    fit_time = time.time() - start_fit_time\n",
    "    \n",
    "    predictions = model.predict(train_features)\n",
    "    \n",
    "    global a\n",
    "    columns = ['model_name', 'model', 'fit_time_sec', 'RMSE', 'importance_features']\n",
    "    rows = [[name, model, round(fit_time, 1), int(rmse(train_target, predictions)), importance_features]]\n",
    "    a = pd.DataFrame(data=rows, columns=columns)"
   ]
  },
  {
   "cell_type": "code",
   "execution_count": 39,
   "metadata": {},
   "outputs": [],
   "source": [
    "# функция для расчета ошибки RMSE\n",
    "def rmse(target, predictions):\n",
    "    return mean_squared_error(target, predictions, squared=False)"
   ]
  },
  {
   "cell_type": "code",
   "execution_count": 40,
   "metadata": {},
   "outputs": [],
   "source": [
    "# функция оценки для использования в GridSearchCV\n",
    "scorer = make_scorer(rmse, greater_is_better=False)"
   ]
  },
  {
   "cell_type": "code",
   "execution_count": 41,
   "metadata": {},
   "outputs": [
    {
     "data": {
      "text/html": [
       "<div>\n",
       "<style scoped>\n",
       "    .dataframe tbody tr th:only-of-type {\n",
       "        vertical-align: middle;\n",
       "    }\n",
       "\n",
       "    .dataframe tbody tr th {\n",
       "        vertical-align: top;\n",
       "    }\n",
       "\n",
       "    .dataframe thead th {\n",
       "        text-align: right;\n",
       "    }\n",
       "</style>\n",
       "<table border=\"1\" class=\"dataframe\">\n",
       "  <thead>\n",
       "    <tr style=\"text-align: right;\">\n",
       "      <th></th>\n",
       "      <th>model_name</th>\n",
       "      <th>model</th>\n",
       "      <th>fit_time_sec</th>\n",
       "      <th>RMSE</th>\n",
       "      <th>importance_features</th>\n",
       "    </tr>\n",
       "  </thead>\n",
       "  <tbody>\n",
       "  </tbody>\n",
       "</table>\n",
       "</div>"
      ],
      "text/plain": [
       "Empty DataFrame\n",
       "Columns: [model_name, model, fit_time_sec, RMSE, importance_features]\n",
       "Index: []"
      ]
     },
     "execution_count": 41,
     "metadata": {},
     "output_type": "execute_result"
    }
   ],
   "source": [
    "# таблица для накопления результатов\n",
    "columns = ['model_name', 'model', 'fit_time_sec', 'RMSE', 'importance_features']\n",
    "result_tbl = pd.DataFrame(columns=columns)\n",
    "result_tbl"
   ]
  },
  {
   "cell_type": "markdown",
   "metadata": {},
   "source": [
    "Значения полей таблицы с результатами:\n",
    "- **model_name** – название модели,\n",
    "- **model** – конфигурация модели,\n",
    "- **fit_time_sec** – время обучения модели в секундах,\n",
    "- **RMSE** – среднеквадратическая ошибка на обучающей выборке,\n",
    "- **importance_features** – количество важных признаков, отобранных для обучения модели (примеры значений: *all* - признаки не отбирались, *10* - было отобрано 10 признаков)"
   ]
  },
  {
   "cell_type": "markdown",
   "metadata": {},
   "source": [
    "### LGBMRegressor"
   ]
  },
  {
   "cell_type": "code",
   "execution_count": 42,
   "metadata": {},
   "outputs": [],
   "source": [
    "train_features, train_target, test_features, test_target = split_df(df_ordinal, 'price')"
   ]
  },
  {
   "cell_type": "code",
   "execution_count": 43,
   "metadata": {},
   "outputs": [],
   "source": [
    "lgbmreg = LGBMRegressor()"
   ]
  },
  {
   "cell_type": "code",
   "execution_count": 44,
   "metadata": {},
   "outputs": [
    {
     "data": {
      "text/html": [
       "<div>\n",
       "<style scoped>\n",
       "    .dataframe tbody tr th:only-of-type {\n",
       "        vertical-align: middle;\n",
       "    }\n",
       "\n",
       "    .dataframe tbody tr th {\n",
       "        vertical-align: top;\n",
       "    }\n",
       "\n",
       "    .dataframe thead th {\n",
       "        text-align: right;\n",
       "    }\n",
       "</style>\n",
       "<table border=\"1\" class=\"dataframe\">\n",
       "  <thead>\n",
       "    <tr style=\"text-align: right;\">\n",
       "      <th></th>\n",
       "      <th>model_name</th>\n",
       "      <th>model</th>\n",
       "      <th>fit_time_sec</th>\n",
       "      <th>RMSE</th>\n",
       "      <th>importance_features</th>\n",
       "    </tr>\n",
       "  </thead>\n",
       "  <tbody>\n",
       "    <tr>\n",
       "      <th>0</th>\n",
       "      <td>lgbmreg</td>\n",
       "      <td>LGBMRegressor(random_state=123)</td>\n",
       "      <td>0.5</td>\n",
       "      <td>1418</td>\n",
       "      <td>all</td>\n",
       "    </tr>\n",
       "  </tbody>\n",
       "</table>\n",
       "</div>"
      ],
      "text/plain": [
       "  model_name                            model  fit_time_sec  RMSE  \\\n",
       "0    lgbmreg  LGBMRegressor(random_state=123)           0.5  1418   \n",
       "\n",
       "  importance_features  \n",
       "0                 all  "
      ]
     },
     "execution_count": 44,
     "metadata": {},
     "output_type": "execute_result"
    }
   ],
   "source": [
    "fit_predict(lgbmreg, name='lgbmreg')\n",
    "result_tbl = pd.concat([result_tbl, a], axis = 0) # добавление показателей в общую таблицу\n",
    "result_tbl"
   ]
  },
  {
   "cell_type": "code",
   "execution_count": 45,
   "metadata": {},
   "outputs": [
    {
     "name": "stderr",
     "output_type": "stream",
     "text": [
      "C:\\Users\\79853\\miniconda3\\lib\\site-packages\\lightgbm\\engine.py:177: UserWarning: Found `num_iterations` in params. Will use it instead of argument\n",
      "  _log_warning(f\"Found `{alias}` in params. Will use it instead of argument\")\n"
     ]
    },
    {
     "name": "stdout",
     "output_type": "stream",
     "text": [
      "Гиперпараметры:  {'max_bin': 255, 'num_iterations': 1000}\n",
      "RMSE: 1353\n",
      "Wall time: 29.7 s\n"
     ]
    }
   ],
   "source": [
    "%%time\n",
    "# подбор гиперпараметров для модели\n",
    "best = grid_search(lgbmreg, params={'num_iterations': [500, 1000], 'max_bin': [255, 455], 'random_state': [123]})"
   ]
  },
  {
   "cell_type": "code",
   "execution_count": 46,
   "metadata": {},
   "outputs": [],
   "source": [
    "# модель с подобранными гиперпараметрами\n",
    "lgbmreg2 = LGBMRegressor(**best)"
   ]
  },
  {
   "cell_type": "code",
   "execution_count": 47,
   "metadata": {},
   "outputs": [
    {
     "data": {
      "text/html": [
       "<div>\n",
       "<style scoped>\n",
       "    .dataframe tbody tr th:only-of-type {\n",
       "        vertical-align: middle;\n",
       "    }\n",
       "\n",
       "    .dataframe tbody tr th {\n",
       "        vertical-align: top;\n",
       "    }\n",
       "\n",
       "    .dataframe thead th {\n",
       "        text-align: right;\n",
       "    }\n",
       "</style>\n",
       "<table border=\"1\" class=\"dataframe\">\n",
       "  <thead>\n",
       "    <tr style=\"text-align: right;\">\n",
       "      <th></th>\n",
       "      <th>model_name</th>\n",
       "      <th>model</th>\n",
       "      <th>fit_time_sec</th>\n",
       "      <th>RMSE</th>\n",
       "      <th>importance_features</th>\n",
       "    </tr>\n",
       "  </thead>\n",
       "  <tbody>\n",
       "    <tr>\n",
       "      <th>0</th>\n",
       "      <td>lgbmreg</td>\n",
       "      <td>LGBMRegressor(random_state=123)</td>\n",
       "      <td>0.5</td>\n",
       "      <td>1418</td>\n",
       "      <td>all</td>\n",
       "    </tr>\n",
       "    <tr>\n",
       "      <th>0</th>\n",
       "      <td>lgbmreg2</td>\n",
       "      <td>LGBMRegressor(max_bin=255, num_iterations=1000...</td>\n",
       "      <td>3.3</td>\n",
       "      <td>1216</td>\n",
       "      <td>all</td>\n",
       "    </tr>\n",
       "  </tbody>\n",
       "</table>\n",
       "</div>"
      ],
      "text/plain": [
       "  model_name                                              model  fit_time_sec  \\\n",
       "0    lgbmreg                    LGBMRegressor(random_state=123)           0.5   \n",
       "0   lgbmreg2  LGBMRegressor(max_bin=255, num_iterations=1000...           3.3   \n",
       "\n",
       "   RMSE importance_features  \n",
       "0  1418                 all  \n",
       "0  1216                 all  "
      ]
     },
     "execution_count": 47,
     "metadata": {},
     "output_type": "execute_result"
    }
   ],
   "source": [
    "fit_predict(lgbmreg2, name='lgbmreg2')\n",
    "result_tbl = pd.concat([result_tbl, a], axis = 0) # добавление показателей в общую таблицу\n",
    "result_tbl"
   ]
  },
  {
   "cell_type": "markdown",
   "metadata": {},
   "source": [
    "Уменьшим значения гиперпараметров, чтобы увеличить скорость обучения модели."
   ]
  },
  {
   "cell_type": "code",
   "execution_count": 48,
   "metadata": {},
   "outputs": [],
   "source": [
    "lgbmreg3 = LGBMRegressor(num_iterations=500, max_bin=255, random_state=123)"
   ]
  },
  {
   "cell_type": "code",
   "execution_count": 49,
   "metadata": {},
   "outputs": [
    {
     "name": "stderr",
     "output_type": "stream",
     "text": [
      "C:\\Users\\79853\\miniconda3\\lib\\site-packages\\lightgbm\\engine.py:177: UserWarning: Found `num_iterations` in params. Will use it instead of argument\n",
      "  _log_warning(f\"Found `{alias}` in params. Will use it instead of argument\")\n"
     ]
    },
    {
     "data": {
      "text/html": [
       "<div>\n",
       "<style scoped>\n",
       "    .dataframe tbody tr th:only-of-type {\n",
       "        vertical-align: middle;\n",
       "    }\n",
       "\n",
       "    .dataframe tbody tr th {\n",
       "        vertical-align: top;\n",
       "    }\n",
       "\n",
       "    .dataframe thead th {\n",
       "        text-align: right;\n",
       "    }\n",
       "</style>\n",
       "<table border=\"1\" class=\"dataframe\">\n",
       "  <thead>\n",
       "    <tr style=\"text-align: right;\">\n",
       "      <th></th>\n",
       "      <th>model_name</th>\n",
       "      <th>model</th>\n",
       "      <th>fit_time_sec</th>\n",
       "      <th>RMSE</th>\n",
       "      <th>importance_features</th>\n",
       "    </tr>\n",
       "  </thead>\n",
       "  <tbody>\n",
       "    <tr>\n",
       "      <th>0</th>\n",
       "      <td>lgbmreg</td>\n",
       "      <td>LGBMRegressor(random_state=123)</td>\n",
       "      <td>0.5</td>\n",
       "      <td>1418</td>\n",
       "      <td>all</td>\n",
       "    </tr>\n",
       "    <tr>\n",
       "      <th>0</th>\n",
       "      <td>lgbmreg2</td>\n",
       "      <td>LGBMRegressor(max_bin=255, num_iterations=1000...</td>\n",
       "      <td>3.3</td>\n",
       "      <td>1216</td>\n",
       "      <td>all</td>\n",
       "    </tr>\n",
       "    <tr>\n",
       "      <th>0</th>\n",
       "      <td>lgbmreg3</td>\n",
       "      <td>LGBMRegressor(max_bin=255, num_iterations=500,...</td>\n",
       "      <td>1.6</td>\n",
       "      <td>1279</td>\n",
       "      <td>all</td>\n",
       "    </tr>\n",
       "  </tbody>\n",
       "</table>\n",
       "</div>"
      ],
      "text/plain": [
       "  model_name                                              model  fit_time_sec  \\\n",
       "0    lgbmreg                    LGBMRegressor(random_state=123)           0.5   \n",
       "0   lgbmreg2  LGBMRegressor(max_bin=255, num_iterations=1000...           3.3   \n",
       "0   lgbmreg3  LGBMRegressor(max_bin=255, num_iterations=500,...           1.6   \n",
       "\n",
       "   RMSE importance_features  \n",
       "0  1418                 all  \n",
       "0  1216                 all  \n",
       "0  1279                 all  "
      ]
     },
     "execution_count": 49,
     "metadata": {},
     "output_type": "execute_result"
    }
   ],
   "source": [
    "fit_predict(lgbmreg3, name='lgbmreg3')\n",
    "result_tbl = pd.concat([result_tbl, a], axis = 0) # добавление показателей в общую таблицу\n",
    "result_tbl"
   ]
  },
  {
   "cell_type": "markdown",
   "metadata": {},
   "source": [
    "Посмотрим на гистограмму распределения важных признаков для модели **lgbmreg2**."
   ]
  },
  {
   "cell_type": "code",
   "execution_count": 50,
   "metadata": {},
   "outputs": [
    {
     "data": {
      "image/png": "[encoded data removed]",
      "text/plain": [
       "<Figure size 432x288 with 1 Axes>"
      ]
     },
     "metadata": {
      "needs_background": "light"
     },
     "output_type": "display_data"
    }
   ],
   "source": [
    "lgb.plot_importance(lgbmreg2);"
   ]
  },
  {
   "cell_type": "code",
   "execution_count": 51,
   "metadata": {},
   "outputs": [
    {
     "data": {
      "text/html": [
       "<div>\n",
       "<style scoped>\n",
       "    .dataframe tbody tr th:only-of-type {\n",
       "        vertical-align: middle;\n",
       "    }\n",
       "\n",
       "    .dataframe tbody tr th {\n",
       "        vertical-align: top;\n",
       "    }\n",
       "\n",
       "    .dataframe thead th {\n",
       "        text-align: right;\n",
       "    }\n",
       "</style>\n",
       "<table border=\"1\" class=\"dataframe\">\n",
       "  <thead>\n",
       "    <tr style=\"text-align: right;\">\n",
       "      <th></th>\n",
       "      <th>value</th>\n",
       "      <th>feature</th>\n",
       "    </tr>\n",
       "  </thead>\n",
       "  <tbody>\n",
       "    <tr>\n",
       "      <th>3</th>\n",
       "      <td>7232</td>\n",
       "      <td>power</td>\n",
       "    </tr>\n",
       "    <tr>\n",
       "      <th>1</th>\n",
       "      <td>6408</td>\n",
       "      <td>registration_year</td>\n",
       "    </tr>\n",
       "    <tr>\n",
       "      <th>4</th>\n",
       "      <td>4850</td>\n",
       "      <td>model</td>\n",
       "    </tr>\n",
       "    <tr>\n",
       "      <th>7</th>\n",
       "      <td>3305</td>\n",
       "      <td>brand</td>\n",
       "    </tr>\n",
       "    <tr>\n",
       "      <th>5</th>\n",
       "      <td>3005</td>\n",
       "      <td>kilometer</td>\n",
       "    </tr>\n",
       "    <tr>\n",
       "      <th>0</th>\n",
       "      <td>2422</td>\n",
       "      <td>vehicle_type</td>\n",
       "    </tr>\n",
       "    <tr>\n",
       "      <th>8</th>\n",
       "      <td>1055</td>\n",
       "      <td>not_repaired</td>\n",
       "    </tr>\n",
       "    <tr>\n",
       "      <th>6</th>\n",
       "      <td>936</td>\n",
       "      <td>fuel_type</td>\n",
       "    </tr>\n",
       "    <tr>\n",
       "      <th>2</th>\n",
       "      <td>640</td>\n",
       "      <td>gearbox</td>\n",
       "    </tr>\n",
       "    <tr>\n",
       "      <th>10</th>\n",
       "      <td>147</td>\n",
       "      <td>age</td>\n",
       "    </tr>\n",
       "    <tr>\n",
       "      <th>9</th>\n",
       "      <td>0</td>\n",
       "      <td>date_created</td>\n",
       "    </tr>\n",
       "  </tbody>\n",
       "</table>\n",
       "</div>"
      ],
      "text/plain": [
       "    value            feature\n",
       "3    7232              power\n",
       "1    6408  registration_year\n",
       "4    4850              model\n",
       "7    3305              brand\n",
       "5    3005          kilometer\n",
       "0    2422       vehicle_type\n",
       "8    1055       not_repaired\n",
       "6     936          fuel_type\n",
       "2     640            gearbox\n",
       "10    147                age\n",
       "9       0       date_created"
      ]
     },
     "execution_count": 51,
     "metadata": {},
     "output_type": "execute_result"
    }
   ],
   "source": [
    "# таблица признаков в порядке убывания важности\n",
    "feature_imp = pd.DataFrame({'value':lgbmreg2.feature_importances_,'feature':train_features.columns})\\\n",
    "                .sort_values('value', ascending=False)\n",
    "feature_imp"
   ]
  },
  {
   "cell_type": "markdown",
   "metadata": {},
   "source": [
    "Сократим признаки в обучающей выборке до 5 важных признаков."
   ]
  },
  {
   "cell_type": "code",
   "execution_count": 52,
   "metadata": {},
   "outputs": [],
   "source": [
    "top_features = 5\n",
    "train_features = train_features[list(feature_imp['feature'][:top_features])]"
   ]
  },
  {
   "cell_type": "code",
   "execution_count": 53,
   "metadata": {
    "scrolled": true
   },
   "outputs": [
    {
     "name": "stderr",
     "output_type": "stream",
     "text": [
      "C:\\Users\\79853\\miniconda3\\lib\\site-packages\\lightgbm\\engine.py:177: UserWarning: Found `num_iterations` in params. Will use it instead of argument\n",
      "  _log_warning(f\"Found `{alias}` in params. Will use it instead of argument\")\n"
     ]
    },
    {
     "data": {
      "text/html": [
       "<div>\n",
       "<style scoped>\n",
       "    .dataframe tbody tr th:only-of-type {\n",
       "        vertical-align: middle;\n",
       "    }\n",
       "\n",
       "    .dataframe tbody tr th {\n",
       "        vertical-align: top;\n",
       "    }\n",
       "\n",
       "    .dataframe thead th {\n",
       "        text-align: right;\n",
       "    }\n",
       "</style>\n",
       "<table border=\"1\" class=\"dataframe\">\n",
       "  <thead>\n",
       "    <tr style=\"text-align: right;\">\n",
       "      <th></th>\n",
       "      <th>model_name</th>\n",
       "      <th>model</th>\n",
       "      <th>fit_time_sec</th>\n",
       "      <th>RMSE</th>\n",
       "      <th>importance_features</th>\n",
       "    </tr>\n",
       "  </thead>\n",
       "  <tbody>\n",
       "    <tr>\n",
       "      <th>0</th>\n",
       "      <td>lgbmreg</td>\n",
       "      <td>LGBMRegressor(random_state=123)</td>\n",
       "      <td>0.5</td>\n",
       "      <td>1418</td>\n",
       "      <td>all</td>\n",
       "    </tr>\n",
       "    <tr>\n",
       "      <th>0</th>\n",
       "      <td>lgbmreg2</td>\n",
       "      <td>LGBMRegressor(max_bin=255, num_iterations=1000...</td>\n",
       "      <td>3.3</td>\n",
       "      <td>1216</td>\n",
       "      <td>all</td>\n",
       "    </tr>\n",
       "    <tr>\n",
       "      <th>0</th>\n",
       "      <td>lgbmreg3</td>\n",
       "      <td>LGBMRegressor(max_bin=255, num_iterations=500,...</td>\n",
       "      <td>1.6</td>\n",
       "      <td>1279</td>\n",
       "      <td>all</td>\n",
       "    </tr>\n",
       "    <tr>\n",
       "      <th>0</th>\n",
       "      <td>lgbmreg2</td>\n",
       "      <td>LGBMRegressor(max_bin=255, num_iterations=1000...</td>\n",
       "      <td>3.0</td>\n",
       "      <td>1360</td>\n",
       "      <td>5</td>\n",
       "    </tr>\n",
       "  </tbody>\n",
       "</table>\n",
       "</div>"
      ],
      "text/plain": [
       "  model_name                                              model  fit_time_sec  \\\n",
       "0    lgbmreg                    LGBMRegressor(random_state=123)           0.5   \n",
       "0   lgbmreg2  LGBMRegressor(max_bin=255, num_iterations=1000...           3.3   \n",
       "0   lgbmreg3  LGBMRegressor(max_bin=255, num_iterations=500,...           1.6   \n",
       "0   lgbmreg2  LGBMRegressor(max_bin=255, num_iterations=1000...           3.0   \n",
       "\n",
       "   RMSE importance_features  \n",
       "0  1418                 all  \n",
       "0  1216                 all  \n",
       "0  1279                 all  \n",
       "0  1360                   5  "
      ]
     },
     "execution_count": 53,
     "metadata": {},
     "output_type": "execute_result"
    }
   ],
   "source": [
    "fit_predict(lgbmreg2, name='lgbmreg2', importance_features=top_features)\n",
    "result_tbl = pd.concat([result_tbl, a], axis = 0) # добавление показателей в общую таблицу\n",
    "result_tbl"
   ]
  },
  {
   "cell_type": "markdown",
   "metadata": {},
   "source": [
    "**Вывод:**\n",
    "\n",
    "Модель LGBMRegressor() обучается довольно быстро: менее 5 секунд.\n",
    "\n",
    "Корректировка гиперпараметров привела к уменьшению времени обучения модели, но при этом увеличилась ошибка. \n",
    "\n",
    "Уменьшение количества признаков также привело к уменьшению времени обучения модели и увеличению ошибки."
   ]
  },
  {
   "cell_type": "markdown",
   "metadata": {},
   "source": [
    "### CatBoostRegressor"
   ]
  },
  {
   "cell_type": "code",
   "execution_count": 54,
   "metadata": {},
   "outputs": [],
   "source": [
    "train_features, train_target, test_features, test_target = split_df(df, 'price')"
   ]
  },
  {
   "cell_type": "code",
   "execution_count": 55,
   "metadata": {},
   "outputs": [],
   "source": [
    "cbreg_cat = CatBoostRegressor(cat_features=cat_features, random_state=123)"
   ]
  },
  {
   "cell_type": "code",
   "execution_count": 56,
   "metadata": {},
   "outputs": [
    {
     "name": "stdout",
     "output_type": "stream",
     "text": [
      "Learning rate set to 0.092994\n",
      "0:\tlearn: 3629.7810502\ttotal: 265ms\tremaining: 4m 24s\n",
      "1:\tlearn: 3424.3021823\ttotal: 367ms\tremaining: 3m 3s\n",
      "2:\tlearn: 3237.1766327\ttotal: 483ms\tremaining: 2m 40s\n",
      "3:\tlearn: 3070.9046479\ttotal: 609ms\tremaining: 2m 31s\n",
      "4:\tlearn: 2923.3127927\ttotal: 731ms\tremaining: 2m 25s\n",
      "5:\tlearn: 2781.5000871\ttotal: 841ms\tremaining: 2m 19s\n",
      "6:\tlearn: 2660.7124807\ttotal: 946ms\tremaining: 2m 14s\n",
      "7:\tlearn: 2553.3912991\ttotal: 1.05s\tremaining: 2m 10s\n",
      "8:\tlearn: 2461.6791235\ttotal: 1.15s\tremaining: 2m 6s\n",
      "9:\tlearn: 2374.2586323\ttotal: 1.27s\tremaining: 2m 5s\n",
      "10:\tlearn: 2299.2806102\ttotal: 1.37s\tremaining: 2m 3s\n",
      "11:\tlearn: 2230.2801930\ttotal: 1.48s\tremaining: 2m 2s\n",
      "12:\tlearn: 2165.6562545\ttotal: 1.6s\tremaining: 2m 1s\n",
      "13:\tlearn: 2112.4102555\ttotal: 1.7s\tremaining: 1m 59s\n",
      "14:\tlearn: 2064.5975971\ttotal: 1.82s\tremaining: 1m 59s\n",
      "15:\tlearn: 2013.8931287\ttotal: 1.93s\tremaining: 1m 58s\n",
      "16:\tlearn: 1976.5257666\ttotal: 2.07s\tremaining: 1m 59s\n",
      "17:\tlearn: 1936.7449055\ttotal: 2.21s\tremaining: 2m\n",
      "18:\tlearn: 1904.7100349\ttotal: 2.31s\tremaining: 1m 59s\n",
      "19:\tlearn: 1871.3166207\ttotal: 2.43s\tremaining: 1m 59s\n",
      "20:\tlearn: 1842.1295180\ttotal: 2.55s\tremaining: 1m 58s\n",
      "21:\tlearn: 1815.9627997\ttotal: 2.65s\tremaining: 1m 58s\n",
      "22:\tlearn: 1796.2691544\ttotal: 2.75s\tremaining: 1m 56s\n",
      "23:\tlearn: 1777.6823892\ttotal: 2.85s\tremaining: 1m 56s\n",
      "24:\tlearn: 1759.1206546\ttotal: 2.97s\tremaining: 1m 55s\n",
      "25:\tlearn: 1742.5763663\ttotal: 3.08s\tremaining: 1m 55s\n",
      "26:\tlearn: 1726.6839986\ttotal: 3.18s\tremaining: 1m 54s\n",
      "27:\tlearn: 1710.6042877\ttotal: 3.27s\tremaining: 1m 53s\n",
      "28:\tlearn: 1697.0687665\ttotal: 3.4s\tremaining: 1m 53s\n",
      "29:\tlearn: 1684.9255003\ttotal: 3.48s\tremaining: 1m 52s\n",
      "30:\tlearn: 1674.6061370\ttotal: 3.57s\tremaining: 1m 51s\n",
      "31:\tlearn: 1665.9899583\ttotal: 3.69s\tremaining: 1m 51s\n",
      "32:\tlearn: 1656.8416414\ttotal: 3.78s\tremaining: 1m 50s\n",
      "33:\tlearn: 1647.9847330\ttotal: 3.87s\tremaining: 1m 50s\n",
      "34:\tlearn: 1641.0901999\ttotal: 3.97s\tremaining: 1m 49s\n",
      "35:\tlearn: 1634.7565161\ttotal: 4.07s\tremaining: 1m 48s\n",
      "36:\tlearn: 1628.1228447\ttotal: 4.17s\tremaining: 1m 48s\n",
      "37:\tlearn: 1621.9910049\ttotal: 4.28s\tremaining: 1m 48s\n",
      "38:\tlearn: 1616.1415906\ttotal: 4.37s\tremaining: 1m 47s\n",
      "39:\tlearn: 1610.7325184\ttotal: 4.47s\tremaining: 1m 47s\n",
      "40:\tlearn: 1604.7347678\ttotal: 4.56s\tremaining: 1m 46s\n",
      "41:\tlearn: 1600.5041694\ttotal: 4.67s\tremaining: 1m 46s\n",
      "42:\tlearn: 1596.6680778\ttotal: 4.75s\tremaining: 1m 45s\n",
      "43:\tlearn: 1591.9658500\ttotal: 4.84s\tremaining: 1m 45s\n",
      "44:\tlearn: 1588.4998233\ttotal: 4.92s\tremaining: 1m 44s\n",
      "45:\tlearn: 1584.9059497\ttotal: 5.02s\tremaining: 1m 44s\n",
      "46:\tlearn: 1580.8293948\ttotal: 5.12s\tremaining: 1m 43s\n",
      "47:\tlearn: 1578.3375576\ttotal: 5.21s\tremaining: 1m 43s\n",
      "48:\tlearn: 1575.6229188\ttotal: 5.32s\tremaining: 1m 43s\n",
      "49:\tlearn: 1572.4727941\ttotal: 5.41s\tremaining: 1m 42s\n",
      "50:\tlearn: 1569.7625831\ttotal: 5.52s\tremaining: 1m 42s\n",
      "51:\tlearn: 1566.4639329\ttotal: 5.63s\tremaining: 1m 42s\n",
      "52:\tlearn: 1563.2265851\ttotal: 5.72s\tremaining: 1m 42s\n",
      "53:\tlearn: 1560.4857823\ttotal: 5.84s\tremaining: 1m 42s\n",
      "54:\tlearn: 1558.1780751\ttotal: 5.95s\tremaining: 1m 42s\n",
      "55:\tlearn: 1555.5445116\ttotal: 6.06s\tremaining: 1m 42s\n",
      "56:\tlearn: 1552.7988675\ttotal: 6.17s\tremaining: 1m 42s\n",
      "57:\tlearn: 1550.6423898\ttotal: 6.26s\tremaining: 1m 41s\n",
      "58:\tlearn: 1548.6322743\ttotal: 6.38s\tremaining: 1m 41s\n",
      "59:\tlearn: 1547.1336417\ttotal: 6.46s\tremaining: 1m 41s\n",
      "60:\tlearn: 1543.9762025\ttotal: 6.57s\tremaining: 1m 41s\n",
      "61:\tlearn: 1542.6639562\ttotal: 6.67s\tremaining: 1m 40s\n",
      "62:\tlearn: 1540.2482504\ttotal: 6.78s\tremaining: 1m 40s\n",
      "63:\tlearn: 1538.4861559\ttotal: 6.88s\tremaining: 1m 40s\n",
      "64:\tlearn: 1536.5614186\ttotal: 6.99s\tremaining: 1m 40s\n",
      "65:\tlearn: 1534.8222772\ttotal: 7.09s\tremaining: 1m 40s\n",
      "66:\tlearn: 1533.2227564\ttotal: 7.18s\tremaining: 1m 39s\n",
      "67:\tlearn: 1531.2700854\ttotal: 7.29s\tremaining: 1m 39s\n",
      "68:\tlearn: 1528.6725411\ttotal: 7.4s\tremaining: 1m 39s\n",
      "69:\tlearn: 1527.2310934\ttotal: 7.53s\tremaining: 1m 40s\n",
      "70:\tlearn: 1525.5290531\ttotal: 7.61s\tremaining: 1m 39s\n",
      "71:\tlearn: 1523.7457463\ttotal: 7.74s\tremaining: 1m 39s\n",
      "72:\tlearn: 1521.8990501\ttotal: 7.84s\tremaining: 1m 39s\n",
      "73:\tlearn: 1520.8951955\ttotal: 7.95s\tremaining: 1m 39s\n",
      "74:\tlearn: 1518.9113856\ttotal: 8.05s\tremaining: 1m 39s\n",
      "75:\tlearn: 1517.2342535\ttotal: 8.15s\tremaining: 1m 39s\n",
      "76:\tlearn: 1515.8544008\ttotal: 8.24s\tremaining: 1m 38s\n",
      "77:\tlearn: 1514.5973048\ttotal: 8.35s\tremaining: 1m 38s\n",
      "78:\tlearn: 1513.0503405\ttotal: 8.46s\tremaining: 1m 38s\n",
      "79:\tlearn: 1511.0917863\ttotal: 8.57s\tremaining: 1m 38s\n",
      "80:\tlearn: 1510.1142376\ttotal: 8.69s\tremaining: 1m 38s\n",
      "81:\tlearn: 1508.2875787\ttotal: 8.79s\tremaining: 1m 38s\n",
      "82:\tlearn: 1506.7453991\ttotal: 8.88s\tremaining: 1m 38s\n",
      "83:\tlearn: 1505.1214956\ttotal: 9s\tremaining: 1m 38s\n",
      "84:\tlearn: 1503.2717372\ttotal: 9.1s\tremaining: 1m 37s\n",
      "85:\tlearn: 1500.8553135\ttotal: 9.21s\tremaining: 1m 37s\n",
      "86:\tlearn: 1499.3509758\ttotal: 9.3s\tremaining: 1m 37s\n",
      "87:\tlearn: 1498.4462351\ttotal: 9.38s\tremaining: 1m 37s\n",
      "88:\tlearn: 1497.0127932\ttotal: 9.5s\tremaining: 1m 37s\n",
      "89:\tlearn: 1496.2373366\ttotal: 9.59s\tremaining: 1m 36s\n",
      "90:\tlearn: 1495.5136636\ttotal: 9.67s\tremaining: 1m 36s\n",
      "91:\tlearn: 1494.6687655\ttotal: 9.79s\tremaining: 1m 36s\n",
      "92:\tlearn: 1493.4579407\ttotal: 9.88s\tremaining: 1m 36s\n",
      "93:\tlearn: 1492.3862822\ttotal: 9.99s\tremaining: 1m 36s\n",
      "94:\tlearn: 1491.5138725\ttotal: 10.1s\tremaining: 1m 36s\n",
      "95:\tlearn: 1489.8284926\ttotal: 10.2s\tremaining: 1m 36s\n",
      "96:\tlearn: 1488.7818400\ttotal: 10.3s\tremaining: 1m 36s\n",
      "97:\tlearn: 1487.6692944\ttotal: 10.5s\tremaining: 1m 36s\n",
      "98:\tlearn: 1486.4724347\ttotal: 10.6s\tremaining: 1m 36s\n",
      "99:\tlearn: 1485.2214149\ttotal: 10.7s\tremaining: 1m 35s\n",
      "100:\tlearn: 1484.3189150\ttotal: 10.8s\tremaining: 1m 35s\n",
      "101:\tlearn: 1483.4194789\ttotal: 10.9s\tremaining: 1m 35s\n",
      "102:\tlearn: 1482.7373171\ttotal: 11s\tremaining: 1m 35s\n",
      "103:\tlearn: 1481.8670913\ttotal: 11.1s\tremaining: 1m 35s\n",
      "104:\tlearn: 1480.8566638\ttotal: 11.2s\tremaining: 1m 35s\n",
      "105:\tlearn: 1479.9095435\ttotal: 11.3s\tremaining: 1m 35s\n",
      "106:\tlearn: 1478.7150759\ttotal: 11.4s\tremaining: 1m 34s\n",
      "107:\tlearn: 1477.8080464\ttotal: 11.5s\tremaining: 1m 34s\n",
      "108:\tlearn: 1476.9397677\ttotal: 11.6s\tremaining: 1m 34s\n",
      "109:\tlearn: 1476.1616615\ttotal: 11.7s\tremaining: 1m 34s\n",
      "110:\tlearn: 1475.3414762\ttotal: 11.8s\tremaining: 1m 34s\n",
      "111:\tlearn: 1474.4388138\ttotal: 11.9s\tremaining: 1m 34s\n",
      "112:\tlearn: 1473.8350411\ttotal: 12s\tremaining: 1m 33s\n",
      "113:\tlearn: 1473.0713719\ttotal: 12.1s\tremaining: 1m 33s\n",
      "114:\tlearn: 1472.3393220\ttotal: 12.2s\tremaining: 1m 33s\n",
      "115:\tlearn: 1471.0262433\ttotal: 12.3s\tremaining: 1m 33s\n",
      "116:\tlearn: 1470.5591558\ttotal: 12.4s\tremaining: 1m 33s\n",
      "117:\tlearn: 1469.8165254\ttotal: 12.5s\tremaining: 1m 33s\n",
      "118:\tlearn: 1468.9857067\ttotal: 12.6s\tremaining: 1m 33s\n",
      "119:\tlearn: 1468.1693170\ttotal: 12.7s\tremaining: 1m 33s\n",
      "120:\tlearn: 1467.0154247\ttotal: 12.8s\tremaining: 1m 32s\n",
      "121:\tlearn: 1466.4513443\ttotal: 12.9s\tremaining: 1m 32s\n",
      "122:\tlearn: 1465.7668337\ttotal: 13s\tremaining: 1m 32s\n",
      "123:\tlearn: 1464.7085305\ttotal: 13.1s\tremaining: 1m 32s\n",
      "124:\tlearn: 1463.6262894\ttotal: 13.2s\tremaining: 1m 32s\n",
      "125:\tlearn: 1462.8120053\ttotal: 13.3s\tremaining: 1m 32s\n",
      "126:\tlearn: 1462.1486859\ttotal: 13.4s\tremaining: 1m 32s\n",
      "127:\tlearn: 1461.3525946\ttotal: 13.5s\tremaining: 1m 31s\n",
      "128:\tlearn: 1460.7770256\ttotal: 13.6s\tremaining: 1m 31s\n",
      "129:\tlearn: 1459.9946693\ttotal: 13.7s\tremaining: 1m 31s\n",
      "130:\tlearn: 1459.4378011\ttotal: 13.8s\tremaining: 1m 31s\n",
      "131:\tlearn: 1458.9181007\ttotal: 13.9s\tremaining: 1m 31s\n",
      "132:\tlearn: 1458.3660741\ttotal: 14s\tremaining: 1m 31s\n",
      "133:\tlearn: 1457.5044290\ttotal: 14.1s\tremaining: 1m 31s\n",
      "134:\tlearn: 1456.7241504\ttotal: 14.2s\tremaining: 1m 31s\n",
      "135:\tlearn: 1456.0895294\ttotal: 14.3s\tremaining: 1m 30s\n",
      "136:\tlearn: 1455.3228505\ttotal: 14.4s\tremaining: 1m 30s\n",
      "137:\tlearn: 1454.5311736\ttotal: 14.5s\tremaining: 1m 30s\n",
      "138:\tlearn: 1454.1041932\ttotal: 14.7s\tremaining: 1m 30s\n",
      "139:\tlearn: 1453.3118264\ttotal: 14.8s\tremaining: 1m 30s\n",
      "140:\tlearn: 1452.6863810\ttotal: 14.9s\tremaining: 1m 30s\n",
      "141:\tlearn: 1451.6845317\ttotal: 15s\tremaining: 1m 30s\n",
      "142:\tlearn: 1451.0370276\ttotal: 15.1s\tremaining: 1m 30s\n",
      "143:\tlearn: 1450.5280916\ttotal: 15.2s\tremaining: 1m 30s\n",
      "144:\tlearn: 1450.1518451\ttotal: 15.3s\tremaining: 1m 29s\n",
      "145:\tlearn: 1449.4779878\ttotal: 15.4s\tremaining: 1m 29s\n",
      "146:\tlearn: 1449.0319317\ttotal: 15.4s\tremaining: 1m 29s\n",
      "147:\tlearn: 1448.1600610\ttotal: 15.5s\tremaining: 1m 29s\n",
      "148:\tlearn: 1447.7175875\ttotal: 15.7s\tremaining: 1m 29s\n"
     ]
    },
    {
     "name": "stdout",
     "output_type": "stream",
     "text": [
      "149:\tlearn: 1447.1413327\ttotal: 15.8s\tremaining: 1m 29s\n",
      "150:\tlearn: 1446.2282054\ttotal: 15.9s\tremaining: 1m 29s\n",
      "151:\tlearn: 1445.9122389\ttotal: 16s\tremaining: 1m 29s\n",
      "152:\tlearn: 1445.5031616\ttotal: 16.1s\tremaining: 1m 28s\n",
      "153:\tlearn: 1444.6414674\ttotal: 16.2s\tremaining: 1m 28s\n",
      "154:\tlearn: 1443.9464781\ttotal: 16.3s\tremaining: 1m 28s\n",
      "155:\tlearn: 1443.4911203\ttotal: 16.4s\tremaining: 1m 28s\n",
      "156:\tlearn: 1442.9990564\ttotal: 16.5s\tremaining: 1m 28s\n",
      "157:\tlearn: 1442.4900666\ttotal: 16.6s\tremaining: 1m 28s\n",
      "158:\tlearn: 1441.9571196\ttotal: 16.7s\tremaining: 1m 28s\n",
      "159:\tlearn: 1441.2071372\ttotal: 16.8s\tremaining: 1m 28s\n",
      "160:\tlearn: 1440.8289742\ttotal: 16.9s\tremaining: 1m 28s\n",
      "161:\tlearn: 1440.4474171\ttotal: 17s\tremaining: 1m 27s\n",
      "162:\tlearn: 1440.1575840\ttotal: 17.1s\tremaining: 1m 27s\n",
      "163:\tlearn: 1439.4044407\ttotal: 17.2s\tremaining: 1m 27s\n",
      "164:\tlearn: 1438.7510235\ttotal: 17.3s\tremaining: 1m 27s\n",
      "165:\tlearn: 1438.3812345\ttotal: 17.4s\tremaining: 1m 27s\n",
      "166:\tlearn: 1437.6796114\ttotal: 17.5s\tremaining: 1m 27s\n",
      "167:\tlearn: 1436.9056057\ttotal: 17.6s\tremaining: 1m 27s\n",
      "168:\tlearn: 1436.4418043\ttotal: 17.7s\tremaining: 1m 27s\n",
      "169:\tlearn: 1435.8161894\ttotal: 17.8s\tremaining: 1m 26s\n",
      "170:\tlearn: 1435.3279163\ttotal: 17.9s\tremaining: 1m 26s\n",
      "171:\tlearn: 1435.0928894\ttotal: 18.1s\tremaining: 1m 26s\n",
      "172:\tlearn: 1434.4596956\ttotal: 18.2s\tremaining: 1m 26s\n",
      "173:\tlearn: 1433.9796122\ttotal: 18.3s\tremaining: 1m 26s\n",
      "174:\tlearn: 1433.3932847\ttotal: 18.4s\tremaining: 1m 26s\n",
      "175:\tlearn: 1432.7981282\ttotal: 18.5s\tremaining: 1m 26s\n",
      "176:\tlearn: 1432.1451996\ttotal: 18.6s\tremaining: 1m 26s\n",
      "177:\tlearn: 1431.5142303\ttotal: 18.7s\tremaining: 1m 26s\n",
      "178:\tlearn: 1431.0115555\ttotal: 18.8s\tremaining: 1m 26s\n",
      "179:\tlearn: 1430.5226660\ttotal: 18.9s\tremaining: 1m 25s\n",
      "180:\tlearn: 1430.1690021\ttotal: 19s\tremaining: 1m 25s\n",
      "181:\tlearn: 1429.7257524\ttotal: 19s\tremaining: 1m 25s\n",
      "182:\tlearn: 1429.2598578\ttotal: 19.1s\tremaining: 1m 25s\n",
      "183:\tlearn: 1428.8718513\ttotal: 19.3s\tremaining: 1m 25s\n",
      "184:\tlearn: 1428.3090960\ttotal: 19.4s\tremaining: 1m 25s\n",
      "185:\tlearn: 1427.7618653\ttotal: 19.5s\tremaining: 1m 25s\n",
      "186:\tlearn: 1427.4458821\ttotal: 19.6s\tremaining: 1m 25s\n",
      "187:\tlearn: 1426.9461402\ttotal: 19.7s\tremaining: 1m 25s\n",
      "188:\tlearn: 1426.4004300\ttotal: 19.8s\tremaining: 1m 24s\n",
      "189:\tlearn: 1425.9978593\ttotal: 19.9s\tremaining: 1m 24s\n",
      "190:\tlearn: 1425.5262108\ttotal: 20s\tremaining: 1m 24s\n",
      "191:\tlearn: 1425.1115736\ttotal: 20.1s\tremaining: 1m 24s\n",
      "192:\tlearn: 1424.5039895\ttotal: 20.2s\tremaining: 1m 24s\n",
      "193:\tlearn: 1424.2790887\ttotal: 20.3s\tremaining: 1m 24s\n",
      "194:\tlearn: 1423.9219326\ttotal: 20.4s\tremaining: 1m 24s\n",
      "195:\tlearn: 1423.3520475\ttotal: 20.6s\tremaining: 1m 24s\n",
      "196:\tlearn: 1423.1298023\ttotal: 20.7s\tremaining: 1m 24s\n",
      "197:\tlearn: 1422.9653200\ttotal: 20.7s\tremaining: 1m 24s\n",
      "198:\tlearn: 1422.5804175\ttotal: 20.8s\tremaining: 1m 23s\n",
      "199:\tlearn: 1422.2929348\ttotal: 20.9s\tremaining: 1m 23s\n",
      "200:\tlearn: 1421.6052489\ttotal: 21s\tremaining: 1m 23s\n",
      "201:\tlearn: 1420.9143392\ttotal: 21.1s\tremaining: 1m 23s\n",
      "202:\tlearn: 1420.6198312\ttotal: 21.2s\tremaining: 1m 23s\n",
      "203:\tlearn: 1420.3315082\ttotal: 21.3s\tremaining: 1m 23s\n",
      "204:\tlearn: 1419.8278930\ttotal: 21.4s\tremaining: 1m 23s\n",
      "205:\tlearn: 1419.5406195\ttotal: 21.5s\tremaining: 1m 23s\n",
      "206:\tlearn: 1418.9181882\ttotal: 21.6s\tremaining: 1m 22s\n",
      "207:\tlearn: 1418.4679579\ttotal: 21.7s\tremaining: 1m 22s\n",
      "208:\tlearn: 1418.2559624\ttotal: 21.8s\tremaining: 1m 22s\n",
      "209:\tlearn: 1417.6464769\ttotal: 22s\tremaining: 1m 22s\n",
      "210:\tlearn: 1417.2431944\ttotal: 22.1s\tremaining: 1m 22s\n",
      "211:\tlearn: 1416.6938442\ttotal: 22.2s\tremaining: 1m 22s\n",
      "212:\tlearn: 1416.4144419\ttotal: 22.3s\tremaining: 1m 22s\n",
      "213:\tlearn: 1416.1829065\ttotal: 22.4s\tremaining: 1m 22s\n",
      "214:\tlearn: 1415.6050323\ttotal: 22.5s\tremaining: 1m 22s\n",
      "215:\tlearn: 1415.2071650\ttotal: 22.6s\tremaining: 1m 22s\n",
      "216:\tlearn: 1414.9469830\ttotal: 22.7s\tremaining: 1m 21s\n",
      "217:\tlearn: 1414.7276989\ttotal: 22.8s\tremaining: 1m 21s\n",
      "218:\tlearn: 1414.3975590\ttotal: 22.9s\tremaining: 1m 21s\n",
      "219:\tlearn: 1414.1905150\ttotal: 23s\tremaining: 1m 21s\n",
      "220:\tlearn: 1413.7700157\ttotal: 23.1s\tremaining: 1m 21s\n",
      "221:\tlearn: 1413.2831192\ttotal: 23.2s\tremaining: 1m 21s\n",
      "222:\tlearn: 1413.0243330\ttotal: 23.3s\tremaining: 1m 21s\n",
      "223:\tlearn: 1412.6871115\ttotal: 23.4s\tremaining: 1m 21s\n",
      "224:\tlearn: 1412.5130209\ttotal: 23.5s\tremaining: 1m 21s\n",
      "225:\tlearn: 1412.0627377\ttotal: 23.6s\tremaining: 1m 20s\n",
      "226:\tlearn: 1411.6729453\ttotal: 23.8s\tremaining: 1m 20s\n",
      "227:\tlearn: 1411.4145882\ttotal: 23.8s\tremaining: 1m 20s\n",
      "228:\tlearn: 1410.9792844\ttotal: 23.9s\tremaining: 1m 20s\n",
      "229:\tlearn: 1410.3943984\ttotal: 24s\tremaining: 1m 20s\n",
      "230:\tlearn: 1410.1030964\ttotal: 24.1s\tremaining: 1m 20s\n",
      "231:\tlearn: 1409.8627906\ttotal: 24.2s\tremaining: 1m 20s\n",
      "232:\tlearn: 1409.5261609\ttotal: 24.3s\tremaining: 1m 20s\n",
      "233:\tlearn: 1409.1391869\ttotal: 24.4s\tremaining: 1m 19s\n",
      "234:\tlearn: 1408.7819354\ttotal: 24.5s\tremaining: 1m 19s\n",
      "235:\tlearn: 1408.2812910\ttotal: 24.6s\tremaining: 1m 19s\n",
      "236:\tlearn: 1407.8945154\ttotal: 24.7s\tremaining: 1m 19s\n",
      "237:\tlearn: 1407.5519001\ttotal: 24.8s\tremaining: 1m 19s\n",
      "238:\tlearn: 1407.2843771\ttotal: 24.9s\tremaining: 1m 19s\n",
      "239:\tlearn: 1406.9965059\ttotal: 25s\tremaining: 1m 19s\n",
      "240:\tlearn: 1406.7069523\ttotal: 25.1s\tremaining: 1m 19s\n",
      "241:\tlearn: 1406.4063998\ttotal: 25.2s\tremaining: 1m 18s\n",
      "242:\tlearn: 1406.2470405\ttotal: 25.3s\tremaining: 1m 18s\n",
      "243:\tlearn: 1406.0631338\ttotal: 25.4s\tremaining: 1m 18s\n",
      "244:\tlearn: 1405.7801898\ttotal: 25.5s\tremaining: 1m 18s\n",
      "245:\tlearn: 1405.5687661\ttotal: 25.6s\tremaining: 1m 18s\n",
      "246:\tlearn: 1405.2595397\ttotal: 25.7s\tremaining: 1m 18s\n",
      "247:\tlearn: 1405.0764331\ttotal: 25.8s\tremaining: 1m 18s\n",
      "248:\tlearn: 1404.8008650\ttotal: 25.9s\tremaining: 1m 18s\n",
      "249:\tlearn: 1404.4339390\ttotal: 26s\tremaining: 1m 18s\n",
      "250:\tlearn: 1403.9519047\ttotal: 26.1s\tremaining: 1m 17s\n",
      "251:\tlearn: 1403.7108834\ttotal: 26.2s\tremaining: 1m 17s\n",
      "252:\tlearn: 1403.5744207\ttotal: 26.4s\tremaining: 1m 17s\n",
      "253:\tlearn: 1403.4321907\ttotal: 26.4s\tremaining: 1m 17s\n",
      "254:\tlearn: 1403.1218476\ttotal: 26.5s\tremaining: 1m 17s\n",
      "255:\tlearn: 1402.7749150\ttotal: 26.7s\tremaining: 1m 17s\n",
      "256:\tlearn: 1402.6275272\ttotal: 26.8s\tremaining: 1m 17s\n",
      "257:\tlearn: 1402.2426738\ttotal: 26.9s\tremaining: 1m 17s\n",
      "258:\tlearn: 1402.0740860\ttotal: 27s\tremaining: 1m 17s\n",
      "259:\tlearn: 1401.8391734\ttotal: 27.1s\tremaining: 1m 17s\n",
      "260:\tlearn: 1401.4859798\ttotal: 27.1s\tremaining: 1m 16s\n",
      "261:\tlearn: 1401.2145591\ttotal: 27.3s\tremaining: 1m 16s\n",
      "262:\tlearn: 1400.9316592\ttotal: 27.3s\tremaining: 1m 16s\n",
      "263:\tlearn: 1400.5629550\ttotal: 27.4s\tremaining: 1m 16s\n",
      "264:\tlearn: 1400.3814333\ttotal: 27.5s\tremaining: 1m 16s\n",
      "265:\tlearn: 1400.0686187\ttotal: 27.6s\tremaining: 1m 16s\n",
      "266:\tlearn: 1399.8846408\ttotal: 27.8s\tremaining: 1m 16s\n",
      "267:\tlearn: 1399.6370669\ttotal: 27.9s\tremaining: 1m 16s\n",
      "268:\tlearn: 1399.2892456\ttotal: 28s\tremaining: 1m 16s\n",
      "269:\tlearn: 1398.7736295\ttotal: 28.1s\tremaining: 1m 15s\n",
      "270:\tlearn: 1398.6210703\ttotal: 28.2s\tremaining: 1m 15s\n",
      "271:\tlearn: 1398.4030454\ttotal: 28.3s\tremaining: 1m 15s\n",
      "272:\tlearn: 1398.2230670\ttotal: 28.4s\tremaining: 1m 15s\n",
      "273:\tlearn: 1397.8537278\ttotal: 28.5s\tremaining: 1m 15s\n",
      "274:\tlearn: 1397.5281277\ttotal: 28.6s\tremaining: 1m 15s\n",
      "275:\tlearn: 1397.1702338\ttotal: 28.7s\tremaining: 1m 15s\n",
      "276:\tlearn: 1396.8903458\ttotal: 28.8s\tremaining: 1m 15s\n",
      "277:\tlearn: 1396.7577592\ttotal: 28.9s\tremaining: 1m 15s\n",
      "278:\tlearn: 1396.5270651\ttotal: 29s\tremaining: 1m 14s\n",
      "279:\tlearn: 1396.3279265\ttotal: 29.1s\tremaining: 1m 14s\n",
      "280:\tlearn: 1395.9216934\ttotal: 29.2s\tremaining: 1m 14s\n",
      "281:\tlearn: 1395.6248237\ttotal: 29.3s\tremaining: 1m 14s\n",
      "282:\tlearn: 1395.4554495\ttotal: 29.4s\tremaining: 1m 14s\n",
      "283:\tlearn: 1395.1064106\ttotal: 29.5s\tremaining: 1m 14s\n",
      "284:\tlearn: 1394.9598734\ttotal: 29.6s\tremaining: 1m 14s\n",
      "285:\tlearn: 1394.6691547\ttotal: 29.7s\tremaining: 1m 14s\n",
      "286:\tlearn: 1394.3514423\ttotal: 29.8s\tremaining: 1m 14s\n",
      "287:\tlearn: 1394.0548212\ttotal: 29.9s\tremaining: 1m 13s\n",
      "288:\tlearn: 1393.8325308\ttotal: 30s\tremaining: 1m 13s\n",
      "289:\tlearn: 1393.5391881\ttotal: 30.1s\tremaining: 1m 13s\n",
      "290:\tlearn: 1393.3458261\ttotal: 30.3s\tremaining: 1m 13s\n",
      "291:\tlearn: 1393.0594070\ttotal: 30.4s\tremaining: 1m 13s\n",
      "292:\tlearn: 1392.8624697\ttotal: 30.5s\tremaining: 1m 13s\n",
      "293:\tlearn: 1392.4990546\ttotal: 30.6s\tremaining: 1m 13s\n",
      "294:\tlearn: 1392.3057992\ttotal: 30.7s\tremaining: 1m 13s\n",
      "295:\tlearn: 1392.0884364\ttotal: 30.8s\tremaining: 1m 13s\n",
      "296:\tlearn: 1391.7693527\ttotal: 30.8s\tremaining: 1m 12s\n"
     ]
    },
    {
     "name": "stdout",
     "output_type": "stream",
     "text": [
      "297:\tlearn: 1391.4760512\ttotal: 30.9s\tremaining: 1m 12s\n",
      "298:\tlearn: 1391.2331606\ttotal: 31s\tremaining: 1m 12s\n",
      "299:\tlearn: 1391.1025669\ttotal: 31.1s\tremaining: 1m 12s\n",
      "300:\tlearn: 1390.9546064\ttotal: 31.2s\tremaining: 1m 12s\n",
      "301:\tlearn: 1390.7293585\ttotal: 31.3s\tremaining: 1m 12s\n",
      "302:\tlearn: 1390.5273485\ttotal: 31.4s\tremaining: 1m 12s\n",
      "303:\tlearn: 1390.3951469\ttotal: 31.5s\tremaining: 1m 12s\n",
      "304:\tlearn: 1390.1596137\ttotal: 31.6s\tremaining: 1m 12s\n",
      "305:\tlearn: 1390.0325002\ttotal: 31.7s\tremaining: 1m 11s\n",
      "306:\tlearn: 1389.6786610\ttotal: 31.8s\tremaining: 1m 11s\n",
      "307:\tlearn: 1389.4606888\ttotal: 31.9s\tremaining: 1m 11s\n",
      "308:\tlearn: 1389.3619509\ttotal: 32s\tremaining: 1m 11s\n",
      "309:\tlearn: 1389.0866422\ttotal: 32.1s\tremaining: 1m 11s\n",
      "310:\tlearn: 1388.8906710\ttotal: 32.2s\tremaining: 1m 11s\n",
      "311:\tlearn: 1388.7054732\ttotal: 32.3s\tremaining: 1m 11s\n",
      "312:\tlearn: 1388.6398204\ttotal: 32.4s\tremaining: 1m 11s\n",
      "313:\tlearn: 1388.4454543\ttotal: 32.5s\tremaining: 1m 11s\n",
      "314:\tlearn: 1388.2126937\ttotal: 32.6s\tremaining: 1m 10s\n",
      "315:\tlearn: 1387.9098467\ttotal: 32.7s\tremaining: 1m 10s\n",
      "316:\tlearn: 1387.7044133\ttotal: 32.8s\tremaining: 1m 10s\n",
      "317:\tlearn: 1387.5574258\ttotal: 32.9s\tremaining: 1m 10s\n",
      "318:\tlearn: 1387.3368092\ttotal: 33s\tremaining: 1m 10s\n",
      "319:\tlearn: 1387.1207485\ttotal: 33.1s\tremaining: 1m 10s\n",
      "320:\tlearn: 1387.0113803\ttotal: 33.2s\tremaining: 1m 10s\n",
      "321:\tlearn: 1386.7632884\ttotal: 33.3s\tremaining: 1m 10s\n",
      "322:\tlearn: 1386.6490472\ttotal: 33.4s\tremaining: 1m 10s\n",
      "323:\tlearn: 1386.4223982\ttotal: 33.5s\tremaining: 1m 9s\n",
      "324:\tlearn: 1386.2183739\ttotal: 33.6s\tremaining: 1m 9s\n",
      "325:\tlearn: 1386.0138297\ttotal: 33.7s\tremaining: 1m 9s\n",
      "326:\tlearn: 1385.8917614\ttotal: 33.8s\tremaining: 1m 9s\n",
      "327:\tlearn: 1385.7886043\ttotal: 33.9s\tremaining: 1m 9s\n",
      "328:\tlearn: 1385.7139276\ttotal: 34s\tremaining: 1m 9s\n",
      "329:\tlearn: 1385.4413199\ttotal: 34.1s\tremaining: 1m 9s\n",
      "330:\tlearn: 1385.2785163\ttotal: 34.2s\tremaining: 1m 9s\n",
      "331:\tlearn: 1385.1767180\ttotal: 34.3s\tremaining: 1m 9s\n",
      "332:\tlearn: 1384.9853194\ttotal: 34.4s\tremaining: 1m 8s\n",
      "333:\tlearn: 1384.7599083\ttotal: 34.5s\tremaining: 1m 8s\n",
      "334:\tlearn: 1384.4911598\ttotal: 34.6s\tremaining: 1m 8s\n",
      "335:\tlearn: 1384.1563458\ttotal: 34.7s\tremaining: 1m 8s\n",
      "336:\tlearn: 1383.9438550\ttotal: 34.8s\tremaining: 1m 8s\n",
      "337:\tlearn: 1383.9059353\ttotal: 34.9s\tremaining: 1m 8s\n",
      "338:\tlearn: 1383.6666857\ttotal: 35s\tremaining: 1m 8s\n",
      "339:\tlearn: 1383.3534760\ttotal: 35.1s\tremaining: 1m 8s\n",
      "340:\tlearn: 1383.0696123\ttotal: 35.2s\tremaining: 1m 8s\n",
      "341:\tlearn: 1382.7961169\ttotal: 35.3s\tremaining: 1m 7s\n",
      "342:\tlearn: 1382.6747150\ttotal: 35.4s\tremaining: 1m 7s\n",
      "343:\tlearn: 1382.5199600\ttotal: 35.5s\tremaining: 1m 7s\n",
      "344:\tlearn: 1382.1788526\ttotal: 35.6s\tremaining: 1m 7s\n",
      "345:\tlearn: 1382.0243335\ttotal: 35.8s\tremaining: 1m 7s\n",
      "346:\tlearn: 1381.7646858\ttotal: 35.9s\tremaining: 1m 7s\n",
      "347:\tlearn: 1381.6945580\ttotal: 36s\tremaining: 1m 7s\n",
      "348:\tlearn: 1381.4378265\ttotal: 36.1s\tremaining: 1m 7s\n",
      "349:\tlearn: 1381.2837030\ttotal: 36.2s\tremaining: 1m 7s\n",
      "350:\tlearn: 1380.9438083\ttotal: 36.3s\tremaining: 1m 7s\n",
      "351:\tlearn: 1380.7842913\ttotal: 36.4s\tremaining: 1m 6s\n",
      "352:\tlearn: 1380.5547383\ttotal: 36.5s\tremaining: 1m 6s\n",
      "353:\tlearn: 1380.4154638\ttotal: 36.6s\tremaining: 1m 6s\n",
      "354:\tlearn: 1380.1959204\ttotal: 36.7s\tremaining: 1m 6s\n",
      "355:\tlearn: 1379.9596697\ttotal: 36.8s\tremaining: 1m 6s\n",
      "356:\tlearn: 1379.8709951\ttotal: 36.9s\tremaining: 1m 6s\n",
      "357:\tlearn: 1379.7611401\ttotal: 37s\tremaining: 1m 6s\n",
      "358:\tlearn: 1379.5745719\ttotal: 37.1s\tremaining: 1m 6s\n",
      "359:\tlearn: 1379.4009881\ttotal: 37.2s\tremaining: 1m 6s\n",
      "360:\tlearn: 1379.1459925\ttotal: 37.3s\tremaining: 1m 6s\n",
      "361:\tlearn: 1378.9905461\ttotal: 37.4s\tremaining: 1m 5s\n",
      "362:\tlearn: 1378.7884396\ttotal: 37.5s\tremaining: 1m 5s\n",
      "363:\tlearn: 1378.4935928\ttotal: 37.6s\tremaining: 1m 5s\n",
      "364:\tlearn: 1378.3414133\ttotal: 37.7s\tremaining: 1m 5s\n",
      "365:\tlearn: 1378.2546101\ttotal: 37.8s\tremaining: 1m 5s\n",
      "366:\tlearn: 1378.1975522\ttotal: 37.9s\tremaining: 1m 5s\n",
      "367:\tlearn: 1377.9606311\ttotal: 38s\tremaining: 1m 5s\n",
      "368:\tlearn: 1377.7866306\ttotal: 38.1s\tremaining: 1m 5s\n",
      "369:\tlearn: 1377.6145031\ttotal: 38.2s\tremaining: 1m 5s\n",
      "370:\tlearn: 1377.4382923\ttotal: 38.3s\tremaining: 1m 4s\n",
      "371:\tlearn: 1377.4011655\ttotal: 38.4s\tremaining: 1m 4s\n",
      "372:\tlearn: 1377.0773524\ttotal: 38.5s\tremaining: 1m 4s\n",
      "373:\tlearn: 1376.8346905\ttotal: 38.6s\tremaining: 1m 4s\n",
      "374:\tlearn: 1376.6735725\ttotal: 38.7s\tremaining: 1m 4s\n",
      "375:\tlearn: 1376.5627967\ttotal: 38.8s\tremaining: 1m 4s\n",
      "376:\tlearn: 1376.4759074\ttotal: 38.9s\tremaining: 1m 4s\n",
      "377:\tlearn: 1376.2346025\ttotal: 39s\tremaining: 1m 4s\n",
      "378:\tlearn: 1376.1158061\ttotal: 39.1s\tremaining: 1m 4s\n",
      "379:\tlearn: 1376.0217798\ttotal: 39.2s\tremaining: 1m 3s\n",
      "380:\tlearn: 1375.8678638\ttotal: 39.3s\tremaining: 1m 3s\n",
      "381:\tlearn: 1375.6940130\ttotal: 39.3s\tremaining: 1m 3s\n",
      "382:\tlearn: 1375.6389061\ttotal: 39.5s\tremaining: 1m 3s\n",
      "383:\tlearn: 1375.5491577\ttotal: 39.5s\tremaining: 1m 3s\n",
      "384:\tlearn: 1375.3670338\ttotal: 39.6s\tremaining: 1m 3s\n",
      "385:\tlearn: 1375.1433391\ttotal: 39.8s\tremaining: 1m 3s\n",
      "386:\tlearn: 1374.9865363\ttotal: 39.8s\tremaining: 1m 3s\n",
      "387:\tlearn: 1374.8985939\ttotal: 40s\tremaining: 1m 3s\n",
      "388:\tlearn: 1374.6370588\ttotal: 40.1s\tremaining: 1m 2s\n",
      "389:\tlearn: 1374.5383943\ttotal: 40.2s\tremaining: 1m 2s\n",
      "390:\tlearn: 1374.4319786\ttotal: 40.3s\tremaining: 1m 2s\n",
      "391:\tlearn: 1374.0992387\ttotal: 40.4s\tremaining: 1m 2s\n",
      "392:\tlearn: 1373.9727550\ttotal: 40.5s\tremaining: 1m 2s\n",
      "393:\tlearn: 1373.7047328\ttotal: 40.6s\tremaining: 1m 2s\n",
      "394:\tlearn: 1373.6592655\ttotal: 40.7s\tremaining: 1m 2s\n",
      "395:\tlearn: 1373.4600127\ttotal: 40.8s\tremaining: 1m 2s\n",
      "396:\tlearn: 1373.2925370\ttotal: 40.9s\tremaining: 1m 2s\n",
      "397:\tlearn: 1373.2464164\ttotal: 41s\tremaining: 1m 2s\n",
      "398:\tlearn: 1373.0883568\ttotal: 41.2s\tremaining: 1m 1s\n",
      "399:\tlearn: 1373.0137617\ttotal: 41.3s\tremaining: 1m 1s\n",
      "400:\tlearn: 1372.9060094\ttotal: 41.4s\tremaining: 1m 1s\n",
      "401:\tlearn: 1372.8180680\ttotal: 41.5s\tremaining: 1m 1s\n",
      "402:\tlearn: 1372.6885707\ttotal: 41.6s\tremaining: 1m 1s\n",
      "403:\tlearn: 1372.4809886\ttotal: 41.7s\tremaining: 1m 1s\n",
      "404:\tlearn: 1372.3965231\ttotal: 41.8s\tremaining: 1m 1s\n",
      "405:\tlearn: 1372.2192874\ttotal: 41.9s\tremaining: 1m 1s\n",
      "406:\tlearn: 1371.9824874\ttotal: 42s\tremaining: 1m 1s\n",
      "407:\tlearn: 1371.9486879\ttotal: 42.1s\tremaining: 1m 1s\n",
      "408:\tlearn: 1371.8765980\ttotal: 42.2s\tremaining: 1m\n",
      "409:\tlearn: 1371.7219099\ttotal: 42.3s\tremaining: 1m\n",
      "410:\tlearn: 1371.5811920\ttotal: 42.4s\tremaining: 1m\n",
      "411:\tlearn: 1371.4289340\ttotal: 42.5s\tremaining: 1m\n",
      "412:\tlearn: 1371.3677479\ttotal: 42.6s\tremaining: 1m\n",
      "413:\tlearn: 1371.2308117\ttotal: 42.7s\tremaining: 1m\n",
      "414:\tlearn: 1371.1524657\ttotal: 42.8s\tremaining: 1m\n",
      "415:\tlearn: 1371.0900888\ttotal: 42.9s\tremaining: 1m\n",
      "416:\tlearn: 1370.9513456\ttotal: 43s\tremaining: 1m\n",
      "417:\tlearn: 1370.8798679\ttotal: 43.1s\tremaining: 1m\n",
      "418:\tlearn: 1370.7530938\ttotal: 43.2s\tremaining: 59.9s\n",
      "419:\tlearn: 1370.6708576\ttotal: 43.3s\tremaining: 59.8s\n",
      "420:\tlearn: 1370.5450116\ttotal: 43.4s\tremaining: 59.7s\n",
      "421:\tlearn: 1370.2741102\ttotal: 43.5s\tremaining: 59.6s\n",
      "422:\tlearn: 1370.1165643\ttotal: 43.6s\tremaining: 59.5s\n",
      "423:\tlearn: 1369.9687646\ttotal: 43.7s\tremaining: 59.4s\n",
      "424:\tlearn: 1369.7047278\ttotal: 43.8s\tremaining: 59.3s\n",
      "425:\tlearn: 1369.5731925\ttotal: 43.9s\tremaining: 59.2s\n",
      "426:\tlearn: 1369.3678341\ttotal: 44s\tremaining: 59.1s\n",
      "427:\tlearn: 1369.1120760\ttotal: 44.1s\tremaining: 59s\n",
      "428:\tlearn: 1368.8769877\ttotal: 44.2s\tremaining: 58.9s\n",
      "429:\tlearn: 1368.7199249\ttotal: 44.3s\tremaining: 58.8s\n",
      "430:\tlearn: 1368.6770482\ttotal: 44.4s\tremaining: 58.7s\n",
      "431:\tlearn: 1368.5463834\ttotal: 44.5s\tremaining: 58.6s\n",
      "432:\tlearn: 1368.4368817\ttotal: 44.7s\tremaining: 58.5s\n",
      "433:\tlearn: 1368.3214988\ttotal: 44.8s\tremaining: 58.4s\n",
      "434:\tlearn: 1368.2233477\ttotal: 44.9s\tremaining: 58.3s\n",
      "435:\tlearn: 1368.1563242\ttotal: 45s\tremaining: 58.2s\n",
      "436:\tlearn: 1368.0250283\ttotal: 45.1s\tremaining: 58.1s\n",
      "437:\tlearn: 1367.8888276\ttotal: 45.2s\tremaining: 58s\n",
      "438:\tlearn: 1367.7984151\ttotal: 45.3s\tremaining: 57.9s\n",
      "439:\tlearn: 1367.6383781\ttotal: 45.4s\tremaining: 57.8s\n",
      "440:\tlearn: 1367.6121622\ttotal: 45.5s\tremaining: 57.7s\n",
      "441:\tlearn: 1367.4531785\ttotal: 45.6s\tremaining: 57.5s\n",
      "442:\tlearn: 1367.4151500\ttotal: 45.7s\tremaining: 57.5s\n",
      "443:\tlearn: 1367.3423204\ttotal: 45.8s\tremaining: 57.3s\n",
      "444:\tlearn: 1367.3078535\ttotal: 45.9s\tremaining: 57.2s\n",
      "445:\tlearn: 1367.1675044\ttotal: 46s\tremaining: 57.1s\n",
      "446:\tlearn: 1367.0023343\ttotal: 46.1s\tremaining: 57s\n"
     ]
    },
    {
     "name": "stdout",
     "output_type": "stream",
     "text": [
      "447:\tlearn: 1366.9308560\ttotal: 46.1s\tremaining: 56.9s\n",
      "448:\tlearn: 1366.6583466\ttotal: 46.2s\tremaining: 56.7s\n",
      "449:\tlearn: 1366.5187567\ttotal: 46.3s\tremaining: 56.6s\n",
      "450:\tlearn: 1366.2826257\ttotal: 46.4s\tremaining: 56.5s\n",
      "451:\tlearn: 1366.2187043\ttotal: 46.5s\tremaining: 56.4s\n",
      "452:\tlearn: 1366.0850345\ttotal: 46.6s\tremaining: 56.3s\n",
      "453:\tlearn: 1365.9859191\ttotal: 46.7s\tremaining: 56.2s\n",
      "454:\tlearn: 1365.8045109\ttotal: 46.8s\tremaining: 56.1s\n",
      "455:\tlearn: 1365.6688754\ttotal: 46.9s\tremaining: 55.9s\n",
      "456:\tlearn: 1365.5381552\ttotal: 47s\tremaining: 55.8s\n",
      "457:\tlearn: 1365.4341941\ttotal: 47.1s\tremaining: 55.7s\n",
      "458:\tlearn: 1365.2169583\ttotal: 47.2s\tremaining: 55.6s\n",
      "459:\tlearn: 1365.1803131\ttotal: 47.3s\tremaining: 55.5s\n",
      "460:\tlearn: 1365.0601238\ttotal: 47.4s\tremaining: 55.4s\n",
      "461:\tlearn: 1364.9490297\ttotal: 47.5s\tremaining: 55.3s\n",
      "462:\tlearn: 1364.9132616\ttotal: 47.6s\tremaining: 55.2s\n",
      "463:\tlearn: 1364.6545162\ttotal: 47.7s\tremaining: 55.1s\n",
      "464:\tlearn: 1364.5719686\ttotal: 47.8s\tremaining: 55s\n",
      "465:\tlearn: 1364.4513206\ttotal: 47.9s\tremaining: 54.9s\n",
      "466:\tlearn: 1364.1555334\ttotal: 48s\tremaining: 54.8s\n",
      "467:\tlearn: 1363.9825891\ttotal: 48.1s\tremaining: 54.7s\n",
      "468:\tlearn: 1363.9332748\ttotal: 48.2s\tremaining: 54.6s\n",
      "469:\tlearn: 1363.8175649\ttotal: 48.3s\tremaining: 54.5s\n",
      "470:\tlearn: 1363.7637347\ttotal: 48.4s\tremaining: 54.4s\n",
      "471:\tlearn: 1363.6975988\ttotal: 48.5s\tremaining: 54.3s\n",
      "472:\tlearn: 1363.4951828\ttotal: 48.6s\tremaining: 54.2s\n",
      "473:\tlearn: 1363.3982252\ttotal: 48.7s\tremaining: 54.1s\n",
      "474:\tlearn: 1363.3404680\ttotal: 48.9s\tremaining: 54s\n",
      "475:\tlearn: 1363.2295836\ttotal: 49s\tremaining: 53.9s\n",
      "476:\tlearn: 1363.2023858\ttotal: 49.1s\tremaining: 53.8s\n",
      "477:\tlearn: 1363.1384886\ttotal: 49.2s\tremaining: 53.7s\n",
      "478:\tlearn: 1362.9278538\ttotal: 49.3s\tremaining: 53.6s\n",
      "479:\tlearn: 1362.8315000\ttotal: 49.4s\tremaining: 53.5s\n",
      "480:\tlearn: 1362.6837276\ttotal: 49.5s\tremaining: 53.4s\n",
      "481:\tlearn: 1362.4555676\ttotal: 49.6s\tremaining: 53.3s\n",
      "482:\tlearn: 1362.4184851\ttotal: 49.7s\tremaining: 53.2s\n",
      "483:\tlearn: 1362.3364907\ttotal: 49.8s\tremaining: 53.1s\n",
      "484:\tlearn: 1362.2038161\ttotal: 49.9s\tremaining: 53s\n",
      "485:\tlearn: 1362.0423878\ttotal: 50s\tremaining: 52.8s\n",
      "486:\tlearn: 1361.9512304\ttotal: 50.1s\tremaining: 52.7s\n",
      "487:\tlearn: 1361.8145552\ttotal: 50.2s\tremaining: 52.6s\n",
      "488:\tlearn: 1361.7335240\ttotal: 50.3s\tremaining: 52.5s\n",
      "489:\tlearn: 1361.6630500\ttotal: 50.4s\tremaining: 52.4s\n",
      "490:\tlearn: 1361.4769786\ttotal: 50.5s\tremaining: 52.3s\n",
      "491:\tlearn: 1361.3072907\ttotal: 50.5s\tremaining: 52.2s\n",
      "492:\tlearn: 1361.1578479\ttotal: 50.6s\tremaining: 52.1s\n",
      "493:\tlearn: 1361.1036346\ttotal: 50.7s\tremaining: 52s\n",
      "494:\tlearn: 1360.9386574\ttotal: 50.8s\tremaining: 51.9s\n",
      "495:\tlearn: 1360.8631921\ttotal: 50.9s\tremaining: 51.8s\n",
      "496:\tlearn: 1360.6479246\ttotal: 51s\tremaining: 51.7s\n",
      "497:\tlearn: 1360.5097396\ttotal: 51.1s\tremaining: 51.6s\n",
      "498:\tlearn: 1360.3559378\ttotal: 51.3s\tremaining: 51.5s\n",
      "499:\tlearn: 1360.2825663\ttotal: 51.4s\tremaining: 51.4s\n",
      "500:\tlearn: 1360.1264257\ttotal: 51.5s\tremaining: 51.3s\n",
      "501:\tlearn: 1360.0424463\ttotal: 51.6s\tremaining: 51.2s\n",
      "502:\tlearn: 1359.9618292\ttotal: 51.7s\tremaining: 51s\n",
      "503:\tlearn: 1359.8474924\ttotal: 51.8s\tremaining: 51s\n",
      "504:\tlearn: 1359.8087400\ttotal: 51.9s\tremaining: 50.9s\n",
      "505:\tlearn: 1359.7366044\ttotal: 52s\tremaining: 50.7s\n",
      "506:\tlearn: 1359.6451653\ttotal: 52.1s\tremaining: 50.6s\n",
      "507:\tlearn: 1359.5480452\ttotal: 52.2s\tremaining: 50.5s\n",
      "508:\tlearn: 1359.4884568\ttotal: 52.3s\tremaining: 50.4s\n",
      "509:\tlearn: 1359.3749911\ttotal: 52.4s\tremaining: 50.3s\n",
      "510:\tlearn: 1359.2292618\ttotal: 52.5s\tremaining: 50.2s\n",
      "511:\tlearn: 1359.1442091\ttotal: 52.6s\tremaining: 50.1s\n",
      "512:\tlearn: 1358.9462325\ttotal: 52.7s\tremaining: 50s\n",
      "513:\tlearn: 1358.8945371\ttotal: 52.8s\tremaining: 49.9s\n",
      "514:\tlearn: 1358.6958953\ttotal: 52.9s\tremaining: 49.8s\n",
      "515:\tlearn: 1358.6240768\ttotal: 53s\tremaining: 49.7s\n",
      "516:\tlearn: 1358.5795048\ttotal: 53.1s\tremaining: 49.6s\n",
      "517:\tlearn: 1358.5186315\ttotal: 53.2s\tremaining: 49.5s\n",
      "518:\tlearn: 1358.3490161\ttotal: 53.3s\tremaining: 49.4s\n",
      "519:\tlearn: 1358.2935889\ttotal: 53.4s\tremaining: 49.3s\n",
      "520:\tlearn: 1358.2721264\ttotal: 53.5s\tremaining: 49.2s\n",
      "521:\tlearn: 1358.2509954\ttotal: 53.6s\tremaining: 49.1s\n",
      "522:\tlearn: 1358.1677334\ttotal: 53.7s\tremaining: 49s\n",
      "523:\tlearn: 1358.1546844\ttotal: 53.8s\tremaining: 48.9s\n",
      "524:\tlearn: 1357.9977618\ttotal: 53.9s\tremaining: 48.8s\n",
      "525:\tlearn: 1357.9158745\ttotal: 54s\tremaining: 48.7s\n",
      "526:\tlearn: 1357.8898654\ttotal: 54.1s\tremaining: 48.6s\n",
      "527:\tlearn: 1357.7813183\ttotal: 54.2s\tremaining: 48.4s\n",
      "528:\tlearn: 1357.6896575\ttotal: 54.3s\tremaining: 48.3s\n",
      "529:\tlearn: 1357.6209523\ttotal: 54.4s\tremaining: 48.2s\n",
      "530:\tlearn: 1357.5016827\ttotal: 54.5s\tremaining: 48.1s\n",
      "531:\tlearn: 1357.4285932\ttotal: 54.6s\tremaining: 48s\n",
      "532:\tlearn: 1357.2478793\ttotal: 54.7s\tremaining: 47.9s\n",
      "533:\tlearn: 1357.1278532\ttotal: 54.8s\tremaining: 47.8s\n",
      "534:\tlearn: 1357.0501316\ttotal: 54.9s\tremaining: 47.7s\n",
      "535:\tlearn: 1356.9951988\ttotal: 55s\tremaining: 47.6s\n",
      "536:\tlearn: 1356.8840073\ttotal: 55s\tremaining: 47.5s\n",
      "537:\tlearn: 1356.8668789\ttotal: 55.1s\tremaining: 47.4s\n",
      "538:\tlearn: 1356.7947218\ttotal: 55.3s\tremaining: 47.3s\n",
      "539:\tlearn: 1356.6917832\ttotal: 55.4s\tremaining: 47.2s\n",
      "540:\tlearn: 1356.6196862\ttotal: 55.5s\tremaining: 47.1s\n",
      "541:\tlearn: 1356.4577162\ttotal: 55.6s\tremaining: 47s\n",
      "542:\tlearn: 1356.3771811\ttotal: 55.7s\tremaining: 46.9s\n",
      "543:\tlearn: 1356.3073221\ttotal: 55.8s\tremaining: 46.8s\n",
      "544:\tlearn: 1356.1772700\ttotal: 55.9s\tremaining: 46.7s\n",
      "545:\tlearn: 1356.1358514\ttotal: 56s\tremaining: 46.6s\n",
      "546:\tlearn: 1355.9852995\ttotal: 56.1s\tremaining: 46.5s\n",
      "547:\tlearn: 1355.9165556\ttotal: 56.2s\tremaining: 46.4s\n",
      "548:\tlearn: 1355.8106630\ttotal: 56.3s\tremaining: 46.3s\n",
      "549:\tlearn: 1355.6790738\ttotal: 56.5s\tremaining: 46.2s\n",
      "550:\tlearn: 1355.5366455\ttotal: 56.6s\tremaining: 46.1s\n",
      "551:\tlearn: 1355.4094799\ttotal: 56.7s\tremaining: 46s\n",
      "552:\tlearn: 1355.2014487\ttotal: 56.8s\tremaining: 45.9s\n",
      "553:\tlearn: 1355.0048359\ttotal: 56.9s\tremaining: 45.8s\n",
      "554:\tlearn: 1354.9495453\ttotal: 57s\tremaining: 45.7s\n",
      "555:\tlearn: 1354.7994384\ttotal: 57.1s\tremaining: 45.6s\n",
      "556:\tlearn: 1354.7265222\ttotal: 57.2s\tremaining: 45.5s\n",
      "557:\tlearn: 1354.5818782\ttotal: 57.3s\tremaining: 45.4s\n",
      "558:\tlearn: 1354.5564657\ttotal: 57.4s\tremaining: 45.3s\n",
      "559:\tlearn: 1354.5350797\ttotal: 57.5s\tremaining: 45.2s\n",
      "560:\tlearn: 1354.4128715\ttotal: 57.6s\tremaining: 45.1s\n",
      "561:\tlearn: 1354.3586510\ttotal: 57.8s\tremaining: 45s\n",
      "562:\tlearn: 1354.1970293\ttotal: 57.9s\tremaining: 44.9s\n",
      "563:\tlearn: 1354.1496905\ttotal: 58s\tremaining: 44.8s\n",
      "564:\tlearn: 1353.9768902\ttotal: 58.1s\tremaining: 44.7s\n",
      "565:\tlearn: 1353.8319680\ttotal: 58.2s\tremaining: 44.6s\n",
      "566:\tlearn: 1353.6579970\ttotal: 58.3s\tremaining: 44.5s\n",
      "567:\tlearn: 1353.6012856\ttotal: 58.4s\tremaining: 44.4s\n",
      "568:\tlearn: 1353.5057011\ttotal: 58.5s\tremaining: 44.3s\n",
      "569:\tlearn: 1353.3711269\ttotal: 58.6s\tremaining: 44.2s\n",
      "570:\tlearn: 1353.3116034\ttotal: 58.7s\tremaining: 44.1s\n",
      "571:\tlearn: 1353.1911238\ttotal: 58.8s\tremaining: 44s\n",
      "572:\tlearn: 1353.1671771\ttotal: 58.9s\tremaining: 43.9s\n",
      "573:\tlearn: 1353.0608896\ttotal: 59.1s\tremaining: 43.8s\n",
      "574:\tlearn: 1352.8868631\ttotal: 59.2s\tremaining: 43.7s\n",
      "575:\tlearn: 1352.7982242\ttotal: 59.3s\tremaining: 43.6s\n",
      "576:\tlearn: 1352.6517620\ttotal: 59.4s\tremaining: 43.5s\n",
      "577:\tlearn: 1352.6299657\ttotal: 59.5s\tremaining: 43.4s\n",
      "578:\tlearn: 1352.4261439\ttotal: 59.6s\tremaining: 43.3s\n",
      "579:\tlearn: 1352.2714307\ttotal: 59.7s\tremaining: 43.2s\n",
      "580:\tlearn: 1352.2101610\ttotal: 59.7s\tremaining: 43.1s\n",
      "581:\tlearn: 1352.1160578\ttotal: 59.9s\tremaining: 43s\n",
      "582:\tlearn: 1351.9274975\ttotal: 60s\tremaining: 42.9s\n",
      "583:\tlearn: 1351.8039199\ttotal: 1m\tremaining: 42.8s\n",
      "584:\tlearn: 1351.7685043\ttotal: 1m\tremaining: 42.7s\n",
      "585:\tlearn: 1351.5495957\ttotal: 1m\tremaining: 42.6s\n",
      "586:\tlearn: 1351.4766681\ttotal: 1m\tremaining: 42.5s\n",
      "587:\tlearn: 1351.4229431\ttotal: 1m\tremaining: 42.4s\n",
      "588:\tlearn: 1351.3820804\ttotal: 1m\tremaining: 42.3s\n",
      "589:\tlearn: 1351.3308575\ttotal: 1m\tremaining: 42.2s\n",
      "590:\tlearn: 1351.2069272\ttotal: 1m\tremaining: 42.1s\n",
      "591:\tlearn: 1351.1263944\ttotal: 1m\tremaining: 42s\n",
      "592:\tlearn: 1350.9848902\ttotal: 1m 1s\tremaining: 41.9s\n",
      "593:\tlearn: 1350.9195374\ttotal: 1m 1s\tremaining: 41.8s\n",
      "594:\tlearn: 1350.8180529\ttotal: 1m 1s\tremaining: 41.7s\n",
      "595:\tlearn: 1350.7692463\ttotal: 1m 1s\tremaining: 41.6s\n",
      "596:\tlearn: 1350.7301070\ttotal: 1m 1s\tremaining: 41.5s\n",
      "597:\tlearn: 1350.6428360\ttotal: 1m 1s\tremaining: 41.4s\n",
      "598:\tlearn: 1350.5665847\ttotal: 1m 1s\tremaining: 41.3s\n"
     ]
    },
    {
     "name": "stdout",
     "output_type": "stream",
     "text": [
      "599:\tlearn: 1350.4933845\ttotal: 1m 1s\tremaining: 41.2s\n",
      "600:\tlearn: 1350.3711048\ttotal: 1m 1s\tremaining: 41.1s\n",
      "601:\tlearn: 1350.2518941\ttotal: 1m 1s\tremaining: 41s\n",
      "602:\tlearn: 1350.2235737\ttotal: 1m 2s\tremaining: 40.9s\n",
      "603:\tlearn: 1350.1392556\ttotal: 1m 2s\tremaining: 40.8s\n",
      "604:\tlearn: 1349.9747949\ttotal: 1m 2s\tremaining: 40.6s\n",
      "605:\tlearn: 1349.8767786\ttotal: 1m 2s\tremaining: 40.5s\n",
      "606:\tlearn: 1349.8252337\ttotal: 1m 2s\tremaining: 40.4s\n",
      "607:\tlearn: 1349.7789332\ttotal: 1m 2s\tremaining: 40.3s\n",
      "608:\tlearn: 1349.6713237\ttotal: 1m 2s\tremaining: 40.2s\n",
      "609:\tlearn: 1349.5174200\ttotal: 1m 2s\tremaining: 40.1s\n",
      "610:\tlearn: 1349.4552400\ttotal: 1m 2s\tremaining: 40s\n",
      "611:\tlearn: 1349.3950969\ttotal: 1m 2s\tremaining: 39.9s\n",
      "612:\tlearn: 1349.2787814\ttotal: 1m 2s\tremaining: 39.8s\n",
      "613:\tlearn: 1349.1253239\ttotal: 1m 3s\tremaining: 39.7s\n",
      "614:\tlearn: 1349.0623825\ttotal: 1m 3s\tremaining: 39.6s\n",
      "615:\tlearn: 1348.9070932\ttotal: 1m 3s\tremaining: 39.5s\n",
      "616:\tlearn: 1348.7660623\ttotal: 1m 3s\tremaining: 39.4s\n",
      "617:\tlearn: 1348.5837549\ttotal: 1m 3s\tremaining: 39.3s\n",
      "618:\tlearn: 1348.5788514\ttotal: 1m 3s\tremaining: 39.2s\n",
      "619:\tlearn: 1348.3831872\ttotal: 1m 3s\tremaining: 39s\n",
      "620:\tlearn: 1348.2772174\ttotal: 1m 3s\tremaining: 39s\n",
      "621:\tlearn: 1348.2433109\ttotal: 1m 3s\tremaining: 38.9s\n",
      "622:\tlearn: 1348.2128797\ttotal: 1m 4s\tremaining: 38.8s\n",
      "623:\tlearn: 1348.0858850\ttotal: 1m 4s\tremaining: 38.7s\n",
      "624:\tlearn: 1347.9975113\ttotal: 1m 4s\tremaining: 38.6s\n",
      "625:\tlearn: 1347.9289636\ttotal: 1m 4s\tremaining: 38.5s\n",
      "626:\tlearn: 1347.8410354\ttotal: 1m 4s\tremaining: 38.4s\n",
      "627:\tlearn: 1347.7368499\ttotal: 1m 4s\tremaining: 38.3s\n",
      "628:\tlearn: 1347.6732684\ttotal: 1m 4s\tremaining: 38.1s\n",
      "629:\tlearn: 1347.5068159\ttotal: 1m 4s\tremaining: 38s\n",
      "630:\tlearn: 1347.4249455\ttotal: 1m 4s\tremaining: 37.9s\n",
      "631:\tlearn: 1347.2845928\ttotal: 1m 4s\tremaining: 37.8s\n",
      "632:\tlearn: 1347.1819747\ttotal: 1m 5s\tremaining: 37.7s\n",
      "633:\tlearn: 1346.9581919\ttotal: 1m 5s\tremaining: 37.6s\n",
      "634:\tlearn: 1346.8087678\ttotal: 1m 5s\tremaining: 37.5s\n",
      "635:\tlearn: 1346.7428613\ttotal: 1m 5s\tremaining: 37.4s\n",
      "636:\tlearn: 1346.6267853\ttotal: 1m 5s\tremaining: 37.3s\n",
      "637:\tlearn: 1346.5630141\ttotal: 1m 5s\tremaining: 37.2s\n",
      "638:\tlearn: 1346.4078991\ttotal: 1m 5s\tremaining: 37.1s\n",
      "639:\tlearn: 1346.3076915\ttotal: 1m 5s\tremaining: 37s\n",
      "640:\tlearn: 1346.1631316\ttotal: 1m 5s\tremaining: 36.9s\n",
      "641:\tlearn: 1346.1020431\ttotal: 1m 6s\tremaining: 36.8s\n",
      "642:\tlearn: 1345.9813325\ttotal: 1m 6s\tremaining: 36.7s\n",
      "643:\tlearn: 1345.8871239\ttotal: 1m 6s\tremaining: 36.6s\n",
      "644:\tlearn: 1345.7726120\ttotal: 1m 6s\tremaining: 36.5s\n",
      "645:\tlearn: 1345.7153085\ttotal: 1m 6s\tremaining: 36.4s\n",
      "646:\tlearn: 1345.6705358\ttotal: 1m 6s\tremaining: 36.3s\n",
      "647:\tlearn: 1345.6175921\ttotal: 1m 6s\tremaining: 36.2s\n",
      "648:\tlearn: 1345.5600487\ttotal: 1m 6s\tremaining: 36.1s\n",
      "649:\tlearn: 1345.5169140\ttotal: 1m 6s\tremaining: 36s\n",
      "650:\tlearn: 1345.3879700\ttotal: 1m 6s\tremaining: 35.9s\n",
      "651:\tlearn: 1345.3113778\ttotal: 1m 7s\tremaining: 35.8s\n",
      "652:\tlearn: 1345.2206806\ttotal: 1m 7s\tremaining: 35.7s\n",
      "653:\tlearn: 1345.1434918\ttotal: 1m 7s\tremaining: 35.6s\n",
      "654:\tlearn: 1345.0648249\ttotal: 1m 7s\tremaining: 35.5s\n",
      "655:\tlearn: 1344.9788947\ttotal: 1m 7s\tremaining: 35.4s\n",
      "656:\tlearn: 1344.9109634\ttotal: 1m 7s\tremaining: 35.3s\n",
      "657:\tlearn: 1344.8677631\ttotal: 1m 7s\tremaining: 35.2s\n",
      "658:\tlearn: 1344.6230753\ttotal: 1m 7s\tremaining: 35.1s\n",
      "659:\tlearn: 1344.5896976\ttotal: 1m 7s\tremaining: 35s\n",
      "660:\tlearn: 1344.5252179\ttotal: 1m 8s\tremaining: 34.9s\n",
      "661:\tlearn: 1344.4397886\ttotal: 1m 8s\tremaining: 34.8s\n",
      "662:\tlearn: 1344.3814366\ttotal: 1m 8s\tremaining: 34.7s\n",
      "663:\tlearn: 1344.3432008\ttotal: 1m 8s\tremaining: 34.6s\n",
      "664:\tlearn: 1344.3039571\ttotal: 1m 8s\tremaining: 34.5s\n",
      "665:\tlearn: 1344.2719281\ttotal: 1m 8s\tremaining: 34.4s\n",
      "666:\tlearn: 1344.1342719\ttotal: 1m 8s\tremaining: 34.3s\n",
      "667:\tlearn: 1344.0291121\ttotal: 1m 8s\tremaining: 34.2s\n",
      "668:\tlearn: 1343.9243591\ttotal: 1m 8s\tremaining: 34s\n",
      "669:\tlearn: 1343.9007315\ttotal: 1m 8s\tremaining: 33.9s\n",
      "670:\tlearn: 1343.8292358\ttotal: 1m 9s\tremaining: 33.8s\n",
      "671:\tlearn: 1343.7647655\ttotal: 1m 9s\tremaining: 33.7s\n",
      "672:\tlearn: 1343.7390224\ttotal: 1m 9s\tremaining: 33.6s\n",
      "673:\tlearn: 1343.6530961\ttotal: 1m 9s\tremaining: 33.5s\n",
      "674:\tlearn: 1343.4994635\ttotal: 1m 9s\tremaining: 33.4s\n",
      "675:\tlearn: 1343.3765804\ttotal: 1m 9s\tremaining: 33.3s\n",
      "676:\tlearn: 1343.3131337\ttotal: 1m 9s\tremaining: 33.2s\n",
      "677:\tlearn: 1343.1943901\ttotal: 1m 9s\tremaining: 33.1s\n",
      "678:\tlearn: 1343.0565872\ttotal: 1m 9s\tremaining: 33s\n",
      "679:\tlearn: 1343.0041253\ttotal: 1m 9s\tremaining: 32.9s\n",
      "680:\tlearn: 1342.9379298\ttotal: 1m 10s\tremaining: 32.8s\n",
      "681:\tlearn: 1342.7760540\ttotal: 1m 10s\tremaining: 32.7s\n",
      "682:\tlearn: 1342.6998937\ttotal: 1m 10s\tremaining: 32.6s\n",
      "683:\tlearn: 1342.6323508\ttotal: 1m 10s\tremaining: 32.5s\n",
      "684:\tlearn: 1342.5809791\ttotal: 1m 10s\tremaining: 32.4s\n",
      "685:\tlearn: 1342.5280376\ttotal: 1m 10s\tremaining: 32.3s\n",
      "686:\tlearn: 1342.3865022\ttotal: 1m 10s\tremaining: 32.2s\n",
      "687:\tlearn: 1342.3008757\ttotal: 1m 10s\tremaining: 32.1s\n",
      "688:\tlearn: 1342.1901505\ttotal: 1m 10s\tremaining: 32s\n",
      "689:\tlearn: 1342.1355207\ttotal: 1m 11s\tremaining: 31.9s\n",
      "690:\tlearn: 1342.0211060\ttotal: 1m 11s\tremaining: 31.8s\n",
      "691:\tlearn: 1341.9890214\ttotal: 1m 11s\tremaining: 31.7s\n",
      "692:\tlearn: 1341.9590072\ttotal: 1m 11s\tremaining: 31.6s\n",
      "693:\tlearn: 1341.9073516\ttotal: 1m 11s\tremaining: 31.5s\n",
      "694:\tlearn: 1341.8700954\ttotal: 1m 11s\tremaining: 31.4s\n",
      "695:\tlearn: 1341.7201488\ttotal: 1m 11s\tremaining: 31.3s\n",
      "696:\tlearn: 1341.6637183\ttotal: 1m 11s\tremaining: 31.2s\n",
      "697:\tlearn: 1341.6445142\ttotal: 1m 11s\tremaining: 31.1s\n",
      "698:\tlearn: 1341.5087896\ttotal: 1m 12s\tremaining: 31s\n",
      "699:\tlearn: 1341.4021849\ttotal: 1m 12s\tremaining: 30.9s\n",
      "700:\tlearn: 1341.2208524\ttotal: 1m 12s\tremaining: 30.8s\n",
      "701:\tlearn: 1341.1370630\ttotal: 1m 12s\tremaining: 30.7s\n",
      "702:\tlearn: 1341.0134818\ttotal: 1m 12s\tremaining: 30.6s\n",
      "703:\tlearn: 1340.7854732\ttotal: 1m 12s\tremaining: 30.5s\n",
      "704:\tlearn: 1340.6565776\ttotal: 1m 12s\tremaining: 30.4s\n",
      "705:\tlearn: 1340.5675224\ttotal: 1m 12s\tremaining: 30.3s\n",
      "706:\tlearn: 1340.4988587\ttotal: 1m 12s\tremaining: 30.2s\n",
      "707:\tlearn: 1340.3557019\ttotal: 1m 13s\tremaining: 30.1s\n",
      "708:\tlearn: 1340.3185296\ttotal: 1m 13s\tremaining: 30s\n",
      "709:\tlearn: 1340.1786386\ttotal: 1m 13s\tremaining: 29.9s\n",
      "710:\tlearn: 1340.0594593\ttotal: 1m 13s\tremaining: 29.8s\n",
      "711:\tlearn: 1339.9222970\ttotal: 1m 13s\tremaining: 29.7s\n",
      "712:\tlearn: 1339.8880607\ttotal: 1m 13s\tremaining: 29.6s\n",
      "713:\tlearn: 1339.8679700\ttotal: 1m 13s\tremaining: 29.5s\n",
      "714:\tlearn: 1339.8212850\ttotal: 1m 13s\tremaining: 29.4s\n",
      "715:\tlearn: 1339.8048286\ttotal: 1m 13s\tremaining: 29.3s\n",
      "716:\tlearn: 1339.7352796\ttotal: 1m 13s\tremaining: 29.2s\n",
      "717:\tlearn: 1339.6772484\ttotal: 1m 14s\tremaining: 29.1s\n",
      "718:\tlearn: 1339.5989710\ttotal: 1m 14s\tremaining: 29s\n",
      "719:\tlearn: 1339.5242294\ttotal: 1m 14s\tremaining: 28.9s\n",
      "720:\tlearn: 1339.3996002\ttotal: 1m 14s\tremaining: 28.8s\n",
      "721:\tlearn: 1339.2075840\ttotal: 1m 14s\tremaining: 28.7s\n",
      "722:\tlearn: 1339.1190824\ttotal: 1m 14s\tremaining: 28.6s\n",
      "723:\tlearn: 1339.0698213\ttotal: 1m 14s\tremaining: 28.5s\n",
      "724:\tlearn: 1338.9772432\ttotal: 1m 14s\tremaining: 28.4s\n",
      "725:\tlearn: 1338.8048296\ttotal: 1m 15s\tremaining: 28.3s\n",
      "726:\tlearn: 1338.7263197\ttotal: 1m 15s\tremaining: 28.2s\n",
      "727:\tlearn: 1338.6700461\ttotal: 1m 15s\tremaining: 28.1s\n",
      "728:\tlearn: 1338.6407469\ttotal: 1m 15s\tremaining: 28s\n",
      "729:\tlearn: 1338.4892113\ttotal: 1m 15s\tremaining: 27.9s\n",
      "730:\tlearn: 1338.4449511\ttotal: 1m 15s\tremaining: 27.8s\n",
      "731:\tlearn: 1338.2930749\ttotal: 1m 15s\tremaining: 27.7s\n",
      "732:\tlearn: 1338.1800726\ttotal: 1m 15s\tremaining: 27.6s\n",
      "733:\tlearn: 1338.0264642\ttotal: 1m 15s\tremaining: 27.5s\n",
      "734:\tlearn: 1337.8707805\ttotal: 1m 16s\tremaining: 27.4s\n",
      "735:\tlearn: 1337.8373206\ttotal: 1m 16s\tremaining: 27.3s\n",
      "736:\tlearn: 1337.7634062\ttotal: 1m 16s\tremaining: 27.2s\n",
      "737:\tlearn: 1337.7240242\ttotal: 1m 16s\tremaining: 27.1s\n",
      "738:\tlearn: 1337.5690801\ttotal: 1m 16s\tremaining: 27s\n",
      "739:\tlearn: 1337.5326111\ttotal: 1m 16s\tremaining: 26.9s\n",
      "740:\tlearn: 1337.4318653\ttotal: 1m 16s\tremaining: 26.8s\n",
      "741:\tlearn: 1337.3560933\ttotal: 1m 16s\tremaining: 26.7s\n",
      "742:\tlearn: 1337.3063450\ttotal: 1m 17s\tremaining: 26.6s\n",
      "743:\tlearn: 1337.2677037\ttotal: 1m 17s\tremaining: 26.5s\n",
      "744:\tlearn: 1337.1588902\ttotal: 1m 17s\tremaining: 26.4s\n",
      "745:\tlearn: 1337.0578237\ttotal: 1m 17s\tremaining: 26.3s\n",
      "746:\tlearn: 1336.9365674\ttotal: 1m 17s\tremaining: 26.2s\n",
      "747:\tlearn: 1336.8767071\ttotal: 1m 17s\tremaining: 26.1s\n"
     ]
    },
    {
     "name": "stdout",
     "output_type": "stream",
     "text": [
      "748:\tlearn: 1336.7440060\ttotal: 1m 17s\tremaining: 26s\n",
      "749:\tlearn: 1336.6903494\ttotal: 1m 17s\tremaining: 25.9s\n",
      "750:\tlearn: 1336.6227191\ttotal: 1m 17s\tremaining: 25.8s\n",
      "751:\tlearn: 1336.5676091\ttotal: 1m 18s\tremaining: 25.7s\n",
      "752:\tlearn: 1336.5553128\ttotal: 1m 18s\tremaining: 25.6s\n",
      "753:\tlearn: 1336.5105955\ttotal: 1m 18s\tremaining: 25.5s\n",
      "754:\tlearn: 1336.3954669\ttotal: 1m 18s\tremaining: 25.4s\n",
      "755:\tlearn: 1336.3180548\ttotal: 1m 18s\tremaining: 25.3s\n",
      "756:\tlearn: 1336.1980080\ttotal: 1m 18s\tremaining: 25.2s\n",
      "757:\tlearn: 1336.0683182\ttotal: 1m 18s\tremaining: 25.1s\n",
      "758:\tlearn: 1335.9440794\ttotal: 1m 18s\tremaining: 25s\n",
      "759:\tlearn: 1335.8724423\ttotal: 1m 19s\tremaining: 25s\n",
      "760:\tlearn: 1335.7224395\ttotal: 1m 19s\tremaining: 24.8s\n",
      "761:\tlearn: 1335.6935014\ttotal: 1m 19s\tremaining: 24.7s\n",
      "762:\tlearn: 1335.6053779\ttotal: 1m 19s\tremaining: 24.6s\n",
      "763:\tlearn: 1335.5651793\ttotal: 1m 19s\tremaining: 24.5s\n",
      "764:\tlearn: 1335.5240936\ttotal: 1m 19s\tremaining: 24.4s\n",
      "765:\tlearn: 1335.4776332\ttotal: 1m 19s\tremaining: 24.3s\n",
      "766:\tlearn: 1335.4084739\ttotal: 1m 19s\tremaining: 24.2s\n",
      "767:\tlearn: 1335.3423345\ttotal: 1m 19s\tremaining: 24.1s\n",
      "768:\tlearn: 1335.2609807\ttotal: 1m 19s\tremaining: 24s\n",
      "769:\tlearn: 1335.2280509\ttotal: 1m 20s\tremaining: 23.9s\n",
      "770:\tlearn: 1335.1542988\ttotal: 1m 20s\tremaining: 23.8s\n",
      "771:\tlearn: 1335.0400585\ttotal: 1m 20s\tremaining: 23.7s\n",
      "772:\tlearn: 1334.9071733\ttotal: 1m 20s\tremaining: 23.6s\n",
      "773:\tlearn: 1334.8229960\ttotal: 1m 20s\tremaining: 23.5s\n",
      "774:\tlearn: 1334.7545998\ttotal: 1m 20s\tremaining: 23.4s\n",
      "775:\tlearn: 1334.6452460\ttotal: 1m 20s\tremaining: 23.3s\n",
      "776:\tlearn: 1334.6006543\ttotal: 1m 20s\tremaining: 23.2s\n",
      "777:\tlearn: 1334.4531820\ttotal: 1m 20s\tremaining: 23.1s\n",
      "778:\tlearn: 1334.3702087\ttotal: 1m 21s\tremaining: 23s\n",
      "779:\tlearn: 1334.2988808\ttotal: 1m 21s\tremaining: 22.9s\n",
      "780:\tlearn: 1334.2519287\ttotal: 1m 21s\tremaining: 22.8s\n",
      "781:\tlearn: 1334.1957401\ttotal: 1m 21s\tremaining: 22.7s\n",
      "782:\tlearn: 1334.1494193\ttotal: 1m 21s\tremaining: 22.6s\n",
      "783:\tlearn: 1334.0236112\ttotal: 1m 21s\tremaining: 22.5s\n",
      "784:\tlearn: 1333.9459524\ttotal: 1m 21s\tremaining: 22.4s\n",
      "785:\tlearn: 1333.8490291\ttotal: 1m 21s\tremaining: 22.3s\n",
      "786:\tlearn: 1333.8236460\ttotal: 1m 21s\tremaining: 22.2s\n",
      "787:\tlearn: 1333.7601705\ttotal: 1m 22s\tremaining: 22.1s\n",
      "788:\tlearn: 1333.6872029\ttotal: 1m 22s\tremaining: 22s\n",
      "789:\tlearn: 1333.6141701\ttotal: 1m 22s\tremaining: 21.9s\n",
      "790:\tlearn: 1333.5296294\ttotal: 1m 22s\tremaining: 21.8s\n",
      "791:\tlearn: 1333.4653231\ttotal: 1m 22s\tremaining: 21.7s\n",
      "792:\tlearn: 1333.4470171\ttotal: 1m 22s\tremaining: 21.6s\n",
      "793:\tlearn: 1333.3663627\ttotal: 1m 22s\tremaining: 21.5s\n",
      "794:\tlearn: 1333.2619705\ttotal: 1m 22s\tremaining: 21.3s\n",
      "795:\tlearn: 1333.2170604\ttotal: 1m 22s\tremaining: 21.2s\n",
      "796:\tlearn: 1333.1872642\ttotal: 1m 23s\tremaining: 21.1s\n",
      "797:\tlearn: 1333.1248482\ttotal: 1m 23s\tremaining: 21s\n",
      "798:\tlearn: 1333.0249912\ttotal: 1m 23s\tremaining: 20.9s\n",
      "799:\tlearn: 1332.9354610\ttotal: 1m 23s\tremaining: 20.8s\n",
      "800:\tlearn: 1332.8979043\ttotal: 1m 23s\tremaining: 20.7s\n",
      "801:\tlearn: 1332.8143528\ttotal: 1m 23s\tremaining: 20.6s\n",
      "802:\tlearn: 1332.7227616\ttotal: 1m 23s\tremaining: 20.5s\n",
      "803:\tlearn: 1332.6404279\ttotal: 1m 23s\tremaining: 20.4s\n",
      "804:\tlearn: 1332.5811081\ttotal: 1m 23s\tremaining: 20.3s\n",
      "805:\tlearn: 1332.5312460\ttotal: 1m 23s\tremaining: 20.2s\n",
      "806:\tlearn: 1332.4863413\ttotal: 1m 24s\tremaining: 20.1s\n",
      "807:\tlearn: 1332.3593280\ttotal: 1m 24s\tremaining: 20s\n",
      "808:\tlearn: 1332.2522832\ttotal: 1m 24s\tremaining: 19.9s\n",
      "809:\tlearn: 1332.2306454\ttotal: 1m 24s\tremaining: 19.8s\n",
      "810:\tlearn: 1332.2101126\ttotal: 1m 24s\tremaining: 19.7s\n",
      "811:\tlearn: 1332.2010878\ttotal: 1m 24s\tremaining: 19.6s\n",
      "812:\tlearn: 1332.0603755\ttotal: 1m 24s\tremaining: 19.5s\n",
      "813:\tlearn: 1331.9766882\ttotal: 1m 24s\tremaining: 19.4s\n",
      "814:\tlearn: 1331.8493601\ttotal: 1m 24s\tremaining: 19.3s\n",
      "815:\tlearn: 1331.8121068\ttotal: 1m 24s\tremaining: 19.2s\n",
      "816:\tlearn: 1331.7532577\ttotal: 1m 25s\tremaining: 19.1s\n",
      "817:\tlearn: 1331.7058058\ttotal: 1m 25s\tremaining: 19s\n",
      "818:\tlearn: 1331.6098558\ttotal: 1m 25s\tremaining: 18.9s\n",
      "819:\tlearn: 1331.5556936\ttotal: 1m 25s\tremaining: 18.7s\n",
      "820:\tlearn: 1331.4397003\ttotal: 1m 25s\tremaining: 18.6s\n",
      "821:\tlearn: 1331.3791871\ttotal: 1m 25s\tremaining: 18.5s\n",
      "822:\tlearn: 1331.3656796\ttotal: 1m 25s\tremaining: 18.4s\n",
      "823:\tlearn: 1331.2396040\ttotal: 1m 25s\tremaining: 18.3s\n",
      "824:\tlearn: 1331.1470967\ttotal: 1m 25s\tremaining: 18.2s\n",
      "825:\tlearn: 1331.1214369\ttotal: 1m 26s\tremaining: 18.1s\n",
      "826:\tlearn: 1331.0662876\ttotal: 1m 26s\tremaining: 18s\n",
      "827:\tlearn: 1331.0173798\ttotal: 1m 26s\tremaining: 17.9s\n",
      "828:\tlearn: 1330.8430979\ttotal: 1m 26s\tremaining: 17.8s\n",
      "829:\tlearn: 1330.8179143\ttotal: 1m 26s\tremaining: 17.7s\n",
      "830:\tlearn: 1330.7330275\ttotal: 1m 26s\tremaining: 17.6s\n",
      "831:\tlearn: 1330.6945797\ttotal: 1m 26s\tremaining: 17.5s\n",
      "832:\tlearn: 1330.5635397\ttotal: 1m 26s\tremaining: 17.4s\n",
      "833:\tlearn: 1330.4587156\ttotal: 1m 26s\tremaining: 17.3s\n",
      "834:\tlearn: 1330.4423968\ttotal: 1m 27s\tremaining: 17.2s\n",
      "835:\tlearn: 1330.4234522\ttotal: 1m 27s\tremaining: 17.1s\n",
      "836:\tlearn: 1330.4212311\ttotal: 1m 27s\tremaining: 17s\n",
      "837:\tlearn: 1330.3690963\ttotal: 1m 27s\tremaining: 16.9s\n",
      "838:\tlearn: 1330.2835803\ttotal: 1m 27s\tremaining: 16.8s\n",
      "839:\tlearn: 1330.2630702\ttotal: 1m 27s\tremaining: 16.7s\n",
      "840:\tlearn: 1330.2167866\ttotal: 1m 27s\tremaining: 16.6s\n",
      "841:\tlearn: 1330.0731748\ttotal: 1m 27s\tremaining: 16.5s\n",
      "842:\tlearn: 1329.9543198\ttotal: 1m 27s\tremaining: 16.4s\n",
      "843:\tlearn: 1329.8105233\ttotal: 1m 28s\tremaining: 16.3s\n",
      "844:\tlearn: 1329.7687218\ttotal: 1m 28s\tremaining: 16.2s\n",
      "845:\tlearn: 1329.6943005\ttotal: 1m 28s\tremaining: 16.1s\n",
      "846:\tlearn: 1329.6025341\ttotal: 1m 28s\tremaining: 16s\n",
      "847:\tlearn: 1329.5282226\ttotal: 1m 28s\tremaining: 15.9s\n",
      "848:\tlearn: 1329.4651772\ttotal: 1m 28s\tremaining: 15.7s\n",
      "849:\tlearn: 1329.3951456\ttotal: 1m 28s\tremaining: 15.6s\n",
      "850:\tlearn: 1329.2515049\ttotal: 1m 28s\tremaining: 15.5s\n",
      "851:\tlearn: 1329.2193183\ttotal: 1m 28s\tremaining: 15.4s\n",
      "852:\tlearn: 1329.1125722\ttotal: 1m 28s\tremaining: 15.3s\n",
      "853:\tlearn: 1329.0388852\ttotal: 1m 29s\tremaining: 15.2s\n",
      "854:\tlearn: 1328.9318466\ttotal: 1m 29s\tremaining: 15.1s\n",
      "855:\tlearn: 1328.8790776\ttotal: 1m 29s\tremaining: 15s\n",
      "856:\tlearn: 1328.8035117\ttotal: 1m 29s\tremaining: 14.9s\n",
      "857:\tlearn: 1328.7366455\ttotal: 1m 29s\tremaining: 14.8s\n",
      "858:\tlearn: 1328.5768225\ttotal: 1m 29s\tremaining: 14.7s\n",
      "859:\tlearn: 1328.5302426\ttotal: 1m 29s\tremaining: 14.6s\n",
      "860:\tlearn: 1328.5169303\ttotal: 1m 29s\tremaining: 14.5s\n",
      "861:\tlearn: 1328.4335035\ttotal: 1m 29s\tremaining: 14.4s\n",
      "862:\tlearn: 1328.4140912\ttotal: 1m 30s\tremaining: 14.3s\n",
      "863:\tlearn: 1328.3503870\ttotal: 1m 30s\tremaining: 14.2s\n",
      "864:\tlearn: 1328.2590574\ttotal: 1m 30s\tremaining: 14.1s\n",
      "865:\tlearn: 1328.2179769\ttotal: 1m 30s\tremaining: 14s\n",
      "866:\tlearn: 1328.0992671\ttotal: 1m 30s\tremaining: 13.9s\n",
      "867:\tlearn: 1328.0643967\ttotal: 1m 30s\tremaining: 13.8s\n",
      "868:\tlearn: 1327.9947230\ttotal: 1m 30s\tremaining: 13.7s\n",
      "869:\tlearn: 1327.9802248\ttotal: 1m 30s\tremaining: 13.6s\n",
      "870:\tlearn: 1327.9115392\ttotal: 1m 30s\tremaining: 13.5s\n",
      "871:\tlearn: 1327.8724530\ttotal: 1m 31s\tremaining: 13.4s\n",
      "872:\tlearn: 1327.8263824\ttotal: 1m 31s\tremaining: 13.3s\n",
      "873:\tlearn: 1327.7432176\ttotal: 1m 31s\tremaining: 13.1s\n",
      "874:\tlearn: 1327.6785118\ttotal: 1m 31s\tremaining: 13s\n",
      "875:\tlearn: 1327.6360819\ttotal: 1m 31s\tremaining: 12.9s\n",
      "876:\tlearn: 1327.5912495\ttotal: 1m 31s\tremaining: 12.8s\n",
      "877:\tlearn: 1327.5284674\ttotal: 1m 31s\tremaining: 12.7s\n",
      "878:\tlearn: 1327.4172821\ttotal: 1m 31s\tremaining: 12.6s\n",
      "879:\tlearn: 1327.3751567\ttotal: 1m 31s\tremaining: 12.5s\n",
      "880:\tlearn: 1327.2595120\ttotal: 1m 31s\tremaining: 12.4s\n",
      "881:\tlearn: 1327.1793261\ttotal: 1m 32s\tremaining: 12.3s\n",
      "882:\tlearn: 1327.0839027\ttotal: 1m 32s\tremaining: 12.2s\n",
      "883:\tlearn: 1327.0455218\ttotal: 1m 32s\tremaining: 12.1s\n",
      "884:\tlearn: 1326.9594319\ttotal: 1m 32s\tremaining: 12s\n",
      "885:\tlearn: 1326.8840974\ttotal: 1m 32s\tremaining: 11.9s\n",
      "886:\tlearn: 1326.8682506\ttotal: 1m 32s\tremaining: 11.8s\n",
      "887:\tlearn: 1326.8250689\ttotal: 1m 32s\tremaining: 11.7s\n",
      "888:\tlearn: 1326.7073605\ttotal: 1m 32s\tremaining: 11.6s\n",
      "889:\tlearn: 1326.6942365\ttotal: 1m 32s\tremaining: 11.5s\n",
      "890:\tlearn: 1326.6024863\ttotal: 1m 32s\tremaining: 11.4s\n",
      "891:\tlearn: 1326.5396931\ttotal: 1m 33s\tremaining: 11.3s\n",
      "892:\tlearn: 1326.4851187\ttotal: 1m 33s\tremaining: 11.2s\n",
      "893:\tlearn: 1326.3950150\ttotal: 1m 33s\tremaining: 11.1s\n",
      "894:\tlearn: 1326.3806990\ttotal: 1m 33s\tremaining: 11s\n",
      "895:\tlearn: 1326.3649323\ttotal: 1m 33s\tremaining: 10.9s\n"
     ]
    },
    {
     "name": "stdout",
     "output_type": "stream",
     "text": [
      "896:\tlearn: 1326.3492461\ttotal: 1m 33s\tremaining: 10.8s\n",
      "897:\tlearn: 1326.2762004\ttotal: 1m 33s\tremaining: 10.6s\n",
      "898:\tlearn: 1326.2533570\ttotal: 1m 33s\tremaining: 10.5s\n",
      "899:\tlearn: 1326.1754331\ttotal: 1m 33s\tremaining: 10.4s\n",
      "900:\tlearn: 1326.0372271\ttotal: 1m 34s\tremaining: 10.3s\n",
      "901:\tlearn: 1325.9180314\ttotal: 1m 34s\tremaining: 10.2s\n",
      "902:\tlearn: 1325.8329205\ttotal: 1m 34s\tremaining: 10.1s\n",
      "903:\tlearn: 1325.8243721\ttotal: 1m 34s\tremaining: 10s\n",
      "904:\tlearn: 1325.7530381\ttotal: 1m 34s\tremaining: 9.92s\n",
      "905:\tlearn: 1325.5719027\ttotal: 1m 34s\tremaining: 9.81s\n",
      "906:\tlearn: 1325.4900458\ttotal: 1m 34s\tremaining: 9.71s\n",
      "907:\tlearn: 1325.4477899\ttotal: 1m 34s\tremaining: 9.61s\n",
      "908:\tlearn: 1325.3985647\ttotal: 1m 34s\tremaining: 9.5s\n",
      "909:\tlearn: 1325.3261311\ttotal: 1m 35s\tremaining: 9.4s\n",
      "910:\tlearn: 1325.1445943\ttotal: 1m 35s\tremaining: 9.3s\n",
      "911:\tlearn: 1325.1384045\ttotal: 1m 35s\tremaining: 9.19s\n",
      "912:\tlearn: 1325.1131738\ttotal: 1m 35s\tremaining: 9.09s\n",
      "913:\tlearn: 1325.0550620\ttotal: 1m 35s\tremaining: 8.98s\n",
      "914:\tlearn: 1325.0236751\ttotal: 1m 35s\tremaining: 8.88s\n",
      "915:\tlearn: 1325.0156232\ttotal: 1m 35s\tremaining: 8.77s\n",
      "916:\tlearn: 1325.0082098\ttotal: 1m 35s\tremaining: 8.67s\n",
      "917:\tlearn: 1324.8888076\ttotal: 1m 35s\tremaining: 8.57s\n",
      "918:\tlearn: 1324.8824229\ttotal: 1m 36s\tremaining: 8.46s\n",
      "919:\tlearn: 1324.8685953\ttotal: 1m 36s\tremaining: 8.36s\n",
      "920:\tlearn: 1324.8412550\ttotal: 1m 36s\tremaining: 8.25s\n",
      "921:\tlearn: 1324.7704050\ttotal: 1m 36s\tremaining: 8.15s\n",
      "922:\tlearn: 1324.7098212\ttotal: 1m 36s\tremaining: 8.04s\n",
      "923:\tlearn: 1324.7032421\ttotal: 1m 36s\tremaining: 7.94s\n",
      "924:\tlearn: 1324.6428623\ttotal: 1m 36s\tremaining: 7.83s\n",
      "925:\tlearn: 1324.6169512\ttotal: 1m 36s\tremaining: 7.73s\n",
      "926:\tlearn: 1324.5497294\ttotal: 1m 36s\tremaining: 7.63s\n",
      "927:\tlearn: 1324.4078855\ttotal: 1m 36s\tremaining: 7.52s\n",
      "928:\tlearn: 1324.3915571\ttotal: 1m 37s\tremaining: 7.42s\n",
      "929:\tlearn: 1324.3857103\ttotal: 1m 37s\tremaining: 7.31s\n",
      "930:\tlearn: 1324.3492941\ttotal: 1m 37s\tremaining: 7.21s\n",
      "931:\tlearn: 1324.2979012\ttotal: 1m 37s\tremaining: 7.1s\n",
      "932:\tlearn: 1324.2609969\ttotal: 1m 37s\tremaining: 7s\n",
      "933:\tlearn: 1324.1521381\ttotal: 1m 37s\tremaining: 6.89s\n",
      "934:\tlearn: 1324.1189950\ttotal: 1m 37s\tremaining: 6.79s\n",
      "935:\tlearn: 1324.0829624\ttotal: 1m 37s\tremaining: 6.68s\n",
      "936:\tlearn: 1324.0046910\ttotal: 1m 37s\tremaining: 6.58s\n",
      "937:\tlearn: 1323.9551070\ttotal: 1m 37s\tremaining: 6.48s\n",
      "938:\tlearn: 1323.9283904\ttotal: 1m 38s\tremaining: 6.37s\n",
      "939:\tlearn: 1323.8515189\ttotal: 1m 38s\tremaining: 6.27s\n",
      "940:\tlearn: 1323.8262601\ttotal: 1m 38s\tremaining: 6.16s\n",
      "941:\tlearn: 1323.7193581\ttotal: 1m 38s\tremaining: 6.06s\n",
      "942:\tlearn: 1323.6678145\ttotal: 1m 38s\tremaining: 5.96s\n",
      "943:\tlearn: 1323.6110048\ttotal: 1m 38s\tremaining: 5.85s\n",
      "944:\tlearn: 1323.5267384\ttotal: 1m 38s\tremaining: 5.75s\n",
      "945:\tlearn: 1323.5142033\ttotal: 1m 38s\tremaining: 5.64s\n",
      "946:\tlearn: 1323.3869383\ttotal: 1m 38s\tremaining: 5.54s\n",
      "947:\tlearn: 1323.3427401\ttotal: 1m 39s\tremaining: 5.43s\n",
      "948:\tlearn: 1323.2687704\ttotal: 1m 39s\tremaining: 5.33s\n",
      "949:\tlearn: 1323.1506824\ttotal: 1m 39s\tremaining: 5.22s\n",
      "950:\tlearn: 1323.0866547\ttotal: 1m 39s\tremaining: 5.12s\n",
      "951:\tlearn: 1323.0115780\ttotal: 1m 39s\tremaining: 5.01s\n",
      "952:\tlearn: 1322.9489335\ttotal: 1m 39s\tremaining: 4.91s\n",
      "953:\tlearn: 1322.9448948\ttotal: 1m 39s\tremaining: 4.8s\n",
      "954:\tlearn: 1322.8611530\ttotal: 1m 39s\tremaining: 4.7s\n",
      "955:\tlearn: 1322.8453813\ttotal: 1m 39s\tremaining: 4.6s\n",
      "956:\tlearn: 1322.7964205\ttotal: 1m 39s\tremaining: 4.49s\n",
      "957:\tlearn: 1322.7750194\ttotal: 1m 40s\tremaining: 4.39s\n",
      "958:\tlearn: 1322.7615993\ttotal: 1m 40s\tremaining: 4.28s\n",
      "959:\tlearn: 1322.7029447\ttotal: 1m 40s\tremaining: 4.18s\n",
      "960:\tlearn: 1322.6177254\ttotal: 1m 40s\tremaining: 4.07s\n",
      "961:\tlearn: 1322.5945654\ttotal: 1m 40s\tremaining: 3.97s\n",
      "962:\tlearn: 1322.5781984\ttotal: 1m 40s\tremaining: 3.87s\n",
      "963:\tlearn: 1322.4917643\ttotal: 1m 40s\tremaining: 3.76s\n",
      "964:\tlearn: 1322.4098238\ttotal: 1m 40s\tremaining: 3.66s\n",
      "965:\tlearn: 1322.3811895\ttotal: 1m 40s\tremaining: 3.55s\n",
      "966:\tlearn: 1322.3398308\ttotal: 1m 41s\tremaining: 3.45s\n",
      "967:\tlearn: 1322.2398437\ttotal: 1m 41s\tremaining: 3.35s\n",
      "968:\tlearn: 1322.2064891\ttotal: 1m 41s\tremaining: 3.24s\n",
      "969:\tlearn: 1322.0703754\ttotal: 1m 41s\tremaining: 3.14s\n",
      "970:\tlearn: 1322.0236466\ttotal: 1m 41s\tremaining: 3.03s\n",
      "971:\tlearn: 1321.8359122\ttotal: 1m 41s\tremaining: 2.93s\n",
      "972:\tlearn: 1321.7660504\ttotal: 1m 41s\tremaining: 2.82s\n",
      "973:\tlearn: 1321.7328511\ttotal: 1m 41s\tremaining: 2.72s\n",
      "974:\tlearn: 1321.7075704\ttotal: 1m 41s\tremaining: 2.62s\n",
      "975:\tlearn: 1321.6313084\ttotal: 1m 42s\tremaining: 2.51s\n",
      "976:\tlearn: 1321.4491248\ttotal: 1m 42s\tremaining: 2.4s\n",
      "977:\tlearn: 1321.4011553\ttotal: 1m 42s\tremaining: 2.3s\n",
      "978:\tlearn: 1321.3976041\ttotal: 1m 42s\tremaining: 2.2s\n",
      "979:\tlearn: 1321.3262011\ttotal: 1m 42s\tremaining: 2.09s\n",
      "980:\tlearn: 1321.1906756\ttotal: 1m 42s\tremaining: 1.99s\n",
      "981:\tlearn: 1321.1855698\ttotal: 1m 42s\tremaining: 1.88s\n",
      "982:\tlearn: 1321.1559820\ttotal: 1m 42s\tremaining: 1.78s\n",
      "983:\tlearn: 1321.1027109\ttotal: 1m 42s\tremaining: 1.67s\n",
      "984:\tlearn: 1321.0979243\ttotal: 1m 43s\tremaining: 1.57s\n",
      "985:\tlearn: 1321.0632720\ttotal: 1m 43s\tremaining: 1.46s\n",
      "986:\tlearn: 1321.0054702\ttotal: 1m 43s\tremaining: 1.36s\n",
      "987:\tlearn: 1320.9497540\ttotal: 1m 43s\tremaining: 1.25s\n",
      "988:\tlearn: 1320.7915076\ttotal: 1m 43s\tremaining: 1.15s\n",
      "989:\tlearn: 1320.7798673\ttotal: 1m 43s\tremaining: 1.05s\n",
      "990:\tlearn: 1320.7269758\ttotal: 1m 43s\tremaining: 942ms\n",
      "991:\tlearn: 1320.7221585\ttotal: 1m 43s\tremaining: 837ms\n",
      "992:\tlearn: 1320.6236800\ttotal: 1m 43s\tremaining: 733ms\n",
      "993:\tlearn: 1320.4987037\ttotal: 1m 44s\tremaining: 628ms\n",
      "994:\tlearn: 1320.4623542\ttotal: 1m 44s\tremaining: 523ms\n",
      "995:\tlearn: 1320.3753454\ttotal: 1m 44s\tremaining: 419ms\n",
      "996:\tlearn: 1320.3050968\ttotal: 1m 44s\tremaining: 314ms\n",
      "997:\tlearn: 1320.2755456\ttotal: 1m 44s\tremaining: 209ms\n",
      "998:\tlearn: 1320.2128838\ttotal: 1m 44s\tremaining: 105ms\n",
      "999:\tlearn: 1320.1360080\ttotal: 1m 44s\tremaining: 0us\n"
     ]
    }
   ],
   "source": [
    "fit_predict(cbreg_cat, name='cbreg_cat')\n",
    "result_tbl = pd.concat([result_tbl, a], axis = 0) # добавление показателей в общую таблицу"
   ]
  },
  {
   "cell_type": "code",
   "execution_count": 57,
   "metadata": {},
   "outputs": [
    {
     "data": {
      "text/html": [
       "<div>\n",
       "<style scoped>\n",
       "    .dataframe tbody tr th:only-of-type {\n",
       "        vertical-align: middle;\n",
       "    }\n",
       "\n",
       "    .dataframe tbody tr th {\n",
       "        vertical-align: top;\n",
       "    }\n",
       "\n",
       "    .dataframe thead th {\n",
       "        text-align: right;\n",
       "    }\n",
       "</style>\n",
       "<table border=\"1\" class=\"dataframe\">\n",
       "  <thead>\n",
       "    <tr style=\"text-align: right;\">\n",
       "      <th></th>\n",
       "      <th>model_name</th>\n",
       "      <th>model</th>\n",
       "      <th>fit_time_sec</th>\n",
       "      <th>RMSE</th>\n",
       "      <th>importance_features</th>\n",
       "    </tr>\n",
       "  </thead>\n",
       "  <tbody>\n",
       "    <tr>\n",
       "      <th>0</th>\n",
       "      <td>lgbmreg</td>\n",
       "      <td>LGBMRegressor(random_state=123)</td>\n",
       "      <td>0.5</td>\n",
       "      <td>1418</td>\n",
       "      <td>all</td>\n",
       "    </tr>\n",
       "    <tr>\n",
       "      <th>0</th>\n",
       "      <td>lgbmreg2</td>\n",
       "      <td>LGBMRegressor(max_bin=255, num_iterations=1000...</td>\n",
       "      <td>3.3</td>\n",
       "      <td>1216</td>\n",
       "      <td>all</td>\n",
       "    </tr>\n",
       "    <tr>\n",
       "      <th>0</th>\n",
       "      <td>lgbmreg3</td>\n",
       "      <td>LGBMRegressor(max_bin=255, num_iterations=500,...</td>\n",
       "      <td>1.6</td>\n",
       "      <td>1279</td>\n",
       "      <td>all</td>\n",
       "    </tr>\n",
       "    <tr>\n",
       "      <th>0</th>\n",
       "      <td>lgbmreg2</td>\n",
       "      <td>LGBMRegressor(max_bin=255, num_iterations=1000...</td>\n",
       "      <td>3.0</td>\n",
       "      <td>1360</td>\n",
       "      <td>5</td>\n",
       "    </tr>\n",
       "    <tr>\n",
       "      <th>0</th>\n",
       "      <td>cbreg_cat</td>\n",
       "      <td>&lt;catboost.core.CatBoostRegressor object at 0x0...</td>\n",
       "      <td>105.8</td>\n",
       "      <td>1320</td>\n",
       "      <td>all</td>\n",
       "    </tr>\n",
       "  </tbody>\n",
       "</table>\n",
       "</div>"
      ],
      "text/plain": [
       "  model_name                                              model  fit_time_sec  \\\n",
       "0    lgbmreg                    LGBMRegressor(random_state=123)           0.5   \n",
       "0   lgbmreg2  LGBMRegressor(max_bin=255, num_iterations=1000...           3.3   \n",
       "0   lgbmreg3  LGBMRegressor(max_bin=255, num_iterations=500,...           1.6   \n",
       "0   lgbmreg2  LGBMRegressor(max_bin=255, num_iterations=1000...           3.0   \n",
       "0  cbreg_cat  <catboost.core.CatBoostRegressor object at 0x0...         105.8   \n",
       "\n",
       "   RMSE importance_features  \n",
       "0  1418                 all  \n",
       "0  1216                 all  \n",
       "0  1279                 all  \n",
       "0  1360                   5  \n",
       "0  1320                 all  "
      ]
     },
     "execution_count": 57,
     "metadata": {},
     "output_type": "execute_result"
    }
   ],
   "source": [
    "result_tbl"
   ]
  },
  {
   "cell_type": "markdown",
   "metadata": {},
   "source": [
    "Обучим модель **CatBoostRegressor()** без параметра *cat_features* на данных, преобразованных с помощью алгоритма OrdinalEncoder."
   ]
  },
  {
   "cell_type": "code",
   "execution_count": 58,
   "metadata": {},
   "outputs": [],
   "source": [
    "train_features, train_target, test_features, test_target = split_df(df_ordinal, 'price')"
   ]
  },
  {
   "cell_type": "code",
   "execution_count": 59,
   "metadata": {},
   "outputs": [],
   "source": [
    "cbreg = CatBoostRegressor()"
   ]
  },
  {
   "cell_type": "code",
   "execution_count": 60,
   "metadata": {},
   "outputs": [
    {
     "name": "stdout",
     "output_type": "stream",
     "text": [
      "Learning rate set to 0.092994\n",
      "0:\tlearn: 3630.2540069\ttotal: 20.5ms\tremaining: 20.4s\n",
      "1:\tlearn: 3419.9395369\ttotal: 35.6ms\tremaining: 17.7s\n",
      "2:\tlearn: 3238.2868542\ttotal: 50.7ms\tremaining: 16.9s\n",
      "3:\tlearn: 3066.4299828\ttotal: 67.2ms\tremaining: 16.7s\n",
      "4:\tlearn: 2916.7010832\ttotal: 83ms\tremaining: 16.5s\n",
      "5:\tlearn: 2787.9026448\ttotal: 98.9ms\tremaining: 16.4s\n",
      "6:\tlearn: 2673.8097859\ttotal: 114ms\tremaining: 16.2s\n",
      "7:\tlearn: 2571.9199012\ttotal: 131ms\tremaining: 16.2s\n",
      "8:\tlearn: 2478.2277279\ttotal: 146ms\tremaining: 16.1s\n",
      "9:\tlearn: 2398.6637615\ttotal: 163ms\tremaining: 16.1s\n",
      "10:\tlearn: 2324.5694635\ttotal: 178ms\tremaining: 16s\n",
      "11:\tlearn: 2261.2530770\ttotal: 194ms\tremaining: 15.9s\n",
      "12:\tlearn: 2206.9903376\ttotal: 210ms\tremaining: 15.9s\n",
      "13:\tlearn: 2158.3486501\ttotal: 225ms\tremaining: 15.9s\n",
      "14:\tlearn: 2110.9740216\ttotal: 239ms\tremaining: 15.7s\n",
      "15:\tlearn: 2072.2085285\ttotal: 252ms\tremaining: 15.5s\n",
      "16:\tlearn: 2031.7225435\ttotal: 266ms\tremaining: 15.4s\n",
      "17:\tlearn: 1999.2069278\ttotal: 279ms\tremaining: 15.2s\n",
      "18:\tlearn: 1969.1516566\ttotal: 293ms\tremaining: 15.1s\n",
      "19:\tlearn: 1943.1263245\ttotal: 306ms\tremaining: 15s\n",
      "20:\tlearn: 1920.8583026\ttotal: 320ms\tremaining: 14.9s\n",
      "21:\tlearn: 1899.0481476\ttotal: 333ms\tremaining: 14.8s\n",
      "22:\tlearn: 1879.1363893\ttotal: 347ms\tremaining: 14.7s\n",
      "23:\tlearn: 1861.9031782\ttotal: 361ms\tremaining: 14.7s\n",
      "24:\tlearn: 1845.5511546\ttotal: 376ms\tremaining: 14.7s\n",
      "25:\tlearn: 1826.7311600\ttotal: 393ms\tremaining: 14.7s\n",
      "26:\tlearn: 1812.9832870\ttotal: 410ms\tremaining: 14.8s\n",
      "27:\tlearn: 1800.2707418\ttotal: 424ms\tremaining: 14.7s\n",
      "28:\tlearn: 1787.7906890\ttotal: 438ms\tremaining: 14.7s\n",
      "29:\tlearn: 1776.3965837\ttotal: 452ms\tremaining: 14.6s\n",
      "30:\tlearn: 1763.2143746\ttotal: 466ms\tremaining: 14.6s\n",
      "31:\tlearn: 1754.8183852\ttotal: 479ms\tremaining: 14.5s\n",
      "32:\tlearn: 1745.9414337\ttotal: 493ms\tremaining: 14.5s\n",
      "33:\tlearn: 1738.7996716\ttotal: 507ms\tremaining: 14.4s\n",
      "34:\tlearn: 1728.8162826\ttotal: 520ms\tremaining: 14.3s\n",
      "35:\tlearn: 1720.2398455\ttotal: 533ms\tremaining: 14.3s\n",
      "36:\tlearn: 1714.1674972\ttotal: 546ms\tremaining: 14.2s\n",
      "37:\tlearn: 1706.3880432\ttotal: 560ms\tremaining: 14.2s\n",
      "38:\tlearn: 1699.0715201\ttotal: 573ms\tremaining: 14.1s\n",
      "39:\tlearn: 1694.3906999\ttotal: 587ms\tremaining: 14.1s\n",
      "40:\tlearn: 1688.4856730\ttotal: 602ms\tremaining: 14.1s\n",
      "41:\tlearn: 1681.8122394\ttotal: 616ms\tremaining: 14.1s\n",
      "42:\tlearn: 1676.6358891\ttotal: 632ms\tremaining: 14.1s\n",
      "43:\tlearn: 1670.7210065\ttotal: 646ms\tremaining: 14s\n",
      "44:\tlearn: 1666.1320236\ttotal: 660ms\tremaining: 14s\n",
      "45:\tlearn: 1661.3794956\ttotal: 673ms\tremaining: 13.9s\n",
      "46:\tlearn: 1656.4252159\ttotal: 685ms\tremaining: 13.9s\n",
      "47:\tlearn: 1651.1661148\ttotal: 699ms\tremaining: 13.9s\n",
      "48:\tlearn: 1647.7800108\ttotal: 712ms\tremaining: 13.8s\n",
      "49:\tlearn: 1642.9378233\ttotal: 727ms\tremaining: 13.8s\n",
      "50:\tlearn: 1639.5225922\ttotal: 739ms\tremaining: 13.8s\n",
      "51:\tlearn: 1634.6156656\ttotal: 752ms\tremaining: 13.7s\n",
      "52:\tlearn: 1632.0833262\ttotal: 764ms\tremaining: 13.7s\n",
      "53:\tlearn: 1629.3556542\ttotal: 778ms\tremaining: 13.6s\n",
      "54:\tlearn: 1625.9608972\ttotal: 795ms\tremaining: 13.7s\n",
      "55:\tlearn: 1621.5453202\ttotal: 811ms\tremaining: 13.7s\n",
      "56:\tlearn: 1618.9624097\ttotal: 825ms\tremaining: 13.6s\n",
      "57:\tlearn: 1615.3496855\ttotal: 838ms\tremaining: 13.6s\n",
      "58:\tlearn: 1610.9367830\ttotal: 853ms\tremaining: 13.6s\n",
      "59:\tlearn: 1606.5165601\ttotal: 866ms\tremaining: 13.6s\n",
      "60:\tlearn: 1604.1751485\ttotal: 880ms\tremaining: 13.5s\n",
      "61:\tlearn: 1601.7350752\ttotal: 893ms\tremaining: 13.5s\n",
      "62:\tlearn: 1598.5458489\ttotal: 907ms\tremaining: 13.5s\n",
      "63:\tlearn: 1595.7788687\ttotal: 920ms\tremaining: 13.4s\n",
      "64:\tlearn: 1593.5933535\ttotal: 934ms\tremaining: 13.4s\n",
      "65:\tlearn: 1592.1637545\ttotal: 949ms\tremaining: 13.4s\n",
      "66:\tlearn: 1590.6898671\ttotal: 963ms\tremaining: 13.4s\n",
      "67:\tlearn: 1588.5733617\ttotal: 982ms\tremaining: 13.5s\n",
      "68:\tlearn: 1586.6082632\ttotal: 999ms\tremaining: 13.5s\n",
      "69:\tlearn: 1584.5041916\ttotal: 1.01s\tremaining: 13.5s\n",
      "70:\tlearn: 1582.8977079\ttotal: 1.03s\tremaining: 13.5s\n",
      "71:\tlearn: 1580.6554280\ttotal: 1.05s\tremaining: 13.5s\n",
      "72:\tlearn: 1578.7352543\ttotal: 1.06s\tremaining: 13.5s\n",
      "73:\tlearn: 1576.9757259\ttotal: 1.08s\tremaining: 13.5s\n",
      "74:\tlearn: 1575.2203761\ttotal: 1.09s\tremaining: 13.4s\n",
      "75:\tlearn: 1573.9583166\ttotal: 1.1s\tremaining: 13.4s\n",
      "76:\tlearn: 1571.7024395\ttotal: 1.12s\tremaining: 13.4s\n",
      "77:\tlearn: 1568.2072288\ttotal: 1.13s\tremaining: 13.4s\n",
      "78:\tlearn: 1566.1062991\ttotal: 1.14s\tremaining: 13.3s\n",
      "79:\tlearn: 1564.6826615\ttotal: 1.16s\tremaining: 13.3s\n",
      "80:\tlearn: 1562.3353322\ttotal: 1.17s\tremaining: 13.3s\n",
      "81:\tlearn: 1561.2678555\ttotal: 1.19s\tremaining: 13.3s\n",
      "82:\tlearn: 1559.4272342\ttotal: 1.2s\tremaining: 13.3s\n",
      "83:\tlearn: 1557.8297075\ttotal: 1.22s\tremaining: 13.3s\n",
      "84:\tlearn: 1555.7479941\ttotal: 1.23s\tremaining: 13.3s\n",
      "85:\tlearn: 1554.2264880\ttotal: 1.25s\tremaining: 13.3s\n",
      "86:\tlearn: 1552.7927806\ttotal: 1.26s\tremaining: 13.3s\n",
      "87:\tlearn: 1551.6048938\ttotal: 1.28s\tremaining: 13.2s\n",
      "88:\tlearn: 1550.0806128\ttotal: 1.29s\tremaining: 13.2s\n",
      "89:\tlearn: 1547.9106141\ttotal: 1.3s\tremaining: 13.2s\n",
      "90:\tlearn: 1546.1151396\ttotal: 1.32s\tremaining: 13.2s\n",
      "91:\tlearn: 1544.6990480\ttotal: 1.33s\tremaining: 13.1s\n",
      "92:\tlearn: 1543.4603994\ttotal: 1.34s\tremaining: 13.1s\n",
      "93:\tlearn: 1541.5475414\ttotal: 1.36s\tremaining: 13.1s\n",
      "94:\tlearn: 1540.5787164\ttotal: 1.37s\tremaining: 13.1s\n",
      "95:\tlearn: 1539.2351226\ttotal: 1.39s\tremaining: 13s\n",
      "96:\tlearn: 1537.5401173\ttotal: 1.4s\tremaining: 13s\n",
      "97:\tlearn: 1536.6403465\ttotal: 1.42s\tremaining: 13s\n",
      "98:\tlearn: 1535.5695633\ttotal: 1.43s\tremaining: 13s\n",
      "99:\tlearn: 1534.5974320\ttotal: 1.45s\tremaining: 13s\n",
      "100:\tlearn: 1533.5730033\ttotal: 1.46s\tremaining: 13s\n",
      "101:\tlearn: 1532.0586118\ttotal: 1.47s\tremaining: 12.9s\n",
      "102:\tlearn: 1530.9086687\ttotal: 1.48s\tremaining: 12.9s\n",
      "103:\tlearn: 1530.1004212\ttotal: 1.5s\tremaining: 12.9s\n",
      "104:\tlearn: 1528.8457676\ttotal: 1.51s\tremaining: 12.9s\n",
      "105:\tlearn: 1527.8333087\ttotal: 1.52s\tremaining: 12.8s\n",
      "106:\tlearn: 1526.9196962\ttotal: 1.54s\tremaining: 12.8s\n",
      "107:\tlearn: 1525.6247687\ttotal: 1.55s\tremaining: 12.8s\n",
      "108:\tlearn: 1524.8622109\ttotal: 1.57s\tremaining: 12.8s\n",
      "109:\tlearn: 1523.4059774\ttotal: 1.58s\tremaining: 12.8s\n",
      "110:\tlearn: 1521.9603760\ttotal: 1.6s\tremaining: 12.8s\n",
      "111:\tlearn: 1520.8778334\ttotal: 1.62s\tremaining: 12.8s\n",
      "112:\tlearn: 1520.1995964\ttotal: 1.63s\tremaining: 12.8s\n",
      "113:\tlearn: 1519.1757904\ttotal: 1.65s\tremaining: 12.8s\n",
      "114:\tlearn: 1517.6785831\ttotal: 1.67s\tremaining: 12.8s\n",
      "115:\tlearn: 1516.4243411\ttotal: 1.68s\tremaining: 12.8s\n",
      "116:\tlearn: 1515.7214295\ttotal: 1.7s\tremaining: 12.8s\n",
      "117:\tlearn: 1514.4517264\ttotal: 1.71s\tremaining: 12.8s\n",
      "118:\tlearn: 1513.7313636\ttotal: 1.72s\tremaining: 12.8s\n",
      "119:\tlearn: 1512.3431141\ttotal: 1.74s\tremaining: 12.7s\n",
      "120:\tlearn: 1511.3648882\ttotal: 1.75s\tremaining: 12.7s\n",
      "121:\tlearn: 1510.6119902\ttotal: 1.76s\tremaining: 12.7s\n",
      "122:\tlearn: 1509.5993183\ttotal: 1.77s\tremaining: 12.7s\n",
      "123:\tlearn: 1508.7580509\ttotal: 1.79s\tremaining: 12.6s\n",
      "124:\tlearn: 1507.4074885\ttotal: 1.8s\tremaining: 12.6s\n",
      "125:\tlearn: 1506.6111888\ttotal: 1.82s\tremaining: 12.6s\n",
      "126:\tlearn: 1505.8974553\ttotal: 1.83s\tremaining: 12.6s\n",
      "127:\tlearn: 1504.2625741\ttotal: 1.85s\tremaining: 12.6s\n",
      "128:\tlearn: 1503.3647361\ttotal: 1.86s\tremaining: 12.6s\n",
      "129:\tlearn: 1502.5773352\ttotal: 1.87s\tremaining: 12.5s\n",
      "130:\tlearn: 1501.7430791\ttotal: 1.89s\tremaining: 12.5s\n",
      "131:\tlearn: 1500.9711607\ttotal: 1.9s\tremaining: 12.5s\n",
      "132:\tlearn: 1500.0595871\ttotal: 1.91s\tremaining: 12.5s\n",
      "133:\tlearn: 1499.3754612\ttotal: 1.93s\tremaining: 12.4s\n",
      "134:\tlearn: 1498.3290709\ttotal: 1.94s\tremaining: 12.4s\n",
      "135:\tlearn: 1497.5050657\ttotal: 1.95s\tremaining: 12.4s\n",
      "136:\tlearn: 1496.7452563\ttotal: 1.97s\tremaining: 12.4s\n",
      "137:\tlearn: 1495.8596284\ttotal: 1.98s\tremaining: 12.4s\n",
      "138:\tlearn: 1495.2117305\ttotal: 1.99s\tremaining: 12.3s\n",
      "139:\tlearn: 1493.9928276\ttotal: 2.01s\tremaining: 12.3s\n",
      "140:\tlearn: 1493.1769291\ttotal: 2.02s\tremaining: 12.3s\n",
      "141:\tlearn: 1492.5071122\ttotal: 2.04s\tremaining: 12.3s\n",
      "142:\tlearn: 1491.7497520\ttotal: 2.06s\tremaining: 12.3s\n",
      "143:\tlearn: 1490.4171590\ttotal: 2.07s\tremaining: 12.3s\n",
      "144:\tlearn: 1489.6345704\ttotal: 2.08s\tremaining: 12.3s\n",
      "145:\tlearn: 1488.8983264\ttotal: 2.1s\tremaining: 12.3s\n",
      "146:\tlearn: 1488.3356295\ttotal: 2.11s\tremaining: 12.2s\n",
      "147:\tlearn: 1487.1584019\ttotal: 2.12s\tremaining: 12.2s\n",
      "148:\tlearn: 1486.4932879\ttotal: 2.14s\tremaining: 12.2s\n",
      "149:\tlearn: 1485.8572084\ttotal: 2.15s\tremaining: 12.2s\n",
      "150:\tlearn: 1485.2686687\ttotal: 2.16s\tremaining: 12.2s\n",
      "151:\tlearn: 1484.0409179\ttotal: 2.18s\tremaining: 12.2s\n",
      "152:\tlearn: 1483.1680280\ttotal: 2.19s\tremaining: 12.1s\n",
      "153:\tlearn: 1482.6574912\ttotal: 2.21s\tremaining: 12.1s\n",
      "154:\tlearn: 1481.6838285\ttotal: 2.22s\tremaining: 12.1s\n",
      "155:\tlearn: 1481.0325549\ttotal: 2.23s\tremaining: 12.1s\n"
     ]
    },
    {
     "name": "stdout",
     "output_type": "stream",
     "text": [
      "156:\tlearn: 1480.0813737\ttotal: 2.25s\tremaining: 12.1s\n",
      "157:\tlearn: 1479.5416485\ttotal: 2.26s\tremaining: 12.1s\n",
      "158:\tlearn: 1478.4142271\ttotal: 2.28s\tremaining: 12.1s\n",
      "159:\tlearn: 1477.2417105\ttotal: 2.29s\tremaining: 12s\n",
      "160:\tlearn: 1476.7899407\ttotal: 2.31s\tremaining: 12s\n",
      "161:\tlearn: 1476.3336760\ttotal: 2.32s\tremaining: 12s\n",
      "162:\tlearn: 1475.6707277\ttotal: 2.33s\tremaining: 12s\n",
      "163:\tlearn: 1474.8963998\ttotal: 2.35s\tremaining: 12s\n",
      "164:\tlearn: 1473.8992425\ttotal: 2.36s\tremaining: 12s\n",
      "165:\tlearn: 1473.3942189\ttotal: 2.38s\tremaining: 11.9s\n",
      "166:\tlearn: 1472.8854035\ttotal: 2.39s\tremaining: 11.9s\n",
      "167:\tlearn: 1472.5597576\ttotal: 2.4s\tremaining: 11.9s\n",
      "168:\tlearn: 1471.6915727\ttotal: 2.41s\tremaining: 11.9s\n",
      "169:\tlearn: 1470.8133819\ttotal: 2.43s\tremaining: 11.9s\n",
      "170:\tlearn: 1470.2312342\ttotal: 2.44s\tremaining: 11.8s\n",
      "171:\tlearn: 1469.3724482\ttotal: 2.46s\tremaining: 11.8s\n",
      "172:\tlearn: 1468.8975639\ttotal: 2.47s\tremaining: 11.8s\n",
      "173:\tlearn: 1468.2192776\ttotal: 2.48s\tremaining: 11.8s\n",
      "174:\tlearn: 1467.5419126\ttotal: 2.5s\tremaining: 11.8s\n",
      "175:\tlearn: 1466.8699843\ttotal: 2.51s\tremaining: 11.8s\n",
      "176:\tlearn: 1466.2592018\ttotal: 2.52s\tremaining: 11.7s\n",
      "177:\tlearn: 1465.6289545\ttotal: 2.54s\tremaining: 11.7s\n",
      "178:\tlearn: 1465.1995476\ttotal: 2.55s\tremaining: 11.7s\n",
      "179:\tlearn: 1464.7191200\ttotal: 2.56s\tremaining: 11.7s\n",
      "180:\tlearn: 1464.0389432\ttotal: 2.58s\tremaining: 11.7s\n",
      "181:\tlearn: 1463.4043776\ttotal: 2.59s\tremaining: 11.6s\n",
      "182:\tlearn: 1462.8324537\ttotal: 2.6s\tremaining: 11.6s\n",
      "183:\tlearn: 1462.5380864\ttotal: 2.62s\tremaining: 11.6s\n",
      "184:\tlearn: 1462.0727092\ttotal: 2.63s\tremaining: 11.6s\n",
      "185:\tlearn: 1461.5441096\ttotal: 2.64s\tremaining: 11.6s\n",
      "186:\tlearn: 1461.2555901\ttotal: 2.65s\tremaining: 11.5s\n",
      "187:\tlearn: 1460.7863981\ttotal: 2.67s\tremaining: 11.5s\n",
      "188:\tlearn: 1460.4592710\ttotal: 2.69s\tremaining: 11.5s\n",
      "189:\tlearn: 1459.8044390\ttotal: 2.7s\tremaining: 11.5s\n",
      "190:\tlearn: 1459.1742031\ttotal: 2.72s\tremaining: 11.5s\n",
      "191:\tlearn: 1458.8467700\ttotal: 2.73s\tremaining: 11.5s\n",
      "192:\tlearn: 1458.2810682\ttotal: 2.74s\tremaining: 11.5s\n",
      "193:\tlearn: 1457.6514102\ttotal: 2.75s\tremaining: 11.4s\n",
      "194:\tlearn: 1456.9276762\ttotal: 2.77s\tremaining: 11.4s\n",
      "195:\tlearn: 1456.0973752\ttotal: 2.78s\tremaining: 11.4s\n",
      "196:\tlearn: 1455.4415815\ttotal: 2.79s\tremaining: 11.4s\n",
      "197:\tlearn: 1455.1124693\ttotal: 2.81s\tremaining: 11.4s\n",
      "198:\tlearn: 1454.6589048\ttotal: 2.82s\tremaining: 11.4s\n",
      "199:\tlearn: 1454.2205448\ttotal: 2.83s\tremaining: 11.3s\n",
      "200:\tlearn: 1453.8638540\ttotal: 2.85s\tremaining: 11.3s\n",
      "201:\tlearn: 1453.3784125\ttotal: 2.86s\tremaining: 11.3s\n",
      "202:\tlearn: 1452.7586737\ttotal: 2.88s\tremaining: 11.3s\n",
      "203:\tlearn: 1452.3538278\ttotal: 2.89s\tremaining: 11.3s\n",
      "204:\tlearn: 1451.8599025\ttotal: 2.91s\tremaining: 11.3s\n",
      "205:\tlearn: 1451.2987714\ttotal: 2.92s\tremaining: 11.3s\n",
      "206:\tlearn: 1450.8387269\ttotal: 2.94s\tremaining: 11.3s\n",
      "207:\tlearn: 1450.5668307\ttotal: 2.95s\tremaining: 11.2s\n",
      "208:\tlearn: 1450.1674915\ttotal: 2.97s\tremaining: 11.2s\n",
      "209:\tlearn: 1449.5847234\ttotal: 2.98s\tremaining: 11.2s\n",
      "210:\tlearn: 1448.9766388\ttotal: 3s\tremaining: 11.2s\n",
      "211:\tlearn: 1448.6127842\ttotal: 3.01s\tremaining: 11.2s\n",
      "212:\tlearn: 1448.1394666\ttotal: 3.02s\tremaining: 11.2s\n",
      "213:\tlearn: 1447.8221593\ttotal: 3.04s\tremaining: 11.2s\n",
      "214:\tlearn: 1447.2678081\ttotal: 3.06s\tremaining: 11.2s\n",
      "215:\tlearn: 1446.8889860\ttotal: 3.07s\tremaining: 11.1s\n",
      "216:\tlearn: 1446.6271651\ttotal: 3.1s\tremaining: 11.2s\n",
      "217:\tlearn: 1446.3616959\ttotal: 3.12s\tremaining: 11.2s\n",
      "218:\tlearn: 1445.8065600\ttotal: 3.14s\tremaining: 11.2s\n",
      "219:\tlearn: 1445.1904239\ttotal: 3.15s\tremaining: 11.2s\n",
      "220:\tlearn: 1444.7991953\ttotal: 3.16s\tremaining: 11.2s\n",
      "221:\tlearn: 1444.3243592\ttotal: 3.18s\tremaining: 11.1s\n",
      "222:\tlearn: 1443.9073381\ttotal: 3.19s\tremaining: 11.1s\n",
      "223:\tlearn: 1443.6730011\ttotal: 3.2s\tremaining: 11.1s\n",
      "224:\tlearn: 1443.3417567\ttotal: 3.22s\tremaining: 11.1s\n",
      "225:\tlearn: 1442.9330491\ttotal: 3.23s\tremaining: 11.1s\n",
      "226:\tlearn: 1442.0903340\ttotal: 3.25s\tremaining: 11.1s\n",
      "227:\tlearn: 1441.6215681\ttotal: 3.26s\tremaining: 11s\n",
      "228:\tlearn: 1441.2566020\ttotal: 3.27s\tremaining: 11s\n",
      "229:\tlearn: 1440.8483503\ttotal: 3.29s\tremaining: 11s\n",
      "230:\tlearn: 1440.3234242\ttotal: 3.3s\tremaining: 11s\n",
      "231:\tlearn: 1439.5981628\ttotal: 3.32s\tremaining: 11s\n",
      "232:\tlearn: 1439.2131450\ttotal: 3.33s\tremaining: 11s\n",
      "233:\tlearn: 1438.9708152\ttotal: 3.34s\tremaining: 10.9s\n",
      "234:\tlearn: 1438.4528620\ttotal: 3.36s\tremaining: 10.9s\n",
      "235:\tlearn: 1438.0854783\ttotal: 3.37s\tremaining: 10.9s\n",
      "236:\tlearn: 1437.6456176\ttotal: 3.38s\tremaining: 10.9s\n",
      "237:\tlearn: 1437.2994591\ttotal: 3.4s\tremaining: 10.9s\n",
      "238:\tlearn: 1436.7818198\ttotal: 3.41s\tremaining: 10.9s\n",
      "239:\tlearn: 1436.2148165\ttotal: 3.42s\tremaining: 10.8s\n",
      "240:\tlearn: 1435.7688072\ttotal: 3.44s\tremaining: 10.8s\n",
      "241:\tlearn: 1435.4326249\ttotal: 3.45s\tremaining: 10.8s\n",
      "242:\tlearn: 1435.1549563\ttotal: 3.46s\tremaining: 10.8s\n",
      "243:\tlearn: 1434.7729001\ttotal: 3.48s\tremaining: 10.8s\n",
      "244:\tlearn: 1434.3633579\ttotal: 3.49s\tremaining: 10.8s\n",
      "245:\tlearn: 1433.8887023\ttotal: 3.51s\tremaining: 10.8s\n",
      "246:\tlearn: 1433.4639934\ttotal: 3.52s\tremaining: 10.7s\n",
      "247:\tlearn: 1433.1356458\ttotal: 3.54s\tremaining: 10.7s\n",
      "248:\tlearn: 1432.8492326\ttotal: 3.55s\tremaining: 10.7s\n",
      "249:\tlearn: 1432.5299560\ttotal: 3.56s\tremaining: 10.7s\n",
      "250:\tlearn: 1432.2228772\ttotal: 3.58s\tremaining: 10.7s\n",
      "251:\tlearn: 1431.9650340\ttotal: 3.59s\tremaining: 10.7s\n",
      "252:\tlearn: 1431.6720430\ttotal: 3.6s\tremaining: 10.6s\n",
      "253:\tlearn: 1431.2556444\ttotal: 3.61s\tremaining: 10.6s\n",
      "254:\tlearn: 1430.8699753\ttotal: 3.63s\tremaining: 10.6s\n",
      "255:\tlearn: 1430.5882860\ttotal: 3.64s\tremaining: 10.6s\n",
      "256:\tlearn: 1430.2899182\ttotal: 3.65s\tremaining: 10.6s\n",
      "257:\tlearn: 1429.9419744\ttotal: 3.67s\tremaining: 10.5s\n",
      "258:\tlearn: 1429.6790613\ttotal: 3.68s\tremaining: 10.5s\n",
      "259:\tlearn: 1429.2449797\ttotal: 3.69s\tremaining: 10.5s\n",
      "260:\tlearn: 1428.9324426\ttotal: 3.71s\tremaining: 10.5s\n",
      "261:\tlearn: 1428.4730728\ttotal: 3.72s\tremaining: 10.5s\n",
      "262:\tlearn: 1428.1446650\ttotal: 3.74s\tremaining: 10.5s\n",
      "263:\tlearn: 1427.5605286\ttotal: 3.75s\tremaining: 10.5s\n",
      "264:\tlearn: 1427.3575654\ttotal: 3.76s\tremaining: 10.4s\n",
      "265:\tlearn: 1426.9534608\ttotal: 3.78s\tremaining: 10.4s\n",
      "266:\tlearn: 1426.5152820\ttotal: 3.79s\tremaining: 10.4s\n",
      "267:\tlearn: 1426.3374515\ttotal: 3.8s\tremaining: 10.4s\n",
      "268:\tlearn: 1426.1599877\ttotal: 3.81s\tremaining: 10.4s\n",
      "269:\tlearn: 1425.6668095\ttotal: 3.83s\tremaining: 10.4s\n",
      "270:\tlearn: 1425.1759937\ttotal: 3.84s\tremaining: 10.3s\n",
      "271:\tlearn: 1424.9607323\ttotal: 3.86s\tremaining: 10.3s\n",
      "272:\tlearn: 1424.6445376\ttotal: 3.87s\tremaining: 10.3s\n",
      "273:\tlearn: 1424.3425891\ttotal: 3.89s\tremaining: 10.3s\n",
      "274:\tlearn: 1424.1121680\ttotal: 3.9s\tremaining: 10.3s\n",
      "275:\tlearn: 1423.8333907\ttotal: 3.92s\tremaining: 10.3s\n",
      "276:\tlearn: 1423.6292616\ttotal: 3.93s\tremaining: 10.3s\n",
      "277:\tlearn: 1423.2144312\ttotal: 3.94s\tremaining: 10.2s\n",
      "278:\tlearn: 1422.8266531\ttotal: 3.96s\tremaining: 10.2s\n",
      "279:\tlearn: 1422.5872943\ttotal: 3.97s\tremaining: 10.2s\n",
      "280:\tlearn: 1422.1956157\ttotal: 3.98s\tremaining: 10.2s\n",
      "281:\tlearn: 1421.8342355\ttotal: 4s\tremaining: 10.2s\n",
      "282:\tlearn: 1421.4076154\ttotal: 4.01s\tremaining: 10.2s\n",
      "283:\tlearn: 1420.8559829\ttotal: 4.03s\tremaining: 10.2s\n",
      "284:\tlearn: 1420.6195518\ttotal: 4.04s\tremaining: 10.1s\n",
      "285:\tlearn: 1420.2761876\ttotal: 4.05s\tremaining: 10.1s\n",
      "286:\tlearn: 1420.0691399\ttotal: 4.07s\tremaining: 10.1s\n",
      "287:\tlearn: 1419.8749864\ttotal: 4.08s\tremaining: 10.1s\n",
      "288:\tlearn: 1419.5565976\ttotal: 4.1s\tremaining: 10.1s\n",
      "289:\tlearn: 1419.1408199\ttotal: 4.11s\tremaining: 10.1s\n",
      "290:\tlearn: 1418.8501665\ttotal: 4.13s\tremaining: 10.1s\n",
      "291:\tlearn: 1418.7149306\ttotal: 4.14s\tremaining: 10s\n",
      "292:\tlearn: 1418.4272776\ttotal: 4.15s\tremaining: 10s\n",
      "293:\tlearn: 1418.0684425\ttotal: 4.17s\tremaining: 10s\n",
      "294:\tlearn: 1417.7487311\ttotal: 4.18s\tremaining: 9.99s\n",
      "295:\tlearn: 1417.5221430\ttotal: 4.2s\tremaining: 9.98s\n",
      "296:\tlearn: 1417.1714478\ttotal: 4.21s\tremaining: 9.96s\n",
      "297:\tlearn: 1416.7023553\ttotal: 4.22s\tremaining: 9.95s\n",
      "298:\tlearn: 1416.2817371\ttotal: 4.24s\tremaining: 9.93s\n",
      "299:\tlearn: 1416.0784026\ttotal: 4.25s\tremaining: 9.91s\n",
      "300:\tlearn: 1415.8988241\ttotal: 4.26s\tremaining: 9.89s\n",
      "301:\tlearn: 1415.6384821\ttotal: 4.27s\tremaining: 9.88s\n",
      "302:\tlearn: 1415.1840166\ttotal: 4.29s\tremaining: 9.86s\n",
      "303:\tlearn: 1414.8758930\ttotal: 4.3s\tremaining: 9.85s\n",
      "304:\tlearn: 1414.5765456\ttotal: 4.32s\tremaining: 9.84s\n",
      "305:\tlearn: 1414.2157116\ttotal: 4.33s\tremaining: 9.82s\n",
      "306:\tlearn: 1413.8018251\ttotal: 4.34s\tremaining: 9.81s\n",
      "307:\tlearn: 1413.5670479\ttotal: 4.36s\tremaining: 9.79s\n",
      "308:\tlearn: 1413.2494040\ttotal: 4.37s\tremaining: 9.78s\n",
      "309:\tlearn: 1413.0265688\ttotal: 4.39s\tremaining: 9.77s\n",
      "310:\tlearn: 1412.9108811\ttotal: 4.4s\tremaining: 9.75s\n",
      "311:\tlearn: 1412.6565613\ttotal: 4.41s\tremaining: 9.73s\n",
      "312:\tlearn: 1412.3826594\ttotal: 4.43s\tremaining: 9.71s\n",
      "313:\tlearn: 1412.2265687\ttotal: 4.44s\tremaining: 9.7s\n",
      "314:\tlearn: 1412.0365008\ttotal: 4.45s\tremaining: 9.68s\n",
      "315:\tlearn: 1411.7116342\ttotal: 4.47s\tremaining: 9.67s\n",
      "316:\tlearn: 1411.3188004\ttotal: 4.48s\tremaining: 9.65s\n",
      "317:\tlearn: 1410.9800121\ttotal: 4.49s\tremaining: 9.64s\n"
     ]
    },
    {
     "name": "stdout",
     "output_type": "stream",
     "text": [
      "318:\tlearn: 1410.7461614\ttotal: 4.51s\tremaining: 9.63s\n",
      "319:\tlearn: 1410.5678434\ttotal: 4.52s\tremaining: 9.62s\n",
      "320:\tlearn: 1410.3908416\ttotal: 4.54s\tremaining: 9.6s\n",
      "321:\tlearn: 1410.1826763\ttotal: 4.55s\tremaining: 9.59s\n",
      "322:\tlearn: 1409.9471534\ttotal: 4.57s\tremaining: 9.57s\n",
      "323:\tlearn: 1409.7511246\ttotal: 4.58s\tremaining: 9.55s\n",
      "324:\tlearn: 1409.5198277\ttotal: 4.59s\tremaining: 9.53s\n",
      "325:\tlearn: 1409.2640900\ttotal: 4.6s\tremaining: 9.52s\n",
      "326:\tlearn: 1408.9979997\ttotal: 4.62s\tremaining: 9.5s\n",
      "327:\tlearn: 1408.6767389\ttotal: 4.63s\tremaining: 9.49s\n",
      "328:\tlearn: 1408.5160998\ttotal: 4.64s\tremaining: 9.47s\n",
      "329:\tlearn: 1408.2569917\ttotal: 4.66s\tremaining: 9.46s\n",
      "330:\tlearn: 1408.0176948\ttotal: 4.67s\tremaining: 9.44s\n",
      "331:\tlearn: 1407.8930761\ttotal: 4.68s\tremaining: 9.43s\n",
      "332:\tlearn: 1407.5223283\ttotal: 4.7s\tremaining: 9.41s\n",
      "333:\tlearn: 1407.2480035\ttotal: 4.71s\tremaining: 9.4s\n",
      "334:\tlearn: 1407.0049870\ttotal: 4.73s\tremaining: 9.38s\n",
      "335:\tlearn: 1406.7105104\ttotal: 4.74s\tremaining: 9.37s\n",
      "336:\tlearn: 1406.4564709\ttotal: 4.75s\tremaining: 9.36s\n",
      "337:\tlearn: 1406.1966762\ttotal: 4.77s\tremaining: 9.34s\n",
      "338:\tlearn: 1405.9134379\ttotal: 4.78s\tremaining: 9.33s\n",
      "339:\tlearn: 1405.6914301\ttotal: 4.8s\tremaining: 9.31s\n",
      "340:\tlearn: 1405.4385310\ttotal: 4.81s\tremaining: 9.29s\n",
      "341:\tlearn: 1405.1728423\ttotal: 4.82s\tremaining: 9.28s\n",
      "342:\tlearn: 1404.8783357\ttotal: 4.84s\tremaining: 9.27s\n",
      "343:\tlearn: 1404.6562424\ttotal: 4.85s\tremaining: 9.25s\n",
      "344:\tlearn: 1404.4503749\ttotal: 4.86s\tremaining: 9.23s\n",
      "345:\tlearn: 1404.1882186\ttotal: 4.88s\tremaining: 9.22s\n",
      "346:\tlearn: 1403.8979556\ttotal: 4.89s\tremaining: 9.21s\n",
      "347:\tlearn: 1403.5970119\ttotal: 4.91s\tremaining: 9.19s\n",
      "348:\tlearn: 1403.4238551\ttotal: 4.92s\tremaining: 9.18s\n",
      "349:\tlearn: 1403.1131367\ttotal: 4.94s\tremaining: 9.17s\n",
      "350:\tlearn: 1402.9514369\ttotal: 4.95s\tremaining: 9.16s\n",
      "351:\tlearn: 1402.6919180\ttotal: 4.97s\tremaining: 9.14s\n",
      "352:\tlearn: 1402.4490689\ttotal: 4.98s\tremaining: 9.13s\n",
      "353:\tlearn: 1402.2226703\ttotal: 5s\tremaining: 9.12s\n",
      "354:\tlearn: 1402.0404481\ttotal: 5.01s\tremaining: 9.1s\n",
      "355:\tlearn: 1401.7798093\ttotal: 5.02s\tremaining: 9.09s\n",
      "356:\tlearn: 1401.5314311\ttotal: 5.04s\tremaining: 9.07s\n",
      "357:\tlearn: 1401.2828906\ttotal: 5.05s\tremaining: 9.06s\n",
      "358:\tlearn: 1400.9710328\ttotal: 5.07s\tremaining: 9.04s\n",
      "359:\tlearn: 1400.7362351\ttotal: 5.08s\tremaining: 9.03s\n",
      "360:\tlearn: 1400.2778760\ttotal: 5.09s\tremaining: 9.01s\n",
      "361:\tlearn: 1400.0706330\ttotal: 5.11s\tremaining: 9s\n",
      "362:\tlearn: 1399.7321159\ttotal: 5.12s\tremaining: 8.98s\n",
      "363:\tlearn: 1399.5281420\ttotal: 5.14s\tremaining: 8.97s\n",
      "364:\tlearn: 1399.4067484\ttotal: 5.15s\tremaining: 8.96s\n",
      "365:\tlearn: 1399.3299319\ttotal: 5.16s\tremaining: 8.95s\n",
      "366:\tlearn: 1399.0309149\ttotal: 5.18s\tremaining: 8.93s\n",
      "367:\tlearn: 1398.8360360\ttotal: 5.19s\tremaining: 8.91s\n",
      "368:\tlearn: 1398.6051185\ttotal: 5.21s\tremaining: 8.9s\n",
      "369:\tlearn: 1398.0452251\ttotal: 5.22s\tremaining: 8.89s\n",
      "370:\tlearn: 1397.8524521\ttotal: 5.23s\tremaining: 8.87s\n",
      "371:\tlearn: 1397.7676106\ttotal: 5.24s\tremaining: 8.85s\n",
      "372:\tlearn: 1397.5782061\ttotal: 5.26s\tremaining: 8.84s\n",
      "373:\tlearn: 1397.3278511\ttotal: 5.27s\tremaining: 8.82s\n",
      "374:\tlearn: 1397.1845493\ttotal: 5.28s\tremaining: 8.8s\n",
      "375:\tlearn: 1397.0635262\ttotal: 5.29s\tremaining: 8.79s\n",
      "376:\tlearn: 1396.9658663\ttotal: 5.31s\tremaining: 8.77s\n",
      "377:\tlearn: 1396.7466283\ttotal: 5.32s\tremaining: 8.75s\n",
      "378:\tlearn: 1396.4470912\ttotal: 5.33s\tremaining: 8.74s\n",
      "379:\tlearn: 1396.1421442\ttotal: 5.35s\tremaining: 8.73s\n",
      "380:\tlearn: 1396.0467515\ttotal: 5.37s\tremaining: 8.72s\n",
      "381:\tlearn: 1395.8238938\ttotal: 5.38s\tremaining: 8.7s\n",
      "382:\tlearn: 1395.5277329\ttotal: 5.39s\tremaining: 8.69s\n",
      "383:\tlearn: 1395.2451433\ttotal: 5.41s\tremaining: 8.67s\n",
      "384:\tlearn: 1395.0496939\ttotal: 5.42s\tremaining: 8.65s\n",
      "385:\tlearn: 1394.8832716\ttotal: 5.43s\tremaining: 8.64s\n",
      "386:\tlearn: 1394.6817064\ttotal: 5.44s\tremaining: 8.62s\n",
      "387:\tlearn: 1394.4075700\ttotal: 5.46s\tremaining: 8.61s\n",
      "388:\tlearn: 1394.2985262\ttotal: 5.47s\tremaining: 8.59s\n",
      "389:\tlearn: 1394.1298165\ttotal: 5.48s\tremaining: 8.57s\n",
      "390:\tlearn: 1393.7789262\ttotal: 5.5s\tremaining: 8.56s\n",
      "391:\tlearn: 1393.5542991\ttotal: 5.51s\tremaining: 8.54s\n",
      "392:\tlearn: 1393.4389592\ttotal: 5.52s\tremaining: 8.53s\n",
      "393:\tlearn: 1393.3085816\ttotal: 5.54s\tremaining: 8.51s\n",
      "394:\tlearn: 1393.0651158\ttotal: 5.55s\tremaining: 8.5s\n",
      "395:\tlearn: 1392.8345783\ttotal: 5.57s\tremaining: 8.49s\n",
      "396:\tlearn: 1392.6448832\ttotal: 5.58s\tremaining: 8.47s\n",
      "397:\tlearn: 1392.4212921\ttotal: 5.59s\tremaining: 8.46s\n",
      "398:\tlearn: 1392.2571132\ttotal: 5.6s\tremaining: 8.44s\n",
      "399:\tlearn: 1392.1423082\ttotal: 5.62s\tremaining: 8.43s\n",
      "400:\tlearn: 1391.8897855\ttotal: 5.63s\tremaining: 8.41s\n",
      "401:\tlearn: 1391.6923588\ttotal: 5.64s\tremaining: 8.4s\n",
      "402:\tlearn: 1391.5252183\ttotal: 5.66s\tremaining: 8.38s\n",
      "403:\tlearn: 1391.3123006\ttotal: 5.67s\tremaining: 8.36s\n",
      "404:\tlearn: 1391.0369128\ttotal: 5.68s\tremaining: 8.35s\n",
      "405:\tlearn: 1390.9486867\ttotal: 5.7s\tremaining: 8.33s\n",
      "406:\tlearn: 1390.7340321\ttotal: 5.71s\tremaining: 8.32s\n",
      "407:\tlearn: 1390.5846790\ttotal: 5.72s\tremaining: 8.3s\n",
      "408:\tlearn: 1390.3740256\ttotal: 5.74s\tremaining: 8.29s\n",
      "409:\tlearn: 1390.1363636\ttotal: 5.75s\tremaining: 8.28s\n",
      "410:\tlearn: 1389.9537525\ttotal: 5.76s\tremaining: 8.26s\n",
      "411:\tlearn: 1389.7715725\ttotal: 5.78s\tremaining: 8.25s\n",
      "412:\tlearn: 1389.6503002\ttotal: 5.79s\tremaining: 8.23s\n",
      "413:\tlearn: 1389.5441140\ttotal: 5.8s\tremaining: 8.22s\n",
      "414:\tlearn: 1389.3960472\ttotal: 5.82s\tremaining: 8.2s\n",
      "415:\tlearn: 1389.2883509\ttotal: 5.83s\tremaining: 8.19s\n",
      "416:\tlearn: 1389.1770359\ttotal: 5.84s\tremaining: 8.17s\n",
      "417:\tlearn: 1388.9970304\ttotal: 5.86s\tremaining: 8.15s\n",
      "418:\tlearn: 1388.8617429\ttotal: 5.87s\tremaining: 8.14s\n",
      "419:\tlearn: 1388.7832186\ttotal: 5.88s\tremaining: 8.12s\n",
      "420:\tlearn: 1388.5692412\ttotal: 5.9s\tremaining: 8.11s\n",
      "421:\tlearn: 1388.3363940\ttotal: 5.91s\tremaining: 8.1s\n",
      "422:\tlearn: 1388.2110080\ttotal: 5.93s\tremaining: 8.09s\n",
      "423:\tlearn: 1387.9072226\ttotal: 5.94s\tremaining: 8.07s\n",
      "424:\tlearn: 1387.8128749\ttotal: 5.96s\tremaining: 8.06s\n",
      "425:\tlearn: 1387.6451206\ttotal: 5.97s\tremaining: 8.04s\n",
      "426:\tlearn: 1387.4524001\ttotal: 5.98s\tremaining: 8.03s\n",
      "427:\tlearn: 1387.2009399\ttotal: 6s\tremaining: 8.01s\n",
      "428:\tlearn: 1387.0007902\ttotal: 6.01s\tremaining: 8s\n",
      "429:\tlearn: 1386.8052152\ttotal: 6.02s\tremaining: 7.98s\n",
      "430:\tlearn: 1386.5589643\ttotal: 6.04s\tremaining: 7.97s\n",
      "431:\tlearn: 1386.4142116\ttotal: 6.05s\tremaining: 7.95s\n",
      "432:\tlearn: 1386.2037792\ttotal: 6.06s\tremaining: 7.94s\n",
      "433:\tlearn: 1385.9282257\ttotal: 6.08s\tremaining: 7.92s\n",
      "434:\tlearn: 1385.7389376\ttotal: 6.09s\tremaining: 7.91s\n",
      "435:\tlearn: 1385.6490427\ttotal: 6.1s\tremaining: 7.89s\n",
      "436:\tlearn: 1385.5517259\ttotal: 6.11s\tremaining: 7.88s\n",
      "437:\tlearn: 1385.2300653\ttotal: 6.13s\tremaining: 7.87s\n",
      "438:\tlearn: 1385.1275556\ttotal: 6.14s\tremaining: 7.85s\n",
      "439:\tlearn: 1384.9261886\ttotal: 6.16s\tremaining: 7.84s\n",
      "440:\tlearn: 1384.7303178\ttotal: 6.17s\tremaining: 7.83s\n",
      "441:\tlearn: 1384.5809998\ttotal: 6.19s\tremaining: 7.81s\n",
      "442:\tlearn: 1384.3955017\ttotal: 6.2s\tremaining: 7.79s\n",
      "443:\tlearn: 1384.2206292\ttotal: 6.21s\tremaining: 7.78s\n",
      "444:\tlearn: 1384.1091523\ttotal: 6.23s\tremaining: 7.77s\n",
      "445:\tlearn: 1383.9280497\ttotal: 6.24s\tremaining: 7.75s\n",
      "446:\tlearn: 1383.7114935\ttotal: 6.25s\tremaining: 7.74s\n",
      "447:\tlearn: 1383.4209598\ttotal: 6.27s\tremaining: 7.72s\n",
      "448:\tlearn: 1383.2810333\ttotal: 6.28s\tremaining: 7.71s\n",
      "449:\tlearn: 1383.1167942\ttotal: 6.29s\tremaining: 7.69s\n",
      "450:\tlearn: 1382.8722236\ttotal: 6.31s\tremaining: 7.68s\n",
      "451:\tlearn: 1382.6565568\ttotal: 6.32s\tremaining: 7.66s\n",
      "452:\tlearn: 1382.4780995\ttotal: 6.33s\tremaining: 7.64s\n",
      "453:\tlearn: 1382.3077105\ttotal: 6.35s\tremaining: 7.63s\n",
      "454:\tlearn: 1382.2341521\ttotal: 6.36s\tremaining: 7.62s\n",
      "455:\tlearn: 1382.0918828\ttotal: 6.37s\tremaining: 7.6s\n",
      "456:\tlearn: 1381.9551201\ttotal: 6.39s\tremaining: 7.59s\n",
      "457:\tlearn: 1381.6641845\ttotal: 6.4s\tremaining: 7.57s\n",
      "458:\tlearn: 1381.4609784\ttotal: 6.41s\tremaining: 7.56s\n",
      "459:\tlearn: 1381.1985979\ttotal: 6.43s\tremaining: 7.54s\n",
      "460:\tlearn: 1381.1062371\ttotal: 6.44s\tremaining: 7.53s\n",
      "461:\tlearn: 1381.0261485\ttotal: 6.45s\tremaining: 7.51s\n",
      "462:\tlearn: 1380.8759035\ttotal: 6.47s\tremaining: 7.5s\n",
      "463:\tlearn: 1380.4927279\ttotal: 6.48s\tremaining: 7.49s\n",
      "464:\tlearn: 1380.3349573\ttotal: 6.49s\tremaining: 7.47s\n",
      "465:\tlearn: 1380.2101575\ttotal: 6.51s\tremaining: 7.46s\n",
      "466:\tlearn: 1379.9816487\ttotal: 6.52s\tremaining: 7.44s\n",
      "467:\tlearn: 1379.8979581\ttotal: 6.53s\tremaining: 7.43s\n"
     ]
    },
    {
     "name": "stdout",
     "output_type": "stream",
     "text": [
      "468:\tlearn: 1379.7345267\ttotal: 6.55s\tremaining: 7.42s\n",
      "469:\tlearn: 1379.5700965\ttotal: 6.57s\tremaining: 7.4s\n",
      "470:\tlearn: 1379.4293919\ttotal: 6.58s\tremaining: 7.39s\n",
      "471:\tlearn: 1379.3167232\ttotal: 6.59s\tremaining: 7.37s\n",
      "472:\tlearn: 1379.1502698\ttotal: 6.6s\tremaining: 7.36s\n",
      "473:\tlearn: 1379.0103719\ttotal: 6.62s\tremaining: 7.34s\n",
      "474:\tlearn: 1378.9301365\ttotal: 6.63s\tremaining: 7.33s\n",
      "475:\tlearn: 1378.7641957\ttotal: 6.64s\tremaining: 7.31s\n",
      "476:\tlearn: 1378.5770009\ttotal: 6.66s\tremaining: 7.3s\n",
      "477:\tlearn: 1378.2770817\ttotal: 6.67s\tremaining: 7.28s\n",
      "478:\tlearn: 1378.1427179\ttotal: 6.68s\tremaining: 7.27s\n",
      "479:\tlearn: 1377.7923061\ttotal: 6.7s\tremaining: 7.25s\n",
      "480:\tlearn: 1377.6416421\ttotal: 6.71s\tremaining: 7.24s\n",
      "481:\tlearn: 1377.4576759\ttotal: 6.72s\tremaining: 7.23s\n",
      "482:\tlearn: 1377.3577130\ttotal: 6.74s\tremaining: 7.21s\n",
      "483:\tlearn: 1377.0365071\ttotal: 6.75s\tremaining: 7.2s\n",
      "484:\tlearn: 1376.8420406\ttotal: 6.77s\tremaining: 7.18s\n",
      "485:\tlearn: 1376.5906015\ttotal: 6.78s\tremaining: 7.17s\n",
      "486:\tlearn: 1376.4547820\ttotal: 6.8s\tremaining: 7.16s\n",
      "487:\tlearn: 1376.3099013\ttotal: 6.81s\tremaining: 7.14s\n",
      "488:\tlearn: 1376.1628881\ttotal: 6.82s\tremaining: 7.13s\n",
      "489:\tlearn: 1375.8934834\ttotal: 6.84s\tremaining: 7.12s\n",
      "490:\tlearn: 1375.7517411\ttotal: 6.85s\tremaining: 7.1s\n",
      "491:\tlearn: 1375.5621965\ttotal: 6.86s\tremaining: 7.09s\n",
      "492:\tlearn: 1375.4524812\ttotal: 6.88s\tremaining: 7.07s\n",
      "493:\tlearn: 1375.2934656\ttotal: 6.89s\tremaining: 7.06s\n",
      "494:\tlearn: 1375.1567187\ttotal: 6.91s\tremaining: 7.04s\n",
      "495:\tlearn: 1375.0149609\ttotal: 6.92s\tremaining: 7.03s\n",
      "496:\tlearn: 1374.7522894\ttotal: 6.93s\tremaining: 7.02s\n",
      "497:\tlearn: 1374.6217720\ttotal: 6.95s\tremaining: 7s\n",
      "498:\tlearn: 1374.4621968\ttotal: 6.96s\tremaining: 6.99s\n",
      "499:\tlearn: 1374.3586094\ttotal: 6.98s\tremaining: 6.98s\n",
      "500:\tlearn: 1374.2196624\ttotal: 6.99s\tremaining: 6.96s\n",
      "501:\tlearn: 1374.0176614\ttotal: 7s\tremaining: 6.95s\n",
      "502:\tlearn: 1373.7815936\ttotal: 7.02s\tremaining: 6.93s\n",
      "503:\tlearn: 1373.6685829\ttotal: 7.03s\tremaining: 6.92s\n",
      "504:\tlearn: 1373.5544755\ttotal: 7.04s\tremaining: 6.9s\n",
      "505:\tlearn: 1373.3440301\ttotal: 7.06s\tremaining: 6.89s\n",
      "506:\tlearn: 1373.1600794\ttotal: 7.07s\tremaining: 6.88s\n",
      "507:\tlearn: 1372.8949685\ttotal: 7.08s\tremaining: 6.86s\n",
      "508:\tlearn: 1372.7736388\ttotal: 7.1s\tremaining: 6.85s\n",
      "509:\tlearn: 1372.5919686\ttotal: 7.11s\tremaining: 6.83s\n",
      "510:\tlearn: 1372.2886198\ttotal: 7.12s\tremaining: 6.82s\n",
      "511:\tlearn: 1372.1040227\ttotal: 7.14s\tremaining: 6.81s\n",
      "512:\tlearn: 1371.9434182\ttotal: 7.16s\tremaining: 6.79s\n",
      "513:\tlearn: 1371.7563419\ttotal: 7.17s\tremaining: 6.78s\n",
      "514:\tlearn: 1371.6014631\ttotal: 7.18s\tremaining: 6.76s\n",
      "515:\tlearn: 1371.5347668\ttotal: 7.2s\tremaining: 6.75s\n",
      "516:\tlearn: 1371.3586555\ttotal: 7.21s\tremaining: 6.74s\n",
      "517:\tlearn: 1371.1843450\ttotal: 7.22s\tremaining: 6.72s\n",
      "518:\tlearn: 1371.0982362\ttotal: 7.24s\tremaining: 6.71s\n",
      "519:\tlearn: 1370.9711226\ttotal: 7.25s\tremaining: 6.69s\n",
      "520:\tlearn: 1370.8300180\ttotal: 7.26s\tremaining: 6.68s\n",
      "521:\tlearn: 1370.6784386\ttotal: 7.28s\tremaining: 6.66s\n",
      "522:\tlearn: 1370.5121785\ttotal: 7.29s\tremaining: 6.65s\n",
      "523:\tlearn: 1370.4059073\ttotal: 7.3s\tremaining: 6.63s\n",
      "524:\tlearn: 1370.2564751\ttotal: 7.31s\tremaining: 6.62s\n",
      "525:\tlearn: 1370.1170119\ttotal: 7.33s\tremaining: 6.61s\n",
      "526:\tlearn: 1369.9195152\ttotal: 7.35s\tremaining: 6.59s\n",
      "527:\tlearn: 1369.8167528\ttotal: 7.36s\tremaining: 6.58s\n",
      "528:\tlearn: 1369.6542772\ttotal: 7.37s\tremaining: 6.57s\n",
      "529:\tlearn: 1369.5057927\ttotal: 7.39s\tremaining: 6.55s\n",
      "530:\tlearn: 1369.4392904\ttotal: 7.4s\tremaining: 6.53s\n",
      "531:\tlearn: 1369.2629322\ttotal: 7.41s\tremaining: 6.52s\n",
      "532:\tlearn: 1369.1641576\ttotal: 7.42s\tremaining: 6.5s\n",
      "533:\tlearn: 1369.0026423\ttotal: 7.44s\tremaining: 6.49s\n",
      "534:\tlearn: 1368.8338240\ttotal: 7.45s\tremaining: 6.48s\n",
      "535:\tlearn: 1368.6815486\ttotal: 7.46s\tremaining: 6.46s\n",
      "536:\tlearn: 1368.4125256\ttotal: 7.48s\tremaining: 6.45s\n",
      "537:\tlearn: 1368.2754521\ttotal: 7.49s\tremaining: 6.43s\n",
      "538:\tlearn: 1368.1426418\ttotal: 7.5s\tremaining: 6.42s\n",
      "539:\tlearn: 1368.0284846\ttotal: 7.52s\tremaining: 6.4s\n",
      "540:\tlearn: 1367.8101756\ttotal: 7.53s\tremaining: 6.39s\n",
      "541:\tlearn: 1367.6774447\ttotal: 7.55s\tremaining: 6.38s\n",
      "542:\tlearn: 1367.5316282\ttotal: 7.56s\tremaining: 6.36s\n",
      "543:\tlearn: 1367.3738810\ttotal: 7.57s\tremaining: 6.35s\n",
      "544:\tlearn: 1367.2001293\ttotal: 7.59s\tremaining: 6.33s\n",
      "545:\tlearn: 1367.1089654\ttotal: 7.6s\tremaining: 6.32s\n",
      "546:\tlearn: 1366.9151548\ttotal: 7.61s\tremaining: 6.3s\n",
      "547:\tlearn: 1366.7623267\ttotal: 7.63s\tremaining: 6.29s\n",
      "548:\tlearn: 1366.7053120\ttotal: 7.64s\tremaining: 6.28s\n",
      "549:\tlearn: 1366.4936240\ttotal: 7.65s\tremaining: 6.26s\n",
      "550:\tlearn: 1366.3106357\ttotal: 7.66s\tremaining: 6.25s\n",
      "551:\tlearn: 1366.1835134\ttotal: 7.68s\tremaining: 6.23s\n",
      "552:\tlearn: 1366.0210854\ttotal: 7.69s\tremaining: 6.22s\n",
      "553:\tlearn: 1365.9382627\ttotal: 7.71s\tremaining: 6.2s\n",
      "554:\tlearn: 1365.7608897\ttotal: 7.72s\tremaining: 6.19s\n",
      "555:\tlearn: 1365.4747055\ttotal: 7.74s\tremaining: 6.18s\n",
      "556:\tlearn: 1365.3960931\ttotal: 7.75s\tremaining: 6.16s\n",
      "557:\tlearn: 1365.2520176\ttotal: 7.76s\tremaining: 6.15s\n",
      "558:\tlearn: 1365.1644042\ttotal: 7.78s\tremaining: 6.13s\n",
      "559:\tlearn: 1364.9473691\ttotal: 7.79s\tremaining: 6.12s\n",
      "560:\tlearn: 1364.7367551\ttotal: 7.8s\tremaining: 6.11s\n",
      "561:\tlearn: 1364.6392012\ttotal: 7.82s\tremaining: 6.09s\n",
      "562:\tlearn: 1364.5741079\ttotal: 7.83s\tremaining: 6.08s\n",
      "563:\tlearn: 1364.4620012\ttotal: 7.85s\tremaining: 6.07s\n",
      "564:\tlearn: 1364.3121024\ttotal: 7.86s\tremaining: 6.05s\n",
      "565:\tlearn: 1364.1885410\ttotal: 7.87s\tremaining: 6.04s\n",
      "566:\tlearn: 1364.0825894\ttotal: 7.88s\tremaining: 6.02s\n",
      "567:\tlearn: 1363.9368082\ttotal: 7.9s\tremaining: 6.01s\n",
      "568:\tlearn: 1363.8482896\ttotal: 7.91s\tremaining: 5.99s\n",
      "569:\tlearn: 1363.6815827\ttotal: 7.93s\tremaining: 5.98s\n",
      "570:\tlearn: 1363.5793370\ttotal: 7.95s\tremaining: 5.97s\n",
      "571:\tlearn: 1363.4687214\ttotal: 7.96s\tremaining: 5.96s\n",
      "572:\tlearn: 1363.3799371\ttotal: 7.97s\tremaining: 5.94s\n",
      "573:\tlearn: 1363.2769366\ttotal: 7.99s\tremaining: 5.93s\n",
      "574:\tlearn: 1363.1659427\ttotal: 8s\tremaining: 5.91s\n",
      "575:\tlearn: 1363.0209244\ttotal: 8.01s\tremaining: 5.9s\n",
      "576:\tlearn: 1362.7936531\ttotal: 8.02s\tremaining: 5.88s\n",
      "577:\tlearn: 1362.5685081\ttotal: 8.04s\tremaining: 5.87s\n",
      "578:\tlearn: 1362.4464329\ttotal: 8.05s\tremaining: 5.86s\n",
      "579:\tlearn: 1362.3109386\ttotal: 8.07s\tremaining: 5.84s\n",
      "580:\tlearn: 1362.1975243\ttotal: 8.08s\tremaining: 5.83s\n",
      "581:\tlearn: 1362.0921185\ttotal: 8.1s\tremaining: 5.82s\n",
      "582:\tlearn: 1361.9572639\ttotal: 8.11s\tremaining: 5.8s\n",
      "583:\tlearn: 1361.8394021\ttotal: 8.13s\tremaining: 5.79s\n",
      "584:\tlearn: 1361.7076480\ttotal: 8.14s\tremaining: 5.78s\n",
      "585:\tlearn: 1361.5213516\ttotal: 8.15s\tremaining: 5.76s\n",
      "586:\tlearn: 1361.3815451\ttotal: 8.17s\tremaining: 5.75s\n",
      "587:\tlearn: 1361.2878517\ttotal: 8.18s\tremaining: 5.73s\n",
      "588:\tlearn: 1361.1399142\ttotal: 8.2s\tremaining: 5.72s\n",
      "589:\tlearn: 1361.0254701\ttotal: 8.21s\tremaining: 5.7s\n",
      "590:\tlearn: 1360.9042842\ttotal: 8.22s\tremaining: 5.69s\n",
      "591:\tlearn: 1360.8353615\ttotal: 8.23s\tremaining: 5.67s\n",
      "592:\tlearn: 1360.6573607\ttotal: 8.24s\tremaining: 5.66s\n",
      "593:\tlearn: 1360.4645464\ttotal: 8.26s\tremaining: 5.64s\n",
      "594:\tlearn: 1360.3923416\ttotal: 8.27s\tremaining: 5.63s\n",
      "595:\tlearn: 1360.3158241\ttotal: 8.29s\tremaining: 5.62s\n",
      "596:\tlearn: 1360.2593086\ttotal: 8.3s\tremaining: 5.6s\n",
      "597:\tlearn: 1360.1485719\ttotal: 8.31s\tremaining: 5.59s\n",
      "598:\tlearn: 1360.0555967\ttotal: 8.32s\tremaining: 5.57s\n",
      "599:\tlearn: 1359.9201816\ttotal: 8.34s\tremaining: 5.56s\n",
      "600:\tlearn: 1359.8649524\ttotal: 8.35s\tremaining: 5.54s\n",
      "601:\tlearn: 1359.6832133\ttotal: 8.37s\tremaining: 5.53s\n",
      "602:\tlearn: 1359.4671412\ttotal: 8.38s\tremaining: 5.52s\n",
      "603:\tlearn: 1359.2836650\ttotal: 8.39s\tremaining: 5.5s\n",
      "604:\tlearn: 1359.1660395\ttotal: 8.41s\tremaining: 5.49s\n",
      "605:\tlearn: 1359.0597368\ttotal: 8.42s\tremaining: 5.48s\n",
      "606:\tlearn: 1358.9435076\ttotal: 8.44s\tremaining: 5.46s\n",
      "607:\tlearn: 1358.8325005\ttotal: 8.45s\tremaining: 5.45s\n",
      "608:\tlearn: 1358.6758588\ttotal: 8.46s\tremaining: 5.43s\n",
      "609:\tlearn: 1358.5025732\ttotal: 8.47s\tremaining: 5.42s\n",
      "610:\tlearn: 1358.3892936\ttotal: 8.49s\tremaining: 5.4s\n",
      "611:\tlearn: 1358.2911138\ttotal: 8.5s\tremaining: 5.39s\n",
      "612:\tlearn: 1358.1269102\ttotal: 8.51s\tremaining: 5.37s\n",
      "613:\tlearn: 1358.0097514\ttotal: 8.53s\tremaining: 5.36s\n",
      "614:\tlearn: 1357.9067077\ttotal: 8.54s\tremaining: 5.35s\n",
      "615:\tlearn: 1357.7830134\ttotal: 8.55s\tremaining: 5.33s\n",
      "616:\tlearn: 1357.6253693\ttotal: 8.57s\tremaining: 5.32s\n",
      "617:\tlearn: 1357.4716696\ttotal: 8.58s\tremaining: 5.3s\n",
      "618:\tlearn: 1357.3070265\ttotal: 8.6s\tremaining: 5.29s\n",
      "619:\tlearn: 1357.2401225\ttotal: 8.61s\tremaining: 5.28s\n",
      "620:\tlearn: 1357.0815792\ttotal: 8.62s\tremaining: 5.26s\n",
      "621:\tlearn: 1357.0235651\ttotal: 8.63s\tremaining: 5.25s\n",
      "622:\tlearn: 1356.8459369\ttotal: 8.64s\tremaining: 5.23s\n",
      "623:\tlearn: 1356.6945561\ttotal: 8.66s\tremaining: 5.22s\n",
      "624:\tlearn: 1356.6419792\ttotal: 8.67s\tremaining: 5.2s\n",
      "625:\tlearn: 1356.4803842\ttotal: 8.68s\tremaining: 5.19s\n",
      "626:\tlearn: 1356.3630693\ttotal: 8.7s\tremaining: 5.17s\n",
      "627:\tlearn: 1356.2792918\ttotal: 8.71s\tremaining: 5.16s\n",
      "628:\tlearn: 1356.1879587\ttotal: 8.72s\tremaining: 5.14s\n"
     ]
    },
    {
     "name": "stdout",
     "output_type": "stream",
     "text": [
      "629:\tlearn: 1355.9954050\ttotal: 8.74s\tremaining: 5.13s\n",
      "630:\tlearn: 1355.8071121\ttotal: 8.75s\tremaining: 5.12s\n",
      "631:\tlearn: 1355.7126264\ttotal: 8.77s\tremaining: 5.1s\n",
      "632:\tlearn: 1355.6191649\ttotal: 8.78s\tremaining: 5.09s\n",
      "633:\tlearn: 1355.4521630\ttotal: 8.79s\tremaining: 5.08s\n",
      "634:\tlearn: 1355.2395328\ttotal: 8.81s\tremaining: 5.06s\n",
      "635:\tlearn: 1355.0656250\ttotal: 8.82s\tremaining: 5.05s\n",
      "636:\tlearn: 1354.9593115\ttotal: 8.83s\tremaining: 5.03s\n",
      "637:\tlearn: 1354.7534070\ttotal: 8.85s\tremaining: 5.02s\n",
      "638:\tlearn: 1354.6201947\ttotal: 8.86s\tremaining: 5.01s\n",
      "639:\tlearn: 1354.5568312\ttotal: 8.88s\tremaining: 4.99s\n",
      "640:\tlearn: 1354.4072662\ttotal: 8.89s\tremaining: 4.98s\n",
      "641:\tlearn: 1354.1893043\ttotal: 8.9s\tremaining: 4.96s\n",
      "642:\tlearn: 1354.0265826\ttotal: 8.92s\tremaining: 4.95s\n",
      "643:\tlearn: 1353.9352684\ttotal: 8.93s\tremaining: 4.94s\n",
      "644:\tlearn: 1353.8381348\ttotal: 8.94s\tremaining: 4.92s\n",
      "645:\tlearn: 1353.7305674\ttotal: 8.96s\tremaining: 4.91s\n",
      "646:\tlearn: 1353.6309482\ttotal: 8.97s\tremaining: 4.89s\n",
      "647:\tlearn: 1353.4835813\ttotal: 8.98s\tremaining: 4.88s\n",
      "648:\tlearn: 1353.3690808\ttotal: 9s\tremaining: 4.87s\n",
      "649:\tlearn: 1353.2840499\ttotal: 9.01s\tremaining: 4.85s\n",
      "650:\tlearn: 1353.1492113\ttotal: 9.03s\tremaining: 4.84s\n",
      "651:\tlearn: 1352.9797850\ttotal: 9.04s\tremaining: 4.83s\n",
      "652:\tlearn: 1352.9064423\ttotal: 9.05s\tremaining: 4.81s\n",
      "653:\tlearn: 1352.8147564\ttotal: 9.07s\tremaining: 4.8s\n",
      "654:\tlearn: 1352.7656835\ttotal: 9.08s\tremaining: 4.78s\n",
      "655:\tlearn: 1352.5957809\ttotal: 9.09s\tremaining: 4.77s\n",
      "656:\tlearn: 1352.3952234\ttotal: 9.11s\tremaining: 4.75s\n",
      "657:\tlearn: 1352.3283193\ttotal: 9.12s\tremaining: 4.74s\n",
      "658:\tlearn: 1352.2001045\ttotal: 9.14s\tremaining: 4.73s\n",
      "659:\tlearn: 1352.0246266\ttotal: 9.15s\tremaining: 4.71s\n",
      "660:\tlearn: 1351.9483983\ttotal: 9.17s\tremaining: 4.7s\n",
      "661:\tlearn: 1351.8463716\ttotal: 9.18s\tremaining: 4.69s\n",
      "662:\tlearn: 1351.7540216\ttotal: 9.19s\tremaining: 4.67s\n",
      "663:\tlearn: 1351.6762990\ttotal: 9.2s\tremaining: 4.66s\n",
      "664:\tlearn: 1351.4111142\ttotal: 9.22s\tremaining: 4.64s\n",
      "665:\tlearn: 1351.2202952\ttotal: 9.23s\tremaining: 4.63s\n",
      "666:\tlearn: 1351.1466387\ttotal: 9.24s\tremaining: 4.61s\n",
      "667:\tlearn: 1350.9838469\ttotal: 9.26s\tremaining: 4.6s\n",
      "668:\tlearn: 1350.9018296\ttotal: 9.27s\tremaining: 4.59s\n",
      "669:\tlearn: 1350.7473266\ttotal: 9.29s\tremaining: 4.58s\n",
      "670:\tlearn: 1350.6410906\ttotal: 9.31s\tremaining: 4.56s\n",
      "671:\tlearn: 1350.5419602\ttotal: 9.32s\tremaining: 4.55s\n",
      "672:\tlearn: 1350.3239595\ttotal: 9.35s\tremaining: 4.54s\n",
      "673:\tlearn: 1350.2546478\ttotal: 9.36s\tremaining: 4.53s\n",
      "674:\tlearn: 1350.1923405\ttotal: 9.37s\tremaining: 4.51s\n",
      "675:\tlearn: 1350.1194142\ttotal: 9.39s\tremaining: 4.5s\n",
      "676:\tlearn: 1349.9693410\ttotal: 9.41s\tremaining: 4.49s\n",
      "677:\tlearn: 1349.8905474\ttotal: 9.42s\tremaining: 4.47s\n",
      "678:\tlearn: 1349.7912584\ttotal: 9.44s\tremaining: 4.46s\n",
      "679:\tlearn: 1349.6348002\ttotal: 9.45s\tremaining: 4.45s\n",
      "680:\tlearn: 1349.5297510\ttotal: 9.47s\tremaining: 4.43s\n",
      "681:\tlearn: 1349.3804453\ttotal: 9.48s\tremaining: 4.42s\n",
      "682:\tlearn: 1349.2434593\ttotal: 9.5s\tremaining: 4.41s\n",
      "683:\tlearn: 1349.1470352\ttotal: 9.52s\tremaining: 4.4s\n",
      "684:\tlearn: 1349.0477795\ttotal: 9.53s\tremaining: 4.38s\n",
      "685:\tlearn: 1349.0054864\ttotal: 9.55s\tremaining: 4.37s\n",
      "686:\tlearn: 1348.8558007\ttotal: 9.57s\tremaining: 4.36s\n",
      "687:\tlearn: 1348.7664453\ttotal: 9.59s\tremaining: 4.35s\n",
      "688:\tlearn: 1348.7252791\ttotal: 9.6s\tremaining: 4.33s\n",
      "689:\tlearn: 1348.6572565\ttotal: 9.61s\tremaining: 4.32s\n",
      "690:\tlearn: 1348.6030122\ttotal: 9.63s\tremaining: 4.3s\n",
      "691:\tlearn: 1348.5235625\ttotal: 9.64s\tremaining: 4.29s\n",
      "692:\tlearn: 1348.4366116\ttotal: 9.66s\tremaining: 4.28s\n",
      "693:\tlearn: 1348.3081039\ttotal: 9.68s\tremaining: 4.27s\n",
      "694:\tlearn: 1348.2070873\ttotal: 9.7s\tremaining: 4.25s\n",
      "695:\tlearn: 1348.0348162\ttotal: 9.71s\tremaining: 4.24s\n",
      "696:\tlearn: 1347.9251861\ttotal: 9.73s\tremaining: 4.23s\n",
      "697:\tlearn: 1347.8488274\ttotal: 9.75s\tremaining: 4.22s\n",
      "698:\tlearn: 1347.7368395\ttotal: 9.77s\tremaining: 4.21s\n",
      "699:\tlearn: 1347.6331878\ttotal: 9.79s\tremaining: 4.2s\n",
      "700:\tlearn: 1347.5403683\ttotal: 9.81s\tremaining: 4.18s\n",
      "701:\tlearn: 1347.4621898\ttotal: 9.83s\tremaining: 4.17s\n",
      "702:\tlearn: 1347.2529345\ttotal: 9.85s\tremaining: 4.16s\n",
      "703:\tlearn: 1347.1161671\ttotal: 9.87s\tremaining: 4.15s\n",
      "704:\tlearn: 1346.9603133\ttotal: 9.88s\tremaining: 4.14s\n",
      "705:\tlearn: 1346.8283614\ttotal: 9.9s\tremaining: 4.12s\n",
      "706:\tlearn: 1346.7364265\ttotal: 9.92s\tremaining: 4.11s\n",
      "707:\tlearn: 1346.5795561\ttotal: 9.94s\tremaining: 4.1s\n",
      "708:\tlearn: 1346.5167716\ttotal: 9.96s\tremaining: 4.09s\n",
      "709:\tlearn: 1346.4132810\ttotal: 9.98s\tremaining: 4.08s\n",
      "710:\tlearn: 1346.2582292\ttotal: 10s\tremaining: 4.06s\n",
      "711:\tlearn: 1346.1745745\ttotal: 10s\tremaining: 4.05s\n",
      "712:\tlearn: 1346.0212366\ttotal: 10s\tremaining: 4.04s\n",
      "713:\tlearn: 1345.9266236\ttotal: 10.1s\tremaining: 4.03s\n",
      "714:\tlearn: 1345.8928628\ttotal: 10.1s\tremaining: 4.01s\n",
      "715:\tlearn: 1345.7652517\ttotal: 10.1s\tremaining: 4s\n",
      "716:\tlearn: 1345.6634761\ttotal: 10.1s\tremaining: 3.99s\n",
      "717:\tlearn: 1345.5904305\ttotal: 10.1s\tremaining: 3.98s\n",
      "718:\tlearn: 1345.4800654\ttotal: 10.1s\tremaining: 3.96s\n",
      "719:\tlearn: 1345.4024291\ttotal: 10.2s\tremaining: 3.95s\n",
      "720:\tlearn: 1345.3106760\ttotal: 10.2s\tremaining: 3.94s\n",
      "721:\tlearn: 1345.2782745\ttotal: 10.2s\tremaining: 3.93s\n",
      "722:\tlearn: 1345.1055716\ttotal: 10.2s\tremaining: 3.91s\n",
      "723:\tlearn: 1345.0584953\ttotal: 10.2s\tremaining: 3.9s\n",
      "724:\tlearn: 1345.0082295\ttotal: 10.3s\tremaining: 3.89s\n",
      "725:\tlearn: 1344.8858672\ttotal: 10.3s\tremaining: 3.88s\n",
      "726:\tlearn: 1344.7575317\ttotal: 10.3s\tremaining: 3.86s\n",
      "727:\tlearn: 1344.7108520\ttotal: 10.3s\tremaining: 3.85s\n",
      "728:\tlearn: 1344.6330393\ttotal: 10.3s\tremaining: 3.83s\n",
      "729:\tlearn: 1344.5840697\ttotal: 10.3s\tremaining: 3.82s\n",
      "730:\tlearn: 1344.4204357\ttotal: 10.4s\tremaining: 3.81s\n",
      "731:\tlearn: 1344.3195659\ttotal: 10.4s\tremaining: 3.8s\n",
      "732:\tlearn: 1344.2281030\ttotal: 10.4s\tremaining: 3.79s\n",
      "733:\tlearn: 1344.0834677\ttotal: 10.4s\tremaining: 3.77s\n",
      "734:\tlearn: 1343.9847836\ttotal: 10.4s\tremaining: 3.76s\n",
      "735:\tlearn: 1343.8664808\ttotal: 10.5s\tremaining: 3.75s\n",
      "736:\tlearn: 1343.6709700\ttotal: 10.5s\tremaining: 3.74s\n",
      "737:\tlearn: 1343.5475206\ttotal: 10.5s\tremaining: 3.72s\n",
      "738:\tlearn: 1343.3952813\ttotal: 10.5s\tremaining: 3.71s\n",
      "739:\tlearn: 1343.1250677\ttotal: 10.5s\tremaining: 3.7s\n",
      "740:\tlearn: 1343.0524165\ttotal: 10.5s\tremaining: 3.69s\n",
      "741:\tlearn: 1342.9323793\ttotal: 10.6s\tremaining: 3.67s\n",
      "742:\tlearn: 1342.7875890\ttotal: 10.6s\tremaining: 3.66s\n",
      "743:\tlearn: 1342.7140020\ttotal: 10.6s\tremaining: 3.65s\n",
      "744:\tlearn: 1342.5798544\ttotal: 10.6s\tremaining: 3.64s\n",
      "745:\tlearn: 1342.5180808\ttotal: 10.6s\tremaining: 3.62s\n",
      "746:\tlearn: 1342.4112316\ttotal: 10.7s\tremaining: 3.61s\n",
      "747:\tlearn: 1342.3311788\ttotal: 10.7s\tremaining: 3.6s\n",
      "748:\tlearn: 1342.2046258\ttotal: 10.7s\tremaining: 3.58s\n",
      "749:\tlearn: 1342.0034822\ttotal: 10.7s\tremaining: 3.57s\n",
      "750:\tlearn: 1341.8702707\ttotal: 10.7s\tremaining: 3.56s\n",
      "751:\tlearn: 1341.7978847\ttotal: 10.8s\tremaining: 3.54s\n",
      "752:\tlearn: 1341.6741281\ttotal: 10.8s\tremaining: 3.53s\n",
      "753:\tlearn: 1341.6089986\ttotal: 10.8s\tremaining: 3.52s\n",
      "754:\tlearn: 1341.4988639\ttotal: 10.8s\tremaining: 3.51s\n",
      "755:\tlearn: 1341.3384883\ttotal: 10.8s\tremaining: 3.5s\n",
      "756:\tlearn: 1341.2461708\ttotal: 10.9s\tremaining: 3.48s\n",
      "757:\tlearn: 1341.1208669\ttotal: 10.9s\tremaining: 3.47s\n",
      "758:\tlearn: 1341.0093315\ttotal: 10.9s\tremaining: 3.46s\n",
      "759:\tlearn: 1340.8754007\ttotal: 10.9s\tremaining: 3.45s\n",
      "760:\tlearn: 1340.7776667\ttotal: 10.9s\tremaining: 3.43s\n",
      "761:\tlearn: 1340.6391856\ttotal: 10.9s\tremaining: 3.42s\n",
      "762:\tlearn: 1340.4977223\ttotal: 11s\tremaining: 3.41s\n",
      "763:\tlearn: 1340.4267025\ttotal: 11s\tremaining: 3.39s\n",
      "764:\tlearn: 1340.3096561\ttotal: 11s\tremaining: 3.38s\n",
      "765:\tlearn: 1340.2065751\ttotal: 11s\tremaining: 3.37s\n",
      "766:\tlearn: 1340.1032375\ttotal: 11s\tremaining: 3.35s\n",
      "767:\tlearn: 1340.0286361\ttotal: 11.1s\tremaining: 3.34s\n",
      "768:\tlearn: 1339.9464963\ttotal: 11.1s\tremaining: 3.33s\n",
      "769:\tlearn: 1339.8414664\ttotal: 11.1s\tremaining: 3.31s\n",
      "770:\tlearn: 1339.7296919\ttotal: 11.1s\tremaining: 3.3s\n",
      "771:\tlearn: 1339.6771398\ttotal: 11.1s\tremaining: 3.29s\n",
      "772:\tlearn: 1339.5540157\ttotal: 11.1s\tremaining: 3.27s\n",
      "773:\tlearn: 1339.4896554\ttotal: 11.2s\tremaining: 3.26s\n",
      "774:\tlearn: 1339.3947850\ttotal: 11.2s\tremaining: 3.25s\n",
      "775:\tlearn: 1339.3038701\ttotal: 11.2s\tremaining: 3.23s\n",
      "776:\tlearn: 1339.1538043\ttotal: 11.2s\tremaining: 3.22s\n",
      "777:\tlearn: 1339.0296662\ttotal: 11.2s\tremaining: 3.21s\n",
      "778:\tlearn: 1338.8395479\ttotal: 11.3s\tremaining: 3.19s\n",
      "779:\tlearn: 1338.7241033\ttotal: 11.3s\tremaining: 3.18s\n",
      "780:\tlearn: 1338.6510832\ttotal: 11.3s\tremaining: 3.17s\n",
      "781:\tlearn: 1338.5898443\ttotal: 11.3s\tremaining: 3.15s\n",
      "782:\tlearn: 1338.4016451\ttotal: 11.3s\tremaining: 3.14s\n",
      "783:\tlearn: 1338.3025629\ttotal: 11.4s\tremaining: 3.13s\n",
      "784:\tlearn: 1338.2141219\ttotal: 11.4s\tremaining: 3.11s\n",
      "785:\tlearn: 1338.1507786\ttotal: 11.4s\tremaining: 3.1s\n",
      "786:\tlearn: 1337.9852941\ttotal: 11.4s\tremaining: 3.09s\n",
      "787:\tlearn: 1337.8568172\ttotal: 11.4s\tremaining: 3.07s\n",
      "788:\tlearn: 1337.7753975\ttotal: 11.4s\tremaining: 3.06s\n"
     ]
    },
    {
     "name": "stdout",
     "output_type": "stream",
     "text": [
      "789:\tlearn: 1337.6643665\ttotal: 11.5s\tremaining: 3.05s\n",
      "790:\tlearn: 1337.5580017\ttotal: 11.5s\tremaining: 3.03s\n",
      "791:\tlearn: 1337.4254814\ttotal: 11.5s\tremaining: 3.02s\n",
      "792:\tlearn: 1337.2625165\ttotal: 11.5s\tremaining: 3.01s\n",
      "793:\tlearn: 1337.1826656\ttotal: 11.5s\tremaining: 2.99s\n",
      "794:\tlearn: 1337.0905528\ttotal: 11.6s\tremaining: 2.98s\n",
      "795:\tlearn: 1336.9933868\ttotal: 11.6s\tremaining: 2.96s\n",
      "796:\tlearn: 1336.8938153\ttotal: 11.6s\tremaining: 2.95s\n",
      "797:\tlearn: 1336.8170008\ttotal: 11.6s\tremaining: 2.94s\n",
      "798:\tlearn: 1336.7439151\ttotal: 11.6s\tremaining: 2.92s\n",
      "799:\tlearn: 1336.6384392\ttotal: 11.6s\tremaining: 2.91s\n",
      "800:\tlearn: 1336.5780661\ttotal: 11.7s\tremaining: 2.9s\n",
      "801:\tlearn: 1336.4484455\ttotal: 11.7s\tremaining: 2.88s\n",
      "802:\tlearn: 1336.3695267\ttotal: 11.7s\tremaining: 2.87s\n",
      "803:\tlearn: 1336.2496225\ttotal: 11.7s\tremaining: 2.85s\n",
      "804:\tlearn: 1336.1831926\ttotal: 11.7s\tremaining: 2.84s\n",
      "805:\tlearn: 1336.0519080\ttotal: 11.7s\tremaining: 2.83s\n",
      "806:\tlearn: 1335.9317385\ttotal: 11.8s\tremaining: 2.81s\n",
      "807:\tlearn: 1335.8456057\ttotal: 11.8s\tremaining: 2.8s\n",
      "808:\tlearn: 1335.6799654\ttotal: 11.8s\tremaining: 2.78s\n",
      "809:\tlearn: 1335.6100306\ttotal: 11.8s\tremaining: 2.77s\n",
      "810:\tlearn: 1335.4970089\ttotal: 11.8s\tremaining: 2.75s\n",
      "811:\tlearn: 1335.3431767\ttotal: 11.8s\tremaining: 2.74s\n",
      "812:\tlearn: 1335.2864013\ttotal: 11.9s\tremaining: 2.73s\n",
      "813:\tlearn: 1335.2062771\ttotal: 11.9s\tremaining: 2.71s\n",
      "814:\tlearn: 1335.0518195\ttotal: 11.9s\tremaining: 2.7s\n",
      "815:\tlearn: 1334.9851327\ttotal: 11.9s\tremaining: 2.69s\n",
      "816:\tlearn: 1334.9560899\ttotal: 11.9s\tremaining: 2.67s\n",
      "817:\tlearn: 1334.8152019\ttotal: 11.9s\tremaining: 2.66s\n",
      "818:\tlearn: 1334.7548223\ttotal: 12s\tremaining: 2.64s\n",
      "819:\tlearn: 1334.6417875\ttotal: 12s\tremaining: 2.63s\n",
      "820:\tlearn: 1334.5711331\ttotal: 12s\tremaining: 2.62s\n",
      "821:\tlearn: 1334.5139578\ttotal: 12s\tremaining: 2.6s\n",
      "822:\tlearn: 1334.4631390\ttotal: 12s\tremaining: 2.59s\n",
      "823:\tlearn: 1334.3833015\ttotal: 12s\tremaining: 2.57s\n",
      "824:\tlearn: 1334.2814636\ttotal: 12.1s\tremaining: 2.56s\n",
      "825:\tlearn: 1334.1952058\ttotal: 12.1s\tremaining: 2.54s\n",
      "826:\tlearn: 1334.1327936\ttotal: 12.1s\tremaining: 2.53s\n",
      "827:\tlearn: 1334.0674939\ttotal: 12.1s\tremaining: 2.52s\n",
      "828:\tlearn: 1333.9123494\ttotal: 12.1s\tremaining: 2.5s\n",
      "829:\tlearn: 1333.8362979\ttotal: 12.1s\tremaining: 2.49s\n",
      "830:\tlearn: 1333.7537362\ttotal: 12.2s\tremaining: 2.47s\n",
      "831:\tlearn: 1333.6292472\ttotal: 12.2s\tremaining: 2.46s\n",
      "832:\tlearn: 1333.4817340\ttotal: 12.2s\tremaining: 2.44s\n",
      "833:\tlearn: 1333.3972503\ttotal: 12.2s\tremaining: 2.43s\n",
      "834:\tlearn: 1333.3323243\ttotal: 12.2s\tremaining: 2.42s\n",
      "835:\tlearn: 1333.2508222\ttotal: 12.2s\tremaining: 2.4s\n",
      "836:\tlearn: 1333.1932924\ttotal: 12.3s\tremaining: 2.39s\n",
      "837:\tlearn: 1333.1271873\ttotal: 12.3s\tremaining: 2.37s\n",
      "838:\tlearn: 1333.0576199\ttotal: 12.3s\tremaining: 2.36s\n",
      "839:\tlearn: 1332.9236121\ttotal: 12.3s\tremaining: 2.35s\n",
      "840:\tlearn: 1332.8197813\ttotal: 12.3s\tremaining: 2.33s\n",
      "841:\tlearn: 1332.7118484\ttotal: 12.4s\tremaining: 2.32s\n",
      "842:\tlearn: 1332.6081848\ttotal: 12.4s\tremaining: 2.3s\n",
      "843:\tlearn: 1332.5348973\ttotal: 12.4s\tremaining: 2.29s\n",
      "844:\tlearn: 1332.4335709\ttotal: 12.4s\tremaining: 2.27s\n",
      "845:\tlearn: 1332.3390142\ttotal: 12.4s\tremaining: 2.26s\n",
      "846:\tlearn: 1332.2512565\ttotal: 12.4s\tremaining: 2.25s\n",
      "847:\tlearn: 1332.1946866\ttotal: 12.5s\tremaining: 2.23s\n",
      "848:\tlearn: 1332.1060921\ttotal: 12.5s\tremaining: 2.22s\n",
      "849:\tlearn: 1331.9536524\ttotal: 12.5s\tremaining: 2.2s\n",
      "850:\tlearn: 1331.8854349\ttotal: 12.5s\tremaining: 2.19s\n",
      "851:\tlearn: 1331.8477666\ttotal: 12.5s\tremaining: 2.17s\n",
      "852:\tlearn: 1331.7710516\ttotal: 12.5s\tremaining: 2.16s\n",
      "853:\tlearn: 1331.6607778\ttotal: 12.6s\tremaining: 2.15s\n",
      "854:\tlearn: 1331.5666883\ttotal: 12.6s\tremaining: 2.13s\n",
      "855:\tlearn: 1331.4803453\ttotal: 12.6s\tremaining: 2.12s\n",
      "856:\tlearn: 1331.3985125\ttotal: 12.6s\tremaining: 2.1s\n",
      "857:\tlearn: 1331.2992881\ttotal: 12.6s\tremaining: 2.09s\n",
      "858:\tlearn: 1331.1586053\ttotal: 12.7s\tremaining: 2.08s\n",
      "859:\tlearn: 1331.1095437\ttotal: 12.7s\tremaining: 2.06s\n",
      "860:\tlearn: 1331.0550321\ttotal: 12.7s\tremaining: 2.05s\n",
      "861:\tlearn: 1330.9731627\ttotal: 12.7s\tremaining: 2.03s\n",
      "862:\tlearn: 1330.8836124\ttotal: 12.7s\tremaining: 2.02s\n",
      "863:\tlearn: 1330.8017915\ttotal: 12.7s\tremaining: 2s\n",
      "864:\tlearn: 1330.6924043\ttotal: 12.8s\tremaining: 1.99s\n",
      "865:\tlearn: 1330.6391534\ttotal: 12.8s\tremaining: 1.98s\n",
      "866:\tlearn: 1330.5380634\ttotal: 12.8s\tremaining: 1.96s\n",
      "867:\tlearn: 1330.4741494\ttotal: 12.8s\tremaining: 1.95s\n",
      "868:\tlearn: 1330.3910441\ttotal: 12.8s\tremaining: 1.93s\n",
      "869:\tlearn: 1330.3153508\ttotal: 12.8s\tremaining: 1.92s\n",
      "870:\tlearn: 1330.2544435\ttotal: 12.9s\tremaining: 1.9s\n",
      "871:\tlearn: 1330.1809213\ttotal: 12.9s\tremaining: 1.89s\n",
      "872:\tlearn: 1330.0178236\ttotal: 12.9s\tremaining: 1.88s\n",
      "873:\tlearn: 1329.9575732\ttotal: 12.9s\tremaining: 1.86s\n",
      "874:\tlearn: 1329.8432172\ttotal: 12.9s\tremaining: 1.85s\n",
      "875:\tlearn: 1329.7418247\ttotal: 12.9s\tremaining: 1.83s\n",
      "876:\tlearn: 1329.6440036\ttotal: 13s\tremaining: 1.82s\n",
      "877:\tlearn: 1329.5805443\ttotal: 13s\tremaining: 1.8s\n",
      "878:\tlearn: 1329.5076712\ttotal: 13s\tremaining: 1.79s\n",
      "879:\tlearn: 1329.4055353\ttotal: 13s\tremaining: 1.77s\n",
      "880:\tlearn: 1329.2962554\ttotal: 13s\tremaining: 1.76s\n",
      "881:\tlearn: 1329.2278661\ttotal: 13s\tremaining: 1.75s\n",
      "882:\tlearn: 1329.1529776\ttotal: 13.1s\tremaining: 1.73s\n",
      "883:\tlearn: 1329.0831350\ttotal: 13.1s\tremaining: 1.72s\n",
      "884:\tlearn: 1329.0229314\ttotal: 13.1s\tremaining: 1.7s\n",
      "885:\tlearn: 1328.9832194\ttotal: 13.1s\tremaining: 1.69s\n",
      "886:\tlearn: 1328.8862263\ttotal: 13.1s\tremaining: 1.67s\n",
      "887:\tlearn: 1328.8177006\ttotal: 13.2s\tremaining: 1.66s\n",
      "888:\tlearn: 1328.7190646\ttotal: 13.2s\tremaining: 1.64s\n",
      "889:\tlearn: 1328.6518740\ttotal: 13.2s\tremaining: 1.63s\n",
      "890:\tlearn: 1328.5671587\ttotal: 13.2s\tremaining: 1.61s\n",
      "891:\tlearn: 1328.4911045\ttotal: 13.2s\tremaining: 1.6s\n",
      "892:\tlearn: 1328.4102871\ttotal: 13.2s\tremaining: 1.59s\n",
      "893:\tlearn: 1328.3522608\ttotal: 13.3s\tremaining: 1.57s\n",
      "894:\tlearn: 1328.3048712\ttotal: 13.3s\tremaining: 1.56s\n",
      "895:\tlearn: 1328.2491610\ttotal: 13.3s\tremaining: 1.54s\n",
      "896:\tlearn: 1328.1768102\ttotal: 13.3s\tremaining: 1.53s\n",
      "897:\tlearn: 1328.0420802\ttotal: 13.3s\tremaining: 1.51s\n",
      "898:\tlearn: 1327.9706199\ttotal: 13.3s\tremaining: 1.5s\n",
      "899:\tlearn: 1327.9096669\ttotal: 13.4s\tremaining: 1.48s\n",
      "900:\tlearn: 1327.8523245\ttotal: 13.4s\tremaining: 1.47s\n",
      "901:\tlearn: 1327.7800516\ttotal: 13.4s\tremaining: 1.46s\n",
      "902:\tlearn: 1327.6818029\ttotal: 13.4s\tremaining: 1.44s\n",
      "903:\tlearn: 1327.5942155\ttotal: 13.4s\tremaining: 1.43s\n",
      "904:\tlearn: 1327.5099138\ttotal: 13.4s\tremaining: 1.41s\n",
      "905:\tlearn: 1327.3684023\ttotal: 13.5s\tremaining: 1.4s\n",
      "906:\tlearn: 1327.2919498\ttotal: 13.5s\tremaining: 1.38s\n",
      "907:\tlearn: 1327.2217675\ttotal: 13.5s\tremaining: 1.37s\n",
      "908:\tlearn: 1327.1106289\ttotal: 13.5s\tremaining: 1.35s\n",
      "909:\tlearn: 1327.0368533\ttotal: 13.5s\tremaining: 1.34s\n",
      "910:\tlearn: 1326.9441585\ttotal: 13.5s\tremaining: 1.32s\n",
      "911:\tlearn: 1326.8776784\ttotal: 13.6s\tremaining: 1.31s\n",
      "912:\tlearn: 1326.7464594\ttotal: 13.6s\tremaining: 1.29s\n",
      "913:\tlearn: 1326.6744597\ttotal: 13.6s\tremaining: 1.28s\n",
      "914:\tlearn: 1326.6178080\ttotal: 13.6s\tremaining: 1.26s\n",
      "915:\tlearn: 1326.5521537\ttotal: 13.6s\tremaining: 1.25s\n",
      "916:\tlearn: 1326.3409234\ttotal: 13.6s\tremaining: 1.23s\n",
      "917:\tlearn: 1326.2740672\ttotal: 13.7s\tremaining: 1.22s\n",
      "918:\tlearn: 1326.1599056\ttotal: 13.7s\tremaining: 1.21s\n",
      "919:\tlearn: 1326.1138873\ttotal: 13.7s\tremaining: 1.19s\n",
      "920:\tlearn: 1325.9834847\ttotal: 13.7s\tremaining: 1.18s\n",
      "921:\tlearn: 1325.8695576\ttotal: 13.7s\tremaining: 1.16s\n",
      "922:\tlearn: 1325.7936454\ttotal: 13.7s\tremaining: 1.15s\n",
      "923:\tlearn: 1325.7466389\ttotal: 13.8s\tremaining: 1.13s\n",
      "924:\tlearn: 1325.6815350\ttotal: 13.8s\tremaining: 1.12s\n",
      "925:\tlearn: 1325.5542053\ttotal: 13.8s\tremaining: 1.1s\n",
      "926:\tlearn: 1325.5112390\ttotal: 13.8s\tremaining: 1.09s\n",
      "927:\tlearn: 1325.3910050\ttotal: 13.8s\tremaining: 1.07s\n",
      "928:\tlearn: 1325.2940204\ttotal: 13.8s\tremaining: 1.06s\n",
      "929:\tlearn: 1325.2560524\ttotal: 13.9s\tremaining: 1.04s\n",
      "930:\tlearn: 1325.1835829\ttotal: 13.9s\tremaining: 1.03s\n",
      "931:\tlearn: 1325.0864910\ttotal: 13.9s\tremaining: 1.01s\n",
      "932:\tlearn: 1325.0159371\ttotal: 13.9s\tremaining: 999ms\n",
      "933:\tlearn: 1324.9561632\ttotal: 13.9s\tremaining: 984ms\n",
      "934:\tlearn: 1324.9099703\ttotal: 13.9s\tremaining: 970ms\n",
      "935:\tlearn: 1324.7566014\ttotal: 14s\tremaining: 955ms\n",
      "936:\tlearn: 1324.6633342\ttotal: 14s\tremaining: 940ms\n",
      "937:\tlearn: 1324.5922225\ttotal: 14s\tremaining: 925ms\n",
      "938:\tlearn: 1324.4931957\ttotal: 14s\tremaining: 910ms\n",
      "939:\tlearn: 1324.3748492\ttotal: 14s\tremaining: 896ms\n",
      "940:\tlearn: 1324.3174631\ttotal: 14s\tremaining: 881ms\n",
      "941:\tlearn: 1324.2581744\ttotal: 14.1s\tremaining: 866ms\n",
      "942:\tlearn: 1324.1437830\ttotal: 14.1s\tremaining: 851ms\n",
      "943:\tlearn: 1324.0713451\ttotal: 14.1s\tremaining: 836ms\n"
     ]
    },
    {
     "name": "stdout",
     "output_type": "stream",
     "text": [
      "944:\tlearn: 1323.9194364\ttotal: 14.1s\tremaining: 822ms\n",
      "945:\tlearn: 1323.8086983\ttotal: 14.1s\tremaining: 807ms\n",
      "946:\tlearn: 1323.7830218\ttotal: 14.2s\tremaining: 792ms\n",
      "947:\tlearn: 1323.7098802\ttotal: 14.2s\tremaining: 777ms\n",
      "948:\tlearn: 1323.6609583\ttotal: 14.2s\tremaining: 762ms\n",
      "949:\tlearn: 1323.5943404\ttotal: 14.2s\tremaining: 747ms\n",
      "950:\tlearn: 1323.4768632\ttotal: 14.2s\tremaining: 732ms\n",
      "951:\tlearn: 1323.3808000\ttotal: 14.2s\tremaining: 718ms\n",
      "952:\tlearn: 1323.2716395\ttotal: 14.2s\tremaining: 703ms\n",
      "953:\tlearn: 1323.1545738\ttotal: 14.3s\tremaining: 688ms\n",
      "954:\tlearn: 1322.9738824\ttotal: 14.3s\tremaining: 673ms\n",
      "955:\tlearn: 1322.9135093\ttotal: 14.3s\tremaining: 658ms\n",
      "956:\tlearn: 1322.8753141\ttotal: 14.3s\tremaining: 643ms\n",
      "957:\tlearn: 1322.7986095\ttotal: 14.3s\tremaining: 628ms\n",
      "958:\tlearn: 1322.7478868\ttotal: 14.4s\tremaining: 614ms\n",
      "959:\tlearn: 1322.6084838\ttotal: 14.4s\tremaining: 599ms\n",
      "960:\tlearn: 1322.5530049\ttotal: 14.4s\tremaining: 584ms\n",
      "961:\tlearn: 1322.4981532\ttotal: 14.4s\tremaining: 569ms\n",
      "962:\tlearn: 1322.4524352\ttotal: 14.4s\tremaining: 554ms\n",
      "963:\tlearn: 1322.2662693\ttotal: 14.4s\tremaining: 539ms\n",
      "964:\tlearn: 1322.1992252\ttotal: 14.4s\tremaining: 524ms\n",
      "965:\tlearn: 1322.1424021\ttotal: 14.5s\tremaining: 509ms\n",
      "966:\tlearn: 1322.0552287\ttotal: 14.5s\tremaining: 494ms\n",
      "967:\tlearn: 1321.9570916\ttotal: 14.5s\tremaining: 479ms\n",
      "968:\tlearn: 1321.8880016\ttotal: 14.5s\tremaining: 464ms\n",
      "969:\tlearn: 1321.8226905\ttotal: 14.5s\tremaining: 449ms\n",
      "970:\tlearn: 1321.7925486\ttotal: 14.5s\tremaining: 435ms\n",
      "971:\tlearn: 1321.7411191\ttotal: 14.6s\tremaining: 420ms\n",
      "972:\tlearn: 1321.6580598\ttotal: 14.6s\tremaining: 405ms\n",
      "973:\tlearn: 1321.5783866\ttotal: 14.6s\tremaining: 390ms\n",
      "974:\tlearn: 1321.5222784\ttotal: 14.6s\tremaining: 375ms\n",
      "975:\tlearn: 1321.4999396\ttotal: 14.6s\tremaining: 360ms\n",
      "976:\tlearn: 1321.4289903\ttotal: 14.6s\tremaining: 345ms\n",
      "977:\tlearn: 1321.3551315\ttotal: 14.7s\tremaining: 330ms\n",
      "978:\tlearn: 1321.2770328\ttotal: 14.7s\tremaining: 315ms\n",
      "979:\tlearn: 1321.1755885\ttotal: 14.7s\tremaining: 300ms\n",
      "980:\tlearn: 1321.1155065\ttotal: 14.7s\tremaining: 285ms\n",
      "981:\tlearn: 1321.0658655\ttotal: 14.7s\tremaining: 270ms\n",
      "982:\tlearn: 1320.9675427\ttotal: 14.8s\tremaining: 255ms\n",
      "983:\tlearn: 1320.8666793\ttotal: 14.8s\tremaining: 240ms\n",
      "984:\tlearn: 1320.8103487\ttotal: 14.8s\tremaining: 225ms\n",
      "985:\tlearn: 1320.7241088\ttotal: 14.8s\tremaining: 210ms\n",
      "986:\tlearn: 1320.6584963\ttotal: 14.8s\tremaining: 195ms\n",
      "987:\tlearn: 1320.6037216\ttotal: 14.8s\tremaining: 180ms\n",
      "988:\tlearn: 1320.5501295\ttotal: 14.9s\tremaining: 165ms\n",
      "989:\tlearn: 1320.4806910\ttotal: 14.9s\tremaining: 150ms\n",
      "990:\tlearn: 1320.3746352\ttotal: 14.9s\tremaining: 135ms\n",
      "991:\tlearn: 1320.3354508\ttotal: 14.9s\tremaining: 120ms\n",
      "992:\tlearn: 1320.2243812\ttotal: 14.9s\tremaining: 105ms\n",
      "993:\tlearn: 1320.1565171\ttotal: 15s\tremaining: 90.3ms\n",
      "994:\tlearn: 1320.0370340\ttotal: 15s\tremaining: 75.3ms\n",
      "995:\tlearn: 1319.9490662\ttotal: 15s\tremaining: 60.2ms\n",
      "996:\tlearn: 1319.8951976\ttotal: 15s\tremaining: 45.2ms\n",
      "997:\tlearn: 1319.8423045\ttotal: 15s\tremaining: 30.1ms\n",
      "998:\tlearn: 1319.7244871\ttotal: 15.1s\tremaining: 15.1ms\n",
      "999:\tlearn: 1319.6097774\ttotal: 15.1s\tremaining: 0us\n"
     ]
    }
   ],
   "source": [
    "fit_predict(cbreg, name='cbreg')\n",
    "result_tbl = pd.concat([result_tbl, a], axis = 0) # добавление показателей в общую таблицу"
   ]
  },
  {
   "cell_type": "code",
   "execution_count": 61,
   "metadata": {},
   "outputs": [
    {
     "data": {
      "text/html": [
       "<div>\n",
       "<style scoped>\n",
       "    .dataframe tbody tr th:only-of-type {\n",
       "        vertical-align: middle;\n",
       "    }\n",
       "\n",
       "    .dataframe tbody tr th {\n",
       "        vertical-align: top;\n",
       "    }\n",
       "\n",
       "    .dataframe thead th {\n",
       "        text-align: right;\n",
       "    }\n",
       "</style>\n",
       "<table border=\"1\" class=\"dataframe\">\n",
       "  <thead>\n",
       "    <tr style=\"text-align: right;\">\n",
       "      <th></th>\n",
       "      <th>model_name</th>\n",
       "      <th>model</th>\n",
       "      <th>fit_time_sec</th>\n",
       "      <th>RMSE</th>\n",
       "      <th>importance_features</th>\n",
       "    </tr>\n",
       "  </thead>\n",
       "  <tbody>\n",
       "    <tr>\n",
       "      <th>0</th>\n",
       "      <td>lgbmreg</td>\n",
       "      <td>LGBMRegressor(random_state=123)</td>\n",
       "      <td>0.5</td>\n",
       "      <td>1418</td>\n",
       "      <td>all</td>\n",
       "    </tr>\n",
       "    <tr>\n",
       "      <th>0</th>\n",
       "      <td>lgbmreg2</td>\n",
       "      <td>LGBMRegressor(max_bin=255, num_iterations=1000...</td>\n",
       "      <td>3.3</td>\n",
       "      <td>1216</td>\n",
       "      <td>all</td>\n",
       "    </tr>\n",
       "    <tr>\n",
       "      <th>0</th>\n",
       "      <td>lgbmreg3</td>\n",
       "      <td>LGBMRegressor(max_bin=255, num_iterations=500,...</td>\n",
       "      <td>1.6</td>\n",
       "      <td>1279</td>\n",
       "      <td>all</td>\n",
       "    </tr>\n",
       "    <tr>\n",
       "      <th>0</th>\n",
       "      <td>lgbmreg2</td>\n",
       "      <td>LGBMRegressor(max_bin=255, num_iterations=1000...</td>\n",
       "      <td>3.0</td>\n",
       "      <td>1360</td>\n",
       "      <td>5</td>\n",
       "    </tr>\n",
       "    <tr>\n",
       "      <th>0</th>\n",
       "      <td>cbreg_cat</td>\n",
       "      <td>&lt;catboost.core.CatBoostRegressor object at 0x0...</td>\n",
       "      <td>105.8</td>\n",
       "      <td>1320</td>\n",
       "      <td>all</td>\n",
       "    </tr>\n",
       "    <tr>\n",
       "      <th>0</th>\n",
       "      <td>cbreg</td>\n",
       "      <td>&lt;catboost.core.CatBoostRegressor object at 0x0...</td>\n",
       "      <td>15.4</td>\n",
       "      <td>1319</td>\n",
       "      <td>all</td>\n",
       "    </tr>\n",
       "  </tbody>\n",
       "</table>\n",
       "</div>"
      ],
      "text/plain": [
       "  model_name                                              model  fit_time_sec  \\\n",
       "0    lgbmreg                    LGBMRegressor(random_state=123)           0.5   \n",
       "0   lgbmreg2  LGBMRegressor(max_bin=255, num_iterations=1000...           3.3   \n",
       "0   lgbmreg3  LGBMRegressor(max_bin=255, num_iterations=500,...           1.6   \n",
       "0   lgbmreg2  LGBMRegressor(max_bin=255, num_iterations=1000...           3.0   \n",
       "0  cbreg_cat  <catboost.core.CatBoostRegressor object at 0x0...         105.8   \n",
       "0      cbreg  <catboost.core.CatBoostRegressor object at 0x0...          15.4   \n",
       "\n",
       "   RMSE importance_features  \n",
       "0  1418                 all  \n",
       "0  1216                 all  \n",
       "0  1279                 all  \n",
       "0  1360                   5  \n",
       "0  1320                 all  \n",
       "0  1319                 all  "
      ]
     },
     "execution_count": 61,
     "metadata": {},
     "output_type": "execute_result"
    }
   ],
   "source": [
    "result_tbl"
   ]
  },
  {
   "cell_type": "markdown",
   "metadata": {},
   "source": [
    "Модель обучилась намного быстрее, точность при этом почти не изменилась.\n",
    "\n",
    "Подберем гиперпараметры для модели CatBoostRegressor()."
   ]
  },
  {
   "cell_type": "code",
   "execution_count": 62,
   "metadata": {},
   "outputs": [
    {
     "name": "stdout",
     "output_type": "stream",
     "text": [
      "0:\tlearn: 3775.9986125\ttotal: 27.5ms\tremaining: 27.5s\n",
      "1:\tlearn: 3695.5494829\ttotal: 54.8ms\tremaining: 27.3s\n",
      "2:\tlearn: 3618.2695370\ttotal: 82.1ms\tremaining: 27.3s\n",
      "3:\tlearn: 3543.2870687\ttotal: 110ms\tremaining: 27.3s\n",
      "4:\tlearn: 3471.0931829\ttotal: 137ms\tremaining: 27.3s\n",
      "5:\tlearn: 3400.9682198\ttotal: 167ms\tremaining: 27.7s\n",
      "6:\tlearn: 3333.4099501\ttotal: 197ms\tremaining: 27.9s\n",
      "7:\tlearn: 3268.4244321\ttotal: 226ms\tremaining: 28s\n",
      "8:\tlearn: 3205.9430651\ttotal: 262ms\tremaining: 28.9s\n",
      "9:\tlearn: 3145.5225208\ttotal: 294ms\tremaining: 29.1s\n",
      "10:\tlearn: 3086.5525160\ttotal: 324ms\tremaining: 29.1s\n",
      "11:\tlearn: 3029.9127489\ttotal: 355ms\tremaining: 29.2s\n",
      "12:\tlearn: 2975.5975486\ttotal: 386ms\tremaining: 29.3s\n",
      "13:\tlearn: 2923.9655591\ttotal: 418ms\tremaining: 29.4s\n",
      "14:\tlearn: 2873.4781886\ttotal: 454ms\tremaining: 29.8s\n",
      "15:\tlearn: 2824.9306967\ttotal: 486ms\tremaining: 29.9s\n",
      "16:\tlearn: 2778.7230277\ttotal: 519ms\tremaining: 30s\n",
      "17:\tlearn: 2733.7837710\ttotal: 553ms\tremaining: 30.2s\n",
      "18:\tlearn: 2690.3494132\ttotal: 586ms\tremaining: 30.2s\n",
      "19:\tlearn: 2649.2795441\ttotal: 618ms\tremaining: 30.3s\n",
      "20:\tlearn: 2609.7072930\ttotal: 651ms\tremaining: 30.4s\n",
      "21:\tlearn: 2571.7173865\ttotal: 690ms\tremaining: 30.7s\n",
      "22:\tlearn: 2534.5448226\ttotal: 722ms\tremaining: 30.6s\n",
      "23:\tlearn: 2497.8570446\ttotal: 753ms\tremaining: 30.6s\n",
      "24:\tlearn: 2463.8669286\ttotal: 785ms\tremaining: 30.6s\n",
      "25:\tlearn: 2429.2423929\ttotal: 817ms\tremaining: 30.6s\n",
      "26:\tlearn: 2397.1599544\ttotal: 848ms\tremaining: 30.6s\n",
      "27:\tlearn: 2365.6643917\ttotal: 884ms\tremaining: 30.7s\n",
      "28:\tlearn: 2336.6350287\ttotal: 923ms\tremaining: 30.9s\n",
      "29:\tlearn: 2307.8295475\ttotal: 957ms\tremaining: 30.9s\n",
      "30:\tlearn: 2280.3710024\ttotal: 989ms\tremaining: 30.9s\n",
      "31:\tlearn: 2254.3795860\ttotal: 1.02s\tremaining: 30.9s\n",
      "32:\tlearn: 2228.6576269\ttotal: 1.05s\tremaining: 30.9s\n",
      "33:\tlearn: 2204.6550752\ttotal: 1.09s\tremaining: 30.9s\n",
      "34:\tlearn: 2181.3941844\ttotal: 1.12s\tremaining: 30.9s\n",
      "35:\tlearn: 2157.4544656\ttotal: 1.16s\tremaining: 31s\n",
      "36:\tlearn: 2135.3317883\ttotal: 1.19s\tremaining: 30.9s\n",
      "37:\tlearn: 2114.4623834\ttotal: 1.22s\tremaining: 30.9s\n",
      "38:\tlearn: 2094.7309538\ttotal: 1.25s\tremaining: 30.9s\n",
      "39:\tlearn: 2075.3776497\ttotal: 1.28s\tremaining: 30.9s\n",
      "40:\tlearn: 2056.2594304\ttotal: 1.32s\tremaining: 30.8s\n",
      "41:\tlearn: 2037.5970190\ttotal: 1.35s\tremaining: 30.8s\n",
      "42:\tlearn: 2020.1704588\ttotal: 1.39s\tremaining: 30.9s\n",
      "43:\tlearn: 2003.7194370\ttotal: 1.42s\tremaining: 30.8s\n",
      "44:\tlearn: 1987.9566989\ttotal: 1.45s\tremaining: 30.8s\n",
      "45:\tlearn: 1972.8277935\ttotal: 1.48s\tremaining: 30.8s\n",
      "46:\tlearn: 1957.2194101\ttotal: 1.51s\tremaining: 30.7s\n",
      "47:\tlearn: 1943.5684674\ttotal: 1.55s\tremaining: 30.7s\n",
      "48:\tlearn: 1929.8465517\ttotal: 1.58s\tremaining: 30.7s\n",
      "49:\tlearn: 1915.8501268\ttotal: 1.62s\tremaining: 30.7s\n",
      "50:\tlearn: 1903.9316998\ttotal: 1.65s\tremaining: 30.7s\n",
      "51:\tlearn: 1891.3990750\ttotal: 1.68s\tremaining: 30.6s\n",
      "52:\tlearn: 1879.0844713\ttotal: 1.71s\tremaining: 30.6s\n",
      "53:\tlearn: 1867.9882851\ttotal: 1.75s\tremaining: 30.6s\n",
      "54:\tlearn: 1856.8058859\ttotal: 1.78s\tremaining: 30.5s\n",
      "55:\tlearn: 1845.4629798\ttotal: 1.81s\tremaining: 30.5s\n",
      "56:\tlearn: 1835.7466906\ttotal: 1.85s\tremaining: 30.6s\n",
      "57:\tlearn: 1826.0904568\ttotal: 1.88s\tremaining: 30.5s\n",
      "58:\tlearn: 1816.0141567\ttotal: 1.91s\tremaining: 30.5s\n",
      "59:\tlearn: 1807.2959399\ttotal: 1.95s\tremaining: 30.5s\n",
      "60:\tlearn: 1798.2790941\ttotal: 1.98s\tremaining: 30.4s\n",
      "61:\tlearn: 1789.9347545\ttotal: 2.01s\tremaining: 30.4s\n",
      "62:\tlearn: 1781.4156411\ttotal: 2.04s\tremaining: 30.4s\n",
      "63:\tlearn: 1772.0799738\ttotal: 2.08s\tremaining: 30.4s\n",
      "64:\tlearn: 1764.7506920\ttotal: 2.12s\tremaining: 30.4s\n",
      "65:\tlearn: 1756.7929954\ttotal: 2.15s\tremaining: 30.4s\n",
      "66:\tlearn: 1748.6893126\ttotal: 2.18s\tremaining: 30.3s\n",
      "67:\tlearn: 1741.9879480\ttotal: 2.21s\tremaining: 30.3s\n",
      "68:\tlearn: 1735.3422079\ttotal: 2.24s\tremaining: 30.3s\n",
      "69:\tlearn: 1728.2969474\ttotal: 2.27s\tremaining: 30.2s\n",
      "70:\tlearn: 1721.1516908\ttotal: 2.31s\tremaining: 30.2s\n",
      "71:\tlearn: 1715.0799382\ttotal: 2.34s\tremaining: 30.2s\n",
      "72:\tlearn: 1709.5155541\ttotal: 2.38s\tremaining: 30.2s\n",
      "73:\tlearn: 1703.7916814\ttotal: 2.41s\tremaining: 30.1s\n",
      "74:\tlearn: 1698.6976044\ttotal: 2.44s\tremaining: 30.1s\n",
      "75:\tlearn: 1693.0460787\ttotal: 2.47s\tremaining: 30.1s\n",
      "76:\tlearn: 1688.2166498\ttotal: 2.5s\tremaining: 30s\n",
      "77:\tlearn: 1683.1603477\ttotal: 2.54s\tremaining: 30s\n",
      "78:\tlearn: 1677.5895582\ttotal: 2.57s\tremaining: 30s\n",
      "79:\tlearn: 1672.5526828\ttotal: 2.61s\tremaining: 30s\n",
      "80:\tlearn: 1667.1366474\ttotal: 2.64s\tremaining: 29.9s\n",
      "81:\tlearn: 1662.7632494\ttotal: 2.67s\tremaining: 29.9s\n",
      "82:\tlearn: 1657.4758668\ttotal: 2.7s\tremaining: 29.9s\n",
      "83:\tlearn: 1653.4425128\ttotal: 2.73s\tremaining: 29.8s\n",
      "84:\tlearn: 1648.5258589\ttotal: 2.77s\tremaining: 29.8s\n",
      "85:\tlearn: 1644.6588100\ttotal: 2.8s\tremaining: 29.8s\n",
      "86:\tlearn: 1641.1446586\ttotal: 2.83s\tremaining: 29.8s\n",
      "87:\tlearn: 1637.6227362\ttotal: 2.87s\tremaining: 29.7s\n",
      "88:\tlearn: 1633.9541396\ttotal: 2.9s\tremaining: 29.7s\n",
      "89:\tlearn: 1630.5146514\ttotal: 2.93s\tremaining: 29.7s\n",
      "90:\tlearn: 1627.4122151\ttotal: 2.97s\tremaining: 29.6s\n",
      "91:\tlearn: 1623.9734435\ttotal: 3s\tremaining: 29.7s\n",
      "92:\tlearn: 1620.7618263\ttotal: 3.04s\tremaining: 29.6s\n",
      "93:\tlearn: 1617.7865774\ttotal: 3.07s\tremaining: 29.6s\n",
      "94:\tlearn: 1614.8190364\ttotal: 3.1s\tremaining: 29.5s\n",
      "95:\tlearn: 1610.8382666\ttotal: 3.13s\tremaining: 29.5s\n",
      "96:\tlearn: 1607.4361405\ttotal: 3.17s\tremaining: 29.5s\n",
      "97:\tlearn: 1604.0438405\ttotal: 3.2s\tremaining: 29.5s\n",
      "98:\tlearn: 1601.3447065\ttotal: 3.24s\tremaining: 29.5s\n",
      "99:\tlearn: 1597.8949112\ttotal: 3.27s\tremaining: 29.4s\n",
      "100:\tlearn: 1594.9461317\ttotal: 3.3s\tremaining: 29.4s\n",
      "101:\tlearn: 1591.9858938\ttotal: 3.33s\tremaining: 29.4s\n",
      "102:\tlearn: 1589.2441758\ttotal: 3.37s\tremaining: 29.3s\n",
      "103:\tlearn: 1586.9978540\ttotal: 3.4s\tremaining: 29.3s\n",
      "104:\tlearn: 1584.2382353\ttotal: 3.44s\tremaining: 29.3s\n",
      "105:\tlearn: 1581.3833426\ttotal: 3.47s\tremaining: 29.3s\n",
      "106:\tlearn: 1578.9086285\ttotal: 3.5s\tremaining: 29.2s\n",
      "107:\tlearn: 1576.9653104\ttotal: 3.53s\tremaining: 29.2s\n",
      "108:\tlearn: 1575.1191678\ttotal: 3.56s\tremaining: 29.1s\n",
      "109:\tlearn: 1573.2586223\ttotal: 3.59s\tremaining: 29.1s\n",
      "110:\tlearn: 1571.0033498\ttotal: 3.63s\tremaining: 29.1s\n",
      "111:\tlearn: 1569.3485781\ttotal: 3.67s\tremaining: 29.1s\n",
      "112:\tlearn: 1567.1471753\ttotal: 3.7s\tremaining: 29.1s\n",
      "113:\tlearn: 1565.2538047\ttotal: 3.74s\tremaining: 29s\n",
      "114:\tlearn: 1563.2068023\ttotal: 3.77s\tremaining: 29s\n",
      "115:\tlearn: 1561.2345633\ttotal: 3.8s\tremaining: 29s\n",
      "116:\tlearn: 1559.5245119\ttotal: 3.83s\tremaining: 28.9s\n",
      "117:\tlearn: 1557.5850303\ttotal: 3.87s\tremaining: 28.9s\n",
      "118:\tlearn: 1555.4111915\ttotal: 3.9s\tremaining: 28.9s\n",
      "119:\tlearn: 1553.7312929\ttotal: 3.94s\tremaining: 28.9s\n",
      "120:\tlearn: 1551.9424327\ttotal: 3.97s\tremaining: 28.8s\n",
      "121:\tlearn: 1549.9801083\ttotal: 4s\tremaining: 28.8s\n",
      "122:\tlearn: 1547.5862790\ttotal: 4.03s\tremaining: 28.7s\n",
      "123:\tlearn: 1546.2375452\ttotal: 4.06s\tremaining: 28.7s\n",
      "124:\tlearn: 1544.2749505\ttotal: 4.12s\tremaining: 28.8s\n",
      "125:\tlearn: 1542.4773514\ttotal: 4.15s\tremaining: 28.8s\n",
      "126:\tlearn: 1540.7295062\ttotal: 4.19s\tremaining: 28.8s\n",
      "127:\tlearn: 1539.0950122\ttotal: 4.22s\tremaining: 28.7s\n",
      "128:\tlearn: 1537.5460155\ttotal: 4.25s\tremaining: 28.7s\n",
      "129:\tlearn: 1536.2034084\ttotal: 4.28s\tremaining: 28.7s\n",
      "130:\tlearn: 1534.9013231\ttotal: 4.32s\tremaining: 28.6s\n",
      "131:\tlearn: 1532.4497621\ttotal: 4.35s\tremaining: 28.6s\n",
      "132:\tlearn: 1530.7114856\ttotal: 4.38s\tremaining: 28.6s\n",
      "133:\tlearn: 1529.0847190\ttotal: 4.41s\tremaining: 28.5s\n",
      "134:\tlearn: 1527.8280507\ttotal: 4.45s\tremaining: 28.5s\n",
      "135:\tlearn: 1526.2858989\ttotal: 4.48s\tremaining: 28.5s\n",
      "136:\tlearn: 1524.6433430\ttotal: 4.51s\tremaining: 28.4s\n",
      "137:\tlearn: 1523.5570766\ttotal: 4.55s\tremaining: 28.4s\n",
      "138:\tlearn: 1522.0317494\ttotal: 4.58s\tremaining: 28.4s\n",
      "139:\tlearn: 1520.7209826\ttotal: 4.62s\tremaining: 28.4s\n",
      "140:\tlearn: 1519.3452033\ttotal: 4.65s\tremaining: 28.3s\n",
      "141:\tlearn: 1518.1323348\ttotal: 4.68s\tremaining: 28.3s\n",
      "142:\tlearn: 1516.8543637\ttotal: 4.72s\tremaining: 28.3s\n",
      "143:\tlearn: 1515.4386981\ttotal: 4.75s\tremaining: 28.2s\n",
      "144:\tlearn: 1513.8590499\ttotal: 4.78s\tremaining: 28.2s\n",
      "145:\tlearn: 1512.7182459\ttotal: 4.82s\tremaining: 28.2s\n",
      "146:\tlearn: 1511.3899657\ttotal: 4.85s\tremaining: 28.2s\n",
      "147:\tlearn: 1509.8212188\ttotal: 4.88s\tremaining: 28.1s\n",
      "148:\tlearn: 1508.6949771\ttotal: 4.92s\tremaining: 28.1s\n",
      "149:\tlearn: 1507.3276912\ttotal: 4.95s\tremaining: 28.1s\n",
      "150:\tlearn: 1506.2830233\ttotal: 4.98s\tremaining: 28s\n",
      "151:\tlearn: 1505.1948061\ttotal: 5.02s\tremaining: 28s\n",
      "152:\tlearn: 1504.1755918\ttotal: 5.05s\tremaining: 28s\n",
      "153:\tlearn: 1502.9830262\ttotal: 5.08s\tremaining: 27.9s\n",
      "154:\tlearn: 1502.1844660\ttotal: 5.12s\tremaining: 27.9s\n",
      "155:\tlearn: 1501.2153387\ttotal: 5.15s\tremaining: 27.8s\n",
      "156:\tlearn: 1499.8577087\ttotal: 5.18s\tremaining: 27.8s\n",
      "157:\tlearn: 1499.1185398\ttotal: 5.21s\tremaining: 27.8s\n"
     ]
    },
    {
     "name": "stdout",
     "output_type": "stream",
     "text": [
      "158:\tlearn: 1498.1228567\ttotal: 5.25s\tremaining: 27.8s\n",
      "159:\tlearn: 1496.6316967\ttotal: 5.28s\tremaining: 27.7s\n",
      "160:\tlearn: 1495.7059700\ttotal: 5.31s\tremaining: 27.7s\n",
      "161:\tlearn: 1494.4476958\ttotal: 5.34s\tremaining: 27.6s\n",
      "162:\tlearn: 1493.1948143\ttotal: 5.38s\tremaining: 27.6s\n",
      "163:\tlearn: 1491.9747898\ttotal: 5.41s\tremaining: 27.6s\n",
      "164:\tlearn: 1491.2205626\ttotal: 5.44s\tremaining: 27.5s\n",
      "165:\tlearn: 1489.9799653\ttotal: 5.47s\tremaining: 27.5s\n",
      "166:\tlearn: 1489.2079315\ttotal: 5.5s\tremaining: 27.5s\n",
      "167:\tlearn: 1487.8824419\ttotal: 5.54s\tremaining: 27.4s\n",
      "168:\tlearn: 1486.9764776\ttotal: 5.57s\tremaining: 27.4s\n",
      "169:\tlearn: 1486.1291735\ttotal: 5.6s\tremaining: 27.4s\n",
      "170:\tlearn: 1485.5457484\ttotal: 5.63s\tremaining: 27.3s\n",
      "171:\tlearn: 1484.9187413\ttotal: 5.67s\tremaining: 27.3s\n",
      "172:\tlearn: 1484.0570183\ttotal: 5.7s\tremaining: 27.3s\n",
      "173:\tlearn: 1483.0784448\ttotal: 5.73s\tremaining: 27.2s\n",
      "174:\tlearn: 1482.2970073\ttotal: 5.76s\tremaining: 27.2s\n",
      "175:\tlearn: 1481.3677620\ttotal: 5.8s\tremaining: 27.2s\n",
      "176:\tlearn: 1480.5518742\ttotal: 5.83s\tremaining: 27.1s\n",
      "177:\tlearn: 1479.7837844\ttotal: 5.86s\tremaining: 27.1s\n",
      "178:\tlearn: 1479.0209967\ttotal: 5.89s\tremaining: 27s\n",
      "179:\tlearn: 1478.3574993\ttotal: 5.93s\tremaining: 27s\n",
      "180:\tlearn: 1477.4771225\ttotal: 5.96s\tremaining: 27s\n",
      "181:\tlearn: 1476.6682690\ttotal: 6s\tremaining: 26.9s\n",
      "182:\tlearn: 1475.6492322\ttotal: 6.03s\tremaining: 26.9s\n",
      "183:\tlearn: 1475.0088497\ttotal: 6.06s\tremaining: 26.9s\n",
      "184:\tlearn: 1474.2938763\ttotal: 6.09s\tremaining: 26.8s\n",
      "185:\tlearn: 1473.4377678\ttotal: 6.12s\tremaining: 26.8s\n",
      "186:\tlearn: 1472.6515343\ttotal: 6.16s\tremaining: 26.8s\n",
      "187:\tlearn: 1471.9674282\ttotal: 6.19s\tremaining: 26.7s\n",
      "188:\tlearn: 1471.1515217\ttotal: 6.22s\tremaining: 26.7s\n",
      "189:\tlearn: 1470.2400823\ttotal: 6.26s\tremaining: 26.7s\n",
      "190:\tlearn: 1469.4812901\ttotal: 6.29s\tremaining: 26.6s\n",
      "191:\tlearn: 1468.7748341\ttotal: 6.32s\tremaining: 26.6s\n",
      "192:\tlearn: 1468.1908703\ttotal: 6.35s\tremaining: 26.6s\n",
      "193:\tlearn: 1467.5585522\ttotal: 6.39s\tremaining: 26.5s\n",
      "194:\tlearn: 1466.9350188\ttotal: 6.42s\tremaining: 26.5s\n",
      "195:\tlearn: 1466.2910539\ttotal: 6.45s\tremaining: 26.5s\n",
      "196:\tlearn: 1465.4980771\ttotal: 6.49s\tremaining: 26.4s\n",
      "197:\tlearn: 1464.6888385\ttotal: 6.52s\tremaining: 26.4s\n",
      "198:\tlearn: 1464.1645049\ttotal: 6.55s\tremaining: 26.4s\n",
      "199:\tlearn: 1463.5821779\ttotal: 6.58s\tremaining: 26.3s\n",
      "200:\tlearn: 1463.1414653\ttotal: 6.62s\tremaining: 26.3s\n",
      "201:\tlearn: 1462.5453158\ttotal: 6.65s\tremaining: 26.3s\n",
      "202:\tlearn: 1462.1562428\ttotal: 6.68s\tremaining: 26.2s\n",
      "203:\tlearn: 1461.3523217\ttotal: 6.71s\tremaining: 26.2s\n",
      "204:\tlearn: 1460.6173861\ttotal: 6.75s\tremaining: 26.2s\n",
      "205:\tlearn: 1459.8521900\ttotal: 6.78s\tremaining: 26.1s\n",
      "206:\tlearn: 1459.2901877\ttotal: 6.81s\tremaining: 26.1s\n",
      "207:\tlearn: 1458.6635673\ttotal: 6.85s\tremaining: 26.1s\n",
      "208:\tlearn: 1458.0416660\ttotal: 6.88s\tremaining: 26s\n",
      "209:\tlearn: 1457.6756551\ttotal: 6.91s\tremaining: 26s\n",
      "210:\tlearn: 1457.0002537\ttotal: 6.95s\tremaining: 26s\n",
      "211:\tlearn: 1456.4206281\ttotal: 6.98s\tremaining: 25.9s\n",
      "212:\tlearn: 1455.8644913\ttotal: 7.01s\tremaining: 25.9s\n",
      "213:\tlearn: 1454.9833660\ttotal: 7.04s\tremaining: 25.9s\n",
      "214:\tlearn: 1454.3142977\ttotal: 7.08s\tremaining: 25.9s\n",
      "215:\tlearn: 1453.7454749\ttotal: 7.11s\tremaining: 25.8s\n",
      "216:\tlearn: 1452.8835306\ttotal: 7.15s\tremaining: 25.8s\n",
      "217:\tlearn: 1452.1662627\ttotal: 7.18s\tremaining: 25.8s\n",
      "218:\tlearn: 1451.5425949\ttotal: 7.21s\tremaining: 25.7s\n",
      "219:\tlearn: 1450.9189585\ttotal: 7.24s\tremaining: 25.7s\n",
      "220:\tlearn: 1450.4086177\ttotal: 7.27s\tremaining: 25.6s\n",
      "221:\tlearn: 1449.8701835\ttotal: 7.31s\tremaining: 25.6s\n",
      "222:\tlearn: 1449.0984536\ttotal: 7.34s\tremaining: 25.6s\n",
      "223:\tlearn: 1448.5289347\ttotal: 7.38s\tremaining: 25.6s\n",
      "224:\tlearn: 1447.6687154\ttotal: 7.41s\tremaining: 25.5s\n",
      "225:\tlearn: 1447.2244609\ttotal: 7.44s\tremaining: 25.5s\n",
      "226:\tlearn: 1446.7300161\ttotal: 7.47s\tremaining: 25.4s\n",
      "227:\tlearn: 1446.2737375\ttotal: 7.5s\tremaining: 25.4s\n",
      "228:\tlearn: 1445.6502253\ttotal: 7.54s\tremaining: 25.4s\n",
      "229:\tlearn: 1445.0782548\ttotal: 7.57s\tremaining: 25.3s\n",
      "230:\tlearn: 1444.6994835\ttotal: 7.6s\tremaining: 25.3s\n",
      "231:\tlearn: 1444.0719349\ttotal: 7.63s\tremaining: 25.3s\n",
      "232:\tlearn: 1443.5823049\ttotal: 7.67s\tremaining: 25.2s\n",
      "233:\tlearn: 1442.9129173\ttotal: 7.7s\tremaining: 25.2s\n",
      "234:\tlearn: 1442.2433354\ttotal: 7.73s\tremaining: 25.2s\n",
      "235:\tlearn: 1441.7563502\ttotal: 7.77s\tremaining: 25.1s\n",
      "236:\tlearn: 1441.2070299\ttotal: 7.8s\tremaining: 25.1s\n",
      "237:\tlearn: 1440.5199797\ttotal: 7.83s\tremaining: 25.1s\n",
      "238:\tlearn: 1440.0381660\ttotal: 7.87s\tremaining: 25s\n",
      "239:\tlearn: 1439.3950765\ttotal: 7.9s\tremaining: 25s\n",
      "240:\tlearn: 1438.9365632\ttotal: 7.93s\tremaining: 25s\n",
      "241:\tlearn: 1438.4885552\ttotal: 7.96s\tremaining: 24.9s\n",
      "242:\tlearn: 1437.9948225\ttotal: 8s\tremaining: 24.9s\n",
      "243:\tlearn: 1437.5800569\ttotal: 8.03s\tremaining: 24.9s\n",
      "244:\tlearn: 1436.9348612\ttotal: 8.06s\tremaining: 24.9s\n",
      "245:\tlearn: 1436.3874015\ttotal: 8.1s\tremaining: 24.8s\n",
      "246:\tlearn: 1435.9138588\ttotal: 8.13s\tremaining: 24.8s\n",
      "247:\tlearn: 1435.4049144\ttotal: 8.16s\tremaining: 24.7s\n",
      "248:\tlearn: 1434.9440354\ttotal: 8.19s\tremaining: 24.7s\n",
      "249:\tlearn: 1434.5942954\ttotal: 8.23s\tremaining: 24.7s\n",
      "250:\tlearn: 1434.1966016\ttotal: 8.26s\tremaining: 24.7s\n",
      "251:\tlearn: 1433.7662151\ttotal: 8.29s\tremaining: 24.6s\n",
      "252:\tlearn: 1433.2417948\ttotal: 8.32s\tremaining: 24.6s\n",
      "253:\tlearn: 1433.0020069\ttotal: 8.36s\tremaining: 24.5s\n",
      "254:\tlearn: 1432.7451812\ttotal: 8.39s\tremaining: 24.5s\n",
      "255:\tlearn: 1432.2397393\ttotal: 8.42s\tremaining: 24.5s\n",
      "256:\tlearn: 1431.7965521\ttotal: 8.45s\tremaining: 24.4s\n",
      "257:\tlearn: 1431.2678414\ttotal: 8.49s\tremaining: 24.4s\n",
      "258:\tlearn: 1430.6735985\ttotal: 8.52s\tremaining: 24.4s\n",
      "259:\tlearn: 1430.1423875\ttotal: 8.55s\tremaining: 24.3s\n",
      "260:\tlearn: 1429.8835110\ttotal: 8.58s\tremaining: 24.3s\n",
      "261:\tlearn: 1429.2084348\ttotal: 8.61s\tremaining: 24.3s\n",
      "262:\tlearn: 1428.7203125\ttotal: 8.65s\tremaining: 24.2s\n",
      "263:\tlearn: 1428.5362034\ttotal: 8.68s\tremaining: 24.2s\n",
      "264:\tlearn: 1428.0577844\ttotal: 8.71s\tremaining: 24.2s\n",
      "265:\tlearn: 1427.5154742\ttotal: 8.74s\tremaining: 24.1s\n",
      "266:\tlearn: 1427.0478739\ttotal: 8.78s\tremaining: 24.1s\n",
      "267:\tlearn: 1426.6306244\ttotal: 8.81s\tremaining: 24.1s\n",
      "268:\tlearn: 1426.3060502\ttotal: 8.84s\tremaining: 24s\n",
      "269:\tlearn: 1425.8911926\ttotal: 8.87s\tremaining: 24s\n",
      "270:\tlearn: 1425.3905710\ttotal: 8.91s\tremaining: 24s\n",
      "271:\tlearn: 1424.9669243\ttotal: 8.94s\tremaining: 23.9s\n",
      "272:\tlearn: 1424.6096619\ttotal: 8.98s\tremaining: 23.9s\n",
      "273:\tlearn: 1424.0585601\ttotal: 9.01s\tremaining: 23.9s\n",
      "274:\tlearn: 1423.5327370\ttotal: 9.04s\tremaining: 23.8s\n",
      "275:\tlearn: 1423.0359324\ttotal: 9.07s\tremaining: 23.8s\n",
      "276:\tlearn: 1422.5121088\ttotal: 9.11s\tremaining: 23.8s\n",
      "277:\tlearn: 1421.8889374\ttotal: 9.14s\tremaining: 23.7s\n",
      "278:\tlearn: 1421.4407197\ttotal: 9.17s\tremaining: 23.7s\n",
      "279:\tlearn: 1420.9142424\ttotal: 9.21s\tremaining: 23.7s\n",
      "280:\tlearn: 1420.5529960\ttotal: 9.24s\tremaining: 23.6s\n",
      "281:\tlearn: 1420.2521110\ttotal: 9.27s\tremaining: 23.6s\n",
      "282:\tlearn: 1419.9705744\ttotal: 9.3s\tremaining: 23.6s\n",
      "283:\tlearn: 1419.5178851\ttotal: 9.33s\tremaining: 23.5s\n",
      "284:\tlearn: 1419.1561770\ttotal: 9.37s\tremaining: 23.5s\n",
      "285:\tlearn: 1418.8230740\ttotal: 9.4s\tremaining: 23.5s\n",
      "286:\tlearn: 1418.5159297\ttotal: 9.43s\tremaining: 23.4s\n",
      "287:\tlearn: 1418.1045988\ttotal: 9.47s\tremaining: 23.4s\n",
      "288:\tlearn: 1417.7965775\ttotal: 9.5s\tremaining: 23.4s\n",
      "289:\tlearn: 1417.0317772\ttotal: 9.53s\tremaining: 23.3s\n",
      "290:\tlearn: 1416.5387355\ttotal: 9.56s\tremaining: 23.3s\n",
      "291:\tlearn: 1415.9106429\ttotal: 9.6s\tremaining: 23.3s\n",
      "292:\tlearn: 1415.4668353\ttotal: 9.63s\tremaining: 23.2s\n",
      "293:\tlearn: 1415.0861740\ttotal: 9.66s\tremaining: 23.2s\n",
      "294:\tlearn: 1414.5448022\ttotal: 9.7s\tremaining: 23.2s\n",
      "295:\tlearn: 1414.0697426\ttotal: 9.73s\tremaining: 23.1s\n",
      "296:\tlearn: 1413.6529794\ttotal: 9.76s\tremaining: 23.1s\n",
      "297:\tlearn: 1413.2208637\ttotal: 9.8s\tremaining: 23.1s\n",
      "298:\tlearn: 1412.7815574\ttotal: 9.83s\tremaining: 23s\n",
      "299:\tlearn: 1412.3584362\ttotal: 9.87s\tremaining: 23s\n",
      "300:\tlearn: 1411.9876930\ttotal: 9.9s\tremaining: 23s\n",
      "301:\tlearn: 1411.5680751\ttotal: 9.93s\tremaining: 22.9s\n",
      "302:\tlearn: 1411.2883054\ttotal: 9.96s\tremaining: 22.9s\n",
      "303:\tlearn: 1410.9017718\ttotal: 9.99s\tremaining: 22.9s\n",
      "304:\tlearn: 1410.4620774\ttotal: 10s\tremaining: 22.8s\n",
      "305:\tlearn: 1410.0403584\ttotal: 10.1s\tremaining: 22.8s\n",
      "306:\tlearn: 1409.6483623\ttotal: 10.1s\tremaining: 22.8s\n",
      "307:\tlearn: 1409.3973957\ttotal: 10.1s\tremaining: 22.8s\n",
      "308:\tlearn: 1408.9974221\ttotal: 10.2s\tremaining: 22.7s\n",
      "309:\tlearn: 1408.4837741\ttotal: 10.2s\tremaining: 22.7s\n",
      "310:\tlearn: 1408.1254153\ttotal: 10.2s\tremaining: 22.7s\n",
      "311:\tlearn: 1407.8422608\ttotal: 10.3s\tremaining: 22.6s\n"
     ]
    },
    {
     "name": "stdout",
     "output_type": "stream",
     "text": [
      "312:\tlearn: 1407.5379181\ttotal: 10.3s\tremaining: 22.6s\n",
      "313:\tlearn: 1407.2267395\ttotal: 10.3s\tremaining: 22.6s\n",
      "314:\tlearn: 1406.8545338\ttotal: 10.4s\tremaining: 22.5s\n",
      "315:\tlearn: 1406.5799100\ttotal: 10.4s\tremaining: 22.5s\n",
      "316:\tlearn: 1406.0593695\ttotal: 10.4s\tremaining: 22.5s\n",
      "317:\tlearn: 1405.7455383\ttotal: 10.5s\tremaining: 22.4s\n",
      "318:\tlearn: 1405.3126307\ttotal: 10.5s\tremaining: 22.4s\n",
      "319:\tlearn: 1404.7454355\ttotal: 10.5s\tremaining: 22.4s\n",
      "320:\tlearn: 1404.2869579\ttotal: 10.6s\tremaining: 22.3s\n",
      "321:\tlearn: 1404.0081981\ttotal: 10.6s\tremaining: 22.3s\n",
      "322:\tlearn: 1403.6746084\ttotal: 10.6s\tremaining: 22.3s\n",
      "323:\tlearn: 1403.3497605\ttotal: 10.7s\tremaining: 22.2s\n",
      "324:\tlearn: 1403.0122365\ttotal: 10.7s\tremaining: 22.2s\n",
      "325:\tlearn: 1402.5943655\ttotal: 10.7s\tremaining: 22.2s\n",
      "326:\tlearn: 1402.3081527\ttotal: 10.7s\tremaining: 22.1s\n",
      "327:\tlearn: 1402.0002362\ttotal: 10.8s\tremaining: 22.1s\n",
      "328:\tlearn: 1401.5808917\ttotal: 10.8s\tremaining: 22.1s\n",
      "329:\tlearn: 1401.2802345\ttotal: 10.8s\tremaining: 22s\n",
      "330:\tlearn: 1400.9902496\ttotal: 10.9s\tremaining: 22s\n",
      "331:\tlearn: 1400.7795394\ttotal: 10.9s\tremaining: 22s\n",
      "332:\tlearn: 1400.2113716\ttotal: 10.9s\tremaining: 21.9s\n",
      "333:\tlearn: 1399.7885251\ttotal: 11s\tremaining: 21.9s\n",
      "334:\tlearn: 1399.3052840\ttotal: 11s\tremaining: 21.9s\n",
      "335:\tlearn: 1399.0046644\ttotal: 11.1s\tremaining: 21.8s\n",
      "336:\tlearn: 1398.6680353\ttotal: 11.1s\tremaining: 21.8s\n",
      "337:\tlearn: 1398.1879380\ttotal: 11.1s\tremaining: 21.8s\n",
      "338:\tlearn: 1397.8836492\ttotal: 11.1s\tremaining: 21.7s\n",
      "339:\tlearn: 1397.4588361\ttotal: 11.2s\tremaining: 21.7s\n",
      "340:\tlearn: 1397.2072785\ttotal: 11.2s\tremaining: 21.7s\n",
      "341:\tlearn: 1396.9808062\ttotal: 11.2s\tremaining: 21.6s\n",
      "342:\tlearn: 1396.6281128\ttotal: 11.3s\tremaining: 21.6s\n",
      "343:\tlearn: 1396.2140580\ttotal: 11.3s\tremaining: 21.6s\n",
      "344:\tlearn: 1395.8599898\ttotal: 11.3s\tremaining: 21.5s\n",
      "345:\tlearn: 1395.5036486\ttotal: 11.4s\tremaining: 21.5s\n",
      "346:\tlearn: 1395.1560788\ttotal: 11.4s\tremaining: 21.5s\n",
      "347:\tlearn: 1394.6441584\ttotal: 11.4s\tremaining: 21.4s\n",
      "348:\tlearn: 1394.4490839\ttotal: 11.5s\tremaining: 21.4s\n",
      "349:\tlearn: 1394.1592155\ttotal: 11.5s\tremaining: 21.4s\n",
      "350:\tlearn: 1393.7841808\ttotal: 11.5s\tremaining: 21.3s\n",
      "351:\tlearn: 1393.5089160\ttotal: 11.6s\tremaining: 21.3s\n",
      "352:\tlearn: 1393.2092660\ttotal: 11.6s\tremaining: 21.3s\n",
      "353:\tlearn: 1392.8612198\ttotal: 11.6s\tremaining: 21.2s\n",
      "354:\tlearn: 1392.4968628\ttotal: 11.7s\tremaining: 21.2s\n",
      "355:\tlearn: 1392.2450938\ttotal: 11.7s\tremaining: 21.2s\n",
      "356:\tlearn: 1391.9245519\ttotal: 11.7s\tremaining: 21.2s\n",
      "357:\tlearn: 1391.5198807\ttotal: 11.8s\tremaining: 21.1s\n",
      "358:\tlearn: 1391.3761039\ttotal: 11.8s\tremaining: 21.1s\n",
      "359:\tlearn: 1391.1200948\ttotal: 11.8s\tremaining: 21s\n",
      "360:\tlearn: 1390.7439527\ttotal: 11.9s\tremaining: 21s\n",
      "361:\tlearn: 1390.4092497\ttotal: 11.9s\tremaining: 21s\n",
      "362:\tlearn: 1389.9186985\ttotal: 11.9s\tremaining: 21s\n",
      "363:\tlearn: 1389.6693351\ttotal: 12s\tremaining: 20.9s\n",
      "364:\tlearn: 1389.4495352\ttotal: 12s\tremaining: 20.9s\n",
      "365:\tlearn: 1389.1663715\ttotal: 12s\tremaining: 20.8s\n",
      "366:\tlearn: 1388.9147567\ttotal: 12.1s\tremaining: 20.8s\n",
      "367:\tlearn: 1388.6011324\ttotal: 12.1s\tremaining: 20.8s\n",
      "368:\tlearn: 1388.2343173\ttotal: 12.1s\tremaining: 20.8s\n",
      "369:\tlearn: 1387.9457352\ttotal: 12.2s\tremaining: 20.7s\n",
      "370:\tlearn: 1387.6920659\ttotal: 12.2s\tremaining: 20.7s\n",
      "371:\tlearn: 1387.5018173\ttotal: 12.2s\tremaining: 20.6s\n",
      "372:\tlearn: 1387.0620728\ttotal: 12.3s\tremaining: 20.6s\n",
      "373:\tlearn: 1386.8132448\ttotal: 12.3s\tremaining: 20.6s\n",
      "374:\tlearn: 1386.5674506\ttotal: 12.3s\tremaining: 20.5s\n",
      "375:\tlearn: 1386.2640661\ttotal: 12.4s\tremaining: 20.5s\n",
      "376:\tlearn: 1385.9097592\ttotal: 12.4s\tremaining: 20.5s\n",
      "377:\tlearn: 1385.5627226\ttotal: 12.4s\tremaining: 20.5s\n",
      "378:\tlearn: 1385.2315880\ttotal: 12.5s\tremaining: 20.4s\n",
      "379:\tlearn: 1384.8093121\ttotal: 12.5s\tremaining: 20.4s\n",
      "380:\tlearn: 1384.5301512\ttotal: 12.5s\tremaining: 20.4s\n",
      "381:\tlearn: 1384.2978864\ttotal: 12.6s\tremaining: 20.3s\n",
      "382:\tlearn: 1383.8273230\ttotal: 12.6s\tremaining: 20.3s\n",
      "383:\tlearn: 1383.5646077\ttotal: 12.6s\tremaining: 20.3s\n",
      "384:\tlearn: 1383.3245689\ttotal: 12.7s\tremaining: 20.2s\n",
      "385:\tlearn: 1382.9703240\ttotal: 12.7s\tremaining: 20.2s\n",
      "386:\tlearn: 1382.6973910\ttotal: 12.7s\tremaining: 20.2s\n",
      "387:\tlearn: 1382.4517059\ttotal: 12.8s\tremaining: 20.1s\n",
      "388:\tlearn: 1382.1595045\ttotal: 12.8s\tremaining: 20.1s\n",
      "389:\tlearn: 1381.8748375\ttotal: 12.8s\tremaining: 20.1s\n",
      "390:\tlearn: 1381.7301591\ttotal: 12.9s\tremaining: 20s\n",
      "391:\tlearn: 1381.4928789\ttotal: 12.9s\tremaining: 20s\n",
      "392:\tlearn: 1381.1905838\ttotal: 12.9s\tremaining: 20s\n",
      "393:\tlearn: 1380.9275254\ttotal: 13s\tremaining: 19.9s\n",
      "394:\tlearn: 1380.5295451\ttotal: 13s\tremaining: 19.9s\n",
      "395:\tlearn: 1380.2379669\ttotal: 13s\tremaining: 19.9s\n",
      "396:\tlearn: 1379.9536810\ttotal: 13.1s\tremaining: 19.8s\n",
      "397:\tlearn: 1379.7600778\ttotal: 13.1s\tremaining: 19.8s\n",
      "398:\tlearn: 1379.5350463\ttotal: 13.1s\tremaining: 19.8s\n",
      "399:\tlearn: 1379.2638755\ttotal: 13.2s\tremaining: 19.7s\n",
      "400:\tlearn: 1378.9900148\ttotal: 13.2s\tremaining: 19.7s\n",
      "401:\tlearn: 1378.5603285\ttotal: 13.2s\tremaining: 19.7s\n",
      "402:\tlearn: 1378.2475238\ttotal: 13.3s\tremaining: 19.6s\n",
      "403:\tlearn: 1378.0392998\ttotal: 13.3s\tremaining: 19.6s\n",
      "404:\tlearn: 1377.7646255\ttotal: 13.3s\tremaining: 19.6s\n",
      "405:\tlearn: 1377.5086016\ttotal: 13.4s\tremaining: 19.5s\n",
      "406:\tlearn: 1377.1903854\ttotal: 13.4s\tremaining: 19.5s\n",
      "407:\tlearn: 1376.9109617\ttotal: 13.4s\tremaining: 19.5s\n",
      "408:\tlearn: 1376.5810525\ttotal: 13.4s\tremaining: 19.4s\n",
      "409:\tlearn: 1376.2673064\ttotal: 13.5s\tremaining: 19.4s\n",
      "410:\tlearn: 1375.9259641\ttotal: 13.5s\tremaining: 19.4s\n",
      "411:\tlearn: 1375.6495925\ttotal: 13.5s\tremaining: 19.3s\n",
      "412:\tlearn: 1375.4182167\ttotal: 13.6s\tremaining: 19.3s\n",
      "413:\tlearn: 1375.1676295\ttotal: 13.6s\tremaining: 19.3s\n",
      "414:\tlearn: 1374.9478180\ttotal: 13.6s\tremaining: 19.2s\n",
      "415:\tlearn: 1374.5864158\ttotal: 13.7s\tremaining: 19.2s\n",
      "416:\tlearn: 1374.4117099\ttotal: 13.7s\tremaining: 19.2s\n",
      "417:\tlearn: 1374.2126368\ttotal: 13.7s\tremaining: 19.1s\n",
      "418:\tlearn: 1373.9430433\ttotal: 13.8s\tremaining: 19.1s\n",
      "419:\tlearn: 1373.6234738\ttotal: 13.8s\tremaining: 19.1s\n",
      "420:\tlearn: 1373.2851784\ttotal: 13.8s\tremaining: 19s\n",
      "421:\tlearn: 1372.9283121\ttotal: 13.9s\tremaining: 19s\n",
      "422:\tlearn: 1372.3944336\ttotal: 13.9s\tremaining: 19s\n",
      "423:\tlearn: 1372.1490750\ttotal: 13.9s\tremaining: 18.9s\n",
      "424:\tlearn: 1371.8338551\ttotal: 14s\tremaining: 18.9s\n",
      "425:\tlearn: 1371.6286110\ttotal: 14s\tremaining: 18.9s\n",
      "426:\tlearn: 1371.3564267\ttotal: 14s\tremaining: 18.8s\n",
      "427:\tlearn: 1371.1109237\ttotal: 14.1s\tremaining: 18.8s\n",
      "428:\tlearn: 1370.9215037\ttotal: 14.1s\tremaining: 18.8s\n",
      "429:\tlearn: 1370.6480756\ttotal: 14.1s\tremaining: 18.7s\n",
      "430:\tlearn: 1370.2829787\ttotal: 14.2s\tremaining: 18.7s\n",
      "431:\tlearn: 1370.0512234\ttotal: 14.2s\tremaining: 18.7s\n",
      "432:\tlearn: 1369.7714666\ttotal: 14.2s\tremaining: 18.6s\n",
      "433:\tlearn: 1369.5691207\ttotal: 14.3s\tremaining: 18.6s\n",
      "434:\tlearn: 1369.3110024\ttotal: 14.3s\tremaining: 18.6s\n",
      "435:\tlearn: 1369.0143140\ttotal: 14.3s\tremaining: 18.5s\n",
      "436:\tlearn: 1368.7251611\ttotal: 14.4s\tremaining: 18.5s\n",
      "437:\tlearn: 1368.3876243\ttotal: 14.4s\tremaining: 18.5s\n",
      "438:\tlearn: 1368.2213351\ttotal: 14.4s\tremaining: 18.4s\n",
      "439:\tlearn: 1367.9096779\ttotal: 14.5s\tremaining: 18.4s\n",
      "440:\tlearn: 1367.7415176\ttotal: 14.5s\tremaining: 18.4s\n",
      "441:\tlearn: 1367.4352711\ttotal: 14.5s\tremaining: 18.3s\n",
      "442:\tlearn: 1367.2163265\ttotal: 14.6s\tremaining: 18.3s\n",
      "443:\tlearn: 1366.9606481\ttotal: 14.6s\tremaining: 18.3s\n",
      "444:\tlearn: 1366.6381211\ttotal: 14.6s\tremaining: 18.3s\n",
      "445:\tlearn: 1366.5008859\ttotal: 14.7s\tremaining: 18.2s\n",
      "446:\tlearn: 1366.1923947\ttotal: 14.7s\tremaining: 18.2s\n",
      "447:\tlearn: 1366.0391199\ttotal: 14.7s\tremaining: 18.2s\n",
      "448:\tlearn: 1365.7468531\ttotal: 14.8s\tremaining: 18.1s\n",
      "449:\tlearn: 1365.5030650\ttotal: 14.8s\tremaining: 18.1s\n",
      "450:\tlearn: 1365.3242318\ttotal: 14.8s\tremaining: 18.1s\n",
      "451:\tlearn: 1365.0266088\ttotal: 14.9s\tremaining: 18s\n",
      "452:\tlearn: 1364.7725852\ttotal: 14.9s\tremaining: 18s\n",
      "453:\tlearn: 1364.5042468\ttotal: 14.9s\tremaining: 18s\n",
      "454:\tlearn: 1364.3098448\ttotal: 15s\tremaining: 17.9s\n",
      "455:\tlearn: 1364.0971617\ttotal: 15s\tremaining: 17.9s\n",
      "456:\tlearn: 1363.9250151\ttotal: 15.1s\tremaining: 17.9s\n",
      "457:\tlearn: 1363.6429801\ttotal: 15.1s\tremaining: 17.9s\n",
      "458:\tlearn: 1363.5651252\ttotal: 15.1s\tremaining: 17.8s\n",
      "459:\tlearn: 1363.2582905\ttotal: 15.1s\tremaining: 17.8s\n",
      "460:\tlearn: 1363.0592471\ttotal: 15.2s\tremaining: 17.7s\n",
      "461:\tlearn: 1362.8347010\ttotal: 15.2s\tremaining: 17.7s\n",
      "462:\tlearn: 1362.6006563\ttotal: 15.2s\tremaining: 17.7s\n"
     ]
    },
    {
     "name": "stdout",
     "output_type": "stream",
     "text": [
      "463:\tlearn: 1362.3173077\ttotal: 15.3s\tremaining: 17.6s\n",
      "464:\tlearn: 1362.0915802\ttotal: 15.3s\tremaining: 17.6s\n",
      "465:\tlearn: 1361.7642233\ttotal: 15.3s\tremaining: 17.6s\n",
      "466:\tlearn: 1361.5001638\ttotal: 15.4s\tremaining: 17.5s\n",
      "467:\tlearn: 1361.3377942\ttotal: 15.4s\tremaining: 17.5s\n",
      "468:\tlearn: 1361.0248925\ttotal: 15.4s\tremaining: 17.5s\n",
      "469:\tlearn: 1360.7738854\ttotal: 15.5s\tremaining: 17.4s\n",
      "470:\tlearn: 1360.5447112\ttotal: 15.5s\tremaining: 17.4s\n",
      "471:\tlearn: 1360.1837282\ttotal: 15.5s\tremaining: 17.4s\n",
      "472:\tlearn: 1359.9224339\ttotal: 15.6s\tremaining: 17.3s\n",
      "473:\tlearn: 1359.7040145\ttotal: 15.6s\tremaining: 17.3s\n",
      "474:\tlearn: 1359.6370244\ttotal: 15.6s\tremaining: 17.3s\n",
      "475:\tlearn: 1359.2666860\ttotal: 15.7s\tremaining: 17.2s\n",
      "476:\tlearn: 1359.1192694\ttotal: 15.7s\tremaining: 17.2s\n",
      "477:\tlearn: 1358.8465816\ttotal: 15.7s\tremaining: 17.2s\n",
      "478:\tlearn: 1358.6478320\ttotal: 15.8s\tremaining: 17.1s\n",
      "479:\tlearn: 1358.3734612\ttotal: 15.8s\tremaining: 17.1s\n",
      "480:\tlearn: 1358.1267992\ttotal: 15.8s\tremaining: 17.1s\n",
      "481:\tlearn: 1357.9360512\ttotal: 15.9s\tremaining: 17s\n",
      "482:\tlearn: 1357.7744062\ttotal: 15.9s\tremaining: 17s\n",
      "483:\tlearn: 1357.5679228\ttotal: 15.9s\tremaining: 17s\n",
      "484:\tlearn: 1357.4006617\ttotal: 15.9s\tremaining: 16.9s\n",
      "485:\tlearn: 1357.1967410\ttotal: 16s\tremaining: 16.9s\n",
      "486:\tlearn: 1356.9989990\ttotal: 16s\tremaining: 16.9s\n",
      "487:\tlearn: 1356.7388461\ttotal: 16s\tremaining: 16.8s\n",
      "488:\tlearn: 1356.4298441\ttotal: 16.1s\tremaining: 16.8s\n",
      "489:\tlearn: 1356.1271338\ttotal: 16.1s\tremaining: 16.8s\n",
      "490:\tlearn: 1355.7663683\ttotal: 16.1s\tremaining: 16.7s\n",
      "491:\tlearn: 1355.5146199\ttotal: 16.2s\tremaining: 16.7s\n",
      "492:\tlearn: 1355.3259842\ttotal: 16.2s\tremaining: 16.7s\n",
      "493:\tlearn: 1355.0973696\ttotal: 16.2s\tremaining: 16.6s\n",
      "494:\tlearn: 1354.8958248\ttotal: 16.3s\tremaining: 16.6s\n",
      "495:\tlearn: 1354.5016111\ttotal: 16.3s\tremaining: 16.6s\n",
      "496:\tlearn: 1354.2808692\ttotal: 16.3s\tremaining: 16.5s\n",
      "497:\tlearn: 1354.1464873\ttotal: 16.4s\tremaining: 16.5s\n",
      "498:\tlearn: 1353.9814758\ttotal: 16.4s\tremaining: 16.5s\n",
      "499:\tlearn: 1353.9223421\ttotal: 16.4s\tremaining: 16.4s\n",
      "500:\tlearn: 1353.7024391\ttotal: 16.5s\tremaining: 16.4s\n",
      "501:\tlearn: 1353.4147765\ttotal: 16.5s\tremaining: 16.4s\n",
      "502:\tlearn: 1353.2160524\ttotal: 16.5s\tremaining: 16.3s\n",
      "503:\tlearn: 1352.9684921\ttotal: 16.6s\tremaining: 16.3s\n",
      "504:\tlearn: 1352.7759560\ttotal: 16.6s\tremaining: 16.3s\n",
      "505:\tlearn: 1352.5776259\ttotal: 16.6s\tremaining: 16.2s\n",
      "506:\tlearn: 1352.2437486\ttotal: 16.7s\tremaining: 16.2s\n",
      "507:\tlearn: 1351.9903010\ttotal: 16.7s\tremaining: 16.2s\n",
      "508:\tlearn: 1351.8693392\ttotal: 16.7s\tremaining: 16.1s\n",
      "509:\tlearn: 1351.7334532\ttotal: 16.8s\tremaining: 16.1s\n",
      "510:\tlearn: 1351.5600423\ttotal: 16.8s\tremaining: 16.1s\n",
      "511:\tlearn: 1351.3484992\ttotal: 16.8s\tremaining: 16s\n",
      "512:\tlearn: 1351.1377408\ttotal: 16.9s\tremaining: 16s\n",
      "513:\tlearn: 1350.9522913\ttotal: 16.9s\tremaining: 16s\n",
      "514:\tlearn: 1350.7424913\ttotal: 16.9s\tremaining: 15.9s\n",
      "515:\tlearn: 1350.6169252\ttotal: 17s\tremaining: 15.9s\n",
      "516:\tlearn: 1350.4680492\ttotal: 17s\tremaining: 15.9s\n",
      "517:\tlearn: 1350.2279897\ttotal: 17s\tremaining: 15.8s\n",
      "518:\tlearn: 1350.0198206\ttotal: 17.1s\tremaining: 15.8s\n",
      "519:\tlearn: 1349.7666687\ttotal: 17.1s\tremaining: 15.8s\n",
      "520:\tlearn: 1349.5609463\ttotal: 17.1s\tremaining: 15.7s\n",
      "521:\tlearn: 1349.3997873\ttotal: 17.2s\tremaining: 15.7s\n",
      "522:\tlearn: 1349.2857193\ttotal: 17.2s\tremaining: 15.7s\n",
      "523:\tlearn: 1349.1416961\ttotal: 17.2s\tremaining: 15.6s\n",
      "524:\tlearn: 1348.9456338\ttotal: 17.2s\tremaining: 15.6s\n",
      "525:\tlearn: 1348.7717551\ttotal: 17.3s\tremaining: 15.6s\n",
      "526:\tlearn: 1348.6395512\ttotal: 17.3s\tremaining: 15.5s\n",
      "527:\tlearn: 1348.3104655\ttotal: 17.3s\tremaining: 15.5s\n",
      "528:\tlearn: 1348.1378025\ttotal: 17.4s\tremaining: 15.5s\n",
      "529:\tlearn: 1347.9993346\ttotal: 17.4s\tremaining: 15.4s\n",
      "530:\tlearn: 1347.7462691\ttotal: 17.4s\tremaining: 15.4s\n",
      "531:\tlearn: 1347.6169535\ttotal: 17.5s\tremaining: 15.4s\n",
      "532:\tlearn: 1347.3973371\ttotal: 17.5s\tremaining: 15.3s\n",
      "533:\tlearn: 1347.2539441\ttotal: 17.5s\tremaining: 15.3s\n",
      "534:\tlearn: 1347.1241709\ttotal: 17.6s\tremaining: 15.3s\n",
      "535:\tlearn: 1346.8935882\ttotal: 17.6s\tremaining: 15.2s\n",
      "536:\tlearn: 1346.7107410\ttotal: 17.6s\tremaining: 15.2s\n",
      "537:\tlearn: 1346.4639305\ttotal: 17.7s\tremaining: 15.2s\n",
      "538:\tlearn: 1346.2453038\ttotal: 17.7s\tremaining: 15.1s\n",
      "539:\tlearn: 1345.7934041\ttotal: 17.7s\tremaining: 15.1s\n",
      "540:\tlearn: 1345.6175188\ttotal: 17.8s\tremaining: 15.1s\n",
      "541:\tlearn: 1345.4571102\ttotal: 17.8s\tremaining: 15s\n",
      "542:\tlearn: 1345.3274742\ttotal: 17.8s\tremaining: 15s\n",
      "543:\tlearn: 1345.1752712\ttotal: 17.9s\tremaining: 15s\n",
      "544:\tlearn: 1344.8995814\ttotal: 17.9s\tremaining: 14.9s\n",
      "545:\tlearn: 1344.7806753\ttotal: 17.9s\tremaining: 14.9s\n",
      "546:\tlearn: 1344.5762883\ttotal: 18s\tremaining: 14.9s\n",
      "547:\tlearn: 1344.2299382\ttotal: 18s\tremaining: 14.8s\n",
      "548:\tlearn: 1344.0691160\ttotal: 18s\tremaining: 14.8s\n",
      "549:\tlearn: 1343.7744170\ttotal: 18.1s\tremaining: 14.8s\n",
      "550:\tlearn: 1343.6103326\ttotal: 18.1s\tremaining: 14.8s\n",
      "551:\tlearn: 1343.4228561\ttotal: 18.1s\tremaining: 14.7s\n",
      "552:\tlearn: 1343.1944445\ttotal: 18.2s\tremaining: 14.7s\n",
      "553:\tlearn: 1343.0545429\ttotal: 18.2s\tremaining: 14.7s\n",
      "554:\tlearn: 1342.9219577\ttotal: 18.2s\tremaining: 14.6s\n",
      "555:\tlearn: 1342.8120092\ttotal: 18.3s\tremaining: 14.6s\n",
      "556:\tlearn: 1342.6420273\ttotal: 18.3s\tremaining: 14.6s\n",
      "557:\tlearn: 1342.5066890\ttotal: 18.3s\tremaining: 14.5s\n",
      "558:\tlearn: 1342.3248095\ttotal: 18.4s\tremaining: 14.5s\n",
      "559:\tlearn: 1342.0461942\ttotal: 18.4s\tremaining: 14.5s\n",
      "560:\tlearn: 1341.9171684\ttotal: 18.4s\tremaining: 14.4s\n",
      "561:\tlearn: 1341.7210232\ttotal: 18.5s\tremaining: 14.4s\n",
      "562:\tlearn: 1341.5263844\ttotal: 18.5s\tremaining: 14.4s\n",
      "563:\tlearn: 1341.3220528\ttotal: 18.5s\tremaining: 14.3s\n",
      "564:\tlearn: 1341.1141167\ttotal: 18.6s\tremaining: 14.3s\n",
      "565:\tlearn: 1340.9129516\ttotal: 18.6s\tremaining: 14.3s\n",
      "566:\tlearn: 1340.7230487\ttotal: 18.6s\tremaining: 14.2s\n",
      "567:\tlearn: 1340.6270133\ttotal: 18.7s\tremaining: 14.2s\n",
      "568:\tlearn: 1340.4156758\ttotal: 18.7s\tremaining: 14.2s\n",
      "569:\tlearn: 1340.2474062\ttotal: 18.7s\tremaining: 14.1s\n",
      "570:\tlearn: 1339.9952872\ttotal: 18.8s\tremaining: 14.1s\n",
      "571:\tlearn: 1339.8901963\ttotal: 18.8s\tremaining: 14.1s\n",
      "572:\tlearn: 1339.6686681\ttotal: 18.8s\tremaining: 14s\n",
      "573:\tlearn: 1339.3807427\ttotal: 18.9s\tremaining: 14s\n",
      "574:\tlearn: 1339.2625376\ttotal: 18.9s\tremaining: 14s\n",
      "575:\tlearn: 1339.0589746\ttotal: 18.9s\tremaining: 13.9s\n",
      "576:\tlearn: 1338.8753323\ttotal: 19s\tremaining: 13.9s\n",
      "577:\tlearn: 1338.6706236\ttotal: 19s\tremaining: 13.9s\n",
      "578:\tlearn: 1338.3426168\ttotal: 19s\tremaining: 13.8s\n",
      "579:\tlearn: 1338.1606154\ttotal: 19.1s\tremaining: 13.8s\n",
      "580:\tlearn: 1337.9376715\ttotal: 19.1s\tremaining: 13.8s\n",
      "581:\tlearn: 1337.7640997\ttotal: 19.1s\tremaining: 13.7s\n",
      "582:\tlearn: 1337.5968483\ttotal: 19.2s\tremaining: 13.7s\n",
      "583:\tlearn: 1337.3576857\ttotal: 19.2s\tremaining: 13.7s\n",
      "584:\tlearn: 1337.2024942\ttotal: 19.2s\tremaining: 13.6s\n",
      "585:\tlearn: 1337.0613092\ttotal: 19.3s\tremaining: 13.6s\n",
      "586:\tlearn: 1336.9253545\ttotal: 19.3s\tremaining: 13.6s\n",
      "587:\tlearn: 1336.7254631\ttotal: 19.3s\tremaining: 13.5s\n",
      "588:\tlearn: 1336.5377498\ttotal: 19.4s\tremaining: 13.5s\n",
      "589:\tlearn: 1336.4042404\ttotal: 19.4s\tremaining: 13.5s\n",
      "590:\tlearn: 1336.2955884\ttotal: 19.4s\tremaining: 13.4s\n",
      "591:\tlearn: 1336.1861125\ttotal: 19.4s\tremaining: 13.4s\n",
      "592:\tlearn: 1336.0151531\ttotal: 19.5s\tremaining: 13.4s\n",
      "593:\tlearn: 1335.8396597\ttotal: 19.5s\tremaining: 13.3s\n",
      "594:\tlearn: 1335.5959446\ttotal: 19.5s\tremaining: 13.3s\n",
      "595:\tlearn: 1335.4028333\ttotal: 19.6s\tremaining: 13.3s\n",
      "596:\tlearn: 1335.2250779\ttotal: 19.6s\tremaining: 13.2s\n",
      "597:\tlearn: 1335.0488492\ttotal: 19.6s\tremaining: 13.2s\n",
      "598:\tlearn: 1334.8822768\ttotal: 19.7s\tremaining: 13.2s\n",
      "599:\tlearn: 1334.6915343\ttotal: 19.7s\tremaining: 13.1s\n",
      "600:\tlearn: 1334.4947085\ttotal: 19.7s\tremaining: 13.1s\n",
      "601:\tlearn: 1334.3840905\ttotal: 19.8s\tremaining: 13.1s\n",
      "602:\tlearn: 1334.2406070\ttotal: 19.8s\tremaining: 13s\n",
      "603:\tlearn: 1334.0326265\ttotal: 19.8s\tremaining: 13s\n",
      "604:\tlearn: 1333.8598428\ttotal: 19.9s\tremaining: 13s\n",
      "605:\tlearn: 1333.7598926\ttotal: 19.9s\tremaining: 12.9s\n",
      "606:\tlearn: 1333.6736689\ttotal: 19.9s\tremaining: 12.9s\n",
      "607:\tlearn: 1333.5221223\ttotal: 20s\tremaining: 12.9s\n",
      "608:\tlearn: 1333.3565638\ttotal: 20s\tremaining: 12.8s\n",
      "609:\tlearn: 1333.1907987\ttotal: 20s\tremaining: 12.8s\n",
      "610:\tlearn: 1332.9666987\ttotal: 20.1s\tremaining: 12.8s\n",
      "611:\tlearn: 1332.8351787\ttotal: 20.1s\tremaining: 12.7s\n",
      "612:\tlearn: 1332.6822545\ttotal: 20.1s\tremaining: 12.7s\n",
      "613:\tlearn: 1332.4497083\ttotal: 20.2s\tremaining: 12.7s\n",
      "614:\tlearn: 1332.2098190\ttotal: 20.2s\tremaining: 12.6s\n",
      "615:\tlearn: 1332.0005669\ttotal: 20.2s\tremaining: 12.6s\n"
     ]
    },
    {
     "name": "stdout",
     "output_type": "stream",
     "text": [
      "616:\tlearn: 1331.8335790\ttotal: 20.3s\tremaining: 12.6s\n",
      "617:\tlearn: 1331.6989576\ttotal: 20.3s\tremaining: 12.6s\n",
      "618:\tlearn: 1331.5151187\ttotal: 20.3s\tremaining: 12.5s\n",
      "619:\tlearn: 1331.4003638\ttotal: 20.4s\tremaining: 12.5s\n",
      "620:\tlearn: 1331.3017176\ttotal: 20.4s\tremaining: 12.4s\n",
      "621:\tlearn: 1331.2027352\ttotal: 20.4s\tremaining: 12.4s\n",
      "622:\tlearn: 1330.9347916\ttotal: 20.5s\tremaining: 12.4s\n",
      "623:\tlearn: 1330.7130234\ttotal: 20.5s\tremaining: 12.4s\n",
      "624:\tlearn: 1330.5892596\ttotal: 20.5s\tremaining: 12.3s\n",
      "625:\tlearn: 1330.4798459\ttotal: 20.6s\tremaining: 12.3s\n",
      "626:\tlearn: 1330.2692427\ttotal: 20.6s\tremaining: 12.3s\n",
      "627:\tlearn: 1330.1315294\ttotal: 20.6s\tremaining: 12.2s\n",
      "628:\tlearn: 1329.9639934\ttotal: 20.7s\tremaining: 12.2s\n",
      "629:\tlearn: 1329.8140088\ttotal: 20.7s\tremaining: 12.2s\n",
      "630:\tlearn: 1329.5812215\ttotal: 20.7s\tremaining: 12.1s\n",
      "631:\tlearn: 1329.4173816\ttotal: 20.8s\tremaining: 12.1s\n",
      "632:\tlearn: 1329.2890189\ttotal: 20.8s\tremaining: 12.1s\n",
      "633:\tlearn: 1329.1529493\ttotal: 20.8s\tremaining: 12s\n",
      "634:\tlearn: 1329.0065733\ttotal: 20.9s\tremaining: 12s\n",
      "635:\tlearn: 1328.8476185\ttotal: 20.9s\tremaining: 12s\n",
      "636:\tlearn: 1328.7656297\ttotal: 20.9s\tremaining: 11.9s\n",
      "637:\tlearn: 1328.6634327\ttotal: 21s\tremaining: 11.9s\n",
      "638:\tlearn: 1328.5262538\ttotal: 21s\tremaining: 11.9s\n",
      "639:\tlearn: 1328.4131845\ttotal: 21s\tremaining: 11.8s\n",
      "640:\tlearn: 1328.2603206\ttotal: 21.1s\tremaining: 11.8s\n",
      "641:\tlearn: 1328.1266845\ttotal: 21.1s\tremaining: 11.8s\n",
      "642:\tlearn: 1327.8796700\ttotal: 21.1s\tremaining: 11.7s\n",
      "643:\tlearn: 1327.7210867\ttotal: 21.2s\tremaining: 11.7s\n",
      "644:\tlearn: 1327.5077367\ttotal: 21.2s\tremaining: 11.7s\n",
      "645:\tlearn: 1327.3852494\ttotal: 21.2s\tremaining: 11.6s\n",
      "646:\tlearn: 1327.1788608\ttotal: 21.3s\tremaining: 11.6s\n",
      "647:\tlearn: 1327.0346454\ttotal: 21.3s\tremaining: 11.6s\n",
      "648:\tlearn: 1326.8177534\ttotal: 21.3s\tremaining: 11.5s\n",
      "649:\tlearn: 1326.7088690\ttotal: 21.3s\tremaining: 11.5s\n",
      "650:\tlearn: 1326.6129628\ttotal: 21.4s\tremaining: 11.5s\n",
      "651:\tlearn: 1326.3588611\ttotal: 21.4s\tremaining: 11.4s\n",
      "652:\tlearn: 1326.2704433\ttotal: 21.4s\tremaining: 11.4s\n",
      "653:\tlearn: 1326.1441794\ttotal: 21.5s\tremaining: 11.4s\n",
      "654:\tlearn: 1325.9756005\ttotal: 21.5s\tremaining: 11.3s\n",
      "655:\tlearn: 1325.7637792\ttotal: 21.5s\tremaining: 11.3s\n",
      "656:\tlearn: 1325.6207117\ttotal: 21.6s\tremaining: 11.3s\n",
      "657:\tlearn: 1325.5471460\ttotal: 21.6s\tremaining: 11.2s\n",
      "658:\tlearn: 1325.3167872\ttotal: 21.6s\tremaining: 11.2s\n",
      "659:\tlearn: 1325.1141338\ttotal: 21.7s\tremaining: 11.2s\n",
      "660:\tlearn: 1324.9902553\ttotal: 21.7s\tremaining: 11.1s\n",
      "661:\tlearn: 1324.8542706\ttotal: 21.7s\tremaining: 11.1s\n",
      "662:\tlearn: 1324.7338977\ttotal: 21.8s\tremaining: 11.1s\n",
      "663:\tlearn: 1324.6414899\ttotal: 21.8s\tremaining: 11s\n",
      "664:\tlearn: 1324.4972910\ttotal: 21.8s\tremaining: 11s\n",
      "665:\tlearn: 1324.3133293\ttotal: 21.9s\tremaining: 11s\n",
      "666:\tlearn: 1324.1855487\ttotal: 21.9s\tremaining: 10.9s\n",
      "667:\tlearn: 1324.0629130\ttotal: 21.9s\tremaining: 10.9s\n",
      "668:\tlearn: 1323.8975482\ttotal: 22s\tremaining: 10.9s\n",
      "669:\tlearn: 1323.7725631\ttotal: 22s\tremaining: 10.8s\n",
      "670:\tlearn: 1323.5908780\ttotal: 22s\tremaining: 10.8s\n",
      "671:\tlearn: 1323.3682659\ttotal: 22.1s\tremaining: 10.8s\n",
      "672:\tlearn: 1323.0964886\ttotal: 22.1s\tremaining: 10.7s\n",
      "673:\tlearn: 1322.8052640\ttotal: 22.1s\tremaining: 10.7s\n",
      "674:\tlearn: 1322.5178742\ttotal: 22.2s\tremaining: 10.7s\n",
      "675:\tlearn: 1322.3879217\ttotal: 22.2s\tremaining: 10.6s\n",
      "676:\tlearn: 1322.2805484\ttotal: 22.2s\tremaining: 10.6s\n",
      "677:\tlearn: 1322.1015198\ttotal: 22.3s\tremaining: 10.6s\n",
      "678:\tlearn: 1322.0067475\ttotal: 22.3s\tremaining: 10.5s\n",
      "679:\tlearn: 1321.9409331\ttotal: 22.3s\tremaining: 10.5s\n",
      "680:\tlearn: 1321.8090409\ttotal: 22.4s\tremaining: 10.5s\n",
      "681:\tlearn: 1321.7177383\ttotal: 22.4s\tremaining: 10.4s\n",
      "682:\tlearn: 1321.6195591\ttotal: 22.4s\tremaining: 10.4s\n",
      "683:\tlearn: 1321.4193015\ttotal: 22.5s\tremaining: 10.4s\n",
      "684:\tlearn: 1321.2656760\ttotal: 22.5s\tremaining: 10.3s\n",
      "685:\tlearn: 1321.1200154\ttotal: 22.5s\tremaining: 10.3s\n",
      "686:\tlearn: 1320.9336149\ttotal: 22.6s\tremaining: 10.3s\n",
      "687:\tlearn: 1320.7843060\ttotal: 22.6s\tremaining: 10.2s\n",
      "688:\tlearn: 1320.6266324\ttotal: 22.6s\tremaining: 10.2s\n",
      "689:\tlearn: 1320.4236605\ttotal: 22.7s\tremaining: 10.2s\n",
      "690:\tlearn: 1320.2708007\ttotal: 22.7s\tremaining: 10.1s\n",
      "691:\tlearn: 1320.1939452\ttotal: 22.7s\tremaining: 10.1s\n",
      "692:\tlearn: 1320.0670004\ttotal: 22.8s\tremaining: 10.1s\n",
      "693:\tlearn: 1319.9107489\ttotal: 22.8s\tremaining: 10.1s\n",
      "694:\tlearn: 1319.7867468\ttotal: 22.8s\tremaining: 10s\n",
      "695:\tlearn: 1319.6520268\ttotal: 22.9s\tremaining: 9.98s\n",
      "696:\tlearn: 1319.5041359\ttotal: 22.9s\tremaining: 9.95s\n",
      "697:\tlearn: 1319.3489937\ttotal: 22.9s\tremaining: 9.92s\n",
      "698:\tlearn: 1319.1639043\ttotal: 23s\tremaining: 9.88s\n",
      "699:\tlearn: 1319.0763979\ttotal: 23s\tremaining: 9.85s\n",
      "700:\tlearn: 1318.9623079\ttotal: 23s\tremaining: 9.82s\n",
      "701:\tlearn: 1318.7715074\ttotal: 23.1s\tremaining: 9.79s\n",
      "702:\tlearn: 1318.6558449\ttotal: 23.1s\tremaining: 9.75s\n",
      "703:\tlearn: 1318.5274983\ttotal: 23.1s\tremaining: 9.72s\n",
      "704:\tlearn: 1318.3384203\ttotal: 23.2s\tremaining: 9.69s\n",
      "705:\tlearn: 1318.1773775\ttotal: 23.2s\tremaining: 9.66s\n",
      "706:\tlearn: 1318.0641191\ttotal: 23.2s\tremaining: 9.62s\n",
      "707:\tlearn: 1317.9175999\ttotal: 23.3s\tremaining: 9.59s\n",
      "708:\tlearn: 1317.7614860\ttotal: 23.3s\tremaining: 9.56s\n",
      "709:\tlearn: 1317.6600557\ttotal: 23.3s\tremaining: 9.53s\n",
      "710:\tlearn: 1317.4548702\ttotal: 23.4s\tremaining: 9.49s\n",
      "711:\tlearn: 1317.3352180\ttotal: 23.4s\tremaining: 9.46s\n",
      "712:\tlearn: 1317.2001215\ttotal: 23.4s\tremaining: 9.43s\n",
      "713:\tlearn: 1317.1030828\ttotal: 23.5s\tremaining: 9.39s\n",
      "714:\tlearn: 1316.9331649\ttotal: 23.5s\tremaining: 9.36s\n",
      "715:\tlearn: 1316.7764801\ttotal: 23.5s\tremaining: 9.33s\n",
      "716:\tlearn: 1316.6023264\ttotal: 23.6s\tremaining: 9.29s\n",
      "717:\tlearn: 1316.5378619\ttotal: 23.6s\tremaining: 9.26s\n",
      "718:\tlearn: 1316.3712469\ttotal: 23.6s\tremaining: 9.23s\n",
      "719:\tlearn: 1316.0982819\ttotal: 23.6s\tremaining: 9.2s\n",
      "720:\tlearn: 1315.9755358\ttotal: 23.7s\tremaining: 9.16s\n",
      "721:\tlearn: 1315.8796467\ttotal: 23.7s\tremaining: 9.13s\n",
      "722:\tlearn: 1315.8040596\ttotal: 23.7s\tremaining: 9.1s\n",
      "723:\tlearn: 1315.6033826\ttotal: 23.8s\tremaining: 9.06s\n",
      "724:\tlearn: 1315.4720576\ttotal: 23.8s\tremaining: 9.03s\n",
      "725:\tlearn: 1315.4144333\ttotal: 23.8s\tremaining: 9s\n",
      "726:\tlearn: 1315.2480184\ttotal: 23.9s\tremaining: 8.96s\n",
      "727:\tlearn: 1315.1096788\ttotal: 23.9s\tremaining: 8.93s\n",
      "728:\tlearn: 1314.9148911\ttotal: 23.9s\tremaining: 8.9s\n",
      "729:\tlearn: 1314.8076043\ttotal: 24s\tremaining: 8.87s\n",
      "730:\tlearn: 1314.6548935\ttotal: 24s\tremaining: 8.84s\n",
      "731:\tlearn: 1314.4843832\ttotal: 24s\tremaining: 8.8s\n",
      "732:\tlearn: 1314.3579594\ttotal: 24.1s\tremaining: 8.77s\n",
      "733:\tlearn: 1314.1649380\ttotal: 24.1s\tremaining: 8.74s\n",
      "734:\tlearn: 1314.0724131\ttotal: 24.1s\tremaining: 8.71s\n",
      "735:\tlearn: 1313.9431430\ttotal: 24.2s\tremaining: 8.67s\n",
      "736:\tlearn: 1313.7959770\ttotal: 24.2s\tremaining: 8.64s\n",
      "737:\tlearn: 1313.6777683\ttotal: 24.2s\tremaining: 8.61s\n",
      "738:\tlearn: 1313.5703927\ttotal: 24.3s\tremaining: 8.57s\n",
      "739:\tlearn: 1313.3161138\ttotal: 24.3s\tremaining: 8.54s\n",
      "740:\tlearn: 1313.2034402\ttotal: 24.3s\tremaining: 8.51s\n",
      "741:\tlearn: 1313.0032893\ttotal: 24.4s\tremaining: 8.47s\n",
      "742:\tlearn: 1312.8583818\ttotal: 24.4s\tremaining: 8.44s\n",
      "743:\tlearn: 1312.7780480\ttotal: 24.4s\tremaining: 8.41s\n",
      "744:\tlearn: 1312.6240917\ttotal: 24.5s\tremaining: 8.38s\n",
      "745:\tlearn: 1312.4950216\ttotal: 24.5s\tremaining: 8.34s\n",
      "746:\tlearn: 1312.3428612\ttotal: 24.5s\tremaining: 8.31s\n",
      "747:\tlearn: 1312.1879992\ttotal: 24.6s\tremaining: 8.28s\n",
      "748:\tlearn: 1312.0675902\ttotal: 24.6s\tremaining: 8.24s\n",
      "749:\tlearn: 1311.9611817\ttotal: 24.6s\tremaining: 8.21s\n",
      "750:\tlearn: 1311.8554142\ttotal: 24.7s\tremaining: 8.18s\n",
      "751:\tlearn: 1311.7143181\ttotal: 24.7s\tremaining: 8.14s\n",
      "752:\tlearn: 1311.5824010\ttotal: 24.7s\tremaining: 8.11s\n",
      "753:\tlearn: 1311.3672229\ttotal: 24.8s\tremaining: 8.08s\n",
      "754:\tlearn: 1311.2244824\ttotal: 24.8s\tremaining: 8.05s\n",
      "755:\tlearn: 1311.0528237\ttotal: 24.8s\tremaining: 8.02s\n",
      "756:\tlearn: 1310.9529993\ttotal: 24.9s\tremaining: 7.98s\n",
      "757:\tlearn: 1310.7728938\ttotal: 24.9s\tremaining: 7.95s\n",
      "758:\tlearn: 1310.5346799\ttotal: 24.9s\tremaining: 7.92s\n",
      "759:\tlearn: 1310.4574719\ttotal: 25s\tremaining: 7.88s\n",
      "760:\tlearn: 1310.3642485\ttotal: 25s\tremaining: 7.85s\n",
      "761:\tlearn: 1310.2565913\ttotal: 25s\tremaining: 7.82s\n",
      "762:\tlearn: 1310.1378776\ttotal: 25.1s\tremaining: 7.79s\n",
      "763:\tlearn: 1309.9733672\ttotal: 25.1s\tremaining: 7.75s\n",
      "764:\tlearn: 1309.8367485\ttotal: 25.1s\tremaining: 7.72s\n",
      "765:\tlearn: 1309.7383058\ttotal: 25.2s\tremaining: 7.69s\n",
      "766:\tlearn: 1309.5889932\ttotal: 25.2s\tremaining: 7.65s\n",
      "767:\tlearn: 1309.4017707\ttotal: 25.2s\tremaining: 7.62s\n",
      "768:\tlearn: 1309.2786430\ttotal: 25.3s\tremaining: 7.59s\n"
     ]
    },
    {
     "name": "stdout",
     "output_type": "stream",
     "text": [
      "769:\tlearn: 1309.1738736\ttotal: 25.3s\tremaining: 7.56s\n",
      "770:\tlearn: 1309.0838541\ttotal: 25.3s\tremaining: 7.52s\n",
      "771:\tlearn: 1309.0145612\ttotal: 25.4s\tremaining: 7.49s\n",
      "772:\tlearn: 1308.7606071\ttotal: 25.4s\tremaining: 7.46s\n",
      "773:\tlearn: 1308.6657735\ttotal: 25.4s\tremaining: 7.42s\n",
      "774:\tlearn: 1308.5689998\ttotal: 25.5s\tremaining: 7.39s\n",
      "775:\tlearn: 1308.4450651\ttotal: 25.5s\tremaining: 7.36s\n",
      "776:\tlearn: 1308.3364737\ttotal: 25.5s\tremaining: 7.33s\n",
      "777:\tlearn: 1308.2029763\ttotal: 25.6s\tremaining: 7.29s\n",
      "778:\tlearn: 1307.9451371\ttotal: 25.6s\tremaining: 7.26s\n",
      "779:\tlearn: 1307.8007648\ttotal: 25.6s\tremaining: 7.23s\n",
      "780:\tlearn: 1307.6900924\ttotal: 25.7s\tremaining: 7.19s\n",
      "781:\tlearn: 1307.6085794\ttotal: 25.7s\tremaining: 7.16s\n",
      "782:\tlearn: 1307.5067757\ttotal: 25.7s\tremaining: 7.13s\n",
      "783:\tlearn: 1307.4331996\ttotal: 25.7s\tremaining: 7.09s\n",
      "784:\tlearn: 1307.1982814\ttotal: 25.8s\tremaining: 7.06s\n",
      "785:\tlearn: 1307.0960018\ttotal: 25.8s\tremaining: 7.03s\n",
      "786:\tlearn: 1307.0216368\ttotal: 25.8s\tremaining: 7s\n",
      "787:\tlearn: 1306.9157690\ttotal: 25.9s\tremaining: 6.96s\n",
      "788:\tlearn: 1306.7783098\ttotal: 25.9s\tremaining: 6.93s\n",
      "789:\tlearn: 1306.6785406\ttotal: 25.9s\tremaining: 6.9s\n",
      "790:\tlearn: 1306.5725199\ttotal: 26s\tremaining: 6.86s\n",
      "791:\tlearn: 1306.4915703\ttotal: 26s\tremaining: 6.83s\n",
      "792:\tlearn: 1306.3166826\ttotal: 26s\tremaining: 6.8s\n",
      "793:\tlearn: 1306.1550742\ttotal: 26.1s\tremaining: 6.76s\n",
      "794:\tlearn: 1306.0637365\ttotal: 26.1s\tremaining: 6.73s\n",
      "795:\tlearn: 1305.9400778\ttotal: 26.1s\tremaining: 6.7s\n",
      "796:\tlearn: 1305.8339783\ttotal: 26.2s\tremaining: 6.67s\n",
      "797:\tlearn: 1305.6935820\ttotal: 26.2s\tremaining: 6.63s\n",
      "798:\tlearn: 1305.5716455\ttotal: 26.2s\tremaining: 6.6s\n",
      "799:\tlearn: 1305.4828230\ttotal: 26.3s\tremaining: 6.57s\n",
      "800:\tlearn: 1305.3116454\ttotal: 26.3s\tremaining: 6.54s\n",
      "801:\tlearn: 1305.1974103\ttotal: 26.3s\tremaining: 6.5s\n",
      "802:\tlearn: 1304.9243055\ttotal: 26.4s\tremaining: 6.47s\n",
      "803:\tlearn: 1304.7726731\ttotal: 26.4s\tremaining: 6.44s\n",
      "804:\tlearn: 1304.7029166\ttotal: 26.4s\tremaining: 6.4s\n",
      "805:\tlearn: 1304.6099374\ttotal: 26.5s\tremaining: 6.37s\n",
      "806:\tlearn: 1304.4300603\ttotal: 26.5s\tremaining: 6.34s\n",
      "807:\tlearn: 1304.3370019\ttotal: 26.5s\tremaining: 6.3s\n",
      "808:\tlearn: 1304.2641054\ttotal: 26.6s\tremaining: 6.27s\n",
      "809:\tlearn: 1304.0960881\ttotal: 26.6s\tremaining: 6.24s\n",
      "810:\tlearn: 1304.0082210\ttotal: 26.6s\tremaining: 6.21s\n",
      "811:\tlearn: 1303.8545287\ttotal: 26.7s\tremaining: 6.17s\n",
      "812:\tlearn: 1303.7454273\ttotal: 26.7s\tremaining: 6.14s\n",
      "813:\tlearn: 1303.6303593\ttotal: 26.7s\tremaining: 6.11s\n",
      "814:\tlearn: 1303.5286926\ttotal: 26.8s\tremaining: 6.07s\n",
      "815:\tlearn: 1303.4217221\ttotal: 26.8s\tremaining: 6.04s\n",
      "816:\tlearn: 1303.3193222\ttotal: 26.8s\tremaining: 6.01s\n",
      "817:\tlearn: 1303.2007482\ttotal: 26.9s\tremaining: 5.98s\n",
      "818:\tlearn: 1302.9976464\ttotal: 26.9s\tremaining: 5.94s\n",
      "819:\tlearn: 1302.8653740\ttotal: 26.9s\tremaining: 5.91s\n",
      "820:\tlearn: 1302.7693791\ttotal: 27s\tremaining: 5.88s\n",
      "821:\tlearn: 1302.6251725\ttotal: 27s\tremaining: 5.84s\n",
      "822:\tlearn: 1302.4621304\ttotal: 27s\tremaining: 5.81s\n",
      "823:\tlearn: 1302.3824411\ttotal: 27s\tremaining: 5.78s\n",
      "824:\tlearn: 1302.3111460\ttotal: 27.1s\tremaining: 5.74s\n",
      "825:\tlearn: 1302.2083722\ttotal: 27.1s\tremaining: 5.71s\n",
      "826:\tlearn: 1302.0800376\ttotal: 27.1s\tremaining: 5.68s\n",
      "827:\tlearn: 1302.0290734\ttotal: 27.2s\tremaining: 5.65s\n",
      "828:\tlearn: 1301.9117627\ttotal: 27.2s\tremaining: 5.61s\n",
      "829:\tlearn: 1301.7707409\ttotal: 27.2s\tremaining: 5.58s\n",
      "830:\tlearn: 1301.6048928\ttotal: 27.3s\tremaining: 5.55s\n",
      "831:\tlearn: 1301.4817547\ttotal: 27.3s\tremaining: 5.51s\n",
      "832:\tlearn: 1301.2116045\ttotal: 27.3s\tremaining: 5.48s\n",
      "833:\tlearn: 1301.0189529\ttotal: 27.4s\tremaining: 5.45s\n",
      "834:\tlearn: 1300.8921933\ttotal: 27.4s\tremaining: 5.42s\n",
      "835:\tlearn: 1300.7165553\ttotal: 27.4s\tremaining: 5.38s\n",
      "836:\tlearn: 1300.5692468\ttotal: 27.5s\tremaining: 5.35s\n",
      "837:\tlearn: 1300.4627368\ttotal: 27.5s\tremaining: 5.32s\n",
      "838:\tlearn: 1300.3845759\ttotal: 27.5s\tremaining: 5.29s\n",
      "839:\tlearn: 1300.2453604\ttotal: 27.6s\tremaining: 5.25s\n",
      "840:\tlearn: 1300.1329704\ttotal: 27.6s\tremaining: 5.22s\n",
      "841:\tlearn: 1299.9004838\ttotal: 27.6s\tremaining: 5.19s\n",
      "842:\tlearn: 1299.7325554\ttotal: 27.7s\tremaining: 5.15s\n",
      "843:\tlearn: 1299.5930735\ttotal: 27.7s\tremaining: 5.12s\n",
      "844:\tlearn: 1299.4343024\ttotal: 27.7s\tremaining: 5.09s\n",
      "845:\tlearn: 1299.3460893\ttotal: 27.8s\tremaining: 5.06s\n",
      "846:\tlearn: 1299.2461309\ttotal: 27.8s\tremaining: 5.02s\n",
      "847:\tlearn: 1299.1298606\ttotal: 27.8s\tremaining: 4.99s\n",
      "848:\tlearn: 1298.9706483\ttotal: 27.9s\tremaining: 4.96s\n",
      "849:\tlearn: 1298.8274138\ttotal: 27.9s\tremaining: 4.92s\n",
      "850:\tlearn: 1298.6578719\ttotal: 27.9s\tremaining: 4.89s\n",
      "851:\tlearn: 1298.5293331\ttotal: 28s\tremaining: 4.86s\n",
      "852:\tlearn: 1298.4379795\ttotal: 28s\tremaining: 4.83s\n",
      "853:\tlearn: 1298.3204642\ttotal: 28s\tremaining: 4.79s\n",
      "854:\tlearn: 1298.2038741\ttotal: 28.1s\tremaining: 4.76s\n",
      "855:\tlearn: 1298.0686945\ttotal: 28.1s\tremaining: 4.73s\n",
      "856:\tlearn: 1297.9893557\ttotal: 28.1s\tremaining: 4.69s\n",
      "857:\tlearn: 1297.8976489\ttotal: 28.2s\tremaining: 4.66s\n",
      "858:\tlearn: 1297.8150693\ttotal: 28.2s\tremaining: 4.63s\n",
      "859:\tlearn: 1297.7008345\ttotal: 28.2s\tremaining: 4.6s\n",
      "860:\tlearn: 1297.6120338\ttotal: 28.3s\tremaining: 4.56s\n",
      "861:\tlearn: 1297.4528729\ttotal: 28.3s\tremaining: 4.53s\n",
      "862:\tlearn: 1297.3113880\ttotal: 28.3s\tremaining: 4.5s\n",
      "863:\tlearn: 1297.1884968\ttotal: 28.4s\tremaining: 4.46s\n",
      "864:\tlearn: 1297.1218250\ttotal: 28.4s\tremaining: 4.43s\n",
      "865:\tlearn: 1297.0225522\ttotal: 28.4s\tremaining: 4.4s\n",
      "866:\tlearn: 1296.8699393\ttotal: 28.5s\tremaining: 4.37s\n",
      "867:\tlearn: 1296.7729041\ttotal: 28.5s\tremaining: 4.33s\n",
      "868:\tlearn: 1296.6879896\ttotal: 28.5s\tremaining: 4.3s\n",
      "869:\tlearn: 1296.5392114\ttotal: 28.6s\tremaining: 4.27s\n",
      "870:\tlearn: 1296.4210934\ttotal: 28.6s\tremaining: 4.23s\n",
      "871:\tlearn: 1296.3536077\ttotal: 28.6s\tremaining: 4.2s\n",
      "872:\tlearn: 1296.2604453\ttotal: 28.7s\tremaining: 4.17s\n",
      "873:\tlearn: 1296.1736048\ttotal: 28.7s\tremaining: 4.14s\n",
      "874:\tlearn: 1296.0259037\ttotal: 28.7s\tremaining: 4.11s\n",
      "875:\tlearn: 1295.9262512\ttotal: 28.8s\tremaining: 4.07s\n",
      "876:\tlearn: 1295.8507155\ttotal: 28.8s\tremaining: 4.04s\n",
      "877:\tlearn: 1295.7594594\ttotal: 28.8s\tremaining: 4.01s\n",
      "878:\tlearn: 1295.6212235\ttotal: 28.9s\tremaining: 3.98s\n",
      "879:\tlearn: 1295.5014585\ttotal: 28.9s\tremaining: 3.94s\n",
      "880:\tlearn: 1295.3811395\ttotal: 28.9s\tremaining: 3.91s\n",
      "881:\tlearn: 1295.1827133\ttotal: 29s\tremaining: 3.88s\n",
      "882:\tlearn: 1295.0740476\ttotal: 29s\tremaining: 3.84s\n",
      "883:\tlearn: 1294.9987101\ttotal: 29s\tremaining: 3.81s\n",
      "884:\tlearn: 1294.8811915\ttotal: 29.1s\tremaining: 3.78s\n",
      "885:\tlearn: 1294.7269148\ttotal: 29.1s\tremaining: 3.75s\n",
      "886:\tlearn: 1294.6466155\ttotal: 29.1s\tremaining: 3.71s\n",
      "887:\tlearn: 1294.5441586\ttotal: 29.2s\tremaining: 3.68s\n",
      "888:\tlearn: 1294.4392980\ttotal: 29.2s\tremaining: 3.65s\n",
      "889:\tlearn: 1294.2270273\ttotal: 29.2s\tremaining: 3.61s\n",
      "890:\tlearn: 1294.0692605\ttotal: 29.3s\tremaining: 3.58s\n",
      "891:\tlearn: 1293.9576474\ttotal: 29.3s\tremaining: 3.55s\n",
      "892:\tlearn: 1293.8250040\ttotal: 29.3s\tremaining: 3.52s\n",
      "893:\tlearn: 1293.7173493\ttotal: 29.4s\tremaining: 3.48s\n",
      "894:\tlearn: 1293.6497183\ttotal: 29.4s\tremaining: 3.45s\n",
      "895:\tlearn: 1293.5730414\ttotal: 29.4s\tremaining: 3.42s\n",
      "896:\tlearn: 1293.4367742\ttotal: 29.5s\tremaining: 3.38s\n",
      "897:\tlearn: 1293.3412233\ttotal: 29.5s\tremaining: 3.35s\n",
      "898:\tlearn: 1293.2428164\ttotal: 29.5s\tremaining: 3.32s\n",
      "899:\tlearn: 1293.0990829\ttotal: 29.6s\tremaining: 3.29s\n",
      "900:\tlearn: 1293.0083845\ttotal: 29.6s\tremaining: 3.25s\n",
      "901:\tlearn: 1292.8380732\ttotal: 29.6s\tremaining: 3.22s\n",
      "902:\tlearn: 1292.7579396\ttotal: 29.7s\tremaining: 3.19s\n",
      "903:\tlearn: 1292.6297720\ttotal: 29.7s\tremaining: 3.15s\n",
      "904:\tlearn: 1292.5290775\ttotal: 29.7s\tremaining: 3.12s\n",
      "905:\tlearn: 1292.4515539\ttotal: 29.8s\tremaining: 3.09s\n",
      "906:\tlearn: 1292.3591734\ttotal: 29.8s\tremaining: 3.06s\n",
      "907:\tlearn: 1292.2469734\ttotal: 29.8s\tremaining: 3.02s\n",
      "908:\tlearn: 1292.0903877\ttotal: 29.9s\tremaining: 2.99s\n",
      "909:\tlearn: 1292.0217359\ttotal: 29.9s\tremaining: 2.96s\n",
      "910:\tlearn: 1291.9616249\ttotal: 29.9s\tremaining: 2.92s\n",
      "911:\tlearn: 1291.8507232\ttotal: 30s\tremaining: 2.89s\n",
      "912:\tlearn: 1291.7476840\ttotal: 30s\tremaining: 2.86s\n",
      "913:\tlearn: 1291.6054518\ttotal: 30s\tremaining: 2.83s\n",
      "914:\tlearn: 1291.4231761\ttotal: 30.1s\tremaining: 2.79s\n",
      "915:\tlearn: 1291.3458347\ttotal: 30.1s\tremaining: 2.76s\n",
      "916:\tlearn: 1291.2676027\ttotal: 30.1s\tremaining: 2.73s\n",
      "917:\tlearn: 1291.1584843\ttotal: 30.2s\tremaining: 2.69s\n",
      "918:\tlearn: 1291.0971709\ttotal: 30.2s\tremaining: 2.66s\n",
      "919:\tlearn: 1291.0068991\ttotal: 30.2s\tremaining: 2.63s\n",
      "920:\tlearn: 1290.8630889\ttotal: 30.3s\tremaining: 2.6s\n",
      "921:\tlearn: 1290.7996275\ttotal: 30.3s\tremaining: 2.56s\n"
     ]
    },
    {
     "name": "stdout",
     "output_type": "stream",
     "text": [
      "922:\tlearn: 1290.7038637\ttotal: 30.3s\tremaining: 2.53s\n",
      "923:\tlearn: 1290.6433397\ttotal: 30.4s\tremaining: 2.5s\n",
      "924:\tlearn: 1290.5759935\ttotal: 30.4s\tremaining: 2.46s\n",
      "925:\tlearn: 1290.4741613\ttotal: 30.4s\tremaining: 2.43s\n",
      "926:\tlearn: 1290.4173701\ttotal: 30.5s\tremaining: 2.4s\n",
      "927:\tlearn: 1290.2864647\ttotal: 30.5s\tremaining: 2.37s\n",
      "928:\tlearn: 1290.1937946\ttotal: 30.5s\tremaining: 2.33s\n",
      "929:\tlearn: 1290.1031744\ttotal: 30.6s\tremaining: 2.3s\n",
      "930:\tlearn: 1290.0227416\ttotal: 30.6s\tremaining: 2.27s\n",
      "931:\tlearn: 1289.9685534\ttotal: 30.6s\tremaining: 2.23s\n",
      "932:\tlearn: 1289.7804572\ttotal: 30.7s\tremaining: 2.2s\n",
      "933:\tlearn: 1289.6581048\ttotal: 30.7s\tremaining: 2.17s\n",
      "934:\tlearn: 1289.5435326\ttotal: 30.7s\tremaining: 2.13s\n",
      "935:\tlearn: 1289.4074787\ttotal: 30.8s\tremaining: 2.1s\n",
      "936:\tlearn: 1289.3122682\ttotal: 30.8s\tremaining: 2.07s\n",
      "937:\tlearn: 1289.1548367\ttotal: 30.8s\tremaining: 2.04s\n",
      "938:\tlearn: 1289.0751476\ttotal: 30.9s\tremaining: 2s\n",
      "939:\tlearn: 1288.9723402\ttotal: 30.9s\tremaining: 1.97s\n",
      "940:\tlearn: 1288.8559200\ttotal: 30.9s\tremaining: 1.94s\n",
      "941:\tlearn: 1288.6822892\ttotal: 30.9s\tremaining: 1.91s\n",
      "942:\tlearn: 1288.5484276\ttotal: 31s\tremaining: 1.87s\n",
      "943:\tlearn: 1288.4396526\ttotal: 31s\tremaining: 1.84s\n",
      "944:\tlearn: 1288.3247826\ttotal: 31s\tremaining: 1.81s\n",
      "945:\tlearn: 1288.2042169\ttotal: 31.1s\tremaining: 1.77s\n",
      "946:\tlearn: 1288.1474758\ttotal: 31.1s\tremaining: 1.74s\n",
      "947:\tlearn: 1288.0579364\ttotal: 31.1s\tremaining: 1.71s\n",
      "948:\tlearn: 1287.9622422\ttotal: 31.2s\tremaining: 1.68s\n",
      "949:\tlearn: 1287.8751182\ttotal: 31.2s\tremaining: 1.64s\n",
      "950:\tlearn: 1287.7783048\ttotal: 31.2s\tremaining: 1.61s\n",
      "951:\tlearn: 1287.6694922\ttotal: 31.3s\tremaining: 1.58s\n",
      "952:\tlearn: 1287.5414237\ttotal: 31.3s\tremaining: 1.54s\n",
      "953:\tlearn: 1287.4776789\ttotal: 31.3s\tremaining: 1.51s\n",
      "954:\tlearn: 1287.2961752\ttotal: 31.4s\tremaining: 1.48s\n",
      "955:\tlearn: 1287.2297962\ttotal: 31.4s\tremaining: 1.45s\n",
      "956:\tlearn: 1287.1553015\ttotal: 31.4s\tremaining: 1.41s\n",
      "957:\tlearn: 1287.0523139\ttotal: 31.5s\tremaining: 1.38s\n",
      "958:\tlearn: 1286.9556921\ttotal: 31.5s\tremaining: 1.35s\n",
      "959:\tlearn: 1286.8574851\ttotal: 31.5s\tremaining: 1.31s\n",
      "960:\tlearn: 1286.7869154\ttotal: 31.6s\tremaining: 1.28s\n",
      "961:\tlearn: 1286.6670336\ttotal: 31.6s\tremaining: 1.25s\n",
      "962:\tlearn: 1286.5701778\ttotal: 31.6s\tremaining: 1.22s\n",
      "963:\tlearn: 1286.4685467\ttotal: 31.7s\tremaining: 1.18s\n",
      "964:\tlearn: 1286.4039047\ttotal: 31.7s\tremaining: 1.15s\n",
      "965:\tlearn: 1286.2205035\ttotal: 31.7s\tremaining: 1.12s\n",
      "966:\tlearn: 1286.1622380\ttotal: 31.8s\tremaining: 1.08s\n",
      "967:\tlearn: 1285.9928604\ttotal: 31.8s\tremaining: 1.05s\n",
      "968:\tlearn: 1285.8476888\ttotal: 31.8s\tremaining: 1.02s\n",
      "969:\tlearn: 1285.7637067\ttotal: 31.9s\tremaining: 985ms\n",
      "970:\tlearn: 1285.6568337\ttotal: 31.9s\tremaining: 953ms\n",
      "971:\tlearn: 1285.5516530\ttotal: 31.9s\tremaining: 920ms\n",
      "972:\tlearn: 1285.4494245\ttotal: 32s\tremaining: 887ms\n",
      "973:\tlearn: 1285.3201655\ttotal: 32s\tremaining: 854ms\n",
      "974:\tlearn: 1285.2614532\ttotal: 32s\tremaining: 821ms\n",
      "975:\tlearn: 1285.1932387\ttotal: 32.1s\tremaining: 788ms\n",
      "976:\tlearn: 1285.0764441\ttotal: 32.1s\tremaining: 755ms\n",
      "977:\tlearn: 1284.9716666\ttotal: 32.1s\tremaining: 723ms\n",
      "978:\tlearn: 1284.9154112\ttotal: 32.2s\tremaining: 690ms\n",
      "979:\tlearn: 1284.8524097\ttotal: 32.2s\tremaining: 657ms\n",
      "980:\tlearn: 1284.7326230\ttotal: 32.2s\tremaining: 624ms\n",
      "981:\tlearn: 1284.6395192\ttotal: 32.3s\tremaining: 591ms\n",
      "982:\tlearn: 1284.4929091\ttotal: 32.3s\tremaining: 558ms\n",
      "983:\tlearn: 1284.3873778\ttotal: 32.3s\tremaining: 526ms\n",
      "984:\tlearn: 1284.2649871\ttotal: 32.4s\tremaining: 493ms\n",
      "985:\tlearn: 1284.1556599\ttotal: 32.4s\tremaining: 460ms\n",
      "986:\tlearn: 1284.0188360\ttotal: 32.4s\tremaining: 427ms\n",
      "987:\tlearn: 1283.8557263\ttotal: 32.5s\tremaining: 394ms\n",
      "988:\tlearn: 1283.7606414\ttotal: 32.5s\tremaining: 361ms\n",
      "989:\tlearn: 1283.6954540\ttotal: 32.5s\tremaining: 328ms\n",
      "990:\tlearn: 1283.5567172\ttotal: 32.5s\tremaining: 296ms\n",
      "991:\tlearn: 1283.4657472\ttotal: 32.6s\tremaining: 263ms\n",
      "992:\tlearn: 1283.3735392\ttotal: 32.6s\tremaining: 230ms\n",
      "993:\tlearn: 1283.2573364\ttotal: 32.7s\tremaining: 197ms\n",
      "994:\tlearn: 1283.1925405\ttotal: 32.7s\tremaining: 164ms\n",
      "995:\tlearn: 1283.1049626\ttotal: 32.7s\tremaining: 131ms\n",
      "996:\tlearn: 1283.0104649\ttotal: 32.8s\tremaining: 98.6ms\n",
      "997:\tlearn: 1282.9267449\ttotal: 32.8s\tremaining: 65.7ms\n",
      "998:\tlearn: 1282.8757096\ttotal: 32.8s\tremaining: 32.9ms\n",
      "999:\tlearn: 1282.8229110\ttotal: 32.9s\tremaining: 0us\n",
      "Гиперпараметры:  {'depth': 10, 'iterations': 1000, 'l2_leaf_reg': 1}\n",
      "RMSE: 1372\n",
      "Wall time: 4min 27s\n"
     ]
    }
   ],
   "source": [
    "%%time\n",
    "best2 = grid_search(cbreg, params={'iterations': [500, 1000], 'depth': [5, 10], 'l2_leaf_reg': [1, 3],\n",
    "                                   'random_state': [123]})"
   ]
  },
  {
   "cell_type": "code",
   "execution_count": 63,
   "metadata": {},
   "outputs": [],
   "source": [
    "cbreg2 = CatBoostRegressor(**best2)"
   ]
  },
  {
   "cell_type": "code",
   "execution_count": 64,
   "metadata": {},
   "outputs": [
    {
     "name": "stdout",
     "output_type": "stream",
     "text": [
      "0:\tlearn: 3775.9986125\ttotal: 30.4ms\tremaining: 30.4s\n",
      "1:\tlearn: 3695.5494829\ttotal: 61.5ms\tremaining: 30.7s\n",
      "2:\tlearn: 3618.2695370\ttotal: 96.3ms\tremaining: 32s\n",
      "3:\tlearn: 3543.2870687\ttotal: 132ms\tremaining: 32.9s\n",
      "4:\tlearn: 3471.0931829\ttotal: 168ms\tremaining: 33.4s\n",
      "5:\tlearn: 3400.9682198\ttotal: 200ms\tremaining: 33.1s\n",
      "6:\tlearn: 3333.4099501\ttotal: 233ms\tremaining: 33s\n",
      "7:\tlearn: 3268.4244321\ttotal: 272ms\tremaining: 33.7s\n",
      "8:\tlearn: 3205.9430651\ttotal: 305ms\tremaining: 33.6s\n",
      "9:\tlearn: 3145.5225208\ttotal: 338ms\tremaining: 33.5s\n",
      "10:\tlearn: 3086.5525160\ttotal: 370ms\tremaining: 33.2s\n",
      "11:\tlearn: 3029.9127489\ttotal: 403ms\tremaining: 33.1s\n",
      "12:\tlearn: 2975.5975486\ttotal: 434ms\tremaining: 33s\n",
      "13:\tlearn: 2923.9655591\ttotal: 474ms\tremaining: 33.4s\n",
      "14:\tlearn: 2873.4781886\ttotal: 506ms\tremaining: 33.2s\n",
      "15:\tlearn: 2824.9306967\ttotal: 541ms\tremaining: 33.3s\n",
      "16:\tlearn: 2778.7230277\ttotal: 576ms\tremaining: 33.3s\n",
      "17:\tlearn: 2733.7837710\ttotal: 609ms\tremaining: 33.2s\n",
      "18:\tlearn: 2690.3494132\ttotal: 643ms\tremaining: 33.2s\n",
      "19:\tlearn: 2649.2795441\ttotal: 675ms\tremaining: 33.1s\n",
      "20:\tlearn: 2609.7072930\ttotal: 714ms\tremaining: 33.3s\n",
      "21:\tlearn: 2571.7173865\ttotal: 748ms\tremaining: 33.2s\n",
      "22:\tlearn: 2534.5448226\ttotal: 783ms\tremaining: 33.3s\n",
      "23:\tlearn: 2497.8570446\ttotal: 816ms\tremaining: 33.2s\n",
      "24:\tlearn: 2463.8669286\ttotal: 848ms\tremaining: 33.1s\n",
      "25:\tlearn: 2429.2423929\ttotal: 881ms\tremaining: 33s\n",
      "26:\tlearn: 2397.1599544\ttotal: 914ms\tremaining: 32.9s\n",
      "27:\tlearn: 2365.6643917\ttotal: 952ms\tremaining: 33s\n",
      "28:\tlearn: 2336.6350287\ttotal: 990ms\tremaining: 33.2s\n",
      "29:\tlearn: 2307.8295475\ttotal: 1.02s\tremaining: 33.1s\n",
      "30:\tlearn: 2280.3710024\ttotal: 1.05s\tremaining: 33s\n",
      "31:\tlearn: 2254.3795860\ttotal: 1.09s\tremaining: 32.9s\n",
      "32:\tlearn: 2228.6576269\ttotal: 1.12s\tremaining: 32.9s\n",
      "33:\tlearn: 2204.6550752\ttotal: 1.16s\tremaining: 32.8s\n",
      "34:\tlearn: 2181.3941844\ttotal: 1.2s\tremaining: 33s\n",
      "35:\tlearn: 2157.4544656\ttotal: 1.23s\tremaining: 32.9s\n",
      "36:\tlearn: 2135.3317883\ttotal: 1.26s\tremaining: 32.8s\n",
      "37:\tlearn: 2114.4623834\ttotal: 1.29s\tremaining: 32.7s\n",
      "38:\tlearn: 2094.7309538\ttotal: 1.32s\tremaining: 32.7s\n",
      "39:\tlearn: 2075.3776497\ttotal: 1.36s\tremaining: 32.6s\n",
      "40:\tlearn: 2056.2594304\ttotal: 1.4s\tremaining: 32.7s\n",
      "41:\tlearn: 2037.5970190\ttotal: 1.43s\tremaining: 32.6s\n",
      "42:\tlearn: 2020.1704588\ttotal: 1.46s\tremaining: 32.6s\n",
      "43:\tlearn: 2003.7194370\ttotal: 1.5s\tremaining: 32.5s\n",
      "44:\tlearn: 1987.9566989\ttotal: 1.53s\tremaining: 32.4s\n",
      "45:\tlearn: 1972.8277935\ttotal: 1.56s\tremaining: 32.4s\n",
      "46:\tlearn: 1957.2194101\ttotal: 1.6s\tremaining: 32.4s\n",
      "47:\tlearn: 1943.5684674\ttotal: 1.63s\tremaining: 32.4s\n",
      "48:\tlearn: 1929.8465517\ttotal: 1.67s\tremaining: 32.4s\n",
      "49:\tlearn: 1915.8501268\ttotal: 1.7s\tremaining: 32.3s\n",
      "50:\tlearn: 1903.9316998\ttotal: 1.73s\tremaining: 32.3s\n",
      "51:\tlearn: 1891.3990750\ttotal: 1.77s\tremaining: 32.2s\n",
      "52:\tlearn: 1879.0844713\ttotal: 1.8s\tremaining: 32.2s\n",
      "53:\tlearn: 1867.9882851\ttotal: 1.84s\tremaining: 32.3s\n",
      "54:\tlearn: 1856.8058859\ttotal: 1.87s\tremaining: 32.2s\n",
      "55:\tlearn: 1845.4629798\ttotal: 1.91s\tremaining: 32.1s\n",
      "56:\tlearn: 1835.7466906\ttotal: 1.94s\tremaining: 32.1s\n",
      "57:\tlearn: 1826.0904568\ttotal: 1.97s\tremaining: 32s\n",
      "58:\tlearn: 1816.0141567\ttotal: 2s\tremaining: 31.9s\n",
      "59:\tlearn: 1807.2959399\ttotal: 2.04s\tremaining: 32s\n",
      "60:\tlearn: 1798.2790941\ttotal: 2.07s\tremaining: 31.9s\n",
      "61:\tlearn: 1789.9347545\ttotal: 2.11s\tremaining: 31.9s\n",
      "62:\tlearn: 1781.4156411\ttotal: 2.14s\tremaining: 31.8s\n",
      "63:\tlearn: 1772.0799738\ttotal: 2.17s\tremaining: 31.8s\n",
      "64:\tlearn: 1764.7506920\ttotal: 2.21s\tremaining: 31.8s\n",
      "65:\tlearn: 1756.7929954\ttotal: 2.24s\tremaining: 31.7s\n",
      "66:\tlearn: 1748.6893126\ttotal: 2.28s\tremaining: 31.7s\n",
      "67:\tlearn: 1741.9879480\ttotal: 2.31s\tremaining: 31.7s\n",
      "68:\tlearn: 1735.3422079\ttotal: 2.34s\tremaining: 31.6s\n",
      "69:\tlearn: 1728.2969474\ttotal: 2.38s\tremaining: 31.6s\n",
      "70:\tlearn: 1721.1516908\ttotal: 2.41s\tremaining: 31.5s\n",
      "71:\tlearn: 1715.0799382\ttotal: 2.44s\tremaining: 31.5s\n",
      "72:\tlearn: 1709.5155541\ttotal: 2.47s\tremaining: 31.4s\n",
      "73:\tlearn: 1703.7916814\ttotal: 2.51s\tremaining: 31.4s\n",
      "74:\tlearn: 1698.6976044\ttotal: 2.54s\tremaining: 31.4s\n",
      "75:\tlearn: 1693.0460787\ttotal: 2.58s\tremaining: 31.3s\n",
      "76:\tlearn: 1688.2166498\ttotal: 2.61s\tremaining: 31.3s\n",
      "77:\tlearn: 1683.1603477\ttotal: 2.64s\tremaining: 31.2s\n",
      "78:\tlearn: 1677.5895582\ttotal: 2.67s\tremaining: 31.2s\n",
      "79:\tlearn: 1672.5526828\ttotal: 2.7s\tremaining: 31.1s\n",
      "80:\tlearn: 1667.1366474\ttotal: 2.74s\tremaining: 31.1s\n",
      "81:\tlearn: 1662.7632494\ttotal: 2.78s\tremaining: 31.1s\n",
      "82:\tlearn: 1657.4758668\ttotal: 2.81s\tremaining: 31.1s\n",
      "83:\tlearn: 1653.4425128\ttotal: 2.84s\tremaining: 31s\n",
      "84:\tlearn: 1648.5258589\ttotal: 2.88s\tremaining: 31s\n",
      "85:\tlearn: 1644.6588100\ttotal: 2.91s\tremaining: 30.9s\n",
      "86:\tlearn: 1641.1446586\ttotal: 2.94s\tremaining: 30.8s\n",
      "87:\tlearn: 1637.6227362\ttotal: 2.98s\tremaining: 30.9s\n",
      "88:\tlearn: 1633.9541396\ttotal: 3.01s\tremaining: 30.8s\n",
      "89:\tlearn: 1630.5146514\ttotal: 3.04s\tremaining: 30.8s\n",
      "90:\tlearn: 1627.4122151\ttotal: 3.07s\tremaining: 30.7s\n",
      "91:\tlearn: 1623.9734435\ttotal: 3.11s\tremaining: 30.7s\n",
      "92:\tlearn: 1620.7618263\ttotal: 3.14s\tremaining: 30.6s\n",
      "93:\tlearn: 1617.7865774\ttotal: 3.17s\tremaining: 30.6s\n",
      "94:\tlearn: 1614.8190364\ttotal: 3.21s\tremaining: 30.6s\n",
      "95:\tlearn: 1610.8382666\ttotal: 3.24s\tremaining: 30.5s\n",
      "96:\tlearn: 1607.4361405\ttotal: 3.28s\tremaining: 30.5s\n",
      "97:\tlearn: 1604.0438405\ttotal: 3.31s\tremaining: 30.5s\n",
      "98:\tlearn: 1601.3447065\ttotal: 3.34s\tremaining: 30.4s\n",
      "99:\tlearn: 1597.8949112\ttotal: 3.37s\tremaining: 30.4s\n",
      "100:\tlearn: 1594.9461317\ttotal: 3.41s\tremaining: 30.3s\n",
      "101:\tlearn: 1591.9858938\ttotal: 3.44s\tremaining: 30.3s\n",
      "102:\tlearn: 1589.2441758\ttotal: 3.48s\tremaining: 30.3s\n",
      "103:\tlearn: 1586.9978540\ttotal: 3.51s\tremaining: 30.3s\n",
      "104:\tlearn: 1584.2382353\ttotal: 3.54s\tremaining: 30.2s\n",
      "105:\tlearn: 1581.3833426\ttotal: 3.58s\tremaining: 30.2s\n",
      "106:\tlearn: 1578.9086285\ttotal: 3.61s\tremaining: 30.1s\n",
      "107:\tlearn: 1576.9653104\ttotal: 3.64s\tremaining: 30.1s\n",
      "108:\tlearn: 1575.1191678\ttotal: 3.68s\tremaining: 30.1s\n",
      "109:\tlearn: 1573.2586223\ttotal: 3.71s\tremaining: 30.1s\n",
      "110:\tlearn: 1571.0033498\ttotal: 3.75s\tremaining: 30s\n",
      "111:\tlearn: 1569.3485781\ttotal: 3.78s\tremaining: 30s\n",
      "112:\tlearn: 1567.1471753\ttotal: 3.81s\tremaining: 29.9s\n",
      "113:\tlearn: 1565.2538047\ttotal: 3.85s\tremaining: 29.9s\n",
      "114:\tlearn: 1563.2068023\ttotal: 3.88s\tremaining: 29.8s\n",
      "115:\tlearn: 1561.2345633\ttotal: 3.92s\tremaining: 29.8s\n",
      "116:\tlearn: 1559.5245119\ttotal: 3.95s\tremaining: 29.8s\n",
      "117:\tlearn: 1557.5850303\ttotal: 3.98s\tremaining: 29.8s\n",
      "118:\tlearn: 1555.4111915\ttotal: 4.01s\tremaining: 29.7s\n",
      "119:\tlearn: 1553.7312929\ttotal: 4.05s\tremaining: 29.7s\n",
      "120:\tlearn: 1551.9424327\ttotal: 4.08s\tremaining: 29.6s\n",
      "121:\tlearn: 1549.9801083\ttotal: 4.11s\tremaining: 29.6s\n",
      "122:\tlearn: 1547.5862790\ttotal: 4.15s\tremaining: 29.6s\n",
      "123:\tlearn: 1546.2375452\ttotal: 4.18s\tremaining: 29.5s\n",
      "124:\tlearn: 1544.2749505\ttotal: 4.21s\tremaining: 29.5s\n",
      "125:\tlearn: 1542.4773514\ttotal: 4.25s\tremaining: 29.5s\n",
      "126:\tlearn: 1540.7295062\ttotal: 4.28s\tremaining: 29.4s\n",
      "127:\tlearn: 1539.0950122\ttotal: 4.31s\tremaining: 29.4s\n",
      "128:\tlearn: 1537.5460155\ttotal: 4.35s\tremaining: 29.3s\n",
      "129:\tlearn: 1536.2034084\ttotal: 4.38s\tremaining: 29.3s\n",
      "130:\tlearn: 1534.9013231\ttotal: 4.41s\tremaining: 29.3s\n",
      "131:\tlearn: 1532.4497621\ttotal: 4.45s\tremaining: 29.2s\n",
      "132:\tlearn: 1530.7114856\ttotal: 4.48s\tremaining: 29.2s\n",
      "133:\tlearn: 1529.0847190\ttotal: 4.51s\tremaining: 29.2s\n",
      "134:\tlearn: 1527.8280507\ttotal: 4.54s\tremaining: 29.1s\n",
      "135:\tlearn: 1526.2858989\ttotal: 4.58s\tremaining: 29.1s\n",
      "136:\tlearn: 1524.6433430\ttotal: 4.61s\tremaining: 29.1s\n",
      "137:\tlearn: 1523.5570766\ttotal: 4.64s\tremaining: 29s\n",
      "138:\tlearn: 1522.0317494\ttotal: 4.68s\tremaining: 29s\n",
      "139:\tlearn: 1520.7209826\ttotal: 4.71s\tremaining: 28.9s\n",
      "140:\tlearn: 1519.3452033\ttotal: 4.74s\tremaining: 28.9s\n",
      "141:\tlearn: 1518.1323348\ttotal: 4.78s\tremaining: 28.9s\n",
      "142:\tlearn: 1516.8543637\ttotal: 4.81s\tremaining: 28.8s\n",
      "143:\tlearn: 1515.4386981\ttotal: 4.85s\tremaining: 28.8s\n",
      "144:\tlearn: 1513.8590499\ttotal: 4.88s\tremaining: 28.8s\n",
      "145:\tlearn: 1512.7182459\ttotal: 4.91s\tremaining: 28.7s\n",
      "146:\tlearn: 1511.3899657\ttotal: 4.94s\tremaining: 28.7s\n",
      "147:\tlearn: 1509.8212188\ttotal: 4.97s\tremaining: 28.6s\n",
      "148:\tlearn: 1508.6949771\ttotal: 5.01s\tremaining: 28.6s\n",
      "149:\tlearn: 1507.3276912\ttotal: 5.04s\tremaining: 28.6s\n",
      "150:\tlearn: 1506.2830233\ttotal: 5.08s\tremaining: 28.5s\n",
      "151:\tlearn: 1505.1948061\ttotal: 5.11s\tremaining: 28.5s\n",
      "152:\tlearn: 1504.1755918\ttotal: 5.14s\tremaining: 28.5s\n",
      "153:\tlearn: 1502.9830262\ttotal: 5.18s\tremaining: 28.4s\n",
      "154:\tlearn: 1502.1844660\ttotal: 5.21s\tremaining: 28.4s\n",
      "155:\tlearn: 1501.2153387\ttotal: 5.24s\tremaining: 28.4s\n",
      "156:\tlearn: 1499.8577087\ttotal: 5.27s\tremaining: 28.3s\n"
     ]
    },
    {
     "name": "stdout",
     "output_type": "stream",
     "text": [
      "157:\tlearn: 1499.1185398\ttotal: 5.31s\tremaining: 28.3s\n",
      "158:\tlearn: 1498.1228567\ttotal: 5.34s\tremaining: 28.3s\n",
      "159:\tlearn: 1496.6316967\ttotal: 5.38s\tremaining: 28.2s\n",
      "160:\tlearn: 1495.7059700\ttotal: 5.41s\tremaining: 28.2s\n",
      "161:\tlearn: 1494.4476958\ttotal: 5.44s\tremaining: 28.1s\n",
      "162:\tlearn: 1493.1948143\ttotal: 5.47s\tremaining: 28.1s\n",
      "163:\tlearn: 1491.9747898\ttotal: 5.5s\tremaining: 28.1s\n",
      "164:\tlearn: 1491.2205626\ttotal: 5.54s\tremaining: 28s\n",
      "165:\tlearn: 1489.9799653\ttotal: 5.57s\tremaining: 28s\n",
      "166:\tlearn: 1489.2079315\ttotal: 5.61s\tremaining: 28s\n",
      "167:\tlearn: 1487.8824419\ttotal: 5.64s\tremaining: 27.9s\n",
      "168:\tlearn: 1486.9764776\ttotal: 5.67s\tremaining: 27.9s\n",
      "169:\tlearn: 1486.1291735\ttotal: 5.7s\tremaining: 27.9s\n",
      "170:\tlearn: 1485.5457484\ttotal: 5.74s\tremaining: 27.8s\n",
      "171:\tlearn: 1484.9187413\ttotal: 5.77s\tremaining: 27.8s\n",
      "172:\tlearn: 1484.0570183\ttotal: 5.8s\tremaining: 27.7s\n",
      "173:\tlearn: 1483.0784448\ttotal: 5.84s\tremaining: 27.7s\n",
      "174:\tlearn: 1482.2970073\ttotal: 5.87s\tremaining: 27.7s\n",
      "175:\tlearn: 1481.3677620\ttotal: 5.9s\tremaining: 27.6s\n",
      "176:\tlearn: 1480.5518742\ttotal: 5.93s\tremaining: 27.6s\n",
      "177:\tlearn: 1479.7837844\ttotal: 5.97s\tremaining: 27.6s\n",
      "178:\tlearn: 1479.0209967\ttotal: 6s\tremaining: 27.5s\n",
      "179:\tlearn: 1478.3574993\ttotal: 6.04s\tremaining: 27.5s\n",
      "180:\tlearn: 1477.4771225\ttotal: 6.07s\tremaining: 27.5s\n",
      "181:\tlearn: 1476.6682690\ttotal: 6.1s\tremaining: 27.4s\n",
      "182:\tlearn: 1475.6492322\ttotal: 6.13s\tremaining: 27.4s\n",
      "183:\tlearn: 1475.0088497\ttotal: 6.17s\tremaining: 27.3s\n",
      "184:\tlearn: 1474.2938763\ttotal: 6.2s\tremaining: 27.3s\n",
      "185:\tlearn: 1473.4377678\ttotal: 6.23s\tremaining: 27.3s\n",
      "186:\tlearn: 1472.6515343\ttotal: 6.27s\tremaining: 27.3s\n",
      "187:\tlearn: 1471.9674282\ttotal: 6.3s\tremaining: 27.2s\n",
      "188:\tlearn: 1471.1515217\ttotal: 6.33s\tremaining: 27.2s\n",
      "189:\tlearn: 1470.2400823\ttotal: 6.37s\tremaining: 27.1s\n",
      "190:\tlearn: 1469.4812901\ttotal: 6.4s\tremaining: 27.1s\n",
      "191:\tlearn: 1468.7748341\ttotal: 6.43s\tremaining: 27.1s\n",
      "192:\tlearn: 1468.1908703\ttotal: 6.47s\tremaining: 27s\n",
      "193:\tlearn: 1467.5585522\ttotal: 6.5s\tremaining: 27s\n",
      "194:\tlearn: 1466.9350188\ttotal: 6.53s\tremaining: 27s\n",
      "195:\tlearn: 1466.2910539\ttotal: 6.56s\tremaining: 26.9s\n",
      "196:\tlearn: 1465.4980771\ttotal: 6.59s\tremaining: 26.9s\n",
      "197:\tlearn: 1464.6888385\ttotal: 6.63s\tremaining: 26.9s\n",
      "198:\tlearn: 1464.1645049\ttotal: 6.67s\tremaining: 26.8s\n",
      "199:\tlearn: 1463.5821779\ttotal: 6.7s\tremaining: 26.8s\n",
      "200:\tlearn: 1463.1414653\ttotal: 6.74s\tremaining: 26.8s\n",
      "201:\tlearn: 1462.5453158\ttotal: 6.77s\tremaining: 26.8s\n",
      "202:\tlearn: 1462.1562428\ttotal: 6.8s\tremaining: 26.7s\n",
      "203:\tlearn: 1461.3523217\ttotal: 6.84s\tremaining: 26.7s\n",
      "204:\tlearn: 1460.6173861\ttotal: 6.87s\tremaining: 26.6s\n",
      "205:\tlearn: 1459.8521900\ttotal: 6.9s\tremaining: 26.6s\n",
      "206:\tlearn: 1459.2901877\ttotal: 6.94s\tremaining: 26.6s\n",
      "207:\tlearn: 1458.6635673\ttotal: 6.97s\tremaining: 26.5s\n",
      "208:\tlearn: 1458.0416660\ttotal: 7s\tremaining: 26.5s\n",
      "209:\tlearn: 1457.6756551\ttotal: 7.04s\tremaining: 26.5s\n",
      "210:\tlearn: 1457.0002537\ttotal: 7.07s\tremaining: 26.4s\n",
      "211:\tlearn: 1456.4206281\ttotal: 7.1s\tremaining: 26.4s\n",
      "212:\tlearn: 1455.8644913\ttotal: 7.14s\tremaining: 26.4s\n",
      "213:\tlearn: 1454.9833660\ttotal: 7.17s\tremaining: 26.3s\n",
      "214:\tlearn: 1454.3142977\ttotal: 7.2s\tremaining: 26.3s\n",
      "215:\tlearn: 1453.7454749\ttotal: 7.24s\tremaining: 26.3s\n",
      "216:\tlearn: 1452.8835306\ttotal: 7.27s\tremaining: 26.2s\n",
      "217:\tlearn: 1452.1662627\ttotal: 7.3s\tremaining: 26.2s\n",
      "218:\tlearn: 1451.5425949\ttotal: 7.34s\tremaining: 26.2s\n",
      "219:\tlearn: 1450.9189585\ttotal: 7.37s\tremaining: 26.1s\n",
      "220:\tlearn: 1450.4086177\ttotal: 7.4s\tremaining: 26.1s\n",
      "221:\tlearn: 1449.8701835\ttotal: 7.44s\tremaining: 26.1s\n",
      "222:\tlearn: 1449.0984536\ttotal: 7.47s\tremaining: 26s\n",
      "223:\tlearn: 1448.5289347\ttotal: 7.5s\tremaining: 26s\n",
      "224:\tlearn: 1447.6687154\ttotal: 7.54s\tremaining: 26s\n",
      "225:\tlearn: 1447.2244609\ttotal: 7.57s\tremaining: 25.9s\n",
      "226:\tlearn: 1446.7300161\ttotal: 7.6s\tremaining: 25.9s\n",
      "227:\tlearn: 1446.2737375\ttotal: 7.64s\tremaining: 25.9s\n",
      "228:\tlearn: 1445.6502253\ttotal: 7.67s\tremaining: 25.8s\n",
      "229:\tlearn: 1445.0782548\ttotal: 7.71s\tremaining: 25.8s\n",
      "230:\tlearn: 1444.6994835\ttotal: 7.74s\tremaining: 25.8s\n",
      "231:\tlearn: 1444.0719349\ttotal: 7.77s\tremaining: 25.7s\n",
      "232:\tlearn: 1443.5823049\ttotal: 7.8s\tremaining: 25.7s\n",
      "233:\tlearn: 1442.9129173\ttotal: 7.84s\tremaining: 25.7s\n",
      "234:\tlearn: 1442.2433354\ttotal: 7.87s\tremaining: 25.6s\n",
      "235:\tlearn: 1441.7563502\ttotal: 7.91s\tremaining: 25.6s\n",
      "236:\tlearn: 1441.2070299\ttotal: 7.94s\tremaining: 25.6s\n",
      "237:\tlearn: 1440.5199797\ttotal: 7.97s\tremaining: 25.5s\n",
      "238:\tlearn: 1440.0381660\ttotal: 8s\tremaining: 25.5s\n",
      "239:\tlearn: 1439.3950765\ttotal: 8.04s\tremaining: 25.4s\n",
      "240:\tlearn: 1438.9365632\ttotal: 8.07s\tremaining: 25.4s\n",
      "241:\tlearn: 1438.4885552\ttotal: 8.11s\tremaining: 25.4s\n",
      "242:\tlearn: 1437.9948225\ttotal: 8.14s\tremaining: 25.4s\n",
      "243:\tlearn: 1437.5800569\ttotal: 8.17s\tremaining: 25.3s\n",
      "244:\tlearn: 1436.9348612\ttotal: 8.2s\tremaining: 25.3s\n",
      "245:\tlearn: 1436.3874015\ttotal: 8.24s\tremaining: 25.3s\n",
      "246:\tlearn: 1435.9138588\ttotal: 8.27s\tremaining: 25.2s\n",
      "247:\tlearn: 1435.4049144\ttotal: 8.31s\tremaining: 25.2s\n",
      "248:\tlearn: 1434.9440354\ttotal: 8.34s\tremaining: 25.2s\n",
      "249:\tlearn: 1434.5942954\ttotal: 8.37s\tremaining: 25.1s\n",
      "250:\tlearn: 1434.1966016\ttotal: 8.4s\tremaining: 25.1s\n",
      "251:\tlearn: 1433.7662151\ttotal: 8.44s\tremaining: 25s\n",
      "252:\tlearn: 1433.2417948\ttotal: 8.47s\tremaining: 25s\n",
      "253:\tlearn: 1433.0020069\ttotal: 8.5s\tremaining: 25s\n",
      "254:\tlearn: 1432.7451812\ttotal: 8.54s\tremaining: 24.9s\n",
      "255:\tlearn: 1432.2397393\ttotal: 8.57s\tremaining: 24.9s\n",
      "256:\tlearn: 1431.7965521\ttotal: 8.6s\tremaining: 24.9s\n",
      "257:\tlearn: 1431.2678414\ttotal: 8.64s\tremaining: 24.8s\n",
      "258:\tlearn: 1430.6735985\ttotal: 8.67s\tremaining: 24.8s\n",
      "259:\tlearn: 1430.1423875\ttotal: 8.7s\tremaining: 24.8s\n",
      "260:\tlearn: 1429.8835110\ttotal: 8.73s\tremaining: 24.7s\n",
      "261:\tlearn: 1429.2084348\ttotal: 8.77s\tremaining: 24.7s\n",
      "262:\tlearn: 1428.7203125\ttotal: 8.8s\tremaining: 24.7s\n",
      "263:\tlearn: 1428.5362034\ttotal: 8.84s\tremaining: 24.6s\n",
      "264:\tlearn: 1428.0577844\ttotal: 8.87s\tremaining: 24.6s\n",
      "265:\tlearn: 1427.5154742\ttotal: 8.9s\tremaining: 24.6s\n",
      "266:\tlearn: 1427.0478739\ttotal: 8.93s\tremaining: 24.5s\n",
      "267:\tlearn: 1426.6306244\ttotal: 8.96s\tremaining: 24.5s\n",
      "268:\tlearn: 1426.3060502\ttotal: 9s\tremaining: 24.5s\n",
      "269:\tlearn: 1425.8911926\ttotal: 9.03s\tremaining: 24.4s\n",
      "270:\tlearn: 1425.3905710\ttotal: 9.06s\tremaining: 24.4s\n",
      "271:\tlearn: 1424.9669243\ttotal: 9.1s\tremaining: 24.3s\n",
      "272:\tlearn: 1424.6096619\ttotal: 9.13s\tremaining: 24.3s\n",
      "273:\tlearn: 1424.0585601\ttotal: 9.16s\tremaining: 24.3s\n",
      "274:\tlearn: 1423.5327370\ttotal: 9.19s\tremaining: 24.2s\n",
      "275:\tlearn: 1423.0359324\ttotal: 9.23s\tremaining: 24.2s\n",
      "276:\tlearn: 1422.5121088\ttotal: 9.26s\tremaining: 24.2s\n",
      "277:\tlearn: 1421.8889374\ttotal: 9.29s\tremaining: 24.1s\n",
      "278:\tlearn: 1421.4407197\ttotal: 9.33s\tremaining: 24.1s\n",
      "279:\tlearn: 1420.9142424\ttotal: 9.36s\tremaining: 24.1s\n",
      "280:\tlearn: 1420.5529960\ttotal: 9.39s\tremaining: 24s\n",
      "281:\tlearn: 1420.2521110\ttotal: 9.43s\tremaining: 24s\n",
      "282:\tlearn: 1419.9705744\ttotal: 9.46s\tremaining: 24s\n",
      "283:\tlearn: 1419.5178851\ttotal: 9.49s\tremaining: 23.9s\n",
      "284:\tlearn: 1419.1561770\ttotal: 9.53s\tremaining: 23.9s\n",
      "285:\tlearn: 1418.8230740\ttotal: 9.56s\tremaining: 23.9s\n",
      "286:\tlearn: 1418.5159297\ttotal: 9.59s\tremaining: 23.8s\n",
      "287:\tlearn: 1418.1045988\ttotal: 9.62s\tremaining: 23.8s\n",
      "288:\tlearn: 1417.7965775\ttotal: 9.66s\tremaining: 23.8s\n",
      "289:\tlearn: 1417.0317772\ttotal: 9.69s\tremaining: 23.7s\n",
      "290:\tlearn: 1416.5387355\ttotal: 9.72s\tremaining: 23.7s\n",
      "291:\tlearn: 1415.9106429\ttotal: 9.76s\tremaining: 23.7s\n",
      "292:\tlearn: 1415.4668353\ttotal: 9.79s\tremaining: 23.6s\n",
      "293:\tlearn: 1415.0861740\ttotal: 9.82s\tremaining: 23.6s\n",
      "294:\tlearn: 1414.5448022\ttotal: 9.85s\tremaining: 23.5s\n",
      "295:\tlearn: 1414.0697426\ttotal: 9.89s\tremaining: 23.5s\n",
      "296:\tlearn: 1413.6529794\ttotal: 9.92s\tremaining: 23.5s\n",
      "297:\tlearn: 1413.2208637\ttotal: 9.95s\tremaining: 23.4s\n",
      "298:\tlearn: 1412.7815574\ttotal: 9.99s\tremaining: 23.4s\n",
      "299:\tlearn: 1412.3584362\ttotal: 10s\tremaining: 23.4s\n",
      "300:\tlearn: 1411.9876930\ttotal: 10.1s\tremaining: 23.3s\n",
      "301:\tlearn: 1411.5680751\ttotal: 10.1s\tremaining: 23.3s\n",
      "302:\tlearn: 1411.2883054\ttotal: 10.1s\tremaining: 23.3s\n",
      "303:\tlearn: 1410.9017718\ttotal: 10.2s\tremaining: 23.2s\n",
      "304:\tlearn: 1410.4620774\ttotal: 10.2s\tremaining: 23.2s\n",
      "305:\tlearn: 1410.0403584\ttotal: 10.2s\tremaining: 23.2s\n",
      "306:\tlearn: 1409.6483623\ttotal: 10.2s\tremaining: 23.1s\n",
      "307:\tlearn: 1409.3973957\ttotal: 10.3s\tremaining: 23.1s\n"
     ]
    },
    {
     "name": "stdout",
     "output_type": "stream",
     "text": [
      "308:\tlearn: 1408.9974221\ttotal: 10.3s\tremaining: 23.1s\n",
      "309:\tlearn: 1408.4837741\ttotal: 10.3s\tremaining: 23s\n",
      "310:\tlearn: 1408.1254153\ttotal: 10.4s\tremaining: 23s\n",
      "311:\tlearn: 1407.8422608\ttotal: 10.4s\tremaining: 23s\n",
      "312:\tlearn: 1407.5379181\ttotal: 10.4s\tremaining: 22.9s\n",
      "313:\tlearn: 1407.2267395\ttotal: 10.5s\tremaining: 22.9s\n",
      "314:\tlearn: 1406.8545338\ttotal: 10.5s\tremaining: 22.9s\n",
      "315:\tlearn: 1406.5799100\ttotal: 10.5s\tremaining: 22.8s\n",
      "316:\tlearn: 1406.0593695\ttotal: 10.6s\tremaining: 22.8s\n",
      "317:\tlearn: 1405.7455383\ttotal: 10.6s\tremaining: 22.8s\n",
      "318:\tlearn: 1405.3126307\ttotal: 10.6s\tremaining: 22.7s\n",
      "319:\tlearn: 1404.7454355\ttotal: 10.7s\tremaining: 22.7s\n",
      "320:\tlearn: 1404.2869579\ttotal: 10.7s\tremaining: 22.7s\n",
      "321:\tlearn: 1404.0081981\ttotal: 10.7s\tremaining: 22.6s\n",
      "322:\tlearn: 1403.6746084\ttotal: 10.8s\tremaining: 22.6s\n",
      "323:\tlearn: 1403.3497605\ttotal: 10.8s\tremaining: 22.6s\n",
      "324:\tlearn: 1403.0122365\ttotal: 10.8s\tremaining: 22.5s\n",
      "325:\tlearn: 1402.5943655\ttotal: 10.9s\tremaining: 22.5s\n",
      "326:\tlearn: 1402.3081527\ttotal: 10.9s\tremaining: 22.5s\n",
      "327:\tlearn: 1402.0002362\ttotal: 10.9s\tremaining: 22.4s\n",
      "328:\tlearn: 1401.5808917\ttotal: 11s\tremaining: 22.4s\n",
      "329:\tlearn: 1401.2802345\ttotal: 11s\tremaining: 22.4s\n",
      "330:\tlearn: 1400.9902496\ttotal: 11s\tremaining: 22.3s\n",
      "331:\tlearn: 1400.7795394\ttotal: 11.1s\tremaining: 22.3s\n",
      "332:\tlearn: 1400.2113716\ttotal: 11.1s\tremaining: 22.3s\n",
      "333:\tlearn: 1399.7885251\ttotal: 11.1s\tremaining: 22.2s\n",
      "334:\tlearn: 1399.3052840\ttotal: 11.2s\tremaining: 22.2s\n",
      "335:\tlearn: 1399.0046644\ttotal: 11.2s\tremaining: 22.2s\n",
      "336:\tlearn: 1398.6680353\ttotal: 11.2s\tremaining: 22.1s\n",
      "337:\tlearn: 1398.1879380\ttotal: 11.3s\tremaining: 22.1s\n",
      "338:\tlearn: 1397.8836492\ttotal: 11.3s\tremaining: 22s\n",
      "339:\tlearn: 1397.4588361\ttotal: 11.3s\tremaining: 22s\n",
      "340:\tlearn: 1397.2072785\ttotal: 11.4s\tremaining: 22s\n",
      "341:\tlearn: 1396.9808062\ttotal: 11.4s\tremaining: 21.9s\n",
      "342:\tlearn: 1396.6281128\ttotal: 11.4s\tremaining: 21.9s\n",
      "343:\tlearn: 1396.2140580\ttotal: 11.5s\tremaining: 21.9s\n",
      "344:\tlearn: 1395.8599898\ttotal: 11.5s\tremaining: 21.9s\n",
      "345:\tlearn: 1395.5036486\ttotal: 11.5s\tremaining: 21.8s\n",
      "346:\tlearn: 1395.1560788\ttotal: 11.6s\tremaining: 21.8s\n",
      "347:\tlearn: 1394.6441584\ttotal: 11.6s\tremaining: 21.7s\n",
      "348:\tlearn: 1394.4490839\ttotal: 11.6s\tremaining: 21.7s\n",
      "349:\tlearn: 1394.1592155\ttotal: 11.7s\tremaining: 21.7s\n",
      "350:\tlearn: 1393.7841808\ttotal: 11.7s\tremaining: 21.6s\n",
      "351:\tlearn: 1393.5089160\ttotal: 11.7s\tremaining: 21.6s\n",
      "352:\tlearn: 1393.2092660\ttotal: 11.8s\tremaining: 21.6s\n",
      "353:\tlearn: 1392.8612198\ttotal: 11.8s\tremaining: 21.5s\n",
      "354:\tlearn: 1392.4968628\ttotal: 11.8s\tremaining: 21.5s\n",
      "355:\tlearn: 1392.2450938\ttotal: 11.9s\tremaining: 21.5s\n",
      "356:\tlearn: 1391.9245519\ttotal: 11.9s\tremaining: 21.4s\n",
      "357:\tlearn: 1391.5198807\ttotal: 11.9s\tremaining: 21.4s\n",
      "358:\tlearn: 1391.3761039\ttotal: 12s\tremaining: 21.4s\n",
      "359:\tlearn: 1391.1200948\ttotal: 12s\tremaining: 21.3s\n",
      "360:\tlearn: 1390.7439527\ttotal: 12s\tremaining: 21.3s\n",
      "361:\tlearn: 1390.4092497\ttotal: 12.1s\tremaining: 21.3s\n",
      "362:\tlearn: 1389.9186985\ttotal: 12.1s\tremaining: 21.2s\n",
      "363:\tlearn: 1389.6693351\ttotal: 12.1s\tremaining: 21.2s\n",
      "364:\tlearn: 1389.4495352\ttotal: 12.2s\tremaining: 21.2s\n",
      "365:\tlearn: 1389.1663715\ttotal: 12.2s\tremaining: 21.1s\n",
      "366:\tlearn: 1388.9147567\ttotal: 12.2s\tremaining: 21.1s\n",
      "367:\tlearn: 1388.6011324\ttotal: 12.3s\tremaining: 21.1s\n",
      "368:\tlearn: 1388.2343173\ttotal: 12.3s\tremaining: 21s\n",
      "369:\tlearn: 1387.9457352\ttotal: 12.3s\tremaining: 21s\n",
      "370:\tlearn: 1387.6920659\ttotal: 12.4s\tremaining: 21s\n",
      "371:\tlearn: 1387.5018173\ttotal: 12.4s\tremaining: 20.9s\n",
      "372:\tlearn: 1387.0620728\ttotal: 12.4s\tremaining: 20.9s\n",
      "373:\tlearn: 1386.8132448\ttotal: 12.5s\tremaining: 20.9s\n",
      "374:\tlearn: 1386.5674506\ttotal: 12.5s\tremaining: 20.8s\n",
      "375:\tlearn: 1386.2640661\ttotal: 12.5s\tremaining: 20.8s\n",
      "376:\tlearn: 1385.9097592\ttotal: 12.6s\tremaining: 20.7s\n",
      "377:\tlearn: 1385.5627226\ttotal: 12.6s\tremaining: 20.7s\n",
      "378:\tlearn: 1385.2315880\ttotal: 12.6s\tremaining: 20.7s\n",
      "379:\tlearn: 1384.8093121\ttotal: 12.7s\tremaining: 20.7s\n",
      "380:\tlearn: 1384.5301512\ttotal: 12.7s\tremaining: 20.6s\n",
      "381:\tlearn: 1384.2978864\ttotal: 12.7s\tremaining: 20.6s\n",
      "382:\tlearn: 1383.8273230\ttotal: 12.8s\tremaining: 20.5s\n",
      "383:\tlearn: 1383.5646077\ttotal: 12.8s\tremaining: 20.5s\n",
      "384:\tlearn: 1383.3245689\ttotal: 12.8s\tremaining: 20.5s\n",
      "385:\tlearn: 1382.9703240\ttotal: 12.9s\tremaining: 20.5s\n",
      "386:\tlearn: 1382.6973910\ttotal: 12.9s\tremaining: 20.4s\n",
      "387:\tlearn: 1382.4517059\ttotal: 12.9s\tremaining: 20.4s\n",
      "388:\tlearn: 1382.1595045\ttotal: 13s\tremaining: 20.3s\n",
      "389:\tlearn: 1381.8748375\ttotal: 13s\tremaining: 20.3s\n",
      "390:\tlearn: 1381.7301591\ttotal: 13s\tremaining: 20.3s\n",
      "391:\tlearn: 1381.4928789\ttotal: 13.1s\tremaining: 20.2s\n",
      "392:\tlearn: 1381.1905838\ttotal: 13.1s\tremaining: 20.2s\n",
      "393:\tlearn: 1380.9275254\ttotal: 13.1s\tremaining: 20.2s\n",
      "394:\tlearn: 1380.5295451\ttotal: 13.2s\tremaining: 20.1s\n",
      "395:\tlearn: 1380.2379669\ttotal: 13.2s\tremaining: 20.1s\n",
      "396:\tlearn: 1379.9536810\ttotal: 13.2s\tremaining: 20.1s\n",
      "397:\tlearn: 1379.7600778\ttotal: 13.2s\tremaining: 20s\n",
      "398:\tlearn: 1379.5350463\ttotal: 13.3s\tremaining: 20s\n",
      "399:\tlearn: 1379.2638755\ttotal: 13.3s\tremaining: 20s\n",
      "400:\tlearn: 1378.9900148\ttotal: 13.3s\tremaining: 19.9s\n",
      "401:\tlearn: 1378.5603285\ttotal: 13.4s\tremaining: 19.9s\n",
      "402:\tlearn: 1378.2475238\ttotal: 13.4s\tremaining: 19.9s\n",
      "403:\tlearn: 1378.0392998\ttotal: 13.4s\tremaining: 19.8s\n",
      "404:\tlearn: 1377.7646255\ttotal: 13.5s\tremaining: 19.8s\n",
      "405:\tlearn: 1377.5086016\ttotal: 13.5s\tremaining: 19.8s\n",
      "406:\tlearn: 1377.1903854\ttotal: 13.5s\tremaining: 19.7s\n",
      "407:\tlearn: 1376.9109617\ttotal: 13.6s\tremaining: 19.7s\n",
      "408:\tlearn: 1376.5810525\ttotal: 13.6s\tremaining: 19.7s\n",
      "409:\tlearn: 1376.2673064\ttotal: 13.6s\tremaining: 19.6s\n",
      "410:\tlearn: 1375.9259641\ttotal: 13.7s\tremaining: 19.6s\n",
      "411:\tlearn: 1375.6495925\ttotal: 13.7s\tremaining: 19.6s\n",
      "412:\tlearn: 1375.4182167\ttotal: 13.7s\tremaining: 19.5s\n",
      "413:\tlearn: 1375.1676295\ttotal: 13.8s\tremaining: 19.5s\n",
      "414:\tlearn: 1374.9478180\ttotal: 13.8s\tremaining: 19.5s\n",
      "415:\tlearn: 1374.5864158\ttotal: 13.8s\tremaining: 19.4s\n",
      "416:\tlearn: 1374.4117099\ttotal: 13.9s\tremaining: 19.4s\n",
      "417:\tlearn: 1374.2126368\ttotal: 13.9s\tremaining: 19.4s\n",
      "418:\tlearn: 1373.9430433\ttotal: 13.9s\tremaining: 19.3s\n",
      "419:\tlearn: 1373.6234738\ttotal: 14s\tremaining: 19.3s\n",
      "420:\tlearn: 1373.2851784\ttotal: 14s\tremaining: 19.3s\n",
      "421:\tlearn: 1372.9283121\ttotal: 14s\tremaining: 19.2s\n",
      "422:\tlearn: 1372.3944336\ttotal: 14.1s\tremaining: 19.2s\n",
      "423:\tlearn: 1372.1490750\ttotal: 14.1s\tremaining: 19.2s\n",
      "424:\tlearn: 1371.8338551\ttotal: 14.1s\tremaining: 19.1s\n",
      "425:\tlearn: 1371.6286110\ttotal: 14.2s\tremaining: 19.1s\n",
      "426:\tlearn: 1371.3564267\ttotal: 14.2s\tremaining: 19.1s\n",
      "427:\tlearn: 1371.1109237\ttotal: 14.2s\tremaining: 19s\n",
      "428:\tlearn: 1370.9215037\ttotal: 14.3s\tremaining: 19s\n",
      "429:\tlearn: 1370.6480756\ttotal: 14.3s\tremaining: 19s\n",
      "430:\tlearn: 1370.2829787\ttotal: 14.3s\tremaining: 18.9s\n",
      "431:\tlearn: 1370.0512234\ttotal: 14.4s\tremaining: 18.9s\n",
      "432:\tlearn: 1369.7714666\ttotal: 14.4s\tremaining: 18.9s\n",
      "433:\tlearn: 1369.5691207\ttotal: 14.5s\tremaining: 18.9s\n",
      "434:\tlearn: 1369.3110024\ttotal: 14.5s\tremaining: 18.8s\n",
      "435:\tlearn: 1369.0143140\ttotal: 14.5s\tremaining: 18.8s\n",
      "436:\tlearn: 1368.7251611\ttotal: 14.6s\tremaining: 18.8s\n",
      "437:\tlearn: 1368.3876243\ttotal: 14.6s\tremaining: 18.7s\n",
      "438:\tlearn: 1368.2213351\ttotal: 14.6s\tremaining: 18.7s\n",
      "439:\tlearn: 1367.9096779\ttotal: 14.7s\tremaining: 18.6s\n",
      "440:\tlearn: 1367.7415176\ttotal: 14.7s\tremaining: 18.6s\n",
      "441:\tlearn: 1367.4352711\ttotal: 14.7s\tremaining: 18.6s\n",
      "442:\tlearn: 1367.2163265\ttotal: 14.8s\tremaining: 18.5s\n",
      "443:\tlearn: 1366.9606481\ttotal: 14.8s\tremaining: 18.5s\n",
      "444:\tlearn: 1366.6381211\ttotal: 14.8s\tremaining: 18.5s\n",
      "445:\tlearn: 1366.5008859\ttotal: 14.8s\tremaining: 18.4s\n",
      "446:\tlearn: 1366.1923947\ttotal: 14.9s\tremaining: 18.4s\n",
      "447:\tlearn: 1366.0391199\ttotal: 14.9s\tremaining: 18.4s\n",
      "448:\tlearn: 1365.7468531\ttotal: 15s\tremaining: 18.3s\n",
      "449:\tlearn: 1365.5030650\ttotal: 15s\tremaining: 18.3s\n",
      "450:\tlearn: 1365.3242318\ttotal: 15s\tremaining: 18.3s\n",
      "451:\tlearn: 1365.0266088\ttotal: 15s\tremaining: 18.2s\n",
      "452:\tlearn: 1364.7725852\ttotal: 15.1s\tremaining: 18.2s\n",
      "453:\tlearn: 1364.5042468\ttotal: 15.1s\tremaining: 18.2s\n",
      "454:\tlearn: 1364.3098448\ttotal: 15.1s\tremaining: 18.1s\n",
      "455:\tlearn: 1364.0971617\ttotal: 15.2s\tremaining: 18.1s\n",
      "456:\tlearn: 1363.9250151\ttotal: 15.2s\tremaining: 18.1s\n",
      "457:\tlearn: 1363.6429801\ttotal: 15.2s\tremaining: 18s\n",
      "458:\tlearn: 1363.5651252\ttotal: 15.3s\tremaining: 18s\n",
      "459:\tlearn: 1363.2582905\ttotal: 15.3s\tremaining: 18s\n",
      "460:\tlearn: 1363.0592471\ttotal: 15.3s\tremaining: 17.9s\n"
     ]
    },
    {
     "name": "stdout",
     "output_type": "stream",
     "text": [
      "461:\tlearn: 1362.8347010\ttotal: 15.4s\tremaining: 17.9s\n",
      "462:\tlearn: 1362.6006563\ttotal: 15.4s\tremaining: 17.9s\n",
      "463:\tlearn: 1362.3173077\ttotal: 15.4s\tremaining: 17.8s\n",
      "464:\tlearn: 1362.0915802\ttotal: 15.5s\tremaining: 17.8s\n",
      "465:\tlearn: 1361.7642233\ttotal: 15.5s\tremaining: 17.8s\n",
      "466:\tlearn: 1361.5001638\ttotal: 15.5s\tremaining: 17.7s\n",
      "467:\tlearn: 1361.3377942\ttotal: 15.6s\tremaining: 17.7s\n",
      "468:\tlearn: 1361.0248925\ttotal: 15.6s\tremaining: 17.7s\n",
      "469:\tlearn: 1360.7738854\ttotal: 15.6s\tremaining: 17.6s\n",
      "470:\tlearn: 1360.5447112\ttotal: 15.7s\tremaining: 17.6s\n",
      "471:\tlearn: 1360.1837282\ttotal: 15.7s\tremaining: 17.6s\n",
      "472:\tlearn: 1359.9224339\ttotal: 15.7s\tremaining: 17.5s\n",
      "473:\tlearn: 1359.7040145\ttotal: 15.8s\tremaining: 17.5s\n",
      "474:\tlearn: 1359.6370244\ttotal: 15.8s\tremaining: 17.4s\n",
      "475:\tlearn: 1359.2666860\ttotal: 15.8s\tremaining: 17.4s\n",
      "476:\tlearn: 1359.1192694\ttotal: 15.8s\tremaining: 17.4s\n",
      "477:\tlearn: 1358.8465816\ttotal: 15.9s\tremaining: 17.3s\n",
      "478:\tlearn: 1358.6478320\ttotal: 15.9s\tremaining: 17.3s\n",
      "479:\tlearn: 1358.3734612\ttotal: 15.9s\tremaining: 17.3s\n",
      "480:\tlearn: 1358.1267992\ttotal: 16s\tremaining: 17.2s\n",
      "481:\tlearn: 1357.9360512\ttotal: 16s\tremaining: 17.2s\n",
      "482:\tlearn: 1357.7744062\ttotal: 16s\tremaining: 17.2s\n",
      "483:\tlearn: 1357.5679228\ttotal: 16.1s\tremaining: 17.1s\n",
      "484:\tlearn: 1357.4006617\ttotal: 16.1s\tremaining: 17.1s\n",
      "485:\tlearn: 1357.1967410\ttotal: 16.1s\tremaining: 17.1s\n",
      "486:\tlearn: 1356.9989990\ttotal: 16.2s\tremaining: 17s\n",
      "487:\tlearn: 1356.7388461\ttotal: 16.2s\tremaining: 17s\n",
      "488:\tlearn: 1356.4298441\ttotal: 16.2s\tremaining: 17s\n",
      "489:\tlearn: 1356.1271338\ttotal: 16.3s\tremaining: 16.9s\n",
      "490:\tlearn: 1355.7663683\ttotal: 16.3s\tremaining: 16.9s\n",
      "491:\tlearn: 1355.5146199\ttotal: 16.3s\tremaining: 16.9s\n",
      "492:\tlearn: 1355.3259842\ttotal: 16.4s\tremaining: 16.8s\n",
      "493:\tlearn: 1355.0973696\ttotal: 16.4s\tremaining: 16.8s\n",
      "494:\tlearn: 1354.8958248\ttotal: 16.4s\tremaining: 16.8s\n",
      "495:\tlearn: 1354.5016111\ttotal: 16.5s\tremaining: 16.7s\n",
      "496:\tlearn: 1354.2808692\ttotal: 16.5s\tremaining: 16.7s\n",
      "497:\tlearn: 1354.1464873\ttotal: 16.5s\tremaining: 16.7s\n",
      "498:\tlearn: 1353.9814758\ttotal: 16.6s\tremaining: 16.6s\n",
      "499:\tlearn: 1353.9223421\ttotal: 16.6s\tremaining: 16.6s\n",
      "500:\tlearn: 1353.7024391\ttotal: 16.6s\tremaining: 16.6s\n",
      "501:\tlearn: 1353.4147765\ttotal: 16.7s\tremaining: 16.5s\n",
      "502:\tlearn: 1353.2160524\ttotal: 16.7s\tremaining: 16.5s\n",
      "503:\tlearn: 1352.9684921\ttotal: 16.7s\tremaining: 16.5s\n",
      "504:\tlearn: 1352.7759560\ttotal: 16.8s\tremaining: 16.4s\n",
      "505:\tlearn: 1352.5776259\ttotal: 16.8s\tremaining: 16.4s\n",
      "506:\tlearn: 1352.2437486\ttotal: 16.8s\tremaining: 16.4s\n",
      "507:\tlearn: 1351.9903010\ttotal: 16.9s\tremaining: 16.3s\n",
      "508:\tlearn: 1351.8693392\ttotal: 16.9s\tremaining: 16.3s\n",
      "509:\tlearn: 1351.7334532\ttotal: 16.9s\tremaining: 16.3s\n",
      "510:\tlearn: 1351.5600423\ttotal: 17s\tremaining: 16.2s\n",
      "511:\tlearn: 1351.3484992\ttotal: 17s\tremaining: 16.2s\n",
      "512:\tlearn: 1351.1377408\ttotal: 17s\tremaining: 16.2s\n",
      "513:\tlearn: 1350.9522913\ttotal: 17.1s\tremaining: 16.1s\n",
      "514:\tlearn: 1350.7424913\ttotal: 17.1s\tremaining: 16.1s\n",
      "515:\tlearn: 1350.6169252\ttotal: 17.1s\tremaining: 16.1s\n",
      "516:\tlearn: 1350.4680492\ttotal: 17.2s\tremaining: 16s\n",
      "517:\tlearn: 1350.2279897\ttotal: 17.2s\tremaining: 16s\n",
      "518:\tlearn: 1350.0198206\ttotal: 17.2s\tremaining: 16s\n",
      "519:\tlearn: 1349.7666687\ttotal: 17.3s\tremaining: 15.9s\n",
      "520:\tlearn: 1349.5609463\ttotal: 17.3s\tremaining: 15.9s\n",
      "521:\tlearn: 1349.3997873\ttotal: 17.3s\tremaining: 15.9s\n",
      "522:\tlearn: 1349.2857193\ttotal: 17.4s\tremaining: 15.8s\n",
      "523:\tlearn: 1349.1416961\ttotal: 17.4s\tremaining: 15.8s\n",
      "524:\tlearn: 1348.9456338\ttotal: 17.4s\tremaining: 15.8s\n",
      "525:\tlearn: 1348.7717551\ttotal: 17.5s\tremaining: 15.7s\n",
      "526:\tlearn: 1348.6395512\ttotal: 17.5s\tremaining: 15.7s\n",
      "527:\tlearn: 1348.3104655\ttotal: 17.5s\tremaining: 15.7s\n",
      "528:\tlearn: 1348.1378025\ttotal: 17.6s\tremaining: 15.6s\n",
      "529:\tlearn: 1347.9993346\ttotal: 17.6s\tremaining: 15.6s\n",
      "530:\tlearn: 1347.7462691\ttotal: 17.6s\tremaining: 15.6s\n",
      "531:\tlearn: 1347.6169535\ttotal: 17.7s\tremaining: 15.6s\n",
      "532:\tlearn: 1347.3973371\ttotal: 17.7s\tremaining: 15.5s\n",
      "533:\tlearn: 1347.2539441\ttotal: 17.8s\tremaining: 15.5s\n",
      "534:\tlearn: 1347.1241709\ttotal: 17.8s\tremaining: 15.5s\n",
      "535:\tlearn: 1346.8935882\ttotal: 17.8s\tremaining: 15.4s\n",
      "536:\tlearn: 1346.7107410\ttotal: 17.9s\tremaining: 15.4s\n",
      "537:\tlearn: 1346.4639305\ttotal: 17.9s\tremaining: 15.4s\n",
      "538:\tlearn: 1346.2453038\ttotal: 17.9s\tremaining: 15.3s\n",
      "539:\tlearn: 1345.7934041\ttotal: 18s\tremaining: 15.3s\n",
      "540:\tlearn: 1345.6175188\ttotal: 18s\tremaining: 15.3s\n",
      "541:\tlearn: 1345.4571102\ttotal: 18s\tremaining: 15.2s\n",
      "542:\tlearn: 1345.3274742\ttotal: 18.1s\tremaining: 15.2s\n",
      "543:\tlearn: 1345.1752712\ttotal: 18.1s\tremaining: 15.2s\n",
      "544:\tlearn: 1344.8995814\ttotal: 18.1s\tremaining: 15.1s\n",
      "545:\tlearn: 1344.7806753\ttotal: 18.2s\tremaining: 15.1s\n",
      "546:\tlearn: 1344.5762883\ttotal: 18.2s\tremaining: 15.1s\n",
      "547:\tlearn: 1344.2299382\ttotal: 18.2s\tremaining: 15s\n",
      "548:\tlearn: 1344.0691160\ttotal: 18.3s\tremaining: 15s\n",
      "549:\tlearn: 1343.7744170\ttotal: 18.3s\tremaining: 15s\n",
      "550:\tlearn: 1343.6103326\ttotal: 18.3s\tremaining: 14.9s\n",
      "551:\tlearn: 1343.4228561\ttotal: 18.4s\tremaining: 14.9s\n",
      "552:\tlearn: 1343.1944445\ttotal: 18.4s\tremaining: 14.9s\n",
      "553:\tlearn: 1343.0545429\ttotal: 18.4s\tremaining: 14.8s\n",
      "554:\tlearn: 1342.9219577\ttotal: 18.5s\tremaining: 14.8s\n",
      "555:\tlearn: 1342.8120092\ttotal: 18.5s\tremaining: 14.8s\n",
      "556:\tlearn: 1342.6420273\ttotal: 18.5s\tremaining: 14.8s\n",
      "557:\tlearn: 1342.5066890\ttotal: 18.6s\tremaining: 14.7s\n",
      "558:\tlearn: 1342.3248095\ttotal: 18.6s\tremaining: 14.7s\n",
      "559:\tlearn: 1342.0461942\ttotal: 18.7s\tremaining: 14.7s\n",
      "560:\tlearn: 1341.9171684\ttotal: 18.7s\tremaining: 14.6s\n",
      "561:\tlearn: 1341.7210232\ttotal: 18.7s\tremaining: 14.6s\n",
      "562:\tlearn: 1341.5263844\ttotal: 18.8s\tremaining: 14.6s\n",
      "563:\tlearn: 1341.3220528\ttotal: 18.8s\tremaining: 14.6s\n",
      "564:\tlearn: 1341.1141167\ttotal: 18.9s\tremaining: 14.5s\n",
      "565:\tlearn: 1340.9129516\ttotal: 18.9s\tremaining: 14.5s\n",
      "566:\tlearn: 1340.7230487\ttotal: 18.9s\tremaining: 14.5s\n",
      "567:\tlearn: 1340.6270133\ttotal: 19s\tremaining: 14.4s\n",
      "568:\tlearn: 1340.4156758\ttotal: 19s\tremaining: 14.4s\n",
      "569:\tlearn: 1340.2474062\ttotal: 19.1s\tremaining: 14.4s\n",
      "570:\tlearn: 1339.9952872\ttotal: 19.1s\tremaining: 14.4s\n",
      "571:\tlearn: 1339.8901963\ttotal: 19.2s\tremaining: 14.3s\n",
      "572:\tlearn: 1339.6686681\ttotal: 19.2s\tremaining: 14.3s\n",
      "573:\tlearn: 1339.3807427\ttotal: 19.2s\tremaining: 14.3s\n",
      "574:\tlearn: 1339.2625376\ttotal: 19.3s\tremaining: 14.2s\n",
      "575:\tlearn: 1339.0589746\ttotal: 19.3s\tremaining: 14.2s\n",
      "576:\tlearn: 1338.8753323\ttotal: 19.4s\tremaining: 14.2s\n",
      "577:\tlearn: 1338.6706236\ttotal: 19.4s\tremaining: 14.2s\n",
      "578:\tlearn: 1338.3426168\ttotal: 19.4s\tremaining: 14.1s\n",
      "579:\tlearn: 1338.1606154\ttotal: 19.5s\tremaining: 14.1s\n",
      "580:\tlearn: 1337.9376715\ttotal: 19.5s\tremaining: 14.1s\n",
      "581:\tlearn: 1337.7640997\ttotal: 19.6s\tremaining: 14s\n",
      "582:\tlearn: 1337.5968483\ttotal: 19.6s\tremaining: 14s\n",
      "583:\tlearn: 1337.3576857\ttotal: 19.7s\tremaining: 14s\n",
      "584:\tlearn: 1337.2024942\ttotal: 19.7s\tremaining: 14s\n",
      "585:\tlearn: 1337.0613092\ttotal: 19.7s\tremaining: 13.9s\n",
      "586:\tlearn: 1336.9253545\ttotal: 19.8s\tremaining: 13.9s\n",
      "587:\tlearn: 1336.7254631\ttotal: 19.8s\tremaining: 13.9s\n",
      "588:\tlearn: 1336.5377498\ttotal: 19.9s\tremaining: 13.9s\n",
      "589:\tlearn: 1336.4042404\ttotal: 19.9s\tremaining: 13.8s\n",
      "590:\tlearn: 1336.2955884\ttotal: 19.9s\tremaining: 13.8s\n",
      "591:\tlearn: 1336.1861125\ttotal: 20s\tremaining: 13.8s\n",
      "592:\tlearn: 1336.0151531\ttotal: 20s\tremaining: 13.7s\n",
      "593:\tlearn: 1335.8396597\ttotal: 20.1s\tremaining: 13.7s\n",
      "594:\tlearn: 1335.5959446\ttotal: 20.1s\tremaining: 13.7s\n",
      "595:\tlearn: 1335.4028333\ttotal: 20.1s\tremaining: 13.7s\n",
      "596:\tlearn: 1335.2250779\ttotal: 20.2s\tremaining: 13.6s\n",
      "597:\tlearn: 1335.0488492\ttotal: 20.2s\tremaining: 13.6s\n",
      "598:\tlearn: 1334.8822768\ttotal: 20.3s\tremaining: 13.6s\n",
      "599:\tlearn: 1334.6915343\ttotal: 20.3s\tremaining: 13.5s\n",
      "600:\tlearn: 1334.4947085\ttotal: 20.3s\tremaining: 13.5s\n",
      "601:\tlearn: 1334.3840905\ttotal: 20.4s\tremaining: 13.5s\n",
      "602:\tlearn: 1334.2406070\ttotal: 20.4s\tremaining: 13.4s\n",
      "603:\tlearn: 1334.0326265\ttotal: 20.5s\tremaining: 13.4s\n",
      "604:\tlearn: 1333.8598428\ttotal: 20.5s\tremaining: 13.4s\n",
      "605:\tlearn: 1333.7598926\ttotal: 20.5s\tremaining: 13.3s\n",
      "606:\tlearn: 1333.6736689\ttotal: 20.6s\tremaining: 13.3s\n",
      "607:\tlearn: 1333.5221223\ttotal: 20.6s\tremaining: 13.3s\n",
      "608:\tlearn: 1333.3565638\ttotal: 20.6s\tremaining: 13.3s\n",
      "609:\tlearn: 1333.1907987\ttotal: 20.7s\tremaining: 13.2s\n",
      "610:\tlearn: 1332.9666987\ttotal: 20.7s\tremaining: 13.2s\n",
      "611:\tlearn: 1332.8351787\ttotal: 20.8s\tremaining: 13.2s\n",
      "612:\tlearn: 1332.6822545\ttotal: 20.8s\tremaining: 13.1s\n",
      "613:\tlearn: 1332.4497083\ttotal: 20.8s\tremaining: 13.1s\n",
      "614:\tlearn: 1332.2098190\ttotal: 20.9s\tremaining: 13.1s\n",
      "615:\tlearn: 1332.0005669\ttotal: 20.9s\tremaining: 13s\n"
     ]
    },
    {
     "name": "stdout",
     "output_type": "stream",
     "text": [
      "616:\tlearn: 1331.8335790\ttotal: 20.9s\tremaining: 13s\n",
      "617:\tlearn: 1331.6989576\ttotal: 21s\tremaining: 13s\n",
      "618:\tlearn: 1331.5151187\ttotal: 21s\tremaining: 12.9s\n",
      "619:\tlearn: 1331.4003638\ttotal: 21.1s\tremaining: 12.9s\n",
      "620:\tlearn: 1331.3017176\ttotal: 21.1s\tremaining: 12.9s\n",
      "621:\tlearn: 1331.2027352\ttotal: 21.1s\tremaining: 12.8s\n",
      "622:\tlearn: 1330.9347916\ttotal: 21.2s\tremaining: 12.8s\n",
      "623:\tlearn: 1330.7130234\ttotal: 21.2s\tremaining: 12.8s\n",
      "624:\tlearn: 1330.5892596\ttotal: 21.2s\tremaining: 12.7s\n",
      "625:\tlearn: 1330.4798459\ttotal: 21.3s\tremaining: 12.7s\n",
      "626:\tlearn: 1330.2692427\ttotal: 21.3s\tremaining: 12.7s\n",
      "627:\tlearn: 1330.1315294\ttotal: 21.3s\tremaining: 12.6s\n",
      "628:\tlearn: 1329.9639934\ttotal: 21.4s\tremaining: 12.6s\n",
      "629:\tlearn: 1329.8140088\ttotal: 21.4s\tremaining: 12.6s\n",
      "630:\tlearn: 1329.5812215\ttotal: 21.4s\tremaining: 12.5s\n",
      "631:\tlearn: 1329.4173816\ttotal: 21.4s\tremaining: 12.5s\n",
      "632:\tlearn: 1329.2890189\ttotal: 21.5s\tremaining: 12.5s\n",
      "633:\tlearn: 1329.1529493\ttotal: 21.5s\tremaining: 12.4s\n",
      "634:\tlearn: 1329.0065733\ttotal: 21.5s\tremaining: 12.4s\n",
      "635:\tlearn: 1328.8476185\ttotal: 21.6s\tremaining: 12.4s\n",
      "636:\tlearn: 1328.7656297\ttotal: 21.6s\tremaining: 12.3s\n",
      "637:\tlearn: 1328.6634327\ttotal: 21.6s\tremaining: 12.3s\n",
      "638:\tlearn: 1328.5262538\ttotal: 21.7s\tremaining: 12.2s\n",
      "639:\tlearn: 1328.4131845\ttotal: 21.7s\tremaining: 12.2s\n",
      "640:\tlearn: 1328.2603206\ttotal: 21.7s\tremaining: 12.2s\n",
      "641:\tlearn: 1328.1266845\ttotal: 21.8s\tremaining: 12.1s\n",
      "642:\tlearn: 1327.8796700\ttotal: 21.8s\tremaining: 12.1s\n",
      "643:\tlearn: 1327.7210867\ttotal: 21.8s\tremaining: 12.1s\n",
      "644:\tlearn: 1327.5077367\ttotal: 21.9s\tremaining: 12s\n",
      "645:\tlearn: 1327.3852494\ttotal: 21.9s\tremaining: 12s\n",
      "646:\tlearn: 1327.1788608\ttotal: 21.9s\tremaining: 12s\n",
      "647:\tlearn: 1327.0346454\ttotal: 22s\tremaining: 11.9s\n",
      "648:\tlearn: 1326.8177534\ttotal: 22s\tremaining: 11.9s\n",
      "649:\tlearn: 1326.7088690\ttotal: 22s\tremaining: 11.9s\n",
      "650:\tlearn: 1326.6129628\ttotal: 22.1s\tremaining: 11.8s\n",
      "651:\tlearn: 1326.3588611\ttotal: 22.1s\tremaining: 11.8s\n",
      "652:\tlearn: 1326.2704433\ttotal: 22.1s\tremaining: 11.8s\n",
      "653:\tlearn: 1326.1441794\ttotal: 22.2s\tremaining: 11.7s\n",
      "654:\tlearn: 1325.9756005\ttotal: 22.2s\tremaining: 11.7s\n",
      "655:\tlearn: 1325.7637792\ttotal: 22.2s\tremaining: 11.7s\n",
      "656:\tlearn: 1325.6207117\ttotal: 22.3s\tremaining: 11.6s\n",
      "657:\tlearn: 1325.5471460\ttotal: 22.3s\tremaining: 11.6s\n",
      "658:\tlearn: 1325.3167872\ttotal: 22.3s\tremaining: 11.6s\n",
      "659:\tlearn: 1325.1141338\ttotal: 22.4s\tremaining: 11.5s\n",
      "660:\tlearn: 1324.9902553\ttotal: 22.4s\tremaining: 11.5s\n",
      "661:\tlearn: 1324.8542706\ttotal: 22.4s\tremaining: 11.5s\n",
      "662:\tlearn: 1324.7338977\ttotal: 22.5s\tremaining: 11.4s\n",
      "663:\tlearn: 1324.6414899\ttotal: 22.5s\tremaining: 11.4s\n",
      "664:\tlearn: 1324.4972910\ttotal: 22.5s\tremaining: 11.4s\n",
      "665:\tlearn: 1324.3133293\ttotal: 22.6s\tremaining: 11.3s\n",
      "666:\tlearn: 1324.1855487\ttotal: 22.6s\tremaining: 11.3s\n",
      "667:\tlearn: 1324.0629130\ttotal: 22.6s\tremaining: 11.3s\n",
      "668:\tlearn: 1323.8975482\ttotal: 22.7s\tremaining: 11.2s\n",
      "669:\tlearn: 1323.7725631\ttotal: 22.7s\tremaining: 11.2s\n",
      "670:\tlearn: 1323.5908780\ttotal: 22.7s\tremaining: 11.1s\n",
      "671:\tlearn: 1323.3682659\ttotal: 22.8s\tremaining: 11.1s\n",
      "672:\tlearn: 1323.0964886\ttotal: 22.8s\tremaining: 11.1s\n",
      "673:\tlearn: 1322.8052640\ttotal: 22.8s\tremaining: 11s\n",
      "674:\tlearn: 1322.5178742\ttotal: 22.9s\tremaining: 11s\n",
      "675:\tlearn: 1322.3879217\ttotal: 22.9s\tremaining: 11s\n",
      "676:\tlearn: 1322.2805484\ttotal: 22.9s\tremaining: 10.9s\n",
      "677:\tlearn: 1322.1015198\ttotal: 23s\tremaining: 10.9s\n",
      "678:\tlearn: 1322.0067475\ttotal: 23s\tremaining: 10.9s\n",
      "679:\tlearn: 1321.9409331\ttotal: 23s\tremaining: 10.8s\n",
      "680:\tlearn: 1321.8090409\ttotal: 23.1s\tremaining: 10.8s\n",
      "681:\tlearn: 1321.7177383\ttotal: 23.1s\tremaining: 10.8s\n",
      "682:\tlearn: 1321.6195591\ttotal: 23.1s\tremaining: 10.7s\n",
      "683:\tlearn: 1321.4193015\ttotal: 23.2s\tremaining: 10.7s\n",
      "684:\tlearn: 1321.2656760\ttotal: 23.2s\tremaining: 10.7s\n",
      "685:\tlearn: 1321.1200154\ttotal: 23.2s\tremaining: 10.6s\n",
      "686:\tlearn: 1320.9336149\ttotal: 23.3s\tremaining: 10.6s\n",
      "687:\tlearn: 1320.7843060\ttotal: 23.3s\tremaining: 10.6s\n",
      "688:\tlearn: 1320.6266324\ttotal: 23.3s\tremaining: 10.5s\n",
      "689:\tlearn: 1320.4236605\ttotal: 23.4s\tremaining: 10.5s\n",
      "690:\tlearn: 1320.2708007\ttotal: 23.4s\tremaining: 10.5s\n",
      "691:\tlearn: 1320.1939452\ttotal: 23.4s\tremaining: 10.4s\n",
      "692:\tlearn: 1320.0670004\ttotal: 23.5s\tremaining: 10.4s\n",
      "693:\tlearn: 1319.9107489\ttotal: 23.5s\tremaining: 10.4s\n",
      "694:\tlearn: 1319.7867468\ttotal: 23.5s\tremaining: 10.3s\n",
      "695:\tlearn: 1319.6520268\ttotal: 23.6s\tremaining: 10.3s\n",
      "696:\tlearn: 1319.5041359\ttotal: 23.6s\tremaining: 10.3s\n",
      "697:\tlearn: 1319.3489937\ttotal: 23.6s\tremaining: 10.2s\n",
      "698:\tlearn: 1319.1639043\ttotal: 23.7s\tremaining: 10.2s\n",
      "699:\tlearn: 1319.0763979\ttotal: 23.7s\tremaining: 10.2s\n",
      "700:\tlearn: 1318.9623079\ttotal: 23.7s\tremaining: 10.1s\n",
      "701:\tlearn: 1318.7715074\ttotal: 23.8s\tremaining: 10.1s\n",
      "702:\tlearn: 1318.6558449\ttotal: 23.8s\tremaining: 10.1s\n",
      "703:\tlearn: 1318.5274983\ttotal: 23.8s\tremaining: 10s\n",
      "704:\tlearn: 1318.3384203\ttotal: 23.9s\tremaining: 9.98s\n",
      "705:\tlearn: 1318.1773775\ttotal: 23.9s\tremaining: 9.95s\n",
      "706:\tlearn: 1318.0641191\ttotal: 23.9s\tremaining: 9.92s\n",
      "707:\tlearn: 1317.9175999\ttotal: 24s\tremaining: 9.88s\n",
      "708:\tlearn: 1317.7614860\ttotal: 24s\tremaining: 9.85s\n",
      "709:\tlearn: 1317.6600557\ttotal: 24s\tremaining: 9.81s\n",
      "710:\tlearn: 1317.4548702\ttotal: 24.1s\tremaining: 9.78s\n",
      "711:\tlearn: 1317.3352180\ttotal: 24.1s\tremaining: 9.74s\n",
      "712:\tlearn: 1317.2001215\ttotal: 24.1s\tremaining: 9.71s\n",
      "713:\tlearn: 1317.1030828\ttotal: 24.2s\tremaining: 9.68s\n",
      "714:\tlearn: 1316.9331649\ttotal: 24.2s\tremaining: 9.64s\n",
      "715:\tlearn: 1316.7764801\ttotal: 24.2s\tremaining: 9.61s\n",
      "716:\tlearn: 1316.6023264\ttotal: 24.3s\tremaining: 9.57s\n",
      "717:\tlearn: 1316.5378619\ttotal: 24.3s\tremaining: 9.54s\n",
      "718:\tlearn: 1316.3712469\ttotal: 24.3s\tremaining: 9.51s\n",
      "719:\tlearn: 1316.0982819\ttotal: 24.4s\tremaining: 9.47s\n",
      "720:\tlearn: 1315.9755358\ttotal: 24.4s\tremaining: 9.44s\n",
      "721:\tlearn: 1315.8796467\ttotal: 24.4s\tremaining: 9.4s\n",
      "722:\tlearn: 1315.8040596\ttotal: 24.5s\tremaining: 9.37s\n",
      "723:\tlearn: 1315.6033826\ttotal: 24.5s\tremaining: 9.34s\n",
      "724:\tlearn: 1315.4720576\ttotal: 24.5s\tremaining: 9.3s\n",
      "725:\tlearn: 1315.4144333\ttotal: 24.6s\tremaining: 9.27s\n",
      "726:\tlearn: 1315.2480184\ttotal: 24.6s\tremaining: 9.23s\n",
      "727:\tlearn: 1315.1096788\ttotal: 24.6s\tremaining: 9.2s\n",
      "728:\tlearn: 1314.9148911\ttotal: 24.7s\tremaining: 9.16s\n",
      "729:\tlearn: 1314.8076043\ttotal: 24.7s\tremaining: 9.13s\n",
      "730:\tlearn: 1314.6548935\ttotal: 24.7s\tremaining: 9.1s\n",
      "731:\tlearn: 1314.4843832\ttotal: 24.8s\tremaining: 9.06s\n",
      "732:\tlearn: 1314.3579594\ttotal: 24.8s\tremaining: 9.03s\n",
      "733:\tlearn: 1314.1649380\ttotal: 24.8s\tremaining: 8.99s\n",
      "734:\tlearn: 1314.0724131\ttotal: 24.9s\tremaining: 8.96s\n",
      "735:\tlearn: 1313.9431430\ttotal: 24.9s\tremaining: 8.93s\n",
      "736:\tlearn: 1313.7959770\ttotal: 24.9s\tremaining: 8.89s\n",
      "737:\tlearn: 1313.6777683\ttotal: 24.9s\tremaining: 8.86s\n",
      "738:\tlearn: 1313.5703927\ttotal: 25s\tremaining: 8.82s\n",
      "739:\tlearn: 1313.3161138\ttotal: 25s\tremaining: 8.79s\n",
      "740:\tlearn: 1313.2034402\ttotal: 25s\tremaining: 8.76s\n",
      "741:\tlearn: 1313.0032893\ttotal: 25.1s\tremaining: 8.72s\n",
      "742:\tlearn: 1312.8583818\ttotal: 25.1s\tremaining: 8.69s\n",
      "743:\tlearn: 1312.7780480\ttotal: 25.1s\tremaining: 8.65s\n",
      "744:\tlearn: 1312.6240917\ttotal: 25.2s\tremaining: 8.62s\n",
      "745:\tlearn: 1312.4950216\ttotal: 25.2s\tremaining: 8.58s\n",
      "746:\tlearn: 1312.3428612\ttotal: 25.2s\tremaining: 8.55s\n",
      "747:\tlearn: 1312.1879992\ttotal: 25.3s\tremaining: 8.52s\n",
      "748:\tlearn: 1312.0675902\ttotal: 25.3s\tremaining: 8.48s\n",
      "749:\tlearn: 1311.9611817\ttotal: 25.3s\tremaining: 8.45s\n",
      "750:\tlearn: 1311.8554142\ttotal: 25.4s\tremaining: 8.41s\n",
      "751:\tlearn: 1311.7143181\ttotal: 25.4s\tremaining: 8.38s\n",
      "752:\tlearn: 1311.5824010\ttotal: 25.4s\tremaining: 8.34s\n",
      "753:\tlearn: 1311.3672229\ttotal: 25.5s\tremaining: 8.31s\n",
      "754:\tlearn: 1311.2244824\ttotal: 25.5s\tremaining: 8.28s\n",
      "755:\tlearn: 1311.0528237\ttotal: 25.5s\tremaining: 8.24s\n",
      "756:\tlearn: 1310.9529993\ttotal: 25.6s\tremaining: 8.21s\n",
      "757:\tlearn: 1310.7728938\ttotal: 25.6s\tremaining: 8.17s\n",
      "758:\tlearn: 1310.5346799\ttotal: 25.6s\tremaining: 8.14s\n",
      "759:\tlearn: 1310.4574719\ttotal: 25.7s\tremaining: 8.11s\n",
      "760:\tlearn: 1310.3642485\ttotal: 25.7s\tremaining: 8.07s\n",
      "761:\tlearn: 1310.2565913\ttotal: 25.7s\tremaining: 8.04s\n",
      "762:\tlearn: 1310.1378776\ttotal: 25.8s\tremaining: 8s\n",
      "763:\tlearn: 1309.9733672\ttotal: 25.8s\tremaining: 7.97s\n",
      "764:\tlearn: 1309.8367485\ttotal: 25.8s\tremaining: 7.94s\n",
      "765:\tlearn: 1309.7383058\ttotal: 25.9s\tremaining: 7.9s\n",
      "766:\tlearn: 1309.5889932\ttotal: 25.9s\tremaining: 7.87s\n",
      "767:\tlearn: 1309.4017707\ttotal: 25.9s\tremaining: 7.83s\n"
     ]
    },
    {
     "name": "stdout",
     "output_type": "stream",
     "text": [
      "768:\tlearn: 1309.2786430\ttotal: 26s\tremaining: 7.8s\n",
      "769:\tlearn: 1309.1738736\ttotal: 26s\tremaining: 7.77s\n",
      "770:\tlearn: 1309.0838541\ttotal: 26s\tremaining: 7.73s\n",
      "771:\tlearn: 1309.0145612\ttotal: 26.1s\tremaining: 7.7s\n",
      "772:\tlearn: 1308.7606071\ttotal: 26.1s\tremaining: 7.67s\n",
      "773:\tlearn: 1308.6657735\ttotal: 26.1s\tremaining: 7.63s\n",
      "774:\tlearn: 1308.5689998\ttotal: 26.2s\tremaining: 7.6s\n",
      "775:\tlearn: 1308.4450651\ttotal: 26.2s\tremaining: 7.57s\n",
      "776:\tlearn: 1308.3364737\ttotal: 26.2s\tremaining: 7.53s\n",
      "777:\tlearn: 1308.2029763\ttotal: 26.3s\tremaining: 7.5s\n",
      "778:\tlearn: 1307.9451371\ttotal: 26.3s\tremaining: 7.46s\n",
      "779:\tlearn: 1307.8007648\ttotal: 26.3s\tremaining: 7.43s\n",
      "780:\tlearn: 1307.6900924\ttotal: 26.4s\tremaining: 7.4s\n",
      "781:\tlearn: 1307.6085794\ttotal: 26.4s\tremaining: 7.36s\n",
      "782:\tlearn: 1307.5067757\ttotal: 26.4s\tremaining: 7.33s\n",
      "783:\tlearn: 1307.4331996\ttotal: 26.5s\tremaining: 7.29s\n",
      "784:\tlearn: 1307.1982814\ttotal: 26.5s\tremaining: 7.26s\n",
      "785:\tlearn: 1307.0960018\ttotal: 26.5s\tremaining: 7.23s\n",
      "786:\tlearn: 1307.0216368\ttotal: 26.6s\tremaining: 7.19s\n",
      "787:\tlearn: 1306.9157690\ttotal: 26.6s\tremaining: 7.16s\n",
      "788:\tlearn: 1306.7783098\ttotal: 26.6s\tremaining: 7.13s\n",
      "789:\tlearn: 1306.6785406\ttotal: 26.7s\tremaining: 7.09s\n",
      "790:\tlearn: 1306.5725199\ttotal: 26.7s\tremaining: 7.06s\n",
      "791:\tlearn: 1306.4915703\ttotal: 26.7s\tremaining: 7.02s\n",
      "792:\tlearn: 1306.3166826\ttotal: 26.8s\tremaining: 6.99s\n",
      "793:\tlearn: 1306.1550742\ttotal: 26.8s\tremaining: 6.96s\n",
      "794:\tlearn: 1306.0637365\ttotal: 26.8s\tremaining: 6.92s\n",
      "795:\tlearn: 1305.9400778\ttotal: 26.9s\tremaining: 6.89s\n",
      "796:\tlearn: 1305.8339783\ttotal: 26.9s\tremaining: 6.85s\n",
      "797:\tlearn: 1305.6935820\ttotal: 26.9s\tremaining: 6.82s\n",
      "798:\tlearn: 1305.5716455\ttotal: 27s\tremaining: 6.79s\n",
      "799:\tlearn: 1305.4828230\ttotal: 27s\tremaining: 6.75s\n",
      "800:\tlearn: 1305.3116454\ttotal: 27s\tremaining: 6.72s\n",
      "801:\tlearn: 1305.1974103\ttotal: 27.1s\tremaining: 6.68s\n",
      "802:\tlearn: 1304.9243055\ttotal: 27.1s\tremaining: 6.65s\n",
      "803:\tlearn: 1304.7726731\ttotal: 27.1s\tremaining: 6.62s\n",
      "804:\tlearn: 1304.7029166\ttotal: 27.2s\tremaining: 6.58s\n",
      "805:\tlearn: 1304.6099374\ttotal: 27.2s\tremaining: 6.55s\n",
      "806:\tlearn: 1304.4300603\ttotal: 27.2s\tremaining: 6.51s\n",
      "807:\tlearn: 1304.3370019\ttotal: 27.3s\tremaining: 6.48s\n",
      "808:\tlearn: 1304.2641054\ttotal: 27.3s\tremaining: 6.44s\n",
      "809:\tlearn: 1304.0960881\ttotal: 27.3s\tremaining: 6.41s\n",
      "810:\tlearn: 1304.0082210\ttotal: 27.4s\tremaining: 6.38s\n",
      "811:\tlearn: 1303.8545287\ttotal: 27.4s\tremaining: 6.34s\n",
      "812:\tlearn: 1303.7454273\ttotal: 27.4s\tremaining: 6.31s\n",
      "813:\tlearn: 1303.6303593\ttotal: 27.5s\tremaining: 6.27s\n",
      "814:\tlearn: 1303.5286926\ttotal: 27.5s\tremaining: 6.24s\n",
      "815:\tlearn: 1303.4217221\ttotal: 27.5s\tremaining: 6.21s\n",
      "816:\tlearn: 1303.3193222\ttotal: 27.6s\tremaining: 6.17s\n",
      "817:\tlearn: 1303.2007482\ttotal: 27.6s\tremaining: 6.14s\n",
      "818:\tlearn: 1302.9976464\ttotal: 27.6s\tremaining: 6.11s\n",
      "819:\tlearn: 1302.8653740\ttotal: 27.7s\tremaining: 6.07s\n",
      "820:\tlearn: 1302.7693791\ttotal: 27.7s\tremaining: 6.04s\n",
      "821:\tlearn: 1302.6251725\ttotal: 27.7s\tremaining: 6s\n",
      "822:\tlearn: 1302.4621304\ttotal: 27.8s\tremaining: 5.97s\n",
      "823:\tlearn: 1302.3824411\ttotal: 27.8s\tremaining: 5.93s\n",
      "824:\tlearn: 1302.3111460\ttotal: 27.8s\tremaining: 5.9s\n",
      "825:\tlearn: 1302.2083722\ttotal: 27.9s\tremaining: 5.87s\n",
      "826:\tlearn: 1302.0800376\ttotal: 27.9s\tremaining: 5.83s\n",
      "827:\tlearn: 1302.0290734\ttotal: 27.9s\tremaining: 5.8s\n",
      "828:\tlearn: 1301.9117627\ttotal: 28s\tremaining: 5.76s\n",
      "829:\tlearn: 1301.7707409\ttotal: 28s\tremaining: 5.73s\n",
      "830:\tlearn: 1301.6048928\ttotal: 28s\tremaining: 5.7s\n",
      "831:\tlearn: 1301.4817547\ttotal: 28.1s\tremaining: 5.66s\n",
      "832:\tlearn: 1301.2116045\ttotal: 28.1s\tremaining: 5.63s\n",
      "833:\tlearn: 1301.0189529\ttotal: 28.1s\tremaining: 5.6s\n",
      "834:\tlearn: 1300.8921933\ttotal: 28.1s\tremaining: 5.56s\n",
      "835:\tlearn: 1300.7165553\ttotal: 28.2s\tremaining: 5.53s\n",
      "836:\tlearn: 1300.5692468\ttotal: 28.2s\tremaining: 5.49s\n",
      "837:\tlearn: 1300.4627368\ttotal: 28.2s\tremaining: 5.46s\n",
      "838:\tlearn: 1300.3845759\ttotal: 28.3s\tremaining: 5.43s\n",
      "839:\tlearn: 1300.2453604\ttotal: 28.3s\tremaining: 5.39s\n",
      "840:\tlearn: 1300.1329704\ttotal: 28.3s\tremaining: 5.36s\n",
      "841:\tlearn: 1299.9004838\ttotal: 28.4s\tremaining: 5.32s\n",
      "842:\tlearn: 1299.7325554\ttotal: 28.4s\tremaining: 5.29s\n",
      "843:\tlearn: 1299.5930735\ttotal: 28.4s\tremaining: 5.26s\n",
      "844:\tlearn: 1299.4343024\ttotal: 28.5s\tremaining: 5.22s\n",
      "845:\tlearn: 1299.3460893\ttotal: 28.5s\tremaining: 5.19s\n",
      "846:\tlearn: 1299.2461309\ttotal: 28.5s\tremaining: 5.16s\n",
      "847:\tlearn: 1299.1298606\ttotal: 28.6s\tremaining: 5.12s\n",
      "848:\tlearn: 1298.9706483\ttotal: 28.6s\tremaining: 5.09s\n",
      "849:\tlearn: 1298.8274138\ttotal: 28.6s\tremaining: 5.05s\n",
      "850:\tlearn: 1298.6578719\ttotal: 28.7s\tremaining: 5.02s\n",
      "851:\tlearn: 1298.5293331\ttotal: 28.7s\tremaining: 4.99s\n",
      "852:\tlearn: 1298.4379795\ttotal: 28.7s\tremaining: 4.95s\n",
      "853:\tlearn: 1298.3204642\ttotal: 28.8s\tremaining: 4.92s\n",
      "854:\tlearn: 1298.2038741\ttotal: 28.8s\tremaining: 4.89s\n",
      "855:\tlearn: 1298.0686945\ttotal: 28.8s\tremaining: 4.85s\n",
      "856:\tlearn: 1297.9893557\ttotal: 28.9s\tremaining: 4.82s\n",
      "857:\tlearn: 1297.8976489\ttotal: 28.9s\tremaining: 4.79s\n",
      "858:\tlearn: 1297.8150693\ttotal: 28.9s\tremaining: 4.75s\n",
      "859:\tlearn: 1297.7008345\ttotal: 29s\tremaining: 4.72s\n",
      "860:\tlearn: 1297.6120338\ttotal: 29s\tremaining: 4.68s\n",
      "861:\tlearn: 1297.4528729\ttotal: 29s\tremaining: 4.65s\n",
      "862:\tlearn: 1297.3113880\ttotal: 29.1s\tremaining: 4.62s\n",
      "863:\tlearn: 1297.1884968\ttotal: 29.1s\tremaining: 4.58s\n",
      "864:\tlearn: 1297.1218250\ttotal: 29.1s\tremaining: 4.55s\n",
      "865:\tlearn: 1297.0225522\ttotal: 29.2s\tremaining: 4.51s\n",
      "866:\tlearn: 1296.8699393\ttotal: 29.2s\tremaining: 4.48s\n",
      "867:\tlearn: 1296.7729041\ttotal: 29.2s\tremaining: 4.45s\n",
      "868:\tlearn: 1296.6879896\ttotal: 29.3s\tremaining: 4.41s\n",
      "869:\tlearn: 1296.5392114\ttotal: 29.3s\tremaining: 4.38s\n",
      "870:\tlearn: 1296.4210934\ttotal: 29.3s\tremaining: 4.34s\n",
      "871:\tlearn: 1296.3536077\ttotal: 29.4s\tremaining: 4.31s\n",
      "872:\tlearn: 1296.2604453\ttotal: 29.4s\tremaining: 4.28s\n",
      "873:\tlearn: 1296.1736048\ttotal: 29.4s\tremaining: 4.24s\n",
      "874:\tlearn: 1296.0259037\ttotal: 29.5s\tremaining: 4.21s\n",
      "875:\tlearn: 1295.9262512\ttotal: 29.5s\tremaining: 4.17s\n",
      "876:\tlearn: 1295.8507155\ttotal: 29.5s\tremaining: 4.14s\n",
      "877:\tlearn: 1295.7594594\ttotal: 29.6s\tremaining: 4.11s\n",
      "878:\tlearn: 1295.6212235\ttotal: 29.6s\tremaining: 4.07s\n",
      "879:\tlearn: 1295.5014585\ttotal: 29.6s\tremaining: 4.04s\n",
      "880:\tlearn: 1295.3811395\ttotal: 29.7s\tremaining: 4.01s\n",
      "881:\tlearn: 1295.1827133\ttotal: 29.7s\tremaining: 3.97s\n",
      "882:\tlearn: 1295.0740476\ttotal: 29.7s\tremaining: 3.94s\n",
      "883:\tlearn: 1294.9987101\ttotal: 29.8s\tremaining: 3.9s\n",
      "884:\tlearn: 1294.8811915\ttotal: 29.8s\tremaining: 3.87s\n",
      "885:\tlearn: 1294.7269148\ttotal: 29.8s\tremaining: 3.84s\n",
      "886:\tlearn: 1294.6466155\ttotal: 29.9s\tremaining: 3.8s\n",
      "887:\tlearn: 1294.5441586\ttotal: 29.9s\tremaining: 3.77s\n",
      "888:\tlearn: 1294.4392980\ttotal: 29.9s\tremaining: 3.74s\n",
      "889:\tlearn: 1294.2270273\ttotal: 30s\tremaining: 3.7s\n",
      "890:\tlearn: 1294.0692605\ttotal: 30s\tremaining: 3.67s\n",
      "891:\tlearn: 1293.9576474\ttotal: 30s\tremaining: 3.63s\n",
      "892:\tlearn: 1293.8250040\ttotal: 30.1s\tremaining: 3.6s\n",
      "893:\tlearn: 1293.7173493\ttotal: 30.1s\tremaining: 3.57s\n",
      "894:\tlearn: 1293.6497183\ttotal: 30.1s\tremaining: 3.53s\n",
      "895:\tlearn: 1293.5730414\ttotal: 30.2s\tremaining: 3.5s\n",
      "896:\tlearn: 1293.4367742\ttotal: 30.2s\tremaining: 3.47s\n",
      "897:\tlearn: 1293.3412233\ttotal: 30.2s\tremaining: 3.43s\n",
      "898:\tlearn: 1293.2428164\ttotal: 30.3s\tremaining: 3.4s\n",
      "899:\tlearn: 1293.0990829\ttotal: 30.3s\tremaining: 3.37s\n",
      "900:\tlearn: 1293.0083845\ttotal: 30.3s\tremaining: 3.33s\n",
      "901:\tlearn: 1292.8380732\ttotal: 30.4s\tremaining: 3.3s\n",
      "902:\tlearn: 1292.7579396\ttotal: 30.4s\tremaining: 3.26s\n",
      "903:\tlearn: 1292.6297720\ttotal: 30.4s\tremaining: 3.23s\n",
      "904:\tlearn: 1292.5290775\ttotal: 30.5s\tremaining: 3.2s\n",
      "905:\tlearn: 1292.4515539\ttotal: 30.5s\tremaining: 3.16s\n",
      "906:\tlearn: 1292.3591734\ttotal: 30.5s\tremaining: 3.13s\n",
      "907:\tlearn: 1292.2469734\ttotal: 30.6s\tremaining: 3.1s\n",
      "908:\tlearn: 1292.0903877\ttotal: 30.6s\tremaining: 3.06s\n",
      "909:\tlearn: 1292.0217359\ttotal: 30.6s\tremaining: 3.03s\n",
      "910:\tlearn: 1291.9616249\ttotal: 30.7s\tremaining: 2.99s\n",
      "911:\tlearn: 1291.8507232\ttotal: 30.7s\tremaining: 2.96s\n",
      "912:\tlearn: 1291.7476840\ttotal: 30.7s\tremaining: 2.93s\n",
      "913:\tlearn: 1291.6054518\ttotal: 30.8s\tremaining: 2.89s\n",
      "914:\tlearn: 1291.4231761\ttotal: 30.8s\tremaining: 2.86s\n",
      "915:\tlearn: 1291.3458347\ttotal: 30.8s\tremaining: 2.83s\n",
      "916:\tlearn: 1291.2676027\ttotal: 30.9s\tremaining: 2.79s\n",
      "917:\tlearn: 1291.1584843\ttotal: 30.9s\tremaining: 2.76s\n",
      "918:\tlearn: 1291.0971709\ttotal: 30.9s\tremaining: 2.73s\n"
     ]
    },
    {
     "name": "stdout",
     "output_type": "stream",
     "text": [
      "919:\tlearn: 1291.0068991\ttotal: 31s\tremaining: 2.69s\n",
      "920:\tlearn: 1290.8630889\ttotal: 31s\tremaining: 2.66s\n",
      "921:\tlearn: 1290.7996275\ttotal: 31s\tremaining: 2.62s\n",
      "922:\tlearn: 1290.7038637\ttotal: 31.1s\tremaining: 2.59s\n",
      "923:\tlearn: 1290.6433397\ttotal: 31.1s\tremaining: 2.56s\n",
      "924:\tlearn: 1290.5759935\ttotal: 31.1s\tremaining: 2.52s\n",
      "925:\tlearn: 1290.4741613\ttotal: 31.2s\tremaining: 2.49s\n",
      "926:\tlearn: 1290.4173701\ttotal: 31.2s\tremaining: 2.46s\n",
      "927:\tlearn: 1290.2864647\ttotal: 31.2s\tremaining: 2.42s\n",
      "928:\tlearn: 1290.1937946\ttotal: 31.3s\tremaining: 2.39s\n",
      "929:\tlearn: 1290.1031744\ttotal: 31.3s\tremaining: 2.35s\n",
      "930:\tlearn: 1290.0227416\ttotal: 31.3s\tremaining: 2.32s\n",
      "931:\tlearn: 1289.9685534\ttotal: 31.3s\tremaining: 2.29s\n",
      "932:\tlearn: 1289.7804572\ttotal: 31.4s\tremaining: 2.25s\n",
      "933:\tlearn: 1289.6581048\ttotal: 31.4s\tremaining: 2.22s\n",
      "934:\tlearn: 1289.5435326\ttotal: 31.4s\tremaining: 2.19s\n",
      "935:\tlearn: 1289.4074787\ttotal: 31.5s\tremaining: 2.15s\n",
      "936:\tlearn: 1289.3122682\ttotal: 31.5s\tremaining: 2.12s\n",
      "937:\tlearn: 1289.1548367\ttotal: 31.5s\tremaining: 2.08s\n",
      "938:\tlearn: 1289.0751476\ttotal: 31.6s\tremaining: 2.05s\n",
      "939:\tlearn: 1288.9723402\ttotal: 31.6s\tremaining: 2.02s\n",
      "940:\tlearn: 1288.8559200\ttotal: 31.6s\tremaining: 1.98s\n",
      "941:\tlearn: 1288.6822892\ttotal: 31.7s\tremaining: 1.95s\n",
      "942:\tlearn: 1288.5484276\ttotal: 31.7s\tremaining: 1.92s\n",
      "943:\tlearn: 1288.4396526\ttotal: 31.7s\tremaining: 1.88s\n",
      "944:\tlearn: 1288.3247826\ttotal: 31.8s\tremaining: 1.85s\n",
      "945:\tlearn: 1288.2042169\ttotal: 31.8s\tremaining: 1.81s\n",
      "946:\tlearn: 1288.1474758\ttotal: 31.8s\tremaining: 1.78s\n",
      "947:\tlearn: 1288.0579364\ttotal: 31.9s\tremaining: 1.75s\n",
      "948:\tlearn: 1287.9622422\ttotal: 31.9s\tremaining: 1.72s\n",
      "949:\tlearn: 1287.8751182\ttotal: 31.9s\tremaining: 1.68s\n",
      "950:\tlearn: 1287.7783048\ttotal: 32s\tremaining: 1.65s\n",
      "951:\tlearn: 1287.6694922\ttotal: 32s\tremaining: 1.61s\n",
      "952:\tlearn: 1287.5414237\ttotal: 32s\tremaining: 1.58s\n",
      "953:\tlearn: 1287.4776789\ttotal: 32.1s\tremaining: 1.55s\n",
      "954:\tlearn: 1287.2961752\ttotal: 32.1s\tremaining: 1.51s\n",
      "955:\tlearn: 1287.2297962\ttotal: 32.1s\tremaining: 1.48s\n",
      "956:\tlearn: 1287.1553015\ttotal: 32.2s\tremaining: 1.45s\n",
      "957:\tlearn: 1287.0523139\ttotal: 32.2s\tremaining: 1.41s\n",
      "958:\tlearn: 1286.9556921\ttotal: 32.2s\tremaining: 1.38s\n",
      "959:\tlearn: 1286.8574851\ttotal: 32.3s\tremaining: 1.34s\n",
      "960:\tlearn: 1286.7869154\ttotal: 32.3s\tremaining: 1.31s\n",
      "961:\tlearn: 1286.6670336\ttotal: 32.3s\tremaining: 1.28s\n",
      "962:\tlearn: 1286.5701778\ttotal: 32.4s\tremaining: 1.24s\n",
      "963:\tlearn: 1286.4685467\ttotal: 32.4s\tremaining: 1.21s\n",
      "964:\tlearn: 1286.4039047\ttotal: 32.4s\tremaining: 1.18s\n",
      "965:\tlearn: 1286.2205035\ttotal: 32.5s\tremaining: 1.14s\n",
      "966:\tlearn: 1286.1622380\ttotal: 32.5s\tremaining: 1.11s\n",
      "967:\tlearn: 1285.9928604\ttotal: 32.5s\tremaining: 1.07s\n",
      "968:\tlearn: 1285.8476888\ttotal: 32.6s\tremaining: 1.04s\n",
      "969:\tlearn: 1285.7637067\ttotal: 32.6s\tremaining: 1.01s\n",
      "970:\tlearn: 1285.6568337\ttotal: 32.6s\tremaining: 975ms\n",
      "971:\tlearn: 1285.5516530\ttotal: 32.7s\tremaining: 941ms\n",
      "972:\tlearn: 1285.4494245\ttotal: 32.7s\tremaining: 908ms\n",
      "973:\tlearn: 1285.3201655\ttotal: 32.7s\tremaining: 874ms\n",
      "974:\tlearn: 1285.2614532\ttotal: 32.8s\tremaining: 840ms\n",
      "975:\tlearn: 1285.1932387\ttotal: 32.8s\tremaining: 807ms\n",
      "976:\tlearn: 1285.0764441\ttotal: 32.8s\tremaining: 773ms\n",
      "977:\tlearn: 1284.9716666\ttotal: 32.9s\tremaining: 739ms\n",
      "978:\tlearn: 1284.9154112\ttotal: 32.9s\tremaining: 706ms\n",
      "979:\tlearn: 1284.8524097\ttotal: 32.9s\tremaining: 672ms\n",
      "980:\tlearn: 1284.7326230\ttotal: 33s\tremaining: 639ms\n",
      "981:\tlearn: 1284.6395192\ttotal: 33s\tremaining: 605ms\n",
      "982:\tlearn: 1284.4929091\ttotal: 33s\tremaining: 571ms\n",
      "983:\tlearn: 1284.3873778\ttotal: 33.1s\tremaining: 538ms\n",
      "984:\tlearn: 1284.2649871\ttotal: 33.1s\tremaining: 504ms\n",
      "985:\tlearn: 1284.1556599\ttotal: 33.1s\tremaining: 470ms\n",
      "986:\tlearn: 1284.0188360\ttotal: 33.2s\tremaining: 437ms\n",
      "987:\tlearn: 1283.8557263\ttotal: 33.2s\tremaining: 403ms\n",
      "988:\tlearn: 1283.7606414\ttotal: 33.2s\tremaining: 370ms\n",
      "989:\tlearn: 1283.6954540\ttotal: 33.3s\tremaining: 336ms\n",
      "990:\tlearn: 1283.5567172\ttotal: 33.3s\tremaining: 302ms\n",
      "991:\tlearn: 1283.4657472\ttotal: 33.3s\tremaining: 269ms\n",
      "992:\tlearn: 1283.3735392\ttotal: 33.4s\tremaining: 235ms\n",
      "993:\tlearn: 1283.2573364\ttotal: 33.4s\tremaining: 202ms\n",
      "994:\tlearn: 1283.1925405\ttotal: 33.4s\tremaining: 168ms\n",
      "995:\tlearn: 1283.1049626\ttotal: 33.5s\tremaining: 134ms\n",
      "996:\tlearn: 1283.0104649\ttotal: 33.5s\tremaining: 101ms\n",
      "997:\tlearn: 1282.9267449\ttotal: 33.5s\tremaining: 67.2ms\n",
      "998:\tlearn: 1282.8757096\ttotal: 33.6s\tremaining: 33.6ms\n",
      "999:\tlearn: 1282.8229110\ttotal: 33.6s\tremaining: 0us\n"
     ]
    }
   ],
   "source": [
    "fit_predict(cbreg2, name='cbreg2')\n",
    "result_tbl = pd.concat([result_tbl, a], axis = 0) # добавление показателей  в общую таблицу"
   ]
  },
  {
   "cell_type": "code",
   "execution_count": 65,
   "metadata": {},
   "outputs": [
    {
     "data": {
      "text/html": [
       "<div>\n",
       "<style scoped>\n",
       "    .dataframe tbody tr th:only-of-type {\n",
       "        vertical-align: middle;\n",
       "    }\n",
       "\n",
       "    .dataframe tbody tr th {\n",
       "        vertical-align: top;\n",
       "    }\n",
       "\n",
       "    .dataframe thead th {\n",
       "        text-align: right;\n",
       "    }\n",
       "</style>\n",
       "<table border=\"1\" class=\"dataframe\">\n",
       "  <thead>\n",
       "    <tr style=\"text-align: right;\">\n",
       "      <th></th>\n",
       "      <th>model_name</th>\n",
       "      <th>model</th>\n",
       "      <th>fit_time_sec</th>\n",
       "      <th>RMSE</th>\n",
       "      <th>importance_features</th>\n",
       "    </tr>\n",
       "  </thead>\n",
       "  <tbody>\n",
       "    <tr>\n",
       "      <th>0</th>\n",
       "      <td>lgbmreg</td>\n",
       "      <td>LGBMRegressor(random_state=123)</td>\n",
       "      <td>0.5</td>\n",
       "      <td>1418</td>\n",
       "      <td>all</td>\n",
       "    </tr>\n",
       "    <tr>\n",
       "      <th>0</th>\n",
       "      <td>lgbmreg2</td>\n",
       "      <td>LGBMRegressor(max_bin=255, num_iterations=1000...</td>\n",
       "      <td>3.3</td>\n",
       "      <td>1216</td>\n",
       "      <td>all</td>\n",
       "    </tr>\n",
       "    <tr>\n",
       "      <th>0</th>\n",
       "      <td>lgbmreg3</td>\n",
       "      <td>LGBMRegressor(max_bin=255, num_iterations=500,...</td>\n",
       "      <td>1.6</td>\n",
       "      <td>1279</td>\n",
       "      <td>all</td>\n",
       "    </tr>\n",
       "    <tr>\n",
       "      <th>0</th>\n",
       "      <td>lgbmreg2</td>\n",
       "      <td>LGBMRegressor(max_bin=255, num_iterations=1000...</td>\n",
       "      <td>3.0</td>\n",
       "      <td>1360</td>\n",
       "      <td>5</td>\n",
       "    </tr>\n",
       "    <tr>\n",
       "      <th>0</th>\n",
       "      <td>cbreg_cat</td>\n",
       "      <td>&lt;catboost.core.CatBoostRegressor object at 0x0...</td>\n",
       "      <td>105.8</td>\n",
       "      <td>1320</td>\n",
       "      <td>all</td>\n",
       "    </tr>\n",
       "    <tr>\n",
       "      <th>0</th>\n",
       "      <td>cbreg</td>\n",
       "      <td>&lt;catboost.core.CatBoostRegressor object at 0x0...</td>\n",
       "      <td>15.4</td>\n",
       "      <td>1319</td>\n",
       "      <td>all</td>\n",
       "    </tr>\n",
       "    <tr>\n",
       "      <th>0</th>\n",
       "      <td>cbreg2</td>\n",
       "      <td>&lt;catboost.core.CatBoostRegressor object at 0x0...</td>\n",
       "      <td>34.0</td>\n",
       "      <td>1282</td>\n",
       "      <td>all</td>\n",
       "    </tr>\n",
       "  </tbody>\n",
       "</table>\n",
       "</div>"
      ],
      "text/plain": [
       "  model_name                                              model  fit_time_sec  \\\n",
       "0    lgbmreg                    LGBMRegressor(random_state=123)           0.5   \n",
       "0   lgbmreg2  LGBMRegressor(max_bin=255, num_iterations=1000...           3.3   \n",
       "0   lgbmreg3  LGBMRegressor(max_bin=255, num_iterations=500,...           1.6   \n",
       "0   lgbmreg2  LGBMRegressor(max_bin=255, num_iterations=1000...           3.0   \n",
       "0  cbreg_cat  <catboost.core.CatBoostRegressor object at 0x0...         105.8   \n",
       "0      cbreg  <catboost.core.CatBoostRegressor object at 0x0...          15.4   \n",
       "0     cbreg2  <catboost.core.CatBoostRegressor object at 0x0...          34.0   \n",
       "\n",
       "   RMSE importance_features  \n",
       "0  1418                 all  \n",
       "0  1216                 all  \n",
       "0  1279                 all  \n",
       "0  1360                   5  \n",
       "0  1320                 all  \n",
       "0  1319                 all  \n",
       "0  1282                 all  "
      ]
     },
     "execution_count": 65,
     "metadata": {},
     "output_type": "execute_result"
    }
   ],
   "source": [
    "result_tbl"
   ]
  },
  {
   "cell_type": "markdown",
   "metadata": {},
   "source": [
    "Уменьшим значения гиперпараметра *depth*, чтобы увеличить скорость обучения модели."
   ]
  },
  {
   "cell_type": "code",
   "execution_count": 66,
   "metadata": {},
   "outputs": [],
   "source": [
    "cbreg3 = CatBoostRegressor(iterations=500, depth=5, l2_leaf_reg=1, random_state=123)"
   ]
  },
  {
   "cell_type": "code",
   "execution_count": 67,
   "metadata": {},
   "outputs": [
    {
     "name": "stdout",
     "output_type": "stream",
     "text": [
      "0:\tlearn: 3788.0914578\ttotal: 14.7ms\tremaining: 7.36s\n",
      "1:\tlearn: 3720.3833636\ttotal: 29.2ms\tremaining: 7.27s\n",
      "2:\tlearn: 3652.5864127\ttotal: 43ms\tremaining: 7.13s\n",
      "3:\tlearn: 3587.1673692\ttotal: 56.6ms\tremaining: 7.01s\n",
      "4:\tlearn: 3526.1037690\ttotal: 70.2ms\tremaining: 6.95s\n",
      "5:\tlearn: 3464.2735816\ttotal: 84.6ms\tremaining: 6.97s\n",
      "6:\tlearn: 3404.6596501\ttotal: 98.9ms\tremaining: 6.97s\n",
      "7:\tlearn: 3349.9677833\ttotal: 114ms\tremaining: 7.01s\n",
      "8:\tlearn: 3294.0212469\ttotal: 131ms\tremaining: 7.15s\n",
      "9:\tlearn: 3240.7120304\ttotal: 146ms\tremaining: 7.14s\n",
      "10:\tlearn: 3189.3255553\ttotal: 160ms\tremaining: 7.1s\n",
      "11:\tlearn: 3138.5521247\ttotal: 174ms\tremaining: 7.08s\n",
      "12:\tlearn: 3091.9012228\ttotal: 188ms\tremaining: 7.04s\n",
      "13:\tlearn: 3044.8444293\ttotal: 200ms\tremaining: 6.95s\n",
      "14:\tlearn: 2999.7794844\ttotal: 214ms\tremaining: 6.93s\n",
      "15:\tlearn: 2958.5833588\ttotal: 227ms\tremaining: 6.88s\n",
      "16:\tlearn: 2916.2886278\ttotal: 242ms\tremaining: 6.88s\n",
      "17:\tlearn: 2876.9734007\ttotal: 257ms\tremaining: 6.88s\n",
      "18:\tlearn: 2838.6882286\ttotal: 271ms\tremaining: 6.86s\n",
      "19:\tlearn: 2803.3816951\ttotal: 285ms\tremaining: 6.84s\n",
      "20:\tlearn: 2766.7029122\ttotal: 299ms\tremaining: 6.82s\n",
      "21:\tlearn: 2731.7797746\ttotal: 313ms\tremaining: 6.79s\n",
      "22:\tlearn: 2699.3706729\ttotal: 326ms\tremaining: 6.76s\n",
      "23:\tlearn: 2668.6195067\ttotal: 338ms\tremaining: 6.71s\n",
      "24:\tlearn: 2638.7520613\ttotal: 350ms\tremaining: 6.66s\n",
      "25:\tlearn: 2610.4377550\ttotal: 362ms\tremaining: 6.61s\n",
      "26:\tlearn: 2582.2477030\ttotal: 375ms\tremaining: 6.57s\n",
      "27:\tlearn: 2554.7520561\ttotal: 387ms\tremaining: 6.52s\n",
      "28:\tlearn: 2528.8567247\ttotal: 399ms\tremaining: 6.49s\n",
      "29:\tlearn: 2503.3845251\ttotal: 414ms\tremaining: 6.49s\n",
      "30:\tlearn: 2479.3180380\ttotal: 429ms\tremaining: 6.5s\n",
      "31:\tlearn: 2455.5849698\ttotal: 444ms\tremaining: 6.49s\n",
      "32:\tlearn: 2433.4388524\ttotal: 457ms\tremaining: 6.46s\n",
      "33:\tlearn: 2411.5319429\ttotal: 470ms\tremaining: 6.44s\n",
      "34:\tlearn: 2390.5417408\ttotal: 482ms\tremaining: 6.41s\n",
      "35:\tlearn: 2370.3335678\ttotal: 495ms\tremaining: 6.38s\n",
      "36:\tlearn: 2349.6997995\ttotal: 507ms\tremaining: 6.34s\n",
      "37:\tlearn: 2331.5371821\ttotal: 519ms\tremaining: 6.31s\n",
      "38:\tlearn: 2312.7025706\ttotal: 532ms\tremaining: 6.28s\n",
      "39:\tlearn: 2295.4671062\ttotal: 544ms\tremaining: 6.25s\n",
      "40:\tlearn: 2278.5356806\ttotal: 556ms\tremaining: 6.22s\n",
      "41:\tlearn: 2261.7732907\ttotal: 568ms\tremaining: 6.2s\n",
      "42:\tlearn: 2245.6730981\ttotal: 580ms\tremaining: 6.17s\n",
      "43:\tlearn: 2230.6499318\ttotal: 592ms\tremaining: 6.13s\n",
      "44:\tlearn: 2216.1704541\ttotal: 605ms\tremaining: 6.12s\n",
      "45:\tlearn: 2201.3512994\ttotal: 619ms\tremaining: 6.11s\n",
      "46:\tlearn: 2187.6407472\ttotal: 635ms\tremaining: 6.12s\n",
      "47:\tlearn: 2173.7137244\ttotal: 650ms\tremaining: 6.12s\n",
      "48:\tlearn: 2160.5395237\ttotal: 662ms\tremaining: 6.09s\n",
      "49:\tlearn: 2147.4251899\ttotal: 674ms\tremaining: 6.06s\n",
      "50:\tlearn: 2135.3904894\ttotal: 685ms\tremaining: 6.03s\n",
      "51:\tlearn: 2123.1815761\ttotal: 698ms\tremaining: 6.01s\n",
      "52:\tlearn: 2112.1406395\ttotal: 710ms\tremaining: 5.99s\n",
      "53:\tlearn: 2101.2353743\ttotal: 722ms\tremaining: 5.96s\n",
      "54:\tlearn: 2090.9842452\ttotal: 735ms\tremaining: 5.94s\n",
      "55:\tlearn: 2080.5762164\ttotal: 747ms\tremaining: 5.92s\n",
      "56:\tlearn: 2069.6477607\ttotal: 759ms\tremaining: 5.9s\n",
      "57:\tlearn: 2059.5474967\ttotal: 771ms\tremaining: 5.88s\n",
      "58:\tlearn: 2050.3444512\ttotal: 783ms\tremaining: 5.85s\n",
      "59:\tlearn: 2040.8254293\ttotal: 795ms\tremaining: 5.83s\n",
      "60:\tlearn: 2031.9090284\ttotal: 807ms\tremaining: 5.81s\n",
      "61:\tlearn: 2022.6590813\ttotal: 821ms\tremaining: 5.8s\n",
      "62:\tlearn: 2014.7442821\ttotal: 835ms\tremaining: 5.79s\n",
      "63:\tlearn: 2006.5770265\ttotal: 850ms\tremaining: 5.79s\n",
      "64:\tlearn: 1998.8929815\ttotal: 863ms\tremaining: 5.78s\n",
      "65:\tlearn: 1990.5119274\ttotal: 876ms\tremaining: 5.76s\n",
      "66:\tlearn: 1982.5910184\ttotal: 888ms\tremaining: 5.74s\n",
      "67:\tlearn: 1975.2133161\ttotal: 900ms\tremaining: 5.72s\n",
      "68:\tlearn: 1968.2840439\ttotal: 912ms\tremaining: 5.7s\n",
      "69:\tlearn: 1961.7124268\ttotal: 925ms\tremaining: 5.68s\n",
      "70:\tlearn: 1955.0787895\ttotal: 938ms\tremaining: 5.67s\n",
      "71:\tlearn: 1948.9591679\ttotal: 951ms\tremaining: 5.65s\n",
      "72:\tlearn: 1942.4614670\ttotal: 964ms\tremaining: 5.64s\n",
      "73:\tlearn: 1936.3130266\ttotal: 981ms\tremaining: 5.65s\n",
      "74:\tlearn: 1929.4632488\ttotal: 994ms\tremaining: 5.63s\n",
      "75:\tlearn: 1923.6357349\ttotal: 1s\tremaining: 5.61s\n",
      "76:\tlearn: 1917.2637654\ttotal: 1.02s\tremaining: 5.6s\n",
      "77:\tlearn: 1911.9445713\ttotal: 1.03s\tremaining: 5.59s\n",
      "78:\tlearn: 1906.5168997\ttotal: 1.05s\tremaining: 5.59s\n",
      "79:\tlearn: 1901.4269464\ttotal: 1.06s\tremaining: 5.57s\n",
      "80:\tlearn: 1895.8159787\ttotal: 1.07s\tremaining: 5.55s\n",
      "81:\tlearn: 1891.3775317\ttotal: 1.08s\tremaining: 5.53s\n",
      "82:\tlearn: 1886.5536201\ttotal: 1.09s\tremaining: 5.5s\n",
      "83:\tlearn: 1881.6585912\ttotal: 1.11s\tremaining: 5.48s\n",
      "84:\tlearn: 1876.0609129\ttotal: 1.12s\tremaining: 5.47s\n",
      "85:\tlearn: 1871.1721096\ttotal: 1.13s\tremaining: 5.45s\n",
      "86:\tlearn: 1867.3998514\ttotal: 1.14s\tremaining: 5.43s\n",
      "87:\tlearn: 1862.5021821\ttotal: 1.16s\tremaining: 5.42s\n",
      "88:\tlearn: 1858.3210545\ttotal: 1.17s\tremaining: 5.4s\n",
      "89:\tlearn: 1853.7759742\ttotal: 1.19s\tremaining: 5.4s\n",
      "90:\tlearn: 1850.0328208\ttotal: 1.2s\tremaining: 5.38s\n",
      "91:\tlearn: 1845.7858817\ttotal: 1.21s\tremaining: 5.36s\n",
      "92:\tlearn: 1841.7101936\ttotal: 1.22s\tremaining: 5.35s\n",
      "93:\tlearn: 1838.1302326\ttotal: 1.24s\tremaining: 5.34s\n",
      "94:\tlearn: 1834.2138048\ttotal: 1.25s\tremaining: 5.34s\n",
      "95:\tlearn: 1830.4192943\ttotal: 1.26s\tremaining: 5.32s\n",
      "96:\tlearn: 1826.5389197\ttotal: 1.28s\tremaining: 5.3s\n",
      "97:\tlearn: 1823.1061781\ttotal: 1.29s\tremaining: 5.28s\n",
      "98:\tlearn: 1819.6391904\ttotal: 1.3s\tremaining: 5.26s\n",
      "99:\tlearn: 1816.4498549\ttotal: 1.31s\tremaining: 5.25s\n",
      "100:\tlearn: 1813.5491609\ttotal: 1.32s\tremaining: 5.23s\n",
      "101:\tlearn: 1809.4541098\ttotal: 1.34s\tremaining: 5.22s\n",
      "102:\tlearn: 1806.8646560\ttotal: 1.35s\tremaining: 5.21s\n",
      "103:\tlearn: 1803.8504775\ttotal: 1.36s\tremaining: 5.2s\n",
      "104:\tlearn: 1801.1821932\ttotal: 1.38s\tremaining: 5.18s\n",
      "105:\tlearn: 1798.3231981\ttotal: 1.39s\tremaining: 5.16s\n",
      "106:\tlearn: 1795.1528828\ttotal: 1.4s\tremaining: 5.14s\n",
      "107:\tlearn: 1792.7696758\ttotal: 1.41s\tremaining: 5.13s\n",
      "108:\tlearn: 1789.6650138\ttotal: 1.43s\tremaining: 5.12s\n",
      "109:\tlearn: 1787.1138331\ttotal: 1.44s\tremaining: 5.11s\n",
      "110:\tlearn: 1784.6334860\ttotal: 1.46s\tremaining: 5.11s\n",
      "111:\tlearn: 1781.7377796\ttotal: 1.47s\tremaining: 5.1s\n",
      "112:\tlearn: 1778.4283241\ttotal: 1.49s\tremaining: 5.1s\n",
      "113:\tlearn: 1775.7337890\ttotal: 1.5s\tremaining: 5.08s\n",
      "114:\tlearn: 1772.7189323\ttotal: 1.51s\tremaining: 5.07s\n",
      "115:\tlearn: 1770.2237623\ttotal: 1.52s\tremaining: 5.05s\n",
      "116:\tlearn: 1768.1964368\ttotal: 1.54s\tremaining: 5.03s\n",
      "117:\tlearn: 1765.0777574\ttotal: 1.55s\tremaining: 5.01s\n",
      "118:\tlearn: 1762.5467589\ttotal: 1.56s\tremaining: 5s\n",
      "119:\tlearn: 1760.1070415\ttotal: 1.57s\tremaining: 4.98s\n",
      "120:\tlearn: 1758.2331071\ttotal: 1.58s\tremaining: 4.96s\n",
      "121:\tlearn: 1756.4437551\ttotal: 1.6s\tremaining: 4.95s\n",
      "122:\tlearn: 1754.3343103\ttotal: 1.61s\tremaining: 4.93s\n",
      "123:\tlearn: 1752.3465334\ttotal: 1.62s\tremaining: 4.92s\n",
      "124:\tlearn: 1750.6869663\ttotal: 1.64s\tremaining: 4.91s\n",
      "125:\tlearn: 1747.6330948\ttotal: 1.65s\tremaining: 4.89s\n",
      "126:\tlearn: 1745.2331672\ttotal: 1.66s\tremaining: 4.88s\n",
      "127:\tlearn: 1743.1736502\ttotal: 1.67s\tremaining: 4.86s\n",
      "128:\tlearn: 1741.0043035\ttotal: 1.68s\tremaining: 4.84s\n",
      "129:\tlearn: 1739.0357489\ttotal: 1.7s\tremaining: 4.82s\n",
      "130:\tlearn: 1736.8537017\ttotal: 1.71s\tremaining: 4.81s\n",
      "131:\tlearn: 1735.1602406\ttotal: 1.72s\tremaining: 4.79s\n",
      "132:\tlearn: 1733.3314625\ttotal: 1.73s\tremaining: 4.77s\n",
      "133:\tlearn: 1731.3375928\ttotal: 1.74s\tremaining: 4.75s\n",
      "134:\tlearn: 1729.6407617\ttotal: 1.75s\tremaining: 4.74s\n",
      "135:\tlearn: 1727.9859536\ttotal: 1.76s\tremaining: 4.72s\n",
      "136:\tlearn: 1726.4718412\ttotal: 1.77s\tremaining: 4.7s\n",
      "137:\tlearn: 1724.6034388\ttotal: 1.78s\tremaining: 4.68s\n",
      "138:\tlearn: 1722.9056871\ttotal: 1.8s\tremaining: 4.67s\n",
      "139:\tlearn: 1720.3388168\ttotal: 1.81s\tremaining: 4.65s\n",
      "140:\tlearn: 1718.7168675\ttotal: 1.82s\tremaining: 4.64s\n",
      "141:\tlearn: 1717.1529340\ttotal: 1.84s\tremaining: 4.63s\n",
      "142:\tlearn: 1714.9533837\ttotal: 1.85s\tremaining: 4.62s\n",
      "143:\tlearn: 1713.4246178\ttotal: 1.86s\tremaining: 4.6s\n",
      "144:\tlearn: 1712.2685665\ttotal: 1.87s\tremaining: 4.59s\n",
      "145:\tlearn: 1710.7605520\ttotal: 1.89s\tremaining: 4.57s\n",
      "146:\tlearn: 1709.5476089\ttotal: 1.9s\tremaining: 4.55s\n",
      "147:\tlearn: 1707.8011984\ttotal: 1.91s\tremaining: 4.54s\n",
      "148:\tlearn: 1706.2547197\ttotal: 1.92s\tremaining: 4.53s\n",
      "149:\tlearn: 1705.0419884\ttotal: 1.93s\tremaining: 4.51s\n",
      "150:\tlearn: 1702.4915689\ttotal: 1.95s\tremaining: 4.5s\n",
      "151:\tlearn: 1700.9299717\ttotal: 1.96s\tremaining: 4.49s\n",
      "152:\tlearn: 1699.5939595\ttotal: 1.97s\tremaining: 4.47s\n",
      "153:\tlearn: 1698.4257545\ttotal: 1.98s\tremaining: 4.45s\n",
      "154:\tlearn: 1696.8169393\ttotal: 1.99s\tremaining: 4.44s\n",
      "155:\tlearn: 1695.5077386\ttotal: 2s\tremaining: 4.42s\n"
     ]
    },
    {
     "name": "stdout",
     "output_type": "stream",
     "text": [
      "156:\tlearn: 1694.3307601\ttotal: 2.02s\tremaining: 4.41s\n",
      "157:\tlearn: 1691.9092615\ttotal: 2.03s\tremaining: 4.4s\n",
      "158:\tlearn: 1690.6674924\ttotal: 2.04s\tremaining: 4.38s\n",
      "159:\tlearn: 1688.9746313\ttotal: 2.06s\tremaining: 4.37s\n",
      "160:\tlearn: 1687.5430701\ttotal: 2.07s\tremaining: 4.36s\n",
      "161:\tlearn: 1686.3452022\ttotal: 2.08s\tremaining: 4.34s\n",
      "162:\tlearn: 1685.3255226\ttotal: 2.09s\tremaining: 4.33s\n",
      "163:\tlearn: 1684.2364542\ttotal: 2.1s\tremaining: 4.31s\n",
      "164:\tlearn: 1683.2613777\ttotal: 2.12s\tremaining: 4.29s\n",
      "165:\tlearn: 1682.0084135\ttotal: 2.13s\tremaining: 4.28s\n",
      "166:\tlearn: 1681.1952366\ttotal: 2.14s\tremaining: 4.26s\n",
      "167:\tlearn: 1680.3635360\ttotal: 2.15s\tremaining: 4.25s\n",
      "168:\tlearn: 1678.1891798\ttotal: 2.16s\tremaining: 4.24s\n",
      "169:\tlearn: 1676.8215813\ttotal: 2.17s\tremaining: 4.22s\n",
      "170:\tlearn: 1675.9529410\ttotal: 2.19s\tremaining: 4.21s\n",
      "171:\tlearn: 1674.7575808\ttotal: 2.2s\tremaining: 4.19s\n",
      "172:\tlearn: 1673.5434683\ttotal: 2.21s\tremaining: 4.17s\n",
      "173:\tlearn: 1672.5820739\ttotal: 2.22s\tremaining: 4.17s\n",
      "174:\tlearn: 1671.6713717\ttotal: 2.24s\tremaining: 4.15s\n",
      "175:\tlearn: 1670.2870599\ttotal: 2.25s\tremaining: 4.14s\n",
      "176:\tlearn: 1669.3479120\ttotal: 2.26s\tremaining: 4.13s\n",
      "177:\tlearn: 1667.9869634\ttotal: 2.27s\tremaining: 4.11s\n",
      "178:\tlearn: 1666.8620772\ttotal: 2.29s\tremaining: 4.1s\n",
      "179:\tlearn: 1665.9871567\ttotal: 2.3s\tremaining: 4.09s\n",
      "180:\tlearn: 1664.5902417\ttotal: 2.31s\tremaining: 4.07s\n",
      "181:\tlearn: 1662.8671236\ttotal: 2.32s\tremaining: 4.06s\n",
      "182:\tlearn: 1662.0689777\ttotal: 2.33s\tremaining: 4.04s\n",
      "183:\tlearn: 1660.4449004\ttotal: 2.35s\tremaining: 4.03s\n",
      "184:\tlearn: 1658.9517200\ttotal: 2.36s\tremaining: 4.01s\n",
      "185:\tlearn: 1658.1884598\ttotal: 2.37s\tremaining: 4s\n",
      "186:\tlearn: 1656.7866733\ttotal: 2.38s\tremaining: 3.99s\n",
      "187:\tlearn: 1655.6564917\ttotal: 2.39s\tremaining: 3.97s\n",
      "188:\tlearn: 1654.8066263\ttotal: 2.4s\tremaining: 3.96s\n",
      "189:\tlearn: 1653.2241969\ttotal: 2.42s\tremaining: 3.94s\n",
      "190:\tlearn: 1652.5915364\ttotal: 2.43s\tremaining: 3.93s\n",
      "191:\tlearn: 1651.6327216\ttotal: 2.44s\tremaining: 3.92s\n",
      "192:\tlearn: 1651.0003900\ttotal: 2.46s\tremaining: 3.91s\n",
      "193:\tlearn: 1649.9364761\ttotal: 2.47s\tremaining: 3.89s\n",
      "194:\tlearn: 1649.2042215\ttotal: 2.48s\tremaining: 3.88s\n",
      "195:\tlearn: 1647.9458702\ttotal: 2.49s\tremaining: 3.86s\n",
      "196:\tlearn: 1647.3452834\ttotal: 2.5s\tremaining: 3.85s\n",
      "197:\tlearn: 1646.3021972\ttotal: 2.51s\tremaining: 3.83s\n",
      "198:\tlearn: 1644.8544633\ttotal: 2.53s\tremaining: 3.82s\n",
      "199:\tlearn: 1643.9639954\ttotal: 2.54s\tremaining: 3.81s\n",
      "200:\tlearn: 1643.1208665\ttotal: 2.55s\tremaining: 3.79s\n",
      "201:\tlearn: 1642.2233523\ttotal: 2.56s\tremaining: 3.78s\n",
      "202:\tlearn: 1641.3954797\ttotal: 2.57s\tremaining: 3.77s\n",
      "203:\tlearn: 1640.7396157\ttotal: 2.58s\tremaining: 3.75s\n",
      "204:\tlearn: 1639.9334873\ttotal: 2.6s\tremaining: 3.74s\n",
      "205:\tlearn: 1638.8131792\ttotal: 2.61s\tremaining: 3.72s\n",
      "206:\tlearn: 1637.9969080\ttotal: 2.62s\tremaining: 3.71s\n",
      "207:\tlearn: 1637.4076917\ttotal: 2.63s\tremaining: 3.7s\n",
      "208:\tlearn: 1636.8413943\ttotal: 2.65s\tremaining: 3.68s\n",
      "209:\tlearn: 1635.4457717\ttotal: 2.66s\tremaining: 3.67s\n",
      "210:\tlearn: 1634.3617127\ttotal: 2.67s\tremaining: 3.66s\n",
      "211:\tlearn: 1633.7499258\ttotal: 2.68s\tremaining: 3.64s\n",
      "212:\tlearn: 1633.3089522\ttotal: 2.69s\tremaining: 3.63s\n",
      "213:\tlearn: 1632.4916236\ttotal: 2.7s\tremaining: 3.61s\n",
      "214:\tlearn: 1630.9128703\ttotal: 2.72s\tremaining: 3.6s\n",
      "215:\tlearn: 1629.4994385\ttotal: 2.73s\tremaining: 3.59s\n",
      "216:\tlearn: 1628.9359059\ttotal: 2.74s\tremaining: 3.57s\n",
      "217:\tlearn: 1627.9843254\ttotal: 2.75s\tremaining: 3.56s\n",
      "218:\tlearn: 1627.5274481\ttotal: 2.76s\tremaining: 3.55s\n",
      "219:\tlearn: 1626.6377499\ttotal: 2.77s\tremaining: 3.53s\n",
      "220:\tlearn: 1625.6412745\ttotal: 2.79s\tremaining: 3.52s\n",
      "221:\tlearn: 1625.0259062\ttotal: 2.8s\tremaining: 3.5s\n",
      "222:\tlearn: 1623.8401521\ttotal: 2.81s\tremaining: 3.49s\n",
      "223:\tlearn: 1622.3974793\ttotal: 2.82s\tremaining: 3.48s\n",
      "224:\tlearn: 1621.5717667\ttotal: 2.84s\tremaining: 3.47s\n",
      "225:\tlearn: 1620.6588069\ttotal: 2.85s\tremaining: 3.46s\n",
      "226:\tlearn: 1620.0529291\ttotal: 2.86s\tremaining: 3.44s\n",
      "227:\tlearn: 1619.2878796\ttotal: 2.87s\tremaining: 3.43s\n",
      "228:\tlearn: 1618.0396224\ttotal: 2.89s\tremaining: 3.42s\n",
      "229:\tlearn: 1617.0462665\ttotal: 2.9s\tremaining: 3.4s\n",
      "230:\tlearn: 1615.8931535\ttotal: 2.91s\tremaining: 3.39s\n",
      "231:\tlearn: 1615.1220394\ttotal: 2.92s\tremaining: 3.38s\n",
      "232:\tlearn: 1614.3467981\ttotal: 2.94s\tremaining: 3.37s\n",
      "233:\tlearn: 1613.4959634\ttotal: 2.95s\tremaining: 3.35s\n",
      "234:\tlearn: 1612.6405973\ttotal: 2.96s\tremaining: 3.34s\n",
      "235:\tlearn: 1611.6340027\ttotal: 2.97s\tremaining: 3.33s\n",
      "236:\tlearn: 1610.8921839\ttotal: 2.99s\tremaining: 3.31s\n",
      "237:\tlearn: 1610.1160173\ttotal: 3s\tremaining: 3.3s\n",
      "238:\tlearn: 1609.6814082\ttotal: 3.01s\tremaining: 3.29s\n",
      "239:\tlearn: 1609.2540628\ttotal: 3.02s\tremaining: 3.27s\n",
      "240:\tlearn: 1608.6617657\ttotal: 3.03s\tremaining: 3.26s\n",
      "241:\tlearn: 1608.1778086\ttotal: 3.05s\tremaining: 3.25s\n",
      "242:\tlearn: 1607.4862265\ttotal: 3.06s\tremaining: 3.23s\n",
      "243:\tlearn: 1606.3910039\ttotal: 3.07s\tremaining: 3.22s\n",
      "244:\tlearn: 1605.6388913\ttotal: 3.08s\tremaining: 3.21s\n",
      "245:\tlearn: 1605.1793925\ttotal: 3.1s\tremaining: 3.2s\n",
      "246:\tlearn: 1604.4910934\ttotal: 3.11s\tremaining: 3.18s\n",
      "247:\tlearn: 1603.6806319\ttotal: 3.12s\tremaining: 3.17s\n",
      "248:\tlearn: 1603.2499761\ttotal: 3.13s\tremaining: 3.16s\n",
      "249:\tlearn: 1602.5815399\ttotal: 3.15s\tremaining: 3.15s\n",
      "250:\tlearn: 1601.4071878\ttotal: 3.16s\tremaining: 3.13s\n",
      "251:\tlearn: 1600.9177304\ttotal: 3.17s\tremaining: 3.12s\n",
      "252:\tlearn: 1600.3615592\ttotal: 3.18s\tremaining: 3.11s\n",
      "253:\tlearn: 1599.6706171\ttotal: 3.19s\tremaining: 3.09s\n",
      "254:\tlearn: 1599.0011875\ttotal: 3.21s\tremaining: 3.08s\n",
      "255:\tlearn: 1598.4310693\ttotal: 3.22s\tremaining: 3.07s\n",
      "256:\tlearn: 1597.5713173\ttotal: 3.23s\tremaining: 3.05s\n",
      "257:\tlearn: 1596.5928903\ttotal: 3.25s\tremaining: 3.04s\n",
      "258:\tlearn: 1595.9736011\ttotal: 3.28s\tremaining: 3.05s\n",
      "259:\tlearn: 1595.5481552\ttotal: 3.29s\tremaining: 3.04s\n",
      "260:\tlearn: 1595.0411566\ttotal: 3.31s\tremaining: 3.03s\n",
      "261:\tlearn: 1594.5701666\ttotal: 3.32s\tremaining: 3.02s\n",
      "262:\tlearn: 1594.1802838\ttotal: 3.33s\tremaining: 3s\n",
      "263:\tlearn: 1593.6727973\ttotal: 3.34s\tremaining: 2.99s\n",
      "264:\tlearn: 1593.1687011\ttotal: 3.35s\tremaining: 2.98s\n",
      "265:\tlearn: 1592.5004295\ttotal: 3.37s\tremaining: 2.96s\n",
      "266:\tlearn: 1591.9333277\ttotal: 3.38s\tremaining: 2.95s\n",
      "267:\tlearn: 1591.3983444\ttotal: 3.39s\tremaining: 2.93s\n",
      "268:\tlearn: 1590.9488606\ttotal: 3.4s\tremaining: 2.92s\n",
      "269:\tlearn: 1589.9416938\ttotal: 3.42s\tremaining: 2.91s\n",
      "270:\tlearn: 1589.3964941\ttotal: 3.43s\tremaining: 2.9s\n",
      "271:\tlearn: 1588.8523879\ttotal: 3.44s\tremaining: 2.88s\n",
      "272:\tlearn: 1588.3637030\ttotal: 3.46s\tremaining: 2.87s\n",
      "273:\tlearn: 1587.8543442\ttotal: 3.47s\tremaining: 2.86s\n",
      "274:\tlearn: 1587.4204413\ttotal: 3.48s\tremaining: 2.85s\n",
      "275:\tlearn: 1586.9126663\ttotal: 3.49s\tremaining: 2.83s\n",
      "276:\tlearn: 1585.9410516\ttotal: 3.5s\tremaining: 2.82s\n",
      "277:\tlearn: 1585.2121963\ttotal: 3.52s\tremaining: 2.81s\n",
      "278:\tlearn: 1584.8356985\ttotal: 3.53s\tremaining: 2.79s\n",
      "279:\tlearn: 1584.5001003\ttotal: 3.54s\tremaining: 2.78s\n",
      "280:\tlearn: 1583.9497178\ttotal: 3.55s\tremaining: 2.77s\n",
      "281:\tlearn: 1583.4191837\ttotal: 3.57s\tremaining: 2.76s\n",
      "282:\tlearn: 1582.5182040\ttotal: 3.58s\tremaining: 2.75s\n",
      "283:\tlearn: 1582.0394808\ttotal: 3.59s\tremaining: 2.73s\n",
      "284:\tlearn: 1581.4559788\ttotal: 3.6s\tremaining: 2.72s\n",
      "285:\tlearn: 1580.8741833\ttotal: 3.62s\tremaining: 2.71s\n",
      "286:\tlearn: 1580.0723444\ttotal: 3.63s\tremaining: 2.69s\n",
      "287:\tlearn: 1579.4947469\ttotal: 3.64s\tremaining: 2.68s\n",
      "288:\tlearn: 1578.9306016\ttotal: 3.66s\tremaining: 2.67s\n",
      "289:\tlearn: 1578.4755056\ttotal: 3.67s\tremaining: 2.66s\n",
      "290:\tlearn: 1577.7764386\ttotal: 3.68s\tremaining: 2.64s\n",
      "291:\tlearn: 1577.4740791\ttotal: 3.69s\tremaining: 2.63s\n",
      "292:\tlearn: 1576.9976476\ttotal: 3.71s\tremaining: 2.62s\n",
      "293:\tlearn: 1576.2753523\ttotal: 3.72s\tremaining: 2.6s\n",
      "294:\tlearn: 1575.8548371\ttotal: 3.73s\tremaining: 2.59s\n",
      "295:\tlearn: 1575.4009923\ttotal: 3.74s\tremaining: 2.58s\n",
      "296:\tlearn: 1574.9145716\ttotal: 3.75s\tremaining: 2.56s\n",
      "297:\tlearn: 1574.5275527\ttotal: 3.76s\tremaining: 2.55s\n",
      "298:\tlearn: 1573.7335209\ttotal: 3.77s\tremaining: 2.54s\n",
      "299:\tlearn: 1573.2588180\ttotal: 3.79s\tremaining: 2.52s\n",
      "300:\tlearn: 1572.8972588\ttotal: 3.8s\tremaining: 2.51s\n",
      "301:\tlearn: 1572.4183790\ttotal: 3.81s\tremaining: 2.5s\n",
      "302:\tlearn: 1572.0165519\ttotal: 3.82s\tremaining: 2.48s\n",
      "303:\tlearn: 1571.5306538\ttotal: 3.83s\tremaining: 2.47s\n",
      "304:\tlearn: 1571.1533603\ttotal: 3.85s\tremaining: 2.46s\n",
      "305:\tlearn: 1570.8578488\ttotal: 3.86s\tremaining: 2.45s\n",
      "306:\tlearn: 1570.4234606\ttotal: 3.87s\tremaining: 2.44s\n",
      "307:\tlearn: 1569.9186676\ttotal: 3.89s\tremaining: 2.42s\n",
      "308:\tlearn: 1569.2328532\ttotal: 3.9s\tremaining: 2.41s\n",
      "309:\tlearn: 1568.7600177\ttotal: 3.91s\tremaining: 2.4s\n",
      "310:\tlearn: 1568.0536573\ttotal: 3.92s\tremaining: 2.38s\n",
      "311:\tlearn: 1567.6891548\ttotal: 3.94s\tremaining: 2.37s\n",
      "312:\tlearn: 1567.1763542\ttotal: 3.95s\tremaining: 2.36s\n",
      "313:\tlearn: 1566.8293471\ttotal: 3.96s\tremaining: 2.35s\n",
      "314:\tlearn: 1566.4074153\ttotal: 3.97s\tremaining: 2.33s\n",
      "315:\tlearn: 1566.0896048\ttotal: 3.98s\tremaining: 2.32s\n",
      "316:\tlearn: 1565.6977823\ttotal: 4s\tremaining: 2.31s\n",
      "317:\tlearn: 1565.1554482\ttotal: 4.01s\tremaining: 2.29s\n",
      "318:\tlearn: 1564.7661776\ttotal: 4.02s\tremaining: 2.28s\n",
      "319:\tlearn: 1564.3604046\ttotal: 4.03s\tremaining: 2.27s\n",
      "320:\tlearn: 1563.9474634\ttotal: 4.04s\tremaining: 2.25s\n"
     ]
    },
    {
     "name": "stdout",
     "output_type": "stream",
     "text": [
      "321:\tlearn: 1563.5660302\ttotal: 4.06s\tremaining: 2.24s\n",
      "322:\tlearn: 1562.8437031\ttotal: 4.07s\tremaining: 2.23s\n",
      "323:\tlearn: 1562.4594361\ttotal: 4.08s\tremaining: 2.22s\n",
      "324:\tlearn: 1562.1223385\ttotal: 4.1s\tremaining: 2.21s\n",
      "325:\tlearn: 1561.4927903\ttotal: 4.11s\tremaining: 2.19s\n",
      "326:\tlearn: 1561.0646895\ttotal: 4.12s\tremaining: 2.18s\n",
      "327:\tlearn: 1560.7268363\ttotal: 4.13s\tremaining: 2.17s\n",
      "328:\tlearn: 1560.4430941\ttotal: 4.14s\tremaining: 2.15s\n",
      "329:\tlearn: 1559.6773517\ttotal: 4.16s\tremaining: 2.14s\n",
      "330:\tlearn: 1559.2630734\ttotal: 4.17s\tremaining: 2.13s\n",
      "331:\tlearn: 1558.8901351\ttotal: 4.18s\tremaining: 2.12s\n",
      "332:\tlearn: 1558.6509396\ttotal: 4.19s\tremaining: 2.1s\n",
      "333:\tlearn: 1558.1723331\ttotal: 4.21s\tremaining: 2.09s\n",
      "334:\tlearn: 1557.7980590\ttotal: 4.22s\tremaining: 2.08s\n",
      "335:\tlearn: 1557.5445047\ttotal: 4.23s\tremaining: 2.06s\n",
      "336:\tlearn: 1556.9269446\ttotal: 4.24s\tremaining: 2.05s\n",
      "337:\tlearn: 1556.3079271\ttotal: 4.26s\tremaining: 2.04s\n",
      "338:\tlearn: 1556.0810402\ttotal: 4.27s\tremaining: 2.03s\n",
      "339:\tlearn: 1555.8475494\ttotal: 4.29s\tremaining: 2.02s\n",
      "340:\tlearn: 1555.3376715\ttotal: 4.3s\tremaining: 2s\n",
      "341:\tlearn: 1554.8878117\ttotal: 4.31s\tremaining: 1.99s\n",
      "342:\tlearn: 1554.6203520\ttotal: 4.32s\tremaining: 1.98s\n",
      "343:\tlearn: 1554.2553482\ttotal: 4.33s\tremaining: 1.97s\n",
      "344:\tlearn: 1553.8681580\ttotal: 4.34s\tremaining: 1.95s\n",
      "345:\tlearn: 1553.5387814\ttotal: 4.36s\tremaining: 1.94s\n",
      "346:\tlearn: 1553.1809043\ttotal: 4.37s\tremaining: 1.93s\n",
      "347:\tlearn: 1552.7686732\ttotal: 4.38s\tremaining: 1.91s\n",
      "348:\tlearn: 1552.5189471\ttotal: 4.39s\tremaining: 1.9s\n",
      "349:\tlearn: 1552.1858299\ttotal: 4.41s\tremaining: 1.89s\n",
      "350:\tlearn: 1551.5490482\ttotal: 4.42s\tremaining: 1.88s\n",
      "351:\tlearn: 1550.9429451\ttotal: 4.43s\tremaining: 1.86s\n",
      "352:\tlearn: 1550.3954454\ttotal: 4.44s\tremaining: 1.85s\n",
      "353:\tlearn: 1550.0869943\ttotal: 4.45s\tremaining: 1.84s\n",
      "354:\tlearn: 1549.8679062\ttotal: 4.47s\tremaining: 1.82s\n",
      "355:\tlearn: 1549.5850070\ttotal: 4.48s\tremaining: 1.81s\n",
      "356:\tlearn: 1549.2175177\ttotal: 4.49s\tremaining: 1.8s\n",
      "357:\tlearn: 1548.9862649\ttotal: 4.5s\tremaining: 1.79s\n",
      "358:\tlearn: 1548.6051645\ttotal: 4.52s\tremaining: 1.77s\n",
      "359:\tlearn: 1548.3929252\ttotal: 4.53s\tremaining: 1.76s\n",
      "360:\tlearn: 1548.0766165\ttotal: 4.54s\tremaining: 1.75s\n",
      "361:\tlearn: 1547.6932035\ttotal: 4.55s\tremaining: 1.73s\n",
      "362:\tlearn: 1547.3743660\ttotal: 4.56s\tremaining: 1.72s\n",
      "363:\tlearn: 1547.0438176\ttotal: 4.58s\tremaining: 1.71s\n",
      "364:\tlearn: 1546.6384450\ttotal: 4.59s\tremaining: 1.7s\n",
      "365:\tlearn: 1546.1712492\ttotal: 4.6s\tremaining: 1.68s\n",
      "366:\tlearn: 1545.5920343\ttotal: 4.61s\tremaining: 1.67s\n",
      "367:\tlearn: 1545.1149521\ttotal: 4.62s\tremaining: 1.66s\n",
      "368:\tlearn: 1544.5045059\ttotal: 4.64s\tremaining: 1.65s\n",
      "369:\tlearn: 1544.1048845\ttotal: 4.65s\tremaining: 1.63s\n",
      "370:\tlearn: 1543.5846445\ttotal: 4.66s\tremaining: 1.62s\n",
      "371:\tlearn: 1543.1328104\ttotal: 4.67s\tremaining: 1.61s\n",
      "372:\tlearn: 1542.8447534\ttotal: 4.69s\tremaining: 1.59s\n",
      "373:\tlearn: 1542.5724218\ttotal: 4.7s\tremaining: 1.58s\n",
      "374:\tlearn: 1542.3762414\ttotal: 4.71s\tremaining: 1.57s\n",
      "375:\tlearn: 1541.9491608\ttotal: 4.72s\tremaining: 1.56s\n",
      "376:\tlearn: 1541.6125458\ttotal: 4.74s\tremaining: 1.54s\n",
      "377:\tlearn: 1541.2648490\ttotal: 4.75s\tremaining: 1.53s\n",
      "378:\tlearn: 1540.8646138\ttotal: 4.76s\tremaining: 1.52s\n",
      "379:\tlearn: 1540.5775839\ttotal: 4.77s\tremaining: 1.51s\n",
      "380:\tlearn: 1540.2981451\ttotal: 4.78s\tremaining: 1.49s\n",
      "381:\tlearn: 1539.9172880\ttotal: 4.8s\tremaining: 1.48s\n",
      "382:\tlearn: 1539.6766300\ttotal: 4.81s\tremaining: 1.47s\n",
      "383:\tlearn: 1539.3434982\ttotal: 4.82s\tremaining: 1.46s\n",
      "384:\tlearn: 1538.9870503\ttotal: 4.83s\tremaining: 1.44s\n",
      "385:\tlearn: 1538.6828075\ttotal: 4.84s\tremaining: 1.43s\n",
      "386:\tlearn: 1538.4639245\ttotal: 4.86s\tremaining: 1.42s\n",
      "387:\tlearn: 1538.1407387\ttotal: 4.87s\tremaining: 1.41s\n",
      "388:\tlearn: 1537.7619674\ttotal: 4.88s\tremaining: 1.39s\n",
      "389:\tlearn: 1537.5257292\ttotal: 4.89s\tremaining: 1.38s\n",
      "390:\tlearn: 1537.2444788\ttotal: 4.91s\tremaining: 1.37s\n",
      "391:\tlearn: 1536.9146353\ttotal: 4.92s\tremaining: 1.35s\n",
      "392:\tlearn: 1536.6338232\ttotal: 4.93s\tremaining: 1.34s\n",
      "393:\tlearn: 1536.3688189\ttotal: 4.94s\tremaining: 1.33s\n",
      "394:\tlearn: 1536.2002616\ttotal: 4.95s\tremaining: 1.32s\n",
      "395:\tlearn: 1536.0423347\ttotal: 4.96s\tremaining: 1.3s\n",
      "396:\tlearn: 1535.8327837\ttotal: 4.97s\tremaining: 1.29s\n",
      "397:\tlearn: 1535.4687229\ttotal: 4.99s\tremaining: 1.28s\n",
      "398:\tlearn: 1535.1747725\ttotal: 5s\tremaining: 1.26s\n",
      "399:\tlearn: 1534.7738916\ttotal: 5.01s\tremaining: 1.25s\n",
      "400:\tlearn: 1534.2497561\ttotal: 5.02s\tremaining: 1.24s\n",
      "401:\tlearn: 1533.9766964\ttotal: 5.04s\tremaining: 1.23s\n",
      "402:\tlearn: 1533.5977564\ttotal: 5.05s\tremaining: 1.21s\n",
      "403:\tlearn: 1533.3221447\ttotal: 5.06s\tremaining: 1.2s\n",
      "404:\tlearn: 1533.0912764\ttotal: 5.07s\tremaining: 1.19s\n",
      "405:\tlearn: 1532.7572337\ttotal: 5.08s\tremaining: 1.18s\n",
      "406:\tlearn: 1532.4607263\ttotal: 5.1s\tremaining: 1.16s\n",
      "407:\tlearn: 1532.2087012\ttotal: 5.11s\tremaining: 1.15s\n",
      "408:\tlearn: 1531.9008618\ttotal: 5.12s\tremaining: 1.14s\n",
      "409:\tlearn: 1531.5570275\ttotal: 5.13s\tremaining: 1.13s\n",
      "410:\tlearn: 1531.2882835\ttotal: 5.15s\tremaining: 1.11s\n",
      "411:\tlearn: 1530.9364807\ttotal: 5.16s\tremaining: 1.1s\n",
      "412:\tlearn: 1530.6979977\ttotal: 5.17s\tremaining: 1.09s\n",
      "413:\tlearn: 1530.4438044\ttotal: 5.18s\tremaining: 1.08s\n",
      "414:\tlearn: 1530.1621498\ttotal: 5.19s\tremaining: 1.06s\n",
      "415:\tlearn: 1529.9415702\ttotal: 5.21s\tremaining: 1.05s\n",
      "416:\tlearn: 1529.6089173\ttotal: 5.22s\tremaining: 1.04s\n",
      "417:\tlearn: 1529.4198102\ttotal: 5.23s\tremaining: 1.02s\n",
      "418:\tlearn: 1529.1336299\ttotal: 5.24s\tremaining: 1.01s\n",
      "419:\tlearn: 1528.9596616\ttotal: 5.25s\tremaining: 1s\n",
      "420:\tlearn: 1528.7450550\ttotal: 5.26s\tremaining: 988ms\n",
      "421:\tlearn: 1528.5700335\ttotal: 5.27s\tremaining: 975ms\n",
      "422:\tlearn: 1528.3553920\ttotal: 5.29s\tremaining: 962ms\n",
      "423:\tlearn: 1528.1795947\ttotal: 5.3s\tremaining: 949ms\n",
      "424:\tlearn: 1527.9101876\ttotal: 5.31s\tremaining: 937ms\n",
      "425:\tlearn: 1527.6056479\ttotal: 5.32s\tremaining: 925ms\n",
      "426:\tlearn: 1527.2566954\ttotal: 5.33s\tremaining: 912ms\n",
      "427:\tlearn: 1526.9668975\ttotal: 5.35s\tremaining: 900ms\n",
      "428:\tlearn: 1526.6956298\ttotal: 5.36s\tremaining: 887ms\n",
      "429:\tlearn: 1526.5175003\ttotal: 5.37s\tremaining: 874ms\n",
      "430:\tlearn: 1526.3316679\ttotal: 5.38s\tremaining: 862ms\n",
      "431:\tlearn: 1525.8525700\ttotal: 5.39s\tremaining: 849ms\n",
      "432:\tlearn: 1525.4797103\ttotal: 5.41s\tremaining: 837ms\n",
      "433:\tlearn: 1525.2456859\ttotal: 5.42s\tremaining: 824ms\n",
      "434:\tlearn: 1524.9311790\ttotal: 5.43s\tremaining: 812ms\n",
      "435:\tlearn: 1524.7270281\ttotal: 5.45s\tremaining: 799ms\n",
      "436:\tlearn: 1524.5081523\ttotal: 5.46s\tremaining: 787ms\n",
      "437:\tlearn: 1524.2518395\ttotal: 5.47s\tremaining: 774ms\n",
      "438:\tlearn: 1524.0055541\ttotal: 5.48s\tremaining: 761ms\n",
      "439:\tlearn: 1523.7900550\ttotal: 5.49s\tremaining: 749ms\n",
      "440:\tlearn: 1523.5600914\ttotal: 5.5s\tremaining: 736ms\n",
      "441:\tlearn: 1523.3259292\ttotal: 5.51s\tremaining: 724ms\n",
      "442:\tlearn: 1523.0669841\ttotal: 5.53s\tremaining: 711ms\n",
      "443:\tlearn: 1522.8669093\ttotal: 5.54s\tremaining: 699ms\n",
      "444:\tlearn: 1522.6614573\ttotal: 5.55s\tremaining: 686ms\n",
      "445:\tlearn: 1522.4064801\ttotal: 5.56s\tremaining: 674ms\n",
      "446:\tlearn: 1522.2569161\ttotal: 5.58s\tremaining: 661ms\n",
      "447:\tlearn: 1521.8749257\ttotal: 5.59s\tremaining: 649ms\n",
      "448:\tlearn: 1521.6289008\ttotal: 5.6s\tremaining: 636ms\n",
      "449:\tlearn: 1521.2018475\ttotal: 5.61s\tremaining: 623ms\n",
      "450:\tlearn: 1520.8370687\ttotal: 5.62s\tremaining: 611ms\n",
      "451:\tlearn: 1520.5259386\ttotal: 5.63s\tremaining: 598ms\n",
      "452:\tlearn: 1520.1772375\ttotal: 5.65s\tremaining: 586ms\n",
      "453:\tlearn: 1520.0596125\ttotal: 5.66s\tremaining: 573ms\n",
      "454:\tlearn: 1519.8571172\ttotal: 5.67s\tremaining: 561ms\n",
      "455:\tlearn: 1519.5155702\ttotal: 5.68s\tremaining: 548ms\n",
      "456:\tlearn: 1519.0975460\ttotal: 5.69s\tremaining: 536ms\n",
      "457:\tlearn: 1518.7916374\ttotal: 5.71s\tremaining: 523ms\n",
      "458:\tlearn: 1518.5242285\ttotal: 5.72s\tremaining: 511ms\n",
      "459:\tlearn: 1518.1397830\ttotal: 5.74s\tremaining: 499ms\n",
      "460:\tlearn: 1518.0027313\ttotal: 5.75s\tremaining: 486ms\n",
      "461:\tlearn: 1517.7349795\ttotal: 5.76s\tremaining: 474ms\n",
      "462:\tlearn: 1517.5772318\ttotal: 5.77s\tremaining: 461ms\n",
      "463:\tlearn: 1517.3327912\ttotal: 5.78s\tremaining: 449ms\n",
      "464:\tlearn: 1517.2064965\ttotal: 5.79s\tremaining: 436ms\n",
      "465:\tlearn: 1516.7588524\ttotal: 5.81s\tremaining: 424ms\n",
      "466:\tlearn: 1516.3374677\ttotal: 5.82s\tremaining: 411ms\n",
      "467:\tlearn: 1516.1854796\ttotal: 5.83s\tremaining: 399ms\n",
      "468:\tlearn: 1516.0311139\ttotal: 5.84s\tremaining: 386ms\n",
      "469:\tlearn: 1515.8037724\ttotal: 5.86s\tremaining: 374ms\n",
      "470:\tlearn: 1515.4951027\ttotal: 5.87s\tremaining: 361ms\n",
      "471:\tlearn: 1515.2749756\ttotal: 5.88s\tremaining: 349ms\n",
      "472:\tlearn: 1515.1505215\ttotal: 5.89s\tremaining: 336ms\n",
      "473:\tlearn: 1514.7799954\ttotal: 5.9s\tremaining: 324ms\n"
     ]
    },
    {
     "name": "stdout",
     "output_type": "stream",
     "text": [
      "474:\tlearn: 1514.5650191\ttotal: 5.92s\tremaining: 312ms\n",
      "475:\tlearn: 1514.2693968\ttotal: 5.93s\tremaining: 299ms\n",
      "476:\tlearn: 1514.1622102\ttotal: 5.94s\tremaining: 287ms\n",
      "477:\tlearn: 1513.9073965\ttotal: 5.96s\tremaining: 274ms\n",
      "478:\tlearn: 1513.7777685\ttotal: 5.97s\tremaining: 262ms\n",
      "479:\tlearn: 1513.5393456\ttotal: 5.98s\tremaining: 249ms\n",
      "480:\tlearn: 1513.3403697\ttotal: 5.99s\tremaining: 237ms\n",
      "481:\tlearn: 1513.1904577\ttotal: 6s\tremaining: 224ms\n",
      "482:\tlearn: 1512.9807087\ttotal: 6.02s\tremaining: 212ms\n",
      "483:\tlearn: 1512.6788647\ttotal: 6.03s\tremaining: 199ms\n",
      "484:\tlearn: 1512.4239421\ttotal: 6.04s\tremaining: 187ms\n",
      "485:\tlearn: 1512.2883452\ttotal: 6.05s\tremaining: 174ms\n",
      "486:\tlearn: 1512.0083494\ttotal: 6.06s\tremaining: 162ms\n",
      "487:\tlearn: 1511.8180192\ttotal: 6.08s\tremaining: 149ms\n",
      "488:\tlearn: 1511.6368041\ttotal: 6.09s\tremaining: 137ms\n",
      "489:\tlearn: 1511.2881034\ttotal: 6.1s\tremaining: 124ms\n",
      "490:\tlearn: 1511.0249274\ttotal: 6.11s\tremaining: 112ms\n",
      "491:\tlearn: 1510.8612342\ttotal: 6.13s\tremaining: 99.6ms\n",
      "492:\tlearn: 1510.6387939\ttotal: 6.14s\tremaining: 87.2ms\n",
      "493:\tlearn: 1510.4464483\ttotal: 6.15s\tremaining: 74.7ms\n",
      "494:\tlearn: 1510.2908164\ttotal: 6.16s\tremaining: 62.3ms\n",
      "495:\tlearn: 1509.9661641\ttotal: 6.17s\tremaining: 49.8ms\n",
      "496:\tlearn: 1509.6898980\ttotal: 6.19s\tremaining: 37.4ms\n",
      "497:\tlearn: 1509.4473641\ttotal: 6.2s\tremaining: 24.9ms\n",
      "498:\tlearn: 1509.1475174\ttotal: 6.21s\tremaining: 12.4ms\n",
      "499:\tlearn: 1508.9546778\ttotal: 6.22s\tremaining: 0us\n"
     ]
    }
   ],
   "source": [
    "fit_predict(cbreg3, name='cbreg3')\n",
    "result_tbl = pd.concat([result_tbl, a], axis = 0) # добавление показателей в общую таблицу"
   ]
  },
  {
   "cell_type": "code",
   "execution_count": 68,
   "metadata": {},
   "outputs": [
    {
     "data": {
      "text/html": [
       "<div>\n",
       "<style scoped>\n",
       "    .dataframe tbody tr th:only-of-type {\n",
       "        vertical-align: middle;\n",
       "    }\n",
       "\n",
       "    .dataframe tbody tr th {\n",
       "        vertical-align: top;\n",
       "    }\n",
       "\n",
       "    .dataframe thead th {\n",
       "        text-align: right;\n",
       "    }\n",
       "</style>\n",
       "<table border=\"1\" class=\"dataframe\">\n",
       "  <thead>\n",
       "    <tr style=\"text-align: right;\">\n",
       "      <th></th>\n",
       "      <th>model_name</th>\n",
       "      <th>model</th>\n",
       "      <th>fit_time_sec</th>\n",
       "      <th>RMSE</th>\n",
       "      <th>importance_features</th>\n",
       "    </tr>\n",
       "  </thead>\n",
       "  <tbody>\n",
       "    <tr>\n",
       "      <th>0</th>\n",
       "      <td>lgbmreg</td>\n",
       "      <td>LGBMRegressor(random_state=123)</td>\n",
       "      <td>0.5</td>\n",
       "      <td>1418</td>\n",
       "      <td>all</td>\n",
       "    </tr>\n",
       "    <tr>\n",
       "      <th>0</th>\n",
       "      <td>lgbmreg2</td>\n",
       "      <td>LGBMRegressor(max_bin=255, num_iterations=1000...</td>\n",
       "      <td>3.3</td>\n",
       "      <td>1216</td>\n",
       "      <td>all</td>\n",
       "    </tr>\n",
       "    <tr>\n",
       "      <th>0</th>\n",
       "      <td>lgbmreg3</td>\n",
       "      <td>LGBMRegressor(max_bin=255, num_iterations=500,...</td>\n",
       "      <td>1.6</td>\n",
       "      <td>1279</td>\n",
       "      <td>all</td>\n",
       "    </tr>\n",
       "    <tr>\n",
       "      <th>0</th>\n",
       "      <td>lgbmreg2</td>\n",
       "      <td>LGBMRegressor(max_bin=255, num_iterations=1000...</td>\n",
       "      <td>3.0</td>\n",
       "      <td>1360</td>\n",
       "      <td>5</td>\n",
       "    </tr>\n",
       "    <tr>\n",
       "      <th>0</th>\n",
       "      <td>cbreg_cat</td>\n",
       "      <td>&lt;catboost.core.CatBoostRegressor object at 0x0...</td>\n",
       "      <td>105.8</td>\n",
       "      <td>1320</td>\n",
       "      <td>all</td>\n",
       "    </tr>\n",
       "    <tr>\n",
       "      <th>0</th>\n",
       "      <td>cbreg</td>\n",
       "      <td>&lt;catboost.core.CatBoostRegressor object at 0x0...</td>\n",
       "      <td>15.4</td>\n",
       "      <td>1319</td>\n",
       "      <td>all</td>\n",
       "    </tr>\n",
       "    <tr>\n",
       "      <th>0</th>\n",
       "      <td>cbreg2</td>\n",
       "      <td>&lt;catboost.core.CatBoostRegressor object at 0x0...</td>\n",
       "      <td>34.0</td>\n",
       "      <td>1282</td>\n",
       "      <td>all</td>\n",
       "    </tr>\n",
       "    <tr>\n",
       "      <th>0</th>\n",
       "      <td>cbreg3</td>\n",
       "      <td>&lt;catboost.core.CatBoostRegressor object at 0x0...</td>\n",
       "      <td>6.4</td>\n",
       "      <td>1508</td>\n",
       "      <td>all</td>\n",
       "    </tr>\n",
       "  </tbody>\n",
       "</table>\n",
       "</div>"
      ],
      "text/plain": [
       "  model_name                                              model  fit_time_sec  \\\n",
       "0    lgbmreg                    LGBMRegressor(random_state=123)           0.5   \n",
       "0   lgbmreg2  LGBMRegressor(max_bin=255, num_iterations=1000...           3.3   \n",
       "0   lgbmreg3  LGBMRegressor(max_bin=255, num_iterations=500,...           1.6   \n",
       "0   lgbmreg2  LGBMRegressor(max_bin=255, num_iterations=1000...           3.0   \n",
       "0  cbreg_cat  <catboost.core.CatBoostRegressor object at 0x0...         105.8   \n",
       "0      cbreg  <catboost.core.CatBoostRegressor object at 0x0...          15.4   \n",
       "0     cbreg2  <catboost.core.CatBoostRegressor object at 0x0...          34.0   \n",
       "0     cbreg3  <catboost.core.CatBoostRegressor object at 0x0...           6.4   \n",
       "\n",
       "   RMSE importance_features  \n",
       "0  1418                 all  \n",
       "0  1216                 all  \n",
       "0  1279                 all  \n",
       "0  1360                   5  \n",
       "0  1320                 all  \n",
       "0  1319                 all  \n",
       "0  1282                 all  \n",
       "0  1508                 all  "
      ]
     },
     "execution_count": 68,
     "metadata": {},
     "output_type": "execute_result"
    }
   ],
   "source": [
    "result_tbl"
   ]
  },
  {
   "cell_type": "markdown",
   "metadata": {},
   "source": [
    "Посмотрим на перечень важных признаков для модели **CatBoostRegressor(iterations=1000, depth=10, l2_leaf_reg=1, random_state=123)**."
   ]
  },
  {
   "cell_type": "code",
   "execution_count": 69,
   "metadata": {},
   "outputs": [
    {
     "data": {
      "text/html": [
       "<div>\n",
       "<style scoped>\n",
       "    .dataframe tbody tr th:only-of-type {\n",
       "        vertical-align: middle;\n",
       "    }\n",
       "\n",
       "    .dataframe tbody tr th {\n",
       "        vertical-align: top;\n",
       "    }\n",
       "\n",
       "    .dataframe thead th {\n",
       "        text-align: right;\n",
       "    }\n",
       "</style>\n",
       "<table border=\"1\" class=\"dataframe\">\n",
       "  <thead>\n",
       "    <tr style=\"text-align: right;\">\n",
       "      <th></th>\n",
       "      <th>Feature Id</th>\n",
       "      <th>Importances</th>\n",
       "    </tr>\n",
       "  </thead>\n",
       "  <tbody>\n",
       "    <tr>\n",
       "      <th>0</th>\n",
       "      <td>power</td>\n",
       "      <td>21.499712</td>\n",
       "    </tr>\n",
       "    <tr>\n",
       "      <th>1</th>\n",
       "      <td>registration_year</td>\n",
       "      <td>17.769036</td>\n",
       "    </tr>\n",
       "    <tr>\n",
       "      <th>2</th>\n",
       "      <td>age</td>\n",
       "      <td>16.473219</td>\n",
       "    </tr>\n",
       "    <tr>\n",
       "      <th>3</th>\n",
       "      <td>brand</td>\n",
       "      <td>13.940612</td>\n",
       "    </tr>\n",
       "    <tr>\n",
       "      <th>4</th>\n",
       "      <td>kilometer</td>\n",
       "      <td>9.858870</td>\n",
       "    </tr>\n",
       "    <tr>\n",
       "      <th>5</th>\n",
       "      <td>vehicle_type</td>\n",
       "      <td>8.068184</td>\n",
       "    </tr>\n",
       "    <tr>\n",
       "      <th>6</th>\n",
       "      <td>model</td>\n",
       "      <td>4.976260</td>\n",
       "    </tr>\n",
       "    <tr>\n",
       "      <th>7</th>\n",
       "      <td>not_repaired</td>\n",
       "      <td>3.901573</td>\n",
       "    </tr>\n",
       "    <tr>\n",
       "      <th>8</th>\n",
       "      <td>fuel_type</td>\n",
       "      <td>2.633149</td>\n",
       "    </tr>\n",
       "    <tr>\n",
       "      <th>9</th>\n",
       "      <td>gearbox</td>\n",
       "      <td>0.877484</td>\n",
       "    </tr>\n",
       "    <tr>\n",
       "      <th>10</th>\n",
       "      <td>date_created</td>\n",
       "      <td>0.001901</td>\n",
       "    </tr>\n",
       "  </tbody>\n",
       "</table>\n",
       "</div>"
      ],
      "text/plain": [
       "           Feature Id  Importances\n",
       "0               power    21.499712\n",
       "1   registration_year    17.769036\n",
       "2                 age    16.473219\n",
       "3               brand    13.940612\n",
       "4           kilometer     9.858870\n",
       "5        vehicle_type     8.068184\n",
       "6               model     4.976260\n",
       "7        not_repaired     3.901573\n",
       "8           fuel_type     2.633149\n",
       "9             gearbox     0.877484\n",
       "10       date_created     0.001901"
      ]
     },
     "execution_count": 69,
     "metadata": {},
     "output_type": "execute_result"
    }
   ],
   "source": [
    "train_dataset = Pool(train_features, train_target)\n",
    "feature_importance = cbreg2.get_feature_importance(train_dataset, prettified=True)\n",
    "feature_importance"
   ]
  },
  {
   "cell_type": "markdown",
   "metadata": {},
   "source": [
    "Обучим модель с использованием 6 самых важных признаков."
   ]
  },
  {
   "cell_type": "code",
   "execution_count": 70,
   "metadata": {},
   "outputs": [],
   "source": [
    "top_features = 6\n",
    "train_features = train_features[list(feature_importance['Feature Id'])[:top_features]]"
   ]
  },
  {
   "cell_type": "code",
   "execution_count": 71,
   "metadata": {},
   "outputs": [
    {
     "name": "stdout",
     "output_type": "stream",
     "text": [
      "0:\tlearn: 3775.8261122\ttotal: 25.7ms\tremaining: 25.7s\n",
      "1:\tlearn: 3696.2551304\ttotal: 48.6ms\tremaining: 24.3s\n",
      "2:\tlearn: 3618.3662697\ttotal: 75ms\tremaining: 24.9s\n",
      "3:\tlearn: 3544.4457184\ttotal: 102ms\tremaining: 25.3s\n",
      "4:\tlearn: 3471.1389508\ttotal: 128ms\tremaining: 25.5s\n",
      "5:\tlearn: 3401.3164336\ttotal: 152ms\tremaining: 25.1s\n",
      "6:\tlearn: 3334.0621699\ttotal: 176ms\tremaining: 25s\n",
      "7:\tlearn: 3268.9405887\ttotal: 201ms\tremaining: 24.9s\n",
      "8:\tlearn: 3206.5956085\ttotal: 224ms\tremaining: 24.7s\n",
      "9:\tlearn: 3146.2773422\ttotal: 253ms\tremaining: 25s\n",
      "10:\tlearn: 3088.4603797\ttotal: 276ms\tremaining: 24.8s\n",
      "11:\tlearn: 3032.3682409\ttotal: 299ms\tremaining: 24.6s\n",
      "12:\tlearn: 2978.2318769\ttotal: 323ms\tremaining: 24.5s\n",
      "13:\tlearn: 2925.4782333\ttotal: 347ms\tremaining: 24.4s\n",
      "14:\tlearn: 2875.2631962\ttotal: 371ms\tremaining: 24.3s\n",
      "15:\tlearn: 2826.9365661\ttotal: 394ms\tremaining: 24.2s\n",
      "16:\tlearn: 2781.4706798\ttotal: 417ms\tremaining: 24.1s\n",
      "17:\tlearn: 2737.5039155\ttotal: 440ms\tremaining: 24s\n",
      "18:\tlearn: 2695.2564383\ttotal: 469ms\tremaining: 24.2s\n",
      "19:\tlearn: 2653.5424189\ttotal: 497ms\tremaining: 24.4s\n",
      "20:\tlearn: 2614.6234133\ttotal: 520ms\tremaining: 24.2s\n",
      "21:\tlearn: 2575.8274622\ttotal: 543ms\tremaining: 24.1s\n",
      "22:\tlearn: 2539.5243305\ttotal: 567ms\tremaining: 24.1s\n",
      "23:\tlearn: 2504.8479368\ttotal: 591ms\tremaining: 24s\n",
      "24:\tlearn: 2470.9721960\ttotal: 615ms\tremaining: 24s\n",
      "25:\tlearn: 2438.7915589\ttotal: 638ms\tremaining: 23.9s\n",
      "26:\tlearn: 2408.0791074\ttotal: 662ms\tremaining: 23.9s\n",
      "27:\tlearn: 2378.8956289\ttotal: 690ms\tremaining: 24s\n",
      "28:\tlearn: 2349.8863036\ttotal: 714ms\tremaining: 23.9s\n",
      "29:\tlearn: 2322.3075477\ttotal: 737ms\tremaining: 23.8s\n",
      "30:\tlearn: 2295.7610836\ttotal: 760ms\tremaining: 23.7s\n",
      "31:\tlearn: 2271.0202824\ttotal: 783ms\tremaining: 23.7s\n",
      "32:\tlearn: 2247.0513308\ttotal: 806ms\tremaining: 23.6s\n",
      "33:\tlearn: 2223.3891529\ttotal: 829ms\tremaining: 23.6s\n",
      "34:\tlearn: 2201.7542103\ttotal: 852ms\tremaining: 23.5s\n",
      "35:\tlearn: 2180.6771812\ttotal: 875ms\tremaining: 23.4s\n",
      "36:\tlearn: 2159.2613682\ttotal: 903ms\tremaining: 23.5s\n",
      "37:\tlearn: 2137.7931237\ttotal: 927ms\tremaining: 23.5s\n",
      "38:\tlearn: 2119.1001052\ttotal: 950ms\tremaining: 23.4s\n",
      "39:\tlearn: 2101.3199227\ttotal: 973ms\tremaining: 23.3s\n",
      "40:\tlearn: 2083.5915502\ttotal: 1000ms\tremaining: 23.4s\n",
      "41:\tlearn: 2066.6381286\ttotal: 1.02s\tremaining: 23.3s\n",
      "42:\tlearn: 2050.2689279\ttotal: 1.04s\tremaining: 23.3s\n",
      "43:\tlearn: 2034.3057707\ttotal: 1.07s\tremaining: 23.2s\n",
      "44:\tlearn: 2018.7979030\ttotal: 1.09s\tremaining: 23.2s\n",
      "45:\tlearn: 2005.2328172\ttotal: 1.12s\tremaining: 23.3s\n",
      "46:\tlearn: 1991.3051654\ttotal: 1.15s\tremaining: 23.3s\n",
      "47:\tlearn: 1977.3520793\ttotal: 1.17s\tremaining: 23.2s\n",
      "48:\tlearn: 1964.2917289\ttotal: 1.19s\tremaining: 23.2s\n",
      "49:\tlearn: 1950.8394484\ttotal: 1.22s\tremaining: 23.2s\n",
      "50:\tlearn: 1939.2256664\ttotal: 1.24s\tremaining: 23.1s\n",
      "51:\tlearn: 1927.6296088\ttotal: 1.27s\tremaining: 23.1s\n",
      "52:\tlearn: 1916.4574973\ttotal: 1.29s\tremaining: 23s\n",
      "53:\tlearn: 1906.5992670\ttotal: 1.31s\tremaining: 23s\n",
      "54:\tlearn: 1896.5220195\ttotal: 1.34s\tremaining: 23s\n",
      "55:\tlearn: 1887.6025767\ttotal: 1.36s\tremaining: 23s\n",
      "56:\tlearn: 1877.0243841\ttotal: 1.39s\tremaining: 23s\n",
      "57:\tlearn: 1867.9799472\ttotal: 1.41s\tremaining: 22.9s\n",
      "58:\tlearn: 1858.8291994\ttotal: 1.43s\tremaining: 22.9s\n",
      "59:\tlearn: 1849.0468011\ttotal: 1.46s\tremaining: 22.8s\n",
      "60:\tlearn: 1840.7638528\ttotal: 1.48s\tremaining: 22.8s\n",
      "61:\tlearn: 1833.7216051\ttotal: 1.5s\tremaining: 22.7s\n",
      "62:\tlearn: 1825.9325992\ttotal: 1.53s\tremaining: 22.7s\n",
      "63:\tlearn: 1818.7403893\ttotal: 1.56s\tremaining: 22.8s\n",
      "64:\tlearn: 1811.6374079\ttotal: 1.58s\tremaining: 22.7s\n",
      "65:\tlearn: 1805.0494702\ttotal: 1.6s\tremaining: 22.7s\n",
      "66:\tlearn: 1797.9673714\ttotal: 1.63s\tremaining: 22.7s\n",
      "67:\tlearn: 1791.7577355\ttotal: 1.65s\tremaining: 22.6s\n",
      "68:\tlearn: 1786.1098446\ttotal: 1.67s\tremaining: 22.6s\n",
      "69:\tlearn: 1780.7197046\ttotal: 1.7s\tremaining: 22.5s\n",
      "70:\tlearn: 1774.5844956\ttotal: 1.72s\tremaining: 22.5s\n",
      "71:\tlearn: 1769.0017499\ttotal: 1.75s\tremaining: 22.5s\n",
      "72:\tlearn: 1763.4096644\ttotal: 1.77s\tremaining: 22.5s\n",
      "73:\tlearn: 1757.6908499\ttotal: 1.79s\tremaining: 22.4s\n",
      "74:\tlearn: 1751.8006323\ttotal: 1.82s\tremaining: 22.4s\n",
      "75:\tlearn: 1747.3322806\ttotal: 1.84s\tremaining: 22.4s\n",
      "76:\tlearn: 1742.3000898\ttotal: 1.86s\tremaining: 22.3s\n",
      "77:\tlearn: 1738.1136079\ttotal: 1.89s\tremaining: 22.3s\n",
      "78:\tlearn: 1733.6656083\ttotal: 1.91s\tremaining: 22.3s\n",
      "79:\tlearn: 1729.4588771\ttotal: 1.93s\tremaining: 22.2s\n",
      "80:\tlearn: 1725.8431499\ttotal: 1.96s\tremaining: 22.2s\n",
      "81:\tlearn: 1721.8486965\ttotal: 1.98s\tremaining: 22.2s\n",
      "82:\tlearn: 1717.3991477\ttotal: 2.01s\tremaining: 22.2s\n",
      "83:\tlearn: 1713.8559507\ttotal: 2.03s\tremaining: 22.2s\n",
      "84:\tlearn: 1710.5023823\ttotal: 2.06s\tremaining: 22.1s\n",
      "85:\tlearn: 1706.7670602\ttotal: 2.08s\tremaining: 22.1s\n",
      "86:\tlearn: 1703.6074536\ttotal: 2.1s\tremaining: 22.1s\n",
      "87:\tlearn: 1699.9733134\ttotal: 2.13s\tremaining: 22s\n",
      "88:\tlearn: 1697.1352688\ttotal: 2.15s\tremaining: 22s\n",
      "89:\tlearn: 1694.1774851\ttotal: 2.17s\tremaining: 22s\n",
      "90:\tlearn: 1690.5311353\ttotal: 2.2s\tremaining: 22s\n",
      "91:\tlearn: 1687.4217883\ttotal: 2.23s\tremaining: 22s\n",
      "92:\tlearn: 1684.1431735\ttotal: 2.25s\tremaining: 22s\n",
      "93:\tlearn: 1680.8845572\ttotal: 2.27s\tremaining: 21.9s\n",
      "94:\tlearn: 1677.7980687\ttotal: 2.3s\tremaining: 21.9s\n",
      "95:\tlearn: 1675.2676297\ttotal: 2.32s\tremaining: 21.9s\n",
      "96:\tlearn: 1672.5335995\ttotal: 2.34s\tremaining: 21.8s\n",
      "97:\tlearn: 1670.0064905\ttotal: 2.37s\tremaining: 21.8s\n",
      "98:\tlearn: 1667.5936845\ttotal: 2.4s\tremaining: 21.8s\n",
      "99:\tlearn: 1665.2270919\ttotal: 2.42s\tremaining: 21.8s\n",
      "100:\tlearn: 1663.4696376\ttotal: 2.44s\tremaining: 21.8s\n",
      "101:\tlearn: 1661.6647153\ttotal: 2.47s\tremaining: 21.7s\n",
      "102:\tlearn: 1659.2911255\ttotal: 2.49s\tremaining: 21.7s\n",
      "103:\tlearn: 1657.3068863\ttotal: 2.51s\tremaining: 21.7s\n",
      "104:\tlearn: 1655.5923803\ttotal: 2.54s\tremaining: 21.6s\n",
      "105:\tlearn: 1653.4024181\ttotal: 2.56s\tremaining: 21.6s\n",
      "106:\tlearn: 1651.5589536\ttotal: 2.58s\tremaining: 21.6s\n",
      "107:\tlearn: 1649.8969465\ttotal: 2.61s\tremaining: 21.6s\n",
      "108:\tlearn: 1647.8485935\ttotal: 2.64s\tremaining: 21.6s\n",
      "109:\tlearn: 1646.0592462\ttotal: 2.67s\tremaining: 21.6s\n",
      "110:\tlearn: 1644.4497185\ttotal: 2.69s\tremaining: 21.5s\n",
      "111:\tlearn: 1642.5516064\ttotal: 2.71s\tremaining: 21.5s\n",
      "112:\tlearn: 1640.8501208\ttotal: 2.74s\tremaining: 21.5s\n",
      "113:\tlearn: 1639.4869139\ttotal: 2.76s\tremaining: 21.4s\n",
      "114:\tlearn: 1637.6497234\ttotal: 2.78s\tremaining: 21.4s\n",
      "115:\tlearn: 1636.0968649\ttotal: 2.81s\tremaining: 21.4s\n",
      "116:\tlearn: 1633.9491742\ttotal: 2.83s\tremaining: 21.4s\n",
      "117:\tlearn: 1632.3134738\ttotal: 2.86s\tremaining: 21.4s\n",
      "118:\tlearn: 1630.4299187\ttotal: 2.88s\tremaining: 21.3s\n",
      "119:\tlearn: 1629.0857615\ttotal: 2.9s\tremaining: 21.3s\n",
      "120:\tlearn: 1627.5433822\ttotal: 2.93s\tremaining: 21.3s\n",
      "121:\tlearn: 1626.1533735\ttotal: 2.95s\tremaining: 21.2s\n",
      "122:\tlearn: 1624.1522623\ttotal: 2.97s\tremaining: 21.2s\n",
      "123:\tlearn: 1622.7221598\ttotal: 3s\tremaining: 21.2s\n",
      "124:\tlearn: 1621.4620532\ttotal: 3.02s\tremaining: 21.1s\n",
      "125:\tlearn: 1619.3913856\ttotal: 3.04s\tremaining: 21.1s\n",
      "126:\tlearn: 1618.1193205\ttotal: 3.07s\tremaining: 21.1s\n",
      "127:\tlearn: 1616.9077901\ttotal: 3.1s\tremaining: 21.1s\n",
      "128:\tlearn: 1615.6549968\ttotal: 3.12s\tremaining: 21.1s\n",
      "129:\tlearn: 1614.4328144\ttotal: 3.14s\tremaining: 21s\n",
      "130:\tlearn: 1613.4093558\ttotal: 3.16s\tremaining: 21s\n",
      "131:\tlearn: 1612.3220074\ttotal: 3.19s\tremaining: 21s\n",
      "132:\tlearn: 1610.8330123\ttotal: 3.21s\tremaining: 20.9s\n",
      "133:\tlearn: 1609.8539226\ttotal: 3.23s\tremaining: 20.9s\n",
      "134:\tlearn: 1608.5939837\ttotal: 3.26s\tremaining: 20.9s\n",
      "135:\tlearn: 1607.4303128\ttotal: 3.29s\tremaining: 20.9s\n",
      "136:\tlearn: 1606.4976435\ttotal: 3.31s\tremaining: 20.8s\n",
      "137:\tlearn: 1605.8424539\ttotal: 3.33s\tremaining: 20.8s\n",
      "138:\tlearn: 1604.8301356\ttotal: 3.35s\tremaining: 20.8s\n",
      "139:\tlearn: 1603.4843910\ttotal: 3.38s\tremaining: 20.8s\n",
      "140:\tlearn: 1602.3673167\ttotal: 3.4s\tremaining: 20.7s\n",
      "141:\tlearn: 1601.1858292\ttotal: 3.42s\tremaining: 20.7s\n",
      "142:\tlearn: 1600.3028212\ttotal: 3.45s\tremaining: 20.7s\n",
      "143:\tlearn: 1599.4815920\ttotal: 3.47s\tremaining: 20.6s\n",
      "144:\tlearn: 1598.6968898\ttotal: 3.5s\tremaining: 20.6s\n",
      "145:\tlearn: 1597.9774320\ttotal: 3.52s\tremaining: 20.6s\n",
      "146:\tlearn: 1597.0301089\ttotal: 3.54s\tremaining: 20.6s\n",
      "147:\tlearn: 1596.1859361\ttotal: 3.57s\tremaining: 20.5s\n",
      "148:\tlearn: 1595.1400815\ttotal: 3.59s\tremaining: 20.5s\n",
      "149:\tlearn: 1594.4123029\ttotal: 3.62s\tremaining: 20.5s\n",
      "150:\tlearn: 1593.3945103\ttotal: 3.64s\tremaining: 20.5s\n",
      "151:\tlearn: 1592.3348705\ttotal: 3.67s\tremaining: 20.4s\n"
     ]
    },
    {
     "name": "stdout",
     "output_type": "stream",
     "text": [
      "152:\tlearn: 1591.5426017\ttotal: 3.69s\tremaining: 20.4s\n",
      "153:\tlearn: 1590.6669905\ttotal: 3.72s\tremaining: 20.4s\n",
      "154:\tlearn: 1589.8001174\ttotal: 3.74s\tremaining: 20.4s\n",
      "155:\tlearn: 1589.0721939\ttotal: 3.77s\tremaining: 20.4s\n",
      "156:\tlearn: 1588.3659282\ttotal: 3.79s\tremaining: 20.3s\n",
      "157:\tlearn: 1587.4320210\ttotal: 3.81s\tremaining: 20.3s\n",
      "158:\tlearn: 1586.6465984\ttotal: 3.84s\tremaining: 20.3s\n",
      "159:\tlearn: 1585.9795379\ttotal: 3.87s\tremaining: 20.3s\n",
      "160:\tlearn: 1585.3845223\ttotal: 3.89s\tremaining: 20.3s\n",
      "161:\tlearn: 1584.1636563\ttotal: 3.92s\tremaining: 20.3s\n",
      "162:\tlearn: 1583.3517262\ttotal: 3.94s\tremaining: 20.2s\n",
      "163:\tlearn: 1582.7386598\ttotal: 3.97s\tremaining: 20.2s\n",
      "164:\tlearn: 1582.0133835\ttotal: 3.99s\tremaining: 20.2s\n",
      "165:\tlearn: 1581.1150551\ttotal: 4.02s\tremaining: 20.2s\n",
      "166:\tlearn: 1580.6565315\ttotal: 4.04s\tremaining: 20.2s\n",
      "167:\tlearn: 1579.8580342\ttotal: 4.07s\tremaining: 20.2s\n",
      "168:\tlearn: 1579.0359810\ttotal: 4.1s\tremaining: 20.1s\n",
      "169:\tlearn: 1578.2227751\ttotal: 4.13s\tremaining: 20.1s\n",
      "170:\tlearn: 1577.7620068\ttotal: 4.15s\tremaining: 20.1s\n",
      "171:\tlearn: 1577.2043583\ttotal: 4.18s\tremaining: 20.1s\n",
      "172:\tlearn: 1576.5846571\ttotal: 4.2s\tremaining: 20.1s\n",
      "173:\tlearn: 1575.9939147\ttotal: 4.23s\tremaining: 20.1s\n",
      "174:\tlearn: 1575.3793941\ttotal: 4.25s\tremaining: 20.1s\n",
      "175:\tlearn: 1574.7342887\ttotal: 4.28s\tremaining: 20s\n",
      "176:\tlearn: 1573.9589547\ttotal: 4.31s\tremaining: 20s\n",
      "177:\tlearn: 1573.3995327\ttotal: 4.33s\tremaining: 20s\n",
      "178:\tlearn: 1572.4504812\ttotal: 4.36s\tremaining: 20s\n",
      "179:\tlearn: 1571.9508482\ttotal: 4.39s\tremaining: 20s\n",
      "180:\tlearn: 1571.1063611\ttotal: 4.42s\tremaining: 20s\n",
      "181:\tlearn: 1570.0893527\ttotal: 4.44s\tremaining: 20s\n",
      "182:\tlearn: 1569.4322047\ttotal: 4.47s\tremaining: 20s\n",
      "183:\tlearn: 1568.9192502\ttotal: 4.5s\tremaining: 19.9s\n",
      "184:\tlearn: 1568.3764308\ttotal: 4.52s\tremaining: 19.9s\n",
      "185:\tlearn: 1567.6973820\ttotal: 4.55s\tremaining: 19.9s\n",
      "186:\tlearn: 1567.1603213\ttotal: 4.58s\tremaining: 19.9s\n",
      "187:\tlearn: 1566.5226830\ttotal: 4.61s\tremaining: 19.9s\n",
      "188:\tlearn: 1566.0556274\ttotal: 4.65s\tremaining: 19.9s\n",
      "189:\tlearn: 1565.5440877\ttotal: 4.68s\tremaining: 20s\n",
      "190:\tlearn: 1564.9387526\ttotal: 4.71s\tremaining: 20s\n",
      "191:\tlearn: 1564.5548751\ttotal: 4.75s\tremaining: 20s\n",
      "192:\tlearn: 1563.9326053\ttotal: 4.78s\tremaining: 20s\n",
      "193:\tlearn: 1563.4369796\ttotal: 4.81s\tremaining: 20s\n",
      "194:\tlearn: 1562.9635611\ttotal: 4.85s\tremaining: 20s\n",
      "195:\tlearn: 1562.2511045\ttotal: 4.88s\tremaining: 20s\n",
      "196:\tlearn: 1561.8364391\ttotal: 4.91s\tremaining: 20s\n",
      "197:\tlearn: 1561.0302680\ttotal: 4.94s\tremaining: 20s\n",
      "198:\tlearn: 1560.4565242\ttotal: 4.97s\tremaining: 20s\n",
      "199:\tlearn: 1559.8930521\ttotal: 5s\tremaining: 20s\n",
      "200:\tlearn: 1559.4338851\ttotal: 5.03s\tremaining: 20s\n",
      "201:\tlearn: 1558.9139192\ttotal: 5.06s\tremaining: 20s\n",
      "202:\tlearn: 1558.5012600\ttotal: 5.09s\tremaining: 20s\n",
      "203:\tlearn: 1558.0965195\ttotal: 5.12s\tremaining: 20s\n",
      "204:\tlearn: 1557.5946151\ttotal: 5.14s\tremaining: 19.9s\n",
      "205:\tlearn: 1557.1157904\ttotal: 5.17s\tremaining: 19.9s\n",
      "206:\tlearn: 1556.6639666\ttotal: 5.2s\tremaining: 19.9s\n",
      "207:\tlearn: 1555.9007928\ttotal: 5.22s\tremaining: 19.9s\n",
      "208:\tlearn: 1555.5315916\ttotal: 5.25s\tremaining: 19.9s\n",
      "209:\tlearn: 1555.0524722\ttotal: 5.28s\tremaining: 19.9s\n",
      "210:\tlearn: 1554.6842927\ttotal: 5.31s\tremaining: 19.9s\n",
      "211:\tlearn: 1554.2481446\ttotal: 5.34s\tremaining: 19.8s\n",
      "212:\tlearn: 1553.9509071\ttotal: 5.36s\tremaining: 19.8s\n",
      "213:\tlearn: 1553.2051021\ttotal: 5.39s\tremaining: 19.8s\n",
      "214:\tlearn: 1552.3777608\ttotal: 5.42s\tremaining: 19.8s\n",
      "215:\tlearn: 1552.0461402\ttotal: 5.44s\tremaining: 19.8s\n",
      "216:\tlearn: 1551.5677421\ttotal: 5.47s\tremaining: 19.7s\n",
      "217:\tlearn: 1551.0932820\ttotal: 5.5s\tremaining: 19.7s\n",
      "218:\tlearn: 1550.6917357\ttotal: 5.53s\tremaining: 19.7s\n",
      "219:\tlearn: 1550.1967782\ttotal: 5.55s\tremaining: 19.7s\n",
      "220:\tlearn: 1549.6756751\ttotal: 5.58s\tremaining: 19.7s\n",
      "221:\tlearn: 1549.2549369\ttotal: 5.61s\tremaining: 19.7s\n",
      "222:\tlearn: 1548.5602969\ttotal: 5.64s\tremaining: 19.6s\n",
      "223:\tlearn: 1547.7175381\ttotal: 5.66s\tremaining: 19.6s\n",
      "224:\tlearn: 1547.2086734\ttotal: 5.69s\tremaining: 19.6s\n",
      "225:\tlearn: 1546.8186779\ttotal: 5.72s\tremaining: 19.6s\n",
      "226:\tlearn: 1546.0973514\ttotal: 5.75s\tremaining: 19.6s\n",
      "227:\tlearn: 1545.5991180\ttotal: 5.78s\tremaining: 19.6s\n",
      "228:\tlearn: 1545.1235726\ttotal: 5.8s\tremaining: 19.5s\n",
      "229:\tlearn: 1544.6802805\ttotal: 5.83s\tremaining: 19.5s\n",
      "230:\tlearn: 1544.2650308\ttotal: 5.86s\tremaining: 19.5s\n",
      "231:\tlearn: 1543.7933762\ttotal: 5.88s\tremaining: 19.5s\n",
      "232:\tlearn: 1543.4757512\ttotal: 5.91s\tremaining: 19.5s\n",
      "233:\tlearn: 1543.0267874\ttotal: 5.94s\tremaining: 19.4s\n",
      "234:\tlearn: 1542.6835199\ttotal: 5.96s\tremaining: 19.4s\n",
      "235:\tlearn: 1542.3078084\ttotal: 5.99s\tremaining: 19.4s\n",
      "236:\tlearn: 1541.8541854\ttotal: 6.02s\tremaining: 19.4s\n",
      "237:\tlearn: 1541.5680886\ttotal: 6.05s\tremaining: 19.4s\n",
      "238:\tlearn: 1541.2389797\ttotal: 6.07s\tremaining: 19.3s\n",
      "239:\tlearn: 1540.9047159\ttotal: 6.1s\tremaining: 19.3s\n",
      "240:\tlearn: 1540.4868441\ttotal: 6.13s\tremaining: 19.3s\n",
      "241:\tlearn: 1540.0340698\ttotal: 6.16s\tremaining: 19.3s\n",
      "242:\tlearn: 1539.6946828\ttotal: 6.19s\tremaining: 19.3s\n",
      "243:\tlearn: 1539.3947729\ttotal: 6.21s\tremaining: 19.3s\n",
      "244:\tlearn: 1538.9940441\ttotal: 6.24s\tremaining: 19.2s\n",
      "245:\tlearn: 1538.6473789\ttotal: 6.27s\tremaining: 19.2s\n",
      "246:\tlearn: 1538.3916335\ttotal: 6.3s\tremaining: 19.2s\n",
      "247:\tlearn: 1537.8726122\ttotal: 6.33s\tremaining: 19.2s\n",
      "248:\tlearn: 1537.1866707\ttotal: 6.35s\tremaining: 19.2s\n",
      "249:\tlearn: 1536.8763127\ttotal: 6.38s\tremaining: 19.1s\n",
      "250:\tlearn: 1536.4509072\ttotal: 6.41s\tremaining: 19.1s\n",
      "251:\tlearn: 1536.0783491\ttotal: 6.44s\tremaining: 19.1s\n",
      "252:\tlearn: 1535.6586675\ttotal: 6.46s\tremaining: 19.1s\n",
      "253:\tlearn: 1535.0317899\ttotal: 6.49s\tremaining: 19.1s\n",
      "254:\tlearn: 1534.6208114\ttotal: 6.52s\tremaining: 19s\n",
      "255:\tlearn: 1534.2097200\ttotal: 6.54s\tremaining: 19s\n",
      "256:\tlearn: 1533.7210344\ttotal: 6.58s\tremaining: 19s\n",
      "257:\tlearn: 1533.2746261\ttotal: 6.6s\tremaining: 19s\n",
      "258:\tlearn: 1532.8804540\ttotal: 6.63s\tremaining: 19s\n",
      "259:\tlearn: 1532.5646196\ttotal: 6.66s\tremaining: 18.9s\n",
      "260:\tlearn: 1532.3276619\ttotal: 6.68s\tremaining: 18.9s\n",
      "261:\tlearn: 1531.9887822\ttotal: 6.71s\tremaining: 18.9s\n",
      "262:\tlearn: 1531.5138672\ttotal: 6.74s\tremaining: 18.9s\n",
      "263:\tlearn: 1531.2474727\ttotal: 6.76s\tremaining: 18.9s\n",
      "264:\tlearn: 1530.8703816\ttotal: 6.79s\tremaining: 18.8s\n",
      "265:\tlearn: 1530.5094060\ttotal: 6.82s\tremaining: 18.8s\n",
      "266:\tlearn: 1530.2402066\ttotal: 6.84s\tremaining: 18.8s\n",
      "267:\tlearn: 1529.9681421\ttotal: 6.87s\tremaining: 18.8s\n",
      "268:\tlearn: 1529.5406129\ttotal: 6.9s\tremaining: 18.7s\n",
      "269:\tlearn: 1529.1348846\ttotal: 6.92s\tremaining: 18.7s\n",
      "270:\tlearn: 1528.9461984\ttotal: 6.95s\tremaining: 18.7s\n",
      "271:\tlearn: 1528.6811060\ttotal: 6.98s\tremaining: 18.7s\n",
      "272:\tlearn: 1528.2589240\ttotal: 7.01s\tremaining: 18.7s\n",
      "273:\tlearn: 1528.0571612\ttotal: 7.04s\tremaining: 18.6s\n",
      "274:\tlearn: 1527.4650907\ttotal: 7.06s\tremaining: 18.6s\n",
      "275:\tlearn: 1527.1072916\ttotal: 7.09s\tremaining: 18.6s\n",
      "276:\tlearn: 1526.7561765\ttotal: 7.12s\tremaining: 18.6s\n",
      "277:\tlearn: 1526.4557050\ttotal: 7.14s\tremaining: 18.6s\n",
      "278:\tlearn: 1526.1380309\ttotal: 7.17s\tremaining: 18.5s\n",
      "279:\tlearn: 1525.8870773\ttotal: 7.2s\tremaining: 18.5s\n",
      "280:\tlearn: 1525.5629669\ttotal: 7.22s\tremaining: 18.5s\n",
      "281:\tlearn: 1525.3176898\ttotal: 7.25s\tremaining: 18.5s\n",
      "282:\tlearn: 1524.9818043\ttotal: 7.28s\tremaining: 18.4s\n",
      "283:\tlearn: 1524.6718947\ttotal: 7.3s\tremaining: 18.4s\n",
      "284:\tlearn: 1524.3021556\ttotal: 7.33s\tremaining: 18.4s\n",
      "285:\tlearn: 1523.7626857\ttotal: 7.36s\tremaining: 18.4s\n",
      "286:\tlearn: 1523.4988610\ttotal: 7.39s\tremaining: 18.4s\n",
      "287:\tlearn: 1523.1332346\ttotal: 7.41s\tremaining: 18.3s\n",
      "288:\tlearn: 1522.9474713\ttotal: 7.44s\tremaining: 18.3s\n",
      "289:\tlearn: 1522.6352043\ttotal: 7.47s\tremaining: 18.3s\n",
      "290:\tlearn: 1522.3305208\ttotal: 7.5s\tremaining: 18.3s\n",
      "291:\tlearn: 1521.9985469\ttotal: 7.52s\tremaining: 18.2s\n",
      "292:\tlearn: 1521.7436649\ttotal: 7.55s\tremaining: 18.2s\n",
      "293:\tlearn: 1521.3293013\ttotal: 7.58s\tremaining: 18.2s\n",
      "294:\tlearn: 1521.1229233\ttotal: 7.6s\tremaining: 18.2s\n",
      "295:\tlearn: 1520.8557634\ttotal: 7.63s\tremaining: 18.1s\n",
      "296:\tlearn: 1520.5917877\ttotal: 7.66s\tremaining: 18.1s\n",
      "297:\tlearn: 1520.3527156\ttotal: 7.69s\tremaining: 18.1s\n",
      "298:\tlearn: 1520.0547066\ttotal: 7.71s\tremaining: 18.1s\n",
      "299:\tlearn: 1519.7167163\ttotal: 7.74s\tremaining: 18.1s\n",
      "300:\tlearn: 1519.3842525\ttotal: 7.77s\tremaining: 18s\n",
      "301:\tlearn: 1519.0691115\ttotal: 7.79s\tremaining: 18s\n",
      "302:\tlearn: 1518.8414701\ttotal: 7.82s\tremaining: 18s\n",
      "303:\tlearn: 1518.4263350\ttotal: 7.84s\tremaining: 18s\n"
     ]
    },
    {
     "name": "stdout",
     "output_type": "stream",
     "text": [
      "304:\tlearn: 1518.2376004\ttotal: 7.88s\tremaining: 17.9s\n",
      "305:\tlearn: 1517.9459406\ttotal: 7.9s\tremaining: 17.9s\n",
      "306:\tlearn: 1517.7289953\ttotal: 7.93s\tremaining: 17.9s\n",
      "307:\tlearn: 1517.5177103\ttotal: 7.96s\tremaining: 17.9s\n",
      "308:\tlearn: 1517.3449418\ttotal: 7.98s\tremaining: 17.8s\n",
      "309:\tlearn: 1516.9295257\ttotal: 8.01s\tremaining: 17.8s\n",
      "310:\tlearn: 1516.7068207\ttotal: 8.03s\tremaining: 17.8s\n",
      "311:\tlearn: 1516.5028333\ttotal: 8.06s\tremaining: 17.8s\n",
      "312:\tlearn: 1516.2488303\ttotal: 8.09s\tremaining: 17.8s\n",
      "313:\tlearn: 1516.0432805\ttotal: 8.12s\tremaining: 17.7s\n",
      "314:\tlearn: 1515.8761440\ttotal: 8.14s\tremaining: 17.7s\n",
      "315:\tlearn: 1515.5714146\ttotal: 8.17s\tremaining: 17.7s\n",
      "316:\tlearn: 1515.1768895\ttotal: 8.2s\tremaining: 17.7s\n",
      "317:\tlearn: 1514.9578112\ttotal: 8.23s\tremaining: 17.6s\n",
      "318:\tlearn: 1514.5494501\ttotal: 8.26s\tremaining: 17.6s\n",
      "319:\tlearn: 1514.3344523\ttotal: 8.29s\tremaining: 17.6s\n",
      "320:\tlearn: 1514.0760472\ttotal: 8.32s\tremaining: 17.6s\n",
      "321:\tlearn: 1513.8205363\ttotal: 8.35s\tremaining: 17.6s\n",
      "322:\tlearn: 1513.4190147\ttotal: 8.37s\tremaining: 17.5s\n",
      "323:\tlearn: 1513.2133290\ttotal: 8.4s\tremaining: 17.5s\n",
      "324:\tlearn: 1512.8919631\ttotal: 8.43s\tremaining: 17.5s\n",
      "325:\tlearn: 1512.6716898\ttotal: 8.45s\tremaining: 17.5s\n",
      "326:\tlearn: 1512.4079643\ttotal: 8.48s\tremaining: 17.4s\n",
      "327:\tlearn: 1512.2007774\ttotal: 8.51s\tremaining: 17.4s\n",
      "328:\tlearn: 1511.9302752\ttotal: 8.54s\tremaining: 17.4s\n",
      "329:\tlearn: 1511.7244807\ttotal: 8.57s\tremaining: 17.4s\n",
      "330:\tlearn: 1511.4344529\ttotal: 8.61s\tremaining: 17.4s\n",
      "331:\tlearn: 1511.0701045\ttotal: 8.65s\tremaining: 17.4s\n",
      "332:\tlearn: 1510.8686979\ttotal: 8.68s\tremaining: 17.4s\n",
      "333:\tlearn: 1510.6052707\ttotal: 8.71s\tremaining: 17.4s\n",
      "334:\tlearn: 1510.3058663\ttotal: 8.73s\tremaining: 17.3s\n",
      "335:\tlearn: 1509.9708769\ttotal: 8.76s\tremaining: 17.3s\n",
      "336:\tlearn: 1509.6856923\ttotal: 8.79s\tremaining: 17.3s\n",
      "337:\tlearn: 1509.4102792\ttotal: 8.82s\tremaining: 17.3s\n",
      "338:\tlearn: 1509.1541246\ttotal: 8.85s\tremaining: 17.3s\n",
      "339:\tlearn: 1508.8118668\ttotal: 8.88s\tremaining: 17.2s\n",
      "340:\tlearn: 1508.5365668\ttotal: 8.9s\tremaining: 17.2s\n",
      "341:\tlearn: 1508.2556427\ttotal: 8.93s\tremaining: 17.2s\n",
      "342:\tlearn: 1508.0231291\ttotal: 8.96s\tremaining: 17.2s\n",
      "343:\tlearn: 1507.8176023\ttotal: 8.99s\tremaining: 17.1s\n",
      "344:\tlearn: 1507.6511030\ttotal: 9.02s\tremaining: 17.1s\n",
      "345:\tlearn: 1507.4542785\ttotal: 9.04s\tremaining: 17.1s\n",
      "346:\tlearn: 1507.1806700\ttotal: 9.07s\tremaining: 17.1s\n",
      "347:\tlearn: 1506.8540341\ttotal: 9.1s\tremaining: 17s\n",
      "348:\tlearn: 1506.6519298\ttotal: 9.13s\tremaining: 17s\n",
      "349:\tlearn: 1506.3950541\ttotal: 9.15s\tremaining: 17s\n",
      "350:\tlearn: 1506.0113833\ttotal: 9.19s\tremaining: 17s\n",
      "351:\tlearn: 1505.7620423\ttotal: 9.21s\tremaining: 17s\n",
      "352:\tlearn: 1505.6274738\ttotal: 9.25s\tremaining: 16.9s\n",
      "353:\tlearn: 1505.3934919\ttotal: 9.28s\tremaining: 16.9s\n",
      "354:\tlearn: 1505.0235016\ttotal: 9.31s\tremaining: 16.9s\n",
      "355:\tlearn: 1504.6847073\ttotal: 9.34s\tremaining: 16.9s\n",
      "356:\tlearn: 1504.4025422\ttotal: 9.38s\tremaining: 16.9s\n",
      "357:\tlearn: 1504.1300518\ttotal: 9.41s\tremaining: 16.9s\n",
      "358:\tlearn: 1503.9318734\ttotal: 9.44s\tremaining: 16.9s\n",
      "359:\tlearn: 1503.6185312\ttotal: 9.47s\tremaining: 16.8s\n",
      "360:\tlearn: 1503.3157457\ttotal: 9.5s\tremaining: 16.8s\n",
      "361:\tlearn: 1503.1675993\ttotal: 9.53s\tremaining: 16.8s\n",
      "362:\tlearn: 1502.8669532\ttotal: 9.55s\tremaining: 16.8s\n",
      "363:\tlearn: 1502.5986597\ttotal: 9.58s\tremaining: 16.7s\n",
      "364:\tlearn: 1502.3110089\ttotal: 9.61s\tremaining: 16.7s\n",
      "365:\tlearn: 1502.0061738\ttotal: 9.64s\tremaining: 16.7s\n",
      "366:\tlearn: 1501.7306278\ttotal: 9.67s\tremaining: 16.7s\n",
      "367:\tlearn: 1501.5519082\ttotal: 9.69s\tremaining: 16.6s\n",
      "368:\tlearn: 1501.3330270\ttotal: 9.72s\tremaining: 16.6s\n",
      "369:\tlearn: 1501.0815152\ttotal: 9.75s\tremaining: 16.6s\n",
      "370:\tlearn: 1500.8309470\ttotal: 9.78s\tremaining: 16.6s\n",
      "371:\tlearn: 1500.6808213\ttotal: 9.8s\tremaining: 16.5s\n",
      "372:\tlearn: 1500.5441742\ttotal: 9.83s\tremaining: 16.5s\n",
      "373:\tlearn: 1500.2497451\ttotal: 9.86s\tremaining: 16.5s\n",
      "374:\tlearn: 1499.9581272\ttotal: 9.89s\tremaining: 16.5s\n",
      "375:\tlearn: 1499.7636818\ttotal: 9.91s\tremaining: 16.5s\n",
      "376:\tlearn: 1499.6081166\ttotal: 9.94s\tremaining: 16.4s\n",
      "377:\tlearn: 1499.3913250\ttotal: 9.97s\tremaining: 16.4s\n",
      "378:\tlearn: 1499.2202933\ttotal: 9.99s\tremaining: 16.4s\n",
      "379:\tlearn: 1498.9520755\ttotal: 10s\tremaining: 16.3s\n",
      "380:\tlearn: 1498.7550545\ttotal: 10s\tremaining: 16.3s\n",
      "381:\tlearn: 1498.6151534\ttotal: 10.1s\tremaining: 16.3s\n",
      "382:\tlearn: 1498.3266042\ttotal: 10.1s\tremaining: 16.3s\n",
      "383:\tlearn: 1498.0999229\ttotal: 10.1s\tremaining: 16.3s\n",
      "384:\tlearn: 1497.8800735\ttotal: 10.2s\tremaining: 16.2s\n",
      "385:\tlearn: 1497.6622259\ttotal: 10.2s\tremaining: 16.2s\n",
      "386:\tlearn: 1497.4486108\ttotal: 10.2s\tremaining: 16.2s\n",
      "387:\tlearn: 1497.2265078\ttotal: 10.3s\tremaining: 16.2s\n",
      "388:\tlearn: 1496.9594191\ttotal: 10.3s\tremaining: 16.1s\n",
      "389:\tlearn: 1496.7978659\ttotal: 10.3s\tremaining: 16.1s\n",
      "390:\tlearn: 1496.5179556\ttotal: 10.3s\tremaining: 16.1s\n",
      "391:\tlearn: 1496.3505360\ttotal: 10.4s\tremaining: 16.1s\n",
      "392:\tlearn: 1496.0889883\ttotal: 10.4s\tremaining: 16.1s\n",
      "393:\tlearn: 1495.8881812\ttotal: 10.4s\tremaining: 16s\n",
      "394:\tlearn: 1495.6379141\ttotal: 10.5s\tremaining: 16s\n",
      "395:\tlearn: 1495.5049434\ttotal: 10.5s\tremaining: 16s\n",
      "396:\tlearn: 1495.2930183\ttotal: 10.5s\tremaining: 16s\n",
      "397:\tlearn: 1494.9792705\ttotal: 10.6s\tremaining: 16s\n",
      "398:\tlearn: 1494.7218144\ttotal: 10.6s\tremaining: 15.9s\n",
      "399:\tlearn: 1494.4868846\ttotal: 10.6s\tremaining: 15.9s\n",
      "400:\tlearn: 1494.2956548\ttotal: 10.7s\tremaining: 15.9s\n",
      "401:\tlearn: 1493.9617453\ttotal: 10.7s\tremaining: 15.9s\n",
      "402:\tlearn: 1493.7651609\ttotal: 10.7s\tremaining: 15.9s\n",
      "403:\tlearn: 1493.5050313\ttotal: 10.8s\tremaining: 15.9s\n",
      "404:\tlearn: 1493.2786291\ttotal: 10.8s\tremaining: 15.8s\n",
      "405:\tlearn: 1493.0585121\ttotal: 10.8s\tremaining: 15.8s\n",
      "406:\tlearn: 1492.9176128\ttotal: 10.8s\tremaining: 15.8s\n",
      "407:\tlearn: 1492.6108405\ttotal: 10.9s\tremaining: 15.8s\n",
      "408:\tlearn: 1492.5048937\ttotal: 10.9s\tremaining: 15.8s\n",
      "409:\tlearn: 1492.2669121\ttotal: 10.9s\tremaining: 15.7s\n",
      "410:\tlearn: 1492.0750832\ttotal: 11s\tremaining: 15.7s\n",
      "411:\tlearn: 1491.8908141\ttotal: 11s\tremaining: 15.7s\n",
      "412:\tlearn: 1491.6590334\ttotal: 11s\tremaining: 15.7s\n",
      "413:\tlearn: 1491.4450957\ttotal: 11.1s\tremaining: 15.7s\n",
      "414:\tlearn: 1491.1908054\ttotal: 11.1s\tremaining: 15.6s\n",
      "415:\tlearn: 1490.9709102\ttotal: 11.1s\tremaining: 15.6s\n",
      "416:\tlearn: 1490.7110936\ttotal: 11.2s\tremaining: 15.6s\n",
      "417:\tlearn: 1490.5304375\ttotal: 11.2s\tremaining: 15.6s\n",
      "418:\tlearn: 1490.3352160\ttotal: 11.2s\tremaining: 15.5s\n",
      "419:\tlearn: 1490.1656737\ttotal: 11.2s\tremaining: 15.5s\n",
      "420:\tlearn: 1490.0011363\ttotal: 11.3s\tremaining: 15.5s\n",
      "421:\tlearn: 1489.7666923\ttotal: 11.3s\tremaining: 15.5s\n",
      "422:\tlearn: 1489.5723672\ttotal: 11.3s\tremaining: 15.5s\n",
      "423:\tlearn: 1489.3176727\ttotal: 11.4s\tremaining: 15.4s\n",
      "424:\tlearn: 1489.1821022\ttotal: 11.4s\tremaining: 15.4s\n",
      "425:\tlearn: 1489.0479102\ttotal: 11.4s\tremaining: 15.4s\n",
      "426:\tlearn: 1488.7636484\ttotal: 11.5s\tremaining: 15.4s\n",
      "427:\tlearn: 1488.6010324\ttotal: 11.5s\tremaining: 15.3s\n",
      "428:\tlearn: 1488.4487301\ttotal: 11.5s\tremaining: 15.3s\n",
      "429:\tlearn: 1488.2022869\ttotal: 11.5s\tremaining: 15.3s\n",
      "430:\tlearn: 1487.9802569\ttotal: 11.6s\tremaining: 15.3s\n",
      "431:\tlearn: 1487.7340735\ttotal: 11.6s\tremaining: 15.3s\n",
      "432:\tlearn: 1487.6006364\ttotal: 11.6s\tremaining: 15.2s\n",
      "433:\tlearn: 1487.4536354\ttotal: 11.7s\tremaining: 15.2s\n",
      "434:\tlearn: 1487.2491112\ttotal: 11.7s\tremaining: 15.2s\n",
      "435:\tlearn: 1487.0444204\ttotal: 11.7s\tremaining: 15.2s\n",
      "436:\tlearn: 1486.8687128\ttotal: 11.8s\tremaining: 15.1s\n",
      "437:\tlearn: 1486.5921259\ttotal: 11.8s\tremaining: 15.1s\n",
      "438:\tlearn: 1486.4018129\ttotal: 11.8s\tremaining: 15.1s\n",
      "439:\tlearn: 1486.2123834\ttotal: 11.8s\tremaining: 15.1s\n",
      "440:\tlearn: 1486.0799265\ttotal: 11.9s\tremaining: 15.1s\n",
      "441:\tlearn: 1485.9350319\ttotal: 11.9s\tremaining: 15s\n",
      "442:\tlearn: 1485.6747111\ttotal: 11.9s\tremaining: 15s\n",
      "443:\tlearn: 1485.4936410\ttotal: 12s\tremaining: 15s\n",
      "444:\tlearn: 1485.2619280\ttotal: 12s\tremaining: 14.9s\n",
      "445:\tlearn: 1485.0767783\ttotal: 12s\tremaining: 14.9s\n",
      "446:\tlearn: 1484.9899573\ttotal: 12s\tremaining: 14.9s\n",
      "447:\tlearn: 1484.8899562\ttotal: 12.1s\tremaining: 14.9s\n",
      "448:\tlearn: 1484.7477184\ttotal: 12.1s\tremaining: 14.8s\n",
      "449:\tlearn: 1484.6297980\ttotal: 12.1s\tremaining: 14.8s\n",
      "450:\tlearn: 1484.3541955\ttotal: 12.2s\tremaining: 14.8s\n",
      "451:\tlearn: 1484.1950040\ttotal: 12.2s\tremaining: 14.8s\n",
      "452:\tlearn: 1483.9636417\ttotal: 12.2s\tremaining: 14.7s\n",
      "453:\tlearn: 1483.7835331\ttotal: 12.2s\tremaining: 14.7s\n",
      "454:\tlearn: 1483.6127080\ttotal: 12.3s\tremaining: 14.7s\n",
      "455:\tlearn: 1483.4325520\ttotal: 12.3s\tremaining: 14.7s\n",
      "456:\tlearn: 1483.2487889\ttotal: 12.3s\tremaining: 14.6s\n",
      "457:\tlearn: 1483.0970044\ttotal: 12.3s\tremaining: 14.6s\n",
      "458:\tlearn: 1482.8954401\ttotal: 12.4s\tremaining: 14.6s\n",
      "459:\tlearn: 1482.6515831\ttotal: 12.4s\tremaining: 14.5s\n",
      "460:\tlearn: 1482.5205966\ttotal: 12.4s\tremaining: 14.5s\n"
     ]
    },
    {
     "name": "stdout",
     "output_type": "stream",
     "text": [
      "461:\tlearn: 1482.3781790\ttotal: 12.4s\tremaining: 14.5s\n",
      "462:\tlearn: 1482.2391592\ttotal: 12.5s\tremaining: 14.5s\n",
      "463:\tlearn: 1482.0319543\ttotal: 12.5s\tremaining: 14.4s\n",
      "464:\tlearn: 1481.8656584\ttotal: 12.5s\tremaining: 14.4s\n",
      "465:\tlearn: 1481.7228690\ttotal: 12.6s\tremaining: 14.4s\n",
      "466:\tlearn: 1481.5117039\ttotal: 12.6s\tremaining: 14.4s\n",
      "467:\tlearn: 1481.3545461\ttotal: 12.6s\tremaining: 14.3s\n",
      "468:\tlearn: 1481.2511872\ttotal: 12.6s\tremaining: 14.3s\n",
      "469:\tlearn: 1481.0714101\ttotal: 12.7s\tremaining: 14.3s\n",
      "470:\tlearn: 1480.9024619\ttotal: 12.7s\tremaining: 14.3s\n",
      "471:\tlearn: 1480.6934109\ttotal: 12.7s\tremaining: 14.2s\n",
      "472:\tlearn: 1480.5600650\ttotal: 12.7s\tremaining: 14.2s\n",
      "473:\tlearn: 1480.2780382\ttotal: 12.8s\tremaining: 14.2s\n",
      "474:\tlearn: 1480.1419323\ttotal: 12.8s\tremaining: 14.1s\n",
      "475:\tlearn: 1479.9992097\ttotal: 12.8s\tremaining: 14.1s\n",
      "476:\tlearn: 1479.7944497\ttotal: 12.8s\tremaining: 14.1s\n",
      "477:\tlearn: 1479.5879417\ttotal: 12.9s\tremaining: 14.1s\n",
      "478:\tlearn: 1479.4488179\ttotal: 12.9s\tremaining: 14s\n",
      "479:\tlearn: 1479.2595644\ttotal: 12.9s\tremaining: 14s\n",
      "480:\tlearn: 1479.1158242\ttotal: 13s\tremaining: 14s\n",
      "481:\tlearn: 1478.9749478\ttotal: 13s\tremaining: 14s\n",
      "482:\tlearn: 1478.8721302\ttotal: 13s\tremaining: 13.9s\n",
      "483:\tlearn: 1478.7439599\ttotal: 13s\tremaining: 13.9s\n",
      "484:\tlearn: 1478.6559186\ttotal: 13.1s\tremaining: 13.9s\n",
      "485:\tlearn: 1478.4888858\ttotal: 13.1s\tremaining: 13.8s\n",
      "486:\tlearn: 1478.3158742\ttotal: 13.1s\tremaining: 13.8s\n",
      "487:\tlearn: 1478.1420035\ttotal: 13.1s\tremaining: 13.8s\n",
      "488:\tlearn: 1477.9711664\ttotal: 13.2s\tremaining: 13.8s\n",
      "489:\tlearn: 1477.8264281\ttotal: 13.2s\tremaining: 13.7s\n",
      "490:\tlearn: 1477.6366545\ttotal: 13.2s\tremaining: 13.7s\n",
      "491:\tlearn: 1477.4028848\ttotal: 13.3s\tremaining: 13.7s\n",
      "492:\tlearn: 1477.2409560\ttotal: 13.3s\tremaining: 13.7s\n",
      "493:\tlearn: 1477.1282077\ttotal: 13.3s\tremaining: 13.6s\n",
      "494:\tlearn: 1476.9076990\ttotal: 13.3s\tremaining: 13.6s\n",
      "495:\tlearn: 1476.8087852\ttotal: 13.4s\tremaining: 13.6s\n",
      "496:\tlearn: 1476.6723663\ttotal: 13.4s\tremaining: 13.5s\n",
      "497:\tlearn: 1476.5126556\ttotal: 13.4s\tremaining: 13.5s\n",
      "498:\tlearn: 1476.3453212\ttotal: 13.4s\tremaining: 13.5s\n",
      "499:\tlearn: 1476.1999146\ttotal: 13.5s\tremaining: 13.5s\n",
      "500:\tlearn: 1476.0396911\ttotal: 13.5s\tremaining: 13.4s\n",
      "501:\tlearn: 1475.9234476\ttotal: 13.5s\tremaining: 13.4s\n",
      "502:\tlearn: 1475.7320429\ttotal: 13.5s\tremaining: 13.4s\n",
      "503:\tlearn: 1475.6179944\ttotal: 13.6s\tremaining: 13.4s\n",
      "504:\tlearn: 1475.4621920\ttotal: 13.6s\tremaining: 13.3s\n",
      "505:\tlearn: 1475.2990702\ttotal: 13.6s\tremaining: 13.3s\n",
      "506:\tlearn: 1475.1199209\ttotal: 13.7s\tremaining: 13.3s\n",
      "507:\tlearn: 1474.8943341\ttotal: 13.7s\tremaining: 13.2s\n",
      "508:\tlearn: 1474.8081444\ttotal: 13.7s\tremaining: 13.2s\n",
      "509:\tlearn: 1474.6781945\ttotal: 13.7s\tremaining: 13.2s\n",
      "510:\tlearn: 1474.5331348\ttotal: 13.8s\tremaining: 13.2s\n",
      "511:\tlearn: 1474.3703642\ttotal: 13.8s\tremaining: 13.1s\n",
      "512:\tlearn: 1474.1772453\ttotal: 13.8s\tremaining: 13.1s\n",
      "513:\tlearn: 1473.9646726\ttotal: 13.8s\tremaining: 13.1s\n",
      "514:\tlearn: 1473.7290967\ttotal: 13.9s\tremaining: 13.1s\n",
      "515:\tlearn: 1473.6252697\ttotal: 13.9s\tremaining: 13s\n",
      "516:\tlearn: 1473.4338499\ttotal: 13.9s\tremaining: 13s\n",
      "517:\tlearn: 1473.3149075\ttotal: 13.9s\tremaining: 13s\n",
      "518:\tlearn: 1473.1816326\ttotal: 14s\tremaining: 12.9s\n",
      "519:\tlearn: 1473.0158108\ttotal: 14s\tremaining: 12.9s\n",
      "520:\tlearn: 1472.8495029\ttotal: 14s\tremaining: 12.9s\n",
      "521:\tlearn: 1472.6842676\ttotal: 14.1s\tremaining: 12.9s\n",
      "522:\tlearn: 1472.6035508\ttotal: 14.1s\tremaining: 12.8s\n",
      "523:\tlearn: 1472.4107934\ttotal: 14.1s\tremaining: 12.8s\n",
      "524:\tlearn: 1472.1992300\ttotal: 14.1s\tremaining: 12.8s\n",
      "525:\tlearn: 1472.0493065\ttotal: 14.2s\tremaining: 12.8s\n",
      "526:\tlearn: 1471.8795291\ttotal: 14.2s\tremaining: 12.7s\n",
      "527:\tlearn: 1471.7283965\ttotal: 14.2s\tremaining: 12.7s\n",
      "528:\tlearn: 1471.5219785\ttotal: 14.2s\tremaining: 12.7s\n",
      "529:\tlearn: 1471.3261551\ttotal: 14.3s\tremaining: 12.7s\n",
      "530:\tlearn: 1471.1238541\ttotal: 14.3s\tremaining: 12.6s\n",
      "531:\tlearn: 1470.9849737\ttotal: 14.3s\tremaining: 12.6s\n",
      "532:\tlearn: 1470.8533934\ttotal: 14.4s\tremaining: 12.6s\n",
      "533:\tlearn: 1470.7411088\ttotal: 14.4s\tremaining: 12.5s\n",
      "534:\tlearn: 1470.6252431\ttotal: 14.4s\tremaining: 12.5s\n",
      "535:\tlearn: 1470.4331239\ttotal: 14.5s\tremaining: 12.5s\n",
      "536:\tlearn: 1470.2726265\ttotal: 14.5s\tremaining: 12.5s\n",
      "537:\tlearn: 1470.0948112\ttotal: 14.5s\tremaining: 12.5s\n",
      "538:\tlearn: 1469.9493594\ttotal: 14.5s\tremaining: 12.4s\n",
      "539:\tlearn: 1469.7576104\ttotal: 14.6s\tremaining: 12.4s\n",
      "540:\tlearn: 1469.6241781\ttotal: 14.6s\tremaining: 12.4s\n",
      "541:\tlearn: 1469.5008103\ttotal: 14.6s\tremaining: 12.4s\n",
      "542:\tlearn: 1469.4168904\ttotal: 14.6s\tremaining: 12.3s\n",
      "543:\tlearn: 1469.2767131\ttotal: 14.7s\tremaining: 12.3s\n",
      "544:\tlearn: 1469.1661291\ttotal: 14.7s\tremaining: 12.3s\n",
      "545:\tlearn: 1469.0825804\ttotal: 14.7s\tremaining: 12.2s\n",
      "546:\tlearn: 1468.9494880\ttotal: 14.8s\tremaining: 12.2s\n",
      "547:\tlearn: 1468.7781803\ttotal: 14.8s\tremaining: 12.2s\n",
      "548:\tlearn: 1468.6504529\ttotal: 14.8s\tremaining: 12.2s\n",
      "549:\tlearn: 1468.4561119\ttotal: 14.8s\tremaining: 12.1s\n",
      "550:\tlearn: 1468.2977108\ttotal: 14.9s\tremaining: 12.1s\n",
      "551:\tlearn: 1468.1362834\ttotal: 14.9s\tremaining: 12.1s\n",
      "552:\tlearn: 1467.9923460\ttotal: 14.9s\tremaining: 12.1s\n",
      "553:\tlearn: 1467.8391594\ttotal: 14.9s\tremaining: 12s\n",
      "554:\tlearn: 1467.7368313\ttotal: 15s\tremaining: 12s\n",
      "555:\tlearn: 1467.5679885\ttotal: 15s\tremaining: 12s\n",
      "556:\tlearn: 1467.3910898\ttotal: 15s\tremaining: 11.9s\n",
      "557:\tlearn: 1467.2440649\ttotal: 15s\tremaining: 11.9s\n",
      "558:\tlearn: 1467.1207213\ttotal: 15.1s\tremaining: 11.9s\n",
      "559:\tlearn: 1466.9194164\ttotal: 15.1s\tremaining: 11.9s\n",
      "560:\tlearn: 1466.7801161\ttotal: 15.1s\tremaining: 11.8s\n",
      "561:\tlearn: 1466.6035741\ttotal: 15.2s\tremaining: 11.8s\n",
      "562:\tlearn: 1466.5330261\ttotal: 15.2s\tremaining: 11.8s\n",
      "563:\tlearn: 1466.3874813\ttotal: 15.2s\tremaining: 11.8s\n",
      "564:\tlearn: 1466.2953115\ttotal: 15.2s\tremaining: 11.7s\n",
      "565:\tlearn: 1466.1159861\ttotal: 15.3s\tremaining: 11.7s\n",
      "566:\tlearn: 1465.9821998\ttotal: 15.3s\tremaining: 11.7s\n",
      "567:\tlearn: 1465.8370369\ttotal: 15.3s\tremaining: 11.7s\n",
      "568:\tlearn: 1465.6593138\ttotal: 15.4s\tremaining: 11.6s\n",
      "569:\tlearn: 1465.5254663\ttotal: 15.4s\tremaining: 11.6s\n",
      "570:\tlearn: 1465.3841774\ttotal: 15.4s\tremaining: 11.6s\n",
      "571:\tlearn: 1465.2997811\ttotal: 15.4s\tremaining: 11.6s\n",
      "572:\tlearn: 1465.1410939\ttotal: 15.5s\tremaining: 11.5s\n",
      "573:\tlearn: 1465.0419290\ttotal: 15.5s\tremaining: 11.5s\n",
      "574:\tlearn: 1464.9899257\ttotal: 15.5s\tremaining: 11.5s\n",
      "575:\tlearn: 1464.8351993\ttotal: 15.5s\tremaining: 11.4s\n",
      "576:\tlearn: 1464.7219528\ttotal: 15.6s\tremaining: 11.4s\n",
      "577:\tlearn: 1464.5446664\ttotal: 15.6s\tremaining: 11.4s\n",
      "578:\tlearn: 1464.4249084\ttotal: 15.6s\tremaining: 11.4s\n",
      "579:\tlearn: 1464.2267151\ttotal: 15.7s\tremaining: 11.3s\n",
      "580:\tlearn: 1464.1229034\ttotal: 15.7s\tremaining: 11.3s\n",
      "581:\tlearn: 1463.9317128\ttotal: 15.7s\tremaining: 11.3s\n",
      "582:\tlearn: 1463.7919908\ttotal: 15.7s\tremaining: 11.3s\n",
      "583:\tlearn: 1463.5907976\ttotal: 15.8s\tremaining: 11.2s\n",
      "584:\tlearn: 1463.4677732\ttotal: 15.8s\tremaining: 11.2s\n",
      "585:\tlearn: 1463.3197007\ttotal: 15.8s\tremaining: 11.2s\n",
      "586:\tlearn: 1463.1208711\ttotal: 15.8s\tremaining: 11.1s\n",
      "587:\tlearn: 1463.0169778\ttotal: 15.9s\tremaining: 11.1s\n",
      "588:\tlearn: 1462.8432266\ttotal: 15.9s\tremaining: 11.1s\n",
      "589:\tlearn: 1462.7562335\ttotal: 15.9s\tremaining: 11.1s\n",
      "590:\tlearn: 1462.6550693\ttotal: 15.9s\tremaining: 11s\n",
      "591:\tlearn: 1462.5715517\ttotal: 16s\tremaining: 11s\n",
      "592:\tlearn: 1462.4521956\ttotal: 16s\tremaining: 11s\n",
      "593:\tlearn: 1462.3310548\ttotal: 16s\tremaining: 11s\n",
      "594:\tlearn: 1462.1983500\ttotal: 16.1s\tremaining: 10.9s\n",
      "595:\tlearn: 1462.0980709\ttotal: 16.1s\tremaining: 10.9s\n",
      "596:\tlearn: 1461.9688067\ttotal: 16.1s\tremaining: 10.9s\n",
      "597:\tlearn: 1461.8622184\ttotal: 16.1s\tremaining: 10.8s\n",
      "598:\tlearn: 1461.7082671\ttotal: 16.2s\tremaining: 10.8s\n",
      "599:\tlearn: 1461.5631913\ttotal: 16.2s\tremaining: 10.8s\n",
      "600:\tlearn: 1461.3785102\ttotal: 16.2s\tremaining: 10.8s\n",
      "601:\tlearn: 1461.2208669\ttotal: 16.2s\tremaining: 10.7s\n",
      "602:\tlearn: 1461.0776203\ttotal: 16.3s\tremaining: 10.7s\n",
      "603:\tlearn: 1460.9162373\ttotal: 16.3s\tremaining: 10.7s\n",
      "604:\tlearn: 1460.7483817\ttotal: 16.3s\tremaining: 10.7s\n",
      "605:\tlearn: 1460.6281756\ttotal: 16.4s\tremaining: 10.6s\n",
      "606:\tlearn: 1460.5519938\ttotal: 16.4s\tremaining: 10.6s\n",
      "607:\tlearn: 1460.3696522\ttotal: 16.4s\tremaining: 10.6s\n",
      "608:\tlearn: 1460.2336675\ttotal: 16.4s\tremaining: 10.6s\n",
      "609:\tlearn: 1460.1460956\ttotal: 16.5s\tremaining: 10.5s\n",
      "610:\tlearn: 1459.9517716\ttotal: 16.5s\tremaining: 10.5s\n",
      "611:\tlearn: 1459.7645367\ttotal: 16.5s\tremaining: 10.5s\n",
      "612:\tlearn: 1459.6813458\ttotal: 16.5s\tremaining: 10.4s\n",
      "613:\tlearn: 1459.5591839\ttotal: 16.6s\tremaining: 10.4s\n",
      "614:\tlearn: 1459.4123633\ttotal: 16.6s\tremaining: 10.4s\n"
     ]
    },
    {
     "name": "stdout",
     "output_type": "stream",
     "text": [
      "615:\tlearn: 1459.2876570\ttotal: 16.6s\tremaining: 10.4s\n",
      "616:\tlearn: 1459.1618771\ttotal: 16.6s\tremaining: 10.3s\n",
      "617:\tlearn: 1459.0254024\ttotal: 16.7s\tremaining: 10.3s\n",
      "618:\tlearn: 1458.9014869\ttotal: 16.7s\tremaining: 10.3s\n",
      "619:\tlearn: 1458.8273152\ttotal: 16.7s\tremaining: 10.3s\n",
      "620:\tlearn: 1458.6987968\ttotal: 16.8s\tremaining: 10.2s\n",
      "621:\tlearn: 1458.5443379\ttotal: 16.8s\tremaining: 10.2s\n",
      "622:\tlearn: 1458.4683009\ttotal: 16.8s\tremaining: 10.2s\n",
      "623:\tlearn: 1458.3229276\ttotal: 16.8s\tremaining: 10.1s\n",
      "624:\tlearn: 1458.2119703\ttotal: 16.9s\tremaining: 10.1s\n",
      "625:\tlearn: 1458.0559587\ttotal: 16.9s\tremaining: 10.1s\n",
      "626:\tlearn: 1457.9287367\ttotal: 16.9s\tremaining: 10.1s\n",
      "627:\tlearn: 1457.8407484\ttotal: 16.9s\tremaining: 10s\n",
      "628:\tlearn: 1457.6597287\ttotal: 17s\tremaining: 10s\n",
      "629:\tlearn: 1457.5369738\ttotal: 17s\tremaining: 9.98s\n",
      "630:\tlearn: 1457.3285757\ttotal: 17s\tremaining: 9.95s\n",
      "631:\tlearn: 1457.1742258\ttotal: 17s\tremaining: 9.92s\n",
      "632:\tlearn: 1457.0393228\ttotal: 17.1s\tremaining: 9.9s\n",
      "633:\tlearn: 1456.9354878\ttotal: 17.1s\tremaining: 9.87s\n",
      "634:\tlearn: 1456.7943988\ttotal: 17.1s\tremaining: 9.85s\n",
      "635:\tlearn: 1456.6375985\ttotal: 17.2s\tremaining: 9.82s\n",
      "636:\tlearn: 1456.4783254\ttotal: 17.2s\tremaining: 9.79s\n",
      "637:\tlearn: 1456.3073738\ttotal: 17.2s\tremaining: 9.77s\n",
      "638:\tlearn: 1456.1307102\ttotal: 17.2s\tremaining: 9.74s\n",
      "639:\tlearn: 1455.9619091\ttotal: 17.3s\tremaining: 9.72s\n",
      "640:\tlearn: 1455.8732875\ttotal: 17.3s\tremaining: 9.69s\n",
      "641:\tlearn: 1455.6767473\ttotal: 17.3s\tremaining: 9.67s\n",
      "642:\tlearn: 1455.5712056\ttotal: 17.4s\tremaining: 9.64s\n",
      "643:\tlearn: 1455.3852195\ttotal: 17.4s\tremaining: 9.62s\n",
      "644:\tlearn: 1455.2501006\ttotal: 17.4s\tremaining: 9.59s\n",
      "645:\tlearn: 1455.0880690\ttotal: 17.5s\tremaining: 9.57s\n",
      "646:\tlearn: 1454.8956170\ttotal: 17.5s\tremaining: 9.54s\n",
      "647:\tlearn: 1454.7688656\ttotal: 17.5s\tremaining: 9.52s\n",
      "648:\tlearn: 1454.6480764\ttotal: 17.5s\tremaining: 9.49s\n",
      "649:\tlearn: 1454.4766001\ttotal: 17.6s\tremaining: 9.46s\n",
      "650:\tlearn: 1454.3459850\ttotal: 17.6s\tremaining: 9.44s\n",
      "651:\tlearn: 1454.1983842\ttotal: 17.6s\tremaining: 9.41s\n",
      "652:\tlearn: 1454.0321417\ttotal: 17.7s\tremaining: 9.38s\n",
      "653:\tlearn: 1453.8528456\ttotal: 17.7s\tremaining: 9.36s\n",
      "654:\tlearn: 1453.7288556\ttotal: 17.7s\tremaining: 9.33s\n",
      "655:\tlearn: 1453.5939651\ttotal: 17.7s\tremaining: 9.31s\n",
      "656:\tlearn: 1453.4839529\ttotal: 17.8s\tremaining: 9.28s\n",
      "657:\tlearn: 1453.3546909\ttotal: 17.8s\tremaining: 9.26s\n",
      "658:\tlearn: 1453.2086467\ttotal: 17.8s\tremaining: 9.23s\n",
      "659:\tlearn: 1453.1404018\ttotal: 17.9s\tremaining: 9.2s\n",
      "660:\tlearn: 1453.0090367\ttotal: 17.9s\tremaining: 9.18s\n",
      "661:\tlearn: 1452.8694840\ttotal: 17.9s\tremaining: 9.15s\n",
      "662:\tlearn: 1452.7620641\ttotal: 18s\tremaining: 9.13s\n",
      "663:\tlearn: 1452.6397998\ttotal: 18s\tremaining: 9.1s\n",
      "664:\tlearn: 1452.5272971\ttotal: 18s\tremaining: 9.07s\n",
      "665:\tlearn: 1452.3421078\ttotal: 18s\tremaining: 9.05s\n",
      "666:\tlearn: 1452.1743704\ttotal: 18.1s\tremaining: 9.02s\n",
      "667:\tlearn: 1452.0396367\ttotal: 18.1s\tremaining: 8.99s\n",
      "668:\tlearn: 1451.9299460\ttotal: 18.1s\tremaining: 8.97s\n",
      "669:\tlearn: 1451.8324695\ttotal: 18.2s\tremaining: 8.94s\n",
      "670:\tlearn: 1451.6818128\ttotal: 18.2s\tremaining: 8.92s\n",
      "671:\tlearn: 1451.5496615\ttotal: 18.2s\tremaining: 8.89s\n",
      "672:\tlearn: 1451.3751182\ttotal: 18.2s\tremaining: 8.86s\n",
      "673:\tlearn: 1451.1760163\ttotal: 18.3s\tremaining: 8.84s\n",
      "674:\tlearn: 1451.0778261\ttotal: 18.3s\tremaining: 8.81s\n",
      "675:\tlearn: 1450.9286550\ttotal: 18.3s\tremaining: 8.78s\n",
      "676:\tlearn: 1450.8076209\ttotal: 18.3s\tremaining: 8.75s\n",
      "677:\tlearn: 1450.6196018\ttotal: 18.4s\tremaining: 8.73s\n",
      "678:\tlearn: 1450.4881801\ttotal: 18.4s\tremaining: 8.7s\n",
      "679:\tlearn: 1450.3578928\ttotal: 18.4s\tremaining: 8.67s\n",
      "680:\tlearn: 1450.2399197\ttotal: 18.5s\tremaining: 8.65s\n",
      "681:\tlearn: 1450.1054156\ttotal: 18.5s\tremaining: 8.62s\n",
      "682:\tlearn: 1449.9696762\ttotal: 18.5s\tremaining: 8.59s\n",
      "683:\tlearn: 1449.8625025\ttotal: 18.5s\tremaining: 8.56s\n",
      "684:\tlearn: 1449.8185359\ttotal: 18.6s\tremaining: 8.54s\n",
      "685:\tlearn: 1449.6721150\ttotal: 18.6s\tremaining: 8.51s\n",
      "686:\tlearn: 1449.5328527\ttotal: 18.6s\tremaining: 8.48s\n",
      "687:\tlearn: 1449.4313025\ttotal: 18.6s\tremaining: 8.45s\n",
      "688:\tlearn: 1449.2609173\ttotal: 18.7s\tremaining: 8.43s\n",
      "689:\tlearn: 1449.0966492\ttotal: 18.7s\tremaining: 8.4s\n",
      "690:\tlearn: 1448.9643400\ttotal: 18.7s\tremaining: 8.37s\n",
      "691:\tlearn: 1448.8592703\ttotal: 18.7s\tremaining: 8.34s\n",
      "692:\tlearn: 1448.7210092\ttotal: 18.8s\tremaining: 8.32s\n",
      "693:\tlearn: 1448.5369331\ttotal: 18.8s\tremaining: 8.29s\n",
      "694:\tlearn: 1448.3962697\ttotal: 18.8s\tremaining: 8.26s\n",
      "695:\tlearn: 1448.2671393\ttotal: 18.9s\tremaining: 8.24s\n",
      "696:\tlearn: 1448.1238131\ttotal: 18.9s\tremaining: 8.21s\n",
      "697:\tlearn: 1447.9785749\ttotal: 18.9s\tremaining: 8.18s\n",
      "698:\tlearn: 1447.8575244\ttotal: 18.9s\tremaining: 8.15s\n",
      "699:\tlearn: 1447.6943451\ttotal: 19s\tremaining: 8.13s\n",
      "700:\tlearn: 1447.6385377\ttotal: 19s\tremaining: 8.1s\n",
      "701:\tlearn: 1447.5125829\ttotal: 19s\tremaining: 8.07s\n",
      "702:\tlearn: 1447.3841730\ttotal: 19s\tremaining: 8.04s\n",
      "703:\tlearn: 1447.2396910\ttotal: 19.1s\tremaining: 8.02s\n",
      "704:\tlearn: 1447.1238023\ttotal: 19.1s\tremaining: 7.99s\n",
      "705:\tlearn: 1447.0625650\ttotal: 19.1s\tremaining: 7.96s\n",
      "706:\tlearn: 1446.8705295\ttotal: 19.1s\tremaining: 7.93s\n",
      "707:\tlearn: 1446.7968529\ttotal: 19.2s\tremaining: 7.91s\n",
      "708:\tlearn: 1446.6658697\ttotal: 19.2s\tremaining: 7.88s\n",
      "709:\tlearn: 1446.5380405\ttotal: 19.2s\tremaining: 7.85s\n",
      "710:\tlearn: 1446.3715496\ttotal: 19.3s\tremaining: 7.83s\n",
      "711:\tlearn: 1446.2867424\ttotal: 19.3s\tremaining: 7.8s\n",
      "712:\tlearn: 1446.1504012\ttotal: 19.3s\tremaining: 7.77s\n",
      "713:\tlearn: 1446.0143947\ttotal: 19.3s\tremaining: 7.75s\n",
      "714:\tlearn: 1445.9327859\ttotal: 19.4s\tremaining: 7.72s\n",
      "715:\tlearn: 1445.7742896\ttotal: 19.4s\tremaining: 7.69s\n",
      "716:\tlearn: 1445.6293111\ttotal: 19.4s\tremaining: 7.66s\n",
      "717:\tlearn: 1445.4858992\ttotal: 19.4s\tremaining: 7.64s\n",
      "718:\tlearn: 1445.3793216\ttotal: 19.5s\tremaining: 7.61s\n",
      "719:\tlearn: 1445.2254631\ttotal: 19.5s\tremaining: 7.58s\n",
      "720:\tlearn: 1445.1588768\ttotal: 19.5s\tremaining: 7.56s\n",
      "721:\tlearn: 1445.1073302\ttotal: 19.6s\tremaining: 7.53s\n",
      "722:\tlearn: 1444.9687317\ttotal: 19.6s\tremaining: 7.5s\n",
      "723:\tlearn: 1444.7803878\ttotal: 19.6s\tremaining: 7.47s\n",
      "724:\tlearn: 1444.6796071\ttotal: 19.6s\tremaining: 7.45s\n",
      "725:\tlearn: 1444.5705405\ttotal: 19.7s\tremaining: 7.42s\n",
      "726:\tlearn: 1444.4671690\ttotal: 19.7s\tremaining: 7.39s\n",
      "727:\tlearn: 1444.3573673\ttotal: 19.7s\tremaining: 7.37s\n",
      "728:\tlearn: 1444.2229537\ttotal: 19.7s\tremaining: 7.34s\n",
      "729:\tlearn: 1444.0699695\ttotal: 19.8s\tremaining: 7.31s\n",
      "730:\tlearn: 1443.9445115\ttotal: 19.8s\tremaining: 7.29s\n",
      "731:\tlearn: 1443.8001842\ttotal: 19.8s\tremaining: 7.26s\n",
      "732:\tlearn: 1443.7116585\ttotal: 19.9s\tremaining: 7.23s\n",
      "733:\tlearn: 1443.6616823\ttotal: 19.9s\tremaining: 7.2s\n",
      "734:\tlearn: 1443.5659471\ttotal: 19.9s\tremaining: 7.18s\n",
      "735:\tlearn: 1443.4104789\ttotal: 19.9s\tremaining: 7.15s\n",
      "736:\tlearn: 1443.2511889\ttotal: 20s\tremaining: 7.12s\n",
      "737:\tlearn: 1443.1160973\ttotal: 20s\tremaining: 7.1s\n",
      "738:\tlearn: 1442.9634536\ttotal: 20s\tremaining: 7.07s\n",
      "739:\tlearn: 1442.8386678\ttotal: 20s\tremaining: 7.04s\n",
      "740:\tlearn: 1442.7331906\ttotal: 20.1s\tremaining: 7.02s\n",
      "741:\tlearn: 1442.5950885\ttotal: 20.1s\tremaining: 6.99s\n",
      "742:\tlearn: 1442.4461665\ttotal: 20.1s\tremaining: 6.96s\n",
      "743:\tlearn: 1442.3212800\ttotal: 20.2s\tremaining: 6.94s\n",
      "744:\tlearn: 1442.2259904\ttotal: 20.2s\tremaining: 6.91s\n",
      "745:\tlearn: 1442.1248928\ttotal: 20.2s\tremaining: 6.88s\n",
      "746:\tlearn: 1442.0556778\ttotal: 20.2s\tremaining: 6.86s\n",
      "747:\tlearn: 1441.9325944\ttotal: 20.3s\tremaining: 6.83s\n",
      "748:\tlearn: 1441.8048915\ttotal: 20.3s\tremaining: 6.8s\n",
      "749:\tlearn: 1441.6136586\ttotal: 20.3s\tremaining: 6.77s\n",
      "750:\tlearn: 1441.4700771\ttotal: 20.4s\tremaining: 6.75s\n",
      "751:\tlearn: 1441.3356205\ttotal: 20.4s\tremaining: 6.72s\n",
      "752:\tlearn: 1441.2106587\ttotal: 20.4s\tremaining: 6.69s\n",
      "753:\tlearn: 1441.0941066\ttotal: 20.4s\tremaining: 6.67s\n",
      "754:\tlearn: 1441.0044356\ttotal: 20.5s\tremaining: 6.64s\n",
      "755:\tlearn: 1440.9074266\ttotal: 20.5s\tremaining: 6.61s\n",
      "756:\tlearn: 1440.7865737\ttotal: 20.5s\tremaining: 6.59s\n",
      "757:\tlearn: 1440.6233752\ttotal: 20.5s\tremaining: 6.56s\n",
      "758:\tlearn: 1440.5004753\ttotal: 20.6s\tremaining: 6.53s\n",
      "759:\tlearn: 1440.3853270\ttotal: 20.6s\tremaining: 6.5s\n",
      "760:\tlearn: 1440.3039921\ttotal: 20.6s\tremaining: 6.48s\n",
      "761:\tlearn: 1440.1618462\ttotal: 20.6s\tremaining: 6.45s\n",
      "762:\tlearn: 1440.0202134\ttotal: 20.7s\tremaining: 6.42s\n",
      "763:\tlearn: 1439.8759147\ttotal: 20.7s\tremaining: 6.39s\n",
      "764:\tlearn: 1439.7555135\ttotal: 20.7s\tremaining: 6.37s\n",
      "765:\tlearn: 1439.6898990\ttotal: 20.8s\tremaining: 6.34s\n",
      "766:\tlearn: 1439.5380583\ttotal: 20.8s\tremaining: 6.31s\n",
      "767:\tlearn: 1439.4132560\ttotal: 20.8s\tremaining: 6.29s\n",
      "768:\tlearn: 1439.3084664\ttotal: 20.8s\tremaining: 6.26s\n",
      "769:\tlearn: 1439.2120475\ttotal: 20.9s\tremaining: 6.23s\n",
      "770:\tlearn: 1439.0727138\ttotal: 20.9s\tremaining: 6.2s\n",
      "771:\tlearn: 1438.9741041\ttotal: 20.9s\tremaining: 6.18s\n"
     ]
    },
    {
     "name": "stdout",
     "output_type": "stream",
     "text": [
      "772:\tlearn: 1438.8802734\ttotal: 20.9s\tremaining: 6.15s\n",
      "773:\tlearn: 1438.7970281\ttotal: 21s\tremaining: 6.12s\n",
      "774:\tlearn: 1438.6923192\ttotal: 21s\tremaining: 6.09s\n",
      "775:\tlearn: 1438.6129156\ttotal: 21s\tremaining: 6.07s\n",
      "776:\tlearn: 1438.5501446\ttotal: 21s\tremaining: 6.04s\n",
      "777:\tlearn: 1438.4390931\ttotal: 21.1s\tremaining: 6.01s\n",
      "778:\tlearn: 1438.2827746\ttotal: 21.1s\tremaining: 5.99s\n",
      "779:\tlearn: 1438.1605215\ttotal: 21.1s\tremaining: 5.96s\n",
      "780:\tlearn: 1438.0403111\ttotal: 21.2s\tremaining: 5.93s\n",
      "781:\tlearn: 1437.9367621\ttotal: 21.2s\tremaining: 5.91s\n",
      "782:\tlearn: 1437.8042491\ttotal: 21.2s\tremaining: 5.88s\n",
      "783:\tlearn: 1437.6834174\ttotal: 21.2s\tremaining: 5.85s\n",
      "784:\tlearn: 1437.5575032\ttotal: 21.3s\tremaining: 5.82s\n",
      "785:\tlearn: 1437.4569497\ttotal: 21.3s\tremaining: 5.8s\n",
      "786:\tlearn: 1437.3369179\ttotal: 21.3s\tremaining: 5.77s\n",
      "787:\tlearn: 1437.2279529\ttotal: 21.3s\tremaining: 5.74s\n",
      "788:\tlearn: 1437.1194058\ttotal: 21.4s\tremaining: 5.71s\n",
      "789:\tlearn: 1437.0226697\ttotal: 21.4s\tremaining: 5.69s\n",
      "790:\tlearn: 1436.9032544\ttotal: 21.4s\tremaining: 5.66s\n",
      "791:\tlearn: 1436.8443757\ttotal: 21.4s\tremaining: 5.63s\n",
      "792:\tlearn: 1436.7452055\ttotal: 21.5s\tremaining: 5.61s\n",
      "793:\tlearn: 1436.6333705\ttotal: 21.5s\tremaining: 5.58s\n",
      "794:\tlearn: 1436.5555411\ttotal: 21.5s\tremaining: 5.55s\n",
      "795:\tlearn: 1436.4539843\ttotal: 21.6s\tremaining: 5.52s\n",
      "796:\tlearn: 1436.3296314\ttotal: 21.6s\tremaining: 5.5s\n",
      "797:\tlearn: 1436.2361508\ttotal: 21.6s\tremaining: 5.47s\n",
      "798:\tlearn: 1436.1081354\ttotal: 21.6s\tremaining: 5.44s\n",
      "799:\tlearn: 1435.9969161\ttotal: 21.7s\tremaining: 5.42s\n",
      "800:\tlearn: 1435.8943105\ttotal: 21.7s\tremaining: 5.39s\n",
      "801:\tlearn: 1435.7802484\ttotal: 21.7s\tremaining: 5.36s\n",
      "802:\tlearn: 1435.6577811\ttotal: 21.7s\tremaining: 5.33s\n",
      "803:\tlearn: 1435.5729447\ttotal: 21.8s\tremaining: 5.31s\n",
      "804:\tlearn: 1435.4502414\ttotal: 21.8s\tremaining: 5.28s\n",
      "805:\tlearn: 1435.3626185\ttotal: 21.8s\tremaining: 5.25s\n",
      "806:\tlearn: 1435.2596798\ttotal: 21.8s\tremaining: 5.22s\n",
      "807:\tlearn: 1435.1467905\ttotal: 21.9s\tremaining: 5.2s\n",
      "808:\tlearn: 1435.0449028\ttotal: 21.9s\tremaining: 5.17s\n",
      "809:\tlearn: 1434.9318016\ttotal: 21.9s\tremaining: 5.14s\n",
      "810:\tlearn: 1434.8231588\ttotal: 22s\tremaining: 5.12s\n",
      "811:\tlearn: 1434.7086672\ttotal: 22s\tremaining: 5.09s\n",
      "812:\tlearn: 1434.6260378\ttotal: 22s\tremaining: 5.06s\n",
      "813:\tlearn: 1434.5315990\ttotal: 22s\tremaining: 5.04s\n",
      "814:\tlearn: 1434.4232082\ttotal: 22.1s\tremaining: 5.01s\n",
      "815:\tlearn: 1434.3023654\ttotal: 22.1s\tremaining: 4.98s\n",
      "816:\tlearn: 1434.2147906\ttotal: 22.1s\tremaining: 4.95s\n",
      "817:\tlearn: 1434.1666931\ttotal: 22.1s\tremaining: 4.93s\n",
      "818:\tlearn: 1434.0662216\ttotal: 22.2s\tremaining: 4.9s\n",
      "819:\tlearn: 1434.0022038\ttotal: 22.2s\tremaining: 4.87s\n",
      "820:\tlearn: 1433.8953470\ttotal: 22.2s\tremaining: 4.84s\n",
      "821:\tlearn: 1433.7242410\ttotal: 22.3s\tremaining: 4.82s\n",
      "822:\tlearn: 1433.6073055\ttotal: 22.3s\tremaining: 4.79s\n",
      "823:\tlearn: 1433.4573649\ttotal: 22.3s\tremaining: 4.76s\n",
      "824:\tlearn: 1433.3523951\ttotal: 22.3s\tremaining: 4.74s\n",
      "825:\tlearn: 1433.2838498\ttotal: 22.4s\tremaining: 4.71s\n",
      "826:\tlearn: 1433.1345893\ttotal: 22.4s\tremaining: 4.68s\n",
      "827:\tlearn: 1433.0277431\ttotal: 22.4s\tremaining: 4.66s\n",
      "828:\tlearn: 1432.8994088\ttotal: 22.4s\tremaining: 4.63s\n",
      "829:\tlearn: 1432.7974081\ttotal: 22.5s\tremaining: 4.6s\n",
      "830:\tlearn: 1432.6429521\ttotal: 22.5s\tremaining: 4.58s\n",
      "831:\tlearn: 1432.5046478\ttotal: 22.5s\tremaining: 4.55s\n",
      "832:\tlearn: 1432.4006033\ttotal: 22.6s\tremaining: 4.52s\n",
      "833:\tlearn: 1432.3204800\ttotal: 22.6s\tremaining: 4.49s\n",
      "834:\tlearn: 1432.2217061\ttotal: 22.6s\tremaining: 4.47s\n",
      "835:\tlearn: 1432.1114158\ttotal: 22.6s\tremaining: 4.44s\n",
      "836:\tlearn: 1432.0109302\ttotal: 22.7s\tremaining: 4.41s\n",
      "837:\tlearn: 1431.9235772\ttotal: 22.7s\tremaining: 4.38s\n",
      "838:\tlearn: 1431.8401532\ttotal: 22.7s\tremaining: 4.36s\n",
      "839:\tlearn: 1431.7291556\ttotal: 22.7s\tremaining: 4.33s\n",
      "840:\tlearn: 1431.6164040\ttotal: 22.8s\tremaining: 4.3s\n",
      "841:\tlearn: 1431.5480034\ttotal: 22.8s\tremaining: 4.28s\n",
      "842:\tlearn: 1431.4589845\ttotal: 22.8s\tremaining: 4.25s\n",
      "843:\tlearn: 1431.3567994\ttotal: 22.8s\tremaining: 4.22s\n",
      "844:\tlearn: 1431.2442340\ttotal: 22.9s\tremaining: 4.19s\n",
      "845:\tlearn: 1431.1260119\ttotal: 22.9s\tremaining: 4.17s\n",
      "846:\tlearn: 1431.0270541\ttotal: 22.9s\tremaining: 4.14s\n",
      "847:\tlearn: 1430.8966159\ttotal: 22.9s\tremaining: 4.11s\n",
      "848:\tlearn: 1430.8531227\ttotal: 23s\tremaining: 4.09s\n",
      "849:\tlearn: 1430.7414193\ttotal: 23s\tremaining: 4.06s\n",
      "850:\tlearn: 1430.6445360\ttotal: 23s\tremaining: 4.03s\n",
      "851:\tlearn: 1430.5694157\ttotal: 23.1s\tremaining: 4s\n",
      "852:\tlearn: 1430.4628678\ttotal: 23.1s\tremaining: 3.98s\n",
      "853:\tlearn: 1430.3380326\ttotal: 23.1s\tremaining: 3.95s\n",
      "854:\tlearn: 1430.2615693\ttotal: 23.1s\tremaining: 3.92s\n",
      "855:\tlearn: 1430.1507401\ttotal: 23.2s\tremaining: 3.9s\n",
      "856:\tlearn: 1430.0464579\ttotal: 23.2s\tremaining: 3.87s\n",
      "857:\tlearn: 1429.9721207\ttotal: 23.2s\tremaining: 3.84s\n",
      "858:\tlearn: 1429.8867278\ttotal: 23.2s\tremaining: 3.81s\n",
      "859:\tlearn: 1429.8016526\ttotal: 23.3s\tremaining: 3.79s\n",
      "860:\tlearn: 1429.6884313\ttotal: 23.3s\tremaining: 3.76s\n",
      "861:\tlearn: 1429.5903667\ttotal: 23.3s\tremaining: 3.73s\n",
      "862:\tlearn: 1429.5405023\ttotal: 23.3s\tremaining: 3.71s\n",
      "863:\tlearn: 1429.4561441\ttotal: 23.4s\tremaining: 3.68s\n",
      "864:\tlearn: 1429.3782694\ttotal: 23.4s\tremaining: 3.65s\n",
      "865:\tlearn: 1429.2312213\ttotal: 23.4s\tremaining: 3.62s\n",
      "866:\tlearn: 1429.1301375\ttotal: 23.5s\tremaining: 3.6s\n",
      "867:\tlearn: 1429.0345286\ttotal: 23.5s\tremaining: 3.57s\n",
      "868:\tlearn: 1428.9312541\ttotal: 23.5s\tremaining: 3.54s\n",
      "869:\tlearn: 1428.8678662\ttotal: 23.5s\tremaining: 3.52s\n",
      "870:\tlearn: 1428.7135614\ttotal: 23.6s\tremaining: 3.49s\n",
      "871:\tlearn: 1428.6301361\ttotal: 23.6s\tremaining: 3.46s\n",
      "872:\tlearn: 1428.5014261\ttotal: 23.6s\tremaining: 3.44s\n",
      "873:\tlearn: 1428.3842017\ttotal: 23.7s\tremaining: 3.41s\n",
      "874:\tlearn: 1428.2981683\ttotal: 23.7s\tremaining: 3.38s\n",
      "875:\tlearn: 1428.1594131\ttotal: 23.7s\tremaining: 3.35s\n",
      "876:\tlearn: 1428.0635147\ttotal: 23.7s\tremaining: 3.33s\n",
      "877:\tlearn: 1427.9958849\ttotal: 23.8s\tremaining: 3.3s\n",
      "878:\tlearn: 1427.9184828\ttotal: 23.8s\tremaining: 3.27s\n",
      "879:\tlearn: 1427.8443146\ttotal: 23.8s\tremaining: 3.25s\n",
      "880:\tlearn: 1427.7131358\ttotal: 23.8s\tremaining: 3.22s\n",
      "881:\tlearn: 1427.6516366\ttotal: 23.9s\tremaining: 3.19s\n",
      "882:\tlearn: 1427.5924208\ttotal: 23.9s\tremaining: 3.17s\n",
      "883:\tlearn: 1427.5142625\ttotal: 23.9s\tremaining: 3.14s\n",
      "884:\tlearn: 1427.4694997\ttotal: 23.9s\tremaining: 3.11s\n",
      "885:\tlearn: 1427.3631705\ttotal: 24s\tremaining: 3.08s\n",
      "886:\tlearn: 1427.3036997\ttotal: 24s\tremaining: 3.06s\n",
      "887:\tlearn: 1427.2254079\ttotal: 24s\tremaining: 3.03s\n",
      "888:\tlearn: 1427.1310714\ttotal: 24.1s\tremaining: 3s\n",
      "889:\tlearn: 1427.0202468\ttotal: 24.1s\tremaining: 2.98s\n",
      "890:\tlearn: 1426.9399394\ttotal: 24.1s\tremaining: 2.95s\n",
      "891:\tlearn: 1426.8876443\ttotal: 24.1s\tremaining: 2.92s\n",
      "892:\tlearn: 1426.7841406\ttotal: 24.2s\tremaining: 2.9s\n",
      "893:\tlearn: 1426.6973848\ttotal: 24.2s\tremaining: 2.87s\n",
      "894:\tlearn: 1426.5982904\ttotal: 24.2s\tremaining: 2.84s\n",
      "895:\tlearn: 1426.4700699\ttotal: 24.2s\tremaining: 2.81s\n",
      "896:\tlearn: 1426.3652108\ttotal: 24.3s\tremaining: 2.79s\n",
      "897:\tlearn: 1426.2590146\ttotal: 24.3s\tremaining: 2.76s\n",
      "898:\tlearn: 1426.1618769\ttotal: 24.3s\tremaining: 2.73s\n",
      "899:\tlearn: 1426.1044139\ttotal: 24.4s\tremaining: 2.71s\n",
      "900:\tlearn: 1425.9963795\ttotal: 24.4s\tremaining: 2.68s\n",
      "901:\tlearn: 1425.8613117\ttotal: 24.4s\tremaining: 2.65s\n",
      "902:\tlearn: 1425.7625599\ttotal: 24.4s\tremaining: 2.62s\n",
      "903:\tlearn: 1425.6549469\ttotal: 24.5s\tremaining: 2.6s\n",
      "904:\tlearn: 1425.5538512\ttotal: 24.5s\tremaining: 2.57s\n",
      "905:\tlearn: 1425.4026095\ttotal: 24.5s\tremaining: 2.54s\n",
      "906:\tlearn: 1425.3338389\ttotal: 24.5s\tremaining: 2.52s\n",
      "907:\tlearn: 1425.2185528\ttotal: 24.6s\tremaining: 2.49s\n",
      "908:\tlearn: 1425.1442404\ttotal: 24.6s\tremaining: 2.46s\n",
      "909:\tlearn: 1425.0486200\ttotal: 24.6s\tremaining: 2.43s\n",
      "910:\tlearn: 1424.9599964\ttotal: 24.6s\tremaining: 2.41s\n",
      "911:\tlearn: 1424.8898757\ttotal: 24.7s\tremaining: 2.38s\n",
      "912:\tlearn: 1424.7374958\ttotal: 24.7s\tremaining: 2.35s\n",
      "913:\tlearn: 1424.6632849\ttotal: 24.7s\tremaining: 2.33s\n",
      "914:\tlearn: 1424.6033826\ttotal: 24.8s\tremaining: 2.3s\n",
      "915:\tlearn: 1424.5227306\ttotal: 24.8s\tremaining: 2.27s\n",
      "916:\tlearn: 1424.4523806\ttotal: 24.8s\tremaining: 2.25s\n",
      "917:\tlearn: 1424.3582537\ttotal: 24.8s\tremaining: 2.22s\n",
      "918:\tlearn: 1424.2406734\ttotal: 24.9s\tremaining: 2.19s\n",
      "919:\tlearn: 1424.1840073\ttotal: 24.9s\tremaining: 2.16s\n",
      "920:\tlearn: 1424.0507849\ttotal: 24.9s\tremaining: 2.14s\n",
      "921:\tlearn: 1423.9537703\ttotal: 24.9s\tremaining: 2.11s\n",
      "922:\tlearn: 1423.9016240\ttotal: 25s\tremaining: 2.08s\n",
      "923:\tlearn: 1423.7824483\ttotal: 25s\tremaining: 2.06s\n",
      "924:\tlearn: 1423.7198501\ttotal: 25s\tremaining: 2.03s\n"
     ]
    },
    {
     "name": "stdout",
     "output_type": "stream",
     "text": [
      "925:\tlearn: 1423.6311309\ttotal: 25.1s\tremaining: 2s\n",
      "926:\tlearn: 1423.5558283\ttotal: 25.1s\tremaining: 1.98s\n",
      "927:\tlearn: 1423.4853602\ttotal: 25.1s\tremaining: 1.95s\n",
      "928:\tlearn: 1423.3788370\ttotal: 25.1s\tremaining: 1.92s\n",
      "929:\tlearn: 1423.2941901\ttotal: 25.2s\tremaining: 1.89s\n",
      "930:\tlearn: 1423.2180324\ttotal: 25.2s\tremaining: 1.87s\n",
      "931:\tlearn: 1423.1169404\ttotal: 25.2s\tremaining: 1.84s\n",
      "932:\tlearn: 1423.0035451\ttotal: 25.2s\tremaining: 1.81s\n",
      "933:\tlearn: 1422.9047142\ttotal: 25.3s\tremaining: 1.78s\n",
      "934:\tlearn: 1422.8484239\ttotal: 25.3s\tremaining: 1.76s\n",
      "935:\tlearn: 1422.7162897\ttotal: 25.3s\tremaining: 1.73s\n",
      "936:\tlearn: 1422.6664374\ttotal: 25.3s\tremaining: 1.7s\n",
      "937:\tlearn: 1422.5212855\ttotal: 25.4s\tremaining: 1.68s\n",
      "938:\tlearn: 1422.4586884\ttotal: 25.4s\tremaining: 1.65s\n",
      "939:\tlearn: 1422.3961458\ttotal: 25.4s\tremaining: 1.62s\n",
      "940:\tlearn: 1422.3409067\ttotal: 25.5s\tremaining: 1.59s\n",
      "941:\tlearn: 1422.2192315\ttotal: 25.5s\tremaining: 1.57s\n",
      "942:\tlearn: 1422.1349008\ttotal: 25.5s\tremaining: 1.54s\n",
      "943:\tlearn: 1422.0696765\ttotal: 25.5s\tremaining: 1.51s\n",
      "944:\tlearn: 1421.9746910\ttotal: 25.6s\tremaining: 1.49s\n",
      "945:\tlearn: 1421.8521221\ttotal: 25.6s\tremaining: 1.46s\n",
      "946:\tlearn: 1421.7707584\ttotal: 25.6s\tremaining: 1.43s\n",
      "947:\tlearn: 1421.6665853\ttotal: 25.6s\tremaining: 1.41s\n",
      "948:\tlearn: 1421.5691975\ttotal: 25.7s\tremaining: 1.38s\n",
      "949:\tlearn: 1421.4543868\ttotal: 25.7s\tremaining: 1.35s\n",
      "950:\tlearn: 1421.3332873\ttotal: 25.7s\tremaining: 1.32s\n",
      "951:\tlearn: 1421.2334168\ttotal: 25.7s\tremaining: 1.3s\n",
      "952:\tlearn: 1421.1506531\ttotal: 25.8s\tremaining: 1.27s\n",
      "953:\tlearn: 1421.0682448\ttotal: 25.8s\tremaining: 1.24s\n",
      "954:\tlearn: 1421.0003910\ttotal: 25.8s\tremaining: 1.22s\n",
      "955:\tlearn: 1420.8888997\ttotal: 25.9s\tremaining: 1.19s\n",
      "956:\tlearn: 1420.7778252\ttotal: 25.9s\tremaining: 1.16s\n",
      "957:\tlearn: 1420.6863772\ttotal: 25.9s\tremaining: 1.14s\n",
      "958:\tlearn: 1420.5810339\ttotal: 25.9s\tremaining: 1.11s\n",
      "959:\tlearn: 1420.5423001\ttotal: 26s\tremaining: 1.08s\n",
      "960:\tlearn: 1420.4459047\ttotal: 26s\tremaining: 1.05s\n",
      "961:\tlearn: 1420.4008660\ttotal: 26s\tremaining: 1.03s\n",
      "962:\tlearn: 1420.2712347\ttotal: 26s\tremaining: 1s\n",
      "963:\tlearn: 1420.2270600\ttotal: 26.1s\tremaining: 973ms\n",
      "964:\tlearn: 1420.1338171\ttotal: 26.1s\tremaining: 946ms\n",
      "965:\tlearn: 1420.0400470\ttotal: 26.1s\tremaining: 919ms\n",
      "966:\tlearn: 1419.9919169\ttotal: 26.1s\tremaining: 892ms\n",
      "967:\tlearn: 1419.9293007\ttotal: 26.2s\tremaining: 865ms\n",
      "968:\tlearn: 1419.8209719\ttotal: 26.2s\tremaining: 838ms\n",
      "969:\tlearn: 1419.7465876\ttotal: 26.2s\tremaining: 811ms\n",
      "970:\tlearn: 1419.6483467\ttotal: 26.2s\tremaining: 784ms\n",
      "971:\tlearn: 1419.5867882\ttotal: 26.3s\tremaining: 757ms\n",
      "972:\tlearn: 1419.5310106\ttotal: 26.3s\tremaining: 730ms\n",
      "973:\tlearn: 1419.4341878\ttotal: 26.3s\tremaining: 703ms\n",
      "974:\tlearn: 1419.3558525\ttotal: 26.4s\tremaining: 676ms\n",
      "975:\tlearn: 1419.2471915\ttotal: 26.4s\tremaining: 649ms\n",
      "976:\tlearn: 1419.1598282\ttotal: 26.4s\tremaining: 622ms\n",
      "977:\tlearn: 1419.0896235\ttotal: 26.4s\tremaining: 595ms\n",
      "978:\tlearn: 1418.9860299\ttotal: 26.5s\tremaining: 568ms\n",
      "979:\tlearn: 1418.9110475\ttotal: 26.5s\tremaining: 541ms\n",
      "980:\tlearn: 1418.8605715\ttotal: 26.5s\tremaining: 514ms\n",
      "981:\tlearn: 1418.7121895\ttotal: 26.5s\tremaining: 487ms\n",
      "982:\tlearn: 1418.6152429\ttotal: 26.6s\tremaining: 460ms\n",
      "983:\tlearn: 1418.4939165\ttotal: 26.6s\tremaining: 433ms\n",
      "984:\tlearn: 1418.4354278\ttotal: 26.6s\tremaining: 405ms\n",
      "985:\tlearn: 1418.3817812\ttotal: 26.7s\tremaining: 378ms\n",
      "986:\tlearn: 1418.2861654\ttotal: 26.7s\tremaining: 351ms\n",
      "987:\tlearn: 1418.1874062\ttotal: 26.7s\tremaining: 324ms\n",
      "988:\tlearn: 1418.0936144\ttotal: 26.7s\tremaining: 297ms\n",
      "989:\tlearn: 1418.0193499\ttotal: 26.8s\tremaining: 270ms\n",
      "990:\tlearn: 1417.9505090\ttotal: 26.8s\tremaining: 243ms\n",
      "991:\tlearn: 1417.8409721\ttotal: 26.8s\tremaining: 216ms\n",
      "992:\tlearn: 1417.7591261\ttotal: 26.8s\tremaining: 189ms\n",
      "993:\tlearn: 1417.6277070\ttotal: 26.9s\tremaining: 162ms\n",
      "994:\tlearn: 1417.5629814\ttotal: 26.9s\tremaining: 135ms\n",
      "995:\tlearn: 1417.4896554\ttotal: 26.9s\tremaining: 108ms\n",
      "996:\tlearn: 1417.4193660\ttotal: 26.9s\tremaining: 81.1ms\n",
      "997:\tlearn: 1417.3535371\ttotal: 27s\tremaining: 54ms\n",
      "998:\tlearn: 1417.2879983\ttotal: 27s\tremaining: 27ms\n",
      "999:\tlearn: 1417.1908961\ttotal: 27s\tremaining: 0us\n"
     ]
    }
   ],
   "source": [
    "fit_predict(cbreg2, name='cbreg2', importance_features=top_features)\n",
    "result_tbl = pd.concat([result_tbl, a], axis = 0) # добавление показателей в общую таблицу"
   ]
  },
  {
   "cell_type": "code",
   "execution_count": 72,
   "metadata": {},
   "outputs": [
    {
     "data": {
      "text/html": [
       "<div>\n",
       "<style scoped>\n",
       "    .dataframe tbody tr th:only-of-type {\n",
       "        vertical-align: middle;\n",
       "    }\n",
       "\n",
       "    .dataframe tbody tr th {\n",
       "        vertical-align: top;\n",
       "    }\n",
       "\n",
       "    .dataframe thead th {\n",
       "        text-align: right;\n",
       "    }\n",
       "</style>\n",
       "<table border=\"1\" class=\"dataframe\">\n",
       "  <thead>\n",
       "    <tr style=\"text-align: right;\">\n",
       "      <th></th>\n",
       "      <th>model_name</th>\n",
       "      <th>model</th>\n",
       "      <th>fit_time_sec</th>\n",
       "      <th>RMSE</th>\n",
       "      <th>importance_features</th>\n",
       "    </tr>\n",
       "  </thead>\n",
       "  <tbody>\n",
       "    <tr>\n",
       "      <th>0</th>\n",
       "      <td>lgbmreg</td>\n",
       "      <td>LGBMRegressor(random_state=123)</td>\n",
       "      <td>0.5</td>\n",
       "      <td>1418</td>\n",
       "      <td>all</td>\n",
       "    </tr>\n",
       "    <tr>\n",
       "      <th>0</th>\n",
       "      <td>lgbmreg2</td>\n",
       "      <td>LGBMRegressor(max_bin=255, num_iterations=1000...</td>\n",
       "      <td>3.3</td>\n",
       "      <td>1216</td>\n",
       "      <td>all</td>\n",
       "    </tr>\n",
       "    <tr>\n",
       "      <th>0</th>\n",
       "      <td>lgbmreg3</td>\n",
       "      <td>LGBMRegressor(max_bin=255, num_iterations=500,...</td>\n",
       "      <td>1.6</td>\n",
       "      <td>1279</td>\n",
       "      <td>all</td>\n",
       "    </tr>\n",
       "    <tr>\n",
       "      <th>0</th>\n",
       "      <td>lgbmreg2</td>\n",
       "      <td>LGBMRegressor(max_bin=255, num_iterations=1000...</td>\n",
       "      <td>3.0</td>\n",
       "      <td>1360</td>\n",
       "      <td>5</td>\n",
       "    </tr>\n",
       "    <tr>\n",
       "      <th>0</th>\n",
       "      <td>cbreg_cat</td>\n",
       "      <td>&lt;catboost.core.CatBoostRegressor object at 0x0...</td>\n",
       "      <td>105.8</td>\n",
       "      <td>1320</td>\n",
       "      <td>all</td>\n",
       "    </tr>\n",
       "    <tr>\n",
       "      <th>0</th>\n",
       "      <td>cbreg</td>\n",
       "      <td>&lt;catboost.core.CatBoostRegressor object at 0x0...</td>\n",
       "      <td>15.4</td>\n",
       "      <td>1319</td>\n",
       "      <td>all</td>\n",
       "    </tr>\n",
       "    <tr>\n",
       "      <th>0</th>\n",
       "      <td>cbreg2</td>\n",
       "      <td>&lt;catboost.core.CatBoostRegressor object at 0x0...</td>\n",
       "      <td>34.0</td>\n",
       "      <td>1282</td>\n",
       "      <td>all</td>\n",
       "    </tr>\n",
       "    <tr>\n",
       "      <th>0</th>\n",
       "      <td>cbreg3</td>\n",
       "      <td>&lt;catboost.core.CatBoostRegressor object at 0x0...</td>\n",
       "      <td>6.4</td>\n",
       "      <td>1508</td>\n",
       "      <td>all</td>\n",
       "    </tr>\n",
       "    <tr>\n",
       "      <th>0</th>\n",
       "      <td>cbreg2</td>\n",
       "      <td>&lt;catboost.core.CatBoostRegressor object at 0x0...</td>\n",
       "      <td>27.5</td>\n",
       "      <td>1417</td>\n",
       "      <td>6</td>\n",
       "    </tr>\n",
       "  </tbody>\n",
       "</table>\n",
       "</div>"
      ],
      "text/plain": [
       "  model_name                                              model  fit_time_sec  \\\n",
       "0    lgbmreg                    LGBMRegressor(random_state=123)           0.5   \n",
       "0   lgbmreg2  LGBMRegressor(max_bin=255, num_iterations=1000...           3.3   \n",
       "0   lgbmreg3  LGBMRegressor(max_bin=255, num_iterations=500,...           1.6   \n",
       "0   lgbmreg2  LGBMRegressor(max_bin=255, num_iterations=1000...           3.0   \n",
       "0  cbreg_cat  <catboost.core.CatBoostRegressor object at 0x0...         105.8   \n",
       "0      cbreg  <catboost.core.CatBoostRegressor object at 0x0...          15.4   \n",
       "0     cbreg2  <catboost.core.CatBoostRegressor object at 0x0...          34.0   \n",
       "0     cbreg3  <catboost.core.CatBoostRegressor object at 0x0...           6.4   \n",
       "0     cbreg2  <catboost.core.CatBoostRegressor object at 0x0...          27.5   \n",
       "\n",
       "   RMSE importance_features  \n",
       "0  1418                 all  \n",
       "0  1216                 all  \n",
       "0  1279                 all  \n",
       "0  1360                   5  \n",
       "0  1320                 all  \n",
       "0  1319                 all  \n",
       "0  1282                 all  \n",
       "0  1508                 all  \n",
       "0  1417                   6  "
      ]
     },
     "execution_count": 72,
     "metadata": {},
     "output_type": "execute_result"
    }
   ],
   "source": [
    "result_tbl"
   ]
  },
  {
   "cell_type": "markdown",
   "metadata": {},
   "source": [
    "**Вывод:**\n",
    "\n",
    "Модель CatBoostRegressor() обучается довольно медленно, если обрабатывать категориальные признаки внутри модели с помощью гиперпараметра *cat_features*. Если же категориальные признаки обработать заранее, скорость обучения модели увеличивается примерно в 10 раз. Время обучения модели составило 6-40 секунд.\n",
    "\n",
    "Корректировка гиперпараметров привела к значительному уменьшению времени обучения модели, но при этом увеличилась ошибка. \n",
    "\n",
    "Уменьшение количества признаков привело к незначительному уменьшению времени обучения модели и увеличению ошибки."
   ]
  },
  {
   "cell_type": "markdown",
   "metadata": {},
   "source": [
    "### XGBRegressor"
   ]
  },
  {
   "cell_type": "code",
   "execution_count": 73,
   "metadata": {},
   "outputs": [],
   "source": [
    "train_features, train_target, test_features, test_target = split_df(df_ordinal, 'price')"
   ]
  },
  {
   "cell_type": "code",
   "execution_count": 74,
   "metadata": {},
   "outputs": [],
   "source": [
    "xgbreg = XGBRegressor() "
   ]
  },
  {
   "cell_type": "code",
   "execution_count": 75,
   "metadata": {},
   "outputs": [
    {
     "data": {
      "text/html": [
       "<div>\n",
       "<style scoped>\n",
       "    .dataframe tbody tr th:only-of-type {\n",
       "        vertical-align: middle;\n",
       "    }\n",
       "\n",
       "    .dataframe tbody tr th {\n",
       "        vertical-align: top;\n",
       "    }\n",
       "\n",
       "    .dataframe thead th {\n",
       "        text-align: right;\n",
       "    }\n",
       "</style>\n",
       "<table border=\"1\" class=\"dataframe\">\n",
       "  <thead>\n",
       "    <tr style=\"text-align: right;\">\n",
       "      <th></th>\n",
       "      <th>model_name</th>\n",
       "      <th>model</th>\n",
       "      <th>fit_time_sec</th>\n",
       "      <th>RMSE</th>\n",
       "      <th>importance_features</th>\n",
       "    </tr>\n",
       "  </thead>\n",
       "  <tbody>\n",
       "    <tr>\n",
       "      <th>0</th>\n",
       "      <td>lgbmreg</td>\n",
       "      <td>LGBMRegressor(random_state=123)</td>\n",
       "      <td>0.5</td>\n",
       "      <td>1418</td>\n",
       "      <td>all</td>\n",
       "    </tr>\n",
       "    <tr>\n",
       "      <th>0</th>\n",
       "      <td>lgbmreg2</td>\n",
       "      <td>LGBMRegressor(max_bin=255, num_iterations=1000...</td>\n",
       "      <td>3.3</td>\n",
       "      <td>1216</td>\n",
       "      <td>all</td>\n",
       "    </tr>\n",
       "    <tr>\n",
       "      <th>0</th>\n",
       "      <td>lgbmreg3</td>\n",
       "      <td>LGBMRegressor(max_bin=255, num_iterations=500,...</td>\n",
       "      <td>1.6</td>\n",
       "      <td>1279</td>\n",
       "      <td>all</td>\n",
       "    </tr>\n",
       "    <tr>\n",
       "      <th>0</th>\n",
       "      <td>lgbmreg2</td>\n",
       "      <td>LGBMRegressor(max_bin=255, num_iterations=1000...</td>\n",
       "      <td>3.0</td>\n",
       "      <td>1360</td>\n",
       "      <td>5</td>\n",
       "    </tr>\n",
       "    <tr>\n",
       "      <th>0</th>\n",
       "      <td>cbreg_cat</td>\n",
       "      <td>&lt;catboost.core.CatBoostRegressor object at 0x0...</td>\n",
       "      <td>105.8</td>\n",
       "      <td>1320</td>\n",
       "      <td>all</td>\n",
       "    </tr>\n",
       "    <tr>\n",
       "      <th>0</th>\n",
       "      <td>cbreg</td>\n",
       "      <td>&lt;catboost.core.CatBoostRegressor object at 0x0...</td>\n",
       "      <td>15.4</td>\n",
       "      <td>1319</td>\n",
       "      <td>all</td>\n",
       "    </tr>\n",
       "    <tr>\n",
       "      <th>0</th>\n",
       "      <td>cbreg2</td>\n",
       "      <td>&lt;catboost.core.CatBoostRegressor object at 0x0...</td>\n",
       "      <td>34.0</td>\n",
       "      <td>1282</td>\n",
       "      <td>all</td>\n",
       "    </tr>\n",
       "    <tr>\n",
       "      <th>0</th>\n",
       "      <td>cbreg3</td>\n",
       "      <td>&lt;catboost.core.CatBoostRegressor object at 0x0...</td>\n",
       "      <td>6.4</td>\n",
       "      <td>1508</td>\n",
       "      <td>all</td>\n",
       "    </tr>\n",
       "    <tr>\n",
       "      <th>0</th>\n",
       "      <td>cbreg2</td>\n",
       "      <td>&lt;catboost.core.CatBoostRegressor object at 0x0...</td>\n",
       "      <td>27.5</td>\n",
       "      <td>1417</td>\n",
       "      <td>6</td>\n",
       "    </tr>\n",
       "    <tr>\n",
       "      <th>0</th>\n",
       "      <td>xgbreg</td>\n",
       "      <td>XGBRegressor(base_score=0.5, booster='gbtree',...</td>\n",
       "      <td>4.7</td>\n",
       "      <td>1301</td>\n",
       "      <td>all</td>\n",
       "    </tr>\n",
       "  </tbody>\n",
       "</table>\n",
       "</div>"
      ],
      "text/plain": [
       "  model_name                                              model  fit_time_sec  \\\n",
       "0    lgbmreg                    LGBMRegressor(random_state=123)           0.5   \n",
       "0   lgbmreg2  LGBMRegressor(max_bin=255, num_iterations=1000...           3.3   \n",
       "0   lgbmreg3  LGBMRegressor(max_bin=255, num_iterations=500,...           1.6   \n",
       "0   lgbmreg2  LGBMRegressor(max_bin=255, num_iterations=1000...           3.0   \n",
       "0  cbreg_cat  <catboost.core.CatBoostRegressor object at 0x0...         105.8   \n",
       "0      cbreg  <catboost.core.CatBoostRegressor object at 0x0...          15.4   \n",
       "0     cbreg2  <catboost.core.CatBoostRegressor object at 0x0...          34.0   \n",
       "0     cbreg3  <catboost.core.CatBoostRegressor object at 0x0...           6.4   \n",
       "0     cbreg2  <catboost.core.CatBoostRegressor object at 0x0...          27.5   \n",
       "0     xgbreg  XGBRegressor(base_score=0.5, booster='gbtree',...           4.7   \n",
       "\n",
       "   RMSE importance_features  \n",
       "0  1418                 all  \n",
       "0  1216                 all  \n",
       "0  1279                 all  \n",
       "0  1360                   5  \n",
       "0  1320                 all  \n",
       "0  1319                 all  \n",
       "0  1282                 all  \n",
       "0  1508                 all  \n",
       "0  1417                   6  \n",
       "0  1301                 all  "
      ]
     },
     "execution_count": 75,
     "metadata": {},
     "output_type": "execute_result"
    }
   ],
   "source": [
    "fit_predict(xgbreg, name='xgbreg')\n",
    "result_tbl = pd.concat([result_tbl, a], axis = 0) # добавление показателей в общую таблицу\n",
    "result_tbl"
   ]
  },
  {
   "cell_type": "code",
   "execution_count": 76,
   "metadata": {},
   "outputs": [
    {
     "name": "stdout",
     "output_type": "stream",
     "text": [
      "Гиперпараметры:  {'max_depth': 10}\n",
      "RMSE: 1387\n",
      "Wall time: 52.2 s\n"
     ]
    }
   ],
   "source": [
    "%%time\n",
    "best3 = grid_search(xgbreg, params={'max_depth': [3, 10, 15], 'random_state': [123]})"
   ]
  },
  {
   "cell_type": "code",
   "execution_count": 77,
   "metadata": {},
   "outputs": [],
   "source": [
    "xgbreg2 = XGBRegressor(**best3)"
   ]
  },
  {
   "cell_type": "code",
   "execution_count": 78,
   "metadata": {},
   "outputs": [
    {
     "data": {
      "text/html": [
       "<div>\n",
       "<style scoped>\n",
       "    .dataframe tbody tr th:only-of-type {\n",
       "        vertical-align: middle;\n",
       "    }\n",
       "\n",
       "    .dataframe tbody tr th {\n",
       "        vertical-align: top;\n",
       "    }\n",
       "\n",
       "    .dataframe thead th {\n",
       "        text-align: right;\n",
       "    }\n",
       "</style>\n",
       "<table border=\"1\" class=\"dataframe\">\n",
       "  <thead>\n",
       "    <tr style=\"text-align: right;\">\n",
       "      <th></th>\n",
       "      <th>model_name</th>\n",
       "      <th>model</th>\n",
       "      <th>fit_time_sec</th>\n",
       "      <th>RMSE</th>\n",
       "      <th>importance_features</th>\n",
       "    </tr>\n",
       "  </thead>\n",
       "  <tbody>\n",
       "    <tr>\n",
       "      <th>0</th>\n",
       "      <td>lgbmreg</td>\n",
       "      <td>LGBMRegressor(random_state=123)</td>\n",
       "      <td>0.5</td>\n",
       "      <td>1418</td>\n",
       "      <td>all</td>\n",
       "    </tr>\n",
       "    <tr>\n",
       "      <th>0</th>\n",
       "      <td>lgbmreg2</td>\n",
       "      <td>LGBMRegressor(max_bin=255, num_iterations=1000...</td>\n",
       "      <td>3.3</td>\n",
       "      <td>1216</td>\n",
       "      <td>all</td>\n",
       "    </tr>\n",
       "    <tr>\n",
       "      <th>0</th>\n",
       "      <td>lgbmreg3</td>\n",
       "      <td>LGBMRegressor(max_bin=255, num_iterations=500,...</td>\n",
       "      <td>1.6</td>\n",
       "      <td>1279</td>\n",
       "      <td>all</td>\n",
       "    </tr>\n",
       "    <tr>\n",
       "      <th>0</th>\n",
       "      <td>lgbmreg2</td>\n",
       "      <td>LGBMRegressor(max_bin=255, num_iterations=1000...</td>\n",
       "      <td>3.0</td>\n",
       "      <td>1360</td>\n",
       "      <td>5</td>\n",
       "    </tr>\n",
       "    <tr>\n",
       "      <th>0</th>\n",
       "      <td>cbreg_cat</td>\n",
       "      <td>&lt;catboost.core.CatBoostRegressor object at 0x0...</td>\n",
       "      <td>105.8</td>\n",
       "      <td>1320</td>\n",
       "      <td>all</td>\n",
       "    </tr>\n",
       "    <tr>\n",
       "      <th>0</th>\n",
       "      <td>cbreg</td>\n",
       "      <td>&lt;catboost.core.CatBoostRegressor object at 0x0...</td>\n",
       "      <td>15.4</td>\n",
       "      <td>1319</td>\n",
       "      <td>all</td>\n",
       "    </tr>\n",
       "    <tr>\n",
       "      <th>0</th>\n",
       "      <td>cbreg2</td>\n",
       "      <td>&lt;catboost.core.CatBoostRegressor object at 0x0...</td>\n",
       "      <td>34.0</td>\n",
       "      <td>1282</td>\n",
       "      <td>all</td>\n",
       "    </tr>\n",
       "    <tr>\n",
       "      <th>0</th>\n",
       "      <td>cbreg3</td>\n",
       "      <td>&lt;catboost.core.CatBoostRegressor object at 0x0...</td>\n",
       "      <td>6.4</td>\n",
       "      <td>1508</td>\n",
       "      <td>all</td>\n",
       "    </tr>\n",
       "    <tr>\n",
       "      <th>0</th>\n",
       "      <td>cbreg2</td>\n",
       "      <td>&lt;catboost.core.CatBoostRegressor object at 0x0...</td>\n",
       "      <td>27.5</td>\n",
       "      <td>1417</td>\n",
       "      <td>6</td>\n",
       "    </tr>\n",
       "    <tr>\n",
       "      <th>0</th>\n",
       "      <td>xgbreg</td>\n",
       "      <td>XGBRegressor(base_score=0.5, booster='gbtree',...</td>\n",
       "      <td>4.7</td>\n",
       "      <td>1301</td>\n",
       "      <td>all</td>\n",
       "    </tr>\n",
       "    <tr>\n",
       "      <th>0</th>\n",
       "      <td>xgbreg2</td>\n",
       "      <td>XGBRegressor(base_score=0.5, booster='gbtree',...</td>\n",
       "      <td>7.7</td>\n",
       "      <td>1033</td>\n",
       "      <td>all</td>\n",
       "    </tr>\n",
       "  </tbody>\n",
       "</table>\n",
       "</div>"
      ],
      "text/plain": [
       "  model_name                                              model  fit_time_sec  \\\n",
       "0    lgbmreg                    LGBMRegressor(random_state=123)           0.5   \n",
       "0   lgbmreg2  LGBMRegressor(max_bin=255, num_iterations=1000...           3.3   \n",
       "0   lgbmreg3  LGBMRegressor(max_bin=255, num_iterations=500,...           1.6   \n",
       "0   lgbmreg2  LGBMRegressor(max_bin=255, num_iterations=1000...           3.0   \n",
       "0  cbreg_cat  <catboost.core.CatBoostRegressor object at 0x0...         105.8   \n",
       "0      cbreg  <catboost.core.CatBoostRegressor object at 0x0...          15.4   \n",
       "0     cbreg2  <catboost.core.CatBoostRegressor object at 0x0...          34.0   \n",
       "0     cbreg3  <catboost.core.CatBoostRegressor object at 0x0...           6.4   \n",
       "0     cbreg2  <catboost.core.CatBoostRegressor object at 0x0...          27.5   \n",
       "0     xgbreg  XGBRegressor(base_score=0.5, booster='gbtree',...           4.7   \n",
       "0    xgbreg2  XGBRegressor(base_score=0.5, booster='gbtree',...           7.7   \n",
       "\n",
       "   RMSE importance_features  \n",
       "0  1418                 all  \n",
       "0  1216                 all  \n",
       "0  1279                 all  \n",
       "0  1360                   5  \n",
       "0  1320                 all  \n",
       "0  1319                 all  \n",
       "0  1282                 all  \n",
       "0  1508                 all  \n",
       "0  1417                   6  \n",
       "0  1301                 all  \n",
       "0  1033                 all  "
      ]
     },
     "execution_count": 78,
     "metadata": {},
     "output_type": "execute_result"
    }
   ],
   "source": [
    "fit_predict(xgbreg2, name='xgbreg2')\n",
    "result_tbl = pd.concat([result_tbl, a], axis = 0) # добавление показателей в общую таблицу\n",
    "result_tbl"
   ]
  },
  {
   "cell_type": "markdown",
   "metadata": {},
   "source": [
    "Уменьшим значение гиперпараметра *max_depth*."
   ]
  },
  {
   "cell_type": "code",
   "execution_count": 79,
   "metadata": {},
   "outputs": [],
   "source": [
    "xgbreg3 = XGBRegressor(max_depth=3, random_state=123)"
   ]
  },
  {
   "cell_type": "code",
   "execution_count": 80,
   "metadata": {},
   "outputs": [
    {
     "data": {
      "text/html": [
       "<div>\n",
       "<style scoped>\n",
       "    .dataframe tbody tr th:only-of-type {\n",
       "        vertical-align: middle;\n",
       "    }\n",
       "\n",
       "    .dataframe tbody tr th {\n",
       "        vertical-align: top;\n",
       "    }\n",
       "\n",
       "    .dataframe thead th {\n",
       "        text-align: right;\n",
       "    }\n",
       "</style>\n",
       "<table border=\"1\" class=\"dataframe\">\n",
       "  <thead>\n",
       "    <tr style=\"text-align: right;\">\n",
       "      <th></th>\n",
       "      <th>model_name</th>\n",
       "      <th>model</th>\n",
       "      <th>fit_time_sec</th>\n",
       "      <th>RMSE</th>\n",
       "      <th>importance_features</th>\n",
       "    </tr>\n",
       "  </thead>\n",
       "  <tbody>\n",
       "    <tr>\n",
       "      <th>0</th>\n",
       "      <td>lgbmreg</td>\n",
       "      <td>LGBMRegressor(random_state=123)</td>\n",
       "      <td>0.5</td>\n",
       "      <td>1418</td>\n",
       "      <td>all</td>\n",
       "    </tr>\n",
       "    <tr>\n",
       "      <th>0</th>\n",
       "      <td>lgbmreg2</td>\n",
       "      <td>LGBMRegressor(max_bin=255, num_iterations=1000...</td>\n",
       "      <td>3.3</td>\n",
       "      <td>1216</td>\n",
       "      <td>all</td>\n",
       "    </tr>\n",
       "    <tr>\n",
       "      <th>0</th>\n",
       "      <td>lgbmreg3</td>\n",
       "      <td>LGBMRegressor(max_bin=255, num_iterations=500,...</td>\n",
       "      <td>1.6</td>\n",
       "      <td>1279</td>\n",
       "      <td>all</td>\n",
       "    </tr>\n",
       "    <tr>\n",
       "      <th>0</th>\n",
       "      <td>lgbmreg2</td>\n",
       "      <td>LGBMRegressor(max_bin=255, num_iterations=1000...</td>\n",
       "      <td>3.0</td>\n",
       "      <td>1360</td>\n",
       "      <td>5</td>\n",
       "    </tr>\n",
       "    <tr>\n",
       "      <th>0</th>\n",
       "      <td>cbreg_cat</td>\n",
       "      <td>&lt;catboost.core.CatBoostRegressor object at 0x0...</td>\n",
       "      <td>105.8</td>\n",
       "      <td>1320</td>\n",
       "      <td>all</td>\n",
       "    </tr>\n",
       "    <tr>\n",
       "      <th>0</th>\n",
       "      <td>cbreg</td>\n",
       "      <td>&lt;catboost.core.CatBoostRegressor object at 0x0...</td>\n",
       "      <td>15.4</td>\n",
       "      <td>1319</td>\n",
       "      <td>all</td>\n",
       "    </tr>\n",
       "    <tr>\n",
       "      <th>0</th>\n",
       "      <td>cbreg2</td>\n",
       "      <td>&lt;catboost.core.CatBoostRegressor object at 0x0...</td>\n",
       "      <td>34.0</td>\n",
       "      <td>1282</td>\n",
       "      <td>all</td>\n",
       "    </tr>\n",
       "    <tr>\n",
       "      <th>0</th>\n",
       "      <td>cbreg3</td>\n",
       "      <td>&lt;catboost.core.CatBoostRegressor object at 0x0...</td>\n",
       "      <td>6.4</td>\n",
       "      <td>1508</td>\n",
       "      <td>all</td>\n",
       "    </tr>\n",
       "    <tr>\n",
       "      <th>0</th>\n",
       "      <td>cbreg2</td>\n",
       "      <td>&lt;catboost.core.CatBoostRegressor object at 0x0...</td>\n",
       "      <td>27.5</td>\n",
       "      <td>1417</td>\n",
       "      <td>6</td>\n",
       "    </tr>\n",
       "    <tr>\n",
       "      <th>0</th>\n",
       "      <td>xgbreg</td>\n",
       "      <td>XGBRegressor(base_score=0.5, booster='gbtree',...</td>\n",
       "      <td>4.7</td>\n",
       "      <td>1301</td>\n",
       "      <td>all</td>\n",
       "    </tr>\n",
       "    <tr>\n",
       "      <th>0</th>\n",
       "      <td>xgbreg2</td>\n",
       "      <td>XGBRegressor(base_score=0.5, booster='gbtree',...</td>\n",
       "      <td>7.7</td>\n",
       "      <td>1033</td>\n",
       "      <td>all</td>\n",
       "    </tr>\n",
       "    <tr>\n",
       "      <th>0</th>\n",
       "      <td>xgbreg3</td>\n",
       "      <td>XGBRegressor(base_score=0.5, booster='gbtree',...</td>\n",
       "      <td>2.1</td>\n",
       "      <td>1505</td>\n",
       "      <td>all</td>\n",
       "    </tr>\n",
       "  </tbody>\n",
       "</table>\n",
       "</div>"
      ],
      "text/plain": [
       "  model_name                                              model  fit_time_sec  \\\n",
       "0    lgbmreg                    LGBMRegressor(random_state=123)           0.5   \n",
       "0   lgbmreg2  LGBMRegressor(max_bin=255, num_iterations=1000...           3.3   \n",
       "0   lgbmreg3  LGBMRegressor(max_bin=255, num_iterations=500,...           1.6   \n",
       "0   lgbmreg2  LGBMRegressor(max_bin=255, num_iterations=1000...           3.0   \n",
       "0  cbreg_cat  <catboost.core.CatBoostRegressor object at 0x0...         105.8   \n",
       "0      cbreg  <catboost.core.CatBoostRegressor object at 0x0...          15.4   \n",
       "0     cbreg2  <catboost.core.CatBoostRegressor object at 0x0...          34.0   \n",
       "0     cbreg3  <catboost.core.CatBoostRegressor object at 0x0...           6.4   \n",
       "0     cbreg2  <catboost.core.CatBoostRegressor object at 0x0...          27.5   \n",
       "0     xgbreg  XGBRegressor(base_score=0.5, booster='gbtree',...           4.7   \n",
       "0    xgbreg2  XGBRegressor(base_score=0.5, booster='gbtree',...           7.7   \n",
       "0    xgbreg3  XGBRegressor(base_score=0.5, booster='gbtree',...           2.1   \n",
       "\n",
       "   RMSE importance_features  \n",
       "0  1418                 all  \n",
       "0  1216                 all  \n",
       "0  1279                 all  \n",
       "0  1360                   5  \n",
       "0  1320                 all  \n",
       "0  1319                 all  \n",
       "0  1282                 all  \n",
       "0  1508                 all  \n",
       "0  1417                   6  \n",
       "0  1301                 all  \n",
       "0  1033                 all  \n",
       "0  1505                 all  "
      ]
     },
     "execution_count": 80,
     "metadata": {},
     "output_type": "execute_result"
    }
   ],
   "source": [
    "fit_predict(xgbreg3, name='xgbreg3')\n",
    "result_tbl = pd.concat([result_tbl, a], axis = 0) # добавление показателей в общую таблицу\n",
    "result_tbl"
   ]
  },
  {
   "cell_type": "markdown",
   "metadata": {},
   "source": [
    "Посмотрим на перечень важных признаков."
   ]
  },
  {
   "cell_type": "code",
   "execution_count": 81,
   "metadata": {},
   "outputs": [
    {
     "data": {
      "image/png": "[encoded data removed]",
      "text/plain": [
       "<Figure size 432x288 with 1 Axes>"
      ]
     },
     "metadata": {
      "needs_background": "light"
     },
     "output_type": "display_data"
    }
   ],
   "source": [
    "xgb.plot_importance(xgbreg2); "
   ]
  },
  {
   "cell_type": "code",
   "execution_count": 82,
   "metadata": {},
   "outputs": [],
   "source": [
    "# функция для вывода таблицы с признаками в порядке убывания важности\n",
    "def xgb_feature_select(model):\n",
    "    feature_important = model.get_booster().get_score()\n",
    "\n",
    "    feature_imp = pd.DataFrame(columns=['value', 'feature'])\n",
    "    feature_imp['value'] = list(feature_important.values())\n",
    "    feature_imp['feature'] = list(feature_important.keys())\n",
    "    feature_imp = feature_imp.sort_values('value', ascending=False)\n",
    "    return feature_imp"
   ]
  },
  {
   "cell_type": "code",
   "execution_count": 83,
   "metadata": {},
   "outputs": [
    {
     "data": {
      "text/html": [
       "<div>\n",
       "<style scoped>\n",
       "    .dataframe tbody tr th:only-of-type {\n",
       "        vertical-align: middle;\n",
       "    }\n",
       "\n",
       "    .dataframe tbody tr th {\n",
       "        vertical-align: top;\n",
       "    }\n",
       "\n",
       "    .dataframe thead th {\n",
       "        text-align: right;\n",
       "    }\n",
       "</style>\n",
       "<table border=\"1\" class=\"dataframe\">\n",
       "  <thead>\n",
       "    <tr style=\"text-align: right;\">\n",
       "      <th></th>\n",
       "      <th>value</th>\n",
       "      <th>feature</th>\n",
       "    </tr>\n",
       "  </thead>\n",
       "  <tbody>\n",
       "    <tr>\n",
       "      <th>1</th>\n",
       "      <td>12918.0</td>\n",
       "      <td>registration_year</td>\n",
       "    </tr>\n",
       "    <tr>\n",
       "      <th>3</th>\n",
       "      <td>12518.0</td>\n",
       "      <td>power</td>\n",
       "    </tr>\n",
       "    <tr>\n",
       "      <th>4</th>\n",
       "      <td>7374.0</td>\n",
       "      <td>model</td>\n",
       "    </tr>\n",
       "    <tr>\n",
       "      <th>5</th>\n",
       "      <td>6830.0</td>\n",
       "      <td>kilometer</td>\n",
       "    </tr>\n",
       "    <tr>\n",
       "      <th>0</th>\n",
       "      <td>5870.0</td>\n",
       "      <td>vehicle_type</td>\n",
       "    </tr>\n",
       "    <tr>\n",
       "      <th>7</th>\n",
       "      <td>4723.0</td>\n",
       "      <td>brand</td>\n",
       "    </tr>\n",
       "    <tr>\n",
       "      <th>8</th>\n",
       "      <td>3528.0</td>\n",
       "      <td>not_repaired</td>\n",
       "    </tr>\n",
       "    <tr>\n",
       "      <th>2</th>\n",
       "      <td>2101.0</td>\n",
       "      <td>gearbox</td>\n",
       "    </tr>\n",
       "    <tr>\n",
       "      <th>6</th>\n",
       "      <td>1888.0</td>\n",
       "      <td>fuel_type</td>\n",
       "    </tr>\n",
       "    <tr>\n",
       "      <th>10</th>\n",
       "      <td>67.0</td>\n",
       "      <td>age</td>\n",
       "    </tr>\n",
       "    <tr>\n",
       "      <th>9</th>\n",
       "      <td>21.0</td>\n",
       "      <td>date_created</td>\n",
       "    </tr>\n",
       "  </tbody>\n",
       "</table>\n",
       "</div>"
      ],
      "text/plain": [
       "      value            feature\n",
       "1   12918.0  registration_year\n",
       "3   12518.0              power\n",
       "4    7374.0              model\n",
       "5    6830.0          kilometer\n",
       "0    5870.0       vehicle_type\n",
       "7    4723.0              brand\n",
       "8    3528.0       not_repaired\n",
       "2    2101.0            gearbox\n",
       "6    1888.0          fuel_type\n",
       "10     67.0                age\n",
       "9      21.0       date_created"
      ]
     },
     "execution_count": 83,
     "metadata": {},
     "output_type": "execute_result"
    }
   ],
   "source": [
    "feature_imp = xgb_feature_select(xgbreg2)\n",
    "feature_imp"
   ]
  },
  {
   "cell_type": "markdown",
   "metadata": {},
   "source": [
    "Обучим модель с использованием 5 самых важных признаков."
   ]
  },
  {
   "cell_type": "code",
   "execution_count": 84,
   "metadata": {},
   "outputs": [],
   "source": [
    "top_features = 5\n",
    "train_features = train_features[list(feature_imp['feature'][:top_features])]"
   ]
  },
  {
   "cell_type": "code",
   "execution_count": 85,
   "metadata": {},
   "outputs": [
    {
     "data": {
      "text/html": [
       "<div>\n",
       "<style scoped>\n",
       "    .dataframe tbody tr th:only-of-type {\n",
       "        vertical-align: middle;\n",
       "    }\n",
       "\n",
       "    .dataframe tbody tr th {\n",
       "        vertical-align: top;\n",
       "    }\n",
       "\n",
       "    .dataframe thead th {\n",
       "        text-align: right;\n",
       "    }\n",
       "</style>\n",
       "<table border=\"1\" class=\"dataframe\">\n",
       "  <thead>\n",
       "    <tr style=\"text-align: right;\">\n",
       "      <th></th>\n",
       "      <th>model_name</th>\n",
       "      <th>model</th>\n",
       "      <th>fit_time_sec</th>\n",
       "      <th>RMSE</th>\n",
       "      <th>importance_features</th>\n",
       "    </tr>\n",
       "  </thead>\n",
       "  <tbody>\n",
       "    <tr>\n",
       "      <th>0</th>\n",
       "      <td>lgbmreg</td>\n",
       "      <td>LGBMRegressor(random_state=123)</td>\n",
       "      <td>0.5</td>\n",
       "      <td>1418</td>\n",
       "      <td>all</td>\n",
       "    </tr>\n",
       "    <tr>\n",
       "      <th>0</th>\n",
       "      <td>lgbmreg2</td>\n",
       "      <td>LGBMRegressor(max_bin=255, num_iterations=1000...</td>\n",
       "      <td>3.3</td>\n",
       "      <td>1216</td>\n",
       "      <td>all</td>\n",
       "    </tr>\n",
       "    <tr>\n",
       "      <th>0</th>\n",
       "      <td>lgbmreg3</td>\n",
       "      <td>LGBMRegressor(max_bin=255, num_iterations=500,...</td>\n",
       "      <td>1.6</td>\n",
       "      <td>1279</td>\n",
       "      <td>all</td>\n",
       "    </tr>\n",
       "    <tr>\n",
       "      <th>0</th>\n",
       "      <td>lgbmreg2</td>\n",
       "      <td>LGBMRegressor(max_bin=255, num_iterations=1000...</td>\n",
       "      <td>3.0</td>\n",
       "      <td>1360</td>\n",
       "      <td>5</td>\n",
       "    </tr>\n",
       "    <tr>\n",
       "      <th>0</th>\n",
       "      <td>cbreg_cat</td>\n",
       "      <td>&lt;catboost.core.CatBoostRegressor object at 0x0...</td>\n",
       "      <td>105.8</td>\n",
       "      <td>1320</td>\n",
       "      <td>all</td>\n",
       "    </tr>\n",
       "    <tr>\n",
       "      <th>0</th>\n",
       "      <td>cbreg</td>\n",
       "      <td>&lt;catboost.core.CatBoostRegressor object at 0x0...</td>\n",
       "      <td>15.4</td>\n",
       "      <td>1319</td>\n",
       "      <td>all</td>\n",
       "    </tr>\n",
       "    <tr>\n",
       "      <th>0</th>\n",
       "      <td>cbreg2</td>\n",
       "      <td>&lt;catboost.core.CatBoostRegressor object at 0x0...</td>\n",
       "      <td>34.0</td>\n",
       "      <td>1282</td>\n",
       "      <td>all</td>\n",
       "    </tr>\n",
       "    <tr>\n",
       "      <th>0</th>\n",
       "      <td>cbreg3</td>\n",
       "      <td>&lt;catboost.core.CatBoostRegressor object at 0x0...</td>\n",
       "      <td>6.4</td>\n",
       "      <td>1508</td>\n",
       "      <td>all</td>\n",
       "    </tr>\n",
       "    <tr>\n",
       "      <th>0</th>\n",
       "      <td>cbreg2</td>\n",
       "      <td>&lt;catboost.core.CatBoostRegressor object at 0x0...</td>\n",
       "      <td>27.5</td>\n",
       "      <td>1417</td>\n",
       "      <td>6</td>\n",
       "    </tr>\n",
       "    <tr>\n",
       "      <th>0</th>\n",
       "      <td>xgbreg</td>\n",
       "      <td>XGBRegressor(base_score=0.5, booster='gbtree',...</td>\n",
       "      <td>4.7</td>\n",
       "      <td>1301</td>\n",
       "      <td>all</td>\n",
       "    </tr>\n",
       "    <tr>\n",
       "      <th>0</th>\n",
       "      <td>xgbreg2</td>\n",
       "      <td>XGBRegressor(base_score=0.5, booster='gbtree',...</td>\n",
       "      <td>7.7</td>\n",
       "      <td>1033</td>\n",
       "      <td>all</td>\n",
       "    </tr>\n",
       "    <tr>\n",
       "      <th>0</th>\n",
       "      <td>xgbreg3</td>\n",
       "      <td>XGBRegressor(base_score=0.5, booster='gbtree',...</td>\n",
       "      <td>2.1</td>\n",
       "      <td>1505</td>\n",
       "      <td>all</td>\n",
       "    </tr>\n",
       "    <tr>\n",
       "      <th>0</th>\n",
       "      <td>xgbreg2</td>\n",
       "      <td>XGBRegressor(base_score=0.5, booster='gbtree',...</td>\n",
       "      <td>5.6</td>\n",
       "      <td>1162</td>\n",
       "      <td>5</td>\n",
       "    </tr>\n",
       "  </tbody>\n",
       "</table>\n",
       "</div>"
      ],
      "text/plain": [
       "  model_name                                              model  fit_time_sec  \\\n",
       "0    lgbmreg                    LGBMRegressor(random_state=123)           0.5   \n",
       "0   lgbmreg2  LGBMRegressor(max_bin=255, num_iterations=1000...           3.3   \n",
       "0   lgbmreg3  LGBMRegressor(max_bin=255, num_iterations=500,...           1.6   \n",
       "0   lgbmreg2  LGBMRegressor(max_bin=255, num_iterations=1000...           3.0   \n",
       "0  cbreg_cat  <catboost.core.CatBoostRegressor object at 0x0...         105.8   \n",
       "0      cbreg  <catboost.core.CatBoostRegressor object at 0x0...          15.4   \n",
       "0     cbreg2  <catboost.core.CatBoostRegressor object at 0x0...          34.0   \n",
       "0     cbreg3  <catboost.core.CatBoostRegressor object at 0x0...           6.4   \n",
       "0     cbreg2  <catboost.core.CatBoostRegressor object at 0x0...          27.5   \n",
       "0     xgbreg  XGBRegressor(base_score=0.5, booster='gbtree',...           4.7   \n",
       "0    xgbreg2  XGBRegressor(base_score=0.5, booster='gbtree',...           7.7   \n",
       "0    xgbreg3  XGBRegressor(base_score=0.5, booster='gbtree',...           2.1   \n",
       "0    xgbreg2  XGBRegressor(base_score=0.5, booster='gbtree',...           5.6   \n",
       "\n",
       "   RMSE importance_features  \n",
       "0  1418                 all  \n",
       "0  1216                 all  \n",
       "0  1279                 all  \n",
       "0  1360                   5  \n",
       "0  1320                 all  \n",
       "0  1319                 all  \n",
       "0  1282                 all  \n",
       "0  1508                 all  \n",
       "0  1417                   6  \n",
       "0  1301                 all  \n",
       "0  1033                 all  \n",
       "0  1505                 all  \n",
       "0  1162                   5  "
      ]
     },
     "execution_count": 85,
     "metadata": {},
     "output_type": "execute_result"
    }
   ],
   "source": [
    "fit_predict(xgbreg2, name='xgbreg2', importance_features=top_features)\n",
    "result_tbl = pd.concat([result_tbl, a], axis = 0) # добавление показателей в общую таблицу\n",
    "result_tbl"
   ]
  },
  {
   "cell_type": "markdown",
   "metadata": {},
   "source": [
    "**Вывод:**\n",
    "\n",
    "Модель XGBRegressor() показала наименьшее значение ошибки RMSE среди других моделей, которые были исследованы выше.\n",
    "\n",
    "Корректировка гиперпараметров привела к уменьшению времени обучения модели (примерно в 3 раза), но при этом значительно увеличилась ошибка. \n",
    "\n",
    "Уменьшение количества признаков привело к уменьшению времени обучения модели, но при этом ошибка увеличилась."
   ]
  },
  {
   "cell_type": "markdown",
   "metadata": {},
   "source": [
    "### LinearRegression"
   ]
  },
  {
   "cell_type": "code",
   "execution_count": 86,
   "metadata": {},
   "outputs": [],
   "source": [
    "train_features, train_target, test_features, test_target = split_df(df_ohe, 'price')"
   ]
  },
  {
   "cell_type": "code",
   "execution_count": 87,
   "metadata": {},
   "outputs": [],
   "source": [
    "linear = LinearRegression()"
   ]
  },
  {
   "cell_type": "code",
   "execution_count": 88,
   "metadata": {},
   "outputs": [
    {
     "data": {
      "text/html": [
       "<div>\n",
       "<style scoped>\n",
       "    .dataframe tbody tr th:only-of-type {\n",
       "        vertical-align: middle;\n",
       "    }\n",
       "\n",
       "    .dataframe tbody tr th {\n",
       "        vertical-align: top;\n",
       "    }\n",
       "\n",
       "    .dataframe thead th {\n",
       "        text-align: right;\n",
       "    }\n",
       "</style>\n",
       "<table border=\"1\" class=\"dataframe\">\n",
       "  <thead>\n",
       "    <tr style=\"text-align: right;\">\n",
       "      <th></th>\n",
       "      <th>model_name</th>\n",
       "      <th>model</th>\n",
       "      <th>fit_time_sec</th>\n",
       "      <th>RMSE</th>\n",
       "      <th>importance_features</th>\n",
       "    </tr>\n",
       "  </thead>\n",
       "  <tbody>\n",
       "    <tr>\n",
       "      <th>0</th>\n",
       "      <td>lgbmreg</td>\n",
       "      <td>LGBMRegressor(random_state=123)</td>\n",
       "      <td>0.5</td>\n",
       "      <td>1418</td>\n",
       "      <td>all</td>\n",
       "    </tr>\n",
       "    <tr>\n",
       "      <th>0</th>\n",
       "      <td>lgbmreg2</td>\n",
       "      <td>LGBMRegressor(max_bin=255, num_iterations=1000...</td>\n",
       "      <td>3.3</td>\n",
       "      <td>1216</td>\n",
       "      <td>all</td>\n",
       "    </tr>\n",
       "    <tr>\n",
       "      <th>0</th>\n",
       "      <td>lgbmreg3</td>\n",
       "      <td>LGBMRegressor(max_bin=255, num_iterations=500,...</td>\n",
       "      <td>1.6</td>\n",
       "      <td>1279</td>\n",
       "      <td>all</td>\n",
       "    </tr>\n",
       "    <tr>\n",
       "      <th>0</th>\n",
       "      <td>lgbmreg2</td>\n",
       "      <td>LGBMRegressor(max_bin=255, num_iterations=1000...</td>\n",
       "      <td>3.0</td>\n",
       "      <td>1360</td>\n",
       "      <td>5</td>\n",
       "    </tr>\n",
       "    <tr>\n",
       "      <th>0</th>\n",
       "      <td>cbreg_cat</td>\n",
       "      <td>&lt;catboost.core.CatBoostRegressor object at 0x0...</td>\n",
       "      <td>105.8</td>\n",
       "      <td>1320</td>\n",
       "      <td>all</td>\n",
       "    </tr>\n",
       "    <tr>\n",
       "      <th>0</th>\n",
       "      <td>cbreg</td>\n",
       "      <td>&lt;catboost.core.CatBoostRegressor object at 0x0...</td>\n",
       "      <td>15.4</td>\n",
       "      <td>1319</td>\n",
       "      <td>all</td>\n",
       "    </tr>\n",
       "    <tr>\n",
       "      <th>0</th>\n",
       "      <td>cbreg2</td>\n",
       "      <td>&lt;catboost.core.CatBoostRegressor object at 0x0...</td>\n",
       "      <td>34.0</td>\n",
       "      <td>1282</td>\n",
       "      <td>all</td>\n",
       "    </tr>\n",
       "    <tr>\n",
       "      <th>0</th>\n",
       "      <td>cbreg3</td>\n",
       "      <td>&lt;catboost.core.CatBoostRegressor object at 0x0...</td>\n",
       "      <td>6.4</td>\n",
       "      <td>1508</td>\n",
       "      <td>all</td>\n",
       "    </tr>\n",
       "    <tr>\n",
       "      <th>0</th>\n",
       "      <td>cbreg2</td>\n",
       "      <td>&lt;catboost.core.CatBoostRegressor object at 0x0...</td>\n",
       "      <td>27.5</td>\n",
       "      <td>1417</td>\n",
       "      <td>6</td>\n",
       "    </tr>\n",
       "    <tr>\n",
       "      <th>0</th>\n",
       "      <td>xgbreg</td>\n",
       "      <td>XGBRegressor(base_score=0.5, booster='gbtree',...</td>\n",
       "      <td>4.7</td>\n",
       "      <td>1301</td>\n",
       "      <td>all</td>\n",
       "    </tr>\n",
       "    <tr>\n",
       "      <th>0</th>\n",
       "      <td>xgbreg2</td>\n",
       "      <td>XGBRegressor(base_score=0.5, booster='gbtree',...</td>\n",
       "      <td>7.7</td>\n",
       "      <td>1033</td>\n",
       "      <td>all</td>\n",
       "    </tr>\n",
       "    <tr>\n",
       "      <th>0</th>\n",
       "      <td>xgbreg3</td>\n",
       "      <td>XGBRegressor(base_score=0.5, booster='gbtree',...</td>\n",
       "      <td>2.1</td>\n",
       "      <td>1505</td>\n",
       "      <td>all</td>\n",
       "    </tr>\n",
       "    <tr>\n",
       "      <th>0</th>\n",
       "      <td>xgbreg2</td>\n",
       "      <td>XGBRegressor(base_score=0.5, booster='gbtree',...</td>\n",
       "      <td>5.6</td>\n",
       "      <td>1162</td>\n",
       "      <td>5</td>\n",
       "    </tr>\n",
       "    <tr>\n",
       "      <th>0</th>\n",
       "      <td>linear</td>\n",
       "      <td>LinearRegression()</td>\n",
       "      <td>3.7</td>\n",
       "      <td>2138</td>\n",
       "      <td>all</td>\n",
       "    </tr>\n",
       "  </tbody>\n",
       "</table>\n",
       "</div>"
      ],
      "text/plain": [
       "  model_name                                              model  fit_time_sec  \\\n",
       "0    lgbmreg                    LGBMRegressor(random_state=123)           0.5   \n",
       "0   lgbmreg2  LGBMRegressor(max_bin=255, num_iterations=1000...           3.3   \n",
       "0   lgbmreg3  LGBMRegressor(max_bin=255, num_iterations=500,...           1.6   \n",
       "0   lgbmreg2  LGBMRegressor(max_bin=255, num_iterations=1000...           3.0   \n",
       "0  cbreg_cat  <catboost.core.CatBoostRegressor object at 0x0...         105.8   \n",
       "0      cbreg  <catboost.core.CatBoostRegressor object at 0x0...          15.4   \n",
       "0     cbreg2  <catboost.core.CatBoostRegressor object at 0x0...          34.0   \n",
       "0     cbreg3  <catboost.core.CatBoostRegressor object at 0x0...           6.4   \n",
       "0     cbreg2  <catboost.core.CatBoostRegressor object at 0x0...          27.5   \n",
       "0     xgbreg  XGBRegressor(base_score=0.5, booster='gbtree',...           4.7   \n",
       "0    xgbreg2  XGBRegressor(base_score=0.5, booster='gbtree',...           7.7   \n",
       "0    xgbreg3  XGBRegressor(base_score=0.5, booster='gbtree',...           2.1   \n",
       "0    xgbreg2  XGBRegressor(base_score=0.5, booster='gbtree',...           5.6   \n",
       "0     linear                                 LinearRegression()           3.7   \n",
       "\n",
       "   RMSE importance_features  \n",
       "0  1418                 all  \n",
       "0  1216                 all  \n",
       "0  1279                 all  \n",
       "0  1360                   5  \n",
       "0  1320                 all  \n",
       "0  1319                 all  \n",
       "0  1282                 all  \n",
       "0  1508                 all  \n",
       "0  1417                   6  \n",
       "0  1301                 all  \n",
       "0  1033                 all  \n",
       "0  1505                 all  \n",
       "0  1162                   5  \n",
       "0  2138                 all  "
      ]
     },
     "execution_count": 88,
     "metadata": {},
     "output_type": "execute_result"
    }
   ],
   "source": [
    "fit_predict(linear, name='linear')\n",
    "result_tbl = pd.concat([result_tbl, a], axis = 0) # добавление показателей в общую таблицу\n",
    "result_tbl"
   ]
  },
  {
   "cell_type": "markdown",
   "metadata": {},
   "source": [
    "**Вывод:**\n",
    "\n",
    "Модель линейной регрессии показала более высокую ошибку, чем модели градиентного бустинга. "
   ]
  },
  {
   "cell_type": "markdown",
   "metadata": {},
   "source": [
    "## Анализ моделей"
   ]
  },
  {
   "cell_type": "markdown",
   "metadata": {},
   "source": [
    "Отсортируем таблицу с результатами по величине ошибки RMSE. Посмотрим на соотношение времени выполнения и величины ошибки RMSE. Выберем три лучшие модели."
   ]
  },
  {
   "cell_type": "code",
   "execution_count": 89,
   "metadata": {},
   "outputs": [
    {
     "data": {
      "text/html": [
       "<div>\n",
       "<style scoped>\n",
       "    .dataframe tbody tr th:only-of-type {\n",
       "        vertical-align: middle;\n",
       "    }\n",
       "\n",
       "    .dataframe tbody tr th {\n",
       "        vertical-align: top;\n",
       "    }\n",
       "\n",
       "    .dataframe thead th {\n",
       "        text-align: right;\n",
       "    }\n",
       "</style>\n",
       "<table border=\"1\" class=\"dataframe\">\n",
       "  <thead>\n",
       "    <tr style=\"text-align: right;\">\n",
       "      <th></th>\n",
       "      <th>model_name</th>\n",
       "      <th>model</th>\n",
       "      <th>fit_time_sec</th>\n",
       "      <th>RMSE</th>\n",
       "      <th>importance_features</th>\n",
       "    </tr>\n",
       "  </thead>\n",
       "  <tbody>\n",
       "    <tr>\n",
       "      <th>0</th>\n",
       "      <td>xgbreg2</td>\n",
       "      <td>XGBRegressor(base_score=0.5, booster='gbtree',...</td>\n",
       "      <td>7.7</td>\n",
       "      <td>1033</td>\n",
       "      <td>all</td>\n",
       "    </tr>\n",
       "    <tr>\n",
       "      <th>0</th>\n",
       "      <td>xgbreg2</td>\n",
       "      <td>XGBRegressor(base_score=0.5, booster='gbtree',...</td>\n",
       "      <td>5.6</td>\n",
       "      <td>1162</td>\n",
       "      <td>5</td>\n",
       "    </tr>\n",
       "    <tr>\n",
       "      <th>0</th>\n",
       "      <td>lgbmreg2</td>\n",
       "      <td>LGBMRegressor(max_bin=255, num_iterations=1000...</td>\n",
       "      <td>3.3</td>\n",
       "      <td>1216</td>\n",
       "      <td>all</td>\n",
       "    </tr>\n",
       "    <tr>\n",
       "      <th>0</th>\n",
       "      <td>lgbmreg3</td>\n",
       "      <td>LGBMRegressor(max_bin=255, num_iterations=500,...</td>\n",
       "      <td>1.6</td>\n",
       "      <td>1279</td>\n",
       "      <td>all</td>\n",
       "    </tr>\n",
       "    <tr>\n",
       "      <th>0</th>\n",
       "      <td>cbreg2</td>\n",
       "      <td>&lt;catboost.core.CatBoostRegressor object at 0x0...</td>\n",
       "      <td>34.0</td>\n",
       "      <td>1282</td>\n",
       "      <td>all</td>\n",
       "    </tr>\n",
       "    <tr>\n",
       "      <th>0</th>\n",
       "      <td>xgbreg</td>\n",
       "      <td>XGBRegressor(base_score=0.5, booster='gbtree',...</td>\n",
       "      <td>4.7</td>\n",
       "      <td>1301</td>\n",
       "      <td>all</td>\n",
       "    </tr>\n",
       "    <tr>\n",
       "      <th>0</th>\n",
       "      <td>cbreg</td>\n",
       "      <td>&lt;catboost.core.CatBoostRegressor object at 0x0...</td>\n",
       "      <td>15.4</td>\n",
       "      <td>1319</td>\n",
       "      <td>all</td>\n",
       "    </tr>\n",
       "    <tr>\n",
       "      <th>0</th>\n",
       "      <td>cbreg_cat</td>\n",
       "      <td>&lt;catboost.core.CatBoostRegressor object at 0x0...</td>\n",
       "      <td>105.8</td>\n",
       "      <td>1320</td>\n",
       "      <td>all</td>\n",
       "    </tr>\n",
       "    <tr>\n",
       "      <th>0</th>\n",
       "      <td>lgbmreg2</td>\n",
       "      <td>LGBMRegressor(max_bin=255, num_iterations=1000...</td>\n",
       "      <td>3.0</td>\n",
       "      <td>1360</td>\n",
       "      <td>5</td>\n",
       "    </tr>\n",
       "    <tr>\n",
       "      <th>0</th>\n",
       "      <td>cbreg2</td>\n",
       "      <td>&lt;catboost.core.CatBoostRegressor object at 0x0...</td>\n",
       "      <td>27.5</td>\n",
       "      <td>1417</td>\n",
       "      <td>6</td>\n",
       "    </tr>\n",
       "    <tr>\n",
       "      <th>0</th>\n",
       "      <td>lgbmreg</td>\n",
       "      <td>LGBMRegressor(random_state=123)</td>\n",
       "      <td>0.5</td>\n",
       "      <td>1418</td>\n",
       "      <td>all</td>\n",
       "    </tr>\n",
       "    <tr>\n",
       "      <th>0</th>\n",
       "      <td>xgbreg3</td>\n",
       "      <td>XGBRegressor(base_score=0.5, booster='gbtree',...</td>\n",
       "      <td>2.1</td>\n",
       "      <td>1505</td>\n",
       "      <td>all</td>\n",
       "    </tr>\n",
       "    <tr>\n",
       "      <th>0</th>\n",
       "      <td>cbreg3</td>\n",
       "      <td>&lt;catboost.core.CatBoostRegressor object at 0x0...</td>\n",
       "      <td>6.4</td>\n",
       "      <td>1508</td>\n",
       "      <td>all</td>\n",
       "    </tr>\n",
       "    <tr>\n",
       "      <th>0</th>\n",
       "      <td>linear</td>\n",
       "      <td>LinearRegression()</td>\n",
       "      <td>3.7</td>\n",
       "      <td>2138</td>\n",
       "      <td>all</td>\n",
       "    </tr>\n",
       "  </tbody>\n",
       "</table>\n",
       "</div>"
      ],
      "text/plain": [
       "  model_name                                              model  fit_time_sec  \\\n",
       "0    xgbreg2  XGBRegressor(base_score=0.5, booster='gbtree',...           7.7   \n",
       "0    xgbreg2  XGBRegressor(base_score=0.5, booster='gbtree',...           5.6   \n",
       "0   lgbmreg2  LGBMRegressor(max_bin=255, num_iterations=1000...           3.3   \n",
       "0   lgbmreg3  LGBMRegressor(max_bin=255, num_iterations=500,...           1.6   \n",
       "0     cbreg2  <catboost.core.CatBoostRegressor object at 0x0...          34.0   \n",
       "0     xgbreg  XGBRegressor(base_score=0.5, booster='gbtree',...           4.7   \n",
       "0      cbreg  <catboost.core.CatBoostRegressor object at 0x0...          15.4   \n",
       "0  cbreg_cat  <catboost.core.CatBoostRegressor object at 0x0...         105.8   \n",
       "0   lgbmreg2  LGBMRegressor(max_bin=255, num_iterations=1000...           3.0   \n",
       "0     cbreg2  <catboost.core.CatBoostRegressor object at 0x0...          27.5   \n",
       "0    lgbmreg                    LGBMRegressor(random_state=123)           0.5   \n",
       "0    xgbreg3  XGBRegressor(base_score=0.5, booster='gbtree',...           2.1   \n",
       "0     cbreg3  <catboost.core.CatBoostRegressor object at 0x0...           6.4   \n",
       "0     linear                                 LinearRegression()           3.7   \n",
       "\n",
       "   RMSE importance_features  \n",
       "0  1033                 all  \n",
       "0  1162                   5  \n",
       "0  1216                 all  \n",
       "0  1279                 all  \n",
       "0  1282                 all  \n",
       "0  1301                 all  \n",
       "0  1319                 all  \n",
       "0  1320                 all  \n",
       "0  1360                   5  \n",
       "0  1417                   6  \n",
       "0  1418                 all  \n",
       "0  1505                 all  \n",
       "0  1508                 all  \n",
       "0  2138                 all  "
      ]
     },
     "execution_count": 89,
     "metadata": {},
     "output_type": "execute_result"
    }
   ],
   "source": [
    "result_tbl.sort_values('RMSE')"
   ]
  },
  {
   "cell_type": "markdown",
   "metadata": {},
   "source": [
    "Протестируем следующие три модели. Посчитаем время, затраченное на получение предсказаний.\n",
    "- xgbreg2 = XGBRegressor(max_depth=10, random_state=123)\n",
    "- xgbreg2 = XGBRegressor(max_depth=10, random_state=123) с отбором 5 признаков\n",
    "- lgbmreg2 = LGBMRegressor(num_iterations=1000, max_bin=255, random_state=123)"
   ]
  },
  {
   "cell_type": "code",
   "execution_count": 90,
   "metadata": {},
   "outputs": [
    {
     "data": {
      "text/html": [
       "<div>\n",
       "<style scoped>\n",
       "    .dataframe tbody tr th:only-of-type {\n",
       "        vertical-align: middle;\n",
       "    }\n",
       "\n",
       "    .dataframe tbody tr th {\n",
       "        vertical-align: top;\n",
       "    }\n",
       "\n",
       "    .dataframe thead th {\n",
       "        text-align: right;\n",
       "    }\n",
       "</style>\n",
       "<table border=\"1\" class=\"dataframe\">\n",
       "  <thead>\n",
       "    <tr style=\"text-align: right;\">\n",
       "      <th></th>\n",
       "      <th>model_name</th>\n",
       "      <th>model</th>\n",
       "      <th>predict_time_sec</th>\n",
       "      <th>RMSE</th>\n",
       "    </tr>\n",
       "  </thead>\n",
       "  <tbody>\n",
       "  </tbody>\n",
       "</table>\n",
       "</div>"
      ],
      "text/plain": [
       "Empty DataFrame\n",
       "Columns: [model_name, model, predict_time_sec, RMSE]\n",
       "Index: []"
      ]
     },
     "execution_count": 90,
     "metadata": {},
     "output_type": "execute_result"
    }
   ],
   "source": [
    "# таблица для накопления результатов тестирования\n",
    "columns = ['model_name', 'model', 'predict_time_sec', 'RMSE']\n",
    "result_tbl2 = pd.DataFrame(columns=columns)\n",
    "result_tbl2"
   ]
  },
  {
   "cell_type": "markdown",
   "metadata": {},
   "source": [
    "Значения полей таблицы с результатами:\n",
    "- **model_name** – название модели,\n",
    "- **model** – конфигурация модели,\n",
    "- **predict_time_sec** – время, за которое получены предсказания, в секундах,\n",
    "- **RMSE** – среднеквадратическая ошибка на тестовой выборке."
   ]
  },
  {
   "cell_type": "code",
   "execution_count": 91,
   "metadata": {},
   "outputs": [],
   "source": [
    "# функция для тестирования модели и расчета времени, за которое получены предсказания\n",
    "def test(model, name):\n",
    "    model.fit(train_features, train_target)\n",
    "    \n",
    "    start_predict_time = time.time()\n",
    "    predictions = model.predict(test_features)\n",
    "    predict_time = time.time() - start_predict_time\n",
    "    \n",
    "    global a\n",
    "    columns = ['model_name', 'model', 'predict_time_sec', 'RMSE']\n",
    "    rows = [[name, model, round(predict_time, 1), int(rmse(test_target, predictions))]]\n",
    "    a = pd.DataFrame(data=rows, columns=columns)"
   ]
  },
  {
   "cell_type": "code",
   "execution_count": 92,
   "metadata": {},
   "outputs": [],
   "source": [
    "train_features, train_target, test_features, test_target = split_df(df_ordinal, 'price')"
   ]
  },
  {
   "cell_type": "code",
   "execution_count": 93,
   "metadata": {},
   "outputs": [],
   "source": [
    "test(xgbreg2, name='xgbreg2')\n",
    "result_tbl2 = pd.concat([result_tbl2, a], axis = 0) # добавление показателей в общую таблицу"
   ]
  },
  {
   "cell_type": "code",
   "execution_count": 94,
   "metadata": {},
   "outputs": [
    {
     "name": "stderr",
     "output_type": "stream",
     "text": [
      "C:\\Users\\79853\\miniconda3\\lib\\site-packages\\lightgbm\\engine.py:177: UserWarning: Found `num_iterations` in params. Will use it instead of argument\n",
      "  _log_warning(f\"Found `{alias}` in params. Will use it instead of argument\")\n"
     ]
    }
   ],
   "source": [
    "test(lgbmreg2, name='lgbmreg2')\n",
    "result_tbl2 = pd.concat([result_tbl2, a], axis = 0) # добавление показателей в общую таблицу"
   ]
  },
  {
   "cell_type": "code",
   "execution_count": 95,
   "metadata": {},
   "outputs": [],
   "source": [
    "# отбор признаков\n",
    "feature_imp = xgb_feature_select(xgbreg2)\n",
    "top_features = 5\n",
    "train_features = train_features[list(feature_imp['feature'][:top_features])]\n",
    "test_features = test_features[list(feature_imp['feature'][:top_features])]"
   ]
  },
  {
   "cell_type": "code",
   "execution_count": 96,
   "metadata": {},
   "outputs": [],
   "source": [
    "test(xgbreg2, name='xgbreg2 (5 features)')\n",
    "result_tbl2 = pd.concat([result_tbl2, a], axis = 0) # добавление показателей в общую таблицу"
   ]
  },
  {
   "cell_type": "code",
   "execution_count": 97,
   "metadata": {},
   "outputs": [
    {
     "data": {
      "text/html": [
       "<div>\n",
       "<style scoped>\n",
       "    .dataframe tbody tr th:only-of-type {\n",
       "        vertical-align: middle;\n",
       "    }\n",
       "\n",
       "    .dataframe tbody tr th {\n",
       "        vertical-align: top;\n",
       "    }\n",
       "\n",
       "    .dataframe thead th {\n",
       "        text-align: right;\n",
       "    }\n",
       "</style>\n",
       "<table border=\"1\" class=\"dataframe\">\n",
       "  <thead>\n",
       "    <tr style=\"text-align: right;\">\n",
       "      <th></th>\n",
       "      <th>model_name</th>\n",
       "      <th>model</th>\n",
       "      <th>predict_time_sec</th>\n",
       "      <th>RMSE</th>\n",
       "    </tr>\n",
       "  </thead>\n",
       "  <tbody>\n",
       "    <tr>\n",
       "      <th>0</th>\n",
       "      <td>xgbreg2</td>\n",
       "      <td>XGBRegressor(base_score=0.5, booster='gbtree',...</td>\n",
       "      <td>0.1</td>\n",
       "      <td>1365</td>\n",
       "    </tr>\n",
       "    <tr>\n",
       "      <th>0</th>\n",
       "      <td>lgbmreg2</td>\n",
       "      <td>LGBMRegressor(max_bin=255, num_iterations=1000...</td>\n",
       "      <td>0.7</td>\n",
       "      <td>1345</td>\n",
       "    </tr>\n",
       "    <tr>\n",
       "      <th>0</th>\n",
       "      <td>xgbreg2 (5 features)</td>\n",
       "      <td>XGBRegressor(base_score=0.5, booster='gbtree',...</td>\n",
       "      <td>0.1</td>\n",
       "      <td>1464</td>\n",
       "    </tr>\n",
       "  </tbody>\n",
       "</table>\n",
       "</div>"
      ],
      "text/plain": [
       "             model_name                                              model  \\\n",
       "0               xgbreg2  XGBRegressor(base_score=0.5, booster='gbtree',...   \n",
       "0              lgbmreg2  LGBMRegressor(max_bin=255, num_iterations=1000...   \n",
       "0  xgbreg2 (5 features)  XGBRegressor(base_score=0.5, booster='gbtree',...   \n",
       "\n",
       "   predict_time_sec  RMSE  \n",
       "0               0.1  1365  \n",
       "0               0.7  1345  \n",
       "0               0.1  1464  "
      ]
     },
     "execution_count": 97,
     "metadata": {},
     "output_type": "execute_result"
    }
   ],
   "source": [
    "result_tbl2"
   ]
  },
  {
   "cell_type": "markdown",
   "metadata": {},
   "source": [
    "В совокупности показателей на обучении и тестировании лучшей является модель:\n",
    "- **lgbmreg2 = LGBMRegressor(num_iterations=1000, max_bin=255, random_state=123)**"
   ]
  },
  {
   "cell_type": "code",
   "execution_count": 98,
   "metadata": {},
   "outputs": [
    {
     "name": "stdout",
     "output_type": "stream",
     "text": [
      "\u001b[1mРезультаты выбранной модели на этапе обучения\u001b[0;0m\n"
     ]
    },
    {
     "data": {
      "text/html": [
       "<div>\n",
       "<style scoped>\n",
       "    .dataframe tbody tr th:only-of-type {\n",
       "        vertical-align: middle;\n",
       "    }\n",
       "\n",
       "    .dataframe tbody tr th {\n",
       "        vertical-align: top;\n",
       "    }\n",
       "\n",
       "    .dataframe thead th {\n",
       "        text-align: right;\n",
       "    }\n",
       "</style>\n",
       "<table border=\"1\" class=\"dataframe\">\n",
       "  <thead>\n",
       "    <tr style=\"text-align: right;\">\n",
       "      <th></th>\n",
       "      <th>model_name</th>\n",
       "      <th>model</th>\n",
       "      <th>fit_time_sec</th>\n",
       "      <th>RMSE</th>\n",
       "      <th>importance_features</th>\n",
       "    </tr>\n",
       "  </thead>\n",
       "  <tbody>\n",
       "    <tr>\n",
       "      <th>0</th>\n",
       "      <td>lgbmreg2</td>\n",
       "      <td>LGBMRegressor(max_bin=255, num_iterations=1000...</td>\n",
       "      <td>3.3</td>\n",
       "      <td>1216</td>\n",
       "      <td>all</td>\n",
       "    </tr>\n",
       "  </tbody>\n",
       "</table>\n",
       "</div>"
      ],
      "text/plain": [
       "  model_name                                              model  fit_time_sec  \\\n",
       "0   lgbmreg2  LGBMRegressor(max_bin=255, num_iterations=1000...           3.3   \n",
       "\n",
       "   RMSE importance_features  \n",
       "0  1216                 all  "
      ]
     },
     "execution_count": 98,
     "metadata": {},
     "output_type": "execute_result"
    }
   ],
   "source": [
    "print(\"\\033[1m\" + \"Результаты выбранной модели на этапе обучения\" + \"\\033[0;0m\")\n",
    "result_tbl.loc[(result_tbl.model_name == 'lgbmreg2') & (result_tbl.importance_features == 'all')]"
   ]
  },
  {
   "cell_type": "code",
   "execution_count": 99,
   "metadata": {},
   "outputs": [
    {
     "name": "stdout",
     "output_type": "stream",
     "text": [
      "\u001b[1mРезультаты выбранной модели на этапе тестирования\u001b[0;0m\n"
     ]
    },
    {
     "data": {
      "text/html": [
       "<div>\n",
       "<style scoped>\n",
       "    .dataframe tbody tr th:only-of-type {\n",
       "        vertical-align: middle;\n",
       "    }\n",
       "\n",
       "    .dataframe tbody tr th {\n",
       "        vertical-align: top;\n",
       "    }\n",
       "\n",
       "    .dataframe thead th {\n",
       "        text-align: right;\n",
       "    }\n",
       "</style>\n",
       "<table border=\"1\" class=\"dataframe\">\n",
       "  <thead>\n",
       "    <tr style=\"text-align: right;\">\n",
       "      <th></th>\n",
       "      <th>model_name</th>\n",
       "      <th>model</th>\n",
       "      <th>predict_time_sec</th>\n",
       "      <th>RMSE</th>\n",
       "    </tr>\n",
       "  </thead>\n",
       "  <tbody>\n",
       "    <tr>\n",
       "      <th>0</th>\n",
       "      <td>lgbmreg2</td>\n",
       "      <td>LGBMRegressor(max_bin=255, num_iterations=1000...</td>\n",
       "      <td>0.7</td>\n",
       "      <td>1345</td>\n",
       "    </tr>\n",
       "  </tbody>\n",
       "</table>\n",
       "</div>"
      ],
      "text/plain": [
       "  model_name                                              model  \\\n",
       "0   lgbmreg2  LGBMRegressor(max_bin=255, num_iterations=1000...   \n",
       "\n",
       "   predict_time_sec  RMSE  \n",
       "0               0.7  1345  "
      ]
     },
     "execution_count": 99,
     "metadata": {},
     "output_type": "execute_result"
    }
   ],
   "source": [
    "print(\"\\033[1m\" + \"Результаты выбранной модели на этапе тестирования\" + \"\\033[0;0m\")\n",
    "result_tbl2.loc[result_tbl2.model_name == 'lgbmreg2']"
   ]
  },
  {
   "cell_type": "markdown",
   "metadata": {},
   "source": [
    "## Общий вывод"
   ]
  },
  {
   "cell_type": "markdown",
   "metadata": {},
   "source": [
    "В ходе проекта были исследованы исторические данные сервиса по продаже автомобилей: технические характеристики, комплектации и цены автомобилей, - с целью построения модели для определения стоимости.\n",
    "\n",
    "На этапе **подготовки данных** были удалены поля, не влияющие на целевой признак, выявлены и удалены явные дубликаты, обработаны пропуски и некорректные значения в данных, категориальные признаки преобразованы в численные при помощи техник OHE и OrdinalEncoder.\n",
    "\n",
    "В **п.2** было обучено три модели градиентного бустинга: \n",
    "- **LGBMRegressor()**,\n",
    "- **CatBoostRegressor()**,\n",
    "- **XGBRegressor()**.\n",
    "\n",
    "Было рассмотрено качество и скорость работы моделей градиентного бустинга по следующему алгоритму:\n",
    "- обучена модель со значениями гиперпараметров по умолчанию;\n",
    "- подобраны значения нескольких гиперпараметров, которые влияют как на качество, так и на скорость обучения, с помощью GridSearchCV();\n",
    "- обучена модель с подобранными гиперпараметрами;\n",
    "- увеличена скорость работы модели корректировкой гиперпараметров;\n",
    "- увеличена скорость работы модели отбором признаков.\n",
    "\n",
    "Для сравнения также была обучена модель линейной регрессии **LinearRegression()**.\n",
    "\n",
    "Лучшие результаты показала модель **LGBMRegressor(num_iterations=1000, max_bin=255, random_state=123)**:\n",
    "- время обучения - 3 секунд,\n",
    "- время предсказания - 1 секунда,\n",
    "- RMSE на обучающей выборке - 1216,\n",
    "- RMSE на тестовой выборке - 1345."
   ]
  },
  {
   "cell_type": "code",
   "execution_count": null,
   "metadata": {},
   "outputs": [],
   "source": []
  }
 ],
 "metadata": {
  "ExecuteTimeLog": [
   {
    "duration": 408,
    "start_time": "2022-05-09T08:20:44.776Z"
   },
   {
    "duration": 867,
    "start_time": "2022-05-09T08:21:31.343Z"
   },
   {
    "duration": 123,
    "start_time": "2022-05-09T08:21:52.531Z"
   },
   {
    "duration": 99,
    "start_time": "2022-05-09T08:22:07.830Z"
   },
   {
    "duration": 13,
    "start_time": "2022-05-09T08:23:01.998Z"
   },
   {
    "duration": 62,
    "start_time": "2022-05-09T08:26:22.022Z"
   },
   {
    "duration": 22,
    "start_time": "2022-05-09T08:26:27.711Z"
   },
   {
    "duration": 19,
    "start_time": "2022-05-09T08:26:51.596Z"
   },
   {
    "duration": 21,
    "start_time": "2022-05-09T08:27:08.339Z"
   },
   {
    "duration": 23,
    "start_time": "2022-05-09T08:27:30.290Z"
   },
   {
    "duration": 22,
    "start_time": "2022-05-09T08:27:59.965Z"
   },
   {
    "duration": 24,
    "start_time": "2022-05-09T08:29:37.539Z"
   },
   {
    "duration": 32,
    "start_time": "2022-05-09T08:29:42.828Z"
   },
   {
    "duration": 31,
    "start_time": "2022-05-09T08:30:52.016Z"
   },
   {
    "duration": 28,
    "start_time": "2022-05-09T08:31:24.315Z"
   },
   {
    "duration": 20,
    "start_time": "2022-05-09T08:32:15.203Z"
   },
   {
    "duration": 101,
    "start_time": "2022-05-09T08:34:35.315Z"
   },
   {
    "duration": 97,
    "start_time": "2022-05-09T08:37:05.697Z"
   },
   {
    "duration": 101,
    "start_time": "2022-05-09T08:37:15.570Z"
   },
   {
    "duration": 23,
    "start_time": "2022-05-09T08:37:49.364Z"
   },
   {
    "duration": 130,
    "start_time": "2022-05-09T08:38:02.709Z"
   },
   {
    "duration": 414,
    "start_time": "2022-05-09T08:57:03.793Z"
   },
   {
    "duration": 131,
    "start_time": "2022-05-09T08:58:51.380Z"
   },
   {
    "duration": 364,
    "start_time": "2022-05-09T09:01:44.686Z"
   },
   {
    "duration": 9,
    "start_time": "2022-05-09T09:33:01.024Z"
   },
   {
    "duration": 12,
    "start_time": "2022-05-09T09:33:19.797Z"
   },
   {
    "duration": 20,
    "start_time": "2022-05-09T09:35:04.708Z"
   },
   {
    "duration": 9,
    "start_time": "2022-05-09T10:12:07.342Z"
   },
   {
    "duration": 28,
    "start_time": "2022-05-09T11:15:09.130Z"
   },
   {
    "duration": 27,
    "start_time": "2022-05-09T11:18:29.477Z"
   },
   {
    "duration": 12,
    "start_time": "2022-05-09T11:20:34.425Z"
   },
   {
    "duration": 16,
    "start_time": "2022-05-09T11:25:40.144Z"
   },
   {
    "duration": 17,
    "start_time": "2022-05-09T11:28:18.858Z"
   },
   {
    "duration": 6,
    "start_time": "2022-05-09T11:28:31.837Z"
   },
   {
    "duration": 7,
    "start_time": "2022-05-09T11:28:57.573Z"
   },
   {
    "duration": 8,
    "start_time": "2022-05-09T11:29:12.581Z"
   },
   {
    "duration": 17,
    "start_time": "2022-05-09T11:32:53.722Z"
   },
   {
    "duration": 669,
    "start_time": "2022-05-09T11:47:28.522Z"
   },
   {
    "duration": 120843,
    "start_time": "2022-05-09T11:47:51.070Z"
   },
   {
    "duration": 7,
    "start_time": "2022-05-09T12:05:48.868Z"
   },
   {
    "duration": 4,
    "start_time": "2022-05-09T12:10:19.816Z"
   },
   {
    "duration": 4,
    "start_time": "2022-05-09T12:10:26.369Z"
   },
   {
    "duration": 24,
    "start_time": "2022-05-09T12:11:00.366Z"
   },
   {
    "duration": 23,
    "start_time": "2022-05-09T12:11:42.225Z"
   },
   {
    "duration": 32,
    "start_time": "2022-05-09T12:12:10.081Z"
   },
   {
    "duration": 23,
    "start_time": "2022-05-09T12:12:31.626Z"
   },
   {
    "duration": 38,
    "start_time": "2022-05-09T12:14:06.200Z"
   },
   {
    "duration": 539,
    "start_time": "2022-05-10T11:20:55.789Z"
   },
   {
    "duration": 1206,
    "start_time": "2022-05-10T11:20:56.331Z"
   },
   {
    "duration": 262,
    "start_time": "2022-05-10T11:20:57.539Z"
   },
   {
    "duration": 150,
    "start_time": "2022-05-10T11:20:57.804Z"
   },
   {
    "duration": 414,
    "start_time": "2022-05-10T11:20:57.956Z"
   },
   {
    "duration": 24,
    "start_time": "2022-05-10T11:20:58.373Z"
   },
   {
    "duration": 456,
    "start_time": "2022-05-10T11:20:58.399Z"
   },
   {
    "duration": 142,
    "start_time": "2022-05-10T11:20:58.856Z"
   },
   {
    "duration": 12,
    "start_time": "2022-05-10T11:20:59.000Z"
   },
   {
    "duration": 18,
    "start_time": "2022-05-10T11:20:59.015Z"
   },
   {
    "duration": 23,
    "start_time": "2022-05-10T11:20:59.034Z"
   },
   {
    "duration": 4,
    "start_time": "2022-05-10T11:21:10.665Z"
   },
   {
    "duration": 66,
    "start_time": "2022-05-10T11:22:37.892Z"
   },
   {
    "duration": 13,
    "start_time": "2022-05-10T11:22:47.482Z"
   },
   {
    "duration": 10,
    "start_time": "2022-05-10T12:03:15.189Z"
   },
   {
    "duration": 919,
    "start_time": "2022-05-10T12:03:22.020Z"
   },
   {
    "duration": 3,
    "start_time": "2022-05-10T12:03:59.211Z"
   },
   {
    "duration": 410,
    "start_time": "2022-05-10T12:04:03.863Z"
   },
   {
    "duration": 426,
    "start_time": "2022-05-10T12:04:28.283Z"
   },
   {
    "duration": 476,
    "start_time": "2022-05-10T12:04:44.046Z"
   },
   {
    "duration": 520,
    "start_time": "2022-05-10T12:04:58.620Z"
   },
   {
    "duration": 457,
    "start_time": "2022-05-10T12:05:31.442Z"
   },
   {
    "duration": 61,
    "start_time": "2022-05-10T12:10:28.704Z"
   },
   {
    "duration": 76,
    "start_time": "2022-05-10T12:10:41.051Z"
   },
   {
    "duration": 62,
    "start_time": "2022-05-10T12:10:51.606Z"
   },
   {
    "duration": 60,
    "start_time": "2022-05-10T12:11:34.575Z"
   },
   {
    "duration": 350,
    "start_time": "2022-05-10T12:11:52.024Z"
   },
   {
    "duration": 361,
    "start_time": "2022-05-10T12:12:00.861Z"
   },
   {
    "duration": 139,
    "start_time": "2022-05-10T12:12:37.447Z"
   },
   {
    "duration": 181,
    "start_time": "2022-05-10T12:13:21.891Z"
   },
   {
    "duration": 175,
    "start_time": "2022-05-10T12:13:27.547Z"
   },
   {
    "duration": 181,
    "start_time": "2022-05-10T12:13:39.686Z"
   },
   {
    "duration": 354,
    "start_time": "2022-05-10T12:21:38.781Z"
   },
   {
    "duration": 355,
    "start_time": "2022-05-10T12:21:59.154Z"
   },
   {
    "duration": 443,
    "start_time": "2022-05-10T12:22:13.430Z"
   },
   {
    "duration": 52,
    "start_time": "2022-05-10T12:24:57.726Z"
   },
   {
    "duration": 448,
    "start_time": "2022-05-10T12:26:10.417Z"
   },
   {
    "duration": 527,
    "start_time": "2022-05-10T12:26:20.194Z"
   },
   {
    "duration": 46,
    "start_time": "2022-05-10T12:29:19.269Z"
   },
   {
    "duration": 13,
    "start_time": "2022-05-10T12:37:22.485Z"
   },
   {
    "duration": 27,
    "start_time": "2022-05-10T12:41:51.384Z"
   },
   {
    "duration": 18,
    "start_time": "2022-05-10T12:42:21.628Z"
   },
   {
    "duration": 19,
    "start_time": "2022-05-10T12:43:50.770Z"
   },
   {
    "duration": 90,
    "start_time": "2022-05-10T12:45:56.866Z"
   },
   {
    "duration": 159,
    "start_time": "2022-05-10T12:47:16.089Z"
   },
   {
    "duration": 109,
    "start_time": "2022-05-10T12:47:43.621Z"
   },
   {
    "duration": 72,
    "start_time": "2022-05-10T12:47:53.462Z"
   },
   {
    "duration": 109,
    "start_time": "2022-05-10T12:49:25.836Z"
   },
   {
    "duration": 80,
    "start_time": "2022-05-10T12:49:31.571Z"
   },
   {
    "duration": 18,
    "start_time": "2022-05-10T12:55:43.653Z"
   },
   {
    "duration": 23,
    "start_time": "2022-05-10T12:56:00.462Z"
   },
   {
    "duration": 16,
    "start_time": "2022-05-10T12:56:09.259Z"
   },
   {
    "duration": 18,
    "start_time": "2022-05-10T12:58:03.661Z"
   },
   {
    "duration": 16,
    "start_time": "2022-05-10T12:58:04.378Z"
   },
   {
    "duration": 17,
    "start_time": "2022-05-10T13:49:46.106Z"
   },
   {
    "duration": 16,
    "start_time": "2022-05-10T13:49:48.270Z"
   },
   {
    "duration": 16,
    "start_time": "2022-05-10T13:50:12.816Z"
   },
   {
    "duration": 19,
    "start_time": "2022-05-10T13:50:34.967Z"
   },
   {
    "duration": 22,
    "start_time": "2022-05-10T13:50:47.813Z"
   },
   {
    "duration": 17,
    "start_time": "2022-05-10T13:50:58.511Z"
   },
   {
    "duration": 52,
    "start_time": "2022-05-10T13:52:50.869Z"
   },
   {
    "duration": 9,
    "start_time": "2022-05-10T13:54:15.081Z"
   },
   {
    "duration": 85,
    "start_time": "2022-05-10T13:55:07.160Z"
   },
   {
    "duration": 98,
    "start_time": "2022-05-10T13:55:34.873Z"
   },
   {
    "duration": 87,
    "start_time": "2022-05-10T13:56:04.065Z"
   },
   {
    "duration": 132,
    "start_time": "2022-05-10T13:59:44.435Z"
   },
   {
    "duration": 140,
    "start_time": "2022-05-10T14:00:20.980Z"
   },
   {
    "duration": 89,
    "start_time": "2022-05-10T14:00:29.666Z"
   },
   {
    "duration": 112,
    "start_time": "2022-05-10T14:07:44.035Z"
   },
   {
    "duration": 139,
    "start_time": "2022-05-10T14:08:00.887Z"
   },
   {
    "duration": 6,
    "start_time": "2022-05-10T14:09:10.871Z"
   },
   {
    "duration": 4,
    "start_time": "2022-05-10T14:09:20.104Z"
   },
   {
    "duration": 3,
    "start_time": "2022-05-10T14:10:27.578Z"
   },
   {
    "duration": 22,
    "start_time": "2022-05-10T14:11:08.693Z"
   },
   {
    "duration": 681328,
    "start_time": "2022-05-10T14:13:37.905Z"
   },
   {
    "duration": 4,
    "start_time": "2022-05-10T14:25:05.225Z"
   },
   {
    "duration": 1044,
    "start_time": "2022-05-10T14:25:05.231Z"
   },
   {
    "duration": 163,
    "start_time": "2022-05-10T14:25:06.277Z"
   },
   {
    "duration": 111,
    "start_time": "2022-05-10T14:25:06.442Z"
   },
   {
    "duration": 276,
    "start_time": "2022-05-10T14:25:06.554Z"
   },
   {
    "duration": 14,
    "start_time": "2022-05-10T14:25:06.832Z"
   },
   {
    "duration": 482,
    "start_time": "2022-05-10T14:25:06.848Z"
   },
   {
    "duration": 151,
    "start_time": "2022-05-10T14:25:07.332Z"
   },
   {
    "duration": 18,
    "start_time": "2022-05-10T14:25:07.491Z"
   },
   {
    "duration": 25,
    "start_time": "2022-05-10T14:25:07.512Z"
   },
   {
    "duration": 3,
    "start_time": "2022-05-10T14:25:07.539Z"
   },
   {
    "duration": 491,
    "start_time": "2022-05-10T14:25:07.544Z"
   },
   {
    "duration": 35,
    "start_time": "2022-05-10T14:25:08.037Z"
   },
   {
    "duration": 193,
    "start_time": "2022-05-10T14:25:08.073Z"
   },
   {
    "duration": 363,
    "start_time": "2022-05-10T14:25:08.268Z"
   },
   {
    "duration": 44,
    "start_time": "2022-05-10T14:25:08.633Z"
   },
   {
    "duration": 438,
    "start_time": "2022-05-10T14:25:08.678Z"
   },
   {
    "duration": 41,
    "start_time": "2022-05-10T14:25:09.118Z"
   },
   {
    "duration": 50,
    "start_time": "2022-05-10T14:25:14.082Z"
   },
   {
    "duration": 4,
    "start_time": "2022-05-10T14:25:46.816Z"
   },
   {
    "duration": 429946,
    "start_time": "2022-05-10T14:26:51.776Z"
   },
   {
    "duration": 138,
    "start_time": "2022-05-10T14:34:05.823Z"
   },
   {
    "duration": 1779,
    "start_time": "2022-05-10T14:34:22.445Z"
   },
   {
    "duration": 16,
    "start_time": "2022-05-10T14:34:38.549Z"
   },
   {
    "duration": 17,
    "start_time": "2022-05-10T14:34:41.812Z"
   },
   {
    "duration": 1628,
    "start_time": "2022-05-10T14:35:37.002Z"
   },
   {
    "duration": 1635,
    "start_time": "2022-05-10T14:35:49.020Z"
   },
   {
    "duration": 3,
    "start_time": "2022-05-10T14:37:56.883Z"
   },
   {
    "duration": 4,
    "start_time": "2022-05-10T14:38:39.806Z"
   },
   {
    "duration": 5,
    "start_time": "2022-05-10T14:40:12.859Z"
   },
   {
    "duration": 818929,
    "start_time": "2022-05-10T14:40:37.252Z"
   },
   {
    "duration": 1217,
    "start_time": "2022-05-10T17:48:17.386Z"
   },
   {
    "duration": 8513,
    "start_time": "2022-05-10T17:48:18.607Z"
   },
   {
    "duration": 197,
    "start_time": "2022-05-10T17:48:27.122Z"
   },
   {
    "duration": 138,
    "start_time": "2022-05-10T17:48:27.325Z"
   },
   {
    "duration": 384,
    "start_time": "2022-05-10T17:48:27.468Z"
   },
   {
    "duration": 22,
    "start_time": "2022-05-10T17:48:27.854Z"
   },
   {
    "duration": 783,
    "start_time": "2022-05-10T17:48:27.878Z"
   },
   {
    "duration": 187,
    "start_time": "2022-05-10T17:48:28.663Z"
   },
   {
    "duration": 15,
    "start_time": "2022-05-10T17:48:28.853Z"
   },
   {
    "duration": 58,
    "start_time": "2022-05-10T17:48:28.870Z"
   },
   {
    "duration": 6,
    "start_time": "2022-05-10T17:48:28.936Z"
   },
   {
    "duration": 960,
    "start_time": "2022-05-10T17:48:28.946Z"
   },
   {
    "duration": 80,
    "start_time": "2022-05-10T17:48:29.909Z"
   },
   {
    "duration": 305,
    "start_time": "2022-05-10T17:48:29.993Z"
   },
   {
    "duration": 509,
    "start_time": "2022-05-10T17:48:30.300Z"
   },
   {
    "duration": 106,
    "start_time": "2022-05-10T17:48:30.812Z"
   },
   {
    "duration": 595,
    "start_time": "2022-05-10T17:48:30.923Z"
   },
   {
    "duration": 82,
    "start_time": "2022-05-10T17:48:31.524Z"
   },
   {
    "duration": 158,
    "start_time": "2022-05-10T17:48:31.609Z"
   },
   {
    "duration": 0,
    "start_time": "2022-05-10T17:48:31.770Z"
   },
   {
    "duration": 1,
    "start_time": "2022-05-10T17:48:31.773Z"
   },
   {
    "duration": 32527,
    "start_time": "2022-05-10T17:49:19.103Z"
   },
   {
    "duration": 45,
    "start_time": "2022-05-10T17:50:20.034Z"
   },
   {
    "duration": 152,
    "start_time": "2022-05-10T17:50:26.888Z"
   },
   {
    "duration": 175,
    "start_time": "2022-05-10T17:57:28.270Z"
   },
   {
    "duration": 240,
    "start_time": "2022-05-10T17:58:16.685Z"
   },
   {
    "duration": 147,
    "start_time": "2022-05-10T17:58:56.354Z"
   },
   {
    "duration": 155,
    "start_time": "2022-05-10T18:06:19.773Z"
   },
   {
    "duration": 148,
    "start_time": "2022-05-10T18:06:28.506Z"
   },
   {
    "duration": 707,
    "start_time": "2022-05-10T18:06:42.521Z"
   },
   {
    "duration": 148,
    "start_time": "2022-05-10T18:07:07.641Z"
   },
   {
    "duration": 679,
    "start_time": "2022-05-10T18:07:55.224Z"
   },
   {
    "duration": 166,
    "start_time": "2022-05-10T18:07:57.125Z"
   },
   {
    "duration": 6,
    "start_time": "2022-05-10T18:08:43.479Z"
   },
   {
    "duration": 156932,
    "start_time": "2022-05-10T18:09:01.313Z"
   },
   {
    "duration": 556,
    "start_time": "2022-05-10T18:11:38.248Z"
   },
   {
    "duration": 148,
    "start_time": "2022-05-10T18:11:42.363Z"
   },
   {
    "duration": 544,
    "start_time": "2022-05-10T18:11:59.816Z"
   },
   {
    "duration": 165,
    "start_time": "2022-05-10T18:12:01.239Z"
   },
   {
    "duration": 15296,
    "start_time": "2022-05-10T18:17:40.717Z"
   },
   {
    "duration": 252,
    "start_time": "2022-05-10T18:17:59.033Z"
   },
   {
    "duration": 90,
    "start_time": "2022-05-10T18:20:44.188Z"
   },
   {
    "duration": 4,
    "start_time": "2022-05-10T18:21:13.877Z"
   },
   {
    "duration": 6928,
    "start_time": "2022-05-10T18:21:13.884Z"
   },
   {
    "duration": 215,
    "start_time": "2022-05-10T18:21:20.815Z"
   },
   {
    "duration": 144,
    "start_time": "2022-05-10T18:21:21.034Z"
   },
   {
    "duration": 415,
    "start_time": "2022-05-10T18:21:21.182Z"
   },
   {
    "duration": 37,
    "start_time": "2022-05-10T18:21:21.600Z"
   },
   {
    "duration": 798,
    "start_time": "2022-05-10T18:21:21.640Z"
   },
   {
    "duration": 214,
    "start_time": "2022-05-10T18:21:22.441Z"
   },
   {
    "duration": 22,
    "start_time": "2022-05-10T18:21:22.658Z"
   },
   {
    "duration": 70,
    "start_time": "2022-05-10T18:21:22.685Z"
   },
   {
    "duration": 7,
    "start_time": "2022-05-10T18:21:22.757Z"
   },
   {
    "duration": 789,
    "start_time": "2022-05-10T18:21:22.768Z"
   },
   {
    "duration": 87,
    "start_time": "2022-05-10T18:21:23.561Z"
   },
   {
    "duration": 297,
    "start_time": "2022-05-10T18:21:23.655Z"
   },
   {
    "duration": 534,
    "start_time": "2022-05-10T18:21:23.960Z"
   },
   {
    "duration": 96,
    "start_time": "2022-05-10T18:21:24.497Z"
   },
   {
    "duration": 753,
    "start_time": "2022-05-10T18:21:24.595Z"
   },
   {
    "duration": 96,
    "start_time": "2022-05-10T18:21:25.352Z"
   },
   {
    "duration": 38057,
    "start_time": "2022-05-10T18:21:25.455Z"
   },
   {
    "duration": 71,
    "start_time": "2022-05-10T18:22:03.514Z"
   },
   {
    "duration": 188,
    "start_time": "2022-05-10T18:22:03.588Z"
   },
   {
    "duration": 6,
    "start_time": "2022-05-10T18:22:03.779Z"
   },
   {
    "duration": 2162,
    "start_time": "2022-05-10T18:22:50.756Z"
   },
   {
    "duration": 43,
    "start_time": "2022-05-10T18:22:55.378Z"
   },
   {
    "duration": 167,
    "start_time": "2022-05-10T18:22:59.370Z"
   },
   {
    "duration": 544,
    "start_time": "2022-05-10T18:24:01.813Z"
   },
   {
    "duration": 28,
    "start_time": "2022-05-10T18:24:04.306Z"
   },
   {
    "duration": 171,
    "start_time": "2022-05-10T18:24:05.560Z"
   },
   {
    "duration": 27,
    "start_time": "2022-05-10T18:24:47.441Z"
   },
   {
    "duration": 8,
    "start_time": "2022-05-10T18:24:57.255Z"
   },
   {
    "duration": 517,
    "start_time": "2022-05-10T18:27:23.191Z"
   },
   {
    "duration": 417,
    "start_time": "2022-05-10T18:28:05.900Z"
   },
   {
    "duration": 421,
    "start_time": "2022-05-10T18:28:10.990Z"
   },
   {
    "duration": 728,
    "start_time": "2022-05-10T18:28:35.091Z"
   },
   {
    "duration": 4,
    "start_time": "2022-05-10T18:30:00.720Z"
   },
   {
    "duration": 1316,
    "start_time": "2022-05-10T18:30:00.727Z"
   },
   {
    "duration": 189,
    "start_time": "2022-05-10T18:30:02.046Z"
   },
   {
    "duration": 145,
    "start_time": "2022-05-10T18:30:02.239Z"
   },
   {
    "duration": 400,
    "start_time": "2022-05-10T18:30:02.389Z"
   },
   {
    "duration": 41,
    "start_time": "2022-05-10T18:30:02.792Z"
   },
   {
    "duration": 941,
    "start_time": "2022-05-10T18:30:02.836Z"
   },
   {
    "duration": 190,
    "start_time": "2022-05-10T18:30:03.780Z"
   },
   {
    "duration": 18,
    "start_time": "2022-05-10T18:30:03.973Z"
   },
   {
    "duration": 75,
    "start_time": "2022-05-10T18:30:03.994Z"
   },
   {
    "duration": 6,
    "start_time": "2022-05-10T18:30:04.072Z"
   },
   {
    "duration": 677,
    "start_time": "2022-05-10T18:30:04.081Z"
   },
   {
    "duration": 80,
    "start_time": "2022-05-10T18:30:04.761Z"
   },
   {
    "duration": 286,
    "start_time": "2022-05-10T18:30:04.846Z"
   },
   {
    "duration": 636,
    "start_time": "2022-05-10T18:30:05.137Z"
   },
   {
    "duration": 92,
    "start_time": "2022-05-10T18:30:05.776Z"
   },
   {
    "duration": 614,
    "start_time": "2022-05-10T18:30:05.870Z"
   },
   {
    "duration": 90,
    "start_time": "2022-05-10T18:30:06.487Z"
   },
   {
    "duration": 56,
    "start_time": "2022-05-10T18:30:06.580Z"
   },
   {
    "duration": 36373,
    "start_time": "2022-05-10T18:30:06.639Z"
   },
   {
    "duration": 285,
    "start_time": "2022-05-10T18:30:43.015Z"
   },
   {
    "duration": 7,
    "start_time": "2022-05-10T18:30:43.302Z"
   },
   {
    "duration": 529,
    "start_time": "2022-05-10T18:31:15.881Z"
   },
   {
    "duration": 24,
    "start_time": "2022-05-10T18:31:26.847Z"
   },
   {
    "duration": 521,
    "start_time": "2022-05-10T18:31:28.954Z"
   },
   {
    "duration": 159,
    "start_time": "2022-05-10T18:31:30.515Z"
   },
   {
    "duration": 36,
    "start_time": "2022-05-10T18:34:25.453Z"
   },
   {
    "duration": 14,
    "start_time": "2022-05-10T18:34:54.674Z"
   },
   {
    "duration": 75,
    "start_time": "2022-05-10T18:35:38.442Z"
   },
   {
    "duration": 837,
    "start_time": "2022-05-10T18:37:59.854Z"
   },
   {
    "duration": 420,
    "start_time": "2022-05-10T18:44:19.611Z"
   },
   {
    "duration": 385,
    "start_time": "2022-05-10T18:44:26.672Z"
   },
   {
    "duration": 5,
    "start_time": "2022-05-10T18:44:49.448Z"
   },
   {
    "duration": 1361,
    "start_time": "2022-05-10T18:44:49.456Z"
   },
   {
    "duration": 205,
    "start_time": "2022-05-10T18:44:50.819Z"
   },
   {
    "duration": 148,
    "start_time": "2022-05-10T18:44:51.028Z"
   },
   {
    "duration": 413,
    "start_time": "2022-05-10T18:44:51.179Z"
   },
   {
    "duration": 31,
    "start_time": "2022-05-10T18:44:51.594Z"
   },
   {
    "duration": 846,
    "start_time": "2022-05-10T18:44:51.628Z"
   },
   {
    "duration": 198,
    "start_time": "2022-05-10T18:44:52.476Z"
   },
   {
    "duration": 15,
    "start_time": "2022-05-10T18:44:52.677Z"
   },
   {
    "duration": 64,
    "start_time": "2022-05-10T18:44:52.695Z"
   },
   {
    "duration": 5,
    "start_time": "2022-05-10T18:44:52.762Z"
   },
   {
    "duration": 737,
    "start_time": "2022-05-10T18:44:52.769Z"
   },
   {
    "duration": 85,
    "start_time": "2022-05-10T18:44:53.508Z"
   },
   {
    "duration": 309,
    "start_time": "2022-05-10T18:44:53.596Z"
   },
   {
    "duration": 549,
    "start_time": "2022-05-10T18:44:53.907Z"
   },
   {
    "duration": 117,
    "start_time": "2022-05-10T18:44:54.459Z"
   },
   {
    "duration": 694,
    "start_time": "2022-05-10T18:44:54.578Z"
   },
   {
    "duration": 92,
    "start_time": "2022-05-10T18:44:55.275Z"
   },
   {
    "duration": 45,
    "start_time": "2022-05-10T18:44:55.369Z"
   },
   {
    "duration": 32114,
    "start_time": "2022-05-10T18:44:55.430Z"
   },
   {
    "duration": 170,
    "start_time": "2022-05-10T18:45:27.547Z"
   },
   {
    "duration": 10,
    "start_time": "2022-05-10T18:45:27.728Z"
   },
   {
    "duration": 3061,
    "start_time": "2022-05-10T18:45:27.742Z"
   },
   {
    "duration": 24,
    "start_time": "2022-05-10T18:45:36.993Z"
   },
   {
    "duration": 564,
    "start_time": "2022-05-10T18:45:38.570Z"
   },
   {
    "duration": 165,
    "start_time": "2022-05-10T18:45:40.159Z"
   },
   {
    "duration": 584,
    "start_time": "2022-05-10T18:47:09.673Z"
   },
   {
    "duration": 25,
    "start_time": "2022-05-10T18:47:13.481Z"
   },
   {
    "duration": 163,
    "start_time": "2022-05-10T18:47:22.981Z"
   },
   {
    "duration": 644,
    "start_time": "2022-05-10T18:47:28.910Z"
   },
   {
    "duration": 814,
    "start_time": "2022-05-10T19:04:04.517Z"
   },
   {
    "duration": 158,
    "start_time": "2022-05-10T19:04:18.664Z"
   },
   {
    "duration": 565,
    "start_time": "2022-05-10T19:07:08.146Z"
   },
   {
    "duration": 162,
    "start_time": "2022-05-10T19:07:16.570Z"
   },
   {
    "duration": 833,
    "start_time": "2022-05-10T19:08:47.047Z"
   },
   {
    "duration": 174,
    "start_time": "2022-05-10T19:08:53.293Z"
   },
   {
    "duration": 1135,
    "start_time": "2022-05-10T19:09:36.561Z"
   },
   {
    "duration": 183,
    "start_time": "2022-05-10T19:09:41.526Z"
   },
   {
    "duration": 1563,
    "start_time": "2022-05-10T19:10:04.008Z"
   },
   {
    "duration": 5,
    "start_time": "2022-05-10T19:10:37.049Z"
   },
   {
    "duration": 1383,
    "start_time": "2022-05-10T19:10:37.058Z"
   },
   {
    "duration": 198,
    "start_time": "2022-05-10T19:10:38.444Z"
   },
   {
    "duration": 148,
    "start_time": "2022-05-10T19:10:38.645Z"
   },
   {
    "duration": 410,
    "start_time": "2022-05-10T19:10:38.798Z"
   },
   {
    "duration": 28,
    "start_time": "2022-05-10T19:10:39.211Z"
   },
   {
    "duration": 913,
    "start_time": "2022-05-10T19:10:39.243Z"
   },
   {
    "duration": 316,
    "start_time": "2022-05-10T19:10:40.161Z"
   },
   {
    "duration": 23,
    "start_time": "2022-05-10T19:10:40.480Z"
   },
   {
    "duration": 59,
    "start_time": "2022-05-10T19:10:40.505Z"
   },
   {
    "duration": 8,
    "start_time": "2022-05-10T19:10:40.566Z"
   },
   {
    "duration": 728,
    "start_time": "2022-05-10T19:10:40.576Z"
   },
   {
    "duration": 92,
    "start_time": "2022-05-10T19:10:41.306Z"
   },
   {
    "duration": 299,
    "start_time": "2022-05-10T19:10:41.404Z"
   },
   {
    "duration": 609,
    "start_time": "2022-05-10T19:10:41.706Z"
   },
   {
    "duration": 91,
    "start_time": "2022-05-10T19:10:42.328Z"
   },
   {
    "duration": 673,
    "start_time": "2022-05-10T19:10:42.427Z"
   },
   {
    "duration": 94,
    "start_time": "2022-05-10T19:10:43.103Z"
   },
   {
    "duration": 64,
    "start_time": "2022-05-10T19:10:43.200Z"
   },
   {
    "duration": 173,
    "start_time": "2022-05-10T19:10:43.266Z"
   },
   {
    "duration": 619,
    "start_time": "2022-05-10T19:10:48.960Z"
   },
   {
    "duration": 198,
    "start_time": "2022-05-10T19:10:52.861Z"
   },
   {
    "duration": 25,
    "start_time": "2022-05-10T19:13:28.683Z"
   },
   {
    "duration": 525,
    "start_time": "2022-05-10T19:19:00.466Z"
   },
   {
    "duration": 130,
    "start_time": "2022-05-10T19:19:04.784Z"
   },
   {
    "duration": 28,
    "start_time": "2022-05-10T19:19:15.448Z"
   },
   {
    "duration": 6,
    "start_time": "2022-05-10T19:19:58.935Z"
   },
   {
    "duration": 1156,
    "start_time": "2022-05-10T19:19:58.946Z"
   },
   {
    "duration": 333,
    "start_time": "2022-05-10T19:20:00.105Z"
   },
   {
    "duration": 192,
    "start_time": "2022-05-10T19:20:00.441Z"
   },
   {
    "duration": 553,
    "start_time": "2022-05-10T19:20:00.638Z"
   },
   {
    "duration": 40,
    "start_time": "2022-05-10T19:20:01.193Z"
   },
   {
    "duration": 1111,
    "start_time": "2022-05-10T19:20:01.236Z"
   },
   {
    "duration": 313,
    "start_time": "2022-05-10T19:20:02.350Z"
   },
   {
    "duration": 23,
    "start_time": "2022-05-10T19:20:02.666Z"
   },
   {
    "duration": 55,
    "start_time": "2022-05-10T19:20:02.691Z"
   },
   {
    "duration": 8,
    "start_time": "2022-05-10T19:20:02.749Z"
   },
   {
    "duration": 626,
    "start_time": "2022-05-10T19:20:02.760Z"
   },
   {
    "duration": 78,
    "start_time": "2022-05-10T19:20:03.389Z"
   },
   {
    "duration": 279,
    "start_time": "2022-05-10T19:20:03.471Z"
   },
   {
    "duration": 481,
    "start_time": "2022-05-10T19:20:03.753Z"
   },
   {
    "duration": 91,
    "start_time": "2022-05-10T19:20:04.237Z"
   },
   {
    "duration": 696,
    "start_time": "2022-05-10T19:20:04.331Z"
   },
   {
    "duration": 70,
    "start_time": "2022-05-10T19:20:05.029Z"
   },
   {
    "duration": 63,
    "start_time": "2022-05-10T19:20:05.101Z"
   },
   {
    "duration": 142,
    "start_time": "2022-05-10T19:20:05.167Z"
   },
   {
    "duration": 679,
    "start_time": "2022-05-10T19:20:18.396Z"
   },
   {
    "duration": 127,
    "start_time": "2022-05-10T19:20:22.605Z"
   },
   {
    "duration": 541,
    "start_time": "2022-05-10T19:20:52.998Z"
   },
   {
    "duration": 138,
    "start_time": "2022-05-10T19:20:56.127Z"
   },
   {
    "duration": 29,
    "start_time": "2022-05-10T19:21:01.281Z"
   },
   {
    "duration": 40,
    "start_time": "2022-05-10T19:22:31.063Z"
   },
   {
    "duration": 12,
    "start_time": "2022-05-10T19:22:46.200Z"
   },
   {
    "duration": 260,
    "start_time": "2022-05-10T19:25:29.138Z"
   },
   {
    "duration": 3,
    "start_time": "2022-05-10T19:25:48.857Z"
   },
   {
    "duration": 1663,
    "start_time": "2022-05-10T19:25:48.863Z"
   },
   {
    "duration": 170,
    "start_time": "2022-05-10T19:25:50.528Z"
   },
   {
    "duration": 144,
    "start_time": "2022-05-10T19:25:50.700Z"
   },
   {
    "duration": 351,
    "start_time": "2022-05-10T19:25:50.848Z"
   },
   {
    "duration": 30,
    "start_time": "2022-05-10T19:25:51.201Z"
   },
   {
    "duration": 720,
    "start_time": "2022-05-10T19:25:51.234Z"
   },
   {
    "duration": 244,
    "start_time": "2022-05-10T19:25:51.957Z"
   },
   {
    "duration": 27,
    "start_time": "2022-05-10T19:25:52.203Z"
   },
   {
    "duration": 40,
    "start_time": "2022-05-10T19:25:52.233Z"
   },
   {
    "duration": 6,
    "start_time": "2022-05-10T19:25:52.275Z"
   },
   {
    "duration": 1125,
    "start_time": "2022-05-10T19:25:52.284Z"
   },
   {
    "duration": 80,
    "start_time": "2022-05-10T19:25:53.412Z"
   },
   {
    "duration": 400,
    "start_time": "2022-05-10T19:25:53.497Z"
   },
   {
    "duration": 467,
    "start_time": "2022-05-10T19:25:53.899Z"
   },
   {
    "duration": 89,
    "start_time": "2022-05-10T19:25:54.369Z"
   },
   {
    "duration": 576,
    "start_time": "2022-05-10T19:25:54.460Z"
   },
   {
    "duration": 86,
    "start_time": "2022-05-10T19:25:55.038Z"
   },
   {
    "duration": 48,
    "start_time": "2022-05-10T19:25:55.127Z"
   },
   {
    "duration": 157,
    "start_time": "2022-05-10T19:25:55.178Z"
   },
   {
    "duration": 249,
    "start_time": "2022-05-10T19:25:59.791Z"
   },
   {
    "duration": 254,
    "start_time": "2022-05-10T19:26:57.814Z"
   },
   {
    "duration": 241,
    "start_time": "2022-05-10T19:27:28.864Z"
   },
   {
    "duration": 235,
    "start_time": "2022-05-10T19:27:47.856Z"
   },
   {
    "duration": 487,
    "start_time": "2022-05-10T19:31:05.777Z"
   },
   {
    "duration": 449,
    "start_time": "2022-05-10T19:31:08.638Z"
   },
   {
    "duration": 240,
    "start_time": "2022-05-10T19:31:16.058Z"
   },
   {
    "duration": 30,
    "start_time": "2022-05-10T19:31:55.563Z"
   },
   {
    "duration": 134,
    "start_time": "2022-05-10T19:32:07.942Z"
   },
   {
    "duration": 116,
    "start_time": "2022-05-10T19:36:08.668Z"
   },
   {
    "duration": 273,
    "start_time": "2022-05-10T19:37:15.943Z"
   },
   {
    "duration": 246,
    "start_time": "2022-05-10T19:37:38.354Z"
   },
   {
    "duration": 141,
    "start_time": "2022-05-10T19:37:44.718Z"
   },
   {
    "duration": 872,
    "start_time": "2022-05-10T19:38:51.900Z"
   },
   {
    "duration": 30,
    "start_time": "2022-05-10T19:39:00.199Z"
   },
   {
    "duration": 149,
    "start_time": "2022-05-10T19:39:19.324Z"
   },
   {
    "duration": 111,
    "start_time": "2022-05-10T19:44:21.485Z"
   },
   {
    "duration": 42,
    "start_time": "2022-05-10T19:47:43.168Z"
   },
   {
    "duration": 786,
    "start_time": "2022-05-10T19:49:15.865Z"
   },
   {
    "duration": 589,
    "start_time": "2022-05-10T19:49:26.676Z"
   },
   {
    "duration": 149,
    "start_time": "2022-05-10T19:49:39.821Z"
   },
   {
    "duration": 2527,
    "start_time": "2022-05-10T19:50:19.365Z"
   },
   {
    "duration": 217,
    "start_time": "2022-05-10T19:51:10.793Z"
   },
   {
    "duration": 5,
    "start_time": "2022-05-10T20:04:24.626Z"
   },
   {
    "duration": 1209,
    "start_time": "2022-05-10T20:04:24.634Z"
   },
   {
    "duration": 199,
    "start_time": "2022-05-10T20:04:25.846Z"
   },
   {
    "duration": 138,
    "start_time": "2022-05-10T20:04:26.048Z"
   },
   {
    "duration": 371,
    "start_time": "2022-05-10T20:04:26.190Z"
   },
   {
    "duration": 22,
    "start_time": "2022-05-10T20:04:26.563Z"
   },
   {
    "duration": 713,
    "start_time": "2022-05-10T20:04:26.588Z"
   },
   {
    "duration": 207,
    "start_time": "2022-05-10T20:04:27.303Z"
   },
   {
    "duration": 37,
    "start_time": "2022-05-10T20:04:27.512Z"
   },
   {
    "duration": 35,
    "start_time": "2022-05-10T20:04:27.552Z"
   },
   {
    "duration": 4,
    "start_time": "2022-05-10T20:04:27.590Z"
   },
   {
    "duration": 61,
    "start_time": "2022-05-10T20:04:27.596Z"
   },
   {
    "duration": 844,
    "start_time": "2022-05-10T20:04:27.659Z"
   },
   {
    "duration": 888,
    "start_time": "2022-05-10T20:04:28.505Z"
   },
   {
    "duration": 763,
    "start_time": "2022-05-10T20:04:29.396Z"
   },
   {
    "duration": 92,
    "start_time": "2022-05-10T20:04:30.161Z"
   },
   {
    "duration": 278,
    "start_time": "2022-05-10T20:04:30.256Z"
   },
   {
    "duration": 514,
    "start_time": "2022-05-10T20:04:30.537Z"
   },
   {
    "duration": 621,
    "start_time": "2022-05-10T20:04:33.810Z"
   },
   {
    "duration": 6,
    "start_time": "2022-05-10T20:05:35.159Z"
   },
   {
    "duration": 1218,
    "start_time": "2022-05-10T20:05:35.168Z"
   },
   {
    "duration": 203,
    "start_time": "2022-05-10T20:05:36.389Z"
   },
   {
    "duration": 151,
    "start_time": "2022-05-10T20:05:36.595Z"
   },
   {
    "duration": 377,
    "start_time": "2022-05-10T20:05:36.751Z"
   },
   {
    "duration": 32,
    "start_time": "2022-05-10T20:05:37.130Z"
   },
   {
    "duration": 781,
    "start_time": "2022-05-10T20:05:37.174Z"
   },
   {
    "duration": 194,
    "start_time": "2022-05-10T20:05:37.960Z"
   },
   {
    "duration": 15,
    "start_time": "2022-05-10T20:05:38.158Z"
   },
   {
    "duration": 25,
    "start_time": "2022-05-10T20:05:38.176Z"
   },
   {
    "duration": 6,
    "start_time": "2022-05-10T20:05:38.228Z"
   },
   {
    "duration": 70,
    "start_time": "2022-05-10T20:05:38.236Z"
   },
   {
    "duration": 820,
    "start_time": "2022-05-10T20:05:38.308Z"
   },
   {
    "duration": 739,
    "start_time": "2022-05-10T20:05:39.133Z"
   },
   {
    "duration": 700,
    "start_time": "2022-05-10T20:05:39.874Z"
   },
   {
    "duration": 101,
    "start_time": "2022-05-10T20:05:40.577Z"
   },
   {
    "duration": 290,
    "start_time": "2022-05-10T20:05:40.681Z"
   },
   {
    "duration": 527,
    "start_time": "2022-05-10T20:05:40.973Z"
   },
   {
    "duration": 85,
    "start_time": "2022-05-10T20:05:41.502Z"
   },
   {
    "duration": 617,
    "start_time": "2022-05-10T20:05:41.589Z"
   },
   {
    "duration": 78,
    "start_time": "2022-05-10T20:05:42.208Z"
   },
   {
    "duration": 67,
    "start_time": "2022-05-10T20:05:42.288Z"
   },
   {
    "duration": 142,
    "start_time": "2022-05-10T20:05:42.360Z"
   },
   {
    "duration": 472,
    "start_time": "2022-05-10T20:05:42.504Z"
   },
   {
    "duration": 473,
    "start_time": "2022-05-10T20:05:42.978Z"
   },
   {
    "duration": 553,
    "start_time": "2022-05-10T20:05:43.456Z"
   },
   {
    "duration": 156,
    "start_time": "2022-05-10T20:05:44.011Z"
   },
   {
    "duration": 119,
    "start_time": "2022-05-10T20:05:44.170Z"
   },
   {
    "duration": 213,
    "start_time": "2022-05-10T20:05:44.292Z"
   },
   {
    "duration": 15,
    "start_time": "2022-05-10T20:06:48.750Z"
   },
   {
    "duration": 6,
    "start_time": "2022-05-10T20:06:52.610Z"
   },
   {
    "duration": 14,
    "start_time": "2022-05-10T20:06:53.979Z"
   },
   {
    "duration": 1216,
    "start_time": "2022-05-10T20:07:20.146Z"
   },
   {
    "duration": 507,
    "start_time": "2022-05-10T20:07:30.812Z"
   },
   {
    "duration": 56,
    "start_time": "2022-05-11T15:42:04.128Z"
   },
   {
    "duration": 1860,
    "start_time": "2022-05-11T15:42:09.651Z"
   },
   {
    "duration": 1024,
    "start_time": "2022-05-11T15:42:11.514Z"
   },
   {
    "duration": 159,
    "start_time": "2022-05-11T15:42:12.540Z"
   },
   {
    "duration": 123,
    "start_time": "2022-05-11T15:42:12.701Z"
   },
   {
    "duration": 241,
    "start_time": "2022-05-11T15:42:18.146Z"
   },
   {
    "duration": 3,
    "start_time": "2022-05-11T15:51:37.012Z"
   },
   {
    "duration": 957,
    "start_time": "2022-05-11T15:51:37.018Z"
   },
   {
    "duration": 140,
    "start_time": "2022-05-11T15:51:37.976Z"
   },
   {
    "duration": 130,
    "start_time": "2022-05-11T15:51:38.123Z"
   },
   {
    "duration": 392,
    "start_time": "2022-05-11T15:51:38.256Z"
   },
   {
    "duration": 22,
    "start_time": "2022-05-11T15:51:38.651Z"
   },
   {
    "duration": 448,
    "start_time": "2022-05-11T15:51:38.675Z"
   },
   {
    "duration": 138,
    "start_time": "2022-05-11T15:51:39.125Z"
   },
   {
    "duration": 12,
    "start_time": "2022-05-11T15:51:39.265Z"
   },
   {
    "duration": 42,
    "start_time": "2022-05-11T15:51:39.281Z"
   },
   {
    "duration": 4,
    "start_time": "2022-05-11T15:51:39.326Z"
   },
   {
    "duration": 29,
    "start_time": "2022-05-11T15:51:39.332Z"
   },
   {
    "duration": 535,
    "start_time": "2022-05-11T15:51:39.362Z"
   },
   {
    "duration": 427,
    "start_time": "2022-05-11T15:51:39.899Z"
   },
   {
    "duration": 464,
    "start_time": "2022-05-11T15:51:40.328Z"
   },
   {
    "duration": 54,
    "start_time": "2022-05-11T15:51:40.793Z"
   },
   {
    "duration": 178,
    "start_time": "2022-05-11T15:51:40.850Z"
   },
   {
    "duration": 347,
    "start_time": "2022-05-11T15:51:41.030Z"
   },
   {
    "duration": 53,
    "start_time": "2022-05-11T15:51:41.378Z"
   },
   {
    "duration": 412,
    "start_time": "2022-05-11T15:51:41.433Z"
   },
   {
    "duration": 41,
    "start_time": "2022-05-11T15:51:41.847Z"
   },
   {
    "duration": 51,
    "start_time": "2022-05-11T15:51:41.890Z"
   },
   {
    "duration": 104,
    "start_time": "2022-05-11T15:51:41.943Z"
   },
   {
    "duration": 277,
    "start_time": "2022-05-11T15:51:42.049Z"
   },
   {
    "duration": 273,
    "start_time": "2022-05-11T15:51:42.328Z"
   },
   {
    "duration": 327,
    "start_time": "2022-05-11T15:51:42.603Z"
   },
   {
    "duration": 105,
    "start_time": "2022-05-11T15:51:42.932Z"
   },
   {
    "duration": 120,
    "start_time": "2022-05-11T15:51:43.042Z"
   },
   {
    "duration": 170,
    "start_time": "2022-05-11T15:51:49.230Z"
   },
   {
    "duration": 4,
    "start_time": "2022-05-11T15:52:28.527Z"
   },
   {
    "duration": 150,
    "start_time": "2022-05-11T15:52:36.813Z"
   },
   {
    "duration": 4,
    "start_time": "2022-05-11T16:06:13.256Z"
   },
   {
    "duration": 72,
    "start_time": "2022-05-11T16:07:47.822Z"
   },
   {
    "duration": 3,
    "start_time": "2022-05-11T16:09:40.839Z"
   },
   {
    "duration": 4,
    "start_time": "2022-05-11T16:14:06.866Z"
   },
   {
    "duration": 1592,
    "start_time": "2022-05-12T17:50:28.459Z"
   },
   {
    "duration": 919,
    "start_time": "2022-05-12T17:50:30.054Z"
   },
   {
    "duration": 146,
    "start_time": "2022-05-12T17:50:30.975Z"
   },
   {
    "duration": 110,
    "start_time": "2022-05-12T17:50:31.133Z"
   },
   {
    "duration": 268,
    "start_time": "2022-05-12T17:50:35.991Z"
   },
   {
    "duration": 3,
    "start_time": "2022-05-12T18:02:49.149Z"
   },
   {
    "duration": 889,
    "start_time": "2022-05-12T18:02:49.154Z"
   },
   {
    "duration": 137,
    "start_time": "2022-05-12T18:02:50.045Z"
   },
   {
    "duration": 110,
    "start_time": "2022-05-12T18:02:50.184Z"
   },
   {
    "duration": 289,
    "start_time": "2022-05-12T18:02:50.297Z"
   },
   {
    "duration": 14,
    "start_time": "2022-05-12T18:02:50.588Z"
   },
   {
    "duration": 476,
    "start_time": "2022-05-12T18:02:50.604Z"
   },
   {
    "duration": 137,
    "start_time": "2022-05-12T18:02:51.082Z"
   },
   {
    "duration": 20,
    "start_time": "2022-05-12T18:02:51.220Z"
   },
   {
    "duration": 18,
    "start_time": "2022-05-12T18:02:51.241Z"
   },
   {
    "duration": 18,
    "start_time": "2022-05-12T18:02:57.952Z"
   },
   {
    "duration": 3,
    "start_time": "2022-05-12T18:04:06.456Z"
   },
   {
    "duration": 61,
    "start_time": "2022-05-12T18:05:21.180Z"
   },
   {
    "duration": 4,
    "start_time": "2022-05-12T18:09:37.927Z"
   },
   {
    "duration": 889,
    "start_time": "2022-05-12T18:09:37.933Z"
   },
   {
    "duration": 140,
    "start_time": "2022-05-12T18:09:38.823Z"
   },
   {
    "duration": 102,
    "start_time": "2022-05-12T18:09:38.965Z"
   },
   {
    "duration": 280,
    "start_time": "2022-05-12T18:09:39.069Z"
   },
   {
    "duration": 13,
    "start_time": "2022-05-12T18:09:39.351Z"
   },
   {
    "duration": 429,
    "start_time": "2022-05-12T18:09:39.366Z"
   },
   {
    "duration": 137,
    "start_time": "2022-05-12T18:09:39.797Z"
   },
   {
    "duration": 11,
    "start_time": "2022-05-12T18:09:39.936Z"
   },
   {
    "duration": 18,
    "start_time": "2022-05-12T18:09:39.948Z"
   },
   {
    "duration": 18,
    "start_time": "2022-05-12T18:09:39.967Z"
   },
   {
    "duration": 3,
    "start_time": "2022-05-12T18:09:39.987Z"
   },
   {
    "duration": 94,
    "start_time": "2022-05-12T18:09:43.870Z"
   },
   {
    "duration": 13,
    "start_time": "2022-05-12T18:10:02.327Z"
   },
   {
    "duration": 1191,
    "start_time": "2022-05-12T18:11:07.590Z"
   },
   {
    "duration": 1033,
    "start_time": "2022-05-12T18:11:09.627Z"
   },
   {
    "duration": 444,
    "start_time": "2022-05-12T18:11:16.103Z"
   },
   {
    "duration": 12,
    "start_time": "2022-05-12T18:14:38.604Z"
   },
   {
    "duration": 78,
    "start_time": "2022-05-12T18:15:11.707Z"
   },
   {
    "duration": 61,
    "start_time": "2022-05-12T18:16:14.318Z"
   },
   {
    "duration": 12,
    "start_time": "2022-05-12T18:23:48.262Z"
   },
   {
    "duration": 437,
    "start_time": "2022-05-12T18:24:23.965Z"
   },
   {
    "duration": 33,
    "start_time": "2022-05-12T18:24:25.261Z"
   },
   {
    "duration": 173,
    "start_time": "2022-05-12T18:24:28.892Z"
   },
   {
    "duration": 340,
    "start_time": "2022-05-12T18:24:57.230Z"
   },
   {
    "duration": 35,
    "start_time": "2022-05-12T18:25:07.414Z"
   },
   {
    "duration": 291,
    "start_time": "2022-05-12T18:25:25.604Z"
   },
   {
    "duration": 288,
    "start_time": "2022-05-12T18:25:36.194Z"
   },
   {
    "duration": 300,
    "start_time": "2022-05-12T18:25:41.654Z"
   },
   {
    "duration": 388,
    "start_time": "2022-05-12T18:26:18.074Z"
   },
   {
    "duration": 29,
    "start_time": "2022-05-12T18:26:34.838Z"
   },
   {
    "duration": 31,
    "start_time": "2022-05-12T18:26:36.195Z"
   },
   {
    "duration": 67,
    "start_time": "2022-05-12T18:26:40.700Z"
   },
   {
    "duration": 288,
    "start_time": "2022-05-12T18:26:49.642Z"
   },
   {
    "duration": 284,
    "start_time": "2022-05-12T18:26:50.689Z"
   },
   {
    "duration": 340,
    "start_time": "2022-05-12T18:26:51.629Z"
   },
   {
    "duration": 67,
    "start_time": "2022-05-12T18:26:52.909Z"
   },
   {
    "duration": 65,
    "start_time": "2022-05-12T18:27:01.255Z"
   },
   {
    "duration": 123,
    "start_time": "2022-05-12T18:27:09.636Z"
   },
   {
    "duration": 4,
    "start_time": "2022-05-12T18:28:57.098Z"
   },
   {
    "duration": 3,
    "start_time": "2022-05-12T18:29:49.609Z"
   },
   {
    "duration": 119,
    "start_time": "2022-05-12T18:34:55.173Z"
   },
   {
    "duration": 13,
    "start_time": "2022-05-12T18:35:35.730Z"
   },
   {
    "duration": 4,
    "start_time": "2022-05-12T18:35:53.449Z"
   },
   {
    "duration": 84,
    "start_time": "2022-05-12T18:35:54.148Z"
   },
   {
    "duration": 4,
    "start_time": "2022-05-12T18:35:54.948Z"
   },
   {
    "duration": 4,
    "start_time": "2022-05-12T18:35:55.750Z"
   },
   {
    "duration": 2,
    "start_time": "2022-05-12T18:35:58.266Z"
   },
   {
    "duration": 7,
    "start_time": "2022-05-12T18:35:58.951Z"
   },
   {
    "duration": 8,
    "start_time": "2022-05-12T18:36:22.117Z"
   },
   {
    "duration": 3,
    "start_time": "2022-05-12T18:36:37.546Z"
   },
   {
    "duration": 6,
    "start_time": "2022-05-12T18:36:38.259Z"
   },
   {
    "duration": 9,
    "start_time": "2022-05-12T18:41:26.594Z"
   },
   {
    "duration": 9,
    "start_time": "2022-05-12T18:42:00.137Z"
   },
   {
    "duration": 11,
    "start_time": "2022-05-12T18:42:07.674Z"
   },
   {
    "duration": 3,
    "start_time": "2022-05-12T18:42:22.112Z"
   },
   {
    "duration": 12,
    "start_time": "2022-05-12T18:42:27.109Z"
   },
   {
    "duration": 57,
    "start_time": "2022-05-12T18:42:45.688Z"
   },
   {
    "duration": 28,
    "start_time": "2022-05-12T18:42:49.927Z"
   },
   {
    "duration": 19,
    "start_time": "2022-05-12T18:43:08.748Z"
   },
   {
    "duration": 4,
    "start_time": "2022-05-12T18:43:12.705Z"
   },
   {
    "duration": 27,
    "start_time": "2022-05-12T18:46:44.365Z"
   },
   {
    "duration": 5,
    "start_time": "2022-05-12T18:47:08.391Z"
   },
   {
    "duration": 22,
    "start_time": "2022-05-12T18:47:12.479Z"
   },
   {
    "duration": 4,
    "start_time": "2022-05-12T18:48:04.613Z"
   },
   {
    "duration": 1826,
    "start_time": "2022-05-12T18:48:08.041Z"
   },
   {
    "duration": 2366,
    "start_time": "2022-05-12T18:49:39.286Z"
   },
   {
    "duration": 7,
    "start_time": "2022-05-12T18:52:46.360Z"
   },
   {
    "duration": 5,
    "start_time": "2022-05-12T18:52:55.211Z"
   },
   {
    "duration": 578,
    "start_time": "2022-05-12T18:53:39.616Z"
   },
   {
    "duration": 10,
    "start_time": "2022-05-12T18:54:27.109Z"
   },
   {
    "duration": 57,
    "start_time": "2022-05-12T18:54:50.071Z"
   },
   {
    "duration": 4,
    "start_time": "2022-05-12T18:54:54.984Z"
   },
   {
    "duration": 13,
    "start_time": "2022-05-12T18:57:18.441Z"
   },
   {
    "duration": 3,
    "start_time": "2022-05-12T18:58:37.155Z"
   },
   {
    "duration": 6,
    "start_time": "2022-05-12T18:59:01.692Z"
   },
   {
    "duration": 27541,
    "start_time": "2022-05-12T18:59:04.205Z"
   },
   {
    "duration": 4,
    "start_time": "2022-05-12T19:04:52.520Z"
   },
   {
    "duration": 863,
    "start_time": "2022-05-12T19:04:52.526Z"
   },
   {
    "duration": 132,
    "start_time": "2022-05-12T19:04:53.391Z"
   },
   {
    "duration": 100,
    "start_time": "2022-05-12T19:04:53.534Z"
   },
   {
    "duration": 280,
    "start_time": "2022-05-12T19:04:53.636Z"
   },
   {
    "duration": 23,
    "start_time": "2022-05-12T19:04:53.917Z"
   },
   {
    "duration": 431,
    "start_time": "2022-05-12T19:04:53.942Z"
   },
   {
    "duration": 132,
    "start_time": "2022-05-12T19:04:54.374Z"
   },
   {
    "duration": 27,
    "start_time": "2022-05-12T19:04:54.507Z"
   },
   {
    "duration": 16,
    "start_time": "2022-05-12T19:04:54.536Z"
   },
   {
    "duration": 18,
    "start_time": "2022-05-12T19:04:54.554Z"
   },
   {
    "duration": 3,
    "start_time": "2022-05-12T19:04:54.573Z"
   },
   {
    "duration": 59,
    "start_time": "2022-05-12T19:04:56.256Z"
   },
   {
    "duration": 90,
    "start_time": "2022-05-12T19:06:15.920Z"
   },
   {
    "duration": 12,
    "start_time": "2022-05-12T19:06:18.387Z"
   },
   {
    "duration": 12,
    "start_time": "2022-05-12T19:06:32.418Z"
   },
   {
    "duration": 90,
    "start_time": "2022-05-12T19:06:51.321Z"
   },
   {
    "duration": 11,
    "start_time": "2022-05-12T19:07:03.175Z"
   },
   {
    "duration": 99,
    "start_time": "2022-05-12T19:07:21.386Z"
   },
   {
    "duration": 256,
    "start_time": "2022-05-12T19:08:23.202Z"
   },
   {
    "duration": 171,
    "start_time": "2022-05-12T19:08:23.460Z"
   },
   {
    "duration": 415,
    "start_time": "2022-05-12T19:08:23.868Z"
   },
   {
    "duration": 25,
    "start_time": "2022-05-12T19:08:24.285Z"
   },
   {
    "duration": 168,
    "start_time": "2022-05-12T19:08:24.506Z"
   },
   {
    "duration": 299,
    "start_time": "2022-05-12T19:08:24.986Z"
   },
   {
    "duration": 21,
    "start_time": "2022-05-12T19:08:25.438Z"
   },
   {
    "duration": 371,
    "start_time": "2022-05-12T19:08:25.685Z"
   },
   {
    "duration": 21,
    "start_time": "2022-05-12T19:08:26.187Z"
   },
   {
    "duration": 30,
    "start_time": "2022-05-12T19:08:26.674Z"
   },
   {
    "duration": 62,
    "start_time": "2022-05-12T19:08:26.907Z"
   },
   {
    "duration": 249,
    "start_time": "2022-05-12T19:08:27.374Z"
   },
   {
    "duration": 337,
    "start_time": "2022-05-12T19:08:27.624Z"
   },
   {
    "duration": 306,
    "start_time": "2022-05-12T19:08:27.963Z"
   },
   {
    "duration": 70,
    "start_time": "2022-05-12T19:08:28.271Z"
   },
   {
    "duration": 64,
    "start_time": "2022-05-12T19:08:28.342Z"
   },
   {
    "duration": 109,
    "start_time": "2022-05-12T19:08:28.556Z"
   },
   {
    "duration": 4,
    "start_time": "2022-05-12T19:08:29.796Z"
   },
   {
    "duration": 67,
    "start_time": "2022-05-12T19:08:32.255Z"
   },
   {
    "duration": 3,
    "start_time": "2022-05-12T19:08:32.684Z"
   },
   {
    "duration": 4,
    "start_time": "2022-05-12T19:08:33.161Z"
   },
   {
    "duration": 3,
    "start_time": "2022-05-12T19:08:43.666Z"
   },
   {
    "duration": 4,
    "start_time": "2022-05-12T19:08:44.150Z"
   },
   {
    "duration": 38851,
    "start_time": "2022-05-12T19:08:44.801Z"
   },
   {
    "duration": 12,
    "start_time": "2022-05-12T19:09:39.442Z"
   },
   {
    "duration": 626,
    "start_time": "2022-05-12T19:25:36.137Z"
   },
   {
    "duration": 5,
    "start_time": "2022-05-12T19:26:40.563Z"
   },
   {
    "duration": 945,
    "start_time": "2022-05-12T19:26:40.570Z"
   },
   {
    "duration": 140,
    "start_time": "2022-05-12T19:26:41.516Z"
   },
   {
    "duration": 113,
    "start_time": "2022-05-12T19:26:41.657Z"
   },
   {
    "duration": 305,
    "start_time": "2022-05-12T19:26:41.773Z"
   },
   {
    "duration": 15,
    "start_time": "2022-05-12T19:26:42.080Z"
   },
   {
    "duration": 445,
    "start_time": "2022-05-12T19:26:42.097Z"
   },
   {
    "duration": 139,
    "start_time": "2022-05-12T19:26:42.544Z"
   },
   {
    "duration": 12,
    "start_time": "2022-05-12T19:26:42.685Z"
   },
   {
    "duration": 43,
    "start_time": "2022-05-12T19:26:42.699Z"
   },
   {
    "duration": 19,
    "start_time": "2022-05-12T19:26:42.744Z"
   },
   {
    "duration": 4,
    "start_time": "2022-05-12T19:26:42.765Z"
   },
   {
    "duration": 118,
    "start_time": "2022-05-12T19:26:42.771Z"
   },
   {
    "duration": 13,
    "start_time": "2022-05-12T19:26:42.893Z"
   },
   {
    "duration": 263,
    "start_time": "2022-05-12T19:26:42.908Z"
   },
   {
    "duration": 171,
    "start_time": "2022-05-12T19:26:43.172Z"
   },
   {
    "duration": 458,
    "start_time": "2022-05-12T19:26:43.345Z"
   },
   {
    "duration": 34,
    "start_time": "2022-05-12T19:26:43.805Z"
   },
   {
    "duration": 187,
    "start_time": "2022-05-12T19:26:43.841Z"
   },
   {
    "duration": 330,
    "start_time": "2022-05-12T19:26:44.033Z"
   },
   {
    "duration": 23,
    "start_time": "2022-05-12T19:26:44.365Z"
   },
   {
    "duration": 425,
    "start_time": "2022-05-12T19:26:44.390Z"
   },
   {
    "duration": 32,
    "start_time": "2022-05-12T19:26:44.817Z"
   },
   {
    "duration": 32,
    "start_time": "2022-05-12T19:26:44.851Z"
   },
   {
    "duration": 74,
    "start_time": "2022-05-12T19:26:44.885Z"
   },
   {
    "duration": 285,
    "start_time": "2022-05-12T19:26:44.961Z"
   },
   {
    "duration": 270,
    "start_time": "2022-05-12T19:26:45.247Z"
   },
   {
    "duration": 314,
    "start_time": "2022-05-12T19:26:45.519Z"
   },
   {
    "duration": 67,
    "start_time": "2022-05-12T19:26:45.835Z"
   },
   {
    "duration": 84,
    "start_time": "2022-05-12T19:26:45.903Z"
   },
   {
    "duration": 127,
    "start_time": "2022-05-12T19:26:45.988Z"
   },
   {
    "duration": 651,
    "start_time": "2022-05-12T19:26:46.117Z"
   },
   {
    "duration": 4,
    "start_time": "2022-05-12T19:26:46.769Z"
   },
   {
    "duration": 18,
    "start_time": "2022-05-12T19:26:46.774Z"
   },
   {
    "duration": 7,
    "start_time": "2022-05-12T19:26:46.794Z"
   },
   {
    "duration": 381,
    "start_time": "2022-05-12T19:26:50.775Z"
   },
   {
    "duration": 3,
    "start_time": "2022-05-12T19:26:52.530Z"
   },
   {
    "duration": 6,
    "start_time": "2022-05-12T19:26:53.253Z"
   },
   {
    "duration": 4,
    "start_time": "2022-05-12T19:26:56.726Z"
   },
   {
    "duration": 4,
    "start_time": "2022-05-12T19:27:17.487Z"
   },
   {
    "duration": 2095,
    "start_time": "2022-05-13T11:14:46.421Z"
   },
   {
    "duration": 1737,
    "start_time": "2022-05-13T11:14:48.518Z"
   },
   {
    "duration": 177,
    "start_time": "2022-05-13T11:14:50.258Z"
   },
   {
    "duration": 129,
    "start_time": "2022-05-13T11:14:50.436Z"
   },
   {
    "duration": 316,
    "start_time": "2022-05-13T11:14:50.568Z"
   },
   {
    "duration": 16,
    "start_time": "2022-05-13T11:14:50.888Z"
   },
   {
    "duration": 514,
    "start_time": "2022-05-13T11:14:50.906Z"
   },
   {
    "duration": 158,
    "start_time": "2022-05-13T11:14:51.421Z"
   },
   {
    "duration": 27,
    "start_time": "2022-05-13T11:14:51.581Z"
   },
   {
    "duration": 15,
    "start_time": "2022-05-13T11:14:51.611Z"
   },
   {
    "duration": 40,
    "start_time": "2022-05-13T11:14:51.628Z"
   },
   {
    "duration": 3,
    "start_time": "2022-05-13T11:14:51.670Z"
   },
   {
    "duration": 122,
    "start_time": "2022-05-13T11:14:51.675Z"
   },
   {
    "duration": 12,
    "start_time": "2022-05-13T11:14:51.800Z"
   },
   {
    "duration": 313,
    "start_time": "2022-05-13T11:14:51.814Z"
   },
   {
    "duration": 198,
    "start_time": "2022-05-13T11:14:52.129Z"
   },
   {
    "duration": 423,
    "start_time": "2022-05-13T11:14:52.329Z"
   },
   {
    "duration": 28,
    "start_time": "2022-05-13T11:14:52.754Z"
   },
   {
    "duration": 163,
    "start_time": "2022-05-13T11:14:52.784Z"
   },
   {
    "duration": 342,
    "start_time": "2022-05-13T11:14:52.949Z"
   },
   {
    "duration": 23,
    "start_time": "2022-05-13T11:14:53.294Z"
   },
   {
    "duration": 435,
    "start_time": "2022-05-13T11:14:53.319Z"
   },
   {
    "duration": 27,
    "start_time": "2022-05-13T11:14:53.761Z"
   },
   {
    "duration": 37,
    "start_time": "2022-05-13T11:14:53.790Z"
   },
   {
    "duration": 73,
    "start_time": "2022-05-13T11:14:53.829Z"
   },
   {
    "duration": 287,
    "start_time": "2022-05-13T11:14:53.907Z"
   },
   {
    "duration": 269,
    "start_time": "2022-05-13T11:14:54.196Z"
   },
   {
    "duration": 424,
    "start_time": "2022-05-13T11:14:54.467Z"
   },
   {
    "duration": 80,
    "start_time": "2022-05-13T11:14:54.894Z"
   },
   {
    "duration": 91,
    "start_time": "2022-05-13T11:14:54.976Z"
   },
   {
    "duration": 150,
    "start_time": "2022-05-13T11:14:55.068Z"
   },
   {
    "duration": 590,
    "start_time": "2022-05-13T11:14:55.220Z"
   },
   {
    "duration": 5,
    "start_time": "2022-05-13T11:14:55.812Z"
   },
   {
    "duration": 6,
    "start_time": "2022-05-13T11:14:55.819Z"
   },
   {
    "duration": 6,
    "start_time": "2022-05-13T11:14:55.827Z"
   },
   {
    "duration": 481,
    "start_time": "2022-05-13T11:14:55.835Z"
   },
   {
    "duration": 3,
    "start_time": "2022-05-13T11:14:56.318Z"
   },
   {
    "duration": 9,
    "start_time": "2022-05-13T11:14:56.323Z"
   },
   {
    "duration": 5,
    "start_time": "2022-05-13T11:14:56.334Z"
   },
   {
    "duration": 6,
    "start_time": "2022-05-13T11:14:56.341Z"
   },
   {
    "duration": 731312,
    "start_time": "2022-05-13T11:15:00.302Z"
   },
   {
    "duration": 3,
    "start_time": "2022-05-13T11:27:36.787Z"
   },
   {
    "duration": 317578,
    "start_time": "2022-05-13T11:28:10.536Z"
   },
   {
    "duration": 4,
    "start_time": "2022-05-13T11:33:38.628Z"
   },
   {
    "duration": 365503,
    "start_time": "2022-05-13T11:33:43.669Z"
   },
   {
    "duration": 747,
    "start_time": "2022-05-13T11:40:04.460Z"
   },
   {
    "duration": 3,
    "start_time": "2022-05-13T11:40:30.426Z"
   },
   {
    "duration": 5,
    "start_time": "2022-05-13T11:40:30.886Z"
   },
   {
    "duration": 129,
    "start_time": "2022-05-13T11:40:38.581Z"
   },
   {
    "duration": 63,
    "start_time": "2022-05-13T11:41:25.940Z"
   },
   {
    "duration": 3,
    "start_time": "2022-05-13T11:41:27.262Z"
   },
   {
    "duration": 4,
    "start_time": "2022-05-13T11:41:28.090Z"
   },
   {
    "duration": 198302,
    "start_time": "2022-05-13T11:41:28.816Z"
   },
   {
    "duration": 735,
    "start_time": "2022-05-13T11:51:55.382Z"
   },
   {
    "duration": 16,
    "start_time": "2022-05-13T11:57:29.460Z"
   },
   {
    "duration": 291,
    "start_time": "2022-05-13T11:57:46.450Z"
   },
   {
    "duration": 3181,
    "start_time": "2022-05-13T11:57:58.934Z"
   },
   {
    "duration": 3043,
    "start_time": "2022-05-13T11:58:47.351Z"
   },
   {
    "duration": 274,
    "start_time": "2022-05-13T12:00:02.245Z"
   },
   {
    "duration": 27,
    "start_time": "2022-05-13T12:02:07.617Z"
   },
   {
    "duration": 18,
    "start_time": "2022-05-13T12:02:51.636Z"
   },
   {
    "duration": 31,
    "start_time": "2022-05-13T12:03:52.152Z"
   },
   {
    "duration": 171,
    "start_time": "2022-05-13T12:04:16.043Z"
   },
   {
    "duration": 3,
    "start_time": "2022-05-13T12:10:16.746Z"
   },
   {
    "duration": 473874,
    "start_time": "2022-05-13T12:10:28.809Z"
   },
   {
    "duration": 2204,
    "start_time": "2022-05-13T12:18:22.685Z"
   },
   {
    "duration": 372366,
    "start_time": "2022-05-13T12:28:17.103Z"
   },
   {
    "duration": 3044,
    "start_time": "2022-05-13T12:34:29.471Z"
   },
   {
    "duration": 148,
    "start_time": "2022-05-13T12:44:01.555Z"
   },
   {
    "duration": 6,
    "start_time": "2022-05-13T12:44:38.468Z"
   },
   {
    "duration": 5798,
    "start_time": "2022-05-13T12:44:50.123Z"
   },
   {
    "duration": 4,
    "start_time": "2022-05-13T12:45:26.495Z"
   },
   {
    "duration": 5221,
    "start_time": "2022-05-13T12:45:28.534Z"
   },
   {
    "duration": 4,
    "start_time": "2022-05-13T12:46:04.089Z"
   },
   {
    "duration": 71870,
    "start_time": "2022-05-13T12:46:05.041Z"
   },
   {
    "duration": 1355,
    "start_time": "2022-05-13T12:47:16.913Z"
   },
   {
    "duration": 3,
    "start_time": "2022-05-13T12:48:22.935Z"
   },
   {
    "duration": 64565,
    "start_time": "2022-05-13T12:48:24.766Z"
   },
   {
    "duration": 14,
    "start_time": "2022-05-13T12:49:29.333Z"
   },
   {
    "duration": 5,
    "start_time": "2022-05-13T12:49:36.202Z"
   },
   {
    "duration": 54574,
    "start_time": "2022-05-13T12:49:37.010Z"
   },
   {
    "duration": 1311,
    "start_time": "2022-05-13T12:50:31.590Z"
   },
   {
    "duration": 6,
    "start_time": "2022-05-13T13:11:24.736Z"
   },
   {
    "duration": 20005,
    "start_time": "2022-05-13T13:11:25.653Z"
   },
   {
    "duration": 3,
    "start_time": "2022-05-13T13:11:46.311Z"
   },
   {
    "duration": 108955,
    "start_time": "2022-05-13T13:11:47.762Z"
   },
   {
    "duration": 1633,
    "start_time": "2022-05-13T13:13:36.743Z"
   },
   {
    "duration": 5,
    "start_time": "2022-05-13T13:14:49.111Z"
   },
   {
    "duration": 24922,
    "start_time": "2022-05-13T13:14:52.595Z"
   },
   {
    "duration": 8,
    "start_time": "2022-05-13T13:15:23.477Z"
   },
   {
    "duration": 275555,
    "start_time": "2022-05-13T13:15:24.342Z"
   },
   {
    "duration": 1492,
    "start_time": "2022-05-13T13:19:59.902Z"
   },
   {
    "duration": 4,
    "start_time": "2022-05-13T13:20:26.975Z"
   },
   {
    "duration": 78469,
    "start_time": "2022-05-13T13:20:27.503Z"
   },
   {
    "duration": 1314,
    "start_time": "2022-05-13T13:21:45.984Z"
   },
   {
    "duration": 105,
    "start_time": "2022-05-13T15:06:49.885Z"
   },
   {
    "duration": 3,
    "start_time": "2022-05-13T15:08:06.785Z"
   },
   {
    "duration": 28745,
    "start_time": "2022-05-13T15:08:57.865Z"
   },
   {
    "duration": 3,
    "start_time": "2022-05-13T15:09:36.739Z"
   },
   {
    "duration": 42288,
    "start_time": "2022-05-13T15:09:38.385Z"
   },
   {
    "duration": 1212,
    "start_time": "2022-05-13T15:10:26.483Z"
   },
   {
    "duration": 2,
    "start_time": "2022-05-13T15:10:42.542Z"
   },
   {
    "duration": 34913,
    "start_time": "2022-05-13T15:10:43.580Z"
   },
   {
    "duration": 3,
    "start_time": "2022-05-13T15:11:19.307Z"
   },
   {
    "duration": 40973,
    "start_time": "2022-05-13T15:11:20.012Z"
   },
   {
    "duration": 1287,
    "start_time": "2022-05-13T15:12:00.987Z"
   },
   {
    "duration": 3,
    "start_time": "2022-05-13T15:14:51.325Z"
   },
   {
    "duration": 11347,
    "start_time": "2022-05-13T15:14:52.150Z"
   },
   {
    "duration": 6,
    "start_time": "2022-05-13T15:15:10.068Z"
   },
   {
    "duration": 58590,
    "start_time": "2022-05-13T15:15:10.784Z"
   },
   {
    "duration": 1204,
    "start_time": "2022-05-13T15:16:09.376Z"
   },
   {
    "duration": 3,
    "start_time": "2022-05-13T15:16:32.501Z"
   },
   {
    "duration": 7622,
    "start_time": "2022-05-13T15:16:35.049Z"
   },
   {
    "duration": 3,
    "start_time": "2022-05-13T15:16:52.694Z"
   },
   {
    "duration": 57240,
    "start_time": "2022-05-13T15:16:53.628Z"
   },
   {
    "duration": 1220,
    "start_time": "2022-05-13T15:17:50.871Z"
   },
   {
    "duration": 7,
    "start_time": "2022-05-13T15:29:15.886Z"
   },
   {
    "duration": 307,
    "start_time": "2022-05-13T15:30:06.897Z"
   },
   {
    "duration": 11,
    "start_time": "2022-05-13T15:30:07.858Z"
   },
   {
    "duration": 3,
    "start_time": "2022-05-13T15:30:15.107Z"
   },
   {
    "duration": 42051,
    "start_time": "2022-05-13T15:30:32.444Z"
   },
   {
    "duration": 137,
    "start_time": "2022-05-13T15:31:14.499Z"
   },
   {
    "duration": 142,
    "start_time": "2022-05-13T15:31:41.452Z"
   },
   {
    "duration": 291,
    "start_time": "2022-05-13T15:31:49.810Z"
   },
   {
    "duration": 13,
    "start_time": "2022-05-13T15:32:15.186Z"
   },
   {
    "duration": 9,
    "start_time": "2022-05-13T15:32:33.914Z"
   },
   {
    "duration": 12,
    "start_time": "2022-05-13T15:34:38.130Z"
   },
   {
    "duration": 4,
    "start_time": "2022-05-13T15:34:45.712Z"
   },
   {
    "duration": 4,
    "start_time": "2022-05-13T15:35:20.939Z"
   },
   {
    "duration": 3,
    "start_time": "2022-05-13T15:35:38.700Z"
   },
   {
    "duration": 315,
    "start_time": "2022-05-13T15:46:04.783Z"
   },
   {
    "duration": 3,
    "start_time": "2022-05-13T15:46:05.829Z"
   },
   {
    "duration": 24656,
    "start_time": "2022-05-13T15:46:07.208Z"
   },
   {
    "duration": 299,
    "start_time": "2022-05-13T15:46:31.867Z"
   },
   {
    "duration": 14,
    "start_time": "2022-05-13T15:46:32.168Z"
   },
   {
    "duration": 11,
    "start_time": "2022-05-13T15:47:44.435Z"
   },
   {
    "duration": 11,
    "start_time": "2022-05-13T15:49:26.244Z"
   },
   {
    "duration": 20,
    "start_time": "2022-05-13T15:55:26.180Z"
   },
   {
    "duration": 103,
    "start_time": "2022-05-13T15:55:37.064Z"
   },
   {
    "duration": 9,
    "start_time": "2022-05-13T15:55:43.893Z"
   },
   {
    "duration": 115,
    "start_time": "2022-05-13T15:57:55.301Z"
   },
   {
    "duration": 5,
    "start_time": "2022-05-13T15:58:08.821Z"
   },
   {
    "duration": 5,
    "start_time": "2022-05-13T15:59:17.078Z"
   },
   {
    "duration": 3,
    "start_time": "2022-05-13T15:59:19.336Z"
   },
   {
    "duration": 31152,
    "start_time": "2022-05-13T15:59:21.811Z"
   },
   {
    "duration": 313,
    "start_time": "2022-05-13T16:48:21.077Z"
   },
   {
    "duration": 12,
    "start_time": "2022-05-13T16:48:22.082Z"
   },
   {
    "duration": 0,
    "start_time": "2022-05-13T16:49:52.305Z"
   },
   {
    "duration": 507516,
    "start_time": "2022-05-13T16:50:12.062Z"
   },
   {
    "duration": 4,
    "start_time": "2022-05-13T16:59:49.651Z"
   },
   {
    "duration": 2,
    "start_time": "2022-05-13T17:01:19.625Z"
   },
   {
    "duration": 4,
    "start_time": "2022-05-13T17:02:32.677Z"
   },
   {
    "duration": 1935827,
    "start_time": "2022-05-13T17:03:08.450Z"
   },
   {
    "duration": 417923,
    "start_time": "2022-05-13T17:35:24.279Z"
   },
   {
    "duration": 493397,
    "start_time": "2022-05-13T17:43:44.607Z"
   },
   {
    "duration": 4,
    "start_time": "2022-05-13T18:10:09.548Z"
   },
   {
    "duration": 11,
    "start_time": "2022-05-13T18:13:45.439Z"
   },
   {
    "duration": 66,
    "start_time": "2022-05-13T18:14:32.212Z"
   },
   {
    "duration": 337,
    "start_time": "2022-05-13T18:14:58.901Z"
   },
   {
    "duration": 587,
    "start_time": "2022-05-13T18:16:18.006Z"
   },
   {
    "duration": 526,
    "start_time": "2022-05-13T18:16:37.871Z"
   },
   {
    "duration": 536,
    "start_time": "2022-05-13T18:17:03.560Z"
   },
   {
    "duration": 543,
    "start_time": "2022-05-13T18:18:00.005Z"
   },
   {
    "duration": 7,
    "start_time": "2022-05-13T18:20:05.327Z"
   },
   {
    "duration": 4,
    "start_time": "2022-05-13T18:23:45.092Z"
   },
   {
    "duration": 98,
    "start_time": "2022-05-13T18:24:11.957Z"
   },
   {
    "duration": 29,
    "start_time": "2022-05-13T18:29:06.566Z"
   },
   {
    "duration": 11,
    "start_time": "2022-05-13T18:29:33.504Z"
   },
   {
    "duration": 15,
    "start_time": "2022-05-13T18:30:43.347Z"
   },
   {
    "duration": 2245,
    "start_time": "2022-05-14T15:05:03.243Z"
   },
   {
    "duration": 1087,
    "start_time": "2022-05-14T15:05:05.492Z"
   },
   {
    "duration": 166,
    "start_time": "2022-05-14T15:05:06.582Z"
   },
   {
    "duration": 142,
    "start_time": "2022-05-14T15:05:06.750Z"
   },
   {
    "duration": 397,
    "start_time": "2022-05-14T15:05:06.896Z"
   },
   {
    "duration": 20,
    "start_time": "2022-05-14T15:05:07.295Z"
   },
   {
    "duration": 632,
    "start_time": "2022-05-14T15:05:07.318Z"
   },
   {
    "duration": 167,
    "start_time": "2022-05-14T15:05:07.952Z"
   },
   {
    "duration": 16,
    "start_time": "2022-05-14T15:05:08.120Z"
   },
   {
    "duration": 56,
    "start_time": "2022-05-14T15:05:08.138Z"
   },
   {
    "duration": 43,
    "start_time": "2022-05-14T15:05:08.197Z"
   },
   {
    "duration": 5,
    "start_time": "2022-05-14T15:05:08.242Z"
   },
   {
    "duration": 179,
    "start_time": "2022-05-14T15:05:08.250Z"
   },
   {
    "duration": 16,
    "start_time": "2022-05-14T15:05:08.433Z"
   },
   {
    "duration": 373,
    "start_time": "2022-05-14T15:05:08.451Z"
   },
   {
    "duration": 213,
    "start_time": "2022-05-14T15:05:08.826Z"
   },
   {
    "duration": 578,
    "start_time": "2022-05-14T15:05:09.041Z"
   },
   {
    "duration": 45,
    "start_time": "2022-05-14T15:05:09.622Z"
   },
   {
    "duration": 253,
    "start_time": "2022-05-14T15:05:09.669Z"
   },
   {
    "duration": 401,
    "start_time": "2022-05-14T15:05:09.925Z"
   },
   {
    "duration": 48,
    "start_time": "2022-05-14T15:05:10.328Z"
   },
   {
    "duration": 510,
    "start_time": "2022-05-14T15:05:10.379Z"
   },
   {
    "duration": 36,
    "start_time": "2022-05-14T15:05:10.893Z"
   },
   {
    "duration": 38,
    "start_time": "2022-05-14T15:05:10.932Z"
   },
   {
    "duration": 71,
    "start_time": "2022-05-14T15:05:10.993Z"
   },
   {
    "duration": 396,
    "start_time": "2022-05-14T15:05:11.066Z"
   },
   {
    "duration": 377,
    "start_time": "2022-05-14T15:05:11.464Z"
   },
   {
    "duration": 474,
    "start_time": "2022-05-14T15:05:11.843Z"
   },
   {
    "duration": 81,
    "start_time": "2022-05-14T15:05:12.319Z"
   },
   {
    "duration": 73,
    "start_time": "2022-05-14T15:05:12.402Z"
   },
   {
    "duration": 167,
    "start_time": "2022-05-14T15:05:12.477Z"
   },
   {
    "duration": 599,
    "start_time": "2022-05-14T15:05:17.814Z"
   },
   {
    "duration": 6,
    "start_time": "2022-05-14T15:05:37.006Z"
   },
   {
    "duration": 4,
    "start_time": "2022-05-14T15:05:52.422Z"
   },
   {
    "duration": 12,
    "start_time": "2022-05-14T15:06:01.089Z"
   },
   {
    "duration": 5,
    "start_time": "2022-05-14T15:06:49.115Z"
   },
   {
    "duration": 25,
    "start_time": "2022-05-14T15:07:12.888Z"
   },
   {
    "duration": 468,
    "start_time": "2022-05-14T15:07:14.980Z"
   },
   {
    "duration": 3,
    "start_time": "2022-05-14T15:07:16.793Z"
   },
   {
    "duration": 20951,
    "start_time": "2022-05-14T15:07:18.048Z"
   },
   {
    "duration": 5,
    "start_time": "2022-05-14T15:10:29.524Z"
   },
   {
    "duration": 4,
    "start_time": "2022-05-14T15:11:12.909Z"
   },
   {
    "duration": 155884,
    "start_time": "2022-05-14T15:12:27.119Z"
   },
   {
    "duration": 156864,
    "start_time": "2022-05-14T15:19:51.739Z"
   },
   {
    "duration": 193814,
    "start_time": "2022-05-14T15:24:52.662Z"
   },
   {
    "duration": 484249,
    "start_time": "2022-05-14T15:28:31.559Z"
   },
   {
    "duration": 4,
    "start_time": "2022-05-14T15:39:11.423Z"
   },
   {
    "duration": 39480,
    "start_time": "2022-05-14T15:39:30.835Z"
   },
   {
    "duration": 30093,
    "start_time": "2022-05-14T15:40:10.317Z"
   },
   {
    "duration": 4,
    "start_time": "2022-05-14T15:43:31.005Z"
   },
   {
    "duration": 55664,
    "start_time": "2022-05-14T15:43:53.073Z"
   },
   {
    "duration": 4,
    "start_time": "2022-05-14T15:45:16.420Z"
   },
   {
    "duration": 14372,
    "start_time": "2022-05-14T15:45:28.829Z"
   },
   {
    "duration": 251980,
    "start_time": "2022-05-14T15:47:30.017Z"
   },
   {
    "duration": 4,
    "start_time": "2022-05-14T15:52:30.934Z"
   },
   {
    "duration": 12,
    "start_time": "2022-05-14T15:52:40.535Z"
   },
   {
    "duration": 12828,
    "start_time": "2022-05-14T15:53:12.576Z"
   },
   {
    "duration": 19001,
    "start_time": "2022-05-14T15:53:25.407Z"
   },
   {
    "duration": 16294,
    "start_time": "2022-05-14T15:53:44.411Z"
   },
   {
    "duration": 4,
    "start_time": "2022-05-14T15:55:10.358Z"
   },
   {
    "duration": 92823,
    "start_time": "2022-05-14T15:55:16.473Z"
   },
   {
    "duration": 14,
    "start_time": "2022-05-14T15:56:49.299Z"
   },
   {
    "duration": 4,
    "start_time": "2022-05-14T16:01:41.791Z"
   },
   {
    "duration": 51334,
    "start_time": "2022-05-14T16:01:46.362Z"
   },
   {
    "duration": 16,
    "start_time": "2022-05-14T16:02:37.698Z"
   },
   {
    "duration": 564500,
    "start_time": "2022-05-14T16:05:19.102Z"
   },
   {
    "duration": 3,
    "start_time": "2022-05-14T16:43:00.702Z"
   },
   {
    "duration": 353314,
    "start_time": "2022-05-14T16:43:05.813Z"
   },
   {
    "duration": 76,
    "start_time": "2022-05-14T16:48:59.130Z"
   },
   {
    "duration": 933879,
    "start_time": "2022-05-14T16:54:55.929Z"
   },
   {
    "duration": 7,
    "start_time": "2022-05-14T17:10:29.811Z"
   },
   {
    "duration": 396824,
    "start_time": "2022-05-14T17:15:06.083Z"
   },
   {
    "duration": 675099,
    "start_time": "2022-05-14T17:21:57.008Z"
   },
   {
    "duration": 120,
    "start_time": "2022-05-14T18:20:38.547Z"
   },
   {
    "duration": 4,
    "start_time": "2022-05-14T18:21:26.331Z"
   },
   {
    "duration": 129,
    "start_time": "2022-05-14T18:21:37.685Z"
   },
   {
    "duration": 5,
    "start_time": "2022-05-14T18:21:41.133Z"
   },
   {
    "duration": 36,
    "start_time": "2022-05-14T18:21:47.298Z"
   },
   {
    "duration": 5,
    "start_time": "2022-05-14T18:25:00.034Z"
   },
   {
    "duration": 37,
    "start_time": "2022-05-14T18:25:02.528Z"
   },
   {
    "duration": 4,
    "start_time": "2022-05-14T18:28:50.372Z"
   },
   {
    "duration": 49,
    "start_time": "2022-05-14T18:28:53.686Z"
   },
   {
    "duration": 16,
    "start_time": "2022-05-14T18:30:39.336Z"
   },
   {
    "duration": 5,
    "start_time": "2022-05-14T18:31:19.205Z"
   },
   {
    "duration": 49,
    "start_time": "2022-05-14T18:31:22.246Z"
   },
   {
    "duration": 182,
    "start_time": "2022-05-14T18:32:55.356Z"
   },
   {
    "duration": 4,
    "start_time": "2022-05-14T18:34:11.465Z"
   },
   {
    "duration": 116,
    "start_time": "2022-05-14T18:34:13.009Z"
   },
   {
    "duration": 393,
    "start_time": "2022-05-14T18:41:53.421Z"
   },
   {
    "duration": 4,
    "start_time": "2022-05-14T18:42:03.688Z"
   },
   {
    "duration": 21303,
    "start_time": "2022-05-14T18:42:14.995Z"
   },
   {
    "duration": 7,
    "start_time": "2022-05-14T18:43:05.917Z"
   },
   {
    "duration": 26441,
    "start_time": "2022-05-14T18:43:08.559Z"
   },
   {
    "duration": 7,
    "start_time": "2022-05-14T18:47:53.586Z"
   },
   {
    "duration": 1048,
    "start_time": "2022-05-14T18:47:53.595Z"
   },
   {
    "duration": 163,
    "start_time": "2022-05-14T18:47:54.645Z"
   },
   {
    "duration": 113,
    "start_time": "2022-05-14T18:47:54.811Z"
   },
   {
    "duration": 375,
    "start_time": "2022-05-14T18:47:54.926Z"
   },
   {
    "duration": 20,
    "start_time": "2022-05-14T18:47:55.303Z"
   },
   {
    "duration": 570,
    "start_time": "2022-05-14T18:47:55.325Z"
   },
   {
    "duration": 156,
    "start_time": "2022-05-14T18:47:55.897Z"
   },
   {
    "duration": 15,
    "start_time": "2022-05-14T18:47:56.055Z"
   },
   {
    "duration": 40,
    "start_time": "2022-05-14T18:47:56.073Z"
   },
   {
    "duration": 29,
    "start_time": "2022-05-14T18:47:56.115Z"
   },
   {
    "duration": 5,
    "start_time": "2022-05-14T18:47:56.146Z"
   },
   {
    "duration": 148,
    "start_time": "2022-05-14T18:47:56.153Z"
   },
   {
    "duration": 16,
    "start_time": "2022-05-14T18:47:56.304Z"
   },
   {
    "duration": 328,
    "start_time": "2022-05-14T18:47:56.322Z"
   },
   {
    "duration": 219,
    "start_time": "2022-05-14T18:47:56.652Z"
   },
   {
    "duration": 481,
    "start_time": "2022-05-14T18:47:56.874Z"
   },
   {
    "duration": 59,
    "start_time": "2022-05-14T18:47:57.357Z"
   },
   {
    "duration": 254,
    "start_time": "2022-05-14T18:47:57.418Z"
   },
   {
    "duration": 408,
    "start_time": "2022-05-14T18:47:57.674Z"
   },
   {
    "duration": 47,
    "start_time": "2022-05-14T18:47:58.085Z"
   },
   {
    "duration": 491,
    "start_time": "2022-05-14T18:47:58.135Z"
   },
   {
    "duration": 36,
    "start_time": "2022-05-14T18:47:58.628Z"
   },
   {
    "duration": 51,
    "start_time": "2022-05-14T18:47:58.666Z"
   },
   {
    "duration": 81,
    "start_time": "2022-05-14T18:47:58.719Z"
   },
   {
    "duration": 394,
    "start_time": "2022-05-14T18:47:58.802Z"
   },
   {
    "duration": 373,
    "start_time": "2022-05-14T18:47:59.198Z"
   },
   {
    "duration": 482,
    "start_time": "2022-05-14T18:47:59.576Z"
   },
   {
    "duration": 76,
    "start_time": "2022-05-14T18:48:00.061Z"
   },
   {
    "duration": 91,
    "start_time": "2022-05-14T18:48:00.139Z"
   },
   {
    "duration": 162,
    "start_time": "2022-05-14T18:48:00.233Z"
   },
   {
    "duration": 774,
    "start_time": "2022-05-14T18:48:00.398Z"
   },
   {
    "duration": 5,
    "start_time": "2022-05-14T18:48:01.174Z"
   },
   {
    "duration": 17,
    "start_time": "2022-05-14T18:48:01.181Z"
   },
   {
    "duration": 20,
    "start_time": "2022-05-14T18:48:01.200Z"
   },
   {
    "duration": 36,
    "start_time": "2022-05-14T18:48:01.222Z"
   },
   {
    "duration": 24,
    "start_time": "2022-05-14T18:48:01.260Z"
   },
   {
    "duration": 33,
    "start_time": "2022-05-14T18:48:01.286Z"
   },
   {
    "duration": 461,
    "start_time": "2022-05-14T18:48:05.950Z"
   },
   {
    "duration": 4,
    "start_time": "2022-05-14T18:48:07.053Z"
   },
   {
    "duration": 21281,
    "start_time": "2022-05-14T18:48:07.916Z"
   },
   {
    "duration": 737935,
    "start_time": "2022-05-14T18:48:42.169Z"
   },
   {
    "duration": 6,
    "start_time": "2022-05-14T19:01:00.107Z"
   },
   {
    "duration": 4,
    "start_time": "2022-05-14T19:03:41.174Z"
   },
   {
    "duration": 22,
    "start_time": "2022-05-14T19:03:44.058Z"
   },
   {
    "duration": 3,
    "start_time": "2022-05-14T19:04:49.298Z"
   },
   {
    "duration": 339959,
    "start_time": "2022-05-14T19:05:04.353Z"
   },
   {
    "duration": 4,
    "start_time": "2022-05-14T19:18:04.453Z"
   },
   {
    "duration": 63472,
    "start_time": "2022-05-14T19:18:05.752Z"
   },
   {
    "duration": 768,
    "start_time": "2022-05-14T19:19:09.227Z"
   },
   {
    "duration": 461,
    "start_time": "2022-05-14T19:19:46.851Z"
   },
   {
    "duration": 706,
    "start_time": "2022-05-14T19:21:13.359Z"
   },
   {
    "duration": 545,
    "start_time": "2022-05-14T19:21:31.595Z"
   },
   {
    "duration": 21,
    "start_time": "2022-05-14T19:25:49.242Z"
   },
   {
    "duration": 2905,
    "start_time": "2022-05-14T19:26:58.514Z"
   },
   {
    "duration": 10,
    "start_time": "2022-05-14T19:27:17.214Z"
   },
   {
    "duration": 9,
    "start_time": "2022-05-14T19:27:21.459Z"
   },
   {
    "duration": 54432,
    "start_time": "2022-05-14T19:27:59.979Z"
   },
   {
    "duration": 12,
    "start_time": "2022-05-14T19:30:37.632Z"
   },
   {
    "duration": 13,
    "start_time": "2022-05-14T19:31:21.093Z"
   },
   {
    "duration": 10,
    "start_time": "2022-05-14T19:31:32.676Z"
   },
   {
    "duration": 13,
    "start_time": "2022-05-14T19:31:33.850Z"
   },
   {
    "duration": 58922,
    "start_time": "2022-05-14T19:31:35.873Z"
   },
   {
    "duration": 20,
    "start_time": "2022-05-14T19:32:53.513Z"
   },
   {
    "duration": 371,
    "start_time": "2022-05-14T19:33:07.450Z"
   },
   {
    "duration": 18,
    "start_time": "2022-05-14T19:33:12.540Z"
   },
   {
    "duration": 37619,
    "start_time": "2022-05-14T19:33:18.815Z"
   },
   {
    "duration": 16,
    "start_time": "2022-05-14T19:35:43.483Z"
   },
   {
    "duration": 22,
    "start_time": "2022-05-14T19:35:52.491Z"
   },
   {
    "duration": 29,
    "start_time": "2022-05-14T19:36:03.910Z"
   },
   {
    "duration": 26,
    "start_time": "2022-05-14T19:36:11.430Z"
   },
   {
    "duration": 15,
    "start_time": "2022-05-14T19:36:41.094Z"
   },
   {
    "duration": 6,
    "start_time": "2022-05-14T19:36:52.771Z"
   },
   {
    "duration": 368,
    "start_time": "2022-05-14T19:40:01.786Z"
   },
   {
    "duration": 10,
    "start_time": "2022-05-14T19:40:17.609Z"
   },
   {
    "duration": 42645,
    "start_time": "2022-05-14T19:40:23.866Z"
   },
   {
    "duration": 4,
    "start_time": "2022-05-14T19:42:40.642Z"
   },
   {
    "duration": 47090,
    "start_time": "2022-05-14T19:42:44.850Z"
   },
   {
    "duration": 373,
    "start_time": "2022-05-14T19:43:34.792Z"
   },
   {
    "duration": 4,
    "start_time": "2022-05-14T19:43:43.173Z"
   },
   {
    "duration": 76805,
    "start_time": "2022-05-14T19:43:44.605Z"
   },
   {
    "duration": 4,
    "start_time": "2022-05-14T19:46:39.010Z"
   },
   {
    "duration": 54284,
    "start_time": "2022-05-14T19:47:22.150Z"
   },
   {
    "duration": 4,
    "start_time": "2022-05-14T19:49:20.617Z"
   },
   {
    "duration": 43455,
    "start_time": "2022-05-14T19:49:22.950Z"
   },
   {
    "duration": 4,
    "start_time": "2022-05-14T19:52:30.544Z"
   },
   {
    "duration": 28573,
    "start_time": "2022-05-14T19:52:31.240Z"
   },
   {
    "duration": 6,
    "start_time": "2022-05-14T20:04:14.927Z"
   },
   {
    "duration": 12,
    "start_time": "2022-05-14T20:04:19.760Z"
   },
   {
    "duration": 50394,
    "start_time": "2022-05-14T20:05:04.313Z"
   },
   {
    "duration": 7,
    "start_time": "2022-05-14T20:08:04.151Z"
   },
   {
    "duration": 999,
    "start_time": "2022-05-14T20:08:04.160Z"
   },
   {
    "duration": 165,
    "start_time": "2022-05-14T20:08:05.161Z"
   },
   {
    "duration": 124,
    "start_time": "2022-05-14T20:08:05.329Z"
   },
   {
    "duration": 373,
    "start_time": "2022-05-14T20:08:05.457Z"
   },
   {
    "duration": 19,
    "start_time": "2022-05-14T20:08:05.832Z"
   },
   {
    "duration": 558,
    "start_time": "2022-05-14T20:08:05.853Z"
   },
   {
    "duration": 155,
    "start_time": "2022-05-14T20:08:06.413Z"
   },
   {
    "duration": 30,
    "start_time": "2022-05-14T20:08:06.570Z"
   },
   {
    "duration": 24,
    "start_time": "2022-05-14T20:08:06.602Z"
   },
   {
    "duration": 28,
    "start_time": "2022-05-14T20:08:06.628Z"
   },
   {
    "duration": 5,
    "start_time": "2022-05-14T20:08:06.658Z"
   },
   {
    "duration": 163,
    "start_time": "2022-05-14T20:08:06.664Z"
   },
   {
    "duration": 16,
    "start_time": "2022-05-14T20:08:06.832Z"
   },
   {
    "duration": 331,
    "start_time": "2022-05-14T20:08:06.850Z"
   },
   {
    "duration": 209,
    "start_time": "2022-05-14T20:08:07.183Z"
   },
   {
    "duration": 474,
    "start_time": "2022-05-14T20:08:07.394Z"
   },
   {
    "duration": 54,
    "start_time": "2022-05-14T20:08:07.870Z"
   },
   {
    "duration": 250,
    "start_time": "2022-05-14T20:08:07.926Z"
   },
   {
    "duration": 398,
    "start_time": "2022-05-14T20:08:08.178Z"
   },
   {
    "duration": 53,
    "start_time": "2022-05-14T20:08:08.578Z"
   },
   {
    "duration": 439,
    "start_time": "2022-05-14T20:08:08.634Z"
   },
   {
    "duration": 44,
    "start_time": "2022-05-14T20:08:09.075Z"
   },
   {
    "duration": 39,
    "start_time": "2022-05-14T20:08:09.121Z"
   },
   {
    "duration": 87,
    "start_time": "2022-05-14T20:08:09.162Z"
   },
   {
    "duration": 376,
    "start_time": "2022-05-14T20:08:09.251Z"
   },
   {
    "duration": 477,
    "start_time": "2022-05-14T20:08:09.629Z"
   },
   {
    "duration": 457,
    "start_time": "2022-05-14T20:08:10.108Z"
   },
   {
    "duration": 73,
    "start_time": "2022-05-14T20:08:10.567Z"
   },
   {
    "duration": 91,
    "start_time": "2022-05-14T20:08:10.642Z"
   },
   {
    "duration": 162,
    "start_time": "2022-05-14T20:08:10.735Z"
   },
   {
    "duration": 512,
    "start_time": "2022-05-14T20:08:10.899Z"
   },
   {
    "duration": 6,
    "start_time": "2022-05-14T20:08:11.413Z"
   },
   {
    "duration": 15,
    "start_time": "2022-05-14T20:08:11.421Z"
   },
   {
    "duration": 6,
    "start_time": "2022-05-14T20:08:11.438Z"
   },
   {
    "duration": 9,
    "start_time": "2022-05-14T20:08:11.446Z"
   },
   {
    "duration": 14,
    "start_time": "2022-05-14T20:08:11.457Z"
   },
   {
    "duration": 24,
    "start_time": "2022-05-14T20:08:11.493Z"
   },
   {
    "duration": 558,
    "start_time": "2022-05-14T20:08:11.519Z"
   },
   {
    "duration": 4,
    "start_time": "2022-05-14T20:08:12.079Z"
   },
   {
    "duration": 21006,
    "start_time": "2022-05-14T20:08:12.096Z"
   },
   {
    "duration": 3,
    "start_time": "2022-05-14T20:08:33.194Z"
   },
   {
    "duration": 9716,
    "start_time": "2022-05-14T20:08:33.199Z"
   },
   {
    "duration": 1334615,
    "start_time": "2022-05-14T20:08:42.917Z"
   },
   {
    "duration": 0,
    "start_time": "2022-05-14T20:30:57.535Z"
   },
   {
    "duration": 0,
    "start_time": "2022-05-14T20:30:57.594Z"
   },
   {
    "duration": 0,
    "start_time": "2022-05-14T20:30:57.595Z"
   },
   {
    "duration": 0,
    "start_time": "2022-05-14T20:30:57.597Z"
   },
   {
    "duration": 0,
    "start_time": "2022-05-14T20:30:57.598Z"
   },
   {
    "duration": 0,
    "start_time": "2022-05-14T20:30:57.600Z"
   },
   {
    "duration": 0,
    "start_time": "2022-05-14T20:30:57.601Z"
   },
   {
    "duration": 7,
    "start_time": "2022-05-14T20:31:07.098Z"
   },
   {
    "duration": 1071,
    "start_time": "2022-05-14T20:31:07.108Z"
   },
   {
    "duration": 167,
    "start_time": "2022-05-14T20:31:08.181Z"
   },
   {
    "duration": 123,
    "start_time": "2022-05-14T20:31:08.351Z"
   },
   {
    "duration": 387,
    "start_time": "2022-05-14T20:31:08.476Z"
   },
   {
    "duration": 31,
    "start_time": "2022-05-14T20:31:08.865Z"
   },
   {
    "duration": 595,
    "start_time": "2022-05-14T20:31:08.899Z"
   },
   {
    "duration": 167,
    "start_time": "2022-05-14T20:31:09.497Z"
   },
   {
    "duration": 28,
    "start_time": "2022-05-14T20:31:09.666Z"
   },
   {
    "duration": 24,
    "start_time": "2022-05-14T20:31:09.698Z"
   },
   {
    "duration": 30,
    "start_time": "2022-05-14T20:31:09.725Z"
   },
   {
    "duration": 4,
    "start_time": "2022-05-14T20:31:09.758Z"
   },
   {
    "duration": 178,
    "start_time": "2022-05-14T20:31:09.764Z"
   },
   {
    "duration": 16,
    "start_time": "2022-05-14T20:31:09.945Z"
   },
   {
    "duration": 333,
    "start_time": "2022-05-14T20:31:09.963Z"
   },
   {
    "duration": 218,
    "start_time": "2022-05-14T20:31:10.298Z"
   },
   {
    "duration": 501,
    "start_time": "2022-05-14T20:31:10.518Z"
   },
   {
    "duration": 44,
    "start_time": "2022-05-14T20:31:11.021Z"
   },
   {
    "duration": 276,
    "start_time": "2022-05-14T20:31:11.067Z"
   },
   {
    "duration": 508,
    "start_time": "2022-05-14T20:31:11.345Z"
   },
   {
    "duration": 56,
    "start_time": "2022-05-14T20:31:11.857Z"
   },
   {
    "duration": 480,
    "start_time": "2022-05-14T20:31:11.915Z"
   },
   {
    "duration": 37,
    "start_time": "2022-05-14T20:31:12.397Z"
   },
   {
    "duration": 65,
    "start_time": "2022-05-14T20:31:12.436Z"
   },
   {
    "duration": 74,
    "start_time": "2022-05-14T20:31:12.503Z"
   },
   {
    "duration": 414,
    "start_time": "2022-05-14T20:31:12.579Z"
   },
   {
    "duration": 407,
    "start_time": "2022-05-14T20:31:12.995Z"
   },
   {
    "duration": 471,
    "start_time": "2022-05-14T20:31:13.407Z"
   },
   {
    "duration": 78,
    "start_time": "2022-05-14T20:31:13.880Z"
   },
   {
    "duration": 94,
    "start_time": "2022-05-14T20:31:13.960Z"
   },
   {
    "duration": 168,
    "start_time": "2022-05-14T20:31:14.056Z"
   },
   {
    "duration": 548,
    "start_time": "2022-05-14T20:31:14.226Z"
   },
   {
    "duration": 5,
    "start_time": "2022-05-14T20:31:14.776Z"
   },
   {
    "duration": 5,
    "start_time": "2022-05-14T20:31:14.793Z"
   },
   {
    "duration": 4,
    "start_time": "2022-05-14T20:31:14.801Z"
   },
   {
    "duration": 7,
    "start_time": "2022-05-14T20:31:14.808Z"
   },
   {
    "duration": 14,
    "start_time": "2022-05-14T20:31:14.817Z"
   },
   {
    "duration": 26,
    "start_time": "2022-05-14T20:31:14.833Z"
   },
   {
    "duration": 565,
    "start_time": "2022-05-14T20:31:14.892Z"
   },
   {
    "duration": 3,
    "start_time": "2022-05-14T20:31:15.459Z"
   },
   {
    "duration": 30133,
    "start_time": "2022-05-14T20:31:15.464Z"
   },
   {
    "duration": 4,
    "start_time": "2022-05-14T20:31:45.600Z"
   },
   {
    "duration": 35614,
    "start_time": "2022-05-14T20:31:45.607Z"
   },
   {
    "duration": 4,
    "start_time": "2022-05-14T20:32:21.227Z"
   },
   {
    "duration": 114391,
    "start_time": "2022-05-14T20:32:21.233Z"
   },
   {
    "duration": 3,
    "start_time": "2022-05-14T20:34:15.627Z"
   },
   {
    "duration": 28388,
    "start_time": "2022-05-14T20:34:15.632Z"
   },
   {
    "duration": 579,
    "start_time": "2022-05-14T20:34:44.022Z"
   },
   {
    "duration": 10,
    "start_time": "2022-05-14T20:34:44.603Z"
   },
   {
    "duration": 50693,
    "start_time": "2022-05-14T20:34:44.615Z"
   },
   {
    "duration": 121,
    "start_time": "2022-05-14T20:36:02.885Z"
   },
   {
    "duration": 4,
    "start_time": "2022-05-14T20:36:03.821Z"
   },
   {
    "duration": 105080,
    "start_time": "2022-05-14T20:36:05.749Z"
   },
   {
    "duration": 1300515,
    "start_time": "2022-05-14T20:38:00.930Z"
   },
   {
    "duration": 380056,
    "start_time": "2022-05-14T21:10:19.375Z"
   },
   {
    "duration": 5,
    "start_time": "2022-05-14T21:17:16.414Z"
   },
   {
    "duration": 30557,
    "start_time": "2022-05-14T21:17:25.919Z"
   },
   {
    "duration": 4,
    "start_time": "2022-05-14T21:20:10.117Z"
   },
   {
    "duration": 14735,
    "start_time": "2022-05-14T21:20:10.759Z"
   },
   {
    "duration": 169,
    "start_time": "2022-05-14T21:31:50.889Z"
   },
   {
    "duration": 12,
    "start_time": "2022-05-14T21:32:32.903Z"
   },
   {
    "duration": 5,
    "start_time": "2022-05-14T21:32:46.106Z"
   },
   {
    "duration": 1654,
    "start_time": "2022-05-15T03:54:02.094Z"
   },
   {
    "duration": 848,
    "start_time": "2022-05-15T03:54:03.750Z"
   },
   {
    "duration": 123,
    "start_time": "2022-05-15T03:54:04.600Z"
   },
   {
    "duration": 146,
    "start_time": "2022-05-15T03:54:04.725Z"
   },
   {
    "duration": 242,
    "start_time": "2022-05-15T03:54:04.873Z"
   },
   {
    "duration": 12,
    "start_time": "2022-05-15T03:54:05.117Z"
   },
   {
    "duration": 445,
    "start_time": "2022-05-15T03:54:05.130Z"
   },
   {
    "duration": 121,
    "start_time": "2022-05-15T03:54:05.576Z"
   },
   {
    "duration": 10,
    "start_time": "2022-05-15T03:54:05.698Z"
   },
   {
    "duration": 16,
    "start_time": "2022-05-15T03:54:05.709Z"
   },
   {
    "duration": 44,
    "start_time": "2022-05-15T03:54:05.727Z"
   },
   {
    "duration": 8,
    "start_time": "2022-05-15T03:54:05.773Z"
   },
   {
    "duration": 113,
    "start_time": "2022-05-15T03:54:05.782Z"
   },
   {
    "duration": 11,
    "start_time": "2022-05-15T03:54:05.898Z"
   },
   {
    "duration": 264,
    "start_time": "2022-05-15T03:54:05.910Z"
   },
   {
    "duration": 156,
    "start_time": "2022-05-15T03:54:06.175Z"
   },
   {
    "duration": 373,
    "start_time": "2022-05-15T03:54:06.332Z"
   },
   {
    "duration": 24,
    "start_time": "2022-05-15T03:54:06.707Z"
   },
   {
    "duration": 147,
    "start_time": "2022-05-15T03:54:06.733Z"
   },
   {
    "duration": 269,
    "start_time": "2022-05-15T03:54:06.882Z"
   },
   {
    "duration": 32,
    "start_time": "2022-05-15T03:54:07.152Z"
   },
   {
    "duration": 391,
    "start_time": "2022-05-15T03:54:07.186Z"
   },
   {
    "duration": 19,
    "start_time": "2022-05-15T03:54:07.578Z"
   },
   {
    "duration": 26,
    "start_time": "2022-05-15T03:54:07.599Z"
   },
   {
    "duration": 71,
    "start_time": "2022-05-15T03:54:07.626Z"
   },
   {
    "duration": 226,
    "start_time": "2022-05-15T03:54:07.699Z"
   },
   {
    "duration": 226,
    "start_time": "2022-05-15T03:54:07.927Z"
   },
   {
    "duration": 262,
    "start_time": "2022-05-15T03:54:08.154Z"
   },
   {
    "duration": 59,
    "start_time": "2022-05-15T03:54:08.417Z"
   },
   {
    "duration": 52,
    "start_time": "2022-05-15T03:54:08.478Z"
   },
   {
    "duration": 116,
    "start_time": "2022-05-15T03:54:08.532Z"
   },
   {
    "duration": 468,
    "start_time": "2022-05-15T03:54:08.649Z"
   },
   {
    "duration": 4,
    "start_time": "2022-05-15T03:54:09.119Z"
   },
   {
    "duration": 5,
    "start_time": "2022-05-15T03:54:09.124Z"
   },
   {
    "duration": 6,
    "start_time": "2022-05-15T03:54:09.131Z"
   },
   {
    "duration": 6,
    "start_time": "2022-05-15T03:54:09.138Z"
   },
   {
    "duration": 2,
    "start_time": "2022-05-15T03:54:09.162Z"
   },
   {
    "duration": 11,
    "start_time": "2022-05-15T03:54:09.165Z"
   },
   {
    "duration": 16,
    "start_time": "2022-05-15T03:54:09.178Z"
   },
   {
    "duration": 60,
    "start_time": "2022-05-15T03:59:57.203Z"
   },
   {
    "duration": 2,
    "start_time": "2022-05-15T04:00:08.290Z"
   },
   {
    "duration": 186083,
    "start_time": "2022-05-15T04:00:13.232Z"
   },
   {
    "duration": 3,
    "start_time": "2022-05-15T04:03:47.458Z"
   },
   {
    "duration": 69457,
    "start_time": "2022-05-15T04:03:50.527Z"
   },
   {
    "duration": 518646,
    "start_time": "2022-05-15T04:07:22.105Z"
   },
   {
    "duration": 3,
    "start_time": "2022-05-15T04:19:51.317Z"
   },
   {
    "duration": 69166,
    "start_time": "2022-05-15T04:20:24.298Z"
   },
   {
    "duration": 2,
    "start_time": "2022-05-15T04:28:09.896Z"
   },
   {
    "duration": 9154,
    "start_time": "2022-05-15T04:28:13.437Z"
   },
   {
    "duration": 9,
    "start_time": "2022-05-15T04:29:10.739Z"
   },
   {
    "duration": 3526,
    "start_time": "2022-05-15T04:29:29.785Z"
   },
   {
    "duration": 346,
    "start_time": "2022-05-15T04:30:18.688Z"
   },
   {
    "duration": 3,
    "start_time": "2022-05-15T04:30:38.633Z"
   },
   {
    "duration": 12285,
    "start_time": "2022-05-15T04:30:40.355Z"
   },
   {
    "duration": 3296,
    "start_time": "2022-05-15T10:04:53.687Z"
   },
   {
    "duration": 1319,
    "start_time": "2022-05-15T10:04:56.986Z"
   },
   {
    "duration": 182,
    "start_time": "2022-05-15T10:04:58.308Z"
   },
   {
    "duration": 153,
    "start_time": "2022-05-15T10:04:58.494Z"
   },
   {
    "duration": 419,
    "start_time": "2022-05-15T10:04:58.650Z"
   },
   {
    "duration": 21,
    "start_time": "2022-05-15T10:04:59.072Z"
   },
   {
    "duration": 741,
    "start_time": "2022-05-15T10:04:59.096Z"
   },
   {
    "duration": 176,
    "start_time": "2022-05-15T10:04:59.840Z"
   },
   {
    "duration": 19,
    "start_time": "2022-05-15T10:05:00.024Z"
   },
   {
    "duration": 29,
    "start_time": "2022-05-15T10:05:00.049Z"
   },
   {
    "duration": 72,
    "start_time": "2022-05-15T10:05:00.081Z"
   },
   {
    "duration": 11,
    "start_time": "2022-05-15T10:05:00.156Z"
   },
   {
    "duration": 162,
    "start_time": "2022-05-15T10:05:00.169Z"
   },
   {
    "duration": 18,
    "start_time": "2022-05-15T10:05:00.333Z"
   },
   {
    "duration": 364,
    "start_time": "2022-05-15T10:05:00.353Z"
   },
   {
    "duration": 232,
    "start_time": "2022-05-15T10:05:00.720Z"
   },
   {
    "duration": 537,
    "start_time": "2022-05-15T10:05:00.955Z"
   },
   {
    "duration": 54,
    "start_time": "2022-05-15T10:05:01.494Z"
   },
   {
    "duration": 263,
    "start_time": "2022-05-15T10:05:01.550Z"
   },
   {
    "duration": 427,
    "start_time": "2022-05-15T10:05:01.816Z"
   },
   {
    "duration": 48,
    "start_time": "2022-05-15T10:05:02.245Z"
   },
   {
    "duration": 596,
    "start_time": "2022-05-15T10:05:02.296Z"
   },
   {
    "duration": 54,
    "start_time": "2022-05-15T10:05:02.894Z"
   },
   {
    "duration": 40,
    "start_time": "2022-05-15T10:05:02.951Z"
   },
   {
    "duration": 102,
    "start_time": "2022-05-15T10:05:02.994Z"
   },
   {
    "duration": 413,
    "start_time": "2022-05-15T10:05:03.098Z"
   },
   {
    "duration": 410,
    "start_time": "2022-05-15T10:05:03.514Z"
   },
   {
    "duration": 492,
    "start_time": "2022-05-15T10:05:03.930Z"
   },
   {
    "duration": 74,
    "start_time": "2022-05-15T10:05:04.425Z"
   },
   {
    "duration": 98,
    "start_time": "2022-05-15T10:05:04.501Z"
   },
   {
    "duration": 180,
    "start_time": "2022-05-15T10:05:04.601Z"
   },
   {
    "duration": 1104,
    "start_time": "2022-05-15T10:05:04.783Z"
   },
   {
    "duration": 7,
    "start_time": "2022-05-15T10:05:05.890Z"
   },
   {
    "duration": 25,
    "start_time": "2022-05-15T10:05:05.900Z"
   },
   {
    "duration": 11,
    "start_time": "2022-05-15T10:05:05.927Z"
   },
   {
    "duration": 14,
    "start_time": "2022-05-15T10:05:05.941Z"
   },
   {
    "duration": 10,
    "start_time": "2022-05-15T10:05:05.957Z"
   },
   {
    "duration": 27,
    "start_time": "2022-05-15T10:05:05.969Z"
   },
   {
    "duration": 45,
    "start_time": "2022-05-15T10:05:05.998Z"
   },
   {
    "duration": 652,
    "start_time": "2022-05-15T10:05:06.046Z"
   },
   {
    "duration": 4,
    "start_time": "2022-05-15T10:05:06.701Z"
   },
   {
    "duration": 31425,
    "start_time": "2022-05-15T10:05:06.707Z"
   },
   {
    "duration": 3,
    "start_time": "2022-05-15T10:05:38.135Z"
   },
   {
    "duration": 396503,
    "start_time": "2022-05-15T10:05:38.140Z"
   },
   {
    "duration": 673495,
    "start_time": "2022-05-15T10:12:14.647Z"
   },
   {
    "duration": 4,
    "start_time": "2022-05-15T10:23:28.144Z"
   },
   {
    "duration": 111796,
    "start_time": "2022-05-15T10:23:28.150Z"
   },
   {
    "duration": 4,
    "start_time": "2022-05-15T10:25:19.949Z"
   },
   {
    "duration": 32782,
    "start_time": "2022-05-15T10:25:19.955Z"
   },
   {
    "duration": 616,
    "start_time": "2022-05-15T10:25:52.739Z"
   },
   {
    "duration": 11,
    "start_time": "2022-05-15T10:25:53.359Z"
   },
   {
    "duration": 297365,
    "start_time": "2022-05-15T10:25:53.373Z"
   },
   {
    "duration": 151,
    "start_time": "2022-05-15T10:30:50.740Z"
   },
   {
    "duration": 5,
    "start_time": "2022-05-15T10:30:50.893Z"
   },
   {
    "duration": 413102,
    "start_time": "2022-05-15T10:30:50.901Z"
   },
   {
    "duration": 426,
    "start_time": "2022-05-15T10:37:44.005Z"
   },
   {
    "duration": 4,
    "start_time": "2022-05-15T10:37:44.433Z"
   },
   {
    "duration": 48347,
    "start_time": "2022-05-15T10:37:44.439Z"
   },
   {
    "duration": 1778,
    "start_time": "2022-05-15T13:46:29.803Z"
   },
   {
    "duration": 853,
    "start_time": "2022-05-15T13:46:31.583Z"
   },
   {
    "duration": 136,
    "start_time": "2022-05-15T13:46:32.439Z"
   },
   {
    "duration": 119,
    "start_time": "2022-05-15T13:46:32.577Z"
   },
   {
    "duration": 284,
    "start_time": "2022-05-15T13:46:32.708Z"
   },
   {
    "duration": 18,
    "start_time": "2022-05-15T13:46:32.994Z"
   },
   {
    "duration": 465,
    "start_time": "2022-05-15T13:46:33.014Z"
   },
   {
    "duration": 134,
    "start_time": "2022-05-15T13:46:33.481Z"
   },
   {
    "duration": 11,
    "start_time": "2022-05-15T13:46:33.616Z"
   },
   {
    "duration": 18,
    "start_time": "2022-05-15T13:46:33.629Z"
   },
   {
    "duration": 17,
    "start_time": "2022-05-15T13:46:33.649Z"
   },
   {
    "duration": 39,
    "start_time": "2022-05-15T13:46:33.668Z"
   },
   {
    "duration": 121,
    "start_time": "2022-05-15T13:46:33.709Z"
   },
   {
    "duration": 13,
    "start_time": "2022-05-15T13:46:33.833Z"
   },
   {
    "duration": 268,
    "start_time": "2022-05-15T13:46:33.848Z"
   },
   {
    "duration": 168,
    "start_time": "2022-05-15T13:46:34.117Z"
   },
   {
    "duration": 421,
    "start_time": "2022-05-15T13:46:34.286Z"
   },
   {
    "duration": 23,
    "start_time": "2022-05-15T13:46:34.709Z"
   },
   {
    "duration": 205,
    "start_time": "2022-05-15T13:46:34.734Z"
   },
   {
    "duration": 335,
    "start_time": "2022-05-15T13:46:34.941Z"
   },
   {
    "duration": 29,
    "start_time": "2022-05-15T13:46:35.278Z"
   },
   {
    "duration": 434,
    "start_time": "2022-05-15T13:46:35.309Z"
   },
   {
    "duration": 22,
    "start_time": "2022-05-15T13:46:35.745Z"
   },
   {
    "duration": 47,
    "start_time": "2022-05-15T13:46:35.769Z"
   },
   {
    "duration": 65,
    "start_time": "2022-05-15T13:46:35.818Z"
   },
   {
    "duration": 280,
    "start_time": "2022-05-15T13:46:35.884Z"
   },
   {
    "duration": 253,
    "start_time": "2022-05-15T13:46:36.166Z"
   },
   {
    "duration": 304,
    "start_time": "2022-05-15T13:46:36.421Z"
   },
   {
    "duration": 65,
    "start_time": "2022-05-15T13:46:36.726Z"
   },
   {
    "duration": 76,
    "start_time": "2022-05-15T13:46:36.792Z"
   },
   {
    "duration": 130,
    "start_time": "2022-05-15T13:46:36.870Z"
   },
   {
    "duration": 502,
    "start_time": "2022-05-15T13:46:37.006Z"
   },
   {
    "duration": 4,
    "start_time": "2022-05-15T13:46:37.510Z"
   },
   {
    "duration": 4,
    "start_time": "2022-05-15T13:46:37.516Z"
   },
   {
    "duration": 5,
    "start_time": "2022-05-15T13:46:37.523Z"
   },
   {
    "duration": 6,
    "start_time": "2022-05-15T13:46:37.530Z"
   },
   {
    "duration": 5,
    "start_time": "2022-05-15T13:46:37.537Z"
   },
   {
    "duration": 10,
    "start_time": "2022-05-15T13:46:37.544Z"
   },
   {
    "duration": 53,
    "start_time": "2022-05-15T13:46:37.556Z"
   },
   {
    "duration": 376,
    "start_time": "2022-05-15T13:47:26.560Z"
   },
   {
    "duration": 3,
    "start_time": "2022-05-15T13:47:28.708Z"
   },
   {
    "duration": 159495,
    "start_time": "2022-05-15T13:47:40.744Z"
   },
   {
    "duration": 506782,
    "start_time": "2022-05-15T13:51:44.902Z"
   },
   {
    "duration": 3,
    "start_time": "2022-05-15T14:01:49.276Z"
   },
   {
    "duration": 3,
    "start_time": "2022-05-15T14:02:05.004Z"
   },
   {
    "duration": 49296,
    "start_time": "2022-05-15T14:02:06.609Z"
   },
   {
    "duration": 4,
    "start_time": "2022-05-15T14:03:04.260Z"
   },
   {
    "duration": 61488,
    "start_time": "2022-05-15T14:03:07.429Z"
   },
   {
    "duration": 3,
    "start_time": "2022-05-15T14:05:20.867Z"
   },
   {
    "duration": 35010,
    "start_time": "2022-05-15T14:05:25.151Z"
   },
   {
    "duration": 3,
    "start_time": "2022-05-15T14:06:19.219Z"
   },
   {
    "duration": 29124,
    "start_time": "2022-05-15T14:06:20.013Z"
   },
   {
    "duration": 12,
    "start_time": "2022-05-15T14:07:31.827Z"
   },
   {
    "duration": 124,
    "start_time": "2022-05-15T14:08:05.241Z"
   },
   {
    "duration": 2090,
    "start_time": "2022-05-15T14:08:16.196Z"
   },
   {
    "duration": 1902,
    "start_time": "2022-05-15T14:08:35.554Z"
   },
   {
    "duration": 1924,
    "start_time": "2022-05-15T14:09:22.593Z"
   },
   {
    "duration": 2021,
    "start_time": "2022-05-15T14:12:13.835Z"
   },
   {
    "duration": 1892,
    "start_time": "2022-05-15T14:12:35.469Z"
   },
   {
    "duration": 13,
    "start_time": "2022-05-15T14:13:03.334Z"
   },
   {
    "duration": 5,
    "start_time": "2022-05-15T14:13:14.287Z"
   },
   {
    "duration": 21,
    "start_time": "2022-05-15T14:14:38.609Z"
   },
   {
    "duration": 20,
    "start_time": "2022-05-15T14:15:07.056Z"
   },
   {
    "duration": 9,
    "start_time": "2022-05-15T14:16:05.680Z"
   },
   {
    "duration": 50781,
    "start_time": "2022-05-15T14:16:27.466Z"
   },
   {
    "duration": 322,
    "start_time": "2022-05-15T14:34:15.529Z"
   },
   {
    "duration": 10,
    "start_time": "2022-05-15T14:36:00.026Z"
   },
   {
    "duration": 11,
    "start_time": "2022-05-15T14:36:22.801Z"
   },
   {
    "duration": 5,
    "start_time": "2022-05-15T14:36:44.668Z"
   },
   {
    "duration": 3,
    "start_time": "2022-05-15T14:36:52.132Z"
   },
   {
    "duration": 409043,
    "start_time": "2022-05-15T14:45:50.993Z"
   },
   {
    "duration": 2846792,
    "start_time": "2022-05-15T15:14:18.501Z"
   },
   {
    "duration": 3,
    "start_time": "2022-05-15T16:02:56.267Z"
   },
   {
    "duration": 618687,
    "start_time": "2022-05-15T16:02:57.464Z"
   },
   {
    "duration": 2,
    "start_time": "2022-05-15T16:13:22.626Z"
   },
   {
    "duration": 538254,
    "start_time": "2022-05-15T16:13:23.887Z"
   },
   {
    "duration": 2,
    "start_time": "2022-05-15T16:22:31.138Z"
   },
   {
    "duration": 254256,
    "start_time": "2022-05-15T16:22:33.096Z"
   },
   {
    "duration": 3,
    "start_time": "2022-05-15T16:39:44.238Z"
   },
   {
    "duration": 445545,
    "start_time": "2022-05-15T16:39:47.099Z"
   },
   {
    "duration": 3,
    "start_time": "2022-05-15T17:51:04.045Z"
   },
   {
    "duration": 43538,
    "start_time": "2022-05-15T17:51:07.388Z"
   },
   {
    "duration": 0,
    "start_time": "2022-05-15T17:51:50.927Z"
   },
   {
    "duration": 3,
    "start_time": "2022-05-15T17:51:53.130Z"
   },
   {
    "duration": 162,
    "start_time": "2022-05-15T17:54:07.376Z"
   },
   {
    "duration": 1648,
    "start_time": "2022-05-15T17:54:25.839Z"
   },
   {
    "duration": 2358,
    "start_time": "2022-05-15T17:54:27.489Z"
   },
   {
    "duration": 140,
    "start_time": "2022-05-15T17:54:29.848Z"
   },
   {
    "duration": 106,
    "start_time": "2022-05-15T17:54:29.990Z"
   },
   {
    "duration": 286,
    "start_time": "2022-05-15T17:54:30.098Z"
   },
   {
    "duration": 22,
    "start_time": "2022-05-15T17:54:30.385Z"
   },
   {
    "duration": 481,
    "start_time": "2022-05-15T17:54:30.409Z"
   },
   {
    "duration": 139,
    "start_time": "2022-05-15T17:54:30.892Z"
   },
   {
    "duration": 12,
    "start_time": "2022-05-15T17:54:31.033Z"
   },
   {
    "duration": 19,
    "start_time": "2022-05-15T17:54:31.048Z"
   },
   {
    "duration": 54,
    "start_time": "2022-05-15T17:54:31.068Z"
   },
   {
    "duration": 3,
    "start_time": "2022-05-15T17:54:31.124Z"
   },
   {
    "duration": 117,
    "start_time": "2022-05-15T17:54:31.129Z"
   },
   {
    "duration": 11,
    "start_time": "2022-05-15T17:54:31.248Z"
   },
   {
    "duration": 265,
    "start_time": "2022-05-15T17:54:31.260Z"
   },
   {
    "duration": 160,
    "start_time": "2022-05-15T17:54:31.527Z"
   },
   {
    "duration": 395,
    "start_time": "2022-05-15T17:54:31.689Z"
   },
   {
    "duration": 28,
    "start_time": "2022-05-15T17:54:32.086Z"
   },
   {
    "duration": 173,
    "start_time": "2022-05-15T17:54:32.116Z"
   },
   {
    "duration": 324,
    "start_time": "2022-05-15T17:54:32.291Z"
   },
   {
    "duration": 28,
    "start_time": "2022-05-15T17:54:32.617Z"
   },
   {
    "duration": 440,
    "start_time": "2022-05-15T17:54:32.647Z"
   },
   {
    "duration": 39,
    "start_time": "2022-05-15T17:54:33.089Z"
   },
   {
    "duration": 32,
    "start_time": "2022-05-15T17:54:33.129Z"
   },
   {
    "duration": 73,
    "start_time": "2022-05-15T17:54:33.163Z"
   },
   {
    "duration": 263,
    "start_time": "2022-05-15T17:54:33.237Z"
   },
   {
    "duration": 253,
    "start_time": "2022-05-15T17:54:33.502Z"
   },
   {
    "duration": 301,
    "start_time": "2022-05-15T17:54:33.759Z"
   },
   {
    "duration": 63,
    "start_time": "2022-05-15T17:54:34.062Z"
   },
   {
    "duration": 86,
    "start_time": "2022-05-15T17:54:34.127Z"
   },
   {
    "duration": 124,
    "start_time": "2022-05-15T17:54:34.215Z"
   },
   {
    "duration": 504,
    "start_time": "2022-05-15T17:54:34.341Z"
   },
   {
    "duration": 4,
    "start_time": "2022-05-15T17:54:34.847Z"
   },
   {
    "duration": 12,
    "start_time": "2022-05-15T17:54:34.853Z"
   },
   {
    "duration": 8,
    "start_time": "2022-05-15T17:54:34.866Z"
   },
   {
    "duration": 4,
    "start_time": "2022-05-15T17:54:34.875Z"
   },
   {
    "duration": 5,
    "start_time": "2022-05-15T17:54:34.881Z"
   },
   {
    "duration": 23,
    "start_time": "2022-05-15T17:54:34.887Z"
   },
   {
    "duration": 16,
    "start_time": "2022-05-15T17:54:34.911Z"
   },
   {
    "duration": 380,
    "start_time": "2022-05-15T17:54:47.777Z"
   },
   {
    "duration": 3,
    "start_time": "2022-05-15T17:54:48.390Z"
   },
   {
    "duration": 2391822,
    "start_time": "2022-05-15T17:54:55.976Z"
   },
   {
    "duration": 2,
    "start_time": "2022-05-15T18:53:00.690Z"
   },
   {
    "duration": 229696,
    "start_time": "2022-05-15T18:53:01.628Z"
   },
   {
    "duration": 188,
    "start_time": "2022-05-15T18:57:31.540Z"
   },
   {
    "duration": 365,
    "start_time": "2022-05-15T18:57:40.656Z"
   },
   {
    "duration": 377,
    "start_time": "2022-05-15T18:58:28.410Z"
   },
   {
    "duration": 361,
    "start_time": "2022-05-15T18:58:41.861Z"
   },
   {
    "duration": 361,
    "start_time": "2022-05-15T18:58:53.775Z"
   },
   {
    "duration": 383,
    "start_time": "2022-05-15T19:01:37.713Z"
   },
   {
    "duration": 373,
    "start_time": "2022-05-15T19:02:49.124Z"
   },
   {
    "duration": 120,
    "start_time": "2022-05-15T19:03:14.331Z"
   },
   {
    "duration": 478,
    "start_time": "2022-05-15T19:03:30.953Z"
   },
   {
    "duration": 190,
    "start_time": "2022-05-15T19:03:38.479Z"
   },
   {
    "duration": 4,
    "start_time": "2022-05-15T19:06:36.632Z"
   },
   {
    "duration": 85,
    "start_time": "2022-05-15T19:07:56.842Z"
   },
   {
    "duration": 34,
    "start_time": "2022-05-15T19:08:19.359Z"
   },
   {
    "duration": 305,
    "start_time": "2022-05-15T19:09:04.284Z"
   },
   {
    "duration": 6,
    "start_time": "2022-05-15T19:09:08.803Z"
   },
   {
    "duration": 27579,
    "start_time": "2022-05-15T19:09:26.563Z"
   },
   {
    "duration": 5,
    "start_time": "2022-05-15T19:14:24.561Z"
   },
   {
    "duration": 820,
    "start_time": "2022-05-15T19:14:24.569Z"
   },
   {
    "duration": 131,
    "start_time": "2022-05-15T19:14:25.391Z"
   },
   {
    "duration": 96,
    "start_time": "2022-05-15T19:14:25.524Z"
   },
   {
    "duration": 269,
    "start_time": "2022-05-15T19:14:25.622Z"
   },
   {
    "duration": 23,
    "start_time": "2022-05-15T19:14:25.893Z"
   },
   {
    "duration": 418,
    "start_time": "2022-05-15T19:14:25.919Z"
   },
   {
    "duration": 131,
    "start_time": "2022-05-15T19:14:26.339Z"
   },
   {
    "duration": 11,
    "start_time": "2022-05-15T19:14:26.472Z"
   },
   {
    "duration": 17,
    "start_time": "2022-05-15T19:14:26.507Z"
   },
   {
    "duration": 17,
    "start_time": "2022-05-15T19:14:26.526Z"
   },
   {
    "duration": 3,
    "start_time": "2022-05-15T19:14:26.544Z"
   },
   {
    "duration": 106,
    "start_time": "2022-05-15T19:14:26.549Z"
   },
   {
    "duration": 11,
    "start_time": "2022-05-15T19:14:26.657Z"
   },
   {
    "duration": 244,
    "start_time": "2022-05-15T19:14:26.670Z"
   },
   {
    "duration": 164,
    "start_time": "2022-05-15T19:14:26.916Z"
   },
   {
    "duration": 371,
    "start_time": "2022-05-15T19:14:27.082Z"
   },
   {
    "duration": 22,
    "start_time": "2022-05-15T19:14:27.454Z"
   },
   {
    "duration": 170,
    "start_time": "2022-05-15T19:14:27.478Z"
   },
   {
    "duration": 306,
    "start_time": "2022-05-15T19:14:27.649Z"
   },
   {
    "duration": 26,
    "start_time": "2022-05-15T19:14:27.957Z"
   },
   {
    "duration": 353,
    "start_time": "2022-05-15T19:14:27.985Z"
   },
   {
    "duration": 20,
    "start_time": "2022-05-15T19:14:28.340Z"
   },
   {
    "duration": 53,
    "start_time": "2022-05-15T19:14:28.362Z"
   },
   {
    "duration": 62,
    "start_time": "2022-05-15T19:14:28.417Z"
   },
   {
    "duration": 251,
    "start_time": "2022-05-15T19:14:28.481Z"
   },
   {
    "duration": 259,
    "start_time": "2022-05-15T19:14:28.734Z"
   },
   {
    "duration": 305,
    "start_time": "2022-05-15T19:14:28.999Z"
   },
   {
    "duration": 63,
    "start_time": "2022-05-15T19:14:29.307Z"
   },
   {
    "duration": 72,
    "start_time": "2022-05-15T19:14:29.372Z"
   },
   {
    "duration": 117,
    "start_time": "2022-05-15T19:14:29.446Z"
   },
   {
    "duration": 475,
    "start_time": "2022-05-15T19:14:29.565Z"
   },
   {
    "duration": 4,
    "start_time": "2022-05-15T19:14:30.042Z"
   },
   {
    "duration": 8,
    "start_time": "2022-05-15T19:14:30.048Z"
   },
   {
    "duration": 6,
    "start_time": "2022-05-15T19:14:30.058Z"
   },
   {
    "duration": 10,
    "start_time": "2022-05-15T19:14:30.065Z"
   },
   {
    "duration": 7,
    "start_time": "2022-05-15T19:14:30.077Z"
   },
   {
    "duration": 22,
    "start_time": "2022-05-15T19:14:30.086Z"
   },
   {
    "duration": 15,
    "start_time": "2022-05-15T19:14:30.110Z"
   },
   {
    "duration": 3,
    "start_time": "2022-05-15T19:14:30.127Z"
   },
   {
    "duration": 4877,
    "start_time": "2022-05-15T19:14:30.131Z"
   },
   {
    "duration": 2,
    "start_time": "2022-05-15T19:14:35.010Z"
   },
   {
    "duration": 41522,
    "start_time": "2022-05-15T19:14:35.014Z"
   },
   {
    "duration": 3,
    "start_time": "2022-05-15T19:15:16.538Z"
   },
   {
    "duration": 17798,
    "start_time": "2022-05-15T19:15:16.543Z"
   },
   {
    "duration": 272,
    "start_time": "2022-05-15T19:15:34.343Z"
   },
   {
    "duration": 15,
    "start_time": "2022-05-15T19:15:34.616Z"
   },
   {
    "duration": 0,
    "start_time": "2022-05-15T19:15:34.633Z"
   },
   {
    "duration": 0,
    "start_time": "2022-05-15T19:15:34.634Z"
   },
   {
    "duration": 0,
    "start_time": "2022-05-15T19:15:34.635Z"
   },
   {
    "duration": 0,
    "start_time": "2022-05-15T19:15:34.636Z"
   },
   {
    "duration": 0,
    "start_time": "2022-05-15T19:15:34.637Z"
   },
   {
    "duration": 0,
    "start_time": "2022-05-15T19:15:34.638Z"
   },
   {
    "duration": 0,
    "start_time": "2022-05-15T19:15:34.639Z"
   },
   {
    "duration": 0,
    "start_time": "2022-05-15T19:15:34.640Z"
   },
   {
    "duration": 0,
    "start_time": "2022-05-15T19:15:34.641Z"
   },
   {
    "duration": 0,
    "start_time": "2022-05-15T19:15:34.642Z"
   },
   {
    "duration": 0,
    "start_time": "2022-05-15T19:15:34.643Z"
   },
   {
    "duration": 0,
    "start_time": "2022-05-15T19:15:34.644Z"
   },
   {
    "duration": 0,
    "start_time": "2022-05-15T19:15:34.645Z"
   },
   {
    "duration": 0,
    "start_time": "2022-05-15T19:15:34.646Z"
   },
   {
    "duration": 0,
    "start_time": "2022-05-15T19:15:34.647Z"
   },
   {
    "duration": 0,
    "start_time": "2022-05-15T19:15:34.649Z"
   },
   {
    "duration": 0,
    "start_time": "2022-05-15T19:15:34.650Z"
   },
   {
    "duration": 0,
    "start_time": "2022-05-15T19:15:34.651Z"
   },
   {
    "duration": 0,
    "start_time": "2022-05-15T19:15:34.652Z"
   },
   {
    "duration": 0,
    "start_time": "2022-05-15T19:15:34.653Z"
   },
   {
    "duration": 0,
    "start_time": "2022-05-15T19:15:34.654Z"
   },
   {
    "duration": 0,
    "start_time": "2022-05-15T19:15:34.656Z"
   },
   {
    "duration": 0,
    "start_time": "2022-05-15T19:15:34.657Z"
   },
   {
    "duration": 0,
    "start_time": "2022-05-15T19:15:34.658Z"
   },
   {
    "duration": 0,
    "start_time": "2022-05-15T19:15:34.659Z"
   },
   {
    "duration": 0,
    "start_time": "2022-05-15T19:15:34.707Z"
   },
   {
    "duration": 8,
    "start_time": "2022-05-15T19:33:41.331Z"
   },
   {
    "duration": 372,
    "start_time": "2022-05-15T19:33:51.631Z"
   },
   {
    "duration": 3,
    "start_time": "2022-05-15T19:33:52.005Z"
   },
   {
    "duration": 8808,
    "start_time": "2022-05-15T19:33:52.010Z"
   },
   {
    "duration": 3,
    "start_time": "2022-05-15T19:34:00.819Z"
   },
   {
    "duration": 52703,
    "start_time": "2022-05-15T19:34:00.824Z"
   },
   {
    "duration": 3,
    "start_time": "2022-05-15T19:34:53.529Z"
   },
   {
    "duration": 30411,
    "start_time": "2022-05-15T19:34:53.533Z"
   },
   {
    "duration": 434,
    "start_time": "2022-05-15T19:35:23.946Z"
   },
   {
    "duration": 6,
    "start_time": "2022-05-15T19:35:24.381Z"
   },
   {
    "duration": 44120,
    "start_time": "2022-05-15T19:35:24.389Z"
   },
   {
    "duration": 62,
    "start_time": "2022-05-15T19:36:08.512Z"
   },
   {
    "duration": 3,
    "start_time": "2022-05-15T19:36:08.576Z"
   },
   {
    "duration": 174290,
    "start_time": "2022-05-15T19:36:08.581Z"
   },
   {
    "duration": 415,
    "start_time": "2022-05-15T19:39:02.876Z"
   },
   {
    "duration": 3,
    "start_time": "2022-05-15T19:39:03.293Z"
   },
   {
    "duration": 29315,
    "start_time": "2022-05-15T19:39:03.297Z"
   },
   {
    "duration": 3,
    "start_time": "2022-05-15T19:39:32.614Z"
   },
   {
    "duration": 61108,
    "start_time": "2022-05-15T19:39:32.619Z"
   },
   {
    "duration": 4,
    "start_time": "2022-05-15T19:40:33.728Z"
   },
   {
    "duration": 33313,
    "start_time": "2022-05-15T19:40:33.734Z"
   },
   {
    "duration": 2152,
    "start_time": "2022-05-15T19:41:07.049Z"
   },
   {
    "duration": 21,
    "start_time": "2022-05-15T19:41:09.203Z"
   },
   {
    "duration": 46895,
    "start_time": "2022-05-15T19:41:09.226Z"
   },
   {
    "duration": 290,
    "start_time": "2022-05-15T19:41:56.123Z"
   },
   {
    "duration": 3,
    "start_time": "2022-05-15T19:41:56.414Z"
   },
   {
    "duration": 329228,
    "start_time": "2022-05-15T19:41:56.419Z"
   },
   {
    "duration": 3,
    "start_time": "2022-05-15T19:47:25.648Z"
   },
   {
    "duration": 225670,
    "start_time": "2022-05-15T19:47:25.653Z"
   },
   {
    "duration": 209,
    "start_time": "2022-05-15T19:51:11.325Z"
   },
   {
    "duration": 6,
    "start_time": "2022-05-15T19:51:11.536Z"
   },
   {
    "duration": 23487,
    "start_time": "2022-05-15T19:51:11.543Z"
   },
   {
    "duration": 328,
    "start_time": "2022-05-15T19:51:35.031Z"
   },
   {
    "duration": 3,
    "start_time": "2022-05-15T19:51:35.361Z"
   },
   {
    "duration": 17151,
    "start_time": "2022-05-15T19:51:35.365Z"
   },
   {
    "duration": 27,
    "start_time": "2022-05-15T19:51:52.518Z"
   },
   {
    "duration": 8,
    "start_time": "2022-05-15T19:51:52.547Z"
   },
   {
    "duration": 6,
    "start_time": "2022-05-15T19:51:52.556Z"
   },
   {
    "duration": 32,
    "start_time": "2022-05-15T19:58:54.248Z"
   },
   {
    "duration": 31,
    "start_time": "2022-05-15T20:00:00.606Z"
   },
   {
    "duration": 89,
    "start_time": "2022-05-15T20:05:16.947Z"
   },
   {
    "duration": 296,
    "start_time": "2022-05-15T20:07:07.342Z"
   },
   {
    "duration": 39589,
    "start_time": "2022-05-15T20:07:08.319Z"
   },
   {
    "duration": 48205,
    "start_time": "2022-05-15T20:07:47.910Z"
   },
   {
    "duration": 59006,
    "start_time": "2022-05-15T20:08:36.117Z"
   },
   {
    "duration": 6,
    "start_time": "2022-05-15T20:09:35.125Z"
   },
   {
    "duration": 288,
    "start_time": "2022-05-15T20:10:32.033Z"
   },
   {
    "duration": 37715,
    "start_time": "2022-05-15T20:10:32.546Z"
   },
   {
    "duration": 23564,
    "start_time": "2022-05-15T20:11:10.264Z"
   },
   {
    "duration": 59349,
    "start_time": "2022-05-15T20:11:33.830Z"
   },
   {
    "duration": 38,
    "start_time": "2022-05-15T20:12:33.181Z"
   },
   {
    "duration": 111773,
    "start_time": "2022-05-15T20:14:16.736Z"
   },
   {
    "duration": 21607,
    "start_time": "2022-05-15T20:16:08.511Z"
   },
   {
    "duration": 60307,
    "start_time": "2022-05-15T20:16:30.120Z"
   },
   {
    "duration": 32,
    "start_time": "2022-05-15T20:17:30.429Z"
   },
   {
    "duration": 9,
    "start_time": "2022-05-15T20:18:51.021Z"
   },
   {
    "duration": 5,
    "start_time": "2022-05-15T20:18:54.029Z"
   },
   {
    "duration": 295,
    "start_time": "2022-05-15T20:18:57.045Z"
   },
   {
    "duration": 189025,
    "start_time": "2022-05-15T20:18:57.486Z"
   },
   {
    "duration": 22518,
    "start_time": "2022-05-15T20:22:06.512Z"
   },
   {
    "duration": 59761,
    "start_time": "2022-05-15T20:22:29.033Z"
   },
   {
    "duration": 11,
    "start_time": "2022-05-15T20:23:28.796Z"
   },
   {
    "duration": 2454,
    "start_time": "2022-05-16T06:44:48.119Z"
   },
   {
    "duration": 1179,
    "start_time": "2022-05-16T06:44:50.576Z"
   },
   {
    "duration": 168,
    "start_time": "2022-05-16T06:44:51.758Z"
   },
   {
    "duration": 144,
    "start_time": "2022-05-16T06:44:51.928Z"
   },
   {
    "duration": 389,
    "start_time": "2022-05-16T06:44:52.075Z"
   },
   {
    "duration": 27,
    "start_time": "2022-05-16T06:44:52.466Z"
   },
   {
    "duration": 685,
    "start_time": "2022-05-16T06:44:52.495Z"
   },
   {
    "duration": 171,
    "start_time": "2022-05-16T06:44:53.183Z"
   },
   {
    "duration": 17,
    "start_time": "2022-05-16T06:44:53.356Z"
   },
   {
    "duration": 94,
    "start_time": "2022-05-16T06:44:53.398Z"
   },
   {
    "duration": 52,
    "start_time": "2022-05-16T06:44:53.509Z"
   },
   {
    "duration": 5,
    "start_time": "2022-05-16T06:44:53.564Z"
   },
   {
    "duration": 152,
    "start_time": "2022-05-16T06:44:53.571Z"
   },
   {
    "duration": 17,
    "start_time": "2022-05-16T06:44:53.728Z"
   },
   {
    "duration": 359,
    "start_time": "2022-05-16T06:44:53.748Z"
   },
   {
    "duration": 285,
    "start_time": "2022-05-16T06:44:54.109Z"
   },
   {
    "duration": 531,
    "start_time": "2022-05-16T06:44:54.396Z"
   },
   {
    "duration": 47,
    "start_time": "2022-05-16T06:44:54.929Z"
   },
   {
    "duration": 249,
    "start_time": "2022-05-16T06:44:54.979Z"
   },
   {
    "duration": 568,
    "start_time": "2022-05-16T06:44:55.230Z"
   },
   {
    "duration": 49,
    "start_time": "2022-05-16T06:44:55.800Z"
   },
   {
    "duration": 563,
    "start_time": "2022-05-16T06:44:55.852Z"
   },
   {
    "duration": 38,
    "start_time": "2022-05-16T06:44:56.417Z"
   },
   {
    "duration": 58,
    "start_time": "2022-05-16T06:44:56.458Z"
   },
   {
    "duration": 84,
    "start_time": "2022-05-16T06:44:56.519Z"
   },
   {
    "duration": 414,
    "start_time": "2022-05-16T06:44:56.606Z"
   },
   {
    "duration": 392,
    "start_time": "2022-05-16T06:44:57.023Z"
   },
   {
    "duration": 483,
    "start_time": "2022-05-16T06:44:57.418Z"
   },
   {
    "duration": 90,
    "start_time": "2022-05-16T06:44:57.903Z"
   },
   {
    "duration": 79,
    "start_time": "2022-05-16T06:44:57.995Z"
   },
   {
    "duration": 185,
    "start_time": "2022-05-16T06:44:58.076Z"
   },
   {
    "duration": 708,
    "start_time": "2022-05-16T06:44:58.264Z"
   },
   {
    "duration": 5,
    "start_time": "2022-05-16T06:44:58.974Z"
   },
   {
    "duration": 4,
    "start_time": "2022-05-16T06:44:58.994Z"
   },
   {
    "duration": 6,
    "start_time": "2022-05-16T06:44:59.001Z"
   },
   {
    "duration": 7,
    "start_time": "2022-05-16T06:44:59.009Z"
   },
   {
    "duration": 8,
    "start_time": "2022-05-16T06:44:59.018Z"
   },
   {
    "duration": 14,
    "start_time": "2022-05-16T06:44:59.028Z"
   },
   {
    "duration": 58,
    "start_time": "2022-05-16T06:44:59.044Z"
   },
   {
    "duration": 467,
    "start_time": "2022-05-16T06:44:59.104Z"
   },
   {
    "duration": 3,
    "start_time": "2022-05-16T06:44:59.579Z"
   },
   {
    "duration": 63413,
    "start_time": "2022-05-16T06:44:59.593Z"
   },
   {
    "duration": 2440,
    "start_time": "2022-05-16T09:03:44.597Z"
   },
   {
    "duration": 1475,
    "start_time": "2022-05-16T09:03:47.040Z"
   },
   {
    "duration": 192,
    "start_time": "2022-05-16T09:03:48.517Z"
   },
   {
    "duration": 152,
    "start_time": "2022-05-16T09:03:48.712Z"
   },
   {
    "duration": 433,
    "start_time": "2022-05-16T09:03:48.866Z"
   },
   {
    "duration": 21,
    "start_time": "2022-05-16T09:03:49.301Z"
   },
   {
    "duration": 695,
    "start_time": "2022-05-16T09:03:49.324Z"
   },
   {
    "duration": 184,
    "start_time": "2022-05-16T09:03:50.022Z"
   },
   {
    "duration": 41,
    "start_time": "2022-05-16T09:03:50.208Z"
   },
   {
    "duration": 42,
    "start_time": "2022-05-16T09:03:50.253Z"
   },
   {
    "duration": 67,
    "start_time": "2022-05-16T09:03:50.299Z"
   },
   {
    "duration": 6,
    "start_time": "2022-05-16T09:03:50.368Z"
   },
   {
    "duration": 170,
    "start_time": "2022-05-16T09:03:50.376Z"
   },
   {
    "duration": 20,
    "start_time": "2022-05-16T09:03:50.548Z"
   },
   {
    "duration": 412,
    "start_time": "2022-05-16T09:03:50.571Z"
   },
   {
    "duration": 236,
    "start_time": "2022-05-16T09:03:50.985Z"
   },
   {
    "duration": 543,
    "start_time": "2022-05-16T09:03:51.223Z"
   },
   {
    "duration": 45,
    "start_time": "2022-05-16T09:03:51.768Z"
   },
   {
    "duration": 291,
    "start_time": "2022-05-16T09:03:51.815Z"
   },
   {
    "duration": 694,
    "start_time": "2022-05-16T09:03:52.109Z"
   },
   {
    "duration": 64,
    "start_time": "2022-05-16T09:03:52.805Z"
   },
   {
    "duration": 881,
    "start_time": "2022-05-16T09:03:52.872Z"
   },
   {
    "duration": 42,
    "start_time": "2022-05-16T09:03:53.755Z"
   },
   {
    "duration": 82,
    "start_time": "2022-05-16T09:03:53.800Z"
   },
   {
    "duration": 170,
    "start_time": "2022-05-16T09:03:53.885Z"
   },
   {
    "duration": 424,
    "start_time": "2022-05-16T09:03:54.057Z"
   },
   {
    "duration": 415,
    "start_time": "2022-05-16T09:03:54.483Z"
   },
   {
    "duration": 487,
    "start_time": "2022-05-16T09:03:54.905Z"
   },
   {
    "duration": 79,
    "start_time": "2022-05-16T09:03:55.395Z"
   },
   {
    "duration": 102,
    "start_time": "2022-05-16T09:03:55.476Z"
   },
   {
    "duration": 191,
    "start_time": "2022-05-16T09:03:55.581Z"
   },
   {
    "duration": 645,
    "start_time": "2022-05-16T09:03:55.775Z"
   },
   {
    "duration": 6,
    "start_time": "2022-05-16T09:03:56.423Z"
   },
   {
    "duration": 8,
    "start_time": "2022-05-16T09:03:56.445Z"
   },
   {
    "duration": 13,
    "start_time": "2022-05-16T09:03:56.455Z"
   },
   {
    "duration": 6,
    "start_time": "2022-05-16T09:03:56.470Z"
   },
   {
    "duration": 6,
    "start_time": "2022-05-16T09:03:56.479Z"
   },
   {
    "duration": 17,
    "start_time": "2022-05-16T09:03:56.487Z"
   },
   {
    "duration": 63,
    "start_time": "2022-05-16T09:03:56.506Z"
   },
   {
    "duration": 569,
    "start_time": "2022-05-16T09:03:56.572Z"
   },
   {
    "duration": 4,
    "start_time": "2022-05-16T09:03:57.143Z"
   },
   {
    "duration": 389312,
    "start_time": "2022-05-16T09:03:57.150Z"
   },
   {
    "duration": 9869151,
    "start_time": "2022-05-16T09:10:26.465Z"
   },
   {
    "duration": 4,
    "start_time": "2022-05-16T11:54:55.618Z"
   },
   {
    "duration": 2641,
    "start_time": "2022-05-16T11:55:15.833Z"
   },
   {
    "duration": 1395,
    "start_time": "2022-05-16T11:55:18.481Z"
   },
   {
    "duration": 224,
    "start_time": "2022-05-16T11:55:19.878Z"
   },
   {
    "duration": 155,
    "start_time": "2022-05-16T11:55:20.106Z"
   },
   {
    "duration": 524,
    "start_time": "2022-05-16T11:55:20.265Z"
   },
   {
    "duration": 22,
    "start_time": "2022-05-16T11:55:20.792Z"
   },
   {
    "duration": 836,
    "start_time": "2022-05-16T11:55:20.816Z"
   },
   {
    "duration": 216,
    "start_time": "2022-05-16T11:55:21.656Z"
   },
   {
    "duration": 37,
    "start_time": "2022-05-16T11:55:21.875Z"
   },
   {
    "duration": 33,
    "start_time": "2022-05-16T11:55:21.916Z"
   },
   {
    "duration": 54,
    "start_time": "2022-05-16T11:55:21.952Z"
   },
   {
    "duration": 5,
    "start_time": "2022-05-16T11:55:22.009Z"
   },
   {
    "duration": 193,
    "start_time": "2022-05-16T11:55:22.017Z"
   },
   {
    "duration": 18,
    "start_time": "2022-05-16T11:55:22.212Z"
   },
   {
    "duration": 420,
    "start_time": "2022-05-16T11:55:22.250Z"
   },
   {
    "duration": 304,
    "start_time": "2022-05-16T11:55:22.675Z"
   },
   {
    "duration": 742,
    "start_time": "2022-05-16T11:55:22.987Z"
   },
   {
    "duration": 62,
    "start_time": "2022-05-16T11:55:23.734Z"
   },
   {
    "duration": 297,
    "start_time": "2022-05-16T11:55:23.798Z"
   },
   {
    "duration": 548,
    "start_time": "2022-05-16T11:55:24.097Z"
   },
   {
    "duration": 51,
    "start_time": "2022-05-16T11:55:24.647Z"
   },
   {
    "duration": 698,
    "start_time": "2022-05-16T11:55:24.701Z"
   },
   {
    "duration": 59,
    "start_time": "2022-05-16T11:55:25.401Z"
   },
   {
    "duration": 54,
    "start_time": "2022-05-16T11:55:25.473Z"
   },
   {
    "duration": 115,
    "start_time": "2022-05-16T11:55:25.529Z"
   },
   {
    "duration": 458,
    "start_time": "2022-05-16T11:55:25.647Z"
   },
   {
    "duration": 466,
    "start_time": "2022-05-16T11:55:26.108Z"
   },
   {
    "duration": 558,
    "start_time": "2022-05-16T11:55:26.584Z"
   },
   {
    "duration": 102,
    "start_time": "2022-05-16T11:55:27.148Z"
   },
   {
    "duration": 96,
    "start_time": "2022-05-16T11:55:27.252Z"
   },
   {
    "duration": 205,
    "start_time": "2022-05-16T11:55:27.351Z"
   },
   {
    "duration": 1117,
    "start_time": "2022-05-16T11:55:27.561Z"
   },
   {
    "duration": 13,
    "start_time": "2022-05-16T11:55:28.681Z"
   },
   {
    "duration": 12,
    "start_time": "2022-05-16T11:55:28.697Z"
   },
   {
    "duration": 9,
    "start_time": "2022-05-16T11:55:28.712Z"
   },
   {
    "duration": 10,
    "start_time": "2022-05-16T11:55:28.723Z"
   },
   {
    "duration": 6,
    "start_time": "2022-05-16T11:55:28.756Z"
   },
   {
    "duration": 47,
    "start_time": "2022-05-16T11:55:28.765Z"
   },
   {
    "duration": 37,
    "start_time": "2022-05-16T11:55:28.815Z"
   },
   {
    "duration": 536,
    "start_time": "2022-05-16T11:55:28.855Z"
   },
   {
    "duration": 4,
    "start_time": "2022-05-16T11:55:29.394Z"
   },
   {
    "duration": 3810,
    "start_time": "2022-05-17T15:37:09.724Z"
   },
   {
    "duration": 1142,
    "start_time": "2022-05-17T15:37:13.536Z"
   },
   {
    "duration": 183,
    "start_time": "2022-05-17T15:37:14.680Z"
   },
   {
    "duration": 133,
    "start_time": "2022-05-17T15:37:14.865Z"
   },
   {
    "duration": 340,
    "start_time": "2022-05-17T15:37:15.001Z"
   },
   {
    "duration": 15,
    "start_time": "2022-05-17T15:37:15.342Z"
   },
   {
    "duration": 589,
    "start_time": "2022-05-17T15:37:15.359Z"
   },
   {
    "duration": 163,
    "start_time": "2022-05-17T15:37:15.950Z"
   },
   {
    "duration": 13,
    "start_time": "2022-05-17T15:37:16.115Z"
   },
   {
    "duration": 19,
    "start_time": "2022-05-17T15:37:16.131Z"
   },
   {
    "duration": 67,
    "start_time": "2022-05-17T15:37:16.152Z"
   },
   {
    "duration": 4,
    "start_time": "2022-05-17T15:37:16.221Z"
   },
   {
    "duration": 126,
    "start_time": "2022-05-17T15:37:16.227Z"
   },
   {
    "duration": 5,
    "start_time": "2022-05-17T15:37:16.355Z"
   },
   {
    "duration": 13,
    "start_time": "2022-05-17T15:37:16.361Z"
   },
   {
    "duration": 374,
    "start_time": "2022-05-17T15:37:16.397Z"
   },
   {
    "duration": 216,
    "start_time": "2022-05-17T15:37:16.773Z"
   },
   {
    "duration": 496,
    "start_time": "2022-05-17T15:37:16.991Z"
   },
   {
    "duration": 40,
    "start_time": "2022-05-17T15:37:17.489Z"
   },
   {
    "duration": 202,
    "start_time": "2022-05-17T15:37:17.531Z"
   },
   {
    "duration": 371,
    "start_time": "2022-05-17T15:37:17.734Z"
   },
   {
    "duration": 34,
    "start_time": "2022-05-17T15:37:18.109Z"
   },
   {
    "duration": 541,
    "start_time": "2022-05-17T15:37:18.145Z"
   },
   {
    "duration": 32,
    "start_time": "2022-05-17T15:37:18.688Z"
   },
   {
    "duration": 32,
    "start_time": "2022-05-17T15:37:18.724Z"
   },
   {
    "duration": 96,
    "start_time": "2022-05-17T15:37:18.758Z"
   },
   {
    "duration": 317,
    "start_time": "2022-05-17T15:37:18.857Z"
   },
   {
    "duration": 303,
    "start_time": "2022-05-17T15:37:19.176Z"
   },
   {
    "duration": 379,
    "start_time": "2022-05-17T15:37:19.481Z"
   },
   {
    "duration": 82,
    "start_time": "2022-05-17T15:37:19.861Z"
   },
   {
    "duration": 115,
    "start_time": "2022-05-17T15:37:19.945Z"
   },
   {
    "duration": 169,
    "start_time": "2022-05-17T15:37:20.062Z"
   },
   {
    "duration": 838,
    "start_time": "2022-05-17T15:37:20.234Z"
   },
   {
    "duration": 7,
    "start_time": "2022-05-17T15:57:50.678Z"
   },
   {
    "duration": 5,
    "start_time": "2022-05-17T15:57:50.927Z"
   },
   {
    "duration": 6,
    "start_time": "2022-05-17T15:57:51.270Z"
   },
   {
    "duration": 4,
    "start_time": "2022-05-17T15:57:51.662Z"
   },
   {
    "duration": 4,
    "start_time": "2022-05-17T15:57:52.414Z"
   },
   {
    "duration": 11,
    "start_time": "2022-05-17T15:57:52.907Z"
   },
   {
    "duration": 19,
    "start_time": "2022-05-17T15:57:58.693Z"
   },
   {
    "duration": 456,
    "start_time": "2022-05-17T15:58:02.389Z"
   },
   {
    "duration": 3,
    "start_time": "2022-05-17T15:58:05.524Z"
   },
   {
    "duration": 208299,
    "start_time": "2022-05-17T15:58:19.581Z"
   }
  ],
  "kernelspec": {
   "display_name": "Python 3 (ipykernel)",
   "language": "python",
   "name": "python3"
  },
  "language_info": {
   "codemirror_mode": {
    "name": "ipython",
    "version": 3
   },
   "file_extension": ".py",
   "mimetype": "text/x-python",
   "name": "python",
   "nbconvert_exporter": "python",
   "pygments_lexer": "ipython3",
   "version": "3.9.5"
  },
  "toc": {
   "base_numbering": 1,
   "nav_menu": {},
   "number_sections": true,
   "sideBar": true,
   "skip_h1_title": true,
   "title_cell": "Table of Contents",
   "title_sidebar": "Contents",
   "toc_cell": false,
   "toc_position": {
    "height": "calc(100% - 180px)",
    "left": "10px",
    "top": "150px",
    "width": "213.977px"
   },
   "toc_section_display": true,
   "toc_window_display": true
  }
 },
 "nbformat": 4,
 "nbformat_minor": 2
}
