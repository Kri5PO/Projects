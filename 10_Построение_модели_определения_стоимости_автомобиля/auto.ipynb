{
 "cells": [
  {
   "cell_type": "markdown",
   "metadata": {},
   "source": [
    "# Определение стоимости автомобилей"
   ]
  },
  {
   "cell_type": "markdown",
   "metadata": {},
   "source": [
    "Сервис по продаже автомобилей с пробегом «Не бит, не крашен» разрабатывает приложение для привлечения новых клиентов. В нём можно быстро узнать рыночную стоимость своего автомобиля. В вашем распоряжении исторические данные: технические характеристики, комплектации и цены автомобилей. Вам нужно построить модель для определения стоимости. \n",
    "\n",
    "Заказчику важны:\n",
    "\n",
    "- качество предсказания;\n",
    "- скорость предсказания;\n",
    "- время обучения."
   ]
  },
  {
   "cell_type": "markdown",
   "metadata": {},
   "source": [
    "## Подготовка данных"
   ]
  },
  {
   "cell_type": "markdown",
   "metadata": {},
   "source": [
    "### Загрузка данных"
   ]
  },
  {
   "cell_type": "code",
   "execution_count": 1,
   "metadata": {},
   "outputs": [],
   "source": [
    "# загрузка библиотек\n",
    "import pandas as pd\n",
    "import numpy as np\n",
    "import matplotlib.pyplot as plt\n",
    "import time\n",
    "import lightgbm as lgb\n",
    "import xgboost as xgb\n",
    "import category_encoders as ce\n",
    "\n",
    "from catboost import CatBoostRegressor, Pool\n",
    "from lightgbm import LGBMRegressor\n",
    "from sklearn.linear_model import LinearRegression\n",
    "from xgboost import XGBRegressor\n",
    "\n",
    "from sklearn.metrics import make_scorer, mean_squared_error\n",
    "from sklearn.model_selection import train_test_split, GridSearchCV\n",
    "from sklearn.preprocessing import OrdinalEncoder, StandardScaler"
   ]
  },
  {
   "cell_type": "code",
   "execution_count": 2,
   "metadata": {},
   "outputs": [],
   "source": [
    "# чтение файла с данными и сохранение в переменную df\n",
    "try:\n",
    "    df = pd.read_csv('C:/Users/79853/Documents/datascience/yandex/k Спринт12/autos.csv')\n",
    "except:\n",
    "    df = pd.read_csv('/datasets/autos.csv') # загрузка онлайн"
   ]
  },
  {
   "cell_type": "code",
   "execution_count": 3,
   "metadata": {},
   "outputs": [
    {
     "name": "stdout",
     "output_type": "stream",
     "text": [
      "<class 'pandas.core.frame.DataFrame'>\n",
      "RangeIndex: 354369 entries, 0 to 354368\n",
      "Data columns (total 16 columns):\n",
      " #   Column             Non-Null Count   Dtype \n",
      "---  ------             --------------   ----- \n",
      " 0   DateCrawled        354369 non-null  object\n",
      " 1   Price              354369 non-null  int64 \n",
      " 2   VehicleType        316879 non-null  object\n",
      " 3   RegistrationYear   354369 non-null  int64 \n",
      " 4   Gearbox            334536 non-null  object\n",
      " 5   Power              354369 non-null  int64 \n",
      " 6   Model              334664 non-null  object\n",
      " 7   Kilometer          354369 non-null  int64 \n",
      " 8   RegistrationMonth  354369 non-null  int64 \n",
      " 9   FuelType           321474 non-null  object\n",
      " 10  Brand              354369 non-null  object\n",
      " 11  NotRepaired        283215 non-null  object\n",
      " 12  DateCreated        354369 non-null  object\n",
      " 13  NumberOfPictures   354369 non-null  int64 \n",
      " 14  PostalCode         354369 non-null  int64 \n",
      " 15  LastSeen           354369 non-null  object\n",
      "dtypes: int64(7), object(9)\n",
      "memory usage: 43.3+ MB\n"
     ]
    }
   ],
   "source": [
    "df.info()"
   ]
  },
  {
   "cell_type": "code",
   "execution_count": 4,
   "metadata": {},
   "outputs": [
    {
     "data": {
      "text/html": [
       "<div>\n",
       "<style scoped>\n",
       "    .dataframe tbody tr th:only-of-type {\n",
       "        vertical-align: middle;\n",
       "    }\n",
       "\n",
       "    .dataframe tbody tr th {\n",
       "        vertical-align: top;\n",
       "    }\n",
       "\n",
       "    .dataframe thead th {\n",
       "        text-align: right;\n",
       "    }\n",
       "</style>\n",
       "<table border=\"1\" class=\"dataframe\">\n",
       "  <thead>\n",
       "    <tr style=\"text-align: right;\">\n",
       "      <th></th>\n",
       "      <th>count</th>\n",
       "      <th>mean</th>\n",
       "      <th>std</th>\n",
       "      <th>min</th>\n",
       "      <th>25%</th>\n",
       "      <th>50%</th>\n",
       "      <th>75%</th>\n",
       "      <th>max</th>\n",
       "    </tr>\n",
       "  </thead>\n",
       "  <tbody>\n",
       "    <tr>\n",
       "      <th>Price</th>\n",
       "      <td>354369.0</td>\n",
       "      <td>4416.656776</td>\n",
       "      <td>4514.158514</td>\n",
       "      <td>0.0</td>\n",
       "      <td>1050.0</td>\n",
       "      <td>2700.0</td>\n",
       "      <td>6400.0</td>\n",
       "      <td>20000.0</td>\n",
       "    </tr>\n",
       "    <tr>\n",
       "      <th>RegistrationYear</th>\n",
       "      <td>354369.0</td>\n",
       "      <td>2004.234448</td>\n",
       "      <td>90.227958</td>\n",
       "      <td>1000.0</td>\n",
       "      <td>1999.0</td>\n",
       "      <td>2003.0</td>\n",
       "      <td>2008.0</td>\n",
       "      <td>9999.0</td>\n",
       "    </tr>\n",
       "    <tr>\n",
       "      <th>Power</th>\n",
       "      <td>354369.0</td>\n",
       "      <td>110.094337</td>\n",
       "      <td>189.850405</td>\n",
       "      <td>0.0</td>\n",
       "      <td>69.0</td>\n",
       "      <td>105.0</td>\n",
       "      <td>143.0</td>\n",
       "      <td>20000.0</td>\n",
       "    </tr>\n",
       "    <tr>\n",
       "      <th>Kilometer</th>\n",
       "      <td>354369.0</td>\n",
       "      <td>128211.172535</td>\n",
       "      <td>37905.341530</td>\n",
       "      <td>5000.0</td>\n",
       "      <td>125000.0</td>\n",
       "      <td>150000.0</td>\n",
       "      <td>150000.0</td>\n",
       "      <td>150000.0</td>\n",
       "    </tr>\n",
       "    <tr>\n",
       "      <th>RegistrationMonth</th>\n",
       "      <td>354369.0</td>\n",
       "      <td>5.714645</td>\n",
       "      <td>3.726421</td>\n",
       "      <td>0.0</td>\n",
       "      <td>3.0</td>\n",
       "      <td>6.0</td>\n",
       "      <td>9.0</td>\n",
       "      <td>12.0</td>\n",
       "    </tr>\n",
       "    <tr>\n",
       "      <th>NumberOfPictures</th>\n",
       "      <td>354369.0</td>\n",
       "      <td>0.000000</td>\n",
       "      <td>0.000000</td>\n",
       "      <td>0.0</td>\n",
       "      <td>0.0</td>\n",
       "      <td>0.0</td>\n",
       "      <td>0.0</td>\n",
       "      <td>0.0</td>\n",
       "    </tr>\n",
       "    <tr>\n",
       "      <th>PostalCode</th>\n",
       "      <td>354369.0</td>\n",
       "      <td>50508.689087</td>\n",
       "      <td>25783.096248</td>\n",
       "      <td>1067.0</td>\n",
       "      <td>30165.0</td>\n",
       "      <td>49413.0</td>\n",
       "      <td>71083.0</td>\n",
       "      <td>99998.0</td>\n",
       "    </tr>\n",
       "  </tbody>\n",
       "</table>\n",
       "</div>"
      ],
      "text/plain": [
       "                      count           mean           std     min       25%  \\\n",
       "Price              354369.0    4416.656776   4514.158514     0.0    1050.0   \n",
       "RegistrationYear   354369.0    2004.234448     90.227958  1000.0    1999.0   \n",
       "Power              354369.0     110.094337    189.850405     0.0      69.0   \n",
       "Kilometer          354369.0  128211.172535  37905.341530  5000.0  125000.0   \n",
       "RegistrationMonth  354369.0       5.714645      3.726421     0.0       3.0   \n",
       "NumberOfPictures   354369.0       0.000000      0.000000     0.0       0.0   \n",
       "PostalCode         354369.0   50508.689087  25783.096248  1067.0   30165.0   \n",
       "\n",
       "                        50%       75%       max  \n",
       "Price                2700.0    6400.0   20000.0  \n",
       "RegistrationYear     2003.0    2008.0    9999.0  \n",
       "Power                 105.0     143.0   20000.0  \n",
       "Kilometer          150000.0  150000.0  150000.0  \n",
       "RegistrationMonth       6.0       9.0      12.0  \n",
       "NumberOfPictures        0.0       0.0       0.0  \n",
       "PostalCode          49413.0   71083.0   99998.0  "
      ]
     },
     "execution_count": 4,
     "metadata": {},
     "output_type": "execute_result"
    }
   ],
   "source": [
    "df.describe().T"
   ]
  },
  {
   "cell_type": "code",
   "execution_count": 5,
   "metadata": {},
   "outputs": [
    {
     "name": "stdout",
     "output_type": "stream",
     "text": [
      "\u001b[1mVehicleType\u001b[0;0m\n",
      "['bus', 'convertible', 'coupe', 'other', 'sedan', 'small', 'suv', 'wagon']\n",
      "\n",
      "\u001b[1mGearbox\u001b[0;0m\n",
      "['auto', 'manual']\n",
      "\n",
      "\u001b[1mModel\u001b[0;0m\n",
      "['100', '145', '147', '156', '159', '1_reihe', '1er', '200', '2_reihe', '300c', '3_reihe', '3er', '4_reihe', '500', '5_reihe', '5er', '601', '6_reihe', '6er', '7er', '80', '850', '90', '900', '9000', '911', 'a1', 'a2', 'a3', 'a4', 'a5', 'a6', 'a8', 'a_klasse', 'accord', 'agila', 'alhambra', 'almera', 'altea', 'amarok', 'antara', 'arosa', 'astra', 'auris', 'avensis', 'aveo', 'aygo', 'b_klasse', 'b_max', 'beetle', 'berlingo', 'bora', 'boxster', 'bravo', 'c1', 'c2', 'c3', 'c4', 'c5', 'c_klasse', 'c_max', 'c_reihe', 'caddy', 'calibra', 'captiva', 'carisma', 'carnival', 'cayenne', 'cc', 'ceed', 'charade', 'cherokee', 'citigo', 'civic', 'cl', 'clio', 'clk', 'clubman', 'colt', 'combo', 'cooper', 'cordoba', 'corolla', 'corsa', 'cr_reihe', 'croma', 'crossfire', 'cuore', 'cx_reihe', 'defender', 'delta', 'discovery', 'doblo', 'ducato', 'duster', 'e_klasse', 'elefantino', 'eos', 'escort', 'espace', 'exeo', 'fabia', 'fiesta', 'focus', 'forester', 'forfour', 'fortwo', 'fox', 'freelander', 'fusion', 'g_klasse', 'galant', 'galaxy', 'getz', 'gl', 'glk', 'golf', 'grand', 'i3', 'i_reihe', 'ibiza', 'impreza', 'insignia', 'jazz', 'jetta', 'jimny', 'juke', 'justy', 'ka', 'kadett', 'kaefer', 'kalina', 'kalos', 'kangoo', 'kappa', 'kuga', 'laguna', 'lancer', 'lanos', 'legacy', 'leon', 'lodgy', 'logan', 'lupo', 'lybra', 'm_klasse', 'm_reihe', 'materia', 'matiz', 'megane', 'meriva', 'micra', 'mii', 'modus', 'mondeo', 'move', 'musa', 'mustang', 'mx_reihe', 'navara', 'niva', 'note', 'nubira', 'octavia', 'omega', 'one', 'other', 'outlander', 'pajero', 'panda', 'passat', 'phaeton', 'picanto', 'polo', 'primera', 'ptcruiser', 'punto', 'q3', 'q5', 'q7', 'qashqai', 'r19', 'range_rover', 'range_rover_evoque', 'range_rover_sport', 'rangerover', 'rav', 'rio', 'roadster', 'roomster', 'rx_reihe', 's60', 's_klasse', 's_max', 's_type', 'samara', 'sandero', 'santa', 'scenic', 'scirocco', 'seicento', 'serie_1', 'serie_2', 'serie_3', 'sharan', 'signum', 'sirion', 'sl', 'slk', 'sorento', 'spark', 'spider', 'sportage', 'sprinter', 'stilo', 'superb', 'swift', 'terios', 'tigra', 'tiguan', 'toledo', 'touareg', 'touran', 'transit', 'transporter', 'tt', 'tucson', 'twingo', 'up', 'v40', 'v50', 'v60', 'v70', 'v_klasse', 'vectra', 'verso', 'viano', 'vito', 'vivaro', 'voyager', 'wrangler', 'x_reihe', 'x_trail', 'x_type', 'xc_reihe', 'yaris', 'yeti', 'ypsilon', 'z_reihe', 'zafira']\n",
      "\n",
      "\u001b[1mFuelType\u001b[0;0m\n",
      "['cng', 'electric', 'gasoline', 'hybrid', 'lpg', 'other', 'petrol']\n",
      "\n",
      "\u001b[1mBrand\u001b[0;0m\n",
      "['alfa_romeo', 'audi', 'bmw', 'chevrolet', 'chrysler', 'citroen', 'dacia', 'daewoo', 'daihatsu', 'fiat', 'ford', 'honda', 'hyundai', 'jaguar', 'jeep', 'kia', 'lada', 'lancia', 'land_rover', 'mazda', 'mercedes_benz', 'mini', 'mitsubishi', 'nissan', 'opel', 'peugeot', 'porsche', 'renault', 'rover', 'saab', 'seat', 'skoda', 'smart', 'sonstige_autos', 'subaru', 'suzuki', 'toyota', 'trabant', 'volkswagen', 'volvo']\n",
      "\n",
      "\u001b[1mNotRepaired\u001b[0;0m\n",
      "['no', 'yes']\n",
      "\n",
      "\u001b[1mDateCreated\u001b[0;0m\n",
      "['2014-03-10 00:00:00', '2015-03-20 00:00:00', '2015-06-18 00:00:00', '2015-08-07 00:00:00', '2015-08-10 00:00:00', '2015-09-04 00:00:00', '2015-09-09 00:00:00', '2015-11-02 00:00:00', '2015-11-08 00:00:00', '2015-11-10 00:00:00', '2015-11-12 00:00:00', '2015-11-17 00:00:00', '2015-11-23 00:00:00', '2015-11-24 00:00:00', '2015-12-05 00:00:00', '2015-12-06 00:00:00', '2015-12-17 00:00:00', '2015-12-27 00:00:00', '2015-12-30 00:00:00', '2016-01-02 00:00:00', '2016-01-03 00:00:00', '2016-01-06 00:00:00', '2016-01-07 00:00:00', '2016-01-08 00:00:00', '2016-01-10 00:00:00', '2016-01-13 00:00:00', '2016-01-15 00:00:00', '2016-01-16 00:00:00', '2016-01-17 00:00:00', '2016-01-18 00:00:00', '2016-01-19 00:00:00', '2016-01-20 00:00:00', '2016-01-22 00:00:00', '2016-01-23 00:00:00', '2016-01-24 00:00:00', '2016-01-25 00:00:00', '2016-01-26 00:00:00', '2016-01-27 00:00:00', '2016-01-28 00:00:00', '2016-01-29 00:00:00', '2016-01-30 00:00:00', '2016-01-31 00:00:00', '2016-02-01 00:00:00', '2016-02-02 00:00:00', '2016-02-03 00:00:00', '2016-02-04 00:00:00', '2016-02-05 00:00:00', '2016-02-06 00:00:00', '2016-02-07 00:00:00', '2016-02-08 00:00:00', '2016-02-09 00:00:00', '2016-02-10 00:00:00', '2016-02-11 00:00:00', '2016-02-12 00:00:00', '2016-02-13 00:00:00', '2016-02-14 00:00:00', '2016-02-15 00:00:00', '2016-02-16 00:00:00', '2016-02-17 00:00:00', '2016-02-18 00:00:00', '2016-02-19 00:00:00', '2016-02-20 00:00:00', '2016-02-21 00:00:00', '2016-02-22 00:00:00', '2016-02-23 00:00:00', '2016-02-24 00:00:00', '2016-02-25 00:00:00', '2016-02-26 00:00:00', '2016-02-27 00:00:00', '2016-02-28 00:00:00', '2016-02-29 00:00:00', '2016-03-01 00:00:00', '2016-03-02 00:00:00', '2016-03-03 00:00:00', '2016-03-04 00:00:00', '2016-03-05 00:00:00', '2016-03-06 00:00:00', '2016-03-07 00:00:00', '2016-03-08 00:00:00', '2016-03-09 00:00:00', '2016-03-10 00:00:00', '2016-03-11 00:00:00', '2016-03-12 00:00:00', '2016-03-13 00:00:00', '2016-03-14 00:00:00', '2016-03-15 00:00:00', '2016-03-16 00:00:00', '2016-03-17 00:00:00', '2016-03-18 00:00:00', '2016-03-19 00:00:00', '2016-03-20 00:00:00', '2016-03-21 00:00:00', '2016-03-22 00:00:00', '2016-03-23 00:00:00', '2016-03-24 00:00:00', '2016-03-25 00:00:00', '2016-03-26 00:00:00', '2016-03-27 00:00:00', '2016-03-28 00:00:00', '2016-03-29 00:00:00', '2016-03-30 00:00:00', '2016-03-31 00:00:00', '2016-04-01 00:00:00', '2016-04-02 00:00:00', '2016-04-03 00:00:00', '2016-04-04 00:00:00', '2016-04-05 00:00:00', '2016-04-06 00:00:00', '2016-04-07 00:00:00']\n",
      "\n"
     ]
    }
   ],
   "source": [
    "columns = ['VehicleType', 'Gearbox', 'Model', 'FuelType', 'Brand', 'NotRepaired', 'DateCreated']\n",
    "for column in columns:\n",
    "    print(\"\\033[1m\" + column + \"\\033[0;0m\")\n",
    "    print(sorted(df.loc[df[column].notnull(), column].unique()))\n",
    "    print()"
   ]
  },
  {
   "cell_type": "code",
   "execution_count": 6,
   "metadata": {},
   "outputs": [
    {
     "data": {
      "text/html": [
       "<div>\n",
       "<style scoped>\n",
       "    .dataframe tbody tr th:only-of-type {\n",
       "        vertical-align: middle;\n",
       "    }\n",
       "\n",
       "    .dataframe tbody tr th {\n",
       "        vertical-align: top;\n",
       "    }\n",
       "\n",
       "    .dataframe thead th {\n",
       "        text-align: right;\n",
       "    }\n",
       "</style>\n",
       "<table border=\"1\" class=\"dataframe\">\n",
       "  <thead>\n",
       "    <tr style=\"text-align: right;\">\n",
       "      <th></th>\n",
       "      <th>DateCrawled</th>\n",
       "      <th>Price</th>\n",
       "      <th>VehicleType</th>\n",
       "      <th>RegistrationYear</th>\n",
       "      <th>Gearbox</th>\n",
       "      <th>Power</th>\n",
       "      <th>Model</th>\n",
       "      <th>Kilometer</th>\n",
       "      <th>RegistrationMonth</th>\n",
       "      <th>FuelType</th>\n",
       "      <th>Brand</th>\n",
       "      <th>NotRepaired</th>\n",
       "      <th>DateCreated</th>\n",
       "      <th>NumberOfPictures</th>\n",
       "      <th>PostalCode</th>\n",
       "      <th>LastSeen</th>\n",
       "    </tr>\n",
       "  </thead>\n",
       "  <tbody>\n",
       "    <tr>\n",
       "      <th>0</th>\n",
       "      <td>2016-03-24 11:52:17</td>\n",
       "      <td>480</td>\n",
       "      <td>NaN</td>\n",
       "      <td>1993</td>\n",
       "      <td>manual</td>\n",
       "      <td>0</td>\n",
       "      <td>golf</td>\n",
       "      <td>150000</td>\n",
       "      <td>0</td>\n",
       "      <td>petrol</td>\n",
       "      <td>volkswagen</td>\n",
       "      <td>NaN</td>\n",
       "      <td>2016-03-24 00:00:00</td>\n",
       "      <td>0</td>\n",
       "      <td>70435</td>\n",
       "      <td>2016-04-07 03:16:57</td>\n",
       "    </tr>\n",
       "    <tr>\n",
       "      <th>1</th>\n",
       "      <td>2016-03-24 10:58:45</td>\n",
       "      <td>18300</td>\n",
       "      <td>coupe</td>\n",
       "      <td>2011</td>\n",
       "      <td>manual</td>\n",
       "      <td>190</td>\n",
       "      <td>NaN</td>\n",
       "      <td>125000</td>\n",
       "      <td>5</td>\n",
       "      <td>gasoline</td>\n",
       "      <td>audi</td>\n",
       "      <td>yes</td>\n",
       "      <td>2016-03-24 00:00:00</td>\n",
       "      <td>0</td>\n",
       "      <td>66954</td>\n",
       "      <td>2016-04-07 01:46:50</td>\n",
       "    </tr>\n",
       "    <tr>\n",
       "      <th>2</th>\n",
       "      <td>2016-03-14 12:52:21</td>\n",
       "      <td>9800</td>\n",
       "      <td>suv</td>\n",
       "      <td>2004</td>\n",
       "      <td>auto</td>\n",
       "      <td>163</td>\n",
       "      <td>grand</td>\n",
       "      <td>125000</td>\n",
       "      <td>8</td>\n",
       "      <td>gasoline</td>\n",
       "      <td>jeep</td>\n",
       "      <td>NaN</td>\n",
       "      <td>2016-03-14 00:00:00</td>\n",
       "      <td>0</td>\n",
       "      <td>90480</td>\n",
       "      <td>2016-04-05 12:47:46</td>\n",
       "    </tr>\n",
       "    <tr>\n",
       "      <th>3</th>\n",
       "      <td>2016-03-17 16:54:04</td>\n",
       "      <td>1500</td>\n",
       "      <td>small</td>\n",
       "      <td>2001</td>\n",
       "      <td>manual</td>\n",
       "      <td>75</td>\n",
       "      <td>golf</td>\n",
       "      <td>150000</td>\n",
       "      <td>6</td>\n",
       "      <td>petrol</td>\n",
       "      <td>volkswagen</td>\n",
       "      <td>no</td>\n",
       "      <td>2016-03-17 00:00:00</td>\n",
       "      <td>0</td>\n",
       "      <td>91074</td>\n",
       "      <td>2016-03-17 17:40:17</td>\n",
       "    </tr>\n",
       "    <tr>\n",
       "      <th>4</th>\n",
       "      <td>2016-03-31 17:25:20</td>\n",
       "      <td>3600</td>\n",
       "      <td>small</td>\n",
       "      <td>2008</td>\n",
       "      <td>manual</td>\n",
       "      <td>69</td>\n",
       "      <td>fabia</td>\n",
       "      <td>90000</td>\n",
       "      <td>7</td>\n",
       "      <td>gasoline</td>\n",
       "      <td>skoda</td>\n",
       "      <td>no</td>\n",
       "      <td>2016-03-31 00:00:00</td>\n",
       "      <td>0</td>\n",
       "      <td>60437</td>\n",
       "      <td>2016-04-06 10:17:21</td>\n",
       "    </tr>\n",
       "  </tbody>\n",
       "</table>\n",
       "</div>"
      ],
      "text/plain": [
       "           DateCrawled  Price VehicleType  RegistrationYear Gearbox  Power  \\\n",
       "0  2016-03-24 11:52:17    480         NaN              1993  manual      0   \n",
       "1  2016-03-24 10:58:45  18300       coupe              2011  manual    190   \n",
       "2  2016-03-14 12:52:21   9800         suv              2004    auto    163   \n",
       "3  2016-03-17 16:54:04   1500       small              2001  manual     75   \n",
       "4  2016-03-31 17:25:20   3600       small              2008  manual     69   \n",
       "\n",
       "   Model  Kilometer  RegistrationMonth  FuelType       Brand NotRepaired  \\\n",
       "0   golf     150000                  0    petrol  volkswagen         NaN   \n",
       "1    NaN     125000                  5  gasoline        audi         yes   \n",
       "2  grand     125000                  8  gasoline        jeep         NaN   \n",
       "3   golf     150000                  6    petrol  volkswagen          no   \n",
       "4  fabia      90000                  7  gasoline       skoda          no   \n",
       "\n",
       "           DateCreated  NumberOfPictures  PostalCode             LastSeen  \n",
       "0  2016-03-24 00:00:00                 0       70435  2016-04-07 03:16:57  \n",
       "1  2016-03-24 00:00:00                 0       66954  2016-04-07 01:46:50  \n",
       "2  2016-03-14 00:00:00                 0       90480  2016-04-05 12:47:46  \n",
       "3  2016-03-17 00:00:00                 0       91074  2016-03-17 17:40:17  \n",
       "4  2016-03-31 00:00:00                 0       60437  2016-04-06 10:17:21  "
      ]
     },
     "execution_count": 6,
     "metadata": {},
     "output_type": "execute_result"
    }
   ],
   "source": [
    "df.head()"
   ]
  },
  {
   "cell_type": "markdown",
   "metadata": {},
   "source": [
    "**Признаки**\n",
    "- **DateCrawled** — дата скачивания анкеты из базы\n",
    "- **VehicleType** — тип автомобильного кузова\n",
    "- **RegistrationYear** — год регистрации автомобиля\n",
    "- **Gearbox** — тип коробки передач\n",
    "- **Power** — мощность (л. с.)\n",
    "- **Model** — модель автомобиля\n",
    "- **Kilometer** — пробег (км)\n",
    "- **RegistrationMonth** — месяц регистрации автомобиля\n",
    "- **FuelType** — тип топлива\n",
    "- **Brand** — марка автомобиля\n",
    "- **NotRepaired** — была машина в ремонте или нет\n",
    "- **DateCreated** — дата создания анкеты\n",
    "- **NumberOfPictures** — количество фотографий автомобиля\n",
    "- **PostalCode** — почтовый индекс владельца анкеты (пользователя)\n",
    "- **LastSeen** — дата последней активности пользователя\n",
    "\n",
    "**Целевой признак**\n",
    "- **Price** — цена (евро)"
   ]
  },
  {
   "cell_type": "code",
   "execution_count": 7,
   "metadata": {
    "scrolled": false
   },
   "outputs": [
    {
     "data": {
      "text/plain": [
       "4"
      ]
     },
     "execution_count": 7,
     "metadata": {},
     "output_type": "execute_result"
    }
   ],
   "source": [
    "# подсчёт явных дубликатов\n",
    "df.duplicated().sum()"
   ]
  },
  {
   "cell_type": "code",
   "execution_count": 8,
   "metadata": {
    "scrolled": false
   },
   "outputs": [
    {
     "data": {
      "text/plain": [
       "DateCrawled           0.000000\n",
       "Price                 0.000000\n",
       "VehicleType          10.579368\n",
       "RegistrationYear      0.000000\n",
       "Gearbox               5.596709\n",
       "Power                 0.000000\n",
       "Model                 5.560588\n",
       "Kilometer             0.000000\n",
       "RegistrationMonth     0.000000\n",
       "FuelType              9.282697\n",
       "Brand                 0.000000\n",
       "NotRepaired          20.079070\n",
       "DateCreated           0.000000\n",
       "NumberOfPictures      0.000000\n",
       "PostalCode            0.000000\n",
       "LastSeen              0.000000\n",
       "dtype: float64"
      ]
     },
     "execution_count": 8,
     "metadata": {},
     "output_type": "execute_result"
    }
   ],
   "source": [
    "# процент пропущенных значений в датасете\n",
    "df.isnull().sum() / df.shape[0] * 100"
   ]
  },
  {
   "cell_type": "code",
   "execution_count": 9,
   "metadata": {},
   "outputs": [
    {
     "data": {
      "text/plain": [
       "[1000,\n",
       " 1001,\n",
       " 1039,\n",
       " 1111,\n",
       " 1200,\n",
       " 1234,\n",
       " 1253,\n",
       " 1255,\n",
       " 1300,\n",
       " 1400,\n",
       " 1500,\n",
       " 1600,\n",
       " 1602,\n",
       " 1688,\n",
       " 1800,\n",
       " 1910,\n",
       " 1915,\n",
       " 1919,\n",
       " 1920,\n",
       " 1923,\n",
       " 1925,\n",
       " 1927,\n",
       " 1928,\n",
       " 1929,\n",
       " 1930,\n",
       " 1931,\n",
       " 1932,\n",
       " 1933,\n",
       " 1934,\n",
       " 1935,\n",
       " 1936,\n",
       " 1937,\n",
       " 1938,\n",
       " 1940,\n",
       " 1941,\n",
       " 1942,\n",
       " 1943,\n",
       " 1944,\n",
       " 1945,\n",
       " 1946,\n",
       " 1947,\n",
       " 1948,\n",
       " 1949,\n",
       " 1950,\n",
       " 1951,\n",
       " 1952,\n",
       " 1953,\n",
       " 1954,\n",
       " 1955,\n",
       " 1956,\n",
       " 1957,\n",
       " 1958,\n",
       " 1959,\n",
       " 1960,\n",
       " 1961,\n",
       " 1962,\n",
       " 1963,\n",
       " 1964,\n",
       " 1965,\n",
       " 1966,\n",
       " 1967,\n",
       " 1968,\n",
       " 1969,\n",
       " 1970,\n",
       " 1971,\n",
       " 1972,\n",
       " 1973,\n",
       " 1974,\n",
       " 1975,\n",
       " 1976,\n",
       " 1977,\n",
       " 1978,\n",
       " 1979,\n",
       " 1980,\n",
       " 1981,\n",
       " 1982,\n",
       " 1983,\n",
       " 1984,\n",
       " 1985,\n",
       " 1986,\n",
       " 1987,\n",
       " 1988,\n",
       " 1989,\n",
       " 1990,\n",
       " 1991,\n",
       " 1992,\n",
       " 1993,\n",
       " 1994,\n",
       " 1995,\n",
       " 1996,\n",
       " 1997,\n",
       " 1998,\n",
       " 1999,\n",
       " 2000,\n",
       " 2001,\n",
       " 2002,\n",
       " 2003,\n",
       " 2004,\n",
       " 2005,\n",
       " 2006,\n",
       " 2007,\n",
       " 2008,\n",
       " 2009,\n",
       " 2010,\n",
       " 2011,\n",
       " 2012,\n",
       " 2013,\n",
       " 2014,\n",
       " 2015,\n",
       " 2016,\n",
       " 2017,\n",
       " 2018,\n",
       " 2019,\n",
       " 2066,\n",
       " 2200,\n",
       " 2222,\n",
       " 2290,\n",
       " 2500,\n",
       " 2800,\n",
       " 2900,\n",
       " 3000,\n",
       " 3200,\n",
       " 3500,\n",
       " 3700,\n",
       " 3800,\n",
       " 4000,\n",
       " 4100,\n",
       " 4500,\n",
       " 4800,\n",
       " 5000,\n",
       " 5300,\n",
       " 5555,\n",
       " 5600,\n",
       " 5900,\n",
       " 5911,\n",
       " 6000,\n",
       " 6500,\n",
       " 7000,\n",
       " 7100,\n",
       " 7500,\n",
       " 7800,\n",
       " 8000,\n",
       " 8200,\n",
       " 8455,\n",
       " 8500,\n",
       " 8888,\n",
       " 9000,\n",
       " 9229,\n",
       " 9450,\n",
       " 9996,\n",
       " 9999]"
      ]
     },
     "execution_count": 9,
     "metadata": {},
     "output_type": "execute_result"
    }
   ],
   "source": [
    "sorted(df.loc[df['RegistrationYear'].notnull(), 'RegistrationYear'].unique())"
   ]
  },
  {
   "cell_type": "code",
   "execution_count": 10,
   "metadata": {},
   "outputs": [
    {
     "data": {
      "text/plain": [
       "[0,\n",
       " 1,\n",
       " 2,\n",
       " 3,\n",
       " 4,\n",
       " 5,\n",
       " 6,\n",
       " 7,\n",
       " 8,\n",
       " 9,\n",
       " 10,\n",
       " 11,\n",
       " 12,\n",
       " 13,\n",
       " 14,\n",
       " 15,\n",
       " 16,\n",
       " 17,\n",
       " 18,\n",
       " 19,\n",
       " 20,\n",
       " 21,\n",
       " 22,\n",
       " 23,\n",
       " 24,\n",
       " 25,\n",
       " 26,\n",
       " 27,\n",
       " 28,\n",
       " 29,\n",
       " 30,\n",
       " 31,\n",
       " 32,\n",
       " 33,\n",
       " 34,\n",
       " 35,\n",
       " 36,\n",
       " 37,\n",
       " 38,\n",
       " 39,\n",
       " 40,\n",
       " 41,\n",
       " 42,\n",
       " 43,\n",
       " 44,\n",
       " 45,\n",
       " 46,\n",
       " 47,\n",
       " 48,\n",
       " 49,\n",
       " 50,\n",
       " 51,\n",
       " 52,\n",
       " 53,\n",
       " 54,\n",
       " 55,\n",
       " 56,\n",
       " 57,\n",
       " 58,\n",
       " 59,\n",
       " 60,\n",
       " 61,\n",
       " 62,\n",
       " 63,\n",
       " 64,\n",
       " 65,\n",
       " 66,\n",
       " 67,\n",
       " 68,\n",
       " 69,\n",
       " 70,\n",
       " 71,\n",
       " 72,\n",
       " 73,\n",
       " 74,\n",
       " 75,\n",
       " 76,\n",
       " 77,\n",
       " 78,\n",
       " 79,\n",
       " 80,\n",
       " 81,\n",
       " 82,\n",
       " 83,\n",
       " 84,\n",
       " 85,\n",
       " 86,\n",
       " 87,\n",
       " 88,\n",
       " 89,\n",
       " 90,\n",
       " 91,\n",
       " 92,\n",
       " 93,\n",
       " 94,\n",
       " 95,\n",
       " 96,\n",
       " 97,\n",
       " 98,\n",
       " 99,\n",
       " 100,\n",
       " 101,\n",
       " 102,\n",
       " 103,\n",
       " 104,\n",
       " 105,\n",
       " 106,\n",
       " 107,\n",
       " 108,\n",
       " 109,\n",
       " 110,\n",
       " 111,\n",
       " 112,\n",
       " 113,\n",
       " 114,\n",
       " 115,\n",
       " 116,\n",
       " 117,\n",
       " 118,\n",
       " 119,\n",
       " 120,\n",
       " 121,\n",
       " 122,\n",
       " 123,\n",
       " 124,\n",
       " 125,\n",
       " 126,\n",
       " 127,\n",
       " 128,\n",
       " 129,\n",
       " 130,\n",
       " 131,\n",
       " 132,\n",
       " 133,\n",
       " 134,\n",
       " 135,\n",
       " 136,\n",
       " 137,\n",
       " 138,\n",
       " 139,\n",
       " 140,\n",
       " 141,\n",
       " 142,\n",
       " 143,\n",
       " 144,\n",
       " 145,\n",
       " 146,\n",
       " 147,\n",
       " 148,\n",
       " 149,\n",
       " 150,\n",
       " 151,\n",
       " 152,\n",
       " 153,\n",
       " 154,\n",
       " 155,\n",
       " 156,\n",
       " 157,\n",
       " 158,\n",
       " 159,\n",
       " 160,\n",
       " 161,\n",
       " 162,\n",
       " 163,\n",
       " 164,\n",
       " 165,\n",
       " 166,\n",
       " 167,\n",
       " 168,\n",
       " 169,\n",
       " 170,\n",
       " 171,\n",
       " 172,\n",
       " 173,\n",
       " 174,\n",
       " 175,\n",
       " 176,\n",
       " 177,\n",
       " 178,\n",
       " 179,\n",
       " 180,\n",
       " 181,\n",
       " 182,\n",
       " 183,\n",
       " 184,\n",
       " 185,\n",
       " 186,\n",
       " 187,\n",
       " 188,\n",
       " 189,\n",
       " 190,\n",
       " 191,\n",
       " 192,\n",
       " 193,\n",
       " 194,\n",
       " 195,\n",
       " 196,\n",
       " 197,\n",
       " 198,\n",
       " 199,\n",
       " 200,\n",
       " 201,\n",
       " 202,\n",
       " 203,\n",
       " 204,\n",
       " 205,\n",
       " 206,\n",
       " 207,\n",
       " 208,\n",
       " 209,\n",
       " 210,\n",
       " 211,\n",
       " 212,\n",
       " 213,\n",
       " 214,\n",
       " 215,\n",
       " 216,\n",
       " 217,\n",
       " 218,\n",
       " 219,\n",
       " 220,\n",
       " 221,\n",
       " 222,\n",
       " 223,\n",
       " 224,\n",
       " 225,\n",
       " 226,\n",
       " 227,\n",
       " 228,\n",
       " 229,\n",
       " 230,\n",
       " 231,\n",
       " 232,\n",
       " 233,\n",
       " 234,\n",
       " 235,\n",
       " 236,\n",
       " 237,\n",
       " 238,\n",
       " 239,\n",
       " 240,\n",
       " 241,\n",
       " 242,\n",
       " 243,\n",
       " 244,\n",
       " 245,\n",
       " 246,\n",
       " 247,\n",
       " 248,\n",
       " 249,\n",
       " 250,\n",
       " 251,\n",
       " 252,\n",
       " 253,\n",
       " 254,\n",
       " 255,\n",
       " 256,\n",
       " 257,\n",
       " 258,\n",
       " 259,\n",
       " 260,\n",
       " 261,\n",
       " 262,\n",
       " 264,\n",
       " 265,\n",
       " 266,\n",
       " 267,\n",
       " 268,\n",
       " 269,\n",
       " 270,\n",
       " 271,\n",
       " 272,\n",
       " 273,\n",
       " 274,\n",
       " 275,\n",
       " 276,\n",
       " 277,\n",
       " 278,\n",
       " 279,\n",
       " 280,\n",
       " 281,\n",
       " 282,\n",
       " 283,\n",
       " 284,\n",
       " 285,\n",
       " 286,\n",
       " 287,\n",
       " 288,\n",
       " 289,\n",
       " 290,\n",
       " 292,\n",
       " 293,\n",
       " 294,\n",
       " 295,\n",
       " 296,\n",
       " 297,\n",
       " 298,\n",
       " 299,\n",
       " 300,\n",
       " 301,\n",
       " 303,\n",
       " 304,\n",
       " 305,\n",
       " 306,\n",
       " 307,\n",
       " 308,\n",
       " 309,\n",
       " 310,\n",
       " 311,\n",
       " 313,\n",
       " 314,\n",
       " 315,\n",
       " 316,\n",
       " 317,\n",
       " 318,\n",
       " 320,\n",
       " 321,\n",
       " 322,\n",
       " 323,\n",
       " 324,\n",
       " 325,\n",
       " 326,\n",
       " 327,\n",
       " 328,\n",
       " 329,\n",
       " 330,\n",
       " 331,\n",
       " 332,\n",
       " 333,\n",
       " 334,\n",
       " 335,\n",
       " 336,\n",
       " 337,\n",
       " 338,\n",
       " 339,\n",
       " 340,\n",
       " 341,\n",
       " 343,\n",
       " 344,\n",
       " 345,\n",
       " 346,\n",
       " 347,\n",
       " 348,\n",
       " 349,\n",
       " 350,\n",
       " 351,\n",
       " 352,\n",
       " 353,\n",
       " 354,\n",
       " 355,\n",
       " 356,\n",
       " 357,\n",
       " 358,\n",
       " 360,\n",
       " 361,\n",
       " 362,\n",
       " 363,\n",
       " 364,\n",
       " 365,\n",
       " 367,\n",
       " 368,\n",
       " 370,\n",
       " 371,\n",
       " 374,\n",
       " 375,\n",
       " 376,\n",
       " 377,\n",
       " 379,\n",
       " 380,\n",
       " 381,\n",
       " 382,\n",
       " 385,\n",
       " 386,\n",
       " 387,\n",
       " 388,\n",
       " 390,\n",
       " 392,\n",
       " 394,\n",
       " 396,\n",
       " 398,\n",
       " 399,\n",
       " 400,\n",
       " 401,\n",
       " 402,\n",
       " 405,\n",
       " 408,\n",
       " 409,\n",
       " 411,\n",
       " 416,\n",
       " 420,\n",
       " 421,\n",
       " 425,\n",
       " 426,\n",
       " 428,\n",
       " 430,\n",
       " 431,\n",
       " 435,\n",
       " 440,\n",
       " 442,\n",
       " 445,\n",
       " 449,\n",
       " 450,\n",
       " 454,\n",
       " 457,\n",
       " 459,\n",
       " 460,\n",
       " 475,\n",
       " 476,\n",
       " 485,\n",
       " 487,\n",
       " 489,\n",
       " 490,\n",
       " 500,\n",
       " 504,\n",
       " 505,\n",
       " 507,\n",
       " 508,\n",
       " 510,\n",
       " 514,\n",
       " 515,\n",
       " 517,\n",
       " 519,\n",
       " 520,\n",
       " 521,\n",
       " 525,\n",
       " 530,\n",
       " 540,\n",
       " 541,\n",
       " 544,\n",
       " 550,\n",
       " 551,\n",
       " 553,\n",
       " 560,\n",
       " 572,\n",
       " 574,\n",
       " 579,\n",
       " 580,\n",
       " 584,\n",
       " 585,\n",
       " 599,\n",
       " 600,\n",
       " 601,\n",
       " 602,\n",
       " 603,\n",
       " 604,\n",
       " 606,\n",
       " 607,\n",
       " 610,\n",
       " 612,\n",
       " 620,\n",
       " 640,\n",
       " 645,\n",
       " 650,\n",
       " 651,\n",
       " 671,\n",
       " 678,\n",
       " 682,\n",
       " 685,\n",
       " 696,\n",
       " 700,\n",
       " 702,\n",
       " 703,\n",
       " 732,\n",
       " 743,\n",
       " 750,\n",
       " 751,\n",
       " 754,\n",
       " 771,\n",
       " 776,\n",
       " 800,\n",
       " 805,\n",
       " 808,\n",
       " 850,\n",
       " 851,\n",
       " 871,\n",
       " 900,\n",
       " 901,\n",
       " 902,\n",
       " 903,\n",
       " 907,\n",
       " 909,\n",
       " 923,\n",
       " 950,\n",
       " 952,\n",
       " 953,\n",
       " 960,\n",
       " 998,\n",
       " 999,\n",
       " 1000,\n",
       " 1001,\n",
       " 1002,\n",
       " 1003,\n",
       " 1004,\n",
       " 1005,\n",
       " 1011,\n",
       " 1012,\n",
       " 1016,\n",
       " 1017,\n",
       " 1021,\n",
       " 1024,\n",
       " 1054,\n",
       " 1055,\n",
       " 1056,\n",
       " 1062,\n",
       " 1079,\n",
       " 1082,\n",
       " 1090,\n",
       " 1100,\n",
       " 1102,\n",
       " 1103,\n",
       " 1105,\n",
       " 1111,\n",
       " 1115,\n",
       " 1120,\n",
       " 1149,\n",
       " 1151,\n",
       " 1158,\n",
       " 1160,\n",
       " 1162,\n",
       " 1164,\n",
       " 1199,\n",
       " 1200,\n",
       " 1202,\n",
       " 1221,\n",
       " 1223,\n",
       " 1230,\n",
       " 1239,\n",
       " 1240,\n",
       " 1241,\n",
       " 1250,\n",
       " 1252,\n",
       " 1256,\n",
       " 1275,\n",
       " 1288,\n",
       " 1299,\n",
       " 1300,\n",
       " 1312,\n",
       " 1317,\n",
       " 1324,\n",
       " 1339,\n",
       " 1351,\n",
       " 1360,\n",
       " 1362,\n",
       " 1363,\n",
       " 1367,\n",
       " 1390,\n",
       " 1394,\n",
       " 1398,\n",
       " 1399,\n",
       " 1400,\n",
       " 1401,\n",
       " 1403,\n",
       " 1405,\n",
       " 1416,\n",
       " 1432,\n",
       " 1433,\n",
       " 1436,\n",
       " 1500,\n",
       " 1501,\n",
       " 1502,\n",
       " 1503,\n",
       " 1506,\n",
       " 1521,\n",
       " 1548,\n",
       " 1595,\n",
       " 1596,\n",
       " 1597,\n",
       " 1598,\n",
       " 1600,\n",
       " 1625,\n",
       " 1631,\n",
       " 1653,\n",
       " 1659,\n",
       " 1689,\n",
       " 1700,\n",
       " 1701,\n",
       " 1703,\n",
       " 1704,\n",
       " 1707,\n",
       " 1753,\n",
       " 1771,\n",
       " 1779,\n",
       " 1780,\n",
       " 1781,\n",
       " 1783,\n",
       " 1793,\n",
       " 1796,\n",
       " 1799,\n",
       " 1800,\n",
       " 1801,\n",
       " 1870,\n",
       " 1895,\n",
       " 1896,\n",
       " 1900,\n",
       " 1910,\n",
       " 1920,\n",
       " 1922,\n",
       " 1933,\n",
       " 1937,\n",
       " 1968,\n",
       " 1986,\n",
       " 1988,\n",
       " 1992,\n",
       " 1993,\n",
       " 1995,\n",
       " 1998,\n",
       " 1999,\n",
       " 2000,\n",
       " 2004,\n",
       " 2005,\n",
       " 2007,\n",
       " 2009,\n",
       " 2016,\n",
       " 2017,\n",
       " 2018,\n",
       " 2172,\n",
       " 2200,\n",
       " 2201,\n",
       " 2331,\n",
       " 2340,\n",
       " 2389,\n",
       " 2402,\n",
       " 2461,\n",
       " 2598,\n",
       " 2729,\n",
       " 2789,\n",
       " 2792,\n",
       " 2799,\n",
       " 3000,\n",
       " 3199,\n",
       " 3454,\n",
       " 3500,\n",
       " 3750,\n",
       " 4400,\n",
       " 4507,\n",
       " 4700,\n",
       " 5000,\n",
       " 5411,\n",
       " 5420,\n",
       " 5575,\n",
       " 5809,\n",
       " 5815,\n",
       " 5867,\n",
       " 6006,\n",
       " 6010,\n",
       " 6011,\n",
       " 6012,\n",
       " 6018,\n",
       " 6045,\n",
       " 6062,\n",
       " 6226,\n",
       " 6512,\n",
       " 6920,\n",
       " 7508,\n",
       " 7511,\n",
       " 7512,\n",
       " 7515,\n",
       " 7518,\n",
       " 7529,\n",
       " 7544,\n",
       " 8011,\n",
       " 8259,\n",
       " 8404,\n",
       " 8500,\n",
       " 9000,\n",
       " 9007,\n",
       " 9010,\n",
       " 9011,\n",
       " 9012,\n",
       " 9013,\n",
       " 9710,\n",
       " 10000,\n",
       " 10110,\n",
       " 10218,\n",
       " 10311,\n",
       " 10317,\n",
       " 10520,\n",
       " 10522,\n",
       " 10710,\n",
       " 10910,\n",
       " 10912,\n",
       " 11011,\n",
       " 11025,\n",
       " 11111,\n",
       " 11509,\n",
       " 11530,\n",
       " 11635,\n",
       " 12012,\n",
       " 12510,\n",
       " 12512,\n",
       " 12684,\n",
       " 13616,\n",
       " 13636,\n",
       " 14009,\n",
       " 15001,\n",
       " 15016,\n",
       " 15017,\n",
       " 15020,\n",
       " 15033,\n",
       " 16011,\n",
       " 16051,\n",
       " 16311,\n",
       " 16312,\n",
       " 17011,\n",
       " 17019,\n",
       " 17410,\n",
       " 17700,\n",
       " 17932,\n",
       " 19208,\n",
       " 19211,\n",
       " 19312,\n",
       " 20000]"
      ]
     },
     "execution_count": 10,
     "metadata": {},
     "output_type": "execute_result"
    }
   ],
   "source": [
    "sorted(df.loc[df['Power'].notnull(), 'Power'].unique())"
   ]
  },
  {
   "cell_type": "markdown",
   "metadata": {},
   "source": [
    "В датасете представлены анкеты за период 2014-2016 гг.\n",
    "\n",
    "В датасете присутствуют количественные и категориальные переменные. \n",
    "\n",
    "В названиях полей нарушен стиль написания - строчные буквы сочетаются с прописными. Необходимо привести названия полей к нижнему регистру и к \"змеиному стилю\".\n",
    "\n",
    "Выявлены некорректные значения в следующих полях:\n",
    "\n",
    "- поле `RegistrationYear` (год регистрации автомобиля) - диапазон [1000, 1800] (верхняя граница интервала взята условно, выделены значения до XX века),  [2066, 9999].\n",
    "- поле `RegistrationMonth` (месяц регистрации автомобиля) - значение 0.\n",
    "- поле `Power` (мощность (л. с.)) - значение 0, диапазон [2000, 20000] (нижняя граница интервала взята условно, 2000 л.с. - наивысшая известная мощность автомобиля). \n",
    "- поле `Price` (цена (евро)) - значение 0.\n",
    "\n",
    "Для перечисленных полей необходимо убрать выбросы, т.о., возможно, получится избавиться от некорректных значений.\n",
    "\n",
    "В полях `VehicleType`, `Gearbox`, `Model`, `FuelType`, `NotRepaired` есть пропуски:\n",
    "- пропуски в поле `Model` (модель автомобиля) и в поле `NotRepaired` (была машина в ремонте или нет) заполним значением **'unknown'**.\n",
    "- пропуски в поле `VehicleType` (тип автомобильного кузова) и `Gearbox` (тип коробки передач), `FuelType` (тип топлива) заполним самым часто встречающимся значением (модой) для определенной модели автомобиля.\n",
    "\n",
    "Выявлено 4 случая явных дубликатов. Их необходимо удалить.\n",
    "\n",
    "Неявные дубликаты не выявлены.\n",
    "\n",
    "Поле `DateCreated` (дата создания анкеты) необходимо перевести в формат **datetime**.\n",
    "\n",
    "Поле `NumberOfPictures` заполнено нулями, его можно удалить. Признаки `PostalCode` (почтовый индекс владельца анкеты (пользователя)), `LastSeen` (дата последней активности пользователя), `DateCrawled` (дата скачивания анкеты из базы), `RegistrationMonth` (месяц регистрации автомобиля) не влияют на целевой признак, их можно удалить.\n",
    "\n",
    "Для обучения моделей категориальные признаки необходимо преобразовать в численные."
   ]
  },
  {
   "cell_type": "markdown",
   "metadata": {},
   "source": [
    "### Предобработка данных"
   ]
  },
  {
   "cell_type": "code",
   "execution_count": 11,
   "metadata": {},
   "outputs": [],
   "source": [
    "# удаление полей\n",
    "df = df.drop(['NumberOfPictures', 'PostalCode', 'LastSeen', 'DateCrawled', 'RegistrationMonth'], axis=1)"
   ]
  },
  {
   "cell_type": "code",
   "execution_count": 12,
   "metadata": {},
   "outputs": [],
   "source": [
    "# приведение названий полей к правильному стилю\n",
    "df.columns = ['price', 'vehicle_type', 'registration_year', 'gearbox', 'power', 'model', 'kilometer',\n",
    "              'fuel_type', 'brand', 'not_repaired', 'date_created']"
   ]
  },
  {
   "cell_type": "code",
   "execution_count": 13,
   "metadata": {},
   "outputs": [],
   "source": [
    "# изменение типа данных c object на datetime64 для поля date_created (дата создания анкеты)\n",
    "df['date_created'] = pd.to_datetime(df['date_created'], format='%Y-%m-%dT%H:%M:%S')\n",
    "df['date_created'] = pd.DatetimeIndex(df['date_created']).year  # оставим только год публикации"
   ]
  },
  {
   "cell_type": "markdown",
   "metadata": {},
   "source": [
    "Оставили только год создания анкеты, т.к. можно предположить, что цены на авто менялись в разные годы: росли или снижались.\n",
    "\n",
    "Добавим в датасет поле `age` (возраст автомобиля), предположительно, этот признак должен влиять на цену авто."
   ]
  },
  {
   "cell_type": "code",
   "execution_count": 14,
   "metadata": {},
   "outputs": [],
   "source": [
    "df['age'] = df['date_created'] - df['registration_year']"
   ]
  },
  {
   "cell_type": "code",
   "execution_count": 15,
   "metadata": {},
   "outputs": [
    {
     "data": {
      "text/html": [
       "<div>\n",
       "<style scoped>\n",
       "    .dataframe tbody tr th:only-of-type {\n",
       "        vertical-align: middle;\n",
       "    }\n",
       "\n",
       "    .dataframe tbody tr th {\n",
       "        vertical-align: top;\n",
       "    }\n",
       "\n",
       "    .dataframe thead th {\n",
       "        text-align: right;\n",
       "    }\n",
       "</style>\n",
       "<table border=\"1\" class=\"dataframe\">\n",
       "  <thead>\n",
       "    <tr style=\"text-align: right;\">\n",
       "      <th></th>\n",
       "      <th>price</th>\n",
       "      <th>vehicle_type</th>\n",
       "      <th>registration_year</th>\n",
       "      <th>gearbox</th>\n",
       "      <th>power</th>\n",
       "      <th>model</th>\n",
       "      <th>kilometer</th>\n",
       "      <th>fuel_type</th>\n",
       "      <th>brand</th>\n",
       "      <th>not_repaired</th>\n",
       "      <th>date_created</th>\n",
       "      <th>age</th>\n",
       "    </tr>\n",
       "  </thead>\n",
       "  <tbody>\n",
       "    <tr>\n",
       "      <th>0</th>\n",
       "      <td>480</td>\n",
       "      <td>NaN</td>\n",
       "      <td>1993</td>\n",
       "      <td>manual</td>\n",
       "      <td>0</td>\n",
       "      <td>golf</td>\n",
       "      <td>150000</td>\n",
       "      <td>petrol</td>\n",
       "      <td>volkswagen</td>\n",
       "      <td>NaN</td>\n",
       "      <td>2016</td>\n",
       "      <td>23</td>\n",
       "    </tr>\n",
       "    <tr>\n",
       "      <th>1</th>\n",
       "      <td>18300</td>\n",
       "      <td>coupe</td>\n",
       "      <td>2011</td>\n",
       "      <td>manual</td>\n",
       "      <td>190</td>\n",
       "      <td>NaN</td>\n",
       "      <td>125000</td>\n",
       "      <td>gasoline</td>\n",
       "      <td>audi</td>\n",
       "      <td>yes</td>\n",
       "      <td>2016</td>\n",
       "      <td>5</td>\n",
       "    </tr>\n",
       "    <tr>\n",
       "      <th>2</th>\n",
       "      <td>9800</td>\n",
       "      <td>suv</td>\n",
       "      <td>2004</td>\n",
       "      <td>auto</td>\n",
       "      <td>163</td>\n",
       "      <td>grand</td>\n",
       "      <td>125000</td>\n",
       "      <td>gasoline</td>\n",
       "      <td>jeep</td>\n",
       "      <td>NaN</td>\n",
       "      <td>2016</td>\n",
       "      <td>12</td>\n",
       "    </tr>\n",
       "    <tr>\n",
       "      <th>3</th>\n",
       "      <td>1500</td>\n",
       "      <td>small</td>\n",
       "      <td>2001</td>\n",
       "      <td>manual</td>\n",
       "      <td>75</td>\n",
       "      <td>golf</td>\n",
       "      <td>150000</td>\n",
       "      <td>petrol</td>\n",
       "      <td>volkswagen</td>\n",
       "      <td>no</td>\n",
       "      <td>2016</td>\n",
       "      <td>15</td>\n",
       "    </tr>\n",
       "    <tr>\n",
       "      <th>4</th>\n",
       "      <td>3600</td>\n",
       "      <td>small</td>\n",
       "      <td>2008</td>\n",
       "      <td>manual</td>\n",
       "      <td>69</td>\n",
       "      <td>fabia</td>\n",
       "      <td>90000</td>\n",
       "      <td>gasoline</td>\n",
       "      <td>skoda</td>\n",
       "      <td>no</td>\n",
       "      <td>2016</td>\n",
       "      <td>8</td>\n",
       "    </tr>\n",
       "  </tbody>\n",
       "</table>\n",
       "</div>"
      ],
      "text/plain": [
       "   price vehicle_type  registration_year gearbox  power  model  kilometer  \\\n",
       "0    480          NaN               1993  manual      0   golf     150000   \n",
       "1  18300        coupe               2011  manual    190    NaN     125000   \n",
       "2   9800          suv               2004    auto    163  grand     125000   \n",
       "3   1500        small               2001  manual     75   golf     150000   \n",
       "4   3600        small               2008  manual     69  fabia      90000   \n",
       "\n",
       "  fuel_type       brand not_repaired  date_created  age  \n",
       "0    petrol  volkswagen          NaN          2016   23  \n",
       "1  gasoline        audi          yes          2016    5  \n",
       "2  gasoline        jeep          NaN          2016   12  \n",
       "3    petrol  volkswagen           no          2016   15  \n",
       "4  gasoline       skoda           no          2016    8  "
      ]
     },
     "execution_count": 15,
     "metadata": {},
     "output_type": "execute_result"
    }
   ],
   "source": [
    "df.head()"
   ]
  },
  {
   "cell_type": "markdown",
   "metadata": {},
   "source": [
    "#### Обработка явных дубликатов"
   ]
  },
  {
   "cell_type": "code",
   "execution_count": 16,
   "metadata": {},
   "outputs": [
    {
     "data": {
      "text/plain": [
       "45037"
      ]
     },
     "execution_count": 16,
     "metadata": {},
     "output_type": "execute_result"
    }
   ],
   "source": [
    "# подсчёт явных дубликатов\n",
    "df.duplicated().sum()"
   ]
  },
  {
   "cell_type": "markdown",
   "metadata": {},
   "source": [
    "После исключения нескольких полей, не влияющих на целевой признак, число дубликатов значительно выросло. Этому может быть несколько причин:\n",
    "- одни и те же анкеты добавлялись на сервис несколько раз (разные значения `DateCreated` (дата создания анкеты)), \n",
    "- одни и те же анкеты были скачаны из базы несколько раз (разные значения `DateCrawled` (дата скачивания анкеты из базы)).\n",
    "\n",
    "Удалим дубликаты из датасета."
   ]
  },
  {
   "cell_type": "code",
   "execution_count": 17,
   "metadata": {},
   "outputs": [],
   "source": [
    "# удаление явных дубликатов\n",
    "df = df.drop_duplicates().reset_index(drop=True)"
   ]
  },
  {
   "cell_type": "code",
   "execution_count": 18,
   "metadata": {},
   "outputs": [
    {
     "data": {
      "text/plain": [
       "0"
      ]
     },
     "execution_count": 18,
     "metadata": {},
     "output_type": "execute_result"
    }
   ],
   "source": [
    "# проверка на отсутствие дубликатов\n",
    "df.duplicated().sum()"
   ]
  },
  {
   "cell_type": "markdown",
   "metadata": {},
   "source": [
    "#### Обработка некорректных значений"
   ]
  },
  {
   "cell_type": "code",
   "execution_count": 19,
   "metadata": {
    "scrolled": true
   },
   "outputs": [
    {
     "data": {
      "image/png": "[encoded data removed]",
      "text/plain": [
       "<Figure size 432x288 with 1 Axes>"
      ]
     },
     "metadata": {
      "needs_background": "light"
     },
     "output_type": "display_data"
    }
   ],
   "source": [
    "# диаграмма размаха registration_year (год регистрации)\n",
    "df.boxplot(column='registration_year')\n",
    "plt.ylim(1970, 2030)\n",
    "plt.show()"
   ]
  },
  {
   "cell_type": "markdown",
   "metadata": {},
   "source": [
    "Оставим значения в интервале 1985-2016 гг. (т.к. в датасете представлены анкеты до апреля 2016 года)"
   ]
  },
  {
   "cell_type": "code",
   "execution_count": 20,
   "metadata": {},
   "outputs": [],
   "source": [
    "df = df.loc[(df.registration_year > 1984) & (df.registration_year < 2017), :]"
   ]
  },
  {
   "cell_type": "code",
   "execution_count": 21,
   "metadata": {},
   "outputs": [
    {
     "data": {
      "image/png": "[encoded data removed]",
      "text/plain": [
       "<Figure size 432x288 with 1 Axes>"
      ]
     },
     "metadata": {
      "needs_background": "light"
     },
     "output_type": "display_data"
    }
   ],
   "source": [
    "# диаграмма размаха power (мощность (л. с.))\n",
    "df.boxplot(column='power')\n",
    "plt.ylim(0, 350)\n",
    "plt.show()"
   ]
  },
  {
   "cell_type": "markdown",
   "metadata": {},
   "source": [
    "В поле `power` (мощность (л. с.)) уберем значения выше 250. Также уберем значение 0."
   ]
  },
  {
   "cell_type": "code",
   "execution_count": 22,
   "metadata": {},
   "outputs": [],
   "source": [
    "df = df.loc[(df.power < 251) & (df.power > 0), :]"
   ]
  },
  {
   "cell_type": "code",
   "execution_count": 23,
   "metadata": {},
   "outputs": [
    {
     "data": {
      "text/plain": [
       "<AxesSubplot:>"
      ]
     },
     "execution_count": 23,
     "metadata": {},
     "output_type": "execute_result"
    },
    {
     "data": {
      "image/png": "[encoded data removed]",
      "text/plain": [
       "<Figure size 432x288 with 1 Axes>"
      ]
     },
     "metadata": {
      "needs_background": "light"
     },
     "output_type": "display_data"
    }
   ],
   "source": [
    "# диаграмма размаха price (цена (евро))\n",
    "df.boxplot(column='price')"
   ]
  },
  {
   "cell_type": "markdown",
   "metadata": {},
   "source": [
    "В поле `price` (цена (евро)) уберем значения выше 16000. Также уберем значение 0."
   ]
  },
  {
   "cell_type": "code",
   "execution_count": 24,
   "metadata": {},
   "outputs": [],
   "source": [
    "df = df.loc[(df.price < 16001) & (df.price > 0), :]"
   ]
  },
  {
   "cell_type": "markdown",
   "metadata": {},
   "source": [
    "#### Обработка пропусков"
   ]
  },
  {
   "cell_type": "code",
   "execution_count": 25,
   "metadata": {},
   "outputs": [],
   "source": [
    "# заполнение пропусков в полях model и not_repaired значением 'unknown'\n",
    "df.loc[df.model.isnull(), 'model'] = 'unknown'\n",
    "df.loc[df.not_repaired.isnull(), 'not_repaired'] = 'unknown'"
   ]
  },
  {
   "cell_type": "code",
   "execution_count": 26,
   "metadata": {},
   "outputs": [
    {
     "data": {
      "text/plain": [
       "price                    0\n",
       "vehicle_type         10205\n",
       "registration_year        0\n",
       "gearbox               4947\n",
       "power                    0\n",
       "model                    0\n",
       "kilometer                0\n",
       "fuel_type            14462\n",
       "brand                    0\n",
       "not_repaired             0\n",
       "date_created             0\n",
       "age                      0\n",
       "dtype: int64"
      ]
     },
     "execution_count": 26,
     "metadata": {},
     "output_type": "execute_result"
    }
   ],
   "source": [
    "# пропущенные значения\n",
    "df.isnull().sum()"
   ]
  },
  {
   "cell_type": "markdown",
   "metadata": {},
   "source": [
    "Заполним пропуски в поле `vehicle_type` (тип автомобильного кузова) и `gearbox` (тип коробки передач), `fuel_type` (тип топлива) самым часто встречающимся значением для определенной модели автомобиля."
   ]
  },
  {
   "cell_type": "code",
   "execution_count": 27,
   "metadata": {},
   "outputs": [],
   "source": [
    "df['gearbox'] = df.groupby(['brand','model'])['gearbox'].transform(lambda x: x.fillna(x.mode()[0]))"
   ]
  },
  {
   "cell_type": "code",
   "execution_count": 28,
   "metadata": {},
   "outputs": [],
   "source": [
    "df['fuel_type'] = df.groupby(['brand','model'])['fuel_type'].transform(lambda x: x.fillna(x.mode()[0]))"
   ]
  },
  {
   "cell_type": "code",
   "execution_count": 29,
   "metadata": {},
   "outputs": [],
   "source": [
    "df['vehicle_type'] = df.groupby(['brand','model'])['vehicle_type']\\\n",
    "                       .transform(lambda x: x.fillna(x.mode()[0] if not x.mode().empty else \"unknown\"))"
   ]
  },
  {
   "cell_type": "code",
   "execution_count": 30,
   "metadata": {
    "scrolled": true
   },
   "outputs": [
    {
     "data": {
      "text/plain": [
       "price                0\n",
       "vehicle_type         0\n",
       "registration_year    0\n",
       "gearbox              0\n",
       "power                0\n",
       "model                0\n",
       "kilometer            0\n",
       "fuel_type            0\n",
       "brand                0\n",
       "not_repaired         0\n",
       "date_created         0\n",
       "age                  0\n",
       "dtype: int64"
      ]
     },
     "execution_count": 30,
     "metadata": {},
     "output_type": "execute_result"
    }
   ],
   "source": [
    "df.isnull().sum()"
   ]
  },
  {
   "cell_type": "code",
   "execution_count": 31,
   "metadata": {
    "scrolled": true
   },
   "outputs": [
    {
     "data": {
      "text/html": [
       "<div>\n",
       "<style scoped>\n",
       "    .dataframe tbody tr th:only-of-type {\n",
       "        vertical-align: middle;\n",
       "    }\n",
       "\n",
       "    .dataframe tbody tr th {\n",
       "        vertical-align: top;\n",
       "    }\n",
       "\n",
       "    .dataframe thead th {\n",
       "        text-align: right;\n",
       "    }\n",
       "</style>\n",
       "<table border=\"1\" class=\"dataframe\">\n",
       "  <thead>\n",
       "    <tr style=\"text-align: right;\">\n",
       "      <th></th>\n",
       "      <th>count</th>\n",
       "      <th>mean</th>\n",
       "      <th>std</th>\n",
       "      <th>min</th>\n",
       "      <th>25%</th>\n",
       "      <th>50%</th>\n",
       "      <th>75%</th>\n",
       "      <th>max</th>\n",
       "    </tr>\n",
       "  </thead>\n",
       "  <tbody>\n",
       "    <tr>\n",
       "      <th>price</th>\n",
       "      <td>239800.0</td>\n",
       "      <td>4305.175992</td>\n",
       "      <td>3861.333969</td>\n",
       "      <td>1.0</td>\n",
       "      <td>1299.0</td>\n",
       "      <td>2990.0</td>\n",
       "      <td>6390.0</td>\n",
       "      <td>16000.0</td>\n",
       "    </tr>\n",
       "    <tr>\n",
       "      <th>registration_year</th>\n",
       "      <td>239800.0</td>\n",
       "      <td>2002.985271</td>\n",
       "      <td>5.755705</td>\n",
       "      <td>1985.0</td>\n",
       "      <td>1999.0</td>\n",
       "      <td>2003.0</td>\n",
       "      <td>2007.0</td>\n",
       "      <td>2016.0</td>\n",
       "    </tr>\n",
       "    <tr>\n",
       "      <th>power</th>\n",
       "      <td>239800.0</td>\n",
       "      <td>115.527911</td>\n",
       "      <td>44.708417</td>\n",
       "      <td>1.0</td>\n",
       "      <td>75.0</td>\n",
       "      <td>109.0</td>\n",
       "      <td>143.0</td>\n",
       "      <td>250.0</td>\n",
       "    </tr>\n",
       "    <tr>\n",
       "      <th>kilometer</th>\n",
       "      <td>239800.0</td>\n",
       "      <td>128904.065888</td>\n",
       "      <td>36025.649159</td>\n",
       "      <td>5000.0</td>\n",
       "      <td>125000.0</td>\n",
       "      <td>150000.0</td>\n",
       "      <td>150000.0</td>\n",
       "      <td>150000.0</td>\n",
       "    </tr>\n",
       "    <tr>\n",
       "      <th>date_created</th>\n",
       "      <td>239800.0</td>\n",
       "      <td>2015.999929</td>\n",
       "      <td>0.008419</td>\n",
       "      <td>2015.0</td>\n",
       "      <td>2016.0</td>\n",
       "      <td>2016.0</td>\n",
       "      <td>2016.0</td>\n",
       "      <td>2016.0</td>\n",
       "    </tr>\n",
       "    <tr>\n",
       "      <th>age</th>\n",
       "      <td>239800.0</td>\n",
       "      <td>13.014658</td>\n",
       "      <td>5.755733</td>\n",
       "      <td>0.0</td>\n",
       "      <td>9.0</td>\n",
       "      <td>13.0</td>\n",
       "      <td>17.0</td>\n",
       "      <td>31.0</td>\n",
       "    </tr>\n",
       "  </tbody>\n",
       "</table>\n",
       "</div>"
      ],
      "text/plain": [
       "                      count           mean           std     min       25%  \\\n",
       "price              239800.0    4305.175992   3861.333969     1.0    1299.0   \n",
       "registration_year  239800.0    2002.985271      5.755705  1985.0    1999.0   \n",
       "power              239800.0     115.527911     44.708417     1.0      75.0   \n",
       "kilometer          239800.0  128904.065888  36025.649159  5000.0  125000.0   \n",
       "date_created       239800.0    2015.999929      0.008419  2015.0    2016.0   \n",
       "age                239800.0      13.014658      5.755733     0.0       9.0   \n",
       "\n",
       "                        50%       75%       max  \n",
       "price                2990.0    6390.0   16000.0  \n",
       "registration_year    2003.0    2007.0    2016.0  \n",
       "power                 109.0     143.0     250.0  \n",
       "kilometer          150000.0  150000.0  150000.0  \n",
       "date_created         2016.0    2016.0    2016.0  \n",
       "age                    13.0      17.0      31.0  "
      ]
     },
     "execution_count": 31,
     "metadata": {},
     "output_type": "execute_result"
    }
   ],
   "source": [
    "df.describe().T"
   ]
  },
  {
   "cell_type": "code",
   "execution_count": 32,
   "metadata": {},
   "outputs": [
    {
     "name": "stdout",
     "output_type": "stream",
     "text": [
      "\u001b[1mvehicle_type\u001b[0;0m\n",
      "['bus', 'convertible', 'coupe', 'other', 'sedan', 'small', 'suv', 'wagon']\n",
      "\n",
      "\u001b[1mgearbox\u001b[0;0m\n",
      "['auto', 'manual']\n",
      "\n",
      "\u001b[1mfuel_type\u001b[0;0m\n",
      "['cng', 'electric', 'gasoline', 'hybrid', 'lpg', 'other', 'petrol']\n",
      "\n",
      "\u001b[1mnot_repaired\u001b[0;0m\n",
      "['no', 'unknown', 'yes']\n",
      "\n"
     ]
    }
   ],
   "source": [
    "columns = ['vehicle_type', 'gearbox', 'fuel_type', 'not_repaired']\n",
    "for column in columns:\n",
    "    print(\"\\033[1m\" + column + \"\\033[0;0m\")\n",
    "    print(sorted(df.loc[df[column].notnull(), column].unique()))\n",
    "    print()"
   ]
  },
  {
   "cell_type": "markdown",
   "metadata": {},
   "source": [
    "#### Преобразование категориальных признаков"
   ]
  },
  {
   "cell_type": "markdown",
   "metadata": {},
   "source": [
    "Для обучения моделей категориальные признаки необходимо преобразовать в численные. Для этого используем специальные техники.\n",
    "\n",
    "Техника **прямого кодирования (OHE)** подходит для преобразования признаков в LinearRegression.\n",
    "\n",
    "Техника **порядкового кодирования (OrdinalEncoder)** подходит для преобразования признаков в DecisionTree и RandomForest, т.о. эта техника подойдет для моделей градиентного бустинга, которые используют деревья решений в качестве базовых алгоритмов.\n",
    "\n",
    "Преобразуем данные с помощью двух техник и создадим, соответственно, два новых датасета - **df_ohe** и **df_ordinal**."
   ]
  },
  {
   "cell_type": "code",
   "execution_count": 33,
   "metadata": {},
   "outputs": [
    {
     "data": {
      "text/plain": [
       "['vehicle_type', 'gearbox', 'model', 'fuel_type', 'brand', 'not_repaired']"
      ]
     },
     "execution_count": 33,
     "metadata": {},
     "output_type": "execute_result"
    }
   ],
   "source": [
    "# список категориальных переменных в датасете\n",
    "cat_features = list(df.select_dtypes(include=['object']).columns)\n",
    "cat_features"
   ]
  },
  {
   "cell_type": "code",
   "execution_count": 34,
   "metadata": {},
   "outputs": [
    {
     "data": {
      "text/html": [
       "<div>\n",
       "<style scoped>\n",
       "    .dataframe tbody tr th:only-of-type {\n",
       "        vertical-align: middle;\n",
       "    }\n",
       "\n",
       "    .dataframe tbody tr th {\n",
       "        vertical-align: top;\n",
       "    }\n",
       "\n",
       "    .dataframe thead th {\n",
       "        text-align: right;\n",
       "    }\n",
       "</style>\n",
       "<table border=\"1\" class=\"dataframe\">\n",
       "  <thead>\n",
       "    <tr style=\"text-align: right;\">\n",
       "      <th></th>\n",
       "      <th>price</th>\n",
       "      <th>registration_year</th>\n",
       "      <th>power</th>\n",
       "      <th>kilometer</th>\n",
       "      <th>date_created</th>\n",
       "      <th>age</th>\n",
       "      <th>vehicle_type_convertible</th>\n",
       "      <th>vehicle_type_coupe</th>\n",
       "      <th>vehicle_type_other</th>\n",
       "      <th>vehicle_type_sedan</th>\n",
       "      <th>...</th>\n",
       "      <th>brand_smart</th>\n",
       "      <th>brand_sonstige_autos</th>\n",
       "      <th>brand_subaru</th>\n",
       "      <th>brand_suzuki</th>\n",
       "      <th>brand_toyota</th>\n",
       "      <th>brand_trabant</th>\n",
       "      <th>brand_volkswagen</th>\n",
       "      <th>brand_volvo</th>\n",
       "      <th>not_repaired_unknown</th>\n",
       "      <th>not_repaired_yes</th>\n",
       "    </tr>\n",
       "  </thead>\n",
       "  <tbody>\n",
       "    <tr>\n",
       "      <th>2</th>\n",
       "      <td>9800</td>\n",
       "      <td>2004</td>\n",
       "      <td>163</td>\n",
       "      <td>125000</td>\n",
       "      <td>2016</td>\n",
       "      <td>12</td>\n",
       "      <td>0</td>\n",
       "      <td>0</td>\n",
       "      <td>0</td>\n",
       "      <td>0</td>\n",
       "      <td>...</td>\n",
       "      <td>0</td>\n",
       "      <td>0</td>\n",
       "      <td>0</td>\n",
       "      <td>0</td>\n",
       "      <td>0</td>\n",
       "      <td>0</td>\n",
       "      <td>0</td>\n",
       "      <td>0</td>\n",
       "      <td>1</td>\n",
       "      <td>0</td>\n",
       "    </tr>\n",
       "    <tr>\n",
       "      <th>3</th>\n",
       "      <td>1500</td>\n",
       "      <td>2001</td>\n",
       "      <td>75</td>\n",
       "      <td>150000</td>\n",
       "      <td>2016</td>\n",
       "      <td>15</td>\n",
       "      <td>0</td>\n",
       "      <td>0</td>\n",
       "      <td>0</td>\n",
       "      <td>0</td>\n",
       "      <td>...</td>\n",
       "      <td>0</td>\n",
       "      <td>0</td>\n",
       "      <td>0</td>\n",
       "      <td>0</td>\n",
       "      <td>0</td>\n",
       "      <td>0</td>\n",
       "      <td>1</td>\n",
       "      <td>0</td>\n",
       "      <td>0</td>\n",
       "      <td>0</td>\n",
       "    </tr>\n",
       "    <tr>\n",
       "      <th>4</th>\n",
       "      <td>3600</td>\n",
       "      <td>2008</td>\n",
       "      <td>69</td>\n",
       "      <td>90000</td>\n",
       "      <td>2016</td>\n",
       "      <td>8</td>\n",
       "      <td>0</td>\n",
       "      <td>0</td>\n",
       "      <td>0</td>\n",
       "      <td>0</td>\n",
       "      <td>...</td>\n",
       "      <td>0</td>\n",
       "      <td>0</td>\n",
       "      <td>0</td>\n",
       "      <td>0</td>\n",
       "      <td>0</td>\n",
       "      <td>0</td>\n",
       "      <td>0</td>\n",
       "      <td>0</td>\n",
       "      <td>0</td>\n",
       "      <td>0</td>\n",
       "    </tr>\n",
       "    <tr>\n",
       "      <th>5</th>\n",
       "      <td>650</td>\n",
       "      <td>1995</td>\n",
       "      <td>102</td>\n",
       "      <td>150000</td>\n",
       "      <td>2016</td>\n",
       "      <td>21</td>\n",
       "      <td>0</td>\n",
       "      <td>0</td>\n",
       "      <td>0</td>\n",
       "      <td>1</td>\n",
       "      <td>...</td>\n",
       "      <td>0</td>\n",
       "      <td>0</td>\n",
       "      <td>0</td>\n",
       "      <td>0</td>\n",
       "      <td>0</td>\n",
       "      <td>0</td>\n",
       "      <td>0</td>\n",
       "      <td>0</td>\n",
       "      <td>0</td>\n",
       "      <td>1</td>\n",
       "    </tr>\n",
       "    <tr>\n",
       "      <th>6</th>\n",
       "      <td>2200</td>\n",
       "      <td>2004</td>\n",
       "      <td>109</td>\n",
       "      <td>150000</td>\n",
       "      <td>2016</td>\n",
       "      <td>12</td>\n",
       "      <td>1</td>\n",
       "      <td>0</td>\n",
       "      <td>0</td>\n",
       "      <td>0</td>\n",
       "      <td>...</td>\n",
       "      <td>0</td>\n",
       "      <td>0</td>\n",
       "      <td>0</td>\n",
       "      <td>0</td>\n",
       "      <td>0</td>\n",
       "      <td>0</td>\n",
       "      <td>0</td>\n",
       "      <td>0</td>\n",
       "      <td>0</td>\n",
       "      <td>0</td>\n",
       "    </tr>\n",
       "  </tbody>\n",
       "</table>\n",
       "<p>5 rows × 307 columns</p>\n",
       "</div>"
      ],
      "text/plain": [
       "   price  registration_year  power  kilometer  date_created  age  \\\n",
       "2   9800               2004    163     125000          2016   12   \n",
       "3   1500               2001     75     150000          2016   15   \n",
       "4   3600               2008     69      90000          2016    8   \n",
       "5    650               1995    102     150000          2016   21   \n",
       "6   2200               2004    109     150000          2016   12   \n",
       "\n",
       "   vehicle_type_convertible  vehicle_type_coupe  vehicle_type_other  \\\n",
       "2                         0                   0                   0   \n",
       "3                         0                   0                   0   \n",
       "4                         0                   0                   0   \n",
       "5                         0                   0                   0   \n",
       "6                         1                   0                   0   \n",
       "\n",
       "   vehicle_type_sedan  ...  brand_smart  brand_sonstige_autos  brand_subaru  \\\n",
       "2                   0  ...            0                     0             0   \n",
       "3                   0  ...            0                     0             0   \n",
       "4                   0  ...            0                     0             0   \n",
       "5                   1  ...            0                     0             0   \n",
       "6                   0  ...            0                     0             0   \n",
       "\n",
       "   brand_suzuki  brand_toyota  brand_trabant  brand_volkswagen  brand_volvo  \\\n",
       "2             0             0              0                 0            0   \n",
       "3             0             0              0                 1            0   \n",
       "4             0             0              0                 0            0   \n",
       "5             0             0              0                 0            0   \n",
       "6             0             0              0                 0            0   \n",
       "\n",
       "   not_repaired_unknown  not_repaired_yes  \n",
       "2                     1                 0  \n",
       "3                     0                 0  \n",
       "4                     0                 0  \n",
       "5                     0                 1  \n",
       "6                     0                 0  \n",
       "\n",
       "[5 rows x 307 columns]"
      ]
     },
     "execution_count": 34,
     "metadata": {},
     "output_type": "execute_result"
    }
   ],
   "source": [
    "# преобразование с помощью техники OHE\n",
    "df_ohe = pd.get_dummies(df, columns=cat_features, drop_first=True)\n",
    "df_ohe.head()"
   ]
  },
  {
   "cell_type": "code",
   "execution_count": 35,
   "metadata": {},
   "outputs": [
    {
     "data": {
      "text/html": [
       "<div>\n",
       "<style scoped>\n",
       "    .dataframe tbody tr th:only-of-type {\n",
       "        vertical-align: middle;\n",
       "    }\n",
       "\n",
       "    .dataframe tbody tr th {\n",
       "        vertical-align: top;\n",
       "    }\n",
       "\n",
       "    .dataframe thead th {\n",
       "        text-align: right;\n",
       "    }\n",
       "</style>\n",
       "<table border=\"1\" class=\"dataframe\">\n",
       "  <thead>\n",
       "    <tr style=\"text-align: right;\">\n",
       "      <th></th>\n",
       "      <th>price</th>\n",
       "      <th>vehicle_type</th>\n",
       "      <th>registration_year</th>\n",
       "      <th>gearbox</th>\n",
       "      <th>power</th>\n",
       "      <th>model</th>\n",
       "      <th>kilometer</th>\n",
       "      <th>fuel_type</th>\n",
       "      <th>brand</th>\n",
       "      <th>not_repaired</th>\n",
       "      <th>date_created</th>\n",
       "      <th>age</th>\n",
       "    </tr>\n",
       "  </thead>\n",
       "  <tbody>\n",
       "    <tr>\n",
       "      <th>2</th>\n",
       "      <td>9800</td>\n",
       "      <td>6.0</td>\n",
       "      <td>2004</td>\n",
       "      <td>0.0</td>\n",
       "      <td>163</td>\n",
       "      <td>117.0</td>\n",
       "      <td>125000</td>\n",
       "      <td>2.0</td>\n",
       "      <td>14.0</td>\n",
       "      <td>1.0</td>\n",
       "      <td>2016</td>\n",
       "      <td>12</td>\n",
       "    </tr>\n",
       "    <tr>\n",
       "      <th>3</th>\n",
       "      <td>1500</td>\n",
       "      <td>5.0</td>\n",
       "      <td>2001</td>\n",
       "      <td>1.0</td>\n",
       "      <td>75</td>\n",
       "      <td>116.0</td>\n",
       "      <td>150000</td>\n",
       "      <td>6.0</td>\n",
       "      <td>38.0</td>\n",
       "      <td>0.0</td>\n",
       "      <td>2016</td>\n",
       "      <td>15</td>\n",
       "    </tr>\n",
       "    <tr>\n",
       "      <th>4</th>\n",
       "      <td>3600</td>\n",
       "      <td>5.0</td>\n",
       "      <td>2008</td>\n",
       "      <td>1.0</td>\n",
       "      <td>69</td>\n",
       "      <td>101.0</td>\n",
       "      <td>90000</td>\n",
       "      <td>2.0</td>\n",
       "      <td>31.0</td>\n",
       "      <td>0.0</td>\n",
       "      <td>2016</td>\n",
       "      <td>8</td>\n",
       "    </tr>\n",
       "    <tr>\n",
       "      <th>5</th>\n",
       "      <td>650</td>\n",
       "      <td>4.0</td>\n",
       "      <td>1995</td>\n",
       "      <td>1.0</td>\n",
       "      <td>102</td>\n",
       "      <td>11.0</td>\n",
       "      <td>150000</td>\n",
       "      <td>6.0</td>\n",
       "      <td>2.0</td>\n",
       "      <td>2.0</td>\n",
       "      <td>2016</td>\n",
       "      <td>21</td>\n",
       "    </tr>\n",
       "    <tr>\n",
       "      <th>6</th>\n",
       "      <td>2200</td>\n",
       "      <td>1.0</td>\n",
       "      <td>2004</td>\n",
       "      <td>1.0</td>\n",
       "      <td>109</td>\n",
       "      <td>8.0</td>\n",
       "      <td>150000</td>\n",
       "      <td>6.0</td>\n",
       "      <td>25.0</td>\n",
       "      <td>0.0</td>\n",
       "      <td>2016</td>\n",
       "      <td>12</td>\n",
       "    </tr>\n",
       "  </tbody>\n",
       "</table>\n",
       "</div>"
      ],
      "text/plain": [
       "   price  vehicle_type  registration_year  gearbox  power  model  kilometer  \\\n",
       "2   9800           6.0               2004      0.0    163  117.0     125000   \n",
       "3   1500           5.0               2001      1.0     75  116.0     150000   \n",
       "4   3600           5.0               2008      1.0     69  101.0      90000   \n",
       "5    650           4.0               1995      1.0    102   11.0     150000   \n",
       "6   2200           1.0               2004      1.0    109    8.0     150000   \n",
       "\n",
       "   fuel_type  brand  not_repaired  date_created  age  \n",
       "2        2.0   14.0           1.0          2016   12  \n",
       "3        6.0   38.0           0.0          2016   15  \n",
       "4        2.0   31.0           0.0          2016    8  \n",
       "5        6.0    2.0           2.0          2016   21  \n",
       "6        6.0   25.0           0.0          2016   12  "
      ]
     },
     "execution_count": 35,
     "metadata": {},
     "output_type": "execute_result"
    }
   ],
   "source": [
    "# преобразование с помощью техник OrdinalEncoder \n",
    "ordinal = OrdinalEncoder()\n",
    "\n",
    "df_ordinal = pd.DataFrame(columns=df.columns)\n",
    "for column in df.columns:\n",
    "    if column not in cat_features:\n",
    "        df_ordinal[column] = df[column]\n",
    "\n",
    "        \n",
    "df_ordinal[cat_features] = ordinal.fit_transform(df[cat_features])\n",
    "\n",
    "\n",
    "df_ordinal.head()"
   ]
  },
  {
   "cell_type": "markdown",
   "metadata": {},
   "source": [
    "## Обучение моделей"
   ]
  },
  {
   "cell_type": "markdown",
   "metadata": {},
   "source": [
    "Обучим несколько моделей градиентного бустинга:\n",
    "- **LGBMRegressor()**,\n",
    "- **CatBoostRegressor()**,\n",
    "- **XGBRegressor()**.\n",
    "\n",
    "Рассмотрим качество и скорость работы моделей градиентного бустинга по следующему алгоритму:\n",
    "- обучим модель со значениями гиперпараметров по умолчанию;\n",
    "- подберем значения нескольких гиперпараметров, которые влияют как на качество, так и на скорость обучения, с помощью GridSearchCV();\n",
    "- обучим модель с подобранными гиперпараметрами;\n",
    "- попробуем увеличить скорость работы модели корректировкой гиперпараметров;\n",
    "- попробуем увеличить скорость работы модели отбором признаков.\n",
    "\n",
    "Для сравнения также посмотрим на результаты линейной модели **LinearRegression()**."
   ]
  },
  {
   "cell_type": "code",
   "execution_count": 36,
   "metadata": {},
   "outputs": [],
   "source": [
    "# функция для разделения датасета на обучающую и тестовую выборки, на признаки (features) и целевой признак (target)\n",
    "def split_df(data, target):\n",
    "    # разделение в соотношении 3:1\n",
    "    df_train, df_test = train_test_split(data, test_size=0.25, random_state=123) \n",
    "\n",
    "    train_features = df_train.drop([target], axis=1)\n",
    "    train_target = df_train[target]\n",
    "\n",
    "    test_features = df_test.drop([target], axis=1)\n",
    "    test_target = df_test[target]\n",
    "    \n",
    "    \n",
    "    return train_features, train_target, test_features, test_target"
   ]
  },
  {
   "cell_type": "code",
   "execution_count": 37,
   "metadata": {},
   "outputs": [],
   "source": [
    "# функция для определения гиперпараметров модели\n",
    "def grid_search(model, params):\n",
    "    grid_cv = GridSearchCV(estimator=model, param_grid=params, cv=3, n_jobs=-1, scoring=scorer)\n",
    "    grid_cv.fit(train_features, train_target)\n",
    "    print('Гиперпараметры: ', grid_cv.best_params_)\n",
    "    print('RMSE:', int(-grid_cv.best_score_))\n",
    "    return grid_cv.best_params_"
   ]
  },
  {
   "cell_type": "code",
   "execution_count": 38,
   "metadata": {},
   "outputs": [],
   "source": [
    "# функция для обучения модели и определения времени обучения\n",
    "def fit_predict(model, name, importance_features='all'):\n",
    "    start_fit_time = time.time()\n",
    "    model.fit(train_features, train_target)\n",
    "    fit_time = time.time() - start_fit_time\n",
    "    \n",
    "    predictions = model.predict(train_features)\n",
    "    \n",
    "    global a\n",
    "    columns = ['model_name', 'model', 'fit_time_sec', 'RMSE', 'importance_features']\n",
    "    rows = [[name, model, round(fit_time, 1), int(rmse(train_target, predictions)), importance_features]]\n",
    "    a = pd.DataFrame(data=rows, columns=columns)"
   ]
  },
  {
   "cell_type": "code",
   "execution_count": 39,
   "metadata": {},
   "outputs": [],
   "source": [
    "# функция для расчета ошибки RMSE\n",
    "def rmse(target, predictions):\n",
    "    return mean_squared_error(target, predictions, squared=False)"
   ]
  },
  {
   "cell_type": "code",
   "execution_count": 40,
   "metadata": {},
   "outputs": [],
   "source": [
    "# функция оценки для использования в GridSearchCV\n",
    "scorer = make_scorer(rmse, greater_is_better=False)"
   ]
  },
  {
   "cell_type": "code",
   "execution_count": 41,
   "metadata": {},
   "outputs": [
    {
     "data": {
      "text/html": [
       "<div>\n",
       "<style scoped>\n",
       "    .dataframe tbody tr th:only-of-type {\n",
       "        vertical-align: middle;\n",
       "    }\n",
       "\n",
       "    .dataframe tbody tr th {\n",
       "        vertical-align: top;\n",
       "    }\n",
       "\n",
       "    .dataframe thead th {\n",
       "        text-align: right;\n",
       "    }\n",
       "</style>\n",
       "<table border=\"1\" class=\"dataframe\">\n",
       "  <thead>\n",
       "    <tr style=\"text-align: right;\">\n",
       "      <th></th>\n",
       "      <th>model_name</th>\n",
       "      <th>model</th>\n",
       "      <th>fit_time_sec</th>\n",
       "      <th>RMSE</th>\n",
       "      <th>importance_features</th>\n",
       "    </tr>\n",
       "  </thead>\n",
       "  <tbody>\n",
       "  </tbody>\n",
       "</table>\n",
       "</div>"
      ],
      "text/plain": [
       "Empty DataFrame\n",
       "Columns: [model_name, model, fit_time_sec, RMSE, importance_features]\n",
       "Index: []"
      ]
     },
     "execution_count": 41,
     "metadata": {},
     "output_type": "execute_result"
    }
   ],
   "source": [
    "# таблица для накопления результатов\n",
    "columns = ['model_name', 'model', 'fit_time_sec', 'RMSE', 'importance_features']\n",
    "result_tbl = pd.DataFrame(columns=columns)\n",
    "result_tbl"
   ]
  },
  {
   "cell_type": "markdown",
   "metadata": {},
   "source": [
    "Значения полей таблицы с результатами:\n",
    "- **model_name** – название модели,\n",
    "- **model** – конфигурация модели,\n",
    "- **fit_time_sec** – время обучения модели в секундах,\n",
    "- **RMSE** – среднеквадратическая ошибка на обучающей выборке,\n",
    "- **importance_features** – количество важных признаков, отобранных для обучения модели (примеры значений: *all* - признаки не отбирались, *10* - было отобрано 10 признаков)"
   ]
  },
  {
   "cell_type": "markdown",
   "metadata": {},
   "source": [
    "### LGBMRegressor"
   ]
  },
  {
   "cell_type": "code",
   "execution_count": 42,
   "metadata": {},
   "outputs": [],
   "source": [
    "train_features, train_target, test_features, test_target = split_df(df_ordinal, 'price')"
   ]
  },
  {
   "cell_type": "code",
   "execution_count": 43,
   "metadata": {},
   "outputs": [],
   "source": [
    "lgbmreg = LGBMRegressor()"
   ]
  },
  {
   "cell_type": "code",
   "execution_count": 44,
   "metadata": {},
   "outputs": [
    {
     "data": {
      "text/html": [
       "<div>\n",
       "<style scoped>\n",
       "    .dataframe tbody tr th:only-of-type {\n",
       "        vertical-align: middle;\n",
       "    }\n",
       "\n",
       "    .dataframe tbody tr th {\n",
       "        vertical-align: top;\n",
       "    }\n",
       "\n",
       "    .dataframe thead th {\n",
       "        text-align: right;\n",
       "    }\n",
       "</style>\n",
       "<table border=\"1\" class=\"dataframe\">\n",
       "  <thead>\n",
       "    <tr style=\"text-align: right;\">\n",
       "      <th></th>\n",
       "      <th>model_name</th>\n",
       "      <th>model</th>\n",
       "      <th>fit_time_sec</th>\n",
       "      <th>RMSE</th>\n",
       "      <th>importance_features</th>\n",
       "    </tr>\n",
       "  </thead>\n",
       "  <tbody>\n",
       "    <tr>\n",
       "      <th>0</th>\n",
       "      <td>lgbmreg</td>\n",
       "      <td>LGBMRegressor()</td>\n",
       "      <td>0.4</td>\n",
       "      <td>1418</td>\n",
       "      <td>all</td>\n",
       "    </tr>\n",
       "  </tbody>\n",
       "</table>\n",
       "</div>"
      ],
      "text/plain": [
       "  model_name            model  fit_time_sec  RMSE importance_features\n",
       "0    lgbmreg  LGBMRegressor()           0.4  1418                 all"
      ]
     },
     "execution_count": 44,
     "metadata": {},
     "output_type": "execute_result"
    }
   ],
   "source": [
    "fit_predict(lgbmreg, name='lgbmreg')\n",
    "result_tbl = pd.concat([result_tbl, a], axis = 0) # добавление показателей в общую таблицу\n",
    "result_tbl"
   ]
  },
  {
   "cell_type": "code",
   "execution_count": 45,
   "metadata": {},
   "outputs": [
    {
     "name": "stdout",
     "output_type": "stream",
     "text": [
      "Гиперпараметры:  {'max_bin': 255, 'num_leaves': 100, 'random_state': 123}\n",
      "RMSE: 1386\n",
      "Wall time: 15.5 s\n"
     ]
    }
   ],
   "source": [
    "%%time\n",
    "# подбор гиперпараметров для модели\n",
    "best = grid_search(lgbmreg, params={'num_leaves': [31, 50, 100],\n",
    "                                    'max_bin': [255, 355, 555],\n",
    "                                    'random_state': [123]})"
   ]
  },
  {
   "cell_type": "code",
   "execution_count": 46,
   "metadata": {},
   "outputs": [],
   "source": [
    "# модель с подобранными гиперпараметрами\n",
    "lgbmreg2 = LGBMRegressor(**best)"
   ]
  },
  {
   "cell_type": "code",
   "execution_count": 47,
   "metadata": {},
   "outputs": [
    {
     "data": {
      "text/html": [
       "<div>\n",
       "<style scoped>\n",
       "    .dataframe tbody tr th:only-of-type {\n",
       "        vertical-align: middle;\n",
       "    }\n",
       "\n",
       "    .dataframe tbody tr th {\n",
       "        vertical-align: top;\n",
       "    }\n",
       "\n",
       "    .dataframe thead th {\n",
       "        text-align: right;\n",
       "    }\n",
       "</style>\n",
       "<table border=\"1\" class=\"dataframe\">\n",
       "  <thead>\n",
       "    <tr style=\"text-align: right;\">\n",
       "      <th></th>\n",
       "      <th>model_name</th>\n",
       "      <th>model</th>\n",
       "      <th>fit_time_sec</th>\n",
       "      <th>RMSE</th>\n",
       "      <th>importance_features</th>\n",
       "    </tr>\n",
       "  </thead>\n",
       "  <tbody>\n",
       "    <tr>\n",
       "      <th>0</th>\n",
       "      <td>lgbmreg</td>\n",
       "      <td>LGBMRegressor()</td>\n",
       "      <td>0.4</td>\n",
       "      <td>1418</td>\n",
       "      <td>all</td>\n",
       "    </tr>\n",
       "    <tr>\n",
       "      <th>0</th>\n",
       "      <td>lgbmreg2</td>\n",
       "      <td>LGBMRegressor(max_bin=255, num_leaves=100, ran...</td>\n",
       "      <td>0.8</td>\n",
       "      <td>1314</td>\n",
       "      <td>all</td>\n",
       "    </tr>\n",
       "  </tbody>\n",
       "</table>\n",
       "</div>"
      ],
      "text/plain": [
       "  model_name                                              model  fit_time_sec  \\\n",
       "0    lgbmreg                                    LGBMRegressor()           0.4   \n",
       "0   lgbmreg2  LGBMRegressor(max_bin=255, num_leaves=100, ran...           0.8   \n",
       "\n",
       "   RMSE importance_features  \n",
       "0  1418                 all  \n",
       "0  1314                 all  "
      ]
     },
     "execution_count": 47,
     "metadata": {},
     "output_type": "execute_result"
    }
   ],
   "source": [
    "fit_predict(lgbmreg2, name='lgbmreg2')\n",
    "result_tbl = pd.concat([result_tbl, a], axis = 0) # добавление показателей в общую таблицу\n",
    "result_tbl"
   ]
  },
  {
   "cell_type": "markdown",
   "metadata": {},
   "source": [
    "Уменьшим значения гиперпараметров, чтобы увеличить скорость обучения модели."
   ]
  },
  {
   "cell_type": "code",
   "execution_count": 48,
   "metadata": {},
   "outputs": [],
   "source": [
    "lgbmreg3 = LGBMRegressor(num_leaves=31, max_bin=255, random_state=123)"
   ]
  },
  {
   "cell_type": "code",
   "execution_count": 49,
   "metadata": {},
   "outputs": [
    {
     "data": {
      "text/html": [
       "<div>\n",
       "<style scoped>\n",
       "    .dataframe tbody tr th:only-of-type {\n",
       "        vertical-align: middle;\n",
       "    }\n",
       "\n",
       "    .dataframe tbody tr th {\n",
       "        vertical-align: top;\n",
       "    }\n",
       "\n",
       "    .dataframe thead th {\n",
       "        text-align: right;\n",
       "    }\n",
       "</style>\n",
       "<table border=\"1\" class=\"dataframe\">\n",
       "  <thead>\n",
       "    <tr style=\"text-align: right;\">\n",
       "      <th></th>\n",
       "      <th>model_name</th>\n",
       "      <th>model</th>\n",
       "      <th>fit_time_sec</th>\n",
       "      <th>RMSE</th>\n",
       "      <th>importance_features</th>\n",
       "    </tr>\n",
       "  </thead>\n",
       "  <tbody>\n",
       "    <tr>\n",
       "      <th>0</th>\n",
       "      <td>lgbmreg</td>\n",
       "      <td>LGBMRegressor()</td>\n",
       "      <td>0.4</td>\n",
       "      <td>1418</td>\n",
       "      <td>all</td>\n",
       "    </tr>\n",
       "    <tr>\n",
       "      <th>0</th>\n",
       "      <td>lgbmreg2</td>\n",
       "      <td>LGBMRegressor(max_bin=255, num_leaves=100, ran...</td>\n",
       "      <td>0.8</td>\n",
       "      <td>1314</td>\n",
       "      <td>all</td>\n",
       "    </tr>\n",
       "    <tr>\n",
       "      <th>0</th>\n",
       "      <td>lgbmreg3</td>\n",
       "      <td>LGBMRegressor(max_bin=255, random_state=123)</td>\n",
       "      <td>0.5</td>\n",
       "      <td>1418</td>\n",
       "      <td>all</td>\n",
       "    </tr>\n",
       "  </tbody>\n",
       "</table>\n",
       "</div>"
      ],
      "text/plain": [
       "  model_name                                              model  fit_time_sec  \\\n",
       "0    lgbmreg                                    LGBMRegressor()           0.4   \n",
       "0   lgbmreg2  LGBMRegressor(max_bin=255, num_leaves=100, ran...           0.8   \n",
       "0   lgbmreg3       LGBMRegressor(max_bin=255, random_state=123)           0.5   \n",
       "\n",
       "   RMSE importance_features  \n",
       "0  1418                 all  \n",
       "0  1314                 all  \n",
       "0  1418                 all  "
      ]
     },
     "execution_count": 49,
     "metadata": {},
     "output_type": "execute_result"
    }
   ],
   "source": [
    "fit_predict(lgbmreg3, name='lgbmreg3')\n",
    "result_tbl = pd.concat([result_tbl, a], axis = 0) # добавление показателей в общую таблицу\n",
    "result_tbl"
   ]
  },
  {
   "cell_type": "markdown",
   "metadata": {},
   "source": [
    "Посмотрим на гистограмму распределения важных признаков для модели **lgbmreg2**."
   ]
  },
  {
   "cell_type": "code",
   "execution_count": 50,
   "metadata": {},
   "outputs": [
    {
     "data": {
      "image/png": "[encoded data removed]",
      "text/plain": [
       "<Figure size 432x288 with 1 Axes>"
      ]
     },
     "metadata": {
      "needs_background": "light"
     },
     "output_type": "display_data"
    }
   ],
   "source": [
    "lgb.plot_importance(lgbmreg2);"
   ]
  },
  {
   "cell_type": "code",
   "execution_count": 51,
   "metadata": {},
   "outputs": [
    {
     "data": {
      "text/html": [
       "<div>\n",
       "<style scoped>\n",
       "    .dataframe tbody tr th:only-of-type {\n",
       "        vertical-align: middle;\n",
       "    }\n",
       "\n",
       "    .dataframe tbody tr th {\n",
       "        vertical-align: top;\n",
       "    }\n",
       "\n",
       "    .dataframe thead th {\n",
       "        text-align: right;\n",
       "    }\n",
       "</style>\n",
       "<table border=\"1\" class=\"dataframe\">\n",
       "  <thead>\n",
       "    <tr style=\"text-align: right;\">\n",
       "      <th></th>\n",
       "      <th>value</th>\n",
       "      <th>feature</th>\n",
       "    </tr>\n",
       "  </thead>\n",
       "  <tbody>\n",
       "    <tr>\n",
       "      <th>3</th>\n",
       "      <td>2098</td>\n",
       "      <td>power</td>\n",
       "    </tr>\n",
       "    <tr>\n",
       "      <th>7</th>\n",
       "      <td>1804</td>\n",
       "      <td>brand</td>\n",
       "    </tr>\n",
       "    <tr>\n",
       "      <th>1</th>\n",
       "      <td>1761</td>\n",
       "      <td>registration_year</td>\n",
       "    </tr>\n",
       "    <tr>\n",
       "      <th>4</th>\n",
       "      <td>1702</td>\n",
       "      <td>model</td>\n",
       "    </tr>\n",
       "    <tr>\n",
       "      <th>0</th>\n",
       "      <td>903</td>\n",
       "      <td>vehicle_type</td>\n",
       "    </tr>\n",
       "    <tr>\n",
       "      <th>5</th>\n",
       "      <td>745</td>\n",
       "      <td>kilometer</td>\n",
       "    </tr>\n",
       "    <tr>\n",
       "      <th>8</th>\n",
       "      <td>350</td>\n",
       "      <td>not_repaired</td>\n",
       "    </tr>\n",
       "    <tr>\n",
       "      <th>6</th>\n",
       "      <td>294</td>\n",
       "      <td>fuel_type</td>\n",
       "    </tr>\n",
       "    <tr>\n",
       "      <th>2</th>\n",
       "      <td>137</td>\n",
       "      <td>gearbox</td>\n",
       "    </tr>\n",
       "    <tr>\n",
       "      <th>10</th>\n",
       "      <td>106</td>\n",
       "      <td>age</td>\n",
       "    </tr>\n",
       "    <tr>\n",
       "      <th>9</th>\n",
       "      <td>0</td>\n",
       "      <td>date_created</td>\n",
       "    </tr>\n",
       "  </tbody>\n",
       "</table>\n",
       "</div>"
      ],
      "text/plain": [
       "    value            feature\n",
       "3    2098              power\n",
       "7    1804              brand\n",
       "1    1761  registration_year\n",
       "4    1702              model\n",
       "0     903       vehicle_type\n",
       "5     745          kilometer\n",
       "8     350       not_repaired\n",
       "6     294          fuel_type\n",
       "2     137            gearbox\n",
       "10    106                age\n",
       "9       0       date_created"
      ]
     },
     "execution_count": 51,
     "metadata": {},
     "output_type": "execute_result"
    }
   ],
   "source": [
    "# таблица признаков в порядке убывания важности\n",
    "feature_imp = pd.DataFrame({'value':lgbmreg2.feature_importances_,'feature':train_features.columns})\\\n",
    "                .sort_values('value', ascending=False)\n",
    "feature_imp"
   ]
  },
  {
   "cell_type": "markdown",
   "metadata": {},
   "source": [
    "Сократим признаки в обучающей выборке до 5 важных признаков."
   ]
  },
  {
   "cell_type": "code",
   "execution_count": 52,
   "metadata": {},
   "outputs": [],
   "source": [
    "top_features = 5\n",
    "train_features = train_features[list(feature_imp['feature'][:top_features])]"
   ]
  },
  {
   "cell_type": "code",
   "execution_count": 53,
   "metadata": {
    "scrolled": true
   },
   "outputs": [
    {
     "data": {
      "text/html": [
       "<div>\n",
       "<style scoped>\n",
       "    .dataframe tbody tr th:only-of-type {\n",
       "        vertical-align: middle;\n",
       "    }\n",
       "\n",
       "    .dataframe tbody tr th {\n",
       "        vertical-align: top;\n",
       "    }\n",
       "\n",
       "    .dataframe thead th {\n",
       "        text-align: right;\n",
       "    }\n",
       "</style>\n",
       "<table border=\"1\" class=\"dataframe\">\n",
       "  <thead>\n",
       "    <tr style=\"text-align: right;\">\n",
       "      <th></th>\n",
       "      <th>model_name</th>\n",
       "      <th>model</th>\n",
       "      <th>fit_time_sec</th>\n",
       "      <th>RMSE</th>\n",
       "      <th>importance_features</th>\n",
       "    </tr>\n",
       "  </thead>\n",
       "  <tbody>\n",
       "    <tr>\n",
       "      <th>0</th>\n",
       "      <td>lgbmreg</td>\n",
       "      <td>LGBMRegressor()</td>\n",
       "      <td>0.4</td>\n",
       "      <td>1418</td>\n",
       "      <td>all</td>\n",
       "    </tr>\n",
       "    <tr>\n",
       "      <th>0</th>\n",
       "      <td>lgbmreg2</td>\n",
       "      <td>LGBMRegressor(max_bin=255, num_leaves=100, ran...</td>\n",
       "      <td>0.8</td>\n",
       "      <td>1314</td>\n",
       "      <td>all</td>\n",
       "    </tr>\n",
       "    <tr>\n",
       "      <th>0</th>\n",
       "      <td>lgbmreg3</td>\n",
       "      <td>LGBMRegressor(max_bin=255, random_state=123)</td>\n",
       "      <td>0.5</td>\n",
       "      <td>1418</td>\n",
       "      <td>all</td>\n",
       "    </tr>\n",
       "    <tr>\n",
       "      <th>0</th>\n",
       "      <td>lgbmreg2</td>\n",
       "      <td>LGBMRegressor(max_bin=255, num_leaves=100, ran...</td>\n",
       "      <td>0.4</td>\n",
       "      <td>1502</td>\n",
       "      <td>5</td>\n",
       "    </tr>\n",
       "  </tbody>\n",
       "</table>\n",
       "</div>"
      ],
      "text/plain": [
       "  model_name                                              model  fit_time_sec  \\\n",
       "0    lgbmreg                                    LGBMRegressor()           0.4   \n",
       "0   lgbmreg2  LGBMRegressor(max_bin=255, num_leaves=100, ran...           0.8   \n",
       "0   lgbmreg3       LGBMRegressor(max_bin=255, random_state=123)           0.5   \n",
       "0   lgbmreg2  LGBMRegressor(max_bin=255, num_leaves=100, ran...           0.4   \n",
       "\n",
       "   RMSE importance_features  \n",
       "0  1418                 all  \n",
       "0  1314                 all  \n",
       "0  1418                 all  \n",
       "0  1502                   5  "
      ]
     },
     "execution_count": 53,
     "metadata": {},
     "output_type": "execute_result"
    }
   ],
   "source": [
    "fit_predict(lgbmreg2, name='lgbmreg2', importance_features=top_features)\n",
    "result_tbl = pd.concat([result_tbl, a], axis = 0) # добавление показателей в общую таблицу\n",
    "result_tbl"
   ]
  },
  {
   "cell_type": "markdown",
   "metadata": {},
   "source": [
    "**Вывод:**\n",
    "\n",
    "Модель LGBMRegressor() обучается довольно быстро: менее 1 секунды.\n",
    "\n",
    "Корректировка гиперпараметров привела к уменьшению времени обучения модели, но при этом увеличилась ошибка. \n",
    "\n",
    "Уменьшение количества признаков также привело к уменьшению времени обучения модели и увеличению ошибки."
   ]
  },
  {
   "cell_type": "markdown",
   "metadata": {},
   "source": [
    "### CatBoostRegressor"
   ]
  },
  {
   "cell_type": "code",
   "execution_count": 54,
   "metadata": {},
   "outputs": [],
   "source": [
    "train_features, train_target, test_features, test_target = split_df(df, 'price')"
   ]
  },
  {
   "cell_type": "code",
   "execution_count": 55,
   "metadata": {},
   "outputs": [],
   "source": [
    "cbreg_cat = CatBoostRegressor(cat_features=cat_features, random_state=123, verbose=0)"
   ]
  },
  {
   "cell_type": "code",
   "execution_count": 56,
   "metadata": {},
   "outputs": [],
   "source": [
    "fit_predict(cbreg_cat, name='cbreg_cat')\n",
    "result_tbl = pd.concat([result_tbl, a], axis = 0) # добавление показателей в общую таблицу"
   ]
  },
  {
   "cell_type": "code",
   "execution_count": 57,
   "metadata": {},
   "outputs": [
    {
     "data": {
      "text/html": [
       "<div>\n",
       "<style scoped>\n",
       "    .dataframe tbody tr th:only-of-type {\n",
       "        vertical-align: middle;\n",
       "    }\n",
       "\n",
       "    .dataframe tbody tr th {\n",
       "        vertical-align: top;\n",
       "    }\n",
       "\n",
       "    .dataframe thead th {\n",
       "        text-align: right;\n",
       "    }\n",
       "</style>\n",
       "<table border=\"1\" class=\"dataframe\">\n",
       "  <thead>\n",
       "    <tr style=\"text-align: right;\">\n",
       "      <th></th>\n",
       "      <th>model_name</th>\n",
       "      <th>model</th>\n",
       "      <th>fit_time_sec</th>\n",
       "      <th>RMSE</th>\n",
       "      <th>importance_features</th>\n",
       "    </tr>\n",
       "  </thead>\n",
       "  <tbody>\n",
       "    <tr>\n",
       "      <th>0</th>\n",
       "      <td>lgbmreg</td>\n",
       "      <td>LGBMRegressor()</td>\n",
       "      <td>0.4</td>\n",
       "      <td>1418</td>\n",
       "      <td>all</td>\n",
       "    </tr>\n",
       "    <tr>\n",
       "      <th>0</th>\n",
       "      <td>lgbmreg2</td>\n",
       "      <td>LGBMRegressor(max_bin=255, num_leaves=100, ran...</td>\n",
       "      <td>0.8</td>\n",
       "      <td>1314</td>\n",
       "      <td>all</td>\n",
       "    </tr>\n",
       "    <tr>\n",
       "      <th>0</th>\n",
       "      <td>lgbmreg3</td>\n",
       "      <td>LGBMRegressor(max_bin=255, random_state=123)</td>\n",
       "      <td>0.5</td>\n",
       "      <td>1418</td>\n",
       "      <td>all</td>\n",
       "    </tr>\n",
       "    <tr>\n",
       "      <th>0</th>\n",
       "      <td>lgbmreg2</td>\n",
       "      <td>LGBMRegressor(max_bin=255, num_leaves=100, ran...</td>\n",
       "      <td>0.4</td>\n",
       "      <td>1502</td>\n",
       "      <td>5</td>\n",
       "    </tr>\n",
       "    <tr>\n",
       "      <th>0</th>\n",
       "      <td>cbreg_cat</td>\n",
       "      <td>&lt;catboost.core.CatBoostRegressor object at 0x0...</td>\n",
       "      <td>106.7</td>\n",
       "      <td>1320</td>\n",
       "      <td>all</td>\n",
       "    </tr>\n",
       "  </tbody>\n",
       "</table>\n",
       "</div>"
      ],
      "text/plain": [
       "  model_name                                              model  fit_time_sec  \\\n",
       "0    lgbmreg                                    LGBMRegressor()           0.4   \n",
       "0   lgbmreg2  LGBMRegressor(max_bin=255, num_leaves=100, ran...           0.8   \n",
       "0   lgbmreg3       LGBMRegressor(max_bin=255, random_state=123)           0.5   \n",
       "0   lgbmreg2  LGBMRegressor(max_bin=255, num_leaves=100, ran...           0.4   \n",
       "0  cbreg_cat  <catboost.core.CatBoostRegressor object at 0x0...         106.7   \n",
       "\n",
       "   RMSE importance_features  \n",
       "0  1418                 all  \n",
       "0  1314                 all  \n",
       "0  1418                 all  \n",
       "0  1502                   5  \n",
       "0  1320                 all  "
      ]
     },
     "execution_count": 57,
     "metadata": {},
     "output_type": "execute_result"
    }
   ],
   "source": [
    "result_tbl"
   ]
  },
  {
   "cell_type": "markdown",
   "metadata": {},
   "source": [
    "Обучим модель **CatBoostRegressor()** без параметра *cat_features* на данных, преобразованных с помощью алгоритма OrdinalEncoder."
   ]
  },
  {
   "cell_type": "code",
   "execution_count": 58,
   "metadata": {},
   "outputs": [],
   "source": [
    "train_features, train_target, test_features, test_target = split_df(df_ordinal, 'price')"
   ]
  },
  {
   "cell_type": "code",
   "execution_count": 59,
   "metadata": {},
   "outputs": [],
   "source": [
    "cbreg = CatBoostRegressor(verbose=0)"
   ]
  },
  {
   "cell_type": "code",
   "execution_count": 60,
   "metadata": {},
   "outputs": [],
   "source": [
    "fit_predict(cbreg, name='cbreg')\n",
    "result_tbl = pd.concat([result_tbl, a], axis = 0) # добавление показателей в общую таблицу"
   ]
  },
  {
   "cell_type": "code",
   "execution_count": 61,
   "metadata": {},
   "outputs": [
    {
     "data": {
      "text/html": [
       "<div>\n",
       "<style scoped>\n",
       "    .dataframe tbody tr th:only-of-type {\n",
       "        vertical-align: middle;\n",
       "    }\n",
       "\n",
       "    .dataframe tbody tr th {\n",
       "        vertical-align: top;\n",
       "    }\n",
       "\n",
       "    .dataframe thead th {\n",
       "        text-align: right;\n",
       "    }\n",
       "</style>\n",
       "<table border=\"1\" class=\"dataframe\">\n",
       "  <thead>\n",
       "    <tr style=\"text-align: right;\">\n",
       "      <th></th>\n",
       "      <th>model_name</th>\n",
       "      <th>model</th>\n",
       "      <th>fit_time_sec</th>\n",
       "      <th>RMSE</th>\n",
       "      <th>importance_features</th>\n",
       "    </tr>\n",
       "  </thead>\n",
       "  <tbody>\n",
       "    <tr>\n",
       "      <th>0</th>\n",
       "      <td>lgbmreg</td>\n",
       "      <td>LGBMRegressor()</td>\n",
       "      <td>0.4</td>\n",
       "      <td>1418</td>\n",
       "      <td>all</td>\n",
       "    </tr>\n",
       "    <tr>\n",
       "      <th>0</th>\n",
       "      <td>lgbmreg2</td>\n",
       "      <td>LGBMRegressor(max_bin=255, num_leaves=100, ran...</td>\n",
       "      <td>0.8</td>\n",
       "      <td>1314</td>\n",
       "      <td>all</td>\n",
       "    </tr>\n",
       "    <tr>\n",
       "      <th>0</th>\n",
       "      <td>lgbmreg3</td>\n",
       "      <td>LGBMRegressor(max_bin=255, random_state=123)</td>\n",
       "      <td>0.5</td>\n",
       "      <td>1418</td>\n",
       "      <td>all</td>\n",
       "    </tr>\n",
       "    <tr>\n",
       "      <th>0</th>\n",
       "      <td>lgbmreg2</td>\n",
       "      <td>LGBMRegressor(max_bin=255, num_leaves=100, ran...</td>\n",
       "      <td>0.4</td>\n",
       "      <td>1502</td>\n",
       "      <td>5</td>\n",
       "    </tr>\n",
       "    <tr>\n",
       "      <th>0</th>\n",
       "      <td>cbreg_cat</td>\n",
       "      <td>&lt;catboost.core.CatBoostRegressor object at 0x0...</td>\n",
       "      <td>106.7</td>\n",
       "      <td>1320</td>\n",
       "      <td>all</td>\n",
       "    </tr>\n",
       "    <tr>\n",
       "      <th>0</th>\n",
       "      <td>cbreg</td>\n",
       "      <td>&lt;catboost.core.CatBoostRegressor object at 0x0...</td>\n",
       "      <td>14.9</td>\n",
       "      <td>1320</td>\n",
       "      <td>all</td>\n",
       "    </tr>\n",
       "  </tbody>\n",
       "</table>\n",
       "</div>"
      ],
      "text/plain": [
       "  model_name                                              model  fit_time_sec  \\\n",
       "0    lgbmreg                                    LGBMRegressor()           0.4   \n",
       "0   lgbmreg2  LGBMRegressor(max_bin=255, num_leaves=100, ran...           0.8   \n",
       "0   lgbmreg3       LGBMRegressor(max_bin=255, random_state=123)           0.5   \n",
       "0   lgbmreg2  LGBMRegressor(max_bin=255, num_leaves=100, ran...           0.4   \n",
       "0  cbreg_cat  <catboost.core.CatBoostRegressor object at 0x0...         106.7   \n",
       "0      cbreg  <catboost.core.CatBoostRegressor object at 0x0...          14.9   \n",
       "\n",
       "   RMSE importance_features  \n",
       "0  1418                 all  \n",
       "0  1314                 all  \n",
       "0  1418                 all  \n",
       "0  1502                   5  \n",
       "0  1320                 all  \n",
       "0  1320                 all  "
      ]
     },
     "execution_count": 61,
     "metadata": {},
     "output_type": "execute_result"
    }
   ],
   "source": [
    "result_tbl"
   ]
  },
  {
   "cell_type": "markdown",
   "metadata": {},
   "source": [
    "Модель обучилась намного быстрее, точность при этом почти не изменилась.\n",
    "\n",
    "Подберем гиперпараметры для модели CatBoostRegressor()."
   ]
  },
  {
   "cell_type": "code",
   "execution_count": 62,
   "metadata": {},
   "outputs": [
    {
     "name": "stdout",
     "output_type": "stream",
     "text": [
      "Гиперпараметры:  {'depth': 10, 'iterations': 1000, 'l2_leaf_reg': 1, 'random_state': 123, 'verbose': 0}\n",
      "RMSE: 1372\n",
      "Wall time: 4min 39s\n"
     ]
    }
   ],
   "source": [
    "%%time\n",
    "best2 = grid_search(cbreg, params={'iterations': [500, 1000],\n",
    "                                   'depth': [5, 10],\n",
    "                                   'l2_leaf_reg': [1, 3],\n",
    "                                   'verbose': [0],\n",
    "                                   'random_state': [123]})"
   ]
  },
  {
   "cell_type": "code",
   "execution_count": 63,
   "metadata": {},
   "outputs": [],
   "source": [
    "cbreg2 = CatBoostRegressor(**best2)"
   ]
  },
  {
   "cell_type": "code",
   "execution_count": 64,
   "metadata": {},
   "outputs": [],
   "source": [
    "fit_predict(cbreg2, name='cbreg2')\n",
    "result_tbl = pd.concat([result_tbl, a], axis = 0) # добавление показателей  в общую таблицу"
   ]
  },
  {
   "cell_type": "code",
   "execution_count": 65,
   "metadata": {},
   "outputs": [
    {
     "data": {
      "text/html": [
       "<div>\n",
       "<style scoped>\n",
       "    .dataframe tbody tr th:only-of-type {\n",
       "        vertical-align: middle;\n",
       "    }\n",
       "\n",
       "    .dataframe tbody tr th {\n",
       "        vertical-align: top;\n",
       "    }\n",
       "\n",
       "    .dataframe thead th {\n",
       "        text-align: right;\n",
       "    }\n",
       "</style>\n",
       "<table border=\"1\" class=\"dataframe\">\n",
       "  <thead>\n",
       "    <tr style=\"text-align: right;\">\n",
       "      <th></th>\n",
       "      <th>model_name</th>\n",
       "      <th>model</th>\n",
       "      <th>fit_time_sec</th>\n",
       "      <th>RMSE</th>\n",
       "      <th>importance_features</th>\n",
       "    </tr>\n",
       "  </thead>\n",
       "  <tbody>\n",
       "    <tr>\n",
       "      <th>0</th>\n",
       "      <td>lgbmreg</td>\n",
       "      <td>LGBMRegressor()</td>\n",
       "      <td>0.4</td>\n",
       "      <td>1418</td>\n",
       "      <td>all</td>\n",
       "    </tr>\n",
       "    <tr>\n",
       "      <th>0</th>\n",
       "      <td>lgbmreg2</td>\n",
       "      <td>LGBMRegressor(max_bin=255, num_leaves=100, ran...</td>\n",
       "      <td>0.8</td>\n",
       "      <td>1314</td>\n",
       "      <td>all</td>\n",
       "    </tr>\n",
       "    <tr>\n",
       "      <th>0</th>\n",
       "      <td>lgbmreg3</td>\n",
       "      <td>LGBMRegressor(max_bin=255, random_state=123)</td>\n",
       "      <td>0.5</td>\n",
       "      <td>1418</td>\n",
       "      <td>all</td>\n",
       "    </tr>\n",
       "    <tr>\n",
       "      <th>0</th>\n",
       "      <td>lgbmreg2</td>\n",
       "      <td>LGBMRegressor(max_bin=255, num_leaves=100, ran...</td>\n",
       "      <td>0.4</td>\n",
       "      <td>1502</td>\n",
       "      <td>5</td>\n",
       "    </tr>\n",
       "    <tr>\n",
       "      <th>0</th>\n",
       "      <td>cbreg_cat</td>\n",
       "      <td>&lt;catboost.core.CatBoostRegressor object at 0x0...</td>\n",
       "      <td>106.7</td>\n",
       "      <td>1320</td>\n",
       "      <td>all</td>\n",
       "    </tr>\n",
       "    <tr>\n",
       "      <th>0</th>\n",
       "      <td>cbreg</td>\n",
       "      <td>&lt;catboost.core.CatBoostRegressor object at 0x0...</td>\n",
       "      <td>14.9</td>\n",
       "      <td>1320</td>\n",
       "      <td>all</td>\n",
       "    </tr>\n",
       "    <tr>\n",
       "      <th>0</th>\n",
       "      <td>cbreg2</td>\n",
       "      <td>&lt;catboost.core.CatBoostRegressor object at 0x0...</td>\n",
       "      <td>34.3</td>\n",
       "      <td>1282</td>\n",
       "      <td>all</td>\n",
       "    </tr>\n",
       "  </tbody>\n",
       "</table>\n",
       "</div>"
      ],
      "text/plain": [
       "  model_name                                              model  fit_time_sec  \\\n",
       "0    lgbmreg                                    LGBMRegressor()           0.4   \n",
       "0   lgbmreg2  LGBMRegressor(max_bin=255, num_leaves=100, ran...           0.8   \n",
       "0   lgbmreg3       LGBMRegressor(max_bin=255, random_state=123)           0.5   \n",
       "0   lgbmreg2  LGBMRegressor(max_bin=255, num_leaves=100, ran...           0.4   \n",
       "0  cbreg_cat  <catboost.core.CatBoostRegressor object at 0x0...         106.7   \n",
       "0      cbreg  <catboost.core.CatBoostRegressor object at 0x0...          14.9   \n",
       "0     cbreg2  <catboost.core.CatBoostRegressor object at 0x0...          34.3   \n",
       "\n",
       "   RMSE importance_features  \n",
       "0  1418                 all  \n",
       "0  1314                 all  \n",
       "0  1418                 all  \n",
       "0  1502                   5  \n",
       "0  1320                 all  \n",
       "0  1320                 all  \n",
       "0  1282                 all  "
      ]
     },
     "execution_count": 65,
     "metadata": {},
     "output_type": "execute_result"
    }
   ],
   "source": [
    "result_tbl"
   ]
  },
  {
   "cell_type": "markdown",
   "metadata": {},
   "source": [
    "Уменьшим значения гиперпараметров *depth* и *iterations*, чтобы увеличить скорость обучения модели."
   ]
  },
  {
   "cell_type": "code",
   "execution_count": 66,
   "metadata": {},
   "outputs": [],
   "source": [
    "cbreg3 = CatBoostRegressor(iterations=500, depth=5, l2_leaf_reg=1, random_state=123, verbose=0)"
   ]
  },
  {
   "cell_type": "code",
   "execution_count": 67,
   "metadata": {},
   "outputs": [],
   "source": [
    "fit_predict(cbreg3, name='cbreg3')\n",
    "result_tbl = pd.concat([result_tbl, a], axis = 0) # добавление показателей в общую таблицу"
   ]
  },
  {
   "cell_type": "code",
   "execution_count": 68,
   "metadata": {},
   "outputs": [
    {
     "data": {
      "text/html": [
       "<div>\n",
       "<style scoped>\n",
       "    .dataframe tbody tr th:only-of-type {\n",
       "        vertical-align: middle;\n",
       "    }\n",
       "\n",
       "    .dataframe tbody tr th {\n",
       "        vertical-align: top;\n",
       "    }\n",
       "\n",
       "    .dataframe thead th {\n",
       "        text-align: right;\n",
       "    }\n",
       "</style>\n",
       "<table border=\"1\" class=\"dataframe\">\n",
       "  <thead>\n",
       "    <tr style=\"text-align: right;\">\n",
       "      <th></th>\n",
       "      <th>model_name</th>\n",
       "      <th>model</th>\n",
       "      <th>fit_time_sec</th>\n",
       "      <th>RMSE</th>\n",
       "      <th>importance_features</th>\n",
       "    </tr>\n",
       "  </thead>\n",
       "  <tbody>\n",
       "    <tr>\n",
       "      <th>0</th>\n",
       "      <td>lgbmreg</td>\n",
       "      <td>LGBMRegressor()</td>\n",
       "      <td>0.4</td>\n",
       "      <td>1418</td>\n",
       "      <td>all</td>\n",
       "    </tr>\n",
       "    <tr>\n",
       "      <th>0</th>\n",
       "      <td>lgbmreg2</td>\n",
       "      <td>LGBMRegressor(max_bin=255, num_leaves=100, ran...</td>\n",
       "      <td>0.8</td>\n",
       "      <td>1314</td>\n",
       "      <td>all</td>\n",
       "    </tr>\n",
       "    <tr>\n",
       "      <th>0</th>\n",
       "      <td>lgbmreg3</td>\n",
       "      <td>LGBMRegressor(max_bin=255, random_state=123)</td>\n",
       "      <td>0.5</td>\n",
       "      <td>1418</td>\n",
       "      <td>all</td>\n",
       "    </tr>\n",
       "    <tr>\n",
       "      <th>0</th>\n",
       "      <td>lgbmreg2</td>\n",
       "      <td>LGBMRegressor(max_bin=255, num_leaves=100, ran...</td>\n",
       "      <td>0.4</td>\n",
       "      <td>1502</td>\n",
       "      <td>5</td>\n",
       "    </tr>\n",
       "    <tr>\n",
       "      <th>0</th>\n",
       "      <td>cbreg_cat</td>\n",
       "      <td>&lt;catboost.core.CatBoostRegressor object at 0x0...</td>\n",
       "      <td>106.7</td>\n",
       "      <td>1320</td>\n",
       "      <td>all</td>\n",
       "    </tr>\n",
       "    <tr>\n",
       "      <th>0</th>\n",
       "      <td>cbreg</td>\n",
       "      <td>&lt;catboost.core.CatBoostRegressor object at 0x0...</td>\n",
       "      <td>14.9</td>\n",
       "      <td>1320</td>\n",
       "      <td>all</td>\n",
       "    </tr>\n",
       "    <tr>\n",
       "      <th>0</th>\n",
       "      <td>cbreg2</td>\n",
       "      <td>&lt;catboost.core.CatBoostRegressor object at 0x0...</td>\n",
       "      <td>34.3</td>\n",
       "      <td>1282</td>\n",
       "      <td>all</td>\n",
       "    </tr>\n",
       "    <tr>\n",
       "      <th>0</th>\n",
       "      <td>cbreg3</td>\n",
       "      <td>&lt;catboost.core.CatBoostRegressor object at 0x0...</td>\n",
       "      <td>5.6</td>\n",
       "      <td>1508</td>\n",
       "      <td>all</td>\n",
       "    </tr>\n",
       "  </tbody>\n",
       "</table>\n",
       "</div>"
      ],
      "text/plain": [
       "  model_name                                              model  fit_time_sec  \\\n",
       "0    lgbmreg                                    LGBMRegressor()           0.4   \n",
       "0   lgbmreg2  LGBMRegressor(max_bin=255, num_leaves=100, ran...           0.8   \n",
       "0   lgbmreg3       LGBMRegressor(max_bin=255, random_state=123)           0.5   \n",
       "0   lgbmreg2  LGBMRegressor(max_bin=255, num_leaves=100, ran...           0.4   \n",
       "0  cbreg_cat  <catboost.core.CatBoostRegressor object at 0x0...         106.7   \n",
       "0      cbreg  <catboost.core.CatBoostRegressor object at 0x0...          14.9   \n",
       "0     cbreg2  <catboost.core.CatBoostRegressor object at 0x0...          34.3   \n",
       "0     cbreg3  <catboost.core.CatBoostRegressor object at 0x0...           5.6   \n",
       "\n",
       "   RMSE importance_features  \n",
       "0  1418                 all  \n",
       "0  1314                 all  \n",
       "0  1418                 all  \n",
       "0  1502                   5  \n",
       "0  1320                 all  \n",
       "0  1320                 all  \n",
       "0  1282                 all  \n",
       "0  1508                 all  "
      ]
     },
     "execution_count": 68,
     "metadata": {},
     "output_type": "execute_result"
    }
   ],
   "source": [
    "result_tbl"
   ]
  },
  {
   "cell_type": "markdown",
   "metadata": {},
   "source": [
    "Посмотрим на перечень важных признаков для модели **CatBoostRegressor(iterations=1000, depth=10, l2_leaf_reg=1, random_state=123)**."
   ]
  },
  {
   "cell_type": "code",
   "execution_count": 69,
   "metadata": {},
   "outputs": [
    {
     "data": {
      "text/html": [
       "<div>\n",
       "<style scoped>\n",
       "    .dataframe tbody tr th:only-of-type {\n",
       "        vertical-align: middle;\n",
       "    }\n",
       "\n",
       "    .dataframe tbody tr th {\n",
       "        vertical-align: top;\n",
       "    }\n",
       "\n",
       "    .dataframe thead th {\n",
       "        text-align: right;\n",
       "    }\n",
       "</style>\n",
       "<table border=\"1\" class=\"dataframe\">\n",
       "  <thead>\n",
       "    <tr style=\"text-align: right;\">\n",
       "      <th></th>\n",
       "      <th>Feature Id</th>\n",
       "      <th>Importances</th>\n",
       "    </tr>\n",
       "  </thead>\n",
       "  <tbody>\n",
       "    <tr>\n",
       "      <th>0</th>\n",
       "      <td>power</td>\n",
       "      <td>21.499712</td>\n",
       "    </tr>\n",
       "    <tr>\n",
       "      <th>1</th>\n",
       "      <td>registration_year</td>\n",
       "      <td>17.769036</td>\n",
       "    </tr>\n",
       "    <tr>\n",
       "      <th>2</th>\n",
       "      <td>age</td>\n",
       "      <td>16.473219</td>\n",
       "    </tr>\n",
       "    <tr>\n",
       "      <th>3</th>\n",
       "      <td>brand</td>\n",
       "      <td>13.940612</td>\n",
       "    </tr>\n",
       "    <tr>\n",
       "      <th>4</th>\n",
       "      <td>kilometer</td>\n",
       "      <td>9.858870</td>\n",
       "    </tr>\n",
       "    <tr>\n",
       "      <th>5</th>\n",
       "      <td>vehicle_type</td>\n",
       "      <td>8.068184</td>\n",
       "    </tr>\n",
       "    <tr>\n",
       "      <th>6</th>\n",
       "      <td>model</td>\n",
       "      <td>4.976260</td>\n",
       "    </tr>\n",
       "    <tr>\n",
       "      <th>7</th>\n",
       "      <td>not_repaired</td>\n",
       "      <td>3.901573</td>\n",
       "    </tr>\n",
       "    <tr>\n",
       "      <th>8</th>\n",
       "      <td>fuel_type</td>\n",
       "      <td>2.633149</td>\n",
       "    </tr>\n",
       "    <tr>\n",
       "      <th>9</th>\n",
       "      <td>gearbox</td>\n",
       "      <td>0.877484</td>\n",
       "    </tr>\n",
       "    <tr>\n",
       "      <th>10</th>\n",
       "      <td>date_created</td>\n",
       "      <td>0.001901</td>\n",
       "    </tr>\n",
       "  </tbody>\n",
       "</table>\n",
       "</div>"
      ],
      "text/plain": [
       "           Feature Id  Importances\n",
       "0               power    21.499712\n",
       "1   registration_year    17.769036\n",
       "2                 age    16.473219\n",
       "3               brand    13.940612\n",
       "4           kilometer     9.858870\n",
       "5        vehicle_type     8.068184\n",
       "6               model     4.976260\n",
       "7        not_repaired     3.901573\n",
       "8           fuel_type     2.633149\n",
       "9             gearbox     0.877484\n",
       "10       date_created     0.001901"
      ]
     },
     "execution_count": 69,
     "metadata": {},
     "output_type": "execute_result"
    }
   ],
   "source": [
    "train_dataset = Pool(train_features, train_target)\n",
    "feature_importance = cbreg2.get_feature_importance(train_dataset, prettified=True)\n",
    "feature_importance"
   ]
  },
  {
   "cell_type": "markdown",
   "metadata": {},
   "source": [
    "Обучим модель с использованием 6 самых важных признаков."
   ]
  },
  {
   "cell_type": "code",
   "execution_count": 70,
   "metadata": {},
   "outputs": [],
   "source": [
    "top_features = 6\n",
    "train_features = train_features[list(feature_importance['Feature Id'])[:top_features]]"
   ]
  },
  {
   "cell_type": "code",
   "execution_count": 71,
   "metadata": {},
   "outputs": [],
   "source": [
    "fit_predict(cbreg2, name='cbreg2', importance_features=top_features)\n",
    "result_tbl = pd.concat([result_tbl, a], axis = 0) # добавление показателей в общую таблицу"
   ]
  },
  {
   "cell_type": "code",
   "execution_count": 72,
   "metadata": {},
   "outputs": [
    {
     "data": {
      "text/html": [
       "<div>\n",
       "<style scoped>\n",
       "    .dataframe tbody tr th:only-of-type {\n",
       "        vertical-align: middle;\n",
       "    }\n",
       "\n",
       "    .dataframe tbody tr th {\n",
       "        vertical-align: top;\n",
       "    }\n",
       "\n",
       "    .dataframe thead th {\n",
       "        text-align: right;\n",
       "    }\n",
       "</style>\n",
       "<table border=\"1\" class=\"dataframe\">\n",
       "  <thead>\n",
       "    <tr style=\"text-align: right;\">\n",
       "      <th></th>\n",
       "      <th>model_name</th>\n",
       "      <th>model</th>\n",
       "      <th>fit_time_sec</th>\n",
       "      <th>RMSE</th>\n",
       "      <th>importance_features</th>\n",
       "    </tr>\n",
       "  </thead>\n",
       "  <tbody>\n",
       "    <tr>\n",
       "      <th>0</th>\n",
       "      <td>lgbmreg</td>\n",
       "      <td>LGBMRegressor()</td>\n",
       "      <td>0.4</td>\n",
       "      <td>1418</td>\n",
       "      <td>all</td>\n",
       "    </tr>\n",
       "    <tr>\n",
       "      <th>0</th>\n",
       "      <td>lgbmreg2</td>\n",
       "      <td>LGBMRegressor(max_bin=255, num_leaves=100, ran...</td>\n",
       "      <td>0.8</td>\n",
       "      <td>1314</td>\n",
       "      <td>all</td>\n",
       "    </tr>\n",
       "    <tr>\n",
       "      <th>0</th>\n",
       "      <td>lgbmreg3</td>\n",
       "      <td>LGBMRegressor(max_bin=255, random_state=123)</td>\n",
       "      <td>0.5</td>\n",
       "      <td>1418</td>\n",
       "      <td>all</td>\n",
       "    </tr>\n",
       "    <tr>\n",
       "      <th>0</th>\n",
       "      <td>lgbmreg2</td>\n",
       "      <td>LGBMRegressor(max_bin=255, num_leaves=100, ran...</td>\n",
       "      <td>0.4</td>\n",
       "      <td>1502</td>\n",
       "      <td>5</td>\n",
       "    </tr>\n",
       "    <tr>\n",
       "      <th>0</th>\n",
       "      <td>cbreg_cat</td>\n",
       "      <td>&lt;catboost.core.CatBoostRegressor object at 0x0...</td>\n",
       "      <td>106.7</td>\n",
       "      <td>1320</td>\n",
       "      <td>all</td>\n",
       "    </tr>\n",
       "    <tr>\n",
       "      <th>0</th>\n",
       "      <td>cbreg</td>\n",
       "      <td>&lt;catboost.core.CatBoostRegressor object at 0x0...</td>\n",
       "      <td>14.9</td>\n",
       "      <td>1320</td>\n",
       "      <td>all</td>\n",
       "    </tr>\n",
       "    <tr>\n",
       "      <th>0</th>\n",
       "      <td>cbreg2</td>\n",
       "      <td>&lt;catboost.core.CatBoostRegressor object at 0x0...</td>\n",
       "      <td>34.3</td>\n",
       "      <td>1282</td>\n",
       "      <td>all</td>\n",
       "    </tr>\n",
       "    <tr>\n",
       "      <th>0</th>\n",
       "      <td>cbreg3</td>\n",
       "      <td>&lt;catboost.core.CatBoostRegressor object at 0x0...</td>\n",
       "      <td>5.6</td>\n",
       "      <td>1508</td>\n",
       "      <td>all</td>\n",
       "    </tr>\n",
       "    <tr>\n",
       "      <th>0</th>\n",
       "      <td>cbreg2</td>\n",
       "      <td>&lt;catboost.core.CatBoostRegressor object at 0x0...</td>\n",
       "      <td>24.2</td>\n",
       "      <td>1417</td>\n",
       "      <td>6</td>\n",
       "    </tr>\n",
       "  </tbody>\n",
       "</table>\n",
       "</div>"
      ],
      "text/plain": [
       "  model_name                                              model  fit_time_sec  \\\n",
       "0    lgbmreg                                    LGBMRegressor()           0.4   \n",
       "0   lgbmreg2  LGBMRegressor(max_bin=255, num_leaves=100, ran...           0.8   \n",
       "0   lgbmreg3       LGBMRegressor(max_bin=255, random_state=123)           0.5   \n",
       "0   lgbmreg2  LGBMRegressor(max_bin=255, num_leaves=100, ran...           0.4   \n",
       "0  cbreg_cat  <catboost.core.CatBoostRegressor object at 0x0...         106.7   \n",
       "0      cbreg  <catboost.core.CatBoostRegressor object at 0x0...          14.9   \n",
       "0     cbreg2  <catboost.core.CatBoostRegressor object at 0x0...          34.3   \n",
       "0     cbreg3  <catboost.core.CatBoostRegressor object at 0x0...           5.6   \n",
       "0     cbreg2  <catboost.core.CatBoostRegressor object at 0x0...          24.2   \n",
       "\n",
       "   RMSE importance_features  \n",
       "0  1418                 all  \n",
       "0  1314                 all  \n",
       "0  1418                 all  \n",
       "0  1502                   5  \n",
       "0  1320                 all  \n",
       "0  1320                 all  \n",
       "0  1282                 all  \n",
       "0  1508                 all  \n",
       "0  1417                   6  "
      ]
     },
     "execution_count": 72,
     "metadata": {},
     "output_type": "execute_result"
    }
   ],
   "source": [
    "result_tbl"
   ]
  },
  {
   "cell_type": "markdown",
   "metadata": {},
   "source": [
    "**Вывод:**\n",
    "\n",
    "Модель CatBoostRegressor() обучается довольно медленно, если обрабатывать категориальные признаки внутри модели с помощью гиперпараметра *cat_features*. Если же категориальные признаки обработать заранее, скорость обучения модели увеличивается примерно в 10 раз. Время обучения модели составило 6-40 секунд.\n",
    "\n",
    "Корректировка гиперпараметров привела к значительному уменьшению времени обучения модели, но при этом увеличилась ошибка. \n",
    "\n",
    "Уменьшение количества признаков привело к незначительному уменьшению времени обучения модели и увеличению ошибки."
   ]
  },
  {
   "cell_type": "markdown",
   "metadata": {},
   "source": [
    "### XGBRegressor"
   ]
  },
  {
   "cell_type": "code",
   "execution_count": 73,
   "metadata": {},
   "outputs": [],
   "source": [
    "train_features, train_target, test_features, test_target = split_df(df_ordinal, 'price')"
   ]
  },
  {
   "cell_type": "code",
   "execution_count": 74,
   "metadata": {},
   "outputs": [],
   "source": [
    "xgbreg = XGBRegressor() "
   ]
  },
  {
   "cell_type": "code",
   "execution_count": 75,
   "metadata": {},
   "outputs": [
    {
     "data": {
      "text/html": [
       "<div>\n",
       "<style scoped>\n",
       "    .dataframe tbody tr th:only-of-type {\n",
       "        vertical-align: middle;\n",
       "    }\n",
       "\n",
       "    .dataframe tbody tr th {\n",
       "        vertical-align: top;\n",
       "    }\n",
       "\n",
       "    .dataframe thead th {\n",
       "        text-align: right;\n",
       "    }\n",
       "</style>\n",
       "<table border=\"1\" class=\"dataframe\">\n",
       "  <thead>\n",
       "    <tr style=\"text-align: right;\">\n",
       "      <th></th>\n",
       "      <th>model_name</th>\n",
       "      <th>model</th>\n",
       "      <th>fit_time_sec</th>\n",
       "      <th>RMSE</th>\n",
       "      <th>importance_features</th>\n",
       "    </tr>\n",
       "  </thead>\n",
       "  <tbody>\n",
       "    <tr>\n",
       "      <th>0</th>\n",
       "      <td>lgbmreg</td>\n",
       "      <td>LGBMRegressor()</td>\n",
       "      <td>0.4</td>\n",
       "      <td>1418</td>\n",
       "      <td>all</td>\n",
       "    </tr>\n",
       "    <tr>\n",
       "      <th>0</th>\n",
       "      <td>lgbmreg2</td>\n",
       "      <td>LGBMRegressor(max_bin=255, num_leaves=100, ran...</td>\n",
       "      <td>0.8</td>\n",
       "      <td>1314</td>\n",
       "      <td>all</td>\n",
       "    </tr>\n",
       "    <tr>\n",
       "      <th>0</th>\n",
       "      <td>lgbmreg3</td>\n",
       "      <td>LGBMRegressor(max_bin=255, random_state=123)</td>\n",
       "      <td>0.5</td>\n",
       "      <td>1418</td>\n",
       "      <td>all</td>\n",
       "    </tr>\n",
       "    <tr>\n",
       "      <th>0</th>\n",
       "      <td>lgbmreg2</td>\n",
       "      <td>LGBMRegressor(max_bin=255, num_leaves=100, ran...</td>\n",
       "      <td>0.4</td>\n",
       "      <td>1502</td>\n",
       "      <td>5</td>\n",
       "    </tr>\n",
       "    <tr>\n",
       "      <th>0</th>\n",
       "      <td>cbreg_cat</td>\n",
       "      <td>&lt;catboost.core.CatBoostRegressor object at 0x0...</td>\n",
       "      <td>106.7</td>\n",
       "      <td>1320</td>\n",
       "      <td>all</td>\n",
       "    </tr>\n",
       "    <tr>\n",
       "      <th>0</th>\n",
       "      <td>cbreg</td>\n",
       "      <td>&lt;catboost.core.CatBoostRegressor object at 0x0...</td>\n",
       "      <td>14.9</td>\n",
       "      <td>1320</td>\n",
       "      <td>all</td>\n",
       "    </tr>\n",
       "    <tr>\n",
       "      <th>0</th>\n",
       "      <td>cbreg2</td>\n",
       "      <td>&lt;catboost.core.CatBoostRegressor object at 0x0...</td>\n",
       "      <td>34.3</td>\n",
       "      <td>1282</td>\n",
       "      <td>all</td>\n",
       "    </tr>\n",
       "    <tr>\n",
       "      <th>0</th>\n",
       "      <td>cbreg3</td>\n",
       "      <td>&lt;catboost.core.CatBoostRegressor object at 0x0...</td>\n",
       "      <td>5.6</td>\n",
       "      <td>1508</td>\n",
       "      <td>all</td>\n",
       "    </tr>\n",
       "    <tr>\n",
       "      <th>0</th>\n",
       "      <td>cbreg2</td>\n",
       "      <td>&lt;catboost.core.CatBoostRegressor object at 0x0...</td>\n",
       "      <td>24.2</td>\n",
       "      <td>1417</td>\n",
       "      <td>6</td>\n",
       "    </tr>\n",
       "    <tr>\n",
       "      <th>0</th>\n",
       "      <td>xgbreg</td>\n",
       "      <td>XGBRegressor(base_score=0.5, booster='gbtree',...</td>\n",
       "      <td>4.1</td>\n",
       "      <td>1301</td>\n",
       "      <td>all</td>\n",
       "    </tr>\n",
       "  </tbody>\n",
       "</table>\n",
       "</div>"
      ],
      "text/plain": [
       "  model_name                                              model  fit_time_sec  \\\n",
       "0    lgbmreg                                    LGBMRegressor()           0.4   \n",
       "0   lgbmreg2  LGBMRegressor(max_bin=255, num_leaves=100, ran...           0.8   \n",
       "0   lgbmreg3       LGBMRegressor(max_bin=255, random_state=123)           0.5   \n",
       "0   lgbmreg2  LGBMRegressor(max_bin=255, num_leaves=100, ran...           0.4   \n",
       "0  cbreg_cat  <catboost.core.CatBoostRegressor object at 0x0...         106.7   \n",
       "0      cbreg  <catboost.core.CatBoostRegressor object at 0x0...          14.9   \n",
       "0     cbreg2  <catboost.core.CatBoostRegressor object at 0x0...          34.3   \n",
       "0     cbreg3  <catboost.core.CatBoostRegressor object at 0x0...           5.6   \n",
       "0     cbreg2  <catboost.core.CatBoostRegressor object at 0x0...          24.2   \n",
       "0     xgbreg  XGBRegressor(base_score=0.5, booster='gbtree',...           4.1   \n",
       "\n",
       "   RMSE importance_features  \n",
       "0  1418                 all  \n",
       "0  1314                 all  \n",
       "0  1418                 all  \n",
       "0  1502                   5  \n",
       "0  1320                 all  \n",
       "0  1320                 all  \n",
       "0  1282                 all  \n",
       "0  1508                 all  \n",
       "0  1417                   6  \n",
       "0  1301                 all  "
      ]
     },
     "execution_count": 75,
     "metadata": {},
     "output_type": "execute_result"
    }
   ],
   "source": [
    "fit_predict(xgbreg, name='xgbreg')\n",
    "result_tbl = pd.concat([result_tbl, a], axis = 0) # добавление показателей в общую таблицу\n",
    "result_tbl"
   ]
  },
  {
   "cell_type": "code",
   "execution_count": 76,
   "metadata": {},
   "outputs": [
    {
     "name": "stdout",
     "output_type": "stream",
     "text": [
      "Гиперпараметры:  {'max_depth': 10, 'random_state': 123}\n",
      "RMSE: 1387\n",
      "Wall time: 55.5 s\n"
     ]
    }
   ],
   "source": [
    "%%time\n",
    "best3 = grid_search(xgbreg, params={'max_depth': [3, 10, 15],\n",
    "                                    'random_state': [123]})"
   ]
  },
  {
   "cell_type": "code",
   "execution_count": 77,
   "metadata": {},
   "outputs": [],
   "source": [
    "xgbreg2 = XGBRegressor(**best3)"
   ]
  },
  {
   "cell_type": "code",
   "execution_count": 78,
   "metadata": {},
   "outputs": [
    {
     "data": {
      "text/html": [
       "<div>\n",
       "<style scoped>\n",
       "    .dataframe tbody tr th:only-of-type {\n",
       "        vertical-align: middle;\n",
       "    }\n",
       "\n",
       "    .dataframe tbody tr th {\n",
       "        vertical-align: top;\n",
       "    }\n",
       "\n",
       "    .dataframe thead th {\n",
       "        text-align: right;\n",
       "    }\n",
       "</style>\n",
       "<table border=\"1\" class=\"dataframe\">\n",
       "  <thead>\n",
       "    <tr style=\"text-align: right;\">\n",
       "      <th></th>\n",
       "      <th>model_name</th>\n",
       "      <th>model</th>\n",
       "      <th>fit_time_sec</th>\n",
       "      <th>RMSE</th>\n",
       "      <th>importance_features</th>\n",
       "    </tr>\n",
       "  </thead>\n",
       "  <tbody>\n",
       "    <tr>\n",
       "      <th>0</th>\n",
       "      <td>lgbmreg</td>\n",
       "      <td>LGBMRegressor()</td>\n",
       "      <td>0.4</td>\n",
       "      <td>1418</td>\n",
       "      <td>all</td>\n",
       "    </tr>\n",
       "    <tr>\n",
       "      <th>0</th>\n",
       "      <td>lgbmreg2</td>\n",
       "      <td>LGBMRegressor(max_bin=255, num_leaves=100, ran...</td>\n",
       "      <td>0.8</td>\n",
       "      <td>1314</td>\n",
       "      <td>all</td>\n",
       "    </tr>\n",
       "    <tr>\n",
       "      <th>0</th>\n",
       "      <td>lgbmreg3</td>\n",
       "      <td>LGBMRegressor(max_bin=255, random_state=123)</td>\n",
       "      <td>0.5</td>\n",
       "      <td>1418</td>\n",
       "      <td>all</td>\n",
       "    </tr>\n",
       "    <tr>\n",
       "      <th>0</th>\n",
       "      <td>lgbmreg2</td>\n",
       "      <td>LGBMRegressor(max_bin=255, num_leaves=100, ran...</td>\n",
       "      <td>0.4</td>\n",
       "      <td>1502</td>\n",
       "      <td>5</td>\n",
       "    </tr>\n",
       "    <tr>\n",
       "      <th>0</th>\n",
       "      <td>cbreg_cat</td>\n",
       "      <td>&lt;catboost.core.CatBoostRegressor object at 0x0...</td>\n",
       "      <td>106.7</td>\n",
       "      <td>1320</td>\n",
       "      <td>all</td>\n",
       "    </tr>\n",
       "    <tr>\n",
       "      <th>0</th>\n",
       "      <td>cbreg</td>\n",
       "      <td>&lt;catboost.core.CatBoostRegressor object at 0x0...</td>\n",
       "      <td>14.9</td>\n",
       "      <td>1320</td>\n",
       "      <td>all</td>\n",
       "    </tr>\n",
       "    <tr>\n",
       "      <th>0</th>\n",
       "      <td>cbreg2</td>\n",
       "      <td>&lt;catboost.core.CatBoostRegressor object at 0x0...</td>\n",
       "      <td>34.3</td>\n",
       "      <td>1282</td>\n",
       "      <td>all</td>\n",
       "    </tr>\n",
       "    <tr>\n",
       "      <th>0</th>\n",
       "      <td>cbreg3</td>\n",
       "      <td>&lt;catboost.core.CatBoostRegressor object at 0x0...</td>\n",
       "      <td>5.6</td>\n",
       "      <td>1508</td>\n",
       "      <td>all</td>\n",
       "    </tr>\n",
       "    <tr>\n",
       "      <th>0</th>\n",
       "      <td>cbreg2</td>\n",
       "      <td>&lt;catboost.core.CatBoostRegressor object at 0x0...</td>\n",
       "      <td>24.2</td>\n",
       "      <td>1417</td>\n",
       "      <td>6</td>\n",
       "    </tr>\n",
       "    <tr>\n",
       "      <th>0</th>\n",
       "      <td>xgbreg</td>\n",
       "      <td>XGBRegressor(base_score=0.5, booster='gbtree',...</td>\n",
       "      <td>4.1</td>\n",
       "      <td>1301</td>\n",
       "      <td>all</td>\n",
       "    </tr>\n",
       "    <tr>\n",
       "      <th>0</th>\n",
       "      <td>xgbreg2</td>\n",
       "      <td>XGBRegressor(base_score=0.5, booster='gbtree',...</td>\n",
       "      <td>8.2</td>\n",
       "      <td>1033</td>\n",
       "      <td>all</td>\n",
       "    </tr>\n",
       "  </tbody>\n",
       "</table>\n",
       "</div>"
      ],
      "text/plain": [
       "  model_name                                              model  fit_time_sec  \\\n",
       "0    lgbmreg                                    LGBMRegressor()           0.4   \n",
       "0   lgbmreg2  LGBMRegressor(max_bin=255, num_leaves=100, ran...           0.8   \n",
       "0   lgbmreg3       LGBMRegressor(max_bin=255, random_state=123)           0.5   \n",
       "0   lgbmreg2  LGBMRegressor(max_bin=255, num_leaves=100, ran...           0.4   \n",
       "0  cbreg_cat  <catboost.core.CatBoostRegressor object at 0x0...         106.7   \n",
       "0      cbreg  <catboost.core.CatBoostRegressor object at 0x0...          14.9   \n",
       "0     cbreg2  <catboost.core.CatBoostRegressor object at 0x0...          34.3   \n",
       "0     cbreg3  <catboost.core.CatBoostRegressor object at 0x0...           5.6   \n",
       "0     cbreg2  <catboost.core.CatBoostRegressor object at 0x0...          24.2   \n",
       "0     xgbreg  XGBRegressor(base_score=0.5, booster='gbtree',...           4.1   \n",
       "0    xgbreg2  XGBRegressor(base_score=0.5, booster='gbtree',...           8.2   \n",
       "\n",
       "   RMSE importance_features  \n",
       "0  1418                 all  \n",
       "0  1314                 all  \n",
       "0  1418                 all  \n",
       "0  1502                   5  \n",
       "0  1320                 all  \n",
       "0  1320                 all  \n",
       "0  1282                 all  \n",
       "0  1508                 all  \n",
       "0  1417                   6  \n",
       "0  1301                 all  \n",
       "0  1033                 all  "
      ]
     },
     "execution_count": 78,
     "metadata": {},
     "output_type": "execute_result"
    }
   ],
   "source": [
    "fit_predict(xgbreg2, name='xgbreg2')\n",
    "result_tbl = pd.concat([result_tbl, a], axis = 0) # добавление показателей в общую таблицу\n",
    "result_tbl"
   ]
  },
  {
   "cell_type": "markdown",
   "metadata": {},
   "source": [
    "Уменьшим значение гиперпараметра *max_depth*."
   ]
  },
  {
   "cell_type": "code",
   "execution_count": 79,
   "metadata": {},
   "outputs": [],
   "source": [
    "xgbreg3 = XGBRegressor(max_depth=3, random_state=123)"
   ]
  },
  {
   "cell_type": "code",
   "execution_count": 80,
   "metadata": {},
   "outputs": [
    {
     "data": {
      "text/html": [
       "<div>\n",
       "<style scoped>\n",
       "    .dataframe tbody tr th:only-of-type {\n",
       "        vertical-align: middle;\n",
       "    }\n",
       "\n",
       "    .dataframe tbody tr th {\n",
       "        vertical-align: top;\n",
       "    }\n",
       "\n",
       "    .dataframe thead th {\n",
       "        text-align: right;\n",
       "    }\n",
       "</style>\n",
       "<table border=\"1\" class=\"dataframe\">\n",
       "  <thead>\n",
       "    <tr style=\"text-align: right;\">\n",
       "      <th></th>\n",
       "      <th>model_name</th>\n",
       "      <th>model</th>\n",
       "      <th>fit_time_sec</th>\n",
       "      <th>RMSE</th>\n",
       "      <th>importance_features</th>\n",
       "    </tr>\n",
       "  </thead>\n",
       "  <tbody>\n",
       "    <tr>\n",
       "      <th>0</th>\n",
       "      <td>lgbmreg</td>\n",
       "      <td>LGBMRegressor()</td>\n",
       "      <td>0.4</td>\n",
       "      <td>1418</td>\n",
       "      <td>all</td>\n",
       "    </tr>\n",
       "    <tr>\n",
       "      <th>0</th>\n",
       "      <td>lgbmreg2</td>\n",
       "      <td>LGBMRegressor(max_bin=255, num_leaves=100, ran...</td>\n",
       "      <td>0.8</td>\n",
       "      <td>1314</td>\n",
       "      <td>all</td>\n",
       "    </tr>\n",
       "    <tr>\n",
       "      <th>0</th>\n",
       "      <td>lgbmreg3</td>\n",
       "      <td>LGBMRegressor(max_bin=255, random_state=123)</td>\n",
       "      <td>0.5</td>\n",
       "      <td>1418</td>\n",
       "      <td>all</td>\n",
       "    </tr>\n",
       "    <tr>\n",
       "      <th>0</th>\n",
       "      <td>lgbmreg2</td>\n",
       "      <td>LGBMRegressor(max_bin=255, num_leaves=100, ran...</td>\n",
       "      <td>0.4</td>\n",
       "      <td>1502</td>\n",
       "      <td>5</td>\n",
       "    </tr>\n",
       "    <tr>\n",
       "      <th>0</th>\n",
       "      <td>cbreg_cat</td>\n",
       "      <td>&lt;catboost.core.CatBoostRegressor object at 0x0...</td>\n",
       "      <td>106.7</td>\n",
       "      <td>1320</td>\n",
       "      <td>all</td>\n",
       "    </tr>\n",
       "    <tr>\n",
       "      <th>0</th>\n",
       "      <td>cbreg</td>\n",
       "      <td>&lt;catboost.core.CatBoostRegressor object at 0x0...</td>\n",
       "      <td>14.9</td>\n",
       "      <td>1320</td>\n",
       "      <td>all</td>\n",
       "    </tr>\n",
       "    <tr>\n",
       "      <th>0</th>\n",
       "      <td>cbreg2</td>\n",
       "      <td>&lt;catboost.core.CatBoostRegressor object at 0x0...</td>\n",
       "      <td>34.3</td>\n",
       "      <td>1282</td>\n",
       "      <td>all</td>\n",
       "    </tr>\n",
       "    <tr>\n",
       "      <th>0</th>\n",
       "      <td>cbreg3</td>\n",
       "      <td>&lt;catboost.core.CatBoostRegressor object at 0x0...</td>\n",
       "      <td>5.6</td>\n",
       "      <td>1508</td>\n",
       "      <td>all</td>\n",
       "    </tr>\n",
       "    <tr>\n",
       "      <th>0</th>\n",
       "      <td>cbreg2</td>\n",
       "      <td>&lt;catboost.core.CatBoostRegressor object at 0x0...</td>\n",
       "      <td>24.2</td>\n",
       "      <td>1417</td>\n",
       "      <td>6</td>\n",
       "    </tr>\n",
       "    <tr>\n",
       "      <th>0</th>\n",
       "      <td>xgbreg</td>\n",
       "      <td>XGBRegressor(base_score=0.5, booster='gbtree',...</td>\n",
       "      <td>4.1</td>\n",
       "      <td>1301</td>\n",
       "      <td>all</td>\n",
       "    </tr>\n",
       "    <tr>\n",
       "      <th>0</th>\n",
       "      <td>xgbreg2</td>\n",
       "      <td>XGBRegressor(base_score=0.5, booster='gbtree',...</td>\n",
       "      <td>8.2</td>\n",
       "      <td>1033</td>\n",
       "      <td>all</td>\n",
       "    </tr>\n",
       "    <tr>\n",
       "      <th>0</th>\n",
       "      <td>xgbreg3</td>\n",
       "      <td>XGBRegressor(base_score=0.5, booster='gbtree',...</td>\n",
       "      <td>1.6</td>\n",
       "      <td>1505</td>\n",
       "      <td>all</td>\n",
       "    </tr>\n",
       "  </tbody>\n",
       "</table>\n",
       "</div>"
      ],
      "text/plain": [
       "  model_name                                              model  fit_time_sec  \\\n",
       "0    lgbmreg                                    LGBMRegressor()           0.4   \n",
       "0   lgbmreg2  LGBMRegressor(max_bin=255, num_leaves=100, ran...           0.8   \n",
       "0   lgbmreg3       LGBMRegressor(max_bin=255, random_state=123)           0.5   \n",
       "0   lgbmreg2  LGBMRegressor(max_bin=255, num_leaves=100, ran...           0.4   \n",
       "0  cbreg_cat  <catboost.core.CatBoostRegressor object at 0x0...         106.7   \n",
       "0      cbreg  <catboost.core.CatBoostRegressor object at 0x0...          14.9   \n",
       "0     cbreg2  <catboost.core.CatBoostRegressor object at 0x0...          34.3   \n",
       "0     cbreg3  <catboost.core.CatBoostRegressor object at 0x0...           5.6   \n",
       "0     cbreg2  <catboost.core.CatBoostRegressor object at 0x0...          24.2   \n",
       "0     xgbreg  XGBRegressor(base_score=0.5, booster='gbtree',...           4.1   \n",
       "0    xgbreg2  XGBRegressor(base_score=0.5, booster='gbtree',...           8.2   \n",
       "0    xgbreg3  XGBRegressor(base_score=0.5, booster='gbtree',...           1.6   \n",
       "\n",
       "   RMSE importance_features  \n",
       "0  1418                 all  \n",
       "0  1314                 all  \n",
       "0  1418                 all  \n",
       "0  1502                   5  \n",
       "0  1320                 all  \n",
       "0  1320                 all  \n",
       "0  1282                 all  \n",
       "0  1508                 all  \n",
       "0  1417                   6  \n",
       "0  1301                 all  \n",
       "0  1033                 all  \n",
       "0  1505                 all  "
      ]
     },
     "execution_count": 80,
     "metadata": {},
     "output_type": "execute_result"
    }
   ],
   "source": [
    "fit_predict(xgbreg3, name='xgbreg3')\n",
    "result_tbl = pd.concat([result_tbl, a], axis = 0) # добавление показателей в общую таблицу\n",
    "result_tbl"
   ]
  },
  {
   "cell_type": "markdown",
   "metadata": {},
   "source": [
    "Посмотрим на перечень важных признаков."
   ]
  },
  {
   "cell_type": "code",
   "execution_count": 81,
   "metadata": {},
   "outputs": [
    {
     "data": {
      "image/png": "[encoded data removed]",
      "text/plain": [
       "<Figure size 432x288 with 1 Axes>"
      ]
     },
     "metadata": {
      "needs_background": "light"
     },
     "output_type": "display_data"
    }
   ],
   "source": [
    "xgb.plot_importance(xgbreg2); "
   ]
  },
  {
   "cell_type": "code",
   "execution_count": 82,
   "metadata": {},
   "outputs": [],
   "source": [
    "# функция для вывода таблицы с признаками в порядке убывания важности\n",
    "def xgb_feature_select(model):\n",
    "    feature_important = model.get_booster().get_score()\n",
    "\n",
    "    feature_imp = pd.DataFrame(columns=['value', 'feature'])\n",
    "    feature_imp['value'] = list(feature_important.values())\n",
    "    feature_imp['feature'] = list(feature_important.keys())\n",
    "    feature_imp = feature_imp.sort_values('value', ascending=False)\n",
    "    return feature_imp"
   ]
  },
  {
   "cell_type": "code",
   "execution_count": 83,
   "metadata": {},
   "outputs": [
    {
     "data": {
      "text/html": [
       "<div>\n",
       "<style scoped>\n",
       "    .dataframe tbody tr th:only-of-type {\n",
       "        vertical-align: middle;\n",
       "    }\n",
       "\n",
       "    .dataframe tbody tr th {\n",
       "        vertical-align: top;\n",
       "    }\n",
       "\n",
       "    .dataframe thead th {\n",
       "        text-align: right;\n",
       "    }\n",
       "</style>\n",
       "<table border=\"1\" class=\"dataframe\">\n",
       "  <thead>\n",
       "    <tr style=\"text-align: right;\">\n",
       "      <th></th>\n",
       "      <th>value</th>\n",
       "      <th>feature</th>\n",
       "    </tr>\n",
       "  </thead>\n",
       "  <tbody>\n",
       "    <tr>\n",
       "      <th>1</th>\n",
       "      <td>12918.0</td>\n",
       "      <td>registration_year</td>\n",
       "    </tr>\n",
       "    <tr>\n",
       "      <th>3</th>\n",
       "      <td>12518.0</td>\n",
       "      <td>power</td>\n",
       "    </tr>\n",
       "    <tr>\n",
       "      <th>4</th>\n",
       "      <td>7374.0</td>\n",
       "      <td>model</td>\n",
       "    </tr>\n",
       "    <tr>\n",
       "      <th>5</th>\n",
       "      <td>6830.0</td>\n",
       "      <td>kilometer</td>\n",
       "    </tr>\n",
       "    <tr>\n",
       "      <th>0</th>\n",
       "      <td>5870.0</td>\n",
       "      <td>vehicle_type</td>\n",
       "    </tr>\n",
       "    <tr>\n",
       "      <th>7</th>\n",
       "      <td>4723.0</td>\n",
       "      <td>brand</td>\n",
       "    </tr>\n",
       "    <tr>\n",
       "      <th>8</th>\n",
       "      <td>3528.0</td>\n",
       "      <td>not_repaired</td>\n",
       "    </tr>\n",
       "    <tr>\n",
       "      <th>2</th>\n",
       "      <td>2101.0</td>\n",
       "      <td>gearbox</td>\n",
       "    </tr>\n",
       "    <tr>\n",
       "      <th>6</th>\n",
       "      <td>1888.0</td>\n",
       "      <td>fuel_type</td>\n",
       "    </tr>\n",
       "    <tr>\n",
       "      <th>10</th>\n",
       "      <td>67.0</td>\n",
       "      <td>age</td>\n",
       "    </tr>\n",
       "    <tr>\n",
       "      <th>9</th>\n",
       "      <td>21.0</td>\n",
       "      <td>date_created</td>\n",
       "    </tr>\n",
       "  </tbody>\n",
       "</table>\n",
       "</div>"
      ],
      "text/plain": [
       "      value            feature\n",
       "1   12918.0  registration_year\n",
       "3   12518.0              power\n",
       "4    7374.0              model\n",
       "5    6830.0          kilometer\n",
       "0    5870.0       vehicle_type\n",
       "7    4723.0              brand\n",
       "8    3528.0       not_repaired\n",
       "2    2101.0            gearbox\n",
       "6    1888.0          fuel_type\n",
       "10     67.0                age\n",
       "9      21.0       date_created"
      ]
     },
     "execution_count": 83,
     "metadata": {},
     "output_type": "execute_result"
    }
   ],
   "source": [
    "feature_imp = xgb_feature_select(xgbreg2)\n",
    "feature_imp"
   ]
  },
  {
   "cell_type": "markdown",
   "metadata": {},
   "source": [
    "Обучим модель с использованием 5 самых важных признаков."
   ]
  },
  {
   "cell_type": "code",
   "execution_count": 84,
   "metadata": {},
   "outputs": [],
   "source": [
    "top_features = 5\n",
    "train_features = train_features[list(feature_imp['feature'][:top_features])]"
   ]
  },
  {
   "cell_type": "code",
   "execution_count": 85,
   "metadata": {},
   "outputs": [
    {
     "data": {
      "text/html": [
       "<div>\n",
       "<style scoped>\n",
       "    .dataframe tbody tr th:only-of-type {\n",
       "        vertical-align: middle;\n",
       "    }\n",
       "\n",
       "    .dataframe tbody tr th {\n",
       "        vertical-align: top;\n",
       "    }\n",
       "\n",
       "    .dataframe thead th {\n",
       "        text-align: right;\n",
       "    }\n",
       "</style>\n",
       "<table border=\"1\" class=\"dataframe\">\n",
       "  <thead>\n",
       "    <tr style=\"text-align: right;\">\n",
       "      <th></th>\n",
       "      <th>model_name</th>\n",
       "      <th>model</th>\n",
       "      <th>fit_time_sec</th>\n",
       "      <th>RMSE</th>\n",
       "      <th>importance_features</th>\n",
       "    </tr>\n",
       "  </thead>\n",
       "  <tbody>\n",
       "    <tr>\n",
       "      <th>0</th>\n",
       "      <td>lgbmreg</td>\n",
       "      <td>LGBMRegressor()</td>\n",
       "      <td>0.4</td>\n",
       "      <td>1418</td>\n",
       "      <td>all</td>\n",
       "    </tr>\n",
       "    <tr>\n",
       "      <th>0</th>\n",
       "      <td>lgbmreg2</td>\n",
       "      <td>LGBMRegressor(max_bin=255, num_leaves=100, ran...</td>\n",
       "      <td>0.8</td>\n",
       "      <td>1314</td>\n",
       "      <td>all</td>\n",
       "    </tr>\n",
       "    <tr>\n",
       "      <th>0</th>\n",
       "      <td>lgbmreg3</td>\n",
       "      <td>LGBMRegressor(max_bin=255, random_state=123)</td>\n",
       "      <td>0.5</td>\n",
       "      <td>1418</td>\n",
       "      <td>all</td>\n",
       "    </tr>\n",
       "    <tr>\n",
       "      <th>0</th>\n",
       "      <td>lgbmreg2</td>\n",
       "      <td>LGBMRegressor(max_bin=255, num_leaves=100, ran...</td>\n",
       "      <td>0.4</td>\n",
       "      <td>1502</td>\n",
       "      <td>5</td>\n",
       "    </tr>\n",
       "    <tr>\n",
       "      <th>0</th>\n",
       "      <td>cbreg_cat</td>\n",
       "      <td>&lt;catboost.core.CatBoostRegressor object at 0x0...</td>\n",
       "      <td>106.7</td>\n",
       "      <td>1320</td>\n",
       "      <td>all</td>\n",
       "    </tr>\n",
       "    <tr>\n",
       "      <th>0</th>\n",
       "      <td>cbreg</td>\n",
       "      <td>&lt;catboost.core.CatBoostRegressor object at 0x0...</td>\n",
       "      <td>14.9</td>\n",
       "      <td>1320</td>\n",
       "      <td>all</td>\n",
       "    </tr>\n",
       "    <tr>\n",
       "      <th>0</th>\n",
       "      <td>cbreg2</td>\n",
       "      <td>&lt;catboost.core.CatBoostRegressor object at 0x0...</td>\n",
       "      <td>34.3</td>\n",
       "      <td>1282</td>\n",
       "      <td>all</td>\n",
       "    </tr>\n",
       "    <tr>\n",
       "      <th>0</th>\n",
       "      <td>cbreg3</td>\n",
       "      <td>&lt;catboost.core.CatBoostRegressor object at 0x0...</td>\n",
       "      <td>5.6</td>\n",
       "      <td>1508</td>\n",
       "      <td>all</td>\n",
       "    </tr>\n",
       "    <tr>\n",
       "      <th>0</th>\n",
       "      <td>cbreg2</td>\n",
       "      <td>&lt;catboost.core.CatBoostRegressor object at 0x0...</td>\n",
       "      <td>24.2</td>\n",
       "      <td>1417</td>\n",
       "      <td>6</td>\n",
       "    </tr>\n",
       "    <tr>\n",
       "      <th>0</th>\n",
       "      <td>xgbreg</td>\n",
       "      <td>XGBRegressor(base_score=0.5, booster='gbtree',...</td>\n",
       "      <td>4.1</td>\n",
       "      <td>1301</td>\n",
       "      <td>all</td>\n",
       "    </tr>\n",
       "    <tr>\n",
       "      <th>0</th>\n",
       "      <td>xgbreg2</td>\n",
       "      <td>XGBRegressor(base_score=0.5, booster='gbtree',...</td>\n",
       "      <td>8.2</td>\n",
       "      <td>1033</td>\n",
       "      <td>all</td>\n",
       "    </tr>\n",
       "    <tr>\n",
       "      <th>0</th>\n",
       "      <td>xgbreg3</td>\n",
       "      <td>XGBRegressor(base_score=0.5, booster='gbtree',...</td>\n",
       "      <td>1.6</td>\n",
       "      <td>1505</td>\n",
       "      <td>all</td>\n",
       "    </tr>\n",
       "    <tr>\n",
       "      <th>0</th>\n",
       "      <td>xgbreg2</td>\n",
       "      <td>XGBRegressor(base_score=0.5, booster='gbtree',...</td>\n",
       "      <td>4.2</td>\n",
       "      <td>1162</td>\n",
       "      <td>5</td>\n",
       "    </tr>\n",
       "  </tbody>\n",
       "</table>\n",
       "</div>"
      ],
      "text/plain": [
       "  model_name                                              model  fit_time_sec  \\\n",
       "0    lgbmreg                                    LGBMRegressor()           0.4   \n",
       "0   lgbmreg2  LGBMRegressor(max_bin=255, num_leaves=100, ran...           0.8   \n",
       "0   lgbmreg3       LGBMRegressor(max_bin=255, random_state=123)           0.5   \n",
       "0   lgbmreg2  LGBMRegressor(max_bin=255, num_leaves=100, ran...           0.4   \n",
       "0  cbreg_cat  <catboost.core.CatBoostRegressor object at 0x0...         106.7   \n",
       "0      cbreg  <catboost.core.CatBoostRegressor object at 0x0...          14.9   \n",
       "0     cbreg2  <catboost.core.CatBoostRegressor object at 0x0...          34.3   \n",
       "0     cbreg3  <catboost.core.CatBoostRegressor object at 0x0...           5.6   \n",
       "0     cbreg2  <catboost.core.CatBoostRegressor object at 0x0...          24.2   \n",
       "0     xgbreg  XGBRegressor(base_score=0.5, booster='gbtree',...           4.1   \n",
       "0    xgbreg2  XGBRegressor(base_score=0.5, booster='gbtree',...           8.2   \n",
       "0    xgbreg3  XGBRegressor(base_score=0.5, booster='gbtree',...           1.6   \n",
       "0    xgbreg2  XGBRegressor(base_score=0.5, booster='gbtree',...           4.2   \n",
       "\n",
       "   RMSE importance_features  \n",
       "0  1418                 all  \n",
       "0  1314                 all  \n",
       "0  1418                 all  \n",
       "0  1502                   5  \n",
       "0  1320                 all  \n",
       "0  1320                 all  \n",
       "0  1282                 all  \n",
       "0  1508                 all  \n",
       "0  1417                   6  \n",
       "0  1301                 all  \n",
       "0  1033                 all  \n",
       "0  1505                 all  \n",
       "0  1162                   5  "
      ]
     },
     "execution_count": 85,
     "metadata": {},
     "output_type": "execute_result"
    }
   ],
   "source": [
    "fit_predict(xgbreg2, name='xgbreg2', importance_features=top_features)\n",
    "result_tbl = pd.concat([result_tbl, a], axis = 0) # добавление показателей в общую таблицу\n",
    "result_tbl"
   ]
  },
  {
   "cell_type": "markdown",
   "metadata": {},
   "source": [
    "**Вывод:**\n",
    "\n",
    "Модель XGBRegressor() показала наименьшее значение ошибки RMSE среди других моделей, которые были исследованы выше.\n",
    "\n",
    "Корректировка гиперпараметров привела к уменьшению времени обучения модели (примерно в 3 раза), но при этом значительно увеличилась ошибка. \n",
    "\n",
    "Уменьшение количества признаков привело к уменьшению времени обучения модели, но при этом ошибка увеличилась."
   ]
  },
  {
   "cell_type": "markdown",
   "metadata": {},
   "source": [
    "### LinearRegression"
   ]
  },
  {
   "cell_type": "code",
   "execution_count": 86,
   "metadata": {},
   "outputs": [],
   "source": [
    "train_features, train_target, test_features, test_target = split_df(df_ohe, 'price')"
   ]
  },
  {
   "cell_type": "code",
   "execution_count": 87,
   "metadata": {},
   "outputs": [],
   "source": [
    "linear = LinearRegression()"
   ]
  },
  {
   "cell_type": "code",
   "execution_count": 88,
   "metadata": {},
   "outputs": [
    {
     "data": {
      "text/html": [
       "<div>\n",
       "<style scoped>\n",
       "    .dataframe tbody tr th:only-of-type {\n",
       "        vertical-align: middle;\n",
       "    }\n",
       "\n",
       "    .dataframe tbody tr th {\n",
       "        vertical-align: top;\n",
       "    }\n",
       "\n",
       "    .dataframe thead th {\n",
       "        text-align: right;\n",
       "    }\n",
       "</style>\n",
       "<table border=\"1\" class=\"dataframe\">\n",
       "  <thead>\n",
       "    <tr style=\"text-align: right;\">\n",
       "      <th></th>\n",
       "      <th>model_name</th>\n",
       "      <th>model</th>\n",
       "      <th>fit_time_sec</th>\n",
       "      <th>RMSE</th>\n",
       "      <th>importance_features</th>\n",
       "    </tr>\n",
       "  </thead>\n",
       "  <tbody>\n",
       "    <tr>\n",
       "      <th>0</th>\n",
       "      <td>lgbmreg</td>\n",
       "      <td>LGBMRegressor()</td>\n",
       "      <td>0.4</td>\n",
       "      <td>1418</td>\n",
       "      <td>all</td>\n",
       "    </tr>\n",
       "    <tr>\n",
       "      <th>0</th>\n",
       "      <td>lgbmreg2</td>\n",
       "      <td>LGBMRegressor(max_bin=255, num_leaves=100, ran...</td>\n",
       "      <td>0.8</td>\n",
       "      <td>1314</td>\n",
       "      <td>all</td>\n",
       "    </tr>\n",
       "    <tr>\n",
       "      <th>0</th>\n",
       "      <td>lgbmreg3</td>\n",
       "      <td>LGBMRegressor(max_bin=255, random_state=123)</td>\n",
       "      <td>0.5</td>\n",
       "      <td>1418</td>\n",
       "      <td>all</td>\n",
       "    </tr>\n",
       "    <tr>\n",
       "      <th>0</th>\n",
       "      <td>lgbmreg2</td>\n",
       "      <td>LGBMRegressor(max_bin=255, num_leaves=100, ran...</td>\n",
       "      <td>0.4</td>\n",
       "      <td>1502</td>\n",
       "      <td>5</td>\n",
       "    </tr>\n",
       "    <tr>\n",
       "      <th>0</th>\n",
       "      <td>cbreg_cat</td>\n",
       "      <td>&lt;catboost.core.CatBoostRegressor object at 0x0...</td>\n",
       "      <td>106.7</td>\n",
       "      <td>1320</td>\n",
       "      <td>all</td>\n",
       "    </tr>\n",
       "    <tr>\n",
       "      <th>0</th>\n",
       "      <td>cbreg</td>\n",
       "      <td>&lt;catboost.core.CatBoostRegressor object at 0x0...</td>\n",
       "      <td>14.9</td>\n",
       "      <td>1320</td>\n",
       "      <td>all</td>\n",
       "    </tr>\n",
       "    <tr>\n",
       "      <th>0</th>\n",
       "      <td>cbreg2</td>\n",
       "      <td>&lt;catboost.core.CatBoostRegressor object at 0x0...</td>\n",
       "      <td>34.3</td>\n",
       "      <td>1282</td>\n",
       "      <td>all</td>\n",
       "    </tr>\n",
       "    <tr>\n",
       "      <th>0</th>\n",
       "      <td>cbreg3</td>\n",
       "      <td>&lt;catboost.core.CatBoostRegressor object at 0x0...</td>\n",
       "      <td>5.6</td>\n",
       "      <td>1508</td>\n",
       "      <td>all</td>\n",
       "    </tr>\n",
       "    <tr>\n",
       "      <th>0</th>\n",
       "      <td>cbreg2</td>\n",
       "      <td>&lt;catboost.core.CatBoostRegressor object at 0x0...</td>\n",
       "      <td>24.2</td>\n",
       "      <td>1417</td>\n",
       "      <td>6</td>\n",
       "    </tr>\n",
       "    <tr>\n",
       "      <th>0</th>\n",
       "      <td>xgbreg</td>\n",
       "      <td>XGBRegressor(base_score=0.5, booster='gbtree',...</td>\n",
       "      <td>4.1</td>\n",
       "      <td>1301</td>\n",
       "      <td>all</td>\n",
       "    </tr>\n",
       "    <tr>\n",
       "      <th>0</th>\n",
       "      <td>xgbreg2</td>\n",
       "      <td>XGBRegressor(base_score=0.5, booster='gbtree',...</td>\n",
       "      <td>8.2</td>\n",
       "      <td>1033</td>\n",
       "      <td>all</td>\n",
       "    </tr>\n",
       "    <tr>\n",
       "      <th>0</th>\n",
       "      <td>xgbreg3</td>\n",
       "      <td>XGBRegressor(base_score=0.5, booster='gbtree',...</td>\n",
       "      <td>1.6</td>\n",
       "      <td>1505</td>\n",
       "      <td>all</td>\n",
       "    </tr>\n",
       "    <tr>\n",
       "      <th>0</th>\n",
       "      <td>xgbreg2</td>\n",
       "      <td>XGBRegressor(base_score=0.5, booster='gbtree',...</td>\n",
       "      <td>4.2</td>\n",
       "      <td>1162</td>\n",
       "      <td>5</td>\n",
       "    </tr>\n",
       "    <tr>\n",
       "      <th>0</th>\n",
       "      <td>linear</td>\n",
       "      <td>LinearRegression()</td>\n",
       "      <td>3.8</td>\n",
       "      <td>2138</td>\n",
       "      <td>all</td>\n",
       "    </tr>\n",
       "  </tbody>\n",
       "</table>\n",
       "</div>"
      ],
      "text/plain": [
       "  model_name                                              model  fit_time_sec  \\\n",
       "0    lgbmreg                                    LGBMRegressor()           0.4   \n",
       "0   lgbmreg2  LGBMRegressor(max_bin=255, num_leaves=100, ran...           0.8   \n",
       "0   lgbmreg3       LGBMRegressor(max_bin=255, random_state=123)           0.5   \n",
       "0   lgbmreg2  LGBMRegressor(max_bin=255, num_leaves=100, ran...           0.4   \n",
       "0  cbreg_cat  <catboost.core.CatBoostRegressor object at 0x0...         106.7   \n",
       "0      cbreg  <catboost.core.CatBoostRegressor object at 0x0...          14.9   \n",
       "0     cbreg2  <catboost.core.CatBoostRegressor object at 0x0...          34.3   \n",
       "0     cbreg3  <catboost.core.CatBoostRegressor object at 0x0...           5.6   \n",
       "0     cbreg2  <catboost.core.CatBoostRegressor object at 0x0...          24.2   \n",
       "0     xgbreg  XGBRegressor(base_score=0.5, booster='gbtree',...           4.1   \n",
       "0    xgbreg2  XGBRegressor(base_score=0.5, booster='gbtree',...           8.2   \n",
       "0    xgbreg3  XGBRegressor(base_score=0.5, booster='gbtree',...           1.6   \n",
       "0    xgbreg2  XGBRegressor(base_score=0.5, booster='gbtree',...           4.2   \n",
       "0     linear                                 LinearRegression()           3.8   \n",
       "\n",
       "   RMSE importance_features  \n",
       "0  1418                 all  \n",
       "0  1314                 all  \n",
       "0  1418                 all  \n",
       "0  1502                   5  \n",
       "0  1320                 all  \n",
       "0  1320                 all  \n",
       "0  1282                 all  \n",
       "0  1508                 all  \n",
       "0  1417                   6  \n",
       "0  1301                 all  \n",
       "0  1033                 all  \n",
       "0  1505                 all  \n",
       "0  1162                   5  \n",
       "0  2138                 all  "
      ]
     },
     "execution_count": 88,
     "metadata": {},
     "output_type": "execute_result"
    }
   ],
   "source": [
    "fit_predict(linear, name='linear')\n",
    "result_tbl = pd.concat([result_tbl, a], axis = 0) # добавление показателей в общую таблицу\n",
    "result_tbl"
   ]
  },
  {
   "cell_type": "markdown",
   "metadata": {},
   "source": [
    "**Вывод:**\n",
    "\n",
    "Модель линейной регрессии показала более высокую ошибку, чем модели градиентного бустинга. "
   ]
  },
  {
   "cell_type": "markdown",
   "metadata": {},
   "source": [
    "## Анализ моделей"
   ]
  },
  {
   "cell_type": "markdown",
   "metadata": {},
   "source": [
    "Отсортируем таблицу с результатами по величине ошибки RMSE. Посмотрим на соотношение времени выполнения и величины ошибки RMSE. Выберем лучшую модель."
   ]
  },
  {
   "cell_type": "code",
   "execution_count": 89,
   "metadata": {},
   "outputs": [
    {
     "data": {
      "text/html": [
       "<div>\n",
       "<style scoped>\n",
       "    .dataframe tbody tr th:only-of-type {\n",
       "        vertical-align: middle;\n",
       "    }\n",
       "\n",
       "    .dataframe tbody tr th {\n",
       "        vertical-align: top;\n",
       "    }\n",
       "\n",
       "    .dataframe thead th {\n",
       "        text-align: right;\n",
       "    }\n",
       "</style>\n",
       "<table border=\"1\" class=\"dataframe\">\n",
       "  <thead>\n",
       "    <tr style=\"text-align: right;\">\n",
       "      <th></th>\n",
       "      <th>model_name</th>\n",
       "      <th>model</th>\n",
       "      <th>fit_time_sec</th>\n",
       "      <th>RMSE</th>\n",
       "      <th>importance_features</th>\n",
       "    </tr>\n",
       "  </thead>\n",
       "  <tbody>\n",
       "    <tr>\n",
       "      <th>0</th>\n",
       "      <td>xgbreg2</td>\n",
       "      <td>XGBRegressor(base_score=0.5, booster='gbtree',...</td>\n",
       "      <td>8.2</td>\n",
       "      <td>1033</td>\n",
       "      <td>all</td>\n",
       "    </tr>\n",
       "    <tr>\n",
       "      <th>0</th>\n",
       "      <td>xgbreg2</td>\n",
       "      <td>XGBRegressor(base_score=0.5, booster='gbtree',...</td>\n",
       "      <td>4.2</td>\n",
       "      <td>1162</td>\n",
       "      <td>5</td>\n",
       "    </tr>\n",
       "    <tr>\n",
       "      <th>0</th>\n",
       "      <td>cbreg2</td>\n",
       "      <td>&lt;catboost.core.CatBoostRegressor object at 0x0...</td>\n",
       "      <td>34.3</td>\n",
       "      <td>1282</td>\n",
       "      <td>all</td>\n",
       "    </tr>\n",
       "    <tr>\n",
       "      <th>0</th>\n",
       "      <td>xgbreg</td>\n",
       "      <td>XGBRegressor(base_score=0.5, booster='gbtree',...</td>\n",
       "      <td>4.1</td>\n",
       "      <td>1301</td>\n",
       "      <td>all</td>\n",
       "    </tr>\n",
       "    <tr>\n",
       "      <th>0</th>\n",
       "      <td>lgbmreg2</td>\n",
       "      <td>LGBMRegressor(max_bin=255, num_leaves=100, ran...</td>\n",
       "      <td>0.8</td>\n",
       "      <td>1314</td>\n",
       "      <td>all</td>\n",
       "    </tr>\n",
       "    <tr>\n",
       "      <th>0</th>\n",
       "      <td>cbreg_cat</td>\n",
       "      <td>&lt;catboost.core.CatBoostRegressor object at 0x0...</td>\n",
       "      <td>106.7</td>\n",
       "      <td>1320</td>\n",
       "      <td>all</td>\n",
       "    </tr>\n",
       "    <tr>\n",
       "      <th>0</th>\n",
       "      <td>cbreg</td>\n",
       "      <td>&lt;catboost.core.CatBoostRegressor object at 0x0...</td>\n",
       "      <td>14.9</td>\n",
       "      <td>1320</td>\n",
       "      <td>all</td>\n",
       "    </tr>\n",
       "    <tr>\n",
       "      <th>0</th>\n",
       "      <td>cbreg2</td>\n",
       "      <td>&lt;catboost.core.CatBoostRegressor object at 0x0...</td>\n",
       "      <td>24.2</td>\n",
       "      <td>1417</td>\n",
       "      <td>6</td>\n",
       "    </tr>\n",
       "    <tr>\n",
       "      <th>0</th>\n",
       "      <td>lgbmreg</td>\n",
       "      <td>LGBMRegressor()</td>\n",
       "      <td>0.4</td>\n",
       "      <td>1418</td>\n",
       "      <td>all</td>\n",
       "    </tr>\n",
       "    <tr>\n",
       "      <th>0</th>\n",
       "      <td>lgbmreg3</td>\n",
       "      <td>LGBMRegressor(max_bin=255, random_state=123)</td>\n",
       "      <td>0.5</td>\n",
       "      <td>1418</td>\n",
       "      <td>all</td>\n",
       "    </tr>\n",
       "    <tr>\n",
       "      <th>0</th>\n",
       "      <td>lgbmreg2</td>\n",
       "      <td>LGBMRegressor(max_bin=255, num_leaves=100, ran...</td>\n",
       "      <td>0.4</td>\n",
       "      <td>1502</td>\n",
       "      <td>5</td>\n",
       "    </tr>\n",
       "    <tr>\n",
       "      <th>0</th>\n",
       "      <td>xgbreg3</td>\n",
       "      <td>XGBRegressor(base_score=0.5, booster='gbtree',...</td>\n",
       "      <td>1.6</td>\n",
       "      <td>1505</td>\n",
       "      <td>all</td>\n",
       "    </tr>\n",
       "    <tr>\n",
       "      <th>0</th>\n",
       "      <td>cbreg3</td>\n",
       "      <td>&lt;catboost.core.CatBoostRegressor object at 0x0...</td>\n",
       "      <td>5.6</td>\n",
       "      <td>1508</td>\n",
       "      <td>all</td>\n",
       "    </tr>\n",
       "    <tr>\n",
       "      <th>0</th>\n",
       "      <td>linear</td>\n",
       "      <td>LinearRegression()</td>\n",
       "      <td>3.8</td>\n",
       "      <td>2138</td>\n",
       "      <td>all</td>\n",
       "    </tr>\n",
       "  </tbody>\n",
       "</table>\n",
       "</div>"
      ],
      "text/plain": [
       "  model_name                                              model  fit_time_sec  \\\n",
       "0    xgbreg2  XGBRegressor(base_score=0.5, booster='gbtree',...           8.2   \n",
       "0    xgbreg2  XGBRegressor(base_score=0.5, booster='gbtree',...           4.2   \n",
       "0     cbreg2  <catboost.core.CatBoostRegressor object at 0x0...          34.3   \n",
       "0     xgbreg  XGBRegressor(base_score=0.5, booster='gbtree',...           4.1   \n",
       "0   lgbmreg2  LGBMRegressor(max_bin=255, num_leaves=100, ran...           0.8   \n",
       "0  cbreg_cat  <catboost.core.CatBoostRegressor object at 0x0...         106.7   \n",
       "0      cbreg  <catboost.core.CatBoostRegressor object at 0x0...          14.9   \n",
       "0     cbreg2  <catboost.core.CatBoostRegressor object at 0x0...          24.2   \n",
       "0    lgbmreg                                    LGBMRegressor()           0.4   \n",
       "0   lgbmreg3       LGBMRegressor(max_bin=255, random_state=123)           0.5   \n",
       "0   lgbmreg2  LGBMRegressor(max_bin=255, num_leaves=100, ran...           0.4   \n",
       "0    xgbreg3  XGBRegressor(base_score=0.5, booster='gbtree',...           1.6   \n",
       "0     cbreg3  <catboost.core.CatBoostRegressor object at 0x0...           5.6   \n",
       "0     linear                                 LinearRegression()           3.8   \n",
       "\n",
       "   RMSE importance_features  \n",
       "0  1033                 all  \n",
       "0  1162                   5  \n",
       "0  1282                 all  \n",
       "0  1301                 all  \n",
       "0  1314                 all  \n",
       "0  1320                 all  \n",
       "0  1320                 all  \n",
       "0  1417                   6  \n",
       "0  1418                 all  \n",
       "0  1418                 all  \n",
       "0  1502                   5  \n",
       "0  1505                 all  \n",
       "0  1508                 all  \n",
       "0  2138                 all  "
      ]
     },
     "execution_count": 89,
     "metadata": {},
     "output_type": "execute_result"
    }
   ],
   "source": [
    "result_tbl.sort_values('RMSE')"
   ]
  },
  {
   "cell_type": "markdown",
   "metadata": {},
   "source": [
    "Протестируем модель **xgbreg2**. Посчитаем время, затраченное на получение предсказаний.\n",
    "- xgbreg2 = XGBRegressor(max_depth=10, random_state=123)"
   ]
  },
  {
   "cell_type": "code",
   "execution_count": 90,
   "metadata": {},
   "outputs": [
    {
     "data": {
      "text/html": [
       "<div>\n",
       "<style scoped>\n",
       "    .dataframe tbody tr th:only-of-type {\n",
       "        vertical-align: middle;\n",
       "    }\n",
       "\n",
       "    .dataframe tbody tr th {\n",
       "        vertical-align: top;\n",
       "    }\n",
       "\n",
       "    .dataframe thead th {\n",
       "        text-align: right;\n",
       "    }\n",
       "</style>\n",
       "<table border=\"1\" class=\"dataframe\">\n",
       "  <thead>\n",
       "    <tr style=\"text-align: right;\">\n",
       "      <th></th>\n",
       "      <th>model_name</th>\n",
       "      <th>model</th>\n",
       "      <th>predict_time_sec</th>\n",
       "      <th>RMSE</th>\n",
       "    </tr>\n",
       "  </thead>\n",
       "  <tbody>\n",
       "  </tbody>\n",
       "</table>\n",
       "</div>"
      ],
      "text/plain": [
       "Empty DataFrame\n",
       "Columns: [model_name, model, predict_time_sec, RMSE]\n",
       "Index: []"
      ]
     },
     "execution_count": 90,
     "metadata": {},
     "output_type": "execute_result"
    }
   ],
   "source": [
    "# таблица для накопления результатов тестирования\n",
    "columns = ['model_name', 'model', 'predict_time_sec', 'RMSE']\n",
    "result_tbl2 = pd.DataFrame(columns=columns)\n",
    "result_tbl2"
   ]
  },
  {
   "cell_type": "markdown",
   "metadata": {},
   "source": [
    "Значения полей таблицы с результатами:\n",
    "- **model_name** – название модели,\n",
    "- **model** – конфигурация модели,\n",
    "- **predict_time_sec** – время, за которое получены предсказания, в секундах,\n",
    "- **RMSE** – среднеквадратическая ошибка на тестовой выборке."
   ]
  },
  {
   "cell_type": "code",
   "execution_count": 91,
   "metadata": {},
   "outputs": [],
   "source": [
    "# функция для тестирования модели и расчета времени, за которое получены предсказания\n",
    "def test(model, name):\n",
    "    model.fit(train_features, train_target)\n",
    "    \n",
    "    start_predict_time = time.time()\n",
    "    predictions = model.predict(test_features)\n",
    "    predict_time = time.time() - start_predict_time\n",
    "    \n",
    "    global a\n",
    "    columns = ['model_name', 'model', 'predict_time_sec', 'RMSE']\n",
    "    rows = [[name, model, round(predict_time, 1), int(rmse(test_target, predictions))]]\n",
    "    a = pd.DataFrame(data=rows, columns=columns)"
   ]
  },
  {
   "cell_type": "code",
   "execution_count": 92,
   "metadata": {},
   "outputs": [],
   "source": [
    "train_features, train_target, test_features, test_target = split_df(df_ordinal, 'price')"
   ]
  },
  {
   "cell_type": "code",
   "execution_count": 93,
   "metadata": {},
   "outputs": [],
   "source": [
    "test(xgbreg2, name='xgbreg2')\n",
    "result_tbl2 = pd.concat([result_tbl2, a], axis = 0) # добавление показателей в общую таблицу"
   ]
  },
  {
   "cell_type": "code",
   "execution_count": 95,
   "metadata": {},
   "outputs": [
    {
     "name": "stdout",
     "output_type": "stream",
     "text": [
      "\u001b[1mРезультаты выбранной модели на этапе обучения\u001b[0;0m\n"
     ]
    },
    {
     "data": {
      "text/html": [
       "<div>\n",
       "<style scoped>\n",
       "    .dataframe tbody tr th:only-of-type {\n",
       "        vertical-align: middle;\n",
       "    }\n",
       "\n",
       "    .dataframe tbody tr th {\n",
       "        vertical-align: top;\n",
       "    }\n",
       "\n",
       "    .dataframe thead th {\n",
       "        text-align: right;\n",
       "    }\n",
       "</style>\n",
       "<table border=\"1\" class=\"dataframe\">\n",
       "  <thead>\n",
       "    <tr style=\"text-align: right;\">\n",
       "      <th></th>\n",
       "      <th>model_name</th>\n",
       "      <th>model</th>\n",
       "      <th>fit_time_sec</th>\n",
       "      <th>RMSE</th>\n",
       "      <th>importance_features</th>\n",
       "    </tr>\n",
       "  </thead>\n",
       "  <tbody>\n",
       "    <tr>\n",
       "      <th>0</th>\n",
       "      <td>xgbreg2</td>\n",
       "      <td>XGBRegressor(base_score=0.5, booster='gbtree',...</td>\n",
       "      <td>8.2</td>\n",
       "      <td>1033</td>\n",
       "      <td>all</td>\n",
       "    </tr>\n",
       "  </tbody>\n",
       "</table>\n",
       "</div>"
      ],
      "text/plain": [
       "  model_name                                              model  fit_time_sec  \\\n",
       "0    xgbreg2  XGBRegressor(base_score=0.5, booster='gbtree',...           8.2   \n",
       "\n",
       "   RMSE importance_features  \n",
       "0  1033                 all  "
      ]
     },
     "execution_count": 95,
     "metadata": {},
     "output_type": "execute_result"
    }
   ],
   "source": [
    "print(\"\\033[1m\" + \"Результаты выбранной модели на этапе обучения\" + \"\\033[0;0m\")\n",
    "result_tbl.loc[(result_tbl.model_name == 'xgbreg2') & (result_tbl.importance_features == 'all')]"
   ]
  },
  {
   "cell_type": "code",
   "execution_count": 96,
   "metadata": {},
   "outputs": [
    {
     "name": "stdout",
     "output_type": "stream",
     "text": [
      "\u001b[1mРезультаты выбранной модели на этапе тестирования\u001b[0;0m\n"
     ]
    },
    {
     "data": {
      "text/html": [
       "<div>\n",
       "<style scoped>\n",
       "    .dataframe tbody tr th:only-of-type {\n",
       "        vertical-align: middle;\n",
       "    }\n",
       "\n",
       "    .dataframe tbody tr th {\n",
       "        vertical-align: top;\n",
       "    }\n",
       "\n",
       "    .dataframe thead th {\n",
       "        text-align: right;\n",
       "    }\n",
       "</style>\n",
       "<table border=\"1\" class=\"dataframe\">\n",
       "  <thead>\n",
       "    <tr style=\"text-align: right;\">\n",
       "      <th></th>\n",
       "      <th>model_name</th>\n",
       "      <th>model</th>\n",
       "      <th>predict_time_sec</th>\n",
       "      <th>RMSE</th>\n",
       "    </tr>\n",
       "  </thead>\n",
       "  <tbody>\n",
       "    <tr>\n",
       "      <th>0</th>\n",
       "      <td>xgbreg2</td>\n",
       "      <td>XGBRegressor(base_score=0.5, booster='gbtree',...</td>\n",
       "      <td>0.0</td>\n",
       "      <td>1365</td>\n",
       "    </tr>\n",
       "  </tbody>\n",
       "</table>\n",
       "</div>"
      ],
      "text/plain": [
       "  model_name                                              model  \\\n",
       "0    xgbreg2  XGBRegressor(base_score=0.5, booster='gbtree',...   \n",
       "\n",
       "   predict_time_sec  RMSE  \n",
       "0               0.0  1365  "
      ]
     },
     "execution_count": 96,
     "metadata": {},
     "output_type": "execute_result"
    }
   ],
   "source": [
    "print(\"\\033[1m\" + \"Результаты выбранной модели на этапе тестирования\" + \"\\033[0;0m\")\n",
    "result_tbl2"
   ]
  },
  {
   "cell_type": "markdown",
   "metadata": {},
   "source": [
    "## Общий вывод"
   ]
  },
  {
   "cell_type": "markdown",
   "metadata": {},
   "source": [
    "В ходе проекта были исследованы исторические данные сервиса по продаже автомобилей: технические характеристики, комплектации и цены автомобилей, - с целью построения модели для определения стоимости.\n",
    "\n",
    "На этапе **подготовки данных** были удалены поля, не влияющие на целевой признак, выявлены и удалены явные дубликаты, обработаны пропуски и некорректные значения в данных, категориальные признаки преобразованы в численные при помощи техник OHE и OrdinalEncoder.\n",
    "\n",
    "В **п.2** было обучено три модели градиентного бустинга: \n",
    "- **LGBMRegressor()**,\n",
    "- **CatBoostRegressor()**,\n",
    "- **XGBRegressor()**.\n",
    "\n",
    "Было рассмотрено качество и скорость работы моделей градиентного бустинга по следующему алгоритму:\n",
    "- обучена модель со значениями гиперпараметров по умолчанию;\n",
    "- подобраны значения нескольких гиперпараметров, которые влияют как на качество, так и на скорость обучения, с помощью GridSearchCV();\n",
    "- обучена модель с подобранными гиперпараметрами;\n",
    "- увеличена скорость работы модели корректировкой гиперпараметров;\n",
    "- увеличена скорость работы модели отбором признаков.\n",
    "\n",
    "Для сравнения также была обучена модель линейной регрессии **LinearRegression()**.\n",
    "\n",
    "Лучшие результаты показала модель **XGBRegressor(max_depth=10, random_state=123)**:\n",
    "- время обучения - 8 секунд,\n",
    "- время предсказания - 0 секунд,\n",
    "- RMSE на обучающей выборке - 1033,\n",
    "- RMSE на тестовой выборке - 1365."
   ]
  },
  {
   "cell_type": "code",
   "execution_count": null,
   "metadata": {},
   "outputs": [],
   "source": []
  }
 ],
 "metadata": {
  "ExecuteTimeLog": [
   {
    "duration": 408,
    "start_time": "2022-05-09T08:20:44.776Z"
   },
   {
    "duration": 867,
    "start_time": "2022-05-09T08:21:31.343Z"
   },
   {
    "duration": 123,
    "start_time": "2022-05-09T08:21:52.531Z"
   },
   {
    "duration": 99,
    "start_time": "2022-05-09T08:22:07.830Z"
   },
   {
    "duration": 13,
    "start_time": "2022-05-09T08:23:01.998Z"
   },
   {
    "duration": 62,
    "start_time": "2022-05-09T08:26:22.022Z"
   },
   {
    "duration": 22,
    "start_time": "2022-05-09T08:26:27.711Z"
   },
   {
    "duration": 19,
    "start_time": "2022-05-09T08:26:51.596Z"
   },
   {
    "duration": 21,
    "start_time": "2022-05-09T08:27:08.339Z"
   },
   {
    "duration": 23,
    "start_time": "2022-05-09T08:27:30.290Z"
   },
   {
    "duration": 22,
    "start_time": "2022-05-09T08:27:59.965Z"
   },
   {
    "duration": 24,
    "start_time": "2022-05-09T08:29:37.539Z"
   },
   {
    "duration": 32,
    "start_time": "2022-05-09T08:29:42.828Z"
   },
   {
    "duration": 31,
    "start_time": "2022-05-09T08:30:52.016Z"
   },
   {
    "duration": 28,
    "start_time": "2022-05-09T08:31:24.315Z"
   },
   {
    "duration": 20,
    "start_time": "2022-05-09T08:32:15.203Z"
   },
   {
    "duration": 101,
    "start_time": "2022-05-09T08:34:35.315Z"
   },
   {
    "duration": 97,
    "start_time": "2022-05-09T08:37:05.697Z"
   },
   {
    "duration": 101,
    "start_time": "2022-05-09T08:37:15.570Z"
   },
   {
    "duration": 23,
    "start_time": "2022-05-09T08:37:49.364Z"
   },
   {
    "duration": 130,
    "start_time": "2022-05-09T08:38:02.709Z"
   },
   {
    "duration": 414,
    "start_time": "2022-05-09T08:57:03.793Z"
   },
   {
    "duration": 131,
    "start_time": "2022-05-09T08:58:51.380Z"
   },
   {
    "duration": 364,
    "start_time": "2022-05-09T09:01:44.686Z"
   },
   {
    "duration": 9,
    "start_time": "2022-05-09T09:33:01.024Z"
   },
   {
    "duration": 12,
    "start_time": "2022-05-09T09:33:19.797Z"
   },
   {
    "duration": 20,
    "start_time": "2022-05-09T09:35:04.708Z"
   },
   {
    "duration": 9,
    "start_time": "2022-05-09T10:12:07.342Z"
   },
   {
    "duration": 28,
    "start_time": "2022-05-09T11:15:09.130Z"
   },
   {
    "duration": 27,
    "start_time": "2022-05-09T11:18:29.477Z"
   },
   {
    "duration": 12,
    "start_time": "2022-05-09T11:20:34.425Z"
   },
   {
    "duration": 16,
    "start_time": "2022-05-09T11:25:40.144Z"
   },
   {
    "duration": 17,
    "start_time": "2022-05-09T11:28:18.858Z"
   },
   {
    "duration": 6,
    "start_time": "2022-05-09T11:28:31.837Z"
   },
   {
    "duration": 7,
    "start_time": "2022-05-09T11:28:57.573Z"
   },
   {
    "duration": 8,
    "start_time": "2022-05-09T11:29:12.581Z"
   },
   {
    "duration": 17,
    "start_time": "2022-05-09T11:32:53.722Z"
   },
   {
    "duration": 669,
    "start_time": "2022-05-09T11:47:28.522Z"
   },
   {
    "duration": 120843,
    "start_time": "2022-05-09T11:47:51.070Z"
   },
   {
    "duration": 7,
    "start_time": "2022-05-09T12:05:48.868Z"
   },
   {
    "duration": 4,
    "start_time": "2022-05-09T12:10:19.816Z"
   },
   {
    "duration": 4,
    "start_time": "2022-05-09T12:10:26.369Z"
   },
   {
    "duration": 24,
    "start_time": "2022-05-09T12:11:00.366Z"
   },
   {
    "duration": 23,
    "start_time": "2022-05-09T12:11:42.225Z"
   },
   {
    "duration": 32,
    "start_time": "2022-05-09T12:12:10.081Z"
   },
   {
    "duration": 23,
    "start_time": "2022-05-09T12:12:31.626Z"
   },
   {
    "duration": 38,
    "start_time": "2022-05-09T12:14:06.200Z"
   },
   {
    "duration": 539,
    "start_time": "2022-05-10T11:20:55.789Z"
   },
   {
    "duration": 1206,
    "start_time": "2022-05-10T11:20:56.331Z"
   },
   {
    "duration": 262,
    "start_time": "2022-05-10T11:20:57.539Z"
   },
   {
    "duration": 150,
    "start_time": "2022-05-10T11:20:57.804Z"
   },
   {
    "duration": 414,
    "start_time": "2022-05-10T11:20:57.956Z"
   },
   {
    "duration": 24,
    "start_time": "2022-05-10T11:20:58.373Z"
   },
   {
    "duration": 456,
    "start_time": "2022-05-10T11:20:58.399Z"
   },
   {
    "duration": 142,
    "start_time": "2022-05-10T11:20:58.856Z"
   },
   {
    "duration": 12,
    "start_time": "2022-05-10T11:20:59.000Z"
   },
   {
    "duration": 18,
    "start_time": "2022-05-10T11:20:59.015Z"
   },
   {
    "duration": 23,
    "start_time": "2022-05-10T11:20:59.034Z"
   },
   {
    "duration": 4,
    "start_time": "2022-05-10T11:21:10.665Z"
   },
   {
    "duration": 66,
    "start_time": "2022-05-10T11:22:37.892Z"
   },
   {
    "duration": 13,
    "start_time": "2022-05-10T11:22:47.482Z"
   },
   {
    "duration": 10,
    "start_time": "2022-05-10T12:03:15.189Z"
   },
   {
    "duration": 919,
    "start_time": "2022-05-10T12:03:22.020Z"
   },
   {
    "duration": 3,
    "start_time": "2022-05-10T12:03:59.211Z"
   },
   {
    "duration": 410,
    "start_time": "2022-05-10T12:04:03.863Z"
   },
   {
    "duration": 426,
    "start_time": "2022-05-10T12:04:28.283Z"
   },
   {
    "duration": 476,
    "start_time": "2022-05-10T12:04:44.046Z"
   },
   {
    "duration": 520,
    "start_time": "2022-05-10T12:04:58.620Z"
   },
   {
    "duration": 457,
    "start_time": "2022-05-10T12:05:31.442Z"
   },
   {
    "duration": 61,
    "start_time": "2022-05-10T12:10:28.704Z"
   },
   {
    "duration": 76,
    "start_time": "2022-05-10T12:10:41.051Z"
   },
   {
    "duration": 62,
    "start_time": "2022-05-10T12:10:51.606Z"
   },
   {
    "duration": 60,
    "start_time": "2022-05-10T12:11:34.575Z"
   },
   {
    "duration": 350,
    "start_time": "2022-05-10T12:11:52.024Z"
   },
   {
    "duration": 361,
    "start_time": "2022-05-10T12:12:00.861Z"
   },
   {
    "duration": 139,
    "start_time": "2022-05-10T12:12:37.447Z"
   },
   {
    "duration": 181,
    "start_time": "2022-05-10T12:13:21.891Z"
   },
   {
    "duration": 175,
    "start_time": "2022-05-10T12:13:27.547Z"
   },
   {
    "duration": 181,
    "start_time": "2022-05-10T12:13:39.686Z"
   },
   {
    "duration": 354,
    "start_time": "2022-05-10T12:21:38.781Z"
   },
   {
    "duration": 355,
    "start_time": "2022-05-10T12:21:59.154Z"
   },
   {
    "duration": 443,
    "start_time": "2022-05-10T12:22:13.430Z"
   },
   {
    "duration": 52,
    "start_time": "2022-05-10T12:24:57.726Z"
   },
   {
    "duration": 448,
    "start_time": "2022-05-10T12:26:10.417Z"
   },
   {
    "duration": 527,
    "start_time": "2022-05-10T12:26:20.194Z"
   },
   {
    "duration": 46,
    "start_time": "2022-05-10T12:29:19.269Z"
   },
   {
    "duration": 13,
    "start_time": "2022-05-10T12:37:22.485Z"
   },
   {
    "duration": 27,
    "start_time": "2022-05-10T12:41:51.384Z"
   },
   {
    "duration": 18,
    "start_time": "2022-05-10T12:42:21.628Z"
   },
   {
    "duration": 19,
    "start_time": "2022-05-10T12:43:50.770Z"
   },
   {
    "duration": 90,
    "start_time": "2022-05-10T12:45:56.866Z"
   },
   {
    "duration": 159,
    "start_time": "2022-05-10T12:47:16.089Z"
   },
   {
    "duration": 109,
    "start_time": "2022-05-10T12:47:43.621Z"
   },
   {
    "duration": 72,
    "start_time": "2022-05-10T12:47:53.462Z"
   },
   {
    "duration": 109,
    "start_time": "2022-05-10T12:49:25.836Z"
   },
   {
    "duration": 80,
    "start_time": "2022-05-10T12:49:31.571Z"
   },
   {
    "duration": 18,
    "start_time": "2022-05-10T12:55:43.653Z"
   },
   {
    "duration": 23,
    "start_time": "2022-05-10T12:56:00.462Z"
   },
   {
    "duration": 16,
    "start_time": "2022-05-10T12:56:09.259Z"
   },
   {
    "duration": 18,
    "start_time": "2022-05-10T12:58:03.661Z"
   },
   {
    "duration": 16,
    "start_time": "2022-05-10T12:58:04.378Z"
   },
   {
    "duration": 17,
    "start_time": "2022-05-10T13:49:46.106Z"
   },
   {
    "duration": 16,
    "start_time": "2022-05-10T13:49:48.270Z"
   },
   {
    "duration": 16,
    "start_time": "2022-05-10T13:50:12.816Z"
   },
   {
    "duration": 19,
    "start_time": "2022-05-10T13:50:34.967Z"
   },
   {
    "duration": 22,
    "start_time": "2022-05-10T13:50:47.813Z"
   },
   {
    "duration": 17,
    "start_time": "2022-05-10T13:50:58.511Z"
   },
   {
    "duration": 52,
    "start_time": "2022-05-10T13:52:50.869Z"
   },
   {
    "duration": 9,
    "start_time": "2022-05-10T13:54:15.081Z"
   },
   {
    "duration": 85,
    "start_time": "2022-05-10T13:55:07.160Z"
   },
   {
    "duration": 98,
    "start_time": "2022-05-10T13:55:34.873Z"
   },
   {
    "duration": 87,
    "start_time": "2022-05-10T13:56:04.065Z"
   },
   {
    "duration": 132,
    "start_time": "2022-05-10T13:59:44.435Z"
   },
   {
    "duration": 140,
    "start_time": "2022-05-10T14:00:20.980Z"
   },
   {
    "duration": 89,
    "start_time": "2022-05-10T14:00:29.666Z"
   },
   {
    "duration": 112,
    "start_time": "2022-05-10T14:07:44.035Z"
   },
   {
    "duration": 139,
    "start_time": "2022-05-10T14:08:00.887Z"
   },
   {
    "duration": 6,
    "start_time": "2022-05-10T14:09:10.871Z"
   },
   {
    "duration": 4,
    "start_time": "2022-05-10T14:09:20.104Z"
   },
   {
    "duration": 3,
    "start_time": "2022-05-10T14:10:27.578Z"
   },
   {
    "duration": 22,
    "start_time": "2022-05-10T14:11:08.693Z"
   },
   {
    "duration": 681328,
    "start_time": "2022-05-10T14:13:37.905Z"
   },
   {
    "duration": 4,
    "start_time": "2022-05-10T14:25:05.225Z"
   },
   {
    "duration": 1044,
    "start_time": "2022-05-10T14:25:05.231Z"
   },
   {
    "duration": 163,
    "start_time": "2022-05-10T14:25:06.277Z"
   },
   {
    "duration": 111,
    "start_time": "2022-05-10T14:25:06.442Z"
   },
   {
    "duration": 276,
    "start_time": "2022-05-10T14:25:06.554Z"
   },
   {
    "duration": 14,
    "start_time": "2022-05-10T14:25:06.832Z"
   },
   {
    "duration": 482,
    "start_time": "2022-05-10T14:25:06.848Z"
   },
   {
    "duration": 151,
    "start_time": "2022-05-10T14:25:07.332Z"
   },
   {
    "duration": 18,
    "start_time": "2022-05-10T14:25:07.491Z"
   },
   {
    "duration": 25,
    "start_time": "2022-05-10T14:25:07.512Z"
   },
   {
    "duration": 3,
    "start_time": "2022-05-10T14:25:07.539Z"
   },
   {
    "duration": 491,
    "start_time": "2022-05-10T14:25:07.544Z"
   },
   {
    "duration": 35,
    "start_time": "2022-05-10T14:25:08.037Z"
   },
   {
    "duration": 193,
    "start_time": "2022-05-10T14:25:08.073Z"
   },
   {
    "duration": 363,
    "start_time": "2022-05-10T14:25:08.268Z"
   },
   {
    "duration": 44,
    "start_time": "2022-05-10T14:25:08.633Z"
   },
   {
    "duration": 438,
    "start_time": "2022-05-10T14:25:08.678Z"
   },
   {
    "duration": 41,
    "start_time": "2022-05-10T14:25:09.118Z"
   },
   {
    "duration": 50,
    "start_time": "2022-05-10T14:25:14.082Z"
   },
   {
    "duration": 4,
    "start_time": "2022-05-10T14:25:46.816Z"
   },
   {
    "duration": 429946,
    "start_time": "2022-05-10T14:26:51.776Z"
   },
   {
    "duration": 138,
    "start_time": "2022-05-10T14:34:05.823Z"
   },
   {
    "duration": 1779,
    "start_time": "2022-05-10T14:34:22.445Z"
   },
   {
    "duration": 16,
    "start_time": "2022-05-10T14:34:38.549Z"
   },
   {
    "duration": 17,
    "start_time": "2022-05-10T14:34:41.812Z"
   },
   {
    "duration": 1628,
    "start_time": "2022-05-10T14:35:37.002Z"
   },
   {
    "duration": 1635,
    "start_time": "2022-05-10T14:35:49.020Z"
   },
   {
    "duration": 3,
    "start_time": "2022-05-10T14:37:56.883Z"
   },
   {
    "duration": 4,
    "start_time": "2022-05-10T14:38:39.806Z"
   },
   {
    "duration": 5,
    "start_time": "2022-05-10T14:40:12.859Z"
   },
   {
    "duration": 818929,
    "start_time": "2022-05-10T14:40:37.252Z"
   },
   {
    "duration": 1217,
    "start_time": "2022-05-10T17:48:17.386Z"
   },
   {
    "duration": 8513,
    "start_time": "2022-05-10T17:48:18.607Z"
   },
   {
    "duration": 197,
    "start_time": "2022-05-10T17:48:27.122Z"
   },
   {
    "duration": 138,
    "start_time": "2022-05-10T17:48:27.325Z"
   },
   {
    "duration": 384,
    "start_time": "2022-05-10T17:48:27.468Z"
   },
   {
    "duration": 22,
    "start_time": "2022-05-10T17:48:27.854Z"
   },
   {
    "duration": 783,
    "start_time": "2022-05-10T17:48:27.878Z"
   },
   {
    "duration": 187,
    "start_time": "2022-05-10T17:48:28.663Z"
   },
   {
    "duration": 15,
    "start_time": "2022-05-10T17:48:28.853Z"
   },
   {
    "duration": 58,
    "start_time": "2022-05-10T17:48:28.870Z"
   },
   {
    "duration": 6,
    "start_time": "2022-05-10T17:48:28.936Z"
   },
   {
    "duration": 960,
    "start_time": "2022-05-10T17:48:28.946Z"
   },
   {
    "duration": 80,
    "start_time": "2022-05-10T17:48:29.909Z"
   },
   {
    "duration": 305,
    "start_time": "2022-05-10T17:48:29.993Z"
   },
   {
    "duration": 509,
    "start_time": "2022-05-10T17:48:30.300Z"
   },
   {
    "duration": 106,
    "start_time": "2022-05-10T17:48:30.812Z"
   },
   {
    "duration": 595,
    "start_time": "2022-05-10T17:48:30.923Z"
   },
   {
    "duration": 82,
    "start_time": "2022-05-10T17:48:31.524Z"
   },
   {
    "duration": 158,
    "start_time": "2022-05-10T17:48:31.609Z"
   },
   {
    "duration": 0,
    "start_time": "2022-05-10T17:48:31.770Z"
   },
   {
    "duration": 1,
    "start_time": "2022-05-10T17:48:31.773Z"
   },
   {
    "duration": 32527,
    "start_time": "2022-05-10T17:49:19.103Z"
   },
   {
    "duration": 45,
    "start_time": "2022-05-10T17:50:20.034Z"
   },
   {
    "duration": 152,
    "start_time": "2022-05-10T17:50:26.888Z"
   },
   {
    "duration": 175,
    "start_time": "2022-05-10T17:57:28.270Z"
   },
   {
    "duration": 240,
    "start_time": "2022-05-10T17:58:16.685Z"
   },
   {
    "duration": 147,
    "start_time": "2022-05-10T17:58:56.354Z"
   },
   {
    "duration": 155,
    "start_time": "2022-05-10T18:06:19.773Z"
   },
   {
    "duration": 148,
    "start_time": "2022-05-10T18:06:28.506Z"
   },
   {
    "duration": 707,
    "start_time": "2022-05-10T18:06:42.521Z"
   },
   {
    "duration": 148,
    "start_time": "2022-05-10T18:07:07.641Z"
   },
   {
    "duration": 679,
    "start_time": "2022-05-10T18:07:55.224Z"
   },
   {
    "duration": 166,
    "start_time": "2022-05-10T18:07:57.125Z"
   },
   {
    "duration": 6,
    "start_time": "2022-05-10T18:08:43.479Z"
   },
   {
    "duration": 156932,
    "start_time": "2022-05-10T18:09:01.313Z"
   },
   {
    "duration": 556,
    "start_time": "2022-05-10T18:11:38.248Z"
   },
   {
    "duration": 148,
    "start_time": "2022-05-10T18:11:42.363Z"
   },
   {
    "duration": 544,
    "start_time": "2022-05-10T18:11:59.816Z"
   },
   {
    "duration": 165,
    "start_time": "2022-05-10T18:12:01.239Z"
   },
   {
    "duration": 15296,
    "start_time": "2022-05-10T18:17:40.717Z"
   },
   {
    "duration": 252,
    "start_time": "2022-05-10T18:17:59.033Z"
   },
   {
    "duration": 90,
    "start_time": "2022-05-10T18:20:44.188Z"
   },
   {
    "duration": 4,
    "start_time": "2022-05-10T18:21:13.877Z"
   },
   {
    "duration": 6928,
    "start_time": "2022-05-10T18:21:13.884Z"
   },
   {
    "duration": 215,
    "start_time": "2022-05-10T18:21:20.815Z"
   },
   {
    "duration": 144,
    "start_time": "2022-05-10T18:21:21.034Z"
   },
   {
    "duration": 415,
    "start_time": "2022-05-10T18:21:21.182Z"
   },
   {
    "duration": 37,
    "start_time": "2022-05-10T18:21:21.600Z"
   },
   {
    "duration": 798,
    "start_time": "2022-05-10T18:21:21.640Z"
   },
   {
    "duration": 214,
    "start_time": "2022-05-10T18:21:22.441Z"
   },
   {
    "duration": 22,
    "start_time": "2022-05-10T18:21:22.658Z"
   },
   {
    "duration": 70,
    "start_time": "2022-05-10T18:21:22.685Z"
   },
   {
    "duration": 7,
    "start_time": "2022-05-10T18:21:22.757Z"
   },
   {
    "duration": 789,
    "start_time": "2022-05-10T18:21:22.768Z"
   },
   {
    "duration": 87,
    "start_time": "2022-05-10T18:21:23.561Z"
   },
   {
    "duration": 297,
    "start_time": "2022-05-10T18:21:23.655Z"
   },
   {
    "duration": 534,
    "start_time": "2022-05-10T18:21:23.960Z"
   },
   {
    "duration": 96,
    "start_time": "2022-05-10T18:21:24.497Z"
   },
   {
    "duration": 753,
    "start_time": "2022-05-10T18:21:24.595Z"
   },
   {
    "duration": 96,
    "start_time": "2022-05-10T18:21:25.352Z"
   },
   {
    "duration": 38057,
    "start_time": "2022-05-10T18:21:25.455Z"
   },
   {
    "duration": 71,
    "start_time": "2022-05-10T18:22:03.514Z"
   },
   {
    "duration": 188,
    "start_time": "2022-05-10T18:22:03.588Z"
   },
   {
    "duration": 6,
    "start_time": "2022-05-10T18:22:03.779Z"
   },
   {
    "duration": 2162,
    "start_time": "2022-05-10T18:22:50.756Z"
   },
   {
    "duration": 43,
    "start_time": "2022-05-10T18:22:55.378Z"
   },
   {
    "duration": 167,
    "start_time": "2022-05-10T18:22:59.370Z"
   },
   {
    "duration": 544,
    "start_time": "2022-05-10T18:24:01.813Z"
   },
   {
    "duration": 28,
    "start_time": "2022-05-10T18:24:04.306Z"
   },
   {
    "duration": 171,
    "start_time": "2022-05-10T18:24:05.560Z"
   },
   {
    "duration": 27,
    "start_time": "2022-05-10T18:24:47.441Z"
   },
   {
    "duration": 8,
    "start_time": "2022-05-10T18:24:57.255Z"
   },
   {
    "duration": 517,
    "start_time": "2022-05-10T18:27:23.191Z"
   },
   {
    "duration": 417,
    "start_time": "2022-05-10T18:28:05.900Z"
   },
   {
    "duration": 421,
    "start_time": "2022-05-10T18:28:10.990Z"
   },
   {
    "duration": 728,
    "start_time": "2022-05-10T18:28:35.091Z"
   },
   {
    "duration": 4,
    "start_time": "2022-05-10T18:30:00.720Z"
   },
   {
    "duration": 1316,
    "start_time": "2022-05-10T18:30:00.727Z"
   },
   {
    "duration": 189,
    "start_time": "2022-05-10T18:30:02.046Z"
   },
   {
    "duration": 145,
    "start_time": "2022-05-10T18:30:02.239Z"
   },
   {
    "duration": 400,
    "start_time": "2022-05-10T18:30:02.389Z"
   },
   {
    "duration": 41,
    "start_time": "2022-05-10T18:30:02.792Z"
   },
   {
    "duration": 941,
    "start_time": "2022-05-10T18:30:02.836Z"
   },
   {
    "duration": 190,
    "start_time": "2022-05-10T18:30:03.780Z"
   },
   {
    "duration": 18,
    "start_time": "2022-05-10T18:30:03.973Z"
   },
   {
    "duration": 75,
    "start_time": "2022-05-10T18:30:03.994Z"
   },
   {
    "duration": 6,
    "start_time": "2022-05-10T18:30:04.072Z"
   },
   {
    "duration": 677,
    "start_time": "2022-05-10T18:30:04.081Z"
   },
   {
    "duration": 80,
    "start_time": "2022-05-10T18:30:04.761Z"
   },
   {
    "duration": 286,
    "start_time": "2022-05-10T18:30:04.846Z"
   },
   {
    "duration": 636,
    "start_time": "2022-05-10T18:30:05.137Z"
   },
   {
    "duration": 92,
    "start_time": "2022-05-10T18:30:05.776Z"
   },
   {
    "duration": 614,
    "start_time": "2022-05-10T18:30:05.870Z"
   },
   {
    "duration": 90,
    "start_time": "2022-05-10T18:30:06.487Z"
   },
   {
    "duration": 56,
    "start_time": "2022-05-10T18:30:06.580Z"
   },
   {
    "duration": 36373,
    "start_time": "2022-05-10T18:30:06.639Z"
   },
   {
    "duration": 285,
    "start_time": "2022-05-10T18:30:43.015Z"
   },
   {
    "duration": 7,
    "start_time": "2022-05-10T18:30:43.302Z"
   },
   {
    "duration": 529,
    "start_time": "2022-05-10T18:31:15.881Z"
   },
   {
    "duration": 24,
    "start_time": "2022-05-10T18:31:26.847Z"
   },
   {
    "duration": 521,
    "start_time": "2022-05-10T18:31:28.954Z"
   },
   {
    "duration": 159,
    "start_time": "2022-05-10T18:31:30.515Z"
   },
   {
    "duration": 36,
    "start_time": "2022-05-10T18:34:25.453Z"
   },
   {
    "duration": 14,
    "start_time": "2022-05-10T18:34:54.674Z"
   },
   {
    "duration": 75,
    "start_time": "2022-05-10T18:35:38.442Z"
   },
   {
    "duration": 837,
    "start_time": "2022-05-10T18:37:59.854Z"
   },
   {
    "duration": 420,
    "start_time": "2022-05-10T18:44:19.611Z"
   },
   {
    "duration": 385,
    "start_time": "2022-05-10T18:44:26.672Z"
   },
   {
    "duration": 5,
    "start_time": "2022-05-10T18:44:49.448Z"
   },
   {
    "duration": 1361,
    "start_time": "2022-05-10T18:44:49.456Z"
   },
   {
    "duration": 205,
    "start_time": "2022-05-10T18:44:50.819Z"
   },
   {
    "duration": 148,
    "start_time": "2022-05-10T18:44:51.028Z"
   },
   {
    "duration": 413,
    "start_time": "2022-05-10T18:44:51.179Z"
   },
   {
    "duration": 31,
    "start_time": "2022-05-10T18:44:51.594Z"
   },
   {
    "duration": 846,
    "start_time": "2022-05-10T18:44:51.628Z"
   },
   {
    "duration": 198,
    "start_time": "2022-05-10T18:44:52.476Z"
   },
   {
    "duration": 15,
    "start_time": "2022-05-10T18:44:52.677Z"
   },
   {
    "duration": 64,
    "start_time": "2022-05-10T18:44:52.695Z"
   },
   {
    "duration": 5,
    "start_time": "2022-05-10T18:44:52.762Z"
   },
   {
    "duration": 737,
    "start_time": "2022-05-10T18:44:52.769Z"
   },
   {
    "duration": 85,
    "start_time": "2022-05-10T18:44:53.508Z"
   },
   {
    "duration": 309,
    "start_time": "2022-05-10T18:44:53.596Z"
   },
   {
    "duration": 549,
    "start_time": "2022-05-10T18:44:53.907Z"
   },
   {
    "duration": 117,
    "start_time": "2022-05-10T18:44:54.459Z"
   },
   {
    "duration": 694,
    "start_time": "2022-05-10T18:44:54.578Z"
   },
   {
    "duration": 92,
    "start_time": "2022-05-10T18:44:55.275Z"
   },
   {
    "duration": 45,
    "start_time": "2022-05-10T18:44:55.369Z"
   },
   {
    "duration": 32114,
    "start_time": "2022-05-10T18:44:55.430Z"
   },
   {
    "duration": 170,
    "start_time": "2022-05-10T18:45:27.547Z"
   },
   {
    "duration": 10,
    "start_time": "2022-05-10T18:45:27.728Z"
   },
   {
    "duration": 3061,
    "start_time": "2022-05-10T18:45:27.742Z"
   },
   {
    "duration": 24,
    "start_time": "2022-05-10T18:45:36.993Z"
   },
   {
    "duration": 564,
    "start_time": "2022-05-10T18:45:38.570Z"
   },
   {
    "duration": 165,
    "start_time": "2022-05-10T18:45:40.159Z"
   },
   {
    "duration": 584,
    "start_time": "2022-05-10T18:47:09.673Z"
   },
   {
    "duration": 25,
    "start_time": "2022-05-10T18:47:13.481Z"
   },
   {
    "duration": 163,
    "start_time": "2022-05-10T18:47:22.981Z"
   },
   {
    "duration": 644,
    "start_time": "2022-05-10T18:47:28.910Z"
   },
   {
    "duration": 814,
    "start_time": "2022-05-10T19:04:04.517Z"
   },
   {
    "duration": 158,
    "start_time": "2022-05-10T19:04:18.664Z"
   },
   {
    "duration": 565,
    "start_time": "2022-05-10T19:07:08.146Z"
   },
   {
    "duration": 162,
    "start_time": "2022-05-10T19:07:16.570Z"
   },
   {
    "duration": 833,
    "start_time": "2022-05-10T19:08:47.047Z"
   },
   {
    "duration": 174,
    "start_time": "2022-05-10T19:08:53.293Z"
   },
   {
    "duration": 1135,
    "start_time": "2022-05-10T19:09:36.561Z"
   },
   {
    "duration": 183,
    "start_time": "2022-05-10T19:09:41.526Z"
   },
   {
    "duration": 1563,
    "start_time": "2022-05-10T19:10:04.008Z"
   },
   {
    "duration": 5,
    "start_time": "2022-05-10T19:10:37.049Z"
   },
   {
    "duration": 1383,
    "start_time": "2022-05-10T19:10:37.058Z"
   },
   {
    "duration": 198,
    "start_time": "2022-05-10T19:10:38.444Z"
   },
   {
    "duration": 148,
    "start_time": "2022-05-10T19:10:38.645Z"
   },
   {
    "duration": 410,
    "start_time": "2022-05-10T19:10:38.798Z"
   },
   {
    "duration": 28,
    "start_time": "2022-05-10T19:10:39.211Z"
   },
   {
    "duration": 913,
    "start_time": "2022-05-10T19:10:39.243Z"
   },
   {
    "duration": 316,
    "start_time": "2022-05-10T19:10:40.161Z"
   },
   {
    "duration": 23,
    "start_time": "2022-05-10T19:10:40.480Z"
   },
   {
    "duration": 59,
    "start_time": "2022-05-10T19:10:40.505Z"
   },
   {
    "duration": 8,
    "start_time": "2022-05-10T19:10:40.566Z"
   },
   {
    "duration": 728,
    "start_time": "2022-05-10T19:10:40.576Z"
   },
   {
    "duration": 92,
    "start_time": "2022-05-10T19:10:41.306Z"
   },
   {
    "duration": 299,
    "start_time": "2022-05-10T19:10:41.404Z"
   },
   {
    "duration": 609,
    "start_time": "2022-05-10T19:10:41.706Z"
   },
   {
    "duration": 91,
    "start_time": "2022-05-10T19:10:42.328Z"
   },
   {
    "duration": 673,
    "start_time": "2022-05-10T19:10:42.427Z"
   },
   {
    "duration": 94,
    "start_time": "2022-05-10T19:10:43.103Z"
   },
   {
    "duration": 64,
    "start_time": "2022-05-10T19:10:43.200Z"
   },
   {
    "duration": 173,
    "start_time": "2022-05-10T19:10:43.266Z"
   },
   {
    "duration": 619,
    "start_time": "2022-05-10T19:10:48.960Z"
   },
   {
    "duration": 198,
    "start_time": "2022-05-10T19:10:52.861Z"
   },
   {
    "duration": 25,
    "start_time": "2022-05-10T19:13:28.683Z"
   },
   {
    "duration": 525,
    "start_time": "2022-05-10T19:19:00.466Z"
   },
   {
    "duration": 130,
    "start_time": "2022-05-10T19:19:04.784Z"
   },
   {
    "duration": 28,
    "start_time": "2022-05-10T19:19:15.448Z"
   },
   {
    "duration": 6,
    "start_time": "2022-05-10T19:19:58.935Z"
   },
   {
    "duration": 1156,
    "start_time": "2022-05-10T19:19:58.946Z"
   },
   {
    "duration": 333,
    "start_time": "2022-05-10T19:20:00.105Z"
   },
   {
    "duration": 192,
    "start_time": "2022-05-10T19:20:00.441Z"
   },
   {
    "duration": 553,
    "start_time": "2022-05-10T19:20:00.638Z"
   },
   {
    "duration": 40,
    "start_time": "2022-05-10T19:20:01.193Z"
   },
   {
    "duration": 1111,
    "start_time": "2022-05-10T19:20:01.236Z"
   },
   {
    "duration": 313,
    "start_time": "2022-05-10T19:20:02.350Z"
   },
   {
    "duration": 23,
    "start_time": "2022-05-10T19:20:02.666Z"
   },
   {
    "duration": 55,
    "start_time": "2022-05-10T19:20:02.691Z"
   },
   {
    "duration": 8,
    "start_time": "2022-05-10T19:20:02.749Z"
   },
   {
    "duration": 626,
    "start_time": "2022-05-10T19:20:02.760Z"
   },
   {
    "duration": 78,
    "start_time": "2022-05-10T19:20:03.389Z"
   },
   {
    "duration": 279,
    "start_time": "2022-05-10T19:20:03.471Z"
   },
   {
    "duration": 481,
    "start_time": "2022-05-10T19:20:03.753Z"
   },
   {
    "duration": 91,
    "start_time": "2022-05-10T19:20:04.237Z"
   },
   {
    "duration": 696,
    "start_time": "2022-05-10T19:20:04.331Z"
   },
   {
    "duration": 70,
    "start_time": "2022-05-10T19:20:05.029Z"
   },
   {
    "duration": 63,
    "start_time": "2022-05-10T19:20:05.101Z"
   },
   {
    "duration": 142,
    "start_time": "2022-05-10T19:20:05.167Z"
   },
   {
    "duration": 679,
    "start_time": "2022-05-10T19:20:18.396Z"
   },
   {
    "duration": 127,
    "start_time": "2022-05-10T19:20:22.605Z"
   },
   {
    "duration": 541,
    "start_time": "2022-05-10T19:20:52.998Z"
   },
   {
    "duration": 138,
    "start_time": "2022-05-10T19:20:56.127Z"
   },
   {
    "duration": 29,
    "start_time": "2022-05-10T19:21:01.281Z"
   },
   {
    "duration": 40,
    "start_time": "2022-05-10T19:22:31.063Z"
   },
   {
    "duration": 12,
    "start_time": "2022-05-10T19:22:46.200Z"
   },
   {
    "duration": 260,
    "start_time": "2022-05-10T19:25:29.138Z"
   },
   {
    "duration": 3,
    "start_time": "2022-05-10T19:25:48.857Z"
   },
   {
    "duration": 1663,
    "start_time": "2022-05-10T19:25:48.863Z"
   },
   {
    "duration": 170,
    "start_time": "2022-05-10T19:25:50.528Z"
   },
   {
    "duration": 144,
    "start_time": "2022-05-10T19:25:50.700Z"
   },
   {
    "duration": 351,
    "start_time": "2022-05-10T19:25:50.848Z"
   },
   {
    "duration": 30,
    "start_time": "2022-05-10T19:25:51.201Z"
   },
   {
    "duration": 720,
    "start_time": "2022-05-10T19:25:51.234Z"
   },
   {
    "duration": 244,
    "start_time": "2022-05-10T19:25:51.957Z"
   },
   {
    "duration": 27,
    "start_time": "2022-05-10T19:25:52.203Z"
   },
   {
    "duration": 40,
    "start_time": "2022-05-10T19:25:52.233Z"
   },
   {
    "duration": 6,
    "start_time": "2022-05-10T19:25:52.275Z"
   },
   {
    "duration": 1125,
    "start_time": "2022-05-10T19:25:52.284Z"
   },
   {
    "duration": 80,
    "start_time": "2022-05-10T19:25:53.412Z"
   },
   {
    "duration": 400,
    "start_time": "2022-05-10T19:25:53.497Z"
   },
   {
    "duration": 467,
    "start_time": "2022-05-10T19:25:53.899Z"
   },
   {
    "duration": 89,
    "start_time": "2022-05-10T19:25:54.369Z"
   },
   {
    "duration": 576,
    "start_time": "2022-05-10T19:25:54.460Z"
   },
   {
    "duration": 86,
    "start_time": "2022-05-10T19:25:55.038Z"
   },
   {
    "duration": 48,
    "start_time": "2022-05-10T19:25:55.127Z"
   },
   {
    "duration": 157,
    "start_time": "2022-05-10T19:25:55.178Z"
   },
   {
    "duration": 249,
    "start_time": "2022-05-10T19:25:59.791Z"
   },
   {
    "duration": 254,
    "start_time": "2022-05-10T19:26:57.814Z"
   },
   {
    "duration": 241,
    "start_time": "2022-05-10T19:27:28.864Z"
   },
   {
    "duration": 235,
    "start_time": "2022-05-10T19:27:47.856Z"
   },
   {
    "duration": 487,
    "start_time": "2022-05-10T19:31:05.777Z"
   },
   {
    "duration": 449,
    "start_time": "2022-05-10T19:31:08.638Z"
   },
   {
    "duration": 240,
    "start_time": "2022-05-10T19:31:16.058Z"
   },
   {
    "duration": 30,
    "start_time": "2022-05-10T19:31:55.563Z"
   },
   {
    "duration": 134,
    "start_time": "2022-05-10T19:32:07.942Z"
   },
   {
    "duration": 116,
    "start_time": "2022-05-10T19:36:08.668Z"
   },
   {
    "duration": 273,
    "start_time": "2022-05-10T19:37:15.943Z"
   },
   {
    "duration": 246,
    "start_time": "2022-05-10T19:37:38.354Z"
   },
   {
    "duration": 141,
    "start_time": "2022-05-10T19:37:44.718Z"
   },
   {
    "duration": 872,
    "start_time": "2022-05-10T19:38:51.900Z"
   },
   {
    "duration": 30,
    "start_time": "2022-05-10T19:39:00.199Z"
   },
   {
    "duration": 149,
    "start_time": "2022-05-10T19:39:19.324Z"
   },
   {
    "duration": 111,
    "start_time": "2022-05-10T19:44:21.485Z"
   },
   {
    "duration": 42,
    "start_time": "2022-05-10T19:47:43.168Z"
   },
   {
    "duration": 786,
    "start_time": "2022-05-10T19:49:15.865Z"
   },
   {
    "duration": 589,
    "start_time": "2022-05-10T19:49:26.676Z"
   },
   {
    "duration": 149,
    "start_time": "2022-05-10T19:49:39.821Z"
   },
   {
    "duration": 2527,
    "start_time": "2022-05-10T19:50:19.365Z"
   },
   {
    "duration": 217,
    "start_time": "2022-05-10T19:51:10.793Z"
   },
   {
    "duration": 5,
    "start_time": "2022-05-10T20:04:24.626Z"
   },
   {
    "duration": 1209,
    "start_time": "2022-05-10T20:04:24.634Z"
   },
   {
    "duration": 199,
    "start_time": "2022-05-10T20:04:25.846Z"
   },
   {
    "duration": 138,
    "start_time": "2022-05-10T20:04:26.048Z"
   },
   {
    "duration": 371,
    "start_time": "2022-05-10T20:04:26.190Z"
   },
   {
    "duration": 22,
    "start_time": "2022-05-10T20:04:26.563Z"
   },
   {
    "duration": 713,
    "start_time": "2022-05-10T20:04:26.588Z"
   },
   {
    "duration": 207,
    "start_time": "2022-05-10T20:04:27.303Z"
   },
   {
    "duration": 37,
    "start_time": "2022-05-10T20:04:27.512Z"
   },
   {
    "duration": 35,
    "start_time": "2022-05-10T20:04:27.552Z"
   },
   {
    "duration": 4,
    "start_time": "2022-05-10T20:04:27.590Z"
   },
   {
    "duration": 61,
    "start_time": "2022-05-10T20:04:27.596Z"
   },
   {
    "duration": 844,
    "start_time": "2022-05-10T20:04:27.659Z"
   },
   {
    "duration": 888,
    "start_time": "2022-05-10T20:04:28.505Z"
   },
   {
    "duration": 763,
    "start_time": "2022-05-10T20:04:29.396Z"
   },
   {
    "duration": 92,
    "start_time": "2022-05-10T20:04:30.161Z"
   },
   {
    "duration": 278,
    "start_time": "2022-05-10T20:04:30.256Z"
   },
   {
    "duration": 514,
    "start_time": "2022-05-10T20:04:30.537Z"
   },
   {
    "duration": 621,
    "start_time": "2022-05-10T20:04:33.810Z"
   },
   {
    "duration": 6,
    "start_time": "2022-05-10T20:05:35.159Z"
   },
   {
    "duration": 1218,
    "start_time": "2022-05-10T20:05:35.168Z"
   },
   {
    "duration": 203,
    "start_time": "2022-05-10T20:05:36.389Z"
   },
   {
    "duration": 151,
    "start_time": "2022-05-10T20:05:36.595Z"
   },
   {
    "duration": 377,
    "start_time": "2022-05-10T20:05:36.751Z"
   },
   {
    "duration": 32,
    "start_time": "2022-05-10T20:05:37.130Z"
   },
   {
    "duration": 781,
    "start_time": "2022-05-10T20:05:37.174Z"
   },
   {
    "duration": 194,
    "start_time": "2022-05-10T20:05:37.960Z"
   },
   {
    "duration": 15,
    "start_time": "2022-05-10T20:05:38.158Z"
   },
   {
    "duration": 25,
    "start_time": "2022-05-10T20:05:38.176Z"
   },
   {
    "duration": 6,
    "start_time": "2022-05-10T20:05:38.228Z"
   },
   {
    "duration": 70,
    "start_time": "2022-05-10T20:05:38.236Z"
   },
   {
    "duration": 820,
    "start_time": "2022-05-10T20:05:38.308Z"
   },
   {
    "duration": 739,
    "start_time": "2022-05-10T20:05:39.133Z"
   },
   {
    "duration": 700,
    "start_time": "2022-05-10T20:05:39.874Z"
   },
   {
    "duration": 101,
    "start_time": "2022-05-10T20:05:40.577Z"
   },
   {
    "duration": 290,
    "start_time": "2022-05-10T20:05:40.681Z"
   },
   {
    "duration": 527,
    "start_time": "2022-05-10T20:05:40.973Z"
   },
   {
    "duration": 85,
    "start_time": "2022-05-10T20:05:41.502Z"
   },
   {
    "duration": 617,
    "start_time": "2022-05-10T20:05:41.589Z"
   },
   {
    "duration": 78,
    "start_time": "2022-05-10T20:05:42.208Z"
   },
   {
    "duration": 67,
    "start_time": "2022-05-10T20:05:42.288Z"
   },
   {
    "duration": 142,
    "start_time": "2022-05-10T20:05:42.360Z"
   },
   {
    "duration": 472,
    "start_time": "2022-05-10T20:05:42.504Z"
   },
   {
    "duration": 473,
    "start_time": "2022-05-10T20:05:42.978Z"
   },
   {
    "duration": 553,
    "start_time": "2022-05-10T20:05:43.456Z"
   },
   {
    "duration": 156,
    "start_time": "2022-05-10T20:05:44.011Z"
   },
   {
    "duration": 119,
    "start_time": "2022-05-10T20:05:44.170Z"
   },
   {
    "duration": 213,
    "start_time": "2022-05-10T20:05:44.292Z"
   },
   {
    "duration": 15,
    "start_time": "2022-05-10T20:06:48.750Z"
   },
   {
    "duration": 6,
    "start_time": "2022-05-10T20:06:52.610Z"
   },
   {
    "duration": 14,
    "start_time": "2022-05-10T20:06:53.979Z"
   },
   {
    "duration": 1216,
    "start_time": "2022-05-10T20:07:20.146Z"
   },
   {
    "duration": 507,
    "start_time": "2022-05-10T20:07:30.812Z"
   },
   {
    "duration": 56,
    "start_time": "2022-05-11T15:42:04.128Z"
   },
   {
    "duration": 1860,
    "start_time": "2022-05-11T15:42:09.651Z"
   },
   {
    "duration": 1024,
    "start_time": "2022-05-11T15:42:11.514Z"
   },
   {
    "duration": 159,
    "start_time": "2022-05-11T15:42:12.540Z"
   },
   {
    "duration": 123,
    "start_time": "2022-05-11T15:42:12.701Z"
   },
   {
    "duration": 241,
    "start_time": "2022-05-11T15:42:18.146Z"
   },
   {
    "duration": 3,
    "start_time": "2022-05-11T15:51:37.012Z"
   },
   {
    "duration": 957,
    "start_time": "2022-05-11T15:51:37.018Z"
   },
   {
    "duration": 140,
    "start_time": "2022-05-11T15:51:37.976Z"
   },
   {
    "duration": 130,
    "start_time": "2022-05-11T15:51:38.123Z"
   },
   {
    "duration": 392,
    "start_time": "2022-05-11T15:51:38.256Z"
   },
   {
    "duration": 22,
    "start_time": "2022-05-11T15:51:38.651Z"
   },
   {
    "duration": 448,
    "start_time": "2022-05-11T15:51:38.675Z"
   },
   {
    "duration": 138,
    "start_time": "2022-05-11T15:51:39.125Z"
   },
   {
    "duration": 12,
    "start_time": "2022-05-11T15:51:39.265Z"
   },
   {
    "duration": 42,
    "start_time": "2022-05-11T15:51:39.281Z"
   },
   {
    "duration": 4,
    "start_time": "2022-05-11T15:51:39.326Z"
   },
   {
    "duration": 29,
    "start_time": "2022-05-11T15:51:39.332Z"
   },
   {
    "duration": 535,
    "start_time": "2022-05-11T15:51:39.362Z"
   },
   {
    "duration": 427,
    "start_time": "2022-05-11T15:51:39.899Z"
   },
   {
    "duration": 464,
    "start_time": "2022-05-11T15:51:40.328Z"
   },
   {
    "duration": 54,
    "start_time": "2022-05-11T15:51:40.793Z"
   },
   {
    "duration": 178,
    "start_time": "2022-05-11T15:51:40.850Z"
   },
   {
    "duration": 347,
    "start_time": "2022-05-11T15:51:41.030Z"
   },
   {
    "duration": 53,
    "start_time": "2022-05-11T15:51:41.378Z"
   },
   {
    "duration": 412,
    "start_time": "2022-05-11T15:51:41.433Z"
   },
   {
    "duration": 41,
    "start_time": "2022-05-11T15:51:41.847Z"
   },
   {
    "duration": 51,
    "start_time": "2022-05-11T15:51:41.890Z"
   },
   {
    "duration": 104,
    "start_time": "2022-05-11T15:51:41.943Z"
   },
   {
    "duration": 277,
    "start_time": "2022-05-11T15:51:42.049Z"
   },
   {
    "duration": 273,
    "start_time": "2022-05-11T15:51:42.328Z"
   },
   {
    "duration": 327,
    "start_time": "2022-05-11T15:51:42.603Z"
   },
   {
    "duration": 105,
    "start_time": "2022-05-11T15:51:42.932Z"
   },
   {
    "duration": 120,
    "start_time": "2022-05-11T15:51:43.042Z"
   },
   {
    "duration": 170,
    "start_time": "2022-05-11T15:51:49.230Z"
   },
   {
    "duration": 4,
    "start_time": "2022-05-11T15:52:28.527Z"
   },
   {
    "duration": 150,
    "start_time": "2022-05-11T15:52:36.813Z"
   },
   {
    "duration": 4,
    "start_time": "2022-05-11T16:06:13.256Z"
   },
   {
    "duration": 72,
    "start_time": "2022-05-11T16:07:47.822Z"
   },
   {
    "duration": 3,
    "start_time": "2022-05-11T16:09:40.839Z"
   },
   {
    "duration": 4,
    "start_time": "2022-05-11T16:14:06.866Z"
   },
   {
    "duration": 1592,
    "start_time": "2022-05-12T17:50:28.459Z"
   },
   {
    "duration": 919,
    "start_time": "2022-05-12T17:50:30.054Z"
   },
   {
    "duration": 146,
    "start_time": "2022-05-12T17:50:30.975Z"
   },
   {
    "duration": 110,
    "start_time": "2022-05-12T17:50:31.133Z"
   },
   {
    "duration": 268,
    "start_time": "2022-05-12T17:50:35.991Z"
   },
   {
    "duration": 3,
    "start_time": "2022-05-12T18:02:49.149Z"
   },
   {
    "duration": 889,
    "start_time": "2022-05-12T18:02:49.154Z"
   },
   {
    "duration": 137,
    "start_time": "2022-05-12T18:02:50.045Z"
   },
   {
    "duration": 110,
    "start_time": "2022-05-12T18:02:50.184Z"
   },
   {
    "duration": 289,
    "start_time": "2022-05-12T18:02:50.297Z"
   },
   {
    "duration": 14,
    "start_time": "2022-05-12T18:02:50.588Z"
   },
   {
    "duration": 476,
    "start_time": "2022-05-12T18:02:50.604Z"
   },
   {
    "duration": 137,
    "start_time": "2022-05-12T18:02:51.082Z"
   },
   {
    "duration": 20,
    "start_time": "2022-05-12T18:02:51.220Z"
   },
   {
    "duration": 18,
    "start_time": "2022-05-12T18:02:51.241Z"
   },
   {
    "duration": 18,
    "start_time": "2022-05-12T18:02:57.952Z"
   },
   {
    "duration": 3,
    "start_time": "2022-05-12T18:04:06.456Z"
   },
   {
    "duration": 61,
    "start_time": "2022-05-12T18:05:21.180Z"
   },
   {
    "duration": 4,
    "start_time": "2022-05-12T18:09:37.927Z"
   },
   {
    "duration": 889,
    "start_time": "2022-05-12T18:09:37.933Z"
   },
   {
    "duration": 140,
    "start_time": "2022-05-12T18:09:38.823Z"
   },
   {
    "duration": 102,
    "start_time": "2022-05-12T18:09:38.965Z"
   },
   {
    "duration": 280,
    "start_time": "2022-05-12T18:09:39.069Z"
   },
   {
    "duration": 13,
    "start_time": "2022-05-12T18:09:39.351Z"
   },
   {
    "duration": 429,
    "start_time": "2022-05-12T18:09:39.366Z"
   },
   {
    "duration": 137,
    "start_time": "2022-05-12T18:09:39.797Z"
   },
   {
    "duration": 11,
    "start_time": "2022-05-12T18:09:39.936Z"
   },
   {
    "duration": 18,
    "start_time": "2022-05-12T18:09:39.948Z"
   },
   {
    "duration": 18,
    "start_time": "2022-05-12T18:09:39.967Z"
   },
   {
    "duration": 3,
    "start_time": "2022-05-12T18:09:39.987Z"
   },
   {
    "duration": 94,
    "start_time": "2022-05-12T18:09:43.870Z"
   },
   {
    "duration": 13,
    "start_time": "2022-05-12T18:10:02.327Z"
   },
   {
    "duration": 1191,
    "start_time": "2022-05-12T18:11:07.590Z"
   },
   {
    "duration": 1033,
    "start_time": "2022-05-12T18:11:09.627Z"
   },
   {
    "duration": 444,
    "start_time": "2022-05-12T18:11:16.103Z"
   },
   {
    "duration": 12,
    "start_time": "2022-05-12T18:14:38.604Z"
   },
   {
    "duration": 78,
    "start_time": "2022-05-12T18:15:11.707Z"
   },
   {
    "duration": 61,
    "start_time": "2022-05-12T18:16:14.318Z"
   },
   {
    "duration": 12,
    "start_time": "2022-05-12T18:23:48.262Z"
   },
   {
    "duration": 437,
    "start_time": "2022-05-12T18:24:23.965Z"
   },
   {
    "duration": 33,
    "start_time": "2022-05-12T18:24:25.261Z"
   },
   {
    "duration": 173,
    "start_time": "2022-05-12T18:24:28.892Z"
   },
   {
    "duration": 340,
    "start_time": "2022-05-12T18:24:57.230Z"
   },
   {
    "duration": 35,
    "start_time": "2022-05-12T18:25:07.414Z"
   },
   {
    "duration": 291,
    "start_time": "2022-05-12T18:25:25.604Z"
   },
   {
    "duration": 288,
    "start_time": "2022-05-12T18:25:36.194Z"
   },
   {
    "duration": 300,
    "start_time": "2022-05-12T18:25:41.654Z"
   },
   {
    "duration": 388,
    "start_time": "2022-05-12T18:26:18.074Z"
   },
   {
    "duration": 29,
    "start_time": "2022-05-12T18:26:34.838Z"
   },
   {
    "duration": 31,
    "start_time": "2022-05-12T18:26:36.195Z"
   },
   {
    "duration": 67,
    "start_time": "2022-05-12T18:26:40.700Z"
   },
   {
    "duration": 288,
    "start_time": "2022-05-12T18:26:49.642Z"
   },
   {
    "duration": 284,
    "start_time": "2022-05-12T18:26:50.689Z"
   },
   {
    "duration": 340,
    "start_time": "2022-05-12T18:26:51.629Z"
   },
   {
    "duration": 67,
    "start_time": "2022-05-12T18:26:52.909Z"
   },
   {
    "duration": 65,
    "start_time": "2022-05-12T18:27:01.255Z"
   },
   {
    "duration": 123,
    "start_time": "2022-05-12T18:27:09.636Z"
   },
   {
    "duration": 4,
    "start_time": "2022-05-12T18:28:57.098Z"
   },
   {
    "duration": 3,
    "start_time": "2022-05-12T18:29:49.609Z"
   },
   {
    "duration": 119,
    "start_time": "2022-05-12T18:34:55.173Z"
   },
   {
    "duration": 13,
    "start_time": "2022-05-12T18:35:35.730Z"
   },
   {
    "duration": 4,
    "start_time": "2022-05-12T18:35:53.449Z"
   },
   {
    "duration": 84,
    "start_time": "2022-05-12T18:35:54.148Z"
   },
   {
    "duration": 4,
    "start_time": "2022-05-12T18:35:54.948Z"
   },
   {
    "duration": 4,
    "start_time": "2022-05-12T18:35:55.750Z"
   },
   {
    "duration": 2,
    "start_time": "2022-05-12T18:35:58.266Z"
   },
   {
    "duration": 7,
    "start_time": "2022-05-12T18:35:58.951Z"
   },
   {
    "duration": 8,
    "start_time": "2022-05-12T18:36:22.117Z"
   },
   {
    "duration": 3,
    "start_time": "2022-05-12T18:36:37.546Z"
   },
   {
    "duration": 6,
    "start_time": "2022-05-12T18:36:38.259Z"
   },
   {
    "duration": 9,
    "start_time": "2022-05-12T18:41:26.594Z"
   },
   {
    "duration": 9,
    "start_time": "2022-05-12T18:42:00.137Z"
   },
   {
    "duration": 11,
    "start_time": "2022-05-12T18:42:07.674Z"
   },
   {
    "duration": 3,
    "start_time": "2022-05-12T18:42:22.112Z"
   },
   {
    "duration": 12,
    "start_time": "2022-05-12T18:42:27.109Z"
   },
   {
    "duration": 57,
    "start_time": "2022-05-12T18:42:45.688Z"
   },
   {
    "duration": 28,
    "start_time": "2022-05-12T18:42:49.927Z"
   },
   {
    "duration": 19,
    "start_time": "2022-05-12T18:43:08.748Z"
   },
   {
    "duration": 4,
    "start_time": "2022-05-12T18:43:12.705Z"
   },
   {
    "duration": 27,
    "start_time": "2022-05-12T18:46:44.365Z"
   },
   {
    "duration": 5,
    "start_time": "2022-05-12T18:47:08.391Z"
   },
   {
    "duration": 22,
    "start_time": "2022-05-12T18:47:12.479Z"
   },
   {
    "duration": 4,
    "start_time": "2022-05-12T18:48:04.613Z"
   },
   {
    "duration": 1826,
    "start_time": "2022-05-12T18:48:08.041Z"
   },
   {
    "duration": 2366,
    "start_time": "2022-05-12T18:49:39.286Z"
   },
   {
    "duration": 7,
    "start_time": "2022-05-12T18:52:46.360Z"
   },
   {
    "duration": 5,
    "start_time": "2022-05-12T18:52:55.211Z"
   },
   {
    "duration": 578,
    "start_time": "2022-05-12T18:53:39.616Z"
   },
   {
    "duration": 10,
    "start_time": "2022-05-12T18:54:27.109Z"
   },
   {
    "duration": 57,
    "start_time": "2022-05-12T18:54:50.071Z"
   },
   {
    "duration": 4,
    "start_time": "2022-05-12T18:54:54.984Z"
   },
   {
    "duration": 13,
    "start_time": "2022-05-12T18:57:18.441Z"
   },
   {
    "duration": 3,
    "start_time": "2022-05-12T18:58:37.155Z"
   },
   {
    "duration": 6,
    "start_time": "2022-05-12T18:59:01.692Z"
   },
   {
    "duration": 27541,
    "start_time": "2022-05-12T18:59:04.205Z"
   },
   {
    "duration": 4,
    "start_time": "2022-05-12T19:04:52.520Z"
   },
   {
    "duration": 863,
    "start_time": "2022-05-12T19:04:52.526Z"
   },
   {
    "duration": 132,
    "start_time": "2022-05-12T19:04:53.391Z"
   },
   {
    "duration": 100,
    "start_time": "2022-05-12T19:04:53.534Z"
   },
   {
    "duration": 280,
    "start_time": "2022-05-12T19:04:53.636Z"
   },
   {
    "duration": 23,
    "start_time": "2022-05-12T19:04:53.917Z"
   },
   {
    "duration": 431,
    "start_time": "2022-05-12T19:04:53.942Z"
   },
   {
    "duration": 132,
    "start_time": "2022-05-12T19:04:54.374Z"
   },
   {
    "duration": 27,
    "start_time": "2022-05-12T19:04:54.507Z"
   },
   {
    "duration": 16,
    "start_time": "2022-05-12T19:04:54.536Z"
   },
   {
    "duration": 18,
    "start_time": "2022-05-12T19:04:54.554Z"
   },
   {
    "duration": 3,
    "start_time": "2022-05-12T19:04:54.573Z"
   },
   {
    "duration": 59,
    "start_time": "2022-05-12T19:04:56.256Z"
   },
   {
    "duration": 90,
    "start_time": "2022-05-12T19:06:15.920Z"
   },
   {
    "duration": 12,
    "start_time": "2022-05-12T19:06:18.387Z"
   },
   {
    "duration": 12,
    "start_time": "2022-05-12T19:06:32.418Z"
   },
   {
    "duration": 90,
    "start_time": "2022-05-12T19:06:51.321Z"
   },
   {
    "duration": 11,
    "start_time": "2022-05-12T19:07:03.175Z"
   },
   {
    "duration": 99,
    "start_time": "2022-05-12T19:07:21.386Z"
   },
   {
    "duration": 256,
    "start_time": "2022-05-12T19:08:23.202Z"
   },
   {
    "duration": 171,
    "start_time": "2022-05-12T19:08:23.460Z"
   },
   {
    "duration": 415,
    "start_time": "2022-05-12T19:08:23.868Z"
   },
   {
    "duration": 25,
    "start_time": "2022-05-12T19:08:24.285Z"
   },
   {
    "duration": 168,
    "start_time": "2022-05-12T19:08:24.506Z"
   },
   {
    "duration": 299,
    "start_time": "2022-05-12T19:08:24.986Z"
   },
   {
    "duration": 21,
    "start_time": "2022-05-12T19:08:25.438Z"
   },
   {
    "duration": 371,
    "start_time": "2022-05-12T19:08:25.685Z"
   },
   {
    "duration": 21,
    "start_time": "2022-05-12T19:08:26.187Z"
   },
   {
    "duration": 30,
    "start_time": "2022-05-12T19:08:26.674Z"
   },
   {
    "duration": 62,
    "start_time": "2022-05-12T19:08:26.907Z"
   },
   {
    "duration": 249,
    "start_time": "2022-05-12T19:08:27.374Z"
   },
   {
    "duration": 337,
    "start_time": "2022-05-12T19:08:27.624Z"
   },
   {
    "duration": 306,
    "start_time": "2022-05-12T19:08:27.963Z"
   },
   {
    "duration": 70,
    "start_time": "2022-05-12T19:08:28.271Z"
   },
   {
    "duration": 64,
    "start_time": "2022-05-12T19:08:28.342Z"
   },
   {
    "duration": 109,
    "start_time": "2022-05-12T19:08:28.556Z"
   },
   {
    "duration": 4,
    "start_time": "2022-05-12T19:08:29.796Z"
   },
   {
    "duration": 67,
    "start_time": "2022-05-12T19:08:32.255Z"
   },
   {
    "duration": 3,
    "start_time": "2022-05-12T19:08:32.684Z"
   },
   {
    "duration": 4,
    "start_time": "2022-05-12T19:08:33.161Z"
   },
   {
    "duration": 3,
    "start_time": "2022-05-12T19:08:43.666Z"
   },
   {
    "duration": 4,
    "start_time": "2022-05-12T19:08:44.150Z"
   },
   {
    "duration": 38851,
    "start_time": "2022-05-12T19:08:44.801Z"
   },
   {
    "duration": 12,
    "start_time": "2022-05-12T19:09:39.442Z"
   },
   {
    "duration": 626,
    "start_time": "2022-05-12T19:25:36.137Z"
   },
   {
    "duration": 5,
    "start_time": "2022-05-12T19:26:40.563Z"
   },
   {
    "duration": 945,
    "start_time": "2022-05-12T19:26:40.570Z"
   },
   {
    "duration": 140,
    "start_time": "2022-05-12T19:26:41.516Z"
   },
   {
    "duration": 113,
    "start_time": "2022-05-12T19:26:41.657Z"
   },
   {
    "duration": 305,
    "start_time": "2022-05-12T19:26:41.773Z"
   },
   {
    "duration": 15,
    "start_time": "2022-05-12T19:26:42.080Z"
   },
   {
    "duration": 445,
    "start_time": "2022-05-12T19:26:42.097Z"
   },
   {
    "duration": 139,
    "start_time": "2022-05-12T19:26:42.544Z"
   },
   {
    "duration": 12,
    "start_time": "2022-05-12T19:26:42.685Z"
   },
   {
    "duration": 43,
    "start_time": "2022-05-12T19:26:42.699Z"
   },
   {
    "duration": 19,
    "start_time": "2022-05-12T19:26:42.744Z"
   },
   {
    "duration": 4,
    "start_time": "2022-05-12T19:26:42.765Z"
   },
   {
    "duration": 118,
    "start_time": "2022-05-12T19:26:42.771Z"
   },
   {
    "duration": 13,
    "start_time": "2022-05-12T19:26:42.893Z"
   },
   {
    "duration": 263,
    "start_time": "2022-05-12T19:26:42.908Z"
   },
   {
    "duration": 171,
    "start_time": "2022-05-12T19:26:43.172Z"
   },
   {
    "duration": 458,
    "start_time": "2022-05-12T19:26:43.345Z"
   },
   {
    "duration": 34,
    "start_time": "2022-05-12T19:26:43.805Z"
   },
   {
    "duration": 187,
    "start_time": "2022-05-12T19:26:43.841Z"
   },
   {
    "duration": 330,
    "start_time": "2022-05-12T19:26:44.033Z"
   },
   {
    "duration": 23,
    "start_time": "2022-05-12T19:26:44.365Z"
   },
   {
    "duration": 425,
    "start_time": "2022-05-12T19:26:44.390Z"
   },
   {
    "duration": 32,
    "start_time": "2022-05-12T19:26:44.817Z"
   },
   {
    "duration": 32,
    "start_time": "2022-05-12T19:26:44.851Z"
   },
   {
    "duration": 74,
    "start_time": "2022-05-12T19:26:44.885Z"
   },
   {
    "duration": 285,
    "start_time": "2022-05-12T19:26:44.961Z"
   },
   {
    "duration": 270,
    "start_time": "2022-05-12T19:26:45.247Z"
   },
   {
    "duration": 314,
    "start_time": "2022-05-12T19:26:45.519Z"
   },
   {
    "duration": 67,
    "start_time": "2022-05-12T19:26:45.835Z"
   },
   {
    "duration": 84,
    "start_time": "2022-05-12T19:26:45.903Z"
   },
   {
    "duration": 127,
    "start_time": "2022-05-12T19:26:45.988Z"
   },
   {
    "duration": 651,
    "start_time": "2022-05-12T19:26:46.117Z"
   },
   {
    "duration": 4,
    "start_time": "2022-05-12T19:26:46.769Z"
   },
   {
    "duration": 18,
    "start_time": "2022-05-12T19:26:46.774Z"
   },
   {
    "duration": 7,
    "start_time": "2022-05-12T19:26:46.794Z"
   },
   {
    "duration": 381,
    "start_time": "2022-05-12T19:26:50.775Z"
   },
   {
    "duration": 3,
    "start_time": "2022-05-12T19:26:52.530Z"
   },
   {
    "duration": 6,
    "start_time": "2022-05-12T19:26:53.253Z"
   },
   {
    "duration": 4,
    "start_time": "2022-05-12T19:26:56.726Z"
   },
   {
    "duration": 4,
    "start_time": "2022-05-12T19:27:17.487Z"
   },
   {
    "duration": 2095,
    "start_time": "2022-05-13T11:14:46.421Z"
   },
   {
    "duration": 1737,
    "start_time": "2022-05-13T11:14:48.518Z"
   },
   {
    "duration": 177,
    "start_time": "2022-05-13T11:14:50.258Z"
   },
   {
    "duration": 129,
    "start_time": "2022-05-13T11:14:50.436Z"
   },
   {
    "duration": 316,
    "start_time": "2022-05-13T11:14:50.568Z"
   },
   {
    "duration": 16,
    "start_time": "2022-05-13T11:14:50.888Z"
   },
   {
    "duration": 514,
    "start_time": "2022-05-13T11:14:50.906Z"
   },
   {
    "duration": 158,
    "start_time": "2022-05-13T11:14:51.421Z"
   },
   {
    "duration": 27,
    "start_time": "2022-05-13T11:14:51.581Z"
   },
   {
    "duration": 15,
    "start_time": "2022-05-13T11:14:51.611Z"
   },
   {
    "duration": 40,
    "start_time": "2022-05-13T11:14:51.628Z"
   },
   {
    "duration": 3,
    "start_time": "2022-05-13T11:14:51.670Z"
   },
   {
    "duration": 122,
    "start_time": "2022-05-13T11:14:51.675Z"
   },
   {
    "duration": 12,
    "start_time": "2022-05-13T11:14:51.800Z"
   },
   {
    "duration": 313,
    "start_time": "2022-05-13T11:14:51.814Z"
   },
   {
    "duration": 198,
    "start_time": "2022-05-13T11:14:52.129Z"
   },
   {
    "duration": 423,
    "start_time": "2022-05-13T11:14:52.329Z"
   },
   {
    "duration": 28,
    "start_time": "2022-05-13T11:14:52.754Z"
   },
   {
    "duration": 163,
    "start_time": "2022-05-13T11:14:52.784Z"
   },
   {
    "duration": 342,
    "start_time": "2022-05-13T11:14:52.949Z"
   },
   {
    "duration": 23,
    "start_time": "2022-05-13T11:14:53.294Z"
   },
   {
    "duration": 435,
    "start_time": "2022-05-13T11:14:53.319Z"
   },
   {
    "duration": 27,
    "start_time": "2022-05-13T11:14:53.761Z"
   },
   {
    "duration": 37,
    "start_time": "2022-05-13T11:14:53.790Z"
   },
   {
    "duration": 73,
    "start_time": "2022-05-13T11:14:53.829Z"
   },
   {
    "duration": 287,
    "start_time": "2022-05-13T11:14:53.907Z"
   },
   {
    "duration": 269,
    "start_time": "2022-05-13T11:14:54.196Z"
   },
   {
    "duration": 424,
    "start_time": "2022-05-13T11:14:54.467Z"
   },
   {
    "duration": 80,
    "start_time": "2022-05-13T11:14:54.894Z"
   },
   {
    "duration": 91,
    "start_time": "2022-05-13T11:14:54.976Z"
   },
   {
    "duration": 150,
    "start_time": "2022-05-13T11:14:55.068Z"
   },
   {
    "duration": 590,
    "start_time": "2022-05-13T11:14:55.220Z"
   },
   {
    "duration": 5,
    "start_time": "2022-05-13T11:14:55.812Z"
   },
   {
    "duration": 6,
    "start_time": "2022-05-13T11:14:55.819Z"
   },
   {
    "duration": 6,
    "start_time": "2022-05-13T11:14:55.827Z"
   },
   {
    "duration": 481,
    "start_time": "2022-05-13T11:14:55.835Z"
   },
   {
    "duration": 3,
    "start_time": "2022-05-13T11:14:56.318Z"
   },
   {
    "duration": 9,
    "start_time": "2022-05-13T11:14:56.323Z"
   },
   {
    "duration": 5,
    "start_time": "2022-05-13T11:14:56.334Z"
   },
   {
    "duration": 6,
    "start_time": "2022-05-13T11:14:56.341Z"
   },
   {
    "duration": 731312,
    "start_time": "2022-05-13T11:15:00.302Z"
   },
   {
    "duration": 3,
    "start_time": "2022-05-13T11:27:36.787Z"
   },
   {
    "duration": 317578,
    "start_time": "2022-05-13T11:28:10.536Z"
   },
   {
    "duration": 4,
    "start_time": "2022-05-13T11:33:38.628Z"
   },
   {
    "duration": 365503,
    "start_time": "2022-05-13T11:33:43.669Z"
   },
   {
    "duration": 747,
    "start_time": "2022-05-13T11:40:04.460Z"
   },
   {
    "duration": 3,
    "start_time": "2022-05-13T11:40:30.426Z"
   },
   {
    "duration": 5,
    "start_time": "2022-05-13T11:40:30.886Z"
   },
   {
    "duration": 129,
    "start_time": "2022-05-13T11:40:38.581Z"
   },
   {
    "duration": 63,
    "start_time": "2022-05-13T11:41:25.940Z"
   },
   {
    "duration": 3,
    "start_time": "2022-05-13T11:41:27.262Z"
   },
   {
    "duration": 4,
    "start_time": "2022-05-13T11:41:28.090Z"
   },
   {
    "duration": 198302,
    "start_time": "2022-05-13T11:41:28.816Z"
   },
   {
    "duration": 735,
    "start_time": "2022-05-13T11:51:55.382Z"
   },
   {
    "duration": 16,
    "start_time": "2022-05-13T11:57:29.460Z"
   },
   {
    "duration": 291,
    "start_time": "2022-05-13T11:57:46.450Z"
   },
   {
    "duration": 3181,
    "start_time": "2022-05-13T11:57:58.934Z"
   },
   {
    "duration": 3043,
    "start_time": "2022-05-13T11:58:47.351Z"
   },
   {
    "duration": 274,
    "start_time": "2022-05-13T12:00:02.245Z"
   },
   {
    "duration": 27,
    "start_time": "2022-05-13T12:02:07.617Z"
   },
   {
    "duration": 18,
    "start_time": "2022-05-13T12:02:51.636Z"
   },
   {
    "duration": 31,
    "start_time": "2022-05-13T12:03:52.152Z"
   },
   {
    "duration": 171,
    "start_time": "2022-05-13T12:04:16.043Z"
   },
   {
    "duration": 3,
    "start_time": "2022-05-13T12:10:16.746Z"
   },
   {
    "duration": 473874,
    "start_time": "2022-05-13T12:10:28.809Z"
   },
   {
    "duration": 2204,
    "start_time": "2022-05-13T12:18:22.685Z"
   },
   {
    "duration": 372366,
    "start_time": "2022-05-13T12:28:17.103Z"
   },
   {
    "duration": 3044,
    "start_time": "2022-05-13T12:34:29.471Z"
   },
   {
    "duration": 148,
    "start_time": "2022-05-13T12:44:01.555Z"
   },
   {
    "duration": 6,
    "start_time": "2022-05-13T12:44:38.468Z"
   },
   {
    "duration": 5798,
    "start_time": "2022-05-13T12:44:50.123Z"
   },
   {
    "duration": 4,
    "start_time": "2022-05-13T12:45:26.495Z"
   },
   {
    "duration": 5221,
    "start_time": "2022-05-13T12:45:28.534Z"
   },
   {
    "duration": 4,
    "start_time": "2022-05-13T12:46:04.089Z"
   },
   {
    "duration": 71870,
    "start_time": "2022-05-13T12:46:05.041Z"
   },
   {
    "duration": 1355,
    "start_time": "2022-05-13T12:47:16.913Z"
   },
   {
    "duration": 3,
    "start_time": "2022-05-13T12:48:22.935Z"
   },
   {
    "duration": 64565,
    "start_time": "2022-05-13T12:48:24.766Z"
   },
   {
    "duration": 14,
    "start_time": "2022-05-13T12:49:29.333Z"
   },
   {
    "duration": 5,
    "start_time": "2022-05-13T12:49:36.202Z"
   },
   {
    "duration": 54574,
    "start_time": "2022-05-13T12:49:37.010Z"
   },
   {
    "duration": 1311,
    "start_time": "2022-05-13T12:50:31.590Z"
   },
   {
    "duration": 6,
    "start_time": "2022-05-13T13:11:24.736Z"
   },
   {
    "duration": 20005,
    "start_time": "2022-05-13T13:11:25.653Z"
   },
   {
    "duration": 3,
    "start_time": "2022-05-13T13:11:46.311Z"
   },
   {
    "duration": 108955,
    "start_time": "2022-05-13T13:11:47.762Z"
   },
   {
    "duration": 1633,
    "start_time": "2022-05-13T13:13:36.743Z"
   },
   {
    "duration": 5,
    "start_time": "2022-05-13T13:14:49.111Z"
   },
   {
    "duration": 24922,
    "start_time": "2022-05-13T13:14:52.595Z"
   },
   {
    "duration": 8,
    "start_time": "2022-05-13T13:15:23.477Z"
   },
   {
    "duration": 275555,
    "start_time": "2022-05-13T13:15:24.342Z"
   },
   {
    "duration": 1492,
    "start_time": "2022-05-13T13:19:59.902Z"
   },
   {
    "duration": 4,
    "start_time": "2022-05-13T13:20:26.975Z"
   },
   {
    "duration": 78469,
    "start_time": "2022-05-13T13:20:27.503Z"
   },
   {
    "duration": 1314,
    "start_time": "2022-05-13T13:21:45.984Z"
   },
   {
    "duration": 105,
    "start_time": "2022-05-13T15:06:49.885Z"
   },
   {
    "duration": 3,
    "start_time": "2022-05-13T15:08:06.785Z"
   },
   {
    "duration": 28745,
    "start_time": "2022-05-13T15:08:57.865Z"
   },
   {
    "duration": 3,
    "start_time": "2022-05-13T15:09:36.739Z"
   },
   {
    "duration": 42288,
    "start_time": "2022-05-13T15:09:38.385Z"
   },
   {
    "duration": 1212,
    "start_time": "2022-05-13T15:10:26.483Z"
   },
   {
    "duration": 2,
    "start_time": "2022-05-13T15:10:42.542Z"
   },
   {
    "duration": 34913,
    "start_time": "2022-05-13T15:10:43.580Z"
   },
   {
    "duration": 3,
    "start_time": "2022-05-13T15:11:19.307Z"
   },
   {
    "duration": 40973,
    "start_time": "2022-05-13T15:11:20.012Z"
   },
   {
    "duration": 1287,
    "start_time": "2022-05-13T15:12:00.987Z"
   },
   {
    "duration": 3,
    "start_time": "2022-05-13T15:14:51.325Z"
   },
   {
    "duration": 11347,
    "start_time": "2022-05-13T15:14:52.150Z"
   },
   {
    "duration": 6,
    "start_time": "2022-05-13T15:15:10.068Z"
   },
   {
    "duration": 58590,
    "start_time": "2022-05-13T15:15:10.784Z"
   },
   {
    "duration": 1204,
    "start_time": "2022-05-13T15:16:09.376Z"
   },
   {
    "duration": 3,
    "start_time": "2022-05-13T15:16:32.501Z"
   },
   {
    "duration": 7622,
    "start_time": "2022-05-13T15:16:35.049Z"
   },
   {
    "duration": 3,
    "start_time": "2022-05-13T15:16:52.694Z"
   },
   {
    "duration": 57240,
    "start_time": "2022-05-13T15:16:53.628Z"
   },
   {
    "duration": 1220,
    "start_time": "2022-05-13T15:17:50.871Z"
   },
   {
    "duration": 7,
    "start_time": "2022-05-13T15:29:15.886Z"
   },
   {
    "duration": 307,
    "start_time": "2022-05-13T15:30:06.897Z"
   },
   {
    "duration": 11,
    "start_time": "2022-05-13T15:30:07.858Z"
   },
   {
    "duration": 3,
    "start_time": "2022-05-13T15:30:15.107Z"
   },
   {
    "duration": 42051,
    "start_time": "2022-05-13T15:30:32.444Z"
   },
   {
    "duration": 137,
    "start_time": "2022-05-13T15:31:14.499Z"
   },
   {
    "duration": 142,
    "start_time": "2022-05-13T15:31:41.452Z"
   },
   {
    "duration": 291,
    "start_time": "2022-05-13T15:31:49.810Z"
   },
   {
    "duration": 13,
    "start_time": "2022-05-13T15:32:15.186Z"
   },
   {
    "duration": 9,
    "start_time": "2022-05-13T15:32:33.914Z"
   },
   {
    "duration": 12,
    "start_time": "2022-05-13T15:34:38.130Z"
   },
   {
    "duration": 4,
    "start_time": "2022-05-13T15:34:45.712Z"
   },
   {
    "duration": 4,
    "start_time": "2022-05-13T15:35:20.939Z"
   },
   {
    "duration": 3,
    "start_time": "2022-05-13T15:35:38.700Z"
   },
   {
    "duration": 315,
    "start_time": "2022-05-13T15:46:04.783Z"
   },
   {
    "duration": 3,
    "start_time": "2022-05-13T15:46:05.829Z"
   },
   {
    "duration": 24656,
    "start_time": "2022-05-13T15:46:07.208Z"
   },
   {
    "duration": 299,
    "start_time": "2022-05-13T15:46:31.867Z"
   },
   {
    "duration": 14,
    "start_time": "2022-05-13T15:46:32.168Z"
   },
   {
    "duration": 11,
    "start_time": "2022-05-13T15:47:44.435Z"
   },
   {
    "duration": 11,
    "start_time": "2022-05-13T15:49:26.244Z"
   },
   {
    "duration": 20,
    "start_time": "2022-05-13T15:55:26.180Z"
   },
   {
    "duration": 103,
    "start_time": "2022-05-13T15:55:37.064Z"
   },
   {
    "duration": 9,
    "start_time": "2022-05-13T15:55:43.893Z"
   },
   {
    "duration": 115,
    "start_time": "2022-05-13T15:57:55.301Z"
   },
   {
    "duration": 5,
    "start_time": "2022-05-13T15:58:08.821Z"
   },
   {
    "duration": 5,
    "start_time": "2022-05-13T15:59:17.078Z"
   },
   {
    "duration": 3,
    "start_time": "2022-05-13T15:59:19.336Z"
   },
   {
    "duration": 31152,
    "start_time": "2022-05-13T15:59:21.811Z"
   },
   {
    "duration": 313,
    "start_time": "2022-05-13T16:48:21.077Z"
   },
   {
    "duration": 12,
    "start_time": "2022-05-13T16:48:22.082Z"
   },
   {
    "duration": 0,
    "start_time": "2022-05-13T16:49:52.305Z"
   },
   {
    "duration": 507516,
    "start_time": "2022-05-13T16:50:12.062Z"
   },
   {
    "duration": 4,
    "start_time": "2022-05-13T16:59:49.651Z"
   },
   {
    "duration": 2,
    "start_time": "2022-05-13T17:01:19.625Z"
   },
   {
    "duration": 4,
    "start_time": "2022-05-13T17:02:32.677Z"
   },
   {
    "duration": 1935827,
    "start_time": "2022-05-13T17:03:08.450Z"
   },
   {
    "duration": 417923,
    "start_time": "2022-05-13T17:35:24.279Z"
   },
   {
    "duration": 493397,
    "start_time": "2022-05-13T17:43:44.607Z"
   },
   {
    "duration": 4,
    "start_time": "2022-05-13T18:10:09.548Z"
   },
   {
    "duration": 11,
    "start_time": "2022-05-13T18:13:45.439Z"
   },
   {
    "duration": 66,
    "start_time": "2022-05-13T18:14:32.212Z"
   },
   {
    "duration": 337,
    "start_time": "2022-05-13T18:14:58.901Z"
   },
   {
    "duration": 587,
    "start_time": "2022-05-13T18:16:18.006Z"
   },
   {
    "duration": 526,
    "start_time": "2022-05-13T18:16:37.871Z"
   },
   {
    "duration": 536,
    "start_time": "2022-05-13T18:17:03.560Z"
   },
   {
    "duration": 543,
    "start_time": "2022-05-13T18:18:00.005Z"
   },
   {
    "duration": 7,
    "start_time": "2022-05-13T18:20:05.327Z"
   },
   {
    "duration": 4,
    "start_time": "2022-05-13T18:23:45.092Z"
   },
   {
    "duration": 98,
    "start_time": "2022-05-13T18:24:11.957Z"
   },
   {
    "duration": 29,
    "start_time": "2022-05-13T18:29:06.566Z"
   },
   {
    "duration": 11,
    "start_time": "2022-05-13T18:29:33.504Z"
   },
   {
    "duration": 15,
    "start_time": "2022-05-13T18:30:43.347Z"
   },
   {
    "duration": 2245,
    "start_time": "2022-05-14T15:05:03.243Z"
   },
   {
    "duration": 1087,
    "start_time": "2022-05-14T15:05:05.492Z"
   },
   {
    "duration": 166,
    "start_time": "2022-05-14T15:05:06.582Z"
   },
   {
    "duration": 142,
    "start_time": "2022-05-14T15:05:06.750Z"
   },
   {
    "duration": 397,
    "start_time": "2022-05-14T15:05:06.896Z"
   },
   {
    "duration": 20,
    "start_time": "2022-05-14T15:05:07.295Z"
   },
   {
    "duration": 632,
    "start_time": "2022-05-14T15:05:07.318Z"
   },
   {
    "duration": 167,
    "start_time": "2022-05-14T15:05:07.952Z"
   },
   {
    "duration": 16,
    "start_time": "2022-05-14T15:05:08.120Z"
   },
   {
    "duration": 56,
    "start_time": "2022-05-14T15:05:08.138Z"
   },
   {
    "duration": 43,
    "start_time": "2022-05-14T15:05:08.197Z"
   },
   {
    "duration": 5,
    "start_time": "2022-05-14T15:05:08.242Z"
   },
   {
    "duration": 179,
    "start_time": "2022-05-14T15:05:08.250Z"
   },
   {
    "duration": 16,
    "start_time": "2022-05-14T15:05:08.433Z"
   },
   {
    "duration": 373,
    "start_time": "2022-05-14T15:05:08.451Z"
   },
   {
    "duration": 213,
    "start_time": "2022-05-14T15:05:08.826Z"
   },
   {
    "duration": 578,
    "start_time": "2022-05-14T15:05:09.041Z"
   },
   {
    "duration": 45,
    "start_time": "2022-05-14T15:05:09.622Z"
   },
   {
    "duration": 253,
    "start_time": "2022-05-14T15:05:09.669Z"
   },
   {
    "duration": 401,
    "start_time": "2022-05-14T15:05:09.925Z"
   },
   {
    "duration": 48,
    "start_time": "2022-05-14T15:05:10.328Z"
   },
   {
    "duration": 510,
    "start_time": "2022-05-14T15:05:10.379Z"
   },
   {
    "duration": 36,
    "start_time": "2022-05-14T15:05:10.893Z"
   },
   {
    "duration": 38,
    "start_time": "2022-05-14T15:05:10.932Z"
   },
   {
    "duration": 71,
    "start_time": "2022-05-14T15:05:10.993Z"
   },
   {
    "duration": 396,
    "start_time": "2022-05-14T15:05:11.066Z"
   },
   {
    "duration": 377,
    "start_time": "2022-05-14T15:05:11.464Z"
   },
   {
    "duration": 474,
    "start_time": "2022-05-14T15:05:11.843Z"
   },
   {
    "duration": 81,
    "start_time": "2022-05-14T15:05:12.319Z"
   },
   {
    "duration": 73,
    "start_time": "2022-05-14T15:05:12.402Z"
   },
   {
    "duration": 167,
    "start_time": "2022-05-14T15:05:12.477Z"
   },
   {
    "duration": 599,
    "start_time": "2022-05-14T15:05:17.814Z"
   },
   {
    "duration": 6,
    "start_time": "2022-05-14T15:05:37.006Z"
   },
   {
    "duration": 4,
    "start_time": "2022-05-14T15:05:52.422Z"
   },
   {
    "duration": 12,
    "start_time": "2022-05-14T15:06:01.089Z"
   },
   {
    "duration": 5,
    "start_time": "2022-05-14T15:06:49.115Z"
   },
   {
    "duration": 25,
    "start_time": "2022-05-14T15:07:12.888Z"
   },
   {
    "duration": 468,
    "start_time": "2022-05-14T15:07:14.980Z"
   },
   {
    "duration": 3,
    "start_time": "2022-05-14T15:07:16.793Z"
   },
   {
    "duration": 20951,
    "start_time": "2022-05-14T15:07:18.048Z"
   },
   {
    "duration": 5,
    "start_time": "2022-05-14T15:10:29.524Z"
   },
   {
    "duration": 4,
    "start_time": "2022-05-14T15:11:12.909Z"
   },
   {
    "duration": 155884,
    "start_time": "2022-05-14T15:12:27.119Z"
   },
   {
    "duration": 156864,
    "start_time": "2022-05-14T15:19:51.739Z"
   },
   {
    "duration": 193814,
    "start_time": "2022-05-14T15:24:52.662Z"
   },
   {
    "duration": 484249,
    "start_time": "2022-05-14T15:28:31.559Z"
   },
   {
    "duration": 4,
    "start_time": "2022-05-14T15:39:11.423Z"
   },
   {
    "duration": 39480,
    "start_time": "2022-05-14T15:39:30.835Z"
   },
   {
    "duration": 30093,
    "start_time": "2022-05-14T15:40:10.317Z"
   },
   {
    "duration": 4,
    "start_time": "2022-05-14T15:43:31.005Z"
   },
   {
    "duration": 55664,
    "start_time": "2022-05-14T15:43:53.073Z"
   },
   {
    "duration": 4,
    "start_time": "2022-05-14T15:45:16.420Z"
   },
   {
    "duration": 14372,
    "start_time": "2022-05-14T15:45:28.829Z"
   },
   {
    "duration": 251980,
    "start_time": "2022-05-14T15:47:30.017Z"
   },
   {
    "duration": 4,
    "start_time": "2022-05-14T15:52:30.934Z"
   },
   {
    "duration": 12,
    "start_time": "2022-05-14T15:52:40.535Z"
   },
   {
    "duration": 12828,
    "start_time": "2022-05-14T15:53:12.576Z"
   },
   {
    "duration": 19001,
    "start_time": "2022-05-14T15:53:25.407Z"
   },
   {
    "duration": 16294,
    "start_time": "2022-05-14T15:53:44.411Z"
   },
   {
    "duration": 4,
    "start_time": "2022-05-14T15:55:10.358Z"
   },
   {
    "duration": 92823,
    "start_time": "2022-05-14T15:55:16.473Z"
   },
   {
    "duration": 14,
    "start_time": "2022-05-14T15:56:49.299Z"
   },
   {
    "duration": 4,
    "start_time": "2022-05-14T16:01:41.791Z"
   },
   {
    "duration": 51334,
    "start_time": "2022-05-14T16:01:46.362Z"
   },
   {
    "duration": 16,
    "start_time": "2022-05-14T16:02:37.698Z"
   },
   {
    "duration": 564500,
    "start_time": "2022-05-14T16:05:19.102Z"
   },
   {
    "duration": 3,
    "start_time": "2022-05-14T16:43:00.702Z"
   },
   {
    "duration": 353314,
    "start_time": "2022-05-14T16:43:05.813Z"
   },
   {
    "duration": 76,
    "start_time": "2022-05-14T16:48:59.130Z"
   },
   {
    "duration": 933879,
    "start_time": "2022-05-14T16:54:55.929Z"
   },
   {
    "duration": 7,
    "start_time": "2022-05-14T17:10:29.811Z"
   },
   {
    "duration": 396824,
    "start_time": "2022-05-14T17:15:06.083Z"
   },
   {
    "duration": 675099,
    "start_time": "2022-05-14T17:21:57.008Z"
   },
   {
    "duration": 120,
    "start_time": "2022-05-14T18:20:38.547Z"
   },
   {
    "duration": 4,
    "start_time": "2022-05-14T18:21:26.331Z"
   },
   {
    "duration": 129,
    "start_time": "2022-05-14T18:21:37.685Z"
   },
   {
    "duration": 5,
    "start_time": "2022-05-14T18:21:41.133Z"
   },
   {
    "duration": 36,
    "start_time": "2022-05-14T18:21:47.298Z"
   },
   {
    "duration": 5,
    "start_time": "2022-05-14T18:25:00.034Z"
   },
   {
    "duration": 37,
    "start_time": "2022-05-14T18:25:02.528Z"
   },
   {
    "duration": 4,
    "start_time": "2022-05-14T18:28:50.372Z"
   },
   {
    "duration": 49,
    "start_time": "2022-05-14T18:28:53.686Z"
   },
   {
    "duration": 16,
    "start_time": "2022-05-14T18:30:39.336Z"
   },
   {
    "duration": 5,
    "start_time": "2022-05-14T18:31:19.205Z"
   },
   {
    "duration": 49,
    "start_time": "2022-05-14T18:31:22.246Z"
   },
   {
    "duration": 182,
    "start_time": "2022-05-14T18:32:55.356Z"
   },
   {
    "duration": 4,
    "start_time": "2022-05-14T18:34:11.465Z"
   },
   {
    "duration": 116,
    "start_time": "2022-05-14T18:34:13.009Z"
   },
   {
    "duration": 393,
    "start_time": "2022-05-14T18:41:53.421Z"
   },
   {
    "duration": 4,
    "start_time": "2022-05-14T18:42:03.688Z"
   },
   {
    "duration": 21303,
    "start_time": "2022-05-14T18:42:14.995Z"
   },
   {
    "duration": 7,
    "start_time": "2022-05-14T18:43:05.917Z"
   },
   {
    "duration": 26441,
    "start_time": "2022-05-14T18:43:08.559Z"
   },
   {
    "duration": 7,
    "start_time": "2022-05-14T18:47:53.586Z"
   },
   {
    "duration": 1048,
    "start_time": "2022-05-14T18:47:53.595Z"
   },
   {
    "duration": 163,
    "start_time": "2022-05-14T18:47:54.645Z"
   },
   {
    "duration": 113,
    "start_time": "2022-05-14T18:47:54.811Z"
   },
   {
    "duration": 375,
    "start_time": "2022-05-14T18:47:54.926Z"
   },
   {
    "duration": 20,
    "start_time": "2022-05-14T18:47:55.303Z"
   },
   {
    "duration": 570,
    "start_time": "2022-05-14T18:47:55.325Z"
   },
   {
    "duration": 156,
    "start_time": "2022-05-14T18:47:55.897Z"
   },
   {
    "duration": 15,
    "start_time": "2022-05-14T18:47:56.055Z"
   },
   {
    "duration": 40,
    "start_time": "2022-05-14T18:47:56.073Z"
   },
   {
    "duration": 29,
    "start_time": "2022-05-14T18:47:56.115Z"
   },
   {
    "duration": 5,
    "start_time": "2022-05-14T18:47:56.146Z"
   },
   {
    "duration": 148,
    "start_time": "2022-05-14T18:47:56.153Z"
   },
   {
    "duration": 16,
    "start_time": "2022-05-14T18:47:56.304Z"
   },
   {
    "duration": 328,
    "start_time": "2022-05-14T18:47:56.322Z"
   },
   {
    "duration": 219,
    "start_time": "2022-05-14T18:47:56.652Z"
   },
   {
    "duration": 481,
    "start_time": "2022-05-14T18:47:56.874Z"
   },
   {
    "duration": 59,
    "start_time": "2022-05-14T18:47:57.357Z"
   },
   {
    "duration": 254,
    "start_time": "2022-05-14T18:47:57.418Z"
   },
   {
    "duration": 408,
    "start_time": "2022-05-14T18:47:57.674Z"
   },
   {
    "duration": 47,
    "start_time": "2022-05-14T18:47:58.085Z"
   },
   {
    "duration": 491,
    "start_time": "2022-05-14T18:47:58.135Z"
   },
   {
    "duration": 36,
    "start_time": "2022-05-14T18:47:58.628Z"
   },
   {
    "duration": 51,
    "start_time": "2022-05-14T18:47:58.666Z"
   },
   {
    "duration": 81,
    "start_time": "2022-05-14T18:47:58.719Z"
   },
   {
    "duration": 394,
    "start_time": "2022-05-14T18:47:58.802Z"
   },
   {
    "duration": 373,
    "start_time": "2022-05-14T18:47:59.198Z"
   },
   {
    "duration": 482,
    "start_time": "2022-05-14T18:47:59.576Z"
   },
   {
    "duration": 76,
    "start_time": "2022-05-14T18:48:00.061Z"
   },
   {
    "duration": 91,
    "start_time": "2022-05-14T18:48:00.139Z"
   },
   {
    "duration": 162,
    "start_time": "2022-05-14T18:48:00.233Z"
   },
   {
    "duration": 774,
    "start_time": "2022-05-14T18:48:00.398Z"
   },
   {
    "duration": 5,
    "start_time": "2022-05-14T18:48:01.174Z"
   },
   {
    "duration": 17,
    "start_time": "2022-05-14T18:48:01.181Z"
   },
   {
    "duration": 20,
    "start_time": "2022-05-14T18:48:01.200Z"
   },
   {
    "duration": 36,
    "start_time": "2022-05-14T18:48:01.222Z"
   },
   {
    "duration": 24,
    "start_time": "2022-05-14T18:48:01.260Z"
   },
   {
    "duration": 33,
    "start_time": "2022-05-14T18:48:01.286Z"
   },
   {
    "duration": 461,
    "start_time": "2022-05-14T18:48:05.950Z"
   },
   {
    "duration": 4,
    "start_time": "2022-05-14T18:48:07.053Z"
   },
   {
    "duration": 21281,
    "start_time": "2022-05-14T18:48:07.916Z"
   },
   {
    "duration": 737935,
    "start_time": "2022-05-14T18:48:42.169Z"
   },
   {
    "duration": 6,
    "start_time": "2022-05-14T19:01:00.107Z"
   },
   {
    "duration": 4,
    "start_time": "2022-05-14T19:03:41.174Z"
   },
   {
    "duration": 22,
    "start_time": "2022-05-14T19:03:44.058Z"
   },
   {
    "duration": 3,
    "start_time": "2022-05-14T19:04:49.298Z"
   },
   {
    "duration": 339959,
    "start_time": "2022-05-14T19:05:04.353Z"
   },
   {
    "duration": 4,
    "start_time": "2022-05-14T19:18:04.453Z"
   },
   {
    "duration": 63472,
    "start_time": "2022-05-14T19:18:05.752Z"
   },
   {
    "duration": 768,
    "start_time": "2022-05-14T19:19:09.227Z"
   },
   {
    "duration": 461,
    "start_time": "2022-05-14T19:19:46.851Z"
   },
   {
    "duration": 706,
    "start_time": "2022-05-14T19:21:13.359Z"
   },
   {
    "duration": 545,
    "start_time": "2022-05-14T19:21:31.595Z"
   },
   {
    "duration": 21,
    "start_time": "2022-05-14T19:25:49.242Z"
   },
   {
    "duration": 2905,
    "start_time": "2022-05-14T19:26:58.514Z"
   },
   {
    "duration": 10,
    "start_time": "2022-05-14T19:27:17.214Z"
   },
   {
    "duration": 9,
    "start_time": "2022-05-14T19:27:21.459Z"
   },
   {
    "duration": 54432,
    "start_time": "2022-05-14T19:27:59.979Z"
   },
   {
    "duration": 12,
    "start_time": "2022-05-14T19:30:37.632Z"
   },
   {
    "duration": 13,
    "start_time": "2022-05-14T19:31:21.093Z"
   },
   {
    "duration": 10,
    "start_time": "2022-05-14T19:31:32.676Z"
   },
   {
    "duration": 13,
    "start_time": "2022-05-14T19:31:33.850Z"
   },
   {
    "duration": 58922,
    "start_time": "2022-05-14T19:31:35.873Z"
   },
   {
    "duration": 20,
    "start_time": "2022-05-14T19:32:53.513Z"
   },
   {
    "duration": 371,
    "start_time": "2022-05-14T19:33:07.450Z"
   },
   {
    "duration": 18,
    "start_time": "2022-05-14T19:33:12.540Z"
   },
   {
    "duration": 37619,
    "start_time": "2022-05-14T19:33:18.815Z"
   },
   {
    "duration": 16,
    "start_time": "2022-05-14T19:35:43.483Z"
   },
   {
    "duration": 22,
    "start_time": "2022-05-14T19:35:52.491Z"
   },
   {
    "duration": 29,
    "start_time": "2022-05-14T19:36:03.910Z"
   },
   {
    "duration": 26,
    "start_time": "2022-05-14T19:36:11.430Z"
   },
   {
    "duration": 15,
    "start_time": "2022-05-14T19:36:41.094Z"
   },
   {
    "duration": 6,
    "start_time": "2022-05-14T19:36:52.771Z"
   },
   {
    "duration": 368,
    "start_time": "2022-05-14T19:40:01.786Z"
   },
   {
    "duration": 10,
    "start_time": "2022-05-14T19:40:17.609Z"
   },
   {
    "duration": 42645,
    "start_time": "2022-05-14T19:40:23.866Z"
   },
   {
    "duration": 4,
    "start_time": "2022-05-14T19:42:40.642Z"
   },
   {
    "duration": 47090,
    "start_time": "2022-05-14T19:42:44.850Z"
   },
   {
    "duration": 373,
    "start_time": "2022-05-14T19:43:34.792Z"
   },
   {
    "duration": 4,
    "start_time": "2022-05-14T19:43:43.173Z"
   },
   {
    "duration": 76805,
    "start_time": "2022-05-14T19:43:44.605Z"
   },
   {
    "duration": 4,
    "start_time": "2022-05-14T19:46:39.010Z"
   },
   {
    "duration": 54284,
    "start_time": "2022-05-14T19:47:22.150Z"
   },
   {
    "duration": 4,
    "start_time": "2022-05-14T19:49:20.617Z"
   },
   {
    "duration": 43455,
    "start_time": "2022-05-14T19:49:22.950Z"
   },
   {
    "duration": 4,
    "start_time": "2022-05-14T19:52:30.544Z"
   },
   {
    "duration": 28573,
    "start_time": "2022-05-14T19:52:31.240Z"
   },
   {
    "duration": 6,
    "start_time": "2022-05-14T20:04:14.927Z"
   },
   {
    "duration": 12,
    "start_time": "2022-05-14T20:04:19.760Z"
   },
   {
    "duration": 50394,
    "start_time": "2022-05-14T20:05:04.313Z"
   },
   {
    "duration": 7,
    "start_time": "2022-05-14T20:08:04.151Z"
   },
   {
    "duration": 999,
    "start_time": "2022-05-14T20:08:04.160Z"
   },
   {
    "duration": 165,
    "start_time": "2022-05-14T20:08:05.161Z"
   },
   {
    "duration": 124,
    "start_time": "2022-05-14T20:08:05.329Z"
   },
   {
    "duration": 373,
    "start_time": "2022-05-14T20:08:05.457Z"
   },
   {
    "duration": 19,
    "start_time": "2022-05-14T20:08:05.832Z"
   },
   {
    "duration": 558,
    "start_time": "2022-05-14T20:08:05.853Z"
   },
   {
    "duration": 155,
    "start_time": "2022-05-14T20:08:06.413Z"
   },
   {
    "duration": 30,
    "start_time": "2022-05-14T20:08:06.570Z"
   },
   {
    "duration": 24,
    "start_time": "2022-05-14T20:08:06.602Z"
   },
   {
    "duration": 28,
    "start_time": "2022-05-14T20:08:06.628Z"
   },
   {
    "duration": 5,
    "start_time": "2022-05-14T20:08:06.658Z"
   },
   {
    "duration": 163,
    "start_time": "2022-05-14T20:08:06.664Z"
   },
   {
    "duration": 16,
    "start_time": "2022-05-14T20:08:06.832Z"
   },
   {
    "duration": 331,
    "start_time": "2022-05-14T20:08:06.850Z"
   },
   {
    "duration": 209,
    "start_time": "2022-05-14T20:08:07.183Z"
   },
   {
    "duration": 474,
    "start_time": "2022-05-14T20:08:07.394Z"
   },
   {
    "duration": 54,
    "start_time": "2022-05-14T20:08:07.870Z"
   },
   {
    "duration": 250,
    "start_time": "2022-05-14T20:08:07.926Z"
   },
   {
    "duration": 398,
    "start_time": "2022-05-14T20:08:08.178Z"
   },
   {
    "duration": 53,
    "start_time": "2022-05-14T20:08:08.578Z"
   },
   {
    "duration": 439,
    "start_time": "2022-05-14T20:08:08.634Z"
   },
   {
    "duration": 44,
    "start_time": "2022-05-14T20:08:09.075Z"
   },
   {
    "duration": 39,
    "start_time": "2022-05-14T20:08:09.121Z"
   },
   {
    "duration": 87,
    "start_time": "2022-05-14T20:08:09.162Z"
   },
   {
    "duration": 376,
    "start_time": "2022-05-14T20:08:09.251Z"
   },
   {
    "duration": 477,
    "start_time": "2022-05-14T20:08:09.629Z"
   },
   {
    "duration": 457,
    "start_time": "2022-05-14T20:08:10.108Z"
   },
   {
    "duration": 73,
    "start_time": "2022-05-14T20:08:10.567Z"
   },
   {
    "duration": 91,
    "start_time": "2022-05-14T20:08:10.642Z"
   },
   {
    "duration": 162,
    "start_time": "2022-05-14T20:08:10.735Z"
   },
   {
    "duration": 512,
    "start_time": "2022-05-14T20:08:10.899Z"
   },
   {
    "duration": 6,
    "start_time": "2022-05-14T20:08:11.413Z"
   },
   {
    "duration": 15,
    "start_time": "2022-05-14T20:08:11.421Z"
   },
   {
    "duration": 6,
    "start_time": "2022-05-14T20:08:11.438Z"
   },
   {
    "duration": 9,
    "start_time": "2022-05-14T20:08:11.446Z"
   },
   {
    "duration": 14,
    "start_time": "2022-05-14T20:08:11.457Z"
   },
   {
    "duration": 24,
    "start_time": "2022-05-14T20:08:11.493Z"
   },
   {
    "duration": 558,
    "start_time": "2022-05-14T20:08:11.519Z"
   },
   {
    "duration": 4,
    "start_time": "2022-05-14T20:08:12.079Z"
   },
   {
    "duration": 21006,
    "start_time": "2022-05-14T20:08:12.096Z"
   },
   {
    "duration": 3,
    "start_time": "2022-05-14T20:08:33.194Z"
   },
   {
    "duration": 9716,
    "start_time": "2022-05-14T20:08:33.199Z"
   },
   {
    "duration": 1334615,
    "start_time": "2022-05-14T20:08:42.917Z"
   },
   {
    "duration": 0,
    "start_time": "2022-05-14T20:30:57.535Z"
   },
   {
    "duration": 0,
    "start_time": "2022-05-14T20:30:57.594Z"
   },
   {
    "duration": 0,
    "start_time": "2022-05-14T20:30:57.595Z"
   },
   {
    "duration": 0,
    "start_time": "2022-05-14T20:30:57.597Z"
   },
   {
    "duration": 0,
    "start_time": "2022-05-14T20:30:57.598Z"
   },
   {
    "duration": 0,
    "start_time": "2022-05-14T20:30:57.600Z"
   },
   {
    "duration": 0,
    "start_time": "2022-05-14T20:30:57.601Z"
   },
   {
    "duration": 7,
    "start_time": "2022-05-14T20:31:07.098Z"
   },
   {
    "duration": 1071,
    "start_time": "2022-05-14T20:31:07.108Z"
   },
   {
    "duration": 167,
    "start_time": "2022-05-14T20:31:08.181Z"
   },
   {
    "duration": 123,
    "start_time": "2022-05-14T20:31:08.351Z"
   },
   {
    "duration": 387,
    "start_time": "2022-05-14T20:31:08.476Z"
   },
   {
    "duration": 31,
    "start_time": "2022-05-14T20:31:08.865Z"
   },
   {
    "duration": 595,
    "start_time": "2022-05-14T20:31:08.899Z"
   },
   {
    "duration": 167,
    "start_time": "2022-05-14T20:31:09.497Z"
   },
   {
    "duration": 28,
    "start_time": "2022-05-14T20:31:09.666Z"
   },
   {
    "duration": 24,
    "start_time": "2022-05-14T20:31:09.698Z"
   },
   {
    "duration": 30,
    "start_time": "2022-05-14T20:31:09.725Z"
   },
   {
    "duration": 4,
    "start_time": "2022-05-14T20:31:09.758Z"
   },
   {
    "duration": 178,
    "start_time": "2022-05-14T20:31:09.764Z"
   },
   {
    "duration": 16,
    "start_time": "2022-05-14T20:31:09.945Z"
   },
   {
    "duration": 333,
    "start_time": "2022-05-14T20:31:09.963Z"
   },
   {
    "duration": 218,
    "start_time": "2022-05-14T20:31:10.298Z"
   },
   {
    "duration": 501,
    "start_time": "2022-05-14T20:31:10.518Z"
   },
   {
    "duration": 44,
    "start_time": "2022-05-14T20:31:11.021Z"
   },
   {
    "duration": 276,
    "start_time": "2022-05-14T20:31:11.067Z"
   },
   {
    "duration": 508,
    "start_time": "2022-05-14T20:31:11.345Z"
   },
   {
    "duration": 56,
    "start_time": "2022-05-14T20:31:11.857Z"
   },
   {
    "duration": 480,
    "start_time": "2022-05-14T20:31:11.915Z"
   },
   {
    "duration": 37,
    "start_time": "2022-05-14T20:31:12.397Z"
   },
   {
    "duration": 65,
    "start_time": "2022-05-14T20:31:12.436Z"
   },
   {
    "duration": 74,
    "start_time": "2022-05-14T20:31:12.503Z"
   },
   {
    "duration": 414,
    "start_time": "2022-05-14T20:31:12.579Z"
   },
   {
    "duration": 407,
    "start_time": "2022-05-14T20:31:12.995Z"
   },
   {
    "duration": 471,
    "start_time": "2022-05-14T20:31:13.407Z"
   },
   {
    "duration": 78,
    "start_time": "2022-05-14T20:31:13.880Z"
   },
   {
    "duration": 94,
    "start_time": "2022-05-14T20:31:13.960Z"
   },
   {
    "duration": 168,
    "start_time": "2022-05-14T20:31:14.056Z"
   },
   {
    "duration": 548,
    "start_time": "2022-05-14T20:31:14.226Z"
   },
   {
    "duration": 5,
    "start_time": "2022-05-14T20:31:14.776Z"
   },
   {
    "duration": 5,
    "start_time": "2022-05-14T20:31:14.793Z"
   },
   {
    "duration": 4,
    "start_time": "2022-05-14T20:31:14.801Z"
   },
   {
    "duration": 7,
    "start_time": "2022-05-14T20:31:14.808Z"
   },
   {
    "duration": 14,
    "start_time": "2022-05-14T20:31:14.817Z"
   },
   {
    "duration": 26,
    "start_time": "2022-05-14T20:31:14.833Z"
   },
   {
    "duration": 565,
    "start_time": "2022-05-14T20:31:14.892Z"
   },
   {
    "duration": 3,
    "start_time": "2022-05-14T20:31:15.459Z"
   },
   {
    "duration": 30133,
    "start_time": "2022-05-14T20:31:15.464Z"
   },
   {
    "duration": 4,
    "start_time": "2022-05-14T20:31:45.600Z"
   },
   {
    "duration": 35614,
    "start_time": "2022-05-14T20:31:45.607Z"
   },
   {
    "duration": 4,
    "start_time": "2022-05-14T20:32:21.227Z"
   },
   {
    "duration": 114391,
    "start_time": "2022-05-14T20:32:21.233Z"
   },
   {
    "duration": 3,
    "start_time": "2022-05-14T20:34:15.627Z"
   },
   {
    "duration": 28388,
    "start_time": "2022-05-14T20:34:15.632Z"
   },
   {
    "duration": 579,
    "start_time": "2022-05-14T20:34:44.022Z"
   },
   {
    "duration": 10,
    "start_time": "2022-05-14T20:34:44.603Z"
   },
   {
    "duration": 50693,
    "start_time": "2022-05-14T20:34:44.615Z"
   },
   {
    "duration": 121,
    "start_time": "2022-05-14T20:36:02.885Z"
   },
   {
    "duration": 4,
    "start_time": "2022-05-14T20:36:03.821Z"
   },
   {
    "duration": 105080,
    "start_time": "2022-05-14T20:36:05.749Z"
   },
   {
    "duration": 1300515,
    "start_time": "2022-05-14T20:38:00.930Z"
   },
   {
    "duration": 380056,
    "start_time": "2022-05-14T21:10:19.375Z"
   },
   {
    "duration": 5,
    "start_time": "2022-05-14T21:17:16.414Z"
   },
   {
    "duration": 30557,
    "start_time": "2022-05-14T21:17:25.919Z"
   },
   {
    "duration": 4,
    "start_time": "2022-05-14T21:20:10.117Z"
   },
   {
    "duration": 14735,
    "start_time": "2022-05-14T21:20:10.759Z"
   },
   {
    "duration": 169,
    "start_time": "2022-05-14T21:31:50.889Z"
   },
   {
    "duration": 12,
    "start_time": "2022-05-14T21:32:32.903Z"
   },
   {
    "duration": 5,
    "start_time": "2022-05-14T21:32:46.106Z"
   },
   {
    "duration": 1654,
    "start_time": "2022-05-15T03:54:02.094Z"
   },
   {
    "duration": 848,
    "start_time": "2022-05-15T03:54:03.750Z"
   },
   {
    "duration": 123,
    "start_time": "2022-05-15T03:54:04.600Z"
   },
   {
    "duration": 146,
    "start_time": "2022-05-15T03:54:04.725Z"
   },
   {
    "duration": 242,
    "start_time": "2022-05-15T03:54:04.873Z"
   },
   {
    "duration": 12,
    "start_time": "2022-05-15T03:54:05.117Z"
   },
   {
    "duration": 445,
    "start_time": "2022-05-15T03:54:05.130Z"
   },
   {
    "duration": 121,
    "start_time": "2022-05-15T03:54:05.576Z"
   },
   {
    "duration": 10,
    "start_time": "2022-05-15T03:54:05.698Z"
   },
   {
    "duration": 16,
    "start_time": "2022-05-15T03:54:05.709Z"
   },
   {
    "duration": 44,
    "start_time": "2022-05-15T03:54:05.727Z"
   },
   {
    "duration": 8,
    "start_time": "2022-05-15T03:54:05.773Z"
   },
   {
    "duration": 113,
    "start_time": "2022-05-15T03:54:05.782Z"
   },
   {
    "duration": 11,
    "start_time": "2022-05-15T03:54:05.898Z"
   },
   {
    "duration": 264,
    "start_time": "2022-05-15T03:54:05.910Z"
   },
   {
    "duration": 156,
    "start_time": "2022-05-15T03:54:06.175Z"
   },
   {
    "duration": 373,
    "start_time": "2022-05-15T03:54:06.332Z"
   },
   {
    "duration": 24,
    "start_time": "2022-05-15T03:54:06.707Z"
   },
   {
    "duration": 147,
    "start_time": "2022-05-15T03:54:06.733Z"
   },
   {
    "duration": 269,
    "start_time": "2022-05-15T03:54:06.882Z"
   },
   {
    "duration": 32,
    "start_time": "2022-05-15T03:54:07.152Z"
   },
   {
    "duration": 391,
    "start_time": "2022-05-15T03:54:07.186Z"
   },
   {
    "duration": 19,
    "start_time": "2022-05-15T03:54:07.578Z"
   },
   {
    "duration": 26,
    "start_time": "2022-05-15T03:54:07.599Z"
   },
   {
    "duration": 71,
    "start_time": "2022-05-15T03:54:07.626Z"
   },
   {
    "duration": 226,
    "start_time": "2022-05-15T03:54:07.699Z"
   },
   {
    "duration": 226,
    "start_time": "2022-05-15T03:54:07.927Z"
   },
   {
    "duration": 262,
    "start_time": "2022-05-15T03:54:08.154Z"
   },
   {
    "duration": 59,
    "start_time": "2022-05-15T03:54:08.417Z"
   },
   {
    "duration": 52,
    "start_time": "2022-05-15T03:54:08.478Z"
   },
   {
    "duration": 116,
    "start_time": "2022-05-15T03:54:08.532Z"
   },
   {
    "duration": 468,
    "start_time": "2022-05-15T03:54:08.649Z"
   },
   {
    "duration": 4,
    "start_time": "2022-05-15T03:54:09.119Z"
   },
   {
    "duration": 5,
    "start_time": "2022-05-15T03:54:09.124Z"
   },
   {
    "duration": 6,
    "start_time": "2022-05-15T03:54:09.131Z"
   },
   {
    "duration": 6,
    "start_time": "2022-05-15T03:54:09.138Z"
   },
   {
    "duration": 2,
    "start_time": "2022-05-15T03:54:09.162Z"
   },
   {
    "duration": 11,
    "start_time": "2022-05-15T03:54:09.165Z"
   },
   {
    "duration": 16,
    "start_time": "2022-05-15T03:54:09.178Z"
   },
   {
    "duration": 60,
    "start_time": "2022-05-15T03:59:57.203Z"
   },
   {
    "duration": 2,
    "start_time": "2022-05-15T04:00:08.290Z"
   },
   {
    "duration": 186083,
    "start_time": "2022-05-15T04:00:13.232Z"
   },
   {
    "duration": 3,
    "start_time": "2022-05-15T04:03:47.458Z"
   },
   {
    "duration": 69457,
    "start_time": "2022-05-15T04:03:50.527Z"
   },
   {
    "duration": 518646,
    "start_time": "2022-05-15T04:07:22.105Z"
   },
   {
    "duration": 3,
    "start_time": "2022-05-15T04:19:51.317Z"
   },
   {
    "duration": 69166,
    "start_time": "2022-05-15T04:20:24.298Z"
   },
   {
    "duration": 2,
    "start_time": "2022-05-15T04:28:09.896Z"
   },
   {
    "duration": 9154,
    "start_time": "2022-05-15T04:28:13.437Z"
   },
   {
    "duration": 9,
    "start_time": "2022-05-15T04:29:10.739Z"
   },
   {
    "duration": 3526,
    "start_time": "2022-05-15T04:29:29.785Z"
   },
   {
    "duration": 346,
    "start_time": "2022-05-15T04:30:18.688Z"
   },
   {
    "duration": 3,
    "start_time": "2022-05-15T04:30:38.633Z"
   },
   {
    "duration": 12285,
    "start_time": "2022-05-15T04:30:40.355Z"
   },
   {
    "duration": 3296,
    "start_time": "2022-05-15T10:04:53.687Z"
   },
   {
    "duration": 1319,
    "start_time": "2022-05-15T10:04:56.986Z"
   },
   {
    "duration": 182,
    "start_time": "2022-05-15T10:04:58.308Z"
   },
   {
    "duration": 153,
    "start_time": "2022-05-15T10:04:58.494Z"
   },
   {
    "duration": 419,
    "start_time": "2022-05-15T10:04:58.650Z"
   },
   {
    "duration": 21,
    "start_time": "2022-05-15T10:04:59.072Z"
   },
   {
    "duration": 741,
    "start_time": "2022-05-15T10:04:59.096Z"
   },
   {
    "duration": 176,
    "start_time": "2022-05-15T10:04:59.840Z"
   },
   {
    "duration": 19,
    "start_time": "2022-05-15T10:05:00.024Z"
   },
   {
    "duration": 29,
    "start_time": "2022-05-15T10:05:00.049Z"
   },
   {
    "duration": 72,
    "start_time": "2022-05-15T10:05:00.081Z"
   },
   {
    "duration": 11,
    "start_time": "2022-05-15T10:05:00.156Z"
   },
   {
    "duration": 162,
    "start_time": "2022-05-15T10:05:00.169Z"
   },
   {
    "duration": 18,
    "start_time": "2022-05-15T10:05:00.333Z"
   },
   {
    "duration": 364,
    "start_time": "2022-05-15T10:05:00.353Z"
   },
   {
    "duration": 232,
    "start_time": "2022-05-15T10:05:00.720Z"
   },
   {
    "duration": 537,
    "start_time": "2022-05-15T10:05:00.955Z"
   },
   {
    "duration": 54,
    "start_time": "2022-05-15T10:05:01.494Z"
   },
   {
    "duration": 263,
    "start_time": "2022-05-15T10:05:01.550Z"
   },
   {
    "duration": 427,
    "start_time": "2022-05-15T10:05:01.816Z"
   },
   {
    "duration": 48,
    "start_time": "2022-05-15T10:05:02.245Z"
   },
   {
    "duration": 596,
    "start_time": "2022-05-15T10:05:02.296Z"
   },
   {
    "duration": 54,
    "start_time": "2022-05-15T10:05:02.894Z"
   },
   {
    "duration": 40,
    "start_time": "2022-05-15T10:05:02.951Z"
   },
   {
    "duration": 102,
    "start_time": "2022-05-15T10:05:02.994Z"
   },
   {
    "duration": 413,
    "start_time": "2022-05-15T10:05:03.098Z"
   },
   {
    "duration": 410,
    "start_time": "2022-05-15T10:05:03.514Z"
   },
   {
    "duration": 492,
    "start_time": "2022-05-15T10:05:03.930Z"
   },
   {
    "duration": 74,
    "start_time": "2022-05-15T10:05:04.425Z"
   },
   {
    "duration": 98,
    "start_time": "2022-05-15T10:05:04.501Z"
   },
   {
    "duration": 180,
    "start_time": "2022-05-15T10:05:04.601Z"
   },
   {
    "duration": 1104,
    "start_time": "2022-05-15T10:05:04.783Z"
   },
   {
    "duration": 7,
    "start_time": "2022-05-15T10:05:05.890Z"
   },
   {
    "duration": 25,
    "start_time": "2022-05-15T10:05:05.900Z"
   },
   {
    "duration": 11,
    "start_time": "2022-05-15T10:05:05.927Z"
   },
   {
    "duration": 14,
    "start_time": "2022-05-15T10:05:05.941Z"
   },
   {
    "duration": 10,
    "start_time": "2022-05-15T10:05:05.957Z"
   },
   {
    "duration": 27,
    "start_time": "2022-05-15T10:05:05.969Z"
   },
   {
    "duration": 45,
    "start_time": "2022-05-15T10:05:05.998Z"
   },
   {
    "duration": 652,
    "start_time": "2022-05-15T10:05:06.046Z"
   },
   {
    "duration": 4,
    "start_time": "2022-05-15T10:05:06.701Z"
   },
   {
    "duration": 31425,
    "start_time": "2022-05-15T10:05:06.707Z"
   },
   {
    "duration": 3,
    "start_time": "2022-05-15T10:05:38.135Z"
   },
   {
    "duration": 396503,
    "start_time": "2022-05-15T10:05:38.140Z"
   },
   {
    "duration": 673495,
    "start_time": "2022-05-15T10:12:14.647Z"
   },
   {
    "duration": 4,
    "start_time": "2022-05-15T10:23:28.144Z"
   },
   {
    "duration": 111796,
    "start_time": "2022-05-15T10:23:28.150Z"
   },
   {
    "duration": 4,
    "start_time": "2022-05-15T10:25:19.949Z"
   },
   {
    "duration": 32782,
    "start_time": "2022-05-15T10:25:19.955Z"
   },
   {
    "duration": 616,
    "start_time": "2022-05-15T10:25:52.739Z"
   },
   {
    "duration": 11,
    "start_time": "2022-05-15T10:25:53.359Z"
   },
   {
    "duration": 297365,
    "start_time": "2022-05-15T10:25:53.373Z"
   },
   {
    "duration": 151,
    "start_time": "2022-05-15T10:30:50.740Z"
   },
   {
    "duration": 5,
    "start_time": "2022-05-15T10:30:50.893Z"
   },
   {
    "duration": 413102,
    "start_time": "2022-05-15T10:30:50.901Z"
   },
   {
    "duration": 426,
    "start_time": "2022-05-15T10:37:44.005Z"
   },
   {
    "duration": 4,
    "start_time": "2022-05-15T10:37:44.433Z"
   },
   {
    "duration": 48347,
    "start_time": "2022-05-15T10:37:44.439Z"
   },
   {
    "duration": 1778,
    "start_time": "2022-05-15T13:46:29.803Z"
   },
   {
    "duration": 853,
    "start_time": "2022-05-15T13:46:31.583Z"
   },
   {
    "duration": 136,
    "start_time": "2022-05-15T13:46:32.439Z"
   },
   {
    "duration": 119,
    "start_time": "2022-05-15T13:46:32.577Z"
   },
   {
    "duration": 284,
    "start_time": "2022-05-15T13:46:32.708Z"
   },
   {
    "duration": 18,
    "start_time": "2022-05-15T13:46:32.994Z"
   },
   {
    "duration": 465,
    "start_time": "2022-05-15T13:46:33.014Z"
   },
   {
    "duration": 134,
    "start_time": "2022-05-15T13:46:33.481Z"
   },
   {
    "duration": 11,
    "start_time": "2022-05-15T13:46:33.616Z"
   },
   {
    "duration": 18,
    "start_time": "2022-05-15T13:46:33.629Z"
   },
   {
    "duration": 17,
    "start_time": "2022-05-15T13:46:33.649Z"
   },
   {
    "duration": 39,
    "start_time": "2022-05-15T13:46:33.668Z"
   },
   {
    "duration": 121,
    "start_time": "2022-05-15T13:46:33.709Z"
   },
   {
    "duration": 13,
    "start_time": "2022-05-15T13:46:33.833Z"
   },
   {
    "duration": 268,
    "start_time": "2022-05-15T13:46:33.848Z"
   },
   {
    "duration": 168,
    "start_time": "2022-05-15T13:46:34.117Z"
   },
   {
    "duration": 421,
    "start_time": "2022-05-15T13:46:34.286Z"
   },
   {
    "duration": 23,
    "start_time": "2022-05-15T13:46:34.709Z"
   },
   {
    "duration": 205,
    "start_time": "2022-05-15T13:46:34.734Z"
   },
   {
    "duration": 335,
    "start_time": "2022-05-15T13:46:34.941Z"
   },
   {
    "duration": 29,
    "start_time": "2022-05-15T13:46:35.278Z"
   },
   {
    "duration": 434,
    "start_time": "2022-05-15T13:46:35.309Z"
   },
   {
    "duration": 22,
    "start_time": "2022-05-15T13:46:35.745Z"
   },
   {
    "duration": 47,
    "start_time": "2022-05-15T13:46:35.769Z"
   },
   {
    "duration": 65,
    "start_time": "2022-05-15T13:46:35.818Z"
   },
   {
    "duration": 280,
    "start_time": "2022-05-15T13:46:35.884Z"
   },
   {
    "duration": 253,
    "start_time": "2022-05-15T13:46:36.166Z"
   },
   {
    "duration": 304,
    "start_time": "2022-05-15T13:46:36.421Z"
   },
   {
    "duration": 65,
    "start_time": "2022-05-15T13:46:36.726Z"
   },
   {
    "duration": 76,
    "start_time": "2022-05-15T13:46:36.792Z"
   },
   {
    "duration": 130,
    "start_time": "2022-05-15T13:46:36.870Z"
   },
   {
    "duration": 502,
    "start_time": "2022-05-15T13:46:37.006Z"
   },
   {
    "duration": 4,
    "start_time": "2022-05-15T13:46:37.510Z"
   },
   {
    "duration": 4,
    "start_time": "2022-05-15T13:46:37.516Z"
   },
   {
    "duration": 5,
    "start_time": "2022-05-15T13:46:37.523Z"
   },
   {
    "duration": 6,
    "start_time": "2022-05-15T13:46:37.530Z"
   },
   {
    "duration": 5,
    "start_time": "2022-05-15T13:46:37.537Z"
   },
   {
    "duration": 10,
    "start_time": "2022-05-15T13:46:37.544Z"
   },
   {
    "duration": 53,
    "start_time": "2022-05-15T13:46:37.556Z"
   },
   {
    "duration": 376,
    "start_time": "2022-05-15T13:47:26.560Z"
   },
   {
    "duration": 3,
    "start_time": "2022-05-15T13:47:28.708Z"
   },
   {
    "duration": 159495,
    "start_time": "2022-05-15T13:47:40.744Z"
   },
   {
    "duration": 506782,
    "start_time": "2022-05-15T13:51:44.902Z"
   },
   {
    "duration": 3,
    "start_time": "2022-05-15T14:01:49.276Z"
   },
   {
    "duration": 3,
    "start_time": "2022-05-15T14:02:05.004Z"
   },
   {
    "duration": 49296,
    "start_time": "2022-05-15T14:02:06.609Z"
   },
   {
    "duration": 4,
    "start_time": "2022-05-15T14:03:04.260Z"
   },
   {
    "duration": 61488,
    "start_time": "2022-05-15T14:03:07.429Z"
   },
   {
    "duration": 3,
    "start_time": "2022-05-15T14:05:20.867Z"
   },
   {
    "duration": 35010,
    "start_time": "2022-05-15T14:05:25.151Z"
   },
   {
    "duration": 3,
    "start_time": "2022-05-15T14:06:19.219Z"
   },
   {
    "duration": 29124,
    "start_time": "2022-05-15T14:06:20.013Z"
   },
   {
    "duration": 12,
    "start_time": "2022-05-15T14:07:31.827Z"
   },
   {
    "duration": 124,
    "start_time": "2022-05-15T14:08:05.241Z"
   },
   {
    "duration": 2090,
    "start_time": "2022-05-15T14:08:16.196Z"
   },
   {
    "duration": 1902,
    "start_time": "2022-05-15T14:08:35.554Z"
   },
   {
    "duration": 1924,
    "start_time": "2022-05-15T14:09:22.593Z"
   },
   {
    "duration": 2021,
    "start_time": "2022-05-15T14:12:13.835Z"
   },
   {
    "duration": 1892,
    "start_time": "2022-05-15T14:12:35.469Z"
   },
   {
    "duration": 13,
    "start_time": "2022-05-15T14:13:03.334Z"
   },
   {
    "duration": 5,
    "start_time": "2022-05-15T14:13:14.287Z"
   },
   {
    "duration": 21,
    "start_time": "2022-05-15T14:14:38.609Z"
   },
   {
    "duration": 20,
    "start_time": "2022-05-15T14:15:07.056Z"
   },
   {
    "duration": 9,
    "start_time": "2022-05-15T14:16:05.680Z"
   },
   {
    "duration": 50781,
    "start_time": "2022-05-15T14:16:27.466Z"
   },
   {
    "duration": 322,
    "start_time": "2022-05-15T14:34:15.529Z"
   },
   {
    "duration": 10,
    "start_time": "2022-05-15T14:36:00.026Z"
   },
   {
    "duration": 11,
    "start_time": "2022-05-15T14:36:22.801Z"
   },
   {
    "duration": 5,
    "start_time": "2022-05-15T14:36:44.668Z"
   },
   {
    "duration": 3,
    "start_time": "2022-05-15T14:36:52.132Z"
   },
   {
    "duration": 409043,
    "start_time": "2022-05-15T14:45:50.993Z"
   },
   {
    "duration": 2846792,
    "start_time": "2022-05-15T15:14:18.501Z"
   },
   {
    "duration": 3,
    "start_time": "2022-05-15T16:02:56.267Z"
   },
   {
    "duration": 618687,
    "start_time": "2022-05-15T16:02:57.464Z"
   },
   {
    "duration": 2,
    "start_time": "2022-05-15T16:13:22.626Z"
   },
   {
    "duration": 538254,
    "start_time": "2022-05-15T16:13:23.887Z"
   },
   {
    "duration": 2,
    "start_time": "2022-05-15T16:22:31.138Z"
   },
   {
    "duration": 254256,
    "start_time": "2022-05-15T16:22:33.096Z"
   },
   {
    "duration": 3,
    "start_time": "2022-05-15T16:39:44.238Z"
   },
   {
    "duration": 445545,
    "start_time": "2022-05-15T16:39:47.099Z"
   },
   {
    "duration": 3,
    "start_time": "2022-05-15T17:51:04.045Z"
   },
   {
    "duration": 43538,
    "start_time": "2022-05-15T17:51:07.388Z"
   },
   {
    "duration": 0,
    "start_time": "2022-05-15T17:51:50.927Z"
   },
   {
    "duration": 3,
    "start_time": "2022-05-15T17:51:53.130Z"
   },
   {
    "duration": 162,
    "start_time": "2022-05-15T17:54:07.376Z"
   },
   {
    "duration": 1648,
    "start_time": "2022-05-15T17:54:25.839Z"
   },
   {
    "duration": 2358,
    "start_time": "2022-05-15T17:54:27.489Z"
   },
   {
    "duration": 140,
    "start_time": "2022-05-15T17:54:29.848Z"
   },
   {
    "duration": 106,
    "start_time": "2022-05-15T17:54:29.990Z"
   },
   {
    "duration": 286,
    "start_time": "2022-05-15T17:54:30.098Z"
   },
   {
    "duration": 22,
    "start_time": "2022-05-15T17:54:30.385Z"
   },
   {
    "duration": 481,
    "start_time": "2022-05-15T17:54:30.409Z"
   },
   {
    "duration": 139,
    "start_time": "2022-05-15T17:54:30.892Z"
   },
   {
    "duration": 12,
    "start_time": "2022-05-15T17:54:31.033Z"
   },
   {
    "duration": 19,
    "start_time": "2022-05-15T17:54:31.048Z"
   },
   {
    "duration": 54,
    "start_time": "2022-05-15T17:54:31.068Z"
   },
   {
    "duration": 3,
    "start_time": "2022-05-15T17:54:31.124Z"
   },
   {
    "duration": 117,
    "start_time": "2022-05-15T17:54:31.129Z"
   },
   {
    "duration": 11,
    "start_time": "2022-05-15T17:54:31.248Z"
   },
   {
    "duration": 265,
    "start_time": "2022-05-15T17:54:31.260Z"
   },
   {
    "duration": 160,
    "start_time": "2022-05-15T17:54:31.527Z"
   },
   {
    "duration": 395,
    "start_time": "2022-05-15T17:54:31.689Z"
   },
   {
    "duration": 28,
    "start_time": "2022-05-15T17:54:32.086Z"
   },
   {
    "duration": 173,
    "start_time": "2022-05-15T17:54:32.116Z"
   },
   {
    "duration": 324,
    "start_time": "2022-05-15T17:54:32.291Z"
   },
   {
    "duration": 28,
    "start_time": "2022-05-15T17:54:32.617Z"
   },
   {
    "duration": 440,
    "start_time": "2022-05-15T17:54:32.647Z"
   },
   {
    "duration": 39,
    "start_time": "2022-05-15T17:54:33.089Z"
   },
   {
    "duration": 32,
    "start_time": "2022-05-15T17:54:33.129Z"
   },
   {
    "duration": 73,
    "start_time": "2022-05-15T17:54:33.163Z"
   },
   {
    "duration": 263,
    "start_time": "2022-05-15T17:54:33.237Z"
   },
   {
    "duration": 253,
    "start_time": "2022-05-15T17:54:33.502Z"
   },
   {
    "duration": 301,
    "start_time": "2022-05-15T17:54:33.759Z"
   },
   {
    "duration": 63,
    "start_time": "2022-05-15T17:54:34.062Z"
   },
   {
    "duration": 86,
    "start_time": "2022-05-15T17:54:34.127Z"
   },
   {
    "duration": 124,
    "start_time": "2022-05-15T17:54:34.215Z"
   },
   {
    "duration": 504,
    "start_time": "2022-05-15T17:54:34.341Z"
   },
   {
    "duration": 4,
    "start_time": "2022-05-15T17:54:34.847Z"
   },
   {
    "duration": 12,
    "start_time": "2022-05-15T17:54:34.853Z"
   },
   {
    "duration": 8,
    "start_time": "2022-05-15T17:54:34.866Z"
   },
   {
    "duration": 4,
    "start_time": "2022-05-15T17:54:34.875Z"
   },
   {
    "duration": 5,
    "start_time": "2022-05-15T17:54:34.881Z"
   },
   {
    "duration": 23,
    "start_time": "2022-05-15T17:54:34.887Z"
   },
   {
    "duration": 16,
    "start_time": "2022-05-15T17:54:34.911Z"
   },
   {
    "duration": 380,
    "start_time": "2022-05-15T17:54:47.777Z"
   },
   {
    "duration": 3,
    "start_time": "2022-05-15T17:54:48.390Z"
   },
   {
    "duration": 2391822,
    "start_time": "2022-05-15T17:54:55.976Z"
   },
   {
    "duration": 2,
    "start_time": "2022-05-15T18:53:00.690Z"
   },
   {
    "duration": 229696,
    "start_time": "2022-05-15T18:53:01.628Z"
   },
   {
    "duration": 188,
    "start_time": "2022-05-15T18:57:31.540Z"
   },
   {
    "duration": 365,
    "start_time": "2022-05-15T18:57:40.656Z"
   },
   {
    "duration": 377,
    "start_time": "2022-05-15T18:58:28.410Z"
   },
   {
    "duration": 361,
    "start_time": "2022-05-15T18:58:41.861Z"
   },
   {
    "duration": 361,
    "start_time": "2022-05-15T18:58:53.775Z"
   },
   {
    "duration": 383,
    "start_time": "2022-05-15T19:01:37.713Z"
   },
   {
    "duration": 373,
    "start_time": "2022-05-15T19:02:49.124Z"
   },
   {
    "duration": 120,
    "start_time": "2022-05-15T19:03:14.331Z"
   },
   {
    "duration": 478,
    "start_time": "2022-05-15T19:03:30.953Z"
   },
   {
    "duration": 190,
    "start_time": "2022-05-15T19:03:38.479Z"
   },
   {
    "duration": 4,
    "start_time": "2022-05-15T19:06:36.632Z"
   },
   {
    "duration": 85,
    "start_time": "2022-05-15T19:07:56.842Z"
   },
   {
    "duration": 34,
    "start_time": "2022-05-15T19:08:19.359Z"
   },
   {
    "duration": 305,
    "start_time": "2022-05-15T19:09:04.284Z"
   },
   {
    "duration": 6,
    "start_time": "2022-05-15T19:09:08.803Z"
   },
   {
    "duration": 27579,
    "start_time": "2022-05-15T19:09:26.563Z"
   },
   {
    "duration": 5,
    "start_time": "2022-05-15T19:14:24.561Z"
   },
   {
    "duration": 820,
    "start_time": "2022-05-15T19:14:24.569Z"
   },
   {
    "duration": 131,
    "start_time": "2022-05-15T19:14:25.391Z"
   },
   {
    "duration": 96,
    "start_time": "2022-05-15T19:14:25.524Z"
   },
   {
    "duration": 269,
    "start_time": "2022-05-15T19:14:25.622Z"
   },
   {
    "duration": 23,
    "start_time": "2022-05-15T19:14:25.893Z"
   },
   {
    "duration": 418,
    "start_time": "2022-05-15T19:14:25.919Z"
   },
   {
    "duration": 131,
    "start_time": "2022-05-15T19:14:26.339Z"
   },
   {
    "duration": 11,
    "start_time": "2022-05-15T19:14:26.472Z"
   },
   {
    "duration": 17,
    "start_time": "2022-05-15T19:14:26.507Z"
   },
   {
    "duration": 17,
    "start_time": "2022-05-15T19:14:26.526Z"
   },
   {
    "duration": 3,
    "start_time": "2022-05-15T19:14:26.544Z"
   },
   {
    "duration": 106,
    "start_time": "2022-05-15T19:14:26.549Z"
   },
   {
    "duration": 11,
    "start_time": "2022-05-15T19:14:26.657Z"
   },
   {
    "duration": 244,
    "start_time": "2022-05-15T19:14:26.670Z"
   },
   {
    "duration": 164,
    "start_time": "2022-05-15T19:14:26.916Z"
   },
   {
    "duration": 371,
    "start_time": "2022-05-15T19:14:27.082Z"
   },
   {
    "duration": 22,
    "start_time": "2022-05-15T19:14:27.454Z"
   },
   {
    "duration": 170,
    "start_time": "2022-05-15T19:14:27.478Z"
   },
   {
    "duration": 306,
    "start_time": "2022-05-15T19:14:27.649Z"
   },
   {
    "duration": 26,
    "start_time": "2022-05-15T19:14:27.957Z"
   },
   {
    "duration": 353,
    "start_time": "2022-05-15T19:14:27.985Z"
   },
   {
    "duration": 20,
    "start_time": "2022-05-15T19:14:28.340Z"
   },
   {
    "duration": 53,
    "start_time": "2022-05-15T19:14:28.362Z"
   },
   {
    "duration": 62,
    "start_time": "2022-05-15T19:14:28.417Z"
   },
   {
    "duration": 251,
    "start_time": "2022-05-15T19:14:28.481Z"
   },
   {
    "duration": 259,
    "start_time": "2022-05-15T19:14:28.734Z"
   },
   {
    "duration": 305,
    "start_time": "2022-05-15T19:14:28.999Z"
   },
   {
    "duration": 63,
    "start_time": "2022-05-15T19:14:29.307Z"
   },
   {
    "duration": 72,
    "start_time": "2022-05-15T19:14:29.372Z"
   },
   {
    "duration": 117,
    "start_time": "2022-05-15T19:14:29.446Z"
   },
   {
    "duration": 475,
    "start_time": "2022-05-15T19:14:29.565Z"
   },
   {
    "duration": 4,
    "start_time": "2022-05-15T19:14:30.042Z"
   },
   {
    "duration": 8,
    "start_time": "2022-05-15T19:14:30.048Z"
   },
   {
    "duration": 6,
    "start_time": "2022-05-15T19:14:30.058Z"
   },
   {
    "duration": 10,
    "start_time": "2022-05-15T19:14:30.065Z"
   },
   {
    "duration": 7,
    "start_time": "2022-05-15T19:14:30.077Z"
   },
   {
    "duration": 22,
    "start_time": "2022-05-15T19:14:30.086Z"
   },
   {
    "duration": 15,
    "start_time": "2022-05-15T19:14:30.110Z"
   },
   {
    "duration": 3,
    "start_time": "2022-05-15T19:14:30.127Z"
   },
   {
    "duration": 4877,
    "start_time": "2022-05-15T19:14:30.131Z"
   },
   {
    "duration": 2,
    "start_time": "2022-05-15T19:14:35.010Z"
   },
   {
    "duration": 41522,
    "start_time": "2022-05-15T19:14:35.014Z"
   },
   {
    "duration": 3,
    "start_time": "2022-05-15T19:15:16.538Z"
   },
   {
    "duration": 17798,
    "start_time": "2022-05-15T19:15:16.543Z"
   },
   {
    "duration": 272,
    "start_time": "2022-05-15T19:15:34.343Z"
   },
   {
    "duration": 15,
    "start_time": "2022-05-15T19:15:34.616Z"
   },
   {
    "duration": 0,
    "start_time": "2022-05-15T19:15:34.633Z"
   },
   {
    "duration": 0,
    "start_time": "2022-05-15T19:15:34.634Z"
   },
   {
    "duration": 0,
    "start_time": "2022-05-15T19:15:34.635Z"
   },
   {
    "duration": 0,
    "start_time": "2022-05-15T19:15:34.636Z"
   },
   {
    "duration": 0,
    "start_time": "2022-05-15T19:15:34.637Z"
   },
   {
    "duration": 0,
    "start_time": "2022-05-15T19:15:34.638Z"
   },
   {
    "duration": 0,
    "start_time": "2022-05-15T19:15:34.639Z"
   },
   {
    "duration": 0,
    "start_time": "2022-05-15T19:15:34.640Z"
   },
   {
    "duration": 0,
    "start_time": "2022-05-15T19:15:34.641Z"
   },
   {
    "duration": 0,
    "start_time": "2022-05-15T19:15:34.642Z"
   },
   {
    "duration": 0,
    "start_time": "2022-05-15T19:15:34.643Z"
   },
   {
    "duration": 0,
    "start_time": "2022-05-15T19:15:34.644Z"
   },
   {
    "duration": 0,
    "start_time": "2022-05-15T19:15:34.645Z"
   },
   {
    "duration": 0,
    "start_time": "2022-05-15T19:15:34.646Z"
   },
   {
    "duration": 0,
    "start_time": "2022-05-15T19:15:34.647Z"
   },
   {
    "duration": 0,
    "start_time": "2022-05-15T19:15:34.649Z"
   },
   {
    "duration": 0,
    "start_time": "2022-05-15T19:15:34.650Z"
   },
   {
    "duration": 0,
    "start_time": "2022-05-15T19:15:34.651Z"
   },
   {
    "duration": 0,
    "start_time": "2022-05-15T19:15:34.652Z"
   },
   {
    "duration": 0,
    "start_time": "2022-05-15T19:15:34.653Z"
   },
   {
    "duration": 0,
    "start_time": "2022-05-15T19:15:34.654Z"
   },
   {
    "duration": 0,
    "start_time": "2022-05-15T19:15:34.656Z"
   },
   {
    "duration": 0,
    "start_time": "2022-05-15T19:15:34.657Z"
   },
   {
    "duration": 0,
    "start_time": "2022-05-15T19:15:34.658Z"
   },
   {
    "duration": 0,
    "start_time": "2022-05-15T19:15:34.659Z"
   },
   {
    "duration": 0,
    "start_time": "2022-05-15T19:15:34.707Z"
   },
   {
    "duration": 8,
    "start_time": "2022-05-15T19:33:41.331Z"
   },
   {
    "duration": 372,
    "start_time": "2022-05-15T19:33:51.631Z"
   },
   {
    "duration": 3,
    "start_time": "2022-05-15T19:33:52.005Z"
   },
   {
    "duration": 8808,
    "start_time": "2022-05-15T19:33:52.010Z"
   },
   {
    "duration": 3,
    "start_time": "2022-05-15T19:34:00.819Z"
   },
   {
    "duration": 52703,
    "start_time": "2022-05-15T19:34:00.824Z"
   },
   {
    "duration": 3,
    "start_time": "2022-05-15T19:34:53.529Z"
   },
   {
    "duration": 30411,
    "start_time": "2022-05-15T19:34:53.533Z"
   },
   {
    "duration": 434,
    "start_time": "2022-05-15T19:35:23.946Z"
   },
   {
    "duration": 6,
    "start_time": "2022-05-15T19:35:24.381Z"
   },
   {
    "duration": 44120,
    "start_time": "2022-05-15T19:35:24.389Z"
   },
   {
    "duration": 62,
    "start_time": "2022-05-15T19:36:08.512Z"
   },
   {
    "duration": 3,
    "start_time": "2022-05-15T19:36:08.576Z"
   },
   {
    "duration": 174290,
    "start_time": "2022-05-15T19:36:08.581Z"
   },
   {
    "duration": 415,
    "start_time": "2022-05-15T19:39:02.876Z"
   },
   {
    "duration": 3,
    "start_time": "2022-05-15T19:39:03.293Z"
   },
   {
    "duration": 29315,
    "start_time": "2022-05-15T19:39:03.297Z"
   },
   {
    "duration": 3,
    "start_time": "2022-05-15T19:39:32.614Z"
   },
   {
    "duration": 61108,
    "start_time": "2022-05-15T19:39:32.619Z"
   },
   {
    "duration": 4,
    "start_time": "2022-05-15T19:40:33.728Z"
   },
   {
    "duration": 33313,
    "start_time": "2022-05-15T19:40:33.734Z"
   },
   {
    "duration": 2152,
    "start_time": "2022-05-15T19:41:07.049Z"
   },
   {
    "duration": 21,
    "start_time": "2022-05-15T19:41:09.203Z"
   },
   {
    "duration": 46895,
    "start_time": "2022-05-15T19:41:09.226Z"
   },
   {
    "duration": 290,
    "start_time": "2022-05-15T19:41:56.123Z"
   },
   {
    "duration": 3,
    "start_time": "2022-05-15T19:41:56.414Z"
   },
   {
    "duration": 329228,
    "start_time": "2022-05-15T19:41:56.419Z"
   },
   {
    "duration": 3,
    "start_time": "2022-05-15T19:47:25.648Z"
   },
   {
    "duration": 225670,
    "start_time": "2022-05-15T19:47:25.653Z"
   },
   {
    "duration": 209,
    "start_time": "2022-05-15T19:51:11.325Z"
   },
   {
    "duration": 6,
    "start_time": "2022-05-15T19:51:11.536Z"
   },
   {
    "duration": 23487,
    "start_time": "2022-05-15T19:51:11.543Z"
   },
   {
    "duration": 328,
    "start_time": "2022-05-15T19:51:35.031Z"
   },
   {
    "duration": 3,
    "start_time": "2022-05-15T19:51:35.361Z"
   },
   {
    "duration": 17151,
    "start_time": "2022-05-15T19:51:35.365Z"
   },
   {
    "duration": 27,
    "start_time": "2022-05-15T19:51:52.518Z"
   },
   {
    "duration": 8,
    "start_time": "2022-05-15T19:51:52.547Z"
   },
   {
    "duration": 6,
    "start_time": "2022-05-15T19:51:52.556Z"
   },
   {
    "duration": 32,
    "start_time": "2022-05-15T19:58:54.248Z"
   },
   {
    "duration": 31,
    "start_time": "2022-05-15T20:00:00.606Z"
   },
   {
    "duration": 89,
    "start_time": "2022-05-15T20:05:16.947Z"
   },
   {
    "duration": 296,
    "start_time": "2022-05-15T20:07:07.342Z"
   },
   {
    "duration": 39589,
    "start_time": "2022-05-15T20:07:08.319Z"
   },
   {
    "duration": 48205,
    "start_time": "2022-05-15T20:07:47.910Z"
   },
   {
    "duration": 59006,
    "start_time": "2022-05-15T20:08:36.117Z"
   },
   {
    "duration": 6,
    "start_time": "2022-05-15T20:09:35.125Z"
   },
   {
    "duration": 288,
    "start_time": "2022-05-15T20:10:32.033Z"
   },
   {
    "duration": 37715,
    "start_time": "2022-05-15T20:10:32.546Z"
   },
   {
    "duration": 23564,
    "start_time": "2022-05-15T20:11:10.264Z"
   },
   {
    "duration": 59349,
    "start_time": "2022-05-15T20:11:33.830Z"
   },
   {
    "duration": 38,
    "start_time": "2022-05-15T20:12:33.181Z"
   },
   {
    "duration": 111773,
    "start_time": "2022-05-15T20:14:16.736Z"
   },
   {
    "duration": 21607,
    "start_time": "2022-05-15T20:16:08.511Z"
   },
   {
    "duration": 60307,
    "start_time": "2022-05-15T20:16:30.120Z"
   },
   {
    "duration": 32,
    "start_time": "2022-05-15T20:17:30.429Z"
   },
   {
    "duration": 9,
    "start_time": "2022-05-15T20:18:51.021Z"
   },
   {
    "duration": 5,
    "start_time": "2022-05-15T20:18:54.029Z"
   },
   {
    "duration": 295,
    "start_time": "2022-05-15T20:18:57.045Z"
   },
   {
    "duration": 189025,
    "start_time": "2022-05-15T20:18:57.486Z"
   },
   {
    "duration": 22518,
    "start_time": "2022-05-15T20:22:06.512Z"
   },
   {
    "duration": 59761,
    "start_time": "2022-05-15T20:22:29.033Z"
   },
   {
    "duration": 11,
    "start_time": "2022-05-15T20:23:28.796Z"
   },
   {
    "duration": 2454,
    "start_time": "2022-05-16T06:44:48.119Z"
   },
   {
    "duration": 1179,
    "start_time": "2022-05-16T06:44:50.576Z"
   },
   {
    "duration": 168,
    "start_time": "2022-05-16T06:44:51.758Z"
   },
   {
    "duration": 144,
    "start_time": "2022-05-16T06:44:51.928Z"
   },
   {
    "duration": 389,
    "start_time": "2022-05-16T06:44:52.075Z"
   },
   {
    "duration": 27,
    "start_time": "2022-05-16T06:44:52.466Z"
   },
   {
    "duration": 685,
    "start_time": "2022-05-16T06:44:52.495Z"
   },
   {
    "duration": 171,
    "start_time": "2022-05-16T06:44:53.183Z"
   },
   {
    "duration": 17,
    "start_time": "2022-05-16T06:44:53.356Z"
   },
   {
    "duration": 94,
    "start_time": "2022-05-16T06:44:53.398Z"
   },
   {
    "duration": 52,
    "start_time": "2022-05-16T06:44:53.509Z"
   },
   {
    "duration": 5,
    "start_time": "2022-05-16T06:44:53.564Z"
   },
   {
    "duration": 152,
    "start_time": "2022-05-16T06:44:53.571Z"
   },
   {
    "duration": 17,
    "start_time": "2022-05-16T06:44:53.728Z"
   },
   {
    "duration": 359,
    "start_time": "2022-05-16T06:44:53.748Z"
   },
   {
    "duration": 285,
    "start_time": "2022-05-16T06:44:54.109Z"
   },
   {
    "duration": 531,
    "start_time": "2022-05-16T06:44:54.396Z"
   },
   {
    "duration": 47,
    "start_time": "2022-05-16T06:44:54.929Z"
   },
   {
    "duration": 249,
    "start_time": "2022-05-16T06:44:54.979Z"
   },
   {
    "duration": 568,
    "start_time": "2022-05-16T06:44:55.230Z"
   },
   {
    "duration": 49,
    "start_time": "2022-05-16T06:44:55.800Z"
   },
   {
    "duration": 563,
    "start_time": "2022-05-16T06:44:55.852Z"
   },
   {
    "duration": 38,
    "start_time": "2022-05-16T06:44:56.417Z"
   },
   {
    "duration": 58,
    "start_time": "2022-05-16T06:44:56.458Z"
   },
   {
    "duration": 84,
    "start_time": "2022-05-16T06:44:56.519Z"
   },
   {
    "duration": 414,
    "start_time": "2022-05-16T06:44:56.606Z"
   },
   {
    "duration": 392,
    "start_time": "2022-05-16T06:44:57.023Z"
   },
   {
    "duration": 483,
    "start_time": "2022-05-16T06:44:57.418Z"
   },
   {
    "duration": 90,
    "start_time": "2022-05-16T06:44:57.903Z"
   },
   {
    "duration": 79,
    "start_time": "2022-05-16T06:44:57.995Z"
   },
   {
    "duration": 185,
    "start_time": "2022-05-16T06:44:58.076Z"
   },
   {
    "duration": 708,
    "start_time": "2022-05-16T06:44:58.264Z"
   },
   {
    "duration": 5,
    "start_time": "2022-05-16T06:44:58.974Z"
   },
   {
    "duration": 4,
    "start_time": "2022-05-16T06:44:58.994Z"
   },
   {
    "duration": 6,
    "start_time": "2022-05-16T06:44:59.001Z"
   },
   {
    "duration": 7,
    "start_time": "2022-05-16T06:44:59.009Z"
   },
   {
    "duration": 8,
    "start_time": "2022-05-16T06:44:59.018Z"
   },
   {
    "duration": 14,
    "start_time": "2022-05-16T06:44:59.028Z"
   },
   {
    "duration": 58,
    "start_time": "2022-05-16T06:44:59.044Z"
   },
   {
    "duration": 467,
    "start_time": "2022-05-16T06:44:59.104Z"
   },
   {
    "duration": 3,
    "start_time": "2022-05-16T06:44:59.579Z"
   },
   {
    "duration": 63413,
    "start_time": "2022-05-16T06:44:59.593Z"
   },
   {
    "duration": 2440,
    "start_time": "2022-05-16T09:03:44.597Z"
   },
   {
    "duration": 1475,
    "start_time": "2022-05-16T09:03:47.040Z"
   },
   {
    "duration": 192,
    "start_time": "2022-05-16T09:03:48.517Z"
   },
   {
    "duration": 152,
    "start_time": "2022-05-16T09:03:48.712Z"
   },
   {
    "duration": 433,
    "start_time": "2022-05-16T09:03:48.866Z"
   },
   {
    "duration": 21,
    "start_time": "2022-05-16T09:03:49.301Z"
   },
   {
    "duration": 695,
    "start_time": "2022-05-16T09:03:49.324Z"
   },
   {
    "duration": 184,
    "start_time": "2022-05-16T09:03:50.022Z"
   },
   {
    "duration": 41,
    "start_time": "2022-05-16T09:03:50.208Z"
   },
   {
    "duration": 42,
    "start_time": "2022-05-16T09:03:50.253Z"
   },
   {
    "duration": 67,
    "start_time": "2022-05-16T09:03:50.299Z"
   },
   {
    "duration": 6,
    "start_time": "2022-05-16T09:03:50.368Z"
   },
   {
    "duration": 170,
    "start_time": "2022-05-16T09:03:50.376Z"
   },
   {
    "duration": 20,
    "start_time": "2022-05-16T09:03:50.548Z"
   },
   {
    "duration": 412,
    "start_time": "2022-05-16T09:03:50.571Z"
   },
   {
    "duration": 236,
    "start_time": "2022-05-16T09:03:50.985Z"
   },
   {
    "duration": 543,
    "start_time": "2022-05-16T09:03:51.223Z"
   },
   {
    "duration": 45,
    "start_time": "2022-05-16T09:03:51.768Z"
   },
   {
    "duration": 291,
    "start_time": "2022-05-16T09:03:51.815Z"
   },
   {
    "duration": 694,
    "start_time": "2022-05-16T09:03:52.109Z"
   },
   {
    "duration": 64,
    "start_time": "2022-05-16T09:03:52.805Z"
   },
   {
    "duration": 881,
    "start_time": "2022-05-16T09:03:52.872Z"
   },
   {
    "duration": 42,
    "start_time": "2022-05-16T09:03:53.755Z"
   },
   {
    "duration": 82,
    "start_time": "2022-05-16T09:03:53.800Z"
   },
   {
    "duration": 170,
    "start_time": "2022-05-16T09:03:53.885Z"
   },
   {
    "duration": 424,
    "start_time": "2022-05-16T09:03:54.057Z"
   },
   {
    "duration": 415,
    "start_time": "2022-05-16T09:03:54.483Z"
   },
   {
    "duration": 487,
    "start_time": "2022-05-16T09:03:54.905Z"
   },
   {
    "duration": 79,
    "start_time": "2022-05-16T09:03:55.395Z"
   },
   {
    "duration": 102,
    "start_time": "2022-05-16T09:03:55.476Z"
   },
   {
    "duration": 191,
    "start_time": "2022-05-16T09:03:55.581Z"
   },
   {
    "duration": 645,
    "start_time": "2022-05-16T09:03:55.775Z"
   },
   {
    "duration": 6,
    "start_time": "2022-05-16T09:03:56.423Z"
   },
   {
    "duration": 8,
    "start_time": "2022-05-16T09:03:56.445Z"
   },
   {
    "duration": 13,
    "start_time": "2022-05-16T09:03:56.455Z"
   },
   {
    "duration": 6,
    "start_time": "2022-05-16T09:03:56.470Z"
   },
   {
    "duration": 6,
    "start_time": "2022-05-16T09:03:56.479Z"
   },
   {
    "duration": 17,
    "start_time": "2022-05-16T09:03:56.487Z"
   },
   {
    "duration": 63,
    "start_time": "2022-05-16T09:03:56.506Z"
   },
   {
    "duration": 569,
    "start_time": "2022-05-16T09:03:56.572Z"
   },
   {
    "duration": 4,
    "start_time": "2022-05-16T09:03:57.143Z"
   },
   {
    "duration": 389312,
    "start_time": "2022-05-16T09:03:57.150Z"
   },
   {
    "duration": 9869151,
    "start_time": "2022-05-16T09:10:26.465Z"
   },
   {
    "duration": 4,
    "start_time": "2022-05-16T11:54:55.618Z"
   },
   {
    "duration": 2641,
    "start_time": "2022-05-16T11:55:15.833Z"
   },
   {
    "duration": 1395,
    "start_time": "2022-05-16T11:55:18.481Z"
   },
   {
    "duration": 224,
    "start_time": "2022-05-16T11:55:19.878Z"
   },
   {
    "duration": 155,
    "start_time": "2022-05-16T11:55:20.106Z"
   },
   {
    "duration": 524,
    "start_time": "2022-05-16T11:55:20.265Z"
   },
   {
    "duration": 22,
    "start_time": "2022-05-16T11:55:20.792Z"
   },
   {
    "duration": 836,
    "start_time": "2022-05-16T11:55:20.816Z"
   },
   {
    "duration": 216,
    "start_time": "2022-05-16T11:55:21.656Z"
   },
   {
    "duration": 37,
    "start_time": "2022-05-16T11:55:21.875Z"
   },
   {
    "duration": 33,
    "start_time": "2022-05-16T11:55:21.916Z"
   },
   {
    "duration": 54,
    "start_time": "2022-05-16T11:55:21.952Z"
   },
   {
    "duration": 5,
    "start_time": "2022-05-16T11:55:22.009Z"
   },
   {
    "duration": 193,
    "start_time": "2022-05-16T11:55:22.017Z"
   },
   {
    "duration": 18,
    "start_time": "2022-05-16T11:55:22.212Z"
   },
   {
    "duration": 420,
    "start_time": "2022-05-16T11:55:22.250Z"
   },
   {
    "duration": 304,
    "start_time": "2022-05-16T11:55:22.675Z"
   },
   {
    "duration": 742,
    "start_time": "2022-05-16T11:55:22.987Z"
   },
   {
    "duration": 62,
    "start_time": "2022-05-16T11:55:23.734Z"
   },
   {
    "duration": 297,
    "start_time": "2022-05-16T11:55:23.798Z"
   },
   {
    "duration": 548,
    "start_time": "2022-05-16T11:55:24.097Z"
   },
   {
    "duration": 51,
    "start_time": "2022-05-16T11:55:24.647Z"
   },
   {
    "duration": 698,
    "start_time": "2022-05-16T11:55:24.701Z"
   },
   {
    "duration": 59,
    "start_time": "2022-05-16T11:55:25.401Z"
   },
   {
    "duration": 54,
    "start_time": "2022-05-16T11:55:25.473Z"
   },
   {
    "duration": 115,
    "start_time": "2022-05-16T11:55:25.529Z"
   },
   {
    "duration": 458,
    "start_time": "2022-05-16T11:55:25.647Z"
   },
   {
    "duration": 466,
    "start_time": "2022-05-16T11:55:26.108Z"
   },
   {
    "duration": 558,
    "start_time": "2022-05-16T11:55:26.584Z"
   },
   {
    "duration": 102,
    "start_time": "2022-05-16T11:55:27.148Z"
   },
   {
    "duration": 96,
    "start_time": "2022-05-16T11:55:27.252Z"
   },
   {
    "duration": 205,
    "start_time": "2022-05-16T11:55:27.351Z"
   },
   {
    "duration": 1117,
    "start_time": "2022-05-16T11:55:27.561Z"
   },
   {
    "duration": 13,
    "start_time": "2022-05-16T11:55:28.681Z"
   },
   {
    "duration": 12,
    "start_time": "2022-05-16T11:55:28.697Z"
   },
   {
    "duration": 9,
    "start_time": "2022-05-16T11:55:28.712Z"
   },
   {
    "duration": 10,
    "start_time": "2022-05-16T11:55:28.723Z"
   },
   {
    "duration": 6,
    "start_time": "2022-05-16T11:55:28.756Z"
   },
   {
    "duration": 47,
    "start_time": "2022-05-16T11:55:28.765Z"
   },
   {
    "duration": 37,
    "start_time": "2022-05-16T11:55:28.815Z"
   },
   {
    "duration": 536,
    "start_time": "2022-05-16T11:55:28.855Z"
   },
   {
    "duration": 4,
    "start_time": "2022-05-16T11:55:29.394Z"
   },
   {
    "duration": 3810,
    "start_time": "2022-05-17T15:37:09.724Z"
   },
   {
    "duration": 1142,
    "start_time": "2022-05-17T15:37:13.536Z"
   },
   {
    "duration": 183,
    "start_time": "2022-05-17T15:37:14.680Z"
   },
   {
    "duration": 133,
    "start_time": "2022-05-17T15:37:14.865Z"
   },
   {
    "duration": 340,
    "start_time": "2022-05-17T15:37:15.001Z"
   },
   {
    "duration": 15,
    "start_time": "2022-05-17T15:37:15.342Z"
   },
   {
    "duration": 589,
    "start_time": "2022-05-17T15:37:15.359Z"
   },
   {
    "duration": 163,
    "start_time": "2022-05-17T15:37:15.950Z"
   },
   {
    "duration": 13,
    "start_time": "2022-05-17T15:37:16.115Z"
   },
   {
    "duration": 19,
    "start_time": "2022-05-17T15:37:16.131Z"
   },
   {
    "duration": 67,
    "start_time": "2022-05-17T15:37:16.152Z"
   },
   {
    "duration": 4,
    "start_time": "2022-05-17T15:37:16.221Z"
   },
   {
    "duration": 126,
    "start_time": "2022-05-17T15:37:16.227Z"
   },
   {
    "duration": 5,
    "start_time": "2022-05-17T15:37:16.355Z"
   },
   {
    "duration": 13,
    "start_time": "2022-05-17T15:37:16.361Z"
   },
   {
    "duration": 374,
    "start_time": "2022-05-17T15:37:16.397Z"
   },
   {
    "duration": 216,
    "start_time": "2022-05-17T15:37:16.773Z"
   },
   {
    "duration": 496,
    "start_time": "2022-05-17T15:37:16.991Z"
   },
   {
    "duration": 40,
    "start_time": "2022-05-17T15:37:17.489Z"
   },
   {
    "duration": 202,
    "start_time": "2022-05-17T15:37:17.531Z"
   },
   {
    "duration": 371,
    "start_time": "2022-05-17T15:37:17.734Z"
   },
   {
    "duration": 34,
    "start_time": "2022-05-17T15:37:18.109Z"
   },
   {
    "duration": 541,
    "start_time": "2022-05-17T15:37:18.145Z"
   },
   {
    "duration": 32,
    "start_time": "2022-05-17T15:37:18.688Z"
   },
   {
    "duration": 32,
    "start_time": "2022-05-17T15:37:18.724Z"
   },
   {
    "duration": 96,
    "start_time": "2022-05-17T15:37:18.758Z"
   },
   {
    "duration": 317,
    "start_time": "2022-05-17T15:37:18.857Z"
   },
   {
    "duration": 303,
    "start_time": "2022-05-17T15:37:19.176Z"
   },
   {
    "duration": 379,
    "start_time": "2022-05-17T15:37:19.481Z"
   },
   {
    "duration": 82,
    "start_time": "2022-05-17T15:37:19.861Z"
   },
   {
    "duration": 115,
    "start_time": "2022-05-17T15:37:19.945Z"
   },
   {
    "duration": 169,
    "start_time": "2022-05-17T15:37:20.062Z"
   },
   {
    "duration": 838,
    "start_time": "2022-05-17T15:37:20.234Z"
   },
   {
    "duration": 7,
    "start_time": "2022-05-17T15:57:50.678Z"
   },
   {
    "duration": 5,
    "start_time": "2022-05-17T15:57:50.927Z"
   },
   {
    "duration": 6,
    "start_time": "2022-05-17T15:57:51.270Z"
   },
   {
    "duration": 4,
    "start_time": "2022-05-17T15:57:51.662Z"
   },
   {
    "duration": 4,
    "start_time": "2022-05-17T15:57:52.414Z"
   },
   {
    "duration": 11,
    "start_time": "2022-05-17T15:57:52.907Z"
   },
   {
    "duration": 19,
    "start_time": "2022-05-17T15:57:58.693Z"
   },
   {
    "duration": 456,
    "start_time": "2022-05-17T15:58:02.389Z"
   },
   {
    "duration": 3,
    "start_time": "2022-05-17T15:58:05.524Z"
   },
   {
    "duration": 208299,
    "start_time": "2022-05-17T15:58:19.581Z"
   }
  ],
  "kernelspec": {
   "display_name": "Python 3 (ipykernel)",
   "language": "python",
   "name": "python3"
  },
  "language_info": {
   "codemirror_mode": {
    "name": "ipython",
    "version": 3
   },
   "file_extension": ".py",
   "mimetype": "text/x-python",
   "name": "python",
   "nbconvert_exporter": "python",
   "pygments_lexer": "ipython3",
   "version": "3.9.5"
  },
  "toc": {
   "base_numbering": 1,
   "nav_menu": {},
   "number_sections": true,
   "sideBar": true,
   "skip_h1_title": true,
   "title_cell": "Table of Contents",
   "title_sidebar": "Contents",
   "toc_cell": false,
   "toc_position": {
    "height": "calc(100% - 180px)",
    "left": "10px",
    "top": "150px",
    "width": "213.977px"
   },
   "toc_section_display": true,
   "toc_window_display": true
  }
 },
 "nbformat": 4,
 "nbformat_minor": 2
}
