{
 "cells": [
  {
   "cell_type": "markdown",
   "metadata": {
    "toc": true
   },
   "source": [
    "<h1>Содержание<span class=\"tocSkip\"></span></h1>\n",
    "<div class=\"toc\"><ul class=\"toc-item\"><li><span><a href=\"#Загрузка-данных\" data-toc-modified-id=\"Загрузка-данных-1\"><span class=\"toc-item-num\">1&nbsp;&nbsp;</span>Загрузка данных</a></span><ul class=\"toc-item\"><li><span><a href=\"#Вывод\" data-toc-modified-id=\"Вывод-1.1\"><span class=\"toc-item-num\">1.1&nbsp;&nbsp;</span>Вывод</a></span></li></ul></li><li><span><a href=\"#Умножение-матриц\" data-toc-modified-id=\"Умножение-матриц-2\"><span class=\"toc-item-num\">2&nbsp;&nbsp;</span>Умножение матриц</a></span></li><li><span><a href=\"#Алгоритм-преобразования\" data-toc-modified-id=\"Алгоритм-преобразования-3\"><span class=\"toc-item-num\">3&nbsp;&nbsp;</span>Алгоритм преобразования</a></span></li><li><span><a href=\"#Проверка-алгоритма\" data-toc-modified-id=\"Проверка-алгоритма-4\"><span class=\"toc-item-num\">4&nbsp;&nbsp;</span>Проверка алгоритма</a></span></li><li><span><a href=\"#Общий-вывод\" data-toc-modified-id=\"Общий-вывод-5\"><span class=\"toc-item-num\">5&nbsp;&nbsp;</span>Общий вывод</a></span></li></ul></div>"
   ]
  },
  {
   "cell_type": "markdown",
   "metadata": {},
   "source": [
    "# Защита персональных данных клиентов"
   ]
  },
  {
   "cell_type": "markdown",
   "metadata": {},
   "source": [
    "Вам нужно защитить данные клиентов страховой компании «Хоть потоп». Разработайте такой метод преобразования данных, чтобы по ним было сложно восстановить персональную информацию. Обоснуйте корректность его работы.\n",
    "\n",
    "Нужно защитить данные, чтобы при преобразовании качество моделей машинного обучения не ухудшилось. Подбирать наилучшую модель не требуется."
   ]
  },
  {
   "cell_type": "markdown",
   "metadata": {},
   "source": [
    "## Загрузка данных"
   ]
  },
  {
   "cell_type": "code",
   "execution_count": 1,
   "metadata": {},
   "outputs": [],
   "source": [
    "# загрузка библиотек\n",
    "import pandas as pd\n",
    "import numpy as np\n",
    "from sklearn.model_selection import train_test_split\n",
    "from sklearn.metrics import r2_score\n",
    "from sklearn.linear_model import LinearRegression"
   ]
  },
  {
   "cell_type": "code",
   "execution_count": 2,
   "metadata": {},
   "outputs": [],
   "source": [
    "# чтение файла с данными и сохранение в переменную df\n",
    "try:\n",
    "    df = pd.read_csv('C:/Users/79853/Documents/datascience/yandex/Спринт11/insurance.csv')\n",
    "except:\n",
    "    df = pd.read_csv('/datasets/insurance.csv') # загрузка онлайн"
   ]
  },
  {
   "cell_type": "code",
   "execution_count": 3,
   "metadata": {},
   "outputs": [
    {
     "name": "stdout",
     "output_type": "stream",
     "text": [
      "<class 'pandas.core.frame.DataFrame'>\n",
      "RangeIndex: 5000 entries, 0 to 4999\n",
      "Data columns (total 5 columns):\n",
      " #   Column             Non-Null Count  Dtype  \n",
      "---  ------             --------------  -----  \n",
      " 0   Пол                5000 non-null   int64  \n",
      " 1   Возраст            5000 non-null   float64\n",
      " 2   Зарплата           5000 non-null   float64\n",
      " 3   Члены семьи        5000 non-null   int64  \n",
      " 4   Страховые выплаты  5000 non-null   int64  \n",
      "dtypes: float64(2), int64(3)\n",
      "memory usage: 195.4 KB\n"
     ]
    }
   ],
   "source": [
    "df.info()"
   ]
  },
  {
   "cell_type": "code",
   "execution_count": 4,
   "metadata": {},
   "outputs": [
    {
     "data": {
      "text/html": [
       "<div>\n",
       "<style scoped>\n",
       "    .dataframe tbody tr th:only-of-type {\n",
       "        vertical-align: middle;\n",
       "    }\n",
       "\n",
       "    .dataframe tbody tr th {\n",
       "        vertical-align: top;\n",
       "    }\n",
       "\n",
       "    .dataframe thead th {\n",
       "        text-align: right;\n",
       "    }\n",
       "</style>\n",
       "<table border=\"1\" class=\"dataframe\">\n",
       "  <thead>\n",
       "    <tr style=\"text-align: right;\">\n",
       "      <th></th>\n",
       "      <th>count</th>\n",
       "      <th>mean</th>\n",
       "      <th>std</th>\n",
       "      <th>min</th>\n",
       "      <th>25%</th>\n",
       "      <th>50%</th>\n",
       "      <th>75%</th>\n",
       "      <th>max</th>\n",
       "    </tr>\n",
       "  </thead>\n",
       "  <tbody>\n",
       "    <tr>\n",
       "      <th>Пол</th>\n",
       "      <td>5000.0</td>\n",
       "      <td>0.4990</td>\n",
       "      <td>0.500049</td>\n",
       "      <td>0.0</td>\n",
       "      <td>0.0</td>\n",
       "      <td>0.0</td>\n",
       "      <td>1.0</td>\n",
       "      <td>1.0</td>\n",
       "    </tr>\n",
       "    <tr>\n",
       "      <th>Возраст</th>\n",
       "      <td>5000.0</td>\n",
       "      <td>30.9528</td>\n",
       "      <td>8.440807</td>\n",
       "      <td>18.0</td>\n",
       "      <td>24.0</td>\n",
       "      <td>30.0</td>\n",
       "      <td>37.0</td>\n",
       "      <td>65.0</td>\n",
       "    </tr>\n",
       "    <tr>\n",
       "      <th>Зарплата</th>\n",
       "      <td>5000.0</td>\n",
       "      <td>39916.3600</td>\n",
       "      <td>9900.083569</td>\n",
       "      <td>5300.0</td>\n",
       "      <td>33300.0</td>\n",
       "      <td>40200.0</td>\n",
       "      <td>46600.0</td>\n",
       "      <td>79000.0</td>\n",
       "    </tr>\n",
       "    <tr>\n",
       "      <th>Члены семьи</th>\n",
       "      <td>5000.0</td>\n",
       "      <td>1.1942</td>\n",
       "      <td>1.091387</td>\n",
       "      <td>0.0</td>\n",
       "      <td>0.0</td>\n",
       "      <td>1.0</td>\n",
       "      <td>2.0</td>\n",
       "      <td>6.0</td>\n",
       "    </tr>\n",
       "    <tr>\n",
       "      <th>Страховые выплаты</th>\n",
       "      <td>5000.0</td>\n",
       "      <td>0.1480</td>\n",
       "      <td>0.463183</td>\n",
       "      <td>0.0</td>\n",
       "      <td>0.0</td>\n",
       "      <td>0.0</td>\n",
       "      <td>0.0</td>\n",
       "      <td>5.0</td>\n",
       "    </tr>\n",
       "  </tbody>\n",
       "</table>\n",
       "</div>"
      ],
      "text/plain": [
       "                    count        mean          std     min      25%      50%  \\\n",
       "Пол                5000.0      0.4990     0.500049     0.0      0.0      0.0   \n",
       "Возраст            5000.0     30.9528     8.440807    18.0     24.0     30.0   \n",
       "Зарплата           5000.0  39916.3600  9900.083569  5300.0  33300.0  40200.0   \n",
       "Члены семьи        5000.0      1.1942     1.091387     0.0      0.0      1.0   \n",
       "Страховые выплаты  5000.0      0.1480     0.463183     0.0      0.0      0.0   \n",
       "\n",
       "                       75%      max  \n",
       "Пол                    1.0      1.0  \n",
       "Возраст               37.0     65.0  \n",
       "Зарплата           46600.0  79000.0  \n",
       "Члены семьи            2.0      6.0  \n",
       "Страховые выплаты      0.0      5.0  "
      ]
     },
     "execution_count": 4,
     "metadata": {},
     "output_type": "execute_result"
    }
   ],
   "source": [
    "df.describe().T"
   ]
  },
  {
   "cell_type": "code",
   "execution_count": 5,
   "metadata": {},
   "outputs": [
    {
     "data": {
      "text/html": [
       "<div>\n",
       "<style scoped>\n",
       "    .dataframe tbody tr th:only-of-type {\n",
       "        vertical-align: middle;\n",
       "    }\n",
       "\n",
       "    .dataframe tbody tr th {\n",
       "        vertical-align: top;\n",
       "    }\n",
       "\n",
       "    .dataframe thead th {\n",
       "        text-align: right;\n",
       "    }\n",
       "</style>\n",
       "<table border=\"1\" class=\"dataframe\">\n",
       "  <thead>\n",
       "    <tr style=\"text-align: right;\">\n",
       "      <th></th>\n",
       "      <th>Пол</th>\n",
       "      <th>Возраст</th>\n",
       "      <th>Зарплата</th>\n",
       "      <th>Члены семьи</th>\n",
       "      <th>Страховые выплаты</th>\n",
       "    </tr>\n",
       "  </thead>\n",
       "  <tbody>\n",
       "    <tr>\n",
       "      <th>0</th>\n",
       "      <td>1</td>\n",
       "      <td>41.0</td>\n",
       "      <td>49600.0</td>\n",
       "      <td>1</td>\n",
       "      <td>0</td>\n",
       "    </tr>\n",
       "    <tr>\n",
       "      <th>1</th>\n",
       "      <td>0</td>\n",
       "      <td>46.0</td>\n",
       "      <td>38000.0</td>\n",
       "      <td>1</td>\n",
       "      <td>1</td>\n",
       "    </tr>\n",
       "    <tr>\n",
       "      <th>2</th>\n",
       "      <td>0</td>\n",
       "      <td>29.0</td>\n",
       "      <td>21000.0</td>\n",
       "      <td>0</td>\n",
       "      <td>0</td>\n",
       "    </tr>\n",
       "    <tr>\n",
       "      <th>3</th>\n",
       "      <td>0</td>\n",
       "      <td>21.0</td>\n",
       "      <td>41700.0</td>\n",
       "      <td>2</td>\n",
       "      <td>0</td>\n",
       "    </tr>\n",
       "    <tr>\n",
       "      <th>4</th>\n",
       "      <td>1</td>\n",
       "      <td>28.0</td>\n",
       "      <td>26100.0</td>\n",
       "      <td>0</td>\n",
       "      <td>0</td>\n",
       "    </tr>\n",
       "  </tbody>\n",
       "</table>\n",
       "</div>"
      ],
      "text/plain": [
       "   Пол  Возраст  Зарплата  Члены семьи  Страховые выплаты\n",
       "0    1     41.0   49600.0            1                  0\n",
       "1    0     46.0   38000.0            1                  1\n",
       "2    0     29.0   21000.0            0                  0\n",
       "3    0     21.0   41700.0            2                  0\n",
       "4    1     28.0   26100.0            0                  0"
      ]
     },
     "execution_count": 5,
     "metadata": {},
     "output_type": "execute_result"
    }
   ],
   "source": [
    "df.head()"
   ]
  },
  {
   "cell_type": "code",
   "execution_count": 6,
   "metadata": {},
   "outputs": [
    {
     "data": {
      "text/plain": [
       "153"
      ]
     },
     "execution_count": 6,
     "metadata": {},
     "output_type": "execute_result"
    }
   ],
   "source": [
    "# подсчёт явных дубликатов\n",
    "df.duplicated().sum()"
   ]
  },
  {
   "cell_type": "markdown",
   "metadata": {},
   "source": [
    "### Вывод"
   ]
  },
  {
   "cell_type": "markdown",
   "metadata": {},
   "source": [
    "Признаки `Возраст`, `Зарплата`, `Члены семьи`, `Страховые выплаты` - количественные, `Пол` - категориальный.\n",
    "\n",
    "Пропуски в данных отсутствуют.\n",
    "\n",
    "Выявлено 153 случая явных дубликатов. Т.к. в данных отсутствуют признаки для идентификации клиента (ФИО, ID клиента), то выявленные дубликаты - это, скорее всего, случайное совпадение."
   ]
  },
  {
   "cell_type": "markdown",
   "metadata": {},
   "source": [
    "## Умножение матриц"
   ]
  },
  {
   "cell_type": "markdown",
   "metadata": {},
   "source": [
    "Обозначения:\n",
    "\n",
    "- $X$ — матрица признаков (нулевой столбец состоит из единиц)\n",
    "\n",
    "- $y$ — вектор целевого признака\n",
    "\n",
    "- $P$ — матрица, на которую умножаются признаки\n",
    "\n",
    "- $w$ — вектор весов линейной регрессии (нулевой элемент равен сдвигу)"
   ]
  },
  {
   "cell_type": "markdown",
   "metadata": {},
   "source": [
    "Предсказания:\n",
    "\n",
    "$$\n",
    "a = Xw\n",
    "$$\n",
    "\n",
    "Задача обучения:\n",
    "\n",
    "$$\n",
    "w = \\arg\\min_w MSE(Xw, y)\n",
    "$$\n",
    "\n",
    "Формула обучения:\n",
    "\n",
    "$$\n",
    "w = (X^T X)^{-1} X^T y\n",
    "$$"
   ]
  },
  {
   "cell_type": "markdown",
   "metadata": {},
   "source": [
    "**Ответ:** Качество линейной регрессии не изменится, если матрицу признаков умножить на произвольную обратимую матрицу.\n",
    "\n",
    "**Обоснование:** \n",
    "\n",
    "Пусть **P** - произвольная обратимая квадратная матрица размера **m x m**, где **m** - число столбцов в матрице X.\n",
    "\n",
    "Тогда формула предсказания будет иметь следующий вид:\n",
    "\n",
    "$$\n",
    "a_{1} = X_{1}w_{1} \\text {,}\n",
    "$$\n",
    "\n",
    "где\n",
    "\n",
    "$$\n",
    "X_{1} = XP\n",
    "$$\n",
    "\n",
    "$$\n",
    "w_{1} = (X_{1}^T X_{1})^{-1} X_{1}^T y\n",
    "$$\n",
    "\n",
    "Необходимо доказать, что \n",
    "\n",
    "$$\n",
    "\\Large a_{1} = a\n",
    "$$\n",
    "\n",
    "Подставим в формулу обучения $w_{1}$ значение $X_{1} = XP$\n",
    "\n",
    "\n",
    "$$\n",
    "w_{1} = ((XP)^T XP)^{-1} (XP)^T y\n",
    "$$\n",
    "\n",
    "Раскроем скобки:\n",
    "\n",
    "$$\n",
    "w_{1} = (P^T (X^T X) P)^{-1} (XP)^T y\n",
    "$$\n",
    "\n",
    "$$\n",
    "w_{1} = P^{-1}(X^T X)^{-1} (P^T)^{-1} P^TX^T y\n",
    "$$\n",
    "\n",
    "$(P^T)^{-1} P^T$ можно сократить, т.к. произведение матрицы на ее обратную матрицу равно единичной матрице. Получим:\n",
    "\n",
    "$$\n",
    "w_{1} = P^{-1} (X^TX)^{-1} X^Ty\n",
    "$$\n",
    "\n",
    "Т.о., подставив $w$ в полученную формулу, получаем:\n",
    "\n",
    "$$\n",
    "w_{1} = P^{-1} w\n",
    "$$\n",
    "\n",
    "Подставим полученное значение $w_{1} = P^{-1} w$ и $X_{1} = XP$ в формулу $a_{1}$\n",
    "\n",
    "$$\n",
    "a_{1} = XP P^{-1} w\n",
    "$$\n",
    "\n",
    "$P P^{-1}$ можно сократить. В итоге получаем:\n",
    "\n",
    "$$\n",
    "a_{1} = Xw\n",
    "$$\n",
    "\n",
    "$$\n",
    "\\Large a_{1} = a\n",
    "$$\n",
    "\n",
    "**Вывод:** Предсказания с преобразованными признаками равны предсказаниям с признаками без преобразований."
   ]
  },
  {
   "cell_type": "markdown",
   "metadata": {},
   "source": [
    "## Алгоритм преобразования"
   ]
  },
  {
   "cell_type": "markdown",
   "metadata": {},
   "source": [
    "**Алгоритм**\n",
    "\n",
    "1. Сформировать произвольную обратимую квадратную матрицу размера m x m, где m - число столбцов в датасете признаков.\n",
    "2. Преобразовать датасет признаков в матрицу признаков.\n",
    "2. Умножить матрицу признаков на сформированную обратимую квадратную матрицу."
   ]
  },
  {
   "cell_type": "markdown",
   "metadata": {},
   "source": [
    "**Обоснование**\n",
    "\n",
    "Для проверки алгоритма необходимо обучить линейную регрессию с преобразованной матрицей признаков и с матрицей признаков без преобразований. Для проверки качества линейной регрессии в обоих случаях применим метрику R2.\n",
    "\n",
    "Как было доказано в п.2 \"Умножение матриц\", качество предсказаний линейной регрессии в обоих случаях должно быть одинаковым."
   ]
  },
  {
   "cell_type": "code",
   "execution_count": 7,
   "metadata": {},
   "outputs": [],
   "source": [
    "# функция для разделения датасета на обучающую и тестовую выборки, на признаки (features) и целевой признак (target)\n",
    "def split_df(data, target):\n",
    "    # разделение в соотношении 3:1\n",
    "    df_train, df_test = train_test_split(data, test_size=0.25, random_state=123) \n",
    "\n",
    "    train_features = df_train.drop([target], axis=1)\n",
    "    train_target = df_train[target]\n",
    "\n",
    "    test_features = df_test.drop([target], axis=1)\n",
    "    test_target = df_test[target]\n",
    "    \n",
    "    return train_features, train_target, test_features, test_target"
   ]
  },
  {
   "cell_type": "code",
   "execution_count": 8,
   "metadata": {},
   "outputs": [],
   "source": [
    "# функция для формирования произвольной обратимой матрицы\n",
    "def random_matrix(train_features):\n",
    "    P = np.random.randn(train_features.shape[1], train_features.shape[1])\n",
    "    # проверка на обратимость - детерминант не равен нулю\n",
    "    if np.linalg.det(P) != 0:\n",
    "        return P\n",
    "    else:\n",
    "        return 'Матрица необратима. Попробуйте еще раз'"
   ]
  },
  {
   "cell_type": "code",
   "execution_count": 9,
   "metadata": {},
   "outputs": [],
   "source": [
    "# линейная регрессия\n",
    "class LRegression:\n",
    "    def fit(self, train_features, train_target):\n",
    "        X = np.concatenate((np.ones((train_features.shape[0], 1)), train_features), axis=1)\n",
    "        y = train_target\n",
    "        w = np.linalg.inv(X.T.dot(X)).dot(X.T).dot(y)\n",
    "        self.w = w[1:]\n",
    "        self.w0 = w[0]\n",
    "\n",
    "    def predict(self, test_features):\n",
    "        return test_features.dot(self.w) + self.w0"
   ]
  },
  {
   "cell_type": "code",
   "execution_count": 10,
   "metadata": {},
   "outputs": [],
   "source": [
    "# функция для расчета итоговой метрики R2\n",
    "def result(model, train_features, train_target, test_features, test_target):\n",
    "    model.fit(train_features, train_target)\n",
    "    predictions = model.predict(test_features)\n",
    "    print('R2 =', r2_score(test_target, predictions))"
   ]
  },
  {
   "cell_type": "markdown",
   "metadata": {},
   "source": [
    "## Проверка алгоритма"
   ]
  },
  {
   "cell_type": "markdown",
   "metadata": {},
   "source": [
    "Для проверки алгоритма вычислим метрику R2 для следующих моделей:\n",
    "- **LRegression()**;\n",
    "- **LinearRegression()** - из библиотеки *Scikit-learn*.\n",
    "\n",
    "Проверим два случая для каждой модели:\n",
    "- признаки преобразованы умножением на обратимую матрицу;\n",
    "- признаки без преобразований."
   ]
  },
  {
   "cell_type": "code",
   "execution_count": 11,
   "metadata": {},
   "outputs": [],
   "source": [
    "model1 = LRegression()\n",
    "model2 = LinearRegression()"
   ]
  },
  {
   "cell_type": "code",
   "execution_count": 12,
   "metadata": {},
   "outputs": [],
   "source": [
    "train_features, train_target, test_features, test_target = split_df(data=df, target='Страховые выплаты')"
   ]
  },
  {
   "cell_type": "code",
   "execution_count": 13,
   "metadata": {},
   "outputs": [
    {
     "data": {
      "text/plain": [
       "array([[-0.44031376, -0.5924105 , -0.24226709, -1.4499257 ],\n",
       "       [-0.68941055, -0.72829783,  0.904374  ,  0.97772955],\n",
       "       [ 0.73220386, -0.96799907, -1.16982183,  0.30526027],\n",
       "       [ 1.11803561,  1.44779495,  0.88737188, -2.22837566]])"
      ]
     },
     "execution_count": 13,
     "metadata": {},
     "output_type": "execute_result"
    }
   ],
   "source": [
    "# обратимая матрица для преобразования признаков\n",
    "P = random_matrix(train_features)\n",
    "P"
   ]
  },
  {
   "cell_type": "code",
   "execution_count": 14,
   "metadata": {},
   "outputs": [
    {
     "data": {
      "text/html": [
       "<div>\n",
       "<style scoped>\n",
       "    .dataframe tbody tr th:only-of-type {\n",
       "        vertical-align: middle;\n",
       "    }\n",
       "\n",
       "    .dataframe tbody tr th {\n",
       "        vertical-align: top;\n",
       "    }\n",
       "\n",
       "    .dataframe thead th {\n",
       "        text-align: right;\n",
       "    }\n",
       "</style>\n",
       "<table border=\"1\" class=\"dataframe\">\n",
       "  <thead>\n",
       "    <tr style=\"text-align: right;\">\n",
       "      <th></th>\n",
       "      <th>0</th>\n",
       "      <th>1</th>\n",
       "      <th>2</th>\n",
       "      <th>3</th>\n",
       "    </tr>\n",
       "  </thead>\n",
       "  <tbody>\n",
       "    <tr>\n",
       "      <th>0</th>\n",
       "      <td>31172.997930</td>\n",
       "      <td>-41256.306011</td>\n",
       "      <td>-49805.746086</td>\n",
       "      <td>13027.512770</td>\n",
       "    </tr>\n",
       "    <tr>\n",
       "      <th>1</th>\n",
       "      <td>18211.871550</td>\n",
       "      <td>-24124.170320</td>\n",
       "      <td>-29100.787140</td>\n",
       "      <td>7626.634343</td>\n",
       "    </tr>\n",
       "    <tr>\n",
       "      <th>2</th>\n",
       "      <td>33371.950220</td>\n",
       "      <td>-44158.236605</td>\n",
       "      <td>-53322.170284</td>\n",
       "      <td>13943.333884</td>\n",
       "    </tr>\n",
       "    <tr>\n",
       "      <th>3</th>\n",
       "      <td>25814.133221</td>\n",
       "      <td>-34204.605865</td>\n",
       "      <td>-41249.508756</td>\n",
       "      <td>10821.367952</td>\n",
       "    </tr>\n",
       "    <tr>\n",
       "      <th>4</th>\n",
       "      <td>27363.301781</td>\n",
       "      <td>-36225.606453</td>\n",
       "      <td>-43724.447335</td>\n",
       "      <td>11444.616111</td>\n",
       "    </tr>\n",
       "  </tbody>\n",
       "</table>\n",
       "</div>"
      ],
      "text/plain": [
       "              0             1             2             3\n",
       "0  31172.997930 -41256.306011 -49805.746086  13027.512770\n",
       "1  18211.871550 -24124.170320 -29100.787140   7626.634343\n",
       "2  33371.950220 -44158.236605 -53322.170284  13943.333884\n",
       "3  25814.133221 -34204.605865 -41249.508756  10821.367952\n",
       "4  27363.301781 -36225.606453 -43724.447335  11444.616111"
      ]
     },
     "execution_count": 14,
     "metadata": {},
     "output_type": "execute_result"
    }
   ],
   "source": [
    "# преобразованные признаки\n",
    "train_features_transform = pd.DataFrame(train_features.values @ P)\n",
    "test_features_transform = pd.DataFrame(test_features.values @ P)\n",
    "train_features_transform.head()"
   ]
  },
  {
   "cell_type": "code",
   "execution_count": 15,
   "metadata": {},
   "outputs": [
    {
     "name": "stdout",
     "output_type": "stream",
     "text": [
      "Метрика для LRegression(), признаки без преобразований:\n",
      "R2 = 0.4301846999093344\n"
     ]
    }
   ],
   "source": [
    "print('Метрика для LRegression(), признаки без преобразований:')\n",
    "result(model1, train_features, train_target, test_features, test_target)"
   ]
  },
  {
   "cell_type": "code",
   "execution_count": 16,
   "metadata": {},
   "outputs": [
    {
     "name": "stdout",
     "output_type": "stream",
     "text": [
      "Метрика для LRegression(), преобразованные признаки:\n",
      "R2 = 0.4301846974580513\n"
     ]
    }
   ],
   "source": [
    "print('Метрика для LRegression(), преобразованные признаки:')\n",
    "result(model1, train_features_transform, train_target, test_features_transform, test_target)"
   ]
  },
  {
   "cell_type": "code",
   "execution_count": 17,
   "metadata": {},
   "outputs": [
    {
     "name": "stdout",
     "output_type": "stream",
     "text": [
      "Метрика для LinearRegression(), признаки без преобразований:\n",
      "R2 = 0.43018469990933306\n"
     ]
    }
   ],
   "source": [
    "print('Метрика для LinearRegression(), признаки без преобразований:')\n",
    "result(model2, train_features, train_target, test_features, test_target)"
   ]
  },
  {
   "cell_type": "code",
   "execution_count": 18,
   "metadata": {},
   "outputs": [
    {
     "name": "stdout",
     "output_type": "stream",
     "text": [
      "Метрика для LinearRegression(), преобразованные признаки:\n",
      "R2 = 0.4301846999091369\n"
     ]
    }
   ],
   "source": [
    "print('Метрика для LinearRegression(), преобразованные признаки:')\n",
    "result(model2, train_features_transform, train_target, test_features_transform, test_target)"
   ]
  },
  {
   "cell_type": "markdown",
   "metadata": {},
   "source": [
    "**Вывод:**\n",
    "\n",
    "**R2 = 0.4301847**\n",
    "\n",
    "Метрика **R2** с точностью до седьмого знака после запятой одинакова для обеих моделей линейной регрессии: LRegression() и LinearRegression(). Значение справедливо для преобразованных признаков и для признаков без преобразования. \n",
    "\n",
    "Можно сделать вывод, что **разработанный алгоритм преобразования признаков работает корректно и не приводит к ошибкам в предсказаниях моделей линейной регрессии**."
   ]
  },
  {
   "cell_type": "markdown",
   "metadata": {},
   "source": [
    "## Общий вывод"
   ]
  },
  {
   "cell_type": "markdown",
   "metadata": {},
   "source": [
    "В ходе проекта были исследованы данные клиентов страховой компании «Хоть потоп» с целью разработки метода преобразования данных для защиты персональной информации клиентов.\n",
    "\n",
    "Для предсказания целевого признака (количество страховых выплат клиенту за последние 5 лет) определена **линейная регрессия**. \n",
    "\n",
    "в п. 2 теоретически было доказано, что **качество линейной регрессии не изменится, если матрицу признаков умножить на произвольную обратимую матрицу**.\n",
    "\n",
    "В п. 3 был составлен **алгоритм преобразования признаков** и все необходимые функции: функция для разделения датасета на обучающую и тестовую выборки, на признаки и целевой признак; функция для формирования произвольной обратимой матрицы; функция для расчета итоговой метрики R2. Также был создан класс модели линейной регресии.\n",
    "\n",
    "В п. 4 осуществлена проверка разработанного алгоритма по преобразованию признаков. Для линейной регрессии из библиотеки Scikit-learn, а также для модели, составленной самостоятельно в п.3 проекта, была получена метрика **R2 = 0.4301847**, одинаковая для предсказаний на преобразованных признаках и на признаках без преобразования. По итограм исследования был сделан вывод, что **разработанный алгоритм преобразования признаков работает корректно и не приводит к ошибкам в предсказаниях моделей линейной регрессии**.\n",
    "\n",
    "Т.о. в ходе проекта удалось достичь поставленной цели - был разработан метод преобразования данных о клиентах для защиты их персональной информации."
   ]
  }
 ],
 "metadata": {
  "ExecuteTimeLog": [
   {
    "duration": 400,
    "start_time": "2022-04-20T16:26:37.091Z"
   },
   {
    "duration": 112,
    "start_time": "2022-04-20T16:28:12.022Z"
   },
   {
    "duration": 11,
    "start_time": "2022-04-20T16:28:34.031Z"
   },
   {
    "duration": 37,
    "start_time": "2022-04-20T16:29:06.573Z"
   },
   {
    "duration": 10,
    "start_time": "2022-04-20T16:29:45.943Z"
   },
   {
    "duration": 8,
    "start_time": "2022-04-20T16:40:33.677Z"
   },
   {
    "duration": 70,
    "start_time": "2022-04-20T16:42:12.511Z"
   },
   {
    "duration": 7,
    "start_time": "2022-04-20T16:42:30.719Z"
   },
   {
    "duration": 14,
    "start_time": "2022-04-20T16:43:13.885Z"
   },
   {
    "duration": 14,
    "start_time": "2022-04-20T16:43:37.207Z"
   },
   {
    "duration": 7,
    "start_time": "2022-04-20T16:49:13.526Z"
   },
   {
    "duration": 5,
    "start_time": "2022-04-20T16:49:23.212Z"
   },
   {
    "duration": 6,
    "start_time": "2022-04-20T16:58:35.839Z"
   },
   {
    "duration": 84,
    "start_time": "2022-04-25T11:03:45.666Z"
   },
   {
    "duration": 501,
    "start_time": "2022-04-25T11:03:52.498Z"
   },
   {
    "duration": 99,
    "start_time": "2022-04-25T11:03:53.002Z"
   },
   {
    "duration": 16,
    "start_time": "2022-04-25T11:03:53.103Z"
   },
   {
    "duration": 73,
    "start_time": "2022-04-25T11:03:53.121Z"
   },
   {
    "duration": 12,
    "start_time": "2022-04-25T11:03:53.198Z"
   },
   {
    "duration": 9,
    "start_time": "2022-04-25T11:03:53.212Z"
   },
   {
    "duration": 7,
    "start_time": "2022-04-25T11:03:55.642Z"
   },
   {
    "duration": 6,
    "start_time": "2022-04-25T11:05:59.420Z"
   },
   {
    "duration": 5,
    "start_time": "2022-04-25T11:09:20.572Z"
   },
   {
    "duration": 1103,
    "start_time": "2022-04-25T11:17:09.776Z"
   },
   {
    "duration": 7,
    "start_time": "2022-04-25T11:18:44.886Z"
   },
   {
    "duration": 6,
    "start_time": "2022-04-25T11:19:15.777Z"
   },
   {
    "duration": 4,
    "start_time": "2022-04-25T11:29:10.441Z"
   },
   {
    "duration": 9,
    "start_time": "2022-04-25T11:29:14.344Z"
   },
   {
    "duration": 4,
    "start_time": "2022-04-25T11:29:22.993Z"
   },
   {
    "duration": 8,
    "start_time": "2022-04-25T11:29:23.514Z"
   },
   {
    "duration": 8,
    "start_time": "2022-04-25T11:39:12.350Z"
   },
   {
    "duration": 8,
    "start_time": "2022-04-25T11:40:39.857Z"
   },
   {
    "duration": 7,
    "start_time": "2022-04-25T11:42:08.081Z"
   },
   {
    "duration": 4,
    "start_time": "2022-04-25T13:00:24.313Z"
   },
   {
    "duration": 5,
    "start_time": "2022-04-25T13:02:57.189Z"
   },
   {
    "duration": 6,
    "start_time": "2022-04-25T13:05:55.137Z"
   },
   {
    "duration": 9,
    "start_time": "2022-04-25T13:05:55.700Z"
   },
   {
    "duration": 39,
    "start_time": "2022-04-25T13:07:32.610Z"
   },
   {
    "duration": 3,
    "start_time": "2022-04-25T13:09:25.151Z"
   },
   {
    "duration": 99,
    "start_time": "2022-04-25T13:10:30.436Z"
   },
   {
    "duration": 4,
    "start_time": "2022-04-25T13:10:59.633Z"
   },
   {
    "duration": 8,
    "start_time": "2022-04-25T13:11:03.331Z"
   },
   {
    "duration": 22,
    "start_time": "2022-04-25T13:11:57.814Z"
   },
   {
    "duration": 6,
    "start_time": "2022-04-25T13:12:13.843Z"
   },
   {
    "duration": 5,
    "start_time": "2022-04-25T13:12:14.271Z"
   },
   {
    "duration": 24,
    "start_time": "2022-04-25T13:12:20.989Z"
   },
   {
    "duration": 15,
    "start_time": "2022-04-25T13:15:10.077Z"
   },
   {
    "duration": 15,
    "start_time": "2022-04-25T13:15:12.231Z"
   },
   {
    "duration": 9,
    "start_time": "2022-04-25T13:18:14.072Z"
   },
   {
    "duration": 8,
    "start_time": "2022-04-25T13:18:31.047Z"
   },
   {
    "duration": 7,
    "start_time": "2022-04-25T13:21:55.660Z"
   },
   {
    "duration": 7,
    "start_time": "2022-04-25T13:22:51.284Z"
   },
   {
    "duration": 7,
    "start_time": "2022-04-25T13:23:03.376Z"
   },
   {
    "duration": 7,
    "start_time": "2022-04-25T13:23:15.398Z"
   },
   {
    "duration": 10,
    "start_time": "2022-04-25T13:23:37.723Z"
   },
   {
    "duration": 8,
    "start_time": "2022-04-25T13:24:38.846Z"
   },
   {
    "duration": 6,
    "start_time": "2022-04-25T13:25:35.444Z"
   },
   {
    "duration": 6,
    "start_time": "2022-04-25T13:26:00.015Z"
   },
   {
    "duration": 3,
    "start_time": "2022-04-25T13:26:28.335Z"
   },
   {
    "duration": 12,
    "start_time": "2022-04-25T13:27:14.027Z"
   },
   {
    "duration": 4,
    "start_time": "2022-04-25T13:29:31.725Z"
   },
   {
    "duration": 5,
    "start_time": "2022-04-25T13:30:58.950Z"
   },
   {
    "duration": 6,
    "start_time": "2022-04-25T13:32:58.433Z"
   },
   {
    "duration": 4,
    "start_time": "2022-04-25T13:33:15.909Z"
   },
   {
    "duration": 6,
    "start_time": "2022-04-25T13:33:22.214Z"
   },
   {
    "duration": 5,
    "start_time": "2022-04-25T13:41:44.825Z"
   },
   {
    "duration": 6,
    "start_time": "2022-04-25T13:41:54.995Z"
   },
   {
    "duration": 5,
    "start_time": "2022-04-25T13:42:09.388Z"
   },
   {
    "duration": 7,
    "start_time": "2022-04-25T13:42:13.408Z"
   },
   {
    "duration": 8,
    "start_time": "2022-04-25T13:42:31.177Z"
   },
   {
    "duration": 7,
    "start_time": "2022-04-25T13:42:46.996Z"
   },
   {
    "duration": 6,
    "start_time": "2022-04-25T13:42:48.162Z"
   },
   {
    "duration": 5,
    "start_time": "2022-04-25T13:42:48.620Z"
   },
   {
    "duration": 4,
    "start_time": "2022-04-25T13:45:47.284Z"
   },
   {
    "duration": 86,
    "start_time": "2022-04-25T13:45:47.291Z"
   },
   {
    "duration": 16,
    "start_time": "2022-04-25T13:45:47.379Z"
   },
   {
    "duration": 44,
    "start_time": "2022-04-25T13:45:47.399Z"
   },
   {
    "duration": 14,
    "start_time": "2022-04-25T13:45:47.446Z"
   },
   {
    "duration": 11,
    "start_time": "2022-04-25T13:45:47.462Z"
   },
   {
    "duration": 10,
    "start_time": "2022-04-25T13:45:47.475Z"
   },
   {
    "duration": 38,
    "start_time": "2022-04-25T13:45:47.488Z"
   },
   {
    "duration": 0,
    "start_time": "2022-04-25T13:45:47.528Z"
   },
   {
    "duration": 0,
    "start_time": "2022-04-25T13:45:47.530Z"
   },
   {
    "duration": 0,
    "start_time": "2022-04-25T13:45:47.531Z"
   },
   {
    "duration": 0,
    "start_time": "2022-04-25T13:45:47.533Z"
   },
   {
    "duration": 1,
    "start_time": "2022-04-25T13:45:47.534Z"
   },
   {
    "duration": 0,
    "start_time": "2022-04-25T13:45:47.536Z"
   },
   {
    "duration": 4,
    "start_time": "2022-04-25T13:46:25.352Z"
   },
   {
    "duration": 82,
    "start_time": "2022-04-25T13:46:25.359Z"
   },
   {
    "duration": 14,
    "start_time": "2022-04-25T13:46:25.444Z"
   },
   {
    "duration": 39,
    "start_time": "2022-04-25T13:46:25.460Z"
   },
   {
    "duration": 22,
    "start_time": "2022-04-25T13:46:25.502Z"
   },
   {
    "duration": 8,
    "start_time": "2022-04-25T13:46:25.527Z"
   },
   {
    "duration": 13,
    "start_time": "2022-04-25T13:46:25.537Z"
   },
   {
    "duration": 14,
    "start_time": "2022-04-25T13:46:25.552Z"
   },
   {
    "duration": 7,
    "start_time": "2022-04-25T13:46:25.568Z"
   },
   {
    "duration": 9,
    "start_time": "2022-04-25T13:46:25.577Z"
   },
   {
    "duration": 11,
    "start_time": "2022-04-25T13:46:25.588Z"
   },
   {
    "duration": 10,
    "start_time": "2022-04-25T13:46:25.624Z"
   },
   {
    "duration": 11,
    "start_time": "2022-04-25T13:46:25.636Z"
   },
   {
    "duration": 7,
    "start_time": "2022-04-25T13:46:25.651Z"
   },
   {
    "duration": 10,
    "start_time": "2022-04-25T13:46:32.848Z"
   },
   {
    "duration": 6,
    "start_time": "2022-04-25T13:47:42.804Z"
   },
   {
    "duration": 14,
    "start_time": "2022-04-25T13:47:50.259Z"
   },
   {
    "duration": 6,
    "start_time": "2022-04-25T13:48:13.729Z"
   },
   {
    "duration": 17,
    "start_time": "2022-04-25T13:48:17.796Z"
   },
   {
    "duration": 6,
    "start_time": "2022-04-25T13:49:02.406Z"
   },
   {
    "duration": 20,
    "start_time": "2022-04-25T13:49:06.230Z"
   },
   {
    "duration": 6,
    "start_time": "2022-04-25T13:49:38.845Z"
   },
   {
    "duration": 5,
    "start_time": "2022-04-25T13:50:34.637Z"
   },
   {
    "duration": 22,
    "start_time": "2022-04-25T13:50:46.397Z"
   },
   {
    "duration": 15,
    "start_time": "2022-04-25T13:50:50.472Z"
   },
   {
    "duration": 5,
    "start_time": "2022-04-25T13:51:44.201Z"
   },
   {
    "duration": 9,
    "start_time": "2022-04-25T13:51:47.840Z"
   },
   {
    "duration": 9,
    "start_time": "2022-04-25T13:53:02.714Z"
   },
   {
    "duration": 21,
    "start_time": "2022-04-25T13:53:11.420Z"
   },
   {
    "duration": 7,
    "start_time": "2022-04-25T13:55:12.052Z"
   },
   {
    "duration": 16,
    "start_time": "2022-04-25T13:55:17.922Z"
   },
   {
    "duration": 7,
    "start_time": "2022-04-25T13:57:41.252Z"
   },
   {
    "duration": 16,
    "start_time": "2022-04-25T13:57:47.189Z"
   },
   {
    "duration": 7,
    "start_time": "2022-04-25T13:58:35.822Z"
   },
   {
    "duration": 15,
    "start_time": "2022-04-25T13:58:39.459Z"
   },
   {
    "duration": 4,
    "start_time": "2022-04-25T13:58:51.151Z"
   },
   {
    "duration": 20,
    "start_time": "2022-04-25T13:58:54.774Z"
   },
   {
    "duration": 8,
    "start_time": "2022-04-25T14:01:12.016Z"
   },
   {
    "duration": 5,
    "start_time": "2022-04-25T14:01:19.830Z"
   },
   {
    "duration": 20,
    "start_time": "2022-04-25T14:01:35.447Z"
   },
   {
    "duration": 5,
    "start_time": "2022-04-25T14:02:45.769Z"
   },
   {
    "duration": 101,
    "start_time": "2022-04-25T14:02:45.776Z"
   },
   {
    "duration": 15,
    "start_time": "2022-04-25T14:02:45.880Z"
   },
   {
    "duration": 41,
    "start_time": "2022-04-25T14:02:45.897Z"
   },
   {
    "duration": 12,
    "start_time": "2022-04-25T14:02:45.941Z"
   },
   {
    "duration": 10,
    "start_time": "2022-04-25T14:02:45.956Z"
   },
   {
    "duration": 6,
    "start_time": "2022-04-25T14:02:45.968Z"
   },
   {
    "duration": 9,
    "start_time": "2022-04-25T14:02:45.976Z"
   },
   {
    "duration": 39,
    "start_time": "2022-04-25T14:02:45.987Z"
   },
   {
    "duration": 9,
    "start_time": "2022-04-25T14:02:46.028Z"
   },
   {
    "duration": 8,
    "start_time": "2022-04-25T14:02:46.039Z"
   },
   {
    "duration": 10,
    "start_time": "2022-04-25T14:02:46.049Z"
   },
   {
    "duration": 14,
    "start_time": "2022-04-25T14:02:46.062Z"
   },
   {
    "duration": 62,
    "start_time": "2022-04-25T14:02:46.080Z"
   },
   {
    "duration": 22,
    "start_time": "2022-04-25T14:03:03.608Z"
   },
   {
    "duration": 15,
    "start_time": "2022-04-25T14:03:23.648Z"
   },
   {
    "duration": 14,
    "start_time": "2022-04-25T14:03:32.338Z"
   },
   {
    "duration": 14,
    "start_time": "2022-04-25T14:04:51.195Z"
   },
   {
    "duration": 5,
    "start_time": "2022-04-25T15:50:21.250Z"
   },
   {
    "duration": 16,
    "start_time": "2022-04-25T15:50:41.938Z"
   },
   {
    "duration": 17,
    "start_time": "2022-04-25T15:51:08.162Z"
   },
   {
    "duration": 7,
    "start_time": "2022-04-25T15:52:00.044Z"
   },
   {
    "duration": 5,
    "start_time": "2022-04-25T15:52:00.422Z"
   },
   {
    "duration": 4,
    "start_time": "2022-04-25T15:52:16.444Z"
   },
   {
    "duration": 9,
    "start_time": "2022-04-25T15:52:41.486Z"
   },
   {
    "duration": 9,
    "start_time": "2022-04-25T15:52:51.295Z"
   },
   {
    "duration": 11,
    "start_time": "2022-04-25T15:53:01.316Z"
   },
   {
    "duration": 11,
    "start_time": "2022-04-25T15:54:16.386Z"
   },
   {
    "duration": 13,
    "start_time": "2022-04-25T16:26:53.034Z"
   },
   {
    "duration": 9,
    "start_time": "2022-04-25T16:29:43.900Z"
   },
   {
    "duration": 9,
    "start_time": "2022-04-25T16:30:25.506Z"
   },
   {
    "duration": 9,
    "start_time": "2022-04-25T16:31:30.323Z"
   },
   {
    "duration": 14,
    "start_time": "2022-04-25T16:31:39.423Z"
   },
   {
    "duration": 11,
    "start_time": "2022-04-25T16:31:42.156Z"
   },
   {
    "duration": 1643,
    "start_time": "2022-04-25T17:19:30.575Z"
   },
   {
    "duration": 73,
    "start_time": "2022-04-25T17:19:32.221Z"
   },
   {
    "duration": 17,
    "start_time": "2022-04-25T17:19:32.296Z"
   },
   {
    "duration": 49,
    "start_time": "2022-04-25T17:19:32.317Z"
   },
   {
    "duration": 14,
    "start_time": "2022-04-25T17:19:32.369Z"
   },
   {
    "duration": 13,
    "start_time": "2022-04-25T17:19:32.386Z"
   },
   {
    "duration": 23,
    "start_time": "2022-04-25T17:19:32.401Z"
   },
   {
    "duration": 30,
    "start_time": "2022-04-25T17:19:32.427Z"
   },
   {
    "duration": 23,
    "start_time": "2022-04-25T17:19:32.460Z"
   },
   {
    "duration": 10,
    "start_time": "2022-04-25T17:19:32.487Z"
   },
   {
    "duration": 13,
    "start_time": "2022-04-25T17:19:32.500Z"
   },
   {
    "duration": 20,
    "start_time": "2022-04-25T17:19:32.516Z"
   },
   {
    "duration": 15,
    "start_time": "2022-04-25T17:19:32.538Z"
   },
   {
    "duration": 83,
    "start_time": "2022-04-25T17:19:32.556Z"
   },
   {
    "duration": 98,
    "start_time": "2022-04-25T17:19:32.643Z"
   },
   {
    "duration": 87,
    "start_time": "2022-04-25T17:19:32.745Z"
   },
   {
    "duration": 189,
    "start_time": "2022-04-25T17:19:32.836Z"
   },
   {
    "duration": 12,
    "start_time": "2022-04-25T17:19:33.027Z"
   },
   {
    "duration": 1568,
    "start_time": "2022-04-25T17:32:51.182Z"
   },
   {
    "duration": 80,
    "start_time": "2022-04-25T17:32:52.753Z"
   },
   {
    "duration": 16,
    "start_time": "2022-04-25T17:32:52.836Z"
   },
   {
    "duration": 46,
    "start_time": "2022-04-25T17:32:52.853Z"
   },
   {
    "duration": 27,
    "start_time": "2022-04-25T17:32:52.902Z"
   },
   {
    "duration": 10,
    "start_time": "2022-04-25T17:32:52.931Z"
   },
   {
    "duration": 7,
    "start_time": "2022-04-25T17:32:52.943Z"
   },
   {
    "duration": 9,
    "start_time": "2022-04-25T17:32:52.952Z"
   },
   {
    "duration": 13,
    "start_time": "2022-04-25T17:32:52.963Z"
   },
   {
    "duration": 10,
    "start_time": "2022-04-25T17:32:52.978Z"
   },
   {
    "duration": 42,
    "start_time": "2022-04-25T17:32:52.990Z"
   },
   {
    "duration": 19,
    "start_time": "2022-04-25T17:32:53.034Z"
   },
   {
    "duration": 6,
    "start_time": "2022-04-25T17:32:53.055Z"
   },
   {
    "duration": 74,
    "start_time": "2022-04-25T17:32:53.066Z"
   },
   {
    "duration": 85,
    "start_time": "2022-04-25T17:32:53.142Z"
   },
   {
    "duration": 108,
    "start_time": "2022-04-25T17:32:53.230Z"
   },
   {
    "duration": 189,
    "start_time": "2022-04-25T17:32:53.346Z"
   },
   {
    "duration": 12,
    "start_time": "2022-04-25T17:32:53.542Z"
   },
   {
    "duration": 6,
    "start_time": "2022-04-25T17:42:14.157Z"
   },
   {
    "duration": 6,
    "start_time": "2022-04-25T17:42:15.307Z"
   },
   {
    "duration": 6,
    "start_time": "2022-04-25T17:42:15.825Z"
   },
   {
    "duration": 5,
    "start_time": "2022-04-25T17:42:16.906Z"
   },
   {
    "duration": 10,
    "start_time": "2022-04-25T17:42:17.436Z"
   },
   {
    "duration": 22,
    "start_time": "2022-04-25T17:42:18.125Z"
   },
   {
    "duration": 1644,
    "start_time": "2022-04-25T17:43:14.594Z"
   },
   {
    "duration": 102,
    "start_time": "2022-04-25T17:43:16.241Z"
   },
   {
    "duration": 19,
    "start_time": "2022-04-25T17:43:16.345Z"
   },
   {
    "duration": 66,
    "start_time": "2022-04-25T17:43:16.367Z"
   },
   {
    "duration": 14,
    "start_time": "2022-04-25T17:43:16.438Z"
   },
   {
    "duration": 10,
    "start_time": "2022-04-25T17:43:16.455Z"
   },
   {
    "duration": 7,
    "start_time": "2022-04-25T17:43:16.468Z"
   },
   {
    "duration": 9,
    "start_time": "2022-04-25T17:43:16.477Z"
   },
   {
    "duration": 54,
    "start_time": "2022-04-25T17:43:16.488Z"
   },
   {
    "duration": 11,
    "start_time": "2022-04-25T17:43:16.547Z"
   },
   {
    "duration": 7,
    "start_time": "2022-04-25T17:43:16.561Z"
   },
   {
    "duration": 12,
    "start_time": "2022-04-25T17:43:16.570Z"
   },
   {
    "duration": 47,
    "start_time": "2022-04-25T17:43:16.585Z"
   },
   {
    "duration": 98,
    "start_time": "2022-04-25T17:43:16.641Z"
   },
   {
    "duration": 17,
    "start_time": "2022-04-25T17:43:16.742Z"
   },
   {
    "duration": 101,
    "start_time": "2022-04-25T17:43:16.834Z"
   },
   {
    "duration": 103,
    "start_time": "2022-04-25T17:43:16.939Z"
   },
   {
    "duration": 91,
    "start_time": "2022-04-25T17:43:17.045Z"
   },
   {
    "duration": 1894,
    "start_time": "2022-04-25T17:46:20.235Z"
   },
   {
    "duration": 85,
    "start_time": "2022-04-25T17:46:22.132Z"
   },
   {
    "duration": 25,
    "start_time": "2022-04-25T17:46:22.220Z"
   },
   {
    "duration": 51,
    "start_time": "2022-04-25T17:46:22.248Z"
   },
   {
    "duration": 27,
    "start_time": "2022-04-25T17:46:22.304Z"
   },
   {
    "duration": 13,
    "start_time": "2022-04-25T17:46:22.337Z"
   },
   {
    "duration": 5,
    "start_time": "2022-04-25T17:46:22.352Z"
   },
   {
    "duration": 6,
    "start_time": "2022-04-25T17:46:22.359Z"
   },
   {
    "duration": 14,
    "start_time": "2022-04-25T17:46:22.367Z"
   },
   {
    "duration": 9,
    "start_time": "2022-04-25T17:46:22.384Z"
   },
   {
    "duration": 37,
    "start_time": "2022-04-25T17:46:22.396Z"
   },
   {
    "duration": 19,
    "start_time": "2022-04-25T17:46:22.436Z"
   },
   {
    "duration": 8,
    "start_time": "2022-04-25T17:46:22.457Z"
   },
   {
    "duration": 82,
    "start_time": "2022-04-25T17:46:22.471Z"
   },
   {
    "duration": 98,
    "start_time": "2022-04-25T17:46:22.555Z"
   },
   {
    "duration": 166,
    "start_time": "2022-04-25T17:46:22.657Z"
   },
   {
    "duration": 14,
    "start_time": "2022-04-25T17:46:22.831Z"
   },
   {
    "duration": 75,
    "start_time": "2022-04-25T17:46:22.848Z"
   },
   {
    "duration": 6,
    "start_time": "2022-04-25T17:47:29.227Z"
   },
   {
    "duration": 5,
    "start_time": "2022-04-25T17:47:38.561Z"
   },
   {
    "duration": 1625,
    "start_time": "2022-04-25T17:48:04.018Z"
   },
   {
    "duration": 83,
    "start_time": "2022-04-25T17:48:05.647Z"
   },
   {
    "duration": 19,
    "start_time": "2022-04-25T17:48:05.733Z"
   },
   {
    "duration": 74,
    "start_time": "2022-04-25T17:48:05.756Z"
   },
   {
    "duration": 14,
    "start_time": "2022-04-25T17:48:05.837Z"
   },
   {
    "duration": 11,
    "start_time": "2022-04-25T17:48:05.853Z"
   },
   {
    "duration": 11,
    "start_time": "2022-04-25T17:48:05.867Z"
   },
   {
    "duration": 13,
    "start_time": "2022-04-25T17:48:05.880Z"
   },
   {
    "duration": 9,
    "start_time": "2022-04-25T17:48:05.895Z"
   },
   {
    "duration": 23,
    "start_time": "2022-04-25T17:48:05.929Z"
   },
   {
    "duration": 7,
    "start_time": "2022-04-25T17:48:05.954Z"
   },
   {
    "duration": 11,
    "start_time": "2022-04-25T17:48:05.964Z"
   },
   {
    "duration": 14,
    "start_time": "2022-04-25T17:48:05.977Z"
   },
   {
    "duration": 103,
    "start_time": "2022-04-25T17:48:06.038Z"
   },
   {
    "duration": 91,
    "start_time": "2022-04-25T17:48:06.144Z"
   },
   {
    "duration": 94,
    "start_time": "2022-04-25T17:48:06.247Z"
   },
   {
    "duration": 186,
    "start_time": "2022-04-25T17:48:06.353Z"
   },
   {
    "duration": 24,
    "start_time": "2022-04-25T17:48:06.544Z"
   },
   {
    "duration": 1652,
    "start_time": "2022-04-28T14:08:48.951Z"
   },
   {
    "duration": 118,
    "start_time": "2022-04-28T14:08:50.606Z"
   },
   {
    "duration": 17,
    "start_time": "2022-04-28T14:08:50.727Z"
   },
   {
    "duration": 50,
    "start_time": "2022-04-28T14:08:50.746Z"
   },
   {
    "duration": 11,
    "start_time": "2022-04-28T14:08:50.799Z"
   },
   {
    "duration": 19,
    "start_time": "2022-04-28T14:08:50.812Z"
   },
   {
    "duration": 5,
    "start_time": "2022-04-28T14:08:50.833Z"
   },
   {
    "duration": 7,
    "start_time": "2022-04-28T14:08:50.841Z"
   },
   {
    "duration": 8,
    "start_time": "2022-04-28T14:08:50.850Z"
   },
   {
    "duration": 22,
    "start_time": "2022-04-28T14:08:50.860Z"
   },
   {
    "duration": 10,
    "start_time": "2022-04-28T14:08:50.893Z"
   },
   {
    "duration": 10,
    "start_time": "2022-04-28T14:08:50.905Z"
   },
   {
    "duration": 8,
    "start_time": "2022-04-28T14:08:50.917Z"
   },
   {
    "duration": 5,
    "start_time": "2022-04-28T14:09:04.202Z"
   },
   {
    "duration": 4,
    "start_time": "2022-04-28T14:11:26.008Z"
   },
   {
    "duration": 6,
    "start_time": "2022-04-28T14:11:50.419Z"
   },
   {
    "duration": 5,
    "start_time": "2022-04-28T14:11:51.121Z"
   },
   {
    "duration": 7,
    "start_time": "2022-04-28T14:11:57.864Z"
   },
   {
    "duration": 7,
    "start_time": "2022-04-28T14:11:59.039Z"
   },
   {
    "duration": 6,
    "start_time": "2022-04-28T14:12:02.883Z"
   },
   {
    "duration": 6,
    "start_time": "2022-04-28T14:12:03.398Z"
   },
   {
    "duration": 7,
    "start_time": "2022-04-28T14:12:07.490Z"
   },
   {
    "duration": 6,
    "start_time": "2022-04-28T14:12:07.871Z"
   },
   {
    "duration": 1683,
    "start_time": "2022-04-28T14:21:30.040Z"
   },
   {
    "duration": 143,
    "start_time": "2022-04-28T14:21:31.726Z"
   },
   {
    "duration": 17,
    "start_time": "2022-04-28T14:21:31.871Z"
   },
   {
    "duration": 62,
    "start_time": "2022-04-28T14:21:31.891Z"
   },
   {
    "duration": 18,
    "start_time": "2022-04-28T14:21:31.956Z"
   },
   {
    "duration": 7,
    "start_time": "2022-04-28T14:21:31.994Z"
   },
   {
    "duration": 5,
    "start_time": "2022-04-28T14:21:32.004Z"
   },
   {
    "duration": 8,
    "start_time": "2022-04-28T14:21:32.011Z"
   },
   {
    "duration": 6,
    "start_time": "2022-04-28T14:21:32.021Z"
   },
   {
    "duration": 8,
    "start_time": "2022-04-28T14:21:32.030Z"
   },
   {
    "duration": 9,
    "start_time": "2022-04-28T14:21:32.040Z"
   },
   {
    "duration": 46,
    "start_time": "2022-04-28T14:21:32.051Z"
   },
   {
    "duration": 9,
    "start_time": "2022-04-28T14:21:32.099Z"
   },
   {
    "duration": 15,
    "start_time": "2022-04-28T14:21:32.111Z"
   },
   {
    "duration": 67,
    "start_time": "2022-04-28T14:21:32.129Z"
   },
   {
    "duration": 95,
    "start_time": "2022-04-28T14:21:32.200Z"
   },
   {
    "duration": 103,
    "start_time": "2022-04-28T14:21:32.299Z"
   },
   {
    "duration": 11,
    "start_time": "2022-04-28T14:21:32.404Z"
   },
   {
    "duration": 1924,
    "start_time": "2022-04-28T14:34:19.693Z"
   },
   {
    "duration": 103,
    "start_time": "2022-04-28T14:34:21.620Z"
   },
   {
    "duration": 17,
    "start_time": "2022-04-28T14:34:21.725Z"
   },
   {
    "duration": 54,
    "start_time": "2022-04-28T14:34:21.746Z"
   },
   {
    "duration": 12,
    "start_time": "2022-04-28T14:34:21.802Z"
   },
   {
    "duration": 17,
    "start_time": "2022-04-28T14:34:21.816Z"
   },
   {
    "duration": 20,
    "start_time": "2022-04-28T14:34:21.834Z"
   },
   {
    "duration": 13,
    "start_time": "2022-04-28T14:34:21.856Z"
   },
   {
    "duration": 23,
    "start_time": "2022-04-28T14:34:21.871Z"
   },
   {
    "duration": 28,
    "start_time": "2022-04-28T14:34:21.897Z"
   },
   {
    "duration": 20,
    "start_time": "2022-04-28T14:34:21.927Z"
   },
   {
    "duration": 23,
    "start_time": "2022-04-28T14:34:21.949Z"
   },
   {
    "duration": 16,
    "start_time": "2022-04-28T14:34:21.974Z"
   },
   {
    "duration": 27,
    "start_time": "2022-04-28T14:34:21.992Z"
   },
   {
    "duration": 19,
    "start_time": "2022-04-28T14:34:22.021Z"
   },
   {
    "duration": 101,
    "start_time": "2022-04-28T14:34:22.092Z"
   },
   {
    "duration": 105,
    "start_time": "2022-04-28T14:34:22.195Z"
   },
   {
    "duration": 16,
    "start_time": "2022-04-28T14:34:22.302Z"
   }
  ],
  "kernelspec": {
   "display_name": "Python 3 (ipykernel)",
   "language": "python",
   "name": "python3"
  },
  "language_info": {
   "codemirror_mode": {
    "name": "ipython",
    "version": 3
   },
   "file_extension": ".py",
   "mimetype": "text/x-python",
   "name": "python",
   "nbconvert_exporter": "python",
   "pygments_lexer": "ipython3",
   "version": "3.9.5"
  },
  "toc": {
   "base_numbering": 1,
   "nav_menu": {},
   "number_sections": true,
   "sideBar": true,
   "skip_h1_title": true,
   "title_cell": "Содержание",
   "title_sidebar": "Contents",
   "toc_cell": true,
   "toc_position": {},
   "toc_section_display": true,
   "toc_window_display": false
  }
 },
 "nbformat": 4,
 "nbformat_minor": 2
}
