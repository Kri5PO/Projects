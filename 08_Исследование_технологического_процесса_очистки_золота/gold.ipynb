{
 "cells": [
  {
   "cell_type": "markdown",
   "metadata": {
    "toc": true
   },
   "source": [
    "<h1>Содержание<span class=\"tocSkip\"></span></h1>\n",
    "<div class=\"toc\"><ul class=\"toc-item\"><li><span><a href=\"#Подготовка-данных\" data-toc-modified-id=\"Подготовка-данных-1\"><span class=\"toc-item-num\">1&nbsp;&nbsp;</span>Подготовка данных</a></span><ul class=\"toc-item\"><li><span><a href=\"#Проверка-корректности-расчета-эффективности-обогращения\" data-toc-modified-id=\"Проверка-корректности-расчета-эффективности-обогращения-1.1\"><span class=\"toc-item-num\">1.1&nbsp;&nbsp;</span>Проверка корректности расчета эффективности обогращения</a></span></li><li><span><a href=\"#Анализ-признаков,-недоступных-в-тестовой-выборке\" data-toc-modified-id=\"Анализ-признаков,-недоступных-в-тестовой-выборке-1.2\"><span class=\"toc-item-num\">1.2&nbsp;&nbsp;</span>Анализ признаков, недоступных в тестовой выборке</a></span></li></ul></li><li><span><a href=\"#Предобработка-данных\" data-toc-modified-id=\"Предобработка-данных-2\"><span class=\"toc-item-num\">2&nbsp;&nbsp;</span>Предобработка данных</a></span></li><li><span><a href=\"#Анализ-данных\" data-toc-modified-id=\"Анализ-данных-3\"><span class=\"toc-item-num\">3&nbsp;&nbsp;</span>Анализ данных</a></span></li><li><span><a href=\"#Модель\" data-toc-modified-id=\"Модель-4\"><span class=\"toc-item-num\">4&nbsp;&nbsp;</span>Модель</a></span><ul class=\"toc-item\"><li><span><a href=\"#DummyRegressor-(Простая-модель)\" data-toc-modified-id=\"DummyRegressor-(Простая-модель)-4.1\"><span class=\"toc-item-num\">4.1&nbsp;&nbsp;</span>DummyRegressor (Простая модель)</a></span></li><li><span><a href=\"#Lasso\" data-toc-modified-id=\"Lasso-4.2\"><span class=\"toc-item-num\">4.2&nbsp;&nbsp;</span>Lasso</a></span></li><li><span><a href=\"#Ridge\" data-toc-modified-id=\"Ridge-4.3\"><span class=\"toc-item-num\">4.3&nbsp;&nbsp;</span>Ridge</a></span></li><li><span><a href=\"#Catboost-(Градиентный-бустинг)\" data-toc-modified-id=\"Catboost-(Градиентный-бустинг)-4.4\"><span class=\"toc-item-num\">4.4&nbsp;&nbsp;</span>Catboost (Градиентный бустинг)</a></span></li><li><span><a href=\"#Decision-Tree-Regressor-(Регрессор-дерева-решения)\" data-toc-modified-id=\"Decision-Tree-Regressor-(Регрессор-дерева-решения)-4.5\"><span class=\"toc-item-num\">4.5&nbsp;&nbsp;</span>Decision Tree Regressor (Регрессор дерева решения)</a></span></li><li><span><a href=\"#Проверка-лучшей-модели-на-тестовой-выборке\" data-toc-modified-id=\"Проверка-лучшей-модели-на-тестовой-выборке-4.6\"><span class=\"toc-item-num\">4.6&nbsp;&nbsp;</span>Проверка лучшей модели на тестовой выборке</a></span></li></ul></li><li><span><a href=\"#Общий-вывод\" data-toc-modified-id=\"Общий-вывод-5\"><span class=\"toc-item-num\">5&nbsp;&nbsp;</span>Общий вывод</a></span></li></ul></div>"
   ]
  },
  {
   "cell_type": "markdown",
   "metadata": {},
   "source": [
    "# Восстановление золота из руды"
   ]
  },
  {
   "cell_type": "markdown",
   "metadata": {},
   "source": [
    "Подготовьте прототип модели машинного обучения для «Цифры». Компания разрабатывает решения для эффективной работы промышленных предприятий.\n",
    "\n",
    "Модель должна предсказать коэффициент восстановления золота из золотосодержащей руды. Используйте данные с параметрами добычи и очистки. \n",
    "\n",
    "Модель поможет оптимизировать производство, чтобы не запускать предприятие с убыточными характеристиками."
   ]
  },
  {
   "cell_type": "markdown",
   "metadata": {},
   "source": [
    "## Подготовка данных"
   ]
  },
  {
   "cell_type": "code",
   "execution_count": 1,
   "metadata": {},
   "outputs": [],
   "source": [
    "# загрузка библиотек\n",
    "import matplotlib.pyplot as plt\n",
    "import numpy as np\n",
    "import pandas as pd\n",
    "import scipy.stats as stats\n",
    "import seaborn as sns\n",
    "from catboost import CatBoostRegressor\n",
    "from sklearn.ensemble import RandomForestRegressor\n",
    "from sklearn.dummy import DummyRegressor\n",
    "from sklearn.feature_selection import SelectFromModel\n",
    "from sklearn.linear_model import LinearRegression, Lasso \n",
    "from sklearn.linear_model import Ridge\n",
    "from sklearn.metrics import make_scorer\n",
    "from sklearn.metrics import mean_absolute_error\n",
    "from sklearn.model_selection import cross_val_score\n",
    "from sklearn.model_selection import GridSearchCV\n",
    "from sklearn.pipeline import make_pipeline\n",
    "from sklearn.preprocessing import StandardScaler\n",
    "from sklearn.tree import DecisionTreeRegressor"
   ]
  },
  {
   "cell_type": "code",
   "execution_count": 2,
   "metadata": {},
   "outputs": [],
   "source": [
    "# чтение файла с данными и сохранение в переменные\n",
    "# данные индексируются датой и временем получения информации (признак date)\n",
    "try:\n",
    "    df = pd.read_csv('C:/Users/79853/Documents/datascience/yandex/Сборный проект2/gold_recovery_full_new.csv',\n",
    "                     index_col='date')\n",
    "    test = pd.read_csv('C:/Users/79853/Documents/datascience/yandex/Сборный проект2/gold_recovery_test_new.csv',\n",
    "                     index_col='date')\n",
    "    train = pd.read_csv('C:/Users/79853/Documents/datascience/yandex/Сборный проект2/gold_recovery_train_new.csv',\n",
    "                     index_col='date')\n",
    "except:\n",
    "    df = pd.read_csv('/datasets/gold_recovery_full_new.csv', index_col='date') # загрузка онлайн\n",
    "    test = pd.read_csv('/datasets/gold_recovery_test_new.csv', index_col='date') # загрузка онлайн\n",
    "    train = pd.read_csv('/datasets/gold_recovery_train_new.csv', index_col='date') # загрузка онлайн"
   ]
  },
  {
   "cell_type": "code",
   "execution_count": 3,
   "metadata": {},
   "outputs": [
    {
     "name": "stdout",
     "output_type": "stream",
     "text": [
      "(19439, 86)\n",
      "\n",
      "(14149, 86)\n",
      "\n",
      "(5290, 52)\n",
      "\n"
     ]
    }
   ],
   "source": [
    "# размер таблиц (строки, колонки)\n",
    "data = [df, train, test]\n",
    "for dataset in data:\n",
    "    print(dataset.shape)\n",
    "    print()"
   ]
  },
  {
   "cell_type": "code",
   "execution_count": 4,
   "metadata": {},
   "outputs": [
    {
     "name": "stdout",
     "output_type": "stream",
     "text": [
      "<class 'pandas.core.frame.DataFrame'>\n",
      "Index: 19439 entries, 2016-01-15 00:00:00 to 2018-08-18 10:59:59\n",
      "Data columns (total 86 columns):\n",
      " #   Column                                              Non-Null Count  Dtype  \n",
      "---  ------                                              --------------  -----  \n",
      " 0   final.output.concentrate_ag                         19438 non-null  float64\n",
      " 1   final.output.concentrate_pb                         19438 non-null  float64\n",
      " 2   final.output.concentrate_sol                        19228 non-null  float64\n",
      " 3   final.output.concentrate_au                         19439 non-null  float64\n",
      " 4   final.output.recovery                               19439 non-null  float64\n",
      " 5   final.output.tail_ag                                19438 non-null  float64\n",
      " 6   final.output.tail_pb                                19338 non-null  float64\n",
      " 7   final.output.tail_sol                               19433 non-null  float64\n",
      " 8   final.output.tail_au                                19439 non-null  float64\n",
      " 9   primary_cleaner.input.sulfate                       19415 non-null  float64\n",
      " 10  primary_cleaner.input.depressant                    19402 non-null  float64\n",
      " 11  primary_cleaner.input.feed_size                     19439 non-null  float64\n",
      " 12  primary_cleaner.input.xanthate                      19335 non-null  float64\n",
      " 13  primary_cleaner.output.concentrate_ag               19439 non-null  float64\n",
      " 14  primary_cleaner.output.concentrate_pb               19323 non-null  float64\n",
      " 15  primary_cleaner.output.concentrate_sol              19069 non-null  float64\n",
      " 16  primary_cleaner.output.concentrate_au               19439 non-null  float64\n",
      " 17  primary_cleaner.output.tail_ag                      19435 non-null  float64\n",
      " 18  primary_cleaner.output.tail_pb                      19418 non-null  float64\n",
      " 19  primary_cleaner.output.tail_sol                     19377 non-null  float64\n",
      " 20  primary_cleaner.output.tail_au                      19439 non-null  float64\n",
      " 21  primary_cleaner.state.floatbank8_a_air              19435 non-null  float64\n",
      " 22  primary_cleaner.state.floatbank8_a_level            19438 non-null  float64\n",
      " 23  primary_cleaner.state.floatbank8_b_air              19435 non-null  float64\n",
      " 24  primary_cleaner.state.floatbank8_b_level            19438 non-null  float64\n",
      " 25  primary_cleaner.state.floatbank8_c_air              19437 non-null  float64\n",
      " 26  primary_cleaner.state.floatbank8_c_level            19438 non-null  float64\n",
      " 27  primary_cleaner.state.floatbank8_d_air              19436 non-null  float64\n",
      " 28  primary_cleaner.state.floatbank8_d_level            19438 non-null  float64\n",
      " 29  rougher.calculation.sulfate_to_au_concentrate       19437 non-null  float64\n",
      " 30  rougher.calculation.floatbank10_sulfate_to_au_feed  19437 non-null  float64\n",
      " 31  rougher.calculation.floatbank11_sulfate_to_au_feed  19437 non-null  float64\n",
      " 32  rougher.calculation.au_pb_ratio                     19439 non-null  float64\n",
      " 33  rougher.input.feed_ag                               19439 non-null  float64\n",
      " 34  rougher.input.feed_pb                               19339 non-null  float64\n",
      " 35  rougher.input.feed_rate                             19428 non-null  float64\n",
      " 36  rougher.input.feed_size                             19294 non-null  float64\n",
      " 37  rougher.input.feed_sol                              19340 non-null  float64\n",
      " 38  rougher.input.feed_au                               19439 non-null  float64\n",
      " 39  rougher.input.floatbank10_sulfate                   19405 non-null  float64\n",
      " 40  rougher.input.floatbank10_xanthate                  19431 non-null  float64\n",
      " 41  rougher.input.floatbank11_sulfate                   19395 non-null  float64\n",
      " 42  rougher.input.floatbank11_xanthate                  18986 non-null  float64\n",
      " 43  rougher.output.concentrate_ag                       19439 non-null  float64\n",
      " 44  rougher.output.concentrate_pb                       19439 non-null  float64\n",
      " 45  rougher.output.concentrate_sol                      19416 non-null  float64\n",
      " 46  rougher.output.concentrate_au                       19439 non-null  float64\n",
      " 47  rougher.output.recovery                             19439 non-null  float64\n",
      " 48  rougher.output.tail_ag                              19438 non-null  float64\n",
      " 49  rougher.output.tail_pb                              19439 non-null  float64\n",
      " 50  rougher.output.tail_sol                             19439 non-null  float64\n",
      " 51  rougher.output.tail_au                              19439 non-null  float64\n",
      " 52  rougher.state.floatbank10_a_air                     19438 non-null  float64\n",
      " 53  rougher.state.floatbank10_a_level                   19438 non-null  float64\n",
      " 54  rougher.state.floatbank10_b_air                     19438 non-null  float64\n",
      " 55  rougher.state.floatbank10_b_level                   19438 non-null  float64\n",
      " 56  rougher.state.floatbank10_c_air                     19438 non-null  float64\n",
      " 57  rougher.state.floatbank10_c_level                   19438 non-null  float64\n",
      " 58  rougher.state.floatbank10_d_air                     19439 non-null  float64\n",
      " 59  rougher.state.floatbank10_d_level                   19439 non-null  float64\n",
      " 60  rougher.state.floatbank10_e_air                     19003 non-null  float64\n",
      " 61  rougher.state.floatbank10_e_level                   19439 non-null  float64\n",
      " 62  rougher.state.floatbank10_f_air                     19439 non-null  float64\n",
      " 63  rougher.state.floatbank10_f_level                   19439 non-null  float64\n",
      " 64  secondary_cleaner.output.tail_ag                    19437 non-null  float64\n",
      " 65  secondary_cleaner.output.tail_pb                    19427 non-null  float64\n",
      " 66  secondary_cleaner.output.tail_sol                   17691 non-null  float64\n",
      " 67  secondary_cleaner.output.tail_au                    19439 non-null  float64\n",
      " 68  secondary_cleaner.state.floatbank2_a_air            19219 non-null  float64\n",
      " 69  secondary_cleaner.state.floatbank2_a_level          19438 non-null  float64\n",
      " 70  secondary_cleaner.state.floatbank2_b_air            19416 non-null  float64\n",
      " 71  secondary_cleaner.state.floatbank2_b_level          19438 non-null  float64\n",
      " 72  secondary_cleaner.state.floatbank3_a_air            19426 non-null  float64\n",
      " 73  secondary_cleaner.state.floatbank3_a_level          19438 non-null  float64\n",
      " 74  secondary_cleaner.state.floatbank3_b_air            19438 non-null  float64\n",
      " 75  secondary_cleaner.state.floatbank3_b_level          19438 non-null  float64\n",
      " 76  secondary_cleaner.state.floatbank4_a_air            19433 non-null  float64\n",
      " 77  secondary_cleaner.state.floatbank4_a_level          19438 non-null  float64\n",
      " 78  secondary_cleaner.state.floatbank4_b_air            19438 non-null  float64\n",
      " 79  secondary_cleaner.state.floatbank4_b_level          19438 non-null  float64\n",
      " 80  secondary_cleaner.state.floatbank5_a_air            19438 non-null  float64\n",
      " 81  secondary_cleaner.state.floatbank5_a_level          19438 non-null  float64\n",
      " 82  secondary_cleaner.state.floatbank5_b_air            19438 non-null  float64\n",
      " 83  secondary_cleaner.state.floatbank5_b_level          19438 non-null  float64\n",
      " 84  secondary_cleaner.state.floatbank6_a_air            19437 non-null  float64\n",
      " 85  secondary_cleaner.state.floatbank6_a_level          19438 non-null  float64\n",
      "dtypes: float64(86)\n",
      "memory usage: 12.9+ MB\n"
     ]
    }
   ],
   "source": [
    "df.info()"
   ]
  },
  {
   "cell_type": "code",
   "execution_count": 5,
   "metadata": {},
   "outputs": [
    {
     "name": "stdout",
     "output_type": "stream",
     "text": [
      "<class 'pandas.core.frame.DataFrame'>\n",
      "Index: 14149 entries, 2016-01-15 00:00:00 to 2018-08-18 10:59:59\n",
      "Data columns (total 86 columns):\n",
      " #   Column                                              Non-Null Count  Dtype  \n",
      "---  ------                                              --------------  -----  \n",
      " 0   final.output.concentrate_ag                         14148 non-null  float64\n",
      " 1   final.output.concentrate_pb                         14148 non-null  float64\n",
      " 2   final.output.concentrate_sol                        13938 non-null  float64\n",
      " 3   final.output.concentrate_au                         14149 non-null  float64\n",
      " 4   final.output.recovery                               14149 non-null  float64\n",
      " 5   final.output.tail_ag                                14149 non-null  float64\n",
      " 6   final.output.tail_pb                                14049 non-null  float64\n",
      " 7   final.output.tail_sol                               14144 non-null  float64\n",
      " 8   final.output.tail_au                                14149 non-null  float64\n",
      " 9   primary_cleaner.input.sulfate                       14129 non-null  float64\n",
      " 10  primary_cleaner.input.depressant                    14117 non-null  float64\n",
      " 11  primary_cleaner.input.feed_size                     14149 non-null  float64\n",
      " 12  primary_cleaner.input.xanthate                      14049 non-null  float64\n",
      " 13  primary_cleaner.output.concentrate_ag               14149 non-null  float64\n",
      " 14  primary_cleaner.output.concentrate_pb               14063 non-null  float64\n",
      " 15  primary_cleaner.output.concentrate_sol              13863 non-null  float64\n",
      " 16  primary_cleaner.output.concentrate_au               14149 non-null  float64\n",
      " 17  primary_cleaner.output.tail_ag                      14148 non-null  float64\n",
      " 18  primary_cleaner.output.tail_pb                      14134 non-null  float64\n",
      " 19  primary_cleaner.output.tail_sol                     14103 non-null  float64\n",
      " 20  primary_cleaner.output.tail_au                      14149 non-null  float64\n",
      " 21  primary_cleaner.state.floatbank8_a_air              14145 non-null  float64\n",
      " 22  primary_cleaner.state.floatbank8_a_level            14148 non-null  float64\n",
      " 23  primary_cleaner.state.floatbank8_b_air              14145 non-null  float64\n",
      " 24  primary_cleaner.state.floatbank8_b_level            14148 non-null  float64\n",
      " 25  primary_cleaner.state.floatbank8_c_air              14147 non-null  float64\n",
      " 26  primary_cleaner.state.floatbank8_c_level            14148 non-null  float64\n",
      " 27  primary_cleaner.state.floatbank8_d_air              14146 non-null  float64\n",
      " 28  primary_cleaner.state.floatbank8_d_level            14148 non-null  float64\n",
      " 29  rougher.calculation.sulfate_to_au_concentrate       14148 non-null  float64\n",
      " 30  rougher.calculation.floatbank10_sulfate_to_au_feed  14148 non-null  float64\n",
      " 31  rougher.calculation.floatbank11_sulfate_to_au_feed  14148 non-null  float64\n",
      " 32  rougher.calculation.au_pb_ratio                     14149 non-null  float64\n",
      " 33  rougher.input.feed_ag                               14149 non-null  float64\n",
      " 34  rougher.input.feed_pb                               14049 non-null  float64\n",
      " 35  rougher.input.feed_rate                             14141 non-null  float64\n",
      " 36  rougher.input.feed_size                             14005 non-null  float64\n",
      " 37  rougher.input.feed_sol                              14071 non-null  float64\n",
      " 38  rougher.input.feed_au                               14149 non-null  float64\n",
      " 39  rougher.input.floatbank10_sulfate                   14120 non-null  float64\n",
      " 40  rougher.input.floatbank10_xanthate                  14141 non-null  float64\n",
      " 41  rougher.input.floatbank11_sulfate                   14113 non-null  float64\n",
      " 42  rougher.input.floatbank11_xanthate                  13721 non-null  float64\n",
      " 43  rougher.output.concentrate_ag                       14149 non-null  float64\n",
      " 44  rougher.output.concentrate_pb                       14149 non-null  float64\n",
      " 45  rougher.output.concentrate_sol                      14127 non-null  float64\n",
      " 46  rougher.output.concentrate_au                       14149 non-null  float64\n",
      " 47  rougher.output.recovery                             14149 non-null  float64\n",
      " 48  rougher.output.tail_ag                              14148 non-null  float64\n",
      " 49  rougher.output.tail_pb                              14149 non-null  float64\n",
      " 50  rougher.output.tail_sol                             14149 non-null  float64\n",
      " 51  rougher.output.tail_au                              14149 non-null  float64\n",
      " 52  rougher.state.floatbank10_a_air                     14148 non-null  float64\n",
      " 53  rougher.state.floatbank10_a_level                   14148 non-null  float64\n",
      " 54  rougher.state.floatbank10_b_air                     14148 non-null  float64\n",
      " 55  rougher.state.floatbank10_b_level                   14148 non-null  float64\n",
      " 56  rougher.state.floatbank10_c_air                     14148 non-null  float64\n",
      " 57  rougher.state.floatbank10_c_level                   14148 non-null  float64\n",
      " 58  rougher.state.floatbank10_d_air                     14149 non-null  float64\n",
      " 59  rougher.state.floatbank10_d_level                   14149 non-null  float64\n",
      " 60  rougher.state.floatbank10_e_air                     13713 non-null  float64\n",
      " 61  rougher.state.floatbank10_e_level                   14149 non-null  float64\n",
      " 62  rougher.state.floatbank10_f_air                     14149 non-null  float64\n",
      " 63  rougher.state.floatbank10_f_level                   14149 non-null  float64\n",
      " 64  secondary_cleaner.output.tail_ag                    14147 non-null  float64\n",
      " 65  secondary_cleaner.output.tail_pb                    14139 non-null  float64\n",
      " 66  secondary_cleaner.output.tail_sol                   12544 non-null  float64\n",
      " 67  secondary_cleaner.output.tail_au                    14149 non-null  float64\n",
      " 68  secondary_cleaner.state.floatbank2_a_air            13932 non-null  float64\n",
      " 69  secondary_cleaner.state.floatbank2_a_level          14148 non-null  float64\n",
      " 70  secondary_cleaner.state.floatbank2_b_air            14128 non-null  float64\n",
      " 71  secondary_cleaner.state.floatbank2_b_level          14148 non-null  float64\n",
      " 72  secondary_cleaner.state.floatbank3_a_air            14145 non-null  float64\n",
      " 73  secondary_cleaner.state.floatbank3_a_level          14148 non-null  float64\n",
      " 74  secondary_cleaner.state.floatbank3_b_air            14148 non-null  float64\n",
      " 75  secondary_cleaner.state.floatbank3_b_level          14148 non-null  float64\n",
      " 76  secondary_cleaner.state.floatbank4_a_air            14143 non-null  float64\n",
      " 77  secondary_cleaner.state.floatbank4_a_level          14148 non-null  float64\n",
      " 78  secondary_cleaner.state.floatbank4_b_air            14148 non-null  float64\n",
      " 79  secondary_cleaner.state.floatbank4_b_level          14148 non-null  float64\n",
      " 80  secondary_cleaner.state.floatbank5_a_air            14148 non-null  float64\n",
      " 81  secondary_cleaner.state.floatbank5_a_level          14148 non-null  float64\n",
      " 82  secondary_cleaner.state.floatbank5_b_air            14148 non-null  float64\n",
      " 83  secondary_cleaner.state.floatbank5_b_level          14148 non-null  float64\n",
      " 84  secondary_cleaner.state.floatbank6_a_air            14147 non-null  float64\n",
      " 85  secondary_cleaner.state.floatbank6_a_level          14148 non-null  float64\n",
      "dtypes: float64(86)\n",
      "memory usage: 9.4+ MB\n"
     ]
    }
   ],
   "source": [
    "train.info()"
   ]
  },
  {
   "cell_type": "code",
   "execution_count": 6,
   "metadata": {},
   "outputs": [
    {
     "name": "stdout",
     "output_type": "stream",
     "text": [
      "<class 'pandas.core.frame.DataFrame'>\n",
      "Index: 5290 entries, 2016-09-01 00:59:59 to 2017-12-31 23:59:59\n",
      "Data columns (total 52 columns):\n",
      " #   Column                                      Non-Null Count  Dtype  \n",
      "---  ------                                      --------------  -----  \n",
      " 0   primary_cleaner.input.sulfate               5286 non-null   float64\n",
      " 1   primary_cleaner.input.depressant            5285 non-null   float64\n",
      " 2   primary_cleaner.input.feed_size             5290 non-null   float64\n",
      " 3   primary_cleaner.input.xanthate              5286 non-null   float64\n",
      " 4   primary_cleaner.state.floatbank8_a_air      5290 non-null   float64\n",
      " 5   primary_cleaner.state.floatbank8_a_level    5290 non-null   float64\n",
      " 6   primary_cleaner.state.floatbank8_b_air      5290 non-null   float64\n",
      " 7   primary_cleaner.state.floatbank8_b_level    5290 non-null   float64\n",
      " 8   primary_cleaner.state.floatbank8_c_air      5290 non-null   float64\n",
      " 9   primary_cleaner.state.floatbank8_c_level    5290 non-null   float64\n",
      " 10  primary_cleaner.state.floatbank8_d_air      5290 non-null   float64\n",
      " 11  primary_cleaner.state.floatbank8_d_level    5290 non-null   float64\n",
      " 12  rougher.input.feed_ag                       5290 non-null   float64\n",
      " 13  rougher.input.feed_pb                       5290 non-null   float64\n",
      " 14  rougher.input.feed_rate                     5287 non-null   float64\n",
      " 15  rougher.input.feed_size                     5289 non-null   float64\n",
      " 16  rougher.input.feed_sol                      5269 non-null   float64\n",
      " 17  rougher.input.feed_au                       5290 non-null   float64\n",
      " 18  rougher.input.floatbank10_sulfate           5285 non-null   float64\n",
      " 19  rougher.input.floatbank10_xanthate          5290 non-null   float64\n",
      " 20  rougher.input.floatbank11_sulfate           5282 non-null   float64\n",
      " 21  rougher.input.floatbank11_xanthate          5265 non-null   float64\n",
      " 22  rougher.state.floatbank10_a_air             5290 non-null   float64\n",
      " 23  rougher.state.floatbank10_a_level           5290 non-null   float64\n",
      " 24  rougher.state.floatbank10_b_air             5290 non-null   float64\n",
      " 25  rougher.state.floatbank10_b_level           5290 non-null   float64\n",
      " 26  rougher.state.floatbank10_c_air             5290 non-null   float64\n",
      " 27  rougher.state.floatbank10_c_level           5290 non-null   float64\n",
      " 28  rougher.state.floatbank10_d_air             5290 non-null   float64\n",
      " 29  rougher.state.floatbank10_d_level           5290 non-null   float64\n",
      " 30  rougher.state.floatbank10_e_air             5290 non-null   float64\n",
      " 31  rougher.state.floatbank10_e_level           5290 non-null   float64\n",
      " 32  rougher.state.floatbank10_f_air             5290 non-null   float64\n",
      " 33  rougher.state.floatbank10_f_level           5290 non-null   float64\n",
      " 34  secondary_cleaner.state.floatbank2_a_air    5287 non-null   float64\n",
      " 35  secondary_cleaner.state.floatbank2_a_level  5290 non-null   float64\n",
      " 36  secondary_cleaner.state.floatbank2_b_air    5288 non-null   float64\n",
      " 37  secondary_cleaner.state.floatbank2_b_level  5290 non-null   float64\n",
      " 38  secondary_cleaner.state.floatbank3_a_air    5281 non-null   float64\n",
      " 39  secondary_cleaner.state.floatbank3_a_level  5290 non-null   float64\n",
      " 40  secondary_cleaner.state.floatbank3_b_air    5290 non-null   float64\n",
      " 41  secondary_cleaner.state.floatbank3_b_level  5290 non-null   float64\n",
      " 42  secondary_cleaner.state.floatbank4_a_air    5290 non-null   float64\n",
      " 43  secondary_cleaner.state.floatbank4_a_level  5290 non-null   float64\n",
      " 44  secondary_cleaner.state.floatbank4_b_air    5290 non-null   float64\n",
      " 45  secondary_cleaner.state.floatbank4_b_level  5290 non-null   float64\n",
      " 46  secondary_cleaner.state.floatbank5_a_air    5290 non-null   float64\n",
      " 47  secondary_cleaner.state.floatbank5_a_level  5290 non-null   float64\n",
      " 48  secondary_cleaner.state.floatbank5_b_air    5290 non-null   float64\n",
      " 49  secondary_cleaner.state.floatbank5_b_level  5290 non-null   float64\n",
      " 50  secondary_cleaner.state.floatbank6_a_air    5290 non-null   float64\n",
      " 51  secondary_cleaner.state.floatbank6_a_level  5290 non-null   float64\n",
      "dtypes: float64(52)\n",
      "memory usage: 2.1+ MB\n"
     ]
    }
   ],
   "source": [
    "test.info()"
   ]
  },
  {
   "cell_type": "code",
   "execution_count": 7,
   "metadata": {},
   "outputs": [
    {
     "data": {
      "text/html": [
       "<div>\n",
       "<style scoped>\n",
       "    .dataframe tbody tr th:only-of-type {\n",
       "        vertical-align: middle;\n",
       "    }\n",
       "\n",
       "    .dataframe tbody tr th {\n",
       "        vertical-align: top;\n",
       "    }\n",
       "\n",
       "    .dataframe thead th {\n",
       "        text-align: right;\n",
       "    }\n",
       "</style>\n",
       "<table border=\"1\" class=\"dataframe\">\n",
       "  <thead>\n",
       "    <tr style=\"text-align: right;\">\n",
       "      <th></th>\n",
       "      <th>count</th>\n",
       "      <th>mean</th>\n",
       "      <th>std</th>\n",
       "      <th>min</th>\n",
       "      <th>25%</th>\n",
       "      <th>50%</th>\n",
       "      <th>75%</th>\n",
       "      <th>max</th>\n",
       "    </tr>\n",
       "  </thead>\n",
       "  <tbody>\n",
       "    <tr>\n",
       "      <th>final.output.concentrate_ag</th>\n",
       "      <td>19438.0</td>\n",
       "      <td>5.168470</td>\n",
       "      <td>1.372348</td>\n",
       "      <td>0.000000</td>\n",
       "      <td>4.251240</td>\n",
       "      <td>5.066094</td>\n",
       "      <td>5.895527</td>\n",
       "      <td>16.001945</td>\n",
       "    </tr>\n",
       "    <tr>\n",
       "      <th>final.output.concentrate_pb</th>\n",
       "      <td>19438.0</td>\n",
       "      <td>9.978895</td>\n",
       "      <td>1.669240</td>\n",
       "      <td>0.000000</td>\n",
       "      <td>9.137262</td>\n",
       "      <td>10.102433</td>\n",
       "      <td>11.035769</td>\n",
       "      <td>17.031899</td>\n",
       "    </tr>\n",
       "    <tr>\n",
       "      <th>final.output.concentrate_sol</th>\n",
       "      <td>19228.0</td>\n",
       "      <td>9.501224</td>\n",
       "      <td>2.787537</td>\n",
       "      <td>0.000000</td>\n",
       "      <td>7.722820</td>\n",
       "      <td>9.218961</td>\n",
       "      <td>10.947813</td>\n",
       "      <td>19.615720</td>\n",
       "    </tr>\n",
       "    <tr>\n",
       "      <th>final.output.concentrate_au</th>\n",
       "      <td>19439.0</td>\n",
       "      <td>44.076513</td>\n",
       "      <td>5.129784</td>\n",
       "      <td>0.000000</td>\n",
       "      <td>43.402215</td>\n",
       "      <td>45.011244</td>\n",
       "      <td>46.275313</td>\n",
       "      <td>52.756638</td>\n",
       "    </tr>\n",
       "    <tr>\n",
       "      <th>final.output.recovery</th>\n",
       "      <td>19439.0</td>\n",
       "      <td>67.050208</td>\n",
       "      <td>10.125840</td>\n",
       "      <td>0.000000</td>\n",
       "      <td>63.299712</td>\n",
       "      <td>68.172738</td>\n",
       "      <td>72.686642</td>\n",
       "      <td>100.000000</td>\n",
       "    </tr>\n",
       "    <tr>\n",
       "      <th>...</th>\n",
       "      <td>...</td>\n",
       "      <td>...</td>\n",
       "      <td>...</td>\n",
       "      <td>...</td>\n",
       "      <td>...</td>\n",
       "      <td>...</td>\n",
       "      <td>...</td>\n",
       "      <td>...</td>\n",
       "    </tr>\n",
       "    <tr>\n",
       "      <th>secondary_cleaner.state.floatbank5_a_level</th>\n",
       "      <td>19438.0</td>\n",
       "      <td>-488.684065</td>\n",
       "      <td>34.533396</td>\n",
       "      <td>-797.323986</td>\n",
       "      <td>-500.458467</td>\n",
       "      <td>-499.802605</td>\n",
       "      <td>-498.384187</td>\n",
       "      <td>-244.483566</td>\n",
       "    </tr>\n",
       "    <tr>\n",
       "      <th>secondary_cleaner.state.floatbank5_b_air</th>\n",
       "      <td>19438.0</td>\n",
       "      <td>12.198224</td>\n",
       "      <td>5.333024</td>\n",
       "      <td>0.528083</td>\n",
       "      <td>8.971105</td>\n",
       "      <td>11.019433</td>\n",
       "      <td>14.019088</td>\n",
       "      <td>27.926001</td>\n",
       "    </tr>\n",
       "    <tr>\n",
       "      <th>secondary_cleaner.state.floatbank5_b_level</th>\n",
       "      <td>19438.0</td>\n",
       "      <td>-487.149827</td>\n",
       "      <td>38.347312</td>\n",
       "      <td>-800.220337</td>\n",
       "      <td>-500.129462</td>\n",
       "      <td>-499.935317</td>\n",
       "      <td>-499.436708</td>\n",
       "      <td>-137.740004</td>\n",
       "    </tr>\n",
       "    <tr>\n",
       "      <th>secondary_cleaner.state.floatbank6_a_air</th>\n",
       "      <td>19437.0</td>\n",
       "      <td>18.959024</td>\n",
       "      <td>5.550498</td>\n",
       "      <td>-0.079426</td>\n",
       "      <td>14.983037</td>\n",
       "      <td>19.960541</td>\n",
       "      <td>24.003170</td>\n",
       "      <td>32.188906</td>\n",
       "    </tr>\n",
       "    <tr>\n",
       "      <th>secondary_cleaner.state.floatbank6_a_level</th>\n",
       "      <td>19438.0</td>\n",
       "      <td>-505.436305</td>\n",
       "      <td>37.689057</td>\n",
       "      <td>-809.741464</td>\n",
       "      <td>-500.728067</td>\n",
       "      <td>-500.048400</td>\n",
       "      <td>-499.495378</td>\n",
       "      <td>-104.427459</td>\n",
       "    </tr>\n",
       "  </tbody>\n",
       "</table>\n",
       "<p>86 rows × 8 columns</p>\n",
       "</div>"
      ],
      "text/plain": [
       "                                              count        mean        std  \\\n",
       "final.output.concentrate_ag                 19438.0    5.168470   1.372348   \n",
       "final.output.concentrate_pb                 19438.0    9.978895   1.669240   \n",
       "final.output.concentrate_sol                19228.0    9.501224   2.787537   \n",
       "final.output.concentrate_au                 19439.0   44.076513   5.129784   \n",
       "final.output.recovery                       19439.0   67.050208  10.125840   \n",
       "...                                             ...         ...        ...   \n",
       "secondary_cleaner.state.floatbank5_a_level  19438.0 -488.684065  34.533396   \n",
       "secondary_cleaner.state.floatbank5_b_air    19438.0   12.198224   5.333024   \n",
       "secondary_cleaner.state.floatbank5_b_level  19438.0 -487.149827  38.347312   \n",
       "secondary_cleaner.state.floatbank6_a_air    19437.0   18.959024   5.550498   \n",
       "secondary_cleaner.state.floatbank6_a_level  19438.0 -505.436305  37.689057   \n",
       "\n",
       "                                                   min         25%  \\\n",
       "final.output.concentrate_ag                   0.000000    4.251240   \n",
       "final.output.concentrate_pb                   0.000000    9.137262   \n",
       "final.output.concentrate_sol                  0.000000    7.722820   \n",
       "final.output.concentrate_au                   0.000000   43.402215   \n",
       "final.output.recovery                         0.000000   63.299712   \n",
       "...                                                ...         ...   \n",
       "secondary_cleaner.state.floatbank5_a_level -797.323986 -500.458467   \n",
       "secondary_cleaner.state.floatbank5_b_air      0.528083    8.971105   \n",
       "secondary_cleaner.state.floatbank5_b_level -800.220337 -500.129462   \n",
       "secondary_cleaner.state.floatbank6_a_air     -0.079426   14.983037   \n",
       "secondary_cleaner.state.floatbank6_a_level -809.741464 -500.728067   \n",
       "\n",
       "                                                   50%         75%         max  \n",
       "final.output.concentrate_ag                   5.066094    5.895527   16.001945  \n",
       "final.output.concentrate_pb                  10.102433   11.035769   17.031899  \n",
       "final.output.concentrate_sol                  9.218961   10.947813   19.615720  \n",
       "final.output.concentrate_au                  45.011244   46.275313   52.756638  \n",
       "final.output.recovery                        68.172738   72.686642  100.000000  \n",
       "...                                                ...         ...         ...  \n",
       "secondary_cleaner.state.floatbank5_a_level -499.802605 -498.384187 -244.483566  \n",
       "secondary_cleaner.state.floatbank5_b_air     11.019433   14.019088   27.926001  \n",
       "secondary_cleaner.state.floatbank5_b_level -499.935317 -499.436708 -137.740004  \n",
       "secondary_cleaner.state.floatbank6_a_air     19.960541   24.003170   32.188906  \n",
       "secondary_cleaner.state.floatbank6_a_level -500.048400 -499.495378 -104.427459  \n",
       "\n",
       "[86 rows x 8 columns]"
      ]
     },
     "execution_count": 7,
     "metadata": {},
     "output_type": "execute_result"
    }
   ],
   "source": [
    "df.describe().T"
   ]
  },
  {
   "cell_type": "code",
   "execution_count": 8,
   "metadata": {},
   "outputs": [
    {
     "data": {
      "text/html": [
       "<div>\n",
       "<style scoped>\n",
       "    .dataframe tbody tr th:only-of-type {\n",
       "        vertical-align: middle;\n",
       "    }\n",
       "\n",
       "    .dataframe tbody tr th {\n",
       "        vertical-align: top;\n",
       "    }\n",
       "\n",
       "    .dataframe thead th {\n",
       "        text-align: right;\n",
       "    }\n",
       "</style>\n",
       "<table border=\"1\" class=\"dataframe\">\n",
       "  <thead>\n",
       "    <tr style=\"text-align: right;\">\n",
       "      <th></th>\n",
       "      <th>count</th>\n",
       "      <th>mean</th>\n",
       "      <th>std</th>\n",
       "      <th>min</th>\n",
       "      <th>25%</th>\n",
       "      <th>50%</th>\n",
       "      <th>75%</th>\n",
       "      <th>max</th>\n",
       "    </tr>\n",
       "  </thead>\n",
       "  <tbody>\n",
       "    <tr>\n",
       "      <th>final.output.concentrate_ag</th>\n",
       "      <td>14148.0</td>\n",
       "      <td>5.142034</td>\n",
       "      <td>1.369586</td>\n",
       "      <td>0.000000</td>\n",
       "      <td>4.211620</td>\n",
       "      <td>4.994652</td>\n",
       "      <td>5.859540</td>\n",
       "      <td>16.001945</td>\n",
       "    </tr>\n",
       "    <tr>\n",
       "      <th>final.output.concentrate_pb</th>\n",
       "      <td>14148.0</td>\n",
       "      <td>10.132960</td>\n",
       "      <td>1.654930</td>\n",
       "      <td>0.000000</td>\n",
       "      <td>9.297355</td>\n",
       "      <td>10.297144</td>\n",
       "      <td>11.170603</td>\n",
       "      <td>17.031899</td>\n",
       "    </tr>\n",
       "    <tr>\n",
       "      <th>final.output.concentrate_sol</th>\n",
       "      <td>13938.0</td>\n",
       "      <td>9.202849</td>\n",
       "      <td>2.790516</td>\n",
       "      <td>0.000000</td>\n",
       "      <td>7.484645</td>\n",
       "      <td>8.845462</td>\n",
       "      <td>10.487508</td>\n",
       "      <td>18.124851</td>\n",
       "    </tr>\n",
       "    <tr>\n",
       "      <th>final.output.concentrate_au</th>\n",
       "      <td>14149.0</td>\n",
       "      <td>44.003792</td>\n",
       "      <td>4.905261</td>\n",
       "      <td>0.000000</td>\n",
       "      <td>43.276111</td>\n",
       "      <td>44.872436</td>\n",
       "      <td>46.166425</td>\n",
       "      <td>52.756638</td>\n",
       "    </tr>\n",
       "    <tr>\n",
       "      <th>final.output.recovery</th>\n",
       "      <td>14149.0</td>\n",
       "      <td>66.518832</td>\n",
       "      <td>10.295402</td>\n",
       "      <td>0.000000</td>\n",
       "      <td>62.545817</td>\n",
       "      <td>67.432775</td>\n",
       "      <td>72.346428</td>\n",
       "      <td>100.000000</td>\n",
       "    </tr>\n",
       "    <tr>\n",
       "      <th>...</th>\n",
       "      <td>...</td>\n",
       "      <td>...</td>\n",
       "      <td>...</td>\n",
       "      <td>...</td>\n",
       "      <td>...</td>\n",
       "      <td>...</td>\n",
       "      <td>...</td>\n",
       "      <td>...</td>\n",
       "    </tr>\n",
       "    <tr>\n",
       "      <th>secondary_cleaner.state.floatbank5_a_level</th>\n",
       "      <td>14148.0</td>\n",
       "      <td>-483.956022</td>\n",
       "      <td>37.892788</td>\n",
       "      <td>-797.142475</td>\n",
       "      <td>-500.363177</td>\n",
       "      <td>-499.702452</td>\n",
       "      <td>-487.712108</td>\n",
       "      <td>-275.073125</td>\n",
       "    </tr>\n",
       "    <tr>\n",
       "      <th>secondary_cleaner.state.floatbank5_b_air</th>\n",
       "      <td>14148.0</td>\n",
       "      <td>13.064590</td>\n",
       "      <td>5.765617</td>\n",
       "      <td>0.646208</td>\n",
       "      <td>8.994405</td>\n",
       "      <td>11.997547</td>\n",
       "      <td>17.982903</td>\n",
       "      <td>27.926001</td>\n",
       "    </tr>\n",
       "    <tr>\n",
       "      <th>secondary_cleaner.state.floatbank5_b_level</th>\n",
       "      <td>14148.0</td>\n",
       "      <td>-483.966564</td>\n",
       "      <td>39.207913</td>\n",
       "      <td>-800.006180</td>\n",
       "      <td>-500.105994</td>\n",
       "      <td>-499.914556</td>\n",
       "      <td>-453.186936</td>\n",
       "      <td>-157.396071</td>\n",
       "    </tr>\n",
       "    <tr>\n",
       "      <th>secondary_cleaner.state.floatbank6_a_air</th>\n",
       "      <td>14147.0</td>\n",
       "      <td>19.577539</td>\n",
       "      <td>5.764417</td>\n",
       "      <td>0.195324</td>\n",
       "      <td>14.989304</td>\n",
       "      <td>19.984175</td>\n",
       "      <td>24.991623</td>\n",
       "      <td>32.188906</td>\n",
       "    </tr>\n",
       "    <tr>\n",
       "      <th>secondary_cleaner.state.floatbank6_a_level</th>\n",
       "      <td>14148.0</td>\n",
       "      <td>-506.798480</td>\n",
       "      <td>37.079249</td>\n",
       "      <td>-809.398668</td>\n",
       "      <td>-500.745104</td>\n",
       "      <td>-500.061431</td>\n",
       "      <td>-499.536466</td>\n",
       "      <td>-104.427459</td>\n",
       "    </tr>\n",
       "  </tbody>\n",
       "</table>\n",
       "<p>86 rows × 8 columns</p>\n",
       "</div>"
      ],
      "text/plain": [
       "                                              count        mean        std  \\\n",
       "final.output.concentrate_ag                 14148.0    5.142034   1.369586   \n",
       "final.output.concentrate_pb                 14148.0   10.132960   1.654930   \n",
       "final.output.concentrate_sol                13938.0    9.202849   2.790516   \n",
       "final.output.concentrate_au                 14149.0   44.003792   4.905261   \n",
       "final.output.recovery                       14149.0   66.518832  10.295402   \n",
       "...                                             ...         ...        ...   \n",
       "secondary_cleaner.state.floatbank5_a_level  14148.0 -483.956022  37.892788   \n",
       "secondary_cleaner.state.floatbank5_b_air    14148.0   13.064590   5.765617   \n",
       "secondary_cleaner.state.floatbank5_b_level  14148.0 -483.966564  39.207913   \n",
       "secondary_cleaner.state.floatbank6_a_air    14147.0   19.577539   5.764417   \n",
       "secondary_cleaner.state.floatbank6_a_level  14148.0 -506.798480  37.079249   \n",
       "\n",
       "                                                   min         25%  \\\n",
       "final.output.concentrate_ag                   0.000000    4.211620   \n",
       "final.output.concentrate_pb                   0.000000    9.297355   \n",
       "final.output.concentrate_sol                  0.000000    7.484645   \n",
       "final.output.concentrate_au                   0.000000   43.276111   \n",
       "final.output.recovery                         0.000000   62.545817   \n",
       "...                                                ...         ...   \n",
       "secondary_cleaner.state.floatbank5_a_level -797.142475 -500.363177   \n",
       "secondary_cleaner.state.floatbank5_b_air      0.646208    8.994405   \n",
       "secondary_cleaner.state.floatbank5_b_level -800.006180 -500.105994   \n",
       "secondary_cleaner.state.floatbank6_a_air      0.195324   14.989304   \n",
       "secondary_cleaner.state.floatbank6_a_level -809.398668 -500.745104   \n",
       "\n",
       "                                                   50%         75%         max  \n",
       "final.output.concentrate_ag                   4.994652    5.859540   16.001945  \n",
       "final.output.concentrate_pb                  10.297144   11.170603   17.031899  \n",
       "final.output.concentrate_sol                  8.845462   10.487508   18.124851  \n",
       "final.output.concentrate_au                  44.872436   46.166425   52.756638  \n",
       "final.output.recovery                        67.432775   72.346428  100.000000  \n",
       "...                                                ...         ...         ...  \n",
       "secondary_cleaner.state.floatbank5_a_level -499.702452 -487.712108 -275.073125  \n",
       "secondary_cleaner.state.floatbank5_b_air     11.997547   17.982903   27.926001  \n",
       "secondary_cleaner.state.floatbank5_b_level -499.914556 -453.186936 -157.396071  \n",
       "secondary_cleaner.state.floatbank6_a_air     19.984175   24.991623   32.188906  \n",
       "secondary_cleaner.state.floatbank6_a_level -500.061431 -499.536466 -104.427459  \n",
       "\n",
       "[86 rows x 8 columns]"
      ]
     },
     "execution_count": 8,
     "metadata": {},
     "output_type": "execute_result"
    }
   ],
   "source": [
    "train.describe().T"
   ]
  },
  {
   "cell_type": "code",
   "execution_count": 9,
   "metadata": {},
   "outputs": [
    {
     "data": {
      "text/html": [
       "<div>\n",
       "<style scoped>\n",
       "    .dataframe tbody tr th:only-of-type {\n",
       "        vertical-align: middle;\n",
       "    }\n",
       "\n",
       "    .dataframe tbody tr th {\n",
       "        vertical-align: top;\n",
       "    }\n",
       "\n",
       "    .dataframe thead th {\n",
       "        text-align: right;\n",
       "    }\n",
       "</style>\n",
       "<table border=\"1\" class=\"dataframe\">\n",
       "  <thead>\n",
       "    <tr style=\"text-align: right;\">\n",
       "      <th></th>\n",
       "      <th>count</th>\n",
       "      <th>mean</th>\n",
       "      <th>std</th>\n",
       "      <th>min</th>\n",
       "      <th>25%</th>\n",
       "      <th>50%</th>\n",
       "      <th>75%</th>\n",
       "      <th>max</th>\n",
       "    </tr>\n",
       "  </thead>\n",
       "  <tbody>\n",
       "    <tr>\n",
       "      <th>primary_cleaner.input.sulfate</th>\n",
       "      <td>5286.0</td>\n",
       "      <td>174.839652</td>\n",
       "      <td>43.027080</td>\n",
       "      <td>2.566156e+00</td>\n",
       "      <td>147.121401</td>\n",
       "      <td>177.828489</td>\n",
       "      <td>208.125438</td>\n",
       "      <td>265.983123</td>\n",
       "    </tr>\n",
       "    <tr>\n",
       "      <th>primary_cleaner.input.depressant</th>\n",
       "      <td>5285.0</td>\n",
       "      <td>8.683596</td>\n",
       "      <td>3.072050</td>\n",
       "      <td>3.839482e-03</td>\n",
       "      <td>6.489555</td>\n",
       "      <td>8.052207</td>\n",
       "      <td>10.027764</td>\n",
       "      <td>40.000000</td>\n",
       "    </tr>\n",
       "    <tr>\n",
       "      <th>primary_cleaner.input.feed_size</th>\n",
       "      <td>5290.0</td>\n",
       "      <td>7.266339</td>\n",
       "      <td>0.610219</td>\n",
       "      <td>5.650000e+00</td>\n",
       "      <td>6.890000</td>\n",
       "      <td>7.250000</td>\n",
       "      <td>7.600000</td>\n",
       "      <td>15.500000</td>\n",
       "    </tr>\n",
       "    <tr>\n",
       "      <th>primary_cleaner.input.xanthate</th>\n",
       "      <td>5286.0</td>\n",
       "      <td>1.383803</td>\n",
       "      <td>0.643474</td>\n",
       "      <td>4.983673e-03</td>\n",
       "      <td>0.907623</td>\n",
       "      <td>1.197610</td>\n",
       "      <td>1.797819</td>\n",
       "      <td>4.102454</td>\n",
       "    </tr>\n",
       "    <tr>\n",
       "      <th>primary_cleaner.state.floatbank8_a_air</th>\n",
       "      <td>5290.0</td>\n",
       "      <td>1539.494325</td>\n",
       "      <td>116.797884</td>\n",
       "      <td>5.445860e-32</td>\n",
       "      <td>1498.935802</td>\n",
       "      <td>1585.129123</td>\n",
       "      <td>1602.076529</td>\n",
       "      <td>2103.103580</td>\n",
       "    </tr>\n",
       "    <tr>\n",
       "      <th>primary_cleaner.state.floatbank8_a_level</th>\n",
       "      <td>5290.0</td>\n",
       "      <td>-497.665883</td>\n",
       "      <td>19.952431</td>\n",
       "      <td>-7.953163e+02</td>\n",
       "      <td>-500.357298</td>\n",
       "      <td>-499.969164</td>\n",
       "      <td>-499.568951</td>\n",
       "      <td>-57.195404</td>\n",
       "    </tr>\n",
       "    <tr>\n",
       "      <th>primary_cleaner.state.floatbank8_b_air</th>\n",
       "      <td>5290.0</td>\n",
       "      <td>1545.174232</td>\n",
       "      <td>122.224588</td>\n",
       "      <td>6.647490e-32</td>\n",
       "      <td>1498.970993</td>\n",
       "      <td>1595.621798</td>\n",
       "      <td>1602.323545</td>\n",
       "      <td>1813.083671</td>\n",
       "    </tr>\n",
       "    <tr>\n",
       "      <th>primary_cleaner.state.floatbank8_b_level</th>\n",
       "      <td>5290.0</td>\n",
       "      <td>-500.273098</td>\n",
       "      <td>32.968307</td>\n",
       "      <td>-7.999970e+02</td>\n",
       "      <td>-500.703002</td>\n",
       "      <td>-500.028514</td>\n",
       "      <td>-499.293257</td>\n",
       "      <td>-142.527229</td>\n",
       "    </tr>\n",
       "    <tr>\n",
       "      <th>primary_cleaner.state.floatbank8_c_air</th>\n",
       "      <td>5290.0</td>\n",
       "      <td>1527.272362</td>\n",
       "      <td>122.538034</td>\n",
       "      <td>4.033736e-32</td>\n",
       "      <td>1473.229862</td>\n",
       "      <td>1549.594682</td>\n",
       "      <td>1601.143775</td>\n",
       "      <td>1715.053773</td>\n",
       "    </tr>\n",
       "    <tr>\n",
       "      <th>primary_cleaner.state.floatbank8_c_level</th>\n",
       "      <td>5290.0</td>\n",
       "      <td>-498.330680</td>\n",
       "      <td>21.964876</td>\n",
       "      <td>-7.999606e+02</td>\n",
       "      <td>-501.018117</td>\n",
       "      <td>-500.017711</td>\n",
       "      <td>-498.994130</td>\n",
       "      <td>-150.937035</td>\n",
       "    </tr>\n",
       "    <tr>\n",
       "      <th>primary_cleaner.state.floatbank8_d_air</th>\n",
       "      <td>5290.0</td>\n",
       "      <td>1544.844335</td>\n",
       "      <td>124.773081</td>\n",
       "      <td>4.039220e-32</td>\n",
       "      <td>1499.481404</td>\n",
       "      <td>1594.579112</td>\n",
       "      <td>1600.964772</td>\n",
       "      <td>1913.256561</td>\n",
       "    </tr>\n",
       "    <tr>\n",
       "      <th>primary_cleaner.state.floatbank8_d_level</th>\n",
       "      <td>5290.0</td>\n",
       "      <td>-500.199527</td>\n",
       "      <td>31.045257</td>\n",
       "      <td>-7.997943e+02</td>\n",
       "      <td>-500.452469</td>\n",
       "      <td>-500.023307</td>\n",
       "      <td>-499.607040</td>\n",
       "      <td>-158.950573</td>\n",
       "    </tr>\n",
       "    <tr>\n",
       "      <th>rougher.input.feed_ag</th>\n",
       "      <td>5290.0</td>\n",
       "      <td>9.371940</td>\n",
       "      <td>1.926264</td>\n",
       "      <td>5.684412e-01</td>\n",
       "      <td>8.112434</td>\n",
       "      <td>9.762654</td>\n",
       "      <td>10.652297</td>\n",
       "      <td>14.406130</td>\n",
       "    </tr>\n",
       "    <tr>\n",
       "      <th>rougher.input.feed_pb</th>\n",
       "      <td>5290.0</td>\n",
       "      <td>3.798082</td>\n",
       "      <td>0.954859</td>\n",
       "      <td>2.736769e-01</td>\n",
       "      <td>3.240251</td>\n",
       "      <td>3.740716</td>\n",
       "      <td>4.282634</td>\n",
       "      <td>6.905684</td>\n",
       "    </tr>\n",
       "    <tr>\n",
       "      <th>rougher.input.feed_rate</th>\n",
       "      <td>5287.0</td>\n",
       "      <td>489.800620</td>\n",
       "      <td>108.036326</td>\n",
       "      <td>2.985849e-03</td>\n",
       "      <td>407.020883</td>\n",
       "      <td>499.051440</td>\n",
       "      <td>575.307213</td>\n",
       "      <td>707.364020</td>\n",
       "    </tr>\n",
       "    <tr>\n",
       "      <th>rougher.input.feed_size</th>\n",
       "      <td>5289.0</td>\n",
       "      <td>55.951097</td>\n",
       "      <td>19.081758</td>\n",
       "      <td>4.636880e-02</td>\n",
       "      <td>43.906347</td>\n",
       "      <td>50.841029</td>\n",
       "      <td>62.431047</td>\n",
       "      <td>392.494040</td>\n",
       "    </tr>\n",
       "    <tr>\n",
       "      <th>rougher.input.feed_sol</th>\n",
       "      <td>5269.0</td>\n",
       "      <td>37.716648</td>\n",
       "      <td>5.491415</td>\n",
       "      <td>1.393488e+00</td>\n",
       "      <td>34.505576</td>\n",
       "      <td>37.980276</td>\n",
       "      <td>41.635385</td>\n",
       "      <td>53.477742</td>\n",
       "    </tr>\n",
       "    <tr>\n",
       "      <th>rougher.input.feed_au</th>\n",
       "      <td>5290.0</td>\n",
       "      <td>9.334682</td>\n",
       "      <td>1.619521</td>\n",
       "      <td>5.686322e-01</td>\n",
       "      <td>8.207814</td>\n",
       "      <td>9.593766</td>\n",
       "      <td>10.463538</td>\n",
       "      <td>13.731330</td>\n",
       "    </tr>\n",
       "    <tr>\n",
       "      <th>rougher.input.floatbank10_sulfate</th>\n",
       "      <td>5285.0</td>\n",
       "      <td>13.855759</td>\n",
       "      <td>3.350852</td>\n",
       "      <td>1.147460e-03</td>\n",
       "      <td>11.995006</td>\n",
       "      <td>14.003126</td>\n",
       "      <td>16.974284</td>\n",
       "      <td>24.280636</td>\n",
       "    </tr>\n",
       "    <tr>\n",
       "      <th>rougher.input.floatbank10_xanthate</th>\n",
       "      <td>5290.0</td>\n",
       "      <td>6.467745</td>\n",
       "      <td>1.065114</td>\n",
       "      <td>5.682328e-04</td>\n",
       "      <td>5.998779</td>\n",
       "      <td>6.498181</td>\n",
       "      <td>7.085457</td>\n",
       "      <td>8.910468</td>\n",
       "    </tr>\n",
       "    <tr>\n",
       "      <th>rougher.input.floatbank11_sulfate</th>\n",
       "      <td>5282.0</td>\n",
       "      <td>13.922328</td>\n",
       "      <td>3.223769</td>\n",
       "      <td>7.673764e-05</td>\n",
       "      <td>11.997200</td>\n",
       "      <td>14.004371</td>\n",
       "      <td>16.959671</td>\n",
       "      <td>24.280966</td>\n",
       "    </tr>\n",
       "    <tr>\n",
       "      <th>rougher.input.floatbank11_xanthate</th>\n",
       "      <td>5265.0</td>\n",
       "      <td>6.512103</td>\n",
       "      <td>0.886989</td>\n",
       "      <td>6.985269e-03</td>\n",
       "      <td>5.999157</td>\n",
       "      <td>6.498744</td>\n",
       "      <td>7.091808</td>\n",
       "      <td>8.621338</td>\n",
       "    </tr>\n",
       "    <tr>\n",
       "      <th>rougher.state.floatbank10_a_air</th>\n",
       "      <td>5290.0</td>\n",
       "      <td>1053.400166</td>\n",
       "      <td>121.139309</td>\n",
       "      <td>-4.206929e-02</td>\n",
       "      <td>999.205344</td>\n",
       "      <td>1000.472055</td>\n",
       "      <td>1006.254299</td>\n",
       "      <td>1423.274687</td>\n",
       "    </tr>\n",
       "    <tr>\n",
       "      <th>rougher.state.floatbank10_a_level</th>\n",
       "      <td>5290.0</td>\n",
       "      <td>-395.732530</td>\n",
       "      <td>91.085505</td>\n",
       "      <td>-6.579498e+02</td>\n",
       "      <td>-499.920565</td>\n",
       "      <td>-399.693363</td>\n",
       "      <td>-300.060056</td>\n",
       "      <td>-273.776101</td>\n",
       "    </tr>\n",
       "    <tr>\n",
       "      <th>rougher.state.floatbank10_b_air</th>\n",
       "      <td>5290.0</td>\n",
       "      <td>1318.926879</td>\n",
       "      <td>156.450366</td>\n",
       "      <td>-7.218064e-01</td>\n",
       "      <td>1200.871883</td>\n",
       "      <td>1302.254995</td>\n",
       "      <td>1433.955649</td>\n",
       "      <td>1706.640419</td>\n",
       "    </tr>\n",
       "    <tr>\n",
       "      <th>rougher.state.floatbank10_b_level</th>\n",
       "      <td>5290.0</td>\n",
       "      <td>-475.241428</td>\n",
       "      <td>45.649466</td>\n",
       "      <td>-6.502453e+02</td>\n",
       "      <td>-500.256114</td>\n",
       "      <td>-499.837803</td>\n",
       "      <td>-450.749619</td>\n",
       "      <td>-298.200051</td>\n",
       "    </tr>\n",
       "    <tr>\n",
       "      <th>rougher.state.floatbank10_c_air</th>\n",
       "      <td>5290.0</td>\n",
       "      <td>1301.595477</td>\n",
       "      <td>171.269667</td>\n",
       "      <td>-5.663551e-02</td>\n",
       "      <td>1199.651371</td>\n",
       "      <td>1300.202274</td>\n",
       "      <td>1406.594956</td>\n",
       "      <td>1731.017788</td>\n",
       "    </tr>\n",
       "    <tr>\n",
       "      <th>rougher.state.floatbank10_c_level</th>\n",
       "      <td>5290.0</td>\n",
       "      <td>-474.836671</td>\n",
       "      <td>45.859866</td>\n",
       "      <td>-6.475444e+02</td>\n",
       "      <td>-500.233831</td>\n",
       "      <td>-499.777222</td>\n",
       "      <td>-451.153188</td>\n",
       "      <td>-298.036852</td>\n",
       "    </tr>\n",
       "    <tr>\n",
       "      <th>rougher.state.floatbank10_d_air</th>\n",
       "      <td>5290.0</td>\n",
       "      <td>1214.847960</td>\n",
       "      <td>185.763319</td>\n",
       "      <td>-9.922190e-01</td>\n",
       "      <td>1093.368068</td>\n",
       "      <td>1207.014092</td>\n",
       "      <td>1391.497269</td>\n",
       "      <td>1775.218584</td>\n",
       "    </tr>\n",
       "    <tr>\n",
       "      <th>rougher.state.floatbank10_d_level</th>\n",
       "      <td>5290.0</td>\n",
       "      <td>-475.682272</td>\n",
       "      <td>47.844967</td>\n",
       "      <td>-6.483907e+02</td>\n",
       "      <td>-500.440610</td>\n",
       "      <td>-499.691917</td>\n",
       "      <td>-452.483463</td>\n",
       "      <td>-76.397327</td>\n",
       "    </tr>\n",
       "    <tr>\n",
       "      <th>rougher.state.floatbank10_e_air</th>\n",
       "      <td>5290.0</td>\n",
       "      <td>1056.648995</td>\n",
       "      <td>131.542839</td>\n",
       "      <td>-1.982295e+00</td>\n",
       "      <td>999.361403</td>\n",
       "      <td>1047.495449</td>\n",
       "      <td>1101.365315</td>\n",
       "      <td>1467.184843</td>\n",
       "    </tr>\n",
       "    <tr>\n",
       "      <th>rougher.state.floatbank10_e_level</th>\n",
       "      <td>5290.0</td>\n",
       "      <td>-469.029688</td>\n",
       "      <td>59.325990</td>\n",
       "      <td>-6.492675e+02</td>\n",
       "      <td>-500.190639</td>\n",
       "      <td>-499.765796</td>\n",
       "      <td>-450.957513</td>\n",
       "      <td>-139.753025</td>\n",
       "    </tr>\n",
       "    <tr>\n",
       "      <th>rougher.state.floatbank10_f_air</th>\n",
       "      <td>5290.0</td>\n",
       "      <td>997.949719</td>\n",
       "      <td>128.218869</td>\n",
       "      <td>-2.593390e+00</td>\n",
       "      <td>901.024994</td>\n",
       "      <td>999.441879</td>\n",
       "      <td>1050.433005</td>\n",
       "      <td>1476.588107</td>\n",
       "    </tr>\n",
       "    <tr>\n",
       "      <th>rougher.state.floatbank10_f_level</th>\n",
       "      <td>5290.0</td>\n",
       "      <td>-470.482465</td>\n",
       "      <td>60.759318</td>\n",
       "      <td>-6.499493e+02</td>\n",
       "      <td>-500.624783</td>\n",
       "      <td>-499.680986</td>\n",
       "      <td>-451.986460</td>\n",
       "      <td>-249.801043</td>\n",
       "    </tr>\n",
       "    <tr>\n",
       "      <th>secondary_cleaner.state.floatbank2_a_air</th>\n",
       "      <td>5287.0</td>\n",
       "      <td>26.312630</td>\n",
       "      <td>3.429852</td>\n",
       "      <td>2.053286e-01</td>\n",
       "      <td>24.942328</td>\n",
       "      <td>26.910569</td>\n",
       "      <td>28.091885</td>\n",
       "      <td>32.138727</td>\n",
       "    </tr>\n",
       "    <tr>\n",
       "      <th>secondary_cleaner.state.floatbank2_a_level</th>\n",
       "      <td>5290.0</td>\n",
       "      <td>-502.750897</td>\n",
       "      <td>28.756505</td>\n",
       "      <td>-7.840911e+02</td>\n",
       "      <td>-500.206517</td>\n",
       "      <td>-500.003902</td>\n",
       "      <td>-499.791639</td>\n",
       "      <td>-300.343670</td>\n",
       "    </tr>\n",
       "    <tr>\n",
       "      <th>secondary_cleaner.state.floatbank2_b_air</th>\n",
       "      <td>5288.0</td>\n",
       "      <td>21.949119</td>\n",
       "      <td>4.354961</td>\n",
       "      <td>6.063908e-03</td>\n",
       "      <td>20.002315</td>\n",
       "      <td>22.942603</td>\n",
       "      <td>24.985013</td>\n",
       "      <td>28.165864</td>\n",
       "    </tr>\n",
       "    <tr>\n",
       "      <th>secondary_cleaner.state.floatbank2_b_level</th>\n",
       "      <td>5290.0</td>\n",
       "      <td>-501.987097</td>\n",
       "      <td>34.582722</td>\n",
       "      <td>-7.977840e+02</td>\n",
       "      <td>-500.218030</td>\n",
       "      <td>-500.019058</td>\n",
       "      <td>-499.831532</td>\n",
       "      <td>-211.999273</td>\n",
       "    </tr>\n",
       "    <tr>\n",
       "      <th>secondary_cleaner.state.floatbank3_a_air</th>\n",
       "      <td>5281.0</td>\n",
       "      <td>25.402926</td>\n",
       "      <td>6.526457</td>\n",
       "      <td>0.000000e+00</td>\n",
       "      <td>22.982288</td>\n",
       "      <td>25.010105</td>\n",
       "      <td>30.002063</td>\n",
       "      <td>40.041997</td>\n",
       "    </tr>\n",
       "    <tr>\n",
       "      <th>secondary_cleaner.state.floatbank3_a_level</th>\n",
       "      <td>5290.0</td>\n",
       "      <td>-507.490314</td>\n",
       "      <td>47.620908</td>\n",
       "      <td>-7.997558e+02</td>\n",
       "      <td>-500.297951</td>\n",
       "      <td>-500.034578</td>\n",
       "      <td>-499.780163</td>\n",
       "      <td>-313.866425</td>\n",
       "    </tr>\n",
       "    <tr>\n",
       "      <th>secondary_cleaner.state.floatbank3_b_air</th>\n",
       "      <td>5290.0</td>\n",
       "      <td>20.982108</td>\n",
       "      <td>6.736179</td>\n",
       "      <td>1.521587e-17</td>\n",
       "      <td>17.967855</td>\n",
       "      <td>21.003164</td>\n",
       "      <td>26.976977</td>\n",
       "      <td>32.039365</td>\n",
       "    </tr>\n",
       "    <tr>\n",
       "      <th>secondary_cleaner.state.floatbank3_b_level</th>\n",
       "      <td>5290.0</td>\n",
       "      <td>-506.627916</td>\n",
       "      <td>44.528673</td>\n",
       "      <td>-8.093330e+02</td>\n",
       "      <td>-500.145128</td>\n",
       "      <td>-500.013819</td>\n",
       "      <td>-499.890608</td>\n",
       "      <td>-202.277366</td>\n",
       "    </tr>\n",
       "    <tr>\n",
       "      <th>secondary_cleaner.state.floatbank4_a_air</th>\n",
       "      <td>5290.0</td>\n",
       "      <td>16.320074</td>\n",
       "      <td>3.493583</td>\n",
       "      <td>1.079872e-16</td>\n",
       "      <td>14.036177</td>\n",
       "      <td>17.008468</td>\n",
       "      <td>18.038619</td>\n",
       "      <td>30.051797</td>\n",
       "    </tr>\n",
       "    <tr>\n",
       "      <th>secondary_cleaner.state.floatbank4_a_level</th>\n",
       "      <td>5290.0</td>\n",
       "      <td>-505.144570</td>\n",
       "      <td>31.427337</td>\n",
       "      <td>-7.997985e+02</td>\n",
       "      <td>-500.868258</td>\n",
       "      <td>-500.115727</td>\n",
       "      <td>-499.404224</td>\n",
       "      <td>-401.565212</td>\n",
       "    </tr>\n",
       "    <tr>\n",
       "      <th>secondary_cleaner.state.floatbank4_b_air</th>\n",
       "      <td>5290.0</td>\n",
       "      <td>13.735444</td>\n",
       "      <td>3.430484</td>\n",
       "      <td>2.489718e-17</td>\n",
       "      <td>12.028625</td>\n",
       "      <td>14.964860</td>\n",
       "      <td>15.962125</td>\n",
       "      <td>31.269706</td>\n",
       "    </tr>\n",
       "    <tr>\n",
       "      <th>secondary_cleaner.state.floatbank4_b_level</th>\n",
       "      <td>5290.0</td>\n",
       "      <td>-463.349858</td>\n",
       "      <td>86.189107</td>\n",
       "      <td>-8.008369e+02</td>\n",
       "      <td>-500.323028</td>\n",
       "      <td>-499.576513</td>\n",
       "      <td>-400.933805</td>\n",
       "      <td>-6.506986</td>\n",
       "    </tr>\n",
       "    <tr>\n",
       "      <th>secondary_cleaner.state.floatbank5_a_air</th>\n",
       "      <td>5290.0</td>\n",
       "      <td>12.804186</td>\n",
       "      <td>3.026591</td>\n",
       "      <td>6.922662e-02</td>\n",
       "      <td>10.914838</td>\n",
       "      <td>12.954182</td>\n",
       "      <td>15.097528</td>\n",
       "      <td>25.258848</td>\n",
       "    </tr>\n",
       "    <tr>\n",
       "      <th>secondary_cleaner.state.floatbank5_a_level</th>\n",
       "      <td>5290.0</td>\n",
       "      <td>-501.329122</td>\n",
       "      <td>17.951495</td>\n",
       "      <td>-7.973240e+02</td>\n",
       "      <td>-500.726841</td>\n",
       "      <td>-499.990332</td>\n",
       "      <td>-499.283191</td>\n",
       "      <td>-244.483566</td>\n",
       "    </tr>\n",
       "    <tr>\n",
       "      <th>secondary_cleaner.state.floatbank5_b_air</th>\n",
       "      <td>5290.0</td>\n",
       "      <td>9.881145</td>\n",
       "      <td>2.868205</td>\n",
       "      <td>5.280828e-01</td>\n",
       "      <td>8.036719</td>\n",
       "      <td>10.004301</td>\n",
       "      <td>11.997467</td>\n",
       "      <td>14.086866</td>\n",
       "    </tr>\n",
       "    <tr>\n",
       "      <th>secondary_cleaner.state.floatbank5_b_level</th>\n",
       "      <td>5290.0</td>\n",
       "      <td>-495.663398</td>\n",
       "      <td>34.535007</td>\n",
       "      <td>-8.002203e+02</td>\n",
       "      <td>-500.194668</td>\n",
       "      <td>-499.990535</td>\n",
       "      <td>-499.719913</td>\n",
       "      <td>-137.740004</td>\n",
       "    </tr>\n",
       "    <tr>\n",
       "      <th>secondary_cleaner.state.floatbank6_a_air</th>\n",
       "      <td>5290.0</td>\n",
       "      <td>17.304935</td>\n",
       "      <td>4.536544</td>\n",
       "      <td>-7.942623e-02</td>\n",
       "      <td>13.997317</td>\n",
       "      <td>16.014935</td>\n",
       "      <td>21.020013</td>\n",
       "      <td>26.705889</td>\n",
       "    </tr>\n",
       "    <tr>\n",
       "      <th>secondary_cleaner.state.floatbank6_a_level</th>\n",
       "      <td>5290.0</td>\n",
       "      <td>-501.793193</td>\n",
       "      <td>39.044215</td>\n",
       "      <td>-8.097415e+02</td>\n",
       "      <td>-500.690984</td>\n",
       "      <td>-500.007126</td>\n",
       "      <td>-499.373018</td>\n",
       "      <td>-123.307487</td>\n",
       "    </tr>\n",
       "  </tbody>\n",
       "</table>\n",
       "</div>"
      ],
      "text/plain": [
       "                                             count         mean         std  \\\n",
       "primary_cleaner.input.sulfate               5286.0   174.839652   43.027080   \n",
       "primary_cleaner.input.depressant            5285.0     8.683596    3.072050   \n",
       "primary_cleaner.input.feed_size             5290.0     7.266339    0.610219   \n",
       "primary_cleaner.input.xanthate              5286.0     1.383803    0.643474   \n",
       "primary_cleaner.state.floatbank8_a_air      5290.0  1539.494325  116.797884   \n",
       "primary_cleaner.state.floatbank8_a_level    5290.0  -497.665883   19.952431   \n",
       "primary_cleaner.state.floatbank8_b_air      5290.0  1545.174232  122.224588   \n",
       "primary_cleaner.state.floatbank8_b_level    5290.0  -500.273098   32.968307   \n",
       "primary_cleaner.state.floatbank8_c_air      5290.0  1527.272362  122.538034   \n",
       "primary_cleaner.state.floatbank8_c_level    5290.0  -498.330680   21.964876   \n",
       "primary_cleaner.state.floatbank8_d_air      5290.0  1544.844335  124.773081   \n",
       "primary_cleaner.state.floatbank8_d_level    5290.0  -500.199527   31.045257   \n",
       "rougher.input.feed_ag                       5290.0     9.371940    1.926264   \n",
       "rougher.input.feed_pb                       5290.0     3.798082    0.954859   \n",
       "rougher.input.feed_rate                     5287.0   489.800620  108.036326   \n",
       "rougher.input.feed_size                     5289.0    55.951097   19.081758   \n",
       "rougher.input.feed_sol                      5269.0    37.716648    5.491415   \n",
       "rougher.input.feed_au                       5290.0     9.334682    1.619521   \n",
       "rougher.input.floatbank10_sulfate           5285.0    13.855759    3.350852   \n",
       "rougher.input.floatbank10_xanthate          5290.0     6.467745    1.065114   \n",
       "rougher.input.floatbank11_sulfate           5282.0    13.922328    3.223769   \n",
       "rougher.input.floatbank11_xanthate          5265.0     6.512103    0.886989   \n",
       "rougher.state.floatbank10_a_air             5290.0  1053.400166  121.139309   \n",
       "rougher.state.floatbank10_a_level           5290.0  -395.732530   91.085505   \n",
       "rougher.state.floatbank10_b_air             5290.0  1318.926879  156.450366   \n",
       "rougher.state.floatbank10_b_level           5290.0  -475.241428   45.649466   \n",
       "rougher.state.floatbank10_c_air             5290.0  1301.595477  171.269667   \n",
       "rougher.state.floatbank10_c_level           5290.0  -474.836671   45.859866   \n",
       "rougher.state.floatbank10_d_air             5290.0  1214.847960  185.763319   \n",
       "rougher.state.floatbank10_d_level           5290.0  -475.682272   47.844967   \n",
       "rougher.state.floatbank10_e_air             5290.0  1056.648995  131.542839   \n",
       "rougher.state.floatbank10_e_level           5290.0  -469.029688   59.325990   \n",
       "rougher.state.floatbank10_f_air             5290.0   997.949719  128.218869   \n",
       "rougher.state.floatbank10_f_level           5290.0  -470.482465   60.759318   \n",
       "secondary_cleaner.state.floatbank2_a_air    5287.0    26.312630    3.429852   \n",
       "secondary_cleaner.state.floatbank2_a_level  5290.0  -502.750897   28.756505   \n",
       "secondary_cleaner.state.floatbank2_b_air    5288.0    21.949119    4.354961   \n",
       "secondary_cleaner.state.floatbank2_b_level  5290.0  -501.987097   34.582722   \n",
       "secondary_cleaner.state.floatbank3_a_air    5281.0    25.402926    6.526457   \n",
       "secondary_cleaner.state.floatbank3_a_level  5290.0  -507.490314   47.620908   \n",
       "secondary_cleaner.state.floatbank3_b_air    5290.0    20.982108    6.736179   \n",
       "secondary_cleaner.state.floatbank3_b_level  5290.0  -506.627916   44.528673   \n",
       "secondary_cleaner.state.floatbank4_a_air    5290.0    16.320074    3.493583   \n",
       "secondary_cleaner.state.floatbank4_a_level  5290.0  -505.144570   31.427337   \n",
       "secondary_cleaner.state.floatbank4_b_air    5290.0    13.735444    3.430484   \n",
       "secondary_cleaner.state.floatbank4_b_level  5290.0  -463.349858   86.189107   \n",
       "secondary_cleaner.state.floatbank5_a_air    5290.0    12.804186    3.026591   \n",
       "secondary_cleaner.state.floatbank5_a_level  5290.0  -501.329122   17.951495   \n",
       "secondary_cleaner.state.floatbank5_b_air    5290.0     9.881145    2.868205   \n",
       "secondary_cleaner.state.floatbank5_b_level  5290.0  -495.663398   34.535007   \n",
       "secondary_cleaner.state.floatbank6_a_air    5290.0    17.304935    4.536544   \n",
       "secondary_cleaner.state.floatbank6_a_level  5290.0  -501.793193   39.044215   \n",
       "\n",
       "                                                     min          25%  \\\n",
       "primary_cleaner.input.sulfate               2.566156e+00   147.121401   \n",
       "primary_cleaner.input.depressant            3.839482e-03     6.489555   \n",
       "primary_cleaner.input.feed_size             5.650000e+00     6.890000   \n",
       "primary_cleaner.input.xanthate              4.983673e-03     0.907623   \n",
       "primary_cleaner.state.floatbank8_a_air      5.445860e-32  1498.935802   \n",
       "primary_cleaner.state.floatbank8_a_level   -7.953163e+02  -500.357298   \n",
       "primary_cleaner.state.floatbank8_b_air      6.647490e-32  1498.970993   \n",
       "primary_cleaner.state.floatbank8_b_level   -7.999970e+02  -500.703002   \n",
       "primary_cleaner.state.floatbank8_c_air      4.033736e-32  1473.229862   \n",
       "primary_cleaner.state.floatbank8_c_level   -7.999606e+02  -501.018117   \n",
       "primary_cleaner.state.floatbank8_d_air      4.039220e-32  1499.481404   \n",
       "primary_cleaner.state.floatbank8_d_level   -7.997943e+02  -500.452469   \n",
       "rougher.input.feed_ag                       5.684412e-01     8.112434   \n",
       "rougher.input.feed_pb                       2.736769e-01     3.240251   \n",
       "rougher.input.feed_rate                     2.985849e-03   407.020883   \n",
       "rougher.input.feed_size                     4.636880e-02    43.906347   \n",
       "rougher.input.feed_sol                      1.393488e+00    34.505576   \n",
       "rougher.input.feed_au                       5.686322e-01     8.207814   \n",
       "rougher.input.floatbank10_sulfate           1.147460e-03    11.995006   \n",
       "rougher.input.floatbank10_xanthate          5.682328e-04     5.998779   \n",
       "rougher.input.floatbank11_sulfate           7.673764e-05    11.997200   \n",
       "rougher.input.floatbank11_xanthate          6.985269e-03     5.999157   \n",
       "rougher.state.floatbank10_a_air            -4.206929e-02   999.205344   \n",
       "rougher.state.floatbank10_a_level          -6.579498e+02  -499.920565   \n",
       "rougher.state.floatbank10_b_air            -7.218064e-01  1200.871883   \n",
       "rougher.state.floatbank10_b_level          -6.502453e+02  -500.256114   \n",
       "rougher.state.floatbank10_c_air            -5.663551e-02  1199.651371   \n",
       "rougher.state.floatbank10_c_level          -6.475444e+02  -500.233831   \n",
       "rougher.state.floatbank10_d_air            -9.922190e-01  1093.368068   \n",
       "rougher.state.floatbank10_d_level          -6.483907e+02  -500.440610   \n",
       "rougher.state.floatbank10_e_air            -1.982295e+00   999.361403   \n",
       "rougher.state.floatbank10_e_level          -6.492675e+02  -500.190639   \n",
       "rougher.state.floatbank10_f_air            -2.593390e+00   901.024994   \n",
       "rougher.state.floatbank10_f_level          -6.499493e+02  -500.624783   \n",
       "secondary_cleaner.state.floatbank2_a_air    2.053286e-01    24.942328   \n",
       "secondary_cleaner.state.floatbank2_a_level -7.840911e+02  -500.206517   \n",
       "secondary_cleaner.state.floatbank2_b_air    6.063908e-03    20.002315   \n",
       "secondary_cleaner.state.floatbank2_b_level -7.977840e+02  -500.218030   \n",
       "secondary_cleaner.state.floatbank3_a_air    0.000000e+00    22.982288   \n",
       "secondary_cleaner.state.floatbank3_a_level -7.997558e+02  -500.297951   \n",
       "secondary_cleaner.state.floatbank3_b_air    1.521587e-17    17.967855   \n",
       "secondary_cleaner.state.floatbank3_b_level -8.093330e+02  -500.145128   \n",
       "secondary_cleaner.state.floatbank4_a_air    1.079872e-16    14.036177   \n",
       "secondary_cleaner.state.floatbank4_a_level -7.997985e+02  -500.868258   \n",
       "secondary_cleaner.state.floatbank4_b_air    2.489718e-17    12.028625   \n",
       "secondary_cleaner.state.floatbank4_b_level -8.008369e+02  -500.323028   \n",
       "secondary_cleaner.state.floatbank5_a_air    6.922662e-02    10.914838   \n",
       "secondary_cleaner.state.floatbank5_a_level -7.973240e+02  -500.726841   \n",
       "secondary_cleaner.state.floatbank5_b_air    5.280828e-01     8.036719   \n",
       "secondary_cleaner.state.floatbank5_b_level -8.002203e+02  -500.194668   \n",
       "secondary_cleaner.state.floatbank6_a_air   -7.942623e-02    13.997317   \n",
       "secondary_cleaner.state.floatbank6_a_level -8.097415e+02  -500.690984   \n",
       "\n",
       "                                                    50%          75%  \\\n",
       "primary_cleaner.input.sulfate                177.828489   208.125438   \n",
       "primary_cleaner.input.depressant               8.052207    10.027764   \n",
       "primary_cleaner.input.feed_size                7.250000     7.600000   \n",
       "primary_cleaner.input.xanthate                 1.197610     1.797819   \n",
       "primary_cleaner.state.floatbank8_a_air      1585.129123  1602.076529   \n",
       "primary_cleaner.state.floatbank8_a_level    -499.969164  -499.568951   \n",
       "primary_cleaner.state.floatbank8_b_air      1595.621798  1602.323545   \n",
       "primary_cleaner.state.floatbank8_b_level    -500.028514  -499.293257   \n",
       "primary_cleaner.state.floatbank8_c_air      1549.594682  1601.143775   \n",
       "primary_cleaner.state.floatbank8_c_level    -500.017711  -498.994130   \n",
       "primary_cleaner.state.floatbank8_d_air      1594.579112  1600.964772   \n",
       "primary_cleaner.state.floatbank8_d_level    -500.023307  -499.607040   \n",
       "rougher.input.feed_ag                          9.762654    10.652297   \n",
       "rougher.input.feed_pb                          3.740716     4.282634   \n",
       "rougher.input.feed_rate                      499.051440   575.307213   \n",
       "rougher.input.feed_size                       50.841029    62.431047   \n",
       "rougher.input.feed_sol                        37.980276    41.635385   \n",
       "rougher.input.feed_au                          9.593766    10.463538   \n",
       "rougher.input.floatbank10_sulfate             14.003126    16.974284   \n",
       "rougher.input.floatbank10_xanthate             6.498181     7.085457   \n",
       "rougher.input.floatbank11_sulfate             14.004371    16.959671   \n",
       "rougher.input.floatbank11_xanthate             6.498744     7.091808   \n",
       "rougher.state.floatbank10_a_air             1000.472055  1006.254299   \n",
       "rougher.state.floatbank10_a_level           -399.693363  -300.060056   \n",
       "rougher.state.floatbank10_b_air             1302.254995  1433.955649   \n",
       "rougher.state.floatbank10_b_level           -499.837803  -450.749619   \n",
       "rougher.state.floatbank10_c_air             1300.202274  1406.594956   \n",
       "rougher.state.floatbank10_c_level           -499.777222  -451.153188   \n",
       "rougher.state.floatbank10_d_air             1207.014092  1391.497269   \n",
       "rougher.state.floatbank10_d_level           -499.691917  -452.483463   \n",
       "rougher.state.floatbank10_e_air             1047.495449  1101.365315   \n",
       "rougher.state.floatbank10_e_level           -499.765796  -450.957513   \n",
       "rougher.state.floatbank10_f_air              999.441879  1050.433005   \n",
       "rougher.state.floatbank10_f_level           -499.680986  -451.986460   \n",
       "secondary_cleaner.state.floatbank2_a_air      26.910569    28.091885   \n",
       "secondary_cleaner.state.floatbank2_a_level  -500.003902  -499.791639   \n",
       "secondary_cleaner.state.floatbank2_b_air      22.942603    24.985013   \n",
       "secondary_cleaner.state.floatbank2_b_level  -500.019058  -499.831532   \n",
       "secondary_cleaner.state.floatbank3_a_air      25.010105    30.002063   \n",
       "secondary_cleaner.state.floatbank3_a_level  -500.034578  -499.780163   \n",
       "secondary_cleaner.state.floatbank3_b_air      21.003164    26.976977   \n",
       "secondary_cleaner.state.floatbank3_b_level  -500.013819  -499.890608   \n",
       "secondary_cleaner.state.floatbank4_a_air      17.008468    18.038619   \n",
       "secondary_cleaner.state.floatbank4_a_level  -500.115727  -499.404224   \n",
       "secondary_cleaner.state.floatbank4_b_air      14.964860    15.962125   \n",
       "secondary_cleaner.state.floatbank4_b_level  -499.576513  -400.933805   \n",
       "secondary_cleaner.state.floatbank5_a_air      12.954182    15.097528   \n",
       "secondary_cleaner.state.floatbank5_a_level  -499.990332  -499.283191   \n",
       "secondary_cleaner.state.floatbank5_b_air      10.004301    11.997467   \n",
       "secondary_cleaner.state.floatbank5_b_level  -499.990535  -499.719913   \n",
       "secondary_cleaner.state.floatbank6_a_air      16.014935    21.020013   \n",
       "secondary_cleaner.state.floatbank6_a_level  -500.007126  -499.373018   \n",
       "\n",
       "                                                    max  \n",
       "primary_cleaner.input.sulfate                265.983123  \n",
       "primary_cleaner.input.depressant              40.000000  \n",
       "primary_cleaner.input.feed_size               15.500000  \n",
       "primary_cleaner.input.xanthate                 4.102454  \n",
       "primary_cleaner.state.floatbank8_a_air      2103.103580  \n",
       "primary_cleaner.state.floatbank8_a_level     -57.195404  \n",
       "primary_cleaner.state.floatbank8_b_air      1813.083671  \n",
       "primary_cleaner.state.floatbank8_b_level    -142.527229  \n",
       "primary_cleaner.state.floatbank8_c_air      1715.053773  \n",
       "primary_cleaner.state.floatbank8_c_level    -150.937035  \n",
       "primary_cleaner.state.floatbank8_d_air      1913.256561  \n",
       "primary_cleaner.state.floatbank8_d_level    -158.950573  \n",
       "rougher.input.feed_ag                         14.406130  \n",
       "rougher.input.feed_pb                          6.905684  \n",
       "rougher.input.feed_rate                      707.364020  \n",
       "rougher.input.feed_size                      392.494040  \n",
       "rougher.input.feed_sol                        53.477742  \n",
       "rougher.input.feed_au                         13.731330  \n",
       "rougher.input.floatbank10_sulfate             24.280636  \n",
       "rougher.input.floatbank10_xanthate             8.910468  \n",
       "rougher.input.floatbank11_sulfate             24.280966  \n",
       "rougher.input.floatbank11_xanthate             8.621338  \n",
       "rougher.state.floatbank10_a_air             1423.274687  \n",
       "rougher.state.floatbank10_a_level           -273.776101  \n",
       "rougher.state.floatbank10_b_air             1706.640419  \n",
       "rougher.state.floatbank10_b_level           -298.200051  \n",
       "rougher.state.floatbank10_c_air             1731.017788  \n",
       "rougher.state.floatbank10_c_level           -298.036852  \n",
       "rougher.state.floatbank10_d_air             1775.218584  \n",
       "rougher.state.floatbank10_d_level            -76.397327  \n",
       "rougher.state.floatbank10_e_air             1467.184843  \n",
       "rougher.state.floatbank10_e_level           -139.753025  \n",
       "rougher.state.floatbank10_f_air             1476.588107  \n",
       "rougher.state.floatbank10_f_level           -249.801043  \n",
       "secondary_cleaner.state.floatbank2_a_air      32.138727  \n",
       "secondary_cleaner.state.floatbank2_a_level  -300.343670  \n",
       "secondary_cleaner.state.floatbank2_b_air      28.165864  \n",
       "secondary_cleaner.state.floatbank2_b_level  -211.999273  \n",
       "secondary_cleaner.state.floatbank3_a_air      40.041997  \n",
       "secondary_cleaner.state.floatbank3_a_level  -313.866425  \n",
       "secondary_cleaner.state.floatbank3_b_air      32.039365  \n",
       "secondary_cleaner.state.floatbank3_b_level  -202.277366  \n",
       "secondary_cleaner.state.floatbank4_a_air      30.051797  \n",
       "secondary_cleaner.state.floatbank4_a_level  -401.565212  \n",
       "secondary_cleaner.state.floatbank4_b_air      31.269706  \n",
       "secondary_cleaner.state.floatbank4_b_level    -6.506986  \n",
       "secondary_cleaner.state.floatbank5_a_air      25.258848  \n",
       "secondary_cleaner.state.floatbank5_a_level  -244.483566  \n",
       "secondary_cleaner.state.floatbank5_b_air      14.086866  \n",
       "secondary_cleaner.state.floatbank5_b_level  -137.740004  \n",
       "secondary_cleaner.state.floatbank6_a_air      26.705889  \n",
       "secondary_cleaner.state.floatbank6_a_level  -123.307487  "
      ]
     },
     "execution_count": 9,
     "metadata": {},
     "output_type": "execute_result"
    }
   ],
   "source": [
    "test.describe().T"
   ]
  },
  {
   "cell_type": "code",
   "execution_count": 10,
   "metadata": {},
   "outputs": [
    {
     "data": {
      "text/html": [
       "<div>\n",
       "<style scoped>\n",
       "    .dataframe tbody tr th:only-of-type {\n",
       "        vertical-align: middle;\n",
       "    }\n",
       "\n",
       "    .dataframe tbody tr th {\n",
       "        vertical-align: top;\n",
       "    }\n",
       "\n",
       "    .dataframe thead th {\n",
       "        text-align: right;\n",
       "    }\n",
       "</style>\n",
       "<table border=\"1\" class=\"dataframe\">\n",
       "  <thead>\n",
       "    <tr style=\"text-align: right;\">\n",
       "      <th></th>\n",
       "      <th>final.output.concentrate_ag</th>\n",
       "      <th>final.output.concentrate_pb</th>\n",
       "      <th>final.output.concentrate_sol</th>\n",
       "      <th>final.output.concentrate_au</th>\n",
       "      <th>final.output.recovery</th>\n",
       "      <th>final.output.tail_ag</th>\n",
       "      <th>final.output.tail_pb</th>\n",
       "      <th>final.output.tail_sol</th>\n",
       "      <th>final.output.tail_au</th>\n",
       "      <th>primary_cleaner.input.sulfate</th>\n",
       "      <th>...</th>\n",
       "      <th>secondary_cleaner.state.floatbank4_a_air</th>\n",
       "      <th>secondary_cleaner.state.floatbank4_a_level</th>\n",
       "      <th>secondary_cleaner.state.floatbank4_b_air</th>\n",
       "      <th>secondary_cleaner.state.floatbank4_b_level</th>\n",
       "      <th>secondary_cleaner.state.floatbank5_a_air</th>\n",
       "      <th>secondary_cleaner.state.floatbank5_a_level</th>\n",
       "      <th>secondary_cleaner.state.floatbank5_b_air</th>\n",
       "      <th>secondary_cleaner.state.floatbank5_b_level</th>\n",
       "      <th>secondary_cleaner.state.floatbank6_a_air</th>\n",
       "      <th>secondary_cleaner.state.floatbank6_a_level</th>\n",
       "    </tr>\n",
       "    <tr>\n",
       "      <th>date</th>\n",
       "      <th></th>\n",
       "      <th></th>\n",
       "      <th></th>\n",
       "      <th></th>\n",
       "      <th></th>\n",
       "      <th></th>\n",
       "      <th></th>\n",
       "      <th></th>\n",
       "      <th></th>\n",
       "      <th></th>\n",
       "      <th></th>\n",
       "      <th></th>\n",
       "      <th></th>\n",
       "      <th></th>\n",
       "      <th></th>\n",
       "      <th></th>\n",
       "      <th></th>\n",
       "      <th></th>\n",
       "      <th></th>\n",
       "      <th></th>\n",
       "      <th></th>\n",
       "    </tr>\n",
       "  </thead>\n",
       "  <tbody>\n",
       "    <tr>\n",
       "      <th>2016-01-15 00:00:00</th>\n",
       "      <td>6.055403</td>\n",
       "      <td>9.889648</td>\n",
       "      <td>5.507324</td>\n",
       "      <td>42.192020</td>\n",
       "      <td>70.541216</td>\n",
       "      <td>10.411962</td>\n",
       "      <td>0.895447</td>\n",
       "      <td>16.904297</td>\n",
       "      <td>2.143149</td>\n",
       "      <td>127.092003</td>\n",
       "      <td>...</td>\n",
       "      <td>14.016835</td>\n",
       "      <td>-502.488007</td>\n",
       "      <td>12.099931</td>\n",
       "      <td>-504.715942</td>\n",
       "      <td>9.925633</td>\n",
       "      <td>-498.310211</td>\n",
       "      <td>8.079666</td>\n",
       "      <td>-500.470978</td>\n",
       "      <td>14.151341</td>\n",
       "      <td>-605.841980</td>\n",
       "    </tr>\n",
       "    <tr>\n",
       "      <th>2016-01-15 01:00:00</th>\n",
       "      <td>6.029369</td>\n",
       "      <td>9.968944</td>\n",
       "      <td>5.257781</td>\n",
       "      <td>42.701629</td>\n",
       "      <td>69.266198</td>\n",
       "      <td>10.462676</td>\n",
       "      <td>0.927452</td>\n",
       "      <td>16.634514</td>\n",
       "      <td>2.224930</td>\n",
       "      <td>125.629232</td>\n",
       "      <td>...</td>\n",
       "      <td>13.992281</td>\n",
       "      <td>-505.503262</td>\n",
       "      <td>11.950531</td>\n",
       "      <td>-501.331529</td>\n",
       "      <td>10.039245</td>\n",
       "      <td>-500.169983</td>\n",
       "      <td>7.984757</td>\n",
       "      <td>-500.582168</td>\n",
       "      <td>13.998353</td>\n",
       "      <td>-599.787184</td>\n",
       "    </tr>\n",
       "    <tr>\n",
       "      <th>2016-01-15 02:00:00</th>\n",
       "      <td>6.055926</td>\n",
       "      <td>10.213995</td>\n",
       "      <td>5.383759</td>\n",
       "      <td>42.657501</td>\n",
       "      <td>68.116445</td>\n",
       "      <td>10.507046</td>\n",
       "      <td>0.953716</td>\n",
       "      <td>16.208849</td>\n",
       "      <td>2.257889</td>\n",
       "      <td>123.819808</td>\n",
       "      <td>...</td>\n",
       "      <td>14.015015</td>\n",
       "      <td>-502.520901</td>\n",
       "      <td>11.912783</td>\n",
       "      <td>-501.133383</td>\n",
       "      <td>10.070913</td>\n",
       "      <td>-500.129135</td>\n",
       "      <td>8.013877</td>\n",
       "      <td>-500.517572</td>\n",
       "      <td>14.028663</td>\n",
       "      <td>-601.427363</td>\n",
       "    </tr>\n",
       "  </tbody>\n",
       "</table>\n",
       "<p>3 rows × 86 columns</p>\n",
       "</div>"
      ],
      "text/plain": [
       "                     final.output.concentrate_ag  final.output.concentrate_pb  \\\n",
       "date                                                                            \n",
       "2016-01-15 00:00:00                     6.055403                     9.889648   \n",
       "2016-01-15 01:00:00                     6.029369                     9.968944   \n",
       "2016-01-15 02:00:00                     6.055926                    10.213995   \n",
       "\n",
       "                     final.output.concentrate_sol  \\\n",
       "date                                                \n",
       "2016-01-15 00:00:00                      5.507324   \n",
       "2016-01-15 01:00:00                      5.257781   \n",
       "2016-01-15 02:00:00                      5.383759   \n",
       "\n",
       "                     final.output.concentrate_au  final.output.recovery  \\\n",
       "date                                                                      \n",
       "2016-01-15 00:00:00                    42.192020              70.541216   \n",
       "2016-01-15 01:00:00                    42.701629              69.266198   \n",
       "2016-01-15 02:00:00                    42.657501              68.116445   \n",
       "\n",
       "                     final.output.tail_ag  final.output.tail_pb  \\\n",
       "date                                                              \n",
       "2016-01-15 00:00:00             10.411962              0.895447   \n",
       "2016-01-15 01:00:00             10.462676              0.927452   \n",
       "2016-01-15 02:00:00             10.507046              0.953716   \n",
       "\n",
       "                     final.output.tail_sol  final.output.tail_au  \\\n",
       "date                                                               \n",
       "2016-01-15 00:00:00              16.904297              2.143149   \n",
       "2016-01-15 01:00:00              16.634514              2.224930   \n",
       "2016-01-15 02:00:00              16.208849              2.257889   \n",
       "\n",
       "                     primary_cleaner.input.sulfate  ...  \\\n",
       "date                                                ...   \n",
       "2016-01-15 00:00:00                     127.092003  ...   \n",
       "2016-01-15 01:00:00                     125.629232  ...   \n",
       "2016-01-15 02:00:00                     123.819808  ...   \n",
       "\n",
       "                     secondary_cleaner.state.floatbank4_a_air  \\\n",
       "date                                                            \n",
       "2016-01-15 00:00:00                                 14.016835   \n",
       "2016-01-15 01:00:00                                 13.992281   \n",
       "2016-01-15 02:00:00                                 14.015015   \n",
       "\n",
       "                     secondary_cleaner.state.floatbank4_a_level  \\\n",
       "date                                                              \n",
       "2016-01-15 00:00:00                                 -502.488007   \n",
       "2016-01-15 01:00:00                                 -505.503262   \n",
       "2016-01-15 02:00:00                                 -502.520901   \n",
       "\n",
       "                     secondary_cleaner.state.floatbank4_b_air  \\\n",
       "date                                                            \n",
       "2016-01-15 00:00:00                                 12.099931   \n",
       "2016-01-15 01:00:00                                 11.950531   \n",
       "2016-01-15 02:00:00                                 11.912783   \n",
       "\n",
       "                     secondary_cleaner.state.floatbank4_b_level  \\\n",
       "date                                                              \n",
       "2016-01-15 00:00:00                                 -504.715942   \n",
       "2016-01-15 01:00:00                                 -501.331529   \n",
       "2016-01-15 02:00:00                                 -501.133383   \n",
       "\n",
       "                     secondary_cleaner.state.floatbank5_a_air  \\\n",
       "date                                                            \n",
       "2016-01-15 00:00:00                                  9.925633   \n",
       "2016-01-15 01:00:00                                 10.039245   \n",
       "2016-01-15 02:00:00                                 10.070913   \n",
       "\n",
       "                     secondary_cleaner.state.floatbank5_a_level  \\\n",
       "date                                                              \n",
       "2016-01-15 00:00:00                                 -498.310211   \n",
       "2016-01-15 01:00:00                                 -500.169983   \n",
       "2016-01-15 02:00:00                                 -500.129135   \n",
       "\n",
       "                     secondary_cleaner.state.floatbank5_b_air  \\\n",
       "date                                                            \n",
       "2016-01-15 00:00:00                                  8.079666   \n",
       "2016-01-15 01:00:00                                  7.984757   \n",
       "2016-01-15 02:00:00                                  8.013877   \n",
       "\n",
       "                     secondary_cleaner.state.floatbank5_b_level  \\\n",
       "date                                                              \n",
       "2016-01-15 00:00:00                                 -500.470978   \n",
       "2016-01-15 01:00:00                                 -500.582168   \n",
       "2016-01-15 02:00:00                                 -500.517572   \n",
       "\n",
       "                     secondary_cleaner.state.floatbank6_a_air  \\\n",
       "date                                                            \n",
       "2016-01-15 00:00:00                                 14.151341   \n",
       "2016-01-15 01:00:00                                 13.998353   \n",
       "2016-01-15 02:00:00                                 14.028663   \n",
       "\n",
       "                     secondary_cleaner.state.floatbank6_a_level  \n",
       "date                                                             \n",
       "2016-01-15 00:00:00                                 -605.841980  \n",
       "2016-01-15 01:00:00                                 -599.787184  \n",
       "2016-01-15 02:00:00                                 -601.427363  \n",
       "\n",
       "[3 rows x 86 columns]"
      ]
     },
     "execution_count": 10,
     "metadata": {},
     "output_type": "execute_result"
    }
   ],
   "source": [
    "df.head(3)"
   ]
  },
  {
   "cell_type": "code",
   "execution_count": 11,
   "metadata": {},
   "outputs": [
    {
     "data": {
      "text/html": [
       "<div>\n",
       "<style scoped>\n",
       "    .dataframe tbody tr th:only-of-type {\n",
       "        vertical-align: middle;\n",
       "    }\n",
       "\n",
       "    .dataframe tbody tr th {\n",
       "        vertical-align: top;\n",
       "    }\n",
       "\n",
       "    .dataframe thead th {\n",
       "        text-align: right;\n",
       "    }\n",
       "</style>\n",
       "<table border=\"1\" class=\"dataframe\">\n",
       "  <thead>\n",
       "    <tr style=\"text-align: right;\">\n",
       "      <th></th>\n",
       "      <th>final.output.concentrate_ag</th>\n",
       "      <th>final.output.concentrate_pb</th>\n",
       "      <th>final.output.concentrate_sol</th>\n",
       "      <th>final.output.concentrate_au</th>\n",
       "      <th>final.output.recovery</th>\n",
       "      <th>final.output.tail_ag</th>\n",
       "      <th>final.output.tail_pb</th>\n",
       "      <th>final.output.tail_sol</th>\n",
       "      <th>final.output.tail_au</th>\n",
       "      <th>primary_cleaner.input.sulfate</th>\n",
       "      <th>...</th>\n",
       "      <th>secondary_cleaner.state.floatbank4_a_air</th>\n",
       "      <th>secondary_cleaner.state.floatbank4_a_level</th>\n",
       "      <th>secondary_cleaner.state.floatbank4_b_air</th>\n",
       "      <th>secondary_cleaner.state.floatbank4_b_level</th>\n",
       "      <th>secondary_cleaner.state.floatbank5_a_air</th>\n",
       "      <th>secondary_cleaner.state.floatbank5_a_level</th>\n",
       "      <th>secondary_cleaner.state.floatbank5_b_air</th>\n",
       "      <th>secondary_cleaner.state.floatbank5_b_level</th>\n",
       "      <th>secondary_cleaner.state.floatbank6_a_air</th>\n",
       "      <th>secondary_cleaner.state.floatbank6_a_level</th>\n",
       "    </tr>\n",
       "    <tr>\n",
       "      <th>date</th>\n",
       "      <th></th>\n",
       "      <th></th>\n",
       "      <th></th>\n",
       "      <th></th>\n",
       "      <th></th>\n",
       "      <th></th>\n",
       "      <th></th>\n",
       "      <th></th>\n",
       "      <th></th>\n",
       "      <th></th>\n",
       "      <th></th>\n",
       "      <th></th>\n",
       "      <th></th>\n",
       "      <th></th>\n",
       "      <th></th>\n",
       "      <th></th>\n",
       "      <th></th>\n",
       "      <th></th>\n",
       "      <th></th>\n",
       "      <th></th>\n",
       "      <th></th>\n",
       "    </tr>\n",
       "  </thead>\n",
       "  <tbody>\n",
       "    <tr>\n",
       "      <th>2016-01-15 00:00:00</th>\n",
       "      <td>6.055403</td>\n",
       "      <td>9.889648</td>\n",
       "      <td>5.507324</td>\n",
       "      <td>42.192020</td>\n",
       "      <td>70.541216</td>\n",
       "      <td>10.411962</td>\n",
       "      <td>0.895447</td>\n",
       "      <td>16.904297</td>\n",
       "      <td>2.143149</td>\n",
       "      <td>127.092003</td>\n",
       "      <td>...</td>\n",
       "      <td>14.016835</td>\n",
       "      <td>-502.488007</td>\n",
       "      <td>12.099931</td>\n",
       "      <td>-504.715942</td>\n",
       "      <td>9.925633</td>\n",
       "      <td>-498.310211</td>\n",
       "      <td>8.079666</td>\n",
       "      <td>-500.470978</td>\n",
       "      <td>14.151341</td>\n",
       "      <td>-605.841980</td>\n",
       "    </tr>\n",
       "    <tr>\n",
       "      <th>2016-01-15 01:00:00</th>\n",
       "      <td>6.029369</td>\n",
       "      <td>9.968944</td>\n",
       "      <td>5.257781</td>\n",
       "      <td>42.701629</td>\n",
       "      <td>69.266198</td>\n",
       "      <td>10.462676</td>\n",
       "      <td>0.927452</td>\n",
       "      <td>16.634514</td>\n",
       "      <td>2.224930</td>\n",
       "      <td>125.629232</td>\n",
       "      <td>...</td>\n",
       "      <td>13.992281</td>\n",
       "      <td>-505.503262</td>\n",
       "      <td>11.950531</td>\n",
       "      <td>-501.331529</td>\n",
       "      <td>10.039245</td>\n",
       "      <td>-500.169983</td>\n",
       "      <td>7.984757</td>\n",
       "      <td>-500.582168</td>\n",
       "      <td>13.998353</td>\n",
       "      <td>-599.787184</td>\n",
       "    </tr>\n",
       "    <tr>\n",
       "      <th>2016-01-15 02:00:00</th>\n",
       "      <td>6.055926</td>\n",
       "      <td>10.213995</td>\n",
       "      <td>5.383759</td>\n",
       "      <td>42.657501</td>\n",
       "      <td>68.116445</td>\n",
       "      <td>10.507046</td>\n",
       "      <td>0.953716</td>\n",
       "      <td>16.208849</td>\n",
       "      <td>2.257889</td>\n",
       "      <td>123.819808</td>\n",
       "      <td>...</td>\n",
       "      <td>14.015015</td>\n",
       "      <td>-502.520901</td>\n",
       "      <td>11.912783</td>\n",
       "      <td>-501.133383</td>\n",
       "      <td>10.070913</td>\n",
       "      <td>-500.129135</td>\n",
       "      <td>8.013877</td>\n",
       "      <td>-500.517572</td>\n",
       "      <td>14.028663</td>\n",
       "      <td>-601.427363</td>\n",
       "    </tr>\n",
       "  </tbody>\n",
       "</table>\n",
       "<p>3 rows × 86 columns</p>\n",
       "</div>"
      ],
      "text/plain": [
       "                     final.output.concentrate_ag  final.output.concentrate_pb  \\\n",
       "date                                                                            \n",
       "2016-01-15 00:00:00                     6.055403                     9.889648   \n",
       "2016-01-15 01:00:00                     6.029369                     9.968944   \n",
       "2016-01-15 02:00:00                     6.055926                    10.213995   \n",
       "\n",
       "                     final.output.concentrate_sol  \\\n",
       "date                                                \n",
       "2016-01-15 00:00:00                      5.507324   \n",
       "2016-01-15 01:00:00                      5.257781   \n",
       "2016-01-15 02:00:00                      5.383759   \n",
       "\n",
       "                     final.output.concentrate_au  final.output.recovery  \\\n",
       "date                                                                      \n",
       "2016-01-15 00:00:00                    42.192020              70.541216   \n",
       "2016-01-15 01:00:00                    42.701629              69.266198   \n",
       "2016-01-15 02:00:00                    42.657501              68.116445   \n",
       "\n",
       "                     final.output.tail_ag  final.output.tail_pb  \\\n",
       "date                                                              \n",
       "2016-01-15 00:00:00             10.411962              0.895447   \n",
       "2016-01-15 01:00:00             10.462676              0.927452   \n",
       "2016-01-15 02:00:00             10.507046              0.953716   \n",
       "\n",
       "                     final.output.tail_sol  final.output.tail_au  \\\n",
       "date                                                               \n",
       "2016-01-15 00:00:00              16.904297              2.143149   \n",
       "2016-01-15 01:00:00              16.634514              2.224930   \n",
       "2016-01-15 02:00:00              16.208849              2.257889   \n",
       "\n",
       "                     primary_cleaner.input.sulfate  ...  \\\n",
       "date                                                ...   \n",
       "2016-01-15 00:00:00                     127.092003  ...   \n",
       "2016-01-15 01:00:00                     125.629232  ...   \n",
       "2016-01-15 02:00:00                     123.819808  ...   \n",
       "\n",
       "                     secondary_cleaner.state.floatbank4_a_air  \\\n",
       "date                                                            \n",
       "2016-01-15 00:00:00                                 14.016835   \n",
       "2016-01-15 01:00:00                                 13.992281   \n",
       "2016-01-15 02:00:00                                 14.015015   \n",
       "\n",
       "                     secondary_cleaner.state.floatbank4_a_level  \\\n",
       "date                                                              \n",
       "2016-01-15 00:00:00                                 -502.488007   \n",
       "2016-01-15 01:00:00                                 -505.503262   \n",
       "2016-01-15 02:00:00                                 -502.520901   \n",
       "\n",
       "                     secondary_cleaner.state.floatbank4_b_air  \\\n",
       "date                                                            \n",
       "2016-01-15 00:00:00                                 12.099931   \n",
       "2016-01-15 01:00:00                                 11.950531   \n",
       "2016-01-15 02:00:00                                 11.912783   \n",
       "\n",
       "                     secondary_cleaner.state.floatbank4_b_level  \\\n",
       "date                                                              \n",
       "2016-01-15 00:00:00                                 -504.715942   \n",
       "2016-01-15 01:00:00                                 -501.331529   \n",
       "2016-01-15 02:00:00                                 -501.133383   \n",
       "\n",
       "                     secondary_cleaner.state.floatbank5_a_air  \\\n",
       "date                                                            \n",
       "2016-01-15 00:00:00                                  9.925633   \n",
       "2016-01-15 01:00:00                                 10.039245   \n",
       "2016-01-15 02:00:00                                 10.070913   \n",
       "\n",
       "                     secondary_cleaner.state.floatbank5_a_level  \\\n",
       "date                                                              \n",
       "2016-01-15 00:00:00                                 -498.310211   \n",
       "2016-01-15 01:00:00                                 -500.169983   \n",
       "2016-01-15 02:00:00                                 -500.129135   \n",
       "\n",
       "                     secondary_cleaner.state.floatbank5_b_air  \\\n",
       "date                                                            \n",
       "2016-01-15 00:00:00                                  8.079666   \n",
       "2016-01-15 01:00:00                                  7.984757   \n",
       "2016-01-15 02:00:00                                  8.013877   \n",
       "\n",
       "                     secondary_cleaner.state.floatbank5_b_level  \\\n",
       "date                                                              \n",
       "2016-01-15 00:00:00                                 -500.470978   \n",
       "2016-01-15 01:00:00                                 -500.582168   \n",
       "2016-01-15 02:00:00                                 -500.517572   \n",
       "\n",
       "                     secondary_cleaner.state.floatbank6_a_air  \\\n",
       "date                                                            \n",
       "2016-01-15 00:00:00                                 14.151341   \n",
       "2016-01-15 01:00:00                                 13.998353   \n",
       "2016-01-15 02:00:00                                 14.028663   \n",
       "\n",
       "                     secondary_cleaner.state.floatbank6_a_level  \n",
       "date                                                             \n",
       "2016-01-15 00:00:00                                 -605.841980  \n",
       "2016-01-15 01:00:00                                 -599.787184  \n",
       "2016-01-15 02:00:00                                 -601.427363  \n",
       "\n",
       "[3 rows x 86 columns]"
      ]
     },
     "execution_count": 11,
     "metadata": {},
     "output_type": "execute_result"
    }
   ],
   "source": [
    "train.head(3)"
   ]
  },
  {
   "cell_type": "code",
   "execution_count": 12,
   "metadata": {},
   "outputs": [
    {
     "data": {
      "text/html": [
       "<div>\n",
       "<style scoped>\n",
       "    .dataframe tbody tr th:only-of-type {\n",
       "        vertical-align: middle;\n",
       "    }\n",
       "\n",
       "    .dataframe tbody tr th {\n",
       "        vertical-align: top;\n",
       "    }\n",
       "\n",
       "    .dataframe thead th {\n",
       "        text-align: right;\n",
       "    }\n",
       "</style>\n",
       "<table border=\"1\" class=\"dataframe\">\n",
       "  <thead>\n",
       "    <tr style=\"text-align: right;\">\n",
       "      <th></th>\n",
       "      <th>primary_cleaner.input.sulfate</th>\n",
       "      <th>primary_cleaner.input.depressant</th>\n",
       "      <th>primary_cleaner.input.feed_size</th>\n",
       "      <th>primary_cleaner.input.xanthate</th>\n",
       "      <th>primary_cleaner.state.floatbank8_a_air</th>\n",
       "      <th>primary_cleaner.state.floatbank8_a_level</th>\n",
       "      <th>primary_cleaner.state.floatbank8_b_air</th>\n",
       "      <th>primary_cleaner.state.floatbank8_b_level</th>\n",
       "      <th>primary_cleaner.state.floatbank8_c_air</th>\n",
       "      <th>primary_cleaner.state.floatbank8_c_level</th>\n",
       "      <th>...</th>\n",
       "      <th>secondary_cleaner.state.floatbank4_a_air</th>\n",
       "      <th>secondary_cleaner.state.floatbank4_a_level</th>\n",
       "      <th>secondary_cleaner.state.floatbank4_b_air</th>\n",
       "      <th>secondary_cleaner.state.floatbank4_b_level</th>\n",
       "      <th>secondary_cleaner.state.floatbank5_a_air</th>\n",
       "      <th>secondary_cleaner.state.floatbank5_a_level</th>\n",
       "      <th>secondary_cleaner.state.floatbank5_b_air</th>\n",
       "      <th>secondary_cleaner.state.floatbank5_b_level</th>\n",
       "      <th>secondary_cleaner.state.floatbank6_a_air</th>\n",
       "      <th>secondary_cleaner.state.floatbank6_a_level</th>\n",
       "    </tr>\n",
       "    <tr>\n",
       "      <th>date</th>\n",
       "      <th></th>\n",
       "      <th></th>\n",
       "      <th></th>\n",
       "      <th></th>\n",
       "      <th></th>\n",
       "      <th></th>\n",
       "      <th></th>\n",
       "      <th></th>\n",
       "      <th></th>\n",
       "      <th></th>\n",
       "      <th></th>\n",
       "      <th></th>\n",
       "      <th></th>\n",
       "      <th></th>\n",
       "      <th></th>\n",
       "      <th></th>\n",
       "      <th></th>\n",
       "      <th></th>\n",
       "      <th></th>\n",
       "      <th></th>\n",
       "      <th></th>\n",
       "    </tr>\n",
       "  </thead>\n",
       "  <tbody>\n",
       "    <tr>\n",
       "      <th>2016-09-01 00:59:59</th>\n",
       "      <td>210.800909</td>\n",
       "      <td>14.993118</td>\n",
       "      <td>8.080000</td>\n",
       "      <td>1.005021</td>\n",
       "      <td>1398.981301</td>\n",
       "      <td>-500.225577</td>\n",
       "      <td>1399.144926</td>\n",
       "      <td>-499.919735</td>\n",
       "      <td>1400.102998</td>\n",
       "      <td>-500.704369</td>\n",
       "      <td>...</td>\n",
       "      <td>12.023554</td>\n",
       "      <td>-497.795834</td>\n",
       "      <td>8.016656</td>\n",
       "      <td>-501.289139</td>\n",
       "      <td>7.946562</td>\n",
       "      <td>-432.317850</td>\n",
       "      <td>4.872511</td>\n",
       "      <td>-500.037437</td>\n",
       "      <td>26.705889</td>\n",
       "      <td>-499.709414</td>\n",
       "    </tr>\n",
       "    <tr>\n",
       "      <th>2016-09-01 01:59:59</th>\n",
       "      <td>215.392455</td>\n",
       "      <td>14.987471</td>\n",
       "      <td>8.080000</td>\n",
       "      <td>0.990469</td>\n",
       "      <td>1398.777912</td>\n",
       "      <td>-500.057435</td>\n",
       "      <td>1398.055362</td>\n",
       "      <td>-499.778182</td>\n",
       "      <td>1396.151033</td>\n",
       "      <td>-499.240168</td>\n",
       "      <td>...</td>\n",
       "      <td>12.058140</td>\n",
       "      <td>-498.695773</td>\n",
       "      <td>8.130979</td>\n",
       "      <td>-499.634209</td>\n",
       "      <td>7.958270</td>\n",
       "      <td>-525.839648</td>\n",
       "      <td>4.878850</td>\n",
       "      <td>-500.162375</td>\n",
       "      <td>25.019940</td>\n",
       "      <td>-499.819438</td>\n",
       "    </tr>\n",
       "    <tr>\n",
       "      <th>2016-09-01 02:59:59</th>\n",
       "      <td>215.259946</td>\n",
       "      <td>12.884934</td>\n",
       "      <td>7.786667</td>\n",
       "      <td>0.996043</td>\n",
       "      <td>1398.493666</td>\n",
       "      <td>-500.868360</td>\n",
       "      <td>1398.860436</td>\n",
       "      <td>-499.764529</td>\n",
       "      <td>1398.075709</td>\n",
       "      <td>-502.151509</td>\n",
       "      <td>...</td>\n",
       "      <td>11.962366</td>\n",
       "      <td>-498.767484</td>\n",
       "      <td>8.096893</td>\n",
       "      <td>-500.827423</td>\n",
       "      <td>8.071056</td>\n",
       "      <td>-500.801673</td>\n",
       "      <td>4.905125</td>\n",
       "      <td>-499.828510</td>\n",
       "      <td>24.994862</td>\n",
       "      <td>-500.622559</td>\n",
       "    </tr>\n",
       "  </tbody>\n",
       "</table>\n",
       "<p>3 rows × 52 columns</p>\n",
       "</div>"
      ],
      "text/plain": [
       "                     primary_cleaner.input.sulfate  \\\n",
       "date                                                 \n",
       "2016-09-01 00:59:59                     210.800909   \n",
       "2016-09-01 01:59:59                     215.392455   \n",
       "2016-09-01 02:59:59                     215.259946   \n",
       "\n",
       "                     primary_cleaner.input.depressant  \\\n",
       "date                                                    \n",
       "2016-09-01 00:59:59                         14.993118   \n",
       "2016-09-01 01:59:59                         14.987471   \n",
       "2016-09-01 02:59:59                         12.884934   \n",
       "\n",
       "                     primary_cleaner.input.feed_size  \\\n",
       "date                                                   \n",
       "2016-09-01 00:59:59                         8.080000   \n",
       "2016-09-01 01:59:59                         8.080000   \n",
       "2016-09-01 02:59:59                         7.786667   \n",
       "\n",
       "                     primary_cleaner.input.xanthate  \\\n",
       "date                                                  \n",
       "2016-09-01 00:59:59                        1.005021   \n",
       "2016-09-01 01:59:59                        0.990469   \n",
       "2016-09-01 02:59:59                        0.996043   \n",
       "\n",
       "                     primary_cleaner.state.floatbank8_a_air  \\\n",
       "date                                                          \n",
       "2016-09-01 00:59:59                             1398.981301   \n",
       "2016-09-01 01:59:59                             1398.777912   \n",
       "2016-09-01 02:59:59                             1398.493666   \n",
       "\n",
       "                     primary_cleaner.state.floatbank8_a_level  \\\n",
       "date                                                            \n",
       "2016-09-01 00:59:59                               -500.225577   \n",
       "2016-09-01 01:59:59                               -500.057435   \n",
       "2016-09-01 02:59:59                               -500.868360   \n",
       "\n",
       "                     primary_cleaner.state.floatbank8_b_air  \\\n",
       "date                                                          \n",
       "2016-09-01 00:59:59                             1399.144926   \n",
       "2016-09-01 01:59:59                             1398.055362   \n",
       "2016-09-01 02:59:59                             1398.860436   \n",
       "\n",
       "                     primary_cleaner.state.floatbank8_b_level  \\\n",
       "date                                                            \n",
       "2016-09-01 00:59:59                               -499.919735   \n",
       "2016-09-01 01:59:59                               -499.778182   \n",
       "2016-09-01 02:59:59                               -499.764529   \n",
       "\n",
       "                     primary_cleaner.state.floatbank8_c_air  \\\n",
       "date                                                          \n",
       "2016-09-01 00:59:59                             1400.102998   \n",
       "2016-09-01 01:59:59                             1396.151033   \n",
       "2016-09-01 02:59:59                             1398.075709   \n",
       "\n",
       "                     primary_cleaner.state.floatbank8_c_level  ...  \\\n",
       "date                                                           ...   \n",
       "2016-09-01 00:59:59                               -500.704369  ...   \n",
       "2016-09-01 01:59:59                               -499.240168  ...   \n",
       "2016-09-01 02:59:59                               -502.151509  ...   \n",
       "\n",
       "                     secondary_cleaner.state.floatbank4_a_air  \\\n",
       "date                                                            \n",
       "2016-09-01 00:59:59                                 12.023554   \n",
       "2016-09-01 01:59:59                                 12.058140   \n",
       "2016-09-01 02:59:59                                 11.962366   \n",
       "\n",
       "                     secondary_cleaner.state.floatbank4_a_level  \\\n",
       "date                                                              \n",
       "2016-09-01 00:59:59                                 -497.795834   \n",
       "2016-09-01 01:59:59                                 -498.695773   \n",
       "2016-09-01 02:59:59                                 -498.767484   \n",
       "\n",
       "                     secondary_cleaner.state.floatbank4_b_air  \\\n",
       "date                                                            \n",
       "2016-09-01 00:59:59                                  8.016656   \n",
       "2016-09-01 01:59:59                                  8.130979   \n",
       "2016-09-01 02:59:59                                  8.096893   \n",
       "\n",
       "                     secondary_cleaner.state.floatbank4_b_level  \\\n",
       "date                                                              \n",
       "2016-09-01 00:59:59                                 -501.289139   \n",
       "2016-09-01 01:59:59                                 -499.634209   \n",
       "2016-09-01 02:59:59                                 -500.827423   \n",
       "\n",
       "                     secondary_cleaner.state.floatbank5_a_air  \\\n",
       "date                                                            \n",
       "2016-09-01 00:59:59                                  7.946562   \n",
       "2016-09-01 01:59:59                                  7.958270   \n",
       "2016-09-01 02:59:59                                  8.071056   \n",
       "\n",
       "                     secondary_cleaner.state.floatbank5_a_level  \\\n",
       "date                                                              \n",
       "2016-09-01 00:59:59                                 -432.317850   \n",
       "2016-09-01 01:59:59                                 -525.839648   \n",
       "2016-09-01 02:59:59                                 -500.801673   \n",
       "\n",
       "                     secondary_cleaner.state.floatbank5_b_air  \\\n",
       "date                                                            \n",
       "2016-09-01 00:59:59                                  4.872511   \n",
       "2016-09-01 01:59:59                                  4.878850   \n",
       "2016-09-01 02:59:59                                  4.905125   \n",
       "\n",
       "                     secondary_cleaner.state.floatbank5_b_level  \\\n",
       "date                                                              \n",
       "2016-09-01 00:59:59                                 -500.037437   \n",
       "2016-09-01 01:59:59                                 -500.162375   \n",
       "2016-09-01 02:59:59                                 -499.828510   \n",
       "\n",
       "                     secondary_cleaner.state.floatbank6_a_air  \\\n",
       "date                                                            \n",
       "2016-09-01 00:59:59                                 26.705889   \n",
       "2016-09-01 01:59:59                                 25.019940   \n",
       "2016-09-01 02:59:59                                 24.994862   \n",
       "\n",
       "                     secondary_cleaner.state.floatbank6_a_level  \n",
       "date                                                             \n",
       "2016-09-01 00:59:59                                 -499.709414  \n",
       "2016-09-01 01:59:59                                 -499.819438  \n",
       "2016-09-01 02:59:59                                 -500.622559  \n",
       "\n",
       "[3 rows x 52 columns]"
      ]
     },
     "execution_count": 12,
     "metadata": {},
     "output_type": "execute_result"
    }
   ],
   "source": [
    "test.head(3)"
   ]
  },
  {
   "cell_type": "code",
   "execution_count": 13,
   "metadata": {},
   "outputs": [
    {
     "name": "stdout",
     "output_type": "stream",
     "text": [
      "0\n",
      "0\n",
      "0\n"
     ]
    }
   ],
   "source": [
    "# подсчёт явных дубликатов\n",
    "for dataset in data:\n",
    "    print(dataset.duplicated().sum())"
   ]
  },
  {
   "cell_type": "markdown",
   "metadata": {},
   "source": [
    "**Вывод:**\n",
    "\n",
    "В таблицах **df** и **train** по 86 полей, в таблице **test** - 52 поля. \n",
    "\n",
    "Индекс `date` (дата) - тип *object*. Остальные поля - это количественные признаки, тип *float64*.\n",
    "\n",
    "Во всех таблицах присутствуют пропуски данных.\n",
    "\n",
    "Дубликаты не выявлены."
   ]
  },
  {
   "cell_type": "markdown",
   "metadata": {},
   "source": [
    "### Проверка корректности расчета эффективности обогращения"
   ]
  },
  {
   "cell_type": "markdown",
   "metadata": {},
   "source": [
    "Эффективность обогащения рассчитывается по формуле:\n",
    "\n",
    "$$\n",
    "Recovery = \\frac{ C × (F - T) }{ F × (C - T) } × 100\\text{%}\n",
    "$$\n",
    "\n",
    "где:\n",
    "- $C$ — доля золота в концентрате после флотации/очистки;\n",
    "- $F$ — доля золота в сырье/концентрате до флотации/очистки;\n",
    "- $T$ — доля золота в отвальных хвостах после флотации/очистки."
   ]
  },
  {
   "cell_type": "code",
   "execution_count": 14,
   "metadata": {},
   "outputs": [],
   "source": [
    "# функция для расчета эффективности обогращения Recovery\n",
    "def recovery(data):\n",
    "    C = data['rougher.output.concentrate_au']\n",
    "    F = data['rougher.input.feed_au']\n",
    "    T = data['rougher.output.tail_au']\n",
    "    return (C*(F-T)) / (F*(C-T)) * 100"
   ]
  },
  {
   "cell_type": "markdown",
   "metadata": {},
   "source": [
    "Добавим в датасет **df** поле `recovery` со значением эффективности обогращения, рассчитанным по формуле.\n",
    "\n",
    "Затем для определения корректности значений эффективность обогращения в исходных данных рассчитаем **среднюю абсолютную ошибку MAE** между значениями `recovery` (эффективность обогращения, рассчитанная по формуле) и значениями `rougher.output.recovery` (эффективность обогращения из исходных данных)."
   ]
  },
  {
   "cell_type": "code",
   "execution_count": 15,
   "metadata": {},
   "outputs": [
    {
     "data": {
      "text/html": [
       "<div>\n",
       "<style scoped>\n",
       "    .dataframe tbody tr th:only-of-type {\n",
       "        vertical-align: middle;\n",
       "    }\n",
       "\n",
       "    .dataframe tbody tr th {\n",
       "        vertical-align: top;\n",
       "    }\n",
       "\n",
       "    .dataframe thead th {\n",
       "        text-align: right;\n",
       "    }\n",
       "</style>\n",
       "<table border=\"1\" class=\"dataframe\">\n",
       "  <thead>\n",
       "    <tr style=\"text-align: right;\">\n",
       "      <th></th>\n",
       "      <th>final.output.concentrate_ag</th>\n",
       "      <th>final.output.concentrate_pb</th>\n",
       "      <th>final.output.concentrate_sol</th>\n",
       "      <th>final.output.concentrate_au</th>\n",
       "      <th>final.output.recovery</th>\n",
       "      <th>final.output.tail_ag</th>\n",
       "      <th>final.output.tail_pb</th>\n",
       "      <th>final.output.tail_sol</th>\n",
       "      <th>final.output.tail_au</th>\n",
       "      <th>primary_cleaner.input.sulfate</th>\n",
       "      <th>...</th>\n",
       "      <th>secondary_cleaner.state.floatbank4_a_level</th>\n",
       "      <th>secondary_cleaner.state.floatbank4_b_air</th>\n",
       "      <th>secondary_cleaner.state.floatbank4_b_level</th>\n",
       "      <th>secondary_cleaner.state.floatbank5_a_air</th>\n",
       "      <th>secondary_cleaner.state.floatbank5_a_level</th>\n",
       "      <th>secondary_cleaner.state.floatbank5_b_air</th>\n",
       "      <th>secondary_cleaner.state.floatbank5_b_level</th>\n",
       "      <th>secondary_cleaner.state.floatbank6_a_air</th>\n",
       "      <th>secondary_cleaner.state.floatbank6_a_level</th>\n",
       "      <th>recovery</th>\n",
       "    </tr>\n",
       "    <tr>\n",
       "      <th>date</th>\n",
       "      <th></th>\n",
       "      <th></th>\n",
       "      <th></th>\n",
       "      <th></th>\n",
       "      <th></th>\n",
       "      <th></th>\n",
       "      <th></th>\n",
       "      <th></th>\n",
       "      <th></th>\n",
       "      <th></th>\n",
       "      <th></th>\n",
       "      <th></th>\n",
       "      <th></th>\n",
       "      <th></th>\n",
       "      <th></th>\n",
       "      <th></th>\n",
       "      <th></th>\n",
       "      <th></th>\n",
       "      <th></th>\n",
       "      <th></th>\n",
       "      <th></th>\n",
       "    </tr>\n",
       "  </thead>\n",
       "  <tbody>\n",
       "    <tr>\n",
       "      <th>2016-01-15 00:00:00</th>\n",
       "      <td>6.055403</td>\n",
       "      <td>9.889648</td>\n",
       "      <td>5.507324</td>\n",
       "      <td>42.192020</td>\n",
       "      <td>70.541216</td>\n",
       "      <td>10.411962</td>\n",
       "      <td>0.895447</td>\n",
       "      <td>16.904297</td>\n",
       "      <td>2.143149</td>\n",
       "      <td>127.092003</td>\n",
       "      <td>...</td>\n",
       "      <td>-502.488007</td>\n",
       "      <td>12.099931</td>\n",
       "      <td>-504.715942</td>\n",
       "      <td>9.925633</td>\n",
       "      <td>-498.310211</td>\n",
       "      <td>8.079666</td>\n",
       "      <td>-500.470978</td>\n",
       "      <td>14.151341</td>\n",
       "      <td>-605.841980</td>\n",
       "      <td>87.107763</td>\n",
       "    </tr>\n",
       "    <tr>\n",
       "      <th>2016-01-15 01:00:00</th>\n",
       "      <td>6.029369</td>\n",
       "      <td>9.968944</td>\n",
       "      <td>5.257781</td>\n",
       "      <td>42.701629</td>\n",
       "      <td>69.266198</td>\n",
       "      <td>10.462676</td>\n",
       "      <td>0.927452</td>\n",
       "      <td>16.634514</td>\n",
       "      <td>2.224930</td>\n",
       "      <td>125.629232</td>\n",
       "      <td>...</td>\n",
       "      <td>-505.503262</td>\n",
       "      <td>11.950531</td>\n",
       "      <td>-501.331529</td>\n",
       "      <td>10.039245</td>\n",
       "      <td>-500.169983</td>\n",
       "      <td>7.984757</td>\n",
       "      <td>-500.582168</td>\n",
       "      <td>13.998353</td>\n",
       "      <td>-599.787184</td>\n",
       "      <td>86.843261</td>\n",
       "    </tr>\n",
       "    <tr>\n",
       "      <th>2016-01-15 02:00:00</th>\n",
       "      <td>6.055926</td>\n",
       "      <td>10.213995</td>\n",
       "      <td>5.383759</td>\n",
       "      <td>42.657501</td>\n",
       "      <td>68.116445</td>\n",
       "      <td>10.507046</td>\n",
       "      <td>0.953716</td>\n",
       "      <td>16.208849</td>\n",
       "      <td>2.257889</td>\n",
       "      <td>123.819808</td>\n",
       "      <td>...</td>\n",
       "      <td>-502.520901</td>\n",
       "      <td>11.912783</td>\n",
       "      <td>-501.133383</td>\n",
       "      <td>10.070913</td>\n",
       "      <td>-500.129135</td>\n",
       "      <td>8.013877</td>\n",
       "      <td>-500.517572</td>\n",
       "      <td>14.028663</td>\n",
       "      <td>-601.427363</td>\n",
       "      <td>86.842308</td>\n",
       "    </tr>\n",
       "    <tr>\n",
       "      <th>2016-01-15 03:00:00</th>\n",
       "      <td>6.047977</td>\n",
       "      <td>9.977019</td>\n",
       "      <td>4.858634</td>\n",
       "      <td>42.689819</td>\n",
       "      <td>68.347543</td>\n",
       "      <td>10.422762</td>\n",
       "      <td>0.883763</td>\n",
       "      <td>16.532835</td>\n",
       "      <td>2.146849</td>\n",
       "      <td>122.270188</td>\n",
       "      <td>...</td>\n",
       "      <td>-500.857308</td>\n",
       "      <td>11.999550</td>\n",
       "      <td>-501.193686</td>\n",
       "      <td>9.970366</td>\n",
       "      <td>-499.201640</td>\n",
       "      <td>7.977324</td>\n",
       "      <td>-500.255908</td>\n",
       "      <td>14.005551</td>\n",
       "      <td>-599.996129</td>\n",
       "      <td>87.226430</td>\n",
       "    </tr>\n",
       "    <tr>\n",
       "      <th>2016-01-15 04:00:00</th>\n",
       "      <td>6.148599</td>\n",
       "      <td>10.142511</td>\n",
       "      <td>4.939416</td>\n",
       "      <td>42.774141</td>\n",
       "      <td>66.927016</td>\n",
       "      <td>10.360302</td>\n",
       "      <td>0.792826</td>\n",
       "      <td>16.525686</td>\n",
       "      <td>2.055292</td>\n",
       "      <td>117.988169</td>\n",
       "      <td>...</td>\n",
       "      <td>-499.838632</td>\n",
       "      <td>11.953070</td>\n",
       "      <td>-501.053894</td>\n",
       "      <td>9.925709</td>\n",
       "      <td>-501.686727</td>\n",
       "      <td>7.894242</td>\n",
       "      <td>-500.356035</td>\n",
       "      <td>13.996647</td>\n",
       "      <td>-601.496691</td>\n",
       "      <td>86.688794</td>\n",
       "    </tr>\n",
       "  </tbody>\n",
       "</table>\n",
       "<p>5 rows × 87 columns</p>\n",
       "</div>"
      ],
      "text/plain": [
       "                     final.output.concentrate_ag  final.output.concentrate_pb  \\\n",
       "date                                                                            \n",
       "2016-01-15 00:00:00                     6.055403                     9.889648   \n",
       "2016-01-15 01:00:00                     6.029369                     9.968944   \n",
       "2016-01-15 02:00:00                     6.055926                    10.213995   \n",
       "2016-01-15 03:00:00                     6.047977                     9.977019   \n",
       "2016-01-15 04:00:00                     6.148599                    10.142511   \n",
       "\n",
       "                     final.output.concentrate_sol  \\\n",
       "date                                                \n",
       "2016-01-15 00:00:00                      5.507324   \n",
       "2016-01-15 01:00:00                      5.257781   \n",
       "2016-01-15 02:00:00                      5.383759   \n",
       "2016-01-15 03:00:00                      4.858634   \n",
       "2016-01-15 04:00:00                      4.939416   \n",
       "\n",
       "                     final.output.concentrate_au  final.output.recovery  \\\n",
       "date                                                                      \n",
       "2016-01-15 00:00:00                    42.192020              70.541216   \n",
       "2016-01-15 01:00:00                    42.701629              69.266198   \n",
       "2016-01-15 02:00:00                    42.657501              68.116445   \n",
       "2016-01-15 03:00:00                    42.689819              68.347543   \n",
       "2016-01-15 04:00:00                    42.774141              66.927016   \n",
       "\n",
       "                     final.output.tail_ag  final.output.tail_pb  \\\n",
       "date                                                              \n",
       "2016-01-15 00:00:00             10.411962              0.895447   \n",
       "2016-01-15 01:00:00             10.462676              0.927452   \n",
       "2016-01-15 02:00:00             10.507046              0.953716   \n",
       "2016-01-15 03:00:00             10.422762              0.883763   \n",
       "2016-01-15 04:00:00             10.360302              0.792826   \n",
       "\n",
       "                     final.output.tail_sol  final.output.tail_au  \\\n",
       "date                                                               \n",
       "2016-01-15 00:00:00              16.904297              2.143149   \n",
       "2016-01-15 01:00:00              16.634514              2.224930   \n",
       "2016-01-15 02:00:00              16.208849              2.257889   \n",
       "2016-01-15 03:00:00              16.532835              2.146849   \n",
       "2016-01-15 04:00:00              16.525686              2.055292   \n",
       "\n",
       "                     primary_cleaner.input.sulfate  ...  \\\n",
       "date                                                ...   \n",
       "2016-01-15 00:00:00                     127.092003  ...   \n",
       "2016-01-15 01:00:00                     125.629232  ...   \n",
       "2016-01-15 02:00:00                     123.819808  ...   \n",
       "2016-01-15 03:00:00                     122.270188  ...   \n",
       "2016-01-15 04:00:00                     117.988169  ...   \n",
       "\n",
       "                     secondary_cleaner.state.floatbank4_a_level  \\\n",
       "date                                                              \n",
       "2016-01-15 00:00:00                                 -502.488007   \n",
       "2016-01-15 01:00:00                                 -505.503262   \n",
       "2016-01-15 02:00:00                                 -502.520901   \n",
       "2016-01-15 03:00:00                                 -500.857308   \n",
       "2016-01-15 04:00:00                                 -499.838632   \n",
       "\n",
       "                     secondary_cleaner.state.floatbank4_b_air  \\\n",
       "date                                                            \n",
       "2016-01-15 00:00:00                                 12.099931   \n",
       "2016-01-15 01:00:00                                 11.950531   \n",
       "2016-01-15 02:00:00                                 11.912783   \n",
       "2016-01-15 03:00:00                                 11.999550   \n",
       "2016-01-15 04:00:00                                 11.953070   \n",
       "\n",
       "                     secondary_cleaner.state.floatbank4_b_level  \\\n",
       "date                                                              \n",
       "2016-01-15 00:00:00                                 -504.715942   \n",
       "2016-01-15 01:00:00                                 -501.331529   \n",
       "2016-01-15 02:00:00                                 -501.133383   \n",
       "2016-01-15 03:00:00                                 -501.193686   \n",
       "2016-01-15 04:00:00                                 -501.053894   \n",
       "\n",
       "                     secondary_cleaner.state.floatbank5_a_air  \\\n",
       "date                                                            \n",
       "2016-01-15 00:00:00                                  9.925633   \n",
       "2016-01-15 01:00:00                                 10.039245   \n",
       "2016-01-15 02:00:00                                 10.070913   \n",
       "2016-01-15 03:00:00                                  9.970366   \n",
       "2016-01-15 04:00:00                                  9.925709   \n",
       "\n",
       "                     secondary_cleaner.state.floatbank5_a_level  \\\n",
       "date                                                              \n",
       "2016-01-15 00:00:00                                 -498.310211   \n",
       "2016-01-15 01:00:00                                 -500.169983   \n",
       "2016-01-15 02:00:00                                 -500.129135   \n",
       "2016-01-15 03:00:00                                 -499.201640   \n",
       "2016-01-15 04:00:00                                 -501.686727   \n",
       "\n",
       "                     secondary_cleaner.state.floatbank5_b_air  \\\n",
       "date                                                            \n",
       "2016-01-15 00:00:00                                  8.079666   \n",
       "2016-01-15 01:00:00                                  7.984757   \n",
       "2016-01-15 02:00:00                                  8.013877   \n",
       "2016-01-15 03:00:00                                  7.977324   \n",
       "2016-01-15 04:00:00                                  7.894242   \n",
       "\n",
       "                     secondary_cleaner.state.floatbank5_b_level  \\\n",
       "date                                                              \n",
       "2016-01-15 00:00:00                                 -500.470978   \n",
       "2016-01-15 01:00:00                                 -500.582168   \n",
       "2016-01-15 02:00:00                                 -500.517572   \n",
       "2016-01-15 03:00:00                                 -500.255908   \n",
       "2016-01-15 04:00:00                                 -500.356035   \n",
       "\n",
       "                     secondary_cleaner.state.floatbank6_a_air  \\\n",
       "date                                                            \n",
       "2016-01-15 00:00:00                                 14.151341   \n",
       "2016-01-15 01:00:00                                 13.998353   \n",
       "2016-01-15 02:00:00                                 14.028663   \n",
       "2016-01-15 03:00:00                                 14.005551   \n",
       "2016-01-15 04:00:00                                 13.996647   \n",
       "\n",
       "                     secondary_cleaner.state.floatbank6_a_level   recovery  \n",
       "date                                                                        \n",
       "2016-01-15 00:00:00                                 -605.841980  87.107763  \n",
       "2016-01-15 01:00:00                                 -599.787184  86.843261  \n",
       "2016-01-15 02:00:00                                 -601.427363  86.842308  \n",
       "2016-01-15 03:00:00                                 -599.996129  87.226430  \n",
       "2016-01-15 04:00:00                                 -601.496691  86.688794  \n",
       "\n",
       "[5 rows x 87 columns]"
      ]
     },
     "execution_count": 15,
     "metadata": {},
     "output_type": "execute_result"
    }
   ],
   "source": [
    "df['recovery'] = df.apply(recovery, axis=1)\n",
    "df.head()"
   ]
  },
  {
   "cell_type": "code",
   "execution_count": 16,
   "metadata": {},
   "outputs": [
    {
     "data": {
      "text/plain": [
       "9.874045668302637e-15"
      ]
     },
     "execution_count": 16,
     "metadata": {},
     "output_type": "execute_result"
    }
   ],
   "source": [
    "# MAE\n",
    "mean_absolute_error(df['rougher.output.recovery'], df['recovery'])"
   ]
  },
  {
   "cell_type": "markdown",
   "metadata": {},
   "source": [
    "**Вывод:**\n",
    "\n",
    "Значение ошибки MAE очень мало, можно сделать вывод, что **эффективность обогращения в исходных данных рассчитана корректно.**"
   ]
  },
  {
   "cell_type": "markdown",
   "metadata": {},
   "source": [
    "### Анализ признаков, недоступных в тестовой выборке"
   ]
  },
  {
   "cell_type": "markdown",
   "metadata": {},
   "source": [
    "Добавим в список **extra_features** наименования полей из датасета **train**, которые отсутствуют в датасете **test**. "
   ]
  },
  {
   "cell_type": "code",
   "execution_count": 17,
   "metadata": {},
   "outputs": [
    {
     "name": "stdout",
     "output_type": "stream",
     "text": [
      "Количество недостающих полей в test: 34\n"
     ]
    }
   ],
   "source": [
    "extra_features = []\n",
    "for column in train.columns:\n",
    "    if column not in test.columns:\n",
    "        extra_features.append(column)\n",
    "print('Количество недостающих полей в test:', len(extra_features))"
   ]
  },
  {
   "cell_type": "code",
   "execution_count": 18,
   "metadata": {},
   "outputs": [
    {
     "data": {
      "text/plain": [
       "['final.output.concentrate_ag',\n",
       " 'final.output.concentrate_pb',\n",
       " 'final.output.concentrate_sol',\n",
       " 'final.output.concentrate_au',\n",
       " 'final.output.recovery',\n",
       " 'final.output.tail_ag',\n",
       " 'final.output.tail_pb',\n",
       " 'final.output.tail_sol',\n",
       " 'final.output.tail_au',\n",
       " 'primary_cleaner.output.concentrate_ag',\n",
       " 'primary_cleaner.output.concentrate_pb',\n",
       " 'primary_cleaner.output.concentrate_sol',\n",
       " 'primary_cleaner.output.concentrate_au',\n",
       " 'primary_cleaner.output.tail_ag',\n",
       " 'primary_cleaner.output.tail_pb',\n",
       " 'primary_cleaner.output.tail_sol',\n",
       " 'primary_cleaner.output.tail_au',\n",
       " 'rougher.calculation.sulfate_to_au_concentrate',\n",
       " 'rougher.calculation.floatbank10_sulfate_to_au_feed',\n",
       " 'rougher.calculation.floatbank11_sulfate_to_au_feed',\n",
       " 'rougher.calculation.au_pb_ratio',\n",
       " 'rougher.output.concentrate_ag',\n",
       " 'rougher.output.concentrate_pb',\n",
       " 'rougher.output.concentrate_sol',\n",
       " 'rougher.output.concentrate_au',\n",
       " 'rougher.output.recovery',\n",
       " 'rougher.output.tail_ag',\n",
       " 'rougher.output.tail_pb',\n",
       " 'rougher.output.tail_sol',\n",
       " 'rougher.output.tail_au',\n",
       " 'secondary_cleaner.output.tail_ag',\n",
       " 'secondary_cleaner.output.tail_pb',\n",
       " 'secondary_cleaner.output.tail_sol',\n",
       " 'secondary_cleaner.output.tail_au']"
      ]
     },
     "execution_count": 18,
     "metadata": {},
     "output_type": "execute_result"
    }
   ],
   "source": [
    "extra_features"
   ]
  },
  {
   "cell_type": "markdown",
   "metadata": {},
   "source": [
    "**Наименование признаков**\n",
    "\n",
    "**[этап].[тип_параметра].[название_параметра]**\n",
    "\n",
    "Пример: rougher.input.feed_ag\n",
    "\n",
    "Возможные значения для блока **[этап]**:\n",
    "- rougher — флотация\n",
    "- primary_cleaner — первичная очистка\n",
    "- secondary_cleaner — вторичная очистка\n",
    "- final — финальные характеристики\n",
    "\n",
    "Возможные значения для блока **[тип_параметра]**:\n",
    "- input — параметры сырья\n",
    "- output — параметры продукта\n",
    "- state — параметры, характеризующие текущее состояние этапа\n",
    "- calculation — расчётные характеристики"
   ]
  },
  {
   "cell_type": "markdown",
   "metadata": {},
   "source": [
    "**Вывод:**\n",
    "\n",
    "В тестовой выборке недоступны следующие поля:\n",
    "- расчётные характеристики для флотации,\n",
    "- параметры продукта (чернового концентрата и отвальных хвостов) для всех этапов процесса: флотации, первичной очистки, вторичной очистки,\n",
    "- финальные характеристики концентрата и отвальных хвостов,\n",
    "- эффективность обогращения."
   ]
  },
  {
   "cell_type": "markdown",
   "metadata": {},
   "source": [
    "## Предобработка данных"
   ]
  },
  {
   "cell_type": "markdown",
   "metadata": {},
   "source": [
    "Добавим в датасет **test** недостающие целевые признаки - эффективность обогащения `rougher.output.recovery`, `final.output.recovery`.\n",
    "\n",
    "Остальные признаки, которые отсутствуют в **test**, удалим из датасета **train**."
   ]
  },
  {
   "cell_type": "code",
   "execution_count": 19,
   "metadata": {},
   "outputs": [
    {
     "data": {
      "text/html": [
       "<div>\n",
       "<style scoped>\n",
       "    .dataframe tbody tr th:only-of-type {\n",
       "        vertical-align: middle;\n",
       "    }\n",
       "\n",
       "    .dataframe tbody tr th {\n",
       "        vertical-align: top;\n",
       "    }\n",
       "\n",
       "    .dataframe thead th {\n",
       "        text-align: right;\n",
       "    }\n",
       "</style>\n",
       "<table border=\"1\" class=\"dataframe\">\n",
       "  <thead>\n",
       "    <tr style=\"text-align: right;\">\n",
       "      <th></th>\n",
       "      <th>primary_cleaner.input.sulfate</th>\n",
       "      <th>primary_cleaner.input.depressant</th>\n",
       "      <th>primary_cleaner.input.feed_size</th>\n",
       "      <th>primary_cleaner.input.xanthate</th>\n",
       "      <th>primary_cleaner.state.floatbank8_a_air</th>\n",
       "      <th>primary_cleaner.state.floatbank8_a_level</th>\n",
       "      <th>primary_cleaner.state.floatbank8_b_air</th>\n",
       "      <th>primary_cleaner.state.floatbank8_b_level</th>\n",
       "      <th>primary_cleaner.state.floatbank8_c_air</th>\n",
       "      <th>primary_cleaner.state.floatbank8_c_level</th>\n",
       "      <th>...</th>\n",
       "      <th>secondary_cleaner.state.floatbank4_b_air</th>\n",
       "      <th>secondary_cleaner.state.floatbank4_b_level</th>\n",
       "      <th>secondary_cleaner.state.floatbank5_a_air</th>\n",
       "      <th>secondary_cleaner.state.floatbank5_a_level</th>\n",
       "      <th>secondary_cleaner.state.floatbank5_b_air</th>\n",
       "      <th>secondary_cleaner.state.floatbank5_b_level</th>\n",
       "      <th>secondary_cleaner.state.floatbank6_a_air</th>\n",
       "      <th>secondary_cleaner.state.floatbank6_a_level</th>\n",
       "      <th>rougher.output.recovery</th>\n",
       "      <th>final.output.recovery</th>\n",
       "    </tr>\n",
       "    <tr>\n",
       "      <th>date</th>\n",
       "      <th></th>\n",
       "      <th></th>\n",
       "      <th></th>\n",
       "      <th></th>\n",
       "      <th></th>\n",
       "      <th></th>\n",
       "      <th></th>\n",
       "      <th></th>\n",
       "      <th></th>\n",
       "      <th></th>\n",
       "      <th></th>\n",
       "      <th></th>\n",
       "      <th></th>\n",
       "      <th></th>\n",
       "      <th></th>\n",
       "      <th></th>\n",
       "      <th></th>\n",
       "      <th></th>\n",
       "      <th></th>\n",
       "      <th></th>\n",
       "      <th></th>\n",
       "    </tr>\n",
       "  </thead>\n",
       "  <tbody>\n",
       "    <tr>\n",
       "      <th>2016-09-01 00:59:59</th>\n",
       "      <td>210.800909</td>\n",
       "      <td>14.993118</td>\n",
       "      <td>8.080000</td>\n",
       "      <td>1.005021</td>\n",
       "      <td>1398.981301</td>\n",
       "      <td>-500.225577</td>\n",
       "      <td>1399.144926</td>\n",
       "      <td>-499.919735</td>\n",
       "      <td>1400.102998</td>\n",
       "      <td>-500.704369</td>\n",
       "      <td>...</td>\n",
       "      <td>8.016656</td>\n",
       "      <td>-501.289139</td>\n",
       "      <td>7.946562</td>\n",
       "      <td>-432.317850</td>\n",
       "      <td>4.872511</td>\n",
       "      <td>-500.037437</td>\n",
       "      <td>26.705889</td>\n",
       "      <td>-499.709414</td>\n",
       "      <td>89.993421</td>\n",
       "      <td>70.273583</td>\n",
       "    </tr>\n",
       "    <tr>\n",
       "      <th>2016-09-01 01:59:59</th>\n",
       "      <td>215.392455</td>\n",
       "      <td>14.987471</td>\n",
       "      <td>8.080000</td>\n",
       "      <td>0.990469</td>\n",
       "      <td>1398.777912</td>\n",
       "      <td>-500.057435</td>\n",
       "      <td>1398.055362</td>\n",
       "      <td>-499.778182</td>\n",
       "      <td>1396.151033</td>\n",
       "      <td>-499.240168</td>\n",
       "      <td>...</td>\n",
       "      <td>8.130979</td>\n",
       "      <td>-499.634209</td>\n",
       "      <td>7.958270</td>\n",
       "      <td>-525.839648</td>\n",
       "      <td>4.878850</td>\n",
       "      <td>-500.162375</td>\n",
       "      <td>25.019940</td>\n",
       "      <td>-499.819438</td>\n",
       "      <td>88.089657</td>\n",
       "      <td>68.910432</td>\n",
       "    </tr>\n",
       "    <tr>\n",
       "      <th>2016-09-01 02:59:59</th>\n",
       "      <td>215.259946</td>\n",
       "      <td>12.884934</td>\n",
       "      <td>7.786667</td>\n",
       "      <td>0.996043</td>\n",
       "      <td>1398.493666</td>\n",
       "      <td>-500.868360</td>\n",
       "      <td>1398.860436</td>\n",
       "      <td>-499.764529</td>\n",
       "      <td>1398.075709</td>\n",
       "      <td>-502.151509</td>\n",
       "      <td>...</td>\n",
       "      <td>8.096893</td>\n",
       "      <td>-500.827423</td>\n",
       "      <td>8.071056</td>\n",
       "      <td>-500.801673</td>\n",
       "      <td>4.905125</td>\n",
       "      <td>-499.828510</td>\n",
       "      <td>24.994862</td>\n",
       "      <td>-500.622559</td>\n",
       "      <td>88.412756</td>\n",
       "      <td>68.143213</td>\n",
       "    </tr>\n",
       "  </tbody>\n",
       "</table>\n",
       "<p>3 rows × 54 columns</p>\n",
       "</div>"
      ],
      "text/plain": [
       "                     primary_cleaner.input.sulfate  \\\n",
       "date                                                 \n",
       "2016-09-01 00:59:59                     210.800909   \n",
       "2016-09-01 01:59:59                     215.392455   \n",
       "2016-09-01 02:59:59                     215.259946   \n",
       "\n",
       "                     primary_cleaner.input.depressant  \\\n",
       "date                                                    \n",
       "2016-09-01 00:59:59                         14.993118   \n",
       "2016-09-01 01:59:59                         14.987471   \n",
       "2016-09-01 02:59:59                         12.884934   \n",
       "\n",
       "                     primary_cleaner.input.feed_size  \\\n",
       "date                                                   \n",
       "2016-09-01 00:59:59                         8.080000   \n",
       "2016-09-01 01:59:59                         8.080000   \n",
       "2016-09-01 02:59:59                         7.786667   \n",
       "\n",
       "                     primary_cleaner.input.xanthate  \\\n",
       "date                                                  \n",
       "2016-09-01 00:59:59                        1.005021   \n",
       "2016-09-01 01:59:59                        0.990469   \n",
       "2016-09-01 02:59:59                        0.996043   \n",
       "\n",
       "                     primary_cleaner.state.floatbank8_a_air  \\\n",
       "date                                                          \n",
       "2016-09-01 00:59:59                             1398.981301   \n",
       "2016-09-01 01:59:59                             1398.777912   \n",
       "2016-09-01 02:59:59                             1398.493666   \n",
       "\n",
       "                     primary_cleaner.state.floatbank8_a_level  \\\n",
       "date                                                            \n",
       "2016-09-01 00:59:59                               -500.225577   \n",
       "2016-09-01 01:59:59                               -500.057435   \n",
       "2016-09-01 02:59:59                               -500.868360   \n",
       "\n",
       "                     primary_cleaner.state.floatbank8_b_air  \\\n",
       "date                                                          \n",
       "2016-09-01 00:59:59                             1399.144926   \n",
       "2016-09-01 01:59:59                             1398.055362   \n",
       "2016-09-01 02:59:59                             1398.860436   \n",
       "\n",
       "                     primary_cleaner.state.floatbank8_b_level  \\\n",
       "date                                                            \n",
       "2016-09-01 00:59:59                               -499.919735   \n",
       "2016-09-01 01:59:59                               -499.778182   \n",
       "2016-09-01 02:59:59                               -499.764529   \n",
       "\n",
       "                     primary_cleaner.state.floatbank8_c_air  \\\n",
       "date                                                          \n",
       "2016-09-01 00:59:59                             1400.102998   \n",
       "2016-09-01 01:59:59                             1396.151033   \n",
       "2016-09-01 02:59:59                             1398.075709   \n",
       "\n",
       "                     primary_cleaner.state.floatbank8_c_level  ...  \\\n",
       "date                                                           ...   \n",
       "2016-09-01 00:59:59                               -500.704369  ...   \n",
       "2016-09-01 01:59:59                               -499.240168  ...   \n",
       "2016-09-01 02:59:59                               -502.151509  ...   \n",
       "\n",
       "                     secondary_cleaner.state.floatbank4_b_air  \\\n",
       "date                                                            \n",
       "2016-09-01 00:59:59                                  8.016656   \n",
       "2016-09-01 01:59:59                                  8.130979   \n",
       "2016-09-01 02:59:59                                  8.096893   \n",
       "\n",
       "                     secondary_cleaner.state.floatbank4_b_level  \\\n",
       "date                                                              \n",
       "2016-09-01 00:59:59                                 -501.289139   \n",
       "2016-09-01 01:59:59                                 -499.634209   \n",
       "2016-09-01 02:59:59                                 -500.827423   \n",
       "\n",
       "                     secondary_cleaner.state.floatbank5_a_air  \\\n",
       "date                                                            \n",
       "2016-09-01 00:59:59                                  7.946562   \n",
       "2016-09-01 01:59:59                                  7.958270   \n",
       "2016-09-01 02:59:59                                  8.071056   \n",
       "\n",
       "                     secondary_cleaner.state.floatbank5_a_level  \\\n",
       "date                                                              \n",
       "2016-09-01 00:59:59                                 -432.317850   \n",
       "2016-09-01 01:59:59                                 -525.839648   \n",
       "2016-09-01 02:59:59                                 -500.801673   \n",
       "\n",
       "                     secondary_cleaner.state.floatbank5_b_air  \\\n",
       "date                                                            \n",
       "2016-09-01 00:59:59                                  4.872511   \n",
       "2016-09-01 01:59:59                                  4.878850   \n",
       "2016-09-01 02:59:59                                  4.905125   \n",
       "\n",
       "                     secondary_cleaner.state.floatbank5_b_level  \\\n",
       "date                                                              \n",
       "2016-09-01 00:59:59                                 -500.037437   \n",
       "2016-09-01 01:59:59                                 -500.162375   \n",
       "2016-09-01 02:59:59                                 -499.828510   \n",
       "\n",
       "                     secondary_cleaner.state.floatbank6_a_air  \\\n",
       "date                                                            \n",
       "2016-09-01 00:59:59                                 26.705889   \n",
       "2016-09-01 01:59:59                                 25.019940   \n",
       "2016-09-01 02:59:59                                 24.994862   \n",
       "\n",
       "                     secondary_cleaner.state.floatbank6_a_level  \\\n",
       "date                                                              \n",
       "2016-09-01 00:59:59                                 -499.709414   \n",
       "2016-09-01 01:59:59                                 -499.819438   \n",
       "2016-09-01 02:59:59                                 -500.622559   \n",
       "\n",
       "                     rougher.output.recovery  final.output.recovery  \n",
       "date                                                                 \n",
       "2016-09-01 00:59:59                89.993421              70.273583  \n",
       "2016-09-01 01:59:59                88.089657              68.910432  \n",
       "2016-09-01 02:59:59                88.412756              68.143213  \n",
       "\n",
       "[3 rows x 54 columns]"
      ]
     },
     "execution_count": 19,
     "metadata": {},
     "output_type": "execute_result"
    }
   ],
   "source": [
    "test = test.join(df[['rougher.output.recovery', 'final.output.recovery']], how='left')\n",
    "test.head(3)"
   ]
  },
  {
   "cell_type": "code",
   "execution_count": 20,
   "metadata": {},
   "outputs": [
    {
     "name": "stdout",
     "output_type": "stream",
     "text": [
      "(5290, 54)\n",
      "(14149, 54)\n"
     ]
    }
   ],
   "source": [
    "for column in train.columns:\n",
    "    if column not in test.columns:\n",
    "        train = train.drop([column], axis=1)\n",
    "print(test.shape)\n",
    "print(train.shape)"
   ]
  },
  {
   "cell_type": "markdown",
   "metadata": {},
   "source": [
    "## Анализ данных"
   ]
  },
  {
   "cell_type": "markdown",
   "metadata": {},
   "source": [
    "Посмотрим, как меняется концентрация металлов на различных этапах очистки.\n",
    "- **Au** - золото,\n",
    "- **Ag** - серебро,\n",
    "- **Pb** - свинец."
   ]
  },
  {
   "cell_type": "code",
   "execution_count": 21,
   "metadata": {},
   "outputs": [],
   "source": [
    "# функция для построения диаграммы размаха концентрации золота на различных этапах очистки\n",
    "def boxplot_concentrate(metal, title):\n",
    "    concentrate = df[[f'rougher.output.concentrate_{metal}',\n",
    "                      f'primary_cleaner.output.concentrate_{metal}',\n",
    "                      f'final.output.concentrate_{metal}']].stack().reset_index()\n",
    "    concentrate.columns = ['date', 'stage', 'concentrate']\n",
    "    concentrate.loc[concentrate.stage == f'rougher.output.concentrate_{metal}', 'stage'] = 'флотация'\n",
    "    concentrate.loc[concentrate.stage == f'primary_cleaner.output.concentrate_{metal}', 'stage'] = 'первичная очистка'\n",
    "    concentrate.loc[concentrate.stage == f'final.output.concentrate_{metal}', 'stage'] = 'вторичная очистка'\n",
    "    \n",
    "    # построение графика\n",
    "    plt.figure(figsize=(15,8))\n",
    "    sns.set(style='darkgrid')\n",
    "    ax = sns.boxplot(x=\"stage\", y=\"concentrate\", data=concentrate, color='turquoise')\n",
    "    plt.title(title, fontsize=14, weight='bold');\n",
    "    plt.xlabel('этапы очистки сырья', fontsize=14);\n",
    "    plt.ylabel('концентрация вещества', fontsize=14);  "
   ]
  },
  {
   "cell_type": "code",
   "execution_count": 22,
   "metadata": {},
   "outputs": [
    {
     "data": {
      "image/png": "[encoded data removed]",
      "text/plain": [
       "<Figure size 1080x576 with 1 Axes>"
      ]
     },
     "metadata": {
      "needs_background": "light"
     },
     "output_type": "display_data"
    },
    {
     "data": {
      "image/png": "[encoded data removed]",
      "text/plain": [
       "<Figure size 1080x576 with 1 Axes>"
      ]
     },
     "metadata": {},
     "output_type": "display_data"
    },
    {
     "data": {
      "image/png": "[encoded data removed]",
      "text/plain": [
       "<Figure size 1080x576 with 1 Axes>"
      ]
     },
     "metadata": {},
     "output_type": "display_data"
    }
   ],
   "source": [
    "boxplot_concentrate(metal='au', title=\"Диаграмма размаха концентрации золота на различных этапах очистки\")\n",
    "boxplot_concentrate(metal='ag', title=\"Диаграмма размаха концентрации серебра на различных этапах очистки\")\n",
    "boxplot_concentrate(metal='pb', title=\"Диаграмма размаха концентрации свинца на различных этапах очистки\")"
   ]
  },
  {
   "cell_type": "markdown",
   "metadata": {},
   "source": [
    "Концентрации металлов (золота, серебра и свинца) изменяется на каждом этапе очистки:\n",
    "- концентрация **золота** увеличивается после каждого этапа. **Средняя концентрация** на этапах флотации, первичной и вторичной очистки составляет соответственно: **20, 33, 45**;\n",
    "- концентрация **серебра** уменьшается после каждого этапа. **Средняя концентрация** составляет соответственно: **12, 8, 5**;\n",
    "- концентрация **свинца** увеличивается после первичной очистки и почти не изменяется после вторичной. **Средняя концентрация** составляет соответственно: **8, 10, 10**;"
   ]
  },
  {
   "cell_type": "markdown",
   "metadata": {},
   "source": [
    "Сравним распределения размеров гранул сырья на обучающей и тестовой выборках. Чтобы оценка модели была правильной, распределения не должны сильно отличаться друг от друга."
   ]
  },
  {
   "cell_type": "code",
   "execution_count": 23,
   "metadata": {},
   "outputs": [],
   "source": [
    "# функция для построения гистограммы распределения размера гранул сырья\n",
    "def histogram_feed_size(stage, title):\n",
    "    a = pd.concat(axis=0, ignore_index=True,\n",
    "                  objs=[pd.DataFrame.from_dict({'value': test[f'{stage}.input.feed_size'], 'Выборка': 'test'}),\n",
    "                        pd.DataFrame.from_dict({'value': train[f'{stage}.input.feed_size'], 'Выборка': 'train'})])\n",
    "    plt.figure(figsize=(15,8))\n",
    "    sns.set(style='darkgrid')\n",
    "    sns.histplot(data=a, x=\"value\", hue=\"Выборка\")\n",
    "    plt.title(title, fontsize=14, weight='bold');\n",
    "    plt.xlabel('размеры гранул', fontsize=14);\n",
    "    plt.ylabel('частота', fontsize=14);   "
   ]
  },
  {
   "cell_type": "code",
   "execution_count": 24,
   "metadata": {},
   "outputs": [
    {
     "data": {
      "image/png": "[encoded data removed]",
      "text/plain": [
       "<Figure size 1080x576 with 1 Axes>"
      ]
     },
     "metadata": {},
     "output_type": "display_data"
    },
    {
     "data": {
      "image/png": "[encoded data removed]",
      "text/plain": [
       "<Figure size 1080x576 with 1 Axes>"
      ]
     },
     "metadata": {},
     "output_type": "display_data"
    }
   ],
   "source": [
    "histogram_feed_size(stage='rougher', title='Распределение размеров гранул сырья на этапе флотации')\n",
    "histogram_feed_size(stage='primary_cleaner', title='Распределение размеров гранул сырья на этапе первичной очистки')"
   ]
  },
  {
   "cell_type": "markdown",
   "metadata": {},
   "source": [
    "Гистограммы распределения размеров гранул сырья на этапе **флотации** отличаются между собой и довольно сильно отличаются от нормального распределения. Но, в целом, размеры большинства частиц лежат в оптимальном для флотации интервале 40—100 мкм.\n",
    "\n",
    "По виду гистограмм распределение размеров гранул сырья на этапе **первичной очистки** можно сказать, что распределения почти не отличаются друг от друга и близки к нормальному распределению.\n",
    "\n",
    "Т.о. можно сделать вывод, что **выборки подходят для оценки.**"
   ]
  },
  {
   "cell_type": "markdown",
   "metadata": {},
   "source": [
    "Исследуем **суммарную концентрацию всех веществ** на разных стадиях: в сырье, в черновом и финальном концентратах.\n",
    "\n",
    "Добавим соответствующие поля в датасет **df**:\n",
    "- `rougher.input.feed_total` - суммарная концентрация веществ в сырье до флотации,\n",
    "- `rougher.output.concentrate_total` - суммарная концентрация веществ после флотации,\n",
    "- `primary_cleaner.output.concentrate_total` - суммарная концентрация веществ после первичной очистки,\n",
    "- `final.output.concentrate_total` - суммарная концентрация веществ после вторичной очистки."
   ]
  },
  {
   "cell_type": "code",
   "execution_count": 25,
   "metadata": {},
   "outputs": [],
   "source": [
    "df['rougher.input.feed_total'] = df['rougher.input.feed_au'] + \\\n",
    "                                 df['rougher.input.feed_ag'] + \\\n",
    "                                 df['rougher.input.feed_pb'] + \\\n",
    "                                 df['rougher.input.feed_sol']\n",
    "\n",
    "df['rougher.output.concentrate_total'] = df['rougher.output.concentrate_au'] + \\\n",
    "                                         df['rougher.output.concentrate_ag'] + \\\n",
    "                                         df['rougher.output.concentrate_pb'] + \\\n",
    "                                         df['rougher.output.concentrate_sol']\n",
    "\n",
    "df['primary_cleaner.output.concentrate_total'] = df['primary_cleaner.output.concentrate_au'] + \\\n",
    "                                                 df['primary_cleaner.output.concentrate_ag'] + \\\n",
    "                                                 df['primary_cleaner.output.concentrate_pb'] + \\\n",
    "                                                 df['primary_cleaner.output.concentrate_sol']\n",
    "\n",
    "df['final.output.concentrate_total'] = df['final.output.concentrate_au'] + \\\n",
    "                                       df['final.output.concentrate_ag'] + \\\n",
    "                                       df['final.output.concentrate_pb'] + \\\n",
    "                                       df['final.output.concentrate_sol']"
   ]
  },
  {
   "cell_type": "code",
   "execution_count": 26,
   "metadata": {},
   "outputs": [
    {
     "data": {
      "image/png": "[encoded data removed]",
      "text/plain": [
       "<Figure size 1080x576 with 1 Axes>"
      ]
     },
     "metadata": {},
     "output_type": "display_data"
    }
   ],
   "source": [
    "a = pd.concat(axis=0, ignore_index=True,\n",
    "              objs=[pd.DataFrame.from_dict({'value': df['rougher.input.feed_total'], 'Этап': 'сырье'}),\n",
    "                    pd.DataFrame.from_dict({'value': df['rougher.output.concentrate_total'], 'Этап': 'черновой концентрат'}),\n",
    "                    pd.DataFrame.from_dict({'value': df['primary_cleaner.output.concentrate_total'], 'Этап': 'концентрат после первичной очистки'}),\n",
    "                    pd.DataFrame.from_dict({'value': df['final.output.concentrate_total'], 'Этап': 'финальный концентрат'})])\n",
    "plt.figure(figsize=(15,8));\n",
    "sns.set(style='darkgrid')\n",
    "sns.histplot(data=a, x=\"value\", hue=\"Этап\", kde=True)\n",
    "plt.title('Распределение суммарной концентрации всех веществ на разных стадиях', fontsize=14, weight='bold');\n",
    "plt.xlabel('суммарная концентрация', fontsize=14);\n",
    "plt.ylabel('частота', fontsize=14);   "
   ]
  },
  {
   "cell_type": "markdown",
   "metadata": {},
   "source": [
    "По графикам видно, что на каждом этапе очистки присутствует нулевая суммарная концентрация всех веществ, чего в реальности не может быть. Исключим такие случаи из выборок."
   ]
  },
  {
   "cell_type": "code",
   "execution_count": 27,
   "metadata": {},
   "outputs": [],
   "source": [
    "# соберем датасет с нулевым значением суммарной концентрации\n",
    "delete = df[(df['rougher.input.feed_total'] == 0) | (df['rougher.output.concentrate_total'] == 0) |\n",
    "            (df['primary_cleaner.output.concentrate_total'] == 0) | (df['final.output.concentrate_total'] == 0)]"
   ]
  },
  {
   "cell_type": "code",
   "execution_count": 28,
   "metadata": {},
   "outputs": [],
   "source": [
    "# перезапишем train и test, удалив строки с нулевыми значениями суммарной концентрации\n",
    "train = train.query('index not in @delete.index')\n",
    "test = test.query('index not in @delete.index')"
   ]
  },
  {
   "cell_type": "markdown",
   "metadata": {},
   "source": [
    "## Модель"
   ]
  },
  {
   "cell_type": "markdown",
   "metadata": {},
   "source": [
    "**sMAPE** (англ. Symmetric Mean Absolute Percentage Error, «симметричное среднее абсолютное процентное отклонение»).\n",
    "\n",
    "$$\n",
    "sMAPE = \\frac{1}{N} \\sum_{i = 1}^{N} \\frac{|y_{i} - ŷ_{i}|}{(|y_{i}| + |ŷ_{i}|) / 2} × 100\\text{%}\n",
    "$$\n",
    "\n",
    "- $y_{i}$ - значение целевого признака для объекта с порядковым номером i в выборке, на которой измеряется качество.\n",
    "- $ŷ_{i}$ - значение предсказания для объекта с порядковым номером i, например, в тестовой выборке.\n",
    "- $N$ - количество объектов в выборке.\n",
    "\n",
    "Нужно спрогнозировать сразу две величины:\n",
    "- эффективность обогащения чернового концентрата `rougher.output.recovery`;\n",
    "- эффективность обогащения финального концентрата `final.output.recovery`.\n",
    "\n",
    "Итоговая метрика складывается из двух величин:\n",
    "\n",
    "\n",
    "$$\n",
    "sMAPE\\text{ (итог)} = 25\\text{%} × sMAPE(rougher) + 75\\text{%} × sMAPE(final)\n",
    "$$"
   ]
  },
  {
   "cell_type": "code",
   "execution_count": 29,
   "metadata": {},
   "outputs": [],
   "source": [
    "# функция для расчета sMAPE\n",
    "def sMAPE(target, predictions):\n",
    "    return np.mean(abs(target - predictions) / ((abs(target) + abs(predictions)) / 2))"
   ]
  },
  {
   "cell_type": "code",
   "execution_count": 30,
   "metadata": {},
   "outputs": [],
   "source": [
    "# функция для расчета итоговой sMAPE\n",
    "def sMAPE_total(smape_rougher, smape_final):\n",
    "    return 0.25 * smape_rougher + 0.75 * smape_final"
   ]
  },
  {
   "cell_type": "code",
   "execution_count": 31,
   "metadata": {},
   "outputs": [],
   "source": [
    "# разделение обучающей и тестовой выборок на признаки и целевые признаки\n",
    "train = train.dropna().reset_index(drop=True)\n",
    "test = test.dropna().reset_index(drop=True)\n",
    "\n",
    "features_train = train.drop(['rougher.output.recovery', 'final.output.recovery'], axis=1)\n",
    "target_train_rougher = train['rougher.output.recovery']\n",
    "target_train_final = train['final.output.recovery']\n",
    "\n",
    "features_test = test.drop(['rougher.output.recovery', 'final.output.recovery'], axis=1)\n",
    "target_test_rougher = test['rougher.output.recovery']\n",
    "target_test_final = test['final.output.recovery']"
   ]
  },
  {
   "cell_type": "markdown",
   "metadata": {},
   "source": [
    "Обучим несколько моделей, чтобы выбрать модель с наименьшим значением ошибки sMAPE. Чтобы применить сценарий для обработки данных, содержащий стандартизацию признаков, отбор признаков применим функцию ***make_pipeline()***. Для отбора гипермараметров применим функцию **GridSearchCV()**.\n",
    "\n",
    "Для сравнения также обучим простую модель DummyRegressor."
   ]
  },
  {
   "cell_type": "code",
   "execution_count": 32,
   "metadata": {},
   "outputs": [],
   "source": [
    "# функция для определения гиперпараметров моделей для предсказания rougher.output.recovery и final.output.recovery\n",
    "def grid_search(models, parametrs):\n",
    "    params_rougher, params_final = [], []\n",
    "    scorer = make_scorer(sMAPE, greater_is_better=False)\n",
    "\n",
    "    for clf in models:\n",
    "        grid = GridSearchCV(clf, parametrs, cv=5, scoring=scorer)\n",
    "        \n",
    "        grid.fit(features_train, target_train_rougher)\n",
    "        params_rougher.append(grid.best_params_)\n",
    "    \n",
    "        grid.fit(features_train, target_train_final)\n",
    "        params_final.append(grid.best_params_)\n",
    "    \n",
    "    print(\"\\033[1m\" + 'Гиперпараметры для rougher:' + \"\\033[0;0m\", params_rougher)\n",
    "    print(\"\\033[1m\" + 'Гиперпараметры для final:' + \"\\033[0;0m\", params_final)"
   ]
  },
  {
   "cell_type": "code",
   "execution_count": 33,
   "metadata": {},
   "outputs": [],
   "source": [
    "# функция для подбора комбинации моделей на кроссвалидации обучающей выборки с наименьшей sMAPE\n",
    "def train_result_combination(models_rougher, models_final):\n",
    "    scorer = make_scorer(sMAPE, greater_is_better=False) # greater_is_better=False минимизация метрики\n",
    "    best_result = 1\n",
    "    best_model_rougher = None\n",
    "    best_model_final = None\n",
    "    \n",
    "    for model_rougher in models_rougher:\n",
    "        for model_final in models_final:\n",
    "            smape_rougher = cross_val_score(model_rougher, features_train, target_train_rougher, scoring=scorer, cv=5).mean()\n",
    "            smape_final = cross_val_score(model_final, features_train, target_train_final, scoring=scorer, cv=5).mean()\n",
    "            \n",
    "            result = sMAPE_total(smape_rougher, smape_final)\n",
    "            \n",
    "            if abs(result) < best_result:\n",
    "                best_model_rougher = model_rougher\n",
    "                best_model_final = model_final\n",
    "                best_result = abs(result)\n",
    "    \n",
    "    print(\"\\033[1m\" + 'Лучшая модель для rougher:' + \"\\033[0;0m\", best_model_rougher)\n",
    "    print(\"\\033[1m\" + 'Лучшая модель для final:' + \"\\033[0;0m\", best_model_final)\n",
    "    print(\"\\033[1m\" + \"Итоговая sMAPE на обучающей выборке: {:.1%}\".format(best_result) + \"\\033[0;0m\")"
   ]
  },
  {
   "cell_type": "code",
   "execution_count": 34,
   "metadata": {},
   "outputs": [],
   "source": [
    "# функция для вывода итоговой sMAPE по тестовой выборке\n",
    "def test_result(model_rougher, model_final):\n",
    "    model_rougher.fit(features_train, target_train_rougher)\n",
    "    predictions_rougher = model_rougher.predict(features_test)\n",
    "    smape_rougher = sMAPE(target_test_rougher, predictions_rougher)\n",
    "\n",
    "    model_final.fit(features_train, target_train_final)\n",
    "    predictions_final = model_final.predict(features_test)\n",
    "    smape_final = sMAPE(target_test_final, predictions_final)\n",
    "\n",
    "    print(\"\\033[1m\" + \"Итоговая sMAPE на тестовой выборке: {:.1%}\".format(sMAPE_total(smape_rougher, smape_final)) +\"\\033[0;0m\")"
   ]
  },
  {
   "cell_type": "markdown",
   "metadata": {},
   "source": [
    "### DummyRegressor (Простая модель)"
   ]
  },
  {
   "cell_type": "code",
   "execution_count": 35,
   "metadata": {},
   "outputs": [
    {
     "name": "stdout",
     "output_type": "stream",
     "text": [
      "\u001b[1mЛучшая модель для rougher:\u001b[0;0m DummyRegressor(strategy='median')\n",
      "\u001b[1mЛучшая модель для final:\u001b[0;0m DummyRegressor(strategy='median')\n",
      "\u001b[1mИтоговая sMAPE на обучающей выборке: 9.2%\u001b[0;0m\n",
      "\u001b[1mИтоговая sMAPE на тестовой выборке: 7.3%\u001b[0;0m\n"
     ]
    }
   ],
   "source": [
    "dummy = DummyRegressor(strategy=\"median\")\n",
    "train_result_combination(models_rougher = [dummy],\n",
    "                         models_final = [dummy])\n",
    "test_result(dummy, dummy)"
   ]
  },
  {
   "cell_type": "markdown",
   "metadata": {},
   "source": [
    "### Lasso"
   ]
  },
  {
   "cell_type": "code",
   "execution_count": 36,
   "metadata": {},
   "outputs": [],
   "source": [
    "model_1 = make_pipeline(Lasso(random_state=123))\n",
    "\n",
    "model_2 = make_pipeline(StandardScaler(), SelectFromModel(estimator=LinearRegression()), Lasso(random_state=123))\n",
    "\n",
    "model_3 = make_pipeline(SelectFromModel(estimator=LinearRegression()), Lasso(random_state=123))"
   ]
  },
  {
   "cell_type": "code",
   "execution_count": 37,
   "metadata": {},
   "outputs": [
    {
     "name": "stdout",
     "output_type": "stream",
     "text": [
      "\u001b[1mЛучшая модель для rougher:\u001b[0;0m Pipeline(steps=[('standardscaler', StandardScaler()),\n",
      "                ('selectfrommodel',\n",
      "                 SelectFromModel(estimator=LinearRegression())),\n",
      "                ('lasso', Lasso(random_state=123))])\n",
      "\u001b[1mЛучшая модель для final:\u001b[0;0m Pipeline(steps=[('standardscaler', StandardScaler()),\n",
      "                ('selectfrommodel',\n",
      "                 SelectFromModel(estimator=LinearRegression())),\n",
      "                ('lasso', Lasso(random_state=123))])\n",
      "\u001b[1mИтоговая sMAPE на обучающей выборке: 8.3%\u001b[0;0m\n",
      "CPU times: user 31.8 s, sys: 31.4 s, total: 1min 3s\n",
      "Wall time: 1min 3s\n"
     ]
    }
   ],
   "source": [
    "%%time\n",
    "train_result_combination(models_rougher = [model_1, model_2, model_3],\n",
    "                         models_final = [model_1, model_2, model_3])"
   ]
  },
  {
   "cell_type": "markdown",
   "metadata": {},
   "source": [
    "### Ridge"
   ]
  },
  {
   "cell_type": "code",
   "execution_count": 38,
   "metadata": {},
   "outputs": [],
   "source": [
    "model_4 = make_pipeline(Ridge(random_state=123))\n",
    "\n",
    "model_5 = make_pipeline(StandardScaler(), SelectFromModel(estimator=LinearRegression()), Ridge(random_state=123))\n",
    "\n",
    "model_6 = make_pipeline(SelectFromModel(estimator=LinearRegression()), Ridge(random_state=123))"
   ]
  },
  {
   "cell_type": "code",
   "execution_count": 39,
   "metadata": {},
   "outputs": [
    {
     "name": "stdout",
     "output_type": "stream",
     "text": [
      "\u001b[1mЛучшая модель для rougher:\u001b[0;0m Pipeline(steps=[('selectfrommodel',\n",
      "                 SelectFromModel(estimator=LinearRegression())),\n",
      "                ('ridge', Ridge(random_state=123))])\n",
      "\u001b[1mЛучшая модель для final:\u001b[0;0m Pipeline(steps=[('selectfrommodel',\n",
      "                 SelectFromModel(estimator=LinearRegression())),\n",
      "                ('ridge', Ridge(random_state=123))])\n",
      "\u001b[1mИтоговая sMAPE на обучающей выборке: 8.6%\u001b[0;0m\n",
      "CPU times: user 15.5 s, sys: 15 s, total: 30.5 s\n",
      "Wall time: 30.4 s\n"
     ]
    }
   ],
   "source": [
    "%%time\n",
    "train_result_combination(models_rougher = [model_4, model_5, model_6],\n",
    "                         models_final = [model_4, model_5, model_6])"
   ]
  },
  {
   "cell_type": "markdown",
   "metadata": {},
   "source": [
    "### Catboost (Градиентный бустинг)"
   ]
  },
  {
   "cell_type": "code",
   "execution_count": 40,
   "metadata": {},
   "outputs": [],
   "source": [
    "model_7 = make_pipeline(CatBoostRegressor(random_state=123))\n",
    "\n",
    "model_8 = make_pipeline(StandardScaler(), CatBoostRegressor(random_state=123))\n",
    "\n",
    "model_9 = make_pipeline(StandardScaler(),\n",
    "                      SelectFromModel(estimator=RandomForestRegressor(n_estimators=10, random_state=123)),\n",
    "                      CatBoostRegressor(random_state=123))"
   ]
  },
  {
   "cell_type": "code",
   "execution_count": 41,
   "metadata": {},
   "outputs": [
    {
     "name": "stdout",
     "output_type": "stream",
     "text": [
      "Learning rate set to 0.5\n",
      "0:\tlearn: 5.4797990\ttotal: 85.6ms\tremaining: 0us\n",
      "Learning rate set to 0.5\n",
      "0:\tlearn: 5.8951446\ttotal: 27.5ms\tremaining: 0us\n",
      "Learning rate set to 0.5\n",
      "0:\tlearn: 6.4107100\ttotal: 27.8ms\tremaining: 0us\n",
      "Learning rate set to 0.5\n",
      "0:\tlearn: 6.1155235\ttotal: 26.4ms\tremaining: 0us\n",
      "Learning rate set to 0.5\n",
      "0:\tlearn: 5.9319734\ttotal: 26.3ms\tremaining: 0us\n",
      "Learning rate set to 0.5\n",
      "0:\tlearn: 5.4797990\ttotal: 26.3ms\tremaining: 26.3ms\n",
      "1:\tlearn: 4.8349056\ttotal: 51ms\tremaining: 0us\n",
      "Learning rate set to 0.5\n",
      "0:\tlearn: 5.8951446\ttotal: 26.3ms\tremaining: 26.3ms\n",
      "1:\tlearn: 5.1267495\ttotal: 99.1ms\tremaining: 0us\n",
      "Learning rate set to 0.5\n",
      "0:\tlearn: 6.4107100\ttotal: 25.3ms\tremaining: 25.3ms\n",
      "1:\tlearn: 5.5926368\ttotal: 50.1ms\tremaining: 0us\n",
      "Learning rate set to 0.5\n",
      "0:\tlearn: 6.1155235\ttotal: 26ms\tremaining: 26ms\n",
      "1:\tlearn: 5.4053663\ttotal: 51.3ms\tremaining: 0us\n",
      "Learning rate set to 0.5\n",
      "0:\tlearn: 5.9319734\ttotal: 25.3ms\tremaining: 25.3ms\n",
      "1:\tlearn: 5.2263909\ttotal: 51.3ms\tremaining: 0us\n",
      "Learning rate set to 0.5\n",
      "0:\tlearn: 5.4797990\ttotal: 26.8ms\tremaining: 53.6ms\n",
      "1:\tlearn: 4.8349056\ttotal: 52.2ms\tremaining: 26.1ms\n",
      "2:\tlearn: 4.4255966\ttotal: 77.3ms\tremaining: 0us\n",
      "Learning rate set to 0.5\n",
      "0:\tlearn: 5.8951446\ttotal: 24.9ms\tremaining: 49.8ms\n",
      "1:\tlearn: 5.1267495\ttotal: 48.1ms\tremaining: 24ms\n",
      "2:\tlearn: 4.7995267\ttotal: 70.3ms\tremaining: 0us\n",
      "Learning rate set to 0.5\n",
      "0:\tlearn: 6.4107100\ttotal: 24.4ms\tremaining: 48.8ms\n",
      "1:\tlearn: 5.5926368\ttotal: 48.5ms\tremaining: 24.2ms\n",
      "2:\tlearn: 5.1987409\ttotal: 72ms\tremaining: 0us\n",
      "Learning rate set to 0.5\n",
      "0:\tlearn: 6.1155235\ttotal: 25.2ms\tremaining: 50.5ms\n",
      "1:\tlearn: 5.4053663\ttotal: 50.1ms\tremaining: 25.1ms\n",
      "2:\tlearn: 5.0219614\ttotal: 74.1ms\tremaining: 0us\n",
      "Learning rate set to 0.5\n",
      "0:\tlearn: 5.9319734\ttotal: 24.8ms\tremaining: 49.5ms\n",
      "1:\tlearn: 5.2263909\ttotal: 50ms\tremaining: 25ms\n",
      "2:\tlearn: 4.8299399\ttotal: 73.6ms\tremaining: 0us\n",
      "Learning rate set to 0.5\n",
      "0:\tlearn: 5.4797990\ttotal: 26.5ms\tremaining: 79.5ms\n",
      "1:\tlearn: 4.8349056\ttotal: 50.8ms\tremaining: 50.8ms\n",
      "2:\tlearn: 4.4255966\ttotal: 75.4ms\tremaining: 25.1ms\n",
      "3:\tlearn: 4.2119049\ttotal: 100ms\tremaining: 0us\n",
      "Learning rate set to 0.5\n",
      "0:\tlearn: 5.8951446\ttotal: 25.5ms\tremaining: 76.5ms\n",
      "1:\tlearn: 5.1267495\ttotal: 48.8ms\tremaining: 48.8ms\n",
      "2:\tlearn: 4.7995267\ttotal: 70.5ms\tremaining: 23.5ms\n",
      "3:\tlearn: 4.5459771\ttotal: 92.4ms\tremaining: 0us\n",
      "Learning rate set to 0.5\n",
      "0:\tlearn: 6.4107100\ttotal: 25.7ms\tremaining: 77ms\n",
      "1:\tlearn: 5.5926368\ttotal: 49.8ms\tremaining: 49.8ms\n",
      "2:\tlearn: 5.1987409\ttotal: 74ms\tremaining: 24.7ms\n",
      "3:\tlearn: 4.9525287\ttotal: 97.8ms\tremaining: 0us\n",
      "Learning rate set to 0.5\n",
      "0:\tlearn: 6.1155235\ttotal: 25.4ms\tremaining: 76.3ms\n",
      "1:\tlearn: 5.4053663\ttotal: 50.2ms\tremaining: 50.2ms\n",
      "2:\tlearn: 5.0219614\ttotal: 73.9ms\tremaining: 24.6ms\n",
      "3:\tlearn: 4.7614205\ttotal: 96.2ms\tremaining: 0us\n",
      "Learning rate set to 0.5\n",
      "0:\tlearn: 5.9319734\ttotal: 26.2ms\tremaining: 78.5ms\n",
      "1:\tlearn: 5.2263909\ttotal: 52.3ms\tremaining: 52.3ms\n",
      "2:\tlearn: 4.8299399\ttotal: 76.7ms\tremaining: 25.6ms\n",
      "3:\tlearn: 4.5605217\ttotal: 101ms\tremaining: 0us\n",
      "Learning rate set to 0.5\n",
      "0:\tlearn: 5.4797990\ttotal: 26.7ms\tremaining: 107ms\n",
      "1:\tlearn: 4.8349056\ttotal: 52.2ms\tremaining: 78.3ms\n",
      "2:\tlearn: 4.4255966\ttotal: 77.6ms\tremaining: 51.7ms\n",
      "3:\tlearn: 4.2119049\ttotal: 104ms\tremaining: 25.9ms\n",
      "4:\tlearn: 4.0657639\ttotal: 129ms\tremaining: 0us\n",
      "Learning rate set to 0.5\n",
      "0:\tlearn: 5.8951446\ttotal: 27.6ms\tremaining: 111ms\n",
      "1:\tlearn: 5.1267495\ttotal: 52ms\tremaining: 78ms\n",
      "2:\tlearn: 4.7995267\ttotal: 75ms\tremaining: 50ms\n",
      "3:\tlearn: 4.5459771\ttotal: 98.1ms\tremaining: 24.5ms\n",
      "4:\tlearn: 4.3694507\ttotal: 122ms\tremaining: 0us\n",
      "Learning rate set to 0.5\n",
      "0:\tlearn: 6.4107100\ttotal: 25.4ms\tremaining: 101ms\n",
      "1:\tlearn: 5.5926368\ttotal: 50.5ms\tremaining: 75.8ms\n",
      "2:\tlearn: 5.1987409\ttotal: 75.7ms\tremaining: 50.4ms\n",
      "3:\tlearn: 4.9525287\ttotal: 101ms\tremaining: 25.2ms\n",
      "4:\tlearn: 4.7079771\ttotal: 125ms\tremaining: 0us\n",
      "Learning rate set to 0.5\n",
      "0:\tlearn: 6.1155235\ttotal: 26ms\tremaining: 104ms\n",
      "1:\tlearn: 5.4053663\ttotal: 51.9ms\tremaining: 77.8ms\n",
      "2:\tlearn: 5.0219614\ttotal: 77.5ms\tremaining: 51.6ms\n",
      "3:\tlearn: 4.7614205\ttotal: 102ms\tremaining: 25.5ms\n",
      "4:\tlearn: 4.5565618\ttotal: 126ms\tremaining: 0us\n",
      "Learning rate set to 0.5\n",
      "0:\tlearn: 5.9319734\ttotal: 26.6ms\tremaining: 106ms\n",
      "1:\tlearn: 5.2263909\ttotal: 54.1ms\tremaining: 81.1ms\n",
      "2:\tlearn: 4.8299399\ttotal: 78.6ms\tremaining: 52.4ms\n",
      "3:\tlearn: 4.5605217\ttotal: 103ms\tremaining: 25.7ms\n",
      "4:\tlearn: 4.4222071\ttotal: 125ms\tremaining: 0us\n",
      "Learning rate set to 0.5\n",
      "0:\tlearn: 6.0184994\ttotal: 30.9ms\tremaining: 124ms\n",
      "1:\tlearn: 5.3318498\ttotal: 58.7ms\tremaining: 88.1ms\n",
      "2:\tlearn: 4.9802480\ttotal: 84.4ms\tremaining: 56.3ms\n",
      "3:\tlearn: 4.7339735\ttotal: 110ms\tremaining: 27.5ms\n",
      "4:\tlearn: 4.5661707\ttotal: 137ms\tremaining: 0us\n",
      "Learning rate set to 0.5\n",
      "0:\tlearn: 7.3116248\ttotal: 26.1ms\tremaining: 0us\n",
      "Learning rate set to 0.5\n",
      "0:\tlearn: 7.6139109\ttotal: 26.5ms\tremaining: 0us\n",
      "Learning rate set to 0.5\n",
      "0:\tlearn: 7.4828943\ttotal: 25.8ms\tremaining: 0us\n",
      "Learning rate set to 0.5\n",
      "0:\tlearn: 7.4290365\ttotal: 24.9ms\tremaining: 0us\n",
      "Learning rate set to 0.5\n",
      "0:\tlearn: 7.3811187\ttotal: 25.1ms\tremaining: 0us\n",
      "Learning rate set to 0.5\n",
      "0:\tlearn: 7.3116248\ttotal: 26.5ms\tremaining: 26.5ms\n",
      "1:\tlearn: 6.7391653\ttotal: 51.6ms\tremaining: 0us\n",
      "Learning rate set to 0.5\n",
      "0:\tlearn: 7.6139109\ttotal: 25.9ms\tremaining: 25.9ms\n",
      "1:\tlearn: 7.1133696\ttotal: 51.8ms\tremaining: 0us\n",
      "Learning rate set to 0.5\n",
      "0:\tlearn: 7.4828943\ttotal: 25.3ms\tremaining: 25.3ms\n",
      "1:\tlearn: 7.0178161\ttotal: 50.7ms\tremaining: 0us\n",
      "Learning rate set to 0.5\n",
      "0:\tlearn: 7.4290365\ttotal: 25.1ms\tremaining: 25.1ms\n",
      "1:\tlearn: 6.9819476\ttotal: 50.2ms\tremaining: 0us\n",
      "Learning rate set to 0.5\n",
      "0:\tlearn: 7.3811187\ttotal: 24.7ms\tremaining: 24.7ms\n",
      "1:\tlearn: 6.8587691\ttotal: 50.2ms\tremaining: 0us\n",
      "Learning rate set to 0.5\n",
      "0:\tlearn: 7.3116248\ttotal: 26.6ms\tremaining: 53.1ms\n",
      "1:\tlearn: 6.7391653\ttotal: 50.5ms\tremaining: 25.2ms\n",
      "2:\tlearn: 6.4317123\ttotal: 74.8ms\tremaining: 0us\n",
      "Learning rate set to 0.5\n",
      "0:\tlearn: 7.6139109\ttotal: 26.5ms\tremaining: 53ms\n",
      "1:\tlearn: 7.1133696\ttotal: 52.5ms\tremaining: 26.2ms\n",
      "2:\tlearn: 6.7931859\ttotal: 76.6ms\tremaining: 0us\n",
      "Learning rate set to 0.5\n",
      "0:\tlearn: 7.4828943\ttotal: 26.5ms\tremaining: 52.9ms\n",
      "1:\tlearn: 7.0178161\ttotal: 53.1ms\tremaining: 26.6ms\n",
      "2:\tlearn: 6.6468379\ttotal: 78.4ms\tremaining: 0us\n",
      "Learning rate set to 0.5\n",
      "0:\tlearn: 7.4290365\ttotal: 25.5ms\tremaining: 51.1ms\n",
      "1:\tlearn: 6.9819476\ttotal: 50ms\tremaining: 25ms\n",
      "2:\tlearn: 6.6850469\ttotal: 73.6ms\tremaining: 0us\n",
      "Learning rate set to 0.5\n",
      "0:\tlearn: 7.3811187\ttotal: 23.4ms\tremaining: 46.7ms\n",
      "1:\tlearn: 6.8587691\ttotal: 47.8ms\tremaining: 23.9ms\n",
      "2:\tlearn: 6.5154448\ttotal: 71.9ms\tremaining: 0us\n",
      "Learning rate set to 0.5\n",
      "0:\tlearn: 7.3116248\ttotal: 25.2ms\tremaining: 75.5ms\n",
      "1:\tlearn: 6.7391653\ttotal: 48.8ms\tremaining: 48.8ms\n",
      "2:\tlearn: 6.4317123\ttotal: 72.6ms\tremaining: 24.2ms\n",
      "3:\tlearn: 6.2674290\ttotal: 94.9ms\tremaining: 0us\n",
      "Learning rate set to 0.5\n",
      "0:\tlearn: 7.6139109\ttotal: 24.9ms\tremaining: 74.8ms\n",
      "1:\tlearn: 7.1133696\ttotal: 49.7ms\tremaining: 49.7ms\n",
      "2:\tlearn: 6.7931859\ttotal: 73.2ms\tremaining: 24.4ms\n",
      "3:\tlearn: 6.5887237\ttotal: 95.4ms\tremaining: 0us\n",
      "Learning rate set to 0.5\n",
      "0:\tlearn: 7.4828943\ttotal: 25.4ms\tremaining: 76.1ms\n",
      "1:\tlearn: 7.0178161\ttotal: 50.6ms\tremaining: 50.6ms\n",
      "2:\tlearn: 6.6468379\ttotal: 74.3ms\tremaining: 24.8ms\n",
      "3:\tlearn: 6.4606533\ttotal: 96.9ms\tremaining: 0us\n",
      "Learning rate set to 0.5\n",
      "0:\tlearn: 7.4290365\ttotal: 25ms\tremaining: 75ms\n",
      "1:\tlearn: 6.9819476\ttotal: 48.8ms\tremaining: 48.8ms\n",
      "2:\tlearn: 6.6850469\ttotal: 72.5ms\tremaining: 24.2ms\n",
      "3:\tlearn: 6.4619928\ttotal: 95.6ms\tremaining: 0us\n",
      "Learning rate set to 0.5\n",
      "0:\tlearn: 7.3811187\ttotal: 24.8ms\tremaining: 74.3ms\n",
      "1:\tlearn: 6.8587691\ttotal: 50.4ms\tremaining: 50.4ms\n",
      "2:\tlearn: 6.5154448\ttotal: 75.2ms\tremaining: 25.1ms\n",
      "3:\tlearn: 6.2837716\ttotal: 101ms\tremaining: 0us\n",
      "Learning rate set to 0.5\n",
      "0:\tlearn: 7.3116248\ttotal: 37.4ms\tremaining: 150ms\n",
      "1:\tlearn: 6.7391653\ttotal: 73.1ms\tremaining: 110ms\n",
      "2:\tlearn: 6.4317123\ttotal: 106ms\tremaining: 70.6ms\n",
      "3:\tlearn: 6.2674290\ttotal: 141ms\tremaining: 35.3ms\n",
      "4:\tlearn: 6.1460760\ttotal: 176ms\tremaining: 0us\n",
      "Learning rate set to 0.5\n",
      "0:\tlearn: 7.6139109\ttotal: 26.1ms\tremaining: 104ms\n",
      "1:\tlearn: 7.1133696\ttotal: 51.6ms\tremaining: 77.4ms\n",
      "2:\tlearn: 6.7931859\ttotal: 75.2ms\tremaining: 50.1ms\n",
      "3:\tlearn: 6.5887237\ttotal: 105ms\tremaining: 26.3ms\n",
      "4:\tlearn: 6.4367742\ttotal: 130ms\tremaining: 0us\n",
      "Learning rate set to 0.5\n",
      "0:\tlearn: 7.4828943\ttotal: 25.2ms\tremaining: 101ms\n",
      "1:\tlearn: 7.0178161\ttotal: 50.6ms\tremaining: 75.9ms\n",
      "2:\tlearn: 6.6468379\ttotal: 74.1ms\tremaining: 49.4ms\n",
      "3:\tlearn: 6.4606533\ttotal: 96.9ms\tremaining: 24.2ms\n",
      "4:\tlearn: 6.2951653\ttotal: 120ms\tremaining: 0us\n",
      "Learning rate set to 0.5\n",
      "0:\tlearn: 7.4290365\ttotal: 25.7ms\tremaining: 103ms\n",
      "1:\tlearn: 6.9819476\ttotal: 49.6ms\tremaining: 74.5ms\n",
      "2:\tlearn: 6.6850469\ttotal: 74.5ms\tremaining: 49.6ms\n",
      "3:\tlearn: 6.4619928\ttotal: 109ms\tremaining: 27.2ms\n",
      "4:\tlearn: 6.2648974\ttotal: 146ms\tremaining: 0us\n",
      "Learning rate set to 0.5\n",
      "0:\tlearn: 7.3811187\ttotal: 25.1ms\tremaining: 100ms\n",
      "1:\tlearn: 6.8587691\ttotal: 50.6ms\tremaining: 75.9ms\n",
      "2:\tlearn: 6.5154448\ttotal: 75.6ms\tremaining: 50.4ms\n",
      "3:\tlearn: 6.2837716\ttotal: 102ms\tremaining: 25.4ms\n",
      "4:\tlearn: 6.1165415\ttotal: 125ms\tremaining: 0us\n",
      "Learning rate set to 0.5\n",
      "0:\tlearn: 7.4642114\ttotal: 29.6ms\tremaining: 59.2ms\n",
      "1:\tlearn: 7.0171803\ttotal: 57.1ms\tremaining: 28.6ms\n",
      "2:\tlearn: 6.7483475\ttotal: 81.2ms\tremaining: 0us\n",
      "Learning rate set to 0.5\n",
      "0:\tlearn: 5.4797990\ttotal: 26.9ms\tremaining: 0us\n",
      "Learning rate set to 0.5\n",
      "0:\tlearn: 5.8951446\ttotal: 26.1ms\tremaining: 0us\n",
      "Learning rate set to 0.5\n",
      "0:\tlearn: 6.4107100\ttotal: 25.7ms\tremaining: 0us\n",
      "Learning rate set to 0.5\n",
      "0:\tlearn: 6.1155235\ttotal: 27.4ms\tremaining: 0us\n",
      "Learning rate set to 0.5\n",
      "0:\tlearn: 5.9319734\ttotal: 25.9ms\tremaining: 0us\n",
      "Learning rate set to 0.5\n",
      "0:\tlearn: 5.4797990\ttotal: 27.2ms\tremaining: 27.2ms\n",
      "1:\tlearn: 4.8349056\ttotal: 53.2ms\tremaining: 0us\n",
      "Learning rate set to 0.5\n",
      "0:\tlearn: 5.8951446\ttotal: 26.2ms\tremaining: 26.2ms\n",
      "1:\tlearn: 5.1267495\ttotal: 50.4ms\tremaining: 0us\n",
      "Learning rate set to 0.5\n",
      "0:\tlearn: 6.4107100\ttotal: 25.8ms\tremaining: 25.8ms\n",
      "1:\tlearn: 5.5924906\ttotal: 51.4ms\tremaining: 0us\n",
      "Learning rate set to 0.5\n",
      "0:\tlearn: 6.1155235\ttotal: 26.3ms\tremaining: 26.3ms\n",
      "1:\tlearn: 5.3995517\ttotal: 52.1ms\tremaining: 0us\n",
      "Learning rate set to 0.5\n",
      "0:\tlearn: 5.9319734\ttotal: 26.6ms\tremaining: 26.6ms\n",
      "1:\tlearn: 5.2263909\ttotal: 53.9ms\tremaining: 0us\n",
      "Learning rate set to 0.5\n",
      "0:\tlearn: 5.4797990\ttotal: 26.9ms\tremaining: 53.7ms\n",
      "1:\tlearn: 4.8349056\ttotal: 51.3ms\tremaining: 25.6ms\n",
      "2:\tlearn: 4.4255966\ttotal: 76.5ms\tremaining: 0us\n",
      "Learning rate set to 0.5\n",
      "0:\tlearn: 5.8951446\ttotal: 24.6ms\tremaining: 49.2ms\n",
      "1:\tlearn: 5.1267495\ttotal: 47.6ms\tremaining: 23.8ms\n",
      "2:\tlearn: 4.7995267\ttotal: 70ms\tremaining: 0us\n",
      "Learning rate set to 0.5\n",
      "0:\tlearn: 6.4107100\ttotal: 25.2ms\tremaining: 50.5ms\n",
      "1:\tlearn: 5.5924906\ttotal: 50.1ms\tremaining: 25.1ms\n",
      "2:\tlearn: 5.1985308\ttotal: 75.2ms\tremaining: 0us\n",
      "Learning rate set to 0.5\n",
      "0:\tlearn: 6.1155235\ttotal: 26.8ms\tremaining: 53.6ms\n",
      "1:\tlearn: 5.3995517\ttotal: 52.9ms\tremaining: 26.5ms\n",
      "2:\tlearn: 5.0331402\ttotal: 80.2ms\tremaining: 0us\n",
      "Learning rate set to 0.5\n",
      "0:\tlearn: 5.9319734\ttotal: 26.2ms\tremaining: 52.4ms\n",
      "1:\tlearn: 5.2263909\ttotal: 52.5ms\tremaining: 26.2ms\n",
      "2:\tlearn: 4.8326670\ttotal: 77.2ms\tremaining: 0us\n",
      "Learning rate set to 0.5\n",
      "0:\tlearn: 5.4797990\ttotal: 25.9ms\tremaining: 77.8ms\n",
      "1:\tlearn: 4.8349056\ttotal: 50.3ms\tremaining: 50.3ms\n",
      "2:\tlearn: 4.4255966\ttotal: 75.5ms\tremaining: 25.2ms\n",
      "3:\tlearn: 4.2127611\ttotal: 101ms\tremaining: 0us\n",
      "Learning rate set to 0.5\n",
      "0:\tlearn: 5.8951446\ttotal: 25.8ms\tremaining: 77.4ms\n",
      "1:\tlearn: 5.1267495\ttotal: 49.9ms\tremaining: 49.9ms\n",
      "2:\tlearn: 4.7995267\ttotal: 72.2ms\tremaining: 24.1ms\n",
      "3:\tlearn: 4.5459429\ttotal: 94.6ms\tremaining: 0us\n",
      "Learning rate set to 0.5\n",
      "0:\tlearn: 6.4107100\ttotal: 25.4ms\tremaining: 76.1ms\n",
      "1:\tlearn: 5.5924906\ttotal: 51.1ms\tremaining: 51.1ms\n",
      "2:\tlearn: 5.1985308\ttotal: 76.5ms\tremaining: 25.5ms\n",
      "3:\tlearn: 4.9524399\ttotal: 100ms\tremaining: 0us\n",
      "Learning rate set to 0.5\n",
      "0:\tlearn: 6.1155235\ttotal: 25ms\tremaining: 75.1ms\n",
      "1:\tlearn: 5.3995517\ttotal: 49.4ms\tremaining: 49.4ms\n",
      "2:\tlearn: 5.0331402\ttotal: 73.4ms\tremaining: 24.5ms\n",
      "3:\tlearn: 4.7575307\ttotal: 97.3ms\tremaining: 0us\n",
      "Learning rate set to 0.5\n",
      "0:\tlearn: 5.9319734\ttotal: 25ms\tremaining: 74.9ms\n",
      "1:\tlearn: 5.2263909\ttotal: 50.2ms\tremaining: 50.2ms\n",
      "2:\tlearn: 4.8326670\ttotal: 73.8ms\tremaining: 24.6ms\n",
      "3:\tlearn: 4.5952016\ttotal: 96.5ms\tremaining: 0us\n",
      "Learning rate set to 0.5\n",
      "0:\tlearn: 5.4797990\ttotal: 26.6ms\tremaining: 106ms\n",
      "1:\tlearn: 4.8349056\ttotal: 51.3ms\tremaining: 76.9ms\n",
      "2:\tlearn: 4.4255966\ttotal: 76ms\tremaining: 50.7ms\n",
      "3:\tlearn: 4.2127611\ttotal: 101ms\tremaining: 25.3ms\n",
      "4:\tlearn: 4.0770975\ttotal: 125ms\tremaining: 0us\n",
      "Learning rate set to 0.5\n",
      "0:\tlearn: 5.8951446\ttotal: 25.4ms\tremaining: 102ms\n",
      "1:\tlearn: 5.1267495\ttotal: 50ms\tremaining: 74.9ms\n",
      "2:\tlearn: 4.7995267\ttotal: 73.6ms\tremaining: 49.1ms\n",
      "3:\tlearn: 4.5459429\ttotal: 96.5ms\tremaining: 24.1ms\n",
      "4:\tlearn: 4.3694260\ttotal: 131ms\tremaining: 0us\n",
      "Learning rate set to 0.5\n",
      "0:\tlearn: 6.4107100\ttotal: 24.6ms\tremaining: 98.4ms\n",
      "1:\tlearn: 5.5924906\ttotal: 49.3ms\tremaining: 73.9ms\n",
      "2:\tlearn: 5.1985308\ttotal: 73.5ms\tremaining: 49ms\n",
      "3:\tlearn: 4.9524399\ttotal: 97.4ms\tremaining: 24.4ms\n",
      "4:\tlearn: 4.7079145\ttotal: 122ms\tremaining: 0us\n",
      "Learning rate set to 0.5\n",
      "0:\tlearn: 6.1155235\ttotal: 25.6ms\tremaining: 102ms\n",
      "1:\tlearn: 5.3995517\ttotal: 51.5ms\tremaining: 77.3ms\n",
      "2:\tlearn: 5.0331402\ttotal: 76.8ms\tremaining: 51.2ms\n",
      "3:\tlearn: 4.7575307\ttotal: 101ms\tremaining: 25.3ms\n",
      "4:\tlearn: 4.5643455\ttotal: 125ms\tremaining: 0us\n",
      "Learning rate set to 0.5\n",
      "0:\tlearn: 5.9319734\ttotal: 25.2ms\tremaining: 101ms\n",
      "1:\tlearn: 5.2263909\ttotal: 51.4ms\tremaining: 77.1ms\n",
      "2:\tlearn: 4.8326670\ttotal: 75.9ms\tremaining: 50.6ms\n",
      "3:\tlearn: 4.5952016\ttotal: 99.3ms\tremaining: 24.8ms\n",
      "4:\tlearn: 4.4169273\ttotal: 124ms\tremaining: 0us\n",
      "Learning rate set to 0.5\n",
      "0:\tlearn: 6.0187447\ttotal: 28.1ms\tremaining: 112ms\n",
      "1:\tlearn: 5.3033151\ttotal: 55.8ms\tremaining: 83.7ms\n",
      "2:\tlearn: 4.9650671\ttotal: 81.9ms\tremaining: 54.6ms\n",
      "3:\tlearn: 4.7449895\ttotal: 109ms\tremaining: 27.3ms\n",
      "4:\tlearn: 4.5642653\ttotal: 136ms\tremaining: 0us\n",
      "Learning rate set to 0.5\n",
      "0:\tlearn: 7.3130001\ttotal: 26.1ms\tremaining: 0us\n",
      "Learning rate set to 0.5\n",
      "0:\tlearn: 7.6139109\ttotal: 26.3ms\tremaining: 0us\n",
      "Learning rate set to 0.5\n",
      "0:\tlearn: 7.4828943\ttotal: 25.2ms\tremaining: 0us\n",
      "Learning rate set to 0.5\n",
      "0:\tlearn: 7.4216703\ttotal: 24.7ms\tremaining: 0us\n",
      "Learning rate set to 0.5\n",
      "0:\tlearn: 7.3775699\ttotal: 25.6ms\tremaining: 0us\n",
      "Learning rate set to 0.5\n",
      "0:\tlearn: 7.3130001\ttotal: 26.1ms\tremaining: 26.1ms\n",
      "1:\tlearn: 6.7436850\ttotal: 50.8ms\tremaining: 0us\n",
      "Learning rate set to 0.5\n",
      "0:\tlearn: 7.6139109\ttotal: 26.4ms\tremaining: 26.4ms\n",
      "1:\tlearn: 7.0681817\ttotal: 51.9ms\tremaining: 0us\n",
      "Learning rate set to 0.5\n",
      "0:\tlearn: 7.4828943\ttotal: 25.1ms\tremaining: 25.1ms\n",
      "1:\tlearn: 6.9719609\ttotal: 49.7ms\tremaining: 0us\n",
      "Learning rate set to 0.5\n",
      "0:\tlearn: 7.4216703\ttotal: 25ms\tremaining: 25ms\n",
      "1:\tlearn: 6.9755894\ttotal: 48.4ms\tremaining: 0us\n",
      "Learning rate set to 0.5\n",
      "0:\tlearn: 7.3775699\ttotal: 24.9ms\tremaining: 24.9ms\n",
      "1:\tlearn: 6.8553036\ttotal: 50.3ms\tremaining: 0us\n",
      "Learning rate set to 0.5\n",
      "0:\tlearn: 7.3130001\ttotal: 25.5ms\tremaining: 51ms\n",
      "1:\tlearn: 6.7436850\ttotal: 49.8ms\tremaining: 24.9ms\n",
      "2:\tlearn: 6.5036194\ttotal: 73.8ms\tremaining: 0us\n",
      "Learning rate set to 0.5\n",
      "0:\tlearn: 7.6139109\ttotal: 26.1ms\tremaining: 52.3ms\n",
      "1:\tlearn: 7.0681817\ttotal: 51.8ms\tremaining: 25.9ms\n",
      "2:\tlearn: 6.7714456\ttotal: 76ms\tremaining: 0us\n",
      "Learning rate set to 0.5\n",
      "0:\tlearn: 7.4828943\ttotal: 25.8ms\tremaining: 51.5ms\n",
      "1:\tlearn: 6.9719609\ttotal: 50.5ms\tremaining: 25.2ms\n",
      "2:\tlearn: 6.6687107\ttotal: 73.4ms\tremaining: 0us\n",
      "Learning rate set to 0.5\n",
      "0:\tlearn: 7.4216703\ttotal: 23.8ms\tremaining: 47.6ms\n",
      "1:\tlearn: 6.9755894\ttotal: 46.4ms\tremaining: 23.2ms\n",
      "2:\tlearn: 6.6876323\ttotal: 68.7ms\tremaining: 0us\n",
      "Learning rate set to 0.5\n",
      "0:\tlearn: 7.3775699\ttotal: 23.9ms\tremaining: 47.8ms\n",
      "1:\tlearn: 6.8553036\ttotal: 48.6ms\tremaining: 24.3ms\n",
      "2:\tlearn: 6.5119230\ttotal: 72.7ms\tremaining: 0us\n",
      "Learning rate set to 0.5\n",
      "0:\tlearn: 7.3130001\ttotal: 25.7ms\tremaining: 77.1ms\n",
      "1:\tlearn: 6.7436850\ttotal: 50ms\tremaining: 50ms\n",
      "2:\tlearn: 6.5036194\ttotal: 73.2ms\tremaining: 24.4ms\n",
      "3:\tlearn: 6.2900617\ttotal: 95.5ms\tremaining: 0us\n",
      "Learning rate set to 0.5\n",
      "0:\tlearn: 7.6139109\ttotal: 25.9ms\tremaining: 77.8ms\n",
      "1:\tlearn: 7.0681817\ttotal: 50.7ms\tremaining: 50.7ms\n",
      "2:\tlearn: 6.7714456\ttotal: 74.5ms\tremaining: 24.8ms\n",
      "3:\tlearn: 6.5518891\ttotal: 97.9ms\tremaining: 0us\n",
      "Learning rate set to 0.5\n",
      "0:\tlearn: 7.4828943\ttotal: 25.6ms\tremaining: 76.8ms\n",
      "1:\tlearn: 6.9719609\ttotal: 50.5ms\tremaining: 50.5ms\n",
      "2:\tlearn: 6.6687107\ttotal: 74.1ms\tremaining: 24.7ms\n",
      "3:\tlearn: 6.4820418\ttotal: 95.5ms\tremaining: 0us\n",
      "Learning rate set to 0.5\n",
      "0:\tlearn: 7.4216703\ttotal: 25ms\tremaining: 75ms\n",
      "1:\tlearn: 6.9755894\ttotal: 49ms\tremaining: 49ms\n",
      "2:\tlearn: 6.6876323\ttotal: 72.8ms\tremaining: 24.3ms\n",
      "3:\tlearn: 6.4539965\ttotal: 96.1ms\tremaining: 0us\n",
      "Learning rate set to 0.5\n",
      "0:\tlearn: 7.3775699\ttotal: 25.5ms\tremaining: 76.4ms\n",
      "1:\tlearn: 6.8553036\ttotal: 51.3ms\tremaining: 51.3ms\n",
      "2:\tlearn: 6.5119230\ttotal: 76.1ms\tremaining: 25.4ms\n",
      "3:\tlearn: 6.2887259\ttotal: 101ms\tremaining: 0us\n",
      "Learning rate set to 0.5\n",
      "0:\tlearn: 7.3130001\ttotal: 25.9ms\tremaining: 104ms\n",
      "1:\tlearn: 6.7436850\ttotal: 50.1ms\tremaining: 75.1ms\n",
      "2:\tlearn: 6.5036194\ttotal: 73.7ms\tremaining: 49.1ms\n",
      "3:\tlearn: 6.2900617\ttotal: 96.3ms\tremaining: 24.1ms\n",
      "4:\tlearn: 6.1587738\ttotal: 119ms\tremaining: 0us\n",
      "Learning rate set to 0.5\n",
      "0:\tlearn: 7.6139109\ttotal: 25.8ms\tremaining: 103ms\n",
      "1:\tlearn: 7.0681817\ttotal: 51ms\tremaining: 76.5ms\n",
      "2:\tlearn: 6.7714456\ttotal: 74.6ms\tremaining: 49.8ms\n",
      "3:\tlearn: 6.5518891\ttotal: 98.2ms\tremaining: 24.5ms\n",
      "4:\tlearn: 6.4136341\ttotal: 121ms\tremaining: 0us\n",
      "Learning rate set to 0.5\n",
      "0:\tlearn: 7.4828943\ttotal: 25.4ms\tremaining: 102ms\n",
      "1:\tlearn: 6.9719609\ttotal: 50.6ms\tremaining: 75.8ms\n",
      "2:\tlearn: 6.6687107\ttotal: 74.6ms\tremaining: 49.7ms\n",
      "3:\tlearn: 6.4820418\ttotal: 96.8ms\tremaining: 24.2ms\n",
      "4:\tlearn: 6.3188661\ttotal: 121ms\tremaining: 0us\n",
      "Learning rate set to 0.5\n",
      "0:\tlearn: 7.4216703\ttotal: 24.2ms\tremaining: 96.7ms\n",
      "1:\tlearn: 6.9755894\ttotal: 47ms\tremaining: 70.5ms\n",
      "2:\tlearn: 6.6876323\ttotal: 70.3ms\tremaining: 46.8ms\n",
      "3:\tlearn: 6.4539965\ttotal: 93.8ms\tremaining: 23.4ms\n",
      "4:\tlearn: 6.3035729\ttotal: 119ms\tremaining: 0us\n",
      "Learning rate set to 0.5\n",
      "0:\tlearn: 7.3775699\ttotal: 25.1ms\tremaining: 101ms\n",
      "1:\tlearn: 6.8553036\ttotal: 50.7ms\tremaining: 76.1ms\n",
      "2:\tlearn: 6.5119230\ttotal: 75.5ms\tremaining: 50.4ms\n",
      "3:\tlearn: 6.2887259\ttotal: 99.7ms\tremaining: 24.9ms\n",
      "4:\tlearn: 6.1523292\ttotal: 124ms\tremaining: 0us\n",
      "Learning rate set to 0.5\n",
      "0:\tlearn: 7.4624897\ttotal: 28.9ms\tremaining: 115ms\n",
      "1:\tlearn: 6.9771337\ttotal: 56.2ms\tremaining: 84.4ms\n",
      "2:\tlearn: 6.7186920\ttotal: 82.2ms\tremaining: 54.8ms\n",
      "3:\tlearn: 6.5644703\ttotal: 107ms\tremaining: 26.8ms\n",
      "4:\tlearn: 6.4375654\ttotal: 131ms\tremaining: 0us\n",
      "Learning rate set to 0.5\n",
      "0:\tlearn: 5.5247926\ttotal: 6.39ms\tremaining: 0us\n",
      "Learning rate set to 0.5\n",
      "0:\tlearn: 5.8937160\ttotal: 7.74ms\tremaining: 0us\n",
      "Learning rate set to 0.5\n",
      "0:\tlearn: 6.4785014\ttotal: 6.71ms\tremaining: 0us\n",
      "Learning rate set to 0.5\n",
      "0:\tlearn: 6.2215281\ttotal: 6.14ms\tremaining: 0us\n",
      "Learning rate set to 0.5\n",
      "0:\tlearn: 5.9460719\ttotal: 5.74ms\tremaining: 0us\n",
      "Learning rate set to 0.5\n",
      "0:\tlearn: 5.5247926\ttotal: 6.67ms\tremaining: 6.67ms\n",
      "1:\tlearn: 4.8043301\ttotal: 12.7ms\tremaining: 0us\n",
      "Learning rate set to 0.5\n",
      "0:\tlearn: 5.8937160\ttotal: 7.89ms\tremaining: 7.89ms\n",
      "1:\tlearn: 5.2836352\ttotal: 15ms\tremaining: 0us\n",
      "Learning rate set to 0.5\n",
      "0:\tlearn: 6.4785014\ttotal: 6.72ms\tremaining: 6.72ms\n",
      "1:\tlearn: 5.7010343\ttotal: 13.1ms\tremaining: 0us\n",
      "Learning rate set to 0.5\n",
      "0:\tlearn: 6.2215281\ttotal: 6.39ms\tremaining: 6.39ms\n",
      "1:\tlearn: 5.4970122\ttotal: 12.1ms\tremaining: 0us\n",
      "Learning rate set to 0.5\n",
      "0:\tlearn: 5.9460719\ttotal: 5.67ms\tremaining: 5.67ms\n",
      "1:\tlearn: 5.3410360\ttotal: 10.8ms\tremaining: 0us\n",
      "Learning rate set to 0.5\n",
      "0:\tlearn: 5.5247926\ttotal: 6.73ms\tremaining: 13.5ms\n",
      "1:\tlearn: 4.8043301\ttotal: 12.6ms\tremaining: 6.32ms\n",
      "2:\tlearn: 4.4717009\ttotal: 18.7ms\tremaining: 0us\n",
      "Learning rate set to 0.5\n",
      "0:\tlearn: 5.8937160\ttotal: 7.75ms\tremaining: 15.5ms\n",
      "1:\tlearn: 5.2836352\ttotal: 15ms\tremaining: 7.49ms\n",
      "2:\tlearn: 4.8957148\ttotal: 22.2ms\tremaining: 0us\n",
      "Learning rate set to 0.5\n",
      "0:\tlearn: 6.4785014\ttotal: 6.88ms\tremaining: 13.8ms\n",
      "1:\tlearn: 5.7010343\ttotal: 12.9ms\tremaining: 6.46ms\n",
      "2:\tlearn: 5.2206692\ttotal: 19.2ms\tremaining: 0us\n",
      "Learning rate set to 0.5\n",
      "0:\tlearn: 6.2215281\ttotal: 6.04ms\tremaining: 12.1ms\n",
      "1:\tlearn: 5.4970122\ttotal: 11.4ms\tremaining: 5.71ms\n",
      "2:\tlearn: 5.1914435\ttotal: 16.5ms\tremaining: 0us\n",
      "Learning rate set to 0.5\n",
      "0:\tlearn: 5.9460719\ttotal: 5.73ms\tremaining: 11.5ms\n",
      "1:\tlearn: 5.3410360\ttotal: 11ms\tremaining: 5.48ms\n",
      "2:\tlearn: 5.0623249\ttotal: 15.8ms\tremaining: 0us\n",
      "Learning rate set to 0.5\n",
      "0:\tlearn: 5.5247926\ttotal: 6.18ms\tremaining: 18.6ms\n",
      "1:\tlearn: 4.8043301\ttotal: 12.4ms\tremaining: 12.4ms\n",
      "2:\tlearn: 4.4717009\ttotal: 18.4ms\tremaining: 6.14ms\n",
      "3:\tlearn: 4.2807276\ttotal: 24.2ms\tremaining: 0us\n",
      "Learning rate set to 0.5\n",
      "0:\tlearn: 5.8937160\ttotal: 7.84ms\tremaining: 23.5ms\n",
      "1:\tlearn: 5.2836352\ttotal: 15.1ms\tremaining: 15.1ms\n",
      "2:\tlearn: 4.8957148\ttotal: 22.1ms\tremaining: 7.37ms\n",
      "3:\tlearn: 4.6927863\ttotal: 29.1ms\tremaining: 0us\n",
      "Learning rate set to 0.5\n",
      "0:\tlearn: 6.4785014\ttotal: 6.7ms\tremaining: 20.1ms\n",
      "1:\tlearn: 5.7010343\ttotal: 12.7ms\tremaining: 12.7ms\n",
      "2:\tlearn: 5.2206692\ttotal: 18.5ms\tremaining: 6.17ms\n",
      "3:\tlearn: 4.9595185\ttotal: 24.3ms\tremaining: 0us\n",
      "Learning rate set to 0.5\n",
      "0:\tlearn: 6.2215281\ttotal: 5.81ms\tremaining: 17.4ms\n",
      "1:\tlearn: 5.4970122\ttotal: 11.3ms\tremaining: 11.3ms\n",
      "2:\tlearn: 5.1914435\ttotal: 16.7ms\tremaining: 5.56ms\n",
      "3:\tlearn: 4.9805439\ttotal: 21.9ms\tremaining: 0us\n",
      "Learning rate set to 0.5\n",
      "0:\tlearn: 5.9460719\ttotal: 5.57ms\tremaining: 16.7ms\n",
      "1:\tlearn: 5.3410360\ttotal: 10.4ms\tremaining: 10.4ms\n",
      "2:\tlearn: 5.0623249\ttotal: 15ms\tremaining: 4.99ms\n",
      "3:\tlearn: 4.8676197\ttotal: 19.8ms\tremaining: 0us\n",
      "Learning rate set to 0.5\n",
      "0:\tlearn: 5.5247926\ttotal: 6.18ms\tremaining: 24.7ms\n",
      "1:\tlearn: 4.8043301\ttotal: 12.2ms\tremaining: 18.2ms\n",
      "2:\tlearn: 4.4717009\ttotal: 17.7ms\tremaining: 11.8ms\n",
      "3:\tlearn: 4.2807276\ttotal: 23.2ms\tremaining: 5.79ms\n",
      "4:\tlearn: 4.1702988\ttotal: 28.7ms\tremaining: 0us\n",
      "Learning rate set to 0.5\n",
      "0:\tlearn: 5.8937160\ttotal: 8.38ms\tremaining: 33.5ms\n",
      "1:\tlearn: 5.2836352\ttotal: 15.4ms\tremaining: 23.2ms\n",
      "2:\tlearn: 4.8957148\ttotal: 22.4ms\tremaining: 15ms\n",
      "3:\tlearn: 4.6927863\ttotal: 29.1ms\tremaining: 7.29ms\n",
      "4:\tlearn: 4.4831985\ttotal: 35.8ms\tremaining: 0us\n",
      "Learning rate set to 0.5\n",
      "0:\tlearn: 6.4785014\ttotal: 7.12ms\tremaining: 28.5ms\n",
      "1:\tlearn: 5.7010343\ttotal: 13.3ms\tremaining: 19.9ms\n",
      "2:\tlearn: 5.2206692\ttotal: 19.2ms\tremaining: 12.8ms\n",
      "3:\tlearn: 4.9595185\ttotal: 25.3ms\tremaining: 6.34ms\n",
      "4:\tlearn: 4.7910511\ttotal: 31.4ms\tremaining: 0us\n",
      "Learning rate set to 0.5\n",
      "0:\tlearn: 6.2215281\ttotal: 6.21ms\tremaining: 24.8ms\n",
      "1:\tlearn: 5.4970122\ttotal: 11.8ms\tremaining: 17.7ms\n",
      "2:\tlearn: 5.1914435\ttotal: 16.8ms\tremaining: 11.2ms\n",
      "3:\tlearn: 4.9805439\ttotal: 21.7ms\tremaining: 5.42ms\n",
      "4:\tlearn: 4.8300475\ttotal: 26.5ms\tremaining: 0us\n",
      "Learning rate set to 0.5\n",
      "0:\tlearn: 5.9460719\ttotal: 5.38ms\tremaining: 21.5ms\n",
      "1:\tlearn: 5.3410360\ttotal: 10.5ms\tremaining: 15.7ms\n",
      "2:\tlearn: 5.0623249\ttotal: 15.5ms\tremaining: 10.3ms\n",
      "3:\tlearn: 4.8676197\ttotal: 20.6ms\tremaining: 5.16ms\n",
      "4:\tlearn: 4.7278274\ttotal: 25.5ms\tremaining: 0us\n",
      "Learning rate set to 0.5\n",
      "0:\tlearn: 6.0824389\ttotal: 6.27ms\tremaining: 25.1ms\n",
      "1:\tlearn: 5.3840258\ttotal: 12ms\tremaining: 18.1ms\n",
      "2:\tlearn: 5.0500417\ttotal: 17.4ms\tremaining: 11.6ms\n",
      "3:\tlearn: 4.8647611\ttotal: 22.6ms\tremaining: 5.66ms\n",
      "4:\tlearn: 4.7221872\ttotal: 28ms\tremaining: 0us\n",
      "Learning rate set to 0.5\n",
      "0:\tlearn: 7.2615917\ttotal: 7.56ms\tremaining: 0us\n",
      "Learning rate set to 0.5\n",
      "0:\tlearn: 7.6174782\ttotal: 8.89ms\tremaining: 0us\n",
      "Learning rate set to 0.5\n",
      "0:\tlearn: 7.5138590\ttotal: 7.29ms\tremaining: 0us\n",
      "Learning rate set to 0.5\n",
      "0:\tlearn: 7.4134676\ttotal: 8.77ms\tremaining: 0us\n",
      "Learning rate set to 0.5\n",
      "0:\tlearn: 7.2816343\ttotal: 7.22ms\tremaining: 0us\n",
      "Learning rate set to 0.5\n",
      "0:\tlearn: 7.2615917\ttotal: 7.46ms\tremaining: 7.46ms\n",
      "1:\tlearn: 6.7531252\ttotal: 14.8ms\tremaining: 0us\n",
      "Learning rate set to 0.5\n",
      "0:\tlearn: 7.6174782\ttotal: 8.43ms\tremaining: 8.43ms\n",
      "1:\tlearn: 7.0631018\ttotal: 16.8ms\tremaining: 0us\n",
      "Learning rate set to 0.5\n",
      "0:\tlearn: 7.5138590\ttotal: 10.1ms\tremaining: 10.1ms\n",
      "1:\tlearn: 7.0112271\ttotal: 20.2ms\tremaining: 0us\n",
      "Learning rate set to 0.5\n",
      "0:\tlearn: 7.4134676\ttotal: 8.76ms\tremaining: 8.76ms\n",
      "1:\tlearn: 6.9630605\ttotal: 17.1ms\tremaining: 0us\n",
      "Learning rate set to 0.5\n",
      "0:\tlearn: 7.2816343\ttotal: 7.09ms\tremaining: 7.09ms\n",
      "1:\tlearn: 6.8035629\ttotal: 13.4ms\tremaining: 0us\n",
      "Learning rate set to 0.5\n",
      "0:\tlearn: 7.2615917\ttotal: 8.1ms\tremaining: 16.2ms\n",
      "1:\tlearn: 6.7531252\ttotal: 15.1ms\tremaining: 7.57ms\n",
      "2:\tlearn: 6.4795493\ttotal: 22.4ms\tremaining: 0us\n",
      "Learning rate set to 0.5\n",
      "0:\tlearn: 7.6174782\ttotal: 8.58ms\tremaining: 17.2ms\n",
      "1:\tlearn: 7.0631018\ttotal: 16.9ms\tremaining: 8.45ms\n",
      "2:\tlearn: 6.8225397\ttotal: 25.1ms\tremaining: 0us\n",
      "Learning rate set to 0.5\n",
      "0:\tlearn: 7.5138590\ttotal: 6.94ms\tremaining: 13.9ms\n",
      "1:\tlearn: 7.0112271\ttotal: 13.6ms\tremaining: 6.78ms\n",
      "2:\tlearn: 6.7175397\ttotal: 20.3ms\tremaining: 0us\n",
      "Learning rate set to 0.5\n",
      "0:\tlearn: 7.4134676\ttotal: 8.54ms\tremaining: 17.1ms\n",
      "1:\tlearn: 6.9630605\ttotal: 16.3ms\tremaining: 8.16ms\n",
      "2:\tlearn: 6.6677117\ttotal: 23.9ms\tremaining: 0us\n",
      "Learning rate set to 0.5\n",
      "0:\tlearn: 7.2816343\ttotal: 7.04ms\tremaining: 14.1ms\n",
      "1:\tlearn: 6.8035629\ttotal: 13.7ms\tremaining: 6.85ms\n",
      "2:\tlearn: 6.5087042\ttotal: 20ms\tremaining: 0us\n",
      "Learning rate set to 0.5\n",
      "0:\tlearn: 7.2615917\ttotal: 7.68ms\tremaining: 23ms\n",
      "1:\tlearn: 6.7531252\ttotal: 14.8ms\tremaining: 14.8ms\n",
      "2:\tlearn: 6.4795493\ttotal: 21.7ms\tremaining: 7.23ms\n",
      "3:\tlearn: 6.3082656\ttotal: 28.6ms\tremaining: 0us\n",
      "Learning rate set to 0.5\n",
      "0:\tlearn: 7.6174782\ttotal: 8.53ms\tremaining: 25.6ms\n",
      "1:\tlearn: 7.0631018\ttotal: 16.6ms\tremaining: 16.6ms\n",
      "2:\tlearn: 6.8225397\ttotal: 24.6ms\tremaining: 8.19ms\n",
      "3:\tlearn: 6.6591356\ttotal: 32.4ms\tremaining: 0us\n",
      "Learning rate set to 0.5\n",
      "0:\tlearn: 7.5138590\ttotal: 7.24ms\tremaining: 21.7ms\n",
      "1:\tlearn: 7.0112271\ttotal: 13.8ms\tremaining: 13.8ms\n",
      "2:\tlearn: 6.7175397\ttotal: 20.6ms\tremaining: 6.88ms\n",
      "3:\tlearn: 6.5505200\ttotal: 26.9ms\tremaining: 0us\n",
      "Learning rate set to 0.5\n",
      "0:\tlearn: 7.4134676\ttotal: 8.48ms\tremaining: 25.5ms\n",
      "1:\tlearn: 6.9630605\ttotal: 16.3ms\tremaining: 16.3ms\n",
      "2:\tlearn: 6.6677117\ttotal: 23.8ms\tremaining: 7.93ms\n",
      "3:\tlearn: 6.4672674\ttotal: 31.4ms\tremaining: 0us\n",
      "Learning rate set to 0.5\n",
      "0:\tlearn: 7.2816343\ttotal: 6.93ms\tremaining: 20.8ms\n",
      "1:\tlearn: 6.8035629\ttotal: 13.3ms\tremaining: 13.3ms\n",
      "2:\tlearn: 6.5087042\ttotal: 19.2ms\tremaining: 6.4ms\n",
      "3:\tlearn: 6.2988000\ttotal: 25.2ms\tremaining: 0us\n",
      "Learning rate set to 0.5\n",
      "0:\tlearn: 7.2615917\ttotal: 7.7ms\tremaining: 30.8ms\n",
      "1:\tlearn: 6.7531252\ttotal: 15.1ms\tremaining: 22.7ms\n",
      "2:\tlearn: 6.4795493\ttotal: 22.3ms\tremaining: 14.9ms\n",
      "3:\tlearn: 6.3082656\ttotal: 29.5ms\tremaining: 7.38ms\n",
      "4:\tlearn: 6.1831923\ttotal: 36.5ms\tremaining: 0us\n",
      "Learning rate set to 0.5\n",
      "0:\tlearn: 7.6174782\ttotal: 8.65ms\tremaining: 34.6ms\n",
      "1:\tlearn: 7.0631018\ttotal: 16.9ms\tremaining: 25.3ms\n",
      "2:\tlearn: 6.8225397\ttotal: 25.2ms\tremaining: 16.8ms\n",
      "3:\tlearn: 6.6591356\ttotal: 33.3ms\tremaining: 8.33ms\n",
      "4:\tlearn: 6.5368451\ttotal: 41ms\tremaining: 0us\n",
      "Learning rate set to 0.5\n",
      "0:\tlearn: 7.5138590\ttotal: 7.22ms\tremaining: 28.9ms\n",
      "1:\tlearn: 7.0112271\ttotal: 13.8ms\tremaining: 20.7ms\n",
      "2:\tlearn: 6.7175397\ttotal: 20.5ms\tremaining: 13.7ms\n",
      "3:\tlearn: 6.5505200\ttotal: 26.7ms\tremaining: 6.67ms\n",
      "4:\tlearn: 6.4135269\ttotal: 33.4ms\tremaining: 0us\n",
      "Learning rate set to 0.5\n",
      "0:\tlearn: 7.4134676\ttotal: 8.3ms\tremaining: 33.2ms\n",
      "1:\tlearn: 6.9630605\ttotal: 16.4ms\tremaining: 24.6ms\n",
      "2:\tlearn: 6.6677117\ttotal: 24.4ms\tremaining: 16.3ms\n",
      "3:\tlearn: 6.4672674\ttotal: 32.6ms\tremaining: 8.14ms\n",
      "4:\tlearn: 6.3117548\ttotal: 40.6ms\tremaining: 0us\n",
      "Learning rate set to 0.5\n",
      "0:\tlearn: 7.2816343\ttotal: 6.86ms\tremaining: 27.4ms\n",
      "1:\tlearn: 6.8035629\ttotal: 13.7ms\tremaining: 20.5ms\n",
      "2:\tlearn: 6.5087042\ttotal: 20.1ms\tremaining: 13.4ms\n",
      "3:\tlearn: 6.2988000\ttotal: 26.2ms\tremaining: 6.56ms\n",
      "4:\tlearn: 6.1561070\ttotal: 32.6ms\tremaining: 0us\n",
      "Learning rate set to 0.5\n",
      "0:\tlearn: 7.4906551\ttotal: 7.65ms\tremaining: 23ms\n",
      "1:\tlearn: 7.0147447\ttotal: 14.7ms\tremaining: 14.7ms\n",
      "2:\tlearn: 6.7697015\ttotal: 21.6ms\tremaining: 7.19ms\n",
      "3:\tlearn: 6.6412564\ttotal: 28.3ms\tremaining: 0us\n",
      "\u001b[1mГиперпараметры для rougher:\u001b[0;0m [{'catboostregressor__iterations': 5}, {'catboostregressor__iterations': 5}, {'catboostregressor__iterations': 5}]\n",
      "\u001b[1mГиперпараметры для final:\u001b[0;0m [{'catboostregressor__iterations': 3}, {'catboostregressor__iterations': 5}, {'catboostregressor__iterations': 4}]\n",
      "CPU times: user 5min 4s, sys: 552 µs, total: 5min 4s\n",
      "Wall time: 7min 34s\n"
     ]
    }
   ],
   "source": [
    "%%time\n",
    "grid_search(models=[model_7, model_8, model_9], parametrs={'catboostregressor__iterations': range (1, 6)})"
   ]
  },
  {
   "cell_type": "markdown",
   "metadata": {},
   "source": [
    "Запишем модели с вычисленными гиперпараметрами"
   ]
  },
  {
   "cell_type": "code",
   "execution_count": 42,
   "metadata": {},
   "outputs": [],
   "source": [
    "cb_rougher_1 = CatBoostRegressor(random_state=123, iterations=5)\n",
    "\n",
    "cb_rougher_2 = make_pipeline(StandardScaler(), CatBoostRegressor(random_state=123, iterations=5))\n",
    "\n",
    "cb_rougher_3 = make_pipeline(StandardScaler(),\n",
    "                      SelectFromModel(estimator=RandomForestRegressor(n_estimators=10, random_state=123)),\n",
    "                      CatBoostRegressor(random_state=123, iterations=5))\n",
    "\n",
    "\n",
    "cb_final_1 = CatBoostRegressor(random_state=123, iterations=3)\n",
    "\n",
    "cb_final_2 = make_pipeline(StandardScaler(), CatBoostRegressor(random_state=123, iterations=5))\n",
    "\n",
    "cb_final_3 = make_pipeline(StandardScaler(),\n",
    "                      SelectFromModel(estimator=RandomForestRegressor(n_estimators=10, random_state=123)),\n",
    "                      CatBoostRegressor(random_state=123, iterations=4))"
   ]
  },
  {
   "cell_type": "code",
   "execution_count": 43,
   "metadata": {},
   "outputs": [
    {
     "name": "stdout",
     "output_type": "stream",
     "text": [
      "Learning rate set to 0.5\n",
      "0:\tlearn: 5.4797990\ttotal: 26.8ms\tremaining: 107ms\n",
      "1:\tlearn: 4.8349056\ttotal: 53.2ms\tremaining: 79.7ms\n",
      "2:\tlearn: 4.4255966\ttotal: 79.5ms\tremaining: 53ms\n",
      "3:\tlearn: 4.2119049\ttotal: 106ms\tremaining: 26.5ms\n",
      "4:\tlearn: 4.0657639\ttotal: 131ms\tremaining: 0us\n",
      "Learning rate set to 0.5\n",
      "0:\tlearn: 5.8951446\ttotal: 26.7ms\tremaining: 107ms\n",
      "1:\tlearn: 5.1267495\ttotal: 51ms\tremaining: 76.5ms\n",
      "2:\tlearn: 4.7995267\ttotal: 73.8ms\tremaining: 49.2ms\n",
      "3:\tlearn: 4.5459771\ttotal: 97.4ms\tremaining: 24.4ms\n",
      "4:\tlearn: 4.3694507\ttotal: 121ms\tremaining: 0us\n",
      "Learning rate set to 0.5\n",
      "0:\tlearn: 6.4107100\ttotal: 25.2ms\tremaining: 101ms\n",
      "1:\tlearn: 5.5926368\ttotal: 50ms\tremaining: 75ms\n",
      "2:\tlearn: 5.1987409\ttotal: 74.9ms\tremaining: 49.9ms\n",
      "3:\tlearn: 4.9525287\ttotal: 99ms\tremaining: 24.8ms\n",
      "4:\tlearn: 4.7079771\ttotal: 123ms\tremaining: 0us\n",
      "Learning rate set to 0.5\n",
      "0:\tlearn: 6.1155235\ttotal: 25.8ms\tremaining: 103ms\n",
      "1:\tlearn: 5.4053663\ttotal: 51.4ms\tremaining: 77.1ms\n",
      "2:\tlearn: 5.0219614\ttotal: 77.1ms\tremaining: 51.4ms\n",
      "3:\tlearn: 4.7614205\ttotal: 101ms\tremaining: 25.2ms\n",
      "4:\tlearn: 4.5565618\ttotal: 124ms\tremaining: 0us\n",
      "Learning rate set to 0.5\n",
      "0:\tlearn: 5.9319734\ttotal: 25.3ms\tremaining: 101ms\n",
      "1:\tlearn: 5.2263909\ttotal: 51.3ms\tremaining: 77ms\n",
      "2:\tlearn: 4.8299399\ttotal: 75.6ms\tremaining: 50.4ms\n",
      "3:\tlearn: 4.5605217\ttotal: 99.6ms\tremaining: 24.9ms\n",
      "4:\tlearn: 4.4222071\ttotal: 122ms\tremaining: 0us\n",
      "Learning rate set to 0.5\n",
      "0:\tlearn: 7.3116248\ttotal: 25.6ms\tremaining: 51.2ms\n",
      "1:\tlearn: 6.7391653\ttotal: 50.6ms\tremaining: 25.3ms\n",
      "2:\tlearn: 6.4317123\ttotal: 75.3ms\tremaining: 0us\n",
      "Learning rate set to 0.5\n",
      "0:\tlearn: 7.6139109\ttotal: 25.5ms\tremaining: 51.1ms\n",
      "1:\tlearn: 7.1133696\ttotal: 51.7ms\tremaining: 25.9ms\n",
      "2:\tlearn: 6.7931859\ttotal: 76.1ms\tremaining: 0us\n",
      "Learning rate set to 0.5\n",
      "0:\tlearn: 7.4828943\ttotal: 25.6ms\tremaining: 51.2ms\n",
      "1:\tlearn: 7.0178161\ttotal: 50.9ms\tremaining: 25.4ms\n",
      "2:\tlearn: 6.6468379\ttotal: 74.8ms\tremaining: 0us\n",
      "Learning rate set to 0.5\n",
      "0:\tlearn: 7.4290365\ttotal: 23.7ms\tremaining: 47.4ms\n",
      "1:\tlearn: 6.9819476\ttotal: 46.5ms\tremaining: 23.3ms\n",
      "2:\tlearn: 6.6850469\ttotal: 69.3ms\tremaining: 0us\n",
      "Learning rate set to 0.5\n",
      "0:\tlearn: 7.3811187\ttotal: 24.1ms\tremaining: 48.2ms\n",
      "1:\tlearn: 6.8587691\ttotal: 49ms\tremaining: 24.5ms\n",
      "2:\tlearn: 6.5154448\ttotal: 73.2ms\tremaining: 0us\n",
      "Learning rate set to 0.5\n",
      "0:\tlearn: 5.4797990\ttotal: 26.4ms\tremaining: 105ms\n",
      "1:\tlearn: 4.8349056\ttotal: 51.9ms\tremaining: 77.9ms\n",
      "2:\tlearn: 4.4255966\ttotal: 77ms\tremaining: 51.3ms\n",
      "3:\tlearn: 4.2119049\ttotal: 102ms\tremaining: 25.6ms\n",
      "4:\tlearn: 4.0657639\ttotal: 127ms\tremaining: 0us\n",
      "Learning rate set to 0.5\n",
      "0:\tlearn: 5.8951446\ttotal: 26.3ms\tremaining: 105ms\n",
      "1:\tlearn: 5.1267495\ttotal: 50.5ms\tremaining: 75.7ms\n",
      "2:\tlearn: 4.7995267\ttotal: 72.8ms\tremaining: 48.6ms\n",
      "3:\tlearn: 4.5459771\ttotal: 95.2ms\tremaining: 23.8ms\n",
      "4:\tlearn: 4.3694507\ttotal: 118ms\tremaining: 0us\n",
      "Learning rate set to 0.5\n",
      "0:\tlearn: 6.4107100\ttotal: 24.5ms\tremaining: 98.2ms\n",
      "1:\tlearn: 5.5926368\ttotal: 49.4ms\tremaining: 74.2ms\n",
      "2:\tlearn: 5.1987409\ttotal: 73.8ms\tremaining: 49.2ms\n",
      "3:\tlearn: 4.9525287\ttotal: 97.6ms\tremaining: 24.4ms\n",
      "4:\tlearn: 4.7079771\ttotal: 122ms\tremaining: 0us\n",
      "Learning rate set to 0.5\n",
      "0:\tlearn: 6.1155235\ttotal: 25.5ms\tremaining: 102ms\n",
      "1:\tlearn: 5.4053663\ttotal: 50.3ms\tremaining: 75.4ms\n",
      "2:\tlearn: 5.0219614\ttotal: 74.3ms\tremaining: 49.6ms\n",
      "3:\tlearn: 4.7614205\ttotal: 97.9ms\tremaining: 24.5ms\n",
      "4:\tlearn: 4.5565618\ttotal: 122ms\tremaining: 0us\n",
      "Learning rate set to 0.5\n",
      "0:\tlearn: 5.9319734\ttotal: 25.7ms\tremaining: 103ms\n",
      "1:\tlearn: 5.2263909\ttotal: 51ms\tremaining: 76.5ms\n",
      "2:\tlearn: 4.8299399\ttotal: 75ms\tremaining: 50ms\n",
      "3:\tlearn: 4.5605217\ttotal: 98.4ms\tremaining: 24.6ms\n",
      "4:\tlearn: 4.4222071\ttotal: 121ms\tremaining: 0us\n",
      "Learning rate set to 0.5\n",
      "0:\tlearn: 7.3130001\ttotal: 26.2ms\tremaining: 105ms\n",
      "1:\tlearn: 6.7436850\ttotal: 51ms\tremaining: 76.5ms\n",
      "2:\tlearn: 6.5036194\ttotal: 75.6ms\tremaining: 50.4ms\n",
      "3:\tlearn: 6.2900617\ttotal: 99.1ms\tremaining: 24.8ms\n",
      "4:\tlearn: 6.1587738\ttotal: 123ms\tremaining: 0us\n",
      "Learning rate set to 0.5\n",
      "0:\tlearn: 7.6139109\ttotal: 25.8ms\tremaining: 103ms\n",
      "1:\tlearn: 7.0681817\ttotal: 51.7ms\tremaining: 77.5ms\n",
      "2:\tlearn: 6.7714456\ttotal: 75.8ms\tremaining: 50.5ms\n",
      "3:\tlearn: 6.5518891\ttotal: 99.8ms\tremaining: 25ms\n",
      "4:\tlearn: 6.4136341\ttotal: 123ms\tremaining: 0us\n",
      "Learning rate set to 0.5\n",
      "0:\tlearn: 7.4828943\ttotal: 25.4ms\tremaining: 102ms\n",
      "1:\tlearn: 6.9719609\ttotal: 51.2ms\tremaining: 76.9ms\n",
      "2:\tlearn: 6.6687107\ttotal: 75.6ms\tremaining: 50.4ms\n",
      "3:\tlearn: 6.4820418\ttotal: 98.1ms\tremaining: 24.5ms\n",
      "4:\tlearn: 6.3188661\ttotal: 124ms\tremaining: 0us\n",
      "Learning rate set to 0.5\n",
      "0:\tlearn: 7.4216703\ttotal: 24.9ms\tremaining: 99.8ms\n",
      "1:\tlearn: 6.9755894\ttotal: 57.5ms\tremaining: 86.3ms\n",
      "2:\tlearn: 6.6876323\ttotal: 91.8ms\tremaining: 61.2ms\n",
      "3:\tlearn: 6.4539965\ttotal: 115ms\tremaining: 28.8ms\n",
      "4:\tlearn: 6.3035729\ttotal: 138ms\tremaining: 0us\n",
      "Learning rate set to 0.5\n",
      "0:\tlearn: 7.3775699\ttotal: 25.2ms\tremaining: 101ms\n",
      "1:\tlearn: 6.8553036\ttotal: 54.3ms\tremaining: 81.4ms\n",
      "2:\tlearn: 6.5119230\ttotal: 79.6ms\tremaining: 53ms\n",
      "3:\tlearn: 6.2887259\ttotal: 111ms\tremaining: 27.7ms\n",
      "4:\tlearn: 6.1523292\ttotal: 134ms\tremaining: 0us\n",
      "Learning rate set to 0.5\n",
      "0:\tlearn: 5.4797990\ttotal: 26.8ms\tremaining: 107ms\n",
      "1:\tlearn: 4.8349056\ttotal: 53ms\tremaining: 79.4ms\n",
      "2:\tlearn: 4.4255966\ttotal: 79.3ms\tremaining: 52.9ms\n",
      "3:\tlearn: 4.2119049\ttotal: 107ms\tremaining: 26.7ms\n",
      "4:\tlearn: 4.0657639\ttotal: 132ms\tremaining: 0us\n",
      "Learning rate set to 0.5\n",
      "0:\tlearn: 5.8951446\ttotal: 26.3ms\tremaining: 105ms\n",
      "1:\tlearn: 5.1267495\ttotal: 50.6ms\tremaining: 75.9ms\n",
      "2:\tlearn: 4.7995267\ttotal: 73.4ms\tremaining: 48.9ms\n",
      "3:\tlearn: 4.5459771\ttotal: 96.5ms\tremaining: 24.1ms\n",
      "4:\tlearn: 4.3694507\ttotal: 120ms\tremaining: 0us\n",
      "Learning rate set to 0.5\n",
      "0:\tlearn: 6.4107100\ttotal: 26ms\tremaining: 104ms\n",
      "1:\tlearn: 5.5926368\ttotal: 52.5ms\tremaining: 78.7ms\n",
      "2:\tlearn: 5.1987409\ttotal: 77.1ms\tremaining: 51.4ms\n",
      "3:\tlearn: 4.9525287\ttotal: 101ms\tremaining: 25.4ms\n",
      "4:\tlearn: 4.7079771\ttotal: 127ms\tremaining: 0us\n",
      "Learning rate set to 0.5\n",
      "0:\tlearn: 6.1155235\ttotal: 26.4ms\tremaining: 106ms\n",
      "1:\tlearn: 5.4053663\ttotal: 53.4ms\tremaining: 80.1ms\n",
      "2:\tlearn: 5.0219614\ttotal: 78.2ms\tremaining: 52.1ms\n",
      "3:\tlearn: 4.7614205\ttotal: 104ms\tremaining: 26ms\n",
      "4:\tlearn: 4.5565618\ttotal: 128ms\tremaining: 0us\n",
      "Learning rate set to 0.5\n",
      "0:\tlearn: 5.9319734\ttotal: 25.2ms\tremaining: 101ms\n",
      "1:\tlearn: 5.2263909\ttotal: 51ms\tremaining: 76.6ms\n",
      "2:\tlearn: 4.8299399\ttotal: 75.1ms\tremaining: 50.1ms\n",
      "3:\tlearn: 4.5605217\ttotal: 98.4ms\tremaining: 24.6ms\n",
      "4:\tlearn: 4.4222071\ttotal: 121ms\tremaining: 0us\n",
      "Learning rate set to 0.5\n",
      "0:\tlearn: 7.2615917\ttotal: 11.5ms\tremaining: 34.4ms\n",
      "1:\tlearn: 6.7531252\ttotal: 22.7ms\tremaining: 22.7ms\n",
      "2:\tlearn: 6.4795493\ttotal: 33.9ms\tremaining: 11.3ms\n",
      "3:\tlearn: 6.3082656\ttotal: 45ms\tremaining: 0us\n",
      "Learning rate set to 0.5\n",
      "0:\tlearn: 7.6174782\ttotal: 8.7ms\tremaining: 26.1ms\n",
      "1:\tlearn: 7.0631018\ttotal: 16.9ms\tremaining: 16.9ms\n",
      "2:\tlearn: 6.8225397\ttotal: 25ms\tremaining: 8.32ms\n",
      "3:\tlearn: 6.6591356\ttotal: 33.1ms\tremaining: 0us\n",
      "Learning rate set to 0.5\n",
      "0:\tlearn: 7.5138590\ttotal: 6.79ms\tremaining: 20.4ms\n",
      "1:\tlearn: 7.0112271\ttotal: 13.6ms\tremaining: 13.6ms\n",
      "2:\tlearn: 6.7175397\ttotal: 20.7ms\tremaining: 6.89ms\n",
      "3:\tlearn: 6.5505200\ttotal: 27ms\tremaining: 0us\n",
      "Learning rate set to 0.5\n",
      "0:\tlearn: 7.4134676\ttotal: 8.9ms\tremaining: 26.7ms\n",
      "1:\tlearn: 6.9630605\ttotal: 17ms\tremaining: 17ms\n",
      "2:\tlearn: 6.6677117\ttotal: 25.2ms\tremaining: 8.38ms\n",
      "3:\tlearn: 6.4672674\ttotal: 33.6ms\tremaining: 0us\n",
      "Learning rate set to 0.5\n",
      "0:\tlearn: 7.2816343\ttotal: 6.96ms\tremaining: 20.9ms\n",
      "1:\tlearn: 6.8035629\ttotal: 13.5ms\tremaining: 13.5ms\n",
      "2:\tlearn: 6.5087042\ttotal: 19.8ms\tremaining: 6.6ms\n",
      "3:\tlearn: 6.2988000\ttotal: 26ms\tremaining: 0us\n",
      "Learning rate set to 0.5\n",
      "0:\tlearn: 5.4797990\ttotal: 26ms\tremaining: 104ms\n",
      "1:\tlearn: 4.8349056\ttotal: 51.5ms\tremaining: 77.3ms\n",
      "2:\tlearn: 4.4255966\ttotal: 77.9ms\tremaining: 51.9ms\n",
      "3:\tlearn: 4.2127611\ttotal: 104ms\tremaining: 25.9ms\n",
      "4:\tlearn: 4.0770975\ttotal: 128ms\tremaining: 0us\n",
      "Learning rate set to 0.5\n",
      "0:\tlearn: 5.8951446\ttotal: 26.6ms\tremaining: 107ms\n",
      "1:\tlearn: 5.1267495\ttotal: 50.9ms\tremaining: 76.3ms\n",
      "2:\tlearn: 4.7995267\ttotal: 73.4ms\tremaining: 48.9ms\n",
      "3:\tlearn: 4.5459429\ttotal: 96.7ms\tremaining: 24.2ms\n",
      "4:\tlearn: 4.3694260\ttotal: 121ms\tremaining: 0us\n",
      "Learning rate set to 0.5\n",
      "0:\tlearn: 6.4107100\ttotal: 26.1ms\tremaining: 105ms\n",
      "1:\tlearn: 5.5924906\ttotal: 50.9ms\tremaining: 76.3ms\n",
      "2:\tlearn: 5.1985308\ttotal: 75.6ms\tremaining: 50.4ms\n",
      "3:\tlearn: 4.9524399\ttotal: 99.3ms\tremaining: 24.8ms\n",
      "4:\tlearn: 4.7079145\ttotal: 124ms\tremaining: 0us\n",
      "Learning rate set to 0.5\n",
      "0:\tlearn: 6.1155235\ttotal: 25.9ms\tremaining: 104ms\n",
      "1:\tlearn: 5.3995517\ttotal: 51.3ms\tremaining: 77ms\n",
      "2:\tlearn: 5.0331402\ttotal: 76.5ms\tremaining: 51ms\n",
      "3:\tlearn: 4.7575307\ttotal: 101ms\tremaining: 25.2ms\n",
      "4:\tlearn: 4.5643455\ttotal: 125ms\tremaining: 0us\n",
      "Learning rate set to 0.5\n",
      "0:\tlearn: 5.9319734\ttotal: 25.4ms\tremaining: 101ms\n",
      "1:\tlearn: 5.2263909\ttotal: 51.2ms\tremaining: 76.8ms\n",
      "2:\tlearn: 4.8326670\ttotal: 75.5ms\tremaining: 50.3ms\n",
      "3:\tlearn: 4.5952016\ttotal: 98.6ms\tremaining: 24.6ms\n",
      "4:\tlearn: 4.4169273\ttotal: 123ms\tremaining: 0us\n",
      "Learning rate set to 0.5\n",
      "0:\tlearn: 7.3116248\ttotal: 25.7ms\tremaining: 51.3ms\n",
      "1:\tlearn: 6.7391653\ttotal: 50ms\tremaining: 25ms\n",
      "2:\tlearn: 6.4317123\ttotal: 74.9ms\tremaining: 0us\n",
      "Learning rate set to 0.5\n",
      "0:\tlearn: 7.6139109\ttotal: 26ms\tremaining: 52.1ms\n",
      "1:\tlearn: 7.1133696\ttotal: 51.3ms\tremaining: 25.6ms\n",
      "2:\tlearn: 6.7931859\ttotal: 75ms\tremaining: 0us\n",
      "Learning rate set to 0.5\n",
      "0:\tlearn: 7.4828943\ttotal: 25.6ms\tremaining: 51.3ms\n",
      "1:\tlearn: 7.0178161\ttotal: 51.1ms\tremaining: 25.6ms\n",
      "2:\tlearn: 6.6468379\ttotal: 75.4ms\tremaining: 0us\n",
      "Learning rate set to 0.5\n",
      "0:\tlearn: 7.4290365\ttotal: 25ms\tremaining: 50ms\n",
      "1:\tlearn: 6.9819476\ttotal: 48.9ms\tremaining: 24.5ms\n",
      "2:\tlearn: 6.6850469\ttotal: 72.7ms\tremaining: 0us\n",
      "Learning rate set to 0.5\n",
      "0:\tlearn: 7.3811187\ttotal: 24.2ms\tremaining: 48.4ms\n",
      "1:\tlearn: 6.8587691\ttotal: 49.6ms\tremaining: 24.8ms\n",
      "2:\tlearn: 6.5154448\ttotal: 74.7ms\tremaining: 0us\n",
      "Learning rate set to 0.5\n",
      "0:\tlearn: 5.4797990\ttotal: 26.2ms\tremaining: 105ms\n",
      "1:\tlearn: 4.8349056\ttotal: 50.7ms\tremaining: 76ms\n",
      "2:\tlearn: 4.4255966\ttotal: 75.7ms\tremaining: 50.5ms\n",
      "3:\tlearn: 4.2127611\ttotal: 101ms\tremaining: 25.2ms\n",
      "4:\tlearn: 4.0770975\ttotal: 125ms\tremaining: 0us\n",
      "Learning rate set to 0.5\n",
      "0:\tlearn: 5.8951446\ttotal: 25.9ms\tremaining: 104ms\n",
      "1:\tlearn: 5.1267495\ttotal: 49.8ms\tremaining: 74.7ms\n",
      "2:\tlearn: 4.7995267\ttotal: 71.8ms\tremaining: 47.8ms\n",
      "3:\tlearn: 4.5459429\ttotal: 93.8ms\tremaining: 23.5ms\n",
      "4:\tlearn: 4.3694260\ttotal: 118ms\tremaining: 0us\n",
      "Learning rate set to 0.5\n",
      "0:\tlearn: 6.4107100\ttotal: 25.8ms\tremaining: 103ms\n",
      "1:\tlearn: 5.5924906\ttotal: 50.9ms\tremaining: 76.4ms\n",
      "2:\tlearn: 5.1985308\ttotal: 76.3ms\tremaining: 50.9ms\n",
      "3:\tlearn: 4.9524399\ttotal: 102ms\tremaining: 25.4ms\n",
      "4:\tlearn: 4.7079145\ttotal: 128ms\tremaining: 0us\n",
      "Learning rate set to 0.5\n",
      "0:\tlearn: 6.1155235\ttotal: 25.7ms\tremaining: 103ms\n",
      "1:\tlearn: 5.3995517\ttotal: 50.7ms\tremaining: 76ms\n",
      "2:\tlearn: 5.0331402\ttotal: 76.2ms\tremaining: 50.8ms\n",
      "3:\tlearn: 4.7575307\ttotal: 101ms\tremaining: 25.2ms\n",
      "4:\tlearn: 4.5643455\ttotal: 125ms\tremaining: 0us\n",
      "Learning rate set to 0.5\n",
      "0:\tlearn: 5.9319734\ttotal: 30.6ms\tremaining: 122ms\n",
      "1:\tlearn: 5.2263909\ttotal: 57.8ms\tremaining: 86.7ms\n",
      "2:\tlearn: 4.8326670\ttotal: 83.2ms\tremaining: 55.4ms\n",
      "3:\tlearn: 4.5952016\ttotal: 107ms\tremaining: 26.8ms\n",
      "4:\tlearn: 4.4169273\ttotal: 132ms\tremaining: 0us\n",
      "Learning rate set to 0.5\n",
      "0:\tlearn: 7.3130001\ttotal: 26ms\tremaining: 104ms\n",
      "1:\tlearn: 6.7436850\ttotal: 51ms\tremaining: 76.4ms\n",
      "2:\tlearn: 6.5036194\ttotal: 75.3ms\tremaining: 50.2ms\n",
      "3:\tlearn: 6.2900617\ttotal: 98.1ms\tremaining: 24.5ms\n",
      "4:\tlearn: 6.1587738\ttotal: 121ms\tremaining: 0us\n",
      "Learning rate set to 0.5\n",
      "0:\tlearn: 7.6139109\ttotal: 26.1ms\tremaining: 104ms\n",
      "1:\tlearn: 7.0681817\ttotal: 52.5ms\tremaining: 78.8ms\n",
      "2:\tlearn: 6.7714456\ttotal: 77.2ms\tremaining: 51.5ms\n",
      "3:\tlearn: 6.5518891\ttotal: 102ms\tremaining: 25.5ms\n",
      "4:\tlearn: 6.4136341\ttotal: 125ms\tremaining: 0us\n",
      "Learning rate set to 0.5\n",
      "0:\tlearn: 7.4828943\ttotal: 25.9ms\tremaining: 104ms\n",
      "1:\tlearn: 6.9719609\ttotal: 50.4ms\tremaining: 75.6ms\n",
      "2:\tlearn: 6.6687107\ttotal: 73.7ms\tremaining: 49.1ms\n",
      "3:\tlearn: 6.4820418\ttotal: 95.6ms\tremaining: 23.9ms\n",
      "4:\tlearn: 6.3188661\ttotal: 120ms\tremaining: 0us\n",
      "Learning rate set to 0.5\n",
      "0:\tlearn: 7.4216703\ttotal: 25.7ms\tremaining: 103ms\n",
      "1:\tlearn: 6.9755894\ttotal: 49.8ms\tremaining: 74.7ms\n",
      "2:\tlearn: 6.6876323\ttotal: 73.3ms\tremaining: 48.9ms\n",
      "3:\tlearn: 6.4539965\ttotal: 96.4ms\tremaining: 24.1ms\n",
      "4:\tlearn: 6.3035729\ttotal: 121ms\tremaining: 0us\n",
      "Learning rate set to 0.5\n",
      "0:\tlearn: 7.3775699\ttotal: 24.8ms\tremaining: 99.4ms\n",
      "1:\tlearn: 6.8553036\ttotal: 49.8ms\tremaining: 74.7ms\n",
      "2:\tlearn: 6.5119230\ttotal: 74.7ms\tremaining: 49.8ms\n",
      "3:\tlearn: 6.2887259\ttotal: 99ms\tremaining: 24.7ms\n",
      "4:\tlearn: 6.1523292\ttotal: 122ms\tremaining: 0us\n",
      "Learning rate set to 0.5\n",
      "0:\tlearn: 5.4797990\ttotal: 26.7ms\tremaining: 107ms\n",
      "1:\tlearn: 4.8349056\ttotal: 53.3ms\tremaining: 79.9ms\n",
      "2:\tlearn: 4.4255966\ttotal: 78.6ms\tremaining: 52.4ms\n",
      "3:\tlearn: 4.2127611\ttotal: 105ms\tremaining: 26.3ms\n",
      "4:\tlearn: 4.0770975\ttotal: 131ms\tremaining: 0us\n",
      "Learning rate set to 0.5\n",
      "0:\tlearn: 5.8951446\ttotal: 26ms\tremaining: 104ms\n",
      "1:\tlearn: 5.1267495\ttotal: 50ms\tremaining: 75ms\n",
      "2:\tlearn: 4.7995267\ttotal: 72.7ms\tremaining: 48.5ms\n",
      "3:\tlearn: 4.5459429\ttotal: 95.3ms\tremaining: 23.8ms\n",
      "4:\tlearn: 4.3694260\ttotal: 121ms\tremaining: 0us\n",
      "Learning rate set to 0.5\n",
      "0:\tlearn: 6.4107100\ttotal: 25.5ms\tremaining: 102ms\n",
      "1:\tlearn: 5.5924906\ttotal: 50.1ms\tremaining: 75.2ms\n",
      "2:\tlearn: 5.1985308\ttotal: 74.1ms\tremaining: 49.4ms\n",
      "3:\tlearn: 4.9524399\ttotal: 97.6ms\tremaining: 24.4ms\n",
      "4:\tlearn: 4.7079145\ttotal: 122ms\tremaining: 0us\n",
      "Learning rate set to 0.5\n",
      "0:\tlearn: 6.1155235\ttotal: 25.5ms\tremaining: 102ms\n",
      "1:\tlearn: 5.3995517\ttotal: 50.3ms\tremaining: 75.5ms\n",
      "2:\tlearn: 5.0331402\ttotal: 75.1ms\tremaining: 50.1ms\n",
      "3:\tlearn: 4.7575307\ttotal: 99.1ms\tremaining: 24.8ms\n",
      "4:\tlearn: 4.5643455\ttotal: 123ms\tremaining: 0us\n",
      "Learning rate set to 0.5\n",
      "0:\tlearn: 5.9319734\ttotal: 25.4ms\tremaining: 101ms\n",
      "1:\tlearn: 5.2263909\ttotal: 51.8ms\tremaining: 77.6ms\n",
      "2:\tlearn: 4.8326670\ttotal: 76.4ms\tremaining: 50.9ms\n",
      "3:\tlearn: 4.5952016\ttotal: 99.6ms\tremaining: 24.9ms\n",
      "4:\tlearn: 4.4169273\ttotal: 124ms\tremaining: 0us\n",
      "Learning rate set to 0.5\n",
      "0:\tlearn: 7.2615917\ttotal: 7.67ms\tremaining: 23ms\n",
      "1:\tlearn: 6.7531252\ttotal: 15.1ms\tremaining: 15.1ms\n",
      "2:\tlearn: 6.4795493\ttotal: 22.4ms\tremaining: 7.45ms\n",
      "3:\tlearn: 6.3082656\ttotal: 29.3ms\tremaining: 0us\n",
      "Learning rate set to 0.5\n",
      "0:\tlearn: 7.6174782\ttotal: 8.5ms\tremaining: 25.5ms\n",
      "1:\tlearn: 7.0631018\ttotal: 16.5ms\tremaining: 16.5ms\n",
      "2:\tlearn: 6.8225397\ttotal: 24.3ms\tremaining: 8.1ms\n",
      "3:\tlearn: 6.6591356\ttotal: 31.9ms\tremaining: 0us\n",
      "Learning rate set to 0.5\n",
      "0:\tlearn: 7.5138590\ttotal: 7.2ms\tremaining: 21.6ms\n",
      "1:\tlearn: 7.0112271\ttotal: 14ms\tremaining: 14ms\n",
      "2:\tlearn: 6.7175397\ttotal: 20.7ms\tremaining: 6.89ms\n",
      "3:\tlearn: 6.5505200\ttotal: 27.1ms\tremaining: 0us\n",
      "Learning rate set to 0.5\n",
      "0:\tlearn: 7.4134676\ttotal: 8.32ms\tremaining: 25ms\n",
      "1:\tlearn: 6.9630605\ttotal: 16.3ms\tremaining: 16.3ms\n",
      "2:\tlearn: 6.6677117\ttotal: 24.2ms\tremaining: 8.06ms\n",
      "3:\tlearn: 6.4672674\ttotal: 31.8ms\tremaining: 0us\n",
      "Learning rate set to 0.5\n",
      "0:\tlearn: 7.2816343\ttotal: 6.66ms\tremaining: 20ms\n",
      "1:\tlearn: 6.8035629\ttotal: 12.9ms\tremaining: 12.9ms\n",
      "2:\tlearn: 6.5087042\ttotal: 18.9ms\tremaining: 6.29ms\n",
      "3:\tlearn: 6.2988000\ttotal: 24.8ms\tremaining: 0us\n",
      "Learning rate set to 0.5\n",
      "0:\tlearn: 5.5247926\ttotal: 6.21ms\tremaining: 24.8ms\n",
      "1:\tlearn: 4.8043301\ttotal: 11.8ms\tremaining: 17.7ms\n",
      "2:\tlearn: 4.4717009\ttotal: 17.6ms\tremaining: 11.7ms\n",
      "3:\tlearn: 4.2807276\ttotal: 23ms\tremaining: 5.76ms\n",
      "4:\tlearn: 4.1702988\ttotal: 28.5ms\tremaining: 0us\n",
      "Learning rate set to 0.5\n",
      "0:\tlearn: 5.8937160\ttotal: 7.88ms\tremaining: 31.5ms\n",
      "1:\tlearn: 5.2836352\ttotal: 14.9ms\tremaining: 22.3ms\n",
      "2:\tlearn: 4.8957148\ttotal: 21.6ms\tremaining: 14.4ms\n",
      "3:\tlearn: 4.6927863\ttotal: 28.2ms\tremaining: 7.04ms\n",
      "4:\tlearn: 4.4831985\ttotal: 34.6ms\tremaining: 0us\n",
      "Learning rate set to 0.5\n",
      "0:\tlearn: 6.4785014\ttotal: 9.81ms\tremaining: 39.2ms\n",
      "1:\tlearn: 5.7010343\ttotal: 16.8ms\tremaining: 25.1ms\n",
      "2:\tlearn: 5.2206692\ttotal: 23.5ms\tremaining: 15.7ms\n",
      "3:\tlearn: 4.9595185\ttotal: 30ms\tremaining: 7.5ms\n",
      "4:\tlearn: 4.7910511\ttotal: 37.6ms\tremaining: 0us\n",
      "Learning rate set to 0.5\n",
      "0:\tlearn: 6.2215281\ttotal: 5.77ms\tremaining: 23.1ms\n",
      "1:\tlearn: 5.4970122\ttotal: 11.3ms\tremaining: 17ms\n",
      "2:\tlearn: 5.1914435\ttotal: 16.6ms\tremaining: 11ms\n",
      "3:\tlearn: 4.9805439\ttotal: 21.5ms\tremaining: 5.37ms\n",
      "4:\tlearn: 4.8300475\ttotal: 26.5ms\tremaining: 0us\n",
      "Learning rate set to 0.5\n",
      "0:\tlearn: 5.9460719\ttotal: 5.49ms\tremaining: 21.9ms\n",
      "1:\tlearn: 5.3410360\ttotal: 10.5ms\tremaining: 15.7ms\n",
      "2:\tlearn: 5.0623249\ttotal: 15.4ms\tremaining: 10.2ms\n",
      "3:\tlearn: 4.8676197\ttotal: 20.3ms\tremaining: 5.07ms\n",
      "4:\tlearn: 4.7278274\ttotal: 25.2ms\tremaining: 0us\n",
      "Learning rate set to 0.5\n",
      "0:\tlearn: 7.3116248\ttotal: 25.7ms\tremaining: 51.3ms\n",
      "1:\tlearn: 6.7391653\ttotal: 50.4ms\tremaining: 25.2ms\n",
      "2:\tlearn: 6.4317123\ttotal: 75.3ms\tremaining: 0us\n",
      "Learning rate set to 0.5\n",
      "0:\tlearn: 7.6139109\ttotal: 25.5ms\tremaining: 51ms\n",
      "1:\tlearn: 7.1133696\ttotal: 50.8ms\tremaining: 25.4ms\n",
      "2:\tlearn: 6.7931859\ttotal: 74.8ms\tremaining: 0us\n",
      "Learning rate set to 0.5\n",
      "0:\tlearn: 7.4828943\ttotal: 26.4ms\tremaining: 52.8ms\n",
      "1:\tlearn: 7.0178161\ttotal: 52.3ms\tremaining: 26.1ms\n",
      "2:\tlearn: 6.6468379\ttotal: 77ms\tremaining: 0us\n",
      "Learning rate set to 0.5\n",
      "0:\tlearn: 7.4290365\ttotal: 25.2ms\tremaining: 50.4ms\n",
      "1:\tlearn: 6.9819476\ttotal: 48.9ms\tremaining: 24.4ms\n",
      "2:\tlearn: 6.6850469\ttotal: 73.3ms\tremaining: 0us\n",
      "Learning rate set to 0.5\n",
      "0:\tlearn: 7.3811187\ttotal: 25.8ms\tremaining: 51.6ms\n",
      "1:\tlearn: 6.8587691\ttotal: 51.5ms\tremaining: 25.8ms\n",
      "2:\tlearn: 6.5154448\ttotal: 76.2ms\tremaining: 0us\n",
      "Learning rate set to 0.5\n",
      "0:\tlearn: 5.5247926\ttotal: 6.32ms\tremaining: 25.3ms\n",
      "1:\tlearn: 4.8043301\ttotal: 12.1ms\tremaining: 18.2ms\n",
      "2:\tlearn: 4.4717009\ttotal: 17.9ms\tremaining: 12ms\n",
      "3:\tlearn: 4.2807276\ttotal: 23.6ms\tremaining: 5.9ms\n",
      "4:\tlearn: 4.1702988\ttotal: 29.2ms\tremaining: 0us\n",
      "Learning rate set to 0.5\n",
      "0:\tlearn: 5.8937160\ttotal: 7.73ms\tremaining: 30.9ms\n",
      "1:\tlearn: 5.2836352\ttotal: 15.1ms\tremaining: 22.7ms\n",
      "2:\tlearn: 4.8957148\ttotal: 22.4ms\tremaining: 14.9ms\n",
      "3:\tlearn: 4.6927863\ttotal: 29.3ms\tremaining: 7.32ms\n",
      "4:\tlearn: 4.4831985\ttotal: 36.1ms\tremaining: 0us\n",
      "Learning rate set to 0.5\n",
      "0:\tlearn: 6.4785014\ttotal: 6.76ms\tremaining: 27ms\n",
      "1:\tlearn: 5.7010343\ttotal: 12.9ms\tremaining: 19.3ms\n",
      "2:\tlearn: 5.2206692\ttotal: 19.2ms\tremaining: 12.8ms\n",
      "3:\tlearn: 4.9595185\ttotal: 25.2ms\tremaining: 6.29ms\n",
      "4:\tlearn: 4.7910511\ttotal: 31.3ms\tremaining: 0us\n",
      "Learning rate set to 0.5\n",
      "0:\tlearn: 6.2215281\ttotal: 5.98ms\tremaining: 23.9ms\n",
      "1:\tlearn: 5.4970122\ttotal: 11.4ms\tremaining: 17.1ms\n",
      "2:\tlearn: 5.1914435\ttotal: 16.4ms\tremaining: 10.9ms\n",
      "3:\tlearn: 4.9805439\ttotal: 21.5ms\tremaining: 5.36ms\n",
      "4:\tlearn: 4.8300475\ttotal: 26.6ms\tremaining: 0us\n",
      "Learning rate set to 0.5\n",
      "0:\tlearn: 5.9460719\ttotal: 6.53ms\tremaining: 26.1ms\n",
      "1:\tlearn: 5.3410360\ttotal: 11.5ms\tremaining: 17.3ms\n",
      "2:\tlearn: 5.0623249\ttotal: 16.5ms\tremaining: 11ms\n",
      "3:\tlearn: 4.8676197\ttotal: 21.4ms\tremaining: 5.36ms\n",
      "4:\tlearn: 4.7278274\ttotal: 26.1ms\tremaining: 0us\n",
      "Learning rate set to 0.5\n",
      "0:\tlearn: 7.3130001\ttotal: 25.9ms\tremaining: 103ms\n",
      "1:\tlearn: 6.7436850\ttotal: 50.2ms\tremaining: 75.3ms\n",
      "2:\tlearn: 6.5036194\ttotal: 73.8ms\tremaining: 49.2ms\n",
      "3:\tlearn: 6.2900617\ttotal: 97ms\tremaining: 24.3ms\n",
      "4:\tlearn: 6.1587738\ttotal: 120ms\tremaining: 0us\n",
      "Learning rate set to 0.5\n",
      "0:\tlearn: 7.6139109\ttotal: 26.1ms\tremaining: 104ms\n",
      "1:\tlearn: 7.0681817\ttotal: 54.8ms\tremaining: 82.2ms\n",
      "2:\tlearn: 6.7714456\ttotal: 81.6ms\tremaining: 54.4ms\n",
      "3:\tlearn: 6.5518891\ttotal: 107ms\tremaining: 26.8ms\n",
      "4:\tlearn: 6.4136341\ttotal: 130ms\tremaining: 0us\n",
      "Learning rate set to 0.5\n",
      "0:\tlearn: 7.4828943\ttotal: 25.8ms\tremaining: 103ms\n",
      "1:\tlearn: 6.9719609\ttotal: 50.5ms\tremaining: 75.8ms\n",
      "2:\tlearn: 6.6687107\ttotal: 74.2ms\tremaining: 49.5ms\n",
      "3:\tlearn: 6.4820418\ttotal: 96.2ms\tremaining: 24.1ms\n",
      "4:\tlearn: 6.3188661\ttotal: 120ms\tremaining: 0us\n",
      "Learning rate set to 0.5\n",
      "0:\tlearn: 7.4216703\ttotal: 27ms\tremaining: 108ms\n",
      "1:\tlearn: 6.9755894\ttotal: 58.8ms\tremaining: 88.2ms\n",
      "2:\tlearn: 6.6876323\ttotal: 82.6ms\tremaining: 55.1ms\n",
      "3:\tlearn: 6.4539965\ttotal: 106ms\tremaining: 26.4ms\n",
      "4:\tlearn: 6.3035729\ttotal: 130ms\tremaining: 0us\n",
      "Learning rate set to 0.5\n",
      "0:\tlearn: 7.3775699\ttotal: 24.9ms\tremaining: 99.4ms\n",
      "1:\tlearn: 6.8553036\ttotal: 50.1ms\tremaining: 75.1ms\n",
      "2:\tlearn: 6.5119230\ttotal: 74.8ms\tremaining: 49.9ms\n",
      "3:\tlearn: 6.2887259\ttotal: 98.7ms\tremaining: 24.7ms\n",
      "4:\tlearn: 6.1523292\ttotal: 122ms\tremaining: 0us\n",
      "Learning rate set to 0.5\n",
      "0:\tlearn: 5.5247926\ttotal: 6.7ms\tremaining: 26.8ms\n",
      "1:\tlearn: 4.8043301\ttotal: 12.5ms\tremaining: 18.8ms\n",
      "2:\tlearn: 4.4717009\ttotal: 18.7ms\tremaining: 12.5ms\n",
      "3:\tlearn: 4.2807276\ttotal: 24.6ms\tremaining: 6.16ms\n",
      "4:\tlearn: 4.1702988\ttotal: 30.8ms\tremaining: 0us\n",
      "Learning rate set to 0.5\n",
      "0:\tlearn: 5.8937160\ttotal: 7.99ms\tremaining: 31.9ms\n",
      "1:\tlearn: 5.2836352\ttotal: 15.4ms\tremaining: 23.1ms\n",
      "2:\tlearn: 4.8957148\ttotal: 22.6ms\tremaining: 15.1ms\n",
      "3:\tlearn: 4.6927863\ttotal: 29.4ms\tremaining: 7.36ms\n",
      "4:\tlearn: 4.4831985\ttotal: 36ms\tremaining: 0us\n",
      "Learning rate set to 0.5\n",
      "0:\tlearn: 6.4785014\ttotal: 6.96ms\tremaining: 27.8ms\n",
      "1:\tlearn: 5.7010343\ttotal: 13.1ms\tremaining: 19.7ms\n",
      "2:\tlearn: 5.2206692\ttotal: 19.2ms\tremaining: 12.8ms\n",
      "3:\tlearn: 4.9595185\ttotal: 25.3ms\tremaining: 6.31ms\n",
      "4:\tlearn: 4.7910511\ttotal: 31.4ms\tremaining: 0us\n",
      "Learning rate set to 0.5\n",
      "0:\tlearn: 6.2215281\ttotal: 6.18ms\tremaining: 24.7ms\n",
      "1:\tlearn: 5.4970122\ttotal: 11.8ms\tremaining: 17.8ms\n",
      "2:\tlearn: 5.1914435\ttotal: 17.1ms\tremaining: 11.4ms\n",
      "3:\tlearn: 4.9805439\ttotal: 22.1ms\tremaining: 5.53ms\n",
      "4:\tlearn: 4.8300475\ttotal: 27.3ms\tremaining: 0us\n",
      "Learning rate set to 0.5\n",
      "0:\tlearn: 5.9460719\ttotal: 5.65ms\tremaining: 22.6ms\n",
      "1:\tlearn: 5.3410360\ttotal: 10.8ms\tremaining: 16.1ms\n",
      "2:\tlearn: 5.0623249\ttotal: 15.6ms\tremaining: 10.4ms\n",
      "3:\tlearn: 4.8676197\ttotal: 20.5ms\tremaining: 5.13ms\n",
      "4:\tlearn: 4.7278274\ttotal: 25.4ms\tremaining: 0us\n",
      "Learning rate set to 0.5\n",
      "0:\tlearn: 7.2615917\ttotal: 7.42ms\tremaining: 22.3ms\n",
      "1:\tlearn: 6.7531252\ttotal: 15.1ms\tremaining: 15.1ms\n",
      "2:\tlearn: 6.4795493\ttotal: 22.4ms\tremaining: 7.48ms\n",
      "3:\tlearn: 6.3082656\ttotal: 29.7ms\tremaining: 0us\n",
      "Learning rate set to 0.5\n",
      "0:\tlearn: 7.6174782\ttotal: 8.59ms\tremaining: 25.8ms\n",
      "1:\tlearn: 7.0631018\ttotal: 17.2ms\tremaining: 17.2ms\n",
      "2:\tlearn: 6.8225397\ttotal: 25.4ms\tremaining: 8.47ms\n",
      "3:\tlearn: 6.6591356\ttotal: 33.3ms\tremaining: 0us\n",
      "Learning rate set to 0.5\n",
      "0:\tlearn: 7.5138590\ttotal: 7.09ms\tremaining: 21.3ms\n",
      "1:\tlearn: 7.0112271\ttotal: 13.6ms\tremaining: 13.6ms\n",
      "2:\tlearn: 6.7175397\ttotal: 20.2ms\tremaining: 6.75ms\n",
      "3:\tlearn: 6.5505200\ttotal: 26.6ms\tremaining: 0us\n",
      "Learning rate set to 0.5\n",
      "0:\tlearn: 7.4134676\ttotal: 8.37ms\tremaining: 25.1ms\n",
      "1:\tlearn: 6.9630605\ttotal: 16.2ms\tremaining: 16.2ms\n",
      "2:\tlearn: 6.6677117\ttotal: 24ms\tremaining: 8.01ms\n",
      "3:\tlearn: 6.4672674\ttotal: 31.5ms\tremaining: 0us\n",
      "Learning rate set to 0.5\n",
      "0:\tlearn: 7.2816343\ttotal: 6.78ms\tremaining: 20.3ms\n",
      "1:\tlearn: 6.8035629\ttotal: 13.3ms\tremaining: 13.3ms\n",
      "2:\tlearn: 6.5087042\ttotal: 19.5ms\tremaining: 6.49ms\n",
      "3:\tlearn: 6.2988000\ttotal: 25.5ms\tremaining: 0us\n",
      "\u001b[1mЛучшая модель для rougher:\u001b[0;0m Pipeline(steps=[('standardscaler', StandardScaler()),\n",
      "                ('catboostregressor',\n",
      "                 <catboost.core.CatBoostRegressor object at 0x7f0b76dd0eb0>)])\n",
      "\u001b[1mЛучшая модель для final:\u001b[0;0m Pipeline(steps=[('standardscaler', StandardScaler()),\n",
      "                ('selectfrommodel',\n",
      "                 SelectFromModel(estimator=RandomForestRegressor(n_estimators=10,\n",
      "                                                                 random_state=123))),\n",
      "                ('catboostregressor',\n",
      "                 <catboost.core.CatBoostRegressor object at 0x7f0b76dd0400>)])\n",
      "\u001b[1mИтоговая sMAPE на обучающей выборке: 7.8%\u001b[0;0m\n",
      "CPU times: user 2min 53s, sys: 0 ns, total: 2min 53s\n",
      "Wall time: 4min 21s\n"
     ]
    }
   ],
   "source": [
    "%%time\n",
    "train_result_combination(models_rougher = [cb_rougher_1, cb_rougher_2, cb_rougher_3],\n",
    "                         models_final = [cb_final_1, cb_final_2, cb_final_3])"
   ]
  },
  {
   "cell_type": "markdown",
   "metadata": {},
   "source": [
    "### Decision Tree Regressor (Регрессор дерева решения)"
   ]
  },
  {
   "cell_type": "code",
   "execution_count": 44,
   "metadata": {},
   "outputs": [],
   "source": [
    "model_10 = make_pipeline(DecisionTreeRegressor(random_state=123))\n",
    "\n",
    "model_11 = make_pipeline(StandardScaler(), DecisionTreeRegressor(random_state=123))\n",
    "\n",
    "model_12 = make_pipeline(StandardScaler(),\n",
    "                      SelectFromModel(estimator=RandomForestRegressor(n_estimators=10, random_state=123)),\n",
    "                      DecisionTreeRegressor(random_state=123))"
   ]
  },
  {
   "cell_type": "code",
   "execution_count": 45,
   "metadata": {},
   "outputs": [
    {
     "name": "stdout",
     "output_type": "stream",
     "text": [
      "\u001b[1mГиперпараметры для rougher:\u001b[0;0m [{'decisiontreeregressor__max_depth': 5}, {'decisiontreeregressor__max_depth': 5}, {'decisiontreeregressor__max_depth': 4}]\n",
      "\u001b[1mГиперпараметры для final:\u001b[0;0m [{'decisiontreeregressor__max_depth': 1}, {'decisiontreeregressor__max_depth': 1}, {'decisiontreeregressor__max_depth': 1}]\n",
      "CPU times: user 5min 3s, sys: 0 ns, total: 5min 3s\n",
      "Wall time: 5min 8s\n"
     ]
    }
   ],
   "source": [
    "%%time\n",
    "grid_search(models=[model_10, model_11, model_12], parametrs={'decisiontreeregressor__max_depth': range (1, 6)})"
   ]
  },
  {
   "cell_type": "code",
   "execution_count": 46,
   "metadata": {},
   "outputs": [],
   "source": [
    "dtr_rougher_1 = DecisionTreeRegressor(random_state=123, max_depth=5)\n",
    "\n",
    "dtr_rougher_2 = make_pipeline(StandardScaler(), DecisionTreeRegressor(random_state=123, max_depth=5))\n",
    "\n",
    "dtr_rougher_3 = make_pipeline(StandardScaler(),\n",
    "                      SelectFromModel(estimator=RandomForestRegressor(n_estimators=10, random_state=123)),\n",
    "                      DecisionTreeRegressor(random_state=123, max_depth=4))\n",
    "\n",
    "\n",
    "dtr_final_1 = DecisionTreeRegressor(random_state=123, max_depth=1)\n",
    "\n",
    "dtr_final_2 = make_pipeline(StandardScaler(), DecisionTreeRegressor(random_state=123, max_depth=1))\n",
    "\n",
    "dtr_final_3 = make_pipeline(StandardScaler(),\n",
    "                      SelectFromModel(estimator=RandomForestRegressor(n_estimators=10, random_state=123)),\n",
    "                      DecisionTreeRegressor(random_state=123, max_depth=1))"
   ]
  },
  {
   "cell_type": "code",
   "execution_count": 47,
   "metadata": {},
   "outputs": [
    {
     "name": "stdout",
     "output_type": "stream",
     "text": [
      "\u001b[1mЛучшая модель для rougher:\u001b[0;0m DecisionTreeRegressor(max_depth=5, random_state=123)\n",
      "\u001b[1mЛучшая модель для final:\u001b[0;0m DecisionTreeRegressor(max_depth=1, random_state=123)\n",
      "\u001b[1mИтоговая sMAPE на обучающей выборке: 8.3%\u001b[0;0m\n",
      "CPU times: user 2min 51s, sys: 0 ns, total: 2min 51s\n",
      "Wall time: 2min 53s\n"
     ]
    }
   ],
   "source": [
    "%%time\n",
    "train_result_combination(models_rougher = [dtr_rougher_1, dtr_rougher_2, dtr_rougher_3],\n",
    "                         models_final = [dtr_final_1, dtr_final_2, dtr_final_3])"
   ]
  },
  {
   "cell_type": "markdown",
   "metadata": {},
   "source": [
    "**CatBoostRegressor** имеет лучшие показатели на кроссвалидации **sMAPE = 7.8%**, этот показатель меньше, чем у простой модели, значит алгоритм работает точнее. Протестируем модели.\n",
    "\n",
    "Лучшая модель для rougher:\n",
    "- **cb_rougher_2 = make_pipeline(StandardScaler(), CatBoostRegressor(random_state=123, iterations=5))***\n",
    "\n",
    "Лучшая модель для final:\n",
    "- **cb_final_3 = make_pipeline(StandardScaler(), SelectFromModel(estimator=RandomForestRegressor(n_estimators=10, random_state=123)), CatBoostRegressor(random_state=123, iterations=3))**"
   ]
  },
  {
   "cell_type": "markdown",
   "metadata": {},
   "source": [
    "### Проверка лучшей модели на тестовой выборке"
   ]
  },
  {
   "cell_type": "code",
   "execution_count": 48,
   "metadata": {},
   "outputs": [
    {
     "name": "stdout",
     "output_type": "stream",
     "text": [
      "Learning rate set to 0.5\n",
      "0:\tlearn: 6.0187447\ttotal: 28.2ms\tremaining: 113ms\n",
      "1:\tlearn: 5.3033151\ttotal: 56.8ms\tremaining: 85.2ms\n",
      "2:\tlearn: 4.9650671\ttotal: 83.5ms\tremaining: 55.7ms\n",
      "3:\tlearn: 4.7449895\ttotal: 111ms\tremaining: 27.8ms\n",
      "4:\tlearn: 4.5642653\ttotal: 138ms\tremaining: 0us\n",
      "Learning rate set to 0.5\n",
      "0:\tlearn: 7.4906551\ttotal: 7.76ms\tremaining: 23.3ms\n",
      "1:\tlearn: 7.0147447\ttotal: 14.6ms\tremaining: 14.6ms\n",
      "2:\tlearn: 6.7697015\ttotal: 21.2ms\tremaining: 7.07ms\n",
      "3:\tlearn: 6.6412564\ttotal: 27.8ms\tremaining: 0us\n",
      "\u001b[1mИтоговая sMAPE на тестовой выборке: 6.7%\u001b[0;0m\n"
     ]
    }
   ],
   "source": [
    "test_result(cb_rougher_2, cb_final_3)"
   ]
  },
  {
   "cell_type": "markdown",
   "metadata": {},
   "source": [
    "## Общий вывод"
   ]
  },
  {
   "cell_type": "markdown",
   "metadata": {},
   "source": [
    "В ходе проекта были исследованы данные с параметрами добычи и очистки золотосодержащей руды. Данные были представлены в трех файлах: обучающая выборка, тестовая выборка, исходные данные.\n",
    "\n",
    "На этапе **подготовки данных** была проведена проверка корректности расчета эффективности обогращения. Согласно проведенным рассчетам был сделан вывод, что эффективность обогращения в исходных данных рассчитана корректно.\n",
    "\n",
    "Далее был проведен анализ признаков, недоступных в тестовой выборке. Было выявлено 34 таких признака, которые были восстановлены в тестовой выборке из исходных данных.\n",
    "\n",
    "На этапе **анализа данных** было рассмотрено изменение концентрации металлов на различных этапах очистки сырья. Было установлено, что концентрация золота увеличивается после каждого этапа очистки, концентрация серебра  уменьшается после каждого этапа, концентрация свинца увеличивается после первичной очистки и почти не изменяется после вторичной. \n",
    "\n",
    "Далее сравнили распределения размеров гранул сырья на обучающей и тестовой выборках. Оказалось, что на этапе флотации распределения размеров гранул сырья на обучающей и тестовой выборках довольно сильно отличаются. Во избежание неправильных оценок модели, признак `rougher.input.feed_size` был исключен из обеих выборок.\n",
    "\n",
    "Также на данном этапе была исследована суммарная концентрация всех веществ на разных стадиях: в сырье, в черновом и финальном концентратах. Было установлено, что концентрация металлов с каждым этапом очистки увеличивается, при этом разброс значений концентраций уменьшается. Концентрация сольвента (растворителя), наоборот, с каждым этапом очистки уменьшается, разброс значений концентраций также уменьшается.\n",
    "\n",
    "В **п.4** была составлена функция для расчета итогового показателя качества модели - метрики sMAPE (симметричное среднее абсолютное процентное отклонение). Для предсказания значений эффективности обогращения было использовано несколько моделей: **Lasso, Ridge, CatBoostRegressor, DecisionTreeRegressor**. Для каждой модели было составлено по 3 сценария с различными комбинациями функций (стандартизация признаков, отбор признаков), для моделей CatBoostRegressor, DecisionTreeRegressor дополнительно были отобраны значения гиперпараметров. \n",
    "\n",
    "Лучшие результаты на кроссвалидации показала модель **CatBoostRegressor**. Итоговая sMAPE на тестовой выборке составила **6,7%**."
   ]
  }
 ],
 "metadata": {
  "ExecuteTimeLog": [
   {
    "duration": 1762,
    "start_time": "2022-04-09T18:53:27.354Z"
   },
   {
    "duration": 183,
    "start_time": "2022-04-14T07:54:44.518Z"
   },
   {
    "duration": 2196,
    "start_time": "2022-04-14T07:54:56.151Z"
   },
   {
    "duration": 787,
    "start_time": "2022-04-14T07:54:58.349Z"
   },
   {
    "duration": 5,
    "start_time": "2022-04-14T07:54:59.137Z"
   },
   {
    "duration": 24,
    "start_time": "2022-04-14T07:54:59.143Z"
   },
   {
    "duration": 15,
    "start_time": "2022-04-14T07:54:59.170Z"
   },
   {
    "duration": 12,
    "start_time": "2022-04-14T07:54:59.187Z"
   },
   {
    "duration": 286,
    "start_time": "2022-04-14T07:54:59.201Z"
   },
   {
    "duration": 236,
    "start_time": "2022-04-14T07:54:59.489Z"
   },
   {
    "duration": 136,
    "start_time": "2022-04-14T07:54:59.727Z"
   },
   {
    "duration": 20,
    "start_time": "2022-04-14T07:54:59.865Z"
   },
   {
    "duration": 23,
    "start_time": "2022-04-14T07:54:59.887Z"
   },
   {
    "duration": 36,
    "start_time": "2022-04-14T07:54:59.911Z"
   },
   {
    "duration": 236,
    "start_time": "2022-04-14T07:54:59.949Z"
   },
   {
    "duration": 4,
    "start_time": "2022-04-14T07:55:00.188Z"
   },
   {
    "duration": 264,
    "start_time": "2022-04-14T07:55:00.194Z"
   },
   {
    "duration": 7,
    "start_time": "2022-04-14T07:55:00.459Z"
   },
   {
    "duration": 9,
    "start_time": "2022-04-14T07:55:00.467Z"
   },
   {
    "duration": 12,
    "start_time": "2022-04-14T07:55:00.478Z"
   },
   {
    "duration": 48,
    "start_time": "2022-04-14T07:55:00.491Z"
   },
   {
    "duration": 5,
    "start_time": "2022-04-14T07:55:00.541Z"
   },
   {
    "duration": 4273,
    "start_time": "2022-04-14T13:48:32.401Z"
   },
   {
    "duration": 1259,
    "start_time": "2022-04-14T13:48:36.677Z"
   },
   {
    "duration": 7,
    "start_time": "2022-04-14T13:48:40.251Z"
   },
   {
    "duration": 44,
    "start_time": "2022-04-14T13:48:40.261Z"
   },
   {
    "duration": 47,
    "start_time": "2022-04-14T13:48:40.308Z"
   },
   {
    "duration": 25,
    "start_time": "2022-04-14T13:48:40.475Z"
   },
   {
    "duration": 474,
    "start_time": "2022-04-14T13:48:40.504Z"
   },
   {
    "duration": 318,
    "start_time": "2022-04-14T13:48:40.981Z"
   },
   {
    "duration": 2580,
    "start_time": "2022-04-14T16:29:46.002Z"
   },
   {
    "duration": 5947,
    "start_time": "2022-04-14T16:29:48.586Z"
   },
   {
    "duration": 7,
    "start_time": "2022-04-14T16:29:54.535Z"
   },
   {
    "duration": 46,
    "start_time": "2022-04-14T16:29:54.545Z"
   },
   {
    "duration": 22,
    "start_time": "2022-04-14T16:29:54.594Z"
   },
   {
    "duration": 16,
    "start_time": "2022-04-14T16:29:54.619Z"
   },
   {
    "duration": 385,
    "start_time": "2022-04-14T16:29:54.638Z"
   },
   {
    "duration": 402,
    "start_time": "2022-04-14T16:29:55.026Z"
   },
   {
    "duration": 233,
    "start_time": "2022-04-14T16:29:55.430Z"
   },
   {
    "duration": 42,
    "start_time": "2022-04-14T16:29:55.665Z"
   },
   {
    "duration": 30,
    "start_time": "2022-04-14T16:29:55.709Z"
   },
   {
    "duration": 59,
    "start_time": "2022-04-14T16:29:55.741Z"
   },
   {
    "duration": 368,
    "start_time": "2022-04-14T16:29:55.802Z"
   },
   {
    "duration": 9,
    "start_time": "2022-04-14T16:29:56.175Z"
   },
   {
    "duration": 447,
    "start_time": "2022-04-14T16:29:56.186Z"
   },
   {
    "duration": 10,
    "start_time": "2022-04-14T16:29:56.635Z"
   },
   {
    "duration": 35,
    "start_time": "2022-04-14T16:29:56.647Z"
   },
   {
    "duration": 7,
    "start_time": "2022-04-14T16:29:56.685Z"
   },
   {
    "duration": 97,
    "start_time": "2022-04-14T16:29:56.695Z"
   },
   {
    "duration": 7,
    "start_time": "2022-04-14T16:29:56.794Z"
   },
   {
    "duration": 5917,
    "start_time": "2022-04-14T16:29:56.804Z"
   },
   {
    "duration": 10,
    "start_time": "2022-04-14T16:30:02.725Z"
   },
   {
    "duration": 654,
    "start_time": "2022-04-14T16:30:02.738Z"
   },
   {
    "duration": 26,
    "start_time": "2022-04-14T16:30:03.394Z"
   },
   {
    "duration": 76,
    "start_time": "2022-04-14T16:30:03.422Z"
   },
   {
    "duration": 14,
    "start_time": "2022-04-14T16:30:03.500Z"
   },
   {
    "duration": 65,
    "start_time": "2022-04-14T16:30:03.517Z"
   },
   {
    "duration": 1498,
    "start_time": "2022-04-14T16:30:03.584Z"
   },
   {
    "duration": 62999,
    "start_time": "2022-04-14T16:32:45.784Z"
   },
   {
    "duration": 62100,
    "start_time": "2022-04-14T16:33:48.787Z"
   },
   {
    "duration": 94,
    "start_time": "2022-04-14T16:34:50.891Z"
   },
   {
    "duration": 335728,
    "start_time": "2022-04-14T16:34:50.987Z"
   },
   {
    "duration": 2336,
    "start_time": "2022-04-14T16:42:58.978Z"
   },
   {
    "duration": 849,
    "start_time": "2022-04-14T16:43:01.318Z"
   },
   {
    "duration": 12,
    "start_time": "2022-04-14T16:43:02.169Z"
   },
   {
    "duration": 42,
    "start_time": "2022-04-14T16:43:02.184Z"
   },
   {
    "duration": 21,
    "start_time": "2022-04-14T16:43:02.228Z"
   },
   {
    "duration": 42,
    "start_time": "2022-04-14T16:43:02.251Z"
   },
   {
    "duration": 339,
    "start_time": "2022-04-14T16:43:02.296Z"
   },
   {
    "duration": 303,
    "start_time": "2022-04-14T16:43:02.637Z"
   },
   {
    "duration": 187,
    "start_time": "2022-04-14T16:43:02.942Z"
   },
   {
    "duration": 27,
    "start_time": "2022-04-14T16:43:03.133Z"
   },
   {
    "duration": 27,
    "start_time": "2022-04-14T16:43:03.182Z"
   },
   {
    "duration": 27,
    "start_time": "2022-04-14T16:43:03.211Z"
   },
   {
    "duration": 374,
    "start_time": "2022-04-14T16:43:03.240Z"
   },
   {
    "duration": 5,
    "start_time": "2022-04-14T16:43:03.617Z"
   },
   {
    "duration": 426,
    "start_time": "2022-04-14T16:43:03.624Z"
   },
   {
    "duration": 9,
    "start_time": "2022-04-14T16:43:04.052Z"
   },
   {
    "duration": 23,
    "start_time": "2022-04-14T16:43:04.063Z"
   },
   {
    "duration": 14,
    "start_time": "2022-04-14T16:43:04.088Z"
   },
   {
    "duration": 76,
    "start_time": "2022-04-14T16:43:04.105Z"
   },
   {
    "duration": 7,
    "start_time": "2022-04-14T16:43:04.184Z"
   },
   {
    "duration": 5346,
    "start_time": "2022-04-14T16:43:04.194Z"
   },
   {
    "duration": 9,
    "start_time": "2022-04-14T16:43:09.543Z"
   },
   {
    "duration": 570,
    "start_time": "2022-04-14T16:43:09.556Z"
   },
   {
    "duration": 26,
    "start_time": "2022-04-14T16:43:10.181Z"
   },
   {
    "duration": 16,
    "start_time": "2022-04-14T16:43:10.209Z"
   },
   {
    "duration": 66,
    "start_time": "2022-04-14T16:43:10.227Z"
   },
   {
    "duration": 9,
    "start_time": "2022-04-14T16:43:10.296Z"
   },
   {
    "duration": 60497,
    "start_time": "2022-04-14T16:44:21.787Z"
   },
   {
    "duration": 94,
    "start_time": "2022-04-14T16:45:22.288Z"
   },
   {
    "duration": 26008,
    "start_time": "2022-04-14T16:45:22.385Z"
   },
   {
    "duration": 62600,
    "start_time": "2022-04-14T16:45:48.483Z"
   },
   {
    "duration": 61794,
    "start_time": "2022-04-14T16:46:51.087Z"
   },
   {
    "duration": 99,
    "start_time": "2022-04-14T16:47:52.884Z"
   },
   {
    "duration": 359749,
    "start_time": "2022-04-14T16:47:52.985Z"
   },
   {
    "duration": 159642,
    "start_time": "2022-04-14T16:53:52.736Z"
   },
   {
    "duration": 2578,
    "start_time": "2022-04-14T17:00:23.324Z"
   },
   {
    "duration": 900,
    "start_time": "2022-04-14T17:00:25.905Z"
   },
   {
    "duration": 7,
    "start_time": "2022-04-14T17:00:26.807Z"
   },
   {
    "duration": 34,
    "start_time": "2022-04-14T17:00:26.817Z"
   },
   {
    "duration": 48,
    "start_time": "2022-04-14T17:00:26.854Z"
   },
   {
    "duration": 17,
    "start_time": "2022-04-14T17:00:26.905Z"
   },
   {
    "duration": 361,
    "start_time": "2022-04-14T17:00:26.925Z"
   },
   {
    "duration": 299,
    "start_time": "2022-04-14T17:00:27.288Z"
   },
   {
    "duration": 187,
    "start_time": "2022-04-14T17:00:27.590Z"
   },
   {
    "duration": 28,
    "start_time": "2022-04-14T17:00:27.784Z"
   },
   {
    "duration": 31,
    "start_time": "2022-04-14T17:00:27.815Z"
   },
   {
    "duration": 60,
    "start_time": "2022-04-14T17:00:27.849Z"
   },
   {
    "duration": 377,
    "start_time": "2022-04-14T17:00:27.911Z"
   },
   {
    "duration": 4,
    "start_time": "2022-04-14T17:00:28.290Z"
   },
   {
    "duration": 401,
    "start_time": "2022-04-14T17:00:28.296Z"
   },
   {
    "duration": 9,
    "start_time": "2022-04-14T17:00:28.700Z"
   },
   {
    "duration": 12,
    "start_time": "2022-04-14T17:00:28.712Z"
   },
   {
    "duration": 24,
    "start_time": "2022-04-14T17:00:28.726Z"
   },
   {
    "duration": 73,
    "start_time": "2022-04-14T17:00:28.753Z"
   },
   {
    "duration": 10,
    "start_time": "2022-04-14T17:00:28.829Z"
   },
   {
    "duration": 1195,
    "start_time": "2022-04-14T17:00:28.841Z"
   },
   {
    "duration": 6,
    "start_time": "2022-04-14T17:00:30.039Z"
   },
   {
    "duration": 687,
    "start_time": "2022-04-14T17:00:30.047Z"
   },
   {
    "duration": 68,
    "start_time": "2022-04-14T17:00:30.737Z"
   },
   {
    "duration": 17,
    "start_time": "2022-04-14T17:00:30.808Z"
   },
   {
    "duration": 11,
    "start_time": "2022-04-14T17:00:30.882Z"
   },
   {
    "duration": 15,
    "start_time": "2022-04-14T17:00:30.896Z"
   },
   {
    "duration": 472,
    "start_time": "2022-04-14T17:00:30.916Z"
   },
   {
    "duration": 384,
    "start_time": "2022-04-14T17:00:31.390Z"
   },
   {
    "duration": 9,
    "start_time": "2022-04-14T17:00:31.777Z"
   },
   {
    "duration": 386,
    "start_time": "2022-04-14T17:00:31.788Z"
   },
   {
    "duration": 8,
    "start_time": "2022-04-14T17:00:32.181Z"
   },
   {
    "duration": 4,
    "start_time": "2022-04-14T17:00:32.192Z"
   },
   {
    "duration": 7,
    "start_time": "2022-04-14T17:00:32.198Z"
   },
   {
    "duration": 6,
    "start_time": "2022-04-14T17:00:32.207Z"
   },
   {
    "duration": 9,
    "start_time": "2022-04-14T17:00:32.216Z"
   },
   {
    "duration": 56,
    "start_time": "2022-04-14T17:00:32.227Z"
   },
   {
    "duration": 36,
    "start_time": "2022-04-14T17:00:32.285Z"
   },
   {
    "duration": 10,
    "start_time": "2022-04-14T17:00:32.323Z"
   },
   {
    "duration": 6,
    "start_time": "2022-04-14T17:00:32.335Z"
   },
   {
    "duration": 3945,
    "start_time": "2022-04-14T17:00:32.343Z"
   },
   {
    "duration": 61417,
    "start_time": "2022-04-14T17:00:36.291Z"
   },
   {
    "duration": 60225,
    "start_time": "2022-04-14T17:01:37.789Z"
   },
   {
    "duration": 98,
    "start_time": "2022-04-14T17:02:38.084Z"
   },
   {
    "duration": 28702,
    "start_time": "2022-04-14T17:02:38.184Z"
   },
   {
    "duration": 63407,
    "start_time": "2022-04-14T17:03:06.889Z"
   },
   {
    "duration": 60991,
    "start_time": "2022-04-14T17:04:10.298Z"
   },
   {
    "duration": 92,
    "start_time": "2022-04-14T17:05:11.292Z"
   },
   {
    "duration": 362385,
    "start_time": "2022-04-14T17:05:11.387Z"
   },
   {
    "duration": 171755,
    "start_time": "2022-04-14T17:11:13.774Z"
   },
   {
    "duration": 160919,
    "start_time": "2022-04-14T17:14:05.532Z"
   },
   {
    "duration": 77469,
    "start_time": "2022-04-14T17:16:46.453Z"
   },
   {
    "duration": 7,
    "start_time": "2022-04-14T18:41:31.770Z"
   },
   {
    "duration": 1996,
    "start_time": "2022-04-14T18:41:33.841Z"
   },
   {
    "duration": 2162,
    "start_time": "2022-04-14T18:41:53.461Z"
   },
   {
    "duration": 868,
    "start_time": "2022-04-14T18:41:55.626Z"
   },
   {
    "duration": 5,
    "start_time": "2022-04-14T18:41:56.497Z"
   },
   {
    "duration": 29,
    "start_time": "2022-04-14T18:41:56.505Z"
   },
   {
    "duration": 50,
    "start_time": "2022-04-14T18:41:56.536Z"
   },
   {
    "duration": 17,
    "start_time": "2022-04-14T18:41:56.589Z"
   },
   {
    "duration": 344,
    "start_time": "2022-04-14T18:41:56.608Z"
   },
   {
    "duration": 307,
    "start_time": "2022-04-14T18:41:56.954Z"
   },
   {
    "duration": 184,
    "start_time": "2022-04-14T18:41:57.263Z"
   },
   {
    "duration": 39,
    "start_time": "2022-04-14T18:41:57.451Z"
   },
   {
    "duration": 27,
    "start_time": "2022-04-14T18:41:57.493Z"
   },
   {
    "duration": 61,
    "start_time": "2022-04-14T18:41:57.522Z"
   },
   {
    "duration": 347,
    "start_time": "2022-04-14T18:41:57.586Z"
   },
   {
    "duration": 5,
    "start_time": "2022-04-14T18:41:57.935Z"
   },
   {
    "duration": 414,
    "start_time": "2022-04-14T18:41:57.942Z"
   },
   {
    "duration": 24,
    "start_time": "2022-04-14T18:41:58.359Z"
   },
   {
    "duration": 6,
    "start_time": "2022-04-14T18:41:58.385Z"
   },
   {
    "duration": 7,
    "start_time": "2022-04-14T18:41:58.393Z"
   },
   {
    "duration": 93,
    "start_time": "2022-04-14T18:41:58.403Z"
   },
   {
    "duration": 8,
    "start_time": "2022-04-14T18:41:58.498Z"
   },
   {
    "duration": 1221,
    "start_time": "2022-04-14T18:41:58.508Z"
   },
   {
    "duration": 9,
    "start_time": "2022-04-14T18:41:59.732Z"
   },
   {
    "duration": 4084,
    "start_time": "2022-04-14T18:41:59.744Z"
   },
   {
    "duration": 27,
    "start_time": "2022-04-14T18:42:03.831Z"
   },
   {
    "duration": 16,
    "start_time": "2022-04-14T18:42:03.882Z"
   },
   {
    "duration": 11,
    "start_time": "2022-04-14T18:42:03.901Z"
   },
   {
    "duration": 28,
    "start_time": "2022-04-14T18:42:03.915Z"
   },
   {
    "duration": 650,
    "start_time": "2022-04-14T18:42:03.951Z"
   },
   {
    "duration": 395,
    "start_time": "2022-04-14T18:42:04.605Z"
   },
   {
    "duration": 10,
    "start_time": "2022-04-14T18:42:05.003Z"
   },
   {
    "duration": 409,
    "start_time": "2022-04-14T18:42:05.015Z"
   },
   {
    "duration": 8,
    "start_time": "2022-04-14T18:42:05.427Z"
   },
   {
    "duration": 5,
    "start_time": "2022-04-14T18:42:05.437Z"
   },
   {
    "duration": 38,
    "start_time": "2022-04-14T18:42:05.444Z"
   },
   {
    "duration": 6,
    "start_time": "2022-04-14T18:42:05.485Z"
   },
   {
    "duration": 9,
    "start_time": "2022-04-14T18:42:05.493Z"
   },
   {
    "duration": 5,
    "start_time": "2022-04-14T18:42:05.505Z"
   },
   {
    "duration": 69,
    "start_time": "2022-04-14T18:42:05.513Z"
   },
   {
    "duration": 10,
    "start_time": "2022-04-14T18:42:05.584Z"
   },
   {
    "duration": 193,
    "start_time": "2022-04-14T18:42:05.596Z"
   },
   {
    "duration": 3492,
    "start_time": "2022-04-14T18:42:05.792Z"
   },
   {
    "duration": 60595,
    "start_time": "2022-04-14T18:42:09.288Z"
   },
   {
    "duration": 61897,
    "start_time": "2022-04-14T18:43:09.887Z"
   },
   {
    "duration": 96,
    "start_time": "2022-04-14T18:44:11.787Z"
   },
   {
    "duration": 27802,
    "start_time": "2022-04-14T18:44:11.886Z"
   },
   {
    "duration": 60893,
    "start_time": "2022-04-14T18:44:39.691Z"
   },
   {
    "duration": 63200,
    "start_time": "2022-04-14T18:45:40.587Z"
   },
   {
    "duration": 92,
    "start_time": "2022-04-14T18:46:43.791Z"
   },
   {
    "duration": 364191,
    "start_time": "2022-04-14T18:46:43.886Z"
   },
   {
    "duration": 203722,
    "start_time": "2022-04-14T18:52:48.080Z"
   },
   {
    "duration": 175677,
    "start_time": "2022-04-14T18:56:11.805Z"
   },
   {
    "duration": 85917,
    "start_time": "2022-04-14T18:59:07.484Z"
   },
   {
    "duration": 8,
    "start_time": "2022-04-14T19:03:24.681Z"
   },
   {
    "duration": 1153,
    "start_time": "2022-04-14T19:03:25.691Z"
   },
   {
    "duration": 7,
    "start_time": "2022-04-14T19:04:06.022Z"
   },
   {
    "duration": 241,
    "start_time": "2022-04-14T19:04:06.656Z"
   },
   {
    "duration": 8,
    "start_time": "2022-04-14T19:05:02.002Z"
   },
   {
    "duration": 1164,
    "start_time": "2022-04-14T19:05:02.633Z"
   },
   {
    "duration": 9,
    "start_time": "2022-04-14T19:05:23.861Z"
   },
   {
    "duration": 1089,
    "start_time": "2022-04-14T19:05:24.446Z"
   },
   {
    "duration": 8,
    "start_time": "2022-04-14T19:06:09.133Z"
   },
   {
    "duration": 1072,
    "start_time": "2022-04-14T19:06:09.753Z"
   },
   {
    "duration": 8,
    "start_time": "2022-04-14T19:06:25.347Z"
   },
   {
    "duration": 1132,
    "start_time": "2022-04-14T19:06:25.932Z"
   },
   {
    "duration": 11,
    "start_time": "2022-04-14T19:07:12.484Z"
   },
   {
    "duration": 1057,
    "start_time": "2022-04-14T19:07:12.989Z"
   },
   {
    "duration": 7,
    "start_time": "2022-04-14T19:07:43.070Z"
   },
   {
    "duration": 1167,
    "start_time": "2022-04-14T19:07:43.564Z"
   },
   {
    "duration": 7,
    "start_time": "2022-04-14T19:09:25.782Z"
   },
   {
    "duration": 3562,
    "start_time": "2022-04-14T19:09:26.398Z"
   },
   {
    "duration": 6,
    "start_time": "2022-04-14T19:09:48.348Z"
   },
   {
    "duration": 815,
    "start_time": "2022-04-14T19:09:48.358Z"
   },
   {
    "duration": 9,
    "start_time": "2022-04-14T19:09:49.176Z"
   },
   {
    "duration": 35,
    "start_time": "2022-04-14T19:09:49.187Z"
   },
   {
    "duration": 22,
    "start_time": "2022-04-14T19:09:49.226Z"
   },
   {
    "duration": 47,
    "start_time": "2022-04-14T19:09:49.250Z"
   },
   {
    "duration": 330,
    "start_time": "2022-04-14T19:09:49.299Z"
   },
   {
    "duration": 307,
    "start_time": "2022-04-14T19:09:49.631Z"
   },
   {
    "duration": 190,
    "start_time": "2022-04-14T19:09:49.940Z"
   },
   {
    "duration": 27,
    "start_time": "2022-04-14T19:09:50.133Z"
   },
   {
    "duration": 29,
    "start_time": "2022-04-14T19:09:50.181Z"
   },
   {
    "duration": 31,
    "start_time": "2022-04-14T19:09:50.214Z"
   },
   {
    "duration": 348,
    "start_time": "2022-04-14T19:09:50.281Z"
   },
   {
    "duration": 5,
    "start_time": "2022-04-14T19:09:50.635Z"
   },
   {
    "duration": 427,
    "start_time": "2022-04-14T19:09:50.643Z"
   },
   {
    "duration": 15,
    "start_time": "2022-04-14T19:09:51.072Z"
   },
   {
    "duration": 7,
    "start_time": "2022-04-14T19:09:51.090Z"
   },
   {
    "duration": 20,
    "start_time": "2022-04-14T19:09:51.100Z"
   },
   {
    "duration": 91,
    "start_time": "2022-04-14T19:09:51.123Z"
   },
   {
    "duration": 9,
    "start_time": "2022-04-14T19:09:51.217Z"
   },
   {
    "duration": 1158,
    "start_time": "2022-04-14T19:09:51.229Z"
   },
   {
    "duration": 7,
    "start_time": "2022-04-14T19:09:56.877Z"
   },
   {
    "duration": 3976,
    "start_time": "2022-04-14T19:09:57.555Z"
   },
   {
    "duration": 7,
    "start_time": "2022-04-14T19:12:46.187Z"
   },
   {
    "duration": 3378,
    "start_time": "2022-04-14T19:12:46.793Z"
   },
   {
    "duration": 8,
    "start_time": "2022-04-14T19:13:00.563Z"
   },
   {
    "duration": 3404,
    "start_time": "2022-04-14T19:13:00.993Z"
   },
   {
    "duration": 10,
    "start_time": "2022-04-14T19:16:01.944Z"
   },
   {
    "duration": 359,
    "start_time": "2022-04-14T19:16:02.545Z"
   },
   {
    "duration": 8,
    "start_time": "2022-04-14T19:16:14.590Z"
   },
   {
    "duration": 4234,
    "start_time": "2022-04-14T19:16:15.271Z"
   },
   {
    "duration": 7,
    "start_time": "2022-04-14T19:16:45.857Z"
   },
   {
    "duration": 4016,
    "start_time": "2022-04-14T19:16:46.511Z"
   },
   {
    "duration": 8,
    "start_time": "2022-04-14T19:17:07.719Z"
   },
   {
    "duration": 1068,
    "start_time": "2022-04-14T19:17:08.238Z"
   },
   {
    "duration": 8,
    "start_time": "2022-04-14T19:17:15.235Z"
   },
   {
    "duration": 1099,
    "start_time": "2022-04-14T19:17:16.127Z"
   },
   {
    "duration": 30,
    "start_time": "2022-04-14T19:18:15.199Z"
   },
   {
    "duration": 2013,
    "start_time": "2022-04-14T19:18:56.039Z"
   },
   {
    "duration": 840,
    "start_time": "2022-04-14T19:18:58.055Z"
   },
   {
    "duration": 5,
    "start_time": "2022-04-14T19:18:58.897Z"
   },
   {
    "duration": 28,
    "start_time": "2022-04-14T19:18:58.905Z"
   },
   {
    "duration": 58,
    "start_time": "2022-04-14T19:18:58.935Z"
   },
   {
    "duration": 17,
    "start_time": "2022-04-14T19:18:58.995Z"
   },
   {
    "duration": 338,
    "start_time": "2022-04-14T19:18:59.014Z"
   },
   {
    "duration": 295,
    "start_time": "2022-04-14T19:18:59.354Z"
   },
   {
    "duration": 191,
    "start_time": "2022-04-14T19:18:59.651Z"
   },
   {
    "duration": 41,
    "start_time": "2022-04-14T19:18:59.846Z"
   },
   {
    "duration": 26,
    "start_time": "2022-04-14T19:18:59.890Z"
   },
   {
    "duration": 28,
    "start_time": "2022-04-14T19:18:59.918Z"
   },
   {
    "duration": 399,
    "start_time": "2022-04-14T19:18:59.948Z"
   },
   {
    "duration": 5,
    "start_time": "2022-04-14T19:19:00.349Z"
   },
   {
    "duration": 421,
    "start_time": "2022-04-14T19:19:00.356Z"
   },
   {
    "duration": 10,
    "start_time": "2022-04-14T19:19:00.781Z"
   },
   {
    "duration": 21,
    "start_time": "2022-04-14T19:19:00.793Z"
   },
   {
    "duration": 19,
    "start_time": "2022-04-14T19:19:00.816Z"
   },
   {
    "duration": 67,
    "start_time": "2022-04-14T19:19:00.837Z"
   },
   {
    "duration": 8,
    "start_time": "2022-04-14T19:19:00.906Z"
   },
   {
    "duration": 1219,
    "start_time": "2022-04-14T19:19:00.916Z"
   },
   {
    "duration": 7,
    "start_time": "2022-04-14T19:19:02.138Z"
   },
   {
    "duration": 3741,
    "start_time": "2022-04-14T19:19:02.147Z"
   },
   {
    "duration": 28,
    "start_time": "2022-04-14T19:19:05.890Z"
   },
   {
    "duration": 16,
    "start_time": "2022-04-14T19:19:05.920Z"
   },
   {
    "duration": 48,
    "start_time": "2022-04-14T19:19:05.939Z"
   },
   {
    "duration": 11,
    "start_time": "2022-04-14T19:19:05.990Z"
   },
   {
    "duration": 391,
    "start_time": "2022-04-14T19:19:06.006Z"
   },
   {
    "duration": 374,
    "start_time": "2022-04-14T19:19:06.399Z"
   },
   {
    "duration": 13,
    "start_time": "2022-04-14T19:19:06.776Z"
   },
   {
    "duration": 401,
    "start_time": "2022-04-14T19:19:06.791Z"
   },
   {
    "duration": 8,
    "start_time": "2022-04-14T19:19:07.194Z"
   },
   {
    "duration": 7,
    "start_time": "2022-04-14T19:19:07.204Z"
   },
   {
    "duration": 5,
    "start_time": "2022-04-14T19:19:07.213Z"
   },
   {
    "duration": 6,
    "start_time": "2022-04-14T19:19:07.220Z"
   },
   {
    "duration": 53,
    "start_time": "2022-04-14T19:19:07.228Z"
   },
   {
    "duration": 5,
    "start_time": "2022-04-14T19:19:07.284Z"
   },
   {
    "duration": 39,
    "start_time": "2022-04-14T19:19:07.291Z"
   },
   {
    "duration": 9,
    "start_time": "2022-04-14T19:19:07.332Z"
   },
   {
    "duration": 234,
    "start_time": "2022-04-14T19:19:07.343Z"
   },
   {
    "duration": 3702,
    "start_time": "2022-04-14T19:19:07.582Z"
   },
   {
    "duration": 60296,
    "start_time": "2022-04-14T19:19:11.288Z"
   },
   {
    "duration": 66997,
    "start_time": "2022-04-14T19:20:11.587Z"
   },
   {
    "duration": 96,
    "start_time": "2022-04-14T19:21:18.587Z"
   },
   {
    "duration": 1984,
    "start_time": "2022-04-14T19:21:28.145Z"
   },
   {
    "duration": 857,
    "start_time": "2022-04-14T19:21:30.132Z"
   },
   {
    "duration": 6,
    "start_time": "2022-04-14T19:21:30.991Z"
   },
   {
    "duration": 34,
    "start_time": "2022-04-14T19:21:31.001Z"
   },
   {
    "duration": 56,
    "start_time": "2022-04-14T19:21:31.037Z"
   },
   {
    "duration": 19,
    "start_time": "2022-04-14T19:21:31.095Z"
   },
   {
    "duration": 356,
    "start_time": "2022-04-14T19:21:31.117Z"
   },
   {
    "duration": 308,
    "start_time": "2022-04-14T19:21:31.475Z"
   },
   {
    "duration": 189,
    "start_time": "2022-04-14T19:21:31.785Z"
   },
   {
    "duration": 28,
    "start_time": "2022-04-14T19:21:31.981Z"
   },
   {
    "duration": 69,
    "start_time": "2022-04-14T19:21:32.012Z"
   },
   {
    "duration": 31,
    "start_time": "2022-04-14T19:21:32.084Z"
   },
   {
    "duration": 369,
    "start_time": "2022-04-14T19:21:32.117Z"
   },
   {
    "duration": 4,
    "start_time": "2022-04-14T19:21:32.489Z"
   },
   {
    "duration": 410,
    "start_time": "2022-04-14T19:21:32.496Z"
   },
   {
    "duration": 9,
    "start_time": "2022-04-14T19:21:32.908Z"
   },
   {
    "duration": 8,
    "start_time": "2022-04-14T19:21:32.919Z"
   },
   {
    "duration": 9,
    "start_time": "2022-04-14T19:21:32.929Z"
   },
   {
    "duration": 86,
    "start_time": "2022-04-14T19:21:32.941Z"
   },
   {
    "duration": 8,
    "start_time": "2022-04-14T19:21:33.029Z"
   },
   {
    "duration": 1209,
    "start_time": "2022-04-14T19:21:33.039Z"
   },
   {
    "duration": 6,
    "start_time": "2022-04-14T19:21:34.251Z"
   },
   {
    "duration": 3999,
    "start_time": "2022-04-14T19:21:34.259Z"
   },
   {
    "duration": 41,
    "start_time": "2022-04-14T19:21:38.261Z"
   },
   {
    "duration": 15,
    "start_time": "2022-04-14T19:21:38.304Z"
   },
   {
    "duration": 10,
    "start_time": "2022-04-14T19:21:38.322Z"
   },
   {
    "duration": 51,
    "start_time": "2022-04-14T19:21:38.335Z"
   },
   {
    "duration": 377,
    "start_time": "2022-04-14T19:21:38.392Z"
   },
   {
    "duration": 376,
    "start_time": "2022-04-14T19:21:38.771Z"
   },
   {
    "duration": 8,
    "start_time": "2022-04-14T19:21:39.150Z"
   },
   {
    "duration": 371,
    "start_time": "2022-04-14T19:21:39.182Z"
   },
   {
    "duration": 8,
    "start_time": "2022-04-14T19:21:39.556Z"
   },
   {
    "duration": 5,
    "start_time": "2022-04-14T19:21:39.581Z"
   },
   {
    "duration": 5,
    "start_time": "2022-04-14T19:21:39.588Z"
   },
   {
    "duration": 7,
    "start_time": "2022-04-14T19:21:39.595Z"
   },
   {
    "duration": 8,
    "start_time": "2022-04-14T19:21:39.604Z"
   },
   {
    "duration": 5,
    "start_time": "2022-04-14T19:21:39.614Z"
   },
   {
    "duration": 86,
    "start_time": "2022-04-14T19:21:39.621Z"
   },
   {
    "duration": 9,
    "start_time": "2022-04-14T19:21:39.709Z"
   },
   {
    "duration": 202,
    "start_time": "2022-04-14T19:21:39.720Z"
   },
   {
    "duration": 3865,
    "start_time": "2022-04-14T19:21:39.924Z"
   },
   {
    "duration": 2115,
    "start_time": "2022-04-14T19:22:24.445Z"
   },
   {
    "duration": 861,
    "start_time": "2022-04-14T19:22:26.563Z"
   },
   {
    "duration": 5,
    "start_time": "2022-04-14T19:22:27.427Z"
   },
   {
    "duration": 30,
    "start_time": "2022-04-14T19:22:27.434Z"
   },
   {
    "duration": 24,
    "start_time": "2022-04-14T19:22:27.485Z"
   },
   {
    "duration": 21,
    "start_time": "2022-04-14T19:22:27.512Z"
   },
   {
    "duration": 369,
    "start_time": "2022-04-14T19:22:27.536Z"
   },
   {
    "duration": 305,
    "start_time": "2022-04-14T19:22:27.908Z"
   },
   {
    "duration": 198,
    "start_time": "2022-04-14T19:22:28.215Z"
   },
   {
    "duration": 28,
    "start_time": "2022-04-14T19:22:28.415Z"
   },
   {
    "duration": 54,
    "start_time": "2022-04-14T19:22:28.445Z"
   },
   {
    "duration": 29,
    "start_time": "2022-04-14T19:22:28.501Z"
   },
   {
    "duration": 365,
    "start_time": "2022-04-14T19:22:28.532Z"
   },
   {
    "duration": 4,
    "start_time": "2022-04-14T19:22:28.902Z"
   },
   {
    "duration": 448,
    "start_time": "2022-04-14T19:22:28.909Z"
   },
   {
    "duration": 8,
    "start_time": "2022-04-14T19:22:29.359Z"
   },
   {
    "duration": 6,
    "start_time": "2022-04-14T19:22:29.381Z"
   },
   {
    "duration": 11,
    "start_time": "2022-04-14T19:22:29.389Z"
   },
   {
    "duration": 83,
    "start_time": "2022-04-14T19:22:29.402Z"
   },
   {
    "duration": 8,
    "start_time": "2022-04-14T19:22:29.487Z"
   },
   {
    "duration": 1228,
    "start_time": "2022-04-14T19:22:29.497Z"
   },
   {
    "duration": 7,
    "start_time": "2022-04-14T19:22:30.727Z"
   },
   {
    "duration": 3950,
    "start_time": "2022-04-14T19:22:30.737Z"
   },
   {
    "duration": 26,
    "start_time": "2022-04-14T19:22:34.690Z"
   },
   {
    "duration": 18,
    "start_time": "2022-04-14T19:22:34.719Z"
   },
   {
    "duration": 50,
    "start_time": "2022-04-14T19:22:34.740Z"
   },
   {
    "duration": 9,
    "start_time": "2022-04-14T19:22:34.794Z"
   },
   {
    "duration": 401,
    "start_time": "2022-04-14T19:22:34.805Z"
   },
   {
    "duration": 369,
    "start_time": "2022-04-14T19:22:35.208Z"
   },
   {
    "duration": 10,
    "start_time": "2022-04-14T19:22:35.580Z"
   },
   {
    "duration": 400,
    "start_time": "2022-04-14T19:22:35.593Z"
   },
   {
    "duration": 8,
    "start_time": "2022-04-14T19:22:35.996Z"
   },
   {
    "duration": 4,
    "start_time": "2022-04-14T19:22:36.007Z"
   },
   {
    "duration": 6,
    "start_time": "2022-04-14T19:22:36.013Z"
   },
   {
    "duration": 7,
    "start_time": "2022-04-14T19:22:36.021Z"
   },
   {
    "duration": 56,
    "start_time": "2022-04-14T19:22:36.030Z"
   },
   {
    "duration": 6,
    "start_time": "2022-04-14T19:22:36.088Z"
   },
   {
    "duration": 43,
    "start_time": "2022-04-14T19:22:36.096Z"
   },
   {
    "duration": 186,
    "start_time": "2022-04-14T19:22:36.141Z"
   },
   {
    "duration": 5,
    "start_time": "2022-04-14T19:22:36.329Z"
   },
   {
    "duration": 3942,
    "start_time": "2022-04-14T19:22:36.339Z"
   },
   {
    "duration": 62201,
    "start_time": "2022-04-14T19:22:40.284Z"
   },
   {
    "duration": 61496,
    "start_time": "2022-04-14T19:23:42.488Z"
   },
   {
    "duration": 96,
    "start_time": "2022-04-14T19:24:43.987Z"
   },
   {
    "duration": 28709,
    "start_time": "2022-04-14T19:24:44.085Z"
   },
   {
    "duration": 63802,
    "start_time": "2022-04-14T19:25:12.881Z"
   },
   {
    "duration": 62897,
    "start_time": "2022-04-14T19:26:16.686Z"
   },
   {
    "duration": 9,
    "start_time": "2022-04-14T19:27:19.586Z"
   },
   {
    "duration": 364788,
    "start_time": "2022-04-14T19:27:19.682Z"
   },
   {
    "duration": 164392,
    "start_time": "2022-04-14T19:33:24.472Z"
   },
   {
    "duration": 156562,
    "start_time": "2022-04-14T19:36:08.868Z"
   },
   {
    "duration": 83827,
    "start_time": "2022-04-14T19:38:45.433Z"
   },
   {
    "duration": 4365,
    "start_time": "2022-04-15T07:58:16.956Z"
   },
   {
    "duration": 794,
    "start_time": "2022-04-15T07:58:21.323Z"
   },
   {
    "duration": 5,
    "start_time": "2022-04-15T07:58:52.313Z"
   },
   {
    "duration": 32,
    "start_time": "2022-04-15T07:58:53.129Z"
   },
   {
    "duration": 23,
    "start_time": "2022-04-15T07:58:53.628Z"
   },
   {
    "duration": 17,
    "start_time": "2022-04-15T07:58:54.145Z"
   },
   {
    "duration": 328,
    "start_time": "2022-04-15T07:58:54.813Z"
   },
   {
    "duration": 314,
    "start_time": "2022-04-15T07:58:56.341Z"
   },
   {
    "duration": 180,
    "start_time": "2022-04-15T07:58:56.901Z"
   },
   {
    "duration": 34,
    "start_time": "2022-04-15T07:58:57.662Z"
   },
   {
    "duration": 28,
    "start_time": "2022-04-15T07:58:58.370Z"
   },
   {
    "duration": 30,
    "start_time": "2022-04-15T07:58:58.865Z"
   },
   {
    "duration": 427,
    "start_time": "2022-04-15T07:58:59.542Z"
   },
   {
    "duration": 5,
    "start_time": "2022-04-15T07:59:28.215Z"
   },
   {
    "duration": 395,
    "start_time": "2022-04-15T07:59:30.543Z"
   },
   {
    "duration": 9,
    "start_time": "2022-04-15T07:59:31.141Z"
   },
   {
    "duration": 5,
    "start_time": "2022-04-15T07:59:46.880Z"
   },
   {
    "duration": 5,
    "start_time": "2022-04-15T07:59:49.706Z"
   },
   {
    "duration": 44,
    "start_time": "2022-04-15T08:00:27.477Z"
   },
   {
    "duration": 7,
    "start_time": "2022-04-15T08:00:56.934Z"
   },
   {
    "duration": 1141,
    "start_time": "2022-04-15T08:00:57.577Z"
   },
   {
    "duration": 7,
    "start_time": "2022-04-15T08:00:59.086Z"
   },
   {
    "duration": 3845,
    "start_time": "2022-04-15T08:00:59.331Z"
   },
   {
    "duration": 25,
    "start_time": "2022-04-15T08:01:03.183Z"
   },
   {
    "duration": 15,
    "start_time": "2022-04-15T08:01:03.211Z"
   },
   {
    "duration": 10,
    "start_time": "2022-04-15T08:01:03.229Z"
   },
   {
    "duration": 46,
    "start_time": "2022-04-15T08:01:03.241Z"
   },
   {
    "duration": 374,
    "start_time": "2022-04-15T08:01:03.289Z"
   },
   {
    "duration": 372,
    "start_time": "2022-04-15T08:01:03.666Z"
   },
   {
    "duration": 8,
    "start_time": "2022-04-15T08:01:04.040Z"
   },
   {
    "duration": 395,
    "start_time": "2022-04-15T08:01:04.050Z"
   },
   {
    "duration": 9,
    "start_time": "2022-04-15T08:01:04.449Z"
   },
   {
    "duration": 5,
    "start_time": "2022-04-15T08:04:38.819Z"
   },
   {
    "duration": 4,
    "start_time": "2022-04-15T08:04:39.510Z"
   },
   {
    "duration": 5,
    "start_time": "2022-04-15T08:05:17.874Z"
   },
   {
    "duration": 6,
    "start_time": "2022-04-15T08:05:19.489Z"
   },
   {
    "duration": 5,
    "start_time": "2022-04-15T08:05:20.011Z"
   },
   {
    "duration": 28,
    "start_time": "2022-04-15T08:05:24.320Z"
   },
   {
    "duration": 1759,
    "start_time": "2022-04-15T13:17:29.616Z"
   },
   {
    "duration": 871,
    "start_time": "2022-04-15T13:17:31.378Z"
   },
   {
    "duration": 4,
    "start_time": "2022-04-15T13:17:32.251Z"
   },
   {
    "duration": 25,
    "start_time": "2022-04-15T13:17:32.256Z"
   },
   {
    "duration": 14,
    "start_time": "2022-04-15T13:17:32.283Z"
   },
   {
    "duration": 27,
    "start_time": "2022-04-15T13:17:32.299Z"
   },
   {
    "duration": 230,
    "start_time": "2022-04-15T13:17:32.328Z"
   },
   {
    "duration": 200,
    "start_time": "2022-04-15T13:17:32.560Z"
   },
   {
    "duration": 118,
    "start_time": "2022-04-15T13:17:32.761Z"
   },
   {
    "duration": 17,
    "start_time": "2022-04-15T13:17:32.880Z"
   },
   {
    "duration": 27,
    "start_time": "2022-04-15T13:17:32.899Z"
   },
   {
    "duration": 20,
    "start_time": "2022-04-15T13:17:32.928Z"
   },
   {
    "duration": 205,
    "start_time": "2022-04-15T13:17:32.949Z"
   },
   {
    "duration": 3,
    "start_time": "2022-04-15T13:17:33.156Z"
   },
   {
    "duration": 238,
    "start_time": "2022-04-15T13:17:33.161Z"
   },
   {
    "duration": 9,
    "start_time": "2022-04-15T13:17:33.400Z"
   },
   {
    "duration": 4,
    "start_time": "2022-04-15T13:17:33.423Z"
   },
   {
    "duration": 10,
    "start_time": "2022-04-15T13:17:33.429Z"
   },
   {
    "duration": 123,
    "start_time": "2022-04-15T13:20:47.787Z"
   },
   {
    "duration": 2742,
    "start_time": "2022-04-15T13:30:15.585Z"
   },
   {
    "duration": 5,
    "start_time": "2022-04-15T13:30:56.099Z"
   },
   {
    "duration": 788,
    "start_time": "2022-04-15T13:30:56.185Z"
   },
   {
    "duration": 4,
    "start_time": "2022-04-15T13:30:56.975Z"
   },
   {
    "duration": 17,
    "start_time": "2022-04-15T13:30:56.980Z"
   },
   {
    "duration": 39,
    "start_time": "2022-04-15T13:30:56.998Z"
   },
   {
    "duration": 17,
    "start_time": "2022-04-15T13:30:57.039Z"
   },
   {
    "duration": 227,
    "start_time": "2022-04-15T13:30:57.057Z"
   },
   {
    "duration": 201,
    "start_time": "2022-04-15T13:30:57.286Z"
   },
   {
    "duration": 122,
    "start_time": "2022-04-15T13:30:57.490Z"
   },
   {
    "duration": 32,
    "start_time": "2022-04-15T13:30:57.614Z"
   },
   {
    "duration": 18,
    "start_time": "2022-04-15T13:30:57.647Z"
   },
   {
    "duration": 17,
    "start_time": "2022-04-15T13:30:57.667Z"
   },
   {
    "duration": 240,
    "start_time": "2022-04-15T13:30:57.686Z"
   },
   {
    "duration": 3,
    "start_time": "2022-04-15T13:30:57.928Z"
   },
   {
    "duration": 266,
    "start_time": "2022-04-15T13:30:57.934Z"
   },
   {
    "duration": 6,
    "start_time": "2022-04-15T13:30:58.202Z"
   },
   {
    "duration": 18,
    "start_time": "2022-04-15T13:30:58.209Z"
   },
   {
    "duration": 5,
    "start_time": "2022-04-15T13:30:58.228Z"
   },
   {
    "duration": 2636,
    "start_time": "2022-04-15T13:31:06.935Z"
   },
   {
    "duration": 33,
    "start_time": "2022-04-15T13:31:29.294Z"
   },
   {
    "duration": 61,
    "start_time": "2022-04-15T13:40:10.026Z"
   },
   {
    "duration": 4,
    "start_time": "2022-04-15T13:40:46.460Z"
   },
   {
    "duration": 8,
    "start_time": "2022-04-15T13:40:59.823Z"
   },
   {
    "duration": 64,
    "start_time": "2022-04-15T13:41:22.080Z"
   },
   {
    "duration": 5,
    "start_time": "2022-04-15T13:41:22.940Z"
   },
   {
    "duration": 4,
    "start_time": "2022-04-15T13:41:38.143Z"
   },
   {
    "duration": 173,
    "start_time": "2022-04-15T13:46:15.289Z"
   },
   {
    "duration": 5,
    "start_time": "2022-04-15T13:49:27.016Z"
   },
   {
    "duration": 1051,
    "start_time": "2022-04-15T13:49:27.029Z"
   },
   {
    "duration": 4,
    "start_time": "2022-04-15T13:49:28.082Z"
   },
   {
    "duration": 19,
    "start_time": "2022-04-15T13:49:28.087Z"
   },
   {
    "duration": 41,
    "start_time": "2022-04-15T13:49:28.108Z"
   },
   {
    "duration": 13,
    "start_time": "2022-04-15T13:49:28.154Z"
   },
   {
    "duration": 306,
    "start_time": "2022-04-15T13:49:28.169Z"
   },
   {
    "duration": 222,
    "start_time": "2022-04-15T13:49:28.476Z"
   },
   {
    "duration": 133,
    "start_time": "2022-04-15T13:49:28.700Z"
   },
   {
    "duration": 30,
    "start_time": "2022-04-15T13:49:28.836Z"
   },
   {
    "duration": 28,
    "start_time": "2022-04-15T13:49:28.868Z"
   },
   {
    "duration": 43,
    "start_time": "2022-04-15T13:49:28.898Z"
   },
   {
    "duration": 257,
    "start_time": "2022-04-15T13:49:28.942Z"
   },
   {
    "duration": 3,
    "start_time": "2022-04-15T13:49:29.201Z"
   },
   {
    "duration": 306,
    "start_time": "2022-04-15T13:49:29.207Z"
   },
   {
    "duration": 23,
    "start_time": "2022-04-15T13:49:29.514Z"
   },
   {
    "duration": 3,
    "start_time": "2022-04-15T13:49:29.539Z"
   },
   {
    "duration": 14,
    "start_time": "2022-04-15T13:49:29.546Z"
   },
   {
    "duration": 34,
    "start_time": "2022-04-15T13:49:29.562Z"
   },
   {
    "duration": 83,
    "start_time": "2022-04-15T13:49:29.598Z"
   },
   {
    "duration": 5,
    "start_time": "2022-04-15T13:49:29.683Z"
   },
   {
    "duration": 817,
    "start_time": "2022-04-15T13:49:29.690Z"
   },
   {
    "duration": 5,
    "start_time": "2022-04-15T13:49:30.509Z"
   },
   {
    "duration": 4,
    "start_time": "2022-04-15T14:02:00.515Z"
   },
   {
    "duration": 2624,
    "start_time": "2022-04-15T14:02:01.415Z"
   },
   {
    "duration": 10,
    "start_time": "2022-04-15T14:17:56.414Z"
   },
   {
    "duration": 2402,
    "start_time": "2022-04-15T17:36:11.048Z"
   },
   {
    "duration": 901,
    "start_time": "2022-04-15T17:36:13.453Z"
   },
   {
    "duration": 6,
    "start_time": "2022-04-15T17:36:14.356Z"
   },
   {
    "duration": 31,
    "start_time": "2022-04-15T17:36:14.364Z"
   },
   {
    "duration": 22,
    "start_time": "2022-04-15T17:36:14.398Z"
   },
   {
    "duration": 56,
    "start_time": "2022-04-15T17:36:14.422Z"
   },
   {
    "duration": 372,
    "start_time": "2022-04-15T17:36:14.481Z"
   },
   {
    "duration": 331,
    "start_time": "2022-04-15T17:36:14.855Z"
   },
   {
    "duration": 191,
    "start_time": "2022-04-15T17:36:15.188Z"
   },
   {
    "duration": 30,
    "start_time": "2022-04-15T17:36:15.382Z"
   },
   {
    "duration": 64,
    "start_time": "2022-04-15T17:36:15.416Z"
   },
   {
    "duration": 31,
    "start_time": "2022-04-15T17:36:15.483Z"
   },
   {
    "duration": 399,
    "start_time": "2022-04-15T17:36:15.517Z"
   },
   {
    "duration": 5,
    "start_time": "2022-04-15T17:36:15.920Z"
   },
   {
    "duration": 462,
    "start_time": "2022-04-15T17:36:15.928Z"
   },
   {
    "duration": 9,
    "start_time": "2022-04-15T17:36:16.392Z"
   },
   {
    "duration": 13,
    "start_time": "2022-04-15T17:36:16.403Z"
   },
   {
    "duration": 21,
    "start_time": "2022-04-15T17:36:16.418Z"
   },
   {
    "duration": 64,
    "start_time": "2022-04-15T17:36:16.453Z"
   },
   {
    "duration": 83,
    "start_time": "2022-04-15T17:36:16.519Z"
   },
   {
    "duration": 16,
    "start_time": "2022-04-15T17:36:16.605Z"
   },
   {
    "duration": 1228,
    "start_time": "2022-04-15T17:36:16.623Z"
   },
   {
    "duration": 8,
    "start_time": "2022-04-15T17:36:17.854Z"
   },
   {
    "duration": 4243,
    "start_time": "2022-04-15T17:36:17.865Z"
   },
   {
    "duration": 15,
    "start_time": "2022-04-15T17:36:55.540Z"
   },
   {
    "duration": 4840,
    "start_time": "2022-04-15T17:51:37.179Z"
   },
   {
    "duration": 4455,
    "start_time": "2022-04-15T17:52:13.224Z"
   },
   {
    "duration": 4809,
    "start_time": "2022-04-15T17:53:38.304Z"
   },
   {
    "duration": 4622,
    "start_time": "2022-04-15T17:54:20.719Z"
   },
   {
    "duration": 4872,
    "start_time": "2022-04-15T17:58:43.088Z"
   },
   {
    "duration": 5464,
    "start_time": "2022-04-15T18:02:42.796Z"
   },
   {
    "duration": 3817,
    "start_time": "2022-04-15T18:03:20.634Z"
   },
   {
    "duration": 3786,
    "start_time": "2022-04-15T18:03:40.631Z"
   },
   {
    "duration": 4966,
    "start_time": "2022-04-15T18:06:15.423Z"
   },
   {
    "duration": 4698,
    "start_time": "2022-04-15T18:11:39.415Z"
   },
   {
    "duration": 4092,
    "start_time": "2022-04-15T18:12:45.760Z"
   },
   {
    "duration": 523,
    "start_time": "2022-04-15T18:51:29.037Z"
   },
   {
    "duration": 16,
    "start_time": "2022-04-15T18:51:53.082Z"
   },
   {
    "duration": 53,
    "start_time": "2022-04-15T18:52:47.990Z"
   },
   {
    "duration": 10,
    "start_time": "2022-04-15T18:53:56.176Z"
   },
   {
    "duration": 37,
    "start_time": "2022-04-15T18:56:18.627Z"
   },
   {
    "duration": 4,
    "start_time": "2022-04-15T18:57:04.888Z"
   },
   {
    "duration": 47,
    "start_time": "2022-04-15T18:57:39.345Z"
   },
   {
    "duration": 3812,
    "start_time": "2022-04-15T18:57:45.068Z"
   },
   {
    "duration": 12,
    "start_time": "2022-04-15T18:59:49.359Z"
   },
   {
    "duration": 2471,
    "start_time": "2022-04-15T19:30:38.944Z"
   },
   {
    "duration": 863,
    "start_time": "2022-04-15T19:30:41.418Z"
   },
   {
    "duration": 7,
    "start_time": "2022-04-15T19:30:42.283Z"
   },
   {
    "duration": 44,
    "start_time": "2022-04-15T19:30:42.292Z"
   },
   {
    "duration": 30,
    "start_time": "2022-04-15T19:30:42.340Z"
   },
   {
    "duration": 16,
    "start_time": "2022-04-15T19:30:42.372Z"
   },
   {
    "duration": 364,
    "start_time": "2022-04-15T19:30:42.390Z"
   },
   {
    "duration": 303,
    "start_time": "2022-04-15T19:30:42.756Z"
   },
   {
    "duration": 191,
    "start_time": "2022-04-15T19:30:43.062Z"
   },
   {
    "duration": 30,
    "start_time": "2022-04-15T19:30:43.255Z"
   },
   {
    "duration": 41,
    "start_time": "2022-04-15T19:30:43.287Z"
   },
   {
    "duration": 47,
    "start_time": "2022-04-15T19:30:43.330Z"
   },
   {
    "duration": 381,
    "start_time": "2022-04-15T19:30:43.379Z"
   },
   {
    "duration": 5,
    "start_time": "2022-04-15T19:30:43.764Z"
   },
   {
    "duration": 515,
    "start_time": "2022-04-15T19:30:43.772Z"
   },
   {
    "duration": 11,
    "start_time": "2022-04-15T19:30:44.290Z"
   },
   {
    "duration": 13,
    "start_time": "2022-04-15T19:30:44.303Z"
   },
   {
    "duration": 34,
    "start_time": "2022-04-15T19:30:44.319Z"
   },
   {
    "duration": 51,
    "start_time": "2022-04-15T19:30:44.355Z"
   },
   {
    "duration": 88,
    "start_time": "2022-04-15T19:30:44.408Z"
   },
   {
    "duration": 11,
    "start_time": "2022-04-15T19:30:44.498Z"
   },
   {
    "duration": 1305,
    "start_time": "2022-04-15T19:30:44.511Z"
   },
   {
    "duration": 7,
    "start_time": "2022-04-15T19:30:45.818Z"
   },
   {
    "duration": 4157,
    "start_time": "2022-04-15T19:30:45.827Z"
   },
   {
    "duration": 18,
    "start_time": "2022-04-15T19:30:49.987Z"
   },
   {
    "duration": 3990,
    "start_time": "2022-04-15T19:30:50.007Z"
   },
   {
    "duration": 22,
    "start_time": "2022-04-15T19:30:53.999Z"
   },
   {
    "duration": 45,
    "start_time": "2022-04-15T19:30:54.023Z"
   },
   {
    "duration": 5,
    "start_time": "2022-04-15T19:30:54.070Z"
   },
   {
    "duration": 8,
    "start_time": "2022-04-15T19:30:54.077Z"
   },
   {
    "duration": 28,
    "start_time": "2022-04-15T19:30:54.088Z"
   },
   {
    "duration": 6,
    "start_time": "2022-04-15T19:30:54.118Z"
   },
   {
    "duration": 31,
    "start_time": "2022-04-15T19:30:54.126Z"
   },
   {
    "duration": 16,
    "start_time": "2022-04-15T19:30:54.160Z"
   },
   {
    "duration": 6,
    "start_time": "2022-04-15T19:30:54.179Z"
   },
   {
    "duration": 3569,
    "start_time": "2022-04-15T19:30:54.187Z"
   },
   {
    "duration": 58703,
    "start_time": "2022-04-15T19:30:57.758Z"
   },
   {
    "duration": 58587,
    "start_time": "2022-04-15T19:31:56.464Z"
   },
   {
    "duration": 98,
    "start_time": "2022-04-15T19:32:55.054Z"
   },
   {
    "duration": 16903,
    "start_time": "2022-04-15T19:32:55.154Z"
   },
   {
    "duration": 60502,
    "start_time": "2022-04-15T19:33:12.151Z"
   },
   {
    "duration": 61204,
    "start_time": "2022-04-15T19:34:12.656Z"
   },
   {
    "duration": 101,
    "start_time": "2022-04-15T19:35:13.863Z"
   },
   {
    "duration": 266200,
    "start_time": "2022-04-15T19:35:14.051Z"
   },
   {
    "duration": 168020,
    "start_time": "2022-04-15T19:39:40.254Z"
   },
   {
    "duration": 135859,
    "start_time": "2022-04-15T19:42:28.276Z"
   },
   {
    "duration": 56139,
    "start_time": "2022-04-15T19:44:44.137Z"
   },
   {
    "duration": 15341,
    "start_time": "2022-04-15T19:55:51.123Z"
   },
   {
    "duration": 1242,
    "start_time": "2022-04-15T20:01:52.312Z"
   },
   {
    "duration": 1469,
    "start_time": "2022-04-16T15:31:53.028Z"
   },
   {
    "duration": 661,
    "start_time": "2022-04-16T15:31:54.499Z"
   },
   {
    "duration": 4,
    "start_time": "2022-04-16T15:31:55.162Z"
   },
   {
    "duration": 17,
    "start_time": "2022-04-16T15:31:55.168Z"
   },
   {
    "duration": 14,
    "start_time": "2022-04-16T15:31:55.186Z"
   },
   {
    "duration": 10,
    "start_time": "2022-04-16T15:31:55.201Z"
   },
   {
    "duration": 231,
    "start_time": "2022-04-16T15:31:55.213Z"
   },
   {
    "duration": 187,
    "start_time": "2022-04-16T15:31:55.447Z"
   },
   {
    "duration": 105,
    "start_time": "2022-04-16T15:31:55.636Z"
   },
   {
    "duration": 16,
    "start_time": "2022-04-16T15:31:55.747Z"
   },
   {
    "duration": 17,
    "start_time": "2022-04-16T15:31:55.764Z"
   },
   {
    "duration": 18,
    "start_time": "2022-04-16T15:31:55.783Z"
   },
   {
    "duration": 207,
    "start_time": "2022-04-16T15:31:55.803Z"
   },
   {
    "duration": 3,
    "start_time": "2022-04-16T15:31:56.011Z"
   },
   {
    "duration": 227,
    "start_time": "2022-04-16T15:31:56.016Z"
   },
   {
    "duration": 7,
    "start_time": "2022-04-16T15:31:56.247Z"
   },
   {
    "duration": 8,
    "start_time": "2022-04-16T15:31:56.255Z"
   },
   {
    "duration": 5,
    "start_time": "2022-04-16T15:31:56.265Z"
   },
   {
    "duration": 32,
    "start_time": "2022-04-16T15:31:56.272Z"
   },
   {
    "duration": 80,
    "start_time": "2022-04-16T15:31:56.306Z"
   },
   {
    "duration": 5,
    "start_time": "2022-04-16T15:31:56.388Z"
   },
   {
    "duration": 630,
    "start_time": "2022-04-16T15:31:56.394Z"
   },
   {
    "duration": 5,
    "start_time": "2022-04-16T15:31:57.025Z"
   },
   {
    "duration": 2188,
    "start_time": "2022-04-16T15:31:57.031Z"
   },
   {
    "duration": 10,
    "start_time": "2022-04-16T15:31:59.220Z"
   },
   {
    "duration": 2384,
    "start_time": "2022-04-16T15:31:59.232Z"
   },
   {
    "duration": 19,
    "start_time": "2022-04-16T15:32:01.618Z"
   },
   {
    "duration": 22,
    "start_time": "2022-04-16T15:32:01.640Z"
   },
   {
    "duration": 2,
    "start_time": "2022-04-16T15:32:01.664Z"
   },
   {
    "duration": 9,
    "start_time": "2022-04-16T15:32:01.668Z"
   },
   {
    "duration": 22,
    "start_time": "2022-04-16T15:32:01.679Z"
   },
   {
    "duration": 4,
    "start_time": "2022-04-16T15:32:01.703Z"
   },
   {
    "duration": 5,
    "start_time": "2022-04-16T15:32:01.708Z"
   },
   {
    "duration": 9,
    "start_time": "2022-04-16T15:32:01.715Z"
   },
   {
    "duration": 23,
    "start_time": "2022-04-16T15:32:01.726Z"
   },
   {
    "duration": 2399,
    "start_time": "2022-04-16T15:32:01.750Z"
   },
   {
    "duration": 39802,
    "start_time": "2022-04-16T15:32:04.150Z"
   },
   {
    "duration": 39795,
    "start_time": "2022-04-16T15:32:43.954Z"
   },
   {
    "duration": 7,
    "start_time": "2022-04-16T15:33:23.751Z"
   },
   {
    "duration": 7204,
    "start_time": "2022-04-16T15:33:23.848Z"
   },
   {
    "duration": 41495,
    "start_time": "2022-04-16T15:33:31.054Z"
   },
   {
    "duration": 40696,
    "start_time": "2022-04-16T15:34:12.551Z"
   },
   {
    "duration": 104,
    "start_time": "2022-04-16T15:34:59.959Z"
   },
   {
    "duration": 100742,
    "start_time": "2022-04-16T15:35:05.412Z"
   },
   {
    "duration": 75,
    "start_time": "2022-04-16T15:37:49.037Z"
   },
   {
    "duration": 3383,
    "start_time": "2022-04-16T15:37:54.987Z"
   },
   {
    "duration": 558309,
    "start_time": "2022-04-16T15:45:15.522Z"
   },
   {
    "duration": 103,
    "start_time": "2022-04-16T16:12:09.152Z"
   },
   {
    "duration": 1093635,
    "start_time": "2022-04-16T16:12:22.723Z"
   },
   {
    "duration": 1113693,
    "start_time": "2022-04-16T16:30:36.359Z"
   },
   {
    "duration": 4254,
    "start_time": "2022-04-16T16:59:39.236Z"
   },
   {
    "duration": 1573,
    "start_time": "2022-04-16T17:04:25.176Z"
   },
   {
    "duration": 7124,
    "start_time": "2022-04-16T17:04:49.722Z"
   },
   {
    "duration": 75565,
    "start_time": "2022-04-16T17:10:11.791Z"
   },
   {
    "duration": 73788,
    "start_time": "2022-04-16T17:11:34.599Z"
   },
   {
    "duration": 75581,
    "start_time": "2022-04-16T17:12:48.389Z"
   },
   {
    "duration": 1310,
    "start_time": "2022-04-16T17:15:13.530Z"
   },
   {
    "duration": 1335,
    "start_time": "2022-04-16T17:15:49.243Z"
   },
   {
    "duration": 1651,
    "start_time": "2022-04-16T18:19:37.573Z"
   },
   {
    "duration": 1464,
    "start_time": "2022-04-16T18:19:50.274Z"
   },
   {
    "duration": 1455,
    "start_time": "2022-04-16T18:19:59.764Z"
   },
   {
    "duration": 29127,
    "start_time": "2022-04-16T18:21:21.274Z"
   },
   {
    "duration": 6485,
    "start_time": "2022-04-16T18:23:44.268Z"
   },
   {
    "duration": 73555,
    "start_time": "2022-04-16T18:33:25.885Z"
   },
   {
    "duration": 28,
    "start_time": "2022-04-16T18:40:03.958Z"
   },
   {
    "duration": 99,
    "start_time": "2022-04-16T18:40:46.501Z"
   },
   {
    "duration": 728778,
    "start_time": "2022-04-16T18:41:18.033Z"
   },
   {
    "duration": 3,
    "start_time": "2022-04-16T18:53:26.813Z"
   },
   {
    "duration": 5,
    "start_time": "2022-04-16T18:53:26.818Z"
   },
   {
    "duration": 298522,
    "start_time": "2022-04-16T18:54:16.881Z"
   },
   {
    "duration": 3,
    "start_time": "2022-04-16T19:00:36.004Z"
   },
   {
    "duration": 4,
    "start_time": "2022-04-16T19:02:15.821Z"
   },
   {
    "duration": 4,
    "start_time": "2022-04-16T19:02:16.580Z"
   },
   {
    "duration": 6524,
    "start_time": "2022-04-16T19:02:38.733Z"
   },
   {
    "duration": 4,
    "start_time": "2022-04-16T19:08:57.987Z"
   },
   {
    "duration": 4,
    "start_time": "2022-04-16T19:08:58.668Z"
   },
   {
    "duration": 3,
    "start_time": "2022-04-16T19:17:44.163Z"
   },
   {
    "duration": 171037,
    "start_time": "2022-04-16T19:17:45.920Z"
   },
   {
    "duration": 0,
    "start_time": "2022-04-16T19:20:36.959Z"
   },
   {
    "duration": 238294,
    "start_time": "2022-04-16T19:21:39.919Z"
   },
   {
    "duration": 4,
    "start_time": "2022-04-16T19:32:33.850Z"
   },
   {
    "duration": 4,
    "start_time": "2022-04-16T19:32:34.587Z"
   },
   {
    "duration": 254296,
    "start_time": "2022-04-16T19:36:59.760Z"
   },
   {
    "duration": 9,
    "start_time": "2022-04-16T19:45:19.049Z"
   },
   {
    "duration": 392,
    "start_time": "2022-04-16T19:45:48.859Z"
   },
   {
    "duration": 5,
    "start_time": "2022-04-16T19:46:30.754Z"
   },
   {
    "duration": 4,
    "start_time": "2022-04-16T19:47:04.249Z"
   },
   {
    "duration": 673,
    "start_time": "2022-04-16T19:47:04.256Z"
   },
   {
    "duration": 4,
    "start_time": "2022-04-16T19:47:04.931Z"
   },
   {
    "duration": 25,
    "start_time": "2022-04-16T19:47:04.937Z"
   },
   {
    "duration": 13,
    "start_time": "2022-04-16T19:47:04.964Z"
   },
   {
    "duration": 10,
    "start_time": "2022-04-16T19:47:04.978Z"
   },
   {
    "duration": 221,
    "start_time": "2022-04-16T19:47:04.990Z"
   },
   {
    "duration": 185,
    "start_time": "2022-04-16T19:47:05.213Z"
   },
   {
    "duration": 116,
    "start_time": "2022-04-16T19:47:05.402Z"
   },
   {
    "duration": 16,
    "start_time": "2022-04-16T19:47:05.520Z"
   },
   {
    "duration": 27,
    "start_time": "2022-04-16T19:47:05.537Z"
   },
   {
    "duration": 28,
    "start_time": "2022-04-16T19:47:05.565Z"
   },
   {
    "duration": 191,
    "start_time": "2022-04-16T19:47:05.594Z"
   },
   {
    "duration": 3,
    "start_time": "2022-04-16T19:47:05.786Z"
   },
   {
    "duration": 226,
    "start_time": "2022-04-16T19:47:05.791Z"
   },
   {
    "duration": 6,
    "start_time": "2022-04-16T19:47:06.018Z"
   },
   {
    "duration": 7,
    "start_time": "2022-04-16T19:47:06.026Z"
   },
   {
    "duration": 4,
    "start_time": "2022-04-16T19:47:06.047Z"
   },
   {
    "duration": 32,
    "start_time": "2022-04-16T19:47:06.052Z"
   },
   {
    "duration": 71,
    "start_time": "2022-04-16T19:47:06.085Z"
   },
   {
    "duration": 5,
    "start_time": "2022-04-16T19:47:06.157Z"
   },
   {
    "duration": 632,
    "start_time": "2022-04-16T19:47:06.164Z"
   },
   {
    "duration": 4,
    "start_time": "2022-04-16T19:47:06.798Z"
   },
   {
    "duration": 2244,
    "start_time": "2022-04-16T19:47:06.805Z"
   },
   {
    "duration": 10,
    "start_time": "2022-04-16T19:47:09.050Z"
   },
   {
    "duration": 2328,
    "start_time": "2022-04-16T19:47:09.062Z"
   },
   {
    "duration": 21,
    "start_time": "2022-04-16T19:47:11.392Z"
   },
   {
    "duration": 39,
    "start_time": "2022-04-16T19:47:11.414Z"
   },
   {
    "duration": 3,
    "start_time": "2022-04-16T19:47:11.454Z"
   },
   {
    "duration": 6,
    "start_time": "2022-04-16T19:47:11.458Z"
   },
   {
    "duration": 17,
    "start_time": "2022-04-16T19:47:11.465Z"
   },
   {
    "duration": 5,
    "start_time": "2022-04-16T19:47:11.483Z"
   },
   {
    "duration": 8,
    "start_time": "2022-04-16T19:47:11.489Z"
   },
   {
    "duration": 10,
    "start_time": "2022-04-16T19:47:11.499Z"
   },
   {
    "duration": 4,
    "start_time": "2022-04-16T19:48:42.728Z"
   },
   {
    "duration": 278308,
    "start_time": "2022-04-16T19:48:44.945Z"
   },
   {
    "duration": 3958,
    "start_time": "2022-04-16T19:53:48.294Z"
   },
   {
    "duration": 4,
    "start_time": "2022-04-16T19:54:20.424Z"
   },
   {
    "duration": 4,
    "start_time": "2022-04-16T19:54:21.501Z"
   },
   {
    "duration": 187259,
    "start_time": "2022-04-16T19:54:25.108Z"
   },
   {
    "duration": 11658,
    "start_time": "2022-04-16T20:08:50.860Z"
   },
   {
    "duration": 33954,
    "start_time": "2022-04-16T20:09:59.832Z"
   },
   {
    "duration": 31669,
    "start_time": "2022-04-16T20:10:33.788Z"
   },
   {
    "duration": 3,
    "start_time": "2022-04-16T20:11:16.467Z"
   },
   {
    "duration": 5,
    "start_time": "2022-04-16T20:11:17.625Z"
   },
   {
    "duration": 183910,
    "start_time": "2022-04-16T20:11:21.186Z"
   },
   {
    "duration": 11213,
    "start_time": "2022-04-16T20:15:51.518Z"
   },
   {
    "duration": 11,
    "start_time": "2022-04-16T20:20:54.141Z"
   },
   {
    "duration": 3,
    "start_time": "2022-04-16T20:20:57.892Z"
   },
   {
    "duration": 305327,
    "start_time": "2022-04-16T20:20:59.789Z"
   },
   {
    "duration": 23,
    "start_time": "2022-04-16T20:28:12.458Z"
   },
   {
    "duration": 198891,
    "start_time": "2022-04-16T20:48:15.907Z"
   },
   {
    "duration": 3683,
    "start_time": "2022-04-16T20:52:26.656Z"
   },
   {
    "duration": 4069,
    "start_time": "2022-04-16T20:52:59.333Z"
   },
   {
    "duration": 4,
    "start_time": "2022-04-16T20:53:36.060Z"
   },
   {
    "duration": 222541,
    "start_time": "2022-04-16T20:53:38.092Z"
   },
   {
    "duration": 285657,
    "start_time": "2022-04-16T20:57:20.635Z"
   },
   {
    "duration": 3,
    "start_time": "2022-04-16T21:04:36.959Z"
   },
   {
    "duration": 228381,
    "start_time": "2022-04-16T21:04:38.410Z"
   },
   {
    "duration": 287575,
    "start_time": "2022-04-16T21:08:26.793Z"
   },
   {
    "duration": 4,
    "start_time": "2022-04-16T21:13:14.370Z"
   },
   {
    "duration": 5,
    "start_time": "2022-04-16T21:13:14.375Z"
   },
   {
    "duration": 4,
    "start_time": "2022-04-16T21:21:52.113Z"
   },
   {
    "duration": 13,
    "start_time": "2022-04-17T07:59:52.395Z"
   },
   {
    "duration": 1477,
    "start_time": "2022-04-17T09:22:13.617Z"
   },
   {
    "duration": 1002,
    "start_time": "2022-04-17T09:22:26.174Z"
   },
   {
    "duration": 874,
    "start_time": "2022-04-17T09:22:27.179Z"
   },
   {
    "duration": 5,
    "start_time": "2022-04-17T09:22:28.055Z"
   },
   {
    "duration": 383,
    "start_time": "2022-04-17T09:22:28.063Z"
   },
   {
    "duration": 33,
    "start_time": "2022-04-17T09:22:28.448Z"
   },
   {
    "duration": 26,
    "start_time": "2022-04-17T09:22:28.483Z"
   },
   {
    "duration": 508,
    "start_time": "2022-04-17T09:22:28.512Z"
   },
   {
    "duration": 334,
    "start_time": "2022-04-17T09:22:29.023Z"
   },
   {
    "duration": 201,
    "start_time": "2022-04-17T09:22:29.360Z"
   },
   {
    "duration": 40,
    "start_time": "2022-04-17T09:22:29.567Z"
   },
   {
    "duration": 28,
    "start_time": "2022-04-17T09:22:29.609Z"
   },
   {
    "duration": 57,
    "start_time": "2022-04-17T09:22:29.640Z"
   },
   {
    "duration": 372,
    "start_time": "2022-04-17T09:22:29.699Z"
   },
   {
    "duration": 8,
    "start_time": "2022-04-17T09:22:30.074Z"
   },
   {
    "duration": 454,
    "start_time": "2022-04-17T09:22:30.084Z"
   },
   {
    "duration": 9,
    "start_time": "2022-04-17T09:22:30.540Z"
   },
   {
    "duration": 31,
    "start_time": "2022-04-17T09:22:30.552Z"
   },
   {
    "duration": 18,
    "start_time": "2022-04-17T09:22:30.585Z"
   },
   {
    "duration": 50,
    "start_time": "2022-04-17T09:22:30.606Z"
   },
   {
    "duration": 77,
    "start_time": "2022-04-17T09:22:30.658Z"
   },
   {
    "duration": 12,
    "start_time": "2022-04-17T09:22:30.738Z"
   },
   {
    "duration": 1708,
    "start_time": "2022-04-17T09:22:30.753Z"
   },
   {
    "duration": 19,
    "start_time": "2022-04-17T09:22:32.463Z"
   },
   {
    "duration": 5846,
    "start_time": "2022-04-17T09:22:32.485Z"
   },
   {
    "duration": 17,
    "start_time": "2022-04-17T09:22:38.333Z"
   },
   {
    "duration": 4607,
    "start_time": "2022-04-17T09:22:38.352Z"
   },
   {
    "duration": 21,
    "start_time": "2022-04-17T09:22:42.962Z"
   },
   {
    "duration": 42,
    "start_time": "2022-04-17T09:22:42.989Z"
   },
   {
    "duration": 5,
    "start_time": "2022-04-17T09:22:43.034Z"
   },
   {
    "duration": 10,
    "start_time": "2022-04-17T09:22:43.041Z"
   },
   {
    "duration": 50,
    "start_time": "2022-04-17T09:22:43.055Z"
   },
   {
    "duration": 9,
    "start_time": "2022-04-17T09:22:43.108Z"
   },
   {
    "duration": 25,
    "start_time": "2022-04-17T09:22:43.119Z"
   },
   {
    "duration": 5,
    "start_time": "2022-04-17T09:33:12.686Z"
   },
   {
    "duration": 620796,
    "start_time": "2022-04-17T09:33:13.475Z"
   },
   {
    "duration": 7,
    "start_time": "2022-04-17T09:45:07.359Z"
   },
   {
    "duration": 193452,
    "start_time": "2022-04-17T09:45:42.640Z"
   },
   {
    "duration": 20459,
    "start_time": "2022-04-17T09:50:45.509Z"
   },
   {
    "duration": 5,
    "start_time": "2022-04-17T09:53:54.046Z"
   },
   {
    "duration": 358328,
    "start_time": "2022-04-17T09:53:54.654Z"
   },
   {
    "duration": 8,
    "start_time": "2022-04-17T09:59:52.984Z"
   },
   {
    "duration": 278250,
    "start_time": "2022-04-17T09:59:52.994Z"
   },
   {
    "duration": 10,
    "start_time": "2022-04-17T10:06:15.054Z"
   },
   {
    "duration": 292958,
    "start_time": "2022-04-17T10:06:20.508Z"
   },
   {
    "duration": 7463,
    "start_time": "2022-04-17T10:18:40.388Z"
   },
   {
    "duration": 6,
    "start_time": "2022-04-17T10:20:34.620Z"
   },
   {
    "duration": 68029,
    "start_time": "2022-04-17T10:20:37.167Z"
   },
   {
    "duration": 10983,
    "start_time": "2022-04-17T10:21:45.307Z"
   },
   {
    "duration": 6,
    "start_time": "2022-04-17T10:23:24.134Z"
   },
   {
    "duration": 6,
    "start_time": "2022-04-17T10:23:24.523Z"
   },
   {
    "duration": 875366,
    "start_time": "2022-04-17T10:23:30.892Z"
   },
   {
    "duration": 6445,
    "start_time": "2022-04-17T10:38:06.261Z"
   },
   {
    "duration": 12280,
    "start_time": "2022-04-17T10:40:55.828Z"
   },
   {
    "duration": 4,
    "start_time": "2022-04-17T10:47:22.789Z"
   },
   {
    "duration": 5,
    "start_time": "2022-04-17T10:49:51.547Z"
   },
   {
    "duration": 32090,
    "start_time": "2022-04-17T10:49:53.101Z"
   },
   {
    "duration": 316,
    "start_time": "2022-04-17T10:51:32.779Z"
   },
   {
    "duration": 5,
    "start_time": "2022-04-17T10:52:12.322Z"
   },
   {
    "duration": 34496,
    "start_time": "2022-04-17T10:52:12.794Z"
   },
   {
    "duration": 172,
    "start_time": "2022-04-17T10:53:20.811Z"
   },
   {
    "duration": 5,
    "start_time": "2022-04-17T10:54:52.474Z"
   },
   {
    "duration": 452,
    "start_time": "2022-04-17T10:55:38.306Z"
   },
   {
    "duration": 2146624,
    "start_time": "2022-04-17T10:56:01.845Z"
   },
   {
    "duration": 7,
    "start_time": "2022-04-17T11:32:27.286Z"
   },
   {
    "duration": 992159,
    "start_time": "2022-04-17T11:32:31.459Z"
   },
   {
    "duration": 7,
    "start_time": "2022-04-17T12:49:58.318Z"
   },
   {
    "duration": 856,
    "start_time": "2022-04-17T12:49:58.328Z"
   },
   {
    "duration": 6,
    "start_time": "2022-04-17T12:49:59.186Z"
   },
   {
    "duration": 40,
    "start_time": "2022-04-17T12:49:59.194Z"
   },
   {
    "duration": 22,
    "start_time": "2022-04-17T12:49:59.238Z"
   },
   {
    "duration": 35,
    "start_time": "2022-04-17T12:49:59.262Z"
   },
   {
    "duration": 446,
    "start_time": "2022-04-17T12:49:59.299Z"
   },
   {
    "duration": 314,
    "start_time": "2022-04-17T12:49:59.747Z"
   },
   {
    "duration": 187,
    "start_time": "2022-04-17T12:50:00.063Z"
   },
   {
    "duration": 42,
    "start_time": "2022-04-17T12:50:00.252Z"
   },
   {
    "duration": 38,
    "start_time": "2022-04-17T12:50:00.297Z"
   },
   {
    "duration": 46,
    "start_time": "2022-04-17T12:50:00.337Z"
   },
   {
    "duration": 365,
    "start_time": "2022-04-17T12:50:00.386Z"
   },
   {
    "duration": 4,
    "start_time": "2022-04-17T12:50:00.755Z"
   },
   {
    "duration": 456,
    "start_time": "2022-04-17T12:50:00.762Z"
   },
   {
    "duration": 10,
    "start_time": "2022-04-17T12:50:01.220Z"
   },
   {
    "duration": 8,
    "start_time": "2022-04-17T12:50:01.232Z"
   },
   {
    "duration": 7,
    "start_time": "2022-04-17T12:50:01.242Z"
   },
   {
    "duration": 45,
    "start_time": "2022-04-17T12:50:01.281Z"
   },
   {
    "duration": 89,
    "start_time": "2022-04-17T12:50:01.329Z"
   },
   {
    "duration": 10,
    "start_time": "2022-04-17T12:50:01.421Z"
   },
   {
    "duration": 1309,
    "start_time": "2022-04-17T12:50:01.433Z"
   },
   {
    "duration": 6,
    "start_time": "2022-04-17T12:50:02.745Z"
   },
   {
    "duration": 4366,
    "start_time": "2022-04-17T12:50:02.754Z"
   },
   {
    "duration": 15,
    "start_time": "2022-04-17T12:50:07.122Z"
   },
   {
    "duration": 3861,
    "start_time": "2022-04-17T12:50:07.140Z"
   },
   {
    "duration": 21,
    "start_time": "2022-04-17T12:50:11.003Z"
   },
   {
    "duration": 63,
    "start_time": "2022-04-17T12:50:11.027Z"
   },
   {
    "duration": 6,
    "start_time": "2022-04-17T12:50:11.092Z"
   },
   {
    "duration": 10,
    "start_time": "2022-04-17T12:50:11.099Z"
   },
   {
    "duration": 22,
    "start_time": "2022-04-17T12:50:11.112Z"
   },
   {
    "duration": 7,
    "start_time": "2022-04-17T12:50:11.137Z"
   },
   {
    "duration": 36,
    "start_time": "2022-04-17T12:50:11.146Z"
   },
   {
    "duration": 77,
    "start_time": "2022-04-17T12:50:11.184Z"
   },
   {
    "duration": 7,
    "start_time": "2022-04-17T12:51:19.513Z"
   },
   {
    "duration": 19408,
    "start_time": "2022-04-17T12:51:21.667Z"
   },
   {
    "duration": 570585,
    "start_time": "2022-04-17T12:52:11.932Z"
   },
   {
    "duration": 107844,
    "start_time": "2022-04-17T13:03:13.131Z"
   },
   {
    "duration": 6,
    "start_time": "2022-04-17T13:05:27.551Z"
   },
   {
    "duration": 135132,
    "start_time": "2022-04-17T13:05:28.880Z"
   },
   {
    "duration": 156,
    "start_time": "2022-04-17T13:10:21.740Z"
   },
   {
    "duration": 57021,
    "start_time": "2022-04-17T13:10:52.502Z"
   },
   {
    "duration": 66695,
    "start_time": "2022-04-17T13:11:55.595Z"
   },
   {
    "duration": 7,
    "start_time": "2022-04-17T13:15:26.416Z"
   },
   {
    "duration": 77726,
    "start_time": "2022-04-17T13:15:47.256Z"
   },
   {
    "duration": 11,
    "start_time": "2022-04-17T13:18:23.494Z"
   },
   {
    "duration": 77802,
    "start_time": "2022-04-17T13:18:52.782Z"
   },
   {
    "duration": 96581,
    "start_time": "2022-04-17T13:22:57.101Z"
   },
   {
    "duration": 7,
    "start_time": "2022-04-17T13:25:32.626Z"
   },
   {
    "duration": 59267,
    "start_time": "2022-04-17T13:25:49.217Z"
   },
   {
    "duration": 2353,
    "start_time": "2022-04-17T16:28:03.261Z"
   },
   {
    "duration": 894,
    "start_time": "2022-04-17T16:28:05.617Z"
   },
   {
    "duration": 6,
    "start_time": "2022-04-17T16:28:06.514Z"
   },
   {
    "duration": 28,
    "start_time": "2022-04-17T16:28:06.523Z"
   },
   {
    "duration": 47,
    "start_time": "2022-04-17T16:28:06.554Z"
   },
   {
    "duration": 17,
    "start_time": "2022-04-17T16:28:06.603Z"
   },
   {
    "duration": 362,
    "start_time": "2022-04-17T16:28:06.623Z"
   },
   {
    "duration": 312,
    "start_time": "2022-04-17T16:28:06.987Z"
   },
   {
    "duration": 187,
    "start_time": "2022-04-17T16:28:07.301Z"
   },
   {
    "duration": 28,
    "start_time": "2022-04-17T16:28:07.492Z"
   },
   {
    "duration": 31,
    "start_time": "2022-04-17T16:28:07.522Z"
   },
   {
    "duration": 51,
    "start_time": "2022-04-17T16:28:07.555Z"
   },
   {
    "duration": 363,
    "start_time": "2022-04-17T16:28:07.608Z"
   },
   {
    "duration": 10,
    "start_time": "2022-04-17T16:28:07.973Z"
   },
   {
    "duration": 439,
    "start_time": "2022-04-17T16:28:07.985Z"
   },
   {
    "duration": 8,
    "start_time": "2022-04-17T16:28:08.426Z"
   },
   {
    "duration": 9,
    "start_time": "2022-04-17T16:28:08.436Z"
   },
   {
    "duration": 7,
    "start_time": "2022-04-17T16:28:08.447Z"
   },
   {
    "duration": 45,
    "start_time": "2022-04-17T16:28:08.481Z"
   },
   {
    "duration": 78,
    "start_time": "2022-04-17T16:28:08.528Z"
   },
   {
    "duration": 9,
    "start_time": "2022-04-17T16:28:08.608Z"
   },
   {
    "duration": 1262,
    "start_time": "2022-04-17T16:28:08.619Z"
   },
   {
    "duration": 6,
    "start_time": "2022-04-17T16:28:09.884Z"
   },
   {
    "duration": 3928,
    "start_time": "2022-04-17T16:28:09.892Z"
   },
   {
    "duration": 15,
    "start_time": "2022-04-17T16:28:13.822Z"
   },
   {
    "duration": 3727,
    "start_time": "2022-04-17T16:28:13.839Z"
   },
   {
    "duration": 22,
    "start_time": "2022-04-17T16:28:17.569Z"
   },
   {
    "duration": 37,
    "start_time": "2022-04-17T16:28:17.596Z"
   },
   {
    "duration": 5,
    "start_time": "2022-04-17T16:28:17.635Z"
   },
   {
    "duration": 9,
    "start_time": "2022-04-17T16:28:17.642Z"
   },
   {
    "duration": 45,
    "start_time": "2022-04-17T16:28:17.653Z"
   },
   {
    "duration": 8,
    "start_time": "2022-04-17T16:28:17.700Z"
   },
   {
    "duration": 6,
    "start_time": "2022-04-17T16:28:17.710Z"
   },
   {
    "duration": 98,
    "start_time": "2022-04-17T16:28:17.718Z"
   },
   {
    "duration": 180,
    "start_time": "2022-04-17T16:32:23.531Z"
   },
   {
    "duration": 4,
    "start_time": "2022-04-17T16:32:27.977Z"
   },
   {
    "duration": 6,
    "start_time": "2022-04-17T16:32:29.631Z"
   },
   {
    "duration": 180,
    "start_time": "2022-04-17T16:32:51.085Z"
   },
   {
    "duration": 6,
    "start_time": "2022-04-17T16:33:08.297Z"
   },
   {
    "duration": 38607,
    "start_time": "2022-04-17T16:33:12.377Z"
   },
   {
    "duration": 7,
    "start_time": "2022-04-17T16:35:19.040Z"
   },
   {
    "duration": 26732,
    "start_time": "2022-04-17T16:35:42.858Z"
   },
   {
    "duration": 11,
    "start_time": "2022-04-17T16:37:09.455Z"
   },
   {
    "duration": 7,
    "start_time": "2022-04-17T16:37:14.750Z"
   },
   {
    "duration": 3166,
    "start_time": "2022-04-17T16:37:16.716Z"
   },
   {
    "duration": 142,
    "start_time": "2022-04-17T16:37:50.245Z"
   },
   {
    "duration": 6,
    "start_time": "2022-04-17T16:38:56.700Z"
   },
   {
    "duration": 958890,
    "start_time": "2022-04-17T16:39:10.308Z"
   },
   {
    "duration": 7,
    "start_time": "2022-04-17T17:07:38.471Z"
   },
   {
    "duration": 278209,
    "start_time": "2022-04-17T17:07:45.737Z"
   },
   {
    "duration": 13,
    "start_time": "2022-04-17T17:18:20.082Z"
   },
   {
    "duration": 8948,
    "start_time": "2022-04-17T17:19:05.424Z"
   },
   {
    "duration": 2639,
    "start_time": "2022-04-17T19:56:34.196Z"
   },
   {
    "duration": 6642,
    "start_time": "2022-04-17T19:56:36.839Z"
   },
   {
    "duration": 6,
    "start_time": "2022-04-17T19:56:43.483Z"
   },
   {
    "duration": 43,
    "start_time": "2022-04-17T19:56:43.491Z"
   },
   {
    "duration": 23,
    "start_time": "2022-04-17T19:56:43.538Z"
   },
   {
    "duration": 19,
    "start_time": "2022-04-17T19:56:43.563Z"
   },
   {
    "duration": 361,
    "start_time": "2022-04-17T19:56:43.584Z"
   },
   {
    "duration": 297,
    "start_time": "2022-04-17T19:56:43.947Z"
   },
   {
    "duration": 186,
    "start_time": "2022-04-17T19:56:44.246Z"
   },
   {
    "duration": 28,
    "start_time": "2022-04-17T19:56:44.434Z"
   },
   {
    "duration": 29,
    "start_time": "2022-04-17T19:56:44.465Z"
   },
   {
    "duration": 55,
    "start_time": "2022-04-17T19:56:44.496Z"
   },
   {
    "duration": 488,
    "start_time": "2022-04-17T19:56:44.553Z"
   },
   {
    "duration": 5,
    "start_time": "2022-04-17T19:56:45.046Z"
   },
   {
    "duration": 456,
    "start_time": "2022-04-17T19:56:45.054Z"
   },
   {
    "duration": 19,
    "start_time": "2022-04-17T19:56:45.512Z"
   },
   {
    "duration": 12,
    "start_time": "2022-04-17T19:56:45.533Z"
   },
   {
    "duration": 11,
    "start_time": "2022-04-17T19:56:45.549Z"
   },
   {
    "duration": 83,
    "start_time": "2022-04-17T19:56:45.563Z"
   },
   {
    "duration": 102,
    "start_time": "2022-04-17T19:56:45.648Z"
   },
   {
    "duration": 12,
    "start_time": "2022-04-17T19:56:45.753Z"
   },
   {
    "duration": 1594,
    "start_time": "2022-04-17T19:56:45.767Z"
   },
   {
    "duration": 9,
    "start_time": "2022-04-17T19:56:47.364Z"
   },
   {
    "duration": 5191,
    "start_time": "2022-04-17T19:56:47.375Z"
   },
   {
    "duration": 17,
    "start_time": "2022-04-17T19:56:52.569Z"
   },
   {
    "duration": 3909,
    "start_time": "2022-04-17T19:56:52.588Z"
   },
   {
    "duration": 27,
    "start_time": "2022-04-17T19:56:56.499Z"
   },
   {
    "duration": 36,
    "start_time": "2022-04-17T19:56:56.529Z"
   },
   {
    "duration": 4,
    "start_time": "2022-04-17T19:56:56.567Z"
   },
   {
    "duration": 6,
    "start_time": "2022-04-17T19:56:56.573Z"
   },
   {
    "duration": 58,
    "start_time": "2022-04-17T19:56:56.582Z"
   },
   {
    "duration": 6,
    "start_time": "2022-04-17T19:56:56.642Z"
   },
   {
    "duration": 10,
    "start_time": "2022-04-17T19:56:56.650Z"
   },
   {
    "duration": 9,
    "start_time": "2022-04-17T19:56:56.662Z"
   },
   {
    "duration": 6,
    "start_time": "2022-04-17T19:57:08.862Z"
   },
   {
    "duration": 31490,
    "start_time": "2022-04-17T19:57:11.935Z"
   },
   {
    "duration": 7,
    "start_time": "2022-04-17T19:59:24.200Z"
   },
   {
    "duration": 29990,
    "start_time": "2022-04-17T19:59:25.243Z"
   },
   {
    "duration": 7,
    "start_time": "2022-04-17T20:00:38.560Z"
   },
   {
    "duration": 34021,
    "start_time": "2022-04-17T20:00:39.012Z"
   },
   {
    "duration": 5,
    "start_time": "2022-04-17T20:01:26.292Z"
   },
   {
    "duration": 30278,
    "start_time": "2022-04-17T20:01:26.858Z"
   },
   {
    "duration": 7,
    "start_time": "2022-04-17T20:02:52.785Z"
   },
   {
    "duration": 30055,
    "start_time": "2022-04-17T20:02:53.370Z"
   },
   {
    "duration": 7,
    "start_time": "2022-04-17T20:05:01.224Z"
   },
   {
    "duration": 6,
    "start_time": "2022-04-17T20:05:17.011Z"
   },
   {
    "duration": 33165,
    "start_time": "2022-04-17T20:05:17.664Z"
   },
   {
    "duration": 284,
    "start_time": "2022-04-17T20:06:20.350Z"
   },
   {
    "duration": 6,
    "start_time": "2022-04-17T20:06:23.451Z"
   },
   {
    "duration": 68149,
    "start_time": "2022-04-17T20:06:23.989Z"
   },
   {
    "duration": 6,
    "start_time": "2022-04-17T20:07:52.029Z"
   },
   {
    "duration": 30694,
    "start_time": "2022-04-17T20:07:57.133Z"
   },
   {
    "duration": 7,
    "start_time": "2022-04-17T20:08:56.822Z"
   },
   {
    "duration": 29983,
    "start_time": "2022-04-17T20:09:01.950Z"
   },
   {
    "duration": 6,
    "start_time": "2022-04-17T20:09:57.693Z"
   },
   {
    "duration": 32497,
    "start_time": "2022-04-17T20:10:00.133Z"
   },
   {
    "duration": 5,
    "start_time": "2022-04-17T20:10:52.050Z"
   },
   {
    "duration": 470617,
    "start_time": "2022-04-17T20:10:53.459Z"
   },
   {
    "duration": 7,
    "start_time": "2022-04-17T20:18:44.078Z"
   },
   {
    "duration": 8,
    "start_time": "2022-04-17T20:19:13.764Z"
   },
   {
    "duration": 269994,
    "start_time": "2022-04-17T20:19:16.582Z"
   },
   {
    "duration": 10191,
    "start_time": "2022-04-17T20:25:10.361Z"
   },
   {
    "duration": 5,
    "start_time": "2022-04-17T20:26:29.544Z"
   },
   {
    "duration": 327506,
    "start_time": "2022-04-17T20:26:37.246Z"
   },
   {
    "duration": 7,
    "start_time": "2022-04-17T20:34:23.078Z"
   },
   {
    "duration": 173719,
    "start_time": "2022-04-17T20:34:28.578Z"
   },
   {
    "duration": 2100262,
    "start_time": "2022-04-17T20:47:52.016Z"
   },
   {
    "duration": 2110,
    "start_time": "2022-04-17T21:46:16.272Z"
   },
   {
    "duration": 930,
    "start_time": "2022-04-17T21:46:18.385Z"
   },
   {
    "duration": 5,
    "start_time": "2022-04-17T21:46:19.324Z"
   },
   {
    "duration": 30,
    "start_time": "2022-04-17T21:46:19.332Z"
   },
   {
    "duration": 23,
    "start_time": "2022-04-17T21:46:19.364Z"
   },
   {
    "duration": 50,
    "start_time": "2022-04-17T21:46:19.389Z"
   },
   {
    "duration": 346,
    "start_time": "2022-04-17T21:46:19.442Z"
   },
   {
    "duration": 304,
    "start_time": "2022-04-17T21:46:19.791Z"
   },
   {
    "duration": 196,
    "start_time": "2022-04-17T21:46:20.098Z"
   },
   {
    "duration": 39,
    "start_time": "2022-04-17T21:46:20.296Z"
   },
   {
    "duration": 34,
    "start_time": "2022-04-17T21:46:20.337Z"
   },
   {
    "duration": 53,
    "start_time": "2022-04-17T21:46:20.373Z"
   },
   {
    "duration": 372,
    "start_time": "2022-04-17T21:46:20.428Z"
   },
   {
    "duration": 4,
    "start_time": "2022-04-17T21:46:20.802Z"
   },
   {
    "duration": 417,
    "start_time": "2022-04-17T21:46:20.824Z"
   },
   {
    "duration": 9,
    "start_time": "2022-04-17T21:46:21.244Z"
   },
   {
    "duration": 21,
    "start_time": "2022-04-17T21:46:21.255Z"
   },
   {
    "duration": 12,
    "start_time": "2022-04-17T21:46:21.278Z"
   },
   {
    "duration": 65,
    "start_time": "2022-04-17T21:46:21.292Z"
   },
   {
    "duration": 83,
    "start_time": "2022-04-17T21:46:21.359Z"
   },
   {
    "duration": 8,
    "start_time": "2022-04-17T21:46:21.444Z"
   },
   {
    "duration": 1273,
    "start_time": "2022-04-17T21:46:21.454Z"
   },
   {
    "duration": 7,
    "start_time": "2022-04-17T21:46:22.729Z"
   },
   {
    "duration": 4064,
    "start_time": "2022-04-17T21:46:22.739Z"
   },
   {
    "duration": 25,
    "start_time": "2022-04-17T21:46:26.806Z"
   },
   {
    "duration": 3612,
    "start_time": "2022-04-17T21:46:26.833Z"
   },
   {
    "duration": 24,
    "start_time": "2022-04-17T21:46:30.451Z"
   },
   {
    "duration": 39,
    "start_time": "2022-04-17T21:46:30.478Z"
   },
   {
    "duration": 4,
    "start_time": "2022-04-17T21:46:30.524Z"
   },
   {
    "duration": 10,
    "start_time": "2022-04-17T21:46:30.531Z"
   },
   {
    "duration": 27,
    "start_time": "2022-04-17T21:46:30.543Z"
   },
   {
    "duration": 6,
    "start_time": "2022-04-17T21:46:30.573Z"
   },
   {
    "duration": 14,
    "start_time": "2022-04-17T21:46:30.582Z"
   },
   {
    "duration": 29,
    "start_time": "2022-04-17T21:46:30.598Z"
   },
   {
    "duration": 96,
    "start_time": "2022-04-17T21:46:30.629Z"
   },
   {
    "duration": 7,
    "start_time": "2022-04-17T21:46:30.727Z"
   },
   {
    "duration": 58197,
    "start_time": "2022-04-17T21:46:30.737Z"
   },
   {
    "duration": 5,
    "start_time": "2022-04-17T21:47:28.937Z"
   },
   {
    "duration": 28183,
    "start_time": "2022-04-17T21:47:28.944Z"
   },
   {
    "duration": 9,
    "start_time": "2022-04-17T21:47:57.130Z"
   },
   {
    "duration": 446086,
    "start_time": "2022-04-17T21:47:57.144Z"
   },
   {
    "duration": 8,
    "start_time": "2022-04-17T21:55:23.232Z"
   },
   {
    "duration": 259593,
    "start_time": "2022-04-17T21:55:23.242Z"
   },
   {
    "duration": 7,
    "start_time": "2022-04-17T21:59:42.837Z"
   },
   {
    "duration": 302625,
    "start_time": "2022-04-17T21:59:42.846Z"
   },
   {
    "duration": 9,
    "start_time": "2022-04-17T22:04:45.473Z"
   },
   {
    "duration": 7893,
    "start_time": "2022-04-17T22:04:45.484Z"
   },
   {
    "duration": 4575,
    "start_time": "2022-04-17T22:04:53.380Z"
   },
   {
    "duration": 2066,
    "start_time": "2022-04-17T22:05:06.845Z"
   },
   {
    "duration": 920,
    "start_time": "2022-04-17T22:05:08.914Z"
   },
   {
    "duration": 6,
    "start_time": "2022-04-17T22:05:09.837Z"
   },
   {
    "duration": 48,
    "start_time": "2022-04-17T22:05:09.847Z"
   },
   {
    "duration": 36,
    "start_time": "2022-04-17T22:05:09.898Z"
   },
   {
    "duration": 18,
    "start_time": "2022-04-17T22:05:09.936Z"
   },
   {
    "duration": 360,
    "start_time": "2022-04-17T22:05:09.956Z"
   },
   {
    "duration": 303,
    "start_time": "2022-04-17T22:05:10.324Z"
   },
   {
    "duration": 189,
    "start_time": "2022-04-17T22:05:10.630Z"
   },
   {
    "duration": 29,
    "start_time": "2022-04-17T22:05:10.825Z"
   },
   {
    "duration": 39,
    "start_time": "2022-04-17T22:05:10.856Z"
   },
   {
    "duration": 46,
    "start_time": "2022-04-17T22:05:10.897Z"
   },
   {
    "duration": 367,
    "start_time": "2022-04-17T22:05:10.945Z"
   },
   {
    "duration": 5,
    "start_time": "2022-04-17T22:05:11.314Z"
   },
   {
    "duration": 440,
    "start_time": "2022-04-17T22:05:11.324Z"
   },
   {
    "duration": 11,
    "start_time": "2022-04-17T22:05:11.767Z"
   },
   {
    "duration": 7,
    "start_time": "2022-04-17T22:05:11.781Z"
   },
   {
    "duration": 43,
    "start_time": "2022-04-17T22:05:11.790Z"
   },
   {
    "duration": 54,
    "start_time": "2022-04-17T22:05:11.836Z"
   },
   {
    "duration": 91,
    "start_time": "2022-04-17T22:05:11.892Z"
   },
   {
    "duration": 8,
    "start_time": "2022-04-17T22:05:11.986Z"
   },
   {
    "duration": 1442,
    "start_time": "2022-04-17T22:05:11.996Z"
   },
   {
    "duration": 8,
    "start_time": "2022-04-17T22:05:13.441Z"
   },
   {
    "duration": 4699,
    "start_time": "2022-04-17T22:05:13.452Z"
   },
   {
    "duration": 14,
    "start_time": "2022-04-17T22:05:18.154Z"
   },
   {
    "duration": 3979,
    "start_time": "2022-04-17T22:05:18.170Z"
   },
   {
    "duration": 22,
    "start_time": "2022-04-17T22:05:22.152Z"
   },
   {
    "duration": 39,
    "start_time": "2022-04-17T22:05:22.179Z"
   },
   {
    "duration": 5,
    "start_time": "2022-04-17T22:05:22.220Z"
   },
   {
    "duration": 6,
    "start_time": "2022-04-17T22:05:22.228Z"
   },
   {
    "duration": 30,
    "start_time": "2022-04-17T22:05:22.236Z"
   },
   {
    "duration": 6,
    "start_time": "2022-04-17T22:05:22.268Z"
   },
   {
    "duration": 48,
    "start_time": "2022-04-17T22:05:22.277Z"
   },
   {
    "duration": 9,
    "start_time": "2022-04-17T22:05:22.328Z"
   },
   {
    "duration": 95,
    "start_time": "2022-04-17T22:05:22.339Z"
   },
   {
    "duration": 6,
    "start_time": "2022-04-17T22:05:22.437Z"
   },
   {
    "duration": 63280,
    "start_time": "2022-04-17T22:05:22.445Z"
   },
   {
    "duration": 6,
    "start_time": "2022-04-17T22:06:25.728Z"
   },
   {
    "duration": 30503,
    "start_time": "2022-04-17T22:06:25.737Z"
   },
   {
    "duration": 6,
    "start_time": "2022-04-17T22:06:56.325Z"
   },
   {
    "duration": 454871,
    "start_time": "2022-04-17T22:06:56.334Z"
   },
   {
    "duration": 7,
    "start_time": "2022-04-17T22:14:31.208Z"
   },
   {
    "duration": 261839,
    "start_time": "2022-04-17T22:14:31.217Z"
   },
   {
    "duration": 6,
    "start_time": "2022-04-17T22:18:53.059Z"
   },
   {
    "duration": 308678,
    "start_time": "2022-04-17T22:18:53.068Z"
   },
   {
    "duration": 11,
    "start_time": "2022-04-17T22:24:01.749Z"
   },
   {
    "duration": 173256,
    "start_time": "2022-04-17T22:24:01.763Z"
   },
   {
    "duration": 9885,
    "start_time": "2022-04-17T22:26:55.025Z"
   }
  ],
  "kernelspec": {
   "display_name": "Python 3 (ipykernel)",
   "language": "python",
   "name": "python3"
  },
  "language_info": {
   "codemirror_mode": {
    "name": "ipython",
    "version": 3
   },
   "file_extension": ".py",
   "mimetype": "text/x-python",
   "name": "python",
   "nbconvert_exporter": "python",
   "pygments_lexer": "ipython3",
   "version": "3.9.5"
  },
  "toc": {
   "base_numbering": 1,
   "nav_menu": {},
   "number_sections": true,
   "sideBar": true,
   "skip_h1_title": true,
   "title_cell": "Содержание",
   "title_sidebar": "Contents",
   "toc_cell": true,
   "toc_position": {},
   "toc_section_display": true,
   "toc_window_display": false
  }
 },
 "nbformat": 4,
 "nbformat_minor": 2
}
