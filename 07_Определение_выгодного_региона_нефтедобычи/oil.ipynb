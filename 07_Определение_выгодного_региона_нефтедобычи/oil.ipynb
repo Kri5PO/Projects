{
 "cells": [
  {
   "cell_type": "markdown",
   "metadata": {},
   "source": [
    "# Выбор локации для скважины"
   ]
  },
  {
   "cell_type": "markdown",
   "metadata": {},
   "source": [
    "Допустим, вы работаете в добывающей компании «ГлавРосГосНефть». Нужно решить, где бурить новую скважину.\n",
    "\n",
    "Вам предоставлены пробы нефти в трёх регионах: в каждом 10 000 месторождений, где измерили качество нефти и объём её запасов. Постройте модель машинного обучения, которая поможет определить регион, где добыча принесёт наибольшую прибыль. Проанализируйте возможную прибыль и риски техникой *Bootstrap.*\n",
    "\n",
    "Шаги для выбора локации:\n",
    "\n",
    "- В избранном регионе ищут месторождения, для каждого определяют значения признаков;\n",
    "- Строят модель и оценивают объём запасов;\n",
    "- Выбирают месторождения с самым высокими оценками значений. Количество месторождений зависит от бюджета компании и стоимости разработки одной скважины;\n",
    "- Прибыль равна суммарной прибыли отобранных месторождений."
   ]
  },
  {
   "cell_type": "markdown",
   "metadata": {},
   "source": [
    "## Загрузка и подготовка данных"
   ]
  },
  {
   "cell_type": "code",
   "execution_count": 1,
   "metadata": {},
   "outputs": [],
   "source": [
    "# загрузка библиотек\n",
    "import pandas as pd\n",
    "import numpy as np\n",
    "\n",
    "from sklearn.model_selection import train_test_split\n",
    "from sklearn.linear_model import LinearRegression\n",
    "from sklearn.metrics import mean_squared_error\n",
    "from statistics import mean\n",
    "from numpy.random import RandomState\n",
    "from scipy import stats as st"
   ]
  },
  {
   "cell_type": "code",
   "execution_count": 2,
   "metadata": {},
   "outputs": [],
   "source": [
    "# чтение файла с данными и сохранение в переменную df\n",
    "try:\n",
    "    df0 = pd.read_csv('C:/Users/79853/Documents/datascience/yandex/Спринт9/geo_data_0.csv')\n",
    "    df1 = pd.read_csv('C:/Users/79853/Documents/datascience/yandex/Спринт9/geo_data_1.csv')\n",
    "    df2 = pd.read_csv('C:/Users/79853/Documents/datascience/yandex/Спринт9/geo_data_2.csv')\n",
    "except:\n",
    "    df0 = pd.read_csv('/datasets/geo_data_0.csv') # загрузка онлайн\n",
    "    df1 = pd.read_csv('/datasets/geo_data_1.csv') # загрузка онлайн\n",
    "    df2 = pd.read_csv('/datasets/geo_data_2.csv') # загрузка онлайн"
   ]
  },
  {
   "cell_type": "code",
   "execution_count": 3,
   "metadata": {},
   "outputs": [
    {
     "name": "stdout",
     "output_type": "stream",
     "text": [
      "<class 'pandas.core.frame.DataFrame'>\n",
      "RangeIndex: 100000 entries, 0 to 99999\n",
      "Data columns (total 5 columns):\n",
      " #   Column   Non-Null Count   Dtype  \n",
      "---  ------   --------------   -----  \n",
      " 0   id       100000 non-null  object \n",
      " 1   f0       100000 non-null  float64\n",
      " 2   f1       100000 non-null  float64\n",
      " 3   f2       100000 non-null  float64\n",
      " 4   product  100000 non-null  float64\n",
      "dtypes: float64(4), object(1)\n",
      "memory usage: 3.8+ MB\n",
      "None\n",
      "\n",
      "<class 'pandas.core.frame.DataFrame'>\n",
      "RangeIndex: 100000 entries, 0 to 99999\n",
      "Data columns (total 5 columns):\n",
      " #   Column   Non-Null Count   Dtype  \n",
      "---  ------   --------------   -----  \n",
      " 0   id       100000 non-null  object \n",
      " 1   f0       100000 non-null  float64\n",
      " 2   f1       100000 non-null  float64\n",
      " 3   f2       100000 non-null  float64\n",
      " 4   product  100000 non-null  float64\n",
      "dtypes: float64(4), object(1)\n",
      "memory usage: 3.8+ MB\n",
      "None\n",
      "\n",
      "<class 'pandas.core.frame.DataFrame'>\n",
      "RangeIndex: 100000 entries, 0 to 99999\n",
      "Data columns (total 5 columns):\n",
      " #   Column   Non-Null Count   Dtype  \n",
      "---  ------   --------------   -----  \n",
      " 0   id       100000 non-null  object \n",
      " 1   f0       100000 non-null  float64\n",
      " 2   f1       100000 non-null  float64\n",
      " 3   f2       100000 non-null  float64\n",
      " 4   product  100000 non-null  float64\n",
      "dtypes: float64(4), object(1)\n",
      "memory usage: 3.8+ MB\n",
      "None\n",
      "\n"
     ]
    }
   ],
   "source": [
    "data = [df0, df1, df2]\n",
    "for df in data:\n",
    "    print(df.info())\n",
    "    print()"
   ]
  },
  {
   "cell_type": "code",
   "execution_count": 4,
   "metadata": {},
   "outputs": [
    {
     "name": "stdout",
     "output_type": "stream",
     "text": [
      "            count       mean        std        min        25%        50%  \\\n",
      "f0       100000.0   0.500419   0.871832  -1.408605  -0.072580   0.502360   \n",
      "f1       100000.0   0.250143   0.504433  -0.848218  -0.200881   0.250252   \n",
      "f2       100000.0   2.502647   3.248248 -12.088328   0.287748   2.515969   \n",
      "product  100000.0  92.500000  44.288691   0.000000  56.497507  91.849972   \n",
      "\n",
      "                75%         max  \n",
      "f0         1.073581    2.362331  \n",
      "f1         0.700646    1.343769  \n",
      "f2         4.715088   16.003790  \n",
      "product  128.564089  185.364347  \n",
      "\n",
      "            count       mean        std        min        25%        50%  \\\n",
      "f0       100000.0   1.141296   8.965932 -31.609576  -6.298551   1.153055   \n",
      "f1       100000.0  -4.796579   5.119872 -26.358598  -8.267985  -4.813172   \n",
      "f2       100000.0   2.494541   1.703572  -0.018144   1.000021   2.011479   \n",
      "product  100000.0  68.825000  45.944423   0.000000  26.953261  57.085625   \n",
      "\n",
      "                75%         max  \n",
      "f0         8.621015   29.421755  \n",
      "f1        -1.332816   18.734063  \n",
      "f2         3.999904    5.019721  \n",
      "product  107.813044  137.945408  \n",
      "\n",
      "            count       mean        std        min        25%        50%  \\\n",
      "f0       100000.0   0.002023   1.732045  -8.760004  -1.162288   0.009424   \n",
      "f1       100000.0  -0.002081   1.730417  -7.084020  -1.174820  -0.009482   \n",
      "f2       100000.0   2.495128   3.473445 -11.970335   0.130359   2.484236   \n",
      "product  100000.0  95.000000  44.749921   0.000000  59.450441  94.925613   \n",
      "\n",
      "                75%         max  \n",
      "f0         1.158535    7.238262  \n",
      "f1         1.163678    7.844801  \n",
      "f2         4.858794   16.739402  \n",
      "product  130.595027  190.029838  \n",
      "\n"
     ]
    }
   ],
   "source": [
    "for df in data:\n",
    "    print(df.describe().T)\n",
    "    print()"
   ]
  },
  {
   "cell_type": "code",
   "execution_count": 5,
   "metadata": {},
   "outputs": [
    {
     "name": "stdout",
     "output_type": "stream",
     "text": [
      "      id        f0        f1        f2     product\n",
      "0  txEyH  0.705745 -0.497823  1.221170  105.280062\n",
      "1  2acmU  1.334711 -0.340164  4.365080   73.037750\n",
      "2  409Wp  1.022732  0.151990  1.419926   85.265647\n",
      "3  iJLyR -0.032172  0.139033  2.978566  168.620776\n",
      "4  Xdl7t  1.988431  0.155413  4.751769  154.036647\n",
      "\n",
      "      id         f0         f1        f2     product\n",
      "0  kBEdx -15.001348  -8.276000 -0.005876    3.179103\n",
      "1  62mP7  14.272088  -3.475083  0.999183   26.953261\n",
      "2  vyE1P   6.263187  -5.948386  5.001160  134.766305\n",
      "3  KcrkZ -13.081196 -11.506057  4.999415  137.945408\n",
      "4  AHL4O  12.702195  -8.147433  5.004363  134.766305\n",
      "\n",
      "      id        f0        f1        f2     product\n",
      "0  fwXo0 -1.146987  0.963328 -0.828965   27.758673\n",
      "1  WJtFt  0.262778  0.269839 -2.530187   56.069697\n",
      "2  ovLUW  0.194587  0.289035 -5.586433   62.871910\n",
      "3  q6cA6  2.236060 -0.553760  0.930038  114.572842\n",
      "4  WPMUX -0.515993  1.716266  5.899011  149.600746\n",
      "\n"
     ]
    }
   ],
   "source": [
    "for df in data:\n",
    "    print(df.head())\n",
    "    print()"
   ]
  },
  {
   "cell_type": "markdown",
   "metadata": {},
   "source": [
    "В файлах находятся данные геологоразведки трёх регионов:\n",
    "- **id** — уникальный идентификатор скважины;\n",
    "- **f0, f1, f2** — три признака точек (неважно, что они означают, но сами признаки значимы);\n",
    "- **product** — объём запасов в скважине (тыс. баррелей)."
   ]
  },
  {
   "cell_type": "code",
   "execution_count": 6,
   "metadata": {},
   "outputs": [
    {
     "name": "stdout",
     "output_type": "stream",
     "text": [
      "0\n",
      "0\n",
      "0\n"
     ]
    }
   ],
   "source": [
    "# подсчёт явных дубликатов\n",
    "for df in data:\n",
    "    print(df.duplicated().sum())"
   ]
  },
  {
   "cell_type": "markdown",
   "metadata": {},
   "source": [
    "### Вывод"
   ]
  },
  {
   "cell_type": "markdown",
   "metadata": {},
   "source": [
    "Все три таблицы имеют одинаковую структуру и одинаковое количество данных (по 100 000).\n",
    "\n",
    "Признаки `f0`, `f1`, `f2`, `product` - количественные. Признак `id` - категориальный.\n",
    "\n",
    "Признак `id` (уникальный идентификатор скважины) не будет использоваться в исследование, поле можно удалить.\n",
    "\n",
    "Пропуски и явные дубликаты в данных отсутствуют."
   ]
  },
  {
   "cell_type": "markdown",
   "metadata": {},
   "source": [
    "## Обучение и проверка модели"
   ]
  },
  {
   "cell_type": "markdown",
   "metadata": {},
   "source": [
    "В качестве модели будет использована модель линейной регрессии (LinearRegression).\n",
    "\n",
    "Данные будут разбиты на обучающую и валидационную выборки в соотношении 75:25.\n",
    "\n",
    "Признаки - `f0`, `f1`, `f2`.\n",
    "\n",
    "Целевой признак - `product`."
   ]
  },
  {
   "cell_type": "code",
   "execution_count": 7,
   "metadata": {},
   "outputs": [],
   "source": [
    "# функция для разделения датасета на обучающую и валидационную выборки, на признаки и целевой признак\n",
    "def split_data(data):\n",
    "    train_df, valid_df = train_test_split(data, test_size=0.25, random_state=123) # обучающая и валидационная - 0,75 и 0,25\n",
    "    \n",
    "    # разделение выборок на признаки (features) и целевой признак (target)\n",
    "    features_train = train_df.drop(['product', 'id'], axis=1)\n",
    "    target_train = train_df['product']\n",
    "\n",
    "    features_valid = valid_df.drop(['product', 'id'], axis=1)\n",
    "    target_valid = valid_df['product']\n",
    "    \n",
    "    return features_train, target_train, features_valid, target_valid"
   ]
  },
  {
   "cell_type": "code",
   "execution_count": 8,
   "metadata": {},
   "outputs": [],
   "source": [
    "# функция для создания и обучения модели линейной регрессии\n",
    "# выводит среднее значение предсказаний и среднеквадратическую ошибку\n",
    "def mean_stats(data):\n",
    "    features_train, target_train, features_valid, target_valid = split_data(data)\n",
    "    model = LinearRegression()\n",
    "    model.fit(features_train, target_train)\n",
    "    predictions = model.predict(features_valid)\n",
    "    mean_prediction = mean(predictions)\n",
    "    rmse = mean_squared_error(target_valid, predictions) ** 0.5\n",
    "    print('Средний запас предсказанного сырья:', round(mean_prediction, 3), '(тыс. барелей)')\n",
    "    print('Среднеквадратическая ошибка RMSE:', round(rmse, 2))"
   ]
  },
  {
   "cell_type": "code",
   "execution_count": 9,
   "metadata": {},
   "outputs": [
    {
     "name": "stdout",
     "output_type": "stream",
     "text": [
      "Средний запас предсказанного сырья: 92.549 (тыс. барелей)\n",
      "Среднеквадратическая ошибка RMSE: 37.65\n"
     ]
    }
   ],
   "source": [
    "# Первый регион\n",
    "mean_stats(df0)"
   ]
  },
  {
   "cell_type": "code",
   "execution_count": 10,
   "metadata": {},
   "outputs": [
    {
     "name": "stdout",
     "output_type": "stream",
     "text": [
      "Средний запас предсказанного сырья: 69.28 (тыс. барелей)\n",
      "Среднеквадратическая ошибка RMSE: 0.9\n"
     ]
    }
   ],
   "source": [
    "# Второй регион\n",
    "mean_stats(df1)"
   ]
  },
  {
   "cell_type": "code",
   "execution_count": 11,
   "metadata": {},
   "outputs": [
    {
     "name": "stdout",
     "output_type": "stream",
     "text": [
      "Средний запас предсказанного сырья: 95.099 (тыс. барелей)\n",
      "Среднеквадратическая ошибка RMSE: 40.13\n"
     ]
    }
   ],
   "source": [
    "# Третий регион\n",
    "mean_stats(df2)"
   ]
  },
  {
   "cell_type": "markdown",
   "metadata": {},
   "source": [
    "### Вывод"
   ]
  },
  {
   "cell_type": "markdown",
   "metadata": {},
   "source": [
    "Самый высокий показатель среднего запаса пресказанного сырья (95,1) у Третьего региона, однако здесь довольно высокое значение среднеквадратической ошибки RMSE равное 40,1.\n",
    "\n",
    "У Первого региона показатели немного ниже, чем у Третьего района, но по соотношению здесь ситуация аналогичная Третьему региону - довольно высокая RMSE.\n",
    "\n",
    "У Второго региона показатель среднего запаса пресказанного сырья (69,3) самый низкий, однако значение среднеквадратической ошибки RMSE всего 0,9, т.е. разброс значений гораздо меньше, чем у Первого и Третьего регионов.\n",
    "\n",
    "Исходя из полученных значений, предварительно можно сказать, что **Второй регион является самым предсказуемым для разработки**, т.к. предсказанное значение запаса сырья во всех его скважинах примерно одинаковое. "
   ]
  },
  {
   "cell_type": "markdown",
   "metadata": {},
   "source": [
    "## Подготовка к расчёту прибыли"
   ]
  },
  {
   "cell_type": "markdown",
   "metadata": {},
   "source": [
    "Введем все необходимые переменные для дальнейших рассчетов."
   ]
  },
  {
   "cell_type": "code",
   "execution_count": 12,
   "metadata": {},
   "outputs": [],
   "source": [
    "RESEARCH_POINTS = 500    # число точек, которое исследуют при разведке региона\n",
    "DEVELOPMEN_POINTS = 200  # число лучших точек для разработки\n",
    "BUDGET = 10**10          # бюджет на разработку скважин в регионе в рублях\n",
    "PRICE_PER_ITEM = 450000  # доход с каждой единицы продукта в рублях\n",
    "RISK = 0.025             # максимальная вероятность убытков "
   ]
  },
  {
   "cell_type": "code",
   "execution_count": 13,
   "metadata": {},
   "outputs": [
    {
     "data": {
      "text/plain": [
       "111.11111111111111"
      ]
     },
     "execution_count": 13,
     "metadata": {},
     "output_type": "execute_result"
    }
   ],
   "source": [
    "# минимальный объём запасов в скважине (тыс. баррелей) для безубыточной работы\n",
    "min_profit_product = BUDGET / DEVELOPMEN_POINTS / PRICE_PER_ITEM\n",
    "min_profit_product"
   ]
  },
  {
   "cell_type": "markdown",
   "metadata": {},
   "source": [
    "### Вывод"
   ]
  },
  {
   "cell_type": "markdown",
   "metadata": {},
   "source": [
    "Достаточный объём сырья для безубыточной разработки новой скважины составляет 111 тыс. барелей. Рассчитанный объём сырья превышает средние значения запасов скважин во всех исследуемых регионах."
   ]
  },
  {
   "cell_type": "markdown",
   "metadata": {},
   "source": [
    "## Расчёт прибыли и рисков "
   ]
  },
  {
   "cell_type": "markdown",
   "metadata": {},
   "source": [
    "Составим функцию для расчета валовой прибыли. Формула валовой прибыли выглядит следующим образом:\n",
    "\n",
    "**Валовая прибыль = Выручка - Себестоимость**\n",
    "\n",
    "В условиях задачи:\n",
    "- **Выручка** - это доход от продажи нефти с лучших скважин региона, которые будут разработаны.\n",
    "- **Себестоимость** - это бюджет на разработку скважин."
   ]
  },
  {
   "cell_type": "code",
   "execution_count": 14,
   "metadata": {},
   "outputs": [],
   "source": [
    "# функция для расчета максимальной валовой прибыли\n",
    "def gross_profit(data):\n",
    "    features_train, target_train, features_valid, target_valid = split_data(data)\n",
    "    model = LinearRegression()\n",
    "    model.fit(features_train, target_train)\n",
    "    predictions = model.predict(features_valid)\n",
    "    target_valid = pd.Series(target_valid).reset_index(drop=True)\n",
    "    predictions = pd.Series(predictions).reset_index(drop=True)\n",
    "    pred_sorted = predictions.sort_values(ascending=False)\n",
    "    selected = target_valid[pred_sorted.index][:DEVELOPMEN_POINTS]\n",
    "    return PRICE_PER_ITEM * selected.sum() - BUDGET"
   ]
  },
  {
   "cell_type": "code",
   "execution_count": 15,
   "metadata": {},
   "outputs": [
    {
     "name": "stdout",
     "output_type": "stream",
     "text": [
      "Валовая прибыль с 200 лучших скважин в Первом регионе: 3 534 670 917 руб.\n",
      "Валовая прибыль с 200 лучших скважин во Втором регионе: 2 415 086 696 руб.\n",
      "Валовая прибыль с 200 лучших скважин в Третьем регионе: 2 370 343 863 руб.\n"
     ]
    }
   ],
   "source": [
    "print(\"Валовая прибыль с 200 лучших скважин в Первом регионе:\",\n",
    "      '{0:,}'.format(int(gross_profit(df0))).replace(',', ' '), 'руб.')\n",
    "print(\"Валовая прибыль с 200 лучших скважин во Втором регионе:\",\n",
    "      '{0:,}'.format(int(gross_profit(df1))).replace(',', ' '), 'руб.')\n",
    "print(\"Валовая прибыль с 200 лучших скважин в Третьем регионе:\",\n",
    "      '{0:,}'.format(int(gross_profit(df2))).replace(',', ' '), 'руб.')"
   ]
  },
  {
   "cell_type": "markdown",
   "metadata": {},
   "source": [
    "Расчет показал, что наибольшую валовую прибыль в размере 3,53 млрд. рублей можно получить в Первом регионе. "
   ]
  },
  {
   "cell_type": "markdown",
   "metadata": {},
   "source": [
    "Составим функцию для расчета рисков и валовой прибыли для регионов. Чтобы найти распределение прибыли применим технику Bootstrap с 1000 выборок. Функция будет выводить:\n",
    "- Среднюю валовую прибыль в рублях\n",
    "- 95%-й доверительный интевал для валовой прибыли\n",
    "- Вероятность убытков в %"
   ]
  },
  {
   "cell_type": "code",
   "execution_count": 16,
   "metadata": {},
   "outputs": [],
   "source": [
    "# функция для расчета рисков и прибыли\n",
    "def risks(data):\n",
    "    features_train, target_train, features_valid, target_valid = split_data(data)\n",
    "    target_valid = target_valid.reset_index(drop=True)\n",
    "    \n",
    "    model = LinearRegression()\n",
    "    model.fit(features_train, target_train)\n",
    "    predictions = pd.Series(model.predict(features_valid))\n",
    "   \n",
    "    state = np.random.RandomState(12345)\n",
    "    profits = []     # выручка\n",
    "    \n",
    "    for i in range(1000):\n",
    "        target_subsample = target_valid.sample(n=RESEARCH_POINTS, replace=True, random_state=state)  # 500 случайных ответов\n",
    "        probs_subsample = predictions[target_subsample.index]     # 500 предсказаний соответсвующие 500 случайных ответов\n",
    "        \n",
    "        pred_sorted = probs_subsample.sort_values(ascending=False)  #сортировка по убыванию выбранных 500 предсказаний\n",
    "        selected = target_subsample[pred_sorted.index][:DEVELOPMEN_POINTS] #выборка 200 ответов по отсортированным предсказаниям\n",
    "        \n",
    "        result = PRICE_PER_ITEM * selected.sum() - BUDGET\n",
    "        profits.append(result)\n",
    "                  \n",
    "    profits = pd.Series(profits)\n",
    "    damages_probability = (profits < 0).mean()     # вероятность убытков\n",
    "    \n",
    "    # 95%-й доверительный интервал\n",
    "    confidence_interval = (profits.quantile(0.025), profits.quantile(0.975))\n",
    "    \n",
    "    print('Средняя валовая прибыль:', '{0:,}'.format(int(profits.mean())).replace(',', ' '), 'руб.')\n",
    "    print('95%-й доверительный интевал для валовой прибыли (руб.):', confidence_interval)\n",
    "    print(\"Вероятность убытков: {:.1%}\".format(damages_probability)) \n",
    "\n",
    "    if damages_probability < RISK:\n",
    "        print('Вероятность убытков ниже установленного порога')\n",
    "    elif damages_probability == RISK:\n",
    "        print('Вероятность убытков равна установленному порогу')\n",
    "    else:\n",
    "        print('Вероятность убытков выше установленного порога')"
   ]
  },
  {
   "cell_type": "code",
   "execution_count": 17,
   "metadata": {},
   "outputs": [
    {
     "name": "stdout",
     "output_type": "stream",
     "text": [
      "Средняя валовая прибыль: 505 264 703 руб.\n",
      "95%-й доверительный интевал для валовой прибыли (руб.): (-1086050.0993474456, 1062107249.360262)\n",
      "Вероятность убытков: 2.6%\n",
      "Вероятность убытков выше установленного порога\n"
     ]
    }
   ],
   "source": [
    "# Первый регион\n",
    "risks(df0)"
   ]
  },
  {
   "cell_type": "code",
   "execution_count": 18,
   "metadata": {},
   "outputs": [
    {
     "name": "stdout",
     "output_type": "stream",
     "text": [
      "Средняя валовая прибыль: 541 346 019 руб.\n",
      "95%-й доверительный интевал для валовой прибыли (руб.): (112268493.96322638, 1003682292.7565937)\n",
      "Вероятность убытков: 0.6%\n",
      "Вероятность убытков ниже установленного порога\n"
     ]
    }
   ],
   "source": [
    "# Второй регион\n",
    "risks(df1)"
   ]
  },
  {
   "cell_type": "code",
   "execution_count": 19,
   "metadata": {},
   "outputs": [
    {
     "name": "stdout",
     "output_type": "stream",
     "text": [
      "Средняя валовая прибыль: 377 594 883 руб.\n",
      "95%-й доверительный интевал для валовой прибыли (руб.): (-196111540.74364287, 943136714.1862346)\n",
      "Вероятность убытков: 9.4%\n",
      "Вероятность убытков выше установленного порога\n"
     ]
    }
   ],
   "source": [
    "# Третий регион\n",
    "risks(df2)"
   ]
  },
  {
   "cell_type": "markdown",
   "metadata": {},
   "source": [
    "### Вывод"
   ]
  },
  {
   "cell_type": "markdown",
   "metadata": {},
   "source": [
    "По всем рассчитанным параметрам лидирует **Второй регион**. Здесь самое высокое среди регионов значение средней валовой прибыли и вероятность убытков ниже установленного порога в 2,5%.\n",
    "\n",
    "Можно сделать вывод, что **самым выгодным регионом для разработки скважин является Второй регион**."
   ]
  },
  {
   "cell_type": "markdown",
   "metadata": {},
   "source": [
    "## Общий вывод"
   ]
  },
  {
   "cell_type": "markdown",
   "metadata": {},
   "source": [
    "В ходе проекта были исследованы данные о пробах нефти в трех регионах с целью анализа возможной прибыли и рисков. \n",
    "\n",
    "Для построения модели, которая предсказывает объём запасов в скважинах, был использован алгоритм линейной регрессии (**LinearRegression**). Данные были разбиты на обучающую и валидационную выборки в соотношении 75:25.\n",
    "\n",
    "В п.2 для каждого региона были рассчитаны **средний запас предсказанного сырья** и **среднеквадратическая ошибка RMSE**. По полученным результатам было сделано предположение, что Второй регион является самым предсказуемым для разработки, т.к. предсказанное значение запаса сырья во всех его скважинах примерно одинаковое, среднеквадратическая ошибка RMSE меньше единицы.\n",
    "\n",
    "В п.3 были подготовлены необходимые переменные с ключевыми значениями для расчётов. Также был рассчитан **минимальный объем запасов в скважине**, необходимый для безубыточной работы. Оказалось, что рассчитанный минимальный объем превышает средние значения запасов скважин во всех исследуемых регионах.\n",
    "\n",
    "В п.4 была рассчитана **максимальная валовая прибыль с 200 лучших скважин** для каждого региона. Расчет показал, что наибольшую валовую прибыль размером 3,53 млрд. рублей можно получить в Первом регионе. Далее была применена техника **Bootstrap** для поиска распределения прибыли. Т.о. была рассчитана **средняя валовая прибыль**, **95%-й доверительный интевал для валовой прибыли** и **вероятность убытков**.\n",
    "\n",
    "Исходя из результатов исследования, был сделан вывод, что **самым выгодным регионом для разработки скважин является Второй регион** с показателем средней валовой прибыли 541 346 019 руб. и вероятностью убытков 0.6%."
   ]
  },
  {
   "cell_type": "code",
   "execution_count": null,
   "metadata": {},
   "outputs": [],
   "source": []
  }
 ],
 "metadata": {
  "ExecuteTimeLog": [
   {
    "duration": 13,
    "start_time": "2022-03-30T21:20:03.763Z"
   },
   {
    "duration": 1068,
    "start_time": "2022-03-30T21:36:49.696Z"
   },
   {
    "duration": 405,
    "start_time": "2022-03-30T21:36:50.766Z"
   },
   {
    "duration": 35,
    "start_time": "2022-03-30T21:37:18.482Z"
   },
   {
    "duration": 91,
    "start_time": "2022-03-30T21:37:21.046Z"
   },
   {
    "duration": 3,
    "start_time": "2022-03-30T21:41:33.628Z"
   },
   {
    "duration": 3,
    "start_time": "2022-03-30T21:41:34.026Z"
   },
   {
    "duration": 4,
    "start_time": "2022-03-30T21:45:56.944Z"
   },
   {
    "duration": 396,
    "start_time": "2022-03-30T21:45:56.949Z"
   },
   {
    "duration": 40,
    "start_time": "2022-03-30T21:45:57.346Z"
   },
   {
    "duration": 97,
    "start_time": "2022-03-30T21:45:57.388Z"
   },
   {
    "duration": 9,
    "start_time": "2022-03-30T21:45:57.487Z"
   },
   {
    "duration": 126,
    "start_time": "2022-03-30T21:45:57.498Z"
   },
   {
    "duration": 7,
    "start_time": "2022-03-30T21:45:57.626Z"
   },
   {
    "duration": 7,
    "start_time": "2022-03-30T21:45:57.635Z"
   },
   {
    "duration": 206,
    "start_time": "2022-03-30T21:45:57.643Z"
   },
   {
    "duration": 199,
    "start_time": "2022-03-30T21:45:57.851Z"
   },
   {
    "duration": 201,
    "start_time": "2022-03-30T21:45:58.053Z"
   },
   {
    "duration": 3,
    "start_time": "2022-03-30T21:45:58.256Z"
   },
   {
    "duration": 4,
    "start_time": "2022-03-30T21:45:58.332Z"
   },
   {
    "duration": 10,
    "start_time": "2022-03-30T21:45:58.338Z"
   },
   {
    "duration": 400,
    "start_time": "2022-03-30T21:45:58.349Z"
   },
   {
    "duration": 99,
    "start_time": "2022-03-30T21:45:58.834Z"
   },
   {
    "duration": 1318,
    "start_time": "2022-03-30T21:45:58.935Z"
   },
   {
    "duration": 1277,
    "start_time": "2022-03-30T21:46:00.255Z"
   },
   {
    "duration": 1312,
    "start_time": "2022-03-30T21:46:01.534Z"
   },
   {
    "duration": 11,
    "start_time": "2022-03-31T06:35:42.007Z"
   },
   {
    "duration": 41,
    "start_time": "2022-03-31T06:35:44.414Z"
   },
   {
    "duration": 1044,
    "start_time": "2022-03-31T06:35:58.057Z"
   },
   {
    "duration": 366,
    "start_time": "2022-03-31T06:35:59.103Z"
   },
   {
    "duration": 33,
    "start_time": "2022-03-31T06:35:59.471Z"
   },
   {
    "duration": 96,
    "start_time": "2022-03-31T06:35:59.505Z"
   },
   {
    "duration": 10,
    "start_time": "2022-03-31T06:35:59.603Z"
   },
   {
    "duration": 137,
    "start_time": "2022-03-31T06:35:59.614Z"
   },
   {
    "duration": 4,
    "start_time": "2022-03-31T06:35:59.753Z"
   },
   {
    "duration": 7,
    "start_time": "2022-03-31T06:35:59.758Z"
   },
   {
    "duration": 180,
    "start_time": "2022-03-31T06:35:59.767Z"
   },
   {
    "duration": 196,
    "start_time": "2022-03-31T06:35:59.948Z"
   },
   {
    "duration": 203,
    "start_time": "2022-03-31T06:36:00.146Z"
   },
   {
    "duration": 3,
    "start_time": "2022-03-31T06:36:00.350Z"
   },
   {
    "duration": 23,
    "start_time": "2022-03-31T06:36:00.355Z"
   },
   {
    "duration": 19,
    "start_time": "2022-03-31T06:36:00.381Z"
   },
   {
    "duration": 533,
    "start_time": "2022-03-31T06:36:00.402Z"
   },
   {
    "duration": 3,
    "start_time": "2022-03-31T06:36:13.219Z"
   },
   {
    "duration": 9,
    "start_time": "2022-03-31T06:36:33.286Z"
   },
   {
    "duration": 1314,
    "start_time": "2022-03-31T06:36:34.614Z"
   },
   {
    "duration": 1264,
    "start_time": "2022-03-31T06:37:38.654Z"
   },
   {
    "duration": 1295,
    "start_time": "2022-03-31T06:37:40.801Z"
   },
   {
    "duration": 101,
    "start_time": "2022-03-31T08:22:56.757Z"
   },
   {
    "duration": 110,
    "start_time": "2022-03-31T08:23:26.520Z"
   },
   {
    "duration": 91,
    "start_time": "2022-03-31T08:38:28.134Z"
   },
   {
    "duration": 4,
    "start_time": "2022-03-31T08:45:25.707Z"
   },
   {
    "duration": 6,
    "start_time": "2022-03-31T08:59:43.590Z"
   },
   {
    "duration": 1329,
    "start_time": "2022-03-31T08:59:45.305Z"
   },
   {
    "duration": 1336,
    "start_time": "2022-03-31T08:59:59.208Z"
   },
   {
    "duration": 7,
    "start_time": "2022-03-31T09:04:06.963Z"
   },
   {
    "duration": 1314,
    "start_time": "2022-03-31T09:04:07.722Z"
   },
   {
    "duration": 6,
    "start_time": "2022-03-31T09:04:14.905Z"
   },
   {
    "duration": 1315,
    "start_time": "2022-03-31T09:04:15.618Z"
   },
   {
    "duration": 1263,
    "start_time": "2022-03-31T09:04:21.754Z"
   },
   {
    "duration": 1307,
    "start_time": "2022-03-31T09:04:24.421Z"
   },
   {
    "duration": 7,
    "start_time": "2022-03-31T09:05:12.723Z"
   },
   {
    "duration": 1361,
    "start_time": "2022-03-31T09:05:13.701Z"
   },
   {
    "duration": 6,
    "start_time": "2022-03-31T09:06:04.196Z"
   },
   {
    "duration": 1284,
    "start_time": "2022-03-31T09:06:04.529Z"
   },
   {
    "duration": 1343,
    "start_time": "2022-03-31T09:06:08.121Z"
   },
   {
    "duration": 1266,
    "start_time": "2022-03-31T09:06:09.467Z"
   },
   {
    "duration": 6,
    "start_time": "2022-03-31T09:12:38.260Z"
   },
   {
    "duration": 1306,
    "start_time": "2022-03-31T09:12:38.861Z"
   },
   {
    "duration": 1287,
    "start_time": "2022-03-31T09:12:40.169Z"
   },
   {
    "duration": 1299,
    "start_time": "2022-03-31T09:12:41.458Z"
   },
   {
    "duration": 425,
    "start_time": "2022-03-31T09:15:19.009Z"
   },
   {
    "duration": 432,
    "start_time": "2022-03-31T09:16:18.919Z"
   },
   {
    "duration": 7,
    "start_time": "2022-03-31T09:20:27.919Z"
   },
   {
    "duration": 1362,
    "start_time": "2022-03-31T09:20:28.686Z"
   },
   {
    "duration": 7,
    "start_time": "2022-03-31T09:21:32.427Z"
   },
   {
    "duration": 1447,
    "start_time": "2022-03-31T09:21:33.494Z"
   },
   {
    "duration": 1398,
    "start_time": "2022-03-31T09:21:37.915Z"
   },
   {
    "duration": 1421,
    "start_time": "2022-03-31T09:21:42.442Z"
   },
   {
    "duration": 1404,
    "start_time": "2022-03-31T11:25:05.134Z"
   },
   {
    "duration": 439,
    "start_time": "2022-03-31T11:25:06.541Z"
   },
   {
    "duration": 50,
    "start_time": "2022-03-31T11:25:06.983Z"
   },
   {
    "duration": 132,
    "start_time": "2022-03-31T11:25:07.035Z"
   },
   {
    "duration": 22,
    "start_time": "2022-03-31T11:25:07.170Z"
   },
   {
    "duration": 203,
    "start_time": "2022-03-31T11:25:07.194Z"
   },
   {
    "duration": 5,
    "start_time": "2022-03-31T11:25:07.399Z"
   },
   {
    "duration": 8,
    "start_time": "2022-03-31T11:25:07.407Z"
   },
   {
    "duration": 184,
    "start_time": "2022-03-31T11:25:07.417Z"
   },
   {
    "duration": 225,
    "start_time": "2022-03-31T11:25:07.682Z"
   },
   {
    "duration": 200,
    "start_time": "2022-03-31T11:25:07.910Z"
   },
   {
    "duration": 4,
    "start_time": "2022-03-31T11:25:08.113Z"
   },
   {
    "duration": 17,
    "start_time": "2022-03-31T11:25:08.120Z"
   },
   {
    "duration": 8,
    "start_time": "2022-03-31T11:25:08.141Z"
   },
   {
    "duration": 534,
    "start_time": "2022-03-31T11:25:08.152Z"
   },
   {
    "duration": 96,
    "start_time": "2022-03-31T11:25:08.689Z"
   },
   {
    "duration": 1919,
    "start_time": "2022-03-31T11:25:08.788Z"
   },
   {
    "duration": 1849,
    "start_time": "2022-03-31T11:25:10.709Z"
   },
   {
    "duration": 1898,
    "start_time": "2022-03-31T11:25:12.561Z"
   },
   {
    "duration": 1480,
    "start_time": "2022-04-01T15:42:16.331Z"
   },
   {
    "duration": 546,
    "start_time": "2022-04-01T15:42:17.813Z"
   },
   {
    "duration": 67,
    "start_time": "2022-04-01T15:42:18.361Z"
   },
   {
    "duration": 124,
    "start_time": "2022-04-01T15:42:18.432Z"
   },
   {
    "duration": 31,
    "start_time": "2022-04-01T15:42:18.558Z"
   },
   {
    "duration": 209,
    "start_time": "2022-04-01T15:42:18.592Z"
   },
   {
    "duration": 6,
    "start_time": "2022-04-01T15:42:18.803Z"
   },
   {
    "duration": 8,
    "start_time": "2022-04-01T15:42:18.811Z"
   },
   {
    "duration": 297,
    "start_time": "2022-04-01T15:42:18.821Z"
   },
   {
    "duration": 198,
    "start_time": "2022-04-01T15:42:19.121Z"
   },
   {
    "duration": 294,
    "start_time": "2022-04-01T15:42:19.321Z"
   },
   {
    "duration": 4,
    "start_time": "2022-04-01T15:42:19.617Z"
   },
   {
    "duration": 19,
    "start_time": "2022-04-01T15:42:19.624Z"
   },
   {
    "duration": 15,
    "start_time": "2022-04-01T15:42:19.645Z"
   },
   {
    "duration": 528,
    "start_time": "2022-04-01T15:42:19.662Z"
   },
   {
    "duration": 94,
    "start_time": "2022-04-01T15:42:20.193Z"
   },
   {
    "duration": 9,
    "start_time": "2022-04-01T15:42:39.364Z"
   },
   {
    "duration": 1999,
    "start_time": "2022-04-01T15:42:44.895Z"
   },
   {
    "duration": 1986,
    "start_time": "2022-04-01T15:44:39.063Z"
   },
   {
    "duration": 1986,
    "start_time": "2022-04-01T15:44:54.351Z"
   },
   {
    "duration": 11,
    "start_time": "2022-04-01T15:53:58.399Z"
   },
   {
    "duration": 2183,
    "start_time": "2022-04-01T15:54:00.610Z"
   },
   {
    "duration": 10,
    "start_time": "2022-04-01T15:54:36.745Z"
   },
   {
    "duration": 1971,
    "start_time": "2022-04-01T15:54:39.196Z"
   },
   {
    "duration": 2180,
    "start_time": "2022-04-01T15:55:05.498Z"
   },
   {
    "duration": 1964,
    "start_time": "2022-04-01T15:55:14.719Z"
   },
   {
    "duration": 18,
    "start_time": "2022-04-01T15:59:03.868Z"
   },
   {
    "duration": 2090,
    "start_time": "2022-04-01T15:59:06.114Z"
   },
   {
    "duration": 1550,
    "start_time": "2022-04-01T19:22:49.595Z"
   },
   {
    "duration": 503,
    "start_time": "2022-04-01T19:22:51.148Z"
   },
   {
    "duration": 62,
    "start_time": "2022-04-01T19:22:51.653Z"
   },
   {
    "duration": 133,
    "start_time": "2022-04-01T19:22:51.718Z"
   },
   {
    "duration": 15,
    "start_time": "2022-04-01T19:22:51.853Z"
   },
   {
    "duration": 258,
    "start_time": "2022-04-01T19:22:51.870Z"
   },
   {
    "duration": 6,
    "start_time": "2022-04-01T19:22:52.130Z"
   },
   {
    "duration": 8,
    "start_time": "2022-04-01T19:22:52.138Z"
   },
   {
    "duration": 253,
    "start_time": "2022-04-01T19:22:52.148Z"
   },
   {
    "duration": 207,
    "start_time": "2022-04-01T19:22:52.404Z"
   },
   {
    "duration": 200,
    "start_time": "2022-04-01T19:22:52.613Z"
   },
   {
    "duration": 4,
    "start_time": "2022-04-01T19:22:52.815Z"
   },
   {
    "duration": 18,
    "start_time": "2022-04-01T19:22:52.821Z"
   },
   {
    "duration": 8,
    "start_time": "2022-04-01T19:22:52.885Z"
   },
   {
    "duration": 495,
    "start_time": "2022-04-01T19:22:52.896Z"
   },
   {
    "duration": 99,
    "start_time": "2022-04-01T19:22:53.394Z"
   },
   {
    "duration": 2124,
    "start_time": "2022-04-01T19:22:53.495Z"
   },
   {
    "duration": 2149,
    "start_time": "2022-04-01T19:22:55.621Z"
   },
   {
    "duration": 2167,
    "start_time": "2022-04-01T19:22:57.772Z"
   },
   {
    "duration": 1584,
    "start_time": "2022-04-01T19:50:27.781Z"
   },
   {
    "duration": 697,
    "start_time": "2022-04-01T19:50:29.368Z"
   },
   {
    "duration": 54,
    "start_time": "2022-04-01T19:50:30.067Z"
   },
   {
    "duration": 134,
    "start_time": "2022-04-01T19:50:30.124Z"
   },
   {
    "duration": 25,
    "start_time": "2022-04-01T19:50:30.263Z"
   },
   {
    "duration": 242,
    "start_time": "2022-04-01T19:50:30.291Z"
   },
   {
    "duration": 6,
    "start_time": "2022-04-01T19:50:30.535Z"
   },
   {
    "duration": 29,
    "start_time": "2022-04-01T19:50:30.543Z"
   },
   {
    "duration": 336,
    "start_time": "2022-04-01T19:50:30.574Z"
   },
   {
    "duration": 202,
    "start_time": "2022-04-01T19:50:30.912Z"
   },
   {
    "duration": 194,
    "start_time": "2022-04-01T19:50:31.117Z"
   },
   {
    "duration": 4,
    "start_time": "2022-04-01T19:50:31.313Z"
   },
   {
    "duration": 25,
    "start_time": "2022-04-01T19:50:31.319Z"
   },
   {
    "duration": 39,
    "start_time": "2022-04-01T19:50:31.347Z"
   },
   {
    "duration": 497,
    "start_time": "2022-04-01T19:50:31.389Z"
   },
   {
    "duration": 97,
    "start_time": "2022-04-01T19:50:31.890Z"
   },
   {
    "duration": 2154,
    "start_time": "2022-04-01T19:50:31.989Z"
   },
   {
    "duration": 2062,
    "start_time": "2022-04-01T19:50:34.145Z"
   },
   {
    "duration": 3175,
    "start_time": "2022-04-01T19:50:36.209Z"
   }
  ],
  "kernelspec": {
   "display_name": "Python 3 (ipykernel)",
   "language": "python",
   "name": "python3"
  },
  "language_info": {
   "codemirror_mode": {
    "name": "ipython",
    "version": 3
   },
   "file_extension": ".py",
   "mimetype": "text/x-python",
   "name": "python",
   "nbconvert_exporter": "python",
   "pygments_lexer": "ipython3",
   "version": "3.9.5"
  },
  "toc": {
   "base_numbering": 1,
   "nav_menu": {},
   "number_sections": true,
   "sideBar": true,
   "skip_h1_title": true,
   "title_cell": "Table of Contents",
   "title_sidebar": "Contents",
   "toc_cell": false,
   "toc_position": {},
   "toc_section_display": true,
   "toc_window_display": true
  }
 },
 "nbformat": 4,
 "nbformat_minor": 2
}
