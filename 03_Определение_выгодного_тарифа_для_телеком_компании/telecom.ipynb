{
 "cells": [
  {
   "cell_type": "markdown",
   "metadata": {
    "toc": true
   },
   "source": [
    "<h1>Содержание<span class=\"tocSkip\"></span></h1>\n",
    "<div class=\"toc\"><ul class=\"toc-item\"><li><span><a href=\"#Изучение-исходных-данных\" data-toc-modified-id=\"Изучение-исходных-данных-1\"><span class=\"toc-item-num\">1&nbsp;&nbsp;</span>Изучение исходных данных</a></span><ul class=\"toc-item\"><li><span><a href=\"#Вывод\" data-toc-modified-id=\"Вывод-1.1\"><span class=\"toc-item-num\">1.1&nbsp;&nbsp;</span>Вывод</a></span></li></ul></li><li><span><a href=\"#Предобработка-данных\" data-toc-modified-id=\"Предобработка-данных-2\"><span class=\"toc-item-num\">2&nbsp;&nbsp;</span>Предобработка данных</a></span><ul class=\"toc-item\"><li><span><a href=\"#Обработка-пропусков-и-некорректных-значений\" data-toc-modified-id=\"Обработка-пропусков-и-некорректных-значений-2.1\"><span class=\"toc-item-num\">2.1&nbsp;&nbsp;</span>Обработка пропусков и некорректных значений</a></span></li><li><span><a href=\"#Изменение-типа-данных\" data-toc-modified-id=\"Изменение-типа-данных-2.2\"><span class=\"toc-item-num\">2.2&nbsp;&nbsp;</span>Изменение типа данных</a></span></li><li><span><a href=\"#Обработка-дубликатов\" data-toc-modified-id=\"Обработка-дубликатов-2.3\"><span class=\"toc-item-num\">2.3&nbsp;&nbsp;</span>Обработка дубликатов</a></span></li><li><span><a href=\"#Вывод\" data-toc-modified-id=\"Вывод-2.4\"><span class=\"toc-item-num\">2.4&nbsp;&nbsp;</span>Вывод</a></span></li></ul></li><li><span><a href=\"#Дополнительные-расчёты\" data-toc-modified-id=\"Дополнительные-расчёты-3\"><span class=\"toc-item-num\">3&nbsp;&nbsp;</span>Дополнительные расчёты</a></span><ul class=\"toc-item\"><li><span><a href=\"#Количество-сделанных-звонков-и-израсходованных-минут-разговора-для-каждого-пользователя-по-месяцам\" data-toc-modified-id=\"Количество-сделанных-звонков-и-израсходованных-минут-разговора-для-каждого-пользователя-по-месяцам-3.1\"><span class=\"toc-item-num\">3.1&nbsp;&nbsp;</span>Количество сделанных звонков и израсходованных минут разговора для каждого пользователя по месяцам</a></span></li><li><span><a href=\"#Количество-отправленных-сообщений-для-каждого-пользователя-по-месяцам\" data-toc-modified-id=\"Количество-отправленных-сообщений-для-каждого-пользователя-по-месяцам-3.2\"><span class=\"toc-item-num\">3.2&nbsp;&nbsp;</span>Количество отправленных сообщений для каждого пользователя по месяцам</a></span></li><li><span><a href=\"#Объем-израсходованного-интернет-трафика-для-каждого-пользователя-по-месяцам\" data-toc-modified-id=\"Объем-израсходованного-интернет-трафика-для-каждого-пользователя-по-месяцам-3.3\"><span class=\"toc-item-num\">3.3&nbsp;&nbsp;</span>Объем израсходованного интернет-трафика для каждого пользователя по месяцам</a></span></li><li><span><a href=\"#Помесячная-выручка-с-каждого-пользователя\" data-toc-modified-id=\"Помесячная-выручка-с-каждого-пользователя-3.4\"><span class=\"toc-item-num\">3.4&nbsp;&nbsp;</span>Помесячная выручка с каждого пользователя</a></span></li><li><span><a href=\"#Вывод\" data-toc-modified-id=\"Вывод-3.5\"><span class=\"toc-item-num\">3.5&nbsp;&nbsp;</span>Вывод</a></span></li></ul></li><li><span><a href=\"#Исследовательский-анализ-данных\" data-toc-modified-id=\"Исследовательский-анализ-данных-4\"><span class=\"toc-item-num\">4&nbsp;&nbsp;</span>Исследовательский анализ данных</a></span><ul class=\"toc-item\"><li><span><a href=\"#Исследование-минут-разговора-в-месяц\" data-toc-modified-id=\"Исследование-минут-разговора-в-месяц-4.1\"><span class=\"toc-item-num\">4.1&nbsp;&nbsp;</span>Исследование минут разговора в месяц</a></span></li><li><span><a href=\"#Исследование-количества-сообщений-в-месяц\" data-toc-modified-id=\"Исследование-количества-сообщений-в-месяц-4.2\"><span class=\"toc-item-num\">4.2&nbsp;&nbsp;</span>Исследование количества сообщений в месяц</a></span></li><li><span><a href=\"#Исследование-объема-интернет-трафика-в-месяц\" data-toc-modified-id=\"Исследование-объема-интернет-трафика-в-месяц-4.3\"><span class=\"toc-item-num\">4.3&nbsp;&nbsp;</span>Исследование объема интернет-трафика в месяц</a></span></li><li><span><a href=\"#Вывод\" data-toc-modified-id=\"Вывод-4.4\"><span class=\"toc-item-num\">4.4&nbsp;&nbsp;</span>Вывод</a></span></li></ul></li><li><span><a href=\"#Проверка-гипотез\" data-toc-modified-id=\"Проверка-гипотез-5\"><span class=\"toc-item-num\">5&nbsp;&nbsp;</span>Проверка гипотез</a></span><ul class=\"toc-item\"><li><span><a href=\"#Средняя-выручка-пользователей-тарифов-«Ультра»-и-«Смарт»-различаются\" data-toc-modified-id=\"Средняя-выручка-пользователей-тарифов-«Ультра»-и-«Смарт»-различаются-5.1\"><span class=\"toc-item-num\">5.1&nbsp;&nbsp;</span>Средняя выручка пользователей тарифов «Ультра» и «Смарт» различаются</a></span></li><li><span><a href=\"#Средняя-выручка-пользователей-из-Москвы-отличается-от-выручки-пользователей-из-других-регионов\" data-toc-modified-id=\"Средняя-выручка-пользователей-из-Москвы-отличается-от-выручки-пользователей-из-других-регионов-5.2\"><span class=\"toc-item-num\">5.2&nbsp;&nbsp;</span>Средняя выручка пользователей из Москвы отличается от выручки пользователей из других регионов</a></span></li></ul></li><li><span><a href=\"#Общий-вывод\" data-toc-modified-id=\"Общий-вывод-6\"><span class=\"toc-item-num\">6&nbsp;&nbsp;</span>Общий вывод</a></span></li></ul></div>"
   ]
  },
  {
   "cell_type": "markdown",
   "metadata": {},
   "source": [
    "# Определение перспективного тарифа для телеком-компании\n",
    "\n",
    "Клиентам компании «Мегалайн» — федерального оператора сотовой связи, предлагают два тарифных плана: «Смарт» и «Ультра». Чтобы скорректировать рекламный бюджет, коммерческий департамент хочет понять, какой тариф приносит больше денег.\n",
    "\n",
    "Необходимо сделать предварительный анализ тарифов на небольшой выборке клиентов. В вашем распоряжении данные 500 пользователей «Мегалайна»: кто они, откуда, каким тарифом пользуются, сколько звонков и сообщений каждый отправил за 2018 год. Нужно проанализировать поведение клиентов и сделать вывод — какой тариф лучше.\n",
    "\n",
    "\n",
    "**Тариф «Смарт»**\n",
    "1. Ежемесячная плата: 550 рублей\n",
    "2. Включено 500 минут разговора, 50 сообщений и 15 Гб интернет-трафика\n",
    "3. Стоимость услуг сверх тарифного пакета: \n",
    "    - минута разговора: 3 рубля («Мегалайн» всегда округляет вверх значения минут и мегабайтов. Если пользователь проговорил всего 1 секунду, в тарифе засчитывается целая минута); \n",
    "    - сообщение: 3 рубля; \n",
    "    - 1 Гб интернет-трафика: 200 рублей.\n",
    "\n",
    "**Тариф «Ультра»**\n",
    "1. Ежемесячная плата: 1950 рублей\n",
    "2. Включено 3000 минут разговора, 1000 сообщений и 30 Гб интернет-трафика\n",
    "3. Стоимость услуг сверх тарифного пакета: \n",
    "    - минута разговора: 1 рубль; \n",
    "    - сообщение: 1 рубль; \n",
    "    - 1 Гб интернет-трафика: 150 рублей."
   ]
  },
  {
   "cell_type": "markdown",
   "metadata": {},
   "source": [
    "## Изучение исходных данных"
   ]
  },
  {
   "cell_type": "code",
   "execution_count": 1,
   "metadata": {},
   "outputs": [],
   "source": [
    "# загрузка библиотек\n",
    "import pandas as pd\n",
    "import seaborn as sns\n",
    "import matplotlib.pyplot as plt\n",
    "import numpy as np \n",
    "import scipy.stats as stats\n",
    "import math\n",
    "import pylab"
   ]
  },
  {
   "cell_type": "code",
   "execution_count": 2,
   "metadata": {},
   "outputs": [],
   "source": [
    "# чтение файлов с данными\n",
    "try:\n",
    "    calls = pd.read_csv('C:/Users/79853/Documents/datascience/yandex/Спринт5/calls.csv')       # информация о звонках\n",
    "    internet = pd.read_csv('C:/Users/79853/Documents/datascience/yandex/Спринт5/internet.csv') # информация об интернет-сессиях\n",
    "    messages = pd.read_csv('C:/Users/79853/Documents/datascience/yandex/Спринт5/messages.csv') # информация о сообщениях\n",
    "    tariffs = pd.read_csv('C:/Users/79853/Documents/datascience/yandex/Спринт5/tariffs.csv')   # информация о тарифах\n",
    "    users = pd.read_csv('C:/Users/79853/Documents/datascience/yandex/Спринт5/users.csv')       # информация о пользователях\n",
    "except:\n",
    "    calls = pd.read_csv('/datasets/calls.csv')        # информация о звонках\n",
    "    internet = pd.read_csv('/datasets/internet.csv')  # информация об интернет-сессиях\n",
    "    messages = pd.read_csv('/datasets/messages.csv')  # информация о сообщениях\n",
    "    tariffs = pd.read_csv('/datasets/tariffs.csv')    # информация о тарифах\n",
    "    users = pd.read_csv('/datasets/users.csv')        # информация о пользователях"
   ]
  },
  {
   "cell_type": "markdown",
   "metadata": {},
   "source": [
    "<a id='correction_1'></a>"
   ]
  },
  {
   "cell_type": "code",
   "execution_count": 3,
   "metadata": {},
   "outputs": [],
   "source": [
    "# функция для просмотра общей информации по датасетам\n",
    "def data_info(data, name):\n",
    "    print('\\033[1m' + 'Информация о датасете', name + '\\033[0m')\n",
    "    print()\n",
    "    print(data.info())\n",
    "    print()\n",
    "    print('\\033[1m' + 'Первые 5 строк датасета' + '\\033[0m', data.head(), sep='\\n')\n",
    "    print()\n",
    "    print('\\033[1m' + 'Описание количественных переменных' + '\\033[0m', data.describe().T, sep='\\n')\n",
    "    print()\n",
    "    try:\n",
    "        print('\\033[1m' + 'Количество уникальных значений поля user_id' + '\\033[0m',\n",
    "              data['user_id'].nunique(), sep='\\n')\n",
    "    except:\n",
    "        print('\\033[1m' + 'В датасете отсутствует поле user_id' + '\\033[0m')"
   ]
  },
  {
   "cell_type": "code",
   "execution_count": 4,
   "metadata": {},
   "outputs": [
    {
     "name": "stdout",
     "output_type": "stream",
     "text": [
      "\u001b[1mИнформация о датасете users (информация о пользователях)\u001b[0m\n",
      "\n",
      "<class 'pandas.core.frame.DataFrame'>\n",
      "RangeIndex: 500 entries, 0 to 499\n",
      "Data columns (total 8 columns):\n",
      " #   Column      Non-Null Count  Dtype \n",
      "---  ------      --------------  ----- \n",
      " 0   user_id     500 non-null    int64 \n",
      " 1   age         500 non-null    int64 \n",
      " 2   churn_date  38 non-null     object\n",
      " 3   city        500 non-null    object\n",
      " 4   first_name  500 non-null    object\n",
      " 5   last_name   500 non-null    object\n",
      " 6   reg_date    500 non-null    object\n",
      " 7   tariff      500 non-null    object\n",
      "dtypes: int64(2), object(6)\n",
      "memory usage: 31.4+ KB\n",
      "None\n",
      "\n",
      "\u001b[1mПервые 5 строк датасета\u001b[0m\n",
      "   user_id  age churn_date         city first_name  last_name    reg_date  \\\n",
      "0     1000   52        NaN    Краснодар     Рафаил  Верещагин  2018-05-25   \n",
      "1     1001   41        NaN       Москва       Иван       Ежов  2018-11-01   \n",
      "2     1002   59        NaN  Стерлитамак    Евгений  Абрамович  2018-06-17   \n",
      "3     1003   23        NaN       Москва      Белла   Белякова  2018-08-17   \n",
      "4     1004   68        NaN  Новокузнецк    Татьяна   Авдеенко  2018-05-14   \n",
      "\n",
      "  tariff  \n",
      "0  ultra  \n",
      "1  smart  \n",
      "2  smart  \n",
      "3  ultra  \n",
      "4  ultra  \n",
      "\n",
      "\u001b[1mОписание количественных переменных\u001b[0m\n",
      "         count      mean         std     min      25%     50%      75%     max\n",
      "user_id  500.0  1249.500  144.481833  1000.0  1124.75  1249.5  1374.25  1499.0\n",
      "age      500.0    46.588   16.667630    18.0    32.00    46.0    62.00    75.0\n",
      "\n",
      "\u001b[1mКоличество уникальных значений поля user_id\u001b[0m\n",
      "500\n"
     ]
    }
   ],
   "source": [
    "data_info(data=users, name='users (информация о пользователях)')"
   ]
  },
  {
   "cell_type": "code",
   "execution_count": 5,
   "metadata": {},
   "outputs": [
    {
     "name": "stdout",
     "output_type": "stream",
     "text": [
      "\u001b[1mИнформация о датасете calls (информация о звонках)\u001b[0m\n",
      "\n",
      "<class 'pandas.core.frame.DataFrame'>\n",
      "RangeIndex: 202607 entries, 0 to 202606\n",
      "Data columns (total 4 columns):\n",
      " #   Column     Non-Null Count   Dtype  \n",
      "---  ------     --------------   -----  \n",
      " 0   id         202607 non-null  object \n",
      " 1   call_date  202607 non-null  object \n",
      " 2   duration   202607 non-null  float64\n",
      " 3   user_id    202607 non-null  int64  \n",
      "dtypes: float64(1), int64(1), object(2)\n",
      "memory usage: 6.2+ MB\n",
      "None\n",
      "\n",
      "\u001b[1mПервые 5 строк датасета\u001b[0m\n",
      "       id   call_date  duration  user_id\n",
      "0  1000_0  2018-07-25      0.00     1000\n",
      "1  1000_1  2018-08-17      0.00     1000\n",
      "2  1000_2  2018-06-11      2.85     1000\n",
      "3  1000_3  2018-09-21     13.80     1000\n",
      "4  1000_4  2018-12-15      5.18     1000\n",
      "\n",
      "\u001b[1mОписание количественных переменных\u001b[0m\n",
      "             count         mean         std     min     25%     50%     75%  \\\n",
      "duration  202607.0     6.755887    5.843365     0.0     1.3     6.0    10.7   \n",
      "user_id   202607.0  1253.940619  144.722751  1000.0  1126.0  1260.0  1379.0   \n",
      "\n",
      "             max  \n",
      "duration    38.0  \n",
      "user_id   1499.0  \n",
      "\n",
      "\u001b[1mКоличество уникальных значений поля user_id\u001b[0m\n",
      "492\n"
     ]
    }
   ],
   "source": [
    "data_info(data=calls, name='calls (информация о звонках)')"
   ]
  },
  {
   "cell_type": "code",
   "execution_count": 6,
   "metadata": {},
   "outputs": [
    {
     "name": "stdout",
     "output_type": "stream",
     "text": [
      "\u001b[1mИнформация о датасете messages (информация о сообщениях)\u001b[0m\n",
      "\n",
      "<class 'pandas.core.frame.DataFrame'>\n",
      "RangeIndex: 123036 entries, 0 to 123035\n",
      "Data columns (total 3 columns):\n",
      " #   Column        Non-Null Count   Dtype \n",
      "---  ------        --------------   ----- \n",
      " 0   id            123036 non-null  object\n",
      " 1   message_date  123036 non-null  object\n",
      " 2   user_id       123036 non-null  int64 \n",
      "dtypes: int64(1), object(2)\n",
      "memory usage: 2.8+ MB\n",
      "None\n",
      "\n",
      "\u001b[1mПервые 5 строк датасета\u001b[0m\n",
      "       id message_date  user_id\n",
      "0  1000_0   2018-06-27     1000\n",
      "1  1000_1   2018-10-08     1000\n",
      "2  1000_2   2018-08-04     1000\n",
      "3  1000_3   2018-06-16     1000\n",
      "4  1000_4   2018-12-05     1000\n",
      "\n",
      "\u001b[1mОписание количественных переменных\u001b[0m\n",
      "            count        mean         std     min     25%     50%     75%  \\\n",
      "user_id  123036.0  1256.98941  143.523967  1000.0  1134.0  1271.0  1381.0   \n",
      "\n",
      "            max  \n",
      "user_id  1499.0  \n",
      "\n",
      "\u001b[1mКоличество уникальных значений поля user_id\u001b[0m\n",
      "426\n"
     ]
    }
   ],
   "source": [
    "data_info(data=messages, name='messages (информация о сообщениях)')"
   ]
  },
  {
   "cell_type": "code",
   "execution_count": 7,
   "metadata": {},
   "outputs": [
    {
     "name": "stdout",
     "output_type": "stream",
     "text": [
      "\u001b[1mИнформация о датасете internet (информация об интернет-сессиях)\u001b[0m\n",
      "\n",
      "<class 'pandas.core.frame.DataFrame'>\n",
      "RangeIndex: 149396 entries, 0 to 149395\n",
      "Data columns (total 5 columns):\n",
      " #   Column        Non-Null Count   Dtype  \n",
      "---  ------        --------------   -----  \n",
      " 0   Unnamed: 0    149396 non-null  int64  \n",
      " 1   id            149396 non-null  object \n",
      " 2   mb_used       149396 non-null  float64\n",
      " 3   session_date  149396 non-null  object \n",
      " 4   user_id       149396 non-null  int64  \n",
      "dtypes: float64(1), int64(2), object(2)\n",
      "memory usage: 5.7+ MB\n",
      "None\n",
      "\n",
      "\u001b[1mПервые 5 строк датасета\u001b[0m\n",
      "   Unnamed: 0      id  mb_used session_date  user_id\n",
      "0           0  1000_0   112.95   2018-11-25     1000\n",
      "1           1  1000_1  1052.81   2018-09-07     1000\n",
      "2           2  1000_2  1197.26   2018-06-25     1000\n",
      "3           3  1000_3   550.27   2018-08-22     1000\n",
      "4           4  1000_4   302.56   2018-09-24     1000\n",
      "\n",
      "\u001b[1mОписание количественных переменных\u001b[0m\n",
      "               count          mean           std     min         25%  \\\n",
      "Unnamed: 0  149396.0  74697.500000  43127.054745     0.0  37348.7500   \n",
      "mb_used     149396.0    370.192426    278.300951     0.0    138.1875   \n",
      "user_id     149396.0   1252.099842    144.050823  1000.0   1130.0000   \n",
      "\n",
      "                  50%          75%        max  \n",
      "Unnamed: 0  74697.500  112046.2500  149395.00  \n",
      "mb_used       348.015     559.5525    1724.83  \n",
      "user_id      1251.000    1380.0000    1499.00  \n",
      "\n",
      "\u001b[1mКоличество уникальных значений поля user_id\u001b[0m\n",
      "497\n"
     ]
    }
   ],
   "source": [
    "data_info(data=internet, name='internet (информация об интернет-сессиях)')"
   ]
  },
  {
   "cell_type": "code",
   "execution_count": 8,
   "metadata": {},
   "outputs": [
    {
     "name": "stdout",
     "output_type": "stream",
     "text": [
      "\u001b[1mИнформация о датасете tariffs (информация о тарифах)\u001b[0m\n",
      "\n",
      "<class 'pandas.core.frame.DataFrame'>\n",
      "RangeIndex: 2 entries, 0 to 1\n",
      "Data columns (total 8 columns):\n",
      " #   Column                 Non-Null Count  Dtype \n",
      "---  ------                 --------------  ----- \n",
      " 0   messages_included      2 non-null      int64 \n",
      " 1   mb_per_month_included  2 non-null      int64 \n",
      " 2   minutes_included       2 non-null      int64 \n",
      " 3   rub_monthly_fee        2 non-null      int64 \n",
      " 4   rub_per_gb             2 non-null      int64 \n",
      " 5   rub_per_message        2 non-null      int64 \n",
      " 6   rub_per_minute         2 non-null      int64 \n",
      " 7   tariff_name            2 non-null      object\n",
      "dtypes: int64(7), object(1)\n",
      "memory usage: 256.0+ bytes\n",
      "None\n",
      "\n",
      "\u001b[1mПервые 5 строк датасета\u001b[0m\n",
      "   messages_included  mb_per_month_included  minutes_included  \\\n",
      "0                 50                  15360               500   \n",
      "1               1000                  30720              3000   \n",
      "\n",
      "   rub_monthly_fee  rub_per_gb  rub_per_message  rub_per_minute tariff_name  \n",
      "0              550         200                3               3       smart  \n",
      "1             1950         150                1               1       ultra  \n",
      "\n",
      "\u001b[1mОписание количественных переменных\u001b[0m\n",
      "                       count     mean           std      min      25%  \\\n",
      "messages_included        2.0    525.0    671.751442     50.0    287.5   \n",
      "mb_per_month_included    2.0  23040.0  10861.160159  15360.0  19200.0   \n",
      "minutes_included         2.0   1750.0   1767.766953    500.0   1125.0   \n",
      "rub_monthly_fee          2.0   1250.0    989.949494    550.0    900.0   \n",
      "rub_per_gb               2.0    175.0     35.355339    150.0    162.5   \n",
      "rub_per_message          2.0      2.0      1.414214      1.0      1.5   \n",
      "rub_per_minute           2.0      2.0      1.414214      1.0      1.5   \n",
      "\n",
      "                           50%      75%      max  \n",
      "messages_included        525.0    762.5   1000.0  \n",
      "mb_per_month_included  23040.0  26880.0  30720.0  \n",
      "minutes_included        1750.0   2375.0   3000.0  \n",
      "rub_monthly_fee         1250.0   1600.0   1950.0  \n",
      "rub_per_gb               175.0    187.5    200.0  \n",
      "rub_per_message            2.0      2.5      3.0  \n",
      "rub_per_minute             2.0      2.5      3.0  \n",
      "\n",
      "\u001b[1mВ датасете отсутствует поле user_id\u001b[0m\n"
     ]
    }
   ],
   "source": [
    "data_info(data=tariffs, name='tariffs (информация о тарифах)')"
   ]
  },
  {
   "cell_type": "markdown",
   "metadata": {},
   "source": [
    "Описание таблиц.\n",
    "\n",
    "**users** (информация о пользователях):\n",
    "\n",
    "| №пп | наименование поля | Значение поля | Вид переменной | Тип поля |\n",
    "| :-: | :- | :- | :- | :-: |\n",
    "| 1 | user_id | уникальный идентификатор пользователя | кач | int64 |\n",
    "| 2 | first_name | имя пользователя | кач | object | \n",
    "| 3 | last_name | фамилия пользователя | кач | object |\n",
    "| 4 | age | возраст пользователя (годы) | кол | int64 |\n",
    "| 5 | reg_date | дата подключения тарифа (день, месяц, год) | кол | object |\n",
    "| 6 | churn_date | дата прекращения пользования тарифом (если значение пропущено, то тариф ещё действовал на момент выгрузки данных) | кол | object |\n",
    "| 7 | city | город проживания пользователя | кач | object |\n",
    "| 8 | tariff | название тарифного плана | кач | object |\n",
    "\n",
    "**calls** (информация о звонках):\n",
    "\n",
    "| №пп | наименование поля | Значение поля | Вид переменной | Тип поля |\n",
    "| :-: | :- | :- | :- | :-: |\n",
    "| 1 | id | уникальный номер звонка | кач | object |\n",
    "| 2 | call_date | дата звонка | кач | object | \n",
    "| 3 | duration | длительность звонка в минутах | кол | float64 |\n",
    "| 4 | user_id | идентификатор пользователя, сделавшего звонок | кач | int64 |\n",
    "\n",
    "**messages** (информация о сообщениях):\n",
    "\n",
    "| №пп | наименование поля | Значение поля | Вид переменной | Тип поля |\n",
    "| :-: | :- | :- | :- | :-: |\n",
    "| 1 | id | уникальный номер сообщения | кач | object |\n",
    "| 2 | message_date | дата сообщения | кач | object | \n",
    "| 3 | user_id | идентификатор пользователя, отправившего сообщение | кач | int64 |\n",
    "\n",
    "**internet** (информация об интернет-сессиях):\n",
    "\n",
    "| №пп | наименование поля | Значение поля | Вид переменной | Тип поля |\n",
    "| :-: | :- | :- | :- | :-: |\n",
    "| 1 | Unnamed: 0 | ??? | ??? | int64 |\n",
    "| 2 | id | уникальный номер сессии | кач | object | \n",
    "| 3 | mb_used | объём потраченного за сессию интернет-трафика (в мегабайтах) | кол | float64 |\n",
    "| 4 | session_date | дата интернет-сессии | кол | object |\n",
    "| 5 | user_id | идентификатор пользователя | кач | int64 |\n",
    "\n",
    "**tariffs** (информация о тарифах):\n",
    "\n",
    "| №пп | наименование поля | Значение поля | Вид переменной | Тип поля |\n",
    "| :-: | :- | :- | :- | :-: |\n",
    "| 1 | tariff_name | название тарифа | кач | object |\n",
    "| 2 | rub_monthly_fee | ежемесячная абонентская плата в рублях | кол | int64 | \n",
    "| 3 | minutes_included | количество минут разговора в месяц, включённых в абонентскую плату | кол | int64 |\n",
    "| 4 | messages_included | количество сообщений в месяц, включённых в абонентскую плату | кол | int64 |\n",
    "| 5 | mb_per_month_included | объём интернет-трафика, включённого в абонентскую плату (в мегабайтах) | кол | int64 |\n",
    "| 6 | rub_per_minute | стоимость минуты разговора сверх тарифного пакета (например, если в тарифе 100 минут разговора в месяц, то со 101 минуты будет взиматься плата) | кол | int64 |\n",
    "| 7 | rub_per_message | стоимость отправки сообщения сверх тарифного пакета | кол | int64 |\n",
    "| 8 | rub_per_gb | стоимость дополнительного гигабайта интернет-трафика сверх тарифного пакета (1 гигабайт = 1024 мегабайта) | кол | int64 |"
   ]
  },
  {
   "cell_type": "code",
   "execution_count": 9,
   "metadata": {},
   "outputs": [
    {
     "data": {
      "text/plain": [
       "tariff\n",
       "smart    70.2\n",
       "ultra    29.8\n",
       "Name: user_id, dtype: float64"
      ]
     },
     "execution_count": 9,
     "metadata": {},
     "output_type": "execute_result"
    }
   ],
   "source": [
    "# процентное соотношение пользователей тарифов Смарт и Ультра\n",
    "users.groupby('tariff')['user_id'].count() / users.shape[0] * 100"
   ]
  },
  {
   "cell_type": "markdown",
   "metadata": {},
   "source": [
    "Т.к. проектом предусмотрено исследование тарифов пользователей, их места проживания, необходимо проверить нет ли некорректных значений или неявных дубликатов в полях `tariff` (название тарифного плана) и `city` (город проживания пользователя) датасета **users**"
   ]
  },
  {
   "cell_type": "code",
   "execution_count": 10,
   "metadata": {
    "scrolled": true
   },
   "outputs": [
    {
     "data": {
      "text/plain": [
       "['Архангельск',\n",
       " 'Астрахань',\n",
       " 'Балашиха',\n",
       " 'Барнаул',\n",
       " 'Белгород',\n",
       " 'Брянск',\n",
       " 'Владивосток',\n",
       " 'Владикавказ',\n",
       " 'Владимир',\n",
       " 'Волгоград',\n",
       " 'Волжский',\n",
       " 'Вологда',\n",
       " 'Воронеж',\n",
       " 'Грозный',\n",
       " 'Екатеринбург',\n",
       " 'Иваново',\n",
       " 'Ижевск',\n",
       " 'Иркутск',\n",
       " 'Казань',\n",
       " 'Калининград',\n",
       " 'Калуга',\n",
       " 'Кемерово',\n",
       " 'Киров',\n",
       " 'Кострома',\n",
       " 'Краснодар',\n",
       " 'Красноярск',\n",
       " 'Курган',\n",
       " 'Курск',\n",
       " 'Липецк',\n",
       " 'Магнитогорск',\n",
       " 'Махачкала',\n",
       " 'Москва',\n",
       " 'Мурманск',\n",
       " 'Набережные Челны',\n",
       " 'Нижневартовск',\n",
       " 'Нижний Новгород',\n",
       " 'Нижний Тагил',\n",
       " 'Новокузнецк',\n",
       " 'Новороссийск',\n",
       " 'Новосибирск',\n",
       " 'Омск',\n",
       " 'Оренбург',\n",
       " 'Орёл',\n",
       " 'Пенза',\n",
       " 'Пермь',\n",
       " 'Петрозаводск',\n",
       " 'Подольск',\n",
       " 'Ростов-на-Дону',\n",
       " 'Рязань',\n",
       " 'Самара',\n",
       " 'Санкт-Петербург',\n",
       " 'Саранск',\n",
       " 'Саратов',\n",
       " 'Севастополь',\n",
       " 'Смоленск',\n",
       " 'Сочи',\n",
       " 'Ставрополь',\n",
       " 'Стерлитамак',\n",
       " 'Сургут',\n",
       " 'Тамбов',\n",
       " 'Тверь',\n",
       " 'Тольятти',\n",
       " 'Томск',\n",
       " 'Тула',\n",
       " 'Тюмень',\n",
       " 'Улан-Удэ',\n",
       " 'Ульяновск',\n",
       " 'Уфа',\n",
       " 'Хабаровск',\n",
       " 'Химки',\n",
       " 'Чебоксары',\n",
       " 'Челябинск',\n",
       " 'Череповец',\n",
       " 'Чита',\n",
       " 'Якутск',\n",
       " 'Ярославль']"
      ]
     },
     "execution_count": 10,
     "metadata": {},
     "output_type": "execute_result"
    }
   ],
   "source": [
    "# уникальные значения поля city датасета users\n",
    "sorted(users.city.unique())"
   ]
  },
  {
   "cell_type": "code",
   "execution_count": 11,
   "metadata": {},
   "outputs": [
    {
     "data": {
      "text/plain": [
       "array(['ultra', 'smart'], dtype=object)"
      ]
     },
     "execution_count": 11,
     "metadata": {},
     "output_type": "execute_result"
    }
   ],
   "source": [
    "# уникальные значения поля tariff датасета users\n",
    "users.tariff.unique()"
   ]
  },
  {
   "cell_type": "markdown",
   "metadata": {},
   "source": [
    "В полях `tariff` (название тарифного плана) и `city` (город проживания пользователя) **некорректные значения или неявные дубликаты отсутствуют**."
   ]
  },
  {
   "cell_type": "markdown",
   "metadata": {},
   "source": [
    "### Вывод"
   ]
  },
  {
   "cell_type": "markdown",
   "metadata": {},
   "source": [
    "В таблицах **users**, **calls**, **messages**, **internet** поле `user_id` (идентификатор пользователя) совпадает по разбросу значений (от 1000 до 1499), значит представленные данные о звонках, сообщениях и интернет-трафике соответствуют данным о  клиентах. В дальнейшем исследовании можно объединять таблицы по полю `user_id`.\n",
    "\n",
    "Исходя из количества уникальных значений `user_id` во всех представленных датасетах, можно сделать вывод, что не все 500 клиентов пользовались сразу всеми услугами оператора. Так, 8 клиентов не совершали звонки, 74 клиента не писали сообщений, 74 клиента не пользовались интернетом.\n",
    "\n",
    "Согласно данным из таблицы **users** пользователей тарифа \"Смарт\" больше, чем тарифа \"Ультра\". В процентном соотношении пользователи тарифа \"Смарт\" составляют 70%, тарифа \"Ультра\" - 30%.\n",
    "\n",
    "Таблица **users** (информация о пользователях):\n",
    "- есть пропуски значений в поле `churn_date` (дата прекращения пользования тарифом), которые означают, согласно описанию, что тариф ещё действовал на момент выгрузки данных;\n",
    "- в поле `duration` (длительность звонка в минутах) есть **нулевые значения**. Согласно описанию, так обозначены пропущенные звонки; \n",
    "- тип полей `reg_date` (дата подключения тарифа) и `churn_date` (дата прекращения пользования тарифом) необходимо изменить на **datetime64**;\n",
    "\n",
    "Таблица **calls** (информация о звонках):\n",
    "- тип поля `call_date` (дата звонка) необходимо изменить на **datetime64**;\n",
    "- тип поля `duration` (длительность звонка в минутах) необходимо изменить на **int64**, при этом округлить необходимо *в большую сторону*, т.к. в описании тарифов сказано, что ***каждый звонок округляется отдельно: даже если он длился всего 1 секунду, будет засчитан как 1 минута***.\n",
    "\n",
    "Таблица **messages** (информация о сообщениях):\n",
    "- тип поля `message_date` (дата сообщения) необходимо изменить на **datetime64**;\n",
    "\n",
    "Таблица **internet** (информация об интернет-сессиях):\n",
    "- в таблице присутствует поле `Unnamed: 0`, которое отсутствует в описании данных и предположительно дублирует поле с индексами. данное поле необходимо удалить;\n",
    "- в поле `mb_used` (объём потраченного за сессию интернет-трафика в мегабайтах) есть **нулевые значения**. Можно предположить, что за эти сессии пользователи потратили меньше 1Мб, а т.к. в таблице данные учтены в мегабайтах, в этом случае в результате округления получили значение 0Мб;\n",
    "- тип поля `session_date` (дата интернет-сессии) необходимо изменить на **datetime64**;"
   ]
  },
  {
   "cell_type": "markdown",
   "metadata": {},
   "source": [
    "## Предобработка данных"
   ]
  },
  {
   "cell_type": "markdown",
   "metadata": {},
   "source": [
    "### Обработка пропусков и некорректных значений"
   ]
  },
  {
   "cell_type": "code",
   "execution_count": 12,
   "metadata": {},
   "outputs": [],
   "source": [
    "# удаление поля 'Unnamed: 0' в датасете internet\n",
    "internet = internet.drop('Unnamed: 0', axis=1)"
   ]
  },
  {
   "cell_type": "markdown",
   "metadata": {},
   "source": [
    "### Изменение типа данных"
   ]
  },
  {
   "cell_type": "code",
   "execution_count": 13,
   "metadata": {},
   "outputs": [],
   "source": [
    "# изменение типа данных c object на datetime64\n",
    "users['churn_date'] = pd.to_datetime(users['churn_date'], format='%Y-%m-%d')\n",
    "users['reg_date'] = pd.to_datetime(users['reg_date'], format='%Y-%m-%d')\n",
    "calls['call_date'] = pd.to_datetime(calls['call_date'], format='%Y-%m-%d')\n",
    "messages['message_date'] = pd.to_datetime(messages['message_date'], format='%Y-%m-%d')\n",
    "internet['session_date'] = pd.to_datetime(internet['session_date'], format='%Y-%m-%d')"
   ]
  },
  {
   "cell_type": "code",
   "execution_count": 14,
   "metadata": {},
   "outputs": [],
   "source": [
    "# изменение типа данных c float64 на int64 \n",
    "calls['duration'] = np.ceil(calls['duration']).astype('int64')"
   ]
  },
  {
   "cell_type": "code",
   "execution_count": 15,
   "metadata": {},
   "outputs": [
    {
     "name": "stdout",
     "output_type": "stream",
     "text": [
      "<class 'pandas.core.frame.DataFrame'>\n",
      "RangeIndex: 500 entries, 0 to 499\n",
      "Data columns (total 8 columns):\n",
      " #   Column      Non-Null Count  Dtype         \n",
      "---  ------      --------------  -----         \n",
      " 0   user_id     500 non-null    int64         \n",
      " 1   age         500 non-null    int64         \n",
      " 2   churn_date  38 non-null     datetime64[ns]\n",
      " 3   city        500 non-null    object        \n",
      " 4   first_name  500 non-null    object        \n",
      " 5   last_name   500 non-null    object        \n",
      " 6   reg_date    500 non-null    datetime64[ns]\n",
      " 7   tariff      500 non-null    object        \n",
      "dtypes: datetime64[ns](2), int64(2), object(4)\n",
      "memory usage: 31.4+ KB\n"
     ]
    }
   ],
   "source": [
    "users.info()"
   ]
  },
  {
   "cell_type": "markdown",
   "metadata": {},
   "source": [
    "### Обработка дубликатов"
   ]
  },
  {
   "cell_type": "code",
   "execution_count": 16,
   "metadata": {},
   "outputs": [
    {
     "name": "stdout",
     "output_type": "stream",
     "text": [
      "0\n",
      "0\n",
      "0\n",
      "0\n"
     ]
    }
   ],
   "source": [
    "# подсчёт явных дубликатов в датасетах users, calls, messages, internet\n",
    "data = [users, calls, messages, internet]\n",
    "for el in data:\n",
    "    print(el.duplicated().sum())"
   ]
  },
  {
   "cell_type": "markdown",
   "metadata": {},
   "source": [
    "### Вывод"
   ]
  },
  {
   "cell_type": "markdown",
   "metadata": {},
   "source": [
    "Из датасета **internet** удалено поле `Unnamed: 0`.\n",
    "\n",
    "Во всех датасетах типы полей *с датами* изменены c object на **datetime64**.\n",
    "\n",
    "Явные и неявные дубликаты в датасетах не выявлены."
   ]
  },
  {
   "cell_type": "markdown",
   "metadata": {},
   "source": [
    "## Дополнительные расчёты"
   ]
  },
  {
   "cell_type": "markdown",
   "metadata": {},
   "source": [
    "Необходимо рассчитать для каждого пользователя:\n",
    "- количество сделанных звонков и израсходованных минут разговора по месяцам;\n",
    "- количество отправленных сообщений по месяцам;\n",
    "- объем израсходованного интернет-трафика по месяцам;\n",
    "- помесячную выручку с каждого пользователя (вычесть бесплатный лимит из суммарного количества звонков, сообщений и интернет-трафика; остаток умножить на значение из тарифного плана; прибавить абонентскую плату, соответствующую тарифному плану)."
   ]
  },
  {
   "cell_type": "markdown",
   "metadata": {},
   "source": [
    "### Количество сделанных звонков и израсходованных минут разговора для каждого пользователя по месяцам"
   ]
  },
  {
   "cell_type": "code",
   "execution_count": 17,
   "metadata": {},
   "outputs": [
    {
     "data": {
      "text/plain": [
       "count                           202607\n",
       "mean     2018-09-02 20:01:37.583992832\n",
       "min                2018-01-01 00:00:00\n",
       "25%                2018-07-05 00:00:00\n",
       "50%                2018-09-17 00:00:00\n",
       "75%                2018-11-14 00:00:00\n",
       "max                2018-12-31 00:00:00\n",
       "Name: call_date, dtype: object"
      ]
     },
     "execution_count": 17,
     "metadata": {},
     "output_type": "execute_result"
    }
   ],
   "source": [
    "# посмотрим за какой период представлены данные в датасете calls\n",
    "calls.call_date.describe(datetime_is_numeric=True)"
   ]
  },
  {
   "cell_type": "markdown",
   "metadata": {},
   "source": [
    "Данные в датасете **calls** представлены за 2018 год (период с 01.01.2018 до 31.12.2018).\n",
    "\n",
    "Чтобы рассчитать количество звонков и израсходованных минут по месяцам, необходимо в датасет **calls** добавить поле `month` (месяц)"
   ]
  },
  {
   "cell_type": "code",
   "execution_count": 18,
   "metadata": {},
   "outputs": [
    {
     "data": {
      "text/plain": [
       "[Period('2018-01', 'M'),\n",
       " Period('2018-02', 'M'),\n",
       " Period('2018-03', 'M'),\n",
       " Period('2018-04', 'M'),\n",
       " Period('2018-05', 'M'),\n",
       " Period('2018-06', 'M'),\n",
       " Period('2018-07', 'M'),\n",
       " Period('2018-08', 'M'),\n",
       " Period('2018-09', 'M'),\n",
       " Period('2018-10', 'M'),\n",
       " Period('2018-11', 'M'),\n",
       " Period('2018-12', 'M')]"
      ]
     },
     "execution_count": 18,
     "metadata": {},
     "output_type": "execute_result"
    }
   ],
   "source": [
    "# добавление и заполнение нового поля month\n",
    "calls['month'] = calls['call_date'].dt.to_period('M')\n",
    "\n",
    "sorted(calls.month.unique()) # проверка значений"
   ]
  },
  {
   "cell_type": "code",
   "execution_count": 19,
   "metadata": {},
   "outputs": [
    {
     "data": {
      "text/html": [
       "<div>\n",
       "<style scoped>\n",
       "    .dataframe tbody tr th:only-of-type {\n",
       "        vertical-align: middle;\n",
       "    }\n",
       "\n",
       "    .dataframe tbody tr th {\n",
       "        vertical-align: top;\n",
       "    }\n",
       "\n",
       "    .dataframe thead th {\n",
       "        text-align: right;\n",
       "    }\n",
       "</style>\n",
       "<table border=\"1\" class=\"dataframe\">\n",
       "  <thead>\n",
       "    <tr style=\"text-align: right;\">\n",
       "      <th></th>\n",
       "      <th>user_id</th>\n",
       "      <th>month</th>\n",
       "      <th>minutes</th>\n",
       "      <th>calls_cnt</th>\n",
       "    </tr>\n",
       "  </thead>\n",
       "  <tbody>\n",
       "    <tr>\n",
       "      <th>0</th>\n",
       "      <td>1000</td>\n",
       "      <td>2018-05</td>\n",
       "      <td>159</td>\n",
       "      <td>22</td>\n",
       "    </tr>\n",
       "    <tr>\n",
       "      <th>1</th>\n",
       "      <td>1000</td>\n",
       "      <td>2018-06</td>\n",
       "      <td>172</td>\n",
       "      <td>43</td>\n",
       "    </tr>\n",
       "    <tr>\n",
       "      <th>2</th>\n",
       "      <td>1000</td>\n",
       "      <td>2018-07</td>\n",
       "      <td>340</td>\n",
       "      <td>47</td>\n",
       "    </tr>\n",
       "    <tr>\n",
       "      <th>3</th>\n",
       "      <td>1000</td>\n",
       "      <td>2018-08</td>\n",
       "      <td>408</td>\n",
       "      <td>52</td>\n",
       "    </tr>\n",
       "    <tr>\n",
       "      <th>4</th>\n",
       "      <td>1000</td>\n",
       "      <td>2018-09</td>\n",
       "      <td>466</td>\n",
       "      <td>58</td>\n",
       "    </tr>\n",
       "    <tr>\n",
       "      <th>...</th>\n",
       "      <td>...</td>\n",
       "      <td>...</td>\n",
       "      <td>...</td>\n",
       "      <td>...</td>\n",
       "    </tr>\n",
       "    <tr>\n",
       "      <th>3169</th>\n",
       "      <td>1498</td>\n",
       "      <td>2018-10</td>\n",
       "      <td>247</td>\n",
       "      <td>41</td>\n",
       "    </tr>\n",
       "    <tr>\n",
       "      <th>3170</th>\n",
       "      <td>1499</td>\n",
       "      <td>2018-09</td>\n",
       "      <td>70</td>\n",
       "      <td>9</td>\n",
       "    </tr>\n",
       "    <tr>\n",
       "      <th>3171</th>\n",
       "      <td>1499</td>\n",
       "      <td>2018-10</td>\n",
       "      <td>449</td>\n",
       "      <td>68</td>\n",
       "    </tr>\n",
       "    <tr>\n",
       "      <th>3172</th>\n",
       "      <td>1499</td>\n",
       "      <td>2018-11</td>\n",
       "      <td>612</td>\n",
       "      <td>74</td>\n",
       "    </tr>\n",
       "    <tr>\n",
       "      <th>3173</th>\n",
       "      <td>1499</td>\n",
       "      <td>2018-12</td>\n",
       "      <td>492</td>\n",
       "      <td>69</td>\n",
       "    </tr>\n",
       "  </tbody>\n",
       "</table>\n",
       "<p>3174 rows × 4 columns</p>\n",
       "</div>"
      ],
      "text/plain": [
       "      user_id    month  minutes  calls_cnt\n",
       "0        1000  2018-05      159         22\n",
       "1        1000  2018-06      172         43\n",
       "2        1000  2018-07      340         47\n",
       "3        1000  2018-08      408         52\n",
       "4        1000  2018-09      466         58\n",
       "...       ...      ...      ...        ...\n",
       "3169     1498  2018-10      247         41\n",
       "3170     1499  2018-09       70          9\n",
       "3171     1499  2018-10      449         68\n",
       "3172     1499  2018-11      612         74\n",
       "3173     1499  2018-12      492         69\n",
       "\n",
       "[3174 rows x 4 columns]"
      ]
     },
     "execution_count": 19,
     "metadata": {},
     "output_type": "execute_result"
    }
   ],
   "source": [
    "# создание датасета users_calls с информацией о количестве сделанных звонков и израсходованных минут разговора для\n",
    "# каждого пользователя по месяцам\n",
    "users_calls = calls.pivot_table(index=['user_id', 'month'], values='duration', aggfunc=['sum', 'count']).reset_index()\n",
    "users_calls.columns = ['user_id', 'month', 'minutes', 'calls_cnt'] # переименование колонок\n",
    "users_calls"
   ]
  },
  {
   "cell_type": "markdown",
   "metadata": {},
   "source": [
    "### Количество отправленных сообщений для каждого пользователя по месяцам"
   ]
  },
  {
   "cell_type": "code",
   "execution_count": 20,
   "metadata": {},
   "outputs": [
    {
     "data": {
      "text/plain": [
       "count                           123036\n",
       "mean     2018-09-04 15:28:42.227640576\n",
       "min                2018-01-02 00:00:00\n",
       "25%                2018-07-09 00:00:00\n",
       "50%                2018-09-20 00:00:00\n",
       "75%                2018-11-14 00:00:00\n",
       "max                2018-12-31 00:00:00\n",
       "Name: message_date, dtype: object"
      ]
     },
     "execution_count": 20,
     "metadata": {},
     "output_type": "execute_result"
    }
   ],
   "source": [
    "# посмотрим за какой период представлены данные в датасете messages \n",
    "messages.message_date.describe(datetime_is_numeric=True)"
   ]
  },
  {
   "cell_type": "markdown",
   "metadata": {},
   "source": [
    "Данные в датасете **messages** представлены за 2018 год (период с 01.01.2018 до 31.12.2018).\n",
    "\n",
    "Чтобы рассчитать количество отправленных сообщений по месяцам, необходимо в датасет **messages** добавить поле `month` (месяц)"
   ]
  },
  {
   "cell_type": "code",
   "execution_count": 21,
   "metadata": {},
   "outputs": [
    {
     "data": {
      "text/plain": [
       "[Period('2018-01', 'M'),\n",
       " Period('2018-02', 'M'),\n",
       " Period('2018-03', 'M'),\n",
       " Period('2018-04', 'M'),\n",
       " Period('2018-05', 'M'),\n",
       " Period('2018-06', 'M'),\n",
       " Period('2018-07', 'M'),\n",
       " Period('2018-08', 'M'),\n",
       " Period('2018-09', 'M'),\n",
       " Period('2018-10', 'M'),\n",
       " Period('2018-11', 'M'),\n",
       " Period('2018-12', 'M')]"
      ]
     },
     "execution_count": 21,
     "metadata": {},
     "output_type": "execute_result"
    }
   ],
   "source": [
    "# добавление и заполнение нового поля month\n",
    "messages['month'] = messages['message_date'].dt.to_period('M')\n",
    "\n",
    "sorted(messages.month.unique()) # проверка значений"
   ]
  },
  {
   "cell_type": "code",
   "execution_count": 22,
   "metadata": {},
   "outputs": [
    {
     "data": {
      "text/html": [
       "<div>\n",
       "<style scoped>\n",
       "    .dataframe tbody tr th:only-of-type {\n",
       "        vertical-align: middle;\n",
       "    }\n",
       "\n",
       "    .dataframe tbody tr th {\n",
       "        vertical-align: top;\n",
       "    }\n",
       "\n",
       "    .dataframe thead th {\n",
       "        text-align: right;\n",
       "    }\n",
       "</style>\n",
       "<table border=\"1\" class=\"dataframe\">\n",
       "  <thead>\n",
       "    <tr style=\"text-align: right;\">\n",
       "      <th></th>\n",
       "      <th>user_id</th>\n",
       "      <th>month</th>\n",
       "      <th>sms</th>\n",
       "    </tr>\n",
       "  </thead>\n",
       "  <tbody>\n",
       "    <tr>\n",
       "      <th>0</th>\n",
       "      <td>1000</td>\n",
       "      <td>2018-05</td>\n",
       "      <td>22</td>\n",
       "    </tr>\n",
       "    <tr>\n",
       "      <th>1</th>\n",
       "      <td>1000</td>\n",
       "      <td>2018-06</td>\n",
       "      <td>60</td>\n",
       "    </tr>\n",
       "    <tr>\n",
       "      <th>2</th>\n",
       "      <td>1000</td>\n",
       "      <td>2018-07</td>\n",
       "      <td>75</td>\n",
       "    </tr>\n",
       "    <tr>\n",
       "      <th>3</th>\n",
       "      <td>1000</td>\n",
       "      <td>2018-08</td>\n",
       "      <td>81</td>\n",
       "    </tr>\n",
       "    <tr>\n",
       "      <th>4</th>\n",
       "      <td>1000</td>\n",
       "      <td>2018-09</td>\n",
       "      <td>57</td>\n",
       "    </tr>\n",
       "    <tr>\n",
       "      <th>...</th>\n",
       "      <td>...</td>\n",
       "      <td>...</td>\n",
       "      <td>...</td>\n",
       "    </tr>\n",
       "    <tr>\n",
       "      <th>2712</th>\n",
       "      <td>1498</td>\n",
       "      <td>2018-10</td>\n",
       "      <td>42</td>\n",
       "    </tr>\n",
       "    <tr>\n",
       "      <th>2713</th>\n",
       "      <td>1499</td>\n",
       "      <td>2018-09</td>\n",
       "      <td>11</td>\n",
       "    </tr>\n",
       "    <tr>\n",
       "      <th>2714</th>\n",
       "      <td>1499</td>\n",
       "      <td>2018-10</td>\n",
       "      <td>48</td>\n",
       "    </tr>\n",
       "    <tr>\n",
       "      <th>2715</th>\n",
       "      <td>1499</td>\n",
       "      <td>2018-11</td>\n",
       "      <td>59</td>\n",
       "    </tr>\n",
       "    <tr>\n",
       "      <th>2716</th>\n",
       "      <td>1499</td>\n",
       "      <td>2018-12</td>\n",
       "      <td>66</td>\n",
       "    </tr>\n",
       "  </tbody>\n",
       "</table>\n",
       "<p>2717 rows × 3 columns</p>\n",
       "</div>"
      ],
      "text/plain": [
       "      user_id    month  sms\n",
       "0        1000  2018-05   22\n",
       "1        1000  2018-06   60\n",
       "2        1000  2018-07   75\n",
       "3        1000  2018-08   81\n",
       "4        1000  2018-09   57\n",
       "...       ...      ...  ...\n",
       "2712     1498  2018-10   42\n",
       "2713     1499  2018-09   11\n",
       "2714     1499  2018-10   48\n",
       "2715     1499  2018-11   59\n",
       "2716     1499  2018-12   66\n",
       "\n",
       "[2717 rows x 3 columns]"
      ]
     },
     "execution_count": 22,
     "metadata": {},
     "output_type": "execute_result"
    }
   ],
   "source": [
    "# создание датасета users_messages с информацией о количестве отправленных сообщений для каждого пользователя по месяцам\n",
    "users_messages = messages.pivot_table(index=['user_id', 'month'], values='id', aggfunc='count').reset_index()\n",
    "users_messages.columns = ['user_id', 'month', 'sms'] # переименование колонок\n",
    "users_messages"
   ]
  },
  {
   "cell_type": "markdown",
   "metadata": {},
   "source": [
    "### Объем израсходованного интернет-трафика для каждого пользователя по месяцам"
   ]
  },
  {
   "cell_type": "code",
   "execution_count": 23,
   "metadata": {},
   "outputs": [
    {
     "data": {
      "text/plain": [
       "count                           149396\n",
       "mean     2018-09-02 12:55:35.221826560\n",
       "min                2018-01-01 00:00:00\n",
       "25%                2018-07-05 00:00:00\n",
       "50%                2018-09-17 00:00:00\n",
       "75%                2018-11-14 00:00:00\n",
       "max                2018-12-31 00:00:00\n",
       "Name: session_date, dtype: object"
      ]
     },
     "execution_count": 23,
     "metadata": {},
     "output_type": "execute_result"
    }
   ],
   "source": [
    "# посмотрим за какой период представлены данные в датасете internet  \n",
    "internet.session_date.describe(datetime_is_numeric=True)"
   ]
  },
  {
   "cell_type": "markdown",
   "metadata": {},
   "source": [
    "Данные в датасете **internet** представлены за 2018 год (период с 01.01.2018 до 31.12.2018).\n",
    "\n",
    "Чтобы рассчитать объем израсходованного интернет-трафика по месяцам, необходимо в датасет **internet** добавить поле `month` (месяц)"
   ]
  },
  {
   "cell_type": "code",
   "execution_count": 24,
   "metadata": {},
   "outputs": [
    {
     "data": {
      "text/plain": [
       "[Period('2018-01', 'M'),\n",
       " Period('2018-02', 'M'),\n",
       " Period('2018-03', 'M'),\n",
       " Period('2018-04', 'M'),\n",
       " Period('2018-05', 'M'),\n",
       " Period('2018-06', 'M'),\n",
       " Period('2018-07', 'M'),\n",
       " Period('2018-08', 'M'),\n",
       " Period('2018-09', 'M'),\n",
       " Period('2018-10', 'M'),\n",
       " Period('2018-11', 'M'),\n",
       " Period('2018-12', 'M')]"
      ]
     },
     "execution_count": 24,
     "metadata": {},
     "output_type": "execute_result"
    }
   ],
   "source": [
    "# добавление и заполнение нового поля month\n",
    "internet['month'] = internet['session_date'].dt.to_period('M')\n",
    "\n",
    "sorted(internet.month.unique()) # проверка значений"
   ]
  },
  {
   "cell_type": "code",
   "execution_count": 25,
   "metadata": {},
   "outputs": [
    {
     "data": {
      "text/html": [
       "<div>\n",
       "<style scoped>\n",
       "    .dataframe tbody tr th:only-of-type {\n",
       "        vertical-align: middle;\n",
       "    }\n",
       "\n",
       "    .dataframe tbody tr th {\n",
       "        vertical-align: top;\n",
       "    }\n",
       "\n",
       "    .dataframe thead th {\n",
       "        text-align: right;\n",
       "    }\n",
       "</style>\n",
       "<table border=\"1\" class=\"dataframe\">\n",
       "  <thead>\n",
       "    <tr style=\"text-align: right;\">\n",
       "      <th></th>\n",
       "      <th>user_id</th>\n",
       "      <th>month</th>\n",
       "      <th>mb</th>\n",
       "    </tr>\n",
       "  </thead>\n",
       "  <tbody>\n",
       "    <tr>\n",
       "      <th>0</th>\n",
       "      <td>1000</td>\n",
       "      <td>2018-05</td>\n",
       "      <td>2253.49</td>\n",
       "    </tr>\n",
       "    <tr>\n",
       "      <th>1</th>\n",
       "      <td>1000</td>\n",
       "      <td>2018-06</td>\n",
       "      <td>23233.77</td>\n",
       "    </tr>\n",
       "    <tr>\n",
       "      <th>2</th>\n",
       "      <td>1000</td>\n",
       "      <td>2018-07</td>\n",
       "      <td>14003.64</td>\n",
       "    </tr>\n",
       "    <tr>\n",
       "      <th>3</th>\n",
       "      <td>1000</td>\n",
       "      <td>2018-08</td>\n",
       "      <td>14055.93</td>\n",
       "    </tr>\n",
       "    <tr>\n",
       "      <th>4</th>\n",
       "      <td>1000</td>\n",
       "      <td>2018-09</td>\n",
       "      <td>14568.91</td>\n",
       "    </tr>\n",
       "  </tbody>\n",
       "</table>\n",
       "</div>"
      ],
      "text/plain": [
       "   user_id    month        mb\n",
       "0     1000  2018-05   2253.49\n",
       "1     1000  2018-06  23233.77\n",
       "2     1000  2018-07  14003.64\n",
       "3     1000  2018-08  14055.93\n",
       "4     1000  2018-09  14568.91"
      ]
     },
     "execution_count": 25,
     "metadata": {},
     "output_type": "execute_result"
    }
   ],
   "source": [
    "# создание датасета users_internet с информацией об объеме израсходованного интернет-трафика для каждого пользователя \n",
    "# по месяцам\n",
    "users_internet = internet.pivot_table(index=['user_id', 'month'], values='mb_used', aggfunc='sum').reset_index()\n",
    "users_internet.columns = ['user_id', 'month', 'mb'] # переименование колонок\n",
    "users_internet.head()"
   ]
  },
  {
   "cell_type": "markdown",
   "metadata": {},
   "source": [
    "В описании тарифов сказано, что **общая сумма мегабайтов за месяц округляется в бо́льшую сторону**. Если абонент использует 1025 мегабайт в этом месяце, с него возьмут плату за 2 гигабайта. \n",
    "\n",
    "Переведем данные в поле `mb` в гигабайты, для этого надо разделить значения на 1024, округлим полученные значения до целых в большую сторону, изменим тип переменной на int и переименуем поле в `gb` (гигабайты)"
   ]
  },
  {
   "cell_type": "code",
   "execution_count": 26,
   "metadata": {},
   "outputs": [],
   "source": [
    "# перевод мегабайтов в гигабайты\n",
    "users_internet['mb'] = users_internet['mb'] / 1024"
   ]
  },
  {
   "cell_type": "code",
   "execution_count": 27,
   "metadata": {},
   "outputs": [],
   "source": [
    "# округление до целых в большую сторону, изменение типа на int\n",
    "users_internet['mb'] = np.ceil(users_internet['mb']).astype('int64')"
   ]
  },
  {
   "cell_type": "code",
   "execution_count": 28,
   "metadata": {
    "scrolled": true
   },
   "outputs": [
    {
     "data": {
      "text/html": [
       "<div>\n",
       "<style scoped>\n",
       "    .dataframe tbody tr th:only-of-type {\n",
       "        vertical-align: middle;\n",
       "    }\n",
       "\n",
       "    .dataframe tbody tr th {\n",
       "        vertical-align: top;\n",
       "    }\n",
       "\n",
       "    .dataframe thead th {\n",
       "        text-align: right;\n",
       "    }\n",
       "</style>\n",
       "<table border=\"1\" class=\"dataframe\">\n",
       "  <thead>\n",
       "    <tr style=\"text-align: right;\">\n",
       "      <th></th>\n",
       "      <th>user_id</th>\n",
       "      <th>month</th>\n",
       "      <th>gb</th>\n",
       "    </tr>\n",
       "  </thead>\n",
       "  <tbody>\n",
       "    <tr>\n",
       "      <th>0</th>\n",
       "      <td>1000</td>\n",
       "      <td>2018-05</td>\n",
       "      <td>3</td>\n",
       "    </tr>\n",
       "    <tr>\n",
       "      <th>1</th>\n",
       "      <td>1000</td>\n",
       "      <td>2018-06</td>\n",
       "      <td>23</td>\n",
       "    </tr>\n",
       "    <tr>\n",
       "      <th>2</th>\n",
       "      <td>1000</td>\n",
       "      <td>2018-07</td>\n",
       "      <td>14</td>\n",
       "    </tr>\n",
       "    <tr>\n",
       "      <th>3</th>\n",
       "      <td>1000</td>\n",
       "      <td>2018-08</td>\n",
       "      <td>14</td>\n",
       "    </tr>\n",
       "    <tr>\n",
       "      <th>4</th>\n",
       "      <td>1000</td>\n",
       "      <td>2018-09</td>\n",
       "      <td>15</td>\n",
       "    </tr>\n",
       "  </tbody>\n",
       "</table>\n",
       "</div>"
      ],
      "text/plain": [
       "   user_id    month  gb\n",
       "0     1000  2018-05   3\n",
       "1     1000  2018-06  23\n",
       "2     1000  2018-07  14\n",
       "3     1000  2018-08  14\n",
       "4     1000  2018-09  15"
      ]
     },
     "execution_count": 28,
     "metadata": {},
     "output_type": "execute_result"
    }
   ],
   "source": [
    "# переименование столбца mb в gb\n",
    "users_internet.columns = ['user_id', 'month', 'gb']\n",
    "users_internet.head()"
   ]
  },
  {
   "cell_type": "markdown",
   "metadata": {},
   "source": [
    "### Помесячная выручка с каждого пользователя"
   ]
  },
  {
   "cell_type": "code",
   "execution_count": 29,
   "metadata": {},
   "outputs": [
    {
     "data": {
      "text/html": [
       "<div>\n",
       "<style scoped>\n",
       "    .dataframe tbody tr th:only-of-type {\n",
       "        vertical-align: middle;\n",
       "    }\n",
       "\n",
       "    .dataframe tbody tr th {\n",
       "        vertical-align: top;\n",
       "    }\n",
       "\n",
       "    .dataframe thead th {\n",
       "        text-align: right;\n",
       "    }\n",
       "</style>\n",
       "<table border=\"1\" class=\"dataframe\">\n",
       "  <thead>\n",
       "    <tr style=\"text-align: right;\">\n",
       "      <th></th>\n",
       "      <th>user_id</th>\n",
       "      <th>city</th>\n",
       "      <th>tariff</th>\n",
       "    </tr>\n",
       "  </thead>\n",
       "  <tbody>\n",
       "    <tr>\n",
       "      <th>0</th>\n",
       "      <td>1000</td>\n",
       "      <td>Краснодар</td>\n",
       "      <td>ultra</td>\n",
       "    </tr>\n",
       "    <tr>\n",
       "      <th>1</th>\n",
       "      <td>1001</td>\n",
       "      <td>Москва</td>\n",
       "      <td>smart</td>\n",
       "    </tr>\n",
       "    <tr>\n",
       "      <th>2</th>\n",
       "      <td>1002</td>\n",
       "      <td>Стерлитамак</td>\n",
       "      <td>smart</td>\n",
       "    </tr>\n",
       "    <tr>\n",
       "      <th>3</th>\n",
       "      <td>1003</td>\n",
       "      <td>Москва</td>\n",
       "      <td>ultra</td>\n",
       "    </tr>\n",
       "    <tr>\n",
       "      <th>4</th>\n",
       "      <td>1004</td>\n",
       "      <td>Новокузнецк</td>\n",
       "      <td>ultra</td>\n",
       "    </tr>\n",
       "  </tbody>\n",
       "</table>\n",
       "</div>"
      ],
      "text/plain": [
       "   user_id         city tariff\n",
       "0     1000    Краснодар  ultra\n",
       "1     1001       Москва  smart\n",
       "2     1002  Стерлитамак  smart\n",
       "3     1003       Москва  ultra\n",
       "4     1004  Новокузнецк  ultra"
      ]
     },
     "execution_count": 29,
     "metadata": {},
     "output_type": "execute_result"
    }
   ],
   "source": [
    "# создадим рабочую таблицу с идентификаторами пользователей, их тарифами и городом проживания\n",
    "# (город проживания понадобится для проверки гипотез в п.5)\n",
    "users_tariff = users.loc[:, ['user_id', 'city', 'tariff']]\n",
    "users_tariff.head()"
   ]
  },
  {
   "cell_type": "code",
   "execution_count": 30,
   "metadata": {},
   "outputs": [
    {
     "data": {
      "text/html": [
       "<div>\n",
       "<style scoped>\n",
       "    .dataframe tbody tr th:only-of-type {\n",
       "        vertical-align: middle;\n",
       "    }\n",
       "\n",
       "    .dataframe tbody tr th {\n",
       "        vertical-align: top;\n",
       "    }\n",
       "\n",
       "    .dataframe thead th {\n",
       "        text-align: right;\n",
       "    }\n",
       "</style>\n",
       "<table border=\"1\" class=\"dataframe\">\n",
       "  <thead>\n",
       "    <tr style=\"text-align: right;\">\n",
       "      <th></th>\n",
       "      <th>user_id</th>\n",
       "      <th>month</th>\n",
       "      <th>sms</th>\n",
       "    </tr>\n",
       "  </thead>\n",
       "  <tbody>\n",
       "    <tr>\n",
       "      <th>0</th>\n",
       "      <td>1000</td>\n",
       "      <td>2018-05</td>\n",
       "      <td>22</td>\n",
       "    </tr>\n",
       "    <tr>\n",
       "      <th>1</th>\n",
       "      <td>1000</td>\n",
       "      <td>2018-06</td>\n",
       "      <td>60</td>\n",
       "    </tr>\n",
       "    <tr>\n",
       "      <th>2</th>\n",
       "      <td>1000</td>\n",
       "      <td>2018-07</td>\n",
       "      <td>75</td>\n",
       "    </tr>\n",
       "    <tr>\n",
       "      <th>3</th>\n",
       "      <td>1000</td>\n",
       "      <td>2018-08</td>\n",
       "      <td>81</td>\n",
       "    </tr>\n",
       "    <tr>\n",
       "      <th>4</th>\n",
       "      <td>1000</td>\n",
       "      <td>2018-09</td>\n",
       "      <td>57</td>\n",
       "    </tr>\n",
       "  </tbody>\n",
       "</table>\n",
       "</div>"
      ],
      "text/plain": [
       "   user_id    month  sms\n",
       "0     1000  2018-05   22\n",
       "1     1000  2018-06   60\n",
       "2     1000  2018-07   75\n",
       "3     1000  2018-08   81\n",
       "4     1000  2018-09   57"
      ]
     },
     "execution_count": 30,
     "metadata": {},
     "output_type": "execute_result"
    }
   ],
   "source": [
    "users_calls.head()\n",
    "users_messages.head()"
   ]
  },
  {
   "cell_type": "code",
   "execution_count": 31,
   "metadata": {},
   "outputs": [
    {
     "data": {
      "text/html": [
       "<div>\n",
       "<style scoped>\n",
       "    .dataframe tbody tr th:only-of-type {\n",
       "        vertical-align: middle;\n",
       "    }\n",
       "\n",
       "    .dataframe tbody tr th {\n",
       "        vertical-align: top;\n",
       "    }\n",
       "\n",
       "    .dataframe thead th {\n",
       "        text-align: right;\n",
       "    }\n",
       "</style>\n",
       "<table border=\"1\" class=\"dataframe\">\n",
       "  <thead>\n",
       "    <tr style=\"text-align: right;\">\n",
       "      <th></th>\n",
       "      <th>user_id</th>\n",
       "      <th>month</th>\n",
       "      <th>minutes</th>\n",
       "      <th>calls_cnt</th>\n",
       "      <th>gb</th>\n",
       "      <th>sms</th>\n",
       "      <th>city</th>\n",
       "      <th>tariff</th>\n",
       "    </tr>\n",
       "  </thead>\n",
       "  <tbody>\n",
       "    <tr>\n",
       "      <th>0</th>\n",
       "      <td>1000</td>\n",
       "      <td>2018-05</td>\n",
       "      <td>159.0</td>\n",
       "      <td>22.0</td>\n",
       "      <td>3.0</td>\n",
       "      <td>22.0</td>\n",
       "      <td>Краснодар</td>\n",
       "      <td>ultra</td>\n",
       "    </tr>\n",
       "    <tr>\n",
       "      <th>1</th>\n",
       "      <td>1000</td>\n",
       "      <td>2018-06</td>\n",
       "      <td>172.0</td>\n",
       "      <td>43.0</td>\n",
       "      <td>23.0</td>\n",
       "      <td>60.0</td>\n",
       "      <td>Краснодар</td>\n",
       "      <td>ultra</td>\n",
       "    </tr>\n",
       "    <tr>\n",
       "      <th>2</th>\n",
       "      <td>1000</td>\n",
       "      <td>2018-07</td>\n",
       "      <td>340.0</td>\n",
       "      <td>47.0</td>\n",
       "      <td>14.0</td>\n",
       "      <td>75.0</td>\n",
       "      <td>Краснодар</td>\n",
       "      <td>ultra</td>\n",
       "    </tr>\n",
       "    <tr>\n",
       "      <th>3</th>\n",
       "      <td>1000</td>\n",
       "      <td>2018-08</td>\n",
       "      <td>408.0</td>\n",
       "      <td>52.0</td>\n",
       "      <td>14.0</td>\n",
       "      <td>81.0</td>\n",
       "      <td>Краснодар</td>\n",
       "      <td>ultra</td>\n",
       "    </tr>\n",
       "    <tr>\n",
       "      <th>4</th>\n",
       "      <td>1000</td>\n",
       "      <td>2018-09</td>\n",
       "      <td>466.0</td>\n",
       "      <td>58.0</td>\n",
       "      <td>15.0</td>\n",
       "      <td>57.0</td>\n",
       "      <td>Краснодар</td>\n",
       "      <td>ultra</td>\n",
       "    </tr>\n",
       "  </tbody>\n",
       "</table>\n",
       "</div>"
      ],
      "text/plain": [
       "   user_id    month  minutes  calls_cnt    gb   sms       city tariff\n",
       "0     1000  2018-05    159.0       22.0   3.0  22.0  Краснодар  ultra\n",
       "1     1000  2018-06    172.0       43.0  23.0  60.0  Краснодар  ultra\n",
       "2     1000  2018-07    340.0       47.0  14.0  75.0  Краснодар  ultra\n",
       "3     1000  2018-08    408.0       52.0  14.0  81.0  Краснодар  ultra\n",
       "4     1000  2018-09    466.0       58.0  15.0  57.0  Краснодар  ultra"
      ]
     },
     "execution_count": 31,
     "metadata": {},
     "output_type": "execute_result"
    }
   ],
   "source": [
    "# соберем рабочий датасет data с информацией, необходимой для расчета помесячной выручки с каждого пользователя\n",
    "data = users_calls.merge(users_internet, on=['user_id', 'month'], how='outer')\\\n",
    "                  .merge(users_messages, on=['user_id', 'month'], how='outer')\\\n",
    "                  .merge(users_tariff, on='user_id', how='outer')\n",
    "data.head()"
   ]
  },
  {
   "cell_type": "code",
   "execution_count": 32,
   "metadata": {},
   "outputs": [],
   "source": [
    "# заполнение пропусков в рабочем датасете data\n",
    "columns = ['minutes', 'calls_cnt', 'gb', 'sms']\n",
    "for column in columns:\n",
    "    data[column] = data[column].fillna(0)"
   ]
  },
  {
   "cell_type": "code",
   "execution_count": 33,
   "metadata": {},
   "outputs": [
    {
     "name": "stdout",
     "output_type": "stream",
     "text": [
      "<class 'pandas.core.frame.DataFrame'>\n",
      "Int64Index: 3216 entries, 0 to 3215\n",
      "Data columns (total 8 columns):\n",
      " #   Column     Non-Null Count  Dtype    \n",
      "---  ------     --------------  -----    \n",
      " 0   user_id    3216 non-null   int64    \n",
      " 1   month      3214 non-null   period[M]\n",
      " 2   minutes    3216 non-null   float64  \n",
      " 3   calls_cnt  3216 non-null   float64  \n",
      " 4   gb         3216 non-null   float64  \n",
      " 5   sms        3216 non-null   float64  \n",
      " 6   city       3216 non-null   object   \n",
      " 7   tariff     3216 non-null   object   \n",
      "dtypes: float64(4), int64(1), object(2), period[M](1)\n",
      "memory usage: 226.1+ KB\n"
     ]
    }
   ],
   "source": [
    "data.info()"
   ]
  },
  {
   "cell_type": "code",
   "execution_count": 34,
   "metadata": {},
   "outputs": [
    {
     "data": {
      "text/plain": [
       "500"
      ]
     },
     "execution_count": 34,
     "metadata": {},
     "output_type": "execute_result"
    }
   ],
   "source": [
    "# проверим, что все 500 клиентов сохранились в рабочем датасете\n",
    "data.user_id.nunique()"
   ]
  },
  {
   "cell_type": "code",
   "execution_count": 35,
   "metadata": {},
   "outputs": [
    {
     "data": {
      "text/html": [
       "<div>\n",
       "<style scoped>\n",
       "    .dataframe tbody tr th:only-of-type {\n",
       "        vertical-align: middle;\n",
       "    }\n",
       "\n",
       "    .dataframe tbody tr th {\n",
       "        vertical-align: top;\n",
       "    }\n",
       "\n",
       "    .dataframe thead th {\n",
       "        text-align: right;\n",
       "    }\n",
       "</style>\n",
       "<table border=\"1\" class=\"dataframe\">\n",
       "  <thead>\n",
       "    <tr style=\"text-align: right;\">\n",
       "      <th></th>\n",
       "      <th>messages_included</th>\n",
       "      <th>mb_per_month_included</th>\n",
       "      <th>minutes_included</th>\n",
       "      <th>rub_monthly_fee</th>\n",
       "      <th>rub_per_gb</th>\n",
       "      <th>rub_per_message</th>\n",
       "      <th>rub_per_minute</th>\n",
       "      <th>tariff_name</th>\n",
       "    </tr>\n",
       "  </thead>\n",
       "  <tbody>\n",
       "    <tr>\n",
       "      <th>0</th>\n",
       "      <td>50</td>\n",
       "      <td>15360</td>\n",
       "      <td>500</td>\n",
       "      <td>550</td>\n",
       "      <td>200</td>\n",
       "      <td>3</td>\n",
       "      <td>3</td>\n",
       "      <td>smart</td>\n",
       "    </tr>\n",
       "    <tr>\n",
       "      <th>1</th>\n",
       "      <td>1000</td>\n",
       "      <td>30720</td>\n",
       "      <td>3000</td>\n",
       "      <td>1950</td>\n",
       "      <td>150</td>\n",
       "      <td>1</td>\n",
       "      <td>1</td>\n",
       "      <td>ultra</td>\n",
       "    </tr>\n",
       "  </tbody>\n",
       "</table>\n",
       "</div>"
      ],
      "text/plain": [
       "   messages_included  mb_per_month_included  minutes_included  \\\n",
       "0                 50                  15360               500   \n",
       "1               1000                  30720              3000   \n",
       "\n",
       "   rub_monthly_fee  rub_per_gb  rub_per_message  rub_per_minute tariff_name  \n",
       "0              550         200                3               3       smart  \n",
       "1             1950         150                1               1       ultra  "
      ]
     },
     "execution_count": 35,
     "metadata": {},
     "output_type": "execute_result"
    }
   ],
   "source": [
    "tariffs "
   ]
  },
  {
   "cell_type": "markdown",
   "metadata": {},
   "source": [
    "Добавим в рабочий датасет поле `minutes_over` (длительность звонков в минутах сверх тарифа). Значение `minutes_over` равно разности минут разговора пользователя за месяц и минут разговора в месяц, включенных в тариф.\n",
    "\n",
    "Значения количества минут разговора в месяц, включённых в тарифы, возьмем в таблице **tariffs** - поле `minutes_included`"
   ]
  },
  {
   "cell_type": "code",
   "execution_count": 36,
   "metadata": {},
   "outputs": [],
   "source": [
    "data.loc[data.tariff == 'ultra', 'minutes_over'] = data['minutes']\\\n",
    "        - int(tariffs[tariffs.tariff_name == 'ultra']['minutes_included'])\n",
    "\n",
    "data.loc[data.tariff == 'smart', 'minutes_over'] = data['minutes']\\\n",
    "        - int(tariffs[tariffs.tariff_name == 'smart']['minutes_included'])"
   ]
  },
  {
   "cell_type": "markdown",
   "metadata": {},
   "source": [
    "Добавим в рабочий датасет поле `sms_over` (количество смс сверх тарифа). Значение `sms_over` равно разности количества сообщений пользователя за месяц и количества сообщений в месяц, включенных в тариф.\n",
    "\n",
    "Значения количества сообщений в месяц, включённых в в месяц, возьмем в таблице **tariffs** - поле `messages_included`"
   ]
  },
  {
   "cell_type": "code",
   "execution_count": 37,
   "metadata": {},
   "outputs": [],
   "source": [
    "data.loc[data.tariff == 'ultra', 'sms_over'] = data['sms']\\\n",
    "        - int(tariffs[tariffs.tariff_name == 'ultra']['messages_included'])\n",
    "\n",
    "data.loc[data.tariff == 'smart', 'sms_over'] = data['sms']\\\n",
    "        - int(tariffs[tariffs.tariff_name == 'smart']['messages_included'])"
   ]
  },
  {
   "cell_type": "markdown",
   "metadata": {},
   "source": [
    "Добавим в рабочий датасет поле `gb_over` (количество гигабайт сверх тарифа). Значение `gb_over` равно разности количества гигабайт пользователя за месяц и количества гигабайт в месяц, включенных в тариф.\n",
    "\n",
    "Значения объёма интернет-трафика в месяц, включённого в тариф, возьмем в таблице **tariffs** - поле `mb_per_month_included`. \n",
    "\n",
    "Для перевода мегабайт в гигабайты, разделим мегабайты на 1024."
   ]
  },
  {
   "cell_type": "code",
   "execution_count": 38,
   "metadata": {},
   "outputs": [],
   "source": [
    "data.loc[data.tariff == 'ultra', 'gb_over'] = data['gb']\\\n",
    "        - int(tariffs[tariffs.tariff_name == 'ultra']['mb_per_month_included'] / 1024)\n",
    "\n",
    "data.loc[data.tariff == 'smart', 'gb_over'] = data['gb']\\\n",
    "        - int(tariffs[tariffs.tariff_name == 'smart']['mb_per_month_included'] / 1024)"
   ]
  },
  {
   "cell_type": "code",
   "execution_count": 39,
   "metadata": {},
   "outputs": [
    {
     "data": {
      "text/html": [
       "<div>\n",
       "<style scoped>\n",
       "    .dataframe tbody tr th:only-of-type {\n",
       "        vertical-align: middle;\n",
       "    }\n",
       "\n",
       "    .dataframe tbody tr th {\n",
       "        vertical-align: top;\n",
       "    }\n",
       "\n",
       "    .dataframe thead th {\n",
       "        text-align: right;\n",
       "    }\n",
       "</style>\n",
       "<table border=\"1\" class=\"dataframe\">\n",
       "  <thead>\n",
       "    <tr style=\"text-align: right;\">\n",
       "      <th></th>\n",
       "      <th>user_id</th>\n",
       "      <th>month</th>\n",
       "      <th>minutes</th>\n",
       "      <th>calls_cnt</th>\n",
       "      <th>gb</th>\n",
       "      <th>sms</th>\n",
       "      <th>city</th>\n",
       "      <th>tariff</th>\n",
       "      <th>minutes_over</th>\n",
       "      <th>sms_over</th>\n",
       "      <th>gb_over</th>\n",
       "    </tr>\n",
       "  </thead>\n",
       "  <tbody>\n",
       "    <tr>\n",
       "      <th>0</th>\n",
       "      <td>1000</td>\n",
       "      <td>2018-05</td>\n",
       "      <td>159.0</td>\n",
       "      <td>22.0</td>\n",
       "      <td>3.0</td>\n",
       "      <td>22.0</td>\n",
       "      <td>Краснодар</td>\n",
       "      <td>ultra</td>\n",
       "      <td>-2841.0</td>\n",
       "      <td>-978.0</td>\n",
       "      <td>-27.0</td>\n",
       "    </tr>\n",
       "    <tr>\n",
       "      <th>1</th>\n",
       "      <td>1000</td>\n",
       "      <td>2018-06</td>\n",
       "      <td>172.0</td>\n",
       "      <td>43.0</td>\n",
       "      <td>23.0</td>\n",
       "      <td>60.0</td>\n",
       "      <td>Краснодар</td>\n",
       "      <td>ultra</td>\n",
       "      <td>-2828.0</td>\n",
       "      <td>-940.0</td>\n",
       "      <td>-7.0</td>\n",
       "    </tr>\n",
       "    <tr>\n",
       "      <th>2</th>\n",
       "      <td>1000</td>\n",
       "      <td>2018-07</td>\n",
       "      <td>340.0</td>\n",
       "      <td>47.0</td>\n",
       "      <td>14.0</td>\n",
       "      <td>75.0</td>\n",
       "      <td>Краснодар</td>\n",
       "      <td>ultra</td>\n",
       "      <td>-2660.0</td>\n",
       "      <td>-925.0</td>\n",
       "      <td>-16.0</td>\n",
       "    </tr>\n",
       "    <tr>\n",
       "      <th>3</th>\n",
       "      <td>1000</td>\n",
       "      <td>2018-08</td>\n",
       "      <td>408.0</td>\n",
       "      <td>52.0</td>\n",
       "      <td>14.0</td>\n",
       "      <td>81.0</td>\n",
       "      <td>Краснодар</td>\n",
       "      <td>ultra</td>\n",
       "      <td>-2592.0</td>\n",
       "      <td>-919.0</td>\n",
       "      <td>-16.0</td>\n",
       "    </tr>\n",
       "    <tr>\n",
       "      <th>4</th>\n",
       "      <td>1000</td>\n",
       "      <td>2018-09</td>\n",
       "      <td>466.0</td>\n",
       "      <td>58.0</td>\n",
       "      <td>15.0</td>\n",
       "      <td>57.0</td>\n",
       "      <td>Краснодар</td>\n",
       "      <td>ultra</td>\n",
       "      <td>-2534.0</td>\n",
       "      <td>-943.0</td>\n",
       "      <td>-15.0</td>\n",
       "    </tr>\n",
       "  </tbody>\n",
       "</table>\n",
       "</div>"
      ],
      "text/plain": [
       "   user_id    month  minutes  calls_cnt    gb   sms       city tariff  \\\n",
       "0     1000  2018-05    159.0       22.0   3.0  22.0  Краснодар  ultra   \n",
       "1     1000  2018-06    172.0       43.0  23.0  60.0  Краснодар  ultra   \n",
       "2     1000  2018-07    340.0       47.0  14.0  75.0  Краснодар  ultra   \n",
       "3     1000  2018-08    408.0       52.0  14.0  81.0  Краснодар  ultra   \n",
       "4     1000  2018-09    466.0       58.0  15.0  57.0  Краснодар  ultra   \n",
       "\n",
       "   minutes_over  sms_over  gb_over  \n",
       "0       -2841.0    -978.0    -27.0  \n",
       "1       -2828.0    -940.0     -7.0  \n",
       "2       -2660.0    -925.0    -16.0  \n",
       "3       -2592.0    -919.0    -16.0  \n",
       "4       -2534.0    -943.0    -15.0  "
      ]
     },
     "execution_count": 39,
     "metadata": {},
     "output_type": "execute_result"
    }
   ],
   "source": [
    "data.head()"
   ]
  },
  {
   "cell_type": "markdown",
   "metadata": {},
   "source": [
    "Если пользователь не израсходовал минуты и/или смс и/или гигабайты интернета, включенные в тариф, то значения в столбцах `minutes_over`, `sms_over`, `gb_over` получились отрицательными. Необходимо заменить такие значения на 0, таким образом указать, что у пользователя **отсутствуют минуты разговоров и/или смс и/или гигабайты интернета сверх нормы тарифа**"
   ]
  },
  {
   "cell_type": "code",
   "execution_count": 40,
   "metadata": {},
   "outputs": [],
   "source": [
    "columns = ['minutes_over', 'sms_over', 'gb_over']\n",
    "for column in columns:\n",
    "    data.loc[data[column] < 0, column] = 0"
   ]
  },
  {
   "cell_type": "code",
   "execution_count": 41,
   "metadata": {},
   "outputs": [
    {
     "data": {
      "text/html": [
       "<div>\n",
       "<style scoped>\n",
       "    .dataframe tbody tr th:only-of-type {\n",
       "        vertical-align: middle;\n",
       "    }\n",
       "\n",
       "    .dataframe tbody tr th {\n",
       "        vertical-align: top;\n",
       "    }\n",
       "\n",
       "    .dataframe thead th {\n",
       "        text-align: right;\n",
       "    }\n",
       "</style>\n",
       "<table border=\"1\" class=\"dataframe\">\n",
       "  <thead>\n",
       "    <tr style=\"text-align: right;\">\n",
       "      <th></th>\n",
       "      <th>user_id</th>\n",
       "      <th>month</th>\n",
       "      <th>minutes</th>\n",
       "      <th>calls_cnt</th>\n",
       "      <th>gb</th>\n",
       "      <th>sms</th>\n",
       "      <th>city</th>\n",
       "      <th>tariff</th>\n",
       "      <th>minutes_over</th>\n",
       "      <th>sms_over</th>\n",
       "      <th>gb_over</th>\n",
       "    </tr>\n",
       "  </thead>\n",
       "  <tbody>\n",
       "    <tr>\n",
       "      <th>0</th>\n",
       "      <td>1000</td>\n",
       "      <td>2018-05</td>\n",
       "      <td>159.0</td>\n",
       "      <td>22.0</td>\n",
       "      <td>3.0</td>\n",
       "      <td>22.0</td>\n",
       "      <td>Краснодар</td>\n",
       "      <td>ultra</td>\n",
       "      <td>0.0</td>\n",
       "      <td>0.0</td>\n",
       "      <td>0.0</td>\n",
       "    </tr>\n",
       "    <tr>\n",
       "      <th>1</th>\n",
       "      <td>1000</td>\n",
       "      <td>2018-06</td>\n",
       "      <td>172.0</td>\n",
       "      <td>43.0</td>\n",
       "      <td>23.0</td>\n",
       "      <td>60.0</td>\n",
       "      <td>Краснодар</td>\n",
       "      <td>ultra</td>\n",
       "      <td>0.0</td>\n",
       "      <td>0.0</td>\n",
       "      <td>0.0</td>\n",
       "    </tr>\n",
       "    <tr>\n",
       "      <th>2</th>\n",
       "      <td>1000</td>\n",
       "      <td>2018-07</td>\n",
       "      <td>340.0</td>\n",
       "      <td>47.0</td>\n",
       "      <td>14.0</td>\n",
       "      <td>75.0</td>\n",
       "      <td>Краснодар</td>\n",
       "      <td>ultra</td>\n",
       "      <td>0.0</td>\n",
       "      <td>0.0</td>\n",
       "      <td>0.0</td>\n",
       "    </tr>\n",
       "    <tr>\n",
       "      <th>3</th>\n",
       "      <td>1000</td>\n",
       "      <td>2018-08</td>\n",
       "      <td>408.0</td>\n",
       "      <td>52.0</td>\n",
       "      <td>14.0</td>\n",
       "      <td>81.0</td>\n",
       "      <td>Краснодар</td>\n",
       "      <td>ultra</td>\n",
       "      <td>0.0</td>\n",
       "      <td>0.0</td>\n",
       "      <td>0.0</td>\n",
       "    </tr>\n",
       "    <tr>\n",
       "      <th>4</th>\n",
       "      <td>1000</td>\n",
       "      <td>2018-09</td>\n",
       "      <td>466.0</td>\n",
       "      <td>58.0</td>\n",
       "      <td>15.0</td>\n",
       "      <td>57.0</td>\n",
       "      <td>Краснодар</td>\n",
       "      <td>ultra</td>\n",
       "      <td>0.0</td>\n",
       "      <td>0.0</td>\n",
       "      <td>0.0</td>\n",
       "    </tr>\n",
       "  </tbody>\n",
       "</table>\n",
       "</div>"
      ],
      "text/plain": [
       "   user_id    month  minutes  calls_cnt    gb   sms       city tariff  \\\n",
       "0     1000  2018-05    159.0       22.0   3.0  22.0  Краснодар  ultra   \n",
       "1     1000  2018-06    172.0       43.0  23.0  60.0  Краснодар  ultra   \n",
       "2     1000  2018-07    340.0       47.0  14.0  75.0  Краснодар  ultra   \n",
       "3     1000  2018-08    408.0       52.0  14.0  81.0  Краснодар  ultra   \n",
       "4     1000  2018-09    466.0       58.0  15.0  57.0  Краснодар  ultra   \n",
       "\n",
       "   minutes_over  sms_over  gb_over  \n",
       "0           0.0       0.0      0.0  \n",
       "1           0.0       0.0      0.0  \n",
       "2           0.0       0.0      0.0  \n",
       "3           0.0       0.0      0.0  \n",
       "4           0.0       0.0      0.0  "
      ]
     },
     "execution_count": 41,
     "metadata": {},
     "output_type": "execute_result"
    }
   ],
   "source": [
    "data.head()"
   ]
  },
  {
   "cell_type": "markdown",
   "metadata": {},
   "source": [
    "Добавим в рабочий датасет поле `payment` (оплата в руб.) - это сумма абонентской платы и платы за использование услуг сверх тарифного пакета.\n",
    "\n",
    "Значения ежемесячной абонентской платы в рублях, а также стоимость минуты разговора, отправки сообщения и дополнительного гигабайта интернет-трафика сверх тарифного пакета возьмем из таблицы **tariffs**:\n",
    "\n",
    "- `rub_monthly_fee` — ежемесячная абонентская плата в рублях\n",
    "- `rub_per_minute` — стоимость минуты разговора сверх тарифного пакета\n",
    "- `rub_per_message` — стоимость отправки сообщения сверх тарифного пакета\n",
    "- `rub_per_gb` — стоимость дополнительного гигабайта интернет-трафика сверх тарифного пакета"
   ]
  },
  {
   "cell_type": "code",
   "execution_count": 42,
   "metadata": {},
   "outputs": [],
   "source": [
    "data.loc[data.tariff == 'ultra', 'payment'] = int(tariffs[tariffs.tariff_name == 'ultra']['rub_monthly_fee'])\\\n",
    "    + data['minutes_over'] * int(tariffs[tariffs.tariff_name == 'ultra']['rub_per_minute'])\\\n",
    "    + data['sms_over'] * int(tariffs[tariffs.tariff_name == 'ultra']['rub_per_message'])\\\n",
    "    + data['gb_over'] * int(tariffs[tariffs.tariff_name == 'ultra']['rub_per_gb'])\n",
    "\n",
    "data.loc[data.tariff == 'smart', 'payment'] = int(tariffs[tariffs.tariff_name == 'smart']['rub_monthly_fee'])\\\n",
    "    + data['minutes_over'] * int(tariffs[tariffs.tariff_name == 'smart']['rub_per_minute'])\\\n",
    "    + data['sms_over'] * int(tariffs[tariffs.tariff_name == 'smart']['rub_per_message'])\\\n",
    "    + data['gb_over'] * int(tariffs[tariffs.tariff_name == 'smart']['rub_per_gb'])"
   ]
  },
  {
   "cell_type": "code",
   "execution_count": 43,
   "metadata": {},
   "outputs": [],
   "source": [
    "# добавим в рабочий датасет поле payment_over (переплата сверх тарифа в руб.)\n",
    "\n",
    "data.loc[data.tariff == 'ultra', 'payment_over'] = data['payment']\\\n",
    "        - int(tariffs[tariffs.tariff_name == 'ultra']['rub_monthly_fee'])\n",
    "\n",
    "data.loc[data.tariff == 'smart', 'payment_over'] = data['payment']\\\n",
    "        - int(tariffs[tariffs.tariff_name == 'smart']['rub_monthly_fee'])"
   ]
  },
  {
   "cell_type": "markdown",
   "metadata": {},
   "source": [
    "Посчитаем, какой процент клиентов платят больше абонентсткой платы, которая предусмотрена их тарифом."
   ]
  },
  {
   "cell_type": "code",
   "execution_count": 44,
   "metadata": {},
   "outputs": [
    {
     "data": {
      "text/html": [
       "<div>\n",
       "<style scoped>\n",
       "    .dataframe tbody tr th:only-of-type {\n",
       "        vertical-align: middle;\n",
       "    }\n",
       "\n",
       "    .dataframe tbody tr th {\n",
       "        vertical-align: top;\n",
       "    }\n",
       "\n",
       "    .dataframe thead th {\n",
       "        text-align: right;\n",
       "    }\n",
       "</style>\n",
       "<table border=\"1\" class=\"dataframe\">\n",
       "  <thead>\n",
       "    <tr style=\"text-align: right;\">\n",
       "      <th></th>\n",
       "      <th>user_id</th>\n",
       "      <th>tariff</th>\n",
       "      <th>payment_over</th>\n",
       "    </tr>\n",
       "  </thead>\n",
       "  <tbody>\n",
       "    <tr>\n",
       "      <th>0</th>\n",
       "      <td>1000</td>\n",
       "      <td>ultra</td>\n",
       "      <td>0.0</td>\n",
       "    </tr>\n",
       "    <tr>\n",
       "      <th>1</th>\n",
       "      <td>1001</td>\n",
       "      <td>smart</td>\n",
       "      <td>600.0</td>\n",
       "    </tr>\n",
       "    <tr>\n",
       "      <th>2</th>\n",
       "      <td>1002</td>\n",
       "      <td>smart</td>\n",
       "      <td>3400.0</td>\n",
       "    </tr>\n",
       "    <tr>\n",
       "      <th>3</th>\n",
       "      <td>1003</td>\n",
       "      <td>ultra</td>\n",
       "      <td>0.0</td>\n",
       "    </tr>\n",
       "    <tr>\n",
       "      <th>4</th>\n",
       "      <td>1004</td>\n",
       "      <td>ultra</td>\n",
       "      <td>0.0</td>\n",
       "    </tr>\n",
       "  </tbody>\n",
       "</table>\n",
       "</div>"
      ],
      "text/plain": [
       "   user_id tariff  payment_over\n",
       "0     1000  ultra           0.0\n",
       "1     1001  smart         600.0\n",
       "2     1002  smart        3400.0\n",
       "3     1003  ultra           0.0\n",
       "4     1004  ultra           0.0"
      ]
     },
     "execution_count": 44,
     "metadata": {},
     "output_type": "execute_result"
    }
   ],
   "source": [
    "# создадим датасет с идентификаторами пользователей и их переплатой сверх тарифа за год\n",
    "users_overpay = data.groupby(['user_id', 'tariff']).agg({'payment_over': \"sum\"}).reset_index()\n",
    "users_overpay.head()"
   ]
  },
  {
   "cell_type": "code",
   "execution_count": 45,
   "metadata": {},
   "outputs": [
    {
     "name": "stdout",
     "output_type": "stream",
     "text": [
      "Платят сверх абонентсткой платы 75% клиентов\n"
     ]
    }
   ],
   "source": [
    "print(\"Платят сверх абонентсткой платы {:.0%} клиентов\".format(users_overpay[users_overpay.payment_over > 0]\n",
    "                                                               ['payment_over'].count() / users_overpay.shape[0]))"
   ]
  },
  {
   "cell_type": "code",
   "execution_count": 46,
   "metadata": {},
   "outputs": [
    {
     "data": {
      "text/plain": [
       "tariff\n",
       "smart    88.56383\n",
       "ultra    11.43617\n",
       "Name: user_id, dtype: float64"
      ]
     },
     "execution_count": 46,
     "metadata": {},
     "output_type": "execute_result"
    }
   ],
   "source": [
    "# распределение переплат по тарифам в %\n",
    "users_overpay[users_overpay.payment_over > 0].groupby('tariff')['user_id'].count()\\\n",
    "    / users_overpay[users_overpay.payment_over > 0].shape[0] * 100"
   ]
  },
  {
   "cell_type": "code",
   "execution_count": 47,
   "metadata": {},
   "outputs": [
    {
     "name": "stdout",
     "output_type": "stream",
     "text": [
      "Платят сверх абонентсткой платы 29% клиентов с тарифом Ультра\n",
      "Платят сверх абонентсткой платы 95% клиентов с тарифом Смарт\n"
     ]
    }
   ],
   "source": [
    "print(\"Платят сверх абонентсткой платы {:.0%} клиентов с тарифом Ультра\".format(users_overpay[(users_overpay.tariff == 'ultra')\n",
    "                    & (users_overpay.payment_over > 0)].shape[0] / users_overpay[users_overpay.tariff == 'ultra'].shape[0]))\n",
    "\n",
    "print(\"Платят сверх абонентсткой платы {:.0%} клиентов с тарифом Смарт\".format(users_overpay[(users_overpay.tariff == 'smart')\n",
    "                    & (users_overpay.payment_over > 0)].shape[0] / users_overpay[users_overpay.tariff == 'smart'].shape[0]))"
   ]
  },
  {
   "cell_type": "code",
   "execution_count": 48,
   "metadata": {},
   "outputs": [
    {
     "data": {
      "text/plain": [
       "count    3216.000000\n",
       "mean     1528.902674\n",
       "std       798.224060\n",
       "min       550.000000\n",
       "25%       750.000000\n",
       "50%      1653.500000\n",
       "75%      1950.000000\n",
       "max      6770.000000\n",
       "Name: payment, dtype: float64"
      ]
     },
     "execution_count": 48,
     "metadata": {},
     "output_type": "execute_result"
    }
   ],
   "source": [
    "data['payment'].describe()"
   ]
  },
  {
   "cell_type": "markdown",
   "metadata": {},
   "source": [
    "### Вывод"
   ]
  },
  {
   "cell_type": "markdown",
   "metadata": {},
   "source": [
    "В разделе 3 было рассчитано для каждого пользователя по месяцам количество сделанных звонков и израсходованных минут разговора, количество отправленных сообщений, объем израсходованного интернет-трафика. Также была посчитана помесячная выручка с каждого пользователя.\n",
    "\n",
    "Было установлено, что 75% клиентов пользуются услугами сверх тарифного пакета, большинство из них - это клиенты с тарифом \"Смарт\". \n",
    "\n",
    "Не используют услуги сверх тарифного пакета 71% пользователей тарифа Ультра и лишь 5% пользователей тарифа Смарт."
   ]
  },
  {
   "cell_type": "markdown",
   "metadata": {},
   "source": [
    "## Исследовательский анализ данных"
   ]
  },
  {
   "cell_type": "markdown",
   "metadata": {},
   "source": [
    "Необходимо описать поведение клиентов оператора, исходя из выборки.\n",
    "\n",
    "Сколько требуется пользователям каждого тарифа в месяц:\n",
    "- минут разговора, \n",
    "- количества сообщений,\n",
    "- объем интернет-трафика. \n",
    "\n",
    "По перечисленным параметрам необходимо посчитать среднее количество, дисперсию и стандартное отклонение, построить гистограммы, описать распределения."
   ]
  },
  {
   "cell_type": "markdown",
   "metadata": {},
   "source": [
    "Известно, что исследуемый датасет — не вся совокупность данных о клиентах компании, а выборка из неё, поэтому для рассчета дисперсии и стандартного отклонения в методах ***var() и std()*** необходимо указать параметр ***ddof=1***\n",
    "\n",
    "Т.к. одни и те же расчеты необходимо делать для нескольких параметров исследования (минуты разговора, смс, интернет-трафик), рационально написать функции для построения гистограмм и расчета статистических параметров. Это сократит количество строк кода в исследовании. "
   ]
  },
  {
   "cell_type": "code",
   "execution_count": 49,
   "metadata": {},
   "outputs": [],
   "source": [
    "# функция для отрисовки гистограммы по параметру для тарифов Ультра и Смарт\n",
    "def histogram(data, parameter, title, xlabel):\n",
    "    plt.figure(figsize=(10,6));\n",
    "    sns.set(style='darkgrid')\n",
    "\n",
    "    sns.histplot(data.loc[data.tariff == 'ultra', parameter], label='тариф \"Ультра\"', color='orange')\n",
    "    sns.histplot(data.loc[data.tariff == 'smart', parameter], label='тариф \"Смарт\"')\n",
    "\n",
    "    plt.title(title, fontsize=13, weight='bold');\n",
    "    plt.legend(fontsize=14, loc=1, facecolor='white');\n",
    "    plt.xlabel(xlabel, fontsize=12);\n",
    "    plt.ylabel('плотность частоты', fontsize=12);"
   ]
  },
  {
   "cell_type": "code",
   "execution_count": 50,
   "metadata": {},
   "outputs": [],
   "source": [
    "# функция для вычисления статистических параметров для тарифов Ультра и Смарт\n",
    "def parameters_tbl(data, parameter):\n",
    "    stat = data.pivot_table(index='tariff', values=parameter,\n",
    "                 aggfunc=[np.mean, stats.mode, np.median, np.std, np.var, np.amax]).T.reset_index()\\\n",
    "        .drop(columns=['level_1'])\n",
    "    stat['level_0'] = stat['level_0'].replace({'mean': 'Среднее', 'mode': 'Мода',\n",
    "                                               'median': 'Медиана', 'std': 'Стандартное отклонение',\n",
    "                                               'var': 'Дисперсия', 'amax': 'Максимальное значение'})\n",
    "    stat.columns = ['Параметр', 'Смарт', 'Ультра']\n",
    "\n",
    "    return stat"
   ]
  },
  {
   "cell_type": "code",
   "execution_count": 51,
   "metadata": {},
   "outputs": [],
   "source": [
    "# функция для определения процента случаев использования услуг сверх тарифного пакета для тарифов Ультра и Смарт\n",
    "def overuse(data, parameter):\n",
    "    over_ultra = data.loc[(data.tariff == 'ultra') & (data[parameter] > 0), parameter].count()\\\n",
    "        / data.loc[data.tariff == 'ultra', parameter].count()\n",
    "    over_smart = data.loc[(data.tariff == 'smart') & (data[parameter] > 0), parameter].count()\\\n",
    "        / data.loc[data.tariff == 'smart', parameter].count()\n",
    "    print (\"Процент случаев использования услуг сверх тарифного пакета\")\n",
    "    print (\"Тариф Ультра: {:.0%}\".format(over_ultra))\n",
    "    print (\"Тариф Смарт: {:.0%}\".format(over_smart))"
   ]
  },
  {
   "cell_type": "markdown",
   "metadata": {},
   "source": [
    "Практически во всех ситуациях **основное количество наблюдаемых величин лежит в интервале +- одно стандартное отклонение от среднего значения**. Следовательно, зная среднее значение и стандартное отклонение по выборке, можно определить интервал, которому принадлежит основная масса наблюдений.\n",
    "\n",
    "Для оценки тарифов компании с использованием среднего значения и стандартного отклонения можно рассчитать **оптимальный объем услуг** (количество минут, количество смс, объем интернет-трафика), который бы устроил большинство клиетов. Для этого к среднему значению надо прибавить стандартное отклонение. Составим функцию для расчета оптимального объема услуг"
   ]
  },
  {
   "cell_type": "code",
   "execution_count": 52,
   "metadata": {},
   "outputs": [],
   "source": [
    "# функция для расчета оптимального объема услуг для тарифов Ультра и Смарт\n",
    "def optimal(data, parameter, name):\n",
    "    optimal_ultra = data.loc[data.tariff == 'ultra', parameter].mean()\\\n",
    "        + np.std(data.loc[data.tariff == 'ultra', parameter], ddof=1)\n",
    "    optimal_smart = data.loc[data.tariff == 'smart', parameter].mean()\\\n",
    "        + np.std(data.loc[data.tariff == 'smart', parameter], ddof=1)\n",
    "    print (\"Оптимальный объем услуг:\", name)\n",
    "    print (\"Тариф Ультра:\", int(round(optimal_ultra, 0)))\n",
    "    print (\"Тариф Смарт:\", int(round(optimal_smart, 0)))"
   ]
  },
  {
   "cell_type": "markdown",
   "metadata": {},
   "source": [
    "### Исследование минут разговора в месяц"
   ]
  },
  {
   "cell_type": "code",
   "execution_count": 53,
   "metadata": {},
   "outputs": [
    {
     "data": {
      "image/png": "[encoded data removed]",
      "text/plain": [
       "<Figure size 720x432 with 1 Axes>"
      ]
     },
     "metadata": {
      "needs_background": "light"
     },
     "output_type": "display_data"
    }
   ],
   "source": [
    "# применим функцию для отрисовки гистограммы по параметру minutes для тарифов Ультра и Смарт\n",
    "histogram(data, parameter='minutes',\n",
    "          title='Распределение количества минут разговора в месяц для пользователей тарифов \"Ультра\" и \"Смарт\"',\n",
    "          xlabel='количество минут разговора')"
   ]
  },
  {
   "cell_type": "markdown",
   "metadata": {},
   "source": [
    "Гистограммы имеют форму колокола и почти симметричны относительно среднего значения, что говорит о примерном равенстве трех характеристик: среднего, моды и медианы.\n",
    "\n",
    "Узкая и высокая гистограмма по тарифу Смарт показывает меньший разброс (дисперсию) количества минут (до 1000) разговоров в месяц по сравнению с пользователями тарифа Ультра. \n",
    "\n",
    "Широкая и более низкая гистограмма по тарифу Ультра показывает большой разброс (дисперсию) количества минут разговоров, которые используют клиенты с этим тарифом - до 1500 минут в месяц.\n",
    "\n",
    "Среднее значение для гистограммы тарифа Смарт лежит ливее среднего значения гистограммы тарифа Ультра по оси X, что показывает меньшее среднее значение количества минут в месяц для пользователей тарифа Смарт"
   ]
  },
  {
   "cell_type": "code",
   "execution_count": 54,
   "metadata": {},
   "outputs": [
    {
     "data": {
      "text/html": [
       "<div>\n",
       "<style scoped>\n",
       "    .dataframe tbody tr th:only-of-type {\n",
       "        vertical-align: middle;\n",
       "    }\n",
       "\n",
       "    .dataframe tbody tr th {\n",
       "        vertical-align: top;\n",
       "    }\n",
       "\n",
       "    .dataframe thead th {\n",
       "        text-align: right;\n",
       "    }\n",
       "</style>\n",
       "<table border=\"1\" class=\"dataframe\">\n",
       "  <thead>\n",
       "    <tr style=\"text-align: right;\">\n",
       "      <th></th>\n",
       "      <th>Параметр</th>\n",
       "      <th>Смарт</th>\n",
       "      <th>Ультра</th>\n",
       "    </tr>\n",
       "  </thead>\n",
       "  <tbody>\n",
       "    <tr>\n",
       "      <th>0</th>\n",
       "      <td>Среднее</td>\n",
       "      <td>417.747534</td>\n",
       "      <td>526.089249</td>\n",
       "    </tr>\n",
       "    <tr>\n",
       "      <th>1</th>\n",
       "      <td>Мода</td>\n",
       "      <td>([437.0], [10])</td>\n",
       "      <td>([0.0], [39])</td>\n",
       "    </tr>\n",
       "    <tr>\n",
       "      <th>2</th>\n",
       "      <td>Медиана</td>\n",
       "      <td>421.5</td>\n",
       "      <td>518.0</td>\n",
       "    </tr>\n",
       "    <tr>\n",
       "      <th>3</th>\n",
       "      <td>Стандартное отклонение</td>\n",
       "      <td>190.476754</td>\n",
       "      <td>317.887549</td>\n",
       "    </tr>\n",
       "    <tr>\n",
       "      <th>4</th>\n",
       "      <td>Дисперсия</td>\n",
       "      <td>36281.393836</td>\n",
       "      <td>101052.493549</td>\n",
       "    </tr>\n",
       "    <tr>\n",
       "      <th>5</th>\n",
       "      <td>Максимальное значение</td>\n",
       "      <td>1435.0</td>\n",
       "      <td>1673.0</td>\n",
       "    </tr>\n",
       "  </tbody>\n",
       "</table>\n",
       "</div>"
      ],
      "text/plain": [
       "                 Параметр            Смарт         Ультра\n",
       "0                 Среднее       417.747534     526.089249\n",
       "1                    Мода  ([437.0], [10])  ([0.0], [39])\n",
       "2                 Медиана            421.5          518.0\n",
       "3  Стандартное отклонение       190.476754     317.887549\n",
       "4               Дисперсия     36281.393836  101052.493549\n",
       "5   Максимальное значение           1435.0         1673.0"
      ]
     },
     "execution_count": 54,
     "metadata": {},
     "output_type": "execute_result"
    }
   ],
   "source": [
    "# применим функцию для вычисления статистических параметров по параметру minutes для тарифов Смарт и Ультра\n",
    "parameters_tbl(data, parameter='minutes')"
   ]
  },
  {
   "cell_type": "code",
   "execution_count": 55,
   "metadata": {},
   "outputs": [
    {
     "name": "stdout",
     "output_type": "stream",
     "text": [
      "Процент случаев использования услуг сверх тарифного пакета\n",
      "Тариф Ультра: 0%\n",
      "Тариф Смарт: 34%\n"
     ]
    }
   ],
   "source": [
    "# применим функцию для определения процента случаев использования минут разговора сверх пакета для тарифов Ультра и Смарт\n",
    "overuse(data, parameter='minutes_over')"
   ]
  },
  {
   "cell_type": "code",
   "execution_count": 56,
   "metadata": {},
   "outputs": [
    {
     "name": "stdout",
     "output_type": "stream",
     "text": [
      "Оптимальный объем услуг: минуты разговора\n",
      "Тариф Ультра: 844\n",
      "Тариф Смарт: 608\n"
     ]
    }
   ],
   "source": [
    "# применим функцию для вычисления оптимального объема минут разговора для тарифов Ультра и Смарт\n",
    "optimal(data, parameter='minutes', name='минуты разговора')"
   ]
  },
  {
   "cell_type": "markdown",
   "metadata": {},
   "source": [
    "Клиенты с тарифом \"Ультра\" в среднем используют в месяц больше минут разговора, чем клиенты с тарифом \"Смарт\".\n",
    "\n",
    "Значение моды равное 0 для тарифа Ультра говорит о том, что пользователи этого тарифа часто не пользуются минутами разговора.\n",
    "\n",
    "Клиенты с тарифом Ультра не используют минуты сверх тарифного пакета в отличие от клиентов с тарифом Смарт, среди которых такие случаи составляют 34%.\n",
    "\n",
    "Большинство клиентов с тарифом Ультра устроит 900 минут разговора в месяц, что намного меньше 3000 минут, включенных в пакет.\n",
    "\n",
    "Большинство клиентов с тарифом Смарт устроит 650 минут разговора в месяц, что превышает 500 минут, включенных в пакет."
   ]
  },
  {
   "cell_type": "markdown",
   "metadata": {},
   "source": [
    "### Исследование количества сообщений в месяц"
   ]
  },
  {
   "cell_type": "code",
   "execution_count": 57,
   "metadata": {},
   "outputs": [
    {
     "data": {
      "image/png": "[encoded data removed]",
      "text/plain": [
       "<Figure size 720x432 with 1 Axes>"
      ]
     },
     "metadata": {},
     "output_type": "display_data"
    }
   ],
   "source": [
    "# применим функцию для отрисовки гистограммы по параметру sms для тарифов Ультра и Смарт\n",
    "histogram(data, parameter='sms',\n",
    "          title='Распределение количества смс в месяц для пользователей тарифов \"Ультра\" и \"Смарт\"',\n",
    "          xlabel='количество смс')"
   ]
  },
  {
   "cell_type": "markdown",
   "metadata": {},
   "source": [
    "Пик гистограмм на нуле говорит о многочисленности случаев, когда пользователи не отправляют ни одного смс в месяц. \n",
    "\n",
    "Построим гистограммы, исключив нули, чтобы посмотреть на распределение ненулевых случаев."
   ]
  },
  {
   "cell_type": "code",
   "execution_count": 58,
   "metadata": {},
   "outputs": [
    {
     "data": {
      "image/png": "[encoded data removed]",
      "text/plain": [
       "<Figure size 720x432 with 1 Axes>"
      ]
     },
     "metadata": {},
     "output_type": "display_data"
    }
   ],
   "source": [
    "histogram(data[data.sms != 0], parameter='sms',\n",
    "          title='Распределение количества смс в месяц для пользователей тарифов \"Ультра\" и \"Смарт\"',\n",
    "          xlabel='количество смс')"
   ]
  },
  {
   "cell_type": "markdown",
   "metadata": {},
   "source": [
    "Гистограммы имеют ассиметричную форму с правосторонней скошенностью, что говорит о следующем соотношении трех характеристик: среднее > мода > медиана.\n",
    "\n",
    "Более узкая и высокая гистограмма по тарифу Смарт показывает меньший разброс (дисперсию) количества смс (до 140) в месяц по сравнению с пользователями тарифа Ультра. \n",
    "\n",
    "Широкая и более низкая гистограмма по тарифу Ультра показывает большой разброс (дисперсию) количества смс, которые отправляют клиенты с этим тарифом - до 220 смс в месяц.\n",
    "\n",
    "Среднее значение для гистограммы тарифа Смарт лежит ливее среднего значения гистограммы тарифа Ультра по оси X, что показывает меньшее среднее значение количества смс в месяц для пользователей тарифа Смарт"
   ]
  },
  {
   "cell_type": "code",
   "execution_count": 59,
   "metadata": {},
   "outputs": [
    {
     "data": {
      "text/html": [
       "<div>\n",
       "<style scoped>\n",
       "    .dataframe tbody tr th:only-of-type {\n",
       "        vertical-align: middle;\n",
       "    }\n",
       "\n",
       "    .dataframe tbody tr th {\n",
       "        vertical-align: top;\n",
       "    }\n",
       "\n",
       "    .dataframe thead th {\n",
       "        text-align: right;\n",
       "    }\n",
       "</style>\n",
       "<table border=\"1\" class=\"dataframe\">\n",
       "  <thead>\n",
       "    <tr style=\"text-align: right;\">\n",
       "      <th></th>\n",
       "      <th>Параметр</th>\n",
       "      <th>Смарт</th>\n",
       "      <th>Ультра</th>\n",
       "    </tr>\n",
       "  </thead>\n",
       "  <tbody>\n",
       "    <tr>\n",
       "      <th>0</th>\n",
       "      <td>Среднее</td>\n",
       "      <td>33.369058</td>\n",
       "      <td>49.313387</td>\n",
       "    </tr>\n",
       "    <tr>\n",
       "      <th>1</th>\n",
       "      <td>Мода</td>\n",
       "      <td>([0.0], [308])</td>\n",
       "      <td>([0.0], [191])</td>\n",
       "    </tr>\n",
       "    <tr>\n",
       "      <th>2</th>\n",
       "      <td>Медиана</td>\n",
       "      <td>28.0</td>\n",
       "      <td>38.0</td>\n",
       "    </tr>\n",
       "    <tr>\n",
       "      <th>3</th>\n",
       "      <td>Стандартное отклонение</td>\n",
       "      <td>28.230396</td>\n",
       "      <td>47.80604</td>\n",
       "    </tr>\n",
       "    <tr>\n",
       "      <th>4</th>\n",
       "      <td>Дисперсия</td>\n",
       "      <td>796.955256</td>\n",
       "      <td>2285.417425</td>\n",
       "    </tr>\n",
       "    <tr>\n",
       "      <th>5</th>\n",
       "      <td>Максимальное значение</td>\n",
       "      <td>143.0</td>\n",
       "      <td>224.0</td>\n",
       "    </tr>\n",
       "  </tbody>\n",
       "</table>\n",
       "</div>"
      ],
      "text/plain": [
       "                 Параметр           Смарт          Ультра\n",
       "0                 Среднее       33.369058       49.313387\n",
       "1                    Мода  ([0.0], [308])  ([0.0], [191])\n",
       "2                 Медиана            28.0            38.0\n",
       "3  Стандартное отклонение       28.230396        47.80604\n",
       "4               Дисперсия      796.955256     2285.417425\n",
       "5   Максимальное значение           143.0           224.0"
      ]
     },
     "execution_count": 59,
     "metadata": {},
     "output_type": "execute_result"
    }
   ],
   "source": [
    "# применим функцию для вычисления статистических параметров по параметру sms для тарифов Ультра и Смарт\n",
    "parameters_tbl(data, parameter='sms')"
   ]
  },
  {
   "cell_type": "code",
   "execution_count": 60,
   "metadata": {},
   "outputs": [
    {
     "name": "stdout",
     "output_type": "stream",
     "text": [
      "Процент случаев использования услуг сверх тарифного пакета\n",
      "Тариф Ультра: 0%\n",
      "Тариф Смарт: 25%\n"
     ]
    }
   ],
   "source": [
    "# применим функцию для определения процента случаев использования смс сверх пакета для тарифов Ультра и Смарт\n",
    "overuse(data, parameter='sms_over')"
   ]
  },
  {
   "cell_type": "code",
   "execution_count": 61,
   "metadata": {},
   "outputs": [
    {
     "name": "stdout",
     "output_type": "stream",
     "text": [
      "Оптимальный объем услуг: сообщения\n",
      "Тариф Ультра: 97\n",
      "Тариф Смарт: 62\n"
     ]
    }
   ],
   "source": [
    "# применим функцию для вычисления оптимального количества смс для тарифов Ультра и Смарт\n",
    "optimal(data, parameter='sms', name='сообщения')"
   ]
  },
  {
   "cell_type": "markdown",
   "metadata": {},
   "source": [
    "Значение моды равное 0 для обоих тарифов говорит о том, что пользователи часто не используют услугу смс-сообщений.\n",
    "\n",
    "Клиенты с тарифом \"Ультра\" в среднем отправляют в месяц больше смс, чем клиенты с тарифом \"Смарт\".\n",
    "\n",
    "Клиенты с тарифом Ультра не используют смс сверх тарифного пакета в отличие от клиентов с тарифом Смарт, среди которых такие случаи составляют 25%.\n",
    "\n",
    "Большинство клиентов с тарифом Ультра устроит 100 смс в месяц, что намного меньше 1000 смс, включенных в пакет.\n",
    "\n",
    "Большинство клиентов с тарифом Смарт устроит 70 смс в месяц, что превышает 50 смс, включенных в пакет."
   ]
  },
  {
   "cell_type": "markdown",
   "metadata": {},
   "source": [
    "### Исследование объема интернет-трафика в месяц"
   ]
  },
  {
   "cell_type": "code",
   "execution_count": 62,
   "metadata": {},
   "outputs": [
    {
     "data": {
      "image/png": "[encoded data removed]",
      "text/plain": [
       "<Figure size 720x432 with 1 Axes>"
      ]
     },
     "metadata": {},
     "output_type": "display_data"
    }
   ],
   "source": [
    "# применим функцию для отрисовки гистограммы по параметру gb для тарифов Ультра и Смарт\n",
    "histogram(data, parameter='gb',\n",
    "          title='Распределение гигабайт интернет-трафика в месяц для пользователей тарифов \"Ультра\" и \"Смарт\"',\n",
    "          xlabel='гигабайты интернет-трафика')"
   ]
  },
  {
   "cell_type": "markdown",
   "metadata": {},
   "source": [
    "Гистограммы имеют форму колокола и почти симметричны относительно среднего значения, что говорит о примерном равенстве трех характеристик: среднего, моды и медианы.\n",
    "\n",
    "Более узкая и высокая гистограмма по тарифу Смарт показывает меньший разброс (дисперсию) количества гигабайт (до 35) интернет-трафика в месяц по сравнению с пользователями тарифа Ультра. \n",
    "\n",
    "Широкая и более низкая гистограмма по тарифу Ультра показывает большой разброс (дисперсию) количества гигабайт интернет-трафика, которые используют клиенты с этим тарифом - до 50 гигабайт в месяц.\n",
    "\n",
    "Среднее значение для гистограммы тарифа Смарт лежит ливее среднего значения гистограммы тарифа Ультра по оси X, что показывает меньшее среднее значение количества гигабайт интернет-трафика в месяц для пользователей тарифа Смарт"
   ]
  },
  {
   "cell_type": "code",
   "execution_count": 63,
   "metadata": {},
   "outputs": [
    {
     "data": {
      "text/html": [
       "<div>\n",
       "<style scoped>\n",
       "    .dataframe tbody tr th:only-of-type {\n",
       "        vertical-align: middle;\n",
       "    }\n",
       "\n",
       "    .dataframe tbody tr th {\n",
       "        vertical-align: top;\n",
       "    }\n",
       "\n",
       "    .dataframe thead th {\n",
       "        text-align: right;\n",
       "    }\n",
       "</style>\n",
       "<table border=\"1\" class=\"dataframe\">\n",
       "  <thead>\n",
       "    <tr style=\"text-align: right;\">\n",
       "      <th></th>\n",
       "      <th>Параметр</th>\n",
       "      <th>Смарт</th>\n",
       "      <th>Ультра</th>\n",
       "    </tr>\n",
       "  </thead>\n",
       "  <tbody>\n",
       "    <tr>\n",
       "      <th>0</th>\n",
       "      <td>Среднее</td>\n",
       "      <td>16.321525</td>\n",
       "      <td>19.474645</td>\n",
       "    </tr>\n",
       "    <tr>\n",
       "      <th>1</th>\n",
       "      <td>Мода</td>\n",
       "      <td>([17.0], [183])</td>\n",
       "      <td>([19.0], [44])</td>\n",
       "    </tr>\n",
       "    <tr>\n",
       "      <th>2</th>\n",
       "      <td>Медиана</td>\n",
       "      <td>17.0</td>\n",
       "      <td>19.0</td>\n",
       "    </tr>\n",
       "    <tr>\n",
       "      <th>3</th>\n",
       "      <td>Стандартное отклонение</td>\n",
       "      <td>5.756167</td>\n",
       "      <td>9.868057</td>\n",
       "    </tr>\n",
       "    <tr>\n",
       "      <th>4</th>\n",
       "      <td>Дисперсия</td>\n",
       "      <td>33.133453</td>\n",
       "      <td>97.378544</td>\n",
       "    </tr>\n",
       "    <tr>\n",
       "      <th>5</th>\n",
       "      <td>Максимальное значение</td>\n",
       "      <td>38.0</td>\n",
       "      <td>49.0</td>\n",
       "    </tr>\n",
       "  </tbody>\n",
       "</table>\n",
       "</div>"
      ],
      "text/plain": [
       "                 Параметр            Смарт          Ультра\n",
       "0                 Среднее        16.321525       19.474645\n",
       "1                    Мода  ([17.0], [183])  ([19.0], [44])\n",
       "2                 Медиана             17.0            19.0\n",
       "3  Стандартное отклонение         5.756167        9.868057\n",
       "4               Дисперсия        33.133453       97.378544\n",
       "5   Максимальное значение             38.0            49.0"
      ]
     },
     "execution_count": 63,
     "metadata": {},
     "output_type": "execute_result"
    }
   ],
   "source": [
    "# применим функцию для вычисления статистических параметров по параметру gb для тарифов Ультра и Смарт\n",
    "parameters_tbl(data, parameter='gb')"
   ]
  },
  {
   "cell_type": "code",
   "execution_count": 64,
   "metadata": {},
   "outputs": [
    {
     "name": "stdout",
     "output_type": "stream",
     "text": [
      "Процент случаев использования услуг сверх тарифного пакета\n",
      "Тариф Ультра: 14%\n",
      "Тариф Смарт: 58%\n"
     ]
    }
   ],
   "source": [
    "# применим функцию для определения процента случаев использования гигабайт интернета сверх пакета для тарифов Ультра и Смарт\n",
    "overuse(data, parameter='gb_over')"
   ]
  },
  {
   "cell_type": "code",
   "execution_count": 65,
   "metadata": {},
   "outputs": [
    {
     "name": "stdout",
     "output_type": "stream",
     "text": [
      "Оптимальный объем услуг: гигабайты интернета\n",
      "Тариф Ультра: 29\n",
      "Тариф Смарт: 22\n"
     ]
    }
   ],
   "source": [
    "# применим функцию для вычисления оптимального объема гигабайт интернета для тарифов Ультра и Смарт\n",
    "optimal(data, parameter='gb', name='гигабайты интернета')"
   ]
  },
  {
   "cell_type": "markdown",
   "metadata": {},
   "source": [
    "Клиенты с тарифом \"Ультра\" в среднем используют в месяц больше гигабайт интернет-трафика, чем клиенты с тарифом \"Смарт\".\n",
    "\n",
    "Пользователи обоих тарифов используют интернет сверх тарифного пакета, среди клиентов с тарифом Ультра такие случаи составляют 14%, среди клиентов с тарифом Смарт - 58%.\n",
    "\n",
    "Большинство клиентов с тарифом Ультра устроит 30 Гб интернет-трафика в месяц, что соответствует объему, включенному в пакет.\n",
    "\n",
    "Большинство клиентов с тарифом Смарт устроит 25 Гб интернет-трафика в месяц, что превышает 15 Гб, включенных в пакет."
   ]
  },
  {
   "cell_type": "markdown",
   "metadata": {},
   "source": [
    "### Вывод"
   ]
  },
  {
   "cell_type": "markdown",
   "metadata": {},
   "source": [
    "Анализ показал бОльшие значения среднего, стандартного отклонения и дисперсии для всех исследуемых параметров у тарифа \"Ультра\". В среднем пользователи тарифа \"Ультра\" используют больше минут разговоров, отправляют больше смс и используют больше интернет-трафика, чем пользователи тарифа \"Смарт\". \n",
    "\n",
    "В пакет тарифа Ультра входит намного больше минут разговора и сообщений, чем в среднем требуется пользователям, объем интернет-трафика соответствует требованиям.\n",
    "\n",
    "В пакет тарифа Смарт входит недостаточное количество минут разговора, сообщений и интернет-трафика для среднего пользователя тарифа, поэтому клиентам с тарифом Смарт чаще приходится использовать услуги сверх тарифного пакета."
   ]
  },
  {
   "cell_type": "markdown",
   "metadata": {},
   "source": [
    "## Проверка гипотез"
   ]
  },
  {
   "cell_type": "markdown",
   "metadata": {},
   "source": [
    "Необходимо проверить следующие гипотезы:\n",
    "- средняя выручка пользователей тарифов «Ультра» и «Смарт» различаются;\n",
    "- средняя выручка пользователей из Москвы отличается от выручки пользователей из других регионов."
   ]
  },
  {
   "cell_type": "markdown",
   "metadata": {},
   "source": [
    "Для определения типа распределения выборок необходимо построить гистограммы и графики QQ-plot - для оценки степени отклонения данных от нормального распределения.\n",
    "\n",
    "Чтобы проверить гипотезу о равенстве среднего двух генеральных совокупностей по взятым из них выборкам, будем использовать **t-тест Студента** - метод ***stats.ttest_ind()***. Метод содержит необязательный параметр **equal_var**, задающий считать ли равными дисперсии выборок:\n",
    "- **equal_var = True** - считать дисперсии выборок равными (по умолчанию),\n",
    "- **equal_var = False** - считать дисперсии выборок неравными.\n",
    "\n",
    "Минимальный уровень значимости **p-value**, на котором нулевая гипотеза может быть отвергнута, примем равным **0,01**, это указывает на вероятность справедливости гипотезы в 1 %"
   ]
  },
  {
   "cell_type": "code",
   "execution_count": 66,
   "metadata": {},
   "outputs": [],
   "source": [
    "# функция для построения гистограмм распределения выборок\n",
    "def histogram(data, color, name):\n",
    "    plt.figure(figsize=(10,6));\n",
    "    sns.set(style='darkgrid')\n",
    "    sns.histplot(data, color=color)\n",
    "    plt.title(name, fontsize=13, weight='bold');\n",
    "    plt.xlabel('платежи, руб.', fontsize=12);\n",
    "    plt.ylabel('частота', fontsize=12);"
   ]
  },
  {
   "cell_type": "code",
   "execution_count": 67,
   "metadata": {},
   "outputs": [],
   "source": [
    "# функция для проверки гипотез\n",
    "def test(data1, data2, equal_var):\n",
    "    alpha = 0.01 # критический уровень статистической значимости\n",
    "    results = stats.ttest_ind(data1, data2, equal_var=equal_var)\n",
    "    print('p-значение:', results.pvalue)\n",
    "    \n",
    "    if results.pvalue < alpha:\n",
    "        print(\"Отвергаем нулевую гипотезу\")\n",
    "    else:\n",
    "        print(\"Не получилось отвергнуть нулевую гипотезу\")"
   ]
  },
  {
   "cell_type": "markdown",
   "metadata": {},
   "source": [
    "### Средняя выручка пользователей тарифов «Ультра» и «Смарт» различаются"
   ]
  },
  {
   "cell_type": "markdown",
   "metadata": {},
   "source": [
    "Нулевая гипотеза H₀: **Средняя выручка пользователей тарифов «Ультра» и «Смарт» равна**.\n",
    "\n",
    "Альтернативная гипотеза H₁: **Средняя выручка пользователей тарифов «Ультра» и «Смарт» различаются**."
   ]
  },
  {
   "cell_type": "code",
   "execution_count": 68,
   "metadata": {},
   "outputs": [],
   "source": [
    "data_ultra = data.loc[data.tariff == 'ultra', 'payment']\n",
    "data_smart = data.loc[data.tariff == 'smart', 'payment']"
   ]
  },
  {
   "cell_type": "code",
   "execution_count": 69,
   "metadata": {},
   "outputs": [
    {
     "data": {
      "image/png": "[encoded data removed]",
      "text/plain": [
       "<Figure size 720x432 with 1 Axes>"
      ]
     },
     "metadata": {},
     "output_type": "display_data"
    }
   ],
   "source": [
    "histogram(data=data_ultra, color='orange', name='Распределение выручки пользователей тарифа Ультра')"
   ]
  },
  {
   "cell_type": "code",
   "execution_count": 70,
   "metadata": {},
   "outputs": [
    {
     "data": {
      "image/png": "[encoded data removed]",
      "text/plain": [
       "<Figure size 432x288 with 1 Axes>"
      ]
     },
     "metadata": {},
     "output_type": "display_data"
    }
   ],
   "source": [
    "# график QQ-plot для выборки data_ultra\n",
    "stats.probplot(data_ultra, dist=\"norm\", plot=pylab)\n",
    "pylab.show()"
   ]
  },
  {
   "cell_type": "code",
   "execution_count": 71,
   "metadata": {},
   "outputs": [
    {
     "data": {
      "image/png": "[encoded data removed]",
      "text/plain": [
       "<Figure size 720x432 with 1 Axes>"
      ]
     },
     "metadata": {},
     "output_type": "display_data"
    }
   ],
   "source": [
    "histogram(data=data_smart, color='blue', name='Распределение выручки пользователей тарифа Смарт')"
   ]
  },
  {
   "cell_type": "code",
   "execution_count": 72,
   "metadata": {},
   "outputs": [
    {
     "data": {
      "image/png": "[encoded data removed]",
      "text/plain": [
       "<Figure size 432x288 with 1 Axes>"
      ]
     },
     "metadata": {},
     "output_type": "display_data"
    }
   ],
   "source": [
    "# график QQ-plot для выборки data_smart\n",
    "stats.probplot(data_smart, dist=\"norm\", plot=pylab)\n",
    "pylab.show()"
   ]
  },
  {
   "cell_type": "code",
   "execution_count": 73,
   "metadata": {},
   "outputs": [
    {
     "name": "stdout",
     "output_type": "stream",
     "text": [
      "Размер выборок:\n",
      "data_ultra - 986\n",
      "data_smart - 2230\n"
     ]
    }
   ],
   "source": [
    "print('Размер выборок:')\n",
    "print('data_ultra -', len(data_ultra))\n",
    "print('data_smart -', len(data_smart))"
   ]
  },
  {
   "cell_type": "markdown",
   "metadata": {},
   "source": [
    "По виду графиков QQ-plot и виду гистограмм можно сделать вывод, что распределение выборок **data_ultra** и **data_smart** не является нормальным. Однако, в такой ситуации t-тест Студента применим для проверки гипотез при большом размере выборок (>30). В нашем случае размер выборок значительно превышает значение 30.\n",
    "\n",
    "Далее посмотрим на дисперсии по выборкам для определения значения параметра **equal_var** метода **stats.ttest_ind()**"
   ]
  },
  {
   "cell_type": "code",
   "execution_count": 74,
   "metadata": {},
   "outputs": [
    {
     "name": "stdout",
     "output_type": "stream",
     "text": [
      "Дисперсия выборки по тарифу Ультра: 141244.3\n",
      "Дисперсия выборки по тарифу Смарт: 669430.4\n"
     ]
    }
   ],
   "source": [
    "print('Дисперсия выборки по тарифу Ультра:', round(np.var(data_ultra), 1))\n",
    "print('Дисперсия выборки по тарифу Смарт:', round(np.var(data_smart), 1))"
   ]
  },
  {
   "cell_type": "markdown",
   "metadata": {},
   "source": [
    "Дисперсии значительно отличаются, применим параметр **equal_var=False**"
   ]
  },
  {
   "cell_type": "code",
   "execution_count": 75,
   "metadata": {},
   "outputs": [
    {
     "name": "stdout",
     "output_type": "stream",
     "text": [
      "p-значение: 1.927011394420941e-250\n",
      "Отвергаем нулевую гипотезу\n"
     ]
    }
   ],
   "source": [
    "test(data1=data_ultra, data2=data_smart, equal_var=False)"
   ]
  },
  {
   "cell_type": "markdown",
   "metadata": {},
   "source": [
    "В результате проверки нулевая гипотеза была отвергнута, p-значение очень мало, значит можно говорить о справедливости альтернативной гипотезы, а именно - **средняя выручка пользователей тарифов «Ультра» и «Смарт» различаются**"
   ]
  },
  {
   "cell_type": "markdown",
   "metadata": {},
   "source": [
    "### Средняя выручка пользователей из Москвы отличается от выручки пользователей из других регионов"
   ]
  },
  {
   "cell_type": "markdown",
   "metadata": {},
   "source": [
    "Нулевая гипотеза H₀: **Средняя выручка пользователей из Москвы равна выручке пользователей из других регионов**.\n",
    "\n",
    "Альтернативная гипотеза H₁: **Средняя выручка пользователей из Москвы отличается от выручки пользователей из других регионов**."
   ]
  },
  {
   "cell_type": "code",
   "execution_count": 76,
   "metadata": {},
   "outputs": [],
   "source": [
    "data_moscow = data.loc[data.city == 'Москва', 'payment']\n",
    "data_regions = data.loc[data.city != 'Москва', 'payment']"
   ]
  },
  {
   "cell_type": "code",
   "execution_count": 77,
   "metadata": {},
   "outputs": [
    {
     "data": {
      "image/png": "[encoded data removed]",
      "text/plain": [
       "<Figure size 720x432 with 1 Axes>"
      ]
     },
     "metadata": {},
     "output_type": "display_data"
    }
   ],
   "source": [
    "histogram(data=data_moscow, color='red', name='Распределение выручки пользователей из Москвы')"
   ]
  },
  {
   "cell_type": "code",
   "execution_count": 78,
   "metadata": {},
   "outputs": [
    {
     "data": {
      "image/png": "[encoded data removed]",
      "text/plain": [
       "<Figure size 432x288 with 1 Axes>"
      ]
     },
     "metadata": {},
     "output_type": "display_data"
    }
   ],
   "source": [
    "# график QQ-plot для выборки data_moscow\n",
    "stats.probplot(data_moscow, dist=\"norm\", plot=pylab)\n",
    "pylab.show()"
   ]
  },
  {
   "cell_type": "code",
   "execution_count": 79,
   "metadata": {},
   "outputs": [
    {
     "data": {
      "image/png": "[encoded data removed]",
      "text/plain": [
       "<Figure size 720x432 with 1 Axes>"
      ]
     },
     "metadata": {},
     "output_type": "display_data"
    }
   ],
   "source": [
    "histogram(data=data_regions, color='green', name='Распределение выручки пользователей из других регионов')"
   ]
  },
  {
   "cell_type": "code",
   "execution_count": 80,
   "metadata": {},
   "outputs": [
    {
     "data": {
      "image/png": "[encoded data removed]",
      "text/plain": [
       "<Figure size 432x288 with 1 Axes>"
      ]
     },
     "metadata": {},
     "output_type": "display_data"
    }
   ],
   "source": [
    "# график QQ-plot для выборки data_regions\n",
    "stats.probplot(data_regions, dist=\"norm\", plot=pylab)\n",
    "pylab.show()"
   ]
  },
  {
   "cell_type": "code",
   "execution_count": 81,
   "metadata": {},
   "outputs": [
    {
     "name": "stdout",
     "output_type": "stream",
     "text": [
      "Размер выборок:\n",
      "data_moscow - 611\n",
      "data_regions - 2605\n"
     ]
    }
   ],
   "source": [
    "print('Размер выборок:')\n",
    "print('data_moscow -', len(data_moscow))\n",
    "print('data_regions -', len(data_regions))"
   ]
  },
  {
   "cell_type": "markdown",
   "metadata": {},
   "source": [
    "По виду графиков QQ-plot и виду гистограмм можно сделать вывод, что распределение выборок **data_moscow** и **data_regions** не является нормальным. Аналогично п.5.1 размер выборок значительно превышает значение 30, поэтому можно применить тест Стьюдента для проверки гипотез.\n",
    "\n",
    "Далее посмотрим на дисперсии по выборкам для определения значения параметра **equal_var** метода **stats.ttest_ind()**"
   ]
  },
  {
   "cell_type": "code",
   "execution_count": 82,
   "metadata": {},
   "outputs": [
    {
     "name": "stdout",
     "output_type": "stream",
     "text": [
      "Дисперсия выборки по тарифу Ультра: 564710.7\n",
      "Дисперсия выборки по тарифу Смарт: 653818.5\n"
     ]
    }
   ],
   "source": [
    "print('Дисперсия выборки по тарифу Ультра:', round(np.var(data_moscow), 1))\n",
    "print('Дисперсия выборки по тарифу Смарт:', round(np.var(data_regions), 1))"
   ]
  },
  {
   "cell_type": "markdown",
   "metadata": {},
   "source": [
    "Дисперсии отличаются не значительно, применим параметр **equal_var=True**"
   ]
  },
  {
   "cell_type": "code",
   "execution_count": 83,
   "metadata": {},
   "outputs": [
    {
     "name": "stdout",
     "output_type": "stream",
     "text": [
      "p-значение: 0.5400751614511182\n",
      "Не получилось отвергнуть нулевую гипотезу\n"
     ]
    }
   ],
   "source": [
    "test(data1=data_moscow, data2=data_regions, equal_var=True)"
   ]
  },
  {
   "cell_type": "markdown",
   "metadata": {},
   "source": [
    "В результате проверки нулевая гипотеза не была отвергнута. Полученное p-значение говорит о том, что вероятность получить такое или большее различие случайно 54 %"
   ]
  },
  {
   "cell_type": "markdown",
   "metadata": {},
   "source": [
    "## Общий вывод"
   ]
  },
  {
   "cell_type": "markdown",
   "metadata": {},
   "source": [
    "В ходе проекта были исследованы данные 500 клиентов компании «Мегалайн» — федерального оператора сотовой связи. Клиенты являются пользователями двух тарифных планов: «Смарт» и «Ультра».\n",
    "\n",
    "На **этапе предобработки данных** было сделано следующее:\n",
    "- удалено поле `Unnamed: 0` из датасета **internet**.\n",
    "- во всех датасетах типы полей с датами изменены c object на **datetime64**.\n",
    "- в датасете **calls** изменен тип поля `duration` (длительность звонка в минутах) на **int64**.\n",
    "\n",
    "На **этапе расчетов** была добавлена следующая информация для каждого пользователя:\n",
    "- количество сделанных звонков и израсходованных минут разговора по месяцам;\n",
    "- количество отправленных сообщений по месяцам;\n",
    "- объем израсходованного интернет-трафика по месяцам;\n",
    "- помесячная выручка по месяцам.\n",
    "\n",
    "Также на этом этапе была рассчитана доля клиентов, которые пользуются услугами компании сверх тарифного пакета, оказалось, что к таким клиентам относятся почти все пользователи тарифа Смарт - 95% и 29% пользователей тарифа Ультра.\n",
    "\n",
    "Далее был проведен **исследовательский анализ** данных:\n",
    "\n",
    "- **Исследование минут разговора в месяц** показало, сколько минут разговора требуется в месяц пользователям тарифов Смарт и Ультра. Оптимальное количество минут разговора в месяц для клиентов с тарифом Смарт составляет **650 минут**, это значение больше 500 минут, включенных в тарифный пакет. Оптимальное количество минут разговора в месяц для клиентов с тарифом Ультра составляет **900 минут**, это значение намного меньше 3000 минут, включенных в тарифный пакет. Клиенты с тарифом Ультра не используют минуты сверх тарифного пакета в отличие от клиентов с тарифом Смарт, среди которых такие случаи составляют 34%.\n",
    "\n",
    "- **Исследование количества сообщений в месяц** показало, сколько сообщений требуется в месяц пользователям тарифов Смарт и Ультра. Оптимальное количество сообщений в месяц для клиентов с тарифом Смарт составляет **70 смс**, это значение больше 50 смс, включенных в тарифный пакет. Оптимальное количество сообщений в месяц для клиентов с тарифом Ультра составляет **100 смс**, это значение намного меньше 1000 смс, включенных в тарифный пакет. Клиенты с тарифом Ультра не используют смс сверх тарифного пакета в отличие от клиентов с тарифом Смарт, среди которых такие случаи составляют 25%. \n",
    "\n",
    "- **Исследование объема интернет-трафика в месяц** показало, какой объем интернет-трафика требуется в месяц пользователям тарифов Смарт и Ультра. Оптимальный объем интернет-трафика в месяц для клиентов с тарифом Смарт составляет **25 Гб**, это значение больше 15 Гб, включенных в тарифный пакет. Оптимальный объем интернет-трафика в месяц для клиентов с тарифом Ультра составляет **30 Гб**, это значение соответствует объему, включенному в тарифный пакет. Пользователи обоих тарифов используют интернет сверх тарифного пакета, среди клиентов с тарифом Ультра такие случаи составляют 14%, среди клиентов с тарифом Смарт - 58%.\n",
    "\n",
    "Исходя из результатов исследования, можно сказать, что тариф Ультра лучше соответствует требованиям клиентов, чем тариф Смарт, т.к. он удовлетворяет потребности большинства своих пользователей, им реже приходится переплачивать сверх абонентской платы. Но, с другой стороны, абонентская плата тарифа Ультра выше в 3,5 раза абонентской платы тарифа Смарт.\n",
    "\n",
    "Далее были проверены **две гипотезы**:\n",
    "\n",
    "- Гипотеза **\"Средняя выручка пользователей тарифов «Ультра» и «Смарт» различаются\"** подтвердилась.\n",
    "\n",
    "- Гипотеза **\"Средняя выручка пользователей из Москвы отличается от выручки пользователей из других регионов\"** не подтвердилась."
   ]
  },
  {
   "cell_type": "code",
   "execution_count": null,
   "metadata": {},
   "outputs": [],
   "source": []
  }
 ],
 "metadata": {
  "ExecuteTimeLog": [
   {
    "duration": 1968,
    "start_time": "2022-01-26T16:42:52.445Z"
   },
   {
    "duration": 528,
    "start_time": "2022-01-26T16:44:47.266Z"
   },
   {
    "duration": 20,
    "start_time": "2022-01-26T16:44:57.648Z"
   },
   {
    "duration": 11,
    "start_time": "2022-01-26T16:46:05.732Z"
   },
   {
    "duration": 12,
    "start_time": "2022-01-26T16:46:18.819Z"
   },
   {
    "duration": 10,
    "start_time": "2022-01-26T16:46:49.541Z"
   },
   {
    "duration": 13,
    "start_time": "2022-01-26T16:46:52.008Z"
   },
   {
    "duration": 20,
    "start_time": "2022-01-26T16:46:57.278Z"
   },
   {
    "duration": 21,
    "start_time": "2022-01-26T16:53:26.577Z"
   },
   {
    "duration": 37,
    "start_time": "2022-01-26T16:54:41.482Z"
   },
   {
    "duration": 50,
    "start_time": "2022-01-26T16:54:45.857Z"
   },
   {
    "duration": 26,
    "start_time": "2022-01-26T16:54:53.303Z"
   },
   {
    "duration": 17,
    "start_time": "2022-01-26T16:55:02.437Z"
   },
   {
    "duration": 19,
    "start_time": "2022-01-26T16:55:09.623Z"
   },
   {
    "duration": 33,
    "start_time": "2022-01-26T17:29:39.217Z"
   },
   {
    "duration": 54,
    "start_time": "2022-01-26T17:44:27.718Z"
   },
   {
    "duration": 38,
    "start_time": "2022-01-26T17:44:33.317Z"
   },
   {
    "duration": 305,
    "start_time": "2022-01-27T14:39:00.464Z"
   },
   {
    "duration": 1213,
    "start_time": "2022-01-27T14:39:10.348Z"
   },
   {
    "duration": 424,
    "start_time": "2022-01-27T14:39:11.563Z"
   },
   {
    "duration": 25,
    "start_time": "2022-01-27T14:39:11.989Z"
   },
   {
    "duration": 20,
    "start_time": "2022-01-27T14:39:12.016Z"
   },
   {
    "duration": 17,
    "start_time": "2022-01-27T14:39:12.038Z"
   },
   {
    "duration": 18,
    "start_time": "2022-01-27T14:39:12.056Z"
   },
   {
    "duration": 12,
    "start_time": "2022-01-27T14:39:12.075Z"
   },
   {
    "duration": 306,
    "start_time": "2022-01-27T14:39:32.494Z"
   },
   {
    "duration": 27,
    "start_time": "2022-01-27T14:40:11.752Z"
   },
   {
    "duration": 5,
    "start_time": "2022-01-27T14:41:23.445Z"
   },
   {
    "duration": 24,
    "start_time": "2022-01-27T14:41:53.946Z"
   },
   {
    "duration": 8,
    "start_time": "2022-01-27T14:42:15.482Z"
   },
   {
    "duration": 43,
    "start_time": "2022-01-27T14:45:20.254Z"
   },
   {
    "duration": 267,
    "start_time": "2022-01-27T14:46:44.880Z"
   },
   {
    "duration": 5,
    "start_time": "2022-01-27T14:56:54.975Z"
   },
   {
    "duration": 6,
    "start_time": "2022-01-27T14:58:59.871Z"
   },
   {
    "duration": 26,
    "start_time": "2022-01-27T14:59:21.531Z"
   },
   {
    "duration": 280,
    "start_time": "2022-01-27T15:03:53.030Z"
   },
   {
    "duration": 13,
    "start_time": "2022-01-27T15:04:08.755Z"
   },
   {
    "duration": 267,
    "start_time": "2022-01-27T15:04:49.275Z"
   },
   {
    "duration": 413,
    "start_time": "2022-01-27T15:04:54.673Z"
   },
   {
    "duration": 15,
    "start_time": "2022-01-27T15:06:33.117Z"
   },
   {
    "duration": 17,
    "start_time": "2022-01-27T15:11:22.340Z"
   },
   {
    "duration": 33,
    "start_time": "2022-01-27T15:11:47.428Z"
   },
   {
    "duration": 27,
    "start_time": "2022-01-27T15:11:58.994Z"
   },
   {
    "duration": 17,
    "start_time": "2022-01-27T15:12:01.539Z"
   },
   {
    "duration": 4,
    "start_time": "2022-01-27T15:15:04.881Z"
   },
   {
    "duration": 4,
    "start_time": "2022-01-27T15:15:32.415Z"
   },
   {
    "duration": 18,
    "start_time": "2022-01-27T15:20:56.239Z"
   },
   {
    "duration": 26,
    "start_time": "2022-01-27T15:20:59.073Z"
   },
   {
    "duration": 275,
    "start_time": "2022-01-27T15:29:17.995Z"
   },
   {
    "duration": 4,
    "start_time": "2022-01-27T15:30:17.245Z"
   },
   {
    "duration": 4,
    "start_time": "2022-01-27T15:30:25.610Z"
   },
   {
    "duration": 246,
    "start_time": "2022-01-27T15:49:58.823Z"
   },
   {
    "duration": 3,
    "start_time": "2022-01-27T15:50:09.897Z"
   },
   {
    "duration": 376,
    "start_time": "2022-01-27T15:50:09.901Z"
   },
   {
    "duration": 22,
    "start_time": "2022-01-27T15:50:10.279Z"
   },
   {
    "duration": 19,
    "start_time": "2022-01-27T15:50:10.303Z"
   },
   {
    "duration": 15,
    "start_time": "2022-01-27T15:50:10.324Z"
   },
   {
    "duration": 32,
    "start_time": "2022-01-27T15:50:10.340Z"
   },
   {
    "duration": 11,
    "start_time": "2022-01-27T15:50:10.374Z"
   },
   {
    "duration": 14,
    "start_time": "2022-01-27T15:50:10.386Z"
   },
   {
    "duration": 4,
    "start_time": "2022-01-27T15:50:10.402Z"
   },
   {
    "duration": 6,
    "start_time": "2022-01-27T15:50:10.407Z"
   },
   {
    "duration": 26,
    "start_time": "2022-01-27T15:50:10.414Z"
   },
   {
    "duration": 39,
    "start_time": "2022-01-27T15:50:10.442Z"
   },
   {
    "duration": 25,
    "start_time": "2022-01-27T15:50:10.483Z"
   },
   {
    "duration": 7,
    "start_time": "2022-01-27T15:50:16.765Z"
   },
   {
    "duration": 58,
    "start_time": "2022-01-27T15:50:45.279Z"
   },
   {
    "duration": 5,
    "start_time": "2022-01-27T15:50:50.160Z"
   },
   {
    "duration": 7,
    "start_time": "2022-01-27T15:51:33.319Z"
   },
   {
    "duration": 71,
    "start_time": "2022-01-27T15:51:52.531Z"
   },
   {
    "duration": 245,
    "start_time": "2022-01-27T15:53:51.457Z"
   },
   {
    "duration": 142,
    "start_time": "2022-01-27T15:54:31.319Z"
   },
   {
    "duration": 136,
    "start_time": "2022-01-27T15:55:28.318Z"
   },
   {
    "duration": 81,
    "start_time": "2022-01-27T15:56:05.994Z"
   },
   {
    "duration": 46,
    "start_time": "2022-01-27T15:56:10.901Z"
   },
   {
    "duration": 35,
    "start_time": "2022-01-27T15:56:15.317Z"
   },
   {
    "duration": 6,
    "start_time": "2022-01-27T15:57:25.627Z"
   },
   {
    "duration": 4,
    "start_time": "2022-01-27T15:59:39.092Z"
   },
   {
    "duration": 5,
    "start_time": "2022-01-27T16:00:34.488Z"
   },
   {
    "duration": 5,
    "start_time": "2022-01-27T16:01:09.332Z"
   },
   {
    "duration": 4,
    "start_time": "2022-01-27T16:01:16.902Z"
   },
   {
    "duration": 5,
    "start_time": "2022-01-27T16:08:39.914Z"
   },
   {
    "duration": 5,
    "start_time": "2022-01-27T16:08:42.580Z"
   },
   {
    "duration": 5,
    "start_time": "2022-01-27T16:08:54.891Z"
   },
   {
    "duration": 24,
    "start_time": "2022-01-27T17:31:06.980Z"
   },
   {
    "duration": 9,
    "start_time": "2022-01-27T17:31:42.269Z"
   },
   {
    "duration": 20,
    "start_time": "2022-01-27T17:36:51.840Z"
   },
   {
    "duration": 10,
    "start_time": "2022-01-27T17:37:07.231Z"
   },
   {
    "duration": 4,
    "start_time": "2022-01-27T17:37:43.429Z"
   },
   {
    "duration": 4,
    "start_time": "2022-01-27T17:37:53.434Z"
   },
   {
    "duration": 23,
    "start_time": "2022-01-27T17:38:12.368Z"
   },
   {
    "duration": 53,
    "start_time": "2022-01-27T17:51:36.136Z"
   },
   {
    "duration": 49,
    "start_time": "2022-01-27T17:52:03.438Z"
   },
   {
    "duration": 52,
    "start_time": "2022-01-27T17:53:48.954Z"
   },
   {
    "duration": 57,
    "start_time": "2022-01-27T17:55:23.467Z"
   },
   {
    "duration": 261,
    "start_time": "2022-01-27T17:58:45.576Z"
   },
   {
    "duration": 261,
    "start_time": "2022-01-27T17:58:54.129Z"
   },
   {
    "duration": 8,
    "start_time": "2022-01-27T17:59:02.499Z"
   },
   {
    "duration": 52,
    "start_time": "2022-01-27T18:00:27.000Z"
   },
   {
    "duration": 7066,
    "start_time": "2022-01-27T18:01:27.243Z"
   },
   {
    "duration": 15,
    "start_time": "2022-01-27T18:01:41.366Z"
   },
   {
    "duration": 393,
    "start_time": "2022-01-27T18:03:25.957Z"
   },
   {
    "duration": 29,
    "start_time": "2022-01-27T18:03:49.359Z"
   },
   {
    "duration": 9,
    "start_time": "2022-01-27T18:05:22.189Z"
   },
   {
    "duration": 18,
    "start_time": "2022-01-27T18:06:47.453Z"
   },
   {
    "duration": 35,
    "start_time": "2022-01-27T18:10:05.094Z"
   },
   {
    "duration": 14,
    "start_time": "2022-01-27T18:19:25.843Z"
   },
   {
    "duration": 6481,
    "start_time": "2022-01-27T18:21:36.096Z"
   },
   {
    "duration": 11,
    "start_time": "2022-01-27T18:21:54.995Z"
   },
   {
    "duration": 2,
    "start_time": "2022-01-27T18:22:15.965Z"
   },
   {
    "duration": 392,
    "start_time": "2022-01-27T18:22:15.969Z"
   },
   {
    "duration": 22,
    "start_time": "2022-01-27T18:22:16.362Z"
   },
   {
    "duration": 23,
    "start_time": "2022-01-27T18:22:16.386Z"
   },
   {
    "duration": 16,
    "start_time": "2022-01-27T18:22:16.411Z"
   },
   {
    "duration": 10,
    "start_time": "2022-01-27T18:22:16.428Z"
   },
   {
    "duration": 32,
    "start_time": "2022-01-27T18:22:16.439Z"
   },
   {
    "duration": 14,
    "start_time": "2022-01-27T18:22:16.473Z"
   },
   {
    "duration": 4,
    "start_time": "2022-01-27T18:22:16.489Z"
   },
   {
    "duration": 5,
    "start_time": "2022-01-27T18:22:16.495Z"
   },
   {
    "duration": 4,
    "start_time": "2022-01-27T18:22:16.501Z"
   },
   {
    "duration": 25,
    "start_time": "2022-01-27T18:22:16.507Z"
   },
   {
    "duration": 3,
    "start_time": "2022-01-27T18:22:16.533Z"
   },
   {
    "duration": 44,
    "start_time": "2022-01-27T18:22:16.537Z"
   },
   {
    "duration": 3,
    "start_time": "2022-01-27T18:22:16.583Z"
   },
   {
    "duration": 24,
    "start_time": "2022-01-27T18:22:16.587Z"
   },
   {
    "duration": 3,
    "start_time": "2022-01-27T18:22:16.613Z"
   },
   {
    "duration": 8,
    "start_time": "2022-01-27T18:22:16.617Z"
   },
   {
    "duration": 74,
    "start_time": "2022-01-27T18:22:16.626Z"
   },
   {
    "duration": 4,
    "start_time": "2022-01-27T18:22:16.702Z"
   },
   {
    "duration": 6,
    "start_time": "2022-01-27T18:22:16.707Z"
   },
   {
    "duration": 137,
    "start_time": "2022-01-27T18:22:16.714Z"
   },
   {
    "duration": 8,
    "start_time": "2022-01-27T18:22:16.852Z"
   },
   {
    "duration": 22,
    "start_time": "2022-01-27T18:22:16.872Z"
   },
   {
    "duration": 40,
    "start_time": "2022-01-27T18:22:16.895Z"
   },
   {
    "duration": 9,
    "start_time": "2022-01-27T18:22:16.936Z"
   },
   {
    "duration": 36,
    "start_time": "2022-01-27T18:22:16.948Z"
   },
   {
    "duration": 26,
    "start_time": "2022-01-27T18:22:16.985Z"
   },
   {
    "duration": 9,
    "start_time": "2022-01-27T18:22:17.012Z"
   },
   {
    "duration": 18,
    "start_time": "2022-01-27T18:22:17.023Z"
   },
   {
    "duration": 65,
    "start_time": "2022-01-27T18:22:17.042Z"
   },
   {
    "duration": 10,
    "start_time": "2022-01-27T18:22:21.244Z"
   },
   {
    "duration": 12,
    "start_time": "2022-01-27T18:26:10.466Z"
   },
   {
    "duration": 2,
    "start_time": "2022-01-27T18:26:45.177Z"
   },
   {
    "duration": 378,
    "start_time": "2022-01-27T18:26:45.181Z"
   },
   {
    "duration": 22,
    "start_time": "2022-01-27T18:26:45.560Z"
   },
   {
    "duration": 19,
    "start_time": "2022-01-27T18:26:45.583Z"
   },
   {
    "duration": 15,
    "start_time": "2022-01-27T18:26:45.603Z"
   },
   {
    "duration": 9,
    "start_time": "2022-01-27T18:26:45.620Z"
   },
   {
    "duration": 12,
    "start_time": "2022-01-27T18:26:45.630Z"
   },
   {
    "duration": 40,
    "start_time": "2022-01-27T18:26:45.644Z"
   },
   {
    "duration": 4,
    "start_time": "2022-01-27T18:26:45.686Z"
   },
   {
    "duration": 5,
    "start_time": "2022-01-27T18:26:45.691Z"
   },
   {
    "duration": 3,
    "start_time": "2022-01-27T18:26:45.697Z"
   },
   {
    "duration": 27,
    "start_time": "2022-01-27T18:26:45.702Z"
   },
   {
    "duration": 4,
    "start_time": "2022-01-27T18:26:45.730Z"
   },
   {
    "duration": 45,
    "start_time": "2022-01-27T18:26:45.736Z"
   },
   {
    "duration": 3,
    "start_time": "2022-01-27T18:26:45.783Z"
   },
   {
    "duration": 25,
    "start_time": "2022-01-27T18:26:45.788Z"
   },
   {
    "duration": 4,
    "start_time": "2022-01-27T18:26:45.815Z"
   },
   {
    "duration": 7,
    "start_time": "2022-01-27T18:26:45.820Z"
   },
   {
    "duration": 83,
    "start_time": "2022-01-27T18:26:45.828Z"
   },
   {
    "duration": 4,
    "start_time": "2022-01-27T18:26:45.913Z"
   },
   {
    "duration": 6,
    "start_time": "2022-01-27T18:26:45.918Z"
   },
   {
    "duration": 129,
    "start_time": "2022-01-27T18:26:45.925Z"
   },
   {
    "duration": 17,
    "start_time": "2022-01-27T18:26:46.056Z"
   },
   {
    "duration": 22,
    "start_time": "2022-01-27T18:26:46.074Z"
   },
   {
    "duration": 36,
    "start_time": "2022-01-27T18:26:46.097Z"
   },
   {
    "duration": 7,
    "start_time": "2022-01-27T18:26:46.134Z"
   },
   {
    "duration": 34,
    "start_time": "2022-01-27T18:26:46.143Z"
   },
   {
    "duration": 24,
    "start_time": "2022-01-27T18:26:46.179Z"
   },
   {
    "duration": 8,
    "start_time": "2022-01-27T18:26:46.204Z"
   },
   {
    "duration": 17,
    "start_time": "2022-01-27T18:26:46.213Z"
   },
   {
    "duration": 55,
    "start_time": "2022-01-27T18:26:46.231Z"
   },
   {
    "duration": 3,
    "start_time": "2022-01-27T18:28:12.697Z"
   },
   {
    "duration": 3,
    "start_time": "2022-01-27T18:28:13.997Z"
   },
   {
    "duration": 8,
    "start_time": "2022-01-27T18:28:14.783Z"
   },
   {
    "duration": 8,
    "start_time": "2022-01-27T18:28:28.468Z"
   },
   {
    "duration": 1036,
    "start_time": "2022-01-27T18:29:04.546Z"
   },
   {
    "duration": 3,
    "start_time": "2022-01-27T18:29:10.043Z"
   },
   {
    "duration": 362,
    "start_time": "2022-01-27T18:29:10.048Z"
   },
   {
    "duration": 25,
    "start_time": "2022-01-27T18:29:10.412Z"
   },
   {
    "duration": 20,
    "start_time": "2022-01-27T18:29:10.439Z"
   },
   {
    "duration": 17,
    "start_time": "2022-01-27T18:29:10.461Z"
   },
   {
    "duration": 9,
    "start_time": "2022-01-27T18:29:10.479Z"
   },
   {
    "duration": 11,
    "start_time": "2022-01-27T18:29:10.489Z"
   },
   {
    "duration": 14,
    "start_time": "2022-01-27T18:29:10.501Z"
   },
   {
    "duration": 3,
    "start_time": "2022-01-27T18:29:10.518Z"
   },
   {
    "duration": 5,
    "start_time": "2022-01-27T18:29:10.523Z"
   },
   {
    "duration": 5,
    "start_time": "2022-01-27T18:29:10.530Z"
   },
   {
    "duration": 60,
    "start_time": "2022-01-27T18:29:10.536Z"
   },
   {
    "duration": 5,
    "start_time": "2022-01-27T18:29:10.598Z"
   },
   {
    "duration": 14,
    "start_time": "2022-01-27T18:29:10.604Z"
   },
   {
    "duration": 3,
    "start_time": "2022-01-27T18:29:10.619Z"
   },
   {
    "duration": 58,
    "start_time": "2022-01-27T18:29:10.624Z"
   },
   {
    "duration": 3,
    "start_time": "2022-01-27T18:29:10.684Z"
   },
   {
    "duration": 8,
    "start_time": "2022-01-27T18:29:10.689Z"
   },
   {
    "duration": 57,
    "start_time": "2022-01-27T18:29:10.698Z"
   },
   {
    "duration": 22,
    "start_time": "2022-01-27T18:29:10.756Z"
   },
   {
    "duration": 5,
    "start_time": "2022-01-27T18:29:10.780Z"
   },
   {
    "duration": 138,
    "start_time": "2022-01-27T18:29:10.787Z"
   },
   {
    "duration": 8,
    "start_time": "2022-01-27T18:29:10.926Z"
   },
   {
    "duration": 24,
    "start_time": "2022-01-27T18:29:10.936Z"
   },
   {
    "duration": 37,
    "start_time": "2022-01-27T18:29:10.971Z"
   },
   {
    "duration": 7,
    "start_time": "2022-01-27T18:29:11.010Z"
   },
   {
    "duration": 15,
    "start_time": "2022-01-27T18:29:11.019Z"
   },
   {
    "duration": 49,
    "start_time": "2022-01-27T18:29:11.035Z"
   },
   {
    "duration": 7,
    "start_time": "2022-01-27T18:29:11.085Z"
   },
   {
    "duration": 16,
    "start_time": "2022-01-27T18:29:11.094Z"
   },
   {
    "duration": 1066,
    "start_time": "2022-01-27T18:29:14.276Z"
   },
   {
    "duration": 20,
    "start_time": "2022-01-27T18:29:23.816Z"
   },
   {
    "duration": 3,
    "start_time": "2022-01-27T18:30:07.132Z"
   },
   {
    "duration": 3,
    "start_time": "2022-01-27T18:30:09.768Z"
   },
   {
    "duration": 8,
    "start_time": "2022-01-27T18:30:10.696Z"
   },
   {
    "duration": 11,
    "start_time": "2022-01-27T18:36:43.659Z"
   },
   {
    "duration": 10,
    "start_time": "2022-01-27T18:37:40.252Z"
   },
   {
    "duration": 14,
    "start_time": "2022-01-27T18:43:22.003Z"
   },
   {
    "duration": 39,
    "start_time": "2022-01-27T18:43:51.238Z"
   },
   {
    "duration": 27,
    "start_time": "2022-01-27T18:44:00.870Z"
   },
   {
    "duration": 22,
    "start_time": "2022-01-27T18:44:07.425Z"
   },
   {
    "duration": 10,
    "start_time": "2022-01-27T18:44:12.928Z"
   },
   {
    "duration": 14,
    "start_time": "2022-01-27T18:48:40.995Z"
   },
   {
    "duration": 3,
    "start_time": "2022-01-27T18:55:45.895Z"
   },
   {
    "duration": 370,
    "start_time": "2022-01-27T18:55:45.900Z"
   },
   {
    "duration": 21,
    "start_time": "2022-01-27T18:55:46.272Z"
   },
   {
    "duration": 20,
    "start_time": "2022-01-27T18:55:46.295Z"
   },
   {
    "duration": 16,
    "start_time": "2022-01-27T18:55:46.316Z"
   },
   {
    "duration": 37,
    "start_time": "2022-01-27T18:55:46.334Z"
   },
   {
    "duration": 24,
    "start_time": "2022-01-27T18:55:46.373Z"
   },
   {
    "duration": 19,
    "start_time": "2022-01-27T18:55:46.399Z"
   },
   {
    "duration": 9,
    "start_time": "2022-01-27T18:55:46.420Z"
   },
   {
    "duration": 12,
    "start_time": "2022-01-27T18:55:46.430Z"
   },
   {
    "duration": 16,
    "start_time": "2022-01-27T18:55:46.444Z"
   },
   {
    "duration": 33,
    "start_time": "2022-01-27T18:55:46.462Z"
   },
   {
    "duration": 3,
    "start_time": "2022-01-27T18:55:46.497Z"
   },
   {
    "duration": 26,
    "start_time": "2022-01-27T18:55:46.502Z"
   },
   {
    "duration": 8,
    "start_time": "2022-01-27T18:55:46.529Z"
   },
   {
    "duration": 43,
    "start_time": "2022-01-27T18:55:46.539Z"
   },
   {
    "duration": 4,
    "start_time": "2022-01-27T18:55:46.583Z"
   },
   {
    "duration": 18,
    "start_time": "2022-01-27T18:55:46.588Z"
   },
   {
    "duration": 69,
    "start_time": "2022-01-27T18:55:46.607Z"
   },
   {
    "duration": 5,
    "start_time": "2022-01-27T18:55:46.677Z"
   },
   {
    "duration": 6,
    "start_time": "2022-01-27T18:55:46.683Z"
   },
   {
    "duration": 135,
    "start_time": "2022-01-27T18:55:46.690Z"
   },
   {
    "duration": 9,
    "start_time": "2022-01-27T18:55:46.828Z"
   },
   {
    "duration": 38,
    "start_time": "2022-01-27T18:55:46.839Z"
   },
   {
    "duration": 40,
    "start_time": "2022-01-27T18:55:46.878Z"
   },
   {
    "duration": 7,
    "start_time": "2022-01-27T18:55:46.920Z"
   },
   {
    "duration": 15,
    "start_time": "2022-01-27T18:55:46.928Z"
   },
   {
    "duration": 52,
    "start_time": "2022-01-27T18:55:46.944Z"
   },
   {
    "duration": 8,
    "start_time": "2022-01-27T18:55:46.997Z"
   },
   {
    "duration": 17,
    "start_time": "2022-01-27T18:55:47.006Z"
   },
   {
    "duration": 51,
    "start_time": "2022-01-27T18:55:47.025Z"
   },
   {
    "duration": 3,
    "start_time": "2022-01-27T18:55:47.078Z"
   },
   {
    "duration": 5,
    "start_time": "2022-01-27T18:55:47.082Z"
   },
   {
    "duration": 9,
    "start_time": "2022-01-27T18:55:47.088Z"
   },
   {
    "duration": 251,
    "start_time": "2022-01-27T18:56:39.575Z"
   },
   {
    "duration": 261,
    "start_time": "2022-01-27T18:56:47.734Z"
   },
   {
    "duration": 52,
    "start_time": "2022-01-27T19:01:22.890Z"
   },
   {
    "duration": 21,
    "start_time": "2022-01-27T19:01:39.743Z"
   },
   {
    "duration": 8,
    "start_time": "2022-01-27T19:01:46.628Z"
   },
   {
    "duration": 8,
    "start_time": "2022-01-27T19:05:17.794Z"
   },
   {
    "duration": 277,
    "start_time": "2022-01-27T19:05:30.296Z"
   },
   {
    "duration": 22,
    "start_time": "2022-01-27T19:06:07.375Z"
   },
   {
    "duration": 18,
    "start_time": "2022-01-27T19:08:20.148Z"
   },
   {
    "duration": 7,
    "start_time": "2022-01-27T19:11:16.738Z"
   },
   {
    "duration": 7,
    "start_time": "2022-01-27T19:11:53.489Z"
   },
   {
    "duration": 9,
    "start_time": "2022-01-27T19:11:59.410Z"
   },
   {
    "duration": 11,
    "start_time": "2022-01-27T19:13:04.909Z"
   },
   {
    "duration": 13,
    "start_time": "2022-01-27T19:21:34.578Z"
   },
   {
    "duration": 14,
    "start_time": "2022-01-27T19:21:44.059Z"
   },
   {
    "duration": 14,
    "start_time": "2022-01-27T19:22:13.037Z"
   },
   {
    "duration": 6,
    "start_time": "2022-01-27T19:25:35.625Z"
   },
   {
    "duration": 18,
    "start_time": "2022-01-27T19:25:40.259Z"
   },
   {
    "duration": 2,
    "start_time": "2022-01-27T19:27:30.785Z"
   },
   {
    "duration": 12,
    "start_time": "2022-01-27T19:29:36.455Z"
   },
   {
    "duration": 9,
    "start_time": "2022-01-27T19:31:59.144Z"
   },
   {
    "duration": 10,
    "start_time": "2022-01-27T19:32:00.308Z"
   },
   {
    "duration": 3,
    "start_time": "2022-01-27T19:32:11.427Z"
   },
   {
    "duration": 374,
    "start_time": "2022-01-27T19:32:11.432Z"
   },
   {
    "duration": 22,
    "start_time": "2022-01-27T19:32:11.808Z"
   },
   {
    "duration": 21,
    "start_time": "2022-01-27T19:32:11.831Z"
   },
   {
    "duration": 16,
    "start_time": "2022-01-27T19:32:11.853Z"
   },
   {
    "duration": 10,
    "start_time": "2022-01-27T19:32:11.870Z"
   },
   {
    "duration": 13,
    "start_time": "2022-01-27T19:32:11.881Z"
   },
   {
    "duration": 14,
    "start_time": "2022-01-27T19:32:11.896Z"
   },
   {
    "duration": 3,
    "start_time": "2022-01-27T19:32:11.913Z"
   },
   {
    "duration": 6,
    "start_time": "2022-01-27T19:32:11.918Z"
   },
   {
    "duration": 11,
    "start_time": "2022-01-27T19:32:11.926Z"
   },
   {
    "duration": 54,
    "start_time": "2022-01-27T19:32:11.938Z"
   },
   {
    "duration": 5,
    "start_time": "2022-01-27T19:32:11.993Z"
   },
   {
    "duration": 14,
    "start_time": "2022-01-27T19:32:11.999Z"
   },
   {
    "duration": 5,
    "start_time": "2022-01-27T19:32:12.014Z"
   },
   {
    "duration": 51,
    "start_time": "2022-01-27T19:32:12.021Z"
   },
   {
    "duration": 4,
    "start_time": "2022-01-27T19:32:12.074Z"
   },
   {
    "duration": 6,
    "start_time": "2022-01-27T19:32:12.080Z"
   },
   {
    "duration": 54,
    "start_time": "2022-01-27T19:32:12.087Z"
   },
   {
    "duration": 3,
    "start_time": "2022-01-27T19:32:12.142Z"
   },
   {
    "duration": 28,
    "start_time": "2022-01-27T19:32:12.147Z"
   },
   {
    "duration": 132,
    "start_time": "2022-01-27T19:32:12.177Z"
   },
   {
    "duration": 8,
    "start_time": "2022-01-27T19:32:12.310Z"
   },
   {
    "duration": 21,
    "start_time": "2022-01-27T19:32:12.320Z"
   },
   {
    "duration": 61,
    "start_time": "2022-01-27T19:32:12.343Z"
   },
   {
    "duration": 8,
    "start_time": "2022-01-27T19:32:12.405Z"
   },
   {
    "duration": 15,
    "start_time": "2022-01-27T19:32:12.416Z"
   },
   {
    "duration": 41,
    "start_time": "2022-01-27T19:32:12.433Z"
   },
   {
    "duration": 8,
    "start_time": "2022-01-27T19:32:12.476Z"
   },
   {
    "duration": 17,
    "start_time": "2022-01-27T19:32:12.485Z"
   },
   {
    "duration": 21,
    "start_time": "2022-01-27T19:32:12.503Z"
   },
   {
    "duration": 3,
    "start_time": "2022-01-27T19:32:12.525Z"
   },
   {
    "duration": 5,
    "start_time": "2022-01-27T19:32:12.529Z"
   },
   {
    "duration": 37,
    "start_time": "2022-01-27T19:32:12.535Z"
   },
   {
    "duration": 7,
    "start_time": "2022-01-27T19:32:12.574Z"
   },
   {
    "duration": 22,
    "start_time": "2022-01-27T19:32:12.583Z"
   },
   {
    "duration": 8,
    "start_time": "2022-01-27T19:32:12.607Z"
   },
   {
    "duration": 9,
    "start_time": "2022-01-27T19:32:12.617Z"
   },
   {
    "duration": 12,
    "start_time": "2022-01-27T19:32:12.627Z"
   },
   {
    "duration": 10,
    "start_time": "2022-01-27T19:32:17.185Z"
   },
   {
    "duration": 8,
    "start_time": "2022-01-27T19:39:34.197Z"
   },
   {
    "duration": 9,
    "start_time": "2022-01-27T19:39:49.159Z"
   },
   {
    "duration": 14,
    "start_time": "2022-01-27T19:39:53.658Z"
   },
   {
    "duration": 10,
    "start_time": "2022-01-27T19:48:36.951Z"
   },
   {
    "duration": 15,
    "start_time": "2022-01-27T19:48:44.011Z"
   },
   {
    "duration": 8,
    "start_time": "2022-01-27T20:02:09.764Z"
   },
   {
    "duration": 8,
    "start_time": "2022-01-27T20:04:31.656Z"
   },
   {
    "duration": 8,
    "start_time": "2022-01-27T20:04:35.127Z"
   },
   {
    "duration": 7,
    "start_time": "2022-01-27T20:05:13.059Z"
   },
   {
    "duration": 5,
    "start_time": "2022-01-27T20:06:00.180Z"
   },
   {
    "duration": 6,
    "start_time": "2022-01-27T20:06:27.734Z"
   },
   {
    "duration": 6,
    "start_time": "2022-01-27T20:07:58.685Z"
   },
   {
    "duration": 6,
    "start_time": "2022-01-27T20:10:36.889Z"
   },
   {
    "duration": 11,
    "start_time": "2022-01-27T20:21:16.869Z"
   },
   {
    "duration": 1123,
    "start_time": "2022-01-28T15:01:12.150Z"
   },
   {
    "duration": 408,
    "start_time": "2022-01-28T15:01:13.275Z"
   },
   {
    "duration": 32,
    "start_time": "2022-01-28T15:01:13.685Z"
   },
   {
    "duration": 25,
    "start_time": "2022-01-28T15:01:13.720Z"
   },
   {
    "duration": 20,
    "start_time": "2022-01-28T15:01:13.748Z"
   },
   {
    "duration": 35,
    "start_time": "2022-01-28T15:01:13.770Z"
   },
   {
    "duration": 24,
    "start_time": "2022-01-28T15:01:13.807Z"
   },
   {
    "duration": 22,
    "start_time": "2022-01-28T15:01:13.833Z"
   },
   {
    "duration": 8,
    "start_time": "2022-01-28T15:01:13.858Z"
   },
   {
    "duration": 32,
    "start_time": "2022-01-28T15:01:13.868Z"
   },
   {
    "duration": 16,
    "start_time": "2022-01-28T15:01:13.902Z"
   },
   {
    "duration": 46,
    "start_time": "2022-01-28T15:01:13.920Z"
   },
   {
    "duration": 7,
    "start_time": "2022-01-28T15:01:13.968Z"
   },
   {
    "duration": 27,
    "start_time": "2022-01-28T15:01:13.977Z"
   },
   {
    "duration": 18,
    "start_time": "2022-01-28T15:01:14.006Z"
   },
   {
    "duration": 41,
    "start_time": "2022-01-28T15:01:14.026Z"
   },
   {
    "duration": 5,
    "start_time": "2022-01-28T15:01:14.069Z"
   },
   {
    "duration": 15,
    "start_time": "2022-01-28T15:01:14.076Z"
   },
   {
    "duration": 78,
    "start_time": "2022-01-28T15:01:14.098Z"
   },
   {
    "duration": 7,
    "start_time": "2022-01-28T15:01:14.178Z"
   },
   {
    "duration": 22,
    "start_time": "2022-01-28T15:01:14.186Z"
   },
   {
    "duration": 173,
    "start_time": "2022-01-28T15:01:14.210Z"
   },
   {
    "duration": 22,
    "start_time": "2022-01-28T15:01:14.386Z"
   },
   {
    "duration": 28,
    "start_time": "2022-01-28T15:01:14.410Z"
   },
   {
    "duration": 89,
    "start_time": "2022-01-28T15:01:14.440Z"
   },
   {
    "duration": 10,
    "start_time": "2022-01-28T15:01:14.531Z"
   },
   {
    "duration": 22,
    "start_time": "2022-01-28T15:01:14.546Z"
   },
   {
    "duration": 61,
    "start_time": "2022-01-28T15:01:14.570Z"
   },
   {
    "duration": 9,
    "start_time": "2022-01-28T15:01:14.633Z"
   },
   {
    "duration": 31,
    "start_time": "2022-01-28T15:01:14.644Z"
   },
   {
    "duration": 43,
    "start_time": "2022-01-28T15:01:14.677Z"
   },
   {
    "duration": 4,
    "start_time": "2022-01-28T15:01:14.721Z"
   },
   {
    "duration": 11,
    "start_time": "2022-01-28T15:01:14.727Z"
   },
   {
    "duration": 11,
    "start_time": "2022-01-28T15:01:14.740Z"
   },
   {
    "duration": 8,
    "start_time": "2022-01-28T15:01:14.753Z"
   },
   {
    "duration": 39,
    "start_time": "2022-01-28T15:01:14.762Z"
   },
   {
    "duration": 11,
    "start_time": "2022-01-28T15:01:14.802Z"
   },
   {
    "duration": 22,
    "start_time": "2022-01-28T15:01:14.814Z"
   },
   {
    "duration": 18,
    "start_time": "2022-01-28T15:01:14.837Z"
   },
   {
    "duration": 20,
    "start_time": "2022-01-28T15:01:14.857Z"
   },
   {
    "duration": 27,
    "start_time": "2022-01-28T15:01:14.878Z"
   },
   {
    "duration": 18,
    "start_time": "2022-01-28T15:01:14.907Z"
   },
   {
    "duration": 26,
    "start_time": "2022-01-28T15:01:14.927Z"
   },
   {
    "duration": 21,
    "start_time": "2022-01-28T15:01:14.954Z"
   },
   {
    "duration": 9,
    "start_time": "2022-01-28T15:01:14.976Z"
   },
   {
    "duration": 18,
    "start_time": "2022-01-28T15:01:14.987Z"
   },
   {
    "duration": 40,
    "start_time": "2022-01-28T15:01:15.007Z"
   },
   {
    "duration": 11,
    "start_time": "2022-01-28T15:01:15.049Z"
   },
   {
    "duration": 9,
    "start_time": "2022-01-28T15:01:18.026Z"
   },
   {
    "duration": 6,
    "start_time": "2022-01-28T15:01:23.211Z"
   },
   {
    "duration": 9,
    "start_time": "2022-01-28T15:01:24.342Z"
   },
   {
    "duration": 6,
    "start_time": "2022-01-28T15:01:26.898Z"
   },
   {
    "duration": 9,
    "start_time": "2022-01-28T15:13:00.790Z"
   },
   {
    "duration": 6,
    "start_time": "2022-01-28T15:13:01.702Z"
   },
   {
    "duration": 9,
    "start_time": "2022-01-28T15:13:02.173Z"
   },
   {
    "duration": 6,
    "start_time": "2022-01-28T15:13:05.350Z"
   },
   {
    "duration": 515,
    "start_time": "2022-01-28T15:25:37.410Z"
   },
   {
    "duration": 505,
    "start_time": "2022-01-28T15:27:03.663Z"
   },
   {
    "duration": 868,
    "start_time": "2022-01-28T15:27:41.234Z"
   },
   {
    "duration": 750,
    "start_time": "2022-01-28T15:30:24.018Z"
   },
   {
    "duration": 757,
    "start_time": "2022-01-28T15:31:04.119Z"
   },
   {
    "duration": 755,
    "start_time": "2022-01-28T15:31:34.185Z"
   },
   {
    "duration": 861,
    "start_time": "2022-01-28T15:31:45.035Z"
   },
   {
    "duration": 520,
    "start_time": "2022-01-28T15:32:08.542Z"
   },
   {
    "duration": 542,
    "start_time": "2022-01-28T15:35:04.220Z"
   },
   {
    "duration": 514,
    "start_time": "2022-01-28T15:35:44.740Z"
   },
   {
    "duration": 537,
    "start_time": "2022-01-28T15:36:16.224Z"
   },
   {
    "duration": 632,
    "start_time": "2022-01-28T15:36:55.112Z"
   },
   {
    "duration": 535,
    "start_time": "2022-01-28T15:37:09.538Z"
   },
   {
    "duration": 515,
    "start_time": "2022-01-28T15:40:57.988Z"
   },
   {
    "duration": 765,
    "start_time": "2022-01-28T15:41:25.105Z"
   },
   {
    "duration": 399,
    "start_time": "2022-01-28T15:41:35.140Z"
   },
   {
    "duration": 402,
    "start_time": "2022-01-28T15:41:52.094Z"
   },
   {
    "duration": 388,
    "start_time": "2022-01-28T15:43:37.989Z"
   },
   {
    "duration": 561,
    "start_time": "2022-01-28T15:43:50.894Z"
   },
   {
    "duration": 343,
    "start_time": "2022-01-28T15:43:59.325Z"
   },
   {
    "duration": 331,
    "start_time": "2022-01-28T15:45:08.962Z"
   },
   {
    "duration": 453,
    "start_time": "2022-01-28T16:15:00.649Z"
   },
   {
    "duration": 434,
    "start_time": "2022-01-28T16:15:21.747Z"
   },
   {
    "duration": 427,
    "start_time": "2022-01-28T16:15:31.108Z"
   },
   {
    "duration": 413,
    "start_time": "2022-01-28T16:15:40.640Z"
   },
   {
    "duration": 394,
    "start_time": "2022-01-28T16:16:35.519Z"
   },
   {
    "duration": 373,
    "start_time": "2022-01-28T16:17:18.290Z"
   },
   {
    "duration": 743,
    "start_time": "2022-01-28T16:18:00.211Z"
   },
   {
    "duration": 530,
    "start_time": "2022-01-28T16:18:10.937Z"
   },
   {
    "duration": 549,
    "start_time": "2022-01-28T16:19:41.562Z"
   },
   {
    "duration": 356,
    "start_time": "2022-01-28T16:21:17.635Z"
   },
   {
    "duration": 384,
    "start_time": "2022-01-28T16:21:41.333Z"
   },
   {
    "duration": 383,
    "start_time": "2022-01-28T16:22:40.689Z"
   },
   {
    "duration": 386,
    "start_time": "2022-01-28T16:23:15.741Z"
   },
   {
    "duration": 397,
    "start_time": "2022-01-28T16:23:51.871Z"
   },
   {
    "duration": 392,
    "start_time": "2022-01-28T16:24:02.669Z"
   },
   {
    "duration": 379,
    "start_time": "2022-01-28T16:24:14.132Z"
   },
   {
    "duration": 366,
    "start_time": "2022-01-28T16:25:08.813Z"
   },
   {
    "duration": 385,
    "start_time": "2022-01-28T16:25:46.208Z"
   },
   {
    "duration": 492,
    "start_time": "2022-01-28T16:26:49.881Z"
   },
   {
    "duration": 328,
    "start_time": "2022-01-28T16:27:21.837Z"
   },
   {
    "duration": 365,
    "start_time": "2022-01-28T16:27:29.141Z"
   },
   {
    "duration": 352,
    "start_time": "2022-01-28T16:28:44.051Z"
   },
   {
    "duration": 367,
    "start_time": "2022-01-28T16:28:51.251Z"
   },
   {
    "duration": 377,
    "start_time": "2022-01-28T16:29:02.028Z"
   },
   {
    "duration": 377,
    "start_time": "2022-01-28T16:29:07.700Z"
   },
   {
    "duration": 380,
    "start_time": "2022-01-28T16:29:34.665Z"
   },
   {
    "duration": 392,
    "start_time": "2022-01-28T16:31:01.327Z"
   },
   {
    "duration": 355,
    "start_time": "2022-01-28T16:31:20.205Z"
   },
   {
    "duration": 332,
    "start_time": "2022-01-28T16:32:10.224Z"
   },
   {
    "duration": 511,
    "start_time": "2022-01-28T16:43:09.793Z"
   },
   {
    "duration": 371,
    "start_time": "2022-01-28T16:43:24.198Z"
   },
   {
    "duration": 383,
    "start_time": "2022-01-28T16:44:08.593Z"
   },
   {
    "duration": 380,
    "start_time": "2022-01-28T16:45:03.405Z"
   },
   {
    "duration": 7,
    "start_time": "2022-01-28T16:49:25.443Z"
   },
   {
    "duration": 11,
    "start_time": "2022-01-28T16:49:30.829Z"
   },
   {
    "duration": 8,
    "start_time": "2022-01-28T16:49:58.138Z"
   },
   {
    "duration": 10,
    "start_time": "2022-01-28T16:49:59.941Z"
   },
   {
    "duration": 8,
    "start_time": "2022-01-28T16:50:07.085Z"
   },
   {
    "duration": 12,
    "start_time": "2022-01-28T16:50:09.511Z"
   },
   {
    "duration": 12,
    "start_time": "2022-01-28T16:50:14.894Z"
   },
   {
    "duration": 8,
    "start_time": "2022-01-28T17:02:42.467Z"
   },
   {
    "duration": 9,
    "start_time": "2022-01-28T17:03:54.506Z"
   },
   {
    "duration": 9,
    "start_time": "2022-01-28T17:04:13.031Z"
   },
   {
    "duration": 10,
    "start_time": "2022-01-28T17:04:32.394Z"
   },
   {
    "duration": 9,
    "start_time": "2022-01-28T17:05:41.060Z"
   },
   {
    "duration": 9,
    "start_time": "2022-01-28T17:06:16.861Z"
   },
   {
    "duration": 9,
    "start_time": "2022-01-28T17:07:12.152Z"
   },
   {
    "duration": 14,
    "start_time": "2022-01-28T17:08:28.060Z"
   },
   {
    "duration": 14,
    "start_time": "2022-01-28T17:08:29.207Z"
   },
   {
    "duration": 10,
    "start_time": "2022-01-28T17:09:03.958Z"
   },
   {
    "duration": 10,
    "start_time": "2022-01-28T17:09:33.061Z"
   },
   {
    "duration": 14,
    "start_time": "2022-01-28T17:09:51.656Z"
   },
   {
    "duration": 9,
    "start_time": "2022-01-28T17:10:29.301Z"
   },
   {
    "duration": 11,
    "start_time": "2022-01-28T17:10:42.569Z"
   },
   {
    "duration": 9,
    "start_time": "2022-01-28T17:10:50.971Z"
   },
   {
    "duration": 9,
    "start_time": "2022-01-28T17:11:06.004Z"
   },
   {
    "duration": 8,
    "start_time": "2022-01-28T17:12:59.269Z"
   },
   {
    "duration": 9,
    "start_time": "2022-01-28T17:13:04.262Z"
   },
   {
    "duration": 9,
    "start_time": "2022-01-28T17:14:22.083Z"
   },
   {
    "duration": 10,
    "start_time": "2022-01-28T17:14:23.469Z"
   },
   {
    "duration": 318,
    "start_time": "2022-01-28T17:20:06.834Z"
   },
   {
    "duration": 657,
    "start_time": "2022-01-28T17:20:23.247Z"
   },
   {
    "duration": 466,
    "start_time": "2022-01-28T17:20:46.766Z"
   },
   {
    "duration": 231,
    "start_time": "2022-01-28T17:30:27.521Z"
   },
   {
    "duration": 571,
    "start_time": "2022-01-28T17:32:06.861Z"
   },
   {
    "duration": 453,
    "start_time": "2022-01-28T17:32:27.700Z"
   },
   {
    "duration": 427,
    "start_time": "2022-01-28T17:32:33.431Z"
   },
   {
    "duration": 241,
    "start_time": "2022-01-28T17:32:38.551Z"
   },
   {
    "duration": 19,
    "start_time": "2022-01-28T17:33:41.868Z"
   },
   {
    "duration": 216,
    "start_time": "2022-01-28T17:38:27.301Z"
   },
   {
    "duration": 7,
    "start_time": "2022-01-28T17:39:46.580Z"
   },
   {
    "duration": 6,
    "start_time": "2022-01-28T17:40:09.005Z"
   },
   {
    "duration": 320,
    "start_time": "2022-01-28T17:40:41.415Z"
   },
   {
    "duration": 365,
    "start_time": "2022-01-28T17:40:47.451Z"
   },
   {
    "duration": 214,
    "start_time": "2022-01-28T17:41:04.616Z"
   },
   {
    "duration": 264,
    "start_time": "2022-01-28T17:41:59.066Z"
   },
   {
    "duration": 225,
    "start_time": "2022-01-28T17:43:57.856Z"
   },
   {
    "duration": 308,
    "start_time": "2022-01-28T17:44:14.158Z"
   },
   {
    "duration": 251,
    "start_time": "2022-01-28T17:46:15.569Z"
   },
   {
    "duration": 223,
    "start_time": "2022-01-28T17:46:38.758Z"
   },
   {
    "duration": 437,
    "start_time": "2022-01-28T17:46:59.321Z"
   },
   {
    "duration": 6,
    "start_time": "2022-01-28T17:52:04.116Z"
   },
   {
    "duration": 9,
    "start_time": "2022-01-28T17:53:30.318Z"
   },
   {
    "duration": 7,
    "start_time": "2022-01-28T17:53:52.022Z"
   },
   {
    "duration": 9,
    "start_time": "2022-01-28T17:53:58.490Z"
   },
   {
    "duration": 453,
    "start_time": "2022-01-28T20:15:41.314Z"
   },
   {
    "duration": 371,
    "start_time": "2022-01-28T20:15:58.821Z"
   },
   {
    "duration": 354,
    "start_time": "2022-01-28T20:16:14.205Z"
   },
   {
    "duration": 1274,
    "start_time": "2022-01-28T20:23:47.499Z"
   },
   {
    "duration": 387,
    "start_time": "2022-01-28T20:24:02.191Z"
   },
   {
    "duration": 9,
    "start_time": "2022-01-28T20:31:43.314Z"
   },
   {
    "duration": 9,
    "start_time": "2022-01-28T20:38:00.616Z"
   },
   {
    "duration": 9,
    "start_time": "2022-01-28T20:38:21.542Z"
   },
   {
    "duration": 10,
    "start_time": "2022-01-28T20:38:22.474Z"
   },
   {
    "duration": 10,
    "start_time": "2022-01-28T20:38:45.530Z"
   },
   {
    "duration": 9,
    "start_time": "2022-01-28T20:38:46.623Z"
   },
   {
    "duration": 8,
    "start_time": "2022-01-28T20:51:23.477Z"
   },
   {
    "duration": 221,
    "start_time": "2022-01-28T20:52:35.678Z"
   },
   {
    "duration": 5,
    "start_time": "2022-01-28T20:52:41.619Z"
   },
   {
    "duration": 5,
    "start_time": "2022-01-28T20:53:08.714Z"
   },
   {
    "duration": 7,
    "start_time": "2022-01-28T20:53:32.090Z"
   },
   {
    "duration": 7,
    "start_time": "2022-01-28T20:54:37.725Z"
   },
   {
    "duration": 12,
    "start_time": "2022-01-28T20:55:22.851Z"
   },
   {
    "duration": 12,
    "start_time": "2022-01-28T20:56:13.886Z"
   },
   {
    "duration": 6,
    "start_time": "2022-01-28T20:57:47.070Z"
   },
   {
    "duration": 6,
    "start_time": "2022-01-28T20:58:53.389Z"
   },
   {
    "duration": 6,
    "start_time": "2022-01-28T20:59:21.012Z"
   },
   {
    "duration": 7,
    "start_time": "2022-01-28T20:59:35.373Z"
   },
   {
    "duration": 13,
    "start_time": "2022-01-28T21:01:10.659Z"
   },
   {
    "duration": 12,
    "start_time": "2022-01-28T21:01:11.612Z"
   },
   {
    "duration": 4,
    "start_time": "2022-01-28T21:01:21.113Z"
   },
   {
    "duration": 410,
    "start_time": "2022-01-28T21:01:21.119Z"
   },
   {
    "duration": 27,
    "start_time": "2022-01-28T21:01:21.531Z"
   },
   {
    "duration": 24,
    "start_time": "2022-01-28T21:01:21.560Z"
   },
   {
    "duration": 20,
    "start_time": "2022-01-28T21:01:21.586Z"
   },
   {
    "duration": 11,
    "start_time": "2022-01-28T21:01:21.607Z"
   },
   {
    "duration": 15,
    "start_time": "2022-01-28T21:01:21.620Z"
   },
   {
    "duration": 17,
    "start_time": "2022-01-28T21:01:21.638Z"
   },
   {
    "duration": 5,
    "start_time": "2022-01-28T21:01:21.658Z"
   },
   {
    "duration": 37,
    "start_time": "2022-01-28T21:01:21.664Z"
   },
   {
    "duration": 7,
    "start_time": "2022-01-28T21:01:21.703Z"
   },
   {
    "duration": 10,
    "start_time": "2022-01-28T21:01:21.711Z"
   },
   {
    "duration": 38,
    "start_time": "2022-01-28T21:01:21.723Z"
   },
   {
    "duration": 6,
    "start_time": "2022-01-28T21:01:21.763Z"
   },
   {
    "duration": 43,
    "start_time": "2022-01-28T21:01:21.771Z"
   },
   {
    "duration": 6,
    "start_time": "2022-01-28T21:01:21.816Z"
   },
   {
    "duration": 37,
    "start_time": "2022-01-28T21:01:21.824Z"
   },
   {
    "duration": 5,
    "start_time": "2022-01-28T21:01:21.862Z"
   },
   {
    "duration": 7,
    "start_time": "2022-01-28T21:01:21.899Z"
   },
   {
    "duration": 65,
    "start_time": "2022-01-28T21:01:21.907Z"
   },
   {
    "duration": 5,
    "start_time": "2022-01-28T21:01:21.974Z"
   },
   {
    "duration": 23,
    "start_time": "2022-01-28T21:01:21.980Z"
   },
   {
    "duration": 158,
    "start_time": "2022-01-28T21:01:22.006Z"
   },
   {
    "duration": 10,
    "start_time": "2022-01-28T21:01:22.166Z"
   },
   {
    "duration": 38,
    "start_time": "2022-01-28T21:01:22.178Z"
   },
   {
    "duration": 51,
    "start_time": "2022-01-28T21:01:22.218Z"
   },
   {
    "duration": 29,
    "start_time": "2022-01-28T21:01:22.270Z"
   },
   {
    "duration": 18,
    "start_time": "2022-01-28T21:01:22.301Z"
   },
   {
    "duration": 31,
    "start_time": "2022-01-28T21:01:22.321Z"
   },
   {
    "duration": 9,
    "start_time": "2022-01-28T21:01:22.354Z"
   },
   {
    "duration": 49,
    "start_time": "2022-01-28T21:01:22.365Z"
   },
   {
    "duration": 24,
    "start_time": "2022-01-28T21:01:22.416Z"
   },
   {
    "duration": 3,
    "start_time": "2022-01-28T21:01:22.442Z"
   },
   {
    "duration": 7,
    "start_time": "2022-01-28T21:01:22.447Z"
   },
   {
    "duration": 48,
    "start_time": "2022-01-28T21:01:22.455Z"
   },
   {
    "duration": 19,
    "start_time": "2022-01-28T21:01:22.505Z"
   },
   {
    "duration": 22,
    "start_time": "2022-01-28T21:01:22.526Z"
   },
   {
    "duration": 8,
    "start_time": "2022-01-28T21:01:22.549Z"
   },
   {
    "duration": 8,
    "start_time": "2022-01-28T21:01:22.558Z"
   },
   {
    "duration": 43,
    "start_time": "2022-01-28T21:01:22.567Z"
   },
   {
    "duration": 14,
    "start_time": "2022-01-28T21:01:22.611Z"
   },
   {
    "duration": 13,
    "start_time": "2022-01-28T21:01:22.626Z"
   },
   {
    "duration": 12,
    "start_time": "2022-01-28T21:01:25.823Z"
   },
   {
    "duration": 5,
    "start_time": "2022-01-28T21:03:25.454Z"
   },
   {
    "duration": 3,
    "start_time": "2022-01-28T21:04:07.202Z"
   },
   {
    "duration": 410,
    "start_time": "2022-01-28T21:04:07.207Z"
   },
   {
    "duration": 26,
    "start_time": "2022-01-28T21:04:07.620Z"
   },
   {
    "duration": 22,
    "start_time": "2022-01-28T21:04:07.648Z"
   },
   {
    "duration": 22,
    "start_time": "2022-01-28T21:04:07.671Z"
   },
   {
    "duration": 10,
    "start_time": "2022-01-28T21:04:07.699Z"
   },
   {
    "duration": 14,
    "start_time": "2022-01-28T21:04:07.711Z"
   },
   {
    "duration": 18,
    "start_time": "2022-01-28T21:04:07.727Z"
   },
   {
    "duration": 7,
    "start_time": "2022-01-28T21:04:07.747Z"
   },
   {
    "duration": 7,
    "start_time": "2022-01-28T21:04:07.755Z"
   },
   {
    "duration": 39,
    "start_time": "2022-01-28T21:04:07.763Z"
   },
   {
    "duration": 4,
    "start_time": "2022-01-28T21:04:07.803Z"
   },
   {
    "duration": 32,
    "start_time": "2022-01-28T21:04:07.810Z"
   },
   {
    "duration": 6,
    "start_time": "2022-01-28T21:04:07.844Z"
   },
   {
    "duration": 48,
    "start_time": "2022-01-28T21:04:07.852Z"
   },
   {
    "duration": 5,
    "start_time": "2022-01-28T21:04:07.902Z"
   },
   {
    "duration": 30,
    "start_time": "2022-01-28T21:04:07.910Z"
   },
   {
    "duration": 6,
    "start_time": "2022-01-28T21:04:07.942Z"
   },
   {
    "duration": 7,
    "start_time": "2022-01-28T21:04:07.952Z"
   },
   {
    "duration": 100,
    "start_time": "2022-01-28T21:04:07.961Z"
   },
   {
    "duration": 5,
    "start_time": "2022-01-28T21:04:08.063Z"
   },
   {
    "duration": 29,
    "start_time": "2022-01-28T21:04:08.070Z"
   },
   {
    "duration": 152,
    "start_time": "2022-01-28T21:04:08.101Z"
   },
   {
    "duration": 10,
    "start_time": "2022-01-28T21:04:08.254Z"
   },
   {
    "duration": 38,
    "start_time": "2022-01-28T21:04:08.266Z"
   },
   {
    "duration": 50,
    "start_time": "2022-01-28T21:04:08.306Z"
   },
   {
    "duration": 8,
    "start_time": "2022-01-28T21:04:08.357Z"
   },
   {
    "duration": 39,
    "start_time": "2022-01-28T21:04:08.367Z"
   },
   {
    "duration": 31,
    "start_time": "2022-01-28T21:04:08.407Z"
   },
   {
    "duration": 13,
    "start_time": "2022-01-28T21:04:08.440Z"
   },
   {
    "duration": 44,
    "start_time": "2022-01-28T21:04:08.455Z"
   },
   {
    "duration": 24,
    "start_time": "2022-01-28T21:04:08.501Z"
   },
   {
    "duration": 3,
    "start_time": "2022-01-28T21:04:08.527Z"
   },
   {
    "duration": 6,
    "start_time": "2022-01-28T21:04:08.532Z"
   },
   {
    "duration": 12,
    "start_time": "2022-01-28T21:04:08.540Z"
   },
   {
    "duration": 8,
    "start_time": "2022-01-28T21:04:08.553Z"
   },
   {
    "duration": 50,
    "start_time": "2022-01-28T21:04:08.563Z"
   },
   {
    "duration": 8,
    "start_time": "2022-01-28T21:04:08.615Z"
   },
   {
    "duration": 7,
    "start_time": "2022-01-28T21:04:08.625Z"
   },
   {
    "duration": 14,
    "start_time": "2022-01-28T21:04:08.634Z"
   },
   {
    "duration": 11,
    "start_time": "2022-01-28T21:04:17.272Z"
   },
   {
    "duration": 13,
    "start_time": "2022-01-28T21:05:26.028Z"
   },
   {
    "duration": 12,
    "start_time": "2022-01-28T21:05:26.961Z"
   },
   {
    "duration": 12,
    "start_time": "2022-01-28T21:05:28.443Z"
   },
   {
    "duration": 14,
    "start_time": "2022-01-28T21:05:54.156Z"
   },
   {
    "duration": 17,
    "start_time": "2022-01-28T21:05:57.706Z"
   },
   {
    "duration": 8,
    "start_time": "2022-01-28T21:06:32.310Z"
   },
   {
    "duration": 18,
    "start_time": "2022-01-28T21:11:15.401Z"
   },
   {
    "duration": 19,
    "start_time": "2022-01-28T21:11:16.321Z"
   },
   {
    "duration": 13,
    "start_time": "2022-01-28T21:16:46.344Z"
   },
   {
    "duration": 20,
    "start_time": "2022-01-28T21:16:47.679Z"
   },
   {
    "duration": 9,
    "start_time": "2022-01-28T21:20:55.657Z"
   },
   {
    "duration": 19,
    "start_time": "2022-01-28T21:21:57.289Z"
   },
   {
    "duration": 21,
    "start_time": "2022-01-28T21:22:30.478Z"
   },
   {
    "duration": 9,
    "start_time": "2022-01-28T21:22:44.704Z"
   },
   {
    "duration": 8,
    "start_time": "2022-01-28T21:23:02.186Z"
   },
   {
    "duration": 4,
    "start_time": "2022-01-28T21:23:49.809Z"
   },
   {
    "duration": 7,
    "start_time": "2022-01-28T21:24:16.116Z"
   },
   {
    "duration": 6,
    "start_time": "2022-01-28T21:25:47.122Z"
   },
   {
    "duration": 6,
    "start_time": "2022-01-28T21:27:50.213Z"
   },
   {
    "duration": 6,
    "start_time": "2022-01-28T21:28:15.039Z"
   },
   {
    "duration": 9,
    "start_time": "2022-01-28T21:29:04.460Z"
   },
   {
    "duration": 1132,
    "start_time": "2022-01-29T13:06:12.347Z"
   },
   {
    "duration": 337,
    "start_time": "2022-01-29T13:06:13.481Z"
   },
   {
    "duration": 27,
    "start_time": "2022-01-29T13:06:13.820Z"
   },
   {
    "duration": 19,
    "start_time": "2022-01-29T13:06:13.849Z"
   },
   {
    "duration": 16,
    "start_time": "2022-01-29T13:06:13.869Z"
   },
   {
    "duration": 9,
    "start_time": "2022-01-29T13:06:13.886Z"
   },
   {
    "duration": 40,
    "start_time": "2022-01-29T13:06:13.896Z"
   },
   {
    "duration": 15,
    "start_time": "2022-01-29T13:06:13.938Z"
   },
   {
    "duration": 3,
    "start_time": "2022-01-29T13:06:13.954Z"
   },
   {
    "duration": 7,
    "start_time": "2022-01-29T13:06:13.959Z"
   },
   {
    "duration": 5,
    "start_time": "2022-01-29T13:06:13.967Z"
   },
   {
    "duration": 4,
    "start_time": "2022-01-29T13:06:13.973Z"
   },
   {
    "duration": 57,
    "start_time": "2022-01-29T13:06:13.979Z"
   },
   {
    "duration": 4,
    "start_time": "2022-01-29T13:06:14.037Z"
   },
   {
    "duration": 22,
    "start_time": "2022-01-29T13:06:14.043Z"
   },
   {
    "duration": 3,
    "start_time": "2022-01-29T13:06:14.066Z"
   },
   {
    "duration": 27,
    "start_time": "2022-01-29T13:06:14.071Z"
   },
   {
    "duration": 3,
    "start_time": "2022-01-29T13:06:14.100Z"
   },
   {
    "duration": 6,
    "start_time": "2022-01-29T13:06:14.127Z"
   },
   {
    "duration": 63,
    "start_time": "2022-01-29T13:06:14.135Z"
   },
   {
    "duration": 4,
    "start_time": "2022-01-29T13:06:14.200Z"
   },
   {
    "duration": 22,
    "start_time": "2022-01-29T13:06:14.205Z"
   },
   {
    "duration": 135,
    "start_time": "2022-01-29T13:06:14.230Z"
   },
   {
    "duration": 10,
    "start_time": "2022-01-29T13:06:14.366Z"
   },
   {
    "duration": 21,
    "start_time": "2022-01-29T13:06:14.377Z"
   },
   {
    "duration": 68,
    "start_time": "2022-01-29T13:06:14.400Z"
   },
   {
    "duration": 8,
    "start_time": "2022-01-29T13:06:14.469Z"
   },
   {
    "duration": 15,
    "start_time": "2022-01-29T13:06:14.478Z"
   },
   {
    "duration": 47,
    "start_time": "2022-01-29T13:06:14.494Z"
   },
   {
    "duration": 8,
    "start_time": "2022-01-29T13:06:14.542Z"
   },
   {
    "duration": 17,
    "start_time": "2022-01-29T13:06:14.552Z"
   },
   {
    "duration": 25,
    "start_time": "2022-01-29T13:06:14.570Z"
   },
   {
    "duration": 3,
    "start_time": "2022-01-29T13:06:14.596Z"
   },
   {
    "duration": 29,
    "start_time": "2022-01-29T13:06:14.600Z"
   },
   {
    "duration": 8,
    "start_time": "2022-01-29T13:06:14.630Z"
   },
   {
    "duration": 7,
    "start_time": "2022-01-29T13:06:14.640Z"
   },
   {
    "duration": 17,
    "start_time": "2022-01-29T13:06:20.192Z"
   },
   {
    "duration": 7,
    "start_time": "2022-01-29T13:06:38.552Z"
   },
   {
    "duration": 12,
    "start_time": "2022-01-29T13:06:59.578Z"
   },
   {
    "duration": 10,
    "start_time": "2022-01-29T13:12:39.735Z"
   },
   {
    "duration": 151,
    "start_time": "2022-01-29T13:12:40.556Z"
   },
   {
    "duration": 11,
    "start_time": "2022-01-29T13:13:13.757Z"
   },
   {
    "duration": 15,
    "start_time": "2022-01-29T13:13:54.138Z"
   },
   {
    "duration": 9,
    "start_time": "2022-01-29T13:14:09.068Z"
   },
   {
    "duration": 9,
    "start_time": "2022-01-29T13:14:11.361Z"
   },
   {
    "duration": 18,
    "start_time": "2022-01-29T13:24:36.195Z"
   },
   {
    "duration": 10,
    "start_time": "2022-01-29T13:25:12.308Z"
   },
   {
    "duration": 21,
    "start_time": "2022-01-29T13:25:16.925Z"
   },
   {
    "duration": 7,
    "start_time": "2022-01-29T13:37:11.952Z"
   },
   {
    "duration": 8,
    "start_time": "2022-01-29T13:38:49.219Z"
   },
   {
    "duration": 170,
    "start_time": "2022-01-29T13:44:55.698Z"
   },
   {
    "duration": 214,
    "start_time": "2022-01-29T13:46:18.122Z"
   },
   {
    "duration": 333,
    "start_time": "2022-01-29T13:47:39.147Z"
   },
   {
    "duration": 288,
    "start_time": "2022-01-29T13:48:12.551Z"
   },
   {
    "duration": 502,
    "start_time": "2022-01-29T13:48:33.363Z"
   },
   {
    "duration": 223,
    "start_time": "2022-01-29T13:51:23.938Z"
   },
   {
    "duration": 291,
    "start_time": "2022-01-29T13:52:03.536Z"
   },
   {
    "duration": 355,
    "start_time": "2022-01-29T13:55:31.557Z"
   },
   {
    "duration": 302,
    "start_time": "2022-01-29T13:57:30.667Z"
   },
   {
    "duration": 326,
    "start_time": "2022-01-29T14:03:53.293Z"
   },
   {
    "duration": 291,
    "start_time": "2022-01-29T14:04:12.042Z"
   },
   {
    "duration": 347,
    "start_time": "2022-01-29T14:12:41.364Z"
   },
   {
    "duration": 354,
    "start_time": "2022-01-29T14:13:06.322Z"
   },
   {
    "duration": 726,
    "start_time": "2022-01-29T14:15:07.815Z"
   },
   {
    "duration": 346,
    "start_time": "2022-01-29T14:16:38.036Z"
   },
   {
    "duration": 612,
    "start_time": "2022-01-29T14:18:15.335Z"
   },
   {
    "duration": 652,
    "start_time": "2022-01-29T14:19:16.927Z"
   },
   {
    "duration": 418,
    "start_time": "2022-01-29T14:19:32.200Z"
   },
   {
    "duration": 348,
    "start_time": "2022-01-29T14:21:58.610Z"
   },
   {
    "duration": 492,
    "start_time": "2022-01-29T14:23:35.365Z"
   },
   {
    "duration": 371,
    "start_time": "2022-01-29T14:25:13.568Z"
   },
   {
    "duration": 8,
    "start_time": "2022-01-29T14:32:39.051Z"
   },
   {
    "duration": 17,
    "start_time": "2022-01-29T14:33:10.227Z"
   },
   {
    "duration": 453,
    "start_time": "2022-01-29T14:34:13.259Z"
   },
   {
    "duration": 721,
    "start_time": "2022-01-29T14:34:30.533Z"
   },
   {
    "duration": 361,
    "start_time": "2022-01-29T14:34:53.576Z"
   },
   {
    "duration": 364,
    "start_time": "2022-01-29T14:35:06.353Z"
   },
   {
    "duration": 25,
    "start_time": "2022-01-29T14:36:00.923Z"
   },
   {
    "duration": 25,
    "start_time": "2022-01-29T14:36:20.529Z"
   },
   {
    "duration": 25,
    "start_time": "2022-01-29T14:36:36.169Z"
   },
   {
    "duration": 386,
    "start_time": "2022-01-29T14:52:57.568Z"
   },
   {
    "duration": 370,
    "start_time": "2022-01-29T14:55:48.172Z"
   },
   {
    "duration": 18,
    "start_time": "2022-01-29T15:00:19.437Z"
   },
   {
    "duration": 8,
    "start_time": "2022-01-29T15:01:19.560Z"
   },
   {
    "duration": 372,
    "start_time": "2022-01-29T15:01:53.433Z"
   },
   {
    "duration": 352,
    "start_time": "2022-01-29T15:03:52.096Z"
   },
   {
    "duration": 451,
    "start_time": "2022-01-29T15:08:41.021Z"
   },
   {
    "duration": 361,
    "start_time": "2022-01-29T15:09:36.717Z"
   },
   {
    "duration": 483,
    "start_time": "2022-01-29T15:09:51.951Z"
   },
   {
    "duration": 369,
    "start_time": "2022-01-29T15:10:14.828Z"
   },
   {
    "duration": 364,
    "start_time": "2022-01-29T15:10:23.728Z"
   },
   {
    "duration": 642,
    "start_time": "2022-01-29T15:11:18.365Z"
   },
   {
    "duration": 730,
    "start_time": "2022-01-29T15:12:22.293Z"
   },
   {
    "duration": 390,
    "start_time": "2022-01-29T15:12:35.664Z"
   },
   {
    "duration": 357,
    "start_time": "2022-01-29T15:13:19.122Z"
   },
   {
    "duration": 356,
    "start_time": "2022-01-29T15:13:26.569Z"
   },
   {
    "duration": 361,
    "start_time": "2022-01-29T15:13:37.892Z"
   },
   {
    "duration": 644,
    "start_time": "2022-01-29T15:14:32.437Z"
   },
   {
    "duration": 418,
    "start_time": "2022-01-29T15:14:42.347Z"
   },
   {
    "duration": 625,
    "start_time": "2022-01-29T15:14:51.151Z"
   },
   {
    "duration": 357,
    "start_time": "2022-01-29T15:15:22.112Z"
   },
   {
    "duration": 375,
    "start_time": "2022-01-29T15:15:54.585Z"
   },
   {
    "duration": 399,
    "start_time": "2022-01-29T15:16:18.235Z"
   },
   {
    "duration": 5,
    "start_time": "2022-01-29T15:25:11.666Z"
   },
   {
    "duration": 4,
    "start_time": "2022-01-29T15:31:09.457Z"
   },
   {
    "duration": 4,
    "start_time": "2022-01-29T15:31:59.380Z"
   },
   {
    "duration": 4,
    "start_time": "2022-01-29T15:32:32.123Z"
   },
   {
    "duration": 5,
    "start_time": "2022-01-29T15:47:29.159Z"
   },
   {
    "duration": 5,
    "start_time": "2022-01-29T17:24:36.597Z"
   },
   {
    "duration": 446,
    "start_time": "2022-01-29T17:33:45.455Z"
   },
   {
    "duration": 452,
    "start_time": "2022-01-29T17:34:17.580Z"
   },
   {
    "duration": 367,
    "start_time": "2022-01-29T17:34:31.350Z"
   },
   {
    "duration": 4,
    "start_time": "2022-01-29T17:36:44.219Z"
   },
   {
    "duration": 4,
    "start_time": "2022-01-29T17:36:46.742Z"
   },
   {
    "duration": 6,
    "start_time": "2022-01-29T17:36:54.406Z"
   },
   {
    "duration": 4,
    "start_time": "2022-01-29T17:41:27.852Z"
   },
   {
    "duration": 3,
    "start_time": "2022-01-29T17:41:43.004Z"
   },
   {
    "duration": 3,
    "start_time": "2022-01-29T17:44:05.252Z"
   },
   {
    "duration": 3,
    "start_time": "2022-01-29T17:44:15.146Z"
   },
   {
    "duration": 3,
    "start_time": "2022-01-29T17:44:22.117Z"
   },
   {
    "duration": 5,
    "start_time": "2022-01-29T17:44:30.103Z"
   },
   {
    "duration": 3,
    "start_time": "2022-01-29T17:45:26.278Z"
   },
   {
    "duration": 3,
    "start_time": "2022-01-29T17:46:05.853Z"
   },
   {
    "duration": 3,
    "start_time": "2022-01-29T17:46:24.391Z"
   },
   {
    "duration": 6,
    "start_time": "2022-01-29T17:47:03.454Z"
   },
   {
    "duration": 4,
    "start_time": "2022-01-29T18:01:51.557Z"
   },
   {
    "duration": 5,
    "start_time": "2022-01-29T18:01:54.251Z"
   },
   {
    "duration": 3,
    "start_time": "2022-01-29T18:02:08.472Z"
   },
   {
    "duration": 5,
    "start_time": "2022-01-29T18:02:11.337Z"
   },
   {
    "duration": 10,
    "start_time": "2022-01-29T18:14:42.771Z"
   },
   {
    "duration": 8,
    "start_time": "2022-01-29T18:16:10.564Z"
   },
   {
    "duration": 398,
    "start_time": "2022-01-29T18:17:22.809Z"
   },
   {
    "duration": 392,
    "start_time": "2022-01-29T18:17:44.565Z"
   },
   {
    "duration": 5,
    "start_time": "2022-01-29T18:25:44.966Z"
   },
   {
    "duration": 4,
    "start_time": "2022-01-29T18:25:47.848Z"
   },
   {
    "duration": 4,
    "start_time": "2022-01-29T18:37:01.494Z"
   },
   {
    "duration": 4,
    "start_time": "2022-01-29T18:37:10.039Z"
   },
   {
    "duration": 5,
    "start_time": "2022-01-29T18:53:36.334Z"
   },
   {
    "duration": 5,
    "start_time": "2022-01-29T18:53:45.438Z"
   },
   {
    "duration": 8,
    "start_time": "2022-01-29T19:02:06.732Z"
   },
   {
    "duration": 10,
    "start_time": "2022-01-29T19:02:24.129Z"
   },
   {
    "duration": 328,
    "start_time": "2022-01-29T19:11:03.153Z"
   },
   {
    "duration": 307,
    "start_time": "2022-01-29T19:11:24.749Z"
   },
   {
    "duration": 250,
    "start_time": "2022-01-29T19:12:13.138Z"
   },
   {
    "duration": 228,
    "start_time": "2022-01-29T19:12:40.727Z"
   },
   {
    "duration": 257,
    "start_time": "2022-01-29T19:12:50.376Z"
   },
   {
    "duration": 314,
    "start_time": "2022-01-29T19:13:12.584Z"
   },
   {
    "duration": 232,
    "start_time": "2022-01-29T19:13:49.798Z"
   },
   {
    "duration": 296,
    "start_time": "2022-01-29T19:13:58.445Z"
   },
   {
    "duration": 103,
    "start_time": "2022-01-29T19:23:01.931Z"
   },
   {
    "duration": 174,
    "start_time": "2022-01-29T19:23:22.829Z"
   },
   {
    "duration": 124,
    "start_time": "2022-01-29T19:23:35.268Z"
   },
   {
    "duration": 117,
    "start_time": "2022-01-29T19:24:00.105Z"
   },
   {
    "duration": 8,
    "start_time": "2022-01-29T19:26:24.731Z"
   },
   {
    "duration": 8,
    "start_time": "2022-01-29T19:27:57.009Z"
   },
   {
    "duration": 18,
    "start_time": "2022-01-29T19:33:11.432Z"
   },
   {
    "duration": 12,
    "start_time": "2022-01-29T19:33:32.205Z"
   },
   {
    "duration": 14,
    "start_time": "2022-01-29T19:33:45.959Z"
   },
   {
    "duration": 12,
    "start_time": "2022-01-29T19:34:10.823Z"
   },
   {
    "duration": 13,
    "start_time": "2022-01-29T19:34:18.103Z"
   },
   {
    "duration": 16,
    "start_time": "2022-01-29T19:55:01.498Z"
   },
   {
    "duration": 19,
    "start_time": "2022-01-29T19:57:12.370Z"
   },
   {
    "duration": 362,
    "start_time": "2022-01-29T20:12:57.617Z"
   },
   {
    "duration": 414,
    "start_time": "2022-01-29T20:13:10.247Z"
   },
   {
    "duration": 356,
    "start_time": "2022-01-29T20:14:39.591Z"
   },
   {
    "duration": 296,
    "start_time": "2022-01-29T20:16:17.371Z"
   },
   {
    "duration": 355,
    "start_time": "2022-01-29T20:16:26.752Z"
   },
   {
    "duration": 15,
    "start_time": "2022-01-29T20:19:37.183Z"
   },
   {
    "duration": 333,
    "start_time": "2022-01-29T20:24:41.282Z"
   },
   {
    "duration": 238,
    "start_time": "2022-01-29T20:25:17.720Z"
   },
   {
    "duration": 230,
    "start_time": "2022-01-29T20:25:36.991Z"
   },
   {
    "duration": 1426,
    "start_time": "2022-01-30T12:22:22.088Z"
   },
   {
    "duration": 507,
    "start_time": "2022-01-30T12:22:23.516Z"
   },
   {
    "duration": 43,
    "start_time": "2022-01-30T12:22:24.025Z"
   },
   {
    "duration": 32,
    "start_time": "2022-01-30T12:22:24.070Z"
   },
   {
    "duration": 27,
    "start_time": "2022-01-30T12:22:24.132Z"
   },
   {
    "duration": 23,
    "start_time": "2022-01-30T12:22:27.216Z"
   },
   {
    "duration": 20,
    "start_time": "2022-01-30T12:22:37.420Z"
   },
   {
    "duration": 488,
    "start_time": "2022-01-30T12:44:21.643Z"
   },
   {
    "duration": 4,
    "start_time": "2022-01-30T12:44:26.673Z"
   },
   {
    "duration": 555,
    "start_time": "2022-01-30T12:44:26.680Z"
   },
   {
    "duration": 56,
    "start_time": "2022-01-30T12:44:27.238Z"
   },
   {
    "duration": 68,
    "start_time": "2022-01-30T12:44:27.298Z"
   },
   {
    "duration": 26,
    "start_time": "2022-01-30T12:44:27.369Z"
   },
   {
    "duration": 42,
    "start_time": "2022-01-30T12:44:27.397Z"
   },
   {
    "duration": 20,
    "start_time": "2022-01-30T12:44:27.445Z"
   },
   {
    "duration": 76,
    "start_time": "2022-01-30T12:44:27.469Z"
   },
   {
    "duration": 6,
    "start_time": "2022-01-30T12:44:27.549Z"
   },
   {
    "duration": 25,
    "start_time": "2022-01-30T12:44:27.558Z"
   },
   {
    "duration": 10,
    "start_time": "2022-01-30T12:44:27.586Z"
   },
   {
    "duration": 35,
    "start_time": "2022-01-30T12:44:27.599Z"
   },
   {
    "duration": 44,
    "start_time": "2022-01-30T12:44:27.637Z"
   },
   {
    "duration": 9,
    "start_time": "2022-01-30T12:44:27.684Z"
   },
   {
    "duration": 58,
    "start_time": "2022-01-30T12:44:27.696Z"
   },
   {
    "duration": 11,
    "start_time": "2022-01-30T12:44:27.756Z"
   },
   {
    "duration": 83,
    "start_time": "2022-01-30T12:44:27.770Z"
   },
   {
    "duration": 6,
    "start_time": "2022-01-30T12:44:27.856Z"
   },
   {
    "duration": 26,
    "start_time": "2022-01-30T12:44:27.866Z"
   },
   {
    "duration": 113,
    "start_time": "2022-01-30T12:44:27.896Z"
   },
   {
    "duration": 6,
    "start_time": "2022-01-30T12:44:28.012Z"
   },
   {
    "duration": 31,
    "start_time": "2022-01-30T12:44:28.021Z"
   },
   {
    "duration": 330,
    "start_time": "2022-01-30T12:44:28.054Z"
   },
   {
    "duration": 23,
    "start_time": "2022-01-30T12:44:28.387Z"
   },
   {
    "duration": 61,
    "start_time": "2022-01-30T12:44:28.412Z"
   },
   {
    "duration": 135,
    "start_time": "2022-01-30T12:44:28.476Z"
   },
   {
    "duration": 21,
    "start_time": "2022-01-30T12:44:28.613Z"
   },
   {
    "duration": 24,
    "start_time": "2022-01-30T12:44:28.637Z"
   },
   {
    "duration": 88,
    "start_time": "2022-01-30T12:44:28.664Z"
   },
   {
    "duration": 18,
    "start_time": "2022-01-30T12:44:28.754Z"
   },
   {
    "duration": 36,
    "start_time": "2022-01-30T12:44:28.775Z"
   },
   {
    "duration": 57,
    "start_time": "2022-01-30T12:44:28.833Z"
   },
   {
    "duration": 5,
    "start_time": "2022-01-30T12:44:28.893Z"
   },
   {
    "duration": 30,
    "start_time": "2022-01-30T12:44:28.902Z"
   },
   {
    "duration": 18,
    "start_time": "2022-01-30T12:44:28.936Z"
   },
   {
    "duration": 20,
    "start_time": "2022-01-30T12:44:28.957Z"
   },
   {
    "duration": 58,
    "start_time": "2022-01-30T12:44:28.980Z"
   },
   {
    "duration": 11,
    "start_time": "2022-01-30T12:44:29.041Z"
   },
   {
    "duration": 23,
    "start_time": "2022-01-30T12:44:29.054Z"
   },
   {
    "duration": 17,
    "start_time": "2022-01-30T12:44:29.080Z"
   },
   {
    "duration": 18,
    "start_time": "2022-01-30T12:44:29.133Z"
   },
   {
    "duration": 19,
    "start_time": "2022-01-30T12:44:29.154Z"
   },
   {
    "duration": 13,
    "start_time": "2022-01-30T12:44:29.176Z"
   },
   {
    "duration": 60,
    "start_time": "2022-01-30T12:44:29.192Z"
   },
   {
    "duration": 32,
    "start_time": "2022-01-30T12:44:29.254Z"
   },
   {
    "duration": 44,
    "start_time": "2022-01-30T12:44:29.289Z"
   },
   {
    "duration": 34,
    "start_time": "2022-01-30T12:44:29.336Z"
   },
   {
    "duration": 10,
    "start_time": "2022-01-30T12:44:32.115Z"
   },
   {
    "duration": 29,
    "start_time": "2022-01-30T12:51:26.212Z"
   },
   {
    "duration": 9,
    "start_time": "2022-01-30T12:58:38.899Z"
   },
   {
    "duration": 20,
    "start_time": "2022-01-30T12:59:14.142Z"
   },
   {
    "duration": 23,
    "start_time": "2022-01-30T12:59:41.004Z"
   },
   {
    "duration": 23,
    "start_time": "2022-01-30T13:00:32.684Z"
   },
   {
    "duration": 302,
    "start_time": "2022-01-30T13:04:13.556Z"
   },
   {
    "duration": 319,
    "start_time": "2022-01-30T13:04:19.487Z"
   },
   {
    "duration": 7,
    "start_time": "2022-01-30T13:08:43.042Z"
   },
   {
    "duration": 707,
    "start_time": "2022-01-30T13:09:46.553Z"
   },
   {
    "duration": 10,
    "start_time": "2022-01-30T13:13:47.680Z"
   },
   {
    "duration": 32,
    "start_time": "2022-01-30T13:13:48.438Z"
   },
   {
    "duration": 444,
    "start_time": "2022-01-30T13:15:29.643Z"
   },
   {
    "duration": 409,
    "start_time": "2022-01-30T13:15:51.677Z"
   },
   {
    "duration": 304,
    "start_time": "2022-01-30T13:39:16.261Z"
   },
   {
    "duration": 21,
    "start_time": "2022-01-30T13:39:24.056Z"
   },
   {
    "duration": 13,
    "start_time": "2022-01-30T13:41:52.626Z"
   },
   {
    "duration": 12,
    "start_time": "2022-01-30T13:42:06.648Z"
   },
   {
    "duration": 6,
    "start_time": "2022-01-30T13:44:14.768Z"
   },
   {
    "duration": 7,
    "start_time": "2022-01-30T13:44:17.990Z"
   },
   {
    "duration": 9,
    "start_time": "2022-01-30T13:45:30.699Z"
   },
   {
    "duration": 25,
    "start_time": "2022-01-30T13:45:37.651Z"
   },
   {
    "duration": 21,
    "start_time": "2022-01-30T13:45:52.336Z"
   },
   {
    "duration": 16,
    "start_time": "2022-01-30T13:46:13.798Z"
   },
   {
    "duration": 76,
    "start_time": "2022-01-30T13:46:23.295Z"
   },
   {
    "duration": 12,
    "start_time": "2022-01-30T13:46:56.511Z"
   },
   {
    "duration": 7,
    "start_time": "2022-01-30T13:50:05.045Z"
   },
   {
    "duration": 5,
    "start_time": "2022-01-30T13:50:17.593Z"
   },
   {
    "duration": 6,
    "start_time": "2022-01-30T13:51:05.658Z"
   },
   {
    "duration": 6,
    "start_time": "2022-01-30T13:51:55.066Z"
   },
   {
    "duration": 5,
    "start_time": "2022-01-30T13:52:49.800Z"
   },
   {
    "duration": 5,
    "start_time": "2022-01-30T13:53:00.308Z"
   },
   {
    "duration": 789,
    "start_time": "2022-01-30T13:53:00.322Z"
   },
   {
    "duration": 37,
    "start_time": "2022-01-30T13:53:01.114Z"
   },
   {
    "duration": 35,
    "start_time": "2022-01-30T13:53:01.154Z"
   },
   {
    "duration": 67,
    "start_time": "2022-01-30T13:53:01.192Z"
   },
   {
    "duration": 25,
    "start_time": "2022-01-30T13:53:01.264Z"
   },
   {
    "duration": 55,
    "start_time": "2022-01-30T13:53:01.292Z"
   },
   {
    "duration": 46,
    "start_time": "2022-01-30T13:53:01.350Z"
   },
   {
    "duration": 5,
    "start_time": "2022-01-30T13:53:01.401Z"
   },
   {
    "duration": 44,
    "start_time": "2022-01-30T13:53:01.410Z"
   },
   {
    "duration": 64,
    "start_time": "2022-01-30T13:53:01.457Z"
   },
   {
    "duration": 24,
    "start_time": "2022-01-30T13:53:01.523Z"
   },
   {
    "duration": 63,
    "start_time": "2022-01-30T13:53:01.550Z"
   },
   {
    "duration": 6,
    "start_time": "2022-01-30T13:53:01.616Z"
   },
   {
    "duration": 30,
    "start_time": "2022-01-30T13:53:01.631Z"
   },
   {
    "duration": 5,
    "start_time": "2022-01-30T13:53:01.663Z"
   },
   {
    "duration": 63,
    "start_time": "2022-01-30T13:53:01.670Z"
   },
   {
    "duration": 6,
    "start_time": "2022-01-30T13:53:01.735Z"
   },
   {
    "duration": 19,
    "start_time": "2022-01-30T13:53:01.743Z"
   },
   {
    "duration": 111,
    "start_time": "2022-01-30T13:53:01.764Z"
   },
   {
    "duration": 6,
    "start_time": "2022-01-30T13:53:01.878Z"
   },
   {
    "duration": 12,
    "start_time": "2022-01-30T13:53:01.893Z"
   },
   {
    "duration": 237,
    "start_time": "2022-01-30T13:53:01.907Z"
   },
   {
    "duration": 14,
    "start_time": "2022-01-30T13:53:02.147Z"
   },
   {
    "duration": 37,
    "start_time": "2022-01-30T13:53:02.164Z"
   },
   {
    "duration": 93,
    "start_time": "2022-01-30T13:53:02.203Z"
   },
   {
    "duration": 12,
    "start_time": "2022-01-30T13:53:02.298Z"
   },
   {
    "duration": 26,
    "start_time": "2022-01-30T13:53:02.334Z"
   },
   {
    "duration": 70,
    "start_time": "2022-01-30T13:53:02.365Z"
   },
   {
    "duration": 16,
    "start_time": "2022-01-30T13:53:02.439Z"
   },
   {
    "duration": 28,
    "start_time": "2022-01-30T13:53:02.457Z"
   },
   {
    "duration": 65,
    "start_time": "2022-01-30T13:53:02.487Z"
   },
   {
    "duration": 4,
    "start_time": "2022-01-30T13:53:02.554Z"
   },
   {
    "duration": 16,
    "start_time": "2022-01-30T13:53:02.560Z"
   },
   {
    "duration": 20,
    "start_time": "2022-01-30T13:53:02.578Z"
   },
   {
    "duration": 15,
    "start_time": "2022-01-30T13:53:02.600Z"
   },
   {
    "duration": 16,
    "start_time": "2022-01-30T13:53:02.617Z"
   },
   {
    "duration": 29,
    "start_time": "2022-01-30T13:54:34.682Z"
   },
   {
    "duration": 5,
    "start_time": "2022-01-30T13:55:04.731Z"
   },
   {
    "duration": 34,
    "start_time": "2022-01-30T13:55:30.682Z"
   },
   {
    "duration": 6,
    "start_time": "2022-01-30T13:55:31.465Z"
   },
   {
    "duration": 36,
    "start_time": "2022-01-30T13:59:26.281Z"
   },
   {
    "duration": 6,
    "start_time": "2022-01-30T13:59:27.028Z"
   },
   {
    "duration": 7,
    "start_time": "2022-01-30T14:00:42.068Z"
   },
   {
    "duration": 11,
    "start_time": "2022-01-30T14:00:42.759Z"
   },
   {
    "duration": 17,
    "start_time": "2022-01-30T14:00:49.800Z"
   },
   {
    "duration": 16,
    "start_time": "2022-01-30T14:00:57.993Z"
   },
   {
    "duration": 17,
    "start_time": "2022-01-30T14:00:59.338Z"
   },
   {
    "duration": 19,
    "start_time": "2022-01-30T14:01:00.152Z"
   },
   {
    "duration": 13,
    "start_time": "2022-01-30T14:01:06.796Z"
   },
   {
    "duration": 18,
    "start_time": "2022-01-30T14:01:07.512Z"
   },
   {
    "duration": 28,
    "start_time": "2022-01-30T14:01:11.503Z"
   },
   {
    "duration": 16,
    "start_time": "2022-01-30T14:01:12.685Z"
   },
   {
    "duration": 6,
    "start_time": "2022-01-30T14:01:17.581Z"
   },
   {
    "duration": 21,
    "start_time": "2022-01-30T14:01:27.099Z"
   },
   {
    "duration": 7,
    "start_time": "2022-01-30T14:01:32.126Z"
   },
   {
    "duration": 7,
    "start_time": "2022-01-30T14:01:58.337Z"
   },
   {
    "duration": 5,
    "start_time": "2022-01-30T14:01:59.510Z"
   },
   {
    "duration": 13,
    "start_time": "2022-01-30T14:02:01.370Z"
   },
   {
    "duration": 6,
    "start_time": "2022-01-30T14:03:13.506Z"
   },
   {
    "duration": 11,
    "start_time": "2022-01-30T14:03:15.175Z"
   },
   {
    "duration": 6,
    "start_time": "2022-01-30T14:03:26.153Z"
   },
   {
    "duration": 6,
    "start_time": "2022-01-30T14:07:46.920Z"
   },
   {
    "duration": 604,
    "start_time": "2022-01-30T14:08:11.304Z"
   },
   {
    "duration": 314,
    "start_time": "2022-01-30T14:09:46.630Z"
   },
   {
    "duration": 426,
    "start_time": "2022-01-30T14:10:19.624Z"
   },
   {
    "duration": 9,
    "start_time": "2022-01-30T14:10:39.630Z"
   },
   {
    "duration": 6,
    "start_time": "2022-01-30T14:11:10.301Z"
   },
   {
    "duration": 13,
    "start_time": "2022-01-30T14:11:17.663Z"
   },
   {
    "duration": 11,
    "start_time": "2022-01-30T14:12:26.205Z"
   },
   {
    "duration": 7,
    "start_time": "2022-01-30T14:13:23.944Z"
   },
   {
    "duration": 9,
    "start_time": "2022-01-30T14:13:31.521Z"
   },
   {
    "duration": 12,
    "start_time": "2022-01-30T14:13:58.192Z"
   },
   {
    "duration": 9,
    "start_time": "2022-01-30T14:14:25.563Z"
   },
   {
    "duration": 317,
    "start_time": "2022-01-30T14:15:27.288Z"
   },
   {
    "duration": 1035,
    "start_time": "2022-01-30T14:15:39.533Z"
   },
   {
    "duration": 4,
    "start_time": "2022-01-30T14:16:11.942Z"
   },
   {
    "duration": 544,
    "start_time": "2022-01-30T14:16:11.949Z"
   },
   {
    "duration": 35,
    "start_time": "2022-01-30T14:16:12.497Z"
   },
   {
    "duration": 32,
    "start_time": "2022-01-30T14:16:12.534Z"
   },
   {
    "duration": 25,
    "start_time": "2022-01-30T14:16:12.568Z"
   },
   {
    "duration": 47,
    "start_time": "2022-01-30T14:16:12.596Z"
   },
   {
    "duration": 23,
    "start_time": "2022-01-30T14:16:12.645Z"
   },
   {
    "duration": 26,
    "start_time": "2022-01-30T14:16:12.672Z"
   },
   {
    "duration": 7,
    "start_time": "2022-01-30T14:16:12.732Z"
   },
   {
    "duration": 24,
    "start_time": "2022-01-30T14:16:12.741Z"
   },
   {
    "duration": 10,
    "start_time": "2022-01-30T14:16:12.767Z"
   },
   {
    "duration": 11,
    "start_time": "2022-01-30T14:16:12.779Z"
   },
   {
    "duration": 59,
    "start_time": "2022-01-30T14:16:12.792Z"
   },
   {
    "duration": 6,
    "start_time": "2022-01-30T14:16:12.853Z"
   },
   {
    "duration": 26,
    "start_time": "2022-01-30T14:16:12.861Z"
   },
   {
    "duration": 5,
    "start_time": "2022-01-30T14:16:12.889Z"
   },
   {
    "duration": 68,
    "start_time": "2022-01-30T14:16:12.896Z"
   },
   {
    "duration": 6,
    "start_time": "2022-01-30T14:16:12.966Z"
   },
   {
    "duration": 12,
    "start_time": "2022-01-30T14:16:12.974Z"
   },
   {
    "duration": 109,
    "start_time": "2022-01-30T14:16:12.988Z"
   },
   {
    "duration": 5,
    "start_time": "2022-01-30T14:16:13.099Z"
   },
   {
    "duration": 31,
    "start_time": "2022-01-30T14:16:13.106Z"
   },
   {
    "duration": 208,
    "start_time": "2022-01-30T14:16:13.142Z"
   },
   {
    "duration": 13,
    "start_time": "2022-01-30T14:16:13.353Z"
   },
   {
    "duration": 38,
    "start_time": "2022-01-30T14:16:13.368Z"
   },
   {
    "duration": 88,
    "start_time": "2022-01-30T14:16:13.409Z"
   },
   {
    "duration": 12,
    "start_time": "2022-01-30T14:16:13.499Z"
   },
   {
    "duration": 24,
    "start_time": "2022-01-30T14:16:13.533Z"
   },
   {
    "duration": 41,
    "start_time": "2022-01-30T14:16:13.559Z"
   },
   {
    "duration": 37,
    "start_time": "2022-01-30T14:16:13.602Z"
   },
   {
    "duration": 27,
    "start_time": "2022-01-30T14:16:13.642Z"
   },
   {
    "duration": 62,
    "start_time": "2022-01-30T14:16:13.671Z"
   },
   {
    "duration": 4,
    "start_time": "2022-01-30T14:16:13.736Z"
   },
   {
    "duration": 8,
    "start_time": "2022-01-30T14:16:13.742Z"
   },
   {
    "duration": 14,
    "start_time": "2022-01-30T14:16:13.752Z"
   },
   {
    "duration": 12,
    "start_time": "2022-01-30T14:16:13.768Z"
   },
   {
    "duration": 73,
    "start_time": "2022-01-30T14:16:13.783Z"
   },
   {
    "duration": 4,
    "start_time": "2022-01-30T14:16:13.859Z"
   },
   {
    "duration": 13,
    "start_time": "2022-01-30T14:16:13.866Z"
   },
   {
    "duration": 18,
    "start_time": "2022-01-30T14:16:13.881Z"
   },
   {
    "duration": 45,
    "start_time": "2022-01-30T14:16:13.901Z"
   },
   {
    "duration": 17,
    "start_time": "2022-01-30T14:16:13.948Z"
   },
   {
    "duration": 17,
    "start_time": "2022-01-30T14:16:13.967Z"
   },
   {
    "duration": 14,
    "start_time": "2022-01-30T14:16:13.985Z"
   },
   {
    "duration": 20,
    "start_time": "2022-01-30T14:16:14.033Z"
   },
   {
    "duration": 27,
    "start_time": "2022-01-30T14:16:14.056Z"
   },
   {
    "duration": 15,
    "start_time": "2022-01-30T14:16:14.086Z"
   },
   {
    "duration": 17,
    "start_time": "2022-01-30T14:16:14.133Z"
   },
   {
    "duration": 6,
    "start_time": "2022-01-30T14:16:14.152Z"
   },
   {
    "duration": 19,
    "start_time": "2022-01-30T14:16:14.160Z"
   },
   {
    "duration": 10,
    "start_time": "2022-01-30T14:16:14.181Z"
   },
   {
    "duration": 12,
    "start_time": "2022-01-30T14:16:14.193Z"
   },
   {
    "duration": 6,
    "start_time": "2022-01-30T14:16:14.233Z"
   },
   {
    "duration": 1199,
    "start_time": "2022-01-30T14:16:20.870Z"
   },
   {
    "duration": 39,
    "start_time": "2022-01-30T14:17:44.972Z"
   },
   {
    "duration": 15,
    "start_time": "2022-01-30T14:19:11.295Z"
   },
   {
    "duration": 13,
    "start_time": "2022-01-30T14:19:46.732Z"
   },
   {
    "duration": 35,
    "start_time": "2022-01-30T14:22:12.059Z"
   },
   {
    "duration": 6,
    "start_time": "2022-01-30T14:22:14.285Z"
   },
   {
    "duration": 11,
    "start_time": "2022-01-30T14:22:19.147Z"
   },
   {
    "duration": 19,
    "start_time": "2022-01-30T14:22:20.065Z"
   },
   {
    "duration": 17,
    "start_time": "2022-01-30T14:22:21.043Z"
   },
   {
    "duration": 22,
    "start_time": "2022-01-30T14:22:21.976Z"
   },
   {
    "duration": 19,
    "start_time": "2022-01-30T14:22:22.256Z"
   },
   {
    "duration": 18,
    "start_time": "2022-01-30T14:22:23.035Z"
   },
   {
    "duration": 19,
    "start_time": "2022-01-30T14:22:23.575Z"
   },
   {
    "duration": 29,
    "start_time": "2022-01-30T14:22:25.691Z"
   },
   {
    "duration": 17,
    "start_time": "2022-01-30T14:22:26.188Z"
   },
   {
    "duration": 26,
    "start_time": "2022-01-30T14:22:28.140Z"
   },
   {
    "duration": 7,
    "start_time": "2022-01-30T14:22:31.110Z"
   },
   {
    "duration": 11,
    "start_time": "2022-01-30T14:22:32.280Z"
   },
   {
    "duration": 8,
    "start_time": "2022-01-30T14:22:49.741Z"
   },
   {
    "duration": 12,
    "start_time": "2022-01-30T14:22:50.320Z"
   },
   {
    "duration": 6,
    "start_time": "2022-01-30T14:22:51.473Z"
   },
   {
    "duration": 15,
    "start_time": "2022-01-30T14:23:05.513Z"
   },
   {
    "duration": 17,
    "start_time": "2022-01-30T14:23:06.845Z"
   },
   {
    "duration": 1096,
    "start_time": "2022-01-30T14:23:10.038Z"
   },
   {
    "duration": 36,
    "start_time": "2022-01-30T14:23:23.281Z"
   },
   {
    "duration": 9,
    "start_time": "2022-01-30T14:25:13.370Z"
   },
   {
    "duration": 38,
    "start_time": "2022-01-30T14:27:08.926Z"
   },
   {
    "duration": 6,
    "start_time": "2022-01-30T14:27:19.522Z"
   },
   {
    "duration": 8,
    "start_time": "2022-01-30T14:27:31.095Z"
   },
   {
    "duration": 298,
    "start_time": "2022-01-30T14:27:47.280Z"
   },
   {
    "duration": 22,
    "start_time": "2022-01-30T14:27:55.574Z"
   },
   {
    "duration": 11,
    "start_time": "2022-01-30T14:28:50.160Z"
   },
   {
    "duration": 11,
    "start_time": "2022-01-30T14:29:00.360Z"
   },
   {
    "duration": 52,
    "start_time": "2022-01-30T14:30:34.093Z"
   },
   {
    "duration": 6,
    "start_time": "2022-01-30T14:30:40.198Z"
   },
   {
    "duration": 6,
    "start_time": "2022-01-30T14:30:51.068Z"
   },
   {
    "duration": 12,
    "start_time": "2022-01-30T14:30:52.514Z"
   },
   {
    "duration": 29,
    "start_time": "2022-01-30T14:30:53.476Z"
   },
   {
    "duration": 22,
    "start_time": "2022-01-30T14:30:54.623Z"
   },
   {
    "duration": 19,
    "start_time": "2022-01-30T14:30:55.281Z"
   },
   {
    "duration": 20,
    "start_time": "2022-01-30T14:30:55.530Z"
   },
   {
    "duration": 16,
    "start_time": "2022-01-30T14:30:56.040Z"
   },
   {
    "duration": 29,
    "start_time": "2022-01-30T14:30:56.492Z"
   },
   {
    "duration": 31,
    "start_time": "2022-01-30T14:30:57.325Z"
   },
   {
    "duration": 20,
    "start_time": "2022-01-30T14:30:57.920Z"
   },
   {
    "duration": 20,
    "start_time": "2022-01-30T14:30:58.995Z"
   },
   {
    "duration": 7,
    "start_time": "2022-01-30T14:30:59.694Z"
   },
   {
    "duration": 12,
    "start_time": "2022-01-30T14:31:00.691Z"
   },
   {
    "duration": 7,
    "start_time": "2022-01-30T14:31:44.445Z"
   },
   {
    "duration": 17,
    "start_time": "2022-01-30T14:31:44.952Z"
   },
   {
    "duration": 7,
    "start_time": "2022-01-30T14:31:45.431Z"
   },
   {
    "duration": 295,
    "start_time": "2022-01-30T14:31:46.082Z"
   },
   {
    "duration": 17,
    "start_time": "2022-01-30T14:31:50.187Z"
   },
   {
    "duration": 700,
    "start_time": "2022-01-30T14:31:54.160Z"
   },
   {
    "duration": 460,
    "start_time": "2022-01-30T14:32:22.261Z"
   },
   {
    "duration": 38,
    "start_time": "2022-01-30T14:32:26.203Z"
   },
   {
    "duration": 13,
    "start_time": "2022-01-30T14:32:33.738Z"
   },
   {
    "duration": 685,
    "start_time": "2022-01-30T14:34:00.366Z"
   },
   {
    "duration": 724,
    "start_time": "2022-01-30T14:34:58.147Z"
   },
   {
    "duration": 24,
    "start_time": "2022-01-30T14:35:13.410Z"
   },
   {
    "duration": 13,
    "start_time": "2022-01-30T14:36:33.894Z"
   },
   {
    "duration": 863,
    "start_time": "2022-01-30T14:38:17.307Z"
   },
   {
    "duration": 24,
    "start_time": "2022-01-30T14:38:59.669Z"
   },
   {
    "duration": 12,
    "start_time": "2022-01-30T14:39:02.763Z"
   },
   {
    "duration": 15,
    "start_time": "2022-01-30T14:52:20.360Z"
   },
   {
    "duration": 33,
    "start_time": "2022-01-30T14:52:24.251Z"
   },
   {
    "duration": 12,
    "start_time": "2022-01-30T14:54:10.349Z"
   },
   {
    "duration": 13,
    "start_time": "2022-01-30T14:55:13.660Z"
   },
   {
    "duration": 607,
    "start_time": "2022-01-30T14:55:17.353Z"
   },
   {
    "duration": 14,
    "start_time": "2022-01-30T14:55:38.771Z"
   },
   {
    "duration": 28,
    "start_time": "2022-01-30T14:55:46.368Z"
   },
   {
    "duration": 13,
    "start_time": "2022-01-30T14:57:05.002Z"
   },
   {
    "duration": 28,
    "start_time": "2022-01-30T15:02:24.576Z"
   },
   {
    "duration": 99,
    "start_time": "2022-01-30T15:04:10.379Z"
   },
   {
    "duration": 19,
    "start_time": "2022-01-30T15:06:35.149Z"
   },
   {
    "duration": 40,
    "start_time": "2022-01-30T15:06:40.278Z"
   },
   {
    "duration": 28,
    "start_time": "2022-01-30T15:07:24.261Z"
   },
   {
    "duration": 32,
    "start_time": "2022-01-30T15:08:32.685Z"
   },
   {
    "duration": 677,
    "start_time": "2022-01-30T15:09:08.805Z"
   },
   {
    "duration": 608,
    "start_time": "2022-01-30T15:10:29.681Z"
   },
   {
    "duration": 28,
    "start_time": "2022-01-30T15:10:56.782Z"
   },
   {
    "duration": 659,
    "start_time": "2022-01-30T15:11:20.340Z"
   },
   {
    "duration": 663,
    "start_time": "2022-01-30T15:17:11.688Z"
   },
   {
    "duration": 576,
    "start_time": "2022-01-30T15:17:24.022Z"
   },
   {
    "duration": 30,
    "start_time": "2022-01-30T15:17:40.638Z"
   },
   {
    "duration": 11,
    "start_time": "2022-01-30T15:21:33.701Z"
   },
   {
    "duration": 12,
    "start_time": "2022-01-30T15:22:14.353Z"
   },
   {
    "duration": 13,
    "start_time": "2022-01-30T15:26:26.238Z"
   },
   {
    "duration": 30,
    "start_time": "2022-01-30T15:26:31.785Z"
   },
   {
    "duration": 6,
    "start_time": "2022-01-30T15:47:41.194Z"
   },
   {
    "duration": 12,
    "start_time": "2022-01-30T15:48:26.422Z"
   },
   {
    "duration": 6,
    "start_time": "2022-01-30T15:48:51.370Z"
   },
   {
    "duration": 11,
    "start_time": "2022-01-30T15:48:54.835Z"
   },
   {
    "duration": 6,
    "start_time": "2022-01-30T15:49:39.045Z"
   },
   {
    "duration": 11,
    "start_time": "2022-01-30T15:49:42.727Z"
   },
   {
    "duration": 6,
    "start_time": "2022-01-30T15:50:29.565Z"
   },
   {
    "duration": 11,
    "start_time": "2022-01-30T15:50:38.027Z"
   },
   {
    "duration": 11,
    "start_time": "2022-01-30T15:50:50.961Z"
   },
   {
    "duration": 13,
    "start_time": "2022-01-30T15:59:04.057Z"
   },
   {
    "duration": 12,
    "start_time": "2022-01-30T16:01:58.795Z"
   },
   {
    "duration": 11,
    "start_time": "2022-01-30T16:06:09.914Z"
   },
   {
    "duration": 28,
    "start_time": "2022-01-30T16:14:09.793Z"
   },
   {
    "duration": 169,
    "start_time": "2022-01-30T19:07:37.343Z"
   },
   {
    "duration": 1091,
    "start_time": "2022-01-30T19:07:45.815Z"
   },
   {
    "duration": 408,
    "start_time": "2022-01-30T19:07:46.908Z"
   },
   {
    "duration": 28,
    "start_time": "2022-01-30T19:07:47.318Z"
   },
   {
    "duration": 21,
    "start_time": "2022-01-30T19:07:47.348Z"
   },
   {
    "duration": 18,
    "start_time": "2022-01-30T19:07:47.371Z"
   },
   {
    "duration": 15,
    "start_time": "2022-01-30T19:07:47.390Z"
   },
   {
    "duration": 15,
    "start_time": "2022-01-30T19:07:47.406Z"
   },
   {
    "duration": 42,
    "start_time": "2022-01-30T19:07:47.422Z"
   },
   {
    "duration": 4,
    "start_time": "2022-01-30T19:07:47.466Z"
   },
   {
    "duration": 9,
    "start_time": "2022-01-30T19:07:47.472Z"
   },
   {
    "duration": 5,
    "start_time": "2022-01-30T19:07:47.482Z"
   },
   {
    "duration": 5,
    "start_time": "2022-01-30T19:07:47.489Z"
   },
   {
    "duration": 67,
    "start_time": "2022-01-30T19:07:47.495Z"
   },
   {
    "duration": 5,
    "start_time": "2022-01-30T19:07:47.564Z"
   },
   {
    "duration": 18,
    "start_time": "2022-01-30T19:07:47.570Z"
   },
   {
    "duration": 4,
    "start_time": "2022-01-30T19:07:47.590Z"
   },
   {
    "duration": 33,
    "start_time": "2022-01-30T19:07:47.595Z"
   },
   {
    "duration": 33,
    "start_time": "2022-01-30T19:07:47.630Z"
   },
   {
    "duration": 9,
    "start_time": "2022-01-30T19:07:47.664Z"
   },
   {
    "duration": 84,
    "start_time": "2022-01-30T19:07:47.675Z"
   },
   {
    "duration": 5,
    "start_time": "2022-01-30T19:07:47.761Z"
   },
   {
    "duration": 9,
    "start_time": "2022-01-30T19:07:47.768Z"
   },
   {
    "duration": 187,
    "start_time": "2022-01-30T19:07:47.778Z"
   },
   {
    "duration": 14,
    "start_time": "2022-01-30T19:07:47.967Z"
   },
   {
    "duration": 26,
    "start_time": "2022-01-30T19:07:47.983Z"
   },
   {
    "duration": 95,
    "start_time": "2022-01-30T19:07:48.011Z"
   },
   {
    "duration": 8,
    "start_time": "2022-01-30T19:07:48.110Z"
   },
   {
    "duration": 16,
    "start_time": "2022-01-30T19:07:48.120Z"
   },
   {
    "duration": 51,
    "start_time": "2022-01-30T19:07:48.138Z"
   },
   {
    "duration": 9,
    "start_time": "2022-01-30T19:07:48.191Z"
   },
   {
    "duration": 19,
    "start_time": "2022-01-30T19:07:48.201Z"
   },
   {
    "duration": 61,
    "start_time": "2022-01-30T19:07:48.222Z"
   },
   {
    "duration": 3,
    "start_time": "2022-01-30T19:07:48.285Z"
   },
   {
    "duration": 7,
    "start_time": "2022-01-30T19:07:48.289Z"
   },
   {
    "duration": 10,
    "start_time": "2022-01-30T19:07:48.298Z"
   },
   {
    "duration": 9,
    "start_time": "2022-01-30T19:07:48.310Z"
   },
   {
    "duration": 44,
    "start_time": "2022-01-30T19:07:48.321Z"
   },
   {
    "duration": 4,
    "start_time": "2022-01-30T19:07:48.367Z"
   },
   {
    "duration": 8,
    "start_time": "2022-01-30T19:07:48.373Z"
   },
   {
    "duration": 11,
    "start_time": "2022-01-30T19:07:48.383Z"
   },
   {
    "duration": 11,
    "start_time": "2022-01-30T19:07:48.396Z"
   },
   {
    "duration": 11,
    "start_time": "2022-01-30T19:07:48.409Z"
   },
   {
    "duration": 40,
    "start_time": "2022-01-30T19:07:48.421Z"
   },
   {
    "duration": 13,
    "start_time": "2022-01-30T19:07:48.463Z"
   },
   {
    "duration": 13,
    "start_time": "2022-01-30T19:07:48.478Z"
   },
   {
    "duration": 19,
    "start_time": "2022-01-30T19:07:48.493Z"
   },
   {
    "duration": 12,
    "start_time": "2022-01-30T19:07:48.513Z"
   },
   {
    "duration": 42,
    "start_time": "2022-01-30T19:07:48.526Z"
   },
   {
    "duration": 4,
    "start_time": "2022-01-30T19:07:48.569Z"
   },
   {
    "duration": 10,
    "start_time": "2022-01-30T19:07:48.575Z"
   },
   {
    "duration": 7,
    "start_time": "2022-01-30T19:07:54.333Z"
   },
   {
    "duration": 45,
    "start_time": "2022-01-30T19:09:35.843Z"
   },
   {
    "duration": 7,
    "start_time": "2022-01-30T19:09:49.844Z"
   },
   {
    "duration": 8,
    "start_time": "2022-01-30T19:10:15.272Z"
   },
   {
    "duration": 5,
    "start_time": "2022-01-30T19:10:18.637Z"
   },
   {
    "duration": 7,
    "start_time": "2022-01-30T19:10:21.459Z"
   },
   {
    "duration": 10,
    "start_time": "2022-01-30T19:11:18.193Z"
   },
   {
    "duration": 14,
    "start_time": "2022-01-30T19:11:22.629Z"
   },
   {
    "duration": 6,
    "start_time": "2022-01-30T19:15:28.029Z"
   },
   {
    "duration": 8,
    "start_time": "2022-01-30T19:16:11.788Z"
   },
   {
    "duration": 7,
    "start_time": "2022-01-30T19:16:32.243Z"
   },
   {
    "duration": 8,
    "start_time": "2022-01-30T19:17:09.137Z"
   },
   {
    "duration": 49,
    "start_time": "2022-01-30T19:18:53.288Z"
   },
   {
    "duration": 47,
    "start_time": "2022-01-30T19:19:53.830Z"
   },
   {
    "duration": 7,
    "start_time": "2022-01-30T19:20:32.893Z"
   },
   {
    "duration": 7,
    "start_time": "2022-01-30T19:20:48.756Z"
   },
   {
    "duration": 9,
    "start_time": "2022-01-30T19:21:34.515Z"
   },
   {
    "duration": 5,
    "start_time": "2022-01-30T19:23:28.955Z"
   },
   {
    "duration": 9,
    "start_time": "2022-01-30T19:38:21.227Z"
   },
   {
    "duration": 4,
    "start_time": "2022-01-30T19:40:43.169Z"
   },
   {
    "duration": 4,
    "start_time": "2022-01-30T19:41:08.490Z"
   },
   {
    "duration": 28,
    "start_time": "2022-01-30T19:52:18.893Z"
   },
   {
    "duration": 1491,
    "start_time": "2022-01-31T11:21:30.224Z"
   },
   {
    "duration": 558,
    "start_time": "2022-01-31T11:21:31.718Z"
   },
   {
    "duration": 56,
    "start_time": "2022-01-31T11:21:32.280Z"
   },
   {
    "duration": 31,
    "start_time": "2022-01-31T11:21:32.339Z"
   },
   {
    "duration": 32,
    "start_time": "2022-01-31T11:21:32.373Z"
   },
   {
    "duration": 60,
    "start_time": "2022-01-31T11:21:32.408Z"
   },
   {
    "duration": 30,
    "start_time": "2022-01-31T11:21:32.474Z"
   },
   {
    "duration": 75,
    "start_time": "2022-01-31T11:21:32.510Z"
   },
   {
    "duration": 7,
    "start_time": "2022-01-31T11:21:32.589Z"
   },
   {
    "duration": 51,
    "start_time": "2022-01-31T11:21:32.600Z"
   },
   {
    "duration": 8,
    "start_time": "2022-01-31T11:21:32.653Z"
   },
   {
    "duration": 16,
    "start_time": "2022-01-31T11:21:32.664Z"
   },
   {
    "duration": 96,
    "start_time": "2022-01-31T11:21:32.683Z"
   },
   {
    "duration": 7,
    "start_time": "2022-01-31T11:21:32.782Z"
   },
   {
    "duration": 48,
    "start_time": "2022-01-31T11:21:32.791Z"
   },
   {
    "duration": 11,
    "start_time": "2022-01-31T11:21:32.841Z"
   },
   {
    "duration": 58,
    "start_time": "2022-01-31T11:21:32.854Z"
   },
   {
    "duration": 7,
    "start_time": "2022-01-31T11:21:32.916Z"
   },
   {
    "duration": 13,
    "start_time": "2022-01-31T11:21:32.948Z"
   },
   {
    "duration": 263,
    "start_time": "2022-01-31T11:21:32.964Z"
   },
   {
    "duration": 26,
    "start_time": "2022-01-31T11:21:33.245Z"
   },
   {
    "duration": 110,
    "start_time": "2022-01-31T11:21:33.285Z"
   },
   {
    "duration": 474,
    "start_time": "2022-01-31T11:21:33.405Z"
   },
   {
    "duration": 34,
    "start_time": "2022-01-31T11:21:33.899Z"
   },
   {
    "duration": 50,
    "start_time": "2022-01-31T11:21:33.936Z"
   },
   {
    "duration": 146,
    "start_time": "2022-01-31T11:21:33.990Z"
   },
   {
    "duration": 18,
    "start_time": "2022-01-31T11:21:34.140Z"
   },
   {
    "duration": 28,
    "start_time": "2022-01-31T11:21:34.161Z"
   },
   {
    "duration": 78,
    "start_time": "2022-01-31T11:21:34.192Z"
   },
   {
    "duration": 16,
    "start_time": "2022-01-31T11:21:34.272Z"
   },
   {
    "duration": 35,
    "start_time": "2022-01-31T11:21:34.291Z"
   },
   {
    "duration": 55,
    "start_time": "2022-01-31T11:21:34.328Z"
   },
   {
    "duration": 4,
    "start_time": "2022-01-31T11:21:34.385Z"
   },
   {
    "duration": 17,
    "start_time": "2022-01-31T11:21:34.391Z"
   },
   {
    "duration": 48,
    "start_time": "2022-01-31T11:21:34.411Z"
   },
   {
    "duration": 17,
    "start_time": "2022-01-31T11:21:34.462Z"
   },
   {
    "duration": 83,
    "start_time": "2022-01-31T11:21:34.482Z"
   },
   {
    "duration": 7,
    "start_time": "2022-01-31T11:21:34.568Z"
   },
   {
    "duration": 44,
    "start_time": "2022-01-31T11:21:34.578Z"
   },
   {
    "duration": 35,
    "start_time": "2022-01-31T11:21:34.625Z"
   },
   {
    "duration": 25,
    "start_time": "2022-01-31T11:21:34.662Z"
   },
   {
    "duration": 25,
    "start_time": "2022-01-31T11:21:34.690Z"
   },
   {
    "duration": 22,
    "start_time": "2022-01-31T11:21:34.717Z"
   },
   {
    "duration": 13,
    "start_time": "2022-01-31T11:21:34.749Z"
   },
   {
    "duration": 27,
    "start_time": "2022-01-31T11:21:34.765Z"
   },
   {
    "duration": 33,
    "start_time": "2022-01-31T11:21:34.794Z"
   },
   {
    "duration": 32,
    "start_time": "2022-01-31T11:21:34.830Z"
   },
   {
    "duration": 43,
    "start_time": "2022-01-31T11:21:34.865Z"
   },
   {
    "duration": 14,
    "start_time": "2022-01-31T11:21:34.911Z"
   },
   {
    "duration": 29,
    "start_time": "2022-01-31T11:21:34.928Z"
   },
   {
    "duration": 20,
    "start_time": "2022-01-31T11:21:34.960Z"
   },
   {
    "duration": 9,
    "start_time": "2022-01-31T11:21:34.983Z"
   },
   {
    "duration": 53,
    "start_time": "2022-01-31T11:21:34.995Z"
   },
   {
    "duration": 8,
    "start_time": "2022-01-31T11:21:35.052Z"
   },
   {
    "duration": 22,
    "start_time": "2022-01-31T11:21:35.063Z"
   },
   {
    "duration": 718,
    "start_time": "2022-01-31T11:21:45.493Z"
   },
   {
    "duration": 726,
    "start_time": "2022-01-31T11:22:27.330Z"
   },
   {
    "duration": 681,
    "start_time": "2022-01-31T11:22:55.547Z"
   },
   {
    "duration": 43,
    "start_time": "2022-01-31T11:25:49.070Z"
   },
   {
    "duration": 29,
    "start_time": "2022-01-31T11:26:36.177Z"
   },
   {
    "duration": 708,
    "start_time": "2022-01-31T11:29:16.126Z"
   },
   {
    "duration": 14,
    "start_time": "2022-01-31T11:29:38.420Z"
   },
   {
    "duration": 743,
    "start_time": "2022-01-31T11:30:24.618Z"
   },
   {
    "duration": 711,
    "start_time": "2022-01-31T11:31:27.645Z"
   },
   {
    "duration": 413,
    "start_time": "2022-01-31T11:35:37.488Z"
   },
   {
    "duration": 12,
    "start_time": "2022-01-31T11:35:55.209Z"
   },
   {
    "duration": 14,
    "start_time": "2022-01-31T11:36:39.746Z"
   },
   {
    "duration": 94,
    "start_time": "2022-01-31T11:38:42.911Z"
   },
   {
    "duration": 18,
    "start_time": "2022-01-31T11:38:51.626Z"
   },
   {
    "duration": 19,
    "start_time": "2022-01-31T11:38:57.867Z"
   },
   {
    "duration": 304,
    "start_time": "2022-01-31T11:40:02.420Z"
   },
   {
    "duration": 23,
    "start_time": "2022-01-31T11:40:08.406Z"
   },
   {
    "duration": 304,
    "start_time": "2022-01-31T11:41:18.831Z"
   },
   {
    "duration": 18,
    "start_time": "2022-01-31T11:42:14.068Z"
   },
   {
    "duration": 22,
    "start_time": "2022-01-31T11:43:21.879Z"
   },
   {
    "duration": 21,
    "start_time": "2022-01-31T11:45:15.027Z"
   },
   {
    "duration": 31,
    "start_time": "2022-01-31T11:46:02.124Z"
   },
   {
    "duration": 21,
    "start_time": "2022-01-31T11:46:53.292Z"
   },
   {
    "duration": 254,
    "start_time": "2022-01-31T12:57:40.839Z"
   },
   {
    "duration": 5,
    "start_time": "2022-01-31T12:58:02.901Z"
   },
   {
    "duration": 541,
    "start_time": "2022-01-31T12:58:02.908Z"
   },
   {
    "duration": 33,
    "start_time": "2022-01-31T12:58:03.452Z"
   },
   {
    "duration": 31,
    "start_time": "2022-01-31T12:58:03.488Z"
   },
   {
    "duration": 26,
    "start_time": "2022-01-31T12:58:03.549Z"
   },
   {
    "duration": 16,
    "start_time": "2022-01-31T12:58:03.578Z"
   },
   {
    "duration": 55,
    "start_time": "2022-01-31T12:58:03.597Z"
   },
   {
    "duration": 29,
    "start_time": "2022-01-31T12:58:03.654Z"
   },
   {
    "duration": 6,
    "start_time": "2022-01-31T12:58:03.687Z"
   },
   {
    "duration": 10,
    "start_time": "2022-01-31T12:58:03.696Z"
   },
   {
    "duration": 41,
    "start_time": "2022-01-31T12:58:03.709Z"
   },
   {
    "duration": 6,
    "start_time": "2022-01-31T12:58:03.753Z"
   },
   {
    "duration": 48,
    "start_time": "2022-01-31T12:58:03.762Z"
   },
   {
    "duration": 5,
    "start_time": "2022-01-31T12:58:03.813Z"
   },
   {
    "duration": 58,
    "start_time": "2022-01-31T12:58:03.820Z"
   },
   {
    "duration": 14,
    "start_time": "2022-01-31T12:58:03.881Z"
   },
   {
    "duration": 85,
    "start_time": "2022-01-31T12:58:03.899Z"
   },
   {
    "duration": 8,
    "start_time": "2022-01-31T12:58:03.987Z"
   },
   {
    "duration": 15,
    "start_time": "2022-01-31T12:58:03.997Z"
   },
   {
    "duration": 117,
    "start_time": "2022-01-31T12:58:04.015Z"
   },
   {
    "duration": 24,
    "start_time": "2022-01-31T12:58:04.134Z"
   },
   {
    "duration": 19,
    "start_time": "2022-01-31T12:58:04.161Z"
   },
   {
    "duration": 236,
    "start_time": "2022-01-31T12:58:04.182Z"
   },
   {
    "duration": 30,
    "start_time": "2022-01-31T12:58:04.421Z"
   },
   {
    "duration": 34,
    "start_time": "2022-01-31T12:58:04.453Z"
   },
   {
    "duration": 96,
    "start_time": "2022-01-31T12:58:04.489Z"
   },
   {
    "duration": 12,
    "start_time": "2022-01-31T12:58:04.591Z"
   },
   {
    "duration": 48,
    "start_time": "2022-01-31T12:58:04.606Z"
   },
   {
    "duration": 43,
    "start_time": "2022-01-31T12:58:04.657Z"
   },
   {
    "duration": 12,
    "start_time": "2022-01-31T12:58:04.703Z"
   },
   {
    "duration": 55,
    "start_time": "2022-01-31T12:58:04.718Z"
   },
   {
    "duration": 32,
    "start_time": "2022-01-31T12:58:04.775Z"
   },
   {
    "duration": 4,
    "start_time": "2022-01-31T12:58:04.810Z"
   },
   {
    "duration": 33,
    "start_time": "2022-01-31T12:58:04.816Z"
   },
   {
    "duration": 20,
    "start_time": "2022-01-31T12:58:04.851Z"
   },
   {
    "duration": 12,
    "start_time": "2022-01-31T12:58:04.873Z"
   },
   {
    "duration": 59,
    "start_time": "2022-01-31T12:58:04.889Z"
   },
   {
    "duration": 5,
    "start_time": "2022-01-31T12:58:04.951Z"
   },
   {
    "duration": 26,
    "start_time": "2022-01-31T12:58:04.959Z"
   },
   {
    "duration": 18,
    "start_time": "2022-01-31T12:58:04.987Z"
   },
   {
    "duration": 40,
    "start_time": "2022-01-31T12:58:05.008Z"
   },
   {
    "duration": 21,
    "start_time": "2022-01-31T12:58:05.051Z"
   },
   {
    "duration": 25,
    "start_time": "2022-01-31T12:58:05.075Z"
   },
   {
    "duration": 21,
    "start_time": "2022-01-31T12:58:05.103Z"
   },
   {
    "duration": 22,
    "start_time": "2022-01-31T12:58:05.148Z"
   },
   {
    "duration": 28,
    "start_time": "2022-01-31T12:58:05.173Z"
   },
   {
    "duration": 17,
    "start_time": "2022-01-31T12:58:05.204Z"
   },
   {
    "duration": 19,
    "start_time": "2022-01-31T12:58:05.249Z"
   },
   {
    "duration": 7,
    "start_time": "2022-01-31T12:58:05.270Z"
   },
   {
    "duration": 31,
    "start_time": "2022-01-31T12:58:05.280Z"
   },
   {
    "duration": 120,
    "start_time": "2022-01-31T12:58:05.314Z"
   },
   {
    "duration": 112,
    "start_time": "2022-01-31T12:58:05.442Z"
   },
   {
    "duration": 134,
    "start_time": "2022-01-31T12:58:05.562Z"
   },
   {
    "duration": 166,
    "start_time": "2022-01-31T12:58:05.700Z"
   },
   {
    "duration": 61,
    "start_time": "2022-01-31T12:58:05.869Z"
   },
   {
    "duration": 684,
    "start_time": "2022-01-31T12:58:05.933Z"
   },
   {
    "duration": 47,
    "start_time": "2022-01-31T12:58:06.619Z"
   },
   {
    "duration": 30,
    "start_time": "2022-01-31T12:58:06.668Z"
   },
   {
    "duration": 13,
    "start_time": "2022-01-31T12:58:06.701Z"
   },
   {
    "duration": 242,
    "start_time": "2022-01-31T12:58:08.899Z"
   },
   {
    "duration": 34,
    "start_time": "2022-01-31T12:58:29.398Z"
   },
   {
    "duration": 28,
    "start_time": "2022-01-31T13:05:43.624Z"
   },
   {
    "duration": 28,
    "start_time": "2022-01-31T13:08:32.794Z"
   },
   {
    "duration": 17,
    "start_time": "2022-01-31T13:10:18.536Z"
   },
   {
    "duration": 33,
    "start_time": "2022-01-31T13:10:30.782Z"
   },
   {
    "duration": 18,
    "start_time": "2022-01-31T13:11:19.985Z"
   },
   {
    "duration": 10,
    "start_time": "2022-01-31T13:14:09.352Z"
   },
   {
    "duration": 17,
    "start_time": "2022-01-31T13:14:17.572Z"
   },
   {
    "duration": 285,
    "start_time": "2022-01-31T13:22:29.973Z"
   },
   {
    "duration": 4,
    "start_time": "2022-01-31T13:22:49.969Z"
   },
   {
    "duration": 523,
    "start_time": "2022-01-31T13:22:49.976Z"
   },
   {
    "duration": 34,
    "start_time": "2022-01-31T13:22:50.502Z"
   },
   {
    "duration": 29,
    "start_time": "2022-01-31T13:22:50.538Z"
   },
   {
    "duration": 26,
    "start_time": "2022-01-31T13:22:50.570Z"
   },
   {
    "duration": 17,
    "start_time": "2022-01-31T13:22:50.598Z"
   },
   {
    "duration": 21,
    "start_time": "2022-01-31T13:22:50.648Z"
   },
   {
    "duration": 32,
    "start_time": "2022-01-31T13:22:50.672Z"
   },
   {
    "duration": 9,
    "start_time": "2022-01-31T13:22:50.708Z"
   },
   {
    "duration": 36,
    "start_time": "2022-01-31T13:22:50.720Z"
   },
   {
    "duration": 10,
    "start_time": "2022-01-31T13:22:50.758Z"
   },
   {
    "duration": 8,
    "start_time": "2022-01-31T13:22:50.771Z"
   },
   {
    "duration": 77,
    "start_time": "2022-01-31T13:22:50.782Z"
   },
   {
    "duration": 8,
    "start_time": "2022-01-31T13:22:50.862Z"
   },
   {
    "duration": 25,
    "start_time": "2022-01-31T13:22:50.873Z"
   },
   {
    "duration": 7,
    "start_time": "2022-01-31T13:22:50.901Z"
   },
   {
    "duration": 43,
    "start_time": "2022-01-31T13:22:50.950Z"
   },
   {
    "duration": 8,
    "start_time": "2022-01-31T13:22:50.996Z"
   },
   {
    "duration": 49,
    "start_time": "2022-01-31T13:22:51.007Z"
   },
   {
    "duration": 96,
    "start_time": "2022-01-31T13:22:51.059Z"
   },
   {
    "duration": 6,
    "start_time": "2022-01-31T13:22:51.157Z"
   },
   {
    "duration": 12,
    "start_time": "2022-01-31T13:22:51.165Z"
   },
   {
    "duration": 217,
    "start_time": "2022-01-31T13:22:51.183Z"
   },
   {
    "duration": 14,
    "start_time": "2022-01-31T13:22:51.404Z"
   },
   {
    "duration": 49,
    "start_time": "2022-01-31T13:22:51.421Z"
   },
   {
    "duration": 84,
    "start_time": "2022-01-31T13:22:51.472Z"
   },
   {
    "duration": 12,
    "start_time": "2022-01-31T13:22:51.558Z"
   },
   {
    "duration": 28,
    "start_time": "2022-01-31T13:22:51.573Z"
   },
   {
    "duration": 72,
    "start_time": "2022-01-31T13:22:51.604Z"
   },
   {
    "duration": 12,
    "start_time": "2022-01-31T13:22:51.678Z"
   },
   {
    "duration": 26,
    "start_time": "2022-01-31T13:22:51.693Z"
   },
   {
    "duration": 57,
    "start_time": "2022-01-31T13:22:51.722Z"
   },
   {
    "duration": 4,
    "start_time": "2022-01-31T13:22:51.782Z"
   },
   {
    "duration": 8,
    "start_time": "2022-01-31T13:22:51.789Z"
   },
   {
    "duration": 13,
    "start_time": "2022-01-31T13:22:51.799Z"
   },
   {
    "duration": 43,
    "start_time": "2022-01-31T13:22:51.815Z"
   },
   {
    "duration": 42,
    "start_time": "2022-01-31T13:22:51.860Z"
   },
   {
    "duration": 5,
    "start_time": "2022-01-31T13:22:51.905Z"
   },
   {
    "duration": 41,
    "start_time": "2022-01-31T13:22:51.912Z"
   },
   {
    "duration": 22,
    "start_time": "2022-01-31T13:22:51.956Z"
   },
   {
    "duration": 18,
    "start_time": "2022-01-31T13:22:51.981Z"
   },
   {
    "duration": 46,
    "start_time": "2022-01-31T13:22:52.002Z"
   },
   {
    "duration": 19,
    "start_time": "2022-01-31T13:22:52.051Z"
   },
   {
    "duration": 17,
    "start_time": "2022-01-31T13:22:52.073Z"
   },
   {
    "duration": 20,
    "start_time": "2022-01-31T13:22:52.092Z"
   },
   {
    "duration": 57,
    "start_time": "2022-01-31T13:22:52.115Z"
   },
   {
    "duration": 19,
    "start_time": "2022-01-31T13:22:52.174Z"
   },
   {
    "duration": 22,
    "start_time": "2022-01-31T13:22:52.195Z"
   },
   {
    "duration": 32,
    "start_time": "2022-01-31T13:22:52.220Z"
   },
   {
    "duration": 13,
    "start_time": "2022-01-31T13:22:52.255Z"
   },
   {
    "duration": 17,
    "start_time": "2022-01-31T13:22:52.271Z"
   },
   {
    "duration": 6,
    "start_time": "2022-01-31T13:22:52.291Z"
   },
   {
    "duration": 54,
    "start_time": "2022-01-31T13:22:52.300Z"
   },
   {
    "duration": 12,
    "start_time": "2022-01-31T13:22:52.356Z"
   },
   {
    "duration": 13,
    "start_time": "2022-01-31T13:22:52.370Z"
   },
   {
    "duration": 677,
    "start_time": "2022-01-31T13:22:52.386Z"
   },
   {
    "duration": 31,
    "start_time": "2022-01-31T13:22:53.067Z"
   },
   {
    "duration": 61,
    "start_time": "2022-01-31T13:22:53.100Z"
   },
   {
    "duration": 11,
    "start_time": "2022-01-31T13:22:53.164Z"
   },
   {
    "duration": 26,
    "start_time": "2022-01-31T13:22:53.177Z"
   },
   {
    "duration": 47,
    "start_time": "2022-01-31T13:22:53.206Z"
   },
   {
    "duration": 242,
    "start_time": "2022-01-31T13:23:07.913Z"
   },
   {
    "duration": 28,
    "start_time": "2022-01-31T13:23:33.430Z"
   },
   {
    "duration": 6764,
    "start_time": "2022-01-31T13:24:08.739Z"
   },
   {
    "duration": 17,
    "start_time": "2022-01-31T13:24:50.363Z"
   },
   {
    "duration": 23,
    "start_time": "2022-01-31T13:25:07.012Z"
   },
   {
    "duration": 23,
    "start_time": "2022-01-31T13:25:14.194Z"
   },
   {
    "duration": 4,
    "start_time": "2022-01-31T13:40:08.524Z"
   },
   {
    "duration": 545,
    "start_time": "2022-01-31T13:40:08.531Z"
   },
   {
    "duration": 34,
    "start_time": "2022-01-31T13:40:09.078Z"
   },
   {
    "duration": 34,
    "start_time": "2022-01-31T13:40:09.115Z"
   },
   {
    "duration": 37,
    "start_time": "2022-01-31T13:40:09.152Z"
   },
   {
    "duration": 20,
    "start_time": "2022-01-31T13:40:09.191Z"
   },
   {
    "duration": 59,
    "start_time": "2022-01-31T13:40:09.215Z"
   },
   {
    "duration": 30,
    "start_time": "2022-01-31T13:40:09.278Z"
   },
   {
    "duration": 5,
    "start_time": "2022-01-31T13:40:09.311Z"
   },
   {
    "duration": 38,
    "start_time": "2022-01-31T13:40:09.319Z"
   },
   {
    "duration": 18,
    "start_time": "2022-01-31T13:40:09.360Z"
   },
   {
    "duration": 10,
    "start_time": "2022-01-31T13:40:09.381Z"
   },
   {
    "duration": 61,
    "start_time": "2022-01-31T13:40:09.393Z"
   },
   {
    "duration": 6,
    "start_time": "2022-01-31T13:40:09.457Z"
   },
   {
    "duration": 27,
    "start_time": "2022-01-31T13:40:09.466Z"
   },
   {
    "duration": 6,
    "start_time": "2022-01-31T13:40:09.496Z"
   },
   {
    "duration": 78,
    "start_time": "2022-01-31T13:40:09.505Z"
   },
   {
    "duration": 6,
    "start_time": "2022-01-31T13:40:09.585Z"
   },
   {
    "duration": 10,
    "start_time": "2022-01-31T13:40:09.597Z"
   },
   {
    "duration": 115,
    "start_time": "2022-01-31T13:40:09.611Z"
   },
   {
    "duration": 5,
    "start_time": "2022-01-31T13:40:09.729Z"
   },
   {
    "duration": 21,
    "start_time": "2022-01-31T13:40:09.736Z"
   },
   {
    "duration": 216,
    "start_time": "2022-01-31T13:40:09.760Z"
   },
   {
    "duration": 14,
    "start_time": "2022-01-31T13:40:09.979Z"
   },
   {
    "duration": 59,
    "start_time": "2022-01-31T13:40:09.996Z"
   },
   {
    "duration": 70,
    "start_time": "2022-01-31T13:40:10.057Z"
   },
   {
    "duration": 28,
    "start_time": "2022-01-31T13:40:10.130Z"
   },
   {
    "duration": 28,
    "start_time": "2022-01-31T13:40:10.161Z"
   },
   {
    "duration": 66,
    "start_time": "2022-01-31T13:40:10.191Z"
   },
   {
    "duration": 14,
    "start_time": "2022-01-31T13:40:10.259Z"
   },
   {
    "duration": 26,
    "start_time": "2022-01-31T13:40:10.275Z"
   },
   {
    "duration": 66,
    "start_time": "2022-01-31T13:40:10.303Z"
   },
   {
    "duration": 5,
    "start_time": "2022-01-31T13:40:10.371Z"
   },
   {
    "duration": 7,
    "start_time": "2022-01-31T13:40:10.379Z"
   },
   {
    "duration": 13,
    "start_time": "2022-01-31T13:40:10.388Z"
   },
   {
    "duration": 11,
    "start_time": "2022-01-31T13:40:10.403Z"
   },
   {
    "duration": 38,
    "start_time": "2022-01-31T13:40:10.448Z"
   },
   {
    "duration": 5,
    "start_time": "2022-01-31T13:40:10.488Z"
   },
   {
    "duration": 13,
    "start_time": "2022-01-31T13:40:10.496Z"
   },
   {
    "duration": 51,
    "start_time": "2022-01-31T13:40:10.511Z"
   },
   {
    "duration": 16,
    "start_time": "2022-01-31T13:40:10.565Z"
   },
   {
    "duration": 15,
    "start_time": "2022-01-31T13:40:10.584Z"
   },
   {
    "duration": 48,
    "start_time": "2022-01-31T13:40:10.601Z"
   },
   {
    "duration": 25,
    "start_time": "2022-01-31T13:40:10.651Z"
   },
   {
    "duration": 21,
    "start_time": "2022-01-31T13:40:10.678Z"
   },
   {
    "duration": 26,
    "start_time": "2022-01-31T13:40:10.702Z"
   },
   {
    "duration": 28,
    "start_time": "2022-01-31T13:40:10.731Z"
   },
   {
    "duration": 22,
    "start_time": "2022-01-31T13:40:10.761Z"
   },
   {
    "duration": 7,
    "start_time": "2022-01-31T13:40:10.785Z"
   },
   {
    "duration": 17,
    "start_time": "2022-01-31T13:40:10.794Z"
   },
   {
    "duration": 44,
    "start_time": "2022-01-31T13:40:10.814Z"
   },
   {
    "duration": 7,
    "start_time": "2022-01-31T13:40:10.861Z"
   },
   {
    "duration": 13,
    "start_time": "2022-01-31T13:40:10.870Z"
   },
   {
    "duration": 15,
    "start_time": "2022-01-31T13:40:10.885Z"
   },
   {
    "duration": 10,
    "start_time": "2022-01-31T13:40:10.906Z"
   },
   {
    "duration": 678,
    "start_time": "2022-01-31T13:40:10.947Z"
   },
   {
    "duration": 43,
    "start_time": "2022-01-31T13:40:11.628Z"
   },
   {
    "duration": 28,
    "start_time": "2022-01-31T13:40:11.674Z"
   },
   {
    "duration": 12,
    "start_time": "2022-01-31T13:40:11.704Z"
   },
   {
    "duration": 44,
    "start_time": "2022-01-31T13:40:11.718Z"
   },
   {
    "duration": 90,
    "start_time": "2022-01-31T13:40:11.764Z"
   },
   {
    "duration": -121,
    "start_time": "2022-01-31T13:40:11.977Z"
   },
   {
    "duration": -124,
    "start_time": "2022-01-31T13:40:11.982Z"
   },
   {
    "duration": 18,
    "start_time": "2022-01-31T13:40:32.023Z"
   },
   {
    "duration": 16,
    "start_time": "2022-01-31T13:40:58.820Z"
   },
   {
    "duration": 24,
    "start_time": "2022-01-31T13:41:07.040Z"
   },
   {
    "duration": 18,
    "start_time": "2022-01-31T13:42:07.748Z"
   },
   {
    "duration": 17,
    "start_time": "2022-01-31T13:42:21.271Z"
   },
   {
    "duration": 18,
    "start_time": "2022-01-31T13:42:30.354Z"
   },
   {
    "duration": 20,
    "start_time": "2022-01-31T13:44:57.146Z"
   },
   {
    "duration": 21,
    "start_time": "2022-01-31T13:44:57.169Z"
   },
   {
    "duration": 1508,
    "start_time": "2022-01-31T16:29:50.319Z"
   },
   {
    "duration": 544,
    "start_time": "2022-01-31T16:29:51.830Z"
   },
   {
    "duration": 39,
    "start_time": "2022-01-31T16:29:52.378Z"
   },
   {
    "duration": 31,
    "start_time": "2022-01-31T16:29:52.420Z"
   },
   {
    "duration": 26,
    "start_time": "2022-01-31T16:29:52.454Z"
   },
   {
    "duration": 16,
    "start_time": "2022-01-31T16:29:52.482Z"
   },
   {
    "duration": 58,
    "start_time": "2022-01-31T16:29:52.500Z"
   },
   {
    "duration": 30,
    "start_time": "2022-01-31T16:29:52.560Z"
   },
   {
    "duration": 6,
    "start_time": "2022-01-31T16:29:52.595Z"
   },
   {
    "duration": 53,
    "start_time": "2022-01-31T16:29:52.606Z"
   },
   {
    "duration": 8,
    "start_time": "2022-01-31T16:29:52.662Z"
   },
   {
    "duration": 6,
    "start_time": "2022-01-31T16:29:52.674Z"
   },
   {
    "duration": 68,
    "start_time": "2022-01-31T16:29:52.682Z"
   },
   {
    "duration": 7,
    "start_time": "2022-01-31T16:29:52.752Z"
   },
   {
    "duration": 28,
    "start_time": "2022-01-31T16:29:52.762Z"
   },
   {
    "duration": 6,
    "start_time": "2022-01-31T16:29:52.792Z"
   },
   {
    "duration": 76,
    "start_time": "2022-01-31T16:29:52.801Z"
   },
   {
    "duration": 6,
    "start_time": "2022-01-31T16:29:52.879Z"
   },
   {
    "duration": 12,
    "start_time": "2022-01-31T16:29:52.888Z"
   },
   {
    "duration": 134,
    "start_time": "2022-01-31T16:29:52.902Z"
   },
   {
    "duration": 11,
    "start_time": "2022-01-31T16:29:53.038Z"
   },
   {
    "duration": 9,
    "start_time": "2022-01-31T16:29:53.051Z"
   },
   {
    "duration": 216,
    "start_time": "2022-01-31T16:29:53.062Z"
   },
   {
    "duration": 16,
    "start_time": "2022-01-31T16:29:53.281Z"
   },
   {
    "duration": 57,
    "start_time": "2022-01-31T16:29:53.300Z"
   },
   {
    "duration": 95,
    "start_time": "2022-01-31T16:29:53.359Z"
   },
   {
    "duration": 13,
    "start_time": "2022-01-31T16:29:53.461Z"
   },
   {
    "duration": 23,
    "start_time": "2022-01-31T16:29:53.477Z"
   },
   {
    "duration": 75,
    "start_time": "2022-01-31T16:29:53.502Z"
   },
   {
    "duration": 14,
    "start_time": "2022-01-31T16:29:53.580Z"
   },
   {
    "duration": 26,
    "start_time": "2022-01-31T16:29:53.596Z"
   },
   {
    "duration": 58,
    "start_time": "2022-01-31T16:29:53.624Z"
   },
   {
    "duration": 4,
    "start_time": "2022-01-31T16:29:53.685Z"
   },
   {
    "duration": 8,
    "start_time": "2022-01-31T16:29:53.691Z"
   },
   {
    "duration": 13,
    "start_time": "2022-01-31T16:29:53.701Z"
   },
   {
    "duration": 41,
    "start_time": "2022-01-31T16:29:53.717Z"
   },
   {
    "duration": 39,
    "start_time": "2022-01-31T16:29:53.760Z"
   },
   {
    "duration": 6,
    "start_time": "2022-01-31T16:29:53.802Z"
   },
   {
    "duration": 48,
    "start_time": "2022-01-31T16:29:53.810Z"
   },
   {
    "duration": 17,
    "start_time": "2022-01-31T16:29:53.861Z"
   },
   {
    "duration": 16,
    "start_time": "2022-01-31T16:29:53.880Z"
   },
   {
    "duration": 17,
    "start_time": "2022-01-31T16:29:53.899Z"
   },
   {
    "duration": 20,
    "start_time": "2022-01-31T16:29:53.950Z"
   },
   {
    "duration": 12,
    "start_time": "2022-01-31T16:29:53.972Z"
   },
   {
    "duration": 22,
    "start_time": "2022-01-31T16:29:53.987Z"
   },
   {
    "duration": 54,
    "start_time": "2022-01-31T16:29:54.011Z"
   },
   {
    "duration": 17,
    "start_time": "2022-01-31T16:29:54.067Z"
   },
   {
    "duration": 16,
    "start_time": "2022-01-31T16:29:54.087Z"
   },
   {
    "duration": 8,
    "start_time": "2022-01-31T16:29:54.106Z"
   },
   {
    "duration": 42,
    "start_time": "2022-01-31T16:29:54.117Z"
   },
   {
    "duration": 14,
    "start_time": "2022-01-31T16:29:54.161Z"
   },
   {
    "duration": 6,
    "start_time": "2022-01-31T16:29:54.178Z"
   },
   {
    "duration": 13,
    "start_time": "2022-01-31T16:29:54.186Z"
   },
   {
    "duration": 51,
    "start_time": "2022-01-31T16:29:54.202Z"
   },
   {
    "duration": 10,
    "start_time": "2022-01-31T16:29:54.256Z"
   },
   {
    "duration": 674,
    "start_time": "2022-01-31T16:29:54.268Z"
   },
   {
    "duration": 31,
    "start_time": "2022-01-31T16:29:54.948Z"
   },
   {
    "duration": 13,
    "start_time": "2022-01-31T16:29:54.983Z"
   },
   {
    "duration": 11,
    "start_time": "2022-01-31T16:29:54.998Z"
   },
   {
    "duration": 685,
    "start_time": "2022-01-31T16:29:55.011Z"
   },
   {
    "duration": 703,
    "start_time": "2022-01-31T16:29:55.699Z"
   },
   {
    "duration": 45,
    "start_time": "2022-01-31T16:29:56.404Z"
   },
   {
    "duration": 12,
    "start_time": "2022-01-31T16:29:56.452Z"
   },
   {
    "duration": 31,
    "start_time": "2022-01-31T16:29:56.466Z"
   },
   {
    "duration": 793,
    "start_time": "2022-01-31T16:29:56.500Z"
   },
   {
    "duration": 31,
    "start_time": "2022-01-31T16:29:57.295Z"
   },
   {
    "duration": 28,
    "start_time": "2022-01-31T16:29:57.329Z"
   },
   {
    "duration": 12,
    "start_time": "2022-01-31T16:29:57.360Z"
   },
   {
    "duration": 19,
    "start_time": "2022-01-31T16:29:57.375Z"
   },
   {
    "duration": 12,
    "start_time": "2022-01-31T16:29:57.397Z"
   },
   {
    "duration": 18,
    "start_time": "2022-01-31T16:29:57.411Z"
   },
   {
    "duration": 21,
    "start_time": "2022-01-31T16:29:57.431Z"
   },
   {
    "duration": 383,
    "start_time": "2022-01-31T16:56:18.162Z"
   },
   {
    "duration": 20,
    "start_time": "2022-01-31T16:56:32.201Z"
   },
   {
    "duration": 21,
    "start_time": "2022-01-31T16:56:34.505Z"
   },
   {
    "duration": 28,
    "start_time": "2022-01-31T16:56:55.755Z"
   },
   {
    "duration": 17,
    "start_time": "2022-01-31T16:57:01.322Z"
   },
   {
    "duration": 1460,
    "start_time": "2022-01-31T17:08:28.464Z"
   },
   {
    "duration": 509,
    "start_time": "2022-01-31T17:08:29.927Z"
   },
   {
    "duration": 39,
    "start_time": "2022-01-31T17:08:30.438Z"
   },
   {
    "duration": 30,
    "start_time": "2022-01-31T17:08:30.480Z"
   },
   {
    "duration": 46,
    "start_time": "2022-01-31T17:08:30.512Z"
   },
   {
    "duration": 17,
    "start_time": "2022-01-31T17:08:30.560Z"
   },
   {
    "duration": 29,
    "start_time": "2022-01-31T17:08:30.579Z"
   },
   {
    "duration": 56,
    "start_time": "2022-01-31T17:08:30.612Z"
   },
   {
    "duration": 6,
    "start_time": "2022-01-31T17:08:30.671Z"
   },
   {
    "duration": 23,
    "start_time": "2022-01-31T17:08:30.680Z"
   },
   {
    "duration": 18,
    "start_time": "2022-01-31T17:08:30.706Z"
   },
   {
    "duration": 24,
    "start_time": "2022-01-31T17:08:30.726Z"
   },
   {
    "duration": 52,
    "start_time": "2022-01-31T17:08:30.753Z"
   },
   {
    "duration": 6,
    "start_time": "2022-01-31T17:08:30.808Z"
   },
   {
    "duration": 50,
    "start_time": "2022-01-31T17:08:30.816Z"
   },
   {
    "duration": 5,
    "start_time": "2022-01-31T17:08:30.868Z"
   },
   {
    "duration": 48,
    "start_time": "2022-01-31T17:08:30.876Z"
   },
   {
    "duration": 23,
    "start_time": "2022-01-31T17:08:30.926Z"
   },
   {
    "duration": 9,
    "start_time": "2022-01-31T17:08:30.952Z"
   },
   {
    "duration": 120,
    "start_time": "2022-01-31T17:08:30.964Z"
   },
   {
    "duration": 7,
    "start_time": "2022-01-31T17:08:31.086Z"
   },
   {
    "duration": 14,
    "start_time": "2022-01-31T17:08:31.095Z"
   },
   {
    "duration": 235,
    "start_time": "2022-01-31T17:08:31.115Z"
   },
   {
    "duration": 15,
    "start_time": "2022-01-31T17:08:31.355Z"
   },
   {
    "duration": 32,
    "start_time": "2022-01-31T17:08:31.372Z"
   },
   {
    "duration": 115,
    "start_time": "2022-01-31T17:08:31.407Z"
   },
   {
    "duration": 30,
    "start_time": "2022-01-31T17:08:31.524Z"
   },
   {
    "duration": 26,
    "start_time": "2022-01-31T17:08:31.557Z"
   },
   {
    "duration": 73,
    "start_time": "2022-01-31T17:08:31.586Z"
   },
   {
    "duration": 16,
    "start_time": "2022-01-31T17:08:31.661Z"
   },
   {
    "duration": 26,
    "start_time": "2022-01-31T17:08:31.680Z"
   },
   {
    "duration": 75,
    "start_time": "2022-01-31T17:08:31.709Z"
   },
   {
    "duration": 4,
    "start_time": "2022-01-31T17:08:31.787Z"
   },
   {
    "duration": 11,
    "start_time": "2022-01-31T17:08:31.793Z"
   },
   {
    "duration": 14,
    "start_time": "2022-01-31T17:08:31.808Z"
   },
   {
    "duration": 36,
    "start_time": "2022-01-31T17:08:31.825Z"
   },
   {
    "duration": 45,
    "start_time": "2022-01-31T17:08:31.864Z"
   },
   {
    "duration": 5,
    "start_time": "2022-01-31T17:08:31.911Z"
   },
   {
    "duration": 34,
    "start_time": "2022-01-31T17:08:31.918Z"
   },
   {
    "duration": 21,
    "start_time": "2022-01-31T17:08:31.955Z"
   },
   {
    "duration": 16,
    "start_time": "2022-01-31T17:08:31.978Z"
   },
   {
    "duration": 18,
    "start_time": "2022-01-31T17:08:31.996Z"
   },
   {
    "duration": 48,
    "start_time": "2022-01-31T17:08:32.016Z"
   },
   {
    "duration": 12,
    "start_time": "2022-01-31T17:08:32.067Z"
   },
   {
    "duration": 20,
    "start_time": "2022-01-31T17:08:32.081Z"
   },
   {
    "duration": 68,
    "start_time": "2022-01-31T17:08:32.104Z"
   },
   {
    "duration": 22,
    "start_time": "2022-01-31T17:08:32.175Z"
   },
   {
    "duration": 20,
    "start_time": "2022-01-31T17:08:32.200Z"
   },
   {
    "duration": 34,
    "start_time": "2022-01-31T17:08:32.223Z"
   },
   {
    "duration": 15,
    "start_time": "2022-01-31T17:08:32.260Z"
   },
   {
    "duration": 19,
    "start_time": "2022-01-31T17:08:32.278Z"
   },
   {
    "duration": 49,
    "start_time": "2022-01-31T17:08:32.300Z"
   },
   {
    "duration": 15,
    "start_time": "2022-01-31T17:08:32.352Z"
   },
   {
    "duration": 9,
    "start_time": "2022-01-31T17:08:32.369Z"
   },
   {
    "duration": 13,
    "start_time": "2022-01-31T17:08:32.380Z"
   },
   {
    "duration": 733,
    "start_time": "2022-01-31T17:08:32.396Z"
   },
   {
    "duration": 46,
    "start_time": "2022-01-31T17:08:33.132Z"
   },
   {
    "duration": 14,
    "start_time": "2022-01-31T17:08:33.181Z"
   },
   {
    "duration": 12,
    "start_time": "2022-01-31T17:08:33.197Z"
   },
   {
    "duration": 696,
    "start_time": "2022-01-31T17:08:33.211Z"
   },
   {
    "duration": 700,
    "start_time": "2022-01-31T17:08:33.909Z"
   },
   {
    "duration": 48,
    "start_time": "2022-01-31T17:08:34.611Z"
   },
   {
    "duration": 12,
    "start_time": "2022-01-31T17:08:34.663Z"
   },
   {
    "duration": 12,
    "start_time": "2022-01-31T17:08:34.678Z"
   },
   {
    "duration": 815,
    "start_time": "2022-01-31T17:08:34.693Z"
   },
   {
    "duration": 48,
    "start_time": "2022-01-31T17:08:35.511Z"
   },
   {
    "duration": 14,
    "start_time": "2022-01-31T17:08:35.562Z"
   },
   {
    "duration": 10,
    "start_time": "2022-01-31T17:08:35.583Z"
   },
   {
    "duration": 9,
    "start_time": "2022-01-31T17:08:35.596Z"
   },
   {
    "duration": 43,
    "start_time": "2022-01-31T17:08:35.607Z"
   },
   {
    "duration": 9,
    "start_time": "2022-01-31T17:08:35.652Z"
   },
   {
    "duration": 11,
    "start_time": "2022-01-31T17:08:35.663Z"
   },
   {
    "duration": 1117,
    "start_time": "2022-02-09T19:58:11.895Z"
   },
   {
    "duration": 360,
    "start_time": "2022-02-09T19:58:13.014Z"
   },
   {
    "duration": 25,
    "start_time": "2022-02-09T19:58:13.376Z"
   },
   {
    "duration": 19,
    "start_time": "2022-02-09T19:58:13.403Z"
   },
   {
    "duration": 15,
    "start_time": "2022-02-09T19:58:13.424Z"
   },
   {
    "duration": 9,
    "start_time": "2022-02-09T19:58:13.440Z"
   },
   {
    "duration": 12,
    "start_time": "2022-02-09T19:58:13.450Z"
   },
   {
    "duration": 15,
    "start_time": "2022-02-09T19:58:13.465Z"
   },
   {
    "duration": 4,
    "start_time": "2022-02-09T19:58:13.481Z"
   },
   {
    "duration": 6,
    "start_time": "2022-02-09T19:58:13.486Z"
   },
   {
    "duration": 35,
    "start_time": "2022-02-09T19:58:13.493Z"
   },
   {
    "duration": 3,
    "start_time": "2022-02-09T19:58:13.529Z"
   },
   {
    "duration": 31,
    "start_time": "2022-02-09T19:58:13.533Z"
   },
   {
    "duration": 4,
    "start_time": "2022-02-09T19:58:13.565Z"
   },
   {
    "duration": 16,
    "start_time": "2022-02-09T19:58:13.571Z"
   },
   {
    "duration": 3,
    "start_time": "2022-02-09T19:58:13.589Z"
   },
   {
    "duration": 50,
    "start_time": "2022-02-09T19:58:13.594Z"
   },
   {
    "duration": 3,
    "start_time": "2022-02-09T19:58:13.645Z"
   },
   {
    "duration": 7,
    "start_time": "2022-02-09T19:58:13.649Z"
   },
   {
    "duration": 76,
    "start_time": "2022-02-09T19:58:13.657Z"
   },
   {
    "duration": 4,
    "start_time": "2022-02-09T19:58:13.735Z"
   },
   {
    "duration": 5,
    "start_time": "2022-02-09T19:58:13.741Z"
   },
   {
    "duration": 145,
    "start_time": "2022-02-09T19:58:13.750Z"
   },
   {
    "duration": 10,
    "start_time": "2022-02-09T19:58:13.897Z"
   },
   {
    "duration": 34,
    "start_time": "2022-02-09T19:58:13.908Z"
   },
   {
    "duration": 61,
    "start_time": "2022-02-09T19:58:13.943Z"
   },
   {
    "duration": 7,
    "start_time": "2022-02-09T19:58:14.005Z"
   },
   {
    "duration": 16,
    "start_time": "2022-02-09T19:58:14.027Z"
   },
   {
    "duration": 32,
    "start_time": "2022-02-09T19:58:14.044Z"
   },
   {
    "duration": 9,
    "start_time": "2022-02-09T19:58:14.077Z"
   },
   {
    "duration": 41,
    "start_time": "2022-02-09T19:58:14.087Z"
   },
   {
    "duration": 27,
    "start_time": "2022-02-09T19:58:14.130Z"
   },
   {
    "duration": 3,
    "start_time": "2022-02-09T19:58:14.158Z"
   },
   {
    "duration": 6,
    "start_time": "2022-02-09T19:58:14.162Z"
   },
   {
    "duration": 8,
    "start_time": "2022-02-09T19:58:14.169Z"
   },
   {
    "duration": 6,
    "start_time": "2022-02-09T19:58:14.179Z"
   },
   {
    "duration": 44,
    "start_time": "2022-02-09T19:58:14.186Z"
   },
   {
    "duration": 4,
    "start_time": "2022-02-09T19:58:14.232Z"
   },
   {
    "duration": 9,
    "start_time": "2022-02-09T19:58:14.237Z"
   },
   {
    "duration": 10,
    "start_time": "2022-02-09T19:58:14.248Z"
   },
   {
    "duration": 10,
    "start_time": "2022-02-09T19:58:14.259Z"
   },
   {
    "duration": 11,
    "start_time": "2022-02-09T19:58:14.271Z"
   },
   {
    "duration": 44,
    "start_time": "2022-02-09T19:58:14.284Z"
   },
   {
    "duration": 8,
    "start_time": "2022-02-09T19:58:14.330Z"
   },
   {
    "duration": 12,
    "start_time": "2022-02-09T19:58:14.340Z"
   },
   {
    "duration": 17,
    "start_time": "2022-02-09T19:58:14.353Z"
   },
   {
    "duration": 10,
    "start_time": "2022-02-09T19:58:14.372Z"
   },
   {
    "duration": 10,
    "start_time": "2022-02-09T19:58:14.384Z"
   },
   {
    "duration": 33,
    "start_time": "2022-02-09T19:58:14.396Z"
   },
   {
    "duration": 7,
    "start_time": "2022-02-09T19:58:14.431Z"
   },
   {
    "duration": 8,
    "start_time": "2022-02-09T19:58:14.440Z"
   },
   {
    "duration": 7,
    "start_time": "2022-02-09T19:58:14.449Z"
   },
   {
    "duration": 8,
    "start_time": "2022-02-09T19:58:14.457Z"
   },
   {
    "duration": 8,
    "start_time": "2022-02-09T19:58:14.467Z"
   },
   {
    "duration": 6,
    "start_time": "2022-02-09T19:58:14.477Z"
   },
   {
    "duration": 402,
    "start_time": "2022-02-09T19:58:14.485Z"
   },
   {
    "duration": 18,
    "start_time": "2022-02-09T19:58:14.889Z"
   },
   {
    "duration": 7,
    "start_time": "2022-02-09T19:58:14.908Z"
   },
   {
    "duration": 7,
    "start_time": "2022-02-09T19:58:14.927Z"
   },
   {
    "duration": 548,
    "start_time": "2022-02-09T19:58:14.935Z"
   },
   {
    "duration": 380,
    "start_time": "2022-02-09T19:58:15.485Z"
   },
   {
    "duration": 19,
    "start_time": "2022-02-09T19:58:15.867Z"
   },
   {
    "duration": 8,
    "start_time": "2022-02-09T19:58:15.887Z"
   },
   {
    "duration": 10,
    "start_time": "2022-02-09T19:58:15.897Z"
   },
   {
    "duration": 457,
    "start_time": "2022-02-09T19:58:15.928Z"
   },
   {
    "duration": 19,
    "start_time": "2022-02-09T19:58:16.387Z"
   },
   {
    "duration": 23,
    "start_time": "2022-02-09T19:58:16.408Z"
   },
   {
    "duration": 7,
    "start_time": "2022-02-09T19:58:16.436Z"
   },
   {
    "duration": 6,
    "start_time": "2022-02-09T19:58:16.445Z"
   },
   {
    "duration": 10,
    "start_time": "2022-02-09T19:58:16.452Z"
   },
   {
    "duration": 5,
    "start_time": "2022-02-09T19:58:16.463Z"
   },
   {
    "duration": 10,
    "start_time": "2022-02-09T19:58:16.470Z"
   },
   {
    "duration": 16,
    "start_time": "2022-02-09T20:02:22.377Z"
   },
   {
    "duration": 7,
    "start_time": "2022-02-09T20:02:30.987Z"
   },
   {
    "duration": 1461,
    "start_time": "2022-02-10T11:28:58.348Z"
   },
   {
    "duration": 481,
    "start_time": "2022-02-10T11:28:59.812Z"
   },
   {
    "duration": 67,
    "start_time": "2022-02-10T11:29:00.298Z"
   },
   {
    "duration": 30,
    "start_time": "2022-02-10T11:29:00.369Z"
   },
   {
    "duration": 54,
    "start_time": "2022-02-10T11:29:00.401Z"
   },
   {
    "duration": 26,
    "start_time": "2022-02-10T11:29:00.458Z"
   },
   {
    "duration": 61,
    "start_time": "2022-02-10T11:29:00.488Z"
   },
   {
    "duration": 23,
    "start_time": "2022-02-10T11:29:04.360Z"
   },
   {
    "duration": 27,
    "start_time": "2022-02-10T11:29:11.930Z"
   },
   {
    "duration": 5,
    "start_time": "2022-02-10T11:37:19.003Z"
   },
   {
    "duration": 77,
    "start_time": "2022-02-10T11:37:31.797Z"
   },
   {
    "duration": 5,
    "start_time": "2022-02-10T11:38:02.553Z"
   },
   {
    "duration": 71,
    "start_time": "2022-02-10T11:38:05.178Z"
   },
   {
    "duration": 5,
    "start_time": "2022-02-10T11:39:34.073Z"
   },
   {
    "duration": 73,
    "start_time": "2022-02-10T11:40:27.770Z"
   },
   {
    "duration": 6,
    "start_time": "2022-02-10T11:40:40.146Z"
   },
   {
    "duration": 67,
    "start_time": "2022-02-10T11:40:40.960Z"
   },
   {
    "duration": 5,
    "start_time": "2022-02-10T11:41:14.047Z"
   },
   {
    "duration": 7,
    "start_time": "2022-02-10T11:41:55.146Z"
   },
   {
    "duration": 60,
    "start_time": "2022-02-10T11:41:55.724Z"
   },
   {
    "duration": 6,
    "start_time": "2022-02-10T11:42:17.068Z"
   },
   {
    "duration": 70,
    "start_time": "2022-02-10T11:42:17.587Z"
   },
   {
    "duration": 5,
    "start_time": "2022-02-10T11:42:50.845Z"
   },
   {
    "duration": 6,
    "start_time": "2022-02-10T11:43:31.256Z"
   },
   {
    "duration": 66,
    "start_time": "2022-02-10T11:43:31.835Z"
   },
   {
    "duration": 6,
    "start_time": "2022-02-10T11:43:46.368Z"
   },
   {
    "duration": 76,
    "start_time": "2022-02-10T11:43:47.080Z"
   },
   {
    "duration": 5,
    "start_time": "2022-02-10T11:45:45.068Z"
   },
   {
    "duration": 68,
    "start_time": "2022-02-10T11:45:45.773Z"
   },
   {
    "duration": 5,
    "start_time": "2022-02-10T11:46:14.076Z"
   },
   {
    "duration": 65,
    "start_time": "2022-02-10T11:46:14.664Z"
   },
   {
    "duration": 7,
    "start_time": "2022-02-10T11:46:48.302Z"
   },
   {
    "duration": 69,
    "start_time": "2022-02-10T11:46:49.901Z"
   },
   {
    "duration": 6,
    "start_time": "2022-02-10T11:47:21.963Z"
   },
   {
    "duration": 71,
    "start_time": "2022-02-10T11:47:22.602Z"
   },
   {
    "duration": 6,
    "start_time": "2022-02-10T11:48:37.919Z"
   },
   {
    "duration": 74,
    "start_time": "2022-02-10T11:48:38.634Z"
   },
   {
    "duration": 6,
    "start_time": "2022-02-10T11:48:54.379Z"
   },
   {
    "duration": 64,
    "start_time": "2022-02-10T11:48:54.844Z"
   },
   {
    "duration": 6,
    "start_time": "2022-02-10T11:49:33.679Z"
   },
   {
    "duration": 66,
    "start_time": "2022-02-10T11:49:34.068Z"
   },
   {
    "duration": 6,
    "start_time": "2022-02-10T11:49:47.658Z"
   },
   {
    "duration": 65,
    "start_time": "2022-02-10T11:49:48.018Z"
   },
   {
    "duration": 33,
    "start_time": "2022-02-10T11:54:53.317Z"
   },
   {
    "duration": 70,
    "start_time": "2022-02-10T11:55:05.981Z"
   },
   {
    "duration": 39,
    "start_time": "2022-02-10T11:55:09.370Z"
   },
   {
    "duration": 61,
    "start_time": "2022-02-10T11:55:16.028Z"
   },
   {
    "duration": 46,
    "start_time": "2022-02-10T11:55:20.665Z"
   },
   {
    "duration": 13,
    "start_time": "2022-02-10T12:00:24.695Z"
   },
   {
    "duration": 9,
    "start_time": "2022-02-10T12:00:35.679Z"
   },
   {
    "duration": 85,
    "start_time": "2022-02-10T12:05:33.681Z"
   },
   {
    "duration": 9,
    "start_time": "2022-02-10T12:09:47.230Z"
   },
   {
    "duration": 4,
    "start_time": "2022-02-10T12:11:51.324Z"
   },
   {
    "duration": 469,
    "start_time": "2022-02-10T12:11:51.331Z"
   },
   {
    "duration": 5,
    "start_time": "2022-02-10T12:11:51.803Z"
   },
   {
    "duration": 34,
    "start_time": "2022-02-10T12:11:51.811Z"
   },
   {
    "duration": 62,
    "start_time": "2022-02-10T12:11:51.849Z"
   },
   {
    "duration": 59,
    "start_time": "2022-02-10T12:11:51.914Z"
   },
   {
    "duration": 87,
    "start_time": "2022-02-10T12:11:51.976Z"
   },
   {
    "duration": 56,
    "start_time": "2022-02-10T12:11:52.066Z"
   },
   {
    "duration": 20,
    "start_time": "2022-02-10T12:11:52.150Z"
   },
   {
    "duration": 8,
    "start_time": "2022-02-10T12:11:52.172Z"
   },
   {
    "duration": 10,
    "start_time": "2022-02-10T12:11:52.184Z"
   },
   {
    "duration": 16,
    "start_time": "2022-02-10T12:11:52.197Z"
   },
   {
    "duration": 114,
    "start_time": "2022-02-10T12:11:52.250Z"
   },
   {
    "duration": 6,
    "start_time": "2022-02-10T12:11:52.367Z"
   },
   {
    "duration": 12,
    "start_time": "2022-02-10T12:11:52.375Z"
   },
   {
    "duration": 239,
    "start_time": "2022-02-10T12:11:52.390Z"
   },
   {
    "duration": 27,
    "start_time": "2022-02-10T12:11:52.632Z"
   },
   {
    "duration": 36,
    "start_time": "2022-02-10T12:12:41.781Z"
   },
   {
    "duration": 167,
    "start_time": "2022-02-10T12:13:29.166Z"
   },
   {
    "duration": 22,
    "start_time": "2022-02-10T12:14:32.740Z"
   },
   {
    "duration": 25,
    "start_time": "2022-02-10T12:14:34.084Z"
   },
   {
    "duration": 54,
    "start_time": "2022-02-10T12:14:37.731Z"
   },
   {
    "duration": 12,
    "start_time": "2022-02-10T12:14:45.271Z"
   },
   {
    "duration": 28,
    "start_time": "2022-02-10T12:14:47.565Z"
   },
   {
    "duration": 42,
    "start_time": "2022-02-10T12:14:49.418Z"
   },
   {
    "duration": 5,
    "start_time": "2022-02-10T12:14:59.673Z"
   },
   {
    "duration": 5,
    "start_time": "2022-02-10T12:15:00.768Z"
   },
   {
    "duration": 14,
    "start_time": "2022-02-10T12:15:07.088Z"
   },
   {
    "duration": 44,
    "start_time": "2022-02-10T12:19:58.777Z"
   },
   {
    "duration": 4,
    "start_time": "2022-02-10T12:20:00.229Z"
   },
   {
    "duration": 6,
    "start_time": "2022-02-10T12:20:05.504Z"
   },
   {
    "duration": 13,
    "start_time": "2022-02-10T12:21:00.448Z"
   },
   {
    "duration": 13,
    "start_time": "2022-02-10T12:24:21.913Z"
   },
   {
    "duration": 11,
    "start_time": "2022-02-10T12:28:08.252Z"
   },
   {
    "duration": 15,
    "start_time": "2022-02-10T12:36:35.576Z"
   },
   {
    "duration": 410,
    "start_time": "2022-02-10T12:36:36.721Z"
   },
   {
    "duration": 5,
    "start_time": "2022-02-10T12:36:50.722Z"
   },
   {
    "duration": 868,
    "start_time": "2022-02-10T12:36:50.730Z"
   },
   {
    "duration": 6,
    "start_time": "2022-02-10T12:36:51.602Z"
   },
   {
    "duration": 36,
    "start_time": "2022-02-10T12:36:51.612Z"
   },
   {
    "duration": 62,
    "start_time": "2022-02-10T12:36:51.651Z"
   },
   {
    "duration": 60,
    "start_time": "2022-02-10T12:36:51.716Z"
   },
   {
    "duration": 84,
    "start_time": "2022-02-10T12:36:51.779Z"
   },
   {
    "duration": 50,
    "start_time": "2022-02-10T12:36:51.868Z"
   },
   {
    "duration": 8,
    "start_time": "2022-02-10T12:36:51.949Z"
   },
   {
    "duration": 8,
    "start_time": "2022-02-10T12:36:51.960Z"
   },
   {
    "duration": 6,
    "start_time": "2022-02-10T12:36:51.970Z"
   },
   {
    "duration": 13,
    "start_time": "2022-02-10T12:36:51.978Z"
   },
   {
    "duration": 139,
    "start_time": "2022-02-10T12:36:51.994Z"
   },
   {
    "duration": 15,
    "start_time": "2022-02-10T12:36:52.136Z"
   },
   {
    "duration": 11,
    "start_time": "2022-02-10T12:36:52.153Z"
   },
   {
    "duration": 231,
    "start_time": "2022-02-10T12:36:52.167Z"
   },
   {
    "duration": 13,
    "start_time": "2022-02-10T12:36:52.401Z"
   },
   {
    "duration": 59,
    "start_time": "2022-02-10T12:36:52.417Z"
   },
   {
    "duration": 91,
    "start_time": "2022-02-10T12:36:52.478Z"
   },
   {
    "duration": 12,
    "start_time": "2022-02-10T12:36:52.571Z"
   },
   {
    "duration": 27,
    "start_time": "2022-02-10T12:36:52.585Z"
   },
   {
    "duration": 75,
    "start_time": "2022-02-10T12:36:52.615Z"
   },
   {
    "duration": 12,
    "start_time": "2022-02-10T12:36:52.694Z"
   },
   {
    "duration": 50,
    "start_time": "2022-02-10T12:36:52.709Z"
   },
   {
    "duration": 36,
    "start_time": "2022-02-10T12:36:52.761Z"
   },
   {
    "duration": 4,
    "start_time": "2022-02-10T12:36:52.799Z"
   },
   {
    "duration": 12,
    "start_time": "2022-02-10T12:36:52.806Z"
   },
   {
    "duration": 35,
    "start_time": "2022-02-10T12:36:52.820Z"
   },
   {
    "duration": 11,
    "start_time": "2022-02-10T12:36:52.857Z"
   },
   {
    "duration": 269,
    "start_time": "2022-02-10T12:36:55.354Z"
   },
   {
    "duration": 12,
    "start_time": "2022-02-10T12:44:16.792Z"
   },
   {
    "duration": 11,
    "start_time": "2022-02-10T12:44:37.481Z"
   },
   {
    "duration": 11,
    "start_time": "2022-02-10T12:44:52.971Z"
   },
   {
    "duration": 39,
    "start_time": "2022-02-10T12:45:55.137Z"
   },
   {
    "duration": 11,
    "start_time": "2022-02-10T12:49:15.161Z"
   },
   {
    "duration": 20,
    "start_time": "2022-02-10T12:49:41.502Z"
   },
   {
    "duration": 21,
    "start_time": "2022-02-10T12:49:57.061Z"
   },
   {
    "duration": 16,
    "start_time": "2022-02-10T12:50:32.902Z"
   },
   {
    "duration": 12,
    "start_time": "2022-02-10T12:52:31.393Z"
   },
   {
    "duration": 11,
    "start_time": "2022-02-10T12:52:41.194Z"
   },
   {
    "duration": 11,
    "start_time": "2022-02-10T12:52:45.619Z"
   },
   {
    "duration": 302,
    "start_time": "2022-02-10T12:57:18.373Z"
   },
   {
    "duration": 15,
    "start_time": "2022-02-10T12:59:53.244Z"
   },
   {
    "duration": 10,
    "start_time": "2022-02-10T13:00:00.246Z"
   },
   {
    "duration": 36,
    "start_time": "2022-02-10T13:03:10.463Z"
   },
   {
    "duration": 264,
    "start_time": "2022-02-10T13:05:09.112Z"
   },
   {
    "duration": 7,
    "start_time": "2022-02-10T13:05:18.139Z"
   },
   {
    "duration": 11,
    "start_time": "2022-02-10T13:05:20.281Z"
   },
   {
    "duration": 10,
    "start_time": "2022-02-10T13:05:35.110Z"
   },
   {
    "duration": 5,
    "start_time": "2022-02-10T13:05:36.684Z"
   },
   {
    "duration": 11,
    "start_time": "2022-02-10T13:05:39.887Z"
   },
   {
    "duration": 17,
    "start_time": "2022-02-10T13:05:43.471Z"
   },
   {
    "duration": 18,
    "start_time": "2022-02-10T13:05:48.478Z"
   },
   {
    "duration": 18,
    "start_time": "2022-02-10T13:05:50.971Z"
   },
   {
    "duration": 20,
    "start_time": "2022-02-10T13:05:53.956Z"
   },
   {
    "duration": 258,
    "start_time": "2022-02-10T13:07:01.326Z"
   },
   {
    "duration": 10,
    "start_time": "2022-02-10T13:08:18.226Z"
   },
   {
    "duration": 3653,
    "start_time": "2022-02-10T13:08:45.138Z"
   },
   {
    "duration": 3901,
    "start_time": "2022-02-10T13:09:01.443Z"
   },
   {
    "duration": 11,
    "start_time": "2022-02-10T13:09:23.986Z"
   },
   {
    "duration": 15,
    "start_time": "2022-02-10T13:09:24.712Z"
   },
   {
    "duration": 16,
    "start_time": "2022-02-10T13:09:25.537Z"
   },
   {
    "duration": 17,
    "start_time": "2022-02-10T13:09:26.403Z"
   },
   {
    "duration": 20,
    "start_time": "2022-02-10T13:09:27.237Z"
   },
   {
    "duration": 12,
    "start_time": "2022-02-10T13:09:31.407Z"
   },
   {
    "duration": 19,
    "start_time": "2022-02-10T13:09:34.310Z"
   },
   {
    "duration": 28,
    "start_time": "2022-02-10T13:09:38.884Z"
   },
   {
    "duration": 16,
    "start_time": "2022-02-10T13:09:39.953Z"
   },
   {
    "duration": 24,
    "start_time": "2022-02-10T13:09:42.296Z"
   },
   {
    "duration": 6,
    "start_time": "2022-02-10T13:09:46.579Z"
   },
   {
    "duration": 12,
    "start_time": "2022-02-10T13:09:47.446Z"
   },
   {
    "duration": 14,
    "start_time": "2022-02-10T13:09:48.065Z"
   },
   {
    "duration": 11,
    "start_time": "2022-02-10T13:09:59.439Z"
   },
   {
    "duration": 6,
    "start_time": "2022-02-10T13:10:06.392Z"
   },
   {
    "duration": 13,
    "start_time": "2022-02-10T13:10:06.737Z"
   },
   {
    "duration": 6,
    "start_time": "2022-02-10T13:10:07.590Z"
   },
   {
    "duration": 5,
    "start_time": "2022-02-10T13:10:09.280Z"
   },
   {
    "duration": 683,
    "start_time": "2022-02-10T13:10:20.316Z"
   },
   {
    "duration": 57,
    "start_time": "2022-02-10T13:13:51.962Z"
   },
   {
    "duration": 30,
    "start_time": "2022-02-10T13:15:04.238Z"
   },
   {
    "duration": 29,
    "start_time": "2022-02-10T13:15:20.706Z"
   },
   {
    "duration": 765,
    "start_time": "2022-02-10T13:19:50.520Z"
   },
   {
    "duration": 60,
    "start_time": "2022-02-10T13:21:17.843Z"
   },
   {
    "duration": 836,
    "start_time": "2022-02-10T13:23:42.301Z"
   },
   {
    "duration": 59,
    "start_time": "2022-02-10T13:24:00.608Z"
   },
   {
    "duration": 56,
    "start_time": "2022-02-10T13:24:55.301Z"
   },
   {
    "duration": 288,
    "start_time": "2022-02-10T13:25:28.630Z"
   },
   {
    "duration": 400,
    "start_time": "2022-02-10T13:25:44.299Z"
   },
   {
    "duration": 69,
    "start_time": "2022-02-10T13:28:16.929Z"
   },
   {
    "duration": 71,
    "start_time": "2022-02-10T13:28:29.981Z"
   },
   {
    "duration": 70,
    "start_time": "2022-02-10T13:28:47.732Z"
   },
   {
    "duration": 66,
    "start_time": "2022-02-10T13:30:24.276Z"
   },
   {
    "duration": 250,
    "start_time": "2022-02-10T13:33:00.269Z"
   },
   {
    "duration": 715,
    "start_time": "2022-02-10T13:33:42.180Z"
   },
   {
    "duration": 67,
    "start_time": "2022-02-10T13:35:32.885Z"
   },
   {
    "duration": 1710,
    "start_time": "2022-02-10T13:37:11.129Z"
   },
   {
    "duration": 67,
    "start_time": "2022-02-10T13:37:41.908Z"
   },
   {
    "duration": 324,
    "start_time": "2022-02-10T13:39:08.702Z"
   },
   {
    "duration": 78,
    "start_time": "2022-02-10T13:39:25.808Z"
   },
   {
    "duration": 79,
    "start_time": "2022-02-10T13:41:32.273Z"
   },
   {
    "duration": 344,
    "start_time": "2022-02-10T13:41:58.033Z"
   },
   {
    "duration": 70,
    "start_time": "2022-02-10T13:42:12.924Z"
   },
   {
    "duration": 75,
    "start_time": "2022-02-10T13:42:30.442Z"
   },
   {
    "duration": 70,
    "start_time": "2022-02-10T13:44:32.872Z"
   },
   {
    "duration": 72,
    "start_time": "2022-02-10T13:45:19.183Z"
   },
   {
    "duration": 430,
    "start_time": "2022-02-10T13:46:07.347Z"
   },
   {
    "duration": 73,
    "start_time": "2022-02-10T13:46:35.181Z"
   },
   {
    "duration": 1026,
    "start_time": "2022-02-10T13:47:06.700Z"
   },
   {
    "duration": 72,
    "start_time": "2022-02-10T13:47:21.360Z"
   },
   {
    "duration": 6,
    "start_time": "2022-02-10T13:49:16.058Z"
   },
   {
    "duration": 5,
    "start_time": "2022-02-10T13:49:24.962Z"
   },
   {
    "duration": 76,
    "start_time": "2022-02-10T13:49:54.136Z"
   },
   {
    "duration": 71,
    "start_time": "2022-02-10T13:50:20.132Z"
   },
   {
    "duration": 12,
    "start_time": "2022-02-10T13:55:54.438Z"
   },
   {
    "duration": 12,
    "start_time": "2022-02-10T13:55:55.596Z"
   },
   {
    "duration": 70,
    "start_time": "2022-02-10T13:58:36.088Z"
   },
   {
    "duration": 13,
    "start_time": "2022-02-10T13:59:05.718Z"
   },
   {
    "duration": 12,
    "start_time": "2022-02-10T13:59:07.660Z"
   },
   {
    "duration": 71,
    "start_time": "2022-02-10T13:59:59.510Z"
   },
   {
    "duration": 304,
    "start_time": "2022-02-10T14:52:11.609Z"
   },
   {
    "duration": 7,
    "start_time": "2022-02-10T14:52:16.629Z"
   },
   {
    "duration": 443,
    "start_time": "2022-02-10T14:52:17.231Z"
   },
   {
    "duration": 540,
    "start_time": "2022-02-10T14:52:37.640Z"
   },
   {
    "duration": 937,
    "start_time": "2022-02-10T14:54:00.449Z"
   },
   {
    "duration": 1042,
    "start_time": "2022-02-10T14:54:34.879Z"
   },
   {
    "duration": 719,
    "start_time": "2022-02-10T14:55:10.418Z"
   },
   {
    "duration": 581,
    "start_time": "2022-02-10T14:56:57.988Z"
   },
   {
    "duration": 962,
    "start_time": "2022-02-10T14:57:07.965Z"
   },
   {
    "duration": 7,
    "start_time": "2022-02-10T14:59:17.551Z"
   },
   {
    "duration": 7,
    "start_time": "2022-02-10T15:00:55.933Z"
   },
   {
    "duration": 8,
    "start_time": "2022-02-10T15:02:23.248Z"
   },
   {
    "duration": 8,
    "start_time": "2022-02-10T15:02:42.013Z"
   },
   {
    "duration": 398,
    "start_time": "2022-02-10T15:03:05.180Z"
   },
   {
    "duration": 7,
    "start_time": "2022-02-10T15:03:09.686Z"
   },
   {
    "duration": 11,
    "start_time": "2022-02-10T15:03:10.283Z"
   },
   {
    "duration": 10,
    "start_time": "2022-02-10T15:04:53.464Z"
   },
   {
    "duration": 7,
    "start_time": "2022-02-10T15:05:19.822Z"
   },
   {
    "duration": 9,
    "start_time": "2022-02-10T15:05:26.455Z"
   },
   {
    "duration": 9,
    "start_time": "2022-02-10T15:05:45.111Z"
   },
   {
    "duration": 417,
    "start_time": "2022-02-10T15:21:39.040Z"
   },
   {
    "duration": 408,
    "start_time": "2022-02-10T15:22:48.246Z"
   },
   {
    "duration": 510,
    "start_time": "2022-02-10T15:22:57.138Z"
   },
   {
    "duration": 486,
    "start_time": "2022-02-10T15:23:28.877Z"
   },
   {
    "duration": 490,
    "start_time": "2022-02-10T15:25:32.832Z"
   },
   {
    "duration": 871,
    "start_time": "2022-02-10T15:26:15.555Z"
   },
   {
    "duration": 711,
    "start_time": "2022-02-10T15:26:43.400Z"
   },
   {
    "duration": 702,
    "start_time": "2022-02-10T15:27:30.514Z"
   },
   {
    "duration": 701,
    "start_time": "2022-02-10T15:27:58.991Z"
   },
   {
    "duration": 737,
    "start_time": "2022-02-10T15:28:10.741Z"
   },
   {
    "duration": 778,
    "start_time": "2022-02-10T15:28:24.087Z"
   },
   {
    "duration": 593,
    "start_time": "2022-02-10T15:28:54.444Z"
   },
   {
    "duration": 611,
    "start_time": "2022-02-10T15:30:27.368Z"
   },
   {
    "duration": 585,
    "start_time": "2022-02-10T15:31:35.129Z"
   },
   {
    "duration": 574,
    "start_time": "2022-02-10T15:31:51.590Z"
   },
   {
    "duration": 7,
    "start_time": "2022-02-10T15:35:40.087Z"
   },
   {
    "duration": 567,
    "start_time": "2022-02-10T15:37:04.925Z"
   },
   {
    "duration": 610,
    "start_time": "2022-02-10T15:37:40.642Z"
   },
   {
    "duration": 6,
    "start_time": "2022-02-10T15:44:27.504Z"
   },
   {
    "duration": 6,
    "start_time": "2022-02-10T15:44:31.573Z"
   },
   {
    "duration": 735,
    "start_time": "2022-02-10T15:44:32.156Z"
   },
   {
    "duration": 590,
    "start_time": "2022-02-10T15:44:34.388Z"
   },
   {
    "duration": 504,
    "start_time": "2022-02-10T15:49:24.106Z"
   },
   {
    "duration": 689,
    "start_time": "2022-02-10T15:49:27.244Z"
   },
   {
    "duration": 625,
    "start_time": "2022-02-10T15:50:02.905Z"
   },
   {
    "duration": 5,
    "start_time": "2022-02-10T15:59:13.778Z"
   },
   {
    "duration": 528,
    "start_time": "2022-02-10T15:59:18.056Z"
   },
   {
    "duration": 586,
    "start_time": "2022-02-10T15:59:20.657Z"
   },
   {
    "duration": 261,
    "start_time": "2022-02-10T16:04:46.658Z"
   },
   {
    "duration": 242,
    "start_time": "2022-02-10T16:08:39.743Z"
   },
   {
    "duration": 233,
    "start_time": "2022-02-10T16:08:49.191Z"
   },
   {
    "duration": 243,
    "start_time": "2022-02-10T16:20:11.989Z"
   },
   {
    "duration": 4,
    "start_time": "2022-02-10T16:20:31.766Z"
   },
   {
    "duration": 354,
    "start_time": "2022-02-10T16:20:33.023Z"
   },
   {
    "duration": 236,
    "start_time": "2022-02-10T16:20:45.329Z"
   },
   {
    "duration": 15,
    "start_time": "2022-02-10T16:21:16.023Z"
   },
   {
    "duration": 411,
    "start_time": "2022-02-10T16:21:16.786Z"
   },
   {
    "duration": 416,
    "start_time": "2022-02-10T16:21:40.117Z"
   },
   {
    "duration": 160,
    "start_time": "2022-02-10T16:23:19.492Z"
   },
   {
    "duration": 7,
    "start_time": "2022-02-10T16:29:30.058Z"
   },
   {
    "duration": 4,
    "start_time": "2022-02-10T16:33:41.778Z"
   },
   {
    "duration": 8,
    "start_time": "2022-02-10T16:35:05.499Z"
   },
   {
    "duration": 311,
    "start_time": "2022-02-10T16:35:38.471Z"
   },
   {
    "duration": 235,
    "start_time": "2022-02-10T16:36:08.907Z"
   },
   {
    "duration": 6,
    "start_time": "2022-02-10T16:36:42.792Z"
   },
   {
    "duration": 250,
    "start_time": "2022-02-10T16:36:51.010Z"
   },
   {
    "duration": 242,
    "start_time": "2022-02-10T16:37:54.732Z"
   },
   {
    "duration": 243,
    "start_time": "2022-02-10T16:37:59.853Z"
   },
   {
    "duration": 7,
    "start_time": "2022-02-10T16:38:11.047Z"
   },
   {
    "duration": 6,
    "start_time": "2022-02-10T16:40:40.822Z"
   },
   {
    "duration": 456,
    "start_time": "2022-02-10T16:41:43.163Z"
   },
   {
    "duration": 421,
    "start_time": "2022-02-10T16:42:00.635Z"
   },
   {
    "duration": 509,
    "start_time": "2022-02-10T16:42:01.839Z"
   },
   {
    "duration": 426,
    "start_time": "2022-02-10T16:42:31.732Z"
   },
   {
    "duration": 421,
    "start_time": "2022-02-10T16:47:43.391Z"
   },
   {
    "duration": 5,
    "start_time": "2022-02-10T17:20:30.926Z"
   },
   {
    "duration": 551,
    "start_time": "2022-02-10T17:21:56.885Z"
   },
   {
    "duration": 657,
    "start_time": "2022-02-10T17:22:07.994Z"
   },
   {
    "duration": 5,
    "start_time": "2022-02-10T17:22:37.841Z"
   },
   {
    "duration": 574,
    "start_time": "2022-02-10T17:26:33.977Z"
   },
   {
    "duration": 587,
    "start_time": "2022-02-10T17:26:47.988Z"
   },
   {
    "duration": 5,
    "start_time": "2022-02-10T17:31:36.076Z"
   },
   {
    "duration": 6,
    "start_time": "2022-02-10T17:31:50.843Z"
   },
   {
    "duration": 5,
    "start_time": "2022-02-10T17:32:14.321Z"
   },
   {
    "duration": 5,
    "start_time": "2022-02-10T17:32:42.450Z"
   },
   {
    "duration": 5,
    "start_time": "2022-02-10T17:33:41.942Z"
   },
   {
    "duration": 6,
    "start_time": "2022-02-10T17:33:53.288Z"
   },
   {
    "duration": 6,
    "start_time": "2022-02-10T17:41:17.835Z"
   },
   {
    "duration": 514,
    "start_time": "2022-02-10T17:42:17.313Z"
   },
   {
    "duration": 506,
    "start_time": "2022-02-10T17:42:22.315Z"
   },
   {
    "duration": 573,
    "start_time": "2022-02-10T17:42:23.112Z"
   },
   {
    "duration": 1702,
    "start_time": "2022-02-10T17:53:28.821Z"
   },
   {
    "duration": 476,
    "start_time": "2022-02-10T17:53:30.526Z"
   },
   {
    "duration": 6,
    "start_time": "2022-02-10T17:53:31.005Z"
   },
   {
    "duration": 45,
    "start_time": "2022-02-10T17:53:31.013Z"
   },
   {
    "duration": 64,
    "start_time": "2022-02-10T17:53:31.060Z"
   },
   {
    "duration": 55,
    "start_time": "2022-02-10T17:53:31.126Z"
   },
   {
    "duration": 82,
    "start_time": "2022-02-10T17:53:31.184Z"
   },
   {
    "duration": 47,
    "start_time": "2022-02-10T17:53:31.269Z"
   },
   {
    "duration": 53,
    "start_time": "2022-02-10T17:53:31.320Z"
   },
   {
    "duration": 13,
    "start_time": "2022-02-10T17:53:31.376Z"
   },
   {
    "duration": 29,
    "start_time": "2022-02-10T17:53:31.391Z"
   },
   {
    "duration": 21,
    "start_time": "2022-02-10T17:53:31.422Z"
   },
   {
    "duration": 103,
    "start_time": "2022-02-10T17:53:31.446Z"
   },
   {
    "duration": 6,
    "start_time": "2022-02-10T17:53:31.551Z"
   },
   {
    "duration": 19,
    "start_time": "2022-02-10T17:53:31.559Z"
   },
   {
    "duration": 227,
    "start_time": "2022-02-10T17:53:31.580Z"
   },
   {
    "duration": 16,
    "start_time": "2022-02-10T17:53:31.809Z"
   },
   {
    "duration": 54,
    "start_time": "2022-02-10T17:53:31.827Z"
   },
   {
    "duration": 109,
    "start_time": "2022-02-10T17:53:31.883Z"
   },
   {
    "duration": 12,
    "start_time": "2022-02-10T17:53:31.995Z"
   },
   {
    "duration": 43,
    "start_time": "2022-02-10T17:53:32.009Z"
   },
   {
    "duration": 52,
    "start_time": "2022-02-10T17:53:32.055Z"
   },
   {
    "duration": 42,
    "start_time": "2022-02-10T17:53:32.110Z"
   },
   {
    "duration": 30,
    "start_time": "2022-02-10T17:53:32.155Z"
   },
   {
    "duration": 77,
    "start_time": "2022-02-10T17:53:32.188Z"
   },
   {
    "duration": 5,
    "start_time": "2022-02-10T17:53:32.268Z"
   },
   {
    "duration": 22,
    "start_time": "2022-02-10T17:53:32.281Z"
   },
   {
    "duration": 20,
    "start_time": "2022-02-10T17:53:32.309Z"
   },
   {
    "duration": 29,
    "start_time": "2022-02-10T17:53:32.332Z"
   },
   {
    "duration": 17,
    "start_time": "2022-02-10T17:53:32.364Z"
   },
   {
    "duration": 56,
    "start_time": "2022-02-10T17:53:32.384Z"
   },
   {
    "duration": 6,
    "start_time": "2022-02-10T17:53:32.443Z"
   },
   {
    "duration": 19,
    "start_time": "2022-02-10T17:53:32.452Z"
   },
   {
    "duration": 13,
    "start_time": "2022-02-10T17:53:32.474Z"
   },
   {
    "duration": 20,
    "start_time": "2022-02-10T17:53:32.490Z"
   },
   {
    "duration": 36,
    "start_time": "2022-02-10T17:53:32.513Z"
   },
   {
    "duration": 19,
    "start_time": "2022-02-10T17:53:32.552Z"
   },
   {
    "duration": 19,
    "start_time": "2022-02-10T17:53:32.573Z"
   },
   {
    "duration": 40,
    "start_time": "2022-02-10T17:53:32.595Z"
   },
   {
    "duration": 13,
    "start_time": "2022-02-10T17:53:32.650Z"
   },
   {
    "duration": 36,
    "start_time": "2022-02-10T17:53:32.665Z"
   },
   {
    "duration": 32,
    "start_time": "2022-02-10T17:53:32.704Z"
   },
   {
    "duration": 26,
    "start_time": "2022-02-10T17:53:32.738Z"
   },
   {
    "duration": 25,
    "start_time": "2022-02-10T17:53:32.767Z"
   },
   {
    "duration": 9,
    "start_time": "2022-02-10T17:53:32.795Z"
   },
   {
    "duration": 45,
    "start_time": "2022-02-10T17:53:32.806Z"
   },
   {
    "duration": 35,
    "start_time": "2022-02-10T17:53:32.853Z"
   },
   {
    "duration": 12,
    "start_time": "2022-02-10T17:53:32.890Z"
   },
   {
    "duration": 9,
    "start_time": "2022-02-10T17:53:32.904Z"
   },
   {
    "duration": 25,
    "start_time": "2022-02-10T17:53:32.916Z"
   },
   {
    "duration": 14,
    "start_time": "2022-02-10T17:53:32.944Z"
   },
   {
    "duration": 12,
    "start_time": "2022-02-10T17:53:32.960Z"
   },
   {
    "duration": 709,
    "start_time": "2022-02-10T17:53:32.974Z"
   },
   {
    "duration": 87,
    "start_time": "2022-02-10T17:53:33.686Z"
   },
   {
    "duration": 12,
    "start_time": "2022-02-10T17:53:33.776Z"
   },
   {
    "duration": 18,
    "start_time": "2022-02-10T17:53:33.790Z"
   },
   {
    "duration": 686,
    "start_time": "2022-02-10T17:53:33.811Z"
   },
   {
    "duration": 683,
    "start_time": "2022-02-10T17:53:34.500Z"
   },
   {
    "duration": 94,
    "start_time": "2022-02-10T17:53:35.186Z"
   },
   {
    "duration": 12,
    "start_time": "2022-02-10T17:53:35.283Z"
   },
   {
    "duration": 13,
    "start_time": "2022-02-10T17:53:35.298Z"
   },
   {
    "duration": 837,
    "start_time": "2022-02-10T17:53:35.314Z"
   },
   {
    "duration": 70,
    "start_time": "2022-02-10T17:53:36.154Z"
   },
   {
    "duration": 31,
    "start_time": "2022-02-10T17:53:36.226Z"
   },
   {
    "duration": 12,
    "start_time": "2022-02-10T17:53:36.259Z"
   },
   {
    "duration": 5,
    "start_time": "2022-02-10T17:53:36.273Z"
   },
   {
    "duration": 12,
    "start_time": "2022-02-10T17:53:36.281Z"
   },
   {
    "duration": 590,
    "start_time": "2022-02-10T17:53:36.295Z"
   },
   {
    "duration": 434,
    "start_time": "2022-02-10T17:53:36.888Z"
   },
   {
    "duration": 625,
    "start_time": "2022-02-10T17:53:37.324Z"
   },
   {
    "duration": 448,
    "start_time": "2022-02-10T17:53:37.951Z"
   },
   {
    "duration": 6,
    "start_time": "2022-02-10T17:53:38.401Z"
   },
   {
    "duration": 15,
    "start_time": "2022-02-10T17:53:38.409Z"
   },
   {
    "duration": 23,
    "start_time": "2022-02-10T17:53:38.426Z"
   },
   {
    "duration": 7,
    "start_time": "2022-02-10T17:53:38.452Z"
   },
   {
    "duration": 529,
    "start_time": "2022-02-10T17:53:38.462Z"
   },
   {
    "duration": 429,
    "start_time": "2022-02-10T17:53:38.994Z"
   },
   {
    "duration": 628,
    "start_time": "2022-02-10T17:53:39.425Z"
   },
   {
    "duration": 545,
    "start_time": "2022-02-10T17:53:40.055Z"
   },
   {
    "duration": 5,
    "start_time": "2022-02-10T17:53:40.603Z"
   },
   {
    "duration": 32,
    "start_time": "2022-02-10T17:53:40.616Z"
   },
   {
    "duration": 8,
    "start_time": "2022-02-10T17:53:40.651Z"
   },
   {
    "duration": 32,
    "start_time": "2022-02-10T18:10:43.245Z"
   },
   {
    "duration": 1325,
    "start_time": "2022-02-10T18:21:20.452Z"
   },
   {
    "duration": 437,
    "start_time": "2022-02-10T18:21:30.962Z"
   },
   {
    "duration": 1573,
    "start_time": "2022-02-10T18:27:18.337Z"
   },
   {
    "duration": 482,
    "start_time": "2022-02-10T18:27:19.913Z"
   },
   {
    "duration": 6,
    "start_time": "2022-02-10T18:27:20.398Z"
   },
   {
    "duration": 45,
    "start_time": "2022-02-10T18:27:20.406Z"
   },
   {
    "duration": 69,
    "start_time": "2022-02-10T18:27:20.454Z"
   },
   {
    "duration": 61,
    "start_time": "2022-02-10T18:27:20.526Z"
   },
   {
    "duration": 88,
    "start_time": "2022-02-10T18:27:20.590Z"
   },
   {
    "duration": 74,
    "start_time": "2022-02-10T18:27:20.684Z"
   },
   {
    "duration": 19,
    "start_time": "2022-02-10T18:27:20.762Z"
   },
   {
    "duration": 8,
    "start_time": "2022-02-10T18:27:20.783Z"
   },
   {
    "duration": 11,
    "start_time": "2022-02-10T18:27:20.793Z"
   },
   {
    "duration": 42,
    "start_time": "2022-02-10T18:27:20.806Z"
   },
   {
    "duration": 104,
    "start_time": "2022-02-10T18:27:20.851Z"
   },
   {
    "duration": 6,
    "start_time": "2022-02-10T18:27:20.957Z"
   },
   {
    "duration": 14,
    "start_time": "2022-02-10T18:27:20.965Z"
   },
   {
    "duration": 242,
    "start_time": "2022-02-10T18:27:20.981Z"
   },
   {
    "duration": 29,
    "start_time": "2022-02-10T18:27:21.226Z"
   },
   {
    "duration": 36,
    "start_time": "2022-02-10T18:27:21.257Z"
   },
   {
    "duration": 132,
    "start_time": "2022-02-10T18:27:21.296Z"
   },
   {
    "duration": 26,
    "start_time": "2022-02-10T18:27:21.430Z"
   },
   {
    "duration": 25,
    "start_time": "2022-02-10T18:27:21.459Z"
   },
   {
    "duration": 78,
    "start_time": "2022-02-10T18:27:21.487Z"
   },
   {
    "duration": 13,
    "start_time": "2022-02-10T18:27:21.571Z"
   },
   {
    "duration": 28,
    "start_time": "2022-02-10T18:27:21.588Z"
   },
   {
    "duration": 73,
    "start_time": "2022-02-10T18:27:21.619Z"
   },
   {
    "duration": 4,
    "start_time": "2022-02-10T18:27:21.695Z"
   },
   {
    "duration": 10,
    "start_time": "2022-02-10T18:27:21.701Z"
   },
   {
    "duration": 39,
    "start_time": "2022-02-10T18:27:21.713Z"
   },
   {
    "duration": 16,
    "start_time": "2022-02-10T18:27:21.755Z"
   },
   {
    "duration": 21,
    "start_time": "2022-02-10T18:27:21.774Z"
   },
   {
    "duration": 62,
    "start_time": "2022-02-10T18:27:21.797Z"
   },
   {
    "duration": 7,
    "start_time": "2022-02-10T18:27:21.861Z"
   },
   {
    "duration": 40,
    "start_time": "2022-02-10T18:27:21.871Z"
   },
   {
    "duration": 15,
    "start_time": "2022-02-10T18:27:21.913Z"
   },
   {
    "duration": 20,
    "start_time": "2022-02-10T18:27:21.931Z"
   },
   {
    "duration": 24,
    "start_time": "2022-02-10T18:27:21.953Z"
   },
   {
    "duration": 28,
    "start_time": "2022-02-10T18:27:21.980Z"
   },
   {
    "duration": 17,
    "start_time": "2022-02-10T18:27:22.010Z"
   },
   {
    "duration": 37,
    "start_time": "2022-02-10T18:27:22.030Z"
   },
   {
    "duration": 25,
    "start_time": "2022-02-10T18:27:22.070Z"
   },
   {
    "duration": 23,
    "start_time": "2022-02-10T18:27:22.098Z"
   },
   {
    "duration": 46,
    "start_time": "2022-02-10T18:27:22.123Z"
   },
   {
    "duration": 19,
    "start_time": "2022-02-10T18:27:22.172Z"
   },
   {
    "duration": 22,
    "start_time": "2022-02-10T18:27:22.194Z"
   },
   {
    "duration": 30,
    "start_time": "2022-02-10T18:27:22.220Z"
   },
   {
    "duration": 46,
    "start_time": "2022-02-10T18:27:22.252Z"
   },
   {
    "duration": 16,
    "start_time": "2022-02-10T18:27:22.301Z"
   },
   {
    "duration": 17,
    "start_time": "2022-02-10T18:27:22.320Z"
   },
   {
    "duration": 19,
    "start_time": "2022-02-10T18:27:22.339Z"
   },
   {
    "duration": 14,
    "start_time": "2022-02-10T18:27:22.360Z"
   },
   {
    "duration": 26,
    "start_time": "2022-02-10T18:27:22.377Z"
   },
   {
    "duration": 26,
    "start_time": "2022-02-10T18:27:22.406Z"
   },
   {
    "duration": 734,
    "start_time": "2022-02-10T18:27:22.434Z"
   },
   {
    "duration": 92,
    "start_time": "2022-02-10T18:27:23.171Z"
   },
   {
    "duration": 12,
    "start_time": "2022-02-10T18:27:23.265Z"
   },
   {
    "duration": 24,
    "start_time": "2022-02-10T18:27:23.279Z"
   },
   {
    "duration": 671,
    "start_time": "2022-02-10T18:27:23.307Z"
   },
   {
    "duration": 643,
    "start_time": "2022-02-10T18:27:23.980Z"
   },
   {
    "duration": 78,
    "start_time": "2022-02-10T18:27:24.625Z"
   },
   {
    "duration": 12,
    "start_time": "2022-02-10T18:27:24.706Z"
   },
   {
    "duration": 32,
    "start_time": "2022-02-10T18:27:24.720Z"
   },
   {
    "duration": 872,
    "start_time": "2022-02-10T18:27:24.755Z"
   },
   {
    "duration": 83,
    "start_time": "2022-02-10T18:27:25.629Z"
   },
   {
    "duration": 13,
    "start_time": "2022-02-10T18:27:25.715Z"
   },
   {
    "duration": 11,
    "start_time": "2022-02-10T18:27:25.749Z"
   },
   {
    "duration": 6,
    "start_time": "2022-02-10T18:27:25.762Z"
   },
   {
    "duration": 10,
    "start_time": "2022-02-10T18:27:25.770Z"
   },
   {
    "duration": 581,
    "start_time": "2022-02-10T18:27:25.788Z"
   },
   {
    "duration": 413,
    "start_time": "2022-02-10T18:27:26.372Z"
   },
   {
    "duration": 593,
    "start_time": "2022-02-10T18:27:26.787Z"
   },
   {
    "duration": 434,
    "start_time": "2022-02-10T18:27:27.383Z"
   },
   {
    "duration": 6,
    "start_time": "2022-02-10T18:27:27.819Z"
   },
   {
    "duration": 24,
    "start_time": "2022-02-10T18:27:27.827Z"
   },
   {
    "duration": 11,
    "start_time": "2022-02-10T18:27:27.853Z"
   },
   {
    "duration": 13,
    "start_time": "2022-02-10T18:27:27.866Z"
   },
   {
    "duration": 526,
    "start_time": "2022-02-10T18:27:27.881Z"
   },
   {
    "duration": 421,
    "start_time": "2022-02-10T18:27:28.410Z"
   },
   {
    "duration": 594,
    "start_time": "2022-02-10T18:27:28.833Z"
   },
   {
    "duration": 430,
    "start_time": "2022-02-10T18:27:29.430Z"
   },
   {
    "duration": 7,
    "start_time": "2022-02-10T18:27:29.862Z"
   },
   {
    "duration": 12,
    "start_time": "2022-02-10T18:27:29.871Z"
   },
   {
    "duration": 19,
    "start_time": "2022-02-10T18:27:29.886Z"
   },
   {
    "duration": 95,
    "start_time": "2022-02-10T18:33:40.926Z"
   },
   {
    "duration": 88,
    "start_time": "2022-02-10T18:33:59.952Z"
   },
   {
    "duration": 6,
    "start_time": "2022-02-10T18:34:41.420Z"
   },
   {
    "duration": 763,
    "start_time": "2022-02-10T18:35:24.189Z"
   },
   {
    "duration": 6,
    "start_time": "2022-02-10T18:36:13.749Z"
   },
   {
    "duration": 628,
    "start_time": "2022-02-10T18:36:20.701Z"
   },
   {
    "duration": 675,
    "start_time": "2022-02-10T18:38:05.439Z"
   },
   {
    "duration": 783,
    "start_time": "2022-02-10T18:38:15.173Z"
   },
   {
    "duration": 5,
    "start_time": "2022-02-10T18:38:47.131Z"
   },
   {
    "duration": 840,
    "start_time": "2022-02-10T18:39:33.355Z"
   },
   {
    "duration": 5,
    "start_time": "2022-02-10T18:41:02.181Z"
   },
   {
    "duration": 6,
    "start_time": "2022-02-10T18:41:14.365Z"
   },
   {
    "duration": 6,
    "start_time": "2022-02-10T18:42:12.185Z"
   },
   {
    "duration": 628,
    "start_time": "2022-02-10T18:42:42.922Z"
   },
   {
    "duration": 5,
    "start_time": "2022-02-10T18:46:26.932Z"
   },
   {
    "duration": 6,
    "start_time": "2022-02-10T18:46:30.520Z"
   },
   {
    "duration": 6,
    "start_time": "2022-02-10T18:47:08.520Z"
   },
   {
    "duration": 6,
    "start_time": "2022-02-10T18:47:26.303Z"
   },
   {
    "duration": 6,
    "start_time": "2022-02-10T18:47:41.954Z"
   },
   {
    "duration": 1422,
    "start_time": "2022-02-10T18:51:38.291Z"
   },
   {
    "duration": 493,
    "start_time": "2022-02-10T18:51:39.715Z"
   },
   {
    "duration": 6,
    "start_time": "2022-02-10T18:51:40.212Z"
   },
   {
    "duration": 37,
    "start_time": "2022-02-10T18:51:40.221Z"
   },
   {
    "duration": 66,
    "start_time": "2022-02-10T18:51:40.260Z"
   },
   {
    "duration": 58,
    "start_time": "2022-02-10T18:51:40.328Z"
   },
   {
    "duration": 87,
    "start_time": "2022-02-10T18:51:40.388Z"
   },
   {
    "duration": 71,
    "start_time": "2022-02-10T18:51:40.477Z"
   },
   {
    "duration": 18,
    "start_time": "2022-02-10T18:51:40.552Z"
   },
   {
    "duration": 10,
    "start_time": "2022-02-10T18:51:40.573Z"
   },
   {
    "duration": 23,
    "start_time": "2022-02-10T18:51:40.586Z"
   },
   {
    "duration": 15,
    "start_time": "2022-02-10T18:51:40.612Z"
   },
   {
    "duration": 120,
    "start_time": "2022-02-10T18:51:40.629Z"
   },
   {
    "duration": 5,
    "start_time": "2022-02-10T18:51:40.752Z"
   },
   {
    "duration": 15,
    "start_time": "2022-02-10T18:51:40.760Z"
   },
   {
    "duration": 211,
    "start_time": "2022-02-10T18:51:40.778Z"
   },
   {
    "duration": 15,
    "start_time": "2022-02-10T18:51:40.992Z"
   },
   {
    "duration": 57,
    "start_time": "2022-02-10T18:51:41.010Z"
   },
   {
    "duration": 103,
    "start_time": "2022-02-10T18:51:41.069Z"
   },
   {
    "duration": 12,
    "start_time": "2022-02-10T18:51:41.174Z"
   },
   {
    "duration": 25,
    "start_time": "2022-02-10T18:51:41.188Z"
   },
   {
    "duration": 78,
    "start_time": "2022-02-10T18:51:41.215Z"
   },
   {
    "duration": 13,
    "start_time": "2022-02-10T18:51:41.295Z"
   },
   {
    "duration": 57,
    "start_time": "2022-02-10T18:51:41.311Z"
   },
   {
    "duration": 42,
    "start_time": "2022-02-10T18:51:41.370Z"
   },
   {
    "duration": 5,
    "start_time": "2022-02-10T18:51:41.414Z"
   },
   {
    "duration": 5,
    "start_time": "2022-02-10T18:51:41.450Z"
   },
   {
    "duration": 13,
    "start_time": "2022-02-10T18:51:41.459Z"
   },
   {
    "duration": 15,
    "start_time": "2022-02-10T18:51:41.474Z"
   },
   {
    "duration": 12,
    "start_time": "2022-02-10T18:51:41.491Z"
   },
   {
    "duration": 72,
    "start_time": "2022-02-10T18:51:41.506Z"
   },
   {
    "duration": 7,
    "start_time": "2022-02-10T18:51:41.580Z"
   },
   {
    "duration": 14,
    "start_time": "2022-02-10T18:51:41.589Z"
   },
   {
    "duration": 5,
    "start_time": "2022-02-10T18:51:41.605Z"
   },
   {
    "duration": 48,
    "start_time": "2022-02-10T18:51:41.613Z"
   },
   {
    "duration": 19,
    "start_time": "2022-02-10T18:51:41.664Z"
   },
   {
    "duration": 18,
    "start_time": "2022-02-10T18:51:41.685Z"
   },
   {
    "duration": 50,
    "start_time": "2022-02-10T18:51:41.706Z"
   },
   {
    "duration": 23,
    "start_time": "2022-02-10T18:51:41.759Z"
   },
   {
    "duration": 13,
    "start_time": "2022-02-10T18:51:41.785Z"
   },
   {
    "duration": 49,
    "start_time": "2022-02-10T18:51:41.801Z"
   },
   {
    "duration": 31,
    "start_time": "2022-02-10T18:51:41.853Z"
   },
   {
    "duration": 19,
    "start_time": "2022-02-10T18:51:41.886Z"
   },
   {
    "duration": 49,
    "start_time": "2022-02-10T18:51:41.907Z"
   },
   {
    "duration": 6,
    "start_time": "2022-02-10T18:51:41.959Z"
   },
   {
    "duration": 20,
    "start_time": "2022-02-10T18:51:41.967Z"
   },
   {
    "duration": 13,
    "start_time": "2022-02-10T18:51:41.989Z"
   },
   {
    "duration": 51,
    "start_time": "2022-02-10T18:51:42.004Z"
   },
   {
    "duration": 7,
    "start_time": "2022-02-10T18:51:42.057Z"
   },
   {
    "duration": 7,
    "start_time": "2022-02-10T18:51:42.066Z"
   },
   {
    "duration": 7,
    "start_time": "2022-02-10T18:51:42.076Z"
   },
   {
    "duration": 12,
    "start_time": "2022-02-10T18:51:42.086Z"
   },
   {
    "duration": 725,
    "start_time": "2022-02-10T18:51:42.101Z"
   },
   {
    "duration": 79,
    "start_time": "2022-02-10T18:51:42.829Z"
   },
   {
    "duration": 13,
    "start_time": "2022-02-10T18:51:42.910Z"
   },
   {
    "duration": 32,
    "start_time": "2022-02-10T18:51:42.925Z"
   },
   {
    "duration": 655,
    "start_time": "2022-02-10T18:51:42.959Z"
   },
   {
    "duration": 660,
    "start_time": "2022-02-10T18:51:43.617Z"
   },
   {
    "duration": 85,
    "start_time": "2022-02-10T18:51:44.280Z"
   },
   {
    "duration": 11,
    "start_time": "2022-02-10T18:51:44.368Z"
   },
   {
    "duration": 12,
    "start_time": "2022-02-10T18:51:44.382Z"
   },
   {
    "duration": 784,
    "start_time": "2022-02-10T18:51:44.397Z"
   },
   {
    "duration": 86,
    "start_time": "2022-02-10T18:51:45.184Z"
   },
   {
    "duration": 12,
    "start_time": "2022-02-10T18:51:45.272Z"
   },
   {
    "duration": 11,
    "start_time": "2022-02-10T18:51:45.286Z"
   },
   {
    "duration": 6,
    "start_time": "2022-02-10T18:51:45.300Z"
   },
   {
    "duration": 42,
    "start_time": "2022-02-10T18:51:45.309Z"
   },
   {
    "duration": 14,
    "start_time": "2022-02-10T18:51:45.354Z"
   },
   {
    "duration": 606,
    "start_time": "2022-02-10T18:51:45.370Z"
   },
   {
    "duration": 438,
    "start_time": "2022-02-10T18:51:45.980Z"
   },
   {
    "duration": 577,
    "start_time": "2022-02-10T18:51:46.422Z"
   },
   {
    "duration": 458,
    "start_time": "2022-02-10T18:51:47.003Z"
   },
   {
    "duration": 6,
    "start_time": "2022-02-10T18:51:47.463Z"
   },
   {
    "duration": 10,
    "start_time": "2022-02-10T18:51:47.472Z"
   },
   {
    "duration": 13,
    "start_time": "2022-02-10T18:51:47.484Z"
   },
   {
    "duration": 8,
    "start_time": "2022-02-10T18:51:47.500Z"
   },
   {
    "duration": 542,
    "start_time": "2022-02-10T18:51:47.510Z"
   },
   {
    "duration": 418,
    "start_time": "2022-02-10T18:51:48.055Z"
   },
   {
    "duration": 812,
    "start_time": "2022-02-10T18:51:48.476Z"
   },
   {
    "duration": 603,
    "start_time": "2022-02-10T18:51:49.291Z"
   },
   {
    "duration": 6,
    "start_time": "2022-02-10T18:51:49.902Z"
   },
   {
    "duration": 12,
    "start_time": "2022-02-10T18:51:49.910Z"
   },
   {
    "duration": 8,
    "start_time": "2022-02-10T18:51:49.925Z"
   },
   {
    "duration": 1478,
    "start_time": "2022-02-10T18:58:52.520Z"
   },
   {
    "duration": 476,
    "start_time": "2022-02-10T18:58:54.000Z"
   },
   {
    "duration": 5,
    "start_time": "2022-02-10T18:58:54.479Z"
   },
   {
    "duration": 35,
    "start_time": "2022-02-10T18:58:54.487Z"
   },
   {
    "duration": 72,
    "start_time": "2022-02-10T18:58:54.524Z"
   },
   {
    "duration": 52,
    "start_time": "2022-02-10T18:58:54.599Z"
   },
   {
    "duration": 63,
    "start_time": "2022-02-10T18:58:54.653Z"
   },
   {
    "duration": 69,
    "start_time": "2022-02-10T18:58:54.720Z"
   },
   {
    "duration": 17,
    "start_time": "2022-02-10T18:58:54.792Z"
   },
   {
    "duration": 40,
    "start_time": "2022-02-10T18:58:54.812Z"
   },
   {
    "duration": 7,
    "start_time": "2022-02-10T18:58:54.854Z"
   },
   {
    "duration": 22,
    "start_time": "2022-02-10T18:58:54.864Z"
   },
   {
    "duration": 111,
    "start_time": "2022-02-10T18:58:54.888Z"
   },
   {
    "duration": 6,
    "start_time": "2022-02-10T18:58:55.001Z"
   },
   {
    "duration": 12,
    "start_time": "2022-02-10T18:58:55.009Z"
   },
   {
    "duration": 227,
    "start_time": "2022-02-10T18:58:55.023Z"
   },
   {
    "duration": 13,
    "start_time": "2022-02-10T18:58:55.253Z"
   },
   {
    "duration": 35,
    "start_time": "2022-02-10T18:58:55.269Z"
   },
   {
    "duration": 122,
    "start_time": "2022-02-10T18:58:55.306Z"
   },
   {
    "duration": 20,
    "start_time": "2022-02-10T18:58:55.430Z"
   },
   {
    "duration": 23,
    "start_time": "2022-02-10T18:58:55.452Z"
   },
   {
    "duration": 71,
    "start_time": "2022-02-10T18:58:55.477Z"
   },
   {
    "duration": 14,
    "start_time": "2022-02-10T18:58:55.554Z"
   },
   {
    "duration": 26,
    "start_time": "2022-02-10T18:58:55.572Z"
   },
   {
    "duration": 75,
    "start_time": "2022-02-10T18:58:55.600Z"
   },
   {
    "duration": 4,
    "start_time": "2022-02-10T18:58:55.678Z"
   },
   {
    "duration": 8,
    "start_time": "2022-02-10T18:58:55.684Z"
   },
   {
    "duration": 14,
    "start_time": "2022-02-10T18:58:55.694Z"
   },
   {
    "duration": 38,
    "start_time": "2022-02-10T18:58:55.710Z"
   },
   {
    "duration": 10,
    "start_time": "2022-02-10T18:58:55.751Z"
   },
   {
    "duration": 39,
    "start_time": "2022-02-10T18:58:55.764Z"
   },
   {
    "duration": 8,
    "start_time": "2022-02-10T18:58:55.806Z"
   },
   {
    "duration": 12,
    "start_time": "2022-02-10T18:58:55.848Z"
   },
   {
    "duration": 8,
    "start_time": "2022-02-10T18:58:55.863Z"
   },
   {
    "duration": 14,
    "start_time": "2022-02-10T18:58:55.874Z"
   },
   {
    "duration": 63,
    "start_time": "2022-02-10T18:58:55.890Z"
   },
   {
    "duration": 25,
    "start_time": "2022-02-10T18:58:55.956Z"
   },
   {
    "duration": 18,
    "start_time": "2022-02-10T18:58:55.984Z"
   },
   {
    "duration": 21,
    "start_time": "2022-02-10T18:58:56.004Z"
   },
   {
    "duration": 12,
    "start_time": "2022-02-10T18:58:56.048Z"
   },
   {
    "duration": 20,
    "start_time": "2022-02-10T18:58:56.064Z"
   },
   {
    "duration": 63,
    "start_time": "2022-02-10T18:58:56.087Z"
   },
   {
    "duration": 20,
    "start_time": "2022-02-10T18:58:56.153Z"
   },
   {
    "duration": 19,
    "start_time": "2022-02-10T18:58:56.175Z"
   },
   {
    "duration": 7,
    "start_time": "2022-02-10T18:58:56.196Z"
   },
   {
    "duration": 51,
    "start_time": "2022-02-10T18:58:56.207Z"
   },
   {
    "duration": 16,
    "start_time": "2022-02-10T18:58:56.261Z"
   },
   {
    "duration": 12,
    "start_time": "2022-02-10T18:58:56.280Z"
   },
   {
    "duration": 7,
    "start_time": "2022-02-10T18:58:56.295Z"
   },
   {
    "duration": 52,
    "start_time": "2022-02-10T18:58:56.304Z"
   },
   {
    "duration": 6,
    "start_time": "2022-02-10T18:58:56.358Z"
   },
   {
    "duration": 9,
    "start_time": "2022-02-10T18:58:56.367Z"
   },
   {
    "duration": 696,
    "start_time": "2022-02-10T18:58:56.378Z"
   },
   {
    "duration": 94,
    "start_time": "2022-02-10T18:58:57.076Z"
   },
   {
    "duration": 14,
    "start_time": "2022-02-10T18:58:57.173Z"
   },
   {
    "duration": 20,
    "start_time": "2022-02-10T18:58:57.189Z"
   },
   {
    "duration": 691,
    "start_time": "2022-02-10T18:58:57.212Z"
   },
   {
    "duration": 678,
    "start_time": "2022-02-10T18:58:57.906Z"
   },
   {
    "duration": 88,
    "start_time": "2022-02-10T18:58:58.587Z"
   },
   {
    "duration": 13,
    "start_time": "2022-02-10T18:58:58.678Z"
   },
   {
    "duration": 13,
    "start_time": "2022-02-10T18:58:58.694Z"
   },
   {
    "duration": 792,
    "start_time": "2022-02-10T18:58:58.710Z"
   },
   {
    "duration": 95,
    "start_time": "2022-02-10T18:58:59.506Z"
   },
   {
    "duration": 12,
    "start_time": "2022-02-10T18:58:59.604Z"
   },
   {
    "duration": 13,
    "start_time": "2022-02-10T18:58:59.618Z"
   },
   {
    "duration": 6,
    "start_time": "2022-02-10T18:58:59.649Z"
   },
   {
    "duration": 6,
    "start_time": "2022-02-10T18:58:59.657Z"
   },
   {
    "duration": 8,
    "start_time": "2022-02-10T18:58:59.671Z"
   },
   {
    "duration": 581,
    "start_time": "2022-02-10T18:58:59.682Z"
   },
   {
    "duration": 429,
    "start_time": "2022-02-10T18:59:00.265Z"
   },
   {
    "duration": 574,
    "start_time": "2022-02-10T18:59:00.696Z"
   },
   {
    "duration": 450,
    "start_time": "2022-02-10T18:59:01.273Z"
   },
   {
    "duration": 6,
    "start_time": "2022-02-10T18:59:01.727Z"
   },
   {
    "duration": 24,
    "start_time": "2022-02-10T18:59:01.736Z"
   },
   {
    "duration": 9,
    "start_time": "2022-02-10T18:59:01.763Z"
   },
   {
    "duration": 25,
    "start_time": "2022-02-10T18:59:01.775Z"
   },
   {
    "duration": 547,
    "start_time": "2022-02-10T18:59:01.802Z"
   },
   {
    "duration": 559,
    "start_time": "2022-02-10T18:59:02.351Z"
   },
   {
    "duration": 591,
    "start_time": "2022-02-10T18:59:02.913Z"
   },
   {
    "duration": 487,
    "start_time": "2022-02-10T18:59:03.507Z"
   },
   {
    "duration": 6,
    "start_time": "2022-02-10T18:59:03.997Z"
   },
   {
    "duration": 21,
    "start_time": "2022-02-10T18:59:04.005Z"
   },
   {
    "duration": 31,
    "start_time": "2022-02-10T18:59:04.029Z"
   }
  ],
  "kernelspec": {
   "display_name": "Python 3 (ipykernel)",
   "language": "python",
   "name": "python3"
  },
  "language_info": {
   "codemirror_mode": {
    "name": "ipython",
    "version": 3
   },
   "file_extension": ".py",
   "mimetype": "text/x-python",
   "name": "python",
   "nbconvert_exporter": "python",
   "pygments_lexer": "ipython3",
   "version": "3.9.5"
  },
  "toc": {
   "base_numbering": 1,
   "nav_menu": {},
   "number_sections": true,
   "sideBar": true,
   "skip_h1_title": true,
   "title_cell": "Содержание",
   "title_sidebar": "Contents",
   "toc_cell": true,
   "toc_position": {
    "height": "calc(100% - 180px)",
    "left": "10px",
    "top": "150px",
    "width": "232.386px"
   },
   "toc_section_display": true,
   "toc_window_display": true
  }
 },
 "nbformat": 4,
 "nbformat_minor": 2
}
