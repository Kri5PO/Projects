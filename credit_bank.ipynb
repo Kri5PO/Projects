{
 "cells": [
  {
   "cell_type": "markdown",
   "metadata": {},
   "source": [
    "# Исследование надёжности заёмщиков\n",
    "\n",
    "Заказчик — кредитный отдел банка. Нужно разобраться, влияет ли семейное положение и количество детей клиента на факт погашения кредита в срок. Входные данные от банка — статистика о платёжеспособности клиентов.\n",
    "\n",
    "Результаты исследования будут учтены при построении модели **кредитного скоринга** — специальной системы, которая оценивает способность потенциального заёмщика вернуть кредит банку."
   ]
  },
  {
   "cell_type": "markdown",
   "metadata": {},
   "source": [
    "## Шаг 1. Откройте файл с данными и изучите общую информацию"
   ]
  },
  {
   "cell_type": "code",
   "execution_count": 1,
   "metadata": {},
   "outputs": [],
   "source": [
    "# загрузка библиотек\n",
    "import pandas as pd"
   ]
  },
  {
   "cell_type": "code",
   "execution_count": 2,
   "metadata": {
    "scrolled": true
   },
   "outputs": [
    {
     "name": "stdout",
     "output_type": "stream",
     "text": [
      "<class 'pandas.core.frame.DataFrame'>\n",
      "RangeIndex: 21525 entries, 0 to 21524\n",
      "Data columns (total 12 columns):\n",
      " #   Column            Non-Null Count  Dtype  \n",
      "---  ------            --------------  -----  \n",
      " 0   children          21525 non-null  int64  \n",
      " 1   days_employed     19351 non-null  float64\n",
      " 2   dob_years         21525 non-null  int64  \n",
      " 3   education         21525 non-null  object \n",
      " 4   education_id      21525 non-null  int64  \n",
      " 5   family_status     21525 non-null  object \n",
      " 6   family_status_id  21525 non-null  int64  \n",
      " 7   gender            21525 non-null  object \n",
      " 8   income_type       21525 non-null  object \n",
      " 9   debt              21525 non-null  int64  \n",
      " 10  total_income      19351 non-null  float64\n",
      " 11  purpose           21525 non-null  object \n",
      "dtypes: float64(2), int64(5), object(5)\n",
      "memory usage: 2.0+ MB\n"
     ]
    }
   ],
   "source": [
    "# чтение файла с данными и сохранение в data\n",
    "data = pd.read_csv('c:\\\\Users\\\\79853\\\\Documents\\\\datascience\\\\yandex\\\\Спринт3\\\\data.csv')\n",
    "\n",
    "# получение общей информации о данных в таблице data\n",
    "data.info()"
   ]
  },
  {
   "cell_type": "code",
   "execution_count": 3,
   "metadata": {},
   "outputs": [
    {
     "data": {
      "text/html": [
       "<div>\n",
       "<style scoped>\n",
       "    .dataframe tbody tr th:only-of-type {\n",
       "        vertical-align: middle;\n",
       "    }\n",
       "\n",
       "    .dataframe tbody tr th {\n",
       "        vertical-align: top;\n",
       "    }\n",
       "\n",
       "    .dataframe thead th {\n",
       "        text-align: right;\n",
       "    }\n",
       "</style>\n",
       "<table border=\"1\" class=\"dataframe\">\n",
       "  <thead>\n",
       "    <tr style=\"text-align: right;\">\n",
       "      <th></th>\n",
       "      <th>children</th>\n",
       "      <th>days_employed</th>\n",
       "      <th>dob_years</th>\n",
       "      <th>education</th>\n",
       "      <th>education_id</th>\n",
       "      <th>family_status</th>\n",
       "      <th>family_status_id</th>\n",
       "      <th>gender</th>\n",
       "      <th>income_type</th>\n",
       "      <th>debt</th>\n",
       "      <th>total_income</th>\n",
       "      <th>purpose</th>\n",
       "    </tr>\n",
       "  </thead>\n",
       "  <tbody>\n",
       "    <tr>\n",
       "      <th>0</th>\n",
       "      <td>1</td>\n",
       "      <td>-8437.673028</td>\n",
       "      <td>42</td>\n",
       "      <td>высшее</td>\n",
       "      <td>0</td>\n",
       "      <td>женат / замужем</td>\n",
       "      <td>0</td>\n",
       "      <td>F</td>\n",
       "      <td>сотрудник</td>\n",
       "      <td>0</td>\n",
       "      <td>253875.639453</td>\n",
       "      <td>покупка жилья</td>\n",
       "    </tr>\n",
       "    <tr>\n",
       "      <th>1</th>\n",
       "      <td>1</td>\n",
       "      <td>-4024.803754</td>\n",
       "      <td>36</td>\n",
       "      <td>среднее</td>\n",
       "      <td>1</td>\n",
       "      <td>женат / замужем</td>\n",
       "      <td>0</td>\n",
       "      <td>F</td>\n",
       "      <td>сотрудник</td>\n",
       "      <td>0</td>\n",
       "      <td>112080.014102</td>\n",
       "      <td>приобретение автомобиля</td>\n",
       "    </tr>\n",
       "    <tr>\n",
       "      <th>2</th>\n",
       "      <td>0</td>\n",
       "      <td>-5623.422610</td>\n",
       "      <td>33</td>\n",
       "      <td>Среднее</td>\n",
       "      <td>1</td>\n",
       "      <td>женат / замужем</td>\n",
       "      <td>0</td>\n",
       "      <td>M</td>\n",
       "      <td>сотрудник</td>\n",
       "      <td>0</td>\n",
       "      <td>145885.952297</td>\n",
       "      <td>покупка жилья</td>\n",
       "    </tr>\n",
       "    <tr>\n",
       "      <th>3</th>\n",
       "      <td>3</td>\n",
       "      <td>-4124.747207</td>\n",
       "      <td>32</td>\n",
       "      <td>среднее</td>\n",
       "      <td>1</td>\n",
       "      <td>женат / замужем</td>\n",
       "      <td>0</td>\n",
       "      <td>M</td>\n",
       "      <td>сотрудник</td>\n",
       "      <td>0</td>\n",
       "      <td>267628.550329</td>\n",
       "      <td>дополнительное образование</td>\n",
       "    </tr>\n",
       "    <tr>\n",
       "      <th>4</th>\n",
       "      <td>0</td>\n",
       "      <td>340266.072047</td>\n",
       "      <td>53</td>\n",
       "      <td>среднее</td>\n",
       "      <td>1</td>\n",
       "      <td>гражданский брак</td>\n",
       "      <td>1</td>\n",
       "      <td>F</td>\n",
       "      <td>пенсионер</td>\n",
       "      <td>0</td>\n",
       "      <td>158616.077870</td>\n",
       "      <td>сыграть свадьбу</td>\n",
       "    </tr>\n",
       "  </tbody>\n",
       "</table>\n",
       "</div>"
      ],
      "text/plain": [
       "   children  days_employed  dob_years education  education_id  \\\n",
       "0         1   -8437.673028         42    высшее             0   \n",
       "1         1   -4024.803754         36   среднее             1   \n",
       "2         0   -5623.422610         33   Среднее             1   \n",
       "3         3   -4124.747207         32   среднее             1   \n",
       "4         0  340266.072047         53   среднее             1   \n",
       "\n",
       "      family_status  family_status_id gender income_type  debt   total_income  \\\n",
       "0   женат / замужем                 0      F   сотрудник     0  253875.639453   \n",
       "1   женат / замужем                 0      F   сотрудник     0  112080.014102   \n",
       "2   женат / замужем                 0      M   сотрудник     0  145885.952297   \n",
       "3   женат / замужем                 0      M   сотрудник     0  267628.550329   \n",
       "4  гражданский брак                 1      F   пенсионер     0  158616.077870   \n",
       "\n",
       "                      purpose  \n",
       "0               покупка жилья  \n",
       "1     приобретение автомобиля  \n",
       "2               покупка жилья  \n",
       "3  дополнительное образование  \n",
       "4             сыграть свадьбу  "
      ]
     },
     "execution_count": 3,
     "metadata": {},
     "output_type": "execute_result"
    }
   ],
   "source": [
    "# получение первых 5 строк таблицы data\n",
    "data.head()"
   ]
  },
  {
   "cell_type": "markdown",
   "metadata": {},
   "source": [
    "В таблице 12 столбцов. тип данных - int64 (5 столбцов), float64 (2 столбца), object (5 столбцов). Присутствуют количественные и качественные переменные. Количество значений в столбцах различается, значит, в данных есть пропущенные значения.\n",
    "\n",
    "* `children` — количество детей в семье\n",
    "* `days_employed` — общий трудовой стаж в днях\n",
    "* `dob_years` — возраст клиента в годах\n",
    "* `education` — уровень образования клиента\n",
    "* `education_id` — идентификатор уровня образования\n",
    "* `family_status` — семейное положение\n",
    "* `family_status_id` — идентификатор семейного положения\n",
    "* `gender` — пол клиента\n",
    "* `income_type` — тип занятости\n",
    "* `debt` — имел ли задолженность по возврату кредитов\n",
    "* `total_income` — ежемесячный доход\n",
    "* `purpose` — цель получения кредита"
   ]
  },
  {
   "cell_type": "code",
   "execution_count": 4,
   "metadata": {},
   "outputs": [
    {
     "name": "stdout",
     "output_type": "stream",
     "text": [
      "количество детей в семье (-1, 20)\n",
      "общий трудовой стаж в днях (-18388, 401755)\n",
      "возраст клиента в годах (0, 75)\n",
      "ежемесячный доход (20667.26379327158, 2265604.028722744)\n"
     ]
    }
   ],
   "source": [
    "# минимальные и максимальные значения количественных переменных\n",
    "print('количество детей в семье', (data.children.min(), data.children.max()))\n",
    "print('общий трудовой стаж в днях', (int(data.days_employed.min()), int(data.days_employed.max())))\n",
    "print('возраст клиента в годах', (data.dob_years.min(), data.dob_years.max()))\n",
    "print('ежемесячный доход', (data.total_income.min(), data.total_income.max()))"
   ]
  },
  {
   "cell_type": "code",
   "execution_count": 5,
   "metadata": {},
   "outputs": [
    {
     "data": {
      "text/plain": [
       "array([ 1,  0,  3,  2, -1,  4, 20,  5], dtype=int64)"
      ]
     },
     "execution_count": 5,
     "metadata": {},
     "output_type": "execute_result"
    }
   ],
   "source": [
    "# уникальные значения в поле children\n",
    "data['children'].unique()"
   ]
  },
  {
   "cell_type": "code",
   "execution_count": 6,
   "metadata": {},
   "outputs": [
    {
     "data": {
      "text/plain": [
       "47"
      ]
     },
     "execution_count": 6,
     "metadata": {},
     "output_type": "execute_result"
    }
   ],
   "source": [
    "# подсчет количества строк со значением -1 в поле children\n",
    "data[data.children == -1]['children'].count()"
   ]
  },
  {
   "cell_type": "code",
   "execution_count": 7,
   "metadata": {},
   "outputs": [
    {
     "data": {
      "text/plain": [
       "76"
      ]
     },
     "execution_count": 7,
     "metadata": {},
     "output_type": "execute_result"
    }
   ],
   "source": [
    "# подсчет количества строк со значением 20 в поле children\n",
    "data[data.children == 20]['children'].count()"
   ]
  },
  {
   "cell_type": "code",
   "execution_count": 8,
   "metadata": {},
   "outputs": [
    {
     "data": {
      "text/plain": [
       "array(['высшее', 'среднее', 'Среднее', 'СРЕДНЕЕ', 'ВЫСШЕЕ',\n",
       "       'неоконченное высшее', 'начальное', 'Высшее',\n",
       "       'НЕОКОНЧЕННОЕ ВЫСШЕЕ', 'Неоконченное высшее', 'НАЧАЛЬНОЕ',\n",
       "       'Начальное', 'Ученая степень', 'УЧЕНАЯ СТЕПЕНЬ', 'ученая степень'],\n",
       "      dtype=object)"
      ]
     },
     "execution_count": 8,
     "metadata": {},
     "output_type": "execute_result"
    }
   ],
   "source": [
    "# Уникальные значения качественной переменной education\n",
    "data.education.unique()"
   ]
  },
  {
   "cell_type": "code",
   "execution_count": 9,
   "metadata": {},
   "outputs": [
    {
     "data": {
      "text/plain": [
       "array([0, 1, 2, 3, 4], dtype=int64)"
      ]
     },
     "execution_count": 9,
     "metadata": {},
     "output_type": "execute_result"
    }
   ],
   "source": [
    "# Уникальные значения качественной переменной education_id\n",
    "data.education_id.unique()"
   ]
  },
  {
   "cell_type": "code",
   "execution_count": 10,
   "metadata": {},
   "outputs": [
    {
     "data": {
      "text/plain": [
       "array(['женат / замужем', 'гражданский брак', 'вдовец / вдова',\n",
       "       'в разводе', 'Не женат / не замужем'], dtype=object)"
      ]
     },
     "execution_count": 10,
     "metadata": {},
     "output_type": "execute_result"
    }
   ],
   "source": [
    "# Уникальные значения качественной переменной family_status\n",
    "data.family_status.unique()"
   ]
  },
  {
   "cell_type": "code",
   "execution_count": 11,
   "metadata": {},
   "outputs": [
    {
     "data": {
      "text/plain": [
       "array([0, 1, 2, 3, 4], dtype=int64)"
      ]
     },
     "execution_count": 11,
     "metadata": {},
     "output_type": "execute_result"
    }
   ],
   "source": [
    "# Уникальные значения качественной переменной family_status_id\n",
    "data.family_status_id.unique()"
   ]
  },
  {
   "cell_type": "code",
   "execution_count": 12,
   "metadata": {},
   "outputs": [
    {
     "data": {
      "text/plain": [
       "array(['F', 'M', 'XNA'], dtype=object)"
      ]
     },
     "execution_count": 12,
     "metadata": {},
     "output_type": "execute_result"
    }
   ],
   "source": [
    "# Уникальные значения качественной переменной gender\n",
    "data.gender.unique()"
   ]
  },
  {
   "cell_type": "code",
   "execution_count": 13,
   "metadata": {},
   "outputs": [
    {
     "data": {
      "text/plain": [
       "array(['сотрудник', 'пенсионер', 'компаньон', 'госслужащий',\n",
       "       'безработный', 'предприниматель', 'студент', 'в декрете'],\n",
       "      dtype=object)"
      ]
     },
     "execution_count": 13,
     "metadata": {},
     "output_type": "execute_result"
    }
   ],
   "source": [
    "# Уникальные значения качественной переменной income_type\n",
    "data.income_type.unique()"
   ]
  },
  {
   "cell_type": "code",
   "execution_count": 14,
   "metadata": {},
   "outputs": [
    {
     "data": {
      "text/plain": [
       "array([0, 1], dtype=int64)"
      ]
     },
     "execution_count": 14,
     "metadata": {},
     "output_type": "execute_result"
    }
   ],
   "source": [
    "# Уникальные значения качественной переменной debt\n",
    "data.debt.unique()"
   ]
  },
  {
   "cell_type": "code",
   "execution_count": 15,
   "metadata": {},
   "outputs": [
    {
     "data": {
      "text/plain": [
       "['автомобили',\n",
       " 'автомобиль',\n",
       " 'высшее образование',\n",
       " 'дополнительное образование',\n",
       " 'жилье',\n",
       " 'заняться высшим образованием',\n",
       " 'заняться образованием',\n",
       " 'на покупку автомобиля',\n",
       " 'на покупку подержанного автомобиля',\n",
       " 'на покупку своего автомобиля',\n",
       " 'на проведение свадьбы',\n",
       " 'недвижимость',\n",
       " 'образование',\n",
       " 'операции с жильем',\n",
       " 'операции с коммерческой недвижимостью',\n",
       " 'операции с недвижимостью',\n",
       " 'операции со своей недвижимостью',\n",
       " 'покупка жилой недвижимости',\n",
       " 'покупка жилья',\n",
       " 'покупка жилья для сдачи',\n",
       " 'покупка жилья для семьи',\n",
       " 'покупка коммерческой недвижимости',\n",
       " 'покупка недвижимости',\n",
       " 'покупка своего жилья',\n",
       " 'получение высшего образования',\n",
       " 'получение дополнительного образования',\n",
       " 'получение образования',\n",
       " 'приобретение автомобиля',\n",
       " 'профильное образование',\n",
       " 'ремонт жилью',\n",
       " 'свадьба',\n",
       " 'свой автомобиль',\n",
       " 'сделка с автомобилем',\n",
       " 'сделка с подержанным автомобилем',\n",
       " 'строительство жилой недвижимости',\n",
       " 'строительство недвижимости',\n",
       " 'строительство собственной недвижимости',\n",
       " 'сыграть свадьбу']"
      ]
     },
     "execution_count": 15,
     "metadata": {},
     "output_type": "execute_result"
    }
   ],
   "source": [
    "# Уникальные значения качественной переменной purpose, отсортированные по алфавиту\n",
    "sorted(data.purpose.unique())"
   ]
  },
  {
   "cell_type": "code",
   "execution_count": 16,
   "metadata": {},
   "outputs": [
    {
     "data": {
      "text/html": [
       "<div>\n",
       "<style scoped>\n",
       "    .dataframe tbody tr th:only-of-type {\n",
       "        vertical-align: middle;\n",
       "    }\n",
       "\n",
       "    .dataframe tbody tr th {\n",
       "        vertical-align: top;\n",
       "    }\n",
       "\n",
       "    .dataframe thead th {\n",
       "        text-align: right;\n",
       "    }\n",
       "</style>\n",
       "<table border=\"1\" class=\"dataframe\">\n",
       "  <thead>\n",
       "    <tr style=\"text-align: right;\">\n",
       "      <th></th>\n",
       "      <th>children</th>\n",
       "      <th>days_employed</th>\n",
       "      <th>dob_years</th>\n",
       "      <th>education</th>\n",
       "      <th>education_id</th>\n",
       "      <th>family_status</th>\n",
       "      <th>family_status_id</th>\n",
       "      <th>gender</th>\n",
       "      <th>income_type</th>\n",
       "      <th>debt</th>\n",
       "      <th>total_income</th>\n",
       "      <th>purpose</th>\n",
       "    </tr>\n",
       "  </thead>\n",
       "  <tbody>\n",
       "    <tr>\n",
       "      <th>12</th>\n",
       "      <td>0</td>\n",
       "      <td>NaN</td>\n",
       "      <td>65</td>\n",
       "      <td>среднее</td>\n",
       "      <td>1</td>\n",
       "      <td>гражданский брак</td>\n",
       "      <td>1</td>\n",
       "      <td>M</td>\n",
       "      <td>пенсионер</td>\n",
       "      <td>0</td>\n",
       "      <td>NaN</td>\n",
       "      <td>сыграть свадьбу</td>\n",
       "    </tr>\n",
       "    <tr>\n",
       "      <th>26</th>\n",
       "      <td>0</td>\n",
       "      <td>NaN</td>\n",
       "      <td>41</td>\n",
       "      <td>среднее</td>\n",
       "      <td>1</td>\n",
       "      <td>женат / замужем</td>\n",
       "      <td>0</td>\n",
       "      <td>M</td>\n",
       "      <td>госслужащий</td>\n",
       "      <td>0</td>\n",
       "      <td>NaN</td>\n",
       "      <td>образование</td>\n",
       "    </tr>\n",
       "    <tr>\n",
       "      <th>29</th>\n",
       "      <td>0</td>\n",
       "      <td>NaN</td>\n",
       "      <td>63</td>\n",
       "      <td>среднее</td>\n",
       "      <td>1</td>\n",
       "      <td>Не женат / не замужем</td>\n",
       "      <td>4</td>\n",
       "      <td>F</td>\n",
       "      <td>пенсионер</td>\n",
       "      <td>0</td>\n",
       "      <td>NaN</td>\n",
       "      <td>строительство жилой недвижимости</td>\n",
       "    </tr>\n",
       "    <tr>\n",
       "      <th>41</th>\n",
       "      <td>0</td>\n",
       "      <td>NaN</td>\n",
       "      <td>50</td>\n",
       "      <td>среднее</td>\n",
       "      <td>1</td>\n",
       "      <td>женат / замужем</td>\n",
       "      <td>0</td>\n",
       "      <td>F</td>\n",
       "      <td>госслужащий</td>\n",
       "      <td>0</td>\n",
       "      <td>NaN</td>\n",
       "      <td>сделка с подержанным автомобилем</td>\n",
       "    </tr>\n",
       "    <tr>\n",
       "      <th>55</th>\n",
       "      <td>0</td>\n",
       "      <td>NaN</td>\n",
       "      <td>54</td>\n",
       "      <td>среднее</td>\n",
       "      <td>1</td>\n",
       "      <td>гражданский брак</td>\n",
       "      <td>1</td>\n",
       "      <td>F</td>\n",
       "      <td>пенсионер</td>\n",
       "      <td>1</td>\n",
       "      <td>NaN</td>\n",
       "      <td>сыграть свадьбу</td>\n",
       "    </tr>\n",
       "    <tr>\n",
       "      <th>...</th>\n",
       "      <td>...</td>\n",
       "      <td>...</td>\n",
       "      <td>...</td>\n",
       "      <td>...</td>\n",
       "      <td>...</td>\n",
       "      <td>...</td>\n",
       "      <td>...</td>\n",
       "      <td>...</td>\n",
       "      <td>...</td>\n",
       "      <td>...</td>\n",
       "      <td>...</td>\n",
       "      <td>...</td>\n",
       "    </tr>\n",
       "    <tr>\n",
       "      <th>21489</th>\n",
       "      <td>2</td>\n",
       "      <td>NaN</td>\n",
       "      <td>47</td>\n",
       "      <td>Среднее</td>\n",
       "      <td>1</td>\n",
       "      <td>женат / замужем</td>\n",
       "      <td>0</td>\n",
       "      <td>M</td>\n",
       "      <td>компаньон</td>\n",
       "      <td>0</td>\n",
       "      <td>NaN</td>\n",
       "      <td>сделка с автомобилем</td>\n",
       "    </tr>\n",
       "    <tr>\n",
       "      <th>21495</th>\n",
       "      <td>1</td>\n",
       "      <td>NaN</td>\n",
       "      <td>50</td>\n",
       "      <td>среднее</td>\n",
       "      <td>1</td>\n",
       "      <td>гражданский брак</td>\n",
       "      <td>1</td>\n",
       "      <td>F</td>\n",
       "      <td>сотрудник</td>\n",
       "      <td>0</td>\n",
       "      <td>NaN</td>\n",
       "      <td>свадьба</td>\n",
       "    </tr>\n",
       "    <tr>\n",
       "      <th>21497</th>\n",
       "      <td>0</td>\n",
       "      <td>NaN</td>\n",
       "      <td>48</td>\n",
       "      <td>ВЫСШЕЕ</td>\n",
       "      <td>0</td>\n",
       "      <td>женат / замужем</td>\n",
       "      <td>0</td>\n",
       "      <td>F</td>\n",
       "      <td>компаньон</td>\n",
       "      <td>0</td>\n",
       "      <td>NaN</td>\n",
       "      <td>строительство недвижимости</td>\n",
       "    </tr>\n",
       "    <tr>\n",
       "      <th>21502</th>\n",
       "      <td>1</td>\n",
       "      <td>NaN</td>\n",
       "      <td>42</td>\n",
       "      <td>среднее</td>\n",
       "      <td>1</td>\n",
       "      <td>женат / замужем</td>\n",
       "      <td>0</td>\n",
       "      <td>F</td>\n",
       "      <td>сотрудник</td>\n",
       "      <td>0</td>\n",
       "      <td>NaN</td>\n",
       "      <td>строительство жилой недвижимости</td>\n",
       "    </tr>\n",
       "    <tr>\n",
       "      <th>21510</th>\n",
       "      <td>2</td>\n",
       "      <td>NaN</td>\n",
       "      <td>28</td>\n",
       "      <td>среднее</td>\n",
       "      <td>1</td>\n",
       "      <td>женат / замужем</td>\n",
       "      <td>0</td>\n",
       "      <td>F</td>\n",
       "      <td>сотрудник</td>\n",
       "      <td>0</td>\n",
       "      <td>NaN</td>\n",
       "      <td>приобретение автомобиля</td>\n",
       "    </tr>\n",
       "  </tbody>\n",
       "</table>\n",
       "<p>2174 rows × 12 columns</p>\n",
       "</div>"
      ],
      "text/plain": [
       "       children  days_employed  dob_years education  education_id  \\\n",
       "12            0            NaN         65   среднее             1   \n",
       "26            0            NaN         41   среднее             1   \n",
       "29            0            NaN         63   среднее             1   \n",
       "41            0            NaN         50   среднее             1   \n",
       "55            0            NaN         54   среднее             1   \n",
       "...         ...            ...        ...       ...           ...   \n",
       "21489         2            NaN         47   Среднее             1   \n",
       "21495         1            NaN         50   среднее             1   \n",
       "21497         0            NaN         48    ВЫСШЕЕ             0   \n",
       "21502         1            NaN         42   среднее             1   \n",
       "21510         2            NaN         28   среднее             1   \n",
       "\n",
       "               family_status  family_status_id gender  income_type  debt  \\\n",
       "12          гражданский брак                 1      M    пенсионер     0   \n",
       "26           женат / замужем                 0      M  госслужащий     0   \n",
       "29     Не женат / не замужем                 4      F    пенсионер     0   \n",
       "41           женат / замужем                 0      F  госслужащий     0   \n",
       "55          гражданский брак                 1      F    пенсионер     1   \n",
       "...                      ...               ...    ...          ...   ...   \n",
       "21489        женат / замужем                 0      M    компаньон     0   \n",
       "21495       гражданский брак                 1      F    сотрудник     0   \n",
       "21497        женат / замужем                 0      F    компаньон     0   \n",
       "21502        женат / замужем                 0      F    сотрудник     0   \n",
       "21510        женат / замужем                 0      F    сотрудник     0   \n",
       "\n",
       "       total_income                           purpose  \n",
       "12              NaN                   сыграть свадьбу  \n",
       "26              NaN                       образование  \n",
       "29              NaN  строительство жилой недвижимости  \n",
       "41              NaN  сделка с подержанным автомобилем  \n",
       "55              NaN                   сыграть свадьбу  \n",
       "...             ...                               ...  \n",
       "21489           NaN              сделка с автомобилем  \n",
       "21495           NaN                           свадьба  \n",
       "21497           NaN        строительство недвижимости  \n",
       "21502           NaN  строительство жилой недвижимости  \n",
       "21510           NaN           приобретение автомобиля  \n",
       "\n",
       "[2174 rows x 12 columns]"
      ]
     },
     "execution_count": 16,
     "metadata": {},
     "output_type": "execute_result"
    }
   ],
   "source": [
    "# посмотрим нулевые значения в поле days_employed\n",
    "data[data.days_employed.isnull()]"
   ]
  },
  {
   "cell_type": "markdown",
   "metadata": {},
   "source": [
    "**Вывод**"
   ]
  },
  {
   "cell_type": "markdown",
   "metadata": {},
   "source": [
    "В данных присутствуют количественные и категориальные переменные.\n",
    "\n",
    "**Количественные:**\n",
    "* `children`\n",
    "* `days_employed`\n",
    "* `dob_years`\n",
    "* `total_income`\n",
    "\n",
    "**Категориальные:**\n",
    "* `education`\n",
    "* `education_id`\n",
    "* `family_status`\n",
    "* `family_status_id`\n",
    "* `gender`\n",
    "* `income_type`\n",
    "* `debt`\n",
    "* `purpose`\n",
    "\n",
    "1) В переменной `children` *(количество детей в семье)* два значения являются ошибочными:\n",
    "- **-1** (47 значений) - переменная не может принимать отрицательное значение. данное значение заменим на **медианное значение** количества детей в семье.\n",
    "- **20** (76 значений) - аномально большое значение для данной переменной (есть информация только про одну такую семью в России - семья Шишкиных из Воронежской области). Данные значения являются ошибочными, скорее всего, правильное значение **2**.\n",
    "\n",
    "2) В переменной `dob_years` *(возраст клиента в годах)* присутствует некорректное значение **0**, т.к. минимальный возраст клиента, который может взять кредит составляет 18 лет. при обработке данных заменим эти значения на **средний возраст клиентов** в группах по видам занятости.\n",
    "\n",
    "3) В переменной `days_employed` *(общий трудовой стаж в днях)*:\n",
    "- отрицательные значения составляют 74% от общего количества данных. при обработке возьмем эти значения **по модулю**.\n",
    "- максимальное значение поля 401755 (дней),что при пересчете в года составляет 1100. Данное значение является аномально большим. необходимо проанализировать все значения поля и выявить причину появления некорректных значений.\n",
    "\n",
    "4) В качественных переменных `purpose` *(цель получения кредита)* и `education` *(уровень образования клиента)* присутствуют **неявные дубликаты**, которые вызваны в первом случае использованием разных формулировок для описания одной и той же цели и во втором случае - использованием символов в верхнем и нижнем регистре.\n",
    "\n",
    "5) В переменной `gender` *(пол клиента)* присутствует неизвестное значение пола **'XNA'**.\n",
    "\n",
    "6) Присутствуют пропуски данных в полях `days_employed` и `total_income`, которые совпадают по количеству - у клиентов сразу незаполнено оба поля. Вероятно, что датасет собирался из разных таблиц со сведениями о клиентах, в одной из которых отсутстввовали поля `days_employed` и `total_income`. \n",
    "\n",
    "7) Предварительно можно утверждать, что, данных достаточно для проверки гипотез."
   ]
  },
  {
   "cell_type": "markdown",
   "metadata": {},
   "source": [
    "## Шаг 2. Предобработка данных"
   ]
  },
  {
   "cell_type": "markdown",
   "metadata": {},
   "source": [
    "### Обработка пропусков и некорректных значений"
   ]
  },
  {
   "cell_type": "code",
   "execution_count": 17,
   "metadata": {},
   "outputs": [],
   "source": [
    "# замена некорректного значения -1 в поле children (количество детей в семье) медианным значением количества детей,\n",
    "# преобразованным в целое число\n",
    "data.loc[data.children == -1, 'children'] = int(data.children.median())"
   ]
  },
  {
   "cell_type": "code",
   "execution_count": 18,
   "metadata": {},
   "outputs": [],
   "source": [
    "# замена некорректного значения 20 в поле children (количество детей в семье) значением 2\n",
    "data.loc[data.children == 20, 'children'] = 2"
   ]
  },
  {
   "cell_type": "code",
   "execution_count": 19,
   "metadata": {},
   "outputs": [
    {
     "data": {
      "text/plain": [
       "array([1, 0, 3, 2, 4, 5], dtype=int64)"
      ]
     },
     "execution_count": 19,
     "metadata": {},
     "output_type": "execute_result"
    }
   ],
   "source": [
    "# проверка уникальных значений в поле children после замены\n",
    "data.children.unique()"
   ]
  },
  {
   "cell_type": "code",
   "execution_count": 20,
   "metadata": {},
   "outputs": [],
   "source": [
    "# Функция для замены некорректного значения 0 в поле dob_years (возраст клиента в годах) средним значением возраста клиентов\n",
    "# в группах по типу занятости\n",
    "# если соответствующего типа занятости нет в датасете, функция выводит среднее значение dob_years по всему датасету\n",
    "\n",
    "def dob_years_pass(income_type):\n",
    "    income_types = data['income_type'].unique()\n",
    "    mean_dob_years = data.groupby('income_type')['dob_years'].mean() # среднее значение возраста для клиентов по типу занятости\n",
    "    try:\n",
    "        for element in income_types:\n",
    "            if income_type == element:\n",
    "                return int(mean_dob_years[element])\n",
    "    except:\n",
    "        return int(data.dob_years.mean())"
   ]
  },
  {
   "cell_type": "code",
   "execution_count": 21,
   "metadata": {},
   "outputs": [],
   "source": [
    "# заполнение нулей в поле dob_years\n",
    "data.loc[data.dob_years == 0, 'dob_years'] = data['income_type'].transform(lambda x: dob_years_pass(x))"
   ]
  },
  {
   "cell_type": "code",
   "execution_count": 22,
   "metadata": {},
   "outputs": [
    {
     "data": {
      "text/plain": [
       "[19,\n",
       " 20,\n",
       " 21,\n",
       " 22,\n",
       " 23,\n",
       " 24,\n",
       " 25,\n",
       " 26,\n",
       " 27,\n",
       " 28,\n",
       " 29,\n",
       " 30,\n",
       " 31,\n",
       " 32,\n",
       " 33,\n",
       " 34,\n",
       " 35,\n",
       " 36,\n",
       " 37,\n",
       " 38,\n",
       " 39,\n",
       " 40,\n",
       " 41,\n",
       " 42,\n",
       " 43,\n",
       " 44,\n",
       " 45,\n",
       " 46,\n",
       " 47,\n",
       " 48,\n",
       " 49,\n",
       " 50,\n",
       " 51,\n",
       " 52,\n",
       " 53,\n",
       " 54,\n",
       " 55,\n",
       " 56,\n",
       " 57,\n",
       " 58,\n",
       " 59,\n",
       " 60,\n",
       " 61,\n",
       " 62,\n",
       " 63,\n",
       " 64,\n",
       " 65,\n",
       " 66,\n",
       " 67,\n",
       " 68,\n",
       " 69,\n",
       " 70,\n",
       " 71,\n",
       " 72,\n",
       " 73,\n",
       " 74,\n",
       " 75]"
      ]
     },
     "execution_count": 22,
     "metadata": {},
     "output_type": "execute_result"
    }
   ],
   "source": [
    "# проверка уникальных значений в поле dob_years\n",
    "sorted(data.dob_years.unique())"
   ]
  },
  {
   "cell_type": "code",
   "execution_count": 23,
   "metadata": {},
   "outputs": [
    {
     "data": {
      "text/plain": [
       "children               0\n",
       "days_employed       2174\n",
       "dob_years              0\n",
       "education              0\n",
       "education_id           0\n",
       "family_status          0\n",
       "family_status_id       0\n",
       "gender                 0\n",
       "income_type            0\n",
       "debt                   0\n",
       "total_income        2174\n",
       "purpose                0\n",
       "dtype: int64"
      ]
     },
     "execution_count": 23,
     "metadata": {},
     "output_type": "execute_result"
    }
   ],
   "source": [
    "# подсчет пропущенных значений\n",
    "data.isnull().sum()"
   ]
  },
  {
   "cell_type": "markdown",
   "metadata": {},
   "source": [
    "Исследуем поле `days_employed` (общий трудовой стаж в днях), добавим в датасет поле `years_employed` (общий трудовой стаж в годах) для рассчета отрицательные значения `days_employed` возьмем по модулю."
   ]
  },
  {
   "cell_type": "code",
   "execution_count": 24,
   "metadata": {},
   "outputs": [],
   "source": [
    "data['years_employed'] = abs(data['days_employed']) / 365"
   ]
  },
  {
   "cell_type": "markdown",
   "metadata": {},
   "source": [
    "Исходя из максимального возраста клиента 75 лет, стаж работы не должен превышать 60 лет. Посчитаем количество значений в датафрейме со значением `years_employed` (общий трудовой стаж в годах) > 60 лет, выведем минимальное и максимальное значение `years_employed` (общий трудовой стаж в годах), чтобы убедиться в корректности фильтрации."
   ]
  },
  {
   "cell_type": "code",
   "execution_count": 25,
   "metadata": {},
   "outputs": [
    {
     "name": "stdout",
     "output_type": "stream",
     "text": [
      "количество значений > 60 лет: 3445\n",
      "минимальное значение: 900 лет\n",
      "максимальное значение: 1100 лет\n"
     ]
    }
   ],
   "source": [
    "print('количество значений > 60 лет:', data[data.years_employed > 60]['years_employed'].count())\n",
    "print('минимальное значение:', int(data[data.years_employed > 60]['years_employed'].min()), 'лет')\n",
    "print('максимальное значение:', int(data[data.years_employed > 60]['years_employed'].max()), 'лет')"
   ]
  },
  {
   "cell_type": "markdown",
   "metadata": {},
   "source": [
    "3445 значений в поле `days_employed` *(общий трудовой стаж в днях)* даны в другой единице измерения. вероятно, в часах.\n",
    "\n",
    "Переведем аномально большие значений `days_employed` (общий трудовой стаж в днях) из часов в дни и пересчитаем все значения по модулю, чтобы убрать отрицательные значения."
   ]
  },
  {
   "cell_type": "code",
   "execution_count": 26,
   "metadata": {},
   "outputs": [],
   "source": [
    "data.loc[data.years_employed > 60, 'days_employed'] = data.days_employed / 24\n",
    "data.days_employed = abs(data.days_employed)"
   ]
  },
  {
   "cell_type": "code",
   "execution_count": 27,
   "metadata": {},
   "outputs": [],
   "source": [
    "# Функция для заполнения пропусков в поле days_employed (общий трудовой стаж в днях) средним значением стажа для\n",
    "# клиентов такого же возраста\n",
    "# если соответствующего возраста нет в датасете, функция выводит среднее значение days_employed по всему датасету\n",
    "\n",
    "def days_employed_pass(dob_years):\n",
    "    mean_days_employed = data.groupby('dob_years')['days_employed'].mean() # среднее значение стажа для клиентов по возрастам\n",
    "    try:\n",
    "        for age in range(18, 76):\n",
    "            if dob_years == age:\n",
    "                return mean_days_employed[age]\n",
    "    except:\n",
    "        return data.days_employed.mean() "
   ]
  },
  {
   "cell_type": "code",
   "execution_count": 28,
   "metadata": {},
   "outputs": [],
   "source": [
    "# заполнение пропусков в поле days_employed\n",
    "data.loc[data.days_employed.isnull(), 'days_employed'] = data['dob_years'].transform(lambda x: days_employed_pass(x))"
   ]
  },
  {
   "cell_type": "code",
   "execution_count": 29,
   "metadata": {},
   "outputs": [],
   "source": [
    "# пересчитаем поле years_employed (общий трудовой стаж в годах)\n",
    "data['years_employed'] = data['days_employed'] / 365"
   ]
  },
  {
   "cell_type": "code",
   "execution_count": 30,
   "metadata": {},
   "outputs": [
    {
     "name": "stdout",
     "output_type": "stream",
     "text": [
      "минимальное значение days_employed: 24 дня\n",
      "минимальное значение years_employed: 0 лет\n",
      "\n",
      "максимальное значение days_employed: 18388 дней\n",
      "максимальное значение years_employed: 50 лет\n"
     ]
    }
   ],
   "source": [
    "# проверка минимальных и максимальных значений days_employed и years_employed\n",
    "print('минимальное значение days_employed:', int(data['days_employed'].min()), 'дня')\n",
    "print('минимальное значение years_employed:', int(data['years_employed'].min()), 'лет')\n",
    "print()\n",
    "print('максимальное значение days_employed:', int(data['days_employed'].max()), 'дней')\n",
    "print('максимальное значение years_employed:', int(data['years_employed'].max()), 'лет')"
   ]
  },
  {
   "cell_type": "code",
   "execution_count": 31,
   "metadata": {},
   "outputs": [],
   "source": [
    "# Функция для заполнение пропусков в поле total_income медианным значением для каждого типа занятости\n",
    "# если соответствующего типа занятости нет в датасете, функция выводит медианное значение total_income по всему датасету\n",
    "\n",
    "def total_income_pass(income_type):\n",
    "    income_types = data['income_type'].unique()\n",
    "    median_total_income = data.groupby('income_type')['total_income'].median() # Рассчет медианного значения ежемесячного дохода (total_income) для каждого типа занятости\n",
    "    try:\n",
    "        for element in income_types:\n",
    "            if income_type == element:\n",
    "                return median_total_income[element]\n",
    "    except:\n",
    "        return data.total_income.median() "
   ]
  },
  {
   "cell_type": "code",
   "execution_count": 32,
   "metadata": {},
   "outputs": [],
   "source": [
    "# Заполнение пропусков в поле total_income\n",
    "data.loc[data.total_income.isnull(), 'total_income'] = data['income_type'].transform(lambda x: total_income_pass(x))"
   ]
  },
  {
   "cell_type": "code",
   "execution_count": 33,
   "metadata": {},
   "outputs": [
    {
     "data": {
      "text/plain": [
       "children            0\n",
       "days_employed       0\n",
       "dob_years           0\n",
       "education           0\n",
       "education_id        0\n",
       "family_status       0\n",
       "family_status_id    0\n",
       "gender              0\n",
       "income_type         0\n",
       "debt                0\n",
       "total_income        0\n",
       "purpose             0\n",
       "years_employed      0\n",
       "dtype: int64"
      ]
     },
     "execution_count": 33,
     "metadata": {},
     "output_type": "execute_result"
    }
   ],
   "source": [
    "# подсчет пропущенных значений\n",
    "data.isnull().sum()"
   ]
  },
  {
   "cell_type": "markdown",
   "metadata": {},
   "source": [
    "**Вывод**"
   ]
  },
  {
   "cell_type": "markdown",
   "metadata": {},
   "source": [
    "В поле `children` значения -1 заменены медианным значением переменной `children` для всего датасета, преобразованным в целое число, значения 20 - значением 2.\n",
    "\n",
    "В поле `dob_years` значения 0 заменены средним значением переменной `dob_years` для групп по типу занятости `income_type`.\n",
    "\n",
    "В поле `days_employed` отрицательные значения взяты по модулю, аномально большие значения преобразованы из часов в дни. для проверки корректности значений в поле `days_employed` в датасет добавлено поле `years_employed` (общий трудовой стаж в годах).\n",
    "\n",
    "В поле `days_employed` пропуски заполнены средним значением переменной `days_employed` для клиентов такого же возраста `dob_years`."
   ]
  },
  {
   "cell_type": "markdown",
   "metadata": {},
   "source": [
    "### Замена типа данных"
   ]
  },
  {
   "cell_type": "code",
   "execution_count": 34,
   "metadata": {},
   "outputs": [],
   "source": [
    "# замена типа данных на int в полях days_employed, years_employed и total_income\n",
    "data.days_employed = data.days_employed.astype('int')\n",
    "data.years_employed = data.years_employed.astype('int')\n",
    "data.total_income = data.total_income.astype('int')"
   ]
  },
  {
   "cell_type": "code",
   "execution_count": 36,
   "metadata": {},
   "outputs": [
    {
     "name": "stdout",
     "output_type": "stream",
     "text": [
      "<class 'pandas.core.frame.DataFrame'>\n",
      "RangeIndex: 21525 entries, 0 to 21524\n",
      "Data columns (total 13 columns):\n",
      " #   Column            Non-Null Count  Dtype \n",
      "---  ------            --------------  ----- \n",
      " 0   children          21525 non-null  int64 \n",
      " 1   days_employed     21525 non-null  int32 \n",
      " 2   dob_years         21525 non-null  int64 \n",
      " 3   education         21525 non-null  object\n",
      " 4   education_id      21525 non-null  int64 \n",
      " 5   family_status     21525 non-null  object\n",
      " 6   family_status_id  21525 non-null  int64 \n",
      " 7   gender            21525 non-null  object\n",
      " 8   income_type       21525 non-null  object\n",
      " 9   debt              21525 non-null  int64 \n",
      " 10  total_income      21525 non-null  int32 \n",
      " 11  purpose           21525 non-null  object\n",
      " 12  years_employed    21525 non-null  int32 \n",
      "dtypes: int32(3), int64(5), object(5)\n",
      "memory usage: 1.9+ MB\n"
     ]
    }
   ],
   "source": [
    "data.info()"
   ]
  },
  {
   "cell_type": "markdown",
   "metadata": {},
   "source": [
    "**Вывод**"
   ]
  },
  {
   "cell_type": "markdown",
   "metadata": {},
   "source": [
    "Изменен тип данных в полях `days_employed`(общий трудовой стаж в днях), `years_employed` (общий трудовой стаж в годах), `total_income` (ежемесячный доход) с **float64** на **int64**."
   ]
  },
  {
   "cell_type": "markdown",
   "metadata": {},
   "source": [
    "### Обработка дубликатов"
   ]
  },
  {
   "cell_type": "code",
   "execution_count": 37,
   "metadata": {},
   "outputs": [
    {
     "data": {
      "text/plain": [
       "54"
      ]
     },
     "execution_count": 37,
     "metadata": {},
     "output_type": "execute_result"
    }
   ],
   "source": [
    "# подсчёт явных дубликатов\n",
    "data.duplicated().sum()"
   ]
  },
  {
   "cell_type": "code",
   "execution_count": 38,
   "metadata": {},
   "outputs": [],
   "source": [
    "# удаление явных дубликатов (с удалением старых индексов и формированием новых)\n",
    "data = data.drop_duplicates().reset_index(drop=True)"
   ]
  },
  {
   "cell_type": "code",
   "execution_count": 39,
   "metadata": {},
   "outputs": [
    {
     "data": {
      "text/plain": [
       "0"
      ]
     },
     "execution_count": 39,
     "metadata": {},
     "output_type": "execute_result"
    }
   ],
   "source": [
    "# проверка на отсутствие дубликатов\n",
    "data.duplicated().sum()"
   ]
  },
  {
   "cell_type": "markdown",
   "metadata": {},
   "source": [
    "В поле `education` присутствуют неявные дубликаты, которые появились из-за использования символов в верхнем и нижнем регистре. Чтобы избавиться от дубликатов, приведем все символы к нижнему регистру."
   ]
  },
  {
   "cell_type": "code",
   "execution_count": 40,
   "metadata": {},
   "outputs": [],
   "source": [
    "data.education = data.education.str.lower()"
   ]
  },
  {
   "cell_type": "code",
   "execution_count": 41,
   "metadata": {},
   "outputs": [
    {
     "data": {
      "text/plain": [
       "array(['высшее', 'среднее', 'неоконченное высшее', 'начальное',\n",
       "       'ученая степень'], dtype=object)"
      ]
     },
     "execution_count": 41,
     "metadata": {},
     "output_type": "execute_result"
    }
   ],
   "source": [
    "# проверка результата по полю education\n",
    "data.education.unique()"
   ]
  },
  {
   "cell_type": "markdown",
   "metadata": {},
   "source": [
    "**Вывод**"
   ]
  },
  {
   "cell_type": "markdown",
   "metadata": {},
   "source": [
    "Устранены явные дубликаты.\n",
    "\n",
    "Устранены неявные дубликаты в поле `education`"
   ]
  },
  {
   "cell_type": "markdown",
   "metadata": {},
   "source": [
    "### Лемматизация"
   ]
  },
  {
   "cell_type": "code",
   "execution_count": 42,
   "metadata": {},
   "outputs": [],
   "source": [
    "# загрузка библиотеки для лемматизации (приведение слова к его словарной форме)\n",
    "from pymystem3 import Mystem\n",
    "m = Mystem() \n",
    "pd.set_option('chained_assignment', None)"
   ]
  },
  {
   "cell_type": "code",
   "execution_count": 43,
   "metadata": {},
   "outputs": [],
   "source": [
    "# функция для лемматизации текста\n",
    "def lemma(series):\n",
    "    '''\n",
    "    Библиотека pymystem3 очень долго обрабатывает большое количество коротких текстов, однако довольно быстро\n",
    "    обрабатывает длинные тексты, поэтому функция сначала объединит все короткие тексты в один текст с разделителем \"|\",\n",
    "    лемматизирует его, и затем разобьет обратно на короткие лемматизированные тексты\n",
    "    '''\n",
    "    text = ''\n",
    "    for i in range(len(series)):\n",
    "        text = text + series[i] + '|'\n",
    "    \n",
    "    lemma = ''.join(m.lemmatize(text))\n",
    "    lemma_list = lemma.split('|')\n",
    "    \n",
    "    for i in range(len(series)):\n",
    "        series[i] = lemma_list[i]\n",
    "    \n",
    "    return series"
   ]
  },
  {
   "cell_type": "code",
   "execution_count": 44,
   "metadata": {},
   "outputs": [
    {
     "name": "stdout",
     "output_type": "stream",
     "text": [
      "Wall time: 6.97 s\n"
     ]
    }
   ],
   "source": [
    "%%time\n",
    "data['purpose'] = lemma(data['purpose'])"
   ]
  },
  {
   "cell_type": "code",
   "execution_count": 45,
   "metadata": {},
   "outputs": [
    {
     "data": {
      "text/html": [
       "<div>\n",
       "<style scoped>\n",
       "    .dataframe tbody tr th:only-of-type {\n",
       "        vertical-align: middle;\n",
       "    }\n",
       "\n",
       "    .dataframe tbody tr th {\n",
       "        vertical-align: top;\n",
       "    }\n",
       "\n",
       "    .dataframe thead th {\n",
       "        text-align: right;\n",
       "    }\n",
       "</style>\n",
       "<table border=\"1\" class=\"dataframe\">\n",
       "  <thead>\n",
       "    <tr style=\"text-align: right;\">\n",
       "      <th></th>\n",
       "      <th>children</th>\n",
       "      <th>days_employed</th>\n",
       "      <th>dob_years</th>\n",
       "      <th>education</th>\n",
       "      <th>education_id</th>\n",
       "      <th>family_status</th>\n",
       "      <th>family_status_id</th>\n",
       "      <th>gender</th>\n",
       "      <th>income_type</th>\n",
       "      <th>debt</th>\n",
       "      <th>total_income</th>\n",
       "      <th>purpose</th>\n",
       "      <th>years_employed</th>\n",
       "    </tr>\n",
       "  </thead>\n",
       "  <tbody>\n",
       "    <tr>\n",
       "      <th>0</th>\n",
       "      <td>1</td>\n",
       "      <td>8437</td>\n",
       "      <td>42</td>\n",
       "      <td>высшее</td>\n",
       "      <td>0</td>\n",
       "      <td>женат / замужем</td>\n",
       "      <td>0</td>\n",
       "      <td>F</td>\n",
       "      <td>сотрудник</td>\n",
       "      <td>0</td>\n",
       "      <td>253875</td>\n",
       "      <td>покупка жилье</td>\n",
       "      <td>23</td>\n",
       "    </tr>\n",
       "    <tr>\n",
       "      <th>1</th>\n",
       "      <td>1</td>\n",
       "      <td>4024</td>\n",
       "      <td>36</td>\n",
       "      <td>среднее</td>\n",
       "      <td>1</td>\n",
       "      <td>женат / замужем</td>\n",
       "      <td>0</td>\n",
       "      <td>F</td>\n",
       "      <td>сотрудник</td>\n",
       "      <td>0</td>\n",
       "      <td>112080</td>\n",
       "      <td>приобретение автомобиль</td>\n",
       "      <td>11</td>\n",
       "    </tr>\n",
       "    <tr>\n",
       "      <th>2</th>\n",
       "      <td>0</td>\n",
       "      <td>5623</td>\n",
       "      <td>33</td>\n",
       "      <td>среднее</td>\n",
       "      <td>1</td>\n",
       "      <td>женат / замужем</td>\n",
       "      <td>0</td>\n",
       "      <td>M</td>\n",
       "      <td>сотрудник</td>\n",
       "      <td>0</td>\n",
       "      <td>145885</td>\n",
       "      <td>покупка жилье</td>\n",
       "      <td>15</td>\n",
       "    </tr>\n",
       "    <tr>\n",
       "      <th>3</th>\n",
       "      <td>3</td>\n",
       "      <td>4124</td>\n",
       "      <td>32</td>\n",
       "      <td>среднее</td>\n",
       "      <td>1</td>\n",
       "      <td>женат / замужем</td>\n",
       "      <td>0</td>\n",
       "      <td>M</td>\n",
       "      <td>сотрудник</td>\n",
       "      <td>0</td>\n",
       "      <td>267628</td>\n",
       "      <td>дополнительный образование</td>\n",
       "      <td>11</td>\n",
       "    </tr>\n",
       "    <tr>\n",
       "      <th>4</th>\n",
       "      <td>0</td>\n",
       "      <td>14177</td>\n",
       "      <td>53</td>\n",
       "      <td>среднее</td>\n",
       "      <td>1</td>\n",
       "      <td>гражданский брак</td>\n",
       "      <td>1</td>\n",
       "      <td>F</td>\n",
       "      <td>пенсионер</td>\n",
       "      <td>0</td>\n",
       "      <td>158616</td>\n",
       "      <td>сыграть свадьба</td>\n",
       "      <td>38</td>\n",
       "    </tr>\n",
       "  </tbody>\n",
       "</table>\n",
       "</div>"
      ],
      "text/plain": [
       "   children  days_employed  dob_years education  education_id  \\\n",
       "0         1           8437         42    высшее             0   \n",
       "1         1           4024         36   среднее             1   \n",
       "2         0           5623         33   среднее             1   \n",
       "3         3           4124         32   среднее             1   \n",
       "4         0          14177         53   среднее             1   \n",
       "\n",
       "      family_status  family_status_id gender income_type  debt  total_income  \\\n",
       "0   женат / замужем                 0      F   сотрудник     0        253875   \n",
       "1   женат / замужем                 0      F   сотрудник     0        112080   \n",
       "2   женат / замужем                 0      M   сотрудник     0        145885   \n",
       "3   женат / замужем                 0      M   сотрудник     0        267628   \n",
       "4  гражданский брак                 1      F   пенсионер     0        158616   \n",
       "\n",
       "                      purpose  years_employed  \n",
       "0               покупка жилье              23  \n",
       "1     приобретение автомобиль              11  \n",
       "2               покупка жилье              15  \n",
       "3  дополнительный образование              11  \n",
       "4             сыграть свадьба              38  "
      ]
     },
     "execution_count": 45,
     "metadata": {},
     "output_type": "execute_result"
    }
   ],
   "source": [
    "data.head()"
   ]
  },
  {
   "cell_type": "markdown",
   "metadata": {},
   "source": [
    "Процесс лемматизации привел слова в поле `purpose` к словарной форме (лемме). теперь достаточно сформировать перечень основных целей и с помощью лемм заменить разные формулировки одной и той же цели одним вариантом.\n",
    "\n",
    "Сгруппируем цели и определим для каждой группы лемму и значение, на которое будет произведена заменена.\n",
    "\n",
    "| Номер группы | Цели из исходного датасета | Лемма | На что заменяем |\n",
    "| :-: | :- | :- | :- |\n",
    "| 1 | 'высшее образование', 'дополнительное образование', 'заняться высшим образованием', 'заняться образованием', 'образование', 'получение высшего образования', 'получение дополнительного образования', 'получение образования', 'профильное образование' | 'образование' | 'образование' |\n",
    "|  |  |  |  |\n",
    "| 2 | 'автомобили', 'автомобиль', 'на покупку автомобиля', 'на покупку подержанного автомобиля', 'на покупку своего автомобиля', 'приобретение автомобиля', 'свой автомобиль', 'сделка с автомобилем', 'сделка с подержанным автомобилем' | 'автомобиль' | 'автомобиль' |\n",
    "|  |  |  |  |\n",
    "| 3 | 'на проведение свадьбы', 'свадьба', 'сыграть свадьбу' | 'свадьба' | 'свадьба' |\n",
    "|  |  |  |  |\n",
    "| 4 | 'жилье', 'операции с жильем', 'покупка жилой недвижимости', 'покупка жилья', 'покупка жилья для сдачи', 'покупка жилья для семьи', 'покупка своего жилья', 'ремонт жилью', 'строительство жилой недвижимости' | 'жилье', 'жилой' | 'жилье' |\n",
    "|  |  |  |  |\n",
    "| 5 | 'недвижимость', 'операции с коммерческой недвижимостью', 'операции с недвижимостью', 'операции со своей недвижимостью', 'покупка коммерческой недвижимости', 'покупка недвижимости', 'строительство недвижимости', 'строительство собственной недвижимости' | 'недвижимость' | 'недвижимость' |"
   ]
  },
  {
   "cell_type": "code",
   "execution_count": 46,
   "metadata": {},
   "outputs": [],
   "source": [
    "# функция для замены неявных дубликатов в поле purpose с использованием лемм\n",
    "# если перечисленные леммы отсутствуют в поле purpose, функция вернет значение 'иная цель'\n",
    "def purpose_category(purpose):\n",
    "    try:\n",
    "        if 'образование' in purpose:\n",
    "            return 'образование'\n",
    "        elif 'автомобиль' in purpose:\n",
    "            return 'автомобиль'\n",
    "        elif 'свадьба' in purpose:\n",
    "            return 'свадьба'\n",
    "        elif 'жилье' in purpose:\n",
    "            return 'жилье' \n",
    "        elif 'жилой' in purpose:\n",
    "            return 'жилье'\n",
    "        elif 'недвижимость' in purpose:\n",
    "            return 'недвижимость'\n",
    "    except:\n",
    "        return 'иная цель'"
   ]
  },
  {
   "cell_type": "code",
   "execution_count": 47,
   "metadata": {},
   "outputs": [],
   "source": [
    "# замена неявных дубликатов в поле purpose\n",
    "data['purpose'] = data['purpose'].transform(lambda x: purpose_category(x))"
   ]
  },
  {
   "cell_type": "code",
   "execution_count": 48,
   "metadata": {},
   "outputs": [
    {
     "data": {
      "text/plain": [
       "['автомобиль', 'жилье', 'недвижимость', 'образование', 'свадьба']"
      ]
     },
     "execution_count": 48,
     "metadata": {},
     "output_type": "execute_result"
    }
   ],
   "source": [
    "# проверка на отсутствие неявных дубликатов в поле purpose\n",
    "sorted(data.purpose.unique())"
   ]
  },
  {
   "cell_type": "markdown",
   "metadata": {},
   "source": [
    "**Вывод**"
   ]
  },
  {
   "cell_type": "markdown",
   "metadata": {},
   "source": [
    "С помощью лемматизации устранены неявные дубликаты в поле `purpose`"
   ]
  },
  {
   "cell_type": "markdown",
   "metadata": {},
   "source": [
    "### Категоризация данных"
   ]
  },
  {
   "cell_type": "code",
   "execution_count": 49,
   "metadata": {},
   "outputs": [
    {
     "data": {
      "text/html": [
       "<div>\n",
       "<style scoped>\n",
       "    .dataframe tbody tr th:only-of-type {\n",
       "        vertical-align: middle;\n",
       "    }\n",
       "\n",
       "    .dataframe tbody tr th {\n",
       "        vertical-align: top;\n",
       "    }\n",
       "\n",
       "    .dataframe thead th {\n",
       "        text-align: right;\n",
       "    }\n",
       "</style>\n",
       "<table border=\"1\" class=\"dataframe\">\n",
       "  <thead>\n",
       "    <tr style=\"text-align: right;\">\n",
       "      <th></th>\n",
       "      <th>children</th>\n",
       "      <th>days_employed</th>\n",
       "      <th>dob_years</th>\n",
       "      <th>education</th>\n",
       "      <th>education_id</th>\n",
       "      <th>family_status</th>\n",
       "      <th>family_status_id</th>\n",
       "      <th>gender</th>\n",
       "      <th>income_type</th>\n",
       "      <th>debt</th>\n",
       "      <th>total_income</th>\n",
       "      <th>purpose</th>\n",
       "      <th>years_employed</th>\n",
       "    </tr>\n",
       "  </thead>\n",
       "  <tbody>\n",
       "    <tr>\n",
       "      <th>0</th>\n",
       "      <td>1</td>\n",
       "      <td>8437</td>\n",
       "      <td>42</td>\n",
       "      <td>высшее</td>\n",
       "      <td>0</td>\n",
       "      <td>женат / замужем</td>\n",
       "      <td>0</td>\n",
       "      <td>F</td>\n",
       "      <td>сотрудник</td>\n",
       "      <td>0</td>\n",
       "      <td>253875</td>\n",
       "      <td>жилье</td>\n",
       "      <td>23</td>\n",
       "    </tr>\n",
       "    <tr>\n",
       "      <th>1</th>\n",
       "      <td>1</td>\n",
       "      <td>4024</td>\n",
       "      <td>36</td>\n",
       "      <td>среднее</td>\n",
       "      <td>1</td>\n",
       "      <td>женат / замужем</td>\n",
       "      <td>0</td>\n",
       "      <td>F</td>\n",
       "      <td>сотрудник</td>\n",
       "      <td>0</td>\n",
       "      <td>112080</td>\n",
       "      <td>автомобиль</td>\n",
       "      <td>11</td>\n",
       "    </tr>\n",
       "    <tr>\n",
       "      <th>2</th>\n",
       "      <td>0</td>\n",
       "      <td>5623</td>\n",
       "      <td>33</td>\n",
       "      <td>среднее</td>\n",
       "      <td>1</td>\n",
       "      <td>женат / замужем</td>\n",
       "      <td>0</td>\n",
       "      <td>M</td>\n",
       "      <td>сотрудник</td>\n",
       "      <td>0</td>\n",
       "      <td>145885</td>\n",
       "      <td>жилье</td>\n",
       "      <td>15</td>\n",
       "    </tr>\n",
       "    <tr>\n",
       "      <th>3</th>\n",
       "      <td>3</td>\n",
       "      <td>4124</td>\n",
       "      <td>32</td>\n",
       "      <td>среднее</td>\n",
       "      <td>1</td>\n",
       "      <td>женат / замужем</td>\n",
       "      <td>0</td>\n",
       "      <td>M</td>\n",
       "      <td>сотрудник</td>\n",
       "      <td>0</td>\n",
       "      <td>267628</td>\n",
       "      <td>образование</td>\n",
       "      <td>11</td>\n",
       "    </tr>\n",
       "    <tr>\n",
       "      <th>4</th>\n",
       "      <td>0</td>\n",
       "      <td>14177</td>\n",
       "      <td>53</td>\n",
       "      <td>среднее</td>\n",
       "      <td>1</td>\n",
       "      <td>гражданский брак</td>\n",
       "      <td>1</td>\n",
       "      <td>F</td>\n",
       "      <td>пенсионер</td>\n",
       "      <td>0</td>\n",
       "      <td>158616</td>\n",
       "      <td>свадьба</td>\n",
       "      <td>38</td>\n",
       "    </tr>\n",
       "  </tbody>\n",
       "</table>\n",
       "</div>"
      ],
      "text/plain": [
       "   children  days_employed  dob_years education  education_id  \\\n",
       "0         1           8437         42    высшее             0   \n",
       "1         1           4024         36   среднее             1   \n",
       "2         0           5623         33   среднее             1   \n",
       "3         3           4124         32   среднее             1   \n",
       "4         0          14177         53   среднее             1   \n",
       "\n",
       "      family_status  family_status_id gender income_type  debt  total_income  \\\n",
       "0   женат / замужем                 0      F   сотрудник     0        253875   \n",
       "1   женат / замужем                 0      F   сотрудник     0        112080   \n",
       "2   женат / замужем                 0      M   сотрудник     0        145885   \n",
       "3   женат / замужем                 0      M   сотрудник     0        267628   \n",
       "4  гражданский брак                 1      F   пенсионер     0        158616   \n",
       "\n",
       "       purpose  years_employed  \n",
       "0        жилье              23  \n",
       "1   автомобиль              11  \n",
       "2        жилье              15  \n",
       "3  образование              11  \n",
       "4      свадьба              38  "
      ]
     },
     "execution_count": 49,
     "metadata": {},
     "output_type": "execute_result"
    }
   ],
   "source": [
    "data.head()"
   ]
  },
  {
   "cell_type": "code",
   "execution_count": 50,
   "metadata": {},
   "outputs": [
    {
     "data": {
      "text/html": [
       "<div>\n",
       "<style scoped>\n",
       "    .dataframe tbody tr th:only-of-type {\n",
       "        vertical-align: middle;\n",
       "    }\n",
       "\n",
       "    .dataframe tbody tr th {\n",
       "        vertical-align: top;\n",
       "    }\n",
       "\n",
       "    .dataframe thead th {\n",
       "        text-align: right;\n",
       "    }\n",
       "</style>\n",
       "<table border=\"1\" class=\"dataframe\">\n",
       "  <thead>\n",
       "    <tr style=\"text-align: right;\">\n",
       "      <th></th>\n",
       "      <th>education_id</th>\n",
       "      <th>education</th>\n",
       "    </tr>\n",
       "  </thead>\n",
       "  <tbody>\n",
       "    <tr>\n",
       "      <th>0</th>\n",
       "      <td>0</td>\n",
       "      <td>высшее</td>\n",
       "    </tr>\n",
       "    <tr>\n",
       "      <th>1</th>\n",
       "      <td>1</td>\n",
       "      <td>среднее</td>\n",
       "    </tr>\n",
       "    <tr>\n",
       "      <th>2</th>\n",
       "      <td>2</td>\n",
       "      <td>неоконченное высшее</td>\n",
       "    </tr>\n",
       "    <tr>\n",
       "      <th>3</th>\n",
       "      <td>3</td>\n",
       "      <td>начальное</td>\n",
       "    </tr>\n",
       "    <tr>\n",
       "      <th>4</th>\n",
       "      <td>4</td>\n",
       "      <td>ученая степень</td>\n",
       "    </tr>\n",
       "  </tbody>\n",
       "</table>\n",
       "</div>"
      ],
      "text/plain": [
       "   education_id            education\n",
       "0             0               высшее\n",
       "1             1              среднее\n",
       "2             2  неоконченное высшее\n",
       "3             3            начальное\n",
       "4             4       ученая степень"
      ]
     },
     "execution_count": 50,
     "metadata": {},
     "output_type": "execute_result"
    }
   ],
   "source": [
    "# словарь для поля education (уровень образования клиента)\n",
    "education_dict = data[['education_id', 'education']].drop_duplicates().reset_index(drop=True)\n",
    "education_dict"
   ]
  },
  {
   "cell_type": "code",
   "execution_count": 51,
   "metadata": {},
   "outputs": [
    {
     "data": {
      "text/html": [
       "<div>\n",
       "<style scoped>\n",
       "    .dataframe tbody tr th:only-of-type {\n",
       "        vertical-align: middle;\n",
       "    }\n",
       "\n",
       "    .dataframe tbody tr th {\n",
       "        vertical-align: top;\n",
       "    }\n",
       "\n",
       "    .dataframe thead th {\n",
       "        text-align: right;\n",
       "    }\n",
       "</style>\n",
       "<table border=\"1\" class=\"dataframe\">\n",
       "  <thead>\n",
       "    <tr style=\"text-align: right;\">\n",
       "      <th></th>\n",
       "      <th>family_status_id</th>\n",
       "      <th>family_status</th>\n",
       "    </tr>\n",
       "  </thead>\n",
       "  <tbody>\n",
       "    <tr>\n",
       "      <th>0</th>\n",
       "      <td>0</td>\n",
       "      <td>женат / замужем</td>\n",
       "    </tr>\n",
       "    <tr>\n",
       "      <th>1</th>\n",
       "      <td>1</td>\n",
       "      <td>гражданский брак</td>\n",
       "    </tr>\n",
       "    <tr>\n",
       "      <th>2</th>\n",
       "      <td>2</td>\n",
       "      <td>вдовец / вдова</td>\n",
       "    </tr>\n",
       "    <tr>\n",
       "      <th>3</th>\n",
       "      <td>3</td>\n",
       "      <td>в разводе</td>\n",
       "    </tr>\n",
       "    <tr>\n",
       "      <th>4</th>\n",
       "      <td>4</td>\n",
       "      <td>Не женат / не замужем</td>\n",
       "    </tr>\n",
       "  </tbody>\n",
       "</table>\n",
       "</div>"
      ],
      "text/plain": [
       "   family_status_id          family_status\n",
       "0                 0        женат / замужем\n",
       "1                 1       гражданский брак\n",
       "2                 2         вдовец / вдова\n",
       "3                 3              в разводе\n",
       "4                 4  Не женат / не замужем"
      ]
     },
     "execution_count": 51,
     "metadata": {},
     "output_type": "execute_result"
    }
   ],
   "source": [
    "# словарь для поля family_status (семейное положение)\n",
    "family_status_dict = data[['family_status_id', 'family_status']].drop_duplicates().reset_index(drop=True)\n",
    "family_status_dict"
   ]
  },
  {
   "cell_type": "code",
   "execution_count": 52,
   "metadata": {},
   "outputs": [
    {
     "data": {
      "text/html": [
       "<div>\n",
       "<style scoped>\n",
       "    .dataframe tbody tr th:only-of-type {\n",
       "        vertical-align: middle;\n",
       "    }\n",
       "\n",
       "    .dataframe tbody tr th {\n",
       "        vertical-align: top;\n",
       "    }\n",
       "\n",
       "    .dataframe thead th {\n",
       "        text-align: right;\n",
       "    }\n",
       "</style>\n",
       "<table border=\"1\" class=\"dataframe\">\n",
       "  <thead>\n",
       "    <tr style=\"text-align: right;\">\n",
       "      <th></th>\n",
       "      <th>purpose_id</th>\n",
       "      <th>purpose</th>\n",
       "    </tr>\n",
       "  </thead>\n",
       "  <tbody>\n",
       "    <tr>\n",
       "      <th>0</th>\n",
       "      <td>0</td>\n",
       "      <td>жилье</td>\n",
       "    </tr>\n",
       "    <tr>\n",
       "      <th>1</th>\n",
       "      <td>1</td>\n",
       "      <td>автомобиль</td>\n",
       "    </tr>\n",
       "    <tr>\n",
       "      <th>2</th>\n",
       "      <td>2</td>\n",
       "      <td>образование</td>\n",
       "    </tr>\n",
       "    <tr>\n",
       "      <th>3</th>\n",
       "      <td>3</td>\n",
       "      <td>свадьба</td>\n",
       "    </tr>\n",
       "    <tr>\n",
       "      <th>4</th>\n",
       "      <td>4</td>\n",
       "      <td>недвижимость</td>\n",
       "    </tr>\n",
       "    <tr>\n",
       "      <th>5</th>\n",
       "      <td>5</td>\n",
       "      <td>иная цель</td>\n",
       "    </tr>\n",
       "  </tbody>\n",
       "</table>\n",
       "</div>"
      ],
      "text/plain": [
       "   purpose_id       purpose\n",
       "0           0         жилье\n",
       "1           1    автомобиль\n",
       "2           2   образование\n",
       "3           3       свадьба\n",
       "4           4  недвижимость\n",
       "5           5     иная цель"
      ]
     },
     "execution_count": 52,
     "metadata": {},
     "output_type": "execute_result"
    }
   ],
   "source": [
    "# словарь для нового поля purpose_id (идентификатор  цели получения кредита)\n",
    "columns = ['purpose_id', 'purpose']\n",
    "rows = [[0,'жилье'], [1, 'автомобиль'], [2, 'образование'],\n",
    "        [3, 'свадьба'], [4, 'недвижимость'], [5, 'иная цель']]\n",
    "\n",
    "purpose_dict = pd.DataFrame(data=rows, columns=columns)\n",
    "purpose_dict"
   ]
  },
  {
   "cell_type": "code",
   "execution_count": 53,
   "metadata": {},
   "outputs": [],
   "source": [
    "# функция определения purpose_id\n",
    "def purpose_category(purpose):\n",
    "    purpose_list = list(purpose_dict['purpose'])\n",
    "    for i in range(len(purpose_list)):\n",
    "        if purpose == purpose_list[i]:\n",
    "            return i"
   ]
  },
  {
   "cell_type": "markdown",
   "metadata": {},
   "source": [
    "Добавим в датасет колонку purpose_id и заполним ее значением, рассчитанным с помощью функции."
   ]
  },
  {
   "cell_type": "code",
   "execution_count": 54,
   "metadata": {},
   "outputs": [],
   "source": [
    "data['purpose_id'] = data['purpose'].transform(lambda x: purpose_category(x))"
   ]
  },
  {
   "cell_type": "code",
   "execution_count": 55,
   "metadata": {},
   "outputs": [],
   "source": [
    "# удаление столбцов education, family_status, purpose, для которых созданы словари\n",
    "data = data.drop(['education', 'family_status', 'purpose'], axis = 1)"
   ]
  },
  {
   "cell_type": "code",
   "execution_count": 56,
   "metadata": {},
   "outputs": [
    {
     "data": {
      "text/html": [
       "<div>\n",
       "<style scoped>\n",
       "    .dataframe tbody tr th:only-of-type {\n",
       "        vertical-align: middle;\n",
       "    }\n",
       "\n",
       "    .dataframe tbody tr th {\n",
       "        vertical-align: top;\n",
       "    }\n",
       "\n",
       "    .dataframe thead th {\n",
       "        text-align: right;\n",
       "    }\n",
       "</style>\n",
       "<table border=\"1\" class=\"dataframe\">\n",
       "  <thead>\n",
       "    <tr style=\"text-align: right;\">\n",
       "      <th></th>\n",
       "      <th>children</th>\n",
       "      <th>days_employed</th>\n",
       "      <th>dob_years</th>\n",
       "      <th>education_id</th>\n",
       "      <th>family_status_id</th>\n",
       "      <th>gender</th>\n",
       "      <th>income_type</th>\n",
       "      <th>debt</th>\n",
       "      <th>total_income</th>\n",
       "      <th>years_employed</th>\n",
       "      <th>purpose_id</th>\n",
       "    </tr>\n",
       "  </thead>\n",
       "  <tbody>\n",
       "    <tr>\n",
       "      <th>0</th>\n",
       "      <td>1</td>\n",
       "      <td>8437</td>\n",
       "      <td>42</td>\n",
       "      <td>0</td>\n",
       "      <td>0</td>\n",
       "      <td>F</td>\n",
       "      <td>сотрудник</td>\n",
       "      <td>0</td>\n",
       "      <td>253875</td>\n",
       "      <td>23</td>\n",
       "      <td>0</td>\n",
       "    </tr>\n",
       "    <tr>\n",
       "      <th>1</th>\n",
       "      <td>1</td>\n",
       "      <td>4024</td>\n",
       "      <td>36</td>\n",
       "      <td>1</td>\n",
       "      <td>0</td>\n",
       "      <td>F</td>\n",
       "      <td>сотрудник</td>\n",
       "      <td>0</td>\n",
       "      <td>112080</td>\n",
       "      <td>11</td>\n",
       "      <td>1</td>\n",
       "    </tr>\n",
       "    <tr>\n",
       "      <th>2</th>\n",
       "      <td>0</td>\n",
       "      <td>5623</td>\n",
       "      <td>33</td>\n",
       "      <td>1</td>\n",
       "      <td>0</td>\n",
       "      <td>M</td>\n",
       "      <td>сотрудник</td>\n",
       "      <td>0</td>\n",
       "      <td>145885</td>\n",
       "      <td>15</td>\n",
       "      <td>0</td>\n",
       "    </tr>\n",
       "    <tr>\n",
       "      <th>3</th>\n",
       "      <td>3</td>\n",
       "      <td>4124</td>\n",
       "      <td>32</td>\n",
       "      <td>1</td>\n",
       "      <td>0</td>\n",
       "      <td>M</td>\n",
       "      <td>сотрудник</td>\n",
       "      <td>0</td>\n",
       "      <td>267628</td>\n",
       "      <td>11</td>\n",
       "      <td>2</td>\n",
       "    </tr>\n",
       "    <tr>\n",
       "      <th>4</th>\n",
       "      <td>0</td>\n",
       "      <td>14177</td>\n",
       "      <td>53</td>\n",
       "      <td>1</td>\n",
       "      <td>1</td>\n",
       "      <td>F</td>\n",
       "      <td>пенсионер</td>\n",
       "      <td>0</td>\n",
       "      <td>158616</td>\n",
       "      <td>38</td>\n",
       "      <td>3</td>\n",
       "    </tr>\n",
       "  </tbody>\n",
       "</table>\n",
       "</div>"
      ],
      "text/plain": [
       "   children  days_employed  dob_years  education_id  family_status_id gender  \\\n",
       "0         1           8437         42             0                 0      F   \n",
       "1         1           4024         36             1                 0      F   \n",
       "2         0           5623         33             1                 0      M   \n",
       "3         3           4124         32             1                 0      M   \n",
       "4         0          14177         53             1                 1      F   \n",
       "\n",
       "  income_type  debt  total_income  years_employed  purpose_id  \n",
       "0   сотрудник     0        253875              23           0  \n",
       "1   сотрудник     0        112080              11           1  \n",
       "2   сотрудник     0        145885              15           0  \n",
       "3   сотрудник     0        267628              11           2  \n",
       "4   пенсионер     0        158616              38           3  "
      ]
     },
     "execution_count": 56,
     "metadata": {},
     "output_type": "execute_result"
    }
   ],
   "source": [
    "data.head()"
   ]
  },
  {
   "cell_type": "code",
   "execution_count": 57,
   "metadata": {},
   "outputs": [
    {
     "data": {
      "text/html": [
       "<div>\n",
       "<style scoped>\n",
       "    .dataframe tbody tr th:only-of-type {\n",
       "        vertical-align: middle;\n",
       "    }\n",
       "\n",
       "    .dataframe tbody tr th {\n",
       "        vertical-align: top;\n",
       "    }\n",
       "\n",
       "    .dataframe thead th {\n",
       "        text-align: right;\n",
       "    }\n",
       "</style>\n",
       "<table border=\"1\" class=\"dataframe\">\n",
       "  <thead>\n",
       "    <tr style=\"text-align: right;\">\n",
       "      <th></th>\n",
       "      <th>total_income_id</th>\n",
       "      <th>total_income</th>\n",
       "    </tr>\n",
       "  </thead>\n",
       "  <tbody>\n",
       "    <tr>\n",
       "      <th>0</th>\n",
       "      <td>0</td>\n",
       "      <td>менее 100 тыс.</td>\n",
       "    </tr>\n",
       "    <tr>\n",
       "      <th>1</th>\n",
       "      <td>1</td>\n",
       "      <td>100-200 тыс.</td>\n",
       "    </tr>\n",
       "    <tr>\n",
       "      <th>2</th>\n",
       "      <td>2</td>\n",
       "      <td>200 тыс. и более</td>\n",
       "    </tr>\n",
       "  </tbody>\n",
       "</table>\n",
       "</div>"
      ],
      "text/plain": [
       "   total_income_id      total_income\n",
       "0                0    менее 100 тыс.\n",
       "1                1      100-200 тыс.\n",
       "2                2  200 тыс. и более"
      ]
     },
     "execution_count": 57,
     "metadata": {},
     "output_type": "execute_result"
    }
   ],
   "source": [
    "# словарь для нового поля total_income_id (идентификатор ежемесячного дохода)\n",
    "columns = ['total_income_id', 'total_income']\n",
    "rows = [[0,'менее 100 тыс.'], [1, '100-200 тыс.'], [2, '200 тыс. и более']]\n",
    "\n",
    "total_income_dict = pd.DataFrame(data=rows, columns=columns)\n",
    "total_income_dict"
   ]
  },
  {
   "cell_type": "code",
   "execution_count": 58,
   "metadata": {},
   "outputs": [],
   "source": [
    "# функция определения категории по уровню дохода \n",
    "def total_income_category(total_income):\n",
    "    if total_income < 100000:\n",
    "        return 0\n",
    "    elif 100000 <= total_income < 200000:\n",
    "        return 1\n",
    "    elif total_income >= 200000:\n",
    "        return 2"
   ]
  },
  {
   "cell_type": "markdown",
   "metadata": {},
   "source": [
    "Добавим в датасет колонку `total_income_id` и заполним ее значением категории по уровню дохода, рассчитанной с помощью функции."
   ]
  },
  {
   "cell_type": "code",
   "execution_count": 59,
   "metadata": {},
   "outputs": [],
   "source": [
    "data['total_income_id'] = data['total_income'].transform(lambda x: total_income_category(x))"
   ]
  },
  {
   "cell_type": "code",
   "execution_count": 60,
   "metadata": {},
   "outputs": [
    {
     "data": {
      "text/html": [
       "<div>\n",
       "<style scoped>\n",
       "    .dataframe tbody tr th:only-of-type {\n",
       "        vertical-align: middle;\n",
       "    }\n",
       "\n",
       "    .dataframe tbody tr th {\n",
       "        vertical-align: top;\n",
       "    }\n",
       "\n",
       "    .dataframe thead th {\n",
       "        text-align: right;\n",
       "    }\n",
       "</style>\n",
       "<table border=\"1\" class=\"dataframe\">\n",
       "  <thead>\n",
       "    <tr style=\"text-align: right;\">\n",
       "      <th></th>\n",
       "      <th>children</th>\n",
       "      <th>days_employed</th>\n",
       "      <th>dob_years</th>\n",
       "      <th>education_id</th>\n",
       "      <th>family_status_id</th>\n",
       "      <th>gender</th>\n",
       "      <th>income_type</th>\n",
       "      <th>debt</th>\n",
       "      <th>total_income</th>\n",
       "      <th>years_employed</th>\n",
       "      <th>purpose_id</th>\n",
       "      <th>total_income_id</th>\n",
       "    </tr>\n",
       "  </thead>\n",
       "  <tbody>\n",
       "    <tr>\n",
       "      <th>0</th>\n",
       "      <td>1</td>\n",
       "      <td>8437</td>\n",
       "      <td>42</td>\n",
       "      <td>0</td>\n",
       "      <td>0</td>\n",
       "      <td>F</td>\n",
       "      <td>сотрудник</td>\n",
       "      <td>0</td>\n",
       "      <td>253875</td>\n",
       "      <td>23</td>\n",
       "      <td>0</td>\n",
       "      <td>2</td>\n",
       "    </tr>\n",
       "    <tr>\n",
       "      <th>1</th>\n",
       "      <td>1</td>\n",
       "      <td>4024</td>\n",
       "      <td>36</td>\n",
       "      <td>1</td>\n",
       "      <td>0</td>\n",
       "      <td>F</td>\n",
       "      <td>сотрудник</td>\n",
       "      <td>0</td>\n",
       "      <td>112080</td>\n",
       "      <td>11</td>\n",
       "      <td>1</td>\n",
       "      <td>1</td>\n",
       "    </tr>\n",
       "    <tr>\n",
       "      <th>2</th>\n",
       "      <td>0</td>\n",
       "      <td>5623</td>\n",
       "      <td>33</td>\n",
       "      <td>1</td>\n",
       "      <td>0</td>\n",
       "      <td>M</td>\n",
       "      <td>сотрудник</td>\n",
       "      <td>0</td>\n",
       "      <td>145885</td>\n",
       "      <td>15</td>\n",
       "      <td>0</td>\n",
       "      <td>1</td>\n",
       "    </tr>\n",
       "    <tr>\n",
       "      <th>3</th>\n",
       "      <td>3</td>\n",
       "      <td>4124</td>\n",
       "      <td>32</td>\n",
       "      <td>1</td>\n",
       "      <td>0</td>\n",
       "      <td>M</td>\n",
       "      <td>сотрудник</td>\n",
       "      <td>0</td>\n",
       "      <td>267628</td>\n",
       "      <td>11</td>\n",
       "      <td>2</td>\n",
       "      <td>2</td>\n",
       "    </tr>\n",
       "    <tr>\n",
       "      <th>4</th>\n",
       "      <td>0</td>\n",
       "      <td>14177</td>\n",
       "      <td>53</td>\n",
       "      <td>1</td>\n",
       "      <td>1</td>\n",
       "      <td>F</td>\n",
       "      <td>пенсионер</td>\n",
       "      <td>0</td>\n",
       "      <td>158616</td>\n",
       "      <td>38</td>\n",
       "      <td>3</td>\n",
       "      <td>1</td>\n",
       "    </tr>\n",
       "  </tbody>\n",
       "</table>\n",
       "</div>"
      ],
      "text/plain": [
       "   children  days_employed  dob_years  education_id  family_status_id gender  \\\n",
       "0         1           8437         42             0                 0      F   \n",
       "1         1           4024         36             1                 0      F   \n",
       "2         0           5623         33             1                 0      M   \n",
       "3         3           4124         32             1                 0      M   \n",
       "4         0          14177         53             1                 1      F   \n",
       "\n",
       "  income_type  debt  total_income  years_employed  purpose_id  total_income_id  \n",
       "0   сотрудник     0        253875              23           0                2  \n",
       "1   сотрудник     0        112080              11           1                1  \n",
       "2   сотрудник     0        145885              15           0                1  \n",
       "3   сотрудник     0        267628              11           2                2  \n",
       "4   пенсионер     0        158616              38           3                1  "
      ]
     },
     "execution_count": 60,
     "metadata": {},
     "output_type": "execute_result"
    }
   ],
   "source": [
    "data.head()"
   ]
  },
  {
   "cell_type": "markdown",
   "metadata": {},
   "source": [
    "**Вывод**"
   ]
  },
  {
   "cell_type": "markdown",
   "metadata": {},
   "source": [
    "Созданы словари для полей `education`, `family_status`, `purpose`, сами поля удалены из датасета, что уменьшило размер датасета и соответственно увеличило скорость работы с ним.\n",
    "\n",
    "В датасет добавлено новое поле `total_income_id` (идентификатор ежемесячного дохода)  и создан соответствующий словарь. Данная информация будет использоваться в дальнейшем при исследовании."
   ]
  },
  {
   "cell_type": "markdown",
   "metadata": {},
   "source": [
    "## Шаг 3. Ответьте на вопросы"
   ]
  },
  {
   "cell_type": "markdown",
   "metadata": {},
   "source": [
    "### Есть ли зависимость между наличием детей и возвратом кредита в срок?"
   ]
  },
  {
   "cell_type": "markdown",
   "metadata": {},
   "source": [
    "Сгруппируем данные по полю `children` (количество детей в семье) и посчитаем значения `debt` (имел ли задолженность по возврату кредитов):\n",
    "- count - количество клиентов в группе\n",
    "- sum - число должников\n",
    "- mean - доля должников в каждой группе"
   ]
  },
  {
   "cell_type": "code",
   "execution_count": 61,
   "metadata": {},
   "outputs": [
    {
     "data": {
      "text/html": [
       "<div>\n",
       "<style scoped>\n",
       "    .dataframe tbody tr th:only-of-type {\n",
       "        vertical-align: middle;\n",
       "    }\n",
       "\n",
       "    .dataframe tbody tr th {\n",
       "        vertical-align: top;\n",
       "    }\n",
       "\n",
       "    .dataframe thead tr th {\n",
       "        text-align: left;\n",
       "    }\n",
       "\n",
       "    .dataframe thead tr:last-of-type th {\n",
       "        text-align: right;\n",
       "    }\n",
       "</style>\n",
       "<table border=\"1\" class=\"dataframe\">\n",
       "  <thead>\n",
       "    <tr>\n",
       "      <th></th>\n",
       "      <th colspan=\"3\" halign=\"left\">debt</th>\n",
       "    </tr>\n",
       "    <tr>\n",
       "      <th></th>\n",
       "      <th>count</th>\n",
       "      <th>sum</th>\n",
       "      <th>mean</th>\n",
       "    </tr>\n",
       "    <tr>\n",
       "      <th>children</th>\n",
       "      <th></th>\n",
       "      <th></th>\n",
       "      <th></th>\n",
       "    </tr>\n",
       "  </thead>\n",
       "  <tbody>\n",
       "    <tr>\n",
       "      <th>0</th>\n",
       "      <td>14154</td>\n",
       "      <td>1064</td>\n",
       "      <td>0.075173</td>\n",
       "    </tr>\n",
       "    <tr>\n",
       "      <th>1</th>\n",
       "      <td>4809</td>\n",
       "      <td>444</td>\n",
       "      <td>0.092327</td>\n",
       "    </tr>\n",
       "    <tr>\n",
       "      <th>2</th>\n",
       "      <td>2128</td>\n",
       "      <td>202</td>\n",
       "      <td>0.094925</td>\n",
       "    </tr>\n",
       "    <tr>\n",
       "      <th>3</th>\n",
       "      <td>330</td>\n",
       "      <td>27</td>\n",
       "      <td>0.081818</td>\n",
       "    </tr>\n",
       "    <tr>\n",
       "      <th>4</th>\n",
       "      <td>41</td>\n",
       "      <td>4</td>\n",
       "      <td>0.097561</td>\n",
       "    </tr>\n",
       "    <tr>\n",
       "      <th>5</th>\n",
       "      <td>9</td>\n",
       "      <td>0</td>\n",
       "      <td>0.000000</td>\n",
       "    </tr>\n",
       "  </tbody>\n",
       "</table>\n",
       "</div>"
      ],
      "text/plain": [
       "           debt                \n",
       "          count   sum      mean\n",
       "children                       \n",
       "0         14154  1064  0.075173\n",
       "1          4809   444  0.092327\n",
       "2          2128   202  0.094925\n",
       "3           330    27  0.081818\n",
       "4            41     4  0.097561\n",
       "5             9     0  0.000000"
      ]
     },
     "execution_count": 61,
     "metadata": {},
     "output_type": "execute_result"
    }
   ],
   "source": [
    "debt_children = data.groupby('children').agg({'debt': ['count', 'sum', 'mean']})\n",
    "debt_children"
   ]
  },
  {
   "cell_type": "markdown",
   "metadata": {},
   "source": [
    "**Выводы:**\n",
    "- Клиенты без детей берут кредиты чаще, чем клиенты с детьми.\n",
    "- Самая низкая доля должников в группе клиентов без детей.\n",
    "- Самая высокая доля должников в группе с четырьмя детьми.\n",
    "- Доли должников в группах с одним ребенком и двумя детьми отличаются незначительно.\n",
    "- В группе с пятью детьми должников нет.\n",
    "\n",
    "В группах с тремя, четырьмя и пятью детьми на порядок меньше клиентов, закономерность в доле должников не прослеживается. эти три группы можно объединить в одну - **многодетная семья**. "
   ]
  },
  {
   "cell_type": "markdown",
   "metadata": {},
   "source": [
    "Сгруппируем данные по количеству детей в три группы:\n",
    "- семья без детей\n",
    "- семья с 1 или 2 детьми\n",
    "- многодетная семья"
   ]
  },
  {
   "cell_type": "code",
   "execution_count": 62,
   "metadata": {},
   "outputs": [
    {
     "data": {
      "text/html": [
       "<div>\n",
       "<style scoped>\n",
       "    .dataframe tbody tr th:only-of-type {\n",
       "        vertical-align: middle;\n",
       "    }\n",
       "\n",
       "    .dataframe tbody tr th {\n",
       "        vertical-align: top;\n",
       "    }\n",
       "\n",
       "    .dataframe thead th {\n",
       "        text-align: right;\n",
       "    }\n",
       "</style>\n",
       "<table border=\"1\" class=\"dataframe\">\n",
       "  <thead>\n",
       "    <tr style=\"text-align: right;\">\n",
       "      <th></th>\n",
       "      <th>children_category_id</th>\n",
       "      <th>children_category</th>\n",
       "    </tr>\n",
       "  </thead>\n",
       "  <tbody>\n",
       "    <tr>\n",
       "      <th>0</th>\n",
       "      <td>0</td>\n",
       "      <td>семья без детей</td>\n",
       "    </tr>\n",
       "    <tr>\n",
       "      <th>1</th>\n",
       "      <td>1</td>\n",
       "      <td>семья с 1 или 2 детьми</td>\n",
       "    </tr>\n",
       "    <tr>\n",
       "      <th>2</th>\n",
       "      <td>2</td>\n",
       "      <td>многодетная семья</td>\n",
       "    </tr>\n",
       "  </tbody>\n",
       "</table>\n",
       "</div>"
      ],
      "text/plain": [
       "   children_category_id       children_category\n",
       "0                     0         семья без детей\n",
       "1                     1  семья с 1 или 2 детьми\n",
       "2                     2       многодетная семья"
      ]
     },
     "execution_count": 62,
     "metadata": {},
     "output_type": "execute_result"
    }
   ],
   "source": [
    "# словарь для нового поля children_category_id (идентификатор по количеству детей)\n",
    "columns = ['children_category_id', 'children_category']\n",
    "rows = [[0,'семья без детей'], [1, 'семья с 1 или 2 детьми'], [2, 'многодетная семья']]\n",
    "\n",
    "children_category_dict = pd.DataFrame(data=rows, columns=columns)\n",
    "children_category_dict"
   ]
  },
  {
   "cell_type": "code",
   "execution_count": 63,
   "metadata": {},
   "outputs": [],
   "source": [
    "# функция для определения группы по количеству детей\n",
    "def children_category(children):\n",
    "    if children == 0:\n",
    "        return 0\n",
    "    elif 0 < children < 3:\n",
    "        return 1\n",
    "    elif children > 2:\n",
    "        return 2"
   ]
  },
  {
   "cell_type": "code",
   "execution_count": 64,
   "metadata": {},
   "outputs": [],
   "source": [
    "# добавим в датасет колонку purpose_id и заполним ее значением, рассчитанным с помощью функции\n",
    "data['children_category_id'] = data['children'].transform(lambda x: children_category(x))"
   ]
  },
  {
   "cell_type": "markdown",
   "metadata": {},
   "source": [
    "Еще раз сгруппируем данные, только теперь по полю `children_category_id`. Добавим к таблице значения словаря children_category_dict методом merge() и удалим колонку `children_category_id` методом drop()"
   ]
  },
  {
   "cell_type": "code",
   "execution_count": 65,
   "metadata": {},
   "outputs": [
    {
     "name": "stderr",
     "output_type": "stream",
     "text": [
      "C:\\Users\\79853\\miniconda3\\lib\\site-packages\\pandas\\core\\frame.py:9190: FutureWarning: merging between different levels is deprecated and will be removed in a future version. (2 levels on the left,1 on the right)\n",
      "  return merge(\n"
     ]
    },
    {
     "data": {
      "text/html": [
       "<div>\n",
       "<style scoped>\n",
       "    .dataframe tbody tr th:only-of-type {\n",
       "        vertical-align: middle;\n",
       "    }\n",
       "\n",
       "    .dataframe tbody tr th {\n",
       "        vertical-align: top;\n",
       "    }\n",
       "\n",
       "    .dataframe thead th {\n",
       "        text-align: right;\n",
       "    }\n",
       "</style>\n",
       "<table border=\"1\" class=\"dataframe\">\n",
       "  <thead>\n",
       "    <tr style=\"text-align: right;\">\n",
       "      <th></th>\n",
       "      <th>(debt, count)</th>\n",
       "      <th>(debt, sum)</th>\n",
       "      <th>(debt, mean)</th>\n",
       "      <th>children_category</th>\n",
       "    </tr>\n",
       "  </thead>\n",
       "  <tbody>\n",
       "    <tr>\n",
       "      <th>0</th>\n",
       "      <td>14154</td>\n",
       "      <td>1064</td>\n",
       "      <td>0.075173</td>\n",
       "      <td>семья без детей</td>\n",
       "    </tr>\n",
       "    <tr>\n",
       "      <th>1</th>\n",
       "      <td>6937</td>\n",
       "      <td>646</td>\n",
       "      <td>0.093124</td>\n",
       "      <td>семья с 1 или 2 детьми</td>\n",
       "    </tr>\n",
       "    <tr>\n",
       "      <th>2</th>\n",
       "      <td>380</td>\n",
       "      <td>31</td>\n",
       "      <td>0.081579</td>\n",
       "      <td>многодетная семья</td>\n",
       "    </tr>\n",
       "  </tbody>\n",
       "</table>\n",
       "</div>"
      ],
      "text/plain": [
       "   (debt, count)  (debt, sum)  (debt, mean)       children_category\n",
       "0          14154         1064      0.075173         семья без детей\n",
       "1           6937          646      0.093124  семья с 1 или 2 детьми\n",
       "2            380           31      0.081579       многодетная семья"
      ]
     },
     "execution_count": 65,
     "metadata": {},
     "output_type": "execute_result"
    }
   ],
   "source": [
    "children_debt = data.groupby('children_category_id').agg({'debt': ['count', 'sum', 'mean']})\\\n",
    "        .merge(children_category_dict, on='children_category_id')\\\n",
    "        .drop(['children_category_id'], axis = 1)\n",
    "children_debt"
   ]
  },
  {
   "cell_type": "code",
   "execution_count": 66,
   "metadata": {},
   "outputs": [],
   "source": [
    "# переименуем колонки в сводной таблице\n",
    "children_debt.columns = ['всего клиентов', 'должники', 'доля должников, %', 'категория семьи по количеству детей']"
   ]
  },
  {
   "cell_type": "code",
   "execution_count": 67,
   "metadata": {},
   "outputs": [],
   "source": [
    "# переведем долю должников в проценты\n",
    "children_debt['доля должников, %'] = round(children_debt['доля должников, %'] * 100, 1)"
   ]
  },
  {
   "cell_type": "code",
   "execution_count": 68,
   "metadata": {},
   "outputs": [
    {
     "data": {
      "text/html": [
       "<div>\n",
       "<style scoped>\n",
       "    .dataframe tbody tr th:only-of-type {\n",
       "        vertical-align: middle;\n",
       "    }\n",
       "\n",
       "    .dataframe tbody tr th {\n",
       "        vertical-align: top;\n",
       "    }\n",
       "\n",
       "    .dataframe thead th {\n",
       "        text-align: right;\n",
       "    }\n",
       "</style>\n",
       "<table border=\"1\" class=\"dataframe\">\n",
       "  <thead>\n",
       "    <tr style=\"text-align: right;\">\n",
       "      <th></th>\n",
       "      <th>всего клиентов</th>\n",
       "      <th>должники</th>\n",
       "      <th>доля должников, %</th>\n",
       "      <th>категория семьи по количеству детей</th>\n",
       "    </tr>\n",
       "  </thead>\n",
       "  <tbody>\n",
       "    <tr>\n",
       "      <th>0</th>\n",
       "      <td>14154</td>\n",
       "      <td>1064</td>\n",
       "      <td>7.5</td>\n",
       "      <td>семья без детей</td>\n",
       "    </tr>\n",
       "    <tr>\n",
       "      <th>1</th>\n",
       "      <td>6937</td>\n",
       "      <td>646</td>\n",
       "      <td>9.3</td>\n",
       "      <td>семья с 1 или 2 детьми</td>\n",
       "    </tr>\n",
       "    <tr>\n",
       "      <th>2</th>\n",
       "      <td>380</td>\n",
       "      <td>31</td>\n",
       "      <td>8.2</td>\n",
       "      <td>многодетная семья</td>\n",
       "    </tr>\n",
       "  </tbody>\n",
       "</table>\n",
       "</div>"
      ],
      "text/plain": [
       "   всего клиентов  должники  доля должников, %  \\\n",
       "0           14154      1064                7.5   \n",
       "1            6937       646                9.3   \n",
       "2             380        31                8.2   \n",
       "\n",
       "  категория семьи по количеству детей  \n",
       "0                     семья без детей  \n",
       "1              семья с 1 или 2 детьми  \n",
       "2                   многодетная семья  "
      ]
     },
     "execution_count": 68,
     "metadata": {},
     "output_type": "execute_result"
    }
   ],
   "source": [
    "children_debt"
   ]
  },
  {
   "cell_type": "markdown",
   "metadata": {},
   "source": [
    "**Вывод**"
   ]
  },
  {
   "cell_type": "markdown",
   "metadata": {},
   "source": [
    "Согласно результатам исследования среди клиентов без детей самый низкий процент должников - 7.5%, самый высокий процент должников среди клиентов с одним или двумя детьми - 9.3%. У многодетных семей средний показатель - 8.2% должников.\n",
    "\n",
    "Можно сделать вывод, что **клиенты без детей чаще возвращают кредиты в срок**."
   ]
  },
  {
   "cell_type": "markdown",
   "metadata": {},
   "source": [
    "### Есть ли зависимость между семейным положением и возвратом кредита в срок?"
   ]
  },
  {
   "cell_type": "markdown",
   "metadata": {},
   "source": [
    "Сгруппируем данные по полю `family_status_id` (идентификатор семейного положения) и посчитаем значения `debt` (имел ли задолженность по возврату кредитов):\n",
    "- count - количество клиентов в группе\n",
    "- sum - число должников\n",
    "- mean - доля должников в каждой группе\n",
    "\n",
    "Добавим к таблице значения словаря family_status_dict методом merge() и удалим колонку `family_status_id` методом drop()"
   ]
  },
  {
   "cell_type": "code",
   "execution_count": 69,
   "metadata": {},
   "outputs": [
    {
     "name": "stderr",
     "output_type": "stream",
     "text": [
      "C:\\Users\\79853\\miniconda3\\lib\\site-packages\\pandas\\core\\frame.py:9190: FutureWarning: merging between different levels is deprecated and will be removed in a future version. (2 levels on the left,1 on the right)\n",
      "  return merge(\n"
     ]
    },
    {
     "data": {
      "text/html": [
       "<div>\n",
       "<style scoped>\n",
       "    .dataframe tbody tr th:only-of-type {\n",
       "        vertical-align: middle;\n",
       "    }\n",
       "\n",
       "    .dataframe tbody tr th {\n",
       "        vertical-align: top;\n",
       "    }\n",
       "\n",
       "    .dataframe thead th {\n",
       "        text-align: right;\n",
       "    }\n",
       "</style>\n",
       "<table border=\"1\" class=\"dataframe\">\n",
       "  <thead>\n",
       "    <tr style=\"text-align: right;\">\n",
       "      <th></th>\n",
       "      <th>family_status_id</th>\n",
       "      <th>(debt, count)</th>\n",
       "      <th>(debt, sum)</th>\n",
       "      <th>(debt, mean)</th>\n",
       "      <th>family_status</th>\n",
       "    </tr>\n",
       "  </thead>\n",
       "  <tbody>\n",
       "    <tr>\n",
       "      <th>0</th>\n",
       "      <td>0</td>\n",
       "      <td>12344</td>\n",
       "      <td>931</td>\n",
       "      <td>0.075421</td>\n",
       "      <td>женат / замужем</td>\n",
       "    </tr>\n",
       "    <tr>\n",
       "      <th>1</th>\n",
       "      <td>1</td>\n",
       "      <td>4163</td>\n",
       "      <td>388</td>\n",
       "      <td>0.093202</td>\n",
       "      <td>гражданский брак</td>\n",
       "    </tr>\n",
       "    <tr>\n",
       "      <th>2</th>\n",
       "      <td>2</td>\n",
       "      <td>959</td>\n",
       "      <td>63</td>\n",
       "      <td>0.065693</td>\n",
       "      <td>вдовец / вдова</td>\n",
       "    </tr>\n",
       "    <tr>\n",
       "      <th>3</th>\n",
       "      <td>3</td>\n",
       "      <td>1195</td>\n",
       "      <td>85</td>\n",
       "      <td>0.071130</td>\n",
       "      <td>в разводе</td>\n",
       "    </tr>\n",
       "    <tr>\n",
       "      <th>4</th>\n",
       "      <td>4</td>\n",
       "      <td>2810</td>\n",
       "      <td>274</td>\n",
       "      <td>0.097509</td>\n",
       "      <td>Не женат / не замужем</td>\n",
       "    </tr>\n",
       "  </tbody>\n",
       "</table>\n",
       "</div>"
      ],
      "text/plain": [
       "   family_status_id  (debt, count)  (debt, sum)  (debt, mean)  \\\n",
       "0                 0          12344          931      0.075421   \n",
       "1                 1           4163          388      0.093202   \n",
       "2                 2            959           63      0.065693   \n",
       "3                 3           1195           85      0.071130   \n",
       "4                 4           2810          274      0.097509   \n",
       "\n",
       "           family_status  \n",
       "0        женат / замужем  \n",
       "1       гражданский брак  \n",
       "2         вдовец / вдова  \n",
       "3              в разводе  \n",
       "4  Не женат / не замужем  "
      ]
     },
     "execution_count": 69,
     "metadata": {},
     "output_type": "execute_result"
    }
   ],
   "source": [
    "debt_family_status = data.groupby('family_status_id').agg({'debt': ['count', 'sum', 'mean']})\\\n",
    "        .merge(family_status_dict, on='family_status_id')\n",
    "debt_family_status"
   ]
  },
  {
   "cell_type": "code",
   "execution_count": 70,
   "metadata": {},
   "outputs": [],
   "source": [
    "# переименуем колонки в сводной таблице, кроме колонки family_status_id\n",
    "debt_family_status.columns = ['family_status_id', 'всего клиентов', 'должники', 'доля должников, %', 'семейное положение']"
   ]
  },
  {
   "cell_type": "code",
   "execution_count": 71,
   "metadata": {},
   "outputs": [],
   "source": [
    "# переведем долю должников в проценты\n",
    "debt_family_status['доля должников, %'] = round(debt_family_status['доля должников, %'] * 100, 1)"
   ]
  },
  {
   "cell_type": "code",
   "execution_count": 72,
   "metadata": {},
   "outputs": [
    {
     "data": {
      "text/html": [
       "<div>\n",
       "<style scoped>\n",
       "    .dataframe tbody tr th:only-of-type {\n",
       "        vertical-align: middle;\n",
       "    }\n",
       "\n",
       "    .dataframe tbody tr th {\n",
       "        vertical-align: top;\n",
       "    }\n",
       "\n",
       "    .dataframe thead th {\n",
       "        text-align: right;\n",
       "    }\n",
       "</style>\n",
       "<table border=\"1\" class=\"dataframe\">\n",
       "  <thead>\n",
       "    <tr style=\"text-align: right;\">\n",
       "      <th></th>\n",
       "      <th>family_status_id</th>\n",
       "      <th>всего клиентов</th>\n",
       "      <th>должники</th>\n",
       "      <th>доля должников, %</th>\n",
       "      <th>семейное положение</th>\n",
       "    </tr>\n",
       "  </thead>\n",
       "  <tbody>\n",
       "    <tr>\n",
       "      <th>0</th>\n",
       "      <td>0</td>\n",
       "      <td>12344</td>\n",
       "      <td>931</td>\n",
       "      <td>7.5</td>\n",
       "      <td>женат / замужем</td>\n",
       "    </tr>\n",
       "    <tr>\n",
       "      <th>1</th>\n",
       "      <td>1</td>\n",
       "      <td>4163</td>\n",
       "      <td>388</td>\n",
       "      <td>9.3</td>\n",
       "      <td>гражданский брак</td>\n",
       "    </tr>\n",
       "    <tr>\n",
       "      <th>2</th>\n",
       "      <td>2</td>\n",
       "      <td>959</td>\n",
       "      <td>63</td>\n",
       "      <td>6.6</td>\n",
       "      <td>вдовец / вдова</td>\n",
       "    </tr>\n",
       "    <tr>\n",
       "      <th>3</th>\n",
       "      <td>3</td>\n",
       "      <td>1195</td>\n",
       "      <td>85</td>\n",
       "      <td>7.1</td>\n",
       "      <td>в разводе</td>\n",
       "    </tr>\n",
       "    <tr>\n",
       "      <th>4</th>\n",
       "      <td>4</td>\n",
       "      <td>2810</td>\n",
       "      <td>274</td>\n",
       "      <td>9.8</td>\n",
       "      <td>Не женат / не замужем</td>\n",
       "    </tr>\n",
       "  </tbody>\n",
       "</table>\n",
       "</div>"
      ],
      "text/plain": [
       "   family_status_id  всего клиентов  должники  доля должников, %  \\\n",
       "0                 0           12344       931                7.5   \n",
       "1                 1            4163       388                9.3   \n",
       "2                 2             959        63                6.6   \n",
       "3                 3            1195        85                7.1   \n",
       "4                 4            2810       274                9.8   \n",
       "\n",
       "      семейное положение  \n",
       "0        женат / замужем  \n",
       "1       гражданский брак  \n",
       "2         вдовец / вдова  \n",
       "3              в разводе  \n",
       "4  Не женат / не замужем  "
      ]
     },
     "execution_count": 72,
     "metadata": {},
     "output_type": "execute_result"
    }
   ],
   "source": [
    "debt_family_status"
   ]
  },
  {
   "cell_type": "markdown",
   "metadata": {},
   "source": [
    "**Вывод**"
   ]
  },
  {
   "cell_type": "markdown",
   "metadata": {},
   "source": [
    "- Женатые / замужние клиенты берут кредиты чаще, чем клиенты с другим семейным положением.\n",
    "- Наименьший процент должников среди овдовевших клиентов, - 6.6%.\n",
    "- Наибольший процент должников среди не женатых / не замужних клиентов, - 9.8%. \n",
    "\n",
    "Скорее всего, зависимость в данном случае обусловлена не семейным положением, а скорее возрастом клиентов, т.к. чем старше человек, тем он становится ответственнее и старается не допускать задолжностей по своим кредитам. Ниже рассчитаем медианный возраст клиетов во всех группах по семейному положению, чтобы подтвердить или опровергнуть эту гипотезу."
   ]
  },
  {
   "cell_type": "markdown",
   "metadata": {},
   "source": [
    "Сгруппируем данные по полю `family_status_id` (идентификатор семейного положения) и посчитаем **средний возраст клиетов** в каждой группе."
   ]
  },
  {
   "cell_type": "code",
   "execution_count": 73,
   "metadata": {},
   "outputs": [
    {
     "data": {
      "text/html": [
       "<div>\n",
       "<style scoped>\n",
       "    .dataframe tbody tr th:only-of-type {\n",
       "        vertical-align: middle;\n",
       "    }\n",
       "\n",
       "    .dataframe tbody tr th {\n",
       "        vertical-align: top;\n",
       "    }\n",
       "\n",
       "    .dataframe thead th {\n",
       "        text-align: right;\n",
       "    }\n",
       "</style>\n",
       "<table border=\"1\" class=\"dataframe\">\n",
       "  <thead>\n",
       "    <tr style=\"text-align: right;\">\n",
       "      <th></th>\n",
       "      <th>family_status_id</th>\n",
       "      <th>dob_years</th>\n",
       "    </tr>\n",
       "  </thead>\n",
       "  <tbody>\n",
       "    <tr>\n",
       "      <th>0</th>\n",
       "      <td>0</td>\n",
       "      <td>43</td>\n",
       "    </tr>\n",
       "    <tr>\n",
       "      <th>1</th>\n",
       "      <td>1</td>\n",
       "      <td>42</td>\n",
       "    </tr>\n",
       "    <tr>\n",
       "      <th>2</th>\n",
       "      <td>2</td>\n",
       "      <td>56</td>\n",
       "    </tr>\n",
       "    <tr>\n",
       "      <th>3</th>\n",
       "      <td>3</td>\n",
       "      <td>45</td>\n",
       "    </tr>\n",
       "    <tr>\n",
       "      <th>4</th>\n",
       "      <td>4</td>\n",
       "      <td>38</td>\n",
       "    </tr>\n",
       "  </tbody>\n",
       "</table>\n",
       "</div>"
      ],
      "text/plain": [
       "   family_status_id  dob_years\n",
       "0                 0         43\n",
       "1                 1         42\n",
       "2                 2         56\n",
       "3                 3         45\n",
       "4                 4         38"
      ]
     },
     "execution_count": 73,
     "metadata": {},
     "output_type": "execute_result"
    }
   ],
   "source": [
    "family_status_dob_years = data.groupby('family_status_id')['dob_years'].mean().astype('int').reset_index()\n",
    "family_status_dob_years"
   ]
  },
  {
   "cell_type": "markdown",
   "metadata": {},
   "source": [
    "Добавим к таблице с результатами колонку со средним возрастом клиетов, удалим колонку `family_status_id`, переименуем колонку `dob_years` в `средний возраст`."
   ]
  },
  {
   "cell_type": "code",
   "execution_count": 74,
   "metadata": {
    "scrolled": true
   },
   "outputs": [
    {
     "data": {
      "text/html": [
       "<div>\n",
       "<style scoped>\n",
       "    .dataframe tbody tr th:only-of-type {\n",
       "        vertical-align: middle;\n",
       "    }\n",
       "\n",
       "    .dataframe tbody tr th {\n",
       "        vertical-align: top;\n",
       "    }\n",
       "\n",
       "    .dataframe thead th {\n",
       "        text-align: right;\n",
       "    }\n",
       "</style>\n",
       "<table border=\"1\" class=\"dataframe\">\n",
       "  <thead>\n",
       "    <tr style=\"text-align: right;\">\n",
       "      <th></th>\n",
       "      <th>всего клиентов</th>\n",
       "      <th>должники</th>\n",
       "      <th>доля должников, %</th>\n",
       "      <th>семейное положение</th>\n",
       "      <th>средний возраст</th>\n",
       "    </tr>\n",
       "  </thead>\n",
       "  <tbody>\n",
       "    <tr>\n",
       "      <th>0</th>\n",
       "      <td>12344</td>\n",
       "      <td>931</td>\n",
       "      <td>7.5</td>\n",
       "      <td>женат / замужем</td>\n",
       "      <td>43</td>\n",
       "    </tr>\n",
       "    <tr>\n",
       "      <th>1</th>\n",
       "      <td>4163</td>\n",
       "      <td>388</td>\n",
       "      <td>9.3</td>\n",
       "      <td>гражданский брак</td>\n",
       "      <td>42</td>\n",
       "    </tr>\n",
       "    <tr>\n",
       "      <th>2</th>\n",
       "      <td>959</td>\n",
       "      <td>63</td>\n",
       "      <td>6.6</td>\n",
       "      <td>вдовец / вдова</td>\n",
       "      <td>56</td>\n",
       "    </tr>\n",
       "    <tr>\n",
       "      <th>3</th>\n",
       "      <td>1195</td>\n",
       "      <td>85</td>\n",
       "      <td>7.1</td>\n",
       "      <td>в разводе</td>\n",
       "      <td>45</td>\n",
       "    </tr>\n",
       "    <tr>\n",
       "      <th>4</th>\n",
       "      <td>2810</td>\n",
       "      <td>274</td>\n",
       "      <td>9.8</td>\n",
       "      <td>Не женат / не замужем</td>\n",
       "      <td>38</td>\n",
       "    </tr>\n",
       "  </tbody>\n",
       "</table>\n",
       "</div>"
      ],
      "text/plain": [
       "   всего клиентов  должники  доля должников, %     семейное положение  \\\n",
       "0           12344       931                7.5        женат / замужем   \n",
       "1            4163       388                9.3       гражданский брак   \n",
       "2             959        63                6.6         вдовец / вдова   \n",
       "3            1195        85                7.1              в разводе   \n",
       "4            2810       274                9.8  Не женат / не замужем   \n",
       "\n",
       "   средний возраст  \n",
       "0               43  \n",
       "1               42  \n",
       "2               56  \n",
       "3               45  \n",
       "4               38  "
      ]
     },
     "execution_count": 74,
     "metadata": {},
     "output_type": "execute_result"
    }
   ],
   "source": [
    "debt_family_status = debt_family_status.merge(family_status_dob_years, on='family_status_id')\\\n",
    "        .drop(['family_status_id'], axis = 1)\\\n",
    "        .rename(columns={\"dob_years\": \"средний возраст\"})\n",
    "debt_family_status"
   ]
  },
  {
   "cell_type": "markdown",
   "metadata": {},
   "source": [
    "Гипотеза с возрастом клиетов подтвердилась, наименьшая доля задолжностей 6.6% среди самой старшей группы 56 лет (семейное положение - вдовец / вдова). наибольшая доля задолжностей 9.8% среди самой молодой группы 38 лет (семейное положение - Не женат / не замужем).\n",
    "\n",
    "Можно сделать вывод, что **существует косвенная зависимость между семейным положением и возвратом кредитов в срок**, но скорее всего это связано с возрастом клиентов: чем старше клиент, тем выше ответственность, тем меньше задолжностей по кредитам."
   ]
  },
  {
   "cell_type": "markdown",
   "metadata": {},
   "source": [
    "### Есть ли зависимость между уровнем дохода и возвратом кредита в срок?"
   ]
  },
  {
   "cell_type": "markdown",
   "metadata": {},
   "source": [
    "Составим сводную таблицу методом **pivot_table()**: для параметра index возьмем переменную `total_income_id`, для параметра values - переменную `debt`. В качестве функций aggfunc:\n",
    "\n",
    "- count - количество клиентов в группе\n",
    "- sum - число должников\n",
    "- mean - доля должников в каждой группе\n",
    "\n",
    "Добавим к таблице значения словаря total_income_dict методом merge() и удалим колонку `total_income_id` методом drop()"
   ]
  },
  {
   "cell_type": "code",
   "execution_count": 75,
   "metadata": {},
   "outputs": [
    {
     "name": "stderr",
     "output_type": "stream",
     "text": [
      "C:\\Users\\79853\\miniconda3\\lib\\site-packages\\pandas\\core\\frame.py:9190: FutureWarning: merging between different levels is deprecated and will be removed in a future version. (2 levels on the left,1 on the right)\n",
      "  return merge(\n"
     ]
    },
    {
     "data": {
      "text/html": [
       "<div>\n",
       "<style scoped>\n",
       "    .dataframe tbody tr th:only-of-type {\n",
       "        vertical-align: middle;\n",
       "    }\n",
       "\n",
       "    .dataframe tbody tr th {\n",
       "        vertical-align: top;\n",
       "    }\n",
       "\n",
       "    .dataframe thead th {\n",
       "        text-align: right;\n",
       "    }\n",
       "</style>\n",
       "<table border=\"1\" class=\"dataframe\">\n",
       "  <thead>\n",
       "    <tr style=\"text-align: right;\">\n",
       "      <th></th>\n",
       "      <th>(count, debt)</th>\n",
       "      <th>(sum, debt)</th>\n",
       "      <th>(mean, debt)</th>\n",
       "      <th>total_income</th>\n",
       "    </tr>\n",
       "  </thead>\n",
       "  <tbody>\n",
       "    <tr>\n",
       "      <th>0</th>\n",
       "      <td>4463</td>\n",
       "      <td>354</td>\n",
       "      <td>0.079319</td>\n",
       "      <td>менее 100 тыс.</td>\n",
       "    </tr>\n",
       "    <tr>\n",
       "      <th>1</th>\n",
       "      <td>11941</td>\n",
       "      <td>1029</td>\n",
       "      <td>0.086174</td>\n",
       "      <td>100-200 тыс.</td>\n",
       "    </tr>\n",
       "    <tr>\n",
       "      <th>2</th>\n",
       "      <td>5067</td>\n",
       "      <td>358</td>\n",
       "      <td>0.070653</td>\n",
       "      <td>200 тыс. и более</td>\n",
       "    </tr>\n",
       "  </tbody>\n",
       "</table>\n",
       "</div>"
      ],
      "text/plain": [
       "   (count, debt)  (sum, debt)  (mean, debt)      total_income\n",
       "0           4463          354      0.079319    менее 100 тыс.\n",
       "1          11941         1029      0.086174      100-200 тыс.\n",
       "2           5067          358      0.070653  200 тыс. и более"
      ]
     },
     "execution_count": 75,
     "metadata": {},
     "output_type": "execute_result"
    }
   ],
   "source": [
    "total_income_debt = pd.pivot_table(data, index='total_income_id', columns=None, values='debt',\n",
    "                                   aggfunc=['count', 'sum', 'mean'])\\\n",
    "                      .merge(total_income_dict, on='total_income_id')\\\n",
    "                      .drop(['total_income_id'], axis = 1)\n",
    "total_income_debt"
   ]
  },
  {
   "cell_type": "code",
   "execution_count": 76,
   "metadata": {},
   "outputs": [],
   "source": [
    "# переименуем колонки в сводной таблице\n",
    "total_income_debt.columns = ['всего клиентов', 'должники', 'доля должников, %', 'ежемесячный доход']"
   ]
  },
  {
   "cell_type": "code",
   "execution_count": 77,
   "metadata": {},
   "outputs": [],
   "source": [
    "# переведем долю должников в проценты\n",
    "total_income_debt['доля должников, %'] = round(total_income_debt['доля должников, %'] * 100, 1)"
   ]
  },
  {
   "cell_type": "code",
   "execution_count": 78,
   "metadata": {},
   "outputs": [
    {
     "data": {
      "text/html": [
       "<div>\n",
       "<style scoped>\n",
       "    .dataframe tbody tr th:only-of-type {\n",
       "        vertical-align: middle;\n",
       "    }\n",
       "\n",
       "    .dataframe tbody tr th {\n",
       "        vertical-align: top;\n",
       "    }\n",
       "\n",
       "    .dataframe thead th {\n",
       "        text-align: right;\n",
       "    }\n",
       "</style>\n",
       "<table border=\"1\" class=\"dataframe\">\n",
       "  <thead>\n",
       "    <tr style=\"text-align: right;\">\n",
       "      <th></th>\n",
       "      <th>всего клиентов</th>\n",
       "      <th>должники</th>\n",
       "      <th>доля должников, %</th>\n",
       "      <th>ежемесячный доход</th>\n",
       "    </tr>\n",
       "  </thead>\n",
       "  <tbody>\n",
       "    <tr>\n",
       "      <th>0</th>\n",
       "      <td>4463</td>\n",
       "      <td>354</td>\n",
       "      <td>7.9</td>\n",
       "      <td>менее 100 тыс.</td>\n",
       "    </tr>\n",
       "    <tr>\n",
       "      <th>1</th>\n",
       "      <td>11941</td>\n",
       "      <td>1029</td>\n",
       "      <td>8.6</td>\n",
       "      <td>100-200 тыс.</td>\n",
       "    </tr>\n",
       "    <tr>\n",
       "      <th>2</th>\n",
       "      <td>5067</td>\n",
       "      <td>358</td>\n",
       "      <td>7.1</td>\n",
       "      <td>200 тыс. и более</td>\n",
       "    </tr>\n",
       "  </tbody>\n",
       "</table>\n",
       "</div>"
      ],
      "text/plain": [
       "   всего клиентов  должники  доля должников, % ежемесячный доход\n",
       "0            4463       354                7.9    менее 100 тыс.\n",
       "1           11941      1029                8.6      100-200 тыс.\n",
       "2            5067       358                7.1  200 тыс. и более"
      ]
     },
     "execution_count": 78,
     "metadata": {},
     "output_type": "execute_result"
    }
   ],
   "source": [
    "total_income_debt"
   ]
  },
  {
   "cell_type": "markdown",
   "metadata": {},
   "source": [
    "**Вывод**"
   ]
  },
  {
   "cell_type": "markdown",
   "metadata": {},
   "source": [
    "Клиенты c ежемесячным доходом 100-200 тыс. берут кредиты чаще, чем клиенты с другим доходом.\n",
    "\n",
    "Наибольший процент задолжностей среди клиентов с ежемесячным доходом 100-200 тыс., - 8.6%.\n",
    "\n",
    "Можно сделать вывод, что **уровень дохода влияет на возврат кредита в срок**. Так клиенты со средним уровнем дохода 100-200 тыс. в месяц имеют более высокий процент задолжностей по кредитам, с уменьшением и увеличением уровня доходов процент задолжностей становится ниже."
   ]
  },
  {
   "cell_type": "markdown",
   "metadata": {},
   "source": [
    "### Как разные цели кредита влияют на его возврат в срок?"
   ]
  },
  {
   "cell_type": "markdown",
   "metadata": {},
   "source": [
    "Составим сводную таблицу методом **pivot_table()**: для параметра index возьмем переменную `purpose_id`, для параметра values - переменную `debt`. В качестве функций aggfunc:\n",
    "\n",
    "- count - количество клиентов в группе\n",
    "- sum - число должников\n",
    "- mean - доля должников в каждой группе\n",
    "\n",
    "Добавим к таблице значения словаря purpose_dict методом merge() и удалим колонку `purpose_id` методом drop()"
   ]
  },
  {
   "cell_type": "code",
   "execution_count": 79,
   "metadata": {},
   "outputs": [
    {
     "name": "stderr",
     "output_type": "stream",
     "text": [
      "C:\\Users\\79853\\miniconda3\\lib\\site-packages\\pandas\\core\\frame.py:9190: FutureWarning: merging between different levels is deprecated and will be removed in a future version. (2 levels on the left,1 on the right)\n",
      "  return merge(\n"
     ]
    },
    {
     "data": {
      "text/html": [
       "<div>\n",
       "<style scoped>\n",
       "    .dataframe tbody tr th:only-of-type {\n",
       "        vertical-align: middle;\n",
       "    }\n",
       "\n",
       "    .dataframe tbody tr th {\n",
       "        vertical-align: top;\n",
       "    }\n",
       "\n",
       "    .dataframe thead th {\n",
       "        text-align: right;\n",
       "    }\n",
       "</style>\n",
       "<table border=\"1\" class=\"dataframe\">\n",
       "  <thead>\n",
       "    <tr style=\"text-align: right;\">\n",
       "      <th></th>\n",
       "      <th>(count, debt)</th>\n",
       "      <th>(sum, debt)</th>\n",
       "      <th>(mean, debt)</th>\n",
       "      <th>purpose</th>\n",
       "    </tr>\n",
       "  </thead>\n",
       "  <tbody>\n",
       "    <tr>\n",
       "      <th>0</th>\n",
       "      <td>5692</td>\n",
       "      <td>397</td>\n",
       "      <td>0.069747</td>\n",
       "      <td>жилье</td>\n",
       "    </tr>\n",
       "    <tr>\n",
       "      <th>1</th>\n",
       "      <td>4308</td>\n",
       "      <td>403</td>\n",
       "      <td>0.093547</td>\n",
       "      <td>автомобиль</td>\n",
       "    </tr>\n",
       "    <tr>\n",
       "      <th>2</th>\n",
       "      <td>4014</td>\n",
       "      <td>370</td>\n",
       "      <td>0.092177</td>\n",
       "      <td>образование</td>\n",
       "    </tr>\n",
       "    <tr>\n",
       "      <th>3</th>\n",
       "      <td>2335</td>\n",
       "      <td>186</td>\n",
       "      <td>0.079657</td>\n",
       "      <td>свадьба</td>\n",
       "    </tr>\n",
       "    <tr>\n",
       "      <th>4</th>\n",
       "      <td>5122</td>\n",
       "      <td>385</td>\n",
       "      <td>0.075166</td>\n",
       "      <td>недвижимость</td>\n",
       "    </tr>\n",
       "  </tbody>\n",
       "</table>\n",
       "</div>"
      ],
      "text/plain": [
       "   (count, debt)  (sum, debt)  (mean, debt)       purpose\n",
       "0           5692          397      0.069747         жилье\n",
       "1           4308          403      0.093547    автомобиль\n",
       "2           4014          370      0.092177   образование\n",
       "3           2335          186      0.079657       свадьба\n",
       "4           5122          385      0.075166  недвижимость"
      ]
     },
     "execution_count": 79,
     "metadata": {},
     "output_type": "execute_result"
    }
   ],
   "source": [
    "debt_purpose = pd.pivot_table(data, index='purpose_id', columns=None, values='debt', aggfunc=['count', 'sum', 'mean'])\\\n",
    "        .merge(purpose_dict, on='purpose_id')\\\n",
    "        .drop(['purpose_id'], axis = 1)\n",
    "debt_purpose"
   ]
  },
  {
   "cell_type": "code",
   "execution_count": 80,
   "metadata": {},
   "outputs": [],
   "source": [
    "# переименуем колонки в сводной таблице\n",
    "debt_purpose.columns = ['всего клиентов', 'должники', 'доля должников, %', 'цель кредита']"
   ]
  },
  {
   "cell_type": "code",
   "execution_count": 81,
   "metadata": {},
   "outputs": [],
   "source": [
    "# переведем долю должников в проценты\n",
    "debt_purpose['доля должников, %'] = round(debt_purpose['доля должников, %'] * 100, 1)"
   ]
  },
  {
   "cell_type": "code",
   "execution_count": 82,
   "metadata": {},
   "outputs": [
    {
     "data": {
      "text/html": [
       "<div>\n",
       "<style scoped>\n",
       "    .dataframe tbody tr th:only-of-type {\n",
       "        vertical-align: middle;\n",
       "    }\n",
       "\n",
       "    .dataframe tbody tr th {\n",
       "        vertical-align: top;\n",
       "    }\n",
       "\n",
       "    .dataframe thead th {\n",
       "        text-align: right;\n",
       "    }\n",
       "</style>\n",
       "<table border=\"1\" class=\"dataframe\">\n",
       "  <thead>\n",
       "    <tr style=\"text-align: right;\">\n",
       "      <th></th>\n",
       "      <th>всего клиентов</th>\n",
       "      <th>должники</th>\n",
       "      <th>доля должников, %</th>\n",
       "      <th>цель кредита</th>\n",
       "    </tr>\n",
       "  </thead>\n",
       "  <tbody>\n",
       "    <tr>\n",
       "      <th>0</th>\n",
       "      <td>5692</td>\n",
       "      <td>397</td>\n",
       "      <td>7.0</td>\n",
       "      <td>жилье</td>\n",
       "    </tr>\n",
       "    <tr>\n",
       "      <th>1</th>\n",
       "      <td>4308</td>\n",
       "      <td>403</td>\n",
       "      <td>9.4</td>\n",
       "      <td>автомобиль</td>\n",
       "    </tr>\n",
       "    <tr>\n",
       "      <th>2</th>\n",
       "      <td>4014</td>\n",
       "      <td>370</td>\n",
       "      <td>9.2</td>\n",
       "      <td>образование</td>\n",
       "    </tr>\n",
       "    <tr>\n",
       "      <th>3</th>\n",
       "      <td>2335</td>\n",
       "      <td>186</td>\n",
       "      <td>8.0</td>\n",
       "      <td>свадьба</td>\n",
       "    </tr>\n",
       "    <tr>\n",
       "      <th>4</th>\n",
       "      <td>5122</td>\n",
       "      <td>385</td>\n",
       "      <td>7.5</td>\n",
       "      <td>недвижимость</td>\n",
       "    </tr>\n",
       "  </tbody>\n",
       "</table>\n",
       "</div>"
      ],
      "text/plain": [
       "   всего клиентов  должники  доля должников, %  цель кредита\n",
       "0            5692       397                7.0         жилье\n",
       "1            4308       403                9.4    автомобиль\n",
       "2            4014       370                9.2   образование\n",
       "3            2335       186                8.0       свадьба\n",
       "4            5122       385                7.5  недвижимость"
      ]
     },
     "execution_count": 82,
     "metadata": {},
     "output_type": "execute_result"
    }
   ],
   "source": [
    "debt_purpose"
   ]
  },
  {
   "cell_type": "markdown",
   "metadata": {},
   "source": [
    "**Вывод**"
   ]
  },
  {
   "cell_type": "markdown",
   "metadata": {},
   "source": [
    "Большее количество кредитов берут на жилье, на втором месте - недвижимость (в том числе коммерческая).\n",
    "\n",
    "На жилье и недвижимость задолжности по кредитам ниже, чем на другие цели. Это может быть связано с тем, что клиенты более ответственно относятся к выплате кредитов на более важные для них цели. т.е. чем важнее цель, тем более ответственное отношение у клиента к выплате кредита.\n",
    "\n",
    "Также можно предположить, что это связано с тем, что стоимость жилья и недвижимости на порядок выше других пунктов, поэтому клиенты более ответственно относятся к таким кредитам, т.к. задолжность может грозить очень высокими процентами переплаты.\n",
    "\n",
    "Можно сделать вывод, что **цель кредита влияет на его возврат в срок**."
   ]
  },
  {
   "cell_type": "markdown",
   "metadata": {},
   "source": [
    "## Шаг 4. Общий вывод"
   ]
  },
  {
   "cell_type": "markdown",
   "metadata": {},
   "source": [
    "Клиенты без детей берут и возвращают кредиты чаще, чем клиенты с детьми.\n",
    "\n",
    "Женатые/замужние клиенты берут кредиты чаще, чем клиенты с другим семейным положением.\n",
    "\n",
    "Существует косвенная зависимость между семейным положением и возвратом кредитов в срок, которую скорее можно связать с возрастом клиентов: чем старше клиент, тем выше ответственность, тем меньше задолжностей по кредитам.\n",
    "\n",
    "Уровень дохода также влияет на возврат кредита в срок. Так, клиенты со средним уровнем дохода 100-200 тыс. в месяц имеют более высокий процент задолжностей по кредитам, с уменьшением и увеличением уровня доходов клиентов процент задолжностей становится ниже.\n",
    "\n",
    "Больше всего кредитов берут на жилье и недвижимость (в том числе коммерческую). И чем важнее цель для клиента, тем более ответственное отношение у него к выплате кредита."
   ]
  },
  {
   "cell_type": "code",
   "execution_count": null,
   "metadata": {},
   "outputs": [],
   "source": []
  }
 ],
 "metadata": {
  "ExecuteTimeLog": [
   {
    "duration": 387,
    "start_time": "2021-12-24T08:46:25.337Z"
   },
   {
    "duration": 833,
    "start_time": "2021-12-24T08:46:29.440Z"
   },
   {
    "duration": 99,
    "start_time": "2021-12-24T08:46:31.004Z"
   },
   {
    "duration": 87,
    "start_time": "2021-12-24T08:47:08.558Z"
   },
   {
    "duration": 74,
    "start_time": "2021-12-24T08:53:23.134Z"
   },
   {
    "duration": 18,
    "start_time": "2021-12-24T08:53:30.812Z"
   },
   {
    "duration": 20,
    "start_time": "2021-12-24T09:20:52.920Z"
   },
   {
    "duration": 17,
    "start_time": "2021-12-24T09:20:59.477Z"
   },
   {
    "duration": 6,
    "start_time": "2021-12-24T09:22:37.538Z"
   },
   {
    "duration": 596,
    "start_time": "2021-12-24T09:22:48.281Z"
   },
   {
    "duration": 351,
    "start_time": "2021-12-24T09:22:57.508Z"
   },
   {
    "duration": 396,
    "start_time": "2021-12-24T09:23:13.285Z"
   },
   {
    "duration": 485,
    "start_time": "2021-12-24T09:23:20.274Z"
   },
   {
    "duration": 7,
    "start_time": "2021-12-24T09:24:13.088Z"
   },
   {
    "duration": 9,
    "start_time": "2021-12-24T09:24:59.856Z"
   },
   {
    "duration": 7,
    "start_time": "2021-12-24T09:25:17.958Z"
   },
   {
    "duration": 6,
    "start_time": "2021-12-24T09:25:25.091Z"
   },
   {
    "duration": 8,
    "start_time": "2021-12-24T09:26:36.732Z"
   },
   {
    "duration": 7,
    "start_time": "2021-12-24T09:27:11.349Z"
   },
   {
    "duration": 7,
    "start_time": "2021-12-24T09:28:31.202Z"
   },
   {
    "duration": 6,
    "start_time": "2021-12-24T09:28:31.885Z"
   },
   {
    "duration": 6,
    "start_time": "2021-12-24T09:28:40.802Z"
   },
   {
    "duration": 8,
    "start_time": "2021-12-24T09:28:41.458Z"
   },
   {
    "duration": 18,
    "start_time": "2021-12-24T09:37:31.883Z"
   },
   {
    "duration": 5,
    "start_time": "2021-12-24T09:41:12.478Z"
   },
   {
    "duration": 6,
    "start_time": "2021-12-24T09:41:46.618Z"
   },
   {
    "duration": 9,
    "start_time": "2021-12-24T09:43:30.881Z"
   },
   {
    "duration": 8,
    "start_time": "2021-12-24T09:43:42.564Z"
   },
   {
    "duration": 9,
    "start_time": "2021-12-24T09:45:29.326Z"
   },
   {
    "duration": 9,
    "start_time": "2021-12-24T09:45:46.131Z"
   },
   {
    "duration": 9,
    "start_time": "2021-12-24T09:46:31.002Z"
   },
   {
    "duration": 9,
    "start_time": "2021-12-24T09:46:58.317Z"
   },
   {
    "duration": 9,
    "start_time": "2021-12-24T09:47:13.376Z"
   },
   {
    "duration": 8,
    "start_time": "2021-12-24T09:47:25.541Z"
   },
   {
    "duration": 10,
    "start_time": "2021-12-24T09:48:02.267Z"
   },
   {
    "duration": 10,
    "start_time": "2021-12-24T09:48:31.884Z"
   },
   {
    "duration": 9,
    "start_time": "2021-12-24T09:48:44.106Z"
   },
   {
    "duration": 11,
    "start_time": "2021-12-24T09:50:36.980Z"
   },
   {
    "duration": 135,
    "start_time": "2021-12-24T09:51:51.520Z"
   },
   {
    "duration": 6,
    "start_time": "2021-12-24T09:55:19.245Z"
   },
   {
    "duration": 325,
    "start_time": "2021-12-24T14:37:08.714Z"
   },
   {
    "duration": 658,
    "start_time": "2021-12-24T14:37:14.110Z"
   },
   {
    "duration": 57,
    "start_time": "2021-12-24T14:37:14.800Z"
   },
   {
    "duration": 17,
    "start_time": "2021-12-24T14:37:15.124Z"
   },
   {
    "duration": 7,
    "start_time": "2021-12-24T14:37:16.186Z"
   },
   {
    "duration": 4,
    "start_time": "2021-12-24T14:37:16.851Z"
   },
   {
    "duration": 321,
    "start_time": "2021-12-24T14:44:21.994Z"
   },
   {
    "duration": 9,
    "start_time": "2021-12-24T14:48:08.496Z"
   },
   {
    "duration": 9,
    "start_time": "2021-12-24T14:51:30.085Z"
   },
   {
    "duration": 8,
    "start_time": "2021-12-24T14:51:39.743Z"
   },
   {
    "duration": 8,
    "start_time": "2021-12-24T14:51:52.941Z"
   },
   {
    "duration": 274,
    "start_time": "2021-12-24T14:52:12.664Z"
   },
   {
    "duration": 284,
    "start_time": "2021-12-24T14:52:21.191Z"
   },
   {
    "duration": 8,
    "start_time": "2021-12-24T14:52:27.415Z"
   },
   {
    "duration": 12,
    "start_time": "2021-12-24T14:55:03.218Z"
   },
   {
    "duration": 13,
    "start_time": "2021-12-24T14:56:34.785Z"
   },
   {
    "duration": 4,
    "start_time": "2021-12-24T15:05:38.220Z"
   },
   {
    "duration": 9,
    "start_time": "2021-12-24T15:05:53.615Z"
   },
   {
    "duration": 8,
    "start_time": "2021-12-24T15:06:56.308Z"
   },
   {
    "duration": 3,
    "start_time": "2021-12-24T15:07:10.006Z"
   },
   {
    "duration": 61,
    "start_time": "2021-12-24T15:07:10.529Z"
   },
   {
    "duration": 12,
    "start_time": "2021-12-24T15:07:11.034Z"
   },
   {
    "duration": 8,
    "start_time": "2021-12-24T15:07:12.250Z"
   },
   {
    "duration": 5,
    "start_time": "2021-12-24T15:07:13.128Z"
   },
   {
    "duration": 4,
    "start_time": "2021-12-24T15:07:13.964Z"
   },
   {
    "duration": 5,
    "start_time": "2021-12-24T15:07:15.047Z"
   },
   {
    "duration": 4,
    "start_time": "2021-12-24T15:07:15.665Z"
   },
   {
    "duration": 5,
    "start_time": "2021-12-24T15:07:16.764Z"
   },
   {
    "duration": 17,
    "start_time": "2021-12-24T15:07:18.576Z"
   },
   {
    "duration": 5,
    "start_time": "2021-12-24T15:07:33.122Z"
   },
   {
    "duration": 6,
    "start_time": "2021-12-24T15:07:34.124Z"
   },
   {
    "duration": 5,
    "start_time": "2021-12-24T15:07:35.121Z"
   },
   {
    "duration": 9,
    "start_time": "2021-12-24T15:07:43.789Z"
   },
   {
    "duration": 16,
    "start_time": "2021-12-24T15:07:48.036Z"
   },
   {
    "duration": 4,
    "start_time": "2021-12-24T15:07:51.415Z"
   },
   {
    "duration": 9,
    "start_time": "2021-12-24T15:07:52.764Z"
   },
   {
    "duration": 896,
    "start_time": "2021-12-25T07:50:39.855Z"
   },
   {
    "duration": 80,
    "start_time": "2021-12-25T07:50:40.753Z"
   },
   {
    "duration": 28,
    "start_time": "2021-12-25T07:50:41.321Z"
   },
   {
    "duration": 11,
    "start_time": "2021-12-25T07:50:46.743Z"
   },
   {
    "duration": 6,
    "start_time": "2021-12-25T07:50:51.872Z"
   },
   {
    "duration": 6,
    "start_time": "2021-12-25T07:50:52.353Z"
   },
   {
    "duration": 10,
    "start_time": "2021-12-25T07:50:52.572Z"
   },
   {
    "duration": 8,
    "start_time": "2021-12-25T07:50:52.784Z"
   },
   {
    "duration": 10,
    "start_time": "2021-12-25T07:50:53.002Z"
   },
   {
    "duration": 20,
    "start_time": "2021-12-25T07:50:53.276Z"
   },
   {
    "duration": 7,
    "start_time": "2021-12-25T07:50:53.481Z"
   },
   {
    "duration": 7,
    "start_time": "2021-12-25T07:50:53.746Z"
   },
   {
    "duration": 8,
    "start_time": "2021-12-25T07:50:53.973Z"
   },
   {
    "duration": 14,
    "start_time": "2021-12-25T07:50:55.362Z"
   },
   {
    "duration": 21,
    "start_time": "2021-12-25T07:50:56.136Z"
   },
   {
    "duration": 6,
    "start_time": "2021-12-25T07:50:56.764Z"
   },
   {
    "duration": 14,
    "start_time": "2021-12-25T07:51:01.433Z"
   },
   {
    "duration": 20,
    "start_time": "2021-12-25T07:54:02.283Z"
   },
   {
    "duration": 10,
    "start_time": "2021-12-25T07:54:43.851Z"
   },
   {
    "duration": 7,
    "start_time": "2021-12-25T07:55:12.405Z"
   },
   {
    "duration": 24,
    "start_time": "2021-12-25T08:09:00.445Z"
   },
   {
    "duration": 27,
    "start_time": "2021-12-25T08:09:51.848Z"
   },
   {
    "duration": 25,
    "start_time": "2021-12-25T08:10:20.063Z"
   },
   {
    "duration": 341,
    "start_time": "2021-12-25T08:12:11.784Z"
   },
   {
    "duration": 16,
    "start_time": "2021-12-25T08:13:11.410Z"
   },
   {
    "duration": 9,
    "start_time": "2021-12-25T08:13:42.206Z"
   },
   {
    "duration": 75,
    "start_time": "2021-12-25T08:18:42.886Z"
   },
   {
    "duration": 13,
    "start_time": "2021-12-25T08:18:53.848Z"
   },
   {
    "duration": 11,
    "start_time": "2021-12-25T08:21:09.272Z"
   },
   {
    "duration": 4,
    "start_time": "2021-12-25T08:33:38.779Z"
   },
   {
    "duration": 18,
    "start_time": "2021-12-25T08:36:49.574Z"
   },
   {
    "duration": 3,
    "start_time": "2021-12-25T08:40:29.491Z"
   },
   {
    "duration": 73,
    "start_time": "2021-12-25T08:40:29.948Z"
   },
   {
    "duration": 19,
    "start_time": "2021-12-25T08:40:30.362Z"
   },
   {
    "duration": 11,
    "start_time": "2021-12-25T08:40:31.570Z"
   },
   {
    "duration": 8,
    "start_time": "2021-12-25T08:40:32.113Z"
   },
   {
    "duration": 7,
    "start_time": "2021-12-25T08:40:32.573Z"
   },
   {
    "duration": 6,
    "start_time": "2021-12-25T08:40:32.969Z"
   },
   {
    "duration": 7,
    "start_time": "2021-12-25T08:40:33.486Z"
   },
   {
    "duration": 8,
    "start_time": "2021-12-25T08:40:33.877Z"
   },
   {
    "duration": 7,
    "start_time": "2021-12-25T08:40:34.168Z"
   },
   {
    "duration": 10,
    "start_time": "2021-12-25T08:40:34.435Z"
   },
   {
    "duration": 6,
    "start_time": "2021-12-25T08:40:34.702Z"
   },
   {
    "duration": 8,
    "start_time": "2021-12-25T08:40:35.079Z"
   },
   {
    "duration": 13,
    "start_time": "2021-12-25T08:40:38.256Z"
   },
   {
    "duration": 21,
    "start_time": "2021-12-25T08:40:38.788Z"
   },
   {
    "duration": 6,
    "start_time": "2021-12-25T08:40:39.329Z"
   },
   {
    "duration": 13,
    "start_time": "2021-12-25T08:40:40.092Z"
   },
   {
    "duration": 33,
    "start_time": "2021-12-25T08:40:44.763Z"
   },
   {
    "duration": 29,
    "start_time": "2021-12-25T08:40:45.375Z"
   },
   {
    "duration": 23,
    "start_time": "2021-12-25T08:40:45.910Z"
   },
   {
    "duration": 17,
    "start_time": "2021-12-25T08:40:47.641Z"
   },
   {
    "duration": 9,
    "start_time": "2021-12-25T08:40:48.634Z"
   },
   {
    "duration": 15,
    "start_time": "2021-12-25T08:40:50.636Z"
   },
   {
    "duration": 5,
    "start_time": "2021-12-25T08:40:51.697Z"
   },
   {
    "duration": 18,
    "start_time": "2021-12-25T08:40:53.744Z"
   },
   {
    "duration": 9,
    "start_time": "2021-12-25T08:40:56.000Z"
   },
   {
    "duration": 3,
    "start_time": "2021-12-25T08:43:18.946Z"
   },
   {
    "duration": 75,
    "start_time": "2021-12-25T08:43:18.952Z"
   },
   {
    "duration": 16,
    "start_time": "2021-12-25T08:43:19.031Z"
   },
   {
    "duration": 10,
    "start_time": "2021-12-25T08:43:19.062Z"
   },
   {
    "duration": 9,
    "start_time": "2021-12-25T08:43:19.074Z"
   },
   {
    "duration": 8,
    "start_time": "2021-12-25T08:43:19.085Z"
   },
   {
    "duration": 6,
    "start_time": "2021-12-25T08:43:19.095Z"
   },
   {
    "duration": 8,
    "start_time": "2021-12-25T08:43:19.103Z"
   },
   {
    "duration": 52,
    "start_time": "2021-12-25T08:43:19.115Z"
   },
   {
    "duration": 7,
    "start_time": "2021-12-25T08:43:19.172Z"
   },
   {
    "duration": 6,
    "start_time": "2021-12-25T08:43:19.182Z"
   },
   {
    "duration": 5,
    "start_time": "2021-12-25T08:43:19.191Z"
   },
   {
    "duration": 8,
    "start_time": "2021-12-25T08:43:19.198Z"
   },
   {
    "duration": 65,
    "start_time": "2021-12-25T08:43:19.209Z"
   },
   {
    "duration": 20,
    "start_time": "2021-12-25T08:43:19.276Z"
   },
   {
    "duration": 6,
    "start_time": "2021-12-25T08:43:19.298Z"
   },
   {
    "duration": 60,
    "start_time": "2021-12-25T08:43:19.307Z"
   },
   {
    "duration": 25,
    "start_time": "2021-12-25T08:43:19.370Z"
   },
   {
    "duration": 24,
    "start_time": "2021-12-25T08:43:19.398Z"
   },
   {
    "duration": 55,
    "start_time": "2021-12-25T08:43:19.425Z"
   },
   {
    "duration": 15,
    "start_time": "2021-12-25T08:43:19.483Z"
   },
   {
    "duration": 11,
    "start_time": "2021-12-25T08:43:19.500Z"
   },
   {
    "duration": 12,
    "start_time": "2021-12-25T08:43:19.513Z"
   },
   {
    "duration": 36,
    "start_time": "2021-12-25T08:43:19.527Z"
   },
   {
    "duration": 18,
    "start_time": "2021-12-25T08:43:19.566Z"
   },
   {
    "duration": 15,
    "start_time": "2021-12-25T08:43:19.586Z"
   },
   {
    "duration": 7,
    "start_time": "2021-12-25T08:43:19.606Z"
   },
   {
    "duration": 15,
    "start_time": "2021-12-25T08:43:19.615Z"
   },
   {
    "duration": 3,
    "start_time": "2021-12-25T08:47:14.730Z"
   },
   {
    "duration": 73,
    "start_time": "2021-12-25T08:47:15.224Z"
   },
   {
    "duration": 18,
    "start_time": "2021-12-25T08:47:15.566Z"
   },
   {
    "duration": 10,
    "start_time": "2021-12-25T08:47:15.945Z"
   },
   {
    "duration": 8,
    "start_time": "2021-12-25T08:47:16.227Z"
   },
   {
    "duration": 7,
    "start_time": "2021-12-25T08:47:16.399Z"
   },
   {
    "duration": 6,
    "start_time": "2021-12-25T08:47:16.610Z"
   },
   {
    "duration": 7,
    "start_time": "2021-12-25T08:47:16.826Z"
   },
   {
    "duration": 6,
    "start_time": "2021-12-25T08:47:17.026Z"
   },
   {
    "duration": 6,
    "start_time": "2021-12-25T08:47:17.239Z"
   },
   {
    "duration": 7,
    "start_time": "2021-12-25T08:47:17.459Z"
   },
   {
    "duration": 6,
    "start_time": "2021-12-25T08:47:17.662Z"
   },
   {
    "duration": 8,
    "start_time": "2021-12-25T08:47:17.874Z"
   },
   {
    "duration": 11,
    "start_time": "2021-12-25T08:47:18.959Z"
   },
   {
    "duration": 21,
    "start_time": "2021-12-25T08:47:19.251Z"
   },
   {
    "duration": 6,
    "start_time": "2021-12-25T08:47:19.523Z"
   },
   {
    "duration": 13,
    "start_time": "2021-12-25T08:47:19.759Z"
   },
   {
    "duration": 27,
    "start_time": "2021-12-25T08:47:24.678Z"
   },
   {
    "duration": 26,
    "start_time": "2021-12-25T08:47:25.087Z"
   },
   {
    "duration": 25,
    "start_time": "2021-12-25T08:47:25.326Z"
   },
   {
    "duration": 24,
    "start_time": "2021-12-25T08:47:25.518Z"
   },
   {
    "duration": 13,
    "start_time": "2021-12-25T08:47:25.740Z"
   },
   {
    "duration": 14,
    "start_time": "2021-12-25T08:47:25.966Z"
   },
   {
    "duration": 3,
    "start_time": "2021-12-25T08:47:26.233Z"
   },
   {
    "duration": 18,
    "start_time": "2021-12-25T08:47:27.505Z"
   },
   {
    "duration": 16,
    "start_time": "2021-12-25T08:47:28.005Z"
   },
   {
    "duration": 6,
    "start_time": "2021-12-25T08:47:28.522Z"
   },
   {
    "duration": 10,
    "start_time": "2021-12-25T08:47:28.979Z"
   },
   {
    "duration": 14,
    "start_time": "2021-12-25T08:47:29.591Z"
   },
   {
    "duration": 9,
    "start_time": "2021-12-25T08:47:30.424Z"
   },
   {
    "duration": 13,
    "start_time": "2021-12-25T08:47:30.909Z"
   },
   {
    "duration": 9,
    "start_time": "2021-12-25T08:47:31.812Z"
   },
   {
    "duration": 8,
    "start_time": "2021-12-25T08:47:44.209Z"
   },
   {
    "duration": 3,
    "start_time": "2021-12-25T08:54:14.788Z"
   },
   {
    "duration": 73,
    "start_time": "2021-12-25T08:54:14.992Z"
   },
   {
    "duration": 18,
    "start_time": "2021-12-25T08:54:15.204Z"
   },
   {
    "duration": 11,
    "start_time": "2021-12-25T08:54:15.799Z"
   },
   {
    "duration": 8,
    "start_time": "2021-12-25T08:54:16.010Z"
   },
   {
    "duration": 7,
    "start_time": "2021-12-25T08:54:16.207Z"
   },
   {
    "duration": 6,
    "start_time": "2021-12-25T08:54:16.419Z"
   },
   {
    "duration": 8,
    "start_time": "2021-12-25T08:54:16.661Z"
   },
   {
    "duration": 6,
    "start_time": "2021-12-25T08:54:16.946Z"
   },
   {
    "duration": 7,
    "start_time": "2021-12-25T08:54:17.219Z"
   },
   {
    "duration": 8,
    "start_time": "2021-12-25T08:54:17.424Z"
   },
   {
    "duration": 8,
    "start_time": "2021-12-25T08:54:17.643Z"
   },
   {
    "duration": 10,
    "start_time": "2021-12-25T08:54:17.840Z"
   },
   {
    "duration": 23,
    "start_time": "2021-12-25T08:54:19.791Z"
   },
   {
    "duration": 22,
    "start_time": "2021-12-25T08:54:20.212Z"
   },
   {
    "duration": 6,
    "start_time": "2021-12-25T08:54:20.689Z"
   },
   {
    "duration": 14,
    "start_time": "2021-12-25T08:54:20.927Z"
   },
   {
    "duration": 24,
    "start_time": "2021-12-25T08:54:24.807Z"
   },
   {
    "duration": 24,
    "start_time": "2021-12-25T08:54:25.133Z"
   },
   {
    "duration": 28,
    "start_time": "2021-12-25T08:54:25.673Z"
   },
   {
    "duration": 14,
    "start_time": "2021-12-25T08:54:26.199Z"
   },
   {
    "duration": 8,
    "start_time": "2021-12-25T08:54:37.630Z"
   },
   {
    "duration": 9,
    "start_time": "2021-12-25T08:55:42.343Z"
   },
   {
    "duration": 445,
    "start_time": "2021-12-25T08:56:19.078Z"
   },
   {
    "duration": 230,
    "start_time": "2021-12-25T08:59:59.740Z"
   },
   {
    "duration": 3889,
    "start_time": "2021-12-25T09:00:07.130Z"
   },
   {
    "duration": 831,
    "start_time": "2021-12-25T09:06:29.390Z"
   },
   {
    "duration": 4377,
    "start_time": "2021-12-25T09:09:20.795Z"
   },
   {
    "duration": 4564,
    "start_time": "2021-12-25T09:11:05.087Z"
   },
   {
    "duration": 1863,
    "start_time": "2021-12-25T09:14:13.993Z"
   },
   {
    "duration": 3558,
    "start_time": "2021-12-25T09:15:21.009Z"
   },
   {
    "duration": 3436,
    "start_time": "2021-12-25T09:15:39.993Z"
   },
   {
    "duration": 3500,
    "start_time": "2021-12-25T09:16:13.081Z"
   },
   {
    "duration": 1030,
    "start_time": "2021-12-25T09:17:14.558Z"
   },
   {
    "duration": 252,
    "start_time": "2021-12-25T09:18:39.218Z"
   },
   {
    "duration": 242,
    "start_time": "2021-12-25T09:19:46.880Z"
   },
   {
    "duration": 235,
    "start_time": "2021-12-25T09:20:18.679Z"
   },
   {
    "duration": 13347,
    "start_time": "2021-12-25T09:20:57.890Z"
   },
   {
    "duration": 17,
    "start_time": "2021-12-25T09:21:33.704Z"
   },
   {
    "duration": 1549,
    "start_time": "2021-12-25T09:24:29.590Z"
   },
   {
    "duration": 11,
    "start_time": "2021-12-25T09:24:34.433Z"
   },
   {
    "duration": 4169,
    "start_time": "2021-12-25T09:26:28.632Z"
   },
   {
    "duration": 12,
    "start_time": "2021-12-25T09:26:35.224Z"
   },
   {
    "duration": 6194,
    "start_time": "2021-12-25T09:28:12.312Z"
   },
   {
    "duration": 6,
    "start_time": "2021-12-25T09:28:18.509Z"
   },
   {
    "duration": 4,
    "start_time": "2021-12-25T09:29:12.269Z"
   },
   {
    "duration": 76,
    "start_time": "2021-12-25T09:29:12.519Z"
   },
   {
    "duration": 18,
    "start_time": "2021-12-25T09:29:12.798Z"
   },
   {
    "duration": 11,
    "start_time": "2021-12-25T09:29:13.100Z"
   },
   {
    "duration": 8,
    "start_time": "2021-12-25T09:29:13.338Z"
   },
   {
    "duration": 7,
    "start_time": "2021-12-25T09:29:13.492Z"
   },
   {
    "duration": 7,
    "start_time": "2021-12-25T09:29:13.716Z"
   },
   {
    "duration": 8,
    "start_time": "2021-12-25T09:29:13.919Z"
   },
   {
    "duration": 7,
    "start_time": "2021-12-25T09:29:14.135Z"
   },
   {
    "duration": 7,
    "start_time": "2021-12-25T09:29:14.339Z"
   },
   {
    "duration": 8,
    "start_time": "2021-12-25T09:29:14.552Z"
   },
   {
    "duration": 5,
    "start_time": "2021-12-25T09:29:14.748Z"
   },
   {
    "duration": 7,
    "start_time": "2021-12-25T09:29:14.968Z"
   },
   {
    "duration": 13,
    "start_time": "2021-12-25T09:29:16.073Z"
   },
   {
    "duration": 20,
    "start_time": "2021-12-25T09:29:16.278Z"
   },
   {
    "duration": 6,
    "start_time": "2021-12-25T09:29:16.560Z"
   },
   {
    "duration": 12,
    "start_time": "2021-12-25T09:29:16.842Z"
   },
   {
    "duration": 23,
    "start_time": "2021-12-25T09:29:18.803Z"
   },
   {
    "duration": 26,
    "start_time": "2021-12-25T09:29:19.017Z"
   },
   {
    "duration": 34,
    "start_time": "2021-12-25T09:29:19.245Z"
   },
   {
    "duration": 16,
    "start_time": "2021-12-25T09:29:19.469Z"
   },
   {
    "duration": 9,
    "start_time": "2021-12-25T09:29:19.697Z"
   },
   {
    "duration": 3,
    "start_time": "2021-12-25T09:29:20.703Z"
   },
   {
    "duration": 13250,
    "start_time": "2021-12-25T09:29:21.064Z"
   },
   {
    "duration": 95,
    "start_time": "2021-12-25T09:29:34.318Z"
   },
   {
    "duration": 6176,
    "start_time": "2021-12-25T09:30:00.204Z"
   },
   {
    "duration": 12,
    "start_time": "2021-12-25T09:30:06.383Z"
   },
   {
    "duration": 6430,
    "start_time": "2021-12-25T10:02:04.981Z"
   },
   {
    "duration": 7,
    "start_time": "2021-12-25T10:02:11.414Z"
   },
   {
    "duration": 382,
    "start_time": "2021-12-25T10:02:39.737Z"
   },
   {
    "duration": 253,
    "start_time": "2021-12-25T10:02:50.285Z"
   },
   {
    "duration": 7,
    "start_time": "2021-12-25T10:03:01.352Z"
   },
   {
    "duration": 3,
    "start_time": "2021-12-25T10:03:59.567Z"
   },
   {
    "duration": 76,
    "start_time": "2021-12-25T10:04:00.003Z"
   },
   {
    "duration": 18,
    "start_time": "2021-12-25T10:04:00.244Z"
   },
   {
    "duration": 13,
    "start_time": "2021-12-25T10:04:00.627Z"
   },
   {
    "duration": 8,
    "start_time": "2021-12-25T10:04:00.820Z"
   },
   {
    "duration": 8,
    "start_time": "2021-12-25T10:04:00.996Z"
   },
   {
    "duration": 6,
    "start_time": "2021-12-25T10:04:01.189Z"
   },
   {
    "duration": 8,
    "start_time": "2021-12-25T10:04:01.409Z"
   },
   {
    "duration": 7,
    "start_time": "2021-12-25T10:04:01.604Z"
   },
   {
    "duration": 7,
    "start_time": "2021-12-25T10:04:01.800Z"
   },
   {
    "duration": 7,
    "start_time": "2021-12-25T10:04:01.987Z"
   },
   {
    "duration": 6,
    "start_time": "2021-12-25T10:04:02.175Z"
   },
   {
    "duration": 8,
    "start_time": "2021-12-25T10:04:02.375Z"
   },
   {
    "duration": 14,
    "start_time": "2021-12-25T10:04:03.635Z"
   },
   {
    "duration": 20,
    "start_time": "2021-12-25T10:04:03.866Z"
   },
   {
    "duration": 6,
    "start_time": "2021-12-25T10:04:04.084Z"
   },
   {
    "duration": 13,
    "start_time": "2021-12-25T10:04:04.273Z"
   },
   {
    "duration": 24,
    "start_time": "2021-12-25T10:04:07.182Z"
   },
   {
    "duration": 28,
    "start_time": "2021-12-25T10:04:07.541Z"
   },
   {
    "duration": 25,
    "start_time": "2021-12-25T10:04:07.779Z"
   },
   {
    "duration": 15,
    "start_time": "2021-12-25T10:04:08.007Z"
   },
   {
    "duration": 10,
    "start_time": "2021-12-25T10:04:08.327Z"
   },
   {
    "duration": 4,
    "start_time": "2021-12-25T10:04:17.660Z"
   },
   {
    "duration": 13220,
    "start_time": "2021-12-25T10:04:20.835Z"
   },
   {
    "duration": 7120,
    "start_time": "2021-12-25T10:04:34.057Z"
   },
   {
    "duration": 7,
    "start_time": "2021-12-25T10:04:41.180Z"
   },
   {
    "duration": 8,
    "start_time": "2021-12-25T10:07:30.285Z"
   },
   {
    "duration": 4,
    "start_time": "2021-12-25T10:07:35.863Z"
   },
   {
    "duration": 73,
    "start_time": "2021-12-25T10:07:36.092Z"
   },
   {
    "duration": 18,
    "start_time": "2021-12-25T10:07:36.374Z"
   },
   {
    "duration": 12,
    "start_time": "2021-12-25T10:07:37.888Z"
   },
   {
    "duration": 8,
    "start_time": "2021-12-25T10:07:38.724Z"
   },
   {
    "duration": 8,
    "start_time": "2021-12-25T10:07:39.161Z"
   },
   {
    "duration": 7,
    "start_time": "2021-12-25T10:07:40.657Z"
   },
   {
    "duration": 7,
    "start_time": "2021-12-25T10:07:44.262Z"
   },
   {
    "duration": 6,
    "start_time": "2021-12-25T10:07:44.850Z"
   },
   {
    "duration": 7,
    "start_time": "2021-12-25T10:07:45.470Z"
   },
   {
    "duration": 6,
    "start_time": "2021-12-25T10:07:45.928Z"
   },
   {
    "duration": 6,
    "start_time": "2021-12-25T10:07:46.694Z"
   },
   {
    "duration": 13,
    "start_time": "2021-12-25T10:07:48.450Z"
   },
   {
    "duration": 6,
    "start_time": "2021-12-25T10:23:26.699Z"
   },
   {
    "duration": 6,
    "start_time": "2021-12-25T10:24:01.896Z"
   },
   {
    "duration": 8,
    "start_time": "2021-12-25T10:25:11.424Z"
   },
   {
    "duration": 6,
    "start_time": "2021-12-25T10:25:12.893Z"
   },
   {
    "duration": 6,
    "start_time": "2021-12-25T10:26:30.028Z"
   },
   {
    "duration": 5,
    "start_time": "2021-12-25T10:29:03.264Z"
   },
   {
    "duration": 7130,
    "start_time": "2021-12-25T10:30:08.551Z"
   },
   {
    "duration": 11,
    "start_time": "2021-12-25T10:31:05.593Z"
   },
   {
    "duration": 20,
    "start_time": "2021-12-25T10:31:23.774Z"
   },
   {
    "duration": 32,
    "start_time": "2021-12-25T10:31:39.323Z"
   },
   {
    "duration": 12,
    "start_time": "2021-12-25T10:35:12.430Z"
   },
   {
    "duration": 13,
    "start_time": "2021-12-25T10:36:01.017Z"
   },
   {
    "duration": 15,
    "start_time": "2021-12-25T10:43:37.434Z"
   },
   {
    "duration": 16,
    "start_time": "2021-12-25T10:50:11.275Z"
   },
   {
    "duration": 6,
    "start_time": "2021-12-25T10:50:45.821Z"
   },
   {
    "duration": 4,
    "start_time": "2021-12-25T10:51:06.015Z"
   },
   {
    "duration": 34,
    "start_time": "2021-12-25T10:51:19.480Z"
   },
   {
    "duration": 617,
    "start_time": "2021-12-25T10:51:52.853Z"
   },
   {
    "duration": 10,
    "start_time": "2021-12-25T10:59:34.439Z"
   },
   {
    "duration": 10,
    "start_time": "2021-12-25T11:00:18.495Z"
   },
   {
    "duration": 7,
    "start_time": "2021-12-25T11:00:33.004Z"
   },
   {
    "duration": 10,
    "start_time": "2021-12-25T11:00:49.674Z"
   },
   {
    "duration": 11,
    "start_time": "2021-12-25T11:00:49.994Z"
   },
   {
    "duration": 8,
    "start_time": "2021-12-25T11:00:50.778Z"
   },
   {
    "duration": 13,
    "start_time": "2021-12-25T11:01:20.664Z"
   },
   {
    "duration": 6,
    "start_time": "2021-12-25T11:03:48.554Z"
   },
   {
    "duration": 5,
    "start_time": "2021-12-25T11:04:13.794Z"
   },
   {
    "duration": 8,
    "start_time": "2021-12-25T11:05:01.961Z"
   },
   {
    "duration": 14,
    "start_time": "2021-12-25T11:06:59.562Z"
   },
   {
    "duration": 13,
    "start_time": "2021-12-25T11:07:28.041Z"
   },
   {
    "duration": 13,
    "start_time": "2021-12-25T11:08:07.923Z"
   },
   {
    "duration": 14,
    "start_time": "2021-12-25T11:08:40.534Z"
   },
   {
    "duration": 19,
    "start_time": "2021-12-25T11:08:45.751Z"
   },
   {
    "duration": 6715,
    "start_time": "2021-12-25T11:09:24.356Z"
   },
   {
    "duration": 5973,
    "start_time": "2021-12-25T11:09:43.717Z"
   },
   {
    "duration": 19,
    "start_time": "2021-12-25T11:10:05.759Z"
   },
   {
    "duration": 20,
    "start_time": "2021-12-25T11:12:30.520Z"
   },
   {
    "duration": 14,
    "start_time": "2021-12-25T11:12:56.561Z"
   },
   {
    "duration": 14,
    "start_time": "2021-12-25T11:13:07.836Z"
   },
   {
    "duration": 14,
    "start_time": "2021-12-25T11:31:31.770Z"
   },
   {
    "duration": 642,
    "start_time": "2021-12-25T11:32:20.686Z"
   },
   {
    "duration": 224,
    "start_time": "2021-12-25T13:29:49.945Z"
   },
   {
    "duration": 562,
    "start_time": "2021-12-25T13:30:01.606Z"
   },
   {
    "duration": 60,
    "start_time": "2021-12-25T13:30:02.170Z"
   },
   {
    "duration": 18,
    "start_time": "2021-12-25T13:30:02.232Z"
   },
   {
    "duration": 23,
    "start_time": "2021-12-25T13:30:02.252Z"
   },
   {
    "duration": 27,
    "start_time": "2021-12-25T13:30:02.277Z"
   },
   {
    "duration": 28,
    "start_time": "2021-12-25T13:30:02.305Z"
   },
   {
    "duration": 27,
    "start_time": "2021-12-25T13:30:02.334Z"
   },
   {
    "duration": 16,
    "start_time": "2021-12-25T13:30:02.363Z"
   },
   {
    "duration": 19,
    "start_time": "2021-12-25T13:30:02.382Z"
   },
   {
    "duration": 18,
    "start_time": "2021-12-25T13:30:02.403Z"
   },
   {
    "duration": 18,
    "start_time": "2021-12-25T13:30:02.423Z"
   },
   {
    "duration": 23,
    "start_time": "2021-12-25T13:30:02.442Z"
   },
   {
    "duration": 22,
    "start_time": "2021-12-25T13:30:02.467Z"
   },
   {
    "duration": 18,
    "start_time": "2021-12-25T13:30:02.490Z"
   },
   {
    "duration": 27,
    "start_time": "2021-12-25T13:30:02.510Z"
   },
   {
    "duration": 13,
    "start_time": "2021-12-25T13:30:02.539Z"
   },
   {
    "duration": 25,
    "start_time": "2021-12-25T13:30:02.553Z"
   },
   {
    "duration": 20,
    "start_time": "2021-12-25T13:30:02.579Z"
   },
   {
    "duration": 16,
    "start_time": "2021-12-25T13:30:02.601Z"
   },
   {
    "duration": 18,
    "start_time": "2021-12-25T13:30:02.619Z"
   },
   {
    "duration": 35,
    "start_time": "2021-12-25T13:30:02.638Z"
   },
   {
    "duration": 26,
    "start_time": "2021-12-25T13:30:02.675Z"
   },
   {
    "duration": 17,
    "start_time": "2021-12-25T13:30:02.703Z"
   },
   {
    "duration": 20,
    "start_time": "2021-12-25T13:30:02.722Z"
   },
   {
    "duration": 21,
    "start_time": "2021-12-25T13:30:02.744Z"
   },
   {
    "duration": 584,
    "start_time": "2021-12-25T13:30:02.766Z"
   },
   {
    "duration": 192,
    "start_time": "2021-12-25T13:30:03.354Z"
   },
   {
    "duration": -405,
    "start_time": "2021-12-25T13:30:03.953Z"
   },
   {
    "duration": -407,
    "start_time": "2021-12-25T13:30:03.956Z"
   },
   {
    "duration": -438,
    "start_time": "2021-12-25T13:30:03.988Z"
   },
   {
    "duration": -438,
    "start_time": "2021-12-25T13:30:03.989Z"
   },
   {
    "duration": -439,
    "start_time": "2021-12-25T13:30:03.991Z"
   },
   {
    "duration": -439,
    "start_time": "2021-12-25T13:30:03.992Z"
   },
   {
    "duration": -445,
    "start_time": "2021-12-25T13:30:03.999Z"
   },
   {
    "duration": 13,
    "start_time": "2021-12-25T13:30:35.133Z"
   },
   {
    "duration": 13,
    "start_time": "2021-12-25T13:30:43.919Z"
   },
   {
    "duration": 137,
    "start_time": "2021-12-25T13:31:34.507Z"
   },
   {
    "duration": 329,
    "start_time": "2021-12-25T13:32:45.647Z"
   },
   {
    "duration": 4,
    "start_time": "2021-12-25T13:33:38.953Z"
   },
   {
    "duration": 9546,
    "start_time": "2021-12-25T13:33:41.881Z"
   },
   {
    "duration": 4231,
    "start_time": "2021-12-25T13:33:52.339Z"
   },
   {
    "duration": 5,
    "start_time": "2021-12-25T13:34:03.726Z"
   },
   {
    "duration": 3,
    "start_time": "2021-12-25T13:34:45.794Z"
   },
   {
    "duration": 8,
    "start_time": "2021-12-25T13:34:46.469Z"
   },
   {
    "duration": 15,
    "start_time": "2021-12-25T13:34:47.199Z"
   },
   {
    "duration": 13,
    "start_time": "2021-12-25T13:34:55.564Z"
   },
   {
    "duration": 14,
    "start_time": "2021-12-25T13:37:53.260Z"
   },
   {
    "duration": 9,
    "start_time": "2021-12-25T13:38:34.335Z"
   },
   {
    "duration": 10,
    "start_time": "2021-12-25T13:38:45.819Z"
   },
   {
    "duration": 6,
    "start_time": "2021-12-25T13:38:55.362Z"
   },
   {
    "duration": 136,
    "start_time": "2021-12-25T13:39:17.649Z"
   },
   {
    "duration": 5,
    "start_time": "2021-12-25T13:39:26.222Z"
   },
   {
    "duration": 137,
    "start_time": "2021-12-25T13:44:32.742Z"
   },
   {
    "duration": 10,
    "start_time": "2021-12-25T13:45:51.967Z"
   },
   {
    "duration": 3600,
    "start_time": "2021-12-25T13:46:52.590Z"
   },
   {
    "duration": 3268,
    "start_time": "2021-12-25T13:47:14.882Z"
   },
   {
    "duration": 3926,
    "start_time": "2021-12-25T13:47:23.949Z"
   },
   {
    "duration": 5,
    "start_time": "2021-12-25T13:47:38.595Z"
   },
   {
    "duration": 5,
    "start_time": "2021-12-25T13:48:01.340Z"
   },
   {
    "duration": 6,
    "start_time": "2021-12-25T13:48:13.959Z"
   },
   {
    "duration": 8,
    "start_time": "2021-12-25T13:48:33.355Z"
   },
   {
    "duration": 9,
    "start_time": "2021-12-25T13:49:17.519Z"
   },
   {
    "duration": 9,
    "start_time": "2021-12-25T13:49:34.326Z"
   },
   {
    "duration": 44,
    "start_time": "2021-12-25T13:57:47.836Z"
   },
   {
    "duration": 16,
    "start_time": "2021-12-25T13:58:19.581Z"
   },
   {
    "duration": 14,
    "start_time": "2021-12-25T13:59:26.991Z"
   },
   {
    "duration": 2,
    "start_time": "2021-12-25T14:02:23.385Z"
   },
   {
    "duration": 58,
    "start_time": "2021-12-25T14:02:23.653Z"
   },
   {
    "duration": 12,
    "start_time": "2021-12-25T14:02:23.873Z"
   },
   {
    "duration": 8,
    "start_time": "2021-12-25T14:02:24.365Z"
   },
   {
    "duration": 6,
    "start_time": "2021-12-25T14:02:24.600Z"
   },
   {
    "duration": 5,
    "start_time": "2021-12-25T14:02:24.820Z"
   },
   {
    "duration": 4,
    "start_time": "2021-12-25T14:02:25.048Z"
   },
   {
    "duration": 4,
    "start_time": "2021-12-25T14:02:25.244Z"
   },
   {
    "duration": 4,
    "start_time": "2021-12-25T14:02:25.455Z"
   },
   {
    "duration": 5,
    "start_time": "2021-12-25T14:02:25.668Z"
   },
   {
    "duration": 5,
    "start_time": "2021-12-25T14:02:25.887Z"
   },
   {
    "duration": 4,
    "start_time": "2021-12-25T14:02:26.108Z"
   },
   {
    "duration": 8,
    "start_time": "2021-12-25T14:02:26.320Z"
   },
   {
    "duration": 10,
    "start_time": "2021-12-25T14:02:27.914Z"
   },
   {
    "duration": 14,
    "start_time": "2021-12-25T14:02:28.219Z"
   },
   {
    "duration": 5,
    "start_time": "2021-12-25T14:02:29.024Z"
   },
   {
    "duration": 10,
    "start_time": "2021-12-25T14:02:29.559Z"
   },
   {
    "duration": 6,
    "start_time": "2021-12-25T14:02:30.275Z"
   },
   {
    "duration": 6,
    "start_time": "2021-12-25T14:02:30.769Z"
   },
   {
    "duration": 5,
    "start_time": "2021-12-25T14:02:31.052Z"
   },
   {
    "duration": 24,
    "start_time": "2021-12-25T14:02:35.928Z"
   },
   {
    "duration": 20,
    "start_time": "2021-12-25T14:02:36.327Z"
   },
   {
    "duration": 17,
    "start_time": "2021-12-25T14:02:37.361Z"
   },
   {
    "duration": 12,
    "start_time": "2021-12-25T14:02:37.809Z"
   },
   {
    "duration": 7,
    "start_time": "2021-12-25T14:02:38.294Z"
   },
   {
    "duration": 20,
    "start_time": "2021-12-25T14:02:40.440Z"
   },
   {
    "duration": 9488,
    "start_time": "2021-12-25T14:02:42.145Z"
   },
   {
    "duration": 4610,
    "start_time": "2021-12-25T14:02:51.635Z"
   },
   {
    "duration": 6,
    "start_time": "2021-12-25T14:02:56.248Z"
   },
   {
    "duration": 3,
    "start_time": "2021-12-25T14:02:59.533Z"
   },
   {
    "duration": 7,
    "start_time": "2021-12-25T14:03:04.077Z"
   },
   {
    "duration": 13,
    "start_time": "2021-12-25T14:03:11.031Z"
   },
   {
    "duration": 4,
    "start_time": "2021-12-25T14:03:52.659Z"
   },
   {
    "duration": 8,
    "start_time": "2021-12-25T14:03:53.533Z"
   },
   {
    "duration": 14,
    "start_time": "2021-12-25T14:03:54.307Z"
   },
   {
    "duration": 12,
    "start_time": "2021-12-25T14:04:22.948Z"
   },
   {
    "duration": 9,
    "start_time": "2021-12-25T14:05:21.508Z"
   },
   {
    "duration": 14,
    "start_time": "2021-12-25T14:05:33.681Z"
   },
   {
    "duration": 12,
    "start_time": "2021-12-25T14:06:18.459Z"
   },
   {
    "duration": 8,
    "start_time": "2021-12-25T14:10:12.828Z"
   },
   {
    "duration": 13,
    "start_time": "2021-12-25T14:11:33.616Z"
   },
   {
    "duration": 15,
    "start_time": "2021-12-25T14:12:05.259Z"
   },
   {
    "duration": 14,
    "start_time": "2021-12-25T14:17:55.901Z"
   },
   {
    "duration": 164,
    "start_time": "2021-12-25T14:24:23.846Z"
   },
   {
    "duration": 16,
    "start_time": "2021-12-25T14:24:37.923Z"
   },
   {
    "duration": 131,
    "start_time": "2021-12-25T14:32:29.790Z"
   },
   {
    "duration": 3,
    "start_time": "2021-12-25T14:32:54.321Z"
   },
   {
    "duration": 55,
    "start_time": "2021-12-25T14:32:54.542Z"
   },
   {
    "duration": 11,
    "start_time": "2021-12-25T14:32:54.761Z"
   },
   {
    "duration": 8,
    "start_time": "2021-12-25T14:32:55.155Z"
   },
   {
    "duration": 7,
    "start_time": "2021-12-25T14:32:55.360Z"
   },
   {
    "duration": 6,
    "start_time": "2021-12-25T14:32:55.554Z"
   },
   {
    "duration": 6,
    "start_time": "2021-12-25T14:32:55.768Z"
   },
   {
    "duration": 6,
    "start_time": "2021-12-25T14:32:55.963Z"
   },
   {
    "duration": 5,
    "start_time": "2021-12-25T14:32:56.168Z"
   },
   {
    "duration": 5,
    "start_time": "2021-12-25T14:32:56.388Z"
   },
   {
    "duration": 6,
    "start_time": "2021-12-25T14:32:56.575Z"
   },
   {
    "duration": 6,
    "start_time": "2021-12-25T14:32:57.190Z"
   },
   {
    "duration": 10,
    "start_time": "2021-12-25T14:32:57.198Z"
   },
   {
    "duration": 11,
    "start_time": "2021-12-25T14:32:58.091Z"
   },
   {
    "duration": 15,
    "start_time": "2021-12-25T14:32:58.311Z"
   },
   {
    "duration": 5,
    "start_time": "2021-12-25T14:32:58.541Z"
   },
   {
    "duration": 9,
    "start_time": "2021-12-25T14:32:58.794Z"
   },
   {
    "duration": 6,
    "start_time": "2021-12-25T14:32:59.009Z"
   },
   {
    "duration": 5,
    "start_time": "2021-12-25T14:32:59.225Z"
   },
   {
    "duration": 4,
    "start_time": "2021-12-25T14:32:59.451Z"
   },
   {
    "duration": 22,
    "start_time": "2021-12-25T14:33:01.538Z"
   },
   {
    "duration": 18,
    "start_time": "2021-12-25T14:33:01.767Z"
   },
   {
    "duration": 17,
    "start_time": "2021-12-25T14:33:01.993Z"
   },
   {
    "duration": 11,
    "start_time": "2021-12-25T14:33:02.245Z"
   },
   {
    "duration": 7,
    "start_time": "2021-12-25T14:33:02.661Z"
   },
   {
    "duration": 24,
    "start_time": "2021-12-25T14:33:06.027Z"
   },
   {
    "duration": 10034,
    "start_time": "2021-12-25T14:33:06.265Z"
   },
   {
    "duration": 4424,
    "start_time": "2021-12-25T14:33:16.302Z"
   },
   {
    "duration": 5,
    "start_time": "2021-12-25T14:33:20.728Z"
   },
   {
    "duration": 5,
    "start_time": "2021-12-25T14:33:20.735Z"
   },
   {
    "duration": 10,
    "start_time": "2021-12-25T14:33:20.741Z"
   },
   {
    "duration": 39,
    "start_time": "2021-12-25T14:33:20.753Z"
   },
   {
    "duration": 3335,
    "start_time": "2021-12-25T14:36:47.266Z"
   },
   {
    "duration": 3984,
    "start_time": "2021-12-25T14:37:25.161Z"
   },
   {
    "duration": 64,
    "start_time": "2021-12-25T14:38:28.991Z"
   },
   {
    "duration": 12,
    "start_time": "2021-12-25T14:38:29.204Z"
   },
   {
    "duration": 7,
    "start_time": "2021-12-25T14:38:29.627Z"
   },
   {
    "duration": 7,
    "start_time": "2021-12-25T14:38:29.825Z"
   },
   {
    "duration": 6,
    "start_time": "2021-12-25T14:38:30.024Z"
   },
   {
    "duration": 4,
    "start_time": "2021-12-25T14:38:30.228Z"
   },
   {
    "duration": 5,
    "start_time": "2021-12-25T14:38:30.441Z"
   },
   {
    "duration": 4,
    "start_time": "2021-12-25T14:38:30.636Z"
   },
   {
    "duration": 4,
    "start_time": "2021-12-25T14:38:30.848Z"
   },
   {
    "duration": 5,
    "start_time": "2021-12-25T14:38:31.054Z"
   },
   {
    "duration": 5,
    "start_time": "2021-12-25T14:38:31.265Z"
   },
   {
    "duration": 8,
    "start_time": "2021-12-25T14:38:31.470Z"
   },
   {
    "duration": 9,
    "start_time": "2021-12-25T14:38:32.634Z"
   },
   {
    "duration": 15,
    "start_time": "2021-12-25T14:38:32.884Z"
   },
   {
    "duration": 5,
    "start_time": "2021-12-25T14:38:33.118Z"
   },
   {
    "duration": 10,
    "start_time": "2021-12-25T14:38:33.336Z"
   },
   {
    "duration": 7,
    "start_time": "2021-12-25T14:38:33.588Z"
   },
   {
    "duration": 5,
    "start_time": "2021-12-25T14:38:33.815Z"
   },
   {
    "duration": 4,
    "start_time": "2021-12-25T14:38:34.053Z"
   },
   {
    "duration": 17,
    "start_time": "2021-12-25T14:38:36.064Z"
   },
   {
    "duration": 19,
    "start_time": "2021-12-25T14:38:36.318Z"
   },
   {
    "duration": 16,
    "start_time": "2021-12-25T14:38:36.523Z"
   },
   {
    "duration": 11,
    "start_time": "2021-12-25T14:38:36.750Z"
   },
   {
    "duration": 8,
    "start_time": "2021-12-25T14:38:37.001Z"
   },
   {
    "duration": 20,
    "start_time": "2021-12-25T14:38:38.264Z"
   },
   {
    "duration": 10026,
    "start_time": "2021-12-25T14:38:38.515Z"
   },
   {
    "duration": 4309,
    "start_time": "2021-12-25T14:38:48.543Z"
   },
   {
    "duration": 5,
    "start_time": "2021-12-25T14:38:52.854Z"
   },
   {
    "duration": 6,
    "start_time": "2021-12-25T14:38:52.860Z"
   },
   {
    "duration": 9,
    "start_time": "2021-12-25T14:38:54.743Z"
   },
   {
    "duration": 13,
    "start_time": "2021-12-25T14:38:56.125Z"
   },
   {
    "duration": 13,
    "start_time": "2021-12-25T14:39:13.645Z"
   },
   {
    "duration": 17,
    "start_time": "2021-12-25T14:39:23.038Z"
   },
   {
    "duration": 3510,
    "start_time": "2021-12-25T14:39:32.053Z"
   },
   {
    "duration": 12,
    "start_time": "2021-12-25T14:39:51.337Z"
   },
   {
    "duration": 8,
    "start_time": "2021-12-25T14:41:48.959Z"
   },
   {
    "duration": 11,
    "start_time": "2021-12-25T14:42:30.168Z"
   },
   {
    "duration": 12,
    "start_time": "2021-12-25T14:44:13.033Z"
   },
   {
    "duration": 11,
    "start_time": "2021-12-25T14:44:18.314Z"
   },
   {
    "duration": 9,
    "start_time": "2021-12-25T14:45:05.320Z"
   },
   {
    "duration": 3810,
    "start_time": "2021-12-25T14:54:23.332Z"
   },
   {
    "duration": 318,
    "start_time": "2021-12-26T07:07:17.621Z"
   },
   {
    "duration": 648,
    "start_time": "2021-12-26T07:07:22.969Z"
   },
   {
    "duration": 62,
    "start_time": "2021-12-26T07:07:23.619Z"
   },
   {
    "duration": 17,
    "start_time": "2021-12-26T07:07:23.683Z"
   },
   {
    "duration": 9,
    "start_time": "2021-12-26T07:07:23.795Z"
   },
   {
    "duration": 6,
    "start_time": "2021-12-26T07:07:24.049Z"
   },
   {
    "duration": 5,
    "start_time": "2021-12-26T07:07:24.285Z"
   },
   {
    "duration": 5,
    "start_time": "2021-12-26T07:07:24.505Z"
   },
   {
    "duration": 5,
    "start_time": "2021-12-26T07:07:24.716Z"
   },
   {
    "duration": 4,
    "start_time": "2021-12-26T07:07:24.937Z"
   },
   {
    "duration": 5,
    "start_time": "2021-12-26T07:07:25.124Z"
   },
   {
    "duration": 5,
    "start_time": "2021-12-26T07:07:25.320Z"
   },
   {
    "duration": 5,
    "start_time": "2021-12-26T07:07:25.524Z"
   },
   {
    "duration": 8,
    "start_time": "2021-12-26T07:07:25.720Z"
   },
   {
    "duration": 9,
    "start_time": "2021-12-26T07:07:26.882Z"
   },
   {
    "duration": 13,
    "start_time": "2021-12-26T07:07:27.272Z"
   },
   {
    "duration": 5,
    "start_time": "2021-12-26T07:07:27.632Z"
   },
   {
    "duration": 9,
    "start_time": "2021-12-26T07:07:27.918Z"
   },
   {
    "duration": 6,
    "start_time": "2021-12-26T07:07:28.511Z"
   },
   {
    "duration": 5,
    "start_time": "2021-12-26T07:07:28.748Z"
   },
   {
    "duration": 4,
    "start_time": "2021-12-26T07:07:29.006Z"
   },
   {
    "duration": 18,
    "start_time": "2021-12-26T07:07:32.397Z"
   },
   {
    "duration": 19,
    "start_time": "2021-12-26T07:07:32.903Z"
   },
   {
    "duration": 17,
    "start_time": "2021-12-26T07:07:34.198Z"
   },
   {
    "duration": 11,
    "start_time": "2021-12-26T07:07:34.875Z"
   },
   {
    "duration": 7,
    "start_time": "2021-12-26T07:07:35.328Z"
   },
   {
    "duration": 8,
    "start_time": "2021-12-26T07:07:37.369Z"
   },
   {
    "duration": 10479,
    "start_time": "2021-12-26T07:07:38.163Z"
   },
   {
    "duration": 4516,
    "start_time": "2021-12-26T07:07:48.644Z"
   },
   {
    "duration": 6,
    "start_time": "2021-12-26T07:07:53.163Z"
   },
   {
    "duration": 4,
    "start_time": "2021-12-26T07:07:53.171Z"
   },
   {
    "duration": 10,
    "start_time": "2021-12-26T07:07:53.177Z"
   },
   {
    "duration": 12,
    "start_time": "2021-12-26T07:07:53.189Z"
   },
   {
    "duration": 15,
    "start_time": "2021-12-26T07:07:53.203Z"
   },
   {
    "duration": 276,
    "start_time": "2021-12-26T07:07:53.221Z"
   },
   {
    "duration": 231,
    "start_time": "2021-12-26T07:08:21.336Z"
   },
   {
    "duration": 219,
    "start_time": "2021-12-26T07:08:30.478Z"
   },
   {
    "duration": 4,
    "start_time": "2021-12-26T08:27:09.928Z"
   },
   {
    "duration": 10,
    "start_time": "2021-12-26T08:27:26.490Z"
   },
   {
    "duration": 4,
    "start_time": "2021-12-26T08:27:28.584Z"
   },
   {
    "duration": 3,
    "start_time": "2021-12-26T08:27:55.492Z"
   },
   {
    "duration": 61,
    "start_time": "2021-12-26T08:27:55.924Z"
   },
   {
    "duration": 11,
    "start_time": "2021-12-26T08:27:56.178Z"
   },
   {
    "duration": 7,
    "start_time": "2021-12-26T08:27:56.583Z"
   },
   {
    "duration": 7,
    "start_time": "2021-12-26T08:27:56.803Z"
   },
   {
    "duration": 5,
    "start_time": "2021-12-26T08:27:56.997Z"
   },
   {
    "duration": 5,
    "start_time": "2021-12-26T08:27:57.201Z"
   },
   {
    "duration": 5,
    "start_time": "2021-12-26T08:27:57.406Z"
   },
   {
    "duration": 6,
    "start_time": "2021-12-26T08:27:57.618Z"
   },
   {
    "duration": 6,
    "start_time": "2021-12-26T08:27:57.856Z"
   },
   {
    "duration": 5,
    "start_time": "2021-12-26T08:27:58.101Z"
   },
   {
    "duration": 5,
    "start_time": "2021-12-26T08:27:58.246Z"
   },
   {
    "duration": 8,
    "start_time": "2021-12-26T08:27:58.473Z"
   },
   {
    "duration": 11,
    "start_time": "2021-12-26T08:27:59.599Z"
   },
   {
    "duration": 14,
    "start_time": "2021-12-26T08:27:59.809Z"
   },
   {
    "duration": 5,
    "start_time": "2021-12-26T08:28:00.029Z"
   },
   {
    "duration": 11,
    "start_time": "2021-12-26T08:28:00.266Z"
   },
   {
    "duration": 6,
    "start_time": "2021-12-26T08:28:00.477Z"
   },
   {
    "duration": 5,
    "start_time": "2021-12-26T08:28:00.683Z"
   },
   {
    "duration": 4,
    "start_time": "2021-12-26T08:28:00.880Z"
   },
   {
    "duration": 20,
    "start_time": "2021-12-26T08:28:02.585Z"
   },
   {
    "duration": 21,
    "start_time": "2021-12-26T08:28:02.798Z"
   },
   {
    "duration": 22,
    "start_time": "2021-12-26T08:28:03.024Z"
   },
   {
    "duration": 15,
    "start_time": "2021-12-26T08:28:03.236Z"
   },
   {
    "duration": 7,
    "start_time": "2021-12-26T08:28:03.474Z"
   },
   {
    "duration": 28,
    "start_time": "2021-12-26T08:28:04.335Z"
   },
   {
    "duration": 10396,
    "start_time": "2021-12-26T08:28:04.555Z"
   },
   {
    "duration": 9,
    "start_time": "2021-12-26T08:28:14.953Z"
   },
   {
    "duration": 12,
    "start_time": "2021-12-26T08:28:30.330Z"
   },
   {
    "duration": 5,
    "start_time": "2021-12-26T08:28:31.187Z"
   },
   {
    "duration": 13,
    "start_time": "2021-12-26T08:30:21.045Z"
   },
   {
    "duration": 3,
    "start_time": "2021-12-26T08:31:20.058Z"
   },
   {
    "duration": 61,
    "start_time": "2021-12-26T08:31:20.410Z"
   },
   {
    "duration": 12,
    "start_time": "2021-12-26T08:31:20.693Z"
   },
   {
    "duration": 7,
    "start_time": "2021-12-26T08:31:21.141Z"
   },
   {
    "duration": 6,
    "start_time": "2021-12-26T08:31:21.366Z"
   },
   {
    "duration": 5,
    "start_time": "2021-12-26T08:31:21.578Z"
   },
   {
    "duration": 5,
    "start_time": "2021-12-26T08:31:21.798Z"
   },
   {
    "duration": 6,
    "start_time": "2021-12-26T08:31:22.018Z"
   },
   {
    "duration": 6,
    "start_time": "2021-12-26T08:31:22.229Z"
   },
   {
    "duration": 5,
    "start_time": "2021-12-26T08:31:22.449Z"
   },
   {
    "duration": 5,
    "start_time": "2021-12-26T08:31:22.786Z"
   },
   {
    "duration": 5,
    "start_time": "2021-12-26T08:31:23.097Z"
   },
   {
    "duration": 10,
    "start_time": "2021-12-26T08:31:23.344Z"
   },
   {
    "duration": 11,
    "start_time": "2021-12-26T08:31:25.302Z"
   },
   {
    "duration": 15,
    "start_time": "2021-12-26T08:31:26.204Z"
   },
   {
    "duration": 5,
    "start_time": "2021-12-26T08:31:26.587Z"
   },
   {
    "duration": 10,
    "start_time": "2021-12-26T08:31:27.380Z"
   },
   {
    "duration": 6,
    "start_time": "2021-12-26T08:31:27.817Z"
   },
   {
    "duration": 4,
    "start_time": "2021-12-26T08:31:28.257Z"
   },
   {
    "duration": 4,
    "start_time": "2021-12-26T08:31:28.626Z"
   },
   {
    "duration": 16,
    "start_time": "2021-12-26T08:31:35.933Z"
   },
   {
    "duration": 18,
    "start_time": "2021-12-26T08:31:36.626Z"
   },
   {
    "duration": 23,
    "start_time": "2021-12-26T08:31:38.029Z"
   },
   {
    "duration": 11,
    "start_time": "2021-12-26T08:31:48.513Z"
   },
   {
    "duration": 7,
    "start_time": "2021-12-26T08:31:49.033Z"
   },
   {
    "duration": 28,
    "start_time": "2021-12-26T08:31:54.135Z"
   },
   {
    "duration": 11002,
    "start_time": "2021-12-26T08:31:55.309Z"
   },
   {
    "duration": 13,
    "start_time": "2021-12-26T08:32:15.509Z"
   },
   {
    "duration": 3,
    "start_time": "2021-12-26T08:33:33.343Z"
   },
   {
    "duration": 11,
    "start_time": "2021-12-26T08:33:45.370Z"
   },
   {
    "duration": 3,
    "start_time": "2021-12-26T08:35:17.825Z"
   },
   {
    "duration": 11,
    "start_time": "2021-12-26T08:35:23.626Z"
   },
   {
    "duration": 12,
    "start_time": "2021-12-26T08:35:24.453Z"
   },
   {
    "duration": 8,
    "start_time": "2021-12-26T08:36:16.963Z"
   },
   {
    "duration": 12,
    "start_time": "2021-12-26T08:36:17.701Z"
   },
   {
    "duration": 6,
    "start_time": "2021-12-26T08:36:21.253Z"
   },
   {
    "duration": 10,
    "start_time": "2021-12-26T08:39:18.490Z"
   },
   {
    "duration": 3,
    "start_time": "2021-12-26T08:39:32.732Z"
   },
   {
    "duration": 59,
    "start_time": "2021-12-26T08:39:32.969Z"
   },
   {
    "duration": 12,
    "start_time": "2021-12-26T08:39:33.177Z"
   },
   {
    "duration": 8,
    "start_time": "2021-12-26T08:39:33.696Z"
   },
   {
    "duration": 7,
    "start_time": "2021-12-26T08:39:34.444Z"
   },
   {
    "duration": 6,
    "start_time": "2021-12-26T08:39:34.922Z"
   },
   {
    "duration": 7,
    "start_time": "2021-12-26T08:39:35.765Z"
   },
   {
    "duration": 5,
    "start_time": "2021-12-26T08:39:36.411Z"
   },
   {
    "duration": 5,
    "start_time": "2021-12-26T08:39:36.973Z"
   },
   {
    "duration": 5,
    "start_time": "2021-12-26T08:39:38.385Z"
   },
   {
    "duration": 5,
    "start_time": "2021-12-26T08:39:38.626Z"
   },
   {
    "duration": 4,
    "start_time": "2021-12-26T08:39:38.892Z"
   },
   {
    "duration": 8,
    "start_time": "2021-12-26T08:39:39.121Z"
   },
   {
    "duration": 10,
    "start_time": "2021-12-26T08:39:42.356Z"
   },
   {
    "duration": 13,
    "start_time": "2021-12-26T08:39:42.664Z"
   },
   {
    "duration": 9,
    "start_time": "2021-12-26T08:41:08.068Z"
   },
   {
    "duration": 8,
    "start_time": "2021-12-26T08:47:02.794Z"
   },
   {
    "duration": 8,
    "start_time": "2021-12-26T08:48:41.411Z"
   },
   {
    "duration": 293,
    "start_time": "2021-12-26T08:49:24.840Z"
   },
   {
    "duration": 394,
    "start_time": "2021-12-26T08:49:35.453Z"
   },
   {
    "duration": 8,
    "start_time": "2021-12-26T08:50:10.961Z"
   },
   {
    "duration": 8,
    "start_time": "2021-12-26T08:50:23.013Z"
   },
   {
    "duration": 9,
    "start_time": "2021-12-26T08:50:32.933Z"
   },
   {
    "duration": 3,
    "start_time": "2021-12-26T09:06:24.244Z"
   },
   {
    "duration": 142,
    "start_time": "2021-12-26T09:11:55.862Z"
   },
   {
    "duration": 12,
    "start_time": "2021-12-26T09:12:24.850Z"
   },
   {
    "duration": 14,
    "start_time": "2021-12-26T09:13:00.603Z"
   },
   {
    "duration": 5607,
    "start_time": "2021-12-26T09:16:23.686Z"
   },
   {
    "duration": 1920,
    "start_time": "2021-12-26T09:17:25.393Z"
   },
   {
    "duration": 351,
    "start_time": "2021-12-26T09:20:03.765Z"
   },
   {
    "duration": 838,
    "start_time": "2021-12-26T09:21:44.097Z"
   },
   {
    "duration": 5,
    "start_time": "2021-12-26T09:26:59.816Z"
   },
   {
    "duration": 14,
    "start_time": "2021-12-26T09:27:03.897Z"
   },
   {
    "duration": 10,
    "start_time": "2021-12-26T09:27:59.540Z"
   },
   {
    "duration": 4,
    "start_time": "2021-12-26T09:29:01.760Z"
   },
   {
    "duration": 5,
    "start_time": "2021-12-26T09:29:03.320Z"
   },
   {
    "duration": 14,
    "start_time": "2021-12-26T09:29:06.300Z"
   },
   {
    "duration": 10,
    "start_time": "2021-12-26T09:29:12.490Z"
   },
   {
    "duration": 43972,
    "start_time": "2021-12-26T09:35:33.208Z"
   },
   {
    "duration": 10,
    "start_time": "2021-12-26T09:36:24.608Z"
   },
   {
    "duration": 10,
    "start_time": "2021-12-26T09:36:25.667Z"
   },
   {
    "duration": 5,
    "start_time": "2021-12-26T09:44:05.608Z"
   },
   {
    "duration": 201,
    "start_time": "2021-12-26T09:44:24.430Z"
   },
   {
    "duration": 7,
    "start_time": "2021-12-26T09:44:59.680Z"
   },
   {
    "duration": 6,
    "start_time": "2021-12-26T09:45:55.074Z"
   },
   {
    "duration": 74,
    "start_time": "2021-12-26T09:46:25.474Z"
   },
   {
    "duration": 8,
    "start_time": "2021-12-26T09:46:34.100Z"
   },
   {
    "duration": 7,
    "start_time": "2021-12-26T09:47:37.973Z"
   },
   {
    "duration": 27,
    "start_time": "2021-12-26T09:57:55.552Z"
   },
   {
    "duration": 5,
    "start_time": "2021-12-26T09:59:41.854Z"
   },
   {
    "duration": 7,
    "start_time": "2021-12-26T10:00:32.151Z"
   },
   {
    "duration": 4,
    "start_time": "2021-12-26T10:03:15.259Z"
   },
   {
    "duration": 6,
    "start_time": "2021-12-26T10:03:26.340Z"
   },
   {
    "duration": 23,
    "start_time": "2021-12-26T10:04:57.945Z"
   },
   {
    "duration": 5,
    "start_time": "2021-12-26T10:05:57.651Z"
   },
   {
    "duration": 21,
    "start_time": "2021-12-26T10:06:14.542Z"
   },
   {
    "duration": 7,
    "start_time": "2021-12-26T10:16:43.465Z"
   },
   {
    "duration": 5,
    "start_time": "2021-12-26T10:23:16.921Z"
   },
   {
    "duration": 7,
    "start_time": "2021-12-26T10:45:34.539Z"
   },
   {
    "duration": 7,
    "start_time": "2021-12-26T10:46:54.246Z"
   },
   {
    "duration": 5,
    "start_time": "2021-12-26T10:47:40.326Z"
   },
   {
    "duration": 7,
    "start_time": "2021-12-26T10:47:44.887Z"
   },
   {
    "duration": 7,
    "start_time": "2021-12-26T10:48:30.043Z"
   },
   {
    "duration": 6,
    "start_time": "2021-12-26T10:48:39.626Z"
   },
   {
    "duration": 6,
    "start_time": "2021-12-26T10:48:44.522Z"
   },
   {
    "duration": 2,
    "start_time": "2021-12-26T10:56:22.909Z"
   },
   {
    "duration": 57,
    "start_time": "2021-12-26T10:56:23.441Z"
   },
   {
    "duration": 12,
    "start_time": "2021-12-26T10:56:24.211Z"
   },
   {
    "duration": 9,
    "start_time": "2021-12-26T10:56:26.137Z"
   },
   {
    "duration": 5,
    "start_time": "2021-12-26T10:56:28.987Z"
   },
   {
    "duration": 6,
    "start_time": "2021-12-26T10:56:29.931Z"
   },
   {
    "duration": 7,
    "start_time": "2021-12-26T10:57:33.253Z"
   },
   {
    "duration": 8,
    "start_time": "2021-12-26T10:58:14.725Z"
   },
   {
    "duration": 14,
    "start_time": "2021-12-26T10:59:56.462Z"
   },
   {
    "duration": 22,
    "start_time": "2021-12-26T11:00:22.520Z"
   },
   {
    "duration": 8,
    "start_time": "2021-12-26T11:01:41.583Z"
   },
   {
    "duration": 22,
    "start_time": "2021-12-26T11:04:19.356Z"
   },
   {
    "duration": 216,
    "start_time": "2021-12-26T11:06:48.259Z"
   },
   {
    "duration": 7,
    "start_time": "2021-12-26T11:07:01.230Z"
   },
   {
    "duration": 21,
    "start_time": "2021-12-26T11:07:09.216Z"
   },
   {
    "duration": 33,
    "start_time": "2021-12-26T11:56:21.053Z"
   },
   {
    "duration": 210,
    "start_time": "2021-12-26T11:58:57.953Z"
   },
   {
    "duration": 210,
    "start_time": "2021-12-26T11:59:21.135Z"
   },
   {
    "duration": 28,
    "start_time": "2021-12-26T11:59:30.286Z"
   },
   {
    "duration": 4,
    "start_time": "2021-12-26T12:00:04.953Z"
   },
   {
    "duration": 6,
    "start_time": "2021-12-26T12:00:41.341Z"
   },
   {
    "duration": 6,
    "start_time": "2021-12-26T12:01:07.771Z"
   },
   {
    "duration": 7,
    "start_time": "2021-12-26T12:01:20.898Z"
   },
   {
    "duration": 7,
    "start_time": "2021-12-26T12:01:32.164Z"
   },
   {
    "duration": 8,
    "start_time": "2021-12-26T12:01:36.846Z"
   },
   {
    "duration": 8,
    "start_time": "2021-12-26T12:06:51.802Z"
   },
   {
    "duration": 11,
    "start_time": "2021-12-26T12:08:49.552Z"
   },
   {
    "duration": 11,
    "start_time": "2021-12-26T12:09:32.725Z"
   },
   {
    "duration": 75,
    "start_time": "2021-12-26T12:11:02.160Z"
   },
   {
    "duration": 14,
    "start_time": "2021-12-26T12:11:29.871Z"
   },
   {
    "duration": 12,
    "start_time": "2021-12-26T12:22:41.170Z"
   },
   {
    "duration": 11,
    "start_time": "2021-12-26T12:22:55.039Z"
   },
   {
    "duration": 111,
    "start_time": "2021-12-26T12:23:21.657Z"
   },
   {
    "duration": 9,
    "start_time": "2021-12-26T12:34:19.524Z"
   },
   {
    "duration": 10,
    "start_time": "2021-12-26T12:34:24.002Z"
   },
   {
    "duration": 4,
    "start_time": "2021-12-26T12:35:36.083Z"
   },
   {
    "duration": 4,
    "start_time": "2021-12-26T12:38:04.432Z"
   },
   {
    "duration": 13,
    "start_time": "2021-12-26T12:39:10.047Z"
   },
   {
    "duration": 23,
    "start_time": "2021-12-26T12:44:49.385Z"
   },
   {
    "duration": 6,
    "start_time": "2021-12-26T12:45:32.203Z"
   },
   {
    "duration": 13,
    "start_time": "2021-12-26T12:46:29.891Z"
   },
   {
    "duration": 26,
    "start_time": "2021-12-26T12:47:44.827Z"
   },
   {
    "duration": 24,
    "start_time": "2021-12-26T12:47:56.034Z"
   },
   {
    "duration": 8,
    "start_time": "2021-12-26T12:51:12.720Z"
   },
   {
    "duration": 5,
    "start_time": "2021-12-26T12:51:28.087Z"
   },
   {
    "duration": 6,
    "start_time": "2021-12-26T12:51:47.197Z"
   },
   {
    "duration": 215,
    "start_time": "2021-12-26T12:56:53.373Z"
   },
   {
    "duration": 8,
    "start_time": "2021-12-26T12:57:52.025Z"
   },
   {
    "duration": 7,
    "start_time": "2021-12-26T12:58:21.127Z"
   },
   {
    "duration": 8,
    "start_time": "2021-12-26T13:04:21.825Z"
   },
   {
    "duration": 6,
    "start_time": "2021-12-26T13:13:27.070Z"
   },
   {
    "duration": 20481,
    "start_time": "2021-12-26T13:15:14.626Z"
   },
   {
    "duration": 4,
    "start_time": "2021-12-26T13:18:42.669Z"
   },
   {
    "duration": 6,
    "start_time": "2021-12-26T13:20:49.024Z"
   },
   {
    "duration": 20650,
    "start_time": "2021-12-26T13:22:01.721Z"
   },
   {
    "duration": 11,
    "start_time": "2021-12-26T13:22:22.374Z"
   },
   {
    "duration": 8,
    "start_time": "2021-12-26T13:26:57.594Z"
   },
   {
    "duration": 11,
    "start_time": "2021-12-26T13:28:12.627Z"
   },
   {
    "duration": 19,
    "start_time": "2021-12-26T13:28:44.067Z"
   },
   {
    "duration": 6,
    "start_time": "2021-12-26T13:29:05.689Z"
   },
   {
    "duration": 6,
    "start_time": "2021-12-26T13:29:06.263Z"
   },
   {
    "duration": 8,
    "start_time": "2021-12-26T13:29:06.801Z"
   },
   {
    "duration": 4,
    "start_time": "2021-12-26T13:29:08.182Z"
   },
   {
    "duration": 206,
    "start_time": "2021-12-26T13:29:08.876Z"
   },
   {
    "duration": 2,
    "start_time": "2021-12-26T13:29:50.224Z"
   },
   {
    "duration": 56,
    "start_time": "2021-12-26T13:29:50.728Z"
   },
   {
    "duration": 12,
    "start_time": "2021-12-26T13:29:50.982Z"
   },
   {
    "duration": 8,
    "start_time": "2021-12-26T13:29:51.619Z"
   },
   {
    "duration": 4,
    "start_time": "2021-12-26T13:29:52.129Z"
   },
   {
    "duration": 5,
    "start_time": "2021-12-26T13:29:52.775Z"
   },
   {
    "duration": 6,
    "start_time": "2021-12-26T13:29:53.278Z"
   },
   {
    "duration": 21,
    "start_time": "2021-12-26T13:29:54.119Z"
   },
   {
    "duration": 5,
    "start_time": "2021-12-26T13:29:55.030Z"
   },
   {
    "duration": 5,
    "start_time": "2021-12-26T13:29:57.789Z"
   },
   {
    "duration": 5,
    "start_time": "2021-12-26T13:29:58.326Z"
   },
   {
    "duration": 4,
    "start_time": "2021-12-26T13:29:58.839Z"
   },
   {
    "duration": 5,
    "start_time": "2021-12-26T13:29:59.274Z"
   },
   {
    "duration": 6,
    "start_time": "2021-12-26T13:30:00.237Z"
   },
   {
    "duration": 5,
    "start_time": "2021-12-26T13:30:01.049Z"
   },
   {
    "duration": 5,
    "start_time": "2021-12-26T13:30:02.247Z"
   },
   {
    "duration": 8,
    "start_time": "2021-12-26T13:30:07.210Z"
   },
   {
    "duration": 9,
    "start_time": "2021-12-26T13:30:08.044Z"
   },
   {
    "duration": 8,
    "start_time": "2021-12-26T13:30:08.782Z"
   },
   {
    "duration": 5,
    "start_time": "2021-12-26T13:30:09.913Z"
   },
   {
    "duration": 16,
    "start_time": "2021-12-26T13:30:11.026Z"
   },
   {
    "duration": 11,
    "start_time": "2021-12-26T13:30:14.352Z"
   },
   {
    "duration": 9,
    "start_time": "2021-12-26T13:30:16.703Z"
   },
   {
    "duration": 4,
    "start_time": "2021-12-26T13:30:18.017Z"
   },
   {
    "duration": 23457,
    "start_time": "2021-12-26T13:30:21.395Z"
   },
   {
    "duration": 13,
    "start_time": "2021-12-26T13:30:45.719Z"
   },
   {
    "duration": 10,
    "start_time": "2021-12-26T13:30:50.515Z"
   },
   {
    "duration": 4,
    "start_time": "2021-12-26T13:32:16.377Z"
   },
   {
    "duration": 45860,
    "start_time": "2021-12-26T13:32:30.075Z"
   },
   {
    "duration": 10,
    "start_time": "2021-12-26T13:33:17.778Z"
   },
   {
    "duration": 2,
    "start_time": "2021-12-26T13:36:01.245Z"
   },
   {
    "duration": 62,
    "start_time": "2021-12-26T13:36:01.567Z"
   },
   {
    "duration": 13,
    "start_time": "2021-12-26T13:36:01.973Z"
   },
   {
    "duration": 9,
    "start_time": "2021-12-26T13:36:02.478Z"
   },
   {
    "duration": 5,
    "start_time": "2021-12-26T13:36:02.899Z"
   },
   {
    "duration": 7,
    "start_time": "2021-12-26T13:36:03.221Z"
   },
   {
    "duration": 6,
    "start_time": "2021-12-26T13:36:03.707Z"
   },
   {
    "duration": 21,
    "start_time": "2021-12-26T13:36:04.413Z"
   },
   {
    "duration": 7,
    "start_time": "2021-12-26T13:36:36.036Z"
   },
   {
    "duration": 4,
    "start_time": "2021-12-26T13:36:38.137Z"
   },
   {
    "duration": 5,
    "start_time": "2021-12-26T13:36:38.748Z"
   },
   {
    "duration": 5,
    "start_time": "2021-12-26T13:36:39.279Z"
   },
   {
    "duration": 4,
    "start_time": "2021-12-26T13:36:39.783Z"
   },
   {
    "duration": 5,
    "start_time": "2021-12-26T13:36:40.742Z"
   },
   {
    "duration": 5,
    "start_time": "2021-12-26T13:36:42.709Z"
   },
   {
    "duration": 5,
    "start_time": "2021-12-26T13:36:43.766Z"
   },
   {
    "duration": 6,
    "start_time": "2021-12-26T13:36:44.694Z"
   },
   {
    "duration": 7,
    "start_time": "2021-12-26T13:36:54.946Z"
   },
   {
    "duration": 6,
    "start_time": "2021-12-26T13:36:55.704Z"
   },
   {
    "duration": 6,
    "start_time": "2021-12-26T13:36:56.169Z"
   },
   {
    "duration": 3,
    "start_time": "2021-12-26T13:36:57.296Z"
   },
   {
    "duration": 20308,
    "start_time": "2021-12-26T13:36:58.845Z"
   },
   {
    "duration": 5,
    "start_time": "2021-12-26T13:37:52.589Z"
   },
   {
    "duration": 5,
    "start_time": "2021-12-26T13:38:15.379Z"
   },
   {
    "duration": 5,
    "start_time": "2021-12-26T13:38:21.349Z"
   },
   {
    "duration": 6,
    "start_time": "2021-12-26T13:38:40.371Z"
   },
   {
    "duration": 222,
    "start_time": "2021-12-26T13:39:17.652Z"
   },
   {
    "duration": 3,
    "start_time": "2021-12-26T13:39:26.680Z"
   },
   {
    "duration": 5,
    "start_time": "2021-12-26T13:40:27.356Z"
   },
   {
    "duration": 307,
    "start_time": "2021-12-26T13:41:34.448Z"
   },
   {
    "duration": 220,
    "start_time": "2021-12-26T13:42:43.684Z"
   },
   {
    "duration": 198,
    "start_time": "2021-12-26T13:44:27.329Z"
   },
   {
    "duration": 221,
    "start_time": "2021-12-26T13:44:31.537Z"
   },
   {
    "duration": 577,
    "start_time": "2021-12-26T13:44:41.014Z"
   },
   {
    "duration": 5,
    "start_time": "2021-12-26T13:45:26.359Z"
   },
   {
    "duration": 242,
    "start_time": "2021-12-26T13:48:05.376Z"
   },
   {
    "duration": 227,
    "start_time": "2021-12-26T13:48:11.122Z"
   },
   {
    "duration": 531,
    "start_time": "2021-12-27T05:20:26.194Z"
   },
   {
    "duration": 56,
    "start_time": "2021-12-27T05:20:26.793Z"
   },
   {
    "duration": 17,
    "start_time": "2021-12-27T05:20:28.553Z"
   },
   {
    "duration": 7,
    "start_time": "2021-12-27T05:20:29.930Z"
   },
   {
    "duration": 4,
    "start_time": "2021-12-27T05:20:31.225Z"
   },
   {
    "duration": 6,
    "start_time": "2021-12-27T05:20:47.368Z"
   },
   {
    "duration": 5,
    "start_time": "2021-12-27T05:20:48.353Z"
   },
   {
    "duration": 4,
    "start_time": "2021-12-27T05:20:49.318Z"
   },
   {
    "duration": 4,
    "start_time": "2021-12-27T05:20:49.998Z"
   },
   {
    "duration": 5,
    "start_time": "2021-12-27T05:20:52.334Z"
   },
   {
    "duration": 5,
    "start_time": "2021-12-27T05:20:52.845Z"
   },
   {
    "duration": 5,
    "start_time": "2021-12-27T05:20:53.172Z"
   },
   {
    "duration": 5,
    "start_time": "2021-12-27T05:20:53.563Z"
   },
   {
    "duration": 4,
    "start_time": "2021-12-27T05:20:54.098Z"
   },
   {
    "duration": 7,
    "start_time": "2021-12-27T05:20:55.196Z"
   },
   {
    "duration": 6,
    "start_time": "2021-12-27T05:21:00.713Z"
   },
   {
    "duration": 6,
    "start_time": "2021-12-27T05:21:01.286Z"
   },
   {
    "duration": 5,
    "start_time": "2021-12-27T05:21:02.124Z"
   },
   {
    "duration": 6,
    "start_time": "2021-12-27T05:21:04.045Z"
   },
   {
    "duration": 5,
    "start_time": "2021-12-27T05:21:05.091Z"
   },
   {
    "duration": 261,
    "start_time": "2021-12-27T05:21:37.514Z"
   },
   {
    "duration": 190,
    "start_time": "2021-12-27T05:21:48.495Z"
   },
   {
    "duration": 194,
    "start_time": "2021-12-27T05:21:54.025Z"
   },
   {
    "duration": 197,
    "start_time": "2021-12-27T05:21:58.451Z"
   },
   {
    "duration": 205,
    "start_time": "2021-12-27T05:22:03.964Z"
   },
   {
    "duration": 4,
    "start_time": "2021-12-27T05:22:36.069Z"
   },
   {
    "duration": 4,
    "start_time": "2021-12-27T05:22:58.071Z"
   },
   {
    "duration": 3,
    "start_time": "2021-12-27T05:23:25.333Z"
   },
   {
    "duration": 194,
    "start_time": "2021-12-27T05:23:44.581Z"
   },
   {
    "duration": 3,
    "start_time": "2021-12-27T05:23:52.325Z"
   },
   {
    "duration": 3,
    "start_time": "2021-12-27T05:24:09.213Z"
   },
   {
    "duration": 4,
    "start_time": "2021-12-27T05:24:21.070Z"
   },
   {
    "duration": 3,
    "start_time": "2021-12-27T05:25:29.522Z"
   },
   {
    "duration": 4,
    "start_time": "2021-12-27T05:25:46.212Z"
   },
   {
    "duration": 3,
    "start_time": "2021-12-27T05:26:44.434Z"
   },
   {
    "duration": 8,
    "start_time": "2021-12-27T05:27:00.200Z"
   },
   {
    "duration": 4,
    "start_time": "2021-12-27T05:27:18.279Z"
   },
   {
    "duration": 6,
    "start_time": "2021-12-27T06:52:20.030Z"
   },
   {
    "duration": 9,
    "start_time": "2021-12-27T06:52:25.400Z"
   },
   {
    "duration": 3,
    "start_time": "2021-12-27T06:59:19.035Z"
   },
   {
    "duration": 61401,
    "start_time": "2021-12-27T07:01:46.142Z"
   },
   {
    "duration": 2,
    "start_time": "2021-12-27T07:02:47.545Z"
   },
   {
    "duration": 3,
    "start_time": "2021-12-27T07:04:25.162Z"
   },
   {
    "duration": 55,
    "start_time": "2021-12-27T07:04:28.335Z"
   },
   {
    "duration": 11,
    "start_time": "2021-12-27T07:04:45.551Z"
   },
   {
    "duration": 7,
    "start_time": "2021-12-27T07:04:52.099Z"
   },
   {
    "duration": 4,
    "start_time": "2021-12-27T07:04:57.744Z"
   },
   {
    "duration": 6,
    "start_time": "2021-12-27T07:05:00.503Z"
   },
   {
    "duration": 6,
    "start_time": "2021-12-27T07:05:01.785Z"
   },
   {
    "duration": 5,
    "start_time": "2021-12-27T07:05:05.326Z"
   },
   {
    "duration": 4,
    "start_time": "2021-12-27T07:05:06.046Z"
   },
   {
    "duration": 5,
    "start_time": "2021-12-27T07:05:09.610Z"
   },
   {
    "duration": 5,
    "start_time": "2021-12-27T07:05:29.351Z"
   },
   {
    "duration": 4,
    "start_time": "2021-12-27T07:05:29.954Z"
   },
   {
    "duration": 5,
    "start_time": "2021-12-27T07:05:32.234Z"
   },
   {
    "duration": 6,
    "start_time": "2021-12-27T07:07:06.446Z"
   },
   {
    "duration": 6,
    "start_time": "2021-12-27T07:07:07.809Z"
   },
   {
    "duration": 4,
    "start_time": "2021-12-27T07:07:09.330Z"
   },
   {
    "duration": 3,
    "start_time": "2021-12-27T07:08:54.892Z"
   },
   {
    "duration": 39454,
    "start_time": "2021-12-27T07:08:56.906Z"
   },
   {
    "duration": 4,
    "start_time": "2021-12-27T07:09:40.073Z"
   },
   {
    "duration": 3,
    "start_time": "2021-12-27T07:10:13.385Z"
   },
   {
    "duration": 18980,
    "start_time": "2021-12-27T07:10:20.414Z"
   },
   {
    "duration": 9,
    "start_time": "2021-12-27T07:10:56.737Z"
   },
   {
    "duration": 85,
    "start_time": "2021-12-27T07:11:59.859Z"
   },
   {
    "duration": 11,
    "start_time": "2021-12-27T07:12:02.447Z"
   },
   {
    "duration": 12,
    "start_time": "2021-12-27T07:12:32.732Z"
   },
   {
    "duration": 10,
    "start_time": "2021-12-27T07:12:42.998Z"
   },
   {
    "duration": 11,
    "start_time": "2021-12-27T07:13:56.403Z"
   },
   {
    "duration": 12,
    "start_time": "2021-12-27T07:15:03.295Z"
   },
   {
    "duration": 10,
    "start_time": "2021-12-27T07:15:09.083Z"
   },
   {
    "duration": 11,
    "start_time": "2021-12-27T07:15:27.124Z"
   },
   {
    "duration": 11,
    "start_time": "2021-12-27T07:15:32.302Z"
   },
   {
    "duration": 10,
    "start_time": "2021-12-27T07:16:22.886Z"
   },
   {
    "duration": 8,
    "start_time": "2021-12-27T07:16:26.846Z"
   },
   {
    "duration": 8,
    "start_time": "2021-12-27T07:16:52.915Z"
   },
   {
    "duration": 4,
    "start_time": "2021-12-27T07:20:45.203Z"
   },
   {
    "duration": 42645,
    "start_time": "2021-12-27T07:20:50.768Z"
   },
   {
    "duration": 13,
    "start_time": "2021-12-27T07:21:36.442Z"
   },
   {
    "duration": 5,
    "start_time": "2021-12-27T07:22:15.580Z"
   },
   {
    "duration": 3,
    "start_time": "2021-12-27T07:32:40.731Z"
   },
   {
    "duration": 53,
    "start_time": "2021-12-27T07:32:41.195Z"
   },
   {
    "duration": 10,
    "start_time": "2021-12-27T07:32:41.400Z"
   },
   {
    "duration": 7,
    "start_time": "2021-12-27T07:32:41.820Z"
   },
   {
    "duration": 5,
    "start_time": "2021-12-27T07:32:42.001Z"
   },
   {
    "duration": 6,
    "start_time": "2021-12-27T07:32:42.196Z"
   },
   {
    "duration": 6,
    "start_time": "2021-12-27T07:32:42.413Z"
   },
   {
    "duration": 5,
    "start_time": "2021-12-27T07:32:42.599Z"
   },
   {
    "duration": 4,
    "start_time": "2021-12-27T07:32:42.821Z"
   },
   {
    "duration": 5,
    "start_time": "2021-12-27T07:32:43.039Z"
   },
   {
    "duration": 5,
    "start_time": "2021-12-27T07:32:43.230Z"
   },
   {
    "duration": 4,
    "start_time": "2021-12-27T07:32:43.415Z"
   },
   {
    "duration": 5,
    "start_time": "2021-12-27T07:32:43.608Z"
   },
   {
    "duration": 5,
    "start_time": "2021-12-27T07:32:43.800Z"
   },
   {
    "duration": 6,
    "start_time": "2021-12-27T07:32:44.012Z"
   },
   {
    "duration": 6,
    "start_time": "2021-12-27T07:32:45.393Z"
   },
   {
    "duration": 6,
    "start_time": "2021-12-27T07:32:45.637Z"
   },
   {
    "duration": 4,
    "start_time": "2021-12-27T07:32:46.175Z"
   },
   {
    "duration": 3,
    "start_time": "2021-12-27T07:32:52.484Z"
   },
   {
    "duration": 38921,
    "start_time": "2021-12-27T07:32:53.079Z"
   },
   {
    "duration": 3,
    "start_time": "2021-12-27T07:33:32.002Z"
   },
   {
    "duration": 12,
    "start_time": "2021-12-27T07:33:32.007Z"
   },
   {
    "duration": 4,
    "start_time": "2021-12-27T07:33:46.637Z"
   },
   {
    "duration": 9,
    "start_time": "2021-12-27T07:33:47.295Z"
   },
   {
    "duration": 4,
    "start_time": "2021-12-27T07:33:48.452Z"
   },
   {
    "duration": 10,
    "start_time": "2021-12-27T07:33:50.040Z"
   },
   {
    "duration": 10,
    "start_time": "2021-12-27T07:34:10.086Z"
   },
   {
    "duration": 8,
    "start_time": "2021-12-27T07:34:16.294Z"
   },
   {
    "duration": 7,
    "start_time": "2021-12-27T07:34:50.606Z"
   },
   {
    "duration": 3,
    "start_time": "2021-12-27T07:34:53.222Z"
   },
   {
    "duration": 19813,
    "start_time": "2021-12-27T07:34:58.436Z"
   },
   {
    "duration": 3,
    "start_time": "2021-12-27T07:36:44.903Z"
   },
   {
    "duration": 7,
    "start_time": "2021-12-27T07:36:48.220Z"
   },
   {
    "duration": 7,
    "start_time": "2021-12-27T07:37:05.597Z"
   },
   {
    "duration": 3,
    "start_time": "2021-12-27T07:38:47.975Z"
   },
   {
    "duration": 41682,
    "start_time": "2021-12-27T07:38:49.214Z"
   },
   {
    "duration": 12,
    "start_time": "2021-12-27T07:49:36.574Z"
   },
   {
    "duration": 6,
    "start_time": "2021-12-27T07:52:03.964Z"
   },
   {
    "duration": 13,
    "start_time": "2021-12-27T07:52:10.425Z"
   },
   {
    "duration": 3,
    "start_time": "2021-12-27T07:52:23.711Z"
   },
   {
    "duration": 11,
    "start_time": "2021-12-27T07:52:33.339Z"
   },
   {
    "duration": 4,
    "start_time": "2021-12-27T07:52:59.821Z"
   },
   {
    "duration": 12,
    "start_time": "2021-12-27T07:53:07.473Z"
   },
   {
    "duration": 12,
    "start_time": "2021-12-27T07:53:34.804Z"
   },
   {
    "duration": 12,
    "start_time": "2021-12-27T07:54:45.337Z"
   },
   {
    "duration": 15,
    "start_time": "2021-12-27T07:58:37.104Z"
   },
   {
    "duration": 15,
    "start_time": "2021-12-27T07:58:53.134Z"
   },
   {
    "duration": 27,
    "start_time": "2021-12-27T07:59:03.899Z"
   },
   {
    "duration": 18,
    "start_time": "2021-12-27T08:00:01.677Z"
   },
   {
    "duration": 15,
    "start_time": "2021-12-27T08:00:02.646Z"
   },
   {
    "duration": 12,
    "start_time": "2021-12-27T08:00:03.349Z"
   },
   {
    "duration": 7,
    "start_time": "2021-12-27T08:00:13.770Z"
   },
   {
    "duration": 8,
    "start_time": "2021-12-27T08:01:02.005Z"
   },
   {
    "duration": 9575,
    "start_time": "2021-12-27T08:01:06.793Z"
   },
   {
    "duration": 13,
    "start_time": "2021-12-27T08:01:27.958Z"
   },
   {
    "duration": 3,
    "start_time": "2021-12-27T08:02:55.394Z"
   },
   {
    "duration": 10,
    "start_time": "2021-12-27T08:03:25.012Z"
   },
   {
    "duration": 5,
    "start_time": "2021-12-27T08:03:37.637Z"
   },
   {
    "duration": 12,
    "start_time": "2021-12-27T08:06:05.240Z"
   },
   {
    "duration": 12,
    "start_time": "2021-12-27T08:10:25.813Z"
   },
   {
    "duration": 13,
    "start_time": "2021-12-27T08:11:41.295Z"
   },
   {
    "duration": 5,
    "start_time": "2021-12-27T08:15:35.366Z"
   },
   {
    "duration": 12,
    "start_time": "2021-12-27T08:19:26.003Z"
   },
   {
    "duration": 7,
    "start_time": "2021-12-27T08:24:57.017Z"
   },
   {
    "duration": 3,
    "start_time": "2021-12-27T08:26:34.423Z"
   },
   {
    "duration": 10,
    "start_time": "2021-12-27T08:26:36.923Z"
   },
   {
    "duration": 13,
    "start_time": "2021-12-27T08:26:41.179Z"
   },
   {
    "duration": 202,
    "start_time": "2021-12-27T08:31:16.023Z"
   },
   {
    "duration": 7,
    "start_time": "2021-12-27T08:31:21.435Z"
   },
   {
    "duration": 9,
    "start_time": "2021-12-27T08:31:31.255Z"
   },
   {
    "duration": 6377,
    "start_time": "2021-12-27T08:34:16.747Z"
   },
   {
    "duration": 5359,
    "start_time": "2021-12-27T08:34:51.704Z"
   },
   {
    "duration": 5638,
    "start_time": "2021-12-27T08:35:04.911Z"
   },
   {
    "duration": 8,
    "start_time": "2021-12-27T08:35:26.179Z"
   },
   {
    "duration": 3108,
    "start_time": "2021-12-27T08:35:46.323Z"
   },
   {
    "duration": 7,
    "start_time": "2021-12-27T08:35:52.990Z"
   },
   {
    "duration": 8,
    "start_time": "2021-12-27T08:36:57.338Z"
   },
   {
    "duration": 8,
    "start_time": "2021-12-27T08:37:44.416Z"
   },
   {
    "duration": 12,
    "start_time": "2021-12-27T08:37:50.794Z"
   },
   {
    "duration": 6841,
    "start_time": "2021-12-27T08:39:04.352Z"
   },
   {
    "duration": 3,
    "start_time": "2021-12-27T08:39:39.752Z"
   },
   {
    "duration": 2,
    "start_time": "2021-12-27T08:40:17.971Z"
   },
   {
    "duration": 942,
    "start_time": "2021-12-27T08:40:18.918Z"
   },
   {
    "duration": 4,
    "start_time": "2021-12-27T08:41:07.823Z"
   },
   {
    "duration": 12,
    "start_time": "2021-12-27T08:47:02.834Z"
   },
   {
    "duration": 19,
    "start_time": "2021-12-27T08:48:09.339Z"
   },
   {
    "duration": 6,
    "start_time": "2021-12-27T08:48:29.467Z"
   },
   {
    "duration": 210,
    "start_time": "2021-12-27T08:49:53.995Z"
   },
   {
    "duration": 7,
    "start_time": "2021-12-27T08:50:01.188Z"
   },
   {
    "duration": 3,
    "start_time": "2021-12-27T08:50:02.175Z"
   },
   {
    "duration": 11,
    "start_time": "2021-12-27T08:50:05.674Z"
   },
   {
    "duration": 11,
    "start_time": "2021-12-27T08:50:06.754Z"
   },
   {
    "duration": 8,
    "start_time": "2021-12-27T08:58:39.898Z"
   },
   {
    "duration": 5,
    "start_time": "2021-12-27T10:09:30.994Z"
   },
   {
    "duration": 5,
    "start_time": "2021-12-27T10:09:36.779Z"
   },
   {
    "duration": 5,
    "start_time": "2021-12-27T10:09:43.974Z"
   },
   {
    "duration": 8,
    "start_time": "2021-12-27T10:11:26.242Z"
   },
   {
    "duration": 16,
    "start_time": "2021-12-27T10:12:51.213Z"
   },
   {
    "duration": 9,
    "start_time": "2021-12-27T10:28:50.420Z"
   },
   {
    "duration": 100,
    "start_time": "2021-12-27T10:33:00.473Z"
   },
   {
    "duration": 6,
    "start_time": "2021-12-27T10:34:40.285Z"
   },
   {
    "duration": 3795,
    "start_time": "2021-12-27T10:41:29.225Z"
   },
   {
    "duration": 216,
    "start_time": "2021-12-27T10:43:00.333Z"
   },
   {
    "duration": 5,
    "start_time": "2021-12-27T10:44:15.862Z"
   },
   {
    "duration": 15,
    "start_time": "2021-12-27T10:45:18.890Z"
   },
   {
    "duration": 92,
    "start_time": "2021-12-27T10:46:51.905Z"
   },
   {
    "duration": 66,
    "start_time": "2021-12-27T10:47:09.008Z"
   },
   {
    "duration": 71,
    "start_time": "2021-12-27T10:47:30.355Z"
   },
   {
    "duration": 96,
    "start_time": "2021-12-27T10:48:47.301Z"
   },
   {
    "duration": 20,
    "start_time": "2021-12-27T10:50:24.678Z"
   },
   {
    "duration": 5,
    "start_time": "2021-12-27T11:13:41.056Z"
   },
   {
    "duration": 8,
    "start_time": "2021-12-27T11:51:22.854Z"
   },
   {
    "duration": 7,
    "start_time": "2021-12-27T11:51:47.077Z"
   },
   {
    "duration": 11,
    "start_time": "2021-12-27T11:54:53.313Z"
   },
   {
    "duration": 8,
    "start_time": "2021-12-27T11:57:09.754Z"
   },
   {
    "duration": 3,
    "start_time": "2021-12-27T11:57:36.198Z"
   },
   {
    "duration": 12,
    "start_time": "2021-12-27T11:58:29.893Z"
   },
   {
    "duration": 11,
    "start_time": "2021-12-27T11:58:31.171Z"
   },
   {
    "duration": 9,
    "start_time": "2021-12-27T11:59:12.885Z"
   },
   {
    "duration": 3,
    "start_time": "2021-12-27T12:00:45.389Z"
   },
   {
    "duration": 17,
    "start_time": "2021-12-27T12:00:46.644Z"
   },
   {
    "duration": 9,
    "start_time": "2021-12-27T12:00:48.067Z"
   },
   {
    "duration": 2,
    "start_time": "2021-12-27T12:00:55.291Z"
   },
   {
    "duration": 52,
    "start_time": "2021-12-27T12:00:55.502Z"
   },
   {
    "duration": 11,
    "start_time": "2021-12-27T12:00:55.690Z"
   },
   {
    "duration": 8,
    "start_time": "2021-12-27T12:00:56.085Z"
   },
   {
    "duration": 4,
    "start_time": "2021-12-27T12:00:56.295Z"
   },
   {
    "duration": 6,
    "start_time": "2021-12-27T12:00:56.475Z"
   },
   {
    "duration": 5,
    "start_time": "2021-12-27T12:00:56.669Z"
   },
   {
    "duration": 4,
    "start_time": "2021-12-27T12:00:56.866Z"
   },
   {
    "duration": 4,
    "start_time": "2021-12-27T12:00:57.062Z"
   },
   {
    "duration": 5,
    "start_time": "2021-12-27T12:00:57.258Z"
   },
   {
    "duration": 5,
    "start_time": "2021-12-27T12:00:57.462Z"
   },
   {
    "duration": 5,
    "start_time": "2021-12-27T12:00:57.651Z"
   },
   {
    "duration": 4,
    "start_time": "2021-12-27T12:00:57.847Z"
   },
   {
    "duration": 5,
    "start_time": "2021-12-27T12:00:58.065Z"
   },
   {
    "duration": 6,
    "start_time": "2021-12-27T12:00:58.266Z"
   },
   {
    "duration": 8,
    "start_time": "2021-12-27T12:00:59.578Z"
   },
   {
    "duration": 7,
    "start_time": "2021-12-27T12:00:59.827Z"
   },
   {
    "duration": 4,
    "start_time": "2021-12-27T12:01:00.054Z"
   },
   {
    "duration": 4,
    "start_time": "2021-12-27T12:01:00.258Z"
   },
   {
    "duration": 39899,
    "start_time": "2021-12-27T12:01:00.470Z"
   },
   {
    "duration": 5,
    "start_time": "2021-12-27T12:01:40.371Z"
   },
   {
    "duration": 12,
    "start_time": "2021-12-27T12:01:40.378Z"
   },
   {
    "duration": 3,
    "start_time": "2021-12-27T12:01:40.392Z"
   },
   {
    "duration": 12,
    "start_time": "2021-12-27T12:01:40.397Z"
   },
   {
    "duration": 30,
    "start_time": "2021-12-27T12:01:40.411Z"
   },
   {
    "duration": 3,
    "start_time": "2021-12-27T12:01:40.443Z"
   },
   {
    "duration": 19128,
    "start_time": "2021-12-27T12:01:40.448Z"
   },
   {
    "duration": 4,
    "start_time": "2021-12-27T12:01:59.578Z"
   },
   {
    "duration": 9,
    "start_time": "2021-12-27T12:01:59.583Z"
   },
   {
    "duration": 3,
    "start_time": "2021-12-27T12:01:59.593Z"
   },
   {
    "duration": 42819,
    "start_time": "2021-12-27T12:01:59.598Z"
   },
   {
    "duration": 10,
    "start_time": "2021-12-27T12:02:42.419Z"
   },
   {
    "duration": 13,
    "start_time": "2021-12-27T12:02:42.431Z"
   },
   {
    "duration": 16,
    "start_time": "2021-12-27T12:02:42.446Z"
   },
   {
    "duration": 16,
    "start_time": "2021-12-27T12:02:42.464Z"
   },
   {
    "duration": 17,
    "start_time": "2021-12-27T12:02:42.482Z"
   },
   {
    "duration": 45,
    "start_time": "2021-12-27T12:02:42.501Z"
   },
   {
    "duration": 11,
    "start_time": "2021-12-27T12:02:42.548Z"
   },
   {
    "duration": 30,
    "start_time": "2021-12-27T12:02:42.561Z"
   },
   {
    "duration": 19,
    "start_time": "2021-12-27T12:02:42.593Z"
   },
   {
    "duration": 9229,
    "start_time": "2021-12-27T12:02:42.614Z"
   },
   {
    "duration": 12,
    "start_time": "2021-12-27T12:02:51.846Z"
   },
   {
    "duration": 7,
    "start_time": "2021-12-27T12:02:51.860Z"
   },
   {
    "duration": 12,
    "start_time": "2021-12-27T12:02:51.868Z"
   },
   {
    "duration": 4,
    "start_time": "2021-12-27T12:02:51.882Z"
   },
   {
    "duration": 12,
    "start_time": "2021-12-27T12:02:51.887Z"
   },
   {
    "duration": 12,
    "start_time": "2021-12-27T12:02:51.900Z"
   },
   {
    "duration": 34,
    "start_time": "2021-12-27T12:02:51.914Z"
   },
   {
    "duration": 4,
    "start_time": "2021-12-27T12:02:51.950Z"
   },
   {
    "duration": 11,
    "start_time": "2021-12-27T12:02:51.955Z"
   },
   {
    "duration": 7,
    "start_time": "2021-12-27T12:02:51.967Z"
   },
   {
    "duration": 13,
    "start_time": "2021-12-27T12:02:51.976Z"
   },
   {
    "duration": 7,
    "start_time": "2021-12-27T12:02:51.990Z"
   },
   {
    "duration": 6,
    "start_time": "2021-12-27T12:02:51.999Z"
   },
   {
    "duration": 20,
    "start_time": "2021-12-27T12:02:52.007Z"
   },
   {
    "duration": 21,
    "start_time": "2021-12-27T12:02:52.029Z"
   },
   {
    "duration": 3,
    "start_time": "2021-12-27T12:03:08.932Z"
   },
   {
    "duration": 10,
    "start_time": "2021-12-27T12:03:12.752Z"
   },
   {
    "duration": 8,
    "start_time": "2021-12-27T12:03:17.392Z"
   },
   {
    "duration": 246,
    "start_time": "2021-12-27T12:04:14.395Z"
   },
   {
    "duration": 11,
    "start_time": "2021-12-27T12:04:30.487Z"
   },
   {
    "duration": 10,
    "start_time": "2021-12-27T12:04:39.509Z"
   },
   {
    "duration": 12,
    "start_time": "2021-12-27T12:04:54.667Z"
   },
   {
    "duration": 10,
    "start_time": "2021-12-27T12:04:56.147Z"
   },
   {
    "duration": 227,
    "start_time": "2021-12-27T12:05:16.559Z"
   },
   {
    "duration": 13,
    "start_time": "2021-12-27T12:05:49.093Z"
   },
   {
    "duration": 18,
    "start_time": "2021-12-27T12:06:32.478Z"
   },
   {
    "duration": 200,
    "start_time": "2021-12-27T12:06:44.135Z"
   },
   {
    "duration": 20,
    "start_time": "2021-12-27T12:06:56.040Z"
   },
   {
    "duration": 3,
    "start_time": "2021-12-27T12:07:18.603Z"
   },
   {
    "duration": 23,
    "start_time": "2021-12-27T12:07:19.574Z"
   },
   {
    "duration": 4,
    "start_time": "2021-12-27T12:07:39.720Z"
   },
   {
    "duration": 11,
    "start_time": "2021-12-27T12:07:40.710Z"
   },
   {
    "duration": 15,
    "start_time": "2021-12-27T12:07:42.114Z"
   },
   {
    "duration": 4,
    "start_time": "2021-12-27T12:08:03.026Z"
   },
   {
    "duration": 15,
    "start_time": "2021-12-27T12:08:03.635Z"
   },
   {
    "duration": 11,
    "start_time": "2021-12-27T12:08:04.382Z"
   },
   {
    "duration": 6,
    "start_time": "2021-12-27T12:08:35.828Z"
   },
   {
    "duration": 10,
    "start_time": "2021-12-27T12:09:40.887Z"
   },
   {
    "duration": 68,
    "start_time": "2021-12-27T12:11:10.848Z"
   },
   {
    "duration": 8,
    "start_time": "2021-12-27T12:14:03.666Z"
   },
   {
    "duration": 19,
    "start_time": "2021-12-27T12:18:25.399Z"
   },
   {
    "duration": 21,
    "start_time": "2021-12-27T12:21:37.434Z"
   },
   {
    "duration": 5,
    "start_time": "2021-12-27T12:24:54.056Z"
   },
   {
    "duration": 7,
    "start_time": "2021-12-27T12:27:40.600Z"
   },
   {
    "duration": 3,
    "start_time": "2021-12-27T12:32:36.675Z"
   },
   {
    "duration": 17,
    "start_time": "2021-12-27T12:33:48.144Z"
   },
   {
    "duration": 11,
    "start_time": "2021-12-27T12:33:58.302Z"
   },
   {
    "duration": 235,
    "start_time": "2021-12-27T12:34:48.246Z"
   },
   {
    "duration": 2,
    "start_time": "2021-12-27T12:35:02.333Z"
   },
   {
    "duration": 56,
    "start_time": "2021-12-27T12:35:02.551Z"
   },
   {
    "duration": 12,
    "start_time": "2021-12-27T12:35:02.776Z"
   },
   {
    "duration": 10,
    "start_time": "2021-12-27T12:35:03.197Z"
   },
   {
    "duration": 4,
    "start_time": "2021-12-27T12:35:03.393Z"
   },
   {
    "duration": 6,
    "start_time": "2021-12-27T12:35:03.596Z"
   },
   {
    "duration": 8,
    "start_time": "2021-12-27T12:35:03.810Z"
   },
   {
    "duration": 5,
    "start_time": "2021-12-27T12:35:04.015Z"
   },
   {
    "duration": 4,
    "start_time": "2021-12-27T12:35:04.219Z"
   },
   {
    "duration": 5,
    "start_time": "2021-12-27T12:35:04.420Z"
   },
   {
    "duration": 4,
    "start_time": "2021-12-27T12:35:04.616Z"
   },
   {
    "duration": 5,
    "start_time": "2021-12-27T12:35:04.828Z"
   },
   {
    "duration": 5,
    "start_time": "2021-12-27T12:35:05.024Z"
   },
   {
    "duration": 4,
    "start_time": "2021-12-27T12:35:05.236Z"
   },
   {
    "duration": 5,
    "start_time": "2021-12-27T12:35:05.450Z"
   },
   {
    "duration": 6,
    "start_time": "2021-12-27T12:35:07.211Z"
   },
   {
    "duration": 6,
    "start_time": "2021-12-27T12:35:07.590Z"
   },
   {
    "duration": 5,
    "start_time": "2021-12-27T12:35:08.215Z"
   },
   {
    "duration": 4,
    "start_time": "2021-12-27T12:35:08.437Z"
   },
   {
    "duration": 39113,
    "start_time": "2021-12-27T12:35:08.665Z"
   },
   {
    "duration": 4,
    "start_time": "2021-12-27T12:35:47.779Z"
   },
   {
    "duration": 12,
    "start_time": "2021-12-27T12:35:47.785Z"
   },
   {
    "duration": 4,
    "start_time": "2021-12-27T12:35:47.798Z"
   },
   {
    "duration": 12,
    "start_time": "2021-12-27T12:35:47.803Z"
   },
   {
    "duration": 29,
    "start_time": "2021-12-27T12:35:47.816Z"
   },
   {
    "duration": 5,
    "start_time": "2021-12-27T12:35:47.847Z"
   },
   {
    "duration": 19640,
    "start_time": "2021-12-27T12:35:47.854Z"
   },
   {
    "duration": 3,
    "start_time": "2021-12-27T12:36:07.496Z"
   },
   {
    "duration": 10,
    "start_time": "2021-12-27T12:36:07.500Z"
   },
   {
    "duration": 5,
    "start_time": "2021-12-27T12:36:07.511Z"
   },
   {
    "duration": 42247,
    "start_time": "2021-12-27T12:36:07.517Z"
   },
   {
    "duration": 8,
    "start_time": "2021-12-27T12:36:49.766Z"
   },
   {
    "duration": 9,
    "start_time": "2021-12-27T12:36:49.776Z"
   },
   {
    "duration": 19,
    "start_time": "2021-12-27T12:36:49.787Z"
   },
   {
    "duration": 41,
    "start_time": "2021-12-27T12:36:49.808Z"
   },
   {
    "duration": 16,
    "start_time": "2021-12-27T12:36:49.852Z"
   },
   {
    "duration": 14,
    "start_time": "2021-12-27T12:36:49.869Z"
   },
   {
    "duration": 10,
    "start_time": "2021-12-27T12:36:49.885Z"
   },
   {
    "duration": 13,
    "start_time": "2021-12-27T12:36:49.896Z"
   },
   {
    "duration": 41,
    "start_time": "2021-12-27T12:36:49.910Z"
   },
   {
    "duration": 10017,
    "start_time": "2021-12-27T12:36:49.952Z"
   },
   {
    "duration": 12,
    "start_time": "2021-12-27T12:36:59.972Z"
   },
   {
    "duration": 24,
    "start_time": "2021-12-27T12:36:59.986Z"
   },
   {
    "duration": 10,
    "start_time": "2021-12-27T12:38:19.906Z"
   },
   {
    "duration": 6,
    "start_time": "2021-12-27T12:38:20.538Z"
   },
   {
    "duration": 12,
    "start_time": "2021-12-27T12:38:22.607Z"
   },
   {
    "duration": 12,
    "start_time": "2021-12-27T12:38:23.444Z"
   },
   {
    "duration": 11,
    "start_time": "2021-12-27T12:38:27.455Z"
   },
   {
    "duration": 5,
    "start_time": "2021-12-27T12:38:28.053Z"
   },
   {
    "duration": 8,
    "start_time": "2021-12-27T12:38:28.495Z"
   },
   {
    "duration": 6,
    "start_time": "2021-12-27T12:39:15.562Z"
   },
   {
    "duration": 8,
    "start_time": "2021-12-27T12:39:16.283Z"
   },
   {
    "duration": 96,
    "start_time": "2021-12-27T12:39:21.653Z"
   },
   {
    "duration": 3,
    "start_time": "2021-12-27T12:39:58.433Z"
   },
   {
    "duration": 18,
    "start_time": "2021-12-27T12:40:03.951Z"
   },
   {
    "duration": 12,
    "start_time": "2021-12-27T12:40:05.563Z"
   },
   {
    "duration": 7,
    "start_time": "2021-12-27T12:40:26.401Z"
   },
   {
    "duration": 8,
    "start_time": "2021-12-27T12:40:40.546Z"
   },
   {
    "duration": 2,
    "start_time": "2021-12-27T12:40:43.932Z"
   },
   {
    "duration": 11,
    "start_time": "2021-12-27T12:40:51.542Z"
   },
   {
    "duration": 8,
    "start_time": "2021-12-27T12:40:52.913Z"
   },
   {
    "duration": 3,
    "start_time": "2021-12-27T12:40:55.483Z"
   },
   {
    "duration": 14,
    "start_time": "2021-12-27T12:40:58.266Z"
   },
   {
    "duration": 12,
    "start_time": "2021-12-27T12:40:58.879Z"
   },
   {
    "duration": 11,
    "start_time": "2021-12-27T12:41:18.266Z"
   },
   {
    "duration": 14,
    "start_time": "2021-12-27T12:41:22.457Z"
   },
   {
    "duration": 13,
    "start_time": "2021-12-27T12:41:26.073Z"
   },
   {
    "duration": 6,
    "start_time": "2021-12-27T12:41:28.752Z"
   },
   {
    "duration": 8,
    "start_time": "2021-12-27T12:41:29.788Z"
   },
   {
    "duration": 22,
    "start_time": "2021-12-27T12:41:42.877Z"
   },
   {
    "duration": 6,
    "start_time": "2021-12-27T12:42:14.205Z"
   },
   {
    "duration": 10,
    "start_time": "2021-12-27T12:42:18.825Z"
   },
   {
    "duration": 29,
    "start_time": "2021-12-27T12:42:30.223Z"
   },
   {
    "duration": 6,
    "start_time": "2021-12-27T12:42:52.791Z"
   },
   {
    "duration": 8,
    "start_time": "2021-12-27T12:44:00.832Z"
   },
   {
    "duration": 22,
    "start_time": "2021-12-27T12:48:22.014Z"
   },
   {
    "duration": 20,
    "start_time": "2021-12-27T12:48:43.563Z"
   },
   {
    "duration": 20,
    "start_time": "2021-12-27T12:49:17.850Z"
   },
   {
    "duration": 20,
    "start_time": "2021-12-27T12:50:09.234Z"
   },
   {
    "duration": 14,
    "start_time": "2021-12-27T12:51:24.418Z"
   },
   {
    "duration": 29,
    "start_time": "2021-12-27T12:52:31.759Z"
   },
   {
    "duration": 28,
    "start_time": "2021-12-27T12:52:50.596Z"
   },
   {
    "duration": 848,
    "start_time": "2021-12-27T16:12:20.356Z"
   },
   {
    "duration": 113,
    "start_time": "2021-12-27T16:12:21.994Z"
   },
   {
    "duration": 31,
    "start_time": "2021-12-27T16:12:23.997Z"
   },
   {
    "duration": 26,
    "start_time": "2021-12-27T16:33:20.457Z"
   },
   {
    "duration": 4,
    "start_time": "2021-12-27T16:41:30.976Z"
   },
   {
    "duration": 105,
    "start_time": "2021-12-27T16:41:31.452Z"
   },
   {
    "duration": 24,
    "start_time": "2021-12-27T16:41:32.041Z"
   },
   {
    "duration": 11,
    "start_time": "2021-12-27T16:41:33.307Z"
   },
   {
    "duration": 7,
    "start_time": "2021-12-27T16:41:33.905Z"
   },
   {
    "duration": 8,
    "start_time": "2021-12-27T16:41:34.365Z"
   },
   {
    "duration": 8,
    "start_time": "2021-12-27T16:41:34.797Z"
   },
   {
    "duration": 8,
    "start_time": "2021-12-27T16:41:35.187Z"
   },
   {
    "duration": 6,
    "start_time": "2021-12-27T16:41:35.529Z"
   },
   {
    "duration": 7,
    "start_time": "2021-12-27T16:41:36.181Z"
   },
   {
    "duration": 7,
    "start_time": "2021-12-27T16:41:36.732Z"
   },
   {
    "duration": 10,
    "start_time": "2021-12-27T16:41:37.108Z"
   },
   {
    "duration": 39,
    "start_time": "2021-12-27T16:41:37.374Z"
   },
   {
    "duration": 22,
    "start_time": "2021-12-27T16:41:37.621Z"
   },
   {
    "duration": 10,
    "start_time": "2021-12-27T16:41:37.899Z"
   },
   {
    "duration": 10,
    "start_time": "2021-12-27T16:41:41.988Z"
   },
   {
    "duration": 11,
    "start_time": "2021-12-27T16:41:42.400Z"
   },
   {
    "duration": 8,
    "start_time": "2021-12-27T16:41:42.768Z"
   },
   {
    "duration": 7,
    "start_time": "2021-12-27T16:41:43.089Z"
   },
   {
    "duration": 83847,
    "start_time": "2021-12-27T16:41:43.491Z"
   },
   {
    "duration": 7,
    "start_time": "2021-12-27T16:43:07.342Z"
   },
   {
    "duration": 198,
    "start_time": "2021-12-27T16:43:07.352Z"
   },
   {
    "duration": 161,
    "start_time": "2021-12-27T16:43:07.554Z"
   },
   {
    "duration": 170,
    "start_time": "2021-12-27T16:43:07.718Z"
   },
   {
    "duration": 268,
    "start_time": "2021-12-27T16:43:07.891Z"
   },
   {
    "duration": 145,
    "start_time": "2021-12-27T16:43:08.161Z"
   },
   {
    "duration": 40440,
    "start_time": "2021-12-27T16:43:08.310Z"
   },
   {
    "duration": 4,
    "start_time": "2021-12-27T16:43:48.754Z"
   },
   {
    "duration": 123,
    "start_time": "2021-12-27T16:43:48.772Z"
   },
   {
    "duration": 171,
    "start_time": "2021-12-27T16:43:48.898Z"
   },
   {
    "duration": 86482,
    "start_time": "2021-12-27T16:43:49.071Z"
   },
   {
    "duration": 23,
    "start_time": "2021-12-27T16:45:15.556Z"
   },
   {
    "duration": 339,
    "start_time": "2021-12-27T16:45:15.582Z"
   },
   {
    "duration": 240,
    "start_time": "2021-12-27T16:45:15.923Z"
   },
   {
    "duration": 281,
    "start_time": "2021-12-27T16:45:16.166Z"
   },
   {
    "duration": 246,
    "start_time": "2021-12-27T16:45:16.450Z"
   },
   {
    "duration": 163,
    "start_time": "2021-12-27T16:45:16.699Z"
   },
   {
    "duration": 280,
    "start_time": "2021-12-27T16:45:16.865Z"
   },
   {
    "duration": 139,
    "start_time": "2021-12-27T16:45:17.149Z"
   },
   {
    "duration": 237,
    "start_time": "2021-12-27T16:45:17.290Z"
   },
   {
    "duration": 16537,
    "start_time": "2021-12-27T16:45:17.529Z"
   },
   {
    "duration": 26,
    "start_time": "2021-12-27T16:45:34.077Z"
   },
   {
    "duration": 150,
    "start_time": "2021-12-27T16:45:34.108Z"
   },
   {
    "duration": 254,
    "start_time": "2021-12-27T16:45:34.261Z"
   },
   {
    "duration": 153,
    "start_time": "2021-12-27T16:45:34.517Z"
   },
   {
    "duration": 168,
    "start_time": "2021-12-27T16:45:34.672Z"
   },
   {
    "duration": 85,
    "start_time": "2021-12-27T16:45:34.843Z"
   },
   {
    "duration": 175,
    "start_time": "2021-12-27T16:45:34.931Z"
   },
   {
    "duration": 259,
    "start_time": "2021-12-27T16:45:35.113Z"
   },
   {
    "duration": 167,
    "start_time": "2021-12-27T16:45:35.374Z"
   },
   {
    "duration": 182,
    "start_time": "2021-12-27T16:45:35.545Z"
   },
   {
    "duration": 146,
    "start_time": "2021-12-27T16:45:35.729Z"
   },
   {
    "duration": 172,
    "start_time": "2021-12-27T16:45:35.880Z"
   },
   {
    "duration": 175,
    "start_time": "2021-12-27T16:45:36.055Z"
   },
   {
    "duration": 137,
    "start_time": "2021-12-27T16:45:36.234Z"
   },
   {
    "duration": 181,
    "start_time": "2021-12-27T16:45:36.374Z"
   },
   {
    "duration": 256,
    "start_time": "2021-12-27T16:45:36.558Z"
   },
   {
    "duration": 214,
    "start_time": "2021-12-27T16:45:36.818Z"
   },
   {
    "duration": 228,
    "start_time": "2021-12-27T16:45:37.036Z"
   },
   {
    "duration": 163,
    "start_time": "2021-12-27T16:45:37.267Z"
   },
   {
    "duration": 223,
    "start_time": "2021-12-27T16:45:37.432Z"
   },
   {
    "duration": 319,
    "start_time": "2021-12-27T16:45:37.658Z"
   },
   {
    "duration": 296,
    "start_time": "2021-12-27T16:45:37.980Z"
   },
   {
    "duration": 238,
    "start_time": "2021-12-27T16:45:38.279Z"
   },
   {
    "duration": 192,
    "start_time": "2021-12-27T16:45:38.520Z"
   },
   {
    "duration": 218,
    "start_time": "2021-12-27T16:45:38.714Z"
   },
   {
    "duration": 266,
    "start_time": "2021-12-27T16:45:38.935Z"
   },
   {
    "duration": 184,
    "start_time": "2021-12-27T16:45:39.205Z"
   },
   {
    "duration": 211,
    "start_time": "2021-12-27T16:45:39.392Z"
   },
   {
    "duration": 190,
    "start_time": "2021-12-27T16:45:39.606Z"
   },
   {
    "duration": 182,
    "start_time": "2021-12-27T16:45:39.799Z"
   },
   {
    "duration": 9,
    "start_time": "2021-12-27T16:47:34.829Z"
   },
   {
    "duration": 16,
    "start_time": "2021-12-27T16:47:40.189Z"
   },
   {
    "duration": 11,
    "start_time": "2021-12-27T16:49:08.072Z"
   },
   {
    "duration": 16,
    "start_time": "2021-12-27T17:05:25.914Z"
   },
   {
    "duration": 9,
    "start_time": "2021-12-27T17:10:32.255Z"
   },
   {
    "duration": 11,
    "start_time": "2021-12-27T17:10:36.457Z"
   },
   {
    "duration": 10,
    "start_time": "2021-12-27T17:19:31.113Z"
   },
   {
    "duration": 12,
    "start_time": "2021-12-27T17:20:41.714Z"
   },
   {
    "duration": 36,
    "start_time": "2021-12-27T17:22:54.118Z"
   },
   {
    "duration": 11,
    "start_time": "2021-12-27T17:41:06.801Z"
   },
   {
    "duration": 14,
    "start_time": "2021-12-27T17:42:00.111Z"
   },
   {
    "duration": 5,
    "start_time": "2021-12-27T17:42:30.072Z"
   },
   {
    "duration": 22,
    "start_time": "2021-12-27T17:42:33.607Z"
   },
   {
    "duration": 21,
    "start_time": "2021-12-27T17:42:38.615Z"
   },
   {
    "duration": 11,
    "start_time": "2021-12-27T17:42:44.206Z"
   },
   {
    "duration": 22,
    "start_time": "2021-12-27T17:42:45.984Z"
   },
   {
    "duration": 9,
    "start_time": "2021-12-27T17:42:48.489Z"
   },
   {
    "duration": 15,
    "start_time": "2021-12-27T17:42:49.150Z"
   },
   {
    "duration": 40,
    "start_time": "2021-12-27T17:42:50.224Z"
   },
   {
    "duration": 11,
    "start_time": "2021-12-27T17:42:53.309Z"
   },
   {
    "duration": 37,
    "start_time": "2021-12-27T17:42:54.228Z"
   },
   {
    "duration": 9,
    "start_time": "2021-12-27T17:43:02.464Z"
   },
   {
    "duration": 15,
    "start_time": "2021-12-27T17:43:06.312Z"
   },
   {
    "duration": 13,
    "start_time": "2021-12-27T17:43:10.950Z"
   },
   {
    "duration": 31,
    "start_time": "2021-12-27T17:43:44.850Z"
   },
   {
    "duration": 15,
    "start_time": "2021-12-27T17:46:44.144Z"
   },
   {
    "duration": 33,
    "start_time": "2021-12-27T17:48:22.181Z"
   },
   {
    "duration": 13,
    "start_time": "2021-12-27T18:59:58.153Z"
   },
   {
    "duration": 5,
    "start_time": "2021-12-27T19:00:33.898Z"
   },
   {
    "duration": 18,
    "start_time": "2021-12-27T19:00:57.036Z"
   },
   {
    "duration": 18,
    "start_time": "2021-12-27T19:00:59.148Z"
   },
   {
    "duration": 15,
    "start_time": "2021-12-27T19:01:10.175Z"
   },
   {
    "duration": 31,
    "start_time": "2021-12-27T19:01:10.886Z"
   },
   {
    "duration": 10,
    "start_time": "2021-12-27T19:01:12.779Z"
   },
   {
    "duration": 11,
    "start_time": "2021-12-27T19:01:13.138Z"
   },
   {
    "duration": 34,
    "start_time": "2021-12-27T19:01:14.323Z"
   },
   {
    "duration": 12,
    "start_time": "2021-12-27T19:01:15.037Z"
   },
   {
    "duration": 66,
    "start_time": "2021-12-27T19:01:15.231Z"
   },
   {
    "duration": 11,
    "start_time": "2021-12-27T19:01:16.325Z"
   },
   {
    "duration": 12,
    "start_time": "2021-12-27T19:01:18.548Z"
   },
   {
    "duration": 12,
    "start_time": "2021-12-27T19:01:36.900Z"
   },
   {
    "duration": 31,
    "start_time": "2021-12-27T19:02:22.457Z"
   },
   {
    "duration": 19,
    "start_time": "2021-12-27T19:31:29.719Z"
   },
   {
    "duration": 3,
    "start_time": "2021-12-27T19:31:34.291Z"
   },
   {
    "duration": 77,
    "start_time": "2021-12-27T19:31:34.987Z"
   },
   {
    "duration": 19,
    "start_time": "2021-12-27T19:31:35.649Z"
   },
   {
    "duration": 13,
    "start_time": "2021-12-27T19:31:36.825Z"
   },
   {
    "duration": 6,
    "start_time": "2021-12-27T19:31:37.367Z"
   },
   {
    "duration": 10,
    "start_time": "2021-12-27T19:31:37.824Z"
   },
   {
    "duration": 10,
    "start_time": "2021-12-27T19:31:38.307Z"
   },
   {
    "duration": 9,
    "start_time": "2021-12-27T19:31:38.787Z"
   },
   {
    "duration": 7,
    "start_time": "2021-12-27T19:31:39.321Z"
   },
   {
    "duration": 8,
    "start_time": "2021-12-27T19:31:40.061Z"
   },
   {
    "duration": 8,
    "start_time": "2021-12-27T19:31:40.499Z"
   },
   {
    "duration": 6,
    "start_time": "2021-12-27T19:31:40.750Z"
   },
   {
    "duration": 32,
    "start_time": "2021-12-27T19:31:40.963Z"
   },
   {
    "duration": 7,
    "start_time": "2021-12-27T19:31:41.324Z"
   },
   {
    "duration": 11,
    "start_time": "2021-12-27T19:31:42.253Z"
   },
   {
    "duration": 37,
    "start_time": "2021-12-27T19:31:45.291Z"
   },
   {
    "duration": 38,
    "start_time": "2021-12-27T19:37:58.644Z"
   },
   {
    "duration": 10,
    "start_time": "2021-12-27T19:39:27.855Z"
   },
   {
    "duration": 9,
    "start_time": "2021-12-27T19:39:28.712Z"
   },
   {
    "duration": 11,
    "start_time": "2021-12-27T19:39:28.957Z"
   },
   {
    "duration": 6,
    "start_time": "2021-12-27T19:39:29.192Z"
   },
   {
    "duration": 79389,
    "start_time": "2021-12-27T19:39:33.153Z"
   },
   {
    "duration": 21,
    "start_time": "2021-12-27T19:40:52.545Z"
   },
   {
    "duration": 159,
    "start_time": "2021-12-27T19:40:52.570Z"
   },
   {
    "duration": 186,
    "start_time": "2021-12-27T19:40:52.731Z"
   },
   {
    "duration": 221,
    "start_time": "2021-12-27T19:40:52.920Z"
   },
   {
    "duration": 250,
    "start_time": "2021-12-27T19:40:53.144Z"
   },
   {
    "duration": 179,
    "start_time": "2021-12-27T19:40:53.397Z"
   },
   {
    "duration": 36630,
    "start_time": "2021-12-27T19:40:53.580Z"
   },
   {
    "duration": 6,
    "start_time": "2021-12-27T19:41:30.212Z"
   },
   {
    "duration": 226,
    "start_time": "2021-12-27T19:41:30.221Z"
   },
   {
    "duration": 206,
    "start_time": "2021-12-27T19:41:30.449Z"
   },
   {
    "duration": 194,
    "start_time": "2021-12-27T19:42:49.073Z"
   },
   {
    "duration": 282,
    "start_time": "2021-12-27T19:42:49.270Z"
   },
   {
    "duration": 154,
    "start_time": "2021-12-27T19:42:49.555Z"
   },
   {
    "duration": 186,
    "start_time": "2021-12-27T19:42:49.712Z"
   },
   {
    "duration": 266,
    "start_time": "2021-12-27T19:42:49.901Z"
   },
   {
    "duration": 207,
    "start_time": "2021-12-27T19:42:50.171Z"
   },
   {
    "duration": 224,
    "start_time": "2021-12-27T19:42:50.380Z"
   },
   {
    "duration": 216,
    "start_time": "2021-12-27T19:42:50.608Z"
   },
   {
    "duration": 182,
    "start_time": "2021-12-27T19:42:50.830Z"
   },
   {
    "duration": 192,
    "start_time": "2021-12-27T19:42:51.015Z"
   },
   {
    "duration": 220,
    "start_time": "2021-12-27T19:42:51.209Z"
   },
   {
    "duration": 203,
    "start_time": "2021-12-27T19:42:51.432Z"
   },
   {
    "duration": 213,
    "start_time": "2021-12-27T19:42:51.637Z"
   },
   {
    "duration": 246,
    "start_time": "2021-12-27T19:42:51.852Z"
   },
   {
    "duration": 248,
    "start_time": "2021-12-27T19:42:52.100Z"
   },
   {
    "duration": 227,
    "start_time": "2021-12-27T19:42:52.351Z"
   },
   {
    "duration": 271,
    "start_time": "2021-12-27T19:42:52.581Z"
   },
   {
    "duration": 178,
    "start_time": "2021-12-27T19:42:52.854Z"
   },
   {
    "duration": 190,
    "start_time": "2021-12-27T19:42:53.035Z"
   },
   {
    "duration": 159,
    "start_time": "2021-12-27T19:42:53.228Z"
   },
   {
    "duration": 97747,
    "start_time": "2021-12-27T19:42:53.390Z"
   },
   {
    "duration": 7,
    "start_time": "2021-12-27T19:44:31.140Z"
   },
   {
    "duration": 273,
    "start_time": "2021-12-27T19:44:31.150Z"
   },
   {
    "duration": 158,
    "start_time": "2021-12-27T19:44:31.425Z"
   },
   {
    "duration": 161,
    "start_time": "2021-12-27T19:44:31.586Z"
   },
   {
    "duration": 158,
    "start_time": "2021-12-27T19:44:31.750Z"
   },
   {
    "duration": 201,
    "start_time": "2021-12-27T19:44:31.910Z"
   },
   {
    "duration": 36082,
    "start_time": "2021-12-27T19:44:32.114Z"
   },
   {
    "duration": 5,
    "start_time": "2021-12-27T19:45:08.198Z"
   },
   {
    "duration": 257,
    "start_time": "2021-12-27T19:45:08.206Z"
   },
   {
    "duration": 275,
    "start_time": "2021-12-27T19:45:08.466Z"
   },
   {
    "duration": 87776,
    "start_time": "2021-12-27T19:45:08.743Z"
   },
   {
    "duration": 15,
    "start_time": "2021-12-27T19:46:36.526Z"
   },
   {
    "duration": 189,
    "start_time": "2021-12-27T19:46:36.544Z"
   },
   {
    "duration": 214,
    "start_time": "2021-12-27T19:46:36.736Z"
   },
   {
    "duration": 230,
    "start_time": "2021-12-27T19:46:36.953Z"
   },
   {
    "duration": 174,
    "start_time": "2021-12-27T19:46:37.186Z"
   },
   {
    "duration": 318,
    "start_time": "2021-12-27T19:46:37.363Z"
   },
   {
    "duration": 198,
    "start_time": "2021-12-27T19:46:37.684Z"
   },
   {
    "duration": 273,
    "start_time": "2021-12-27T19:46:37.885Z"
   },
   {
    "duration": 199,
    "start_time": "2021-12-27T19:46:38.161Z"
   },
   {
    "duration": 18235,
    "start_time": "2021-12-27T19:46:38.363Z"
   },
   {
    "duration": 20,
    "start_time": "2021-12-27T19:46:56.601Z"
   },
   {
    "duration": 202,
    "start_time": "2021-12-27T19:46:56.625Z"
   },
   {
    "duration": 193,
    "start_time": "2021-12-27T19:46:56.830Z"
   },
   {
    "duration": 192,
    "start_time": "2021-12-27T19:46:57.026Z"
   },
   {
    "duration": 281,
    "start_time": "2021-12-27T19:46:57.221Z"
   },
   {
    "duration": 204,
    "start_time": "2021-12-27T19:46:57.504Z"
   },
   {
    "duration": 272,
    "start_time": "2021-12-27T19:46:57.710Z"
   },
   {
    "duration": 203,
    "start_time": "2021-12-27T19:46:57.985Z"
   },
   {
    "duration": 189,
    "start_time": "2021-12-27T19:46:58.191Z"
   },
   {
    "duration": 222,
    "start_time": "2021-12-27T19:46:58.382Z"
   },
   {
    "duration": 188,
    "start_time": "2021-12-27T19:46:58.607Z"
   },
   {
    "duration": 209,
    "start_time": "2021-12-27T19:46:58.798Z"
   },
   {
    "duration": 209,
    "start_time": "2021-12-27T19:46:59.010Z"
   },
   {
    "duration": 262,
    "start_time": "2021-12-27T19:46:59.222Z"
   },
   {
    "duration": 195,
    "start_time": "2021-12-27T19:46:59.486Z"
   },
   {
    "duration": 319,
    "start_time": "2021-12-27T19:46:59.684Z"
   },
   {
    "duration": 278,
    "start_time": "2021-12-27T19:47:00.005Z"
   },
   {
    "duration": 395,
    "start_time": "2021-12-27T19:47:00.286Z"
   },
   {
    "duration": 326,
    "start_time": "2021-12-27T19:47:00.684Z"
   },
   {
    "duration": 352,
    "start_time": "2021-12-27T19:47:01.014Z"
   },
   {
    "duration": 295,
    "start_time": "2021-12-27T19:47:01.370Z"
   },
   {
    "duration": 345,
    "start_time": "2021-12-27T19:47:01.669Z"
   },
   {
    "duration": 290,
    "start_time": "2021-12-27T19:47:02.018Z"
   },
   {
    "duration": 366,
    "start_time": "2021-12-27T19:47:02.311Z"
   },
   {
    "duration": 441,
    "start_time": "2021-12-27T19:47:02.681Z"
   },
   {
    "duration": 328,
    "start_time": "2021-12-27T19:47:03.125Z"
   },
   {
    "duration": 287,
    "start_time": "2021-12-27T19:47:03.457Z"
   },
   {
    "duration": 217,
    "start_time": "2021-12-27T19:47:03.748Z"
   },
   {
    "duration": 230,
    "start_time": "2021-12-27T19:47:03.968Z"
   },
   {
    "duration": 355,
    "start_time": "2021-12-27T19:47:04.201Z"
   },
   {
    "duration": 207,
    "start_time": "2021-12-27T19:47:04.560Z"
   },
   {
    "duration": 274,
    "start_time": "2021-12-27T19:47:04.771Z"
   },
   {
    "duration": 760,
    "start_time": "2021-12-28T17:52:34.974Z"
   },
   {
    "duration": 75,
    "start_time": "2021-12-28T17:52:35.737Z"
   },
   {
    "duration": 46,
    "start_time": "2021-12-28T17:52:35.815Z"
   },
   {
    "duration": 19,
    "start_time": "2021-12-28T17:52:35.864Z"
   },
   {
    "duration": 7,
    "start_time": "2021-12-28T17:52:35.886Z"
   },
   {
    "duration": 18,
    "start_time": "2021-12-28T17:52:35.895Z"
   },
   {
    "duration": 7,
    "start_time": "2021-12-28T17:52:35.917Z"
   },
   {
    "duration": 36,
    "start_time": "2021-12-28T17:52:35.929Z"
   },
   {
    "duration": 5,
    "start_time": "2021-12-28T17:52:35.970Z"
   },
   {
    "duration": 10,
    "start_time": "2021-12-28T17:52:35.978Z"
   },
   {
    "duration": 12,
    "start_time": "2021-12-28T17:52:35.990Z"
   },
   {
    "duration": 8,
    "start_time": "2021-12-28T17:52:36.004Z"
   },
   {
    "duration": 46,
    "start_time": "2021-12-28T17:52:36.015Z"
   },
   {
    "duration": 7,
    "start_time": "2021-12-28T17:52:36.064Z"
   },
   {
    "duration": 19,
    "start_time": "2021-12-28T17:52:36.073Z"
   },
   {
    "duration": 65,
    "start_time": "2021-12-28T17:52:36.094Z"
   },
   {
    "duration": 12,
    "start_time": "2021-12-28T17:52:36.163Z"
   },
   {
    "duration": 10,
    "start_time": "2021-12-28T17:52:36.179Z"
   },
   {
    "duration": 10,
    "start_time": "2021-12-28T17:52:36.193Z"
   },
   {
    "duration": 7,
    "start_time": "2021-12-28T17:52:36.207Z"
   },
   {
    "duration": 73641,
    "start_time": "2021-12-28T17:52:36.218Z"
   },
   {
    "duration": 7,
    "start_time": "2021-12-28T17:53:49.866Z"
   },
   {
    "duration": 14,
    "start_time": "2021-12-28T17:53:49.879Z"
   },
   {
    "duration": 11,
    "start_time": "2021-12-28T17:53:49.896Z"
   },
   {
    "duration": 16,
    "start_time": "2021-12-28T17:53:49.910Z"
   },
   {
    "duration": 40,
    "start_time": "2021-12-28T17:53:49.929Z"
   },
   {
    "duration": 15,
    "start_time": "2021-12-28T17:53:49.973Z"
   },
   {
    "duration": 35871,
    "start_time": "2021-12-28T17:53:49.990Z"
   },
   {
    "duration": 4,
    "start_time": "2021-12-28T17:54:25.867Z"
   },
   {
    "duration": 11,
    "start_time": "2021-12-28T17:54:25.874Z"
   },
   {
    "duration": 5,
    "start_time": "2021-12-28T17:54:25.887Z"
   },
   {
    "duration": 86311,
    "start_time": "2021-12-28T17:54:25.894Z"
   },
   {
    "duration": 19,
    "start_time": "2021-12-28T17:55:52.208Z"
   },
   {
    "duration": 30,
    "start_time": "2021-12-28T17:55:52.230Z"
   },
   {
    "duration": 29,
    "start_time": "2021-12-28T17:55:52.263Z"
   },
   {
    "duration": 33,
    "start_time": "2021-12-28T17:55:52.296Z"
   },
   {
    "duration": 64,
    "start_time": "2021-12-28T17:55:52.332Z"
   },
   {
    "duration": 34,
    "start_time": "2021-12-28T17:55:52.400Z"
   },
   {
    "duration": 39,
    "start_time": "2021-12-28T17:55:52.437Z"
   },
   {
    "duration": 8,
    "start_time": "2021-12-28T17:55:52.479Z"
   },
   {
    "duration": 12,
    "start_time": "2021-12-28T17:55:52.489Z"
   },
   {
    "duration": 15153,
    "start_time": "2021-12-28T17:55:52.503Z"
   },
   {
    "duration": 24,
    "start_time": "2021-12-28T17:56:07.660Z"
   },
   {
    "duration": 6,
    "start_time": "2021-12-28T17:56:07.687Z"
   },
   {
    "duration": 21,
    "start_time": "2021-12-28T17:56:07.696Z"
   },
   {
    "duration": 6,
    "start_time": "2021-12-28T17:56:07.719Z"
   },
   {
    "duration": 50,
    "start_time": "2021-12-28T17:56:07.727Z"
   },
   {
    "duration": 19,
    "start_time": "2021-12-28T17:56:07.779Z"
   },
   {
    "duration": 16,
    "start_time": "2021-12-28T17:56:07.800Z"
   },
   {
    "duration": 54,
    "start_time": "2021-12-28T17:56:07.818Z"
   },
   {
    "duration": 10,
    "start_time": "2021-12-28T17:56:07.875Z"
   },
   {
    "duration": 30,
    "start_time": "2021-12-28T17:56:07.888Z"
   },
   {
    "duration": 7,
    "start_time": "2021-12-28T17:56:07.921Z"
   },
   {
    "duration": 42,
    "start_time": "2021-12-28T17:56:07.931Z"
   },
   {
    "duration": 15,
    "start_time": "2021-12-28T17:56:07.976Z"
   },
   {
    "duration": 6,
    "start_time": "2021-12-28T17:56:07.993Z"
   },
   {
    "duration": 19,
    "start_time": "2021-12-28T17:56:08.001Z"
   },
   {
    "duration": 46,
    "start_time": "2021-12-28T17:56:08.023Z"
   },
   {
    "duration": 4,
    "start_time": "2021-12-28T17:56:08.072Z"
   },
   {
    "duration": 28,
    "start_time": "2021-12-28T17:56:08.079Z"
   },
   {
    "duration": 49,
    "start_time": "2021-12-28T17:56:08.110Z"
   },
   {
    "duration": 21,
    "start_time": "2021-12-28T17:56:08.161Z"
   },
   {
    "duration": 23,
    "start_time": "2021-12-28T17:56:08.185Z"
   },
   {
    "duration": 9,
    "start_time": "2021-12-28T17:56:08.211Z"
   },
   {
    "duration": 47,
    "start_time": "2021-12-28T17:56:08.222Z"
   },
   {
    "duration": 36,
    "start_time": "2021-12-28T17:56:08.273Z"
   },
   {
    "duration": 15,
    "start_time": "2021-12-28T17:56:08.312Z"
   },
   {
    "duration": 42,
    "start_time": "2021-12-28T17:56:08.359Z"
   },
   {
    "duration": 8,
    "start_time": "2021-12-28T17:56:08.403Z"
   },
   {
    "duration": 46,
    "start_time": "2021-12-28T17:56:08.413Z"
   },
   {
    "duration": 30,
    "start_time": "2021-12-28T17:56:08.461Z"
   },
   {
    "duration": 13,
    "start_time": "2021-12-28T17:56:08.494Z"
   },
   {
    "duration": 14,
    "start_time": "2021-12-28T17:56:08.509Z"
   },
   {
    "duration": 64,
    "start_time": "2021-12-28T17:56:08.525Z"
   },
   {
    "duration": 11,
    "start_time": "2021-12-28T18:00:17.202Z"
   },
   {
    "duration": 399,
    "start_time": "2021-12-28T18:44:23.323Z"
   },
   {
    "duration": 947,
    "start_time": "2021-12-28T18:44:49.845Z"
   },
   {
    "duration": 92,
    "start_time": "2021-12-28T18:44:50.795Z"
   },
   {
    "duration": 28,
    "start_time": "2021-12-28T18:44:50.893Z"
   },
   {
    "duration": 11,
    "start_time": "2021-12-28T18:44:50.924Z"
   },
   {
    "duration": 29,
    "start_time": "2021-12-28T18:44:50.937Z"
   },
   {
    "duration": 20,
    "start_time": "2021-12-28T18:44:50.968Z"
   },
   {
    "duration": 7,
    "start_time": "2021-12-28T18:44:50.993Z"
   },
   {
    "duration": 8,
    "start_time": "2021-12-28T18:44:51.005Z"
   },
   {
    "duration": 6,
    "start_time": "2021-12-28T18:44:51.016Z"
   },
   {
    "duration": 45,
    "start_time": "2021-12-28T18:44:51.024Z"
   },
   {
    "duration": 10,
    "start_time": "2021-12-28T18:44:51.071Z"
   },
   {
    "duration": 16,
    "start_time": "2021-12-28T18:44:51.084Z"
   },
   {
    "duration": 7,
    "start_time": "2021-12-28T18:44:51.103Z"
   },
   {
    "duration": 7,
    "start_time": "2021-12-28T18:44:51.112Z"
   },
   {
    "duration": 9,
    "start_time": "2021-12-28T18:44:51.121Z"
   },
   {
    "duration": 71,
    "start_time": "2021-12-28T18:44:51.132Z"
   },
   {
    "duration": 8,
    "start_time": "2021-12-28T18:44:51.205Z"
   },
   {
    "duration": 10,
    "start_time": "2021-12-28T18:44:51.216Z"
   },
   {
    "duration": 46,
    "start_time": "2021-12-28T18:44:51.228Z"
   },
   {
    "duration": 13,
    "start_time": "2021-12-28T18:44:51.287Z"
   },
   {
    "duration": 77655,
    "start_time": "2021-12-28T18:44:51.303Z"
   },
   {
    "duration": 14,
    "start_time": "2021-12-28T18:46:08.960Z"
   },
   {
    "duration": 15,
    "start_time": "2021-12-28T18:46:08.980Z"
   },
   {
    "duration": 12,
    "start_time": "2021-12-28T18:46:08.997Z"
   },
   {
    "duration": 16,
    "start_time": "2021-12-28T18:46:09.011Z"
   },
   {
    "duration": 47,
    "start_time": "2021-12-28T18:46:09.029Z"
   },
   {
    "duration": 6,
    "start_time": "2021-12-28T18:46:09.079Z"
   },
   {
    "duration": 37646,
    "start_time": "2021-12-28T18:46:09.087Z"
   },
   {
    "duration": 4,
    "start_time": "2021-12-28T18:46:46.736Z"
   },
   {
    "duration": 29,
    "start_time": "2021-12-28T18:46:46.742Z"
   },
   {
    "duration": 8,
    "start_time": "2021-12-28T18:46:46.773Z"
   },
   {
    "duration": 77939,
    "start_time": "2021-12-28T18:46:46.785Z"
   },
   {
    "duration": 12,
    "start_time": "2021-12-28T18:48:04.727Z"
   },
   {
    "duration": 29,
    "start_time": "2021-12-28T18:48:04.741Z"
   },
   {
    "duration": 24,
    "start_time": "2021-12-28T18:48:04.772Z"
   },
   {
    "duration": 34,
    "start_time": "2021-12-28T18:48:04.799Z"
   },
   {
    "duration": 69,
    "start_time": "2021-12-28T18:48:04.836Z"
   },
   {
    "duration": 33,
    "start_time": "2021-12-28T18:48:04.909Z"
   },
   {
    "duration": 49,
    "start_time": "2021-12-28T18:48:04.946Z"
   },
   {
    "duration": 12,
    "start_time": "2021-12-28T18:48:05.002Z"
   },
   {
    "duration": 25,
    "start_time": "2021-12-28T18:48:05.016Z"
   },
   {
    "duration": 92,
    "start_time": "2021-12-28T19:23:14.788Z"
   },
   {
    "duration": 758,
    "start_time": "2021-12-29T11:55:38.279Z"
   },
   {
    "duration": 77,
    "start_time": "2021-12-29T11:55:39.040Z"
   },
   {
    "duration": 47,
    "start_time": "2021-12-29T11:55:39.121Z"
   },
   {
    "duration": 15,
    "start_time": "2021-12-29T11:55:39.171Z"
   },
   {
    "duration": 6,
    "start_time": "2021-12-29T11:55:39.188Z"
   },
   {
    "duration": 9,
    "start_time": "2021-12-29T11:55:39.196Z"
   },
   {
    "duration": 7,
    "start_time": "2021-12-29T11:55:39.208Z"
   },
   {
    "duration": 47,
    "start_time": "2021-12-29T11:55:39.217Z"
   },
   {
    "duration": 5,
    "start_time": "2021-12-29T11:55:39.269Z"
   },
   {
    "duration": 11,
    "start_time": "2021-12-29T11:55:39.277Z"
   },
   {
    "duration": 8,
    "start_time": "2021-12-29T11:55:39.291Z"
   },
   {
    "duration": 6,
    "start_time": "2021-12-29T11:55:39.302Z"
   },
   {
    "duration": 8,
    "start_time": "2021-12-29T11:55:39.311Z"
   },
   {
    "duration": 7,
    "start_time": "2021-12-29T11:55:39.361Z"
   },
   {
    "duration": 12,
    "start_time": "2021-12-29T11:55:39.371Z"
   },
   {
    "duration": 90,
    "start_time": "2021-12-29T11:55:39.386Z"
   },
   {
    "duration": 11,
    "start_time": "2021-12-29T11:55:39.480Z"
   },
   {
    "duration": 8,
    "start_time": "2021-12-29T11:55:39.494Z"
   },
   {
    "duration": 9,
    "start_time": "2021-12-29T11:55:39.505Z"
   },
   {
    "duration": 46,
    "start_time": "2021-12-29T11:55:39.517Z"
   },
   {
    "duration": 69673,
    "start_time": "2021-12-29T11:55:39.565Z"
   },
   {
    "duration": 17,
    "start_time": "2021-12-29T11:56:49.242Z"
   },
   {
    "duration": 18,
    "start_time": "2021-12-29T11:56:49.262Z"
   },
   {
    "duration": 13,
    "start_time": "2021-12-29T11:56:49.284Z"
   },
   {
    "duration": 14,
    "start_time": "2021-12-29T11:56:49.300Z"
   },
   {
    "duration": 42,
    "start_time": "2021-12-29T11:56:49.317Z"
   },
   {
    "duration": 5,
    "start_time": "2021-12-29T11:56:49.364Z"
   },
   {
    "duration": 34837,
    "start_time": "2021-12-29T11:56:49.371Z"
   },
   {
    "duration": 5,
    "start_time": "2021-12-29T11:57:24.211Z"
   },
   {
    "duration": 13,
    "start_time": "2021-12-29T11:57:24.219Z"
   },
   {
    "duration": 6,
    "start_time": "2021-12-29T11:57:24.259Z"
   },
   {
    "duration": 68843,
    "start_time": "2021-12-29T11:57:24.267Z"
   },
   {
    "duration": 11,
    "start_time": "2021-12-29T11:58:33.113Z"
   },
   {
    "duration": 6,
    "start_time": "2021-12-29T11:58:33.127Z"
   },
   {
    "duration": 9,
    "start_time": "2021-12-29T11:58:39.209Z"
   },
   {
    "duration": 18,
    "start_time": "2021-12-29T11:58:49.329Z"
   },
   {
    "duration": 5,
    "start_time": "2021-12-29T11:59:04.272Z"
   },
   {
    "duration": 14,
    "start_time": "2021-12-29T11:59:09.292Z"
   },
   {
    "duration": 17,
    "start_time": "2021-12-29T11:59:44.336Z"
   },
   {
    "duration": 6,
    "start_time": "2021-12-29T12:00:23.800Z"
   },
   {
    "duration": 28,
    "start_time": "2021-12-29T12:00:24.789Z"
   },
   {
    "duration": 4,
    "start_time": "2021-12-29T12:02:08.964Z"
   },
   {
    "duration": 18,
    "start_time": "2021-12-29T12:02:11.720Z"
   },
   {
    "duration": 6,
    "start_time": "2021-12-29T12:03:37.322Z"
   },
   {
    "duration": 19,
    "start_time": "2021-12-29T12:03:39.124Z"
   },
   {
    "duration": 9,
    "start_time": "2021-12-29T12:06:00.505Z"
   },
   {
    "duration": 9,
    "start_time": "2021-12-29T12:06:18.368Z"
   },
   {
    "duration": 9,
    "start_time": "2021-12-29T12:06:41.916Z"
   },
   {
    "duration": 8,
    "start_time": "2021-12-29T12:06:52.601Z"
   },
   {
    "duration": 8,
    "start_time": "2021-12-29T12:07:19.237Z"
   },
   {
    "duration": 9,
    "start_time": "2021-12-29T12:07:29.054Z"
   },
   {
    "duration": 9,
    "start_time": "2021-12-29T12:07:36.028Z"
   },
   {
    "duration": 9,
    "start_time": "2021-12-29T12:11:06.151Z"
   },
   {
    "duration": 8,
    "start_time": "2021-12-29T12:14:33.375Z"
   },
   {
    "duration": 7,
    "start_time": "2021-12-29T12:14:42.357Z"
   },
   {
    "duration": 8,
    "start_time": "2021-12-29T12:15:17.103Z"
   },
   {
    "duration": 6,
    "start_time": "2021-12-29T12:16:44.292Z"
   },
   {
    "duration": 18,
    "start_time": "2021-12-29T12:16:47.228Z"
   },
   {
    "duration": 8,
    "start_time": "2021-12-29T12:20:00.027Z"
   },
   {
    "duration": 15,
    "start_time": "2021-12-29T12:20:24.194Z"
   },
   {
    "duration": 2847,
    "start_time": "2021-12-29T12:22:30.013Z"
   },
   {
    "duration": 2406,
    "start_time": "2021-12-29T12:22:49.310Z"
   },
   {
    "duration": 5,
    "start_time": "2021-12-29T12:29:08.743Z"
   },
   {
    "duration": 18,
    "start_time": "2021-12-29T12:29:14.740Z"
   },
   {
    "duration": 16,
    "start_time": "2021-12-29T12:29:26.404Z"
   },
   {
    "duration": 15,
    "start_time": "2021-12-29T12:33:38.922Z"
   },
   {
    "duration": 21,
    "start_time": "2021-12-29T12:33:41.591Z"
   },
   {
    "duration": 26,
    "start_time": "2021-12-29T12:33:42.689Z"
   },
   {
    "duration": 26,
    "start_time": "2021-12-29T12:33:44.006Z"
   },
   {
    "duration": 17,
    "start_time": "2021-12-29T12:33:44.600Z"
   },
   {
    "duration": 9,
    "start_time": "2021-12-29T12:33:44.882Z"
   },
   {
    "duration": 10,
    "start_time": "2021-12-29T12:33:49.613Z"
   },
   {
    "duration": 4,
    "start_time": "2021-12-29T12:33:50.699Z"
   },
   {
    "duration": 13787,
    "start_time": "2021-12-29T12:33:54.193Z"
   },
   {
    "duration": 4,
    "start_time": "2021-12-29T12:45:23.618Z"
   },
   {
    "duration": 93,
    "start_time": "2021-12-29T12:45:23.625Z"
   },
   {
    "duration": 51,
    "start_time": "2021-12-29T12:45:23.721Z"
   },
   {
    "duration": 11,
    "start_time": "2021-12-29T12:45:23.775Z"
   },
   {
    "duration": 5,
    "start_time": "2021-12-29T12:45:23.788Z"
   },
   {
    "duration": 7,
    "start_time": "2021-12-29T12:45:23.795Z"
   },
   {
    "duration": 55,
    "start_time": "2021-12-29T12:45:23.805Z"
   },
   {
    "duration": 7,
    "start_time": "2021-12-29T12:45:23.864Z"
   },
   {
    "duration": 5,
    "start_time": "2021-12-29T12:45:23.874Z"
   },
   {
    "duration": 6,
    "start_time": "2021-12-29T12:45:23.881Z"
   },
   {
    "duration": 5,
    "start_time": "2021-12-29T12:45:23.889Z"
   },
   {
    "duration": 8,
    "start_time": "2021-12-29T12:45:23.896Z"
   },
   {
    "duration": 56,
    "start_time": "2021-12-29T12:45:23.906Z"
   },
   {
    "duration": 5,
    "start_time": "2021-12-29T12:45:23.964Z"
   },
   {
    "duration": 9,
    "start_time": "2021-12-29T12:45:23.972Z"
   },
   {
    "duration": 34,
    "start_time": "2021-12-29T12:45:23.984Z"
   },
   {
    "duration": 47,
    "start_time": "2021-12-29T12:45:24.021Z"
   },
   {
    "duration": 9,
    "start_time": "2021-12-29T12:45:24.071Z"
   },
   {
    "duration": 7,
    "start_time": "2021-12-29T12:45:24.083Z"
   },
   {
    "duration": 7,
    "start_time": "2021-12-29T12:45:24.093Z"
   },
   {
    "duration": 69830,
    "start_time": "2021-12-29T12:45:24.103Z"
   },
   {
    "duration": 8,
    "start_time": "2021-12-29T12:46:33.935Z"
   },
   {
    "duration": 14,
    "start_time": "2021-12-29T12:46:33.963Z"
   },
   {
    "duration": 6,
    "start_time": "2021-12-29T12:46:33.981Z"
   },
   {
    "duration": 18,
    "start_time": "2021-12-29T12:46:33.990Z"
   },
   {
    "duration": 49,
    "start_time": "2021-12-29T12:46:34.010Z"
   },
   {
    "duration": 4,
    "start_time": "2021-12-29T12:46:34.062Z"
   },
   {
    "duration": 34342,
    "start_time": "2021-12-29T12:46:34.069Z"
   },
   {
    "duration": 5,
    "start_time": "2021-12-29T12:47:08.413Z"
   },
   {
    "duration": 10,
    "start_time": "2021-12-29T12:47:08.420Z"
   },
   {
    "duration": 30,
    "start_time": "2021-12-29T12:47:08.432Z"
   },
   {
    "duration": 71372,
    "start_time": "2021-12-29T12:47:08.464Z"
   },
   {
    "duration": 20,
    "start_time": "2021-12-29T12:48:19.839Z"
   },
   {
    "duration": 7,
    "start_time": "2021-12-29T12:48:19.862Z"
   },
   {
    "duration": 6,
    "start_time": "2021-12-29T12:48:19.872Z"
   },
   {
    "duration": 18,
    "start_time": "2021-12-29T12:48:19.880Z"
   },
   {
    "duration": 71,
    "start_time": "2021-12-29T12:48:19.901Z"
   },
   {
    "duration": 24,
    "start_time": "2021-12-29T12:48:19.975Z"
   },
   {
    "duration": 21,
    "start_time": "2021-12-29T12:48:20.002Z"
   },
   {
    "duration": 40,
    "start_time": "2021-12-29T12:48:20.025Z"
   },
   {
    "duration": 16,
    "start_time": "2021-12-29T12:48:20.067Z"
   },
   {
    "duration": 25,
    "start_time": "2021-12-29T12:48:20.085Z"
   },
   {
    "duration": 4,
    "start_time": "2021-12-29T12:48:20.112Z"
   },
   {
    "duration": 14029,
    "start_time": "2021-12-29T12:48:20.118Z"
   },
   {
    "duration": 22,
    "start_time": "2021-12-29T12:48:34.149Z"
   },
   {
    "duration": 7,
    "start_time": "2021-12-29T12:48:34.173Z"
   },
   {
    "duration": 27,
    "start_time": "2021-12-29T12:48:34.183Z"
   },
   {
    "duration": 6,
    "start_time": "2021-12-29T12:48:34.212Z"
   },
   {
    "duration": 44,
    "start_time": "2021-12-29T12:48:34.220Z"
   },
   {
    "duration": 24,
    "start_time": "2021-12-29T12:48:34.267Z"
   },
   {
    "duration": 16,
    "start_time": "2021-12-29T12:48:34.294Z"
   },
   {
    "duration": 15,
    "start_time": "2021-12-29T12:48:34.312Z"
   },
   {
    "duration": 29,
    "start_time": "2021-12-29T12:48:34.330Z"
   },
   {
    "duration": 45,
    "start_time": "2021-12-29T12:48:34.361Z"
   },
   {
    "duration": 12,
    "start_time": "2021-12-29T12:48:34.408Z"
   },
   {
    "duration": 14,
    "start_time": "2021-12-29T12:48:34.422Z"
   },
   {
    "duration": 21,
    "start_time": "2021-12-29T12:48:34.439Z"
   },
   {
    "duration": 5,
    "start_time": "2021-12-29T12:48:34.462Z"
   },
   {
    "duration": 17,
    "start_time": "2021-12-29T12:48:34.469Z"
   },
   {
    "duration": 16,
    "start_time": "2021-12-29T12:48:34.489Z"
   },
   {
    "duration": 17,
    "start_time": "2021-12-29T12:48:49.310Z"
   },
   {
    "duration": 324,
    "start_time": "2021-12-29T13:01:35.568Z"
   },
   {
    "duration": 4,
    "start_time": "2021-12-29T13:01:40.210Z"
   },
   {
    "duration": 325,
    "start_time": "2021-12-29T13:01:41.143Z"
   },
   {
    "duration": 358,
    "start_time": "2021-12-29T13:01:51.293Z"
   },
   {
    "duration": 58,
    "start_time": "2021-12-29T13:07:16.599Z"
   },
   {
    "duration": 372,
    "start_time": "2021-12-29T13:09:49.805Z"
   },
   {
    "duration": 49,
    "start_time": "2021-12-29T13:09:57.998Z"
   },
   {
    "duration": 498,
    "start_time": "2021-12-29T13:11:46.752Z"
   },
   {
    "duration": 57,
    "start_time": "2021-12-29T13:12:28.899Z"
   },
   {
    "duration": 652,
    "start_time": "2021-12-29T13:14:06.924Z"
   },
   {
    "duration": 56,
    "start_time": "2021-12-29T13:14:13.381Z"
   },
   {
    "duration": 387,
    "start_time": "2021-12-29T13:22:15.946Z"
   },
   {
    "duration": 11,
    "start_time": "2021-12-29T13:22:30.034Z"
   },
   {
    "duration": 111,
    "start_time": "2021-12-29T13:24:11.065Z"
   },
   {
    "duration": 448,
    "start_time": "2021-12-29T13:24:17.532Z"
   },
   {
    "duration": 338,
    "start_time": "2021-12-29T13:24:26.690Z"
   },
   {
    "duration": 331,
    "start_time": "2021-12-29T13:24:54.091Z"
   },
   {
    "duration": 48,
    "start_time": "2021-12-29T13:25:22.213Z"
   },
   {
    "duration": 4,
    "start_time": "2021-12-29T13:32:47.025Z"
   },
   {
    "duration": 12,
    "start_time": "2021-12-29T13:32:48.744Z"
   },
   {
    "duration": 31,
    "start_time": "2021-12-29T13:33:30.561Z"
   },
   {
    "duration": 437,
    "start_time": "2021-12-29T13:34:33.017Z"
   },
   {
    "duration": 32,
    "start_time": "2021-12-29T13:34:46.436Z"
   },
   {
    "duration": 420,
    "start_time": "2021-12-29T13:39:36.823Z"
   },
   {
    "duration": 52,
    "start_time": "2021-12-29T13:40:23.754Z"
   },
   {
    "duration": 28,
    "start_time": "2021-12-29T13:41:10.340Z"
   },
   {
    "duration": 8761,
    "start_time": "2021-12-29T13:41:59.418Z"
   },
   {
    "duration": 9536,
    "start_time": "2021-12-29T13:42:28.156Z"
   },
   {
    "duration": 398,
    "start_time": "2021-12-29T13:42:51.297Z"
   },
   {
    "duration": 340,
    "start_time": "2021-12-29T13:45:14.031Z"
   },
   {
    "duration": 33,
    "start_time": "2021-12-29T13:45:25.001Z"
   },
   {
    "duration": 329,
    "start_time": "2021-12-29T13:45:37.213Z"
   },
   {
    "duration": 31,
    "start_time": "2021-12-29T13:45:49.131Z"
   },
   {
    "duration": 360,
    "start_time": "2021-12-29T13:46:15.939Z"
   },
   {
    "duration": 32,
    "start_time": "2021-12-29T13:46:23.301Z"
   },
   {
    "duration": 327,
    "start_time": "2021-12-29T13:48:15.630Z"
   },
   {
    "duration": 11,
    "start_time": "2021-12-29T13:48:32.943Z"
   },
   {
    "duration": 356,
    "start_time": "2021-12-29T14:09:33.434Z"
   },
   {
    "duration": 8637,
    "start_time": "2021-12-29T14:11:23.684Z"
   },
   {
    "duration": 30,
    "start_time": "2021-12-29T14:11:36.481Z"
   },
   {
    "duration": 32,
    "start_time": "2021-12-29T14:13:46.583Z"
   },
   {
    "duration": 8648,
    "start_time": "2021-12-29T14:14:30.200Z"
   },
   {
    "duration": 8872,
    "start_time": "2021-12-29T14:14:40.305Z"
   },
   {
    "duration": 33,
    "start_time": "2021-12-29T14:14:59.951Z"
   },
   {
    "duration": 33,
    "start_time": "2021-12-29T14:15:19.196Z"
   },
   {
    "duration": 334,
    "start_time": "2021-12-29T14:17:36.810Z"
   },
   {
    "duration": 5,
    "start_time": "2021-12-29T14:18:07.017Z"
   },
   {
    "duration": 341,
    "start_time": "2021-12-29T14:21:53.326Z"
   },
   {
    "duration": 321,
    "start_time": "2021-12-29T14:22:15.116Z"
   },
   {
    "duration": 7636,
    "start_time": "2021-12-29T14:22:59.687Z"
   },
   {
    "duration": 6,
    "start_time": "2021-12-29T14:24:16.190Z"
   },
   {
    "duration": 351,
    "start_time": "2021-12-29T14:27:15.504Z"
   },
   {
    "duration": 13,
    "start_time": "2021-12-29T14:27:26.143Z"
   },
   {
    "duration": 6,
    "start_time": "2021-12-29T14:28:20.976Z"
   },
   {
    "duration": 12,
    "start_time": "2021-12-29T14:28:48.235Z"
   },
   {
    "duration": 5222,
    "start_time": "2021-12-29T14:34:17.741Z"
   },
   {
    "duration": 5488,
    "start_time": "2021-12-29T14:34:33.719Z"
   },
   {
    "duration": 5555,
    "start_time": "2021-12-29T14:36:40.809Z"
   },
   {
    "duration": 463,
    "start_time": "2021-12-29T14:40:07.682Z"
   },
   {
    "duration": 354,
    "start_time": "2021-12-29T14:42:12.605Z"
   },
   {
    "duration": 110,
    "start_time": "2021-12-29T14:42:58.821Z"
   },
   {
    "duration": 368,
    "start_time": "2021-12-29T14:50:31.248Z"
   },
   {
    "duration": 5,
    "start_time": "2021-12-29T14:55:43.076Z"
   },
   {
    "duration": 12,
    "start_time": "2021-12-29T14:59:11.902Z"
   },
   {
    "duration": 11,
    "start_time": "2021-12-29T14:59:46.432Z"
   },
   {
    "duration": 15,
    "start_time": "2021-12-29T15:00:13.279Z"
   },
   {
    "duration": 341,
    "start_time": "2021-12-29T15:00:53.067Z"
   },
   {
    "duration": 11,
    "start_time": "2021-12-29T15:01:26.560Z"
   },
   {
    "duration": 13,
    "start_time": "2021-12-29T15:01:42.375Z"
   },
   {
    "duration": 380,
    "start_time": "2021-12-29T15:02:10.907Z"
   },
   {
    "duration": 14,
    "start_time": "2021-12-29T15:02:47.255Z"
   },
   {
    "duration": 4,
    "start_time": "2021-12-29T15:02:52.457Z"
   },
   {
    "duration": 15,
    "start_time": "2021-12-29T15:02:53.340Z"
   },
   {
    "duration": 7,
    "start_time": "2021-12-29T15:04:54.858Z"
   },
   {
    "duration": 339,
    "start_time": "2021-12-29T15:05:49.368Z"
   },
   {
    "duration": 7,
    "start_time": "2021-12-29T15:06:16.124Z"
   },
   {
    "duration": 12,
    "start_time": "2021-12-29T15:10:19.121Z"
   },
   {
    "duration": 5,
    "start_time": "2021-12-29T15:10:19.773Z"
   },
   {
    "duration": 15,
    "start_time": "2021-12-29T15:10:20.491Z"
   },
   {
    "duration": 11,
    "start_time": "2021-12-29T15:10:22.895Z"
   },
   {
    "duration": 4,
    "start_time": "2021-12-29T15:10:23.447Z"
   },
   {
    "duration": 17,
    "start_time": "2021-12-29T15:10:24.363Z"
   },
   {
    "duration": 19,
    "start_time": "2021-12-29T15:10:26.132Z"
   },
   {
    "duration": 15,
    "start_time": "2021-12-29T15:10:29.738Z"
   },
   {
    "duration": 22,
    "start_time": "2021-12-29T15:10:44.370Z"
   },
   {
    "duration": 366,
    "start_time": "2021-12-29T15:11:26.173Z"
   },
   {
    "duration": 604,
    "start_time": "2021-12-29T15:11:53.861Z"
   },
   {
    "duration": 483,
    "start_time": "2021-12-29T15:12:39.877Z"
   },
   {
    "duration": 326,
    "start_time": "2021-12-29T15:12:59.604Z"
   },
   {
    "duration": 10,
    "start_time": "2021-12-29T15:13:50.845Z"
   },
   {
    "duration": 12,
    "start_time": "2021-12-29T15:14:20.389Z"
   },
   {
    "duration": 12,
    "start_time": "2021-12-29T15:14:43.122Z"
   },
   {
    "duration": 11,
    "start_time": "2021-12-29T15:14:51.540Z"
   },
   {
    "duration": 12,
    "start_time": "2021-12-29T15:14:56.821Z"
   },
   {
    "duration": 9,
    "start_time": "2021-12-29T15:16:53.405Z"
   },
   {
    "duration": 8812,
    "start_time": "2021-12-29T15:17:27.485Z"
   },
   {
    "duration": 8943,
    "start_time": "2021-12-29T15:17:48.286Z"
   },
   {
    "duration": 9,
    "start_time": "2021-12-29T15:18:11.450Z"
   },
   {
    "duration": 9,
    "start_time": "2021-12-29T15:18:57.519Z"
   },
   {
    "duration": 7,
    "start_time": "2021-12-29T15:19:13.608Z"
   },
   {
    "duration": 20,
    "start_time": "2021-12-29T15:19:37.708Z"
   },
   {
    "duration": 20,
    "start_time": "2021-12-29T15:20:00.270Z"
   },
   {
    "duration": 10,
    "start_time": "2021-12-29T15:27:36.184Z"
   },
   {
    "duration": 18,
    "start_time": "2021-12-29T15:27:55.076Z"
   },
   {
    "duration": 332,
    "start_time": "2021-12-29T17:49:33.360Z"
   },
   {
    "duration": 632,
    "start_time": "2021-12-29T17:49:43.339Z"
   },
   {
    "duration": 55,
    "start_time": "2021-12-29T17:49:43.973Z"
   },
   {
    "duration": 19,
    "start_time": "2021-12-29T17:49:44.030Z"
   },
   {
    "duration": 17,
    "start_time": "2021-12-29T17:49:44.052Z"
   },
   {
    "duration": 5,
    "start_time": "2021-12-29T17:49:44.071Z"
   },
   {
    "duration": 7,
    "start_time": "2021-12-29T17:49:44.078Z"
   },
   {
    "duration": 6,
    "start_time": "2021-12-29T17:49:44.087Z"
   },
   {
    "duration": 7,
    "start_time": "2021-12-29T17:49:44.094Z"
   },
   {
    "duration": 5,
    "start_time": "2021-12-29T17:49:44.104Z"
   },
   {
    "duration": 37,
    "start_time": "2021-12-29T17:49:44.111Z"
   },
   {
    "duration": 16,
    "start_time": "2021-12-29T17:49:44.150Z"
   },
   {
    "duration": 8,
    "start_time": "2021-12-29T17:49:44.168Z"
   },
   {
    "duration": 6,
    "start_time": "2021-12-29T17:49:44.178Z"
   },
   {
    "duration": 8,
    "start_time": "2021-12-29T17:49:44.185Z"
   },
   {
    "duration": 10,
    "start_time": "2021-12-29T17:49:44.195Z"
   },
   {
    "duration": 57,
    "start_time": "2021-12-29T17:49:44.206Z"
   },
   {
    "duration": 6,
    "start_time": "2021-12-29T17:49:44.264Z"
   },
   {
    "duration": 9,
    "start_time": "2021-12-29T17:49:44.271Z"
   },
   {
    "duration": 5,
    "start_time": "2021-12-29T17:49:44.281Z"
   },
   {
    "duration": 7,
    "start_time": "2021-12-29T17:49:44.287Z"
   },
   {
    "duration": 50940,
    "start_time": "2021-12-29T17:49:44.295Z"
   },
   {
    "duration": 5,
    "start_time": "2021-12-29T17:50:35.237Z"
   },
   {
    "duration": 89,
    "start_time": "2021-12-29T17:50:35.245Z"
   },
   {
    "duration": 29,
    "start_time": "2021-12-29T17:50:35.336Z"
   },
   {
    "duration": 11,
    "start_time": "2021-12-29T17:50:35.367Z"
   },
   {
    "duration": 7,
    "start_time": "2021-12-29T17:50:35.381Z"
   },
   {
    "duration": 4,
    "start_time": "2021-12-29T17:50:35.392Z"
   },
   {
    "duration": 20908,
    "start_time": "2021-12-29T17:50:35.398Z"
   },
   {
    "duration": 4,
    "start_time": "2021-12-29T17:50:56.308Z"
   },
   {
    "duration": 9,
    "start_time": "2021-12-29T17:50:56.313Z"
   },
   {
    "duration": 3,
    "start_time": "2021-12-29T17:50:56.324Z"
   },
   {
    "duration": 59575,
    "start_time": "2021-12-29T17:50:56.341Z"
   },
   {
    "duration": 10,
    "start_time": "2021-12-29T17:51:55.918Z"
   },
   {
    "duration": 5,
    "start_time": "2021-12-29T17:51:55.941Z"
   },
   {
    "duration": 5,
    "start_time": "2021-12-29T17:51:55.947Z"
   },
   {
    "duration": 14,
    "start_time": "2021-12-29T17:51:55.953Z"
   },
   {
    "duration": 16,
    "start_time": "2021-12-29T17:51:55.968Z"
   },
   {
    "duration": 17,
    "start_time": "2021-12-29T17:51:55.986Z"
   },
   {
    "duration": 43,
    "start_time": "2021-12-29T17:51:56.004Z"
   },
   {
    "duration": 10,
    "start_time": "2021-12-29T17:51:56.049Z"
   },
   {
    "duration": 10,
    "start_time": "2021-12-29T17:51:56.060Z"
   },
   {
    "duration": 8,
    "start_time": "2021-12-29T17:51:56.071Z"
   },
   {
    "duration": 18,
    "start_time": "2021-12-29T17:51:56.080Z"
   },
   {
    "duration": 11543,
    "start_time": "2021-12-29T17:51:56.100Z"
   },
   {
    "duration": 18,
    "start_time": "2021-12-29T17:52:07.645Z"
   },
   {
    "duration": 10,
    "start_time": "2021-12-29T17:52:07.665Z"
   },
   {
    "duration": 23,
    "start_time": "2021-12-29T17:52:07.677Z"
   },
   {
    "duration": 6,
    "start_time": "2021-12-29T17:52:07.702Z"
   },
   {
    "duration": 43,
    "start_time": "2021-12-29T17:52:07.710Z"
   },
   {
    "duration": 24,
    "start_time": "2021-12-29T17:52:07.755Z"
   },
   {
    "duration": 16,
    "start_time": "2021-12-29T17:52:07.783Z"
   },
   {
    "duration": 11,
    "start_time": "2021-12-29T17:52:07.801Z"
   },
   {
    "duration": 42,
    "start_time": "2021-12-29T17:52:07.814Z"
   },
   {
    "duration": 39,
    "start_time": "2021-12-29T17:52:07.858Z"
   },
   {
    "duration": 15,
    "start_time": "2021-12-29T17:52:07.899Z"
   },
   {
    "duration": 17,
    "start_time": "2021-12-29T17:52:07.916Z"
   },
   {
    "duration": 20,
    "start_time": "2021-12-29T17:52:07.935Z"
   },
   {
    "duration": 15,
    "start_time": "2021-12-29T17:52:07.957Z"
   },
   {
    "duration": 19,
    "start_time": "2021-12-29T17:52:07.974Z"
   },
   {
    "duration": 17,
    "start_time": "2021-12-29T17:52:07.995Z"
   },
   {
    "duration": 8,
    "start_time": "2021-12-29T17:52:08.015Z"
   },
   {
    "duration": 25,
    "start_time": "2021-12-29T17:52:08.025Z"
   },
   {
    "duration": 13,
    "start_time": "2021-12-29T17:52:08.052Z"
   },
   {
    "duration": 17,
    "start_time": "2021-12-29T17:52:08.067Z"
   },
   {
    "duration": 12,
    "start_time": "2021-12-29T17:55:18.145Z"
   },
   {
    "duration": 12,
    "start_time": "2021-12-29T17:56:25.541Z"
   },
   {
    "duration": 3,
    "start_time": "2021-12-29T17:57:13.681Z"
   },
   {
    "duration": 11,
    "start_time": "2021-12-29T17:57:15.470Z"
   },
   {
    "duration": 9,
    "start_time": "2021-12-29T17:57:37.128Z"
   },
   {
    "duration": 346,
    "start_time": "2021-12-29T17:57:54.356Z"
   },
   {
    "duration": 69,
    "start_time": "2021-12-29T18:03:50.952Z"
   },
   {
    "duration": 215,
    "start_time": "2021-12-29T18:04:00.103Z"
   },
   {
    "duration": 11,
    "start_time": "2021-12-29T18:04:06.394Z"
   },
   {
    "duration": 14,
    "start_time": "2021-12-29T18:06:08.285Z"
   },
   {
    "duration": 18,
    "start_time": "2021-12-29T18:13:30.258Z"
   },
   {
    "duration": 269,
    "start_time": "2021-12-29T18:16:54.159Z"
   },
   {
    "duration": 8,
    "start_time": "2021-12-29T18:18:40.125Z"
   },
   {
    "duration": 274,
    "start_time": "2021-12-29T18:26:49.196Z"
   },
   {
    "duration": 18,
    "start_time": "2021-12-29T18:27:02.482Z"
   },
   {
    "duration": 7,
    "start_time": "2021-12-29T18:51:21.765Z"
   },
   {
    "duration": 17,
    "start_time": "2021-12-29T18:51:24.626Z"
   },
   {
    "duration": 15,
    "start_time": "2021-12-29T19:05:51.241Z"
   },
   {
    "duration": 15,
    "start_time": "2021-12-29T19:06:00.677Z"
   },
   {
    "duration": 150,
    "start_time": "2021-12-29T19:10:00.241Z"
   },
   {
    "duration": 19,
    "start_time": "2021-12-29T19:10:06.982Z"
   },
   {
    "duration": 199,
    "start_time": "2021-12-29T19:12:04.642Z"
   },
   {
    "duration": 69,
    "start_time": "2021-12-29T19:12:57.109Z"
   },
   {
    "duration": 104,
    "start_time": "2021-12-29T19:13:04.826Z"
   },
   {
    "duration": 69,
    "start_time": "2021-12-29T19:13:14.204Z"
   },
   {
    "duration": 78,
    "start_time": "2021-12-29T19:13:18.555Z"
   },
   {
    "duration": 22,
    "start_time": "2021-12-29T19:13:24.830Z"
   },
   {
    "duration": 16,
    "start_time": "2021-12-29T19:15:45.069Z"
   },
   {
    "duration": 12,
    "start_time": "2021-12-29T19:17:30.986Z"
   },
   {
    "duration": 12,
    "start_time": "2021-12-29T19:17:41.939Z"
   },
   {
    "duration": 13,
    "start_time": "2021-12-29T19:17:53.499Z"
   },
   {
    "duration": 17,
    "start_time": "2021-12-29T19:18:01.870Z"
   },
   {
    "duration": 6076,
    "start_time": "2021-12-29T19:21:49.463Z"
   },
   {
    "duration": 22,
    "start_time": "2021-12-29T19:22:55.413Z"
   },
   {
    "duration": 16,
    "start_time": "2021-12-29T19:29:25.480Z"
   },
   {
    "duration": 15,
    "start_time": "2021-12-29T19:29:40.593Z"
   },
   {
    "duration": 11,
    "start_time": "2021-12-29T19:30:37.433Z"
   },
   {
    "duration": 16,
    "start_time": "2021-12-29T19:30:43.768Z"
   },
   {
    "duration": 17,
    "start_time": "2021-12-29T19:37:05.053Z"
   },
   {
    "duration": 183,
    "start_time": "2021-12-29T19:38:06.717Z"
   },
   {
    "duration": 236,
    "start_time": "2021-12-29T19:38:19.355Z"
   },
   {
    "duration": 8,
    "start_time": "2021-12-29T19:38:30.954Z"
   },
   {
    "duration": 15,
    "start_time": "2021-12-29T19:38:32.323Z"
   },
   {
    "duration": 6,
    "start_time": "2021-12-29T19:40:29.286Z"
   },
   {
    "duration": 212,
    "start_time": "2021-12-29T19:40:34.679Z"
   },
   {
    "duration": 193,
    "start_time": "2021-12-29T19:41:02.660Z"
   },
   {
    "duration": 296,
    "start_time": "2021-12-29T19:41:14.512Z"
   },
   {
    "duration": 206,
    "start_time": "2021-12-29T19:41:18.446Z"
   },
   {
    "duration": 7,
    "start_time": "2021-12-29T19:41:24.773Z"
   },
   {
    "duration": 259,
    "start_time": "2021-12-29T19:41:26.430Z"
   },
   {
    "duration": 24,
    "start_time": "2021-12-29T19:41:46.647Z"
   },
   {
    "duration": 7,
    "start_time": "2021-12-29T19:41:49.529Z"
   },
   {
    "duration": 13,
    "start_time": "2021-12-29T19:41:50.408Z"
   },
   {
    "duration": 13,
    "start_time": "2021-12-29T19:42:37.866Z"
   },
   {
    "duration": 212,
    "start_time": "2021-12-29T19:43:53.220Z"
   },
   {
    "duration": 210,
    "start_time": "2021-12-29T19:43:58.824Z"
   },
   {
    "duration": 17,
    "start_time": "2021-12-29T19:44:23.280Z"
   },
   {
    "duration": 7,
    "start_time": "2021-12-29T19:44:24.870Z"
   },
   {
    "duration": 12,
    "start_time": "2021-12-29T19:44:25.719Z"
   },
   {
    "duration": 7,
    "start_time": "2021-12-29T19:45:53.893Z"
   },
   {
    "duration": 94,
    "start_time": "2021-12-29T19:45:54.619Z"
   },
   {
    "duration": 26,
    "start_time": "2021-12-29T19:46:08.292Z"
   },
   {
    "duration": 8,
    "start_time": "2021-12-29T19:52:20.822Z"
   },
   {
    "duration": 45,
    "start_time": "2021-12-29T19:52:23.792Z"
   },
   {
    "duration": 43,
    "start_time": "2021-12-29T19:53:25.624Z"
   },
   {
    "duration": 237,
    "start_time": "2021-12-29T19:55:07.524Z"
   },
   {
    "duration": 244,
    "start_time": "2021-12-29T19:56:03.979Z"
   },
   {
    "duration": 231,
    "start_time": "2021-12-29T19:58:14.574Z"
   },
   {
    "duration": 50,
    "start_time": "2021-12-29T19:58:20.812Z"
   },
   {
    "duration": 30,
    "start_time": "2021-12-29T19:58:54.488Z"
   },
   {
    "duration": 37,
    "start_time": "2021-12-29T20:09:39.519Z"
   },
   {
    "duration": 27,
    "start_time": "2021-12-29T20:18:44.942Z"
   },
   {
    "duration": 135,
    "start_time": "2021-12-29T20:21:18.903Z"
   },
   {
    "duration": 211,
    "start_time": "2021-12-29T20:21:28.385Z"
   },
   {
    "duration": 29,
    "start_time": "2021-12-29T20:21:36.711Z"
   },
   {
    "duration": 63,
    "start_time": "2021-12-29T20:22:42.189Z"
   },
   {
    "duration": 6074,
    "start_time": "2021-12-29T20:30:28.397Z"
   },
   {
    "duration": 29,
    "start_time": "2021-12-29T20:31:06.177Z"
   },
   {
    "duration": 32,
    "start_time": "2021-12-29T20:32:54.385Z"
   },
   {
    "duration": 5506,
    "start_time": "2021-12-29T20:33:40.539Z"
   },
   {
    "duration": 30,
    "start_time": "2021-12-29T20:33:47.057Z"
   },
   {
    "duration": 28,
    "start_time": "2021-12-29T20:34:18.988Z"
   },
   {
    "duration": 39,
    "start_time": "2021-12-29T20:35:51.705Z"
   },
   {
    "duration": 43,
    "start_time": "2021-12-29T20:36:04.365Z"
   },
   {
    "duration": 32,
    "start_time": "2021-12-29T20:36:11.448Z"
   },
   {
    "duration": 36,
    "start_time": "2021-12-29T20:36:32.966Z"
   },
   {
    "duration": 39,
    "start_time": "2021-12-29T20:36:42.091Z"
   },
   {
    "duration": 6639,
    "start_time": "2021-12-29T20:36:57.124Z"
   },
   {
    "duration": 276,
    "start_time": "2021-12-29T20:37:09.963Z"
   },
   {
    "duration": 30,
    "start_time": "2021-12-29T20:37:23.367Z"
   },
   {
    "duration": 67,
    "start_time": "2021-12-29T20:43:22.831Z"
   },
   {
    "duration": 65,
    "start_time": "2021-12-29T20:43:49.218Z"
   },
   {
    "duration": 14,
    "start_time": "2021-12-29T20:43:55.204Z"
   },
   {
    "duration": 16,
    "start_time": "2021-12-29T20:44:17.838Z"
   },
   {
    "duration": 3,
    "start_time": "2021-12-29T20:44:22.703Z"
   },
   {
    "duration": 7,
    "start_time": "2021-12-29T20:44:31.845Z"
   },
   {
    "duration": 4,
    "start_time": "2021-12-29T20:46:08.864Z"
   },
   {
    "duration": 8,
    "start_time": "2021-12-29T20:46:09.816Z"
   },
   {
    "duration": 4,
    "start_time": "2021-12-29T20:46:45.427Z"
   },
   {
    "duration": 7,
    "start_time": "2021-12-29T20:46:46.079Z"
   },
   {
    "duration": 15,
    "start_time": "2021-12-29T20:46:58.769Z"
   },
   {
    "duration": 3,
    "start_time": "2021-12-29T20:46:59.717Z"
   },
   {
    "duration": 3,
    "start_time": "2021-12-29T20:47:00.503Z"
   },
   {
    "duration": 8,
    "start_time": "2021-12-29T20:47:01.505Z"
   },
   {
    "duration": 18,
    "start_time": "2021-12-29T20:47:24.379Z"
   },
   {
    "duration": 2,
    "start_time": "2021-12-29T20:47:26.184Z"
   },
   {
    "duration": 5258,
    "start_time": "2021-12-29T20:47:28.696Z"
   },
   {
    "duration": 61,
    "start_time": "2021-12-29T20:47:33.895Z"
   },
   {
    "duration": 3,
    "start_time": "2021-12-29T20:47:47.909Z"
   },
   {
    "duration": 7,
    "start_time": "2021-12-29T20:47:49.124Z"
   },
   {
    "duration": 62,
    "start_time": "2021-12-29T20:50:06.571Z"
   },
   {
    "duration": 16,
    "start_time": "2021-12-29T20:50:17.334Z"
   },
   {
    "duration": 3,
    "start_time": "2021-12-29T20:51:08.061Z"
   },
   {
    "duration": 3,
    "start_time": "2021-12-29T20:51:08.895Z"
   },
   {
    "duration": 8,
    "start_time": "2021-12-29T20:51:10.463Z"
   },
   {
    "duration": 7,
    "start_time": "2021-12-29T20:51:20.755Z"
   },
   {
    "duration": 12,
    "start_time": "2021-12-29T20:51:22.040Z"
   },
   {
    "duration": 151,
    "start_time": "2021-12-29T20:52:40.301Z"
   },
   {
    "duration": 258,
    "start_time": "2021-12-29T20:52:46.098Z"
   },
   {
    "duration": 7,
    "start_time": "2021-12-29T20:52:56.105Z"
   },
   {
    "duration": 207,
    "start_time": "2021-12-29T20:52:56.914Z"
   },
   {
    "duration": 17,
    "start_time": "2021-12-29T20:53:05.015Z"
   },
   {
    "duration": 3,
    "start_time": "2021-12-29T20:53:05.559Z"
   },
   {
    "duration": 3,
    "start_time": "2021-12-29T20:53:06.076Z"
   },
   {
    "duration": 8,
    "start_time": "2021-12-29T20:53:06.436Z"
   },
   {
    "duration": 7,
    "start_time": "2021-12-29T20:53:08.707Z"
   },
   {
    "duration": 12,
    "start_time": "2021-12-29T20:53:09.618Z"
   },
   {
    "duration": 3,
    "start_time": "2021-12-29T20:55:03.763Z"
   },
   {
    "duration": 4,
    "start_time": "2021-12-29T20:55:04.529Z"
   },
   {
    "duration": 7,
    "start_time": "2021-12-29T20:55:05.298Z"
   },
   {
    "duration": 3,
    "start_time": "2021-12-29T20:55:25.012Z"
   },
   {
    "duration": 7,
    "start_time": "2021-12-29T20:55:26.074Z"
   },
   {
    "duration": 3,
    "start_time": "2021-12-29T20:56:29.029Z"
   },
   {
    "duration": 4,
    "start_time": "2021-12-29T20:56:34.669Z"
   },
   {
    "duration": 8,
    "start_time": "2021-12-29T20:56:35.464Z"
   },
   {
    "duration": 3,
    "start_time": "2021-12-29T20:59:21.829Z"
   },
   {
    "duration": 4,
    "start_time": "2021-12-29T20:59:22.756Z"
   },
   {
    "duration": 7,
    "start_time": "2021-12-29T20:59:23.637Z"
   },
   {
    "duration": 2,
    "start_time": "2021-12-29T21:00:49.919Z"
   },
   {
    "duration": 56,
    "start_time": "2021-12-29T21:00:49.923Z"
   },
   {
    "duration": 9,
    "start_time": "2021-12-29T21:00:49.981Z"
   },
   {
    "duration": 10,
    "start_time": "2021-12-29T21:00:49.992Z"
   },
   {
    "duration": 5,
    "start_time": "2021-12-29T21:00:50.003Z"
   },
   {
    "duration": 34,
    "start_time": "2021-12-29T21:00:50.010Z"
   },
   {
    "duration": 5,
    "start_time": "2021-12-29T21:00:50.046Z"
   },
   {
    "duration": 8,
    "start_time": "2021-12-29T21:00:50.053Z"
   },
   {
    "duration": 8,
    "start_time": "2021-12-29T21:00:50.062Z"
   },
   {
    "duration": 13,
    "start_time": "2021-12-29T21:00:50.072Z"
   },
   {
    "duration": 10,
    "start_time": "2021-12-29T21:00:50.086Z"
   },
   {
    "duration": 9,
    "start_time": "2021-12-29T21:00:50.097Z"
   },
   {
    "duration": 4,
    "start_time": "2021-12-29T21:00:50.141Z"
   },
   {
    "duration": 5,
    "start_time": "2021-12-29T21:00:50.147Z"
   },
   {
    "duration": 10,
    "start_time": "2021-12-29T21:00:50.154Z"
   },
   {
    "duration": 22,
    "start_time": "2021-12-29T21:00:50.165Z"
   },
   {
    "duration": 8,
    "start_time": "2021-12-29T21:00:50.188Z"
   },
   {
    "duration": 14,
    "start_time": "2021-12-29T21:00:50.197Z"
   },
   {
    "duration": 26,
    "start_time": "2021-12-29T21:00:50.215Z"
   },
   {
    "duration": 3,
    "start_time": "2021-12-29T21:00:50.244Z"
   },
   {
    "duration": 40019,
    "start_time": "2021-12-29T21:00:50.249Z"
   },
   {
    "duration": 4,
    "start_time": "2021-12-29T21:01:30.270Z"
   },
   {
    "duration": 19,
    "start_time": "2021-12-29T21:01:30.275Z"
   },
   {
    "duration": 16,
    "start_time": "2021-12-29T21:01:30.296Z"
   },
   {
    "duration": 34,
    "start_time": "2021-12-29T21:01:30.313Z"
   },
   {
    "duration": 20,
    "start_time": "2021-12-29T21:01:30.349Z"
   },
   {
    "duration": 6,
    "start_time": "2021-12-29T21:01:30.370Z"
   },
   {
    "duration": 18863,
    "start_time": "2021-12-29T21:01:30.378Z"
   },
   {
    "duration": 3,
    "start_time": "2021-12-29T21:01:49.242Z"
   },
   {
    "duration": 11,
    "start_time": "2021-12-29T21:01:49.247Z"
   },
   {
    "duration": 5,
    "start_time": "2021-12-29T21:01:49.260Z"
   },
   {
    "duration": 40590,
    "start_time": "2021-12-29T21:01:49.266Z"
   },
   {
    "duration": 8,
    "start_time": "2021-12-29T21:02:29.858Z"
   },
   {
    "duration": 5,
    "start_time": "2021-12-29T21:02:29.868Z"
   },
   {
    "duration": 4,
    "start_time": "2021-12-29T21:02:29.875Z"
   },
   {
    "duration": 15,
    "start_time": "2021-12-29T21:02:29.880Z"
   },
   {
    "duration": 12,
    "start_time": "2021-12-29T21:02:29.896Z"
   },
   {
    "duration": 37,
    "start_time": "2021-12-29T21:02:29.909Z"
   },
   {
    "duration": 13,
    "start_time": "2021-12-29T21:02:29.947Z"
   },
   {
    "duration": 10,
    "start_time": "2021-12-29T21:02:29.961Z"
   },
   {
    "duration": 8,
    "start_time": "2021-12-29T21:02:29.973Z"
   },
   {
    "duration": 18,
    "start_time": "2021-12-29T21:02:29.983Z"
   },
   {
    "duration": 3,
    "start_time": "2021-12-29T21:02:30.003Z"
   },
   {
    "duration": 9378,
    "start_time": "2021-12-29T21:02:30.008Z"
   },
   {
    "duration": 12,
    "start_time": "2021-12-29T21:02:39.388Z"
   },
   {
    "duration": 4,
    "start_time": "2021-12-29T21:02:39.402Z"
   },
   {
    "duration": 13,
    "start_time": "2021-12-29T21:02:39.408Z"
   },
   {
    "duration": 21,
    "start_time": "2021-12-29T21:02:39.423Z"
   },
   {
    "duration": 10,
    "start_time": "2021-12-29T21:02:39.445Z"
   },
   {
    "duration": 11,
    "start_time": "2021-12-29T21:02:39.457Z"
   },
   {
    "duration": 9,
    "start_time": "2021-12-29T21:02:39.470Z"
   },
   {
    "duration": 8,
    "start_time": "2021-12-29T21:02:39.481Z"
   },
   {
    "duration": 8,
    "start_time": "2021-12-29T21:02:39.490Z"
   },
   {
    "duration": 48,
    "start_time": "2021-12-29T21:02:39.499Z"
   },
   {
    "duration": 6,
    "start_time": "2021-12-29T21:02:39.551Z"
   },
   {
    "duration": 10,
    "start_time": "2021-12-29T21:02:39.558Z"
   },
   {
    "duration": 7,
    "start_time": "2021-12-29T21:02:39.569Z"
   },
   {
    "duration": 6,
    "start_time": "2021-12-29T21:02:39.578Z"
   },
   {
    "duration": 18,
    "start_time": "2021-12-29T21:02:39.585Z"
   },
   {
    "duration": 12,
    "start_time": "2021-12-29T21:02:39.605Z"
   },
   {
    "duration": 31,
    "start_time": "2021-12-29T21:02:39.619Z"
   },
   {
    "duration": 6,
    "start_time": "2021-12-29T21:02:39.652Z"
   },
   {
    "duration": 15,
    "start_time": "2021-12-29T21:02:39.659Z"
   },
   {
    "duration": 18,
    "start_time": "2021-12-29T21:02:39.675Z"
   },
   {
    "duration": 2,
    "start_time": "2021-12-29T21:02:39.694Z"
   },
   {
    "duration": 16,
    "start_time": "2021-12-29T21:02:39.698Z"
   },
   {
    "duration": 14,
    "start_time": "2021-12-29T21:02:39.715Z"
   },
   {
    "duration": 19,
    "start_time": "2021-12-29T21:02:39.731Z"
   },
   {
    "duration": 9,
    "start_time": "2021-12-29T21:02:39.752Z"
   },
   {
    "duration": 12,
    "start_time": "2021-12-29T21:02:39.762Z"
   },
   {
    "duration": 13,
    "start_time": "2021-12-29T21:02:39.775Z"
   },
   {
    "duration": 10,
    "start_time": "2021-12-29T21:02:39.790Z"
   },
   {
    "duration": 13,
    "start_time": "2021-12-29T21:02:39.801Z"
   },
   {
    "duration": 34,
    "start_time": "2021-12-29T21:02:39.815Z"
   },
   {
    "duration": 2,
    "start_time": "2021-12-29T21:02:39.851Z"
   },
   {
    "duration": 11,
    "start_time": "2021-12-29T21:02:39.855Z"
   },
   {
    "duration": 11,
    "start_time": "2021-12-29T21:02:39.867Z"
   },
   {
    "duration": 31,
    "start_time": "2021-12-29T21:02:39.879Z"
   },
   {
    "duration": 2,
    "start_time": "2021-12-29T21:02:39.912Z"
   },
   {
    "duration": 18,
    "start_time": "2021-12-29T21:02:39.916Z"
   },
   {
    "duration": 11,
    "start_time": "2021-12-29T21:02:39.936Z"
   },
   {
    "duration": 2,
    "start_time": "2021-12-29T21:09:21.520Z"
   },
   {
    "duration": 64,
    "start_time": "2021-12-29T21:09:21.524Z"
   },
   {
    "duration": 10,
    "start_time": "2021-12-29T21:09:21.590Z"
   },
   {
    "duration": 8,
    "start_time": "2021-12-29T21:09:21.602Z"
   },
   {
    "duration": 4,
    "start_time": "2021-12-29T21:09:21.641Z"
   },
   {
    "duration": 7,
    "start_time": "2021-12-29T21:09:21.646Z"
   },
   {
    "duration": 4,
    "start_time": "2021-12-29T21:09:21.655Z"
   },
   {
    "duration": 7,
    "start_time": "2021-12-29T21:09:21.660Z"
   },
   {
    "duration": 7,
    "start_time": "2021-12-29T21:09:21.668Z"
   },
   {
    "duration": 7,
    "start_time": "2021-12-29T21:09:21.676Z"
   },
   {
    "duration": 8,
    "start_time": "2021-12-29T21:09:21.685Z"
   },
   {
    "duration": 10,
    "start_time": "2021-12-29T21:09:21.694Z"
   },
   {
    "duration": 39,
    "start_time": "2021-12-29T21:09:21.705Z"
   },
   {
    "duration": 7,
    "start_time": "2021-12-29T21:09:21.746Z"
   },
   {
    "duration": 9,
    "start_time": "2021-12-29T21:09:21.754Z"
   },
   {
    "duration": 21,
    "start_time": "2021-12-29T21:09:21.764Z"
   },
   {
    "duration": 5,
    "start_time": "2021-12-29T21:09:21.787Z"
   },
   {
    "duration": 8,
    "start_time": "2021-12-29T21:09:21.793Z"
   },
   {
    "duration": 9,
    "start_time": "2021-12-29T21:09:21.804Z"
   },
   {
    "duration": 5,
    "start_time": "2021-12-29T21:09:21.815Z"
   },
   {
    "duration": 5,
    "start_time": "2021-12-29T21:11:10.698Z"
   },
   {
    "duration": 60,
    "start_time": "2021-12-29T21:11:10.705Z"
   },
   {
    "duration": 10,
    "start_time": "2021-12-29T21:11:10.766Z"
   },
   {
    "duration": 7,
    "start_time": "2021-12-29T21:11:10.777Z"
   },
   {
    "duration": 5,
    "start_time": "2021-12-29T21:11:10.785Z"
   },
   {
    "duration": 8,
    "start_time": "2021-12-29T21:11:10.791Z"
   },
   {
    "duration": 11,
    "start_time": "2021-12-29T21:11:10.800Z"
   },
   {
    "duration": 9,
    "start_time": "2021-12-29T21:11:10.812Z"
   },
   {
    "duration": 20,
    "start_time": "2021-12-29T21:11:10.822Z"
   },
   {
    "duration": 4,
    "start_time": "2021-12-29T21:11:10.843Z"
   },
   {
    "duration": 6,
    "start_time": "2021-12-29T21:11:10.849Z"
   },
   {
    "duration": 9,
    "start_time": "2021-12-29T21:11:10.856Z"
   },
   {
    "duration": 9,
    "start_time": "2021-12-29T21:11:10.866Z"
   },
   {
    "duration": 12,
    "start_time": "2021-12-29T21:11:10.876Z"
   },
   {
    "duration": 11,
    "start_time": "2021-12-29T21:11:10.889Z"
   },
   {
    "duration": 24,
    "start_time": "2021-12-29T21:11:10.901Z"
   },
   {
    "duration": 14,
    "start_time": "2021-12-29T21:11:10.927Z"
   },
   {
    "duration": 5,
    "start_time": "2021-12-29T21:11:10.942Z"
   },
   {
    "duration": 9,
    "start_time": "2021-12-29T21:11:10.949Z"
   },
   {
    "duration": 7,
    "start_time": "2021-12-29T21:11:10.959Z"
   },
   {
    "duration": 595,
    "start_time": "2021-12-30T06:04:25.909Z"
   },
   {
    "duration": 57,
    "start_time": "2021-12-30T06:04:57.778Z"
   },
   {
    "duration": 16,
    "start_time": "2021-12-30T06:04:59.415Z"
   },
   {
    "duration": 7,
    "start_time": "2021-12-30T06:04:59.905Z"
   },
   {
    "duration": 4,
    "start_time": "2021-12-30T06:05:00.148Z"
   },
   {
    "duration": 6,
    "start_time": "2021-12-30T06:05:00.671Z"
   },
   {
    "duration": 6,
    "start_time": "2021-12-30T06:05:01.743Z"
   },
   {
    "duration": 4,
    "start_time": "2021-12-30T06:05:01.966Z"
   },
   {
    "duration": 4,
    "start_time": "2021-12-30T06:05:02.161Z"
   },
   {
    "duration": 5,
    "start_time": "2021-12-30T06:05:02.435Z"
   },
   {
    "duration": 4,
    "start_time": "2021-12-30T06:05:02.731Z"
   },
   {
    "duration": 5,
    "start_time": "2021-12-30T06:05:02.991Z"
   },
   {
    "duration": 5,
    "start_time": "2021-12-30T06:05:03.265Z"
   },
   {
    "duration": 4,
    "start_time": "2021-12-30T06:05:03.831Z"
   },
   {
    "duration": 5,
    "start_time": "2021-12-30T06:05:04.107Z"
   },
   {
    "duration": 19,
    "start_time": "2021-12-30T06:05:04.274Z"
   },
   {
    "duration": 8,
    "start_time": "2021-12-30T06:05:06.238Z"
   },
   {
    "duration": 6,
    "start_time": "2021-12-30T06:05:06.491Z"
   },
   {
    "duration": 4,
    "start_time": "2021-12-30T06:05:06.765Z"
   },
   {
    "duration": 4,
    "start_time": "2021-12-30T06:05:07.165Z"
   },
   {
    "duration": 39049,
    "start_time": "2021-12-30T06:05:07.402Z"
   },
   {
    "duration": 4,
    "start_time": "2021-12-30T06:05:46.453Z"
   },
   {
    "duration": 11,
    "start_time": "2021-12-30T06:05:46.458Z"
   },
   {
    "duration": 9,
    "start_time": "2021-12-30T06:05:46.470Z"
   },
   {
    "duration": 9,
    "start_time": "2021-12-30T06:05:46.481Z"
   },
   {
    "duration": 6,
    "start_time": "2021-12-30T06:05:46.491Z"
   },
   {
    "duration": 29,
    "start_time": "2021-12-30T06:05:46.499Z"
   },
   {
    "duration": 19280,
    "start_time": "2021-12-30T06:05:46.530Z"
   },
   {
    "duration": 3,
    "start_time": "2021-12-30T06:06:05.812Z"
   },
   {
    "duration": 6,
    "start_time": "2021-12-30T06:06:05.827Z"
   },
   {
    "duration": 7,
    "start_time": "2021-12-30T06:06:05.835Z"
   },
   {
    "duration": 40037,
    "start_time": "2021-12-30T06:06:05.844Z"
   },
   {
    "duration": 8,
    "start_time": "2021-12-30T06:06:45.883Z"
   },
   {
    "duration": 5,
    "start_time": "2021-12-30T06:06:45.892Z"
   },
   {
    "duration": 4,
    "start_time": "2021-12-30T06:06:45.898Z"
   },
   {
    "duration": 32,
    "start_time": "2021-12-30T06:06:45.903Z"
   },
   {
    "duration": 20,
    "start_time": "2021-12-30T06:06:45.937Z"
   },
   {
    "duration": 23,
    "start_time": "2021-12-30T06:06:45.959Z"
   },
   {
    "duration": 45,
    "start_time": "2021-12-30T06:06:45.983Z"
   },
   {
    "duration": 17,
    "start_time": "2021-12-30T06:06:46.030Z"
   },
   {
    "duration": 10,
    "start_time": "2021-12-30T06:06:46.049Z"
   },
   {
    "duration": 7,
    "start_time": "2021-12-30T06:06:46.062Z"
   },
   {
    "duration": 3,
    "start_time": "2021-12-30T06:06:46.075Z"
   },
   {
    "duration": 10321,
    "start_time": "2021-12-30T06:06:46.081Z"
   },
   {
    "duration": 12,
    "start_time": "2021-12-30T06:06:56.404Z"
   },
   {
    "duration": 3,
    "start_time": "2021-12-30T06:06:56.427Z"
   },
   {
    "duration": 14,
    "start_time": "2021-12-30T06:06:56.432Z"
   },
   {
    "duration": 4,
    "start_time": "2021-12-30T06:06:56.448Z"
   },
   {
    "duration": 10,
    "start_time": "2021-12-30T06:06:56.454Z"
   },
   {
    "duration": 12,
    "start_time": "2021-12-30T06:06:56.466Z"
   },
   {
    "duration": 9,
    "start_time": "2021-12-30T06:06:56.480Z"
   },
   {
    "duration": 39,
    "start_time": "2021-12-30T06:06:56.490Z"
   },
   {
    "duration": 9,
    "start_time": "2021-12-30T06:06:56.530Z"
   },
   {
    "duration": 25,
    "start_time": "2021-12-30T06:06:56.541Z"
   },
   {
    "duration": 6,
    "start_time": "2021-12-30T06:06:56.568Z"
   },
   {
    "duration": 13,
    "start_time": "2021-12-30T06:06:56.576Z"
   },
   {
    "duration": 11,
    "start_time": "2021-12-30T06:06:56.591Z"
   },
   {
    "duration": 7,
    "start_time": "2021-12-30T06:06:56.604Z"
   },
   {
    "duration": 31,
    "start_time": "2021-12-30T06:06:56.613Z"
   },
   {
    "duration": 13,
    "start_time": "2021-12-30T06:06:56.646Z"
   },
   {
    "duration": 22,
    "start_time": "2021-12-30T06:06:56.662Z"
   },
   {
    "duration": 9,
    "start_time": "2021-12-30T06:06:56.686Z"
   },
   {
    "duration": 39,
    "start_time": "2021-12-30T06:06:56.697Z"
   },
   {
    "duration": 28,
    "start_time": "2021-12-30T06:06:56.738Z"
   },
   {
    "duration": 3,
    "start_time": "2021-12-30T06:06:56.768Z"
   },
   {
    "duration": 15,
    "start_time": "2021-12-30T06:06:56.773Z"
   },
   {
    "duration": 10,
    "start_time": "2021-12-30T06:06:56.790Z"
   },
   {
    "duration": 26,
    "start_time": "2021-12-30T06:06:56.802Z"
   },
   {
    "duration": 3,
    "start_time": "2021-12-30T06:06:56.830Z"
   },
   {
    "duration": 13,
    "start_time": "2021-12-30T06:06:56.834Z"
   },
   {
    "duration": 10,
    "start_time": "2021-12-30T06:06:56.849Z"
   },
   {
    "duration": 9,
    "start_time": "2021-12-30T06:06:56.860Z"
   },
   {
    "duration": 12,
    "start_time": "2021-12-30T06:06:56.870Z"
   },
   {
    "duration": 47,
    "start_time": "2021-12-30T06:06:56.884Z"
   },
   {
    "duration": 3,
    "start_time": "2021-12-30T06:06:56.933Z"
   },
   {
    "duration": 6,
    "start_time": "2021-12-30T06:06:56.937Z"
   },
   {
    "duration": 10,
    "start_time": "2021-12-30T06:06:56.944Z"
   },
   {
    "duration": 32,
    "start_time": "2021-12-30T06:06:56.955Z"
   },
   {
    "duration": 2,
    "start_time": "2021-12-30T06:06:56.989Z"
   },
   {
    "duration": 9,
    "start_time": "2021-12-30T06:06:56.993Z"
   },
   {
    "duration": 27,
    "start_time": "2021-12-30T06:06:57.004Z"
   },
   {
    "duration": 428,
    "start_time": "2021-12-30T06:25:52.049Z"
   },
   {
    "duration": 2,
    "start_time": "2021-12-30T06:28:55.295Z"
   },
   {
    "duration": 3,
    "start_time": "2021-12-30T06:29:26.493Z"
   },
   {
    "duration": 2,
    "start_time": "2021-12-30T06:57:59.882Z"
   }
  ],
  "kernelspec": {
   "display_name": "Python 3 (ipykernel)",
   "language": "python",
   "name": "python3"
  },
  "language_info": {
   "codemirror_mode": {
    "name": "ipython",
    "version": 3
   },
   "file_extension": ".py",
   "mimetype": "text/x-python",
   "name": "python",
   "nbconvert_exporter": "python",
   "pygments_lexer": "ipython3",
   "version": "3.9.5"
  },
  "toc": {
   "base_numbering": 1,
   "nav_menu": {},
   "number_sections": true,
   "sideBar": true,
   "skip_h1_title": true,
   "title_cell": "Table of Contents",
   "title_sidebar": "Contents",
   "toc_cell": false,
   "toc_position": {
    "height": "calc(100% - 180px)",
    "left": "10px",
    "top": "150px",
    "width": "273.267px"
   },
   "toc_section_display": true,
   "toc_window_display": true
  }
 },
 "nbformat": 4,
 "nbformat_minor": 2
}
