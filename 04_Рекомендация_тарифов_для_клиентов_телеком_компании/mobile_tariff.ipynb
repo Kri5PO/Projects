{
 "cells": [
  {
   "cell_type": "markdown",
   "metadata": {
    "toc": true
   },
   "source": [
    "<h1>Table of Contents<span class=\"tocSkip\"></span></h1>\n",
    "<div class=\"toc\"><ul class=\"toc-item\"><li><span><a href=\"#Откройте-и-изучите-файл\" data-toc-modified-id=\"Откройте-и-изучите-файл-1\"><span class=\"toc-item-num\">1&nbsp;&nbsp;</span>Откройте и изучите файл</a></span><ul class=\"toc-item\"><li><span><a href=\"#Вывод\" data-toc-modified-id=\"Вывод-1.1\"><span class=\"toc-item-num\">1.1&nbsp;&nbsp;</span>Вывод</a></span></li></ul></li><li><span><a href=\"#Предобработка-данных\" data-toc-modified-id=\"Предобработка-данных-2\"><span class=\"toc-item-num\">2&nbsp;&nbsp;</span>Предобработка данных</a></span><ul class=\"toc-item\"><li><span><a href=\"#Вывод\" data-toc-modified-id=\"Вывод-2.1\"><span class=\"toc-item-num\">2.1&nbsp;&nbsp;</span>Вывод</a></span></li></ul></li><li><span><a href=\"#Построение-модели-для-классификации,-которая-выберет-подходящий-тариф\" data-toc-modified-id=\"Построение-модели-для-классификации,-которая-выберет-подходящий-тариф-3\"><span class=\"toc-item-num\">3&nbsp;&nbsp;</span>Построение модели для классификации, которая выберет подходящий тариф</a></span><ul class=\"toc-item\"><li><span><a href=\"#Разбейте-данные-на-выборки\" data-toc-modified-id=\"Разбейте-данные-на-выборки-3.1\"><span class=\"toc-item-num\">3.1&nbsp;&nbsp;</span>Разбейте данные на выборки</a></span></li><li><span><a href=\"#Исследование-моделей\" data-toc-modified-id=\"Исследование-моделей-3.2\"><span class=\"toc-item-num\">3.2&nbsp;&nbsp;</span>Исследование моделей</a></span><ul class=\"toc-item\"><li><span><a href=\"#Decision-Tree-(Дерево-решений)\" data-toc-modified-id=\"Decision-Tree-(Дерево-решений)-3.2.1\"><span class=\"toc-item-num\">3.2.1&nbsp;&nbsp;</span>Decision Tree (Дерево решений)</a></span></li><li><span><a href=\"#Random-Forest-(Случайный-лес)\" data-toc-modified-id=\"Random-Forest-(Случайный-лес)-3.2.2\"><span class=\"toc-item-num\">3.2.2&nbsp;&nbsp;</span>Random Forest (Случайный лес)</a></span></li><li><span><a href=\"#Logistic-Regression-(Логистическая-регрессия)\" data-toc-modified-id=\"Logistic-Regression-(Логистическая-регрессия)-3.2.3\"><span class=\"toc-item-num\">3.2.3&nbsp;&nbsp;</span>Logistic Regression (Логистическая регрессия)</a></span></li></ul></li><li><span><a href=\"#Тестирование\" data-toc-modified-id=\"Тестирование-3.3\"><span class=\"toc-item-num\">3.3&nbsp;&nbsp;</span>Тестирование</a></span></li></ul></li><li><span><a href=\"#(бонус)-Проверьте-модели-на-адекватность\" data-toc-modified-id=\"(бонус)-Проверьте-модели-на-адекватность-4\"><span class=\"toc-item-num\">4&nbsp;&nbsp;</span>(бонус) Проверьте модели на адекватность</a></span></li><li><span><a href=\"#Общий-вывод\" data-toc-modified-id=\"Общий-вывод-5\"><span class=\"toc-item-num\">5&nbsp;&nbsp;</span>Общий вывод</a></span></li></ul></div>"
   ]
  },
  {
   "cell_type": "markdown",
   "metadata": {},
   "source": [
    "# Рекомендация тарифов для клиентов телеком компании"
   ]
  },
  {
   "cell_type": "markdown",
   "metadata": {},
   "source": [
    "В вашем распоряжении данные о поведении клиентов, которые уже перешли на эти тарифы (из проекта курса «Статистический анализ данных»). Нужно построить модель для задачи классификации, которая выберет подходящий тариф.\n",
    "\n",
    "Постройте модель с максимально большим значением *accuracy*. Чтобы сдать проект успешно, нужно довести долю правильных ответов по крайней мере до 0.75. Проверьте *accuracy* на тестовой выборке самостоятельно."
   ]
  },
  {
   "cell_type": "markdown",
   "metadata": {},
   "source": [
    "## Откройте и изучите файл"
   ]
  },
  {
   "cell_type": "code",
   "execution_count": 1,
   "metadata": {},
   "outputs": [],
   "source": [
    "# загрузка библиотек\n",
    "import pandas as pd\n",
    "\n",
    "from sklearn.tree import DecisionTreeClassifier\n",
    "from sklearn.ensemble import RandomForestClassifier \n",
    "from sklearn.linear_model import LogisticRegression \n",
    "\n",
    "from sklearn.model_selection import train_test_split\n",
    "from sklearn.metrics import accuracy_score\n",
    "from sklearn.dummy import DummyClassifier"
   ]
  },
  {
   "cell_type": "code",
   "execution_count": 2,
   "metadata": {},
   "outputs": [],
   "source": [
    "# чтение файла с данными и сохранение в переменную df\n",
    "try:\n",
    "    df = pd.read_csv('C:/Users/79853/Documents/datascience/yandex/Спринт7/users_behavior.csv')\n",
    "except:\n",
    "    df = pd.read_csv('/datasets/users_behavior.csv') # загрузка онлайн"
   ]
  },
  {
   "cell_type": "code",
   "execution_count": 3,
   "metadata": {},
   "outputs": [
    {
     "name": "stdout",
     "output_type": "stream",
     "text": [
      "<class 'pandas.core.frame.DataFrame'>\n",
      "RangeIndex: 3214 entries, 0 to 3213\n",
      "Data columns (total 5 columns):\n",
      " #   Column    Non-Null Count  Dtype  \n",
      "---  ------    --------------  -----  \n",
      " 0   calls     3214 non-null   float64\n",
      " 1   minutes   3214 non-null   float64\n",
      " 2   messages  3214 non-null   float64\n",
      " 3   mb_used   3214 non-null   float64\n",
      " 4   is_ultra  3214 non-null   int64  \n",
      "dtypes: float64(4), int64(1)\n",
      "memory usage: 125.7 KB\n"
     ]
    }
   ],
   "source": [
    "# получение общей информации о данных в таблице df\n",
    "df.info()"
   ]
  },
  {
   "cell_type": "code",
   "execution_count": 4,
   "metadata": {},
   "outputs": [
    {
     "data": {
      "text/html": [
       "<div>\n",
       "<style scoped>\n",
       "    .dataframe tbody tr th:only-of-type {\n",
       "        vertical-align: middle;\n",
       "    }\n",
       "\n",
       "    .dataframe tbody tr th {\n",
       "        vertical-align: top;\n",
       "    }\n",
       "\n",
       "    .dataframe thead th {\n",
       "        text-align: right;\n",
       "    }\n",
       "</style>\n",
       "<table border=\"1\" class=\"dataframe\">\n",
       "  <thead>\n",
       "    <tr style=\"text-align: right;\">\n",
       "      <th></th>\n",
       "      <th>calls</th>\n",
       "      <th>minutes</th>\n",
       "      <th>messages</th>\n",
       "      <th>mb_used</th>\n",
       "      <th>is_ultra</th>\n",
       "    </tr>\n",
       "  </thead>\n",
       "  <tbody>\n",
       "    <tr>\n",
       "      <th>0</th>\n",
       "      <td>40.0</td>\n",
       "      <td>311.90</td>\n",
       "      <td>83.0</td>\n",
       "      <td>19915.42</td>\n",
       "      <td>0</td>\n",
       "    </tr>\n",
       "    <tr>\n",
       "      <th>1</th>\n",
       "      <td>85.0</td>\n",
       "      <td>516.75</td>\n",
       "      <td>56.0</td>\n",
       "      <td>22696.96</td>\n",
       "      <td>0</td>\n",
       "    </tr>\n",
       "    <tr>\n",
       "      <th>2</th>\n",
       "      <td>77.0</td>\n",
       "      <td>467.66</td>\n",
       "      <td>86.0</td>\n",
       "      <td>21060.45</td>\n",
       "      <td>0</td>\n",
       "    </tr>\n",
       "    <tr>\n",
       "      <th>3</th>\n",
       "      <td>106.0</td>\n",
       "      <td>745.53</td>\n",
       "      <td>81.0</td>\n",
       "      <td>8437.39</td>\n",
       "      <td>1</td>\n",
       "    </tr>\n",
       "    <tr>\n",
       "      <th>4</th>\n",
       "      <td>66.0</td>\n",
       "      <td>418.74</td>\n",
       "      <td>1.0</td>\n",
       "      <td>14502.75</td>\n",
       "      <td>0</td>\n",
       "    </tr>\n",
       "  </tbody>\n",
       "</table>\n",
       "</div>"
      ],
      "text/plain": [
       "   calls  minutes  messages   mb_used  is_ultra\n",
       "0   40.0   311.90      83.0  19915.42         0\n",
       "1   85.0   516.75      56.0  22696.96         0\n",
       "2   77.0   467.66      86.0  21060.45         0\n",
       "3  106.0   745.53      81.0   8437.39         1\n",
       "4   66.0   418.74       1.0  14502.75         0"
      ]
     },
     "execution_count": 4,
     "metadata": {},
     "output_type": "execute_result"
    }
   ],
   "source": [
    "# получение первых 5 строк таблицы df\n",
    "df.head()"
   ]
  },
  {
   "cell_type": "code",
   "execution_count": 5,
   "metadata": {},
   "outputs": [
    {
     "data": {
      "text/html": [
       "<div>\n",
       "<style scoped>\n",
       "    .dataframe tbody tr th:only-of-type {\n",
       "        vertical-align: middle;\n",
       "    }\n",
       "\n",
       "    .dataframe tbody tr th {\n",
       "        vertical-align: top;\n",
       "    }\n",
       "\n",
       "    .dataframe thead th {\n",
       "        text-align: right;\n",
       "    }\n",
       "</style>\n",
       "<table border=\"1\" class=\"dataframe\">\n",
       "  <thead>\n",
       "    <tr style=\"text-align: right;\">\n",
       "      <th></th>\n",
       "      <th>count</th>\n",
       "      <th>mean</th>\n",
       "      <th>std</th>\n",
       "      <th>min</th>\n",
       "      <th>25%</th>\n",
       "      <th>50%</th>\n",
       "      <th>75%</th>\n",
       "      <th>max</th>\n",
       "    </tr>\n",
       "  </thead>\n",
       "  <tbody>\n",
       "    <tr>\n",
       "      <th>calls</th>\n",
       "      <td>3214.0</td>\n",
       "      <td>63.038892</td>\n",
       "      <td>33.236368</td>\n",
       "      <td>0.0</td>\n",
       "      <td>40.0000</td>\n",
       "      <td>62.000</td>\n",
       "      <td>82.0000</td>\n",
       "      <td>244.00</td>\n",
       "    </tr>\n",
       "    <tr>\n",
       "      <th>minutes</th>\n",
       "      <td>3214.0</td>\n",
       "      <td>438.208787</td>\n",
       "      <td>234.569872</td>\n",
       "      <td>0.0</td>\n",
       "      <td>274.5750</td>\n",
       "      <td>430.600</td>\n",
       "      <td>571.9275</td>\n",
       "      <td>1632.06</td>\n",
       "    </tr>\n",
       "    <tr>\n",
       "      <th>messages</th>\n",
       "      <td>3214.0</td>\n",
       "      <td>38.281269</td>\n",
       "      <td>36.148326</td>\n",
       "      <td>0.0</td>\n",
       "      <td>9.0000</td>\n",
       "      <td>30.000</td>\n",
       "      <td>57.0000</td>\n",
       "      <td>224.00</td>\n",
       "    </tr>\n",
       "    <tr>\n",
       "      <th>mb_used</th>\n",
       "      <td>3214.0</td>\n",
       "      <td>17207.673836</td>\n",
       "      <td>7570.968246</td>\n",
       "      <td>0.0</td>\n",
       "      <td>12491.9025</td>\n",
       "      <td>16943.235</td>\n",
       "      <td>21424.7000</td>\n",
       "      <td>49745.73</td>\n",
       "    </tr>\n",
       "    <tr>\n",
       "      <th>is_ultra</th>\n",
       "      <td>3214.0</td>\n",
       "      <td>0.306472</td>\n",
       "      <td>0.461100</td>\n",
       "      <td>0.0</td>\n",
       "      <td>0.0000</td>\n",
       "      <td>0.000</td>\n",
       "      <td>1.0000</td>\n",
       "      <td>1.00</td>\n",
       "    </tr>\n",
       "  </tbody>\n",
       "</table>\n",
       "</div>"
      ],
      "text/plain": [
       "           count          mean          std  min         25%        50%  \\\n",
       "calls     3214.0     63.038892    33.236368  0.0     40.0000     62.000   \n",
       "minutes   3214.0    438.208787   234.569872  0.0    274.5750    430.600   \n",
       "messages  3214.0     38.281269    36.148326  0.0      9.0000     30.000   \n",
       "mb_used   3214.0  17207.673836  7570.968246  0.0  12491.9025  16943.235   \n",
       "is_ultra  3214.0      0.306472     0.461100  0.0      0.0000      0.000   \n",
       "\n",
       "                 75%       max  \n",
       "calls        82.0000    244.00  \n",
       "minutes     571.9275   1632.06  \n",
       "messages     57.0000    224.00  \n",
       "mb_used   21424.7000  49745.73  \n",
       "is_ultra      1.0000      1.00  "
      ]
     },
     "execution_count": 5,
     "metadata": {},
     "output_type": "execute_result"
    }
   ],
   "source": [
    "# описание переменных\n",
    "df.describe().T"
   ]
  },
  {
   "cell_type": "markdown",
   "metadata": {},
   "source": [
    "### Вывод"
   ]
  },
  {
   "cell_type": "markdown",
   "metadata": {},
   "source": [
    "- Целевая переменная `is_ultra`, которую необходимо предсказать, представлена в формате int со значениями 1/0. Для дальнейшего исследования такие значения подходят. \n",
    "- Пропуски в данных отсутствуют. \n",
    "- Переменные `calls` (количество звонков) и `messages` (количество sms-сообщений) предполагают целочисленные значения, их тип можно изменить на **int**."
   ]
  },
  {
   "cell_type": "markdown",
   "metadata": {},
   "source": [
    "## Предобработка данных"
   ]
  },
  {
   "cell_type": "code",
   "execution_count": 6,
   "metadata": {},
   "outputs": [],
   "source": [
    "# изменение типа данных c float64 на int64 \n",
    "df['messages'] = df['messages'].astype('int64')\n",
    "df['calls'] = df['calls'].astype('int64')"
   ]
  },
  {
   "cell_type": "code",
   "execution_count": 7,
   "metadata": {},
   "outputs": [
    {
     "name": "stdout",
     "output_type": "stream",
     "text": [
      "<class 'pandas.core.frame.DataFrame'>\n",
      "RangeIndex: 3214 entries, 0 to 3213\n",
      "Data columns (total 5 columns):\n",
      " #   Column    Non-Null Count  Dtype  \n",
      "---  ------    --------------  -----  \n",
      " 0   calls     3214 non-null   int64  \n",
      " 1   minutes   3214 non-null   float64\n",
      " 2   messages  3214 non-null   int64  \n",
      " 3   mb_used   3214 non-null   float64\n",
      " 4   is_ultra  3214 non-null   int64  \n",
      "dtypes: float64(2), int64(3)\n",
      "memory usage: 125.7 KB\n"
     ]
    }
   ],
   "source": [
    "df.info()"
   ]
  },
  {
   "cell_type": "code",
   "execution_count": 8,
   "metadata": {},
   "outputs": [
    {
     "data": {
      "text/plain": [
       "0"
      ]
     },
     "execution_count": 8,
     "metadata": {},
     "output_type": "execute_result"
    }
   ],
   "source": [
    "# подсчёт явных дубликатов\n",
    "df.duplicated().sum()"
   ]
  },
  {
   "cell_type": "markdown",
   "metadata": {},
   "source": [
    "### Вывод"
   ]
  },
  {
   "cell_type": "markdown",
   "metadata": {},
   "source": [
    "- Изменены типы данных переменных `calls` и `messages` на int.\n",
    "- Явных дубликатов не выявлено"
   ]
  },
  {
   "cell_type": "markdown",
   "metadata": {},
   "source": [
    "## Построение модели для классификации, которая выберет подходящий тариф"
   ]
  },
  {
   "cell_type": "markdown",
   "metadata": {},
   "source": [
    "Поставленная задача относится к классу **«обучение с учителем»**, т.к. мы имеем набор данных и целевой признак, который нужно предсказать по остальным признакам, — **тариф пользователя** (Смарт или Ультра).\n",
    "\n",
    "Целевой признак **категориальный**, т.е. необходимо решить задачу классификации. Категорий всего две — это **бинарная (двоичная) классификация**.\n",
    "\n",
    "Для решения задачи классификации будем использовать следующие алгоритмы для определения лучшего:\n",
    "1. Decision Tree (Дерево решений),\n",
    "2. Random Forest (Случайный лес),\n",
    "3. Logistic Regression (Логистическая регрессия),\n",
    "\n",
    "Для проверки модели на правильность предсказаний нужно разбить данные на три части: обучающую, валидационную и тестовую. Размеры тестового и валидационного наборов обычно равны. Разобьем данные в соотношении 3:1:1.\n",
    "\n",
    "Процентное соотношение от исходного датасета:\n",
    "- обучающая выборка - 60%,\n",
    "- валидационная выборка - 20%,\n",
    "- тестовая выборка - 20%."
   ]
  },
  {
   "cell_type": "markdown",
   "metadata": {},
   "source": [
    "### Разбейте данные на выборки"
   ]
  },
  {
   "cell_type": "code",
   "execution_count": 9,
   "metadata": {},
   "outputs": [],
   "source": [
    "# Разделим датасет на обучающую и валидационную выборки в соотношении 0,6 и 0,4\n",
    "df_train, df_valid = train_test_split(df, test_size=0.4, random_state=123) "
   ]
  },
  {
   "cell_type": "code",
   "execution_count": 10,
   "metadata": {},
   "outputs": [],
   "source": [
    "# Разделим валидационную выборку пополам на валидационную и тестовую выборки\n",
    "df_valid, df_test = train_test_split(df_valid, test_size=0.5, random_state=123) "
   ]
  },
  {
   "cell_type": "code",
   "execution_count": 11,
   "metadata": {},
   "outputs": [
    {
     "name": "stdout",
     "output_type": "stream",
     "text": [
      "обучающая выборка - 60%; размер: (1928, 5)\n",
      "валидационная выборка - 20%; размер: (643, 5)\n",
      "тестовая выборка - 20%; размер: (643, 5)\n"
     ]
    }
   ],
   "source": [
    "# посмотрим на размер сформированных выборок\n",
    "print(\"обучающая выборка - {:.0%};\".format(df_train.shape[0]/df.shape[0]), 'размер:', df_train.shape)\n",
    "print(\"валидационная выборка - {:.0%};\".format(df_valid.shape[0]/df.shape[0]), 'размер:', df_valid.shape)\n",
    "print(\"тестовая выборка - {:.0%};\".format(df_test.shape[0]/df.shape[0]), 'размер:', df_test.shape)"
   ]
  },
  {
   "cell_type": "code",
   "execution_count": 12,
   "metadata": {},
   "outputs": [],
   "source": [
    "# разделим выборки на признаки (features), по которым будут сделаны предсказания,\n",
    "# и целевой признак (target), который будет предсказан\n",
    "train_features = df_train.drop(['is_ultra'], axis=1)\n",
    "train_target = df_train['is_ultra']\n",
    "\n",
    "valid_features = df_valid.drop(['is_ultra'], axis=1)\n",
    "valid_target = df_valid['is_ultra']\n",
    "\n",
    "test_features = df_test.drop(['is_ultra'], axis=1)\n",
    "test_target = df_test['is_ultra']"
   ]
  },
  {
   "cell_type": "markdown",
   "metadata": {},
   "source": [
    "### Исследование моделей"
   ]
  },
  {
   "cell_type": "markdown",
   "metadata": {},
   "source": [
    "#### Decision Tree (Дерево решений)"
   ]
  },
  {
   "cell_type": "code",
   "execution_count": 13,
   "metadata": {},
   "outputs": [
    {
     "name": "stdout",
     "output_type": "stream",
     "text": [
      "Accuracy лучшей модели на валидационной выборке: 0.8227060653188181 max_depth: 5\n"
     ]
    }
   ],
   "source": [
    "# определим лучшую модель\n",
    "best_model_dt = None\n",
    "best_result, best_depth = 0, 0\n",
    "for depth in range(1, 100, 2):\n",
    "    model = DecisionTreeClassifier(random_state=123, max_depth=depth)  # модель решающее дерево\n",
    "    model.fit(train_features, train_target)  # обучение модели\n",
    "    predictions = model.predict(valid_features)  # предсказания модели\n",
    "    result = accuracy_score(valid_target, predictions)  # качество модели\n",
    "    if result > best_result:\n",
    "        best_depth = depth\n",
    "        best_model_dt = model\n",
    "        best_result = result        \n",
    "print(\"Accuracy лучшей модели на валидационной выборке:\", best_result, 'max_depth:', best_depth)"
   ]
  },
  {
   "cell_type": "markdown",
   "metadata": {},
   "source": [
    "#### Random Forest (Случайный лес)"
   ]
  },
  {
   "cell_type": "code",
   "execution_count": 14,
   "metadata": {},
   "outputs": [
    {
     "name": "stdout",
     "output_type": "stream",
     "text": [
      "Accuracy наилучшей модели на валидационной выборке: 0.8289269051321928 n_estimators: 39\n"
     ]
    }
   ],
   "source": [
    "# определим лучшую модель с гиперпараметром n_estimators\n",
    "best_model_rf = None\n",
    "best_result, best_est = 0, 0\n",
    "for est in range(1, 100, 2):\n",
    "    model = RandomForestClassifier(random_state=123, n_estimators=est)  # модель\n",
    "    model.fit(train_features, train_target)  # обучение модели на тренировочной выборке\n",
    "    result = model.score(valid_features, valid_target)  # качество модели на валидационной выборке\n",
    "    if result > best_result:\n",
    "        best_est = est         # лучшее значение n_estimators\n",
    "        best_model_rf = model  # лучшая модель\n",
    "        best_result = result   # лучшее значение метрики accuracy на валидационных данных\n",
    "print(\"Accuracy наилучшей модели на валидационной выборке:\", best_result, 'n_estimators:', best_est)"
   ]
  },
  {
   "cell_type": "code",
   "execution_count": 15,
   "metadata": {},
   "outputs": [
    {
     "name": "stdout",
     "output_type": "stream",
     "text": [
      "Accuracy наилучшей модели на валидационной выборке: 0.8351477449455676 n_estimators: 21 max_depth: 11\n"
     ]
    }
   ],
   "source": [
    "# определим лучшую модель с гиперпараметрами n_estimators и max_depth\n",
    "best_model_rf_2 = None\n",
    "best_result, best_est, best_depth = 0, 0, 0\n",
    "for est in range(1, 50, 2):\n",
    "    for depth in range(1, 20):\n",
    "        model = RandomForestClassifier(random_state=123, n_estimators=est, max_depth=depth)  # модель\n",
    "        model.fit(train_features, train_target)  # обучение модели на тренировочной выборке\n",
    "        result = model.score(valid_features, valid_target)  # качество модели на валидационной выборке\n",
    "        if result > best_result:\n",
    "            best_depth = depth\n",
    "            best_est = est \n",
    "            best_model_rf_2 = model  # сохраните наилучшую модель\n",
    "            best_result = result     #  сохраните наилучшее значение метрики accuracy на валидационных данных\n",
    "\n",
    "print(\"Accuracy наилучшей модели на валидационной выборке:\", best_result,\n",
    "      'n_estimators:', best_est, 'max_depth:', best_depth)"
   ]
  },
  {
   "cell_type": "markdown",
   "metadata": {},
   "source": [
    "#### Logistic Regression (Логистическая регрессия)"
   ]
  },
  {
   "cell_type": "code",
   "execution_count": 16,
   "metadata": {},
   "outputs": [
    {
     "name": "stdout",
     "output_type": "stream",
     "text": [
      "Accuracy модели логистической регрессии на валидационной выборке: 0.8102643856920684\n"
     ]
    }
   ],
   "source": [
    "model_lr = LogisticRegression(solver='lbfgs', random_state=123) # модель логистической регрессии\n",
    "model_lr.fit(train_features, train_target) # обучение модели на тренировочной выборке\n",
    "result = model.score(valid_features, valid_target) # качество модели на валидационной выборке\n",
    "print(\"Accuracy модели логистической регрессии на валидационной выборке:\", result)"
   ]
  },
  {
   "cell_type": "markdown",
   "metadata": {},
   "source": [
    "### Тестирование"
   ]
  },
  {
   "cell_type": "markdown",
   "metadata": {},
   "source": [
    "Протестируем модель с лучшим показателем метрики Accuracy на валидационной выборке:\n",
    "- **best_model_rf_2 = RandomForestClassifier(random_state=123, n_estimators=21, max_depth=11)**"
   ]
  },
  {
   "cell_type": "code",
   "execution_count": 17,
   "metadata": {},
   "outputs": [
    {
     "name": "stdout",
     "output_type": "stream",
     "text": [
      "Accuracy на тестовой выборке: 0.7978227060653188\n"
     ]
    }
   ],
   "source": [
    "# тестирование модели Random Forest (Случайный лес) с двумя гиперпараметрами: n_estimators и max_depth\n",
    "test_predictions_rf_2 = best_model_rf_2.predict(test_features)\n",
    "accuracy_test_rf_2 = accuracy_score(test_target, test_predictions_rf_2)\n",
    "print(\"Accuracy на тестовой выборке:\", accuracy_test_rf_2)"
   ]
  },
  {
   "cell_type": "markdown",
   "metadata": {},
   "source": [
    "## (бонус) Проверьте модели на адекватность"
   ]
  },
  {
   "cell_type": "markdown",
   "metadata": {},
   "source": [
    "Для проверки модели на вменяемость применим **DummyClassifier** - классификатор, который делает прогнозы, используя простые правила. Этот классификатор служит простой базой для сравнения с другими более сложными классификаторами."
   ]
  },
  {
   "cell_type": "code",
   "execution_count": 18,
   "metadata": {},
   "outputs": [
    {
     "name": "stdout",
     "output_type": "stream",
     "text": [
      "Accuracy модели DummyClassifier на тестовой выборке: 0.6936236391912908\n"
     ]
    }
   ],
   "source": [
    "dummy_model = DummyClassifier(strategy='most_frequent',random_state=123)\n",
    "dummy_model.fit(train_features, train_target)\n",
    "predict_dummy = dummy_model.predict(test_features)\n",
    "print('Accuracy модели DummyClassifier на тестовой выборке:', accuracy_score(test_target, predict_dummy))"
   ]
  },
  {
   "cell_type": "markdown",
   "metadata": {},
   "source": [
    "Простая модель DummyClassifier имеет Accuracy = 0.6936, что меньше Accuracy выбранной модели Random Forest (Случайный лес). Можно сделать вывод, что выбранная модель Random Forest (Случайный лес) является адекватной."
   ]
  },
  {
   "cell_type": "markdown",
   "metadata": {},
   "source": [
    "## Общий вывод"
   ]
  },
  {
   "cell_type": "markdown",
   "metadata": {},
   "source": [
    "В ходе проекта были исследованы данные о поведении клиентов оператора мобильной связи, которые являются пользователями двух тарифных планов: «Смарт» и «Ультра». \n",
    "\n",
    "На **этапе предобработки данных** были изменены типы данных переменных `calls` и `messages` на int.\n",
    "\n",
    "Далее были построены **модели для классификации**, которые предсказывают подходящий тариф для пользователя - «Смарт» или «Ультра». Для этого данные были разбиты на три выборки: **обучающую, валидационную и тестовую** в соотношении **3:1:1**. Были использованы следующие алгоритмы для построения моделей:\n",
    "1. Decision Tree (Дерево решений),\n",
    "2. Random Forest (Случайный лес) с одним гиперпараметром (n_estimators) и с двумя гиперпараметрами (n_estimators и max_depth),\n",
    "3. Logistic Regression (Логистическая регрессия).\n",
    "\n",
    "Лучшие показатели метрики Accuracy = **0.835** на валидационной выборке показала модель **RandomForestClassifier(random_state=123, n_estimators=21, max_depth=11)**. На тестовой выборке данная модель показала результаты Accuracy = **0.798**.\n",
    "\n",
    "Дополнительно была проведена проверка модели на адекватность с помощью классификатора **DummyClassifier**, который делает прогнозы, используя простые правила. Значение Accuracy простой модели оказалось меньше Accuracy выбранной модели Random Forest, что позволило сделать вывод об адекватности выбранной модели."
   ]
  }
 ],
 "metadata": {
  "ExecuteTimeLog": [
   {
    "duration": 1312,
    "start_time": "2022-03-04T11:23:17.858Z"
   },
   {
    "duration": 4567,
    "start_time": "2022-03-04T11:23:19.173Z"
   },
   {
    "duration": -192,
    "start_time": "2022-03-04T11:23:23.936Z"
   },
   {
    "duration": -198,
    "start_time": "2022-03-04T11:23:23.943Z"
   },
   {
    "duration": -199,
    "start_time": "2022-03-04T11:23:23.946Z"
   },
   {
    "duration": -199,
    "start_time": "2022-03-04T11:23:23.948Z"
   },
   {
    "duration": -200,
    "start_time": "2022-03-04T11:23:23.950Z"
   },
   {
    "duration": -200,
    "start_time": "2022-03-04T11:23:23.951Z"
   },
   {
    "duration": -199,
    "start_time": "2022-03-04T11:23:23.952Z"
   },
   {
    "duration": -198,
    "start_time": "2022-03-04T11:23:23.954Z"
   },
   {
    "duration": -199,
    "start_time": "2022-03-04T11:23:23.956Z"
   },
   {
    "duration": -198,
    "start_time": "2022-03-04T11:23:23.958Z"
   },
   {
    "duration": -205,
    "start_time": "2022-03-04T11:23:23.966Z"
   },
   {
    "duration": -205,
    "start_time": "2022-03-04T11:23:23.968Z"
   },
   {
    "duration": -203,
    "start_time": "2022-03-04T11:23:23.969Z"
   },
   {
    "duration": -206,
    "start_time": "2022-03-04T11:23:23.974Z"
   },
   {
    "duration": -206,
    "start_time": "2022-03-04T11:23:23.976Z"
   },
   {
    "duration": -205,
    "start_time": "2022-03-04T11:23:23.977Z"
   },
   {
    "duration": -205,
    "start_time": "2022-03-04T11:23:23.979Z"
   },
   {
    "duration": 281,
    "start_time": "2022-03-04T11:25:06.655Z"
   },
   {
    "duration": 5,
    "start_time": "2022-03-04T11:25:13.485Z"
   },
   {
    "duration": 205,
    "start_time": "2022-03-04T11:25:13.493Z"
   },
   {
    "duration": 25,
    "start_time": "2022-03-04T11:25:13.701Z"
   },
   {
    "duration": 39,
    "start_time": "2022-03-04T11:25:13.730Z"
   },
   {
    "duration": 7,
    "start_time": "2022-03-04T11:25:13.771Z"
   },
   {
    "duration": 13,
    "start_time": "2022-03-04T11:25:13.781Z"
   },
   {
    "duration": 9,
    "start_time": "2022-03-04T11:25:13.796Z"
   },
   {
    "duration": 6,
    "start_time": "2022-03-04T11:25:13.808Z"
   },
   {
    "duration": 7,
    "start_time": "2022-03-04T11:25:13.852Z"
   },
   {
    "duration": 8,
    "start_time": "2022-03-04T11:25:13.862Z"
   },
   {
    "duration": 10,
    "start_time": "2022-03-04T11:25:13.872Z"
   },
   {
    "duration": 668,
    "start_time": "2022-03-04T11:25:13.884Z"
   },
   {
    "duration": 7,
    "start_time": "2022-03-04T11:25:14.555Z"
   },
   {
    "duration": 12851,
    "start_time": "2022-03-04T11:25:14.564Z"
   },
   {
    "duration": 17,
    "start_time": "2022-03-04T11:25:27.418Z"
   },
   {
    "duration": 40,
    "start_time": "2022-03-04T11:25:27.451Z"
   },
   {
    "duration": 8,
    "start_time": "2022-03-04T11:25:27.494Z"
   },
   {
    "duration": 7,
    "start_time": "2022-03-04T11:25:27.504Z"
   },
   {
    "duration": 43,
    "start_time": "2022-03-04T11:25:27.513Z"
   },
   {
    "duration": 1839,
    "start_time": "2022-03-04T12:29:06.287Z"
   },
   {
    "duration": 198,
    "start_time": "2022-03-04T12:29:08.130Z"
   },
   {
    "duration": 22,
    "start_time": "2022-03-04T12:29:08.331Z"
   },
   {
    "duration": 38,
    "start_time": "2022-03-04T12:29:08.355Z"
   },
   {
    "duration": 5,
    "start_time": "2022-03-04T12:29:08.396Z"
   },
   {
    "duration": 11,
    "start_time": "2022-03-04T12:29:08.403Z"
   },
   {
    "duration": 38,
    "start_time": "2022-03-04T12:29:08.417Z"
   },
   {
    "duration": 6,
    "start_time": "2022-03-04T12:29:08.458Z"
   },
   {
    "duration": 8,
    "start_time": "2022-03-04T12:29:08.470Z"
   },
   {
    "duration": 11,
    "start_time": "2022-03-04T12:29:08.481Z"
   },
   {
    "duration": 61,
    "start_time": "2022-03-04T12:29:08.495Z"
   },
   {
    "duration": 976,
    "start_time": "2022-03-04T12:29:08.559Z"
   },
   {
    "duration": 15,
    "start_time": "2022-03-04T12:29:09.538Z"
   },
   {
    "duration": 13447,
    "start_time": "2022-03-04T12:29:09.556Z"
   },
   {
    "duration": 19,
    "start_time": "2022-03-04T12:29:23.006Z"
   },
   {
    "duration": 84,
    "start_time": "2022-03-04T12:29:23.028Z"
   },
   {
    "duration": 9,
    "start_time": "2022-03-04T12:29:23.115Z"
   },
   {
    "duration": 9,
    "start_time": "2022-03-04T12:29:23.151Z"
   },
   {
    "duration": 22,
    "start_time": "2022-03-04T12:29:23.163Z"
   },
   {
    "duration": 1066,
    "start_time": "2022-03-04T20:04:13.296Z"
   },
   {
    "duration": 113,
    "start_time": "2022-03-04T20:04:14.364Z"
   },
   {
    "duration": 13,
    "start_time": "2022-03-04T20:04:14.480Z"
   },
   {
    "duration": 24,
    "start_time": "2022-03-04T20:04:14.495Z"
   },
   {
    "duration": 4,
    "start_time": "2022-03-04T20:04:14.520Z"
   },
   {
    "duration": 17,
    "start_time": "2022-03-04T20:04:14.526Z"
   },
   {
    "duration": 9,
    "start_time": "2022-03-04T20:04:14.545Z"
   },
   {
    "duration": 4,
    "start_time": "2022-03-04T20:04:14.556Z"
   },
   {
    "duration": 7,
    "start_time": "2022-03-04T20:04:14.562Z"
   },
   {
    "duration": 6,
    "start_time": "2022-03-04T20:04:14.570Z"
   },
   {
    "duration": 8,
    "start_time": "2022-03-04T20:04:14.577Z"
   },
   {
    "duration": 466,
    "start_time": "2022-03-04T20:04:14.587Z"
   },
   {
    "duration": 5,
    "start_time": "2022-03-04T20:04:15.055Z"
   },
   {
    "duration": 8904,
    "start_time": "2022-03-04T20:04:15.062Z"
   },
   {
    "duration": 10,
    "start_time": "2022-03-04T20:04:23.968Z"
   },
   {
    "duration": 234,
    "start_time": "2022-03-04T20:06:12.088Z"
   },
   {
    "duration": 33515,
    "start_time": "2022-03-04T20:07:03.439Z"
   },
   {
    "duration": 131,
    "start_time": "2022-03-04T20:07:57.119Z"
   },
   {
    "duration": 31932,
    "start_time": "2022-03-04T20:08:54.026Z"
   },
   {
    "duration": 8,
    "start_time": "2022-03-04T20:09:46.811Z"
   },
   {
    "duration": 129,
    "start_time": "2022-03-04T20:18:35.752Z"
   },
   {
    "duration": 5,
    "start_time": "2022-03-04T20:18:51.543Z"
   },
   {
    "duration": 12,
    "start_time": "2022-03-04T20:18:51.929Z"
   },
   {
    "duration": 8,
    "start_time": "2022-03-04T20:18:52.297Z"
   },
   {
    "duration": 127,
    "start_time": "2022-03-04T20:18:52.966Z"
   },
   {
    "duration": 32,
    "start_time": "2022-03-04T20:19:03.517Z"
   },
   {
    "duration": 5,
    "start_time": "2022-03-04T20:19:04.628Z"
   },
   {
    "duration": 11,
    "start_time": "2022-03-04T20:19:04.848Z"
   },
   {
    "duration": 9,
    "start_time": "2022-03-04T20:19:05.116Z"
   },
   {
    "duration": 5,
    "start_time": "2022-03-04T20:19:05.758Z"
   },
   {
    "duration": 4,
    "start_time": "2022-03-04T20:19:06.472Z"
   },
   {
    "duration": 974,
    "start_time": "2022-03-04T20:57:49.988Z"
   },
   {
    "duration": 100,
    "start_time": "2022-03-04T20:57:50.964Z"
   },
   {
    "duration": 14,
    "start_time": "2022-03-04T20:57:51.066Z"
   },
   {
    "duration": 22,
    "start_time": "2022-03-04T20:57:51.082Z"
   },
   {
    "duration": 4,
    "start_time": "2022-03-04T20:57:51.105Z"
   },
   {
    "duration": 8,
    "start_time": "2022-03-04T20:57:51.110Z"
   },
   {
    "duration": 5,
    "start_time": "2022-03-04T20:57:51.119Z"
   },
   {
    "duration": 4,
    "start_time": "2022-03-04T20:57:51.133Z"
   },
   {
    "duration": 6,
    "start_time": "2022-03-04T20:57:51.139Z"
   },
   {
    "duration": 6,
    "start_time": "2022-03-04T20:57:51.147Z"
   },
   {
    "duration": 10,
    "start_time": "2022-03-04T20:57:51.154Z"
   },
   {
    "duration": 458,
    "start_time": "2022-03-04T20:57:51.166Z"
   },
   {
    "duration": 8484,
    "start_time": "2022-03-04T20:57:51.626Z"
   },
   {
    "duration": 31769,
    "start_time": "2022-03-04T20:58:00.112Z"
   },
   {
    "duration": 29,
    "start_time": "2022-03-04T20:58:31.883Z"
   },
   {
    "duration": 5,
    "start_time": "2022-03-04T20:58:31.913Z"
   },
   {
    "duration": 11,
    "start_time": "2022-03-04T20:58:31.933Z"
   },
   {
    "duration": 7,
    "start_time": "2022-03-04T20:58:31.945Z"
   },
   {
    "duration": 4,
    "start_time": "2022-03-04T20:58:31.954Z"
   },
   {
    "duration": 4,
    "start_time": "2022-03-04T20:58:31.960Z"
   },
   {
    "duration": 6,
    "start_time": "2022-03-04T20:58:31.966Z"
   },
   {
    "duration": 982,
    "start_time": "2022-03-04T21:03:22.580Z"
   },
   {
    "duration": 95,
    "start_time": "2022-03-04T21:03:23.564Z"
   },
   {
    "duration": 14,
    "start_time": "2022-03-04T21:03:23.661Z"
   },
   {
    "duration": 24,
    "start_time": "2022-03-04T21:03:23.677Z"
   },
   {
    "duration": 4,
    "start_time": "2022-03-04T21:03:23.702Z"
   },
   {
    "duration": 7,
    "start_time": "2022-03-04T21:03:23.708Z"
   },
   {
    "duration": 6,
    "start_time": "2022-03-04T21:03:23.717Z"
   },
   {
    "duration": 11,
    "start_time": "2022-03-04T21:03:23.725Z"
   },
   {
    "duration": 4,
    "start_time": "2022-03-04T21:03:23.738Z"
   },
   {
    "duration": 4,
    "start_time": "2022-03-04T21:03:23.744Z"
   },
   {
    "duration": 10,
    "start_time": "2022-03-04T21:03:23.750Z"
   },
   {
    "duration": 473,
    "start_time": "2022-03-04T21:03:23.761Z"
   },
   {
    "duration": 8542,
    "start_time": "2022-03-04T21:03:24.236Z"
   },
   {
    "duration": 31669,
    "start_time": "2022-03-04T21:03:32.780Z"
   },
   {
    "duration": 31,
    "start_time": "2022-03-04T21:04:04.451Z"
   },
   {
    "duration": 5,
    "start_time": "2022-03-04T21:04:04.483Z"
   },
   {
    "duration": 11,
    "start_time": "2022-03-04T21:04:04.490Z"
   },
   {
    "duration": 36,
    "start_time": "2022-03-04T21:04:04.502Z"
   },
   {
    "duration": 6,
    "start_time": "2022-03-04T21:04:04.540Z"
   },
   {
    "duration": 5,
    "start_time": "2022-03-04T21:04:04.547Z"
   },
   {
    "duration": 6,
    "start_time": "2022-03-04T21:04:04.554Z"
   }
  ],
  "kernelspec": {
   "display_name": "Python 3 (ipykernel)",
   "language": "python",
   "name": "python3"
  },
  "language_info": {
   "codemirror_mode": {
    "name": "ipython",
    "version": 3
   },
   "file_extension": ".py",
   "mimetype": "text/x-python",
   "name": "python",
   "nbconvert_exporter": "python",
   "pygments_lexer": "ipython3",
   "version": "3.9.5"
  },
  "toc": {
   "base_numbering": 1,
   "nav_menu": {},
   "number_sections": true,
   "sideBar": true,
   "skip_h1_title": true,
   "title_cell": "Table of Contents",
   "title_sidebar": "Contents",
   "toc_cell": true,
   "toc_position": {
    "height": "calc(100% - 180px)",
    "left": "10px",
    "top": "150px",
    "width": "320.838px"
   },
   "toc_section_display": true,
   "toc_window_display": true
  }
 },
 "nbformat": 4,
 "nbformat_minor": 2
}
